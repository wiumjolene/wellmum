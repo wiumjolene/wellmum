{
  "cells": [
    {
      "cell_type": "markdown",
      "metadata": {
        "id": "view-in-github",
        "colab_type": "text"
      },
      "source": [
        "<a href=\"https://colab.research.google.com/github/wiumjolene/wellmum/blob/main/wellmum.ipynb\" target=\"_parent\"><img src=\"https://colab.research.google.com/assets/colab-badge.svg\" alt=\"Open In Colab\"/></a>"
      ]
    },
    {
      "cell_type": "markdown",
      "metadata": {
        "id": "ueXPLNSjyi-X"
      },
      "source": [
        "# Wellmum Clinic Data Analysis\n",
        "*Lizemarie Wium*\n",
        "\n"
      ]
    },
    {
      "cell_type": "markdown",
      "source": [
        "## **Introduction**\n",
        "The Wellmum Clinic was established to identify XXX. The clinic is used as a follow-up of patients who gave birth in the past XX months.\n",
        "\n",
        "This document aims to answer the following questions:\n",
        "\n",
        "1. Descriptive statistics\n",
        "   1. Population description: Age, race, parity\n",
        "   2. Describe Creatinine > 80\n",
        "   3. Describe eGFR <90\n",
        "   4. Describe ALT >40\n",
        "   5. Describe Hb <120\n",
        "   6. Describe ACR >3\n",
        "   7. HbA1C <39, 39-47, >48\n",
        "2. Correlations\n",
        "   1. Correlation between MUAC and current BMI and waist circumference\n",
        "   2. Correlation between random glucose and HbA1C\n",
        "3. Relationships\n",
        "   1. Relationship between eGFR >90 and ACR >3\n",
        "   2. Relationship between ALT >40 and HbA1C >39\n",
        "   3. Relationship between eGFR <90 and HbA1C >39"
      ],
      "metadata": {
        "id": "5fMrfC23lJyq"
      }
    },
    {
      "cell_type": "markdown",
      "metadata": {
        "id": "zuGm4M52yi-b"
      },
      "source": [
        "### Prepare data\n",
        "* Data from the Wellmum dataset is imported \n",
        "* Rows with data errors are excluded for the dataset\n",
        "* Columns are renamed to `friendly' names for easy access in this notebook\n",
        "* Categorical data, such as `Race' are cleaned in the code "
      ]
    },
    {
      "cell_type": "code",
      "execution_count": 89,
      "metadata": {
        "tags": [
          "hide-input"
        ],
        "cellView": "form",
        "id": "pQ45uOC8yi-b",
        "colab": {
          "base_uri": "https://localhost:8080/"
        },
        "outputId": "70b29fb3-6bcf-4ca1-9135-ae429ff62a89"
      },
      "outputs": [
        {
          "output_type": "stream",
          "name": "stdout",
          "text": [
            "Data consits of 219 rows after cleaning. \n",
            "* 4 rows have been excluded.\n",
            "      \n"
          ]
        }
      ],
      "source": [
        "#@title\n",
        "# Import libraries\n",
        "# General \n",
        "import pandas as pd\n",
        "import numpy as np\n",
        "import datetime\n",
        "import matplotlib.pyplot as plt\n",
        "\n",
        "import plotly.graph_objects as go\n",
        "import plotly.express as px\n",
        "#import plotly.io as pio\n",
        "\n",
        "from sklearn import linear_model\n",
        "from sklearn.tree import DecisionTreeRegressor, plot_tree\n",
        "from sklearn.model_selection import train_test_split, cross_val_score\n",
        "from sklearn.metrics import accuracy_score, r2_score\n",
        "import statsmodels.api as sm\n",
        "\n",
        "# Import data and print the shape of the data\n",
        "df_import = pd.read_excel(\"WELLMUM_20230609.xlsx\")\n",
        "\n",
        "df = df_import[df_import['Remove'] != 1]\n",
        "\n",
        "# Rename columns\n",
        "df = df.rename(columns={'Gravidity (how many pregnancies have you had?)':'Gravidity',\n",
        "                        'Parity (number of live births)': 'Parity',\n",
        "                        'random glucose': 'RandomGlucose',\n",
        "                        'AGE': 'Age',\n",
        "                        'Weight (kg)': 'Weight',\n",
        "                        'Mid upper arm circumstance ': 'MUAC',\n",
        "                        'ID ': 'Id',\n",
        "                        'Current BMI': 'BMI',\n",
        "                        'GDM control': 'GDMControl',\n",
        "                        'Maternal date of birth': 'MDOB',\n",
        "                        'Problems during pregnancy': 'Problems'})\n",
        "\n",
        "# # Select subset of columns\n",
        "cols = ['Id', 'Age', 'Gravidity', 'Parity', 'BMI', 'Weight', 'Creatinine', \n",
        "        'HbA1C', 'ACR', 'GDMControl', 'Race', 'RandomGlucose', 'eGFR', 'ALT',\n",
        "        'MUAC', 'Hb', 'MDOB', 'Breastfeeding']\n",
        "df = df[cols]\n",
        "\n",
        "# Clean Race\n",
        "df['Race'] = df['Race'].str.upper()\n",
        "df['Race'] = df['Race'].str.strip()\n",
        "df.loc[(df['Race']=='ASIAN'), 'Race'] = 'ASIAN'\n",
        "df.loc[(df['Race']=='EAST ASIAN'), 'Race'] = 'ASIAN'\n",
        "df.loc[(df['Race']=='SOUTH ASIAN'), 'Race'] = 'ASIAN'\n",
        "\n",
        "# Clean 'Breastfeeding'\n",
        "df['Breastfeeding'] = df['Breastfeeding'].str.upper()\n",
        "df['Breastfeeding'] = df['Breastfeeding'].str.strip()\n",
        "\n",
        "\n",
        "df['BMI'] = df['BMI'].round(2)\n",
        "df['HbA1C'] = df['HbA1C'].astype(float)\n",
        "\n",
        "print(f\"\"\"Data consits of {len(df)} rows after cleaning. \n",
        "* {len(df_import)-len(df)} rows have been excluded.\n",
        "      \"\"\")\n",
        "\n",
        "\n",
        "#pio.templates.default = \"none\"\n",
        "themes = ['ggplot2', 'seaborn', 'simple_white', 'plotly',\n",
        "         'plotly_white', 'plotly_dark', 'presentation', 'xgridoff',\n",
        "         'ygridoff', 'gridon', 'none']"
      ]
    },
    {
      "cell_type": "code",
      "source": [
        "COLOURS={\n",
        "    0:'#191c40',\n",
        "    1:'#404472',\n",
        "    2:'#5c5f7c',\n",
        "    3:'#c3c0c0',\n",
        "    10:'#b29758',\n",
        "}"
      ],
      "metadata": {
        "id": "uShJhx__tze1"
      },
      "execution_count": 90,
      "outputs": []
    },
    {
      "cell_type": "markdown",
      "metadata": {
        "id": "M13qc5Epyi-e"
      },
      "source": [
        "## **Descriptive statistics**"
      ]
    },
    {
      "cell_type": "markdown",
      "metadata": {
        "id": "by-smE89yi-e"
      },
      "source": [
        "### Polulation age"
      ]
    },
    {
      "cell_type": "code",
      "execution_count": 91,
      "metadata": {
        "hideCode": false,
        "id": "T3zUX0PXyi-f",
        "outputId": "fef7c452-2928-4de1-c0dd-979ad225f898",
        "colab": {
          "base_uri": "https://localhost:8080/",
          "height": 542
        }
      },
      "outputs": [
        {
          "output_type": "display_data",
          "data": {
            "text/html": [
              "<html>\n",
              "<head><meta charset=\"utf-8\" /></head>\n",
              "<body>\n",
              "    <div>            <script src=\"https://cdnjs.cloudflare.com/ajax/libs/mathjax/2.7.5/MathJax.js?config=TeX-AMS-MML_SVG\"></script><script type=\"text/javascript\">if (window.MathJax && window.MathJax.Hub && window.MathJax.Hub.Config) {window.MathJax.Hub.Config({SVG: {font: \"STIX-Web\"}});}</script>                <script type=\"text/javascript\">window.PlotlyConfig = {MathJaxConfig: 'local'};</script>\n",
              "        <script src=\"https://cdn.plot.ly/plotly-2.18.2.min.js\"></script>                <div id=\"57b054b1-7542-43a7-85ad-cda22ad1d028\" class=\"plotly-graph-div\" style=\"height:525px; width:100%;\"></div>            <script type=\"text/javascript\">                                    window.PLOTLYENV=window.PLOTLYENV || {};                                    if (document.getElementById(\"57b054b1-7542-43a7-85ad-cda22ad1d028\")) {                    Plotly.newPlot(                        \"57b054b1-7542-43a7-85ad-cda22ad1d028\",                        [{\"marker\":{\"color\":\"#191c40\"},\"name\":\"WHITE\",\"text\":[21.92,14.61,4.11],\"x\":[\"< 35\",\"35-40\",\"40-45\"],\"y\":[21.92,14.61,4.11],\"type\":\"bar\"},{\"marker\":{\"color\":\"#404472\"},\"name\":\"MIXED\",\"text\":[2.74,1.37,0.91],\"x\":[\"< 35\",\"35-40\",\"40-45\"],\"y\":[2.74,1.37,0.91],\"type\":\"bar\"},{\"marker\":{\"color\":\"#5c5f7c\"},\"name\":\"BLACK\",\"text\":[9.59,7.31,1.37,0.46],\"x\":[\"< 35\",\"35-40\",\"40-45\",\"> 45\"],\"y\":[9.59,7.31,1.37,0.46],\"type\":\"bar\"},{\"marker\":{\"color\":\"#c3c0c0\"},\"name\":\"ASIAN\",\"text\":[9.59,10.05,2.74,0.46],\"x\":[\"< 35\",\"35-40\",\"40-45\",\"> 45\"],\"y\":[9.59,10.05,2.74,0.46],\"type\":\"bar\"}],                        {\"template\":{\"data\":{\"histogram2dcontour\":[{\"type\":\"histogram2dcontour\",\"colorbar\":{\"outlinewidth\":0,\"ticks\":\"\"},\"colorscale\":[[0.0,\"#0d0887\"],[0.1111111111111111,\"#46039f\"],[0.2222222222222222,\"#7201a8\"],[0.3333333333333333,\"#9c179e\"],[0.4444444444444444,\"#bd3786\"],[0.5555555555555556,\"#d8576b\"],[0.6666666666666666,\"#ed7953\"],[0.7777777777777778,\"#fb9f3a\"],[0.8888888888888888,\"#fdca26\"],[1.0,\"#f0f921\"]]}],\"choropleth\":[{\"type\":\"choropleth\",\"colorbar\":{\"outlinewidth\":0,\"ticks\":\"\"}}],\"histogram2d\":[{\"type\":\"histogram2d\",\"colorbar\":{\"outlinewidth\":0,\"ticks\":\"\"},\"colorscale\":[[0.0,\"#0d0887\"],[0.1111111111111111,\"#46039f\"],[0.2222222222222222,\"#7201a8\"],[0.3333333333333333,\"#9c179e\"],[0.4444444444444444,\"#bd3786\"],[0.5555555555555556,\"#d8576b\"],[0.6666666666666666,\"#ed7953\"],[0.7777777777777778,\"#fb9f3a\"],[0.8888888888888888,\"#fdca26\"],[1.0,\"#f0f921\"]]}],\"heatmap\":[{\"type\":\"heatmap\",\"colorbar\":{\"outlinewidth\":0,\"ticks\":\"\"},\"colorscale\":[[0.0,\"#0d0887\"],[0.1111111111111111,\"#46039f\"],[0.2222222222222222,\"#7201a8\"],[0.3333333333333333,\"#9c179e\"],[0.4444444444444444,\"#bd3786\"],[0.5555555555555556,\"#d8576b\"],[0.6666666666666666,\"#ed7953\"],[0.7777777777777778,\"#fb9f3a\"],[0.8888888888888888,\"#fdca26\"],[1.0,\"#f0f921\"]]}],\"heatmapgl\":[{\"type\":\"heatmapgl\",\"colorbar\":{\"outlinewidth\":0,\"ticks\":\"\"},\"colorscale\":[[0.0,\"#0d0887\"],[0.1111111111111111,\"#46039f\"],[0.2222222222222222,\"#7201a8\"],[0.3333333333333333,\"#9c179e\"],[0.4444444444444444,\"#bd3786\"],[0.5555555555555556,\"#d8576b\"],[0.6666666666666666,\"#ed7953\"],[0.7777777777777778,\"#fb9f3a\"],[0.8888888888888888,\"#fdca26\"],[1.0,\"#f0f921\"]]}],\"contourcarpet\":[{\"type\":\"contourcarpet\",\"colorbar\":{\"outlinewidth\":0,\"ticks\":\"\"}}],\"contour\":[{\"type\":\"contour\",\"colorbar\":{\"outlinewidth\":0,\"ticks\":\"\"},\"colorscale\":[[0.0,\"#0d0887\"],[0.1111111111111111,\"#46039f\"],[0.2222222222222222,\"#7201a8\"],[0.3333333333333333,\"#9c179e\"],[0.4444444444444444,\"#bd3786\"],[0.5555555555555556,\"#d8576b\"],[0.6666666666666666,\"#ed7953\"],[0.7777777777777778,\"#fb9f3a\"],[0.8888888888888888,\"#fdca26\"],[1.0,\"#f0f921\"]]}],\"surface\":[{\"type\":\"surface\",\"colorbar\":{\"outlinewidth\":0,\"ticks\":\"\"},\"colorscale\":[[0.0,\"#0d0887\"],[0.1111111111111111,\"#46039f\"],[0.2222222222222222,\"#7201a8\"],[0.3333333333333333,\"#9c179e\"],[0.4444444444444444,\"#bd3786\"],[0.5555555555555556,\"#d8576b\"],[0.6666666666666666,\"#ed7953\"],[0.7777777777777778,\"#fb9f3a\"],[0.8888888888888888,\"#fdca26\"],[1.0,\"#f0f921\"]]}],\"mesh3d\":[{\"type\":\"mesh3d\",\"colorbar\":{\"outlinewidth\":0,\"ticks\":\"\"}}],\"scatter\":[{\"fillpattern\":{\"fillmode\":\"overlay\",\"size\":10,\"solidity\":0.2},\"type\":\"scatter\"}],\"parcoords\":[{\"type\":\"parcoords\",\"line\":{\"colorbar\":{\"outlinewidth\":0,\"ticks\":\"\"}}}],\"scatterpolargl\":[{\"type\":\"scatterpolargl\",\"marker\":{\"colorbar\":{\"outlinewidth\":0,\"ticks\":\"\"}}}],\"bar\":[{\"error_x\":{\"color\":\"#2a3f5f\"},\"error_y\":{\"color\":\"#2a3f5f\"},\"marker\":{\"line\":{\"color\":\"#E5ECF6\",\"width\":0.5},\"pattern\":{\"fillmode\":\"overlay\",\"size\":10,\"solidity\":0.2}},\"type\":\"bar\"}],\"scattergeo\":[{\"type\":\"scattergeo\",\"marker\":{\"colorbar\":{\"outlinewidth\":0,\"ticks\":\"\"}}}],\"scatterpolar\":[{\"type\":\"scatterpolar\",\"marker\":{\"colorbar\":{\"outlinewidth\":0,\"ticks\":\"\"}}}],\"histogram\":[{\"marker\":{\"pattern\":{\"fillmode\":\"overlay\",\"size\":10,\"solidity\":0.2}},\"type\":\"histogram\"}],\"scattergl\":[{\"type\":\"scattergl\",\"marker\":{\"colorbar\":{\"outlinewidth\":0,\"ticks\":\"\"}}}],\"scatter3d\":[{\"type\":\"scatter3d\",\"line\":{\"colorbar\":{\"outlinewidth\":0,\"ticks\":\"\"}},\"marker\":{\"colorbar\":{\"outlinewidth\":0,\"ticks\":\"\"}}}],\"scattermapbox\":[{\"type\":\"scattermapbox\",\"marker\":{\"colorbar\":{\"outlinewidth\":0,\"ticks\":\"\"}}}],\"scatterternary\":[{\"type\":\"scatterternary\",\"marker\":{\"colorbar\":{\"outlinewidth\":0,\"ticks\":\"\"}}}],\"scattercarpet\":[{\"type\":\"scattercarpet\",\"marker\":{\"colorbar\":{\"outlinewidth\":0,\"ticks\":\"\"}}}],\"carpet\":[{\"aaxis\":{\"endlinecolor\":\"#2a3f5f\",\"gridcolor\":\"white\",\"linecolor\":\"white\",\"minorgridcolor\":\"white\",\"startlinecolor\":\"#2a3f5f\"},\"baxis\":{\"endlinecolor\":\"#2a3f5f\",\"gridcolor\":\"white\",\"linecolor\":\"white\",\"minorgridcolor\":\"white\",\"startlinecolor\":\"#2a3f5f\"},\"type\":\"carpet\"}],\"table\":[{\"cells\":{\"fill\":{\"color\":\"#EBF0F8\"},\"line\":{\"color\":\"white\"}},\"header\":{\"fill\":{\"color\":\"#C8D4E3\"},\"line\":{\"color\":\"white\"}},\"type\":\"table\"}],\"barpolar\":[{\"marker\":{\"line\":{\"color\":\"#E5ECF6\",\"width\":0.5},\"pattern\":{\"fillmode\":\"overlay\",\"size\":10,\"solidity\":0.2}},\"type\":\"barpolar\"}],\"pie\":[{\"automargin\":true,\"type\":\"pie\"}]},\"layout\":{\"autotypenumbers\":\"strict\",\"colorway\":[\"#636efa\",\"#EF553B\",\"#00cc96\",\"#ab63fa\",\"#FFA15A\",\"#19d3f3\",\"#FF6692\",\"#B6E880\",\"#FF97FF\",\"#FECB52\"],\"font\":{\"color\":\"#2a3f5f\"},\"hovermode\":\"closest\",\"hoverlabel\":{\"align\":\"left\"},\"paper_bgcolor\":\"white\",\"plot_bgcolor\":\"#E5ECF6\",\"polar\":{\"bgcolor\":\"#E5ECF6\",\"angularaxis\":{\"gridcolor\":\"white\",\"linecolor\":\"white\",\"ticks\":\"\"},\"radialaxis\":{\"gridcolor\":\"white\",\"linecolor\":\"white\",\"ticks\":\"\"}},\"ternary\":{\"bgcolor\":\"#E5ECF6\",\"aaxis\":{\"gridcolor\":\"white\",\"linecolor\":\"white\",\"ticks\":\"\"},\"baxis\":{\"gridcolor\":\"white\",\"linecolor\":\"white\",\"ticks\":\"\"},\"caxis\":{\"gridcolor\":\"white\",\"linecolor\":\"white\",\"ticks\":\"\"}},\"coloraxis\":{\"colorbar\":{\"outlinewidth\":0,\"ticks\":\"\"}},\"colorscale\":{\"sequential\":[[0.0,\"#0d0887\"],[0.1111111111111111,\"#46039f\"],[0.2222222222222222,\"#7201a8\"],[0.3333333333333333,\"#9c179e\"],[0.4444444444444444,\"#bd3786\"],[0.5555555555555556,\"#d8576b\"],[0.6666666666666666,\"#ed7953\"],[0.7777777777777778,\"#fb9f3a\"],[0.8888888888888888,\"#fdca26\"],[1.0,\"#f0f921\"]],\"sequentialminus\":[[0.0,\"#0d0887\"],[0.1111111111111111,\"#46039f\"],[0.2222222222222222,\"#7201a8\"],[0.3333333333333333,\"#9c179e\"],[0.4444444444444444,\"#bd3786\"],[0.5555555555555556,\"#d8576b\"],[0.6666666666666666,\"#ed7953\"],[0.7777777777777778,\"#fb9f3a\"],[0.8888888888888888,\"#fdca26\"],[1.0,\"#f0f921\"]],\"diverging\":[[0,\"#8e0152\"],[0.1,\"#c51b7d\"],[0.2,\"#de77ae\"],[0.3,\"#f1b6da\"],[0.4,\"#fde0ef\"],[0.5,\"#f7f7f7\"],[0.6,\"#e6f5d0\"],[0.7,\"#b8e186\"],[0.8,\"#7fbc41\"],[0.9,\"#4d9221\"],[1,\"#276419\"]]},\"xaxis\":{\"gridcolor\":\"white\",\"linecolor\":\"white\",\"ticks\":\"\",\"title\":{\"standoff\":15},\"zerolinecolor\":\"white\",\"automargin\":true,\"zerolinewidth\":2},\"yaxis\":{\"gridcolor\":\"white\",\"linecolor\":\"white\",\"ticks\":\"\",\"title\":{\"standoff\":15},\"zerolinecolor\":\"white\",\"automargin\":true,\"zerolinewidth\":2},\"scene\":{\"xaxis\":{\"backgroundcolor\":\"#E5ECF6\",\"gridcolor\":\"white\",\"linecolor\":\"white\",\"showbackground\":true,\"ticks\":\"\",\"zerolinecolor\":\"white\",\"gridwidth\":2},\"yaxis\":{\"backgroundcolor\":\"#E5ECF6\",\"gridcolor\":\"white\",\"linecolor\":\"white\",\"showbackground\":true,\"ticks\":\"\",\"zerolinecolor\":\"white\",\"gridwidth\":2},\"zaxis\":{\"backgroundcolor\":\"#E5ECF6\",\"gridcolor\":\"white\",\"linecolor\":\"white\",\"showbackground\":true,\"ticks\":\"\",\"zerolinecolor\":\"white\",\"gridwidth\":2}},\"shapedefaults\":{\"line\":{\"color\":\"#2a3f5f\"}},\"annotationdefaults\":{\"arrowcolor\":\"#2a3f5f\",\"arrowhead\":0,\"arrowwidth\":1},\"geo\":{\"bgcolor\":\"white\",\"landcolor\":\"#E5ECF6\",\"subunitcolor\":\"white\",\"showland\":true,\"showlakes\":true,\"lakecolor\":\"white\"},\"title\":{\"x\":0.05},\"mapbox\":{\"style\":\"light\"}}},\"title\":{\"text\":\"Age distribution<br><sup><i>(n=219)</i></sup>\",\"x\":0,\"xref\":\"paper\"},\"xaxis\":{\"title\":{\"text\":\"Age<br><sup><i>years</i></sup>\"}},\"yaxis\":{\"title\":{\"text\":\"Percentage<br><sup><i>%</i></sup>\"}},\"barmode\":\"stack\"},                        {\"responsive\": true}                    ).then(function(){\n",
              "                            \n",
              "var gd = document.getElementById('57b054b1-7542-43a7-85ad-cda22ad1d028');\n",
              "var x = new MutationObserver(function (mutations, observer) {{\n",
              "        var display = window.getComputedStyle(gd).display;\n",
              "        if (!display || display === 'none') {{\n",
              "            console.log([gd, 'removed!']);\n",
              "            Plotly.purge(gd);\n",
              "            observer.disconnect();\n",
              "        }}\n",
              "}});\n",
              "\n",
              "// Listen for the removal of the full notebook cells\n",
              "var notebookContainer = gd.closest('#notebook-container');\n",
              "if (notebookContainer) {{\n",
              "    x.observe(notebookContainer, {childList: true});\n",
              "}}\n",
              "\n",
              "// Listen for the clearing of the current output cell\n",
              "var outputEl = gd.closest('.output');\n",
              "if (outputEl) {{\n",
              "    x.observe(outputEl, {childList: true});\n",
              "}}\n",
              "\n",
              "                        })                };                            </script>        </div>\n",
              "</body>\n",
              "</html>"
            ]
          },
          "metadata": {}
        }
      ],
      "source": [
        "#@title\n",
        "df.loc[df['Age'] < 35, 'AgeCat'] = '< 35'\n",
        "df.loc[(df['Age'] > 35) & (df['Age'] <= 40), 'AgeCat'] = '35-40'\n",
        "df.loc[(df['Age'] > 40) & (df['Age'] <= 45), 'AgeCat'] = '40-45'\n",
        "df.loc[df['Age'] > 45, 'AgeCat'] = '> 45'\n",
        "\n",
        "age = df.groupby(['AgeCat', 'Race']).size().reset_index(name='Counts')\n",
        "\n",
        "age.loc[age['AgeCat'] == '< 35', 'Sort'] = 10\n",
        "age.loc[age['AgeCat'] == '35-40', 'Sort'] = 20\n",
        "age.loc[age['AgeCat'] == '40-45', 'Sort'] = 30\n",
        "age.loc[age['AgeCat'] == '> 45', 'Sort'] = 40\n",
        "\n",
        "age = age.sort_values(by=['Sort'])\n",
        "age['Percentage'] = round(age['Counts'] / len(df) * 100, 2)\n",
        "\n",
        "fig = go.Figure()\n",
        "\n",
        "for count, race in enumerate(df.Race.unique()):\n",
        "    aget = age[age['Race'] == race]\n",
        "    fig.add_trace(go.Bar(x=aget['AgeCat'], \n",
        "                         y=aget['Percentage'], \n",
        "                         text=aget['Percentage'],\n",
        "                         marker_color=COLOURS[count],\n",
        "                         name=race))\n",
        "\n",
        "fig.update_layout(\n",
        "    title=go.layout.Title(\n",
        "        text=f\"Age distribution<br><sup><i>(n={len(df)})</i></sup>\",\n",
        "        xref=\"paper\",\n",
        "        x=0\n",
        "    ),\n",
        "    xaxis=go.layout.XAxis(\n",
        "        title=go.layout.xaxis.Title(\n",
        "            text=\"Age<br><sup><i>years</i></sup>\"\n",
        "            )\n",
        "        ),\n",
        "    yaxis=go.layout.YAxis(\n",
        "        title=go.layout.yaxis.Title(\n",
        "            text=\"Percentage<br><sup><i>%</i></sup>\"\n",
        "            )\n",
        "        ),\n",
        "    barmode='stack'\n",
        "    )\n",
        "fig.show()"
      ]
    },
    {
      "cell_type": "code",
      "source": [
        "#@title\n",
        "df.loc[df['BMI'] <= 18, 'BMICat'] = '< 18'\n",
        "df.loc[(df['BMI'] > 18) & (df['BMI'] <= 25), 'BMICat'] = '18-25'\n",
        "df.loc[(df['BMI'] > 25) & (df['BMI'] <= 30), 'BMICat'] = '25-30'\n",
        "df.loc[(df['BMI'] > 30) & (df['BMI'] <= 35), 'BMICat'] = '30-35'\n",
        "df.loc[df['BMI'] > 35, 'BMICat'] = '> 35'\n",
        "\n",
        "dft = df.groupby(['BMICat', 'Race']).size().reset_index(name='Counts')\n",
        "\n",
        "dft.loc[dft['BMICat'] == '< 18', 'Sort'] = 10\n",
        "dft.loc[dft['BMICat'] == '18-25', 'Sort'] = 20\n",
        "dft.loc[dft['BMICat'] == '25-30', 'Sort'] = 30\n",
        "dft.loc[dft['BMICat'] == '30-35', 'Sort'] = 40\n",
        "dft.loc[dft['BMICat'] == '> 35', 'Sort'] = 40\n",
        "\n",
        "dft = dft.sort_values(by=['Sort'])\n",
        "dft['Percentage'] = round(age['Counts'] / len(df) * 100, 2)\n",
        "\n",
        "fig = go.Figure()\n",
        "\n",
        "for count, race in enumerate(df.Race.unique()):\n",
        "    dftt = dft[dft['Race'] == race]\n",
        "    fig.add_trace(go.Bar(x=dftt['BMICat'], \n",
        "                         y=dftt['Percentage'], \n",
        "                         text=dftt['Percentage'],\n",
        "                         marker_color=COLOURS[count],\n",
        "                         name=race))\n",
        "\n",
        "fig.update_layout(\n",
        "    title=go.layout.Title(\n",
        "        text=f\"BMI distribution<br><sup><i>(n={len(df)})</i></sup>\",\n",
        "        xref=\"paper\",\n",
        "        x=0\n",
        "    ),\n",
        "    xaxis=go.layout.XAxis(\n",
        "        title=go.layout.xaxis.Title(\n",
        "            text=\"BMI<br><sup><i>body mass index</i></sup>\"\n",
        "            )\n",
        "        ),\n",
        "    yaxis=go.layout.YAxis(\n",
        "        title=go.layout.yaxis.Title(\n",
        "            text=\"Percentage<br><sup><i>%</i></sup>\"\n",
        "            )\n",
        "        ),\n",
        "    barmode='stack'\n",
        "    )\n",
        "fig.show()"
      ],
      "metadata": {
        "colab": {
          "base_uri": "https://localhost:8080/",
          "height": 542
        },
        "id": "qENrQCOSoT7x",
        "outputId": "597656cd-ed1d-4ca1-ee61-f9cc9bea6655"
      },
      "execution_count": 92,
      "outputs": [
        {
          "output_type": "display_data",
          "data": {
            "text/html": [
              "<html>\n",
              "<head><meta charset=\"utf-8\" /></head>\n",
              "<body>\n",
              "    <div>            <script src=\"https://cdnjs.cloudflare.com/ajax/libs/mathjax/2.7.5/MathJax.js?config=TeX-AMS-MML_SVG\"></script><script type=\"text/javascript\">if (window.MathJax && window.MathJax.Hub && window.MathJax.Hub.Config) {window.MathJax.Hub.Config({SVG: {font: \"STIX-Web\"}});}</script>                <script type=\"text/javascript\">window.PlotlyConfig = {MathJaxConfig: 'local'};</script>\n",
              "        <script src=\"https://cdn.plot.ly/plotly-2.18.2.min.js\"></script>                <div id=\"60677664-dabd-4d6c-bcd3-525ff7e93998\" class=\"plotly-graph-div\" style=\"height:525px; width:100%;\"></div>            <script type=\"text/javascript\">                                    window.PLOTLYENV=window.PLOTLYENV || {};                                    if (document.getElementById(\"60677664-dabd-4d6c-bcd3-525ff7e93998\")) {                    Plotly.newPlot(                        \"60677664-dabd-4d6c-bcd3-525ff7e93998\",                        [{\"marker\":{\"color\":\"#191c40\"},\"name\":\"WHITE\",\"text\":[0.46,14.61,4.11,21.92,null],\"x\":[\"< 18\",\"18-25\",\"25-30\",\"30-35\",\"> 35\"],\"y\":[0.46,14.61,4.11,21.92,null],\"type\":\"bar\"},{\"marker\":{\"color\":\"#404472\"},\"name\":\"MIXED\",\"text\":[1.37,0.91,2.74,null],\"x\":[\"18-25\",\"25-30\",\"30-35\",\"> 35\"],\"y\":[1.37,0.91,2.74,null],\"type\":\"bar\"},{\"marker\":{\"color\":\"#5c5f7c\"},\"name\":\"BLACK\",\"text\":[7.31,1.37,null,9.59],\"x\":[\"18-25\",\"25-30\",\"> 35\",\"30-35\"],\"y\":[7.31,1.37,null,9.59],\"type\":\"bar\"},{\"marker\":{\"color\":\"#c3c0c0\"},\"name\":\"ASIAN\",\"text\":[10.05,2.74,0.46,9.59],\"x\":[\"18-25\",\"25-30\",\"> 35\",\"30-35\"],\"y\":[10.05,2.74,0.46,9.59],\"type\":\"bar\"}],                        {\"template\":{\"data\":{\"histogram2dcontour\":[{\"type\":\"histogram2dcontour\",\"colorbar\":{\"outlinewidth\":0,\"ticks\":\"\"},\"colorscale\":[[0.0,\"#0d0887\"],[0.1111111111111111,\"#46039f\"],[0.2222222222222222,\"#7201a8\"],[0.3333333333333333,\"#9c179e\"],[0.4444444444444444,\"#bd3786\"],[0.5555555555555556,\"#d8576b\"],[0.6666666666666666,\"#ed7953\"],[0.7777777777777778,\"#fb9f3a\"],[0.8888888888888888,\"#fdca26\"],[1.0,\"#f0f921\"]]}],\"choropleth\":[{\"type\":\"choropleth\",\"colorbar\":{\"outlinewidth\":0,\"ticks\":\"\"}}],\"histogram2d\":[{\"type\":\"histogram2d\",\"colorbar\":{\"outlinewidth\":0,\"ticks\":\"\"},\"colorscale\":[[0.0,\"#0d0887\"],[0.1111111111111111,\"#46039f\"],[0.2222222222222222,\"#7201a8\"],[0.3333333333333333,\"#9c179e\"],[0.4444444444444444,\"#bd3786\"],[0.5555555555555556,\"#d8576b\"],[0.6666666666666666,\"#ed7953\"],[0.7777777777777778,\"#fb9f3a\"],[0.8888888888888888,\"#fdca26\"],[1.0,\"#f0f921\"]]}],\"heatmap\":[{\"type\":\"heatmap\",\"colorbar\":{\"outlinewidth\":0,\"ticks\":\"\"},\"colorscale\":[[0.0,\"#0d0887\"],[0.1111111111111111,\"#46039f\"],[0.2222222222222222,\"#7201a8\"],[0.3333333333333333,\"#9c179e\"],[0.4444444444444444,\"#bd3786\"],[0.5555555555555556,\"#d8576b\"],[0.6666666666666666,\"#ed7953\"],[0.7777777777777778,\"#fb9f3a\"],[0.8888888888888888,\"#fdca26\"],[1.0,\"#f0f921\"]]}],\"heatmapgl\":[{\"type\":\"heatmapgl\",\"colorbar\":{\"outlinewidth\":0,\"ticks\":\"\"},\"colorscale\":[[0.0,\"#0d0887\"],[0.1111111111111111,\"#46039f\"],[0.2222222222222222,\"#7201a8\"],[0.3333333333333333,\"#9c179e\"],[0.4444444444444444,\"#bd3786\"],[0.5555555555555556,\"#d8576b\"],[0.6666666666666666,\"#ed7953\"],[0.7777777777777778,\"#fb9f3a\"],[0.8888888888888888,\"#fdca26\"],[1.0,\"#f0f921\"]]}],\"contourcarpet\":[{\"type\":\"contourcarpet\",\"colorbar\":{\"outlinewidth\":0,\"ticks\":\"\"}}],\"contour\":[{\"type\":\"contour\",\"colorbar\":{\"outlinewidth\":0,\"ticks\":\"\"},\"colorscale\":[[0.0,\"#0d0887\"],[0.1111111111111111,\"#46039f\"],[0.2222222222222222,\"#7201a8\"],[0.3333333333333333,\"#9c179e\"],[0.4444444444444444,\"#bd3786\"],[0.5555555555555556,\"#d8576b\"],[0.6666666666666666,\"#ed7953\"],[0.7777777777777778,\"#fb9f3a\"],[0.8888888888888888,\"#fdca26\"],[1.0,\"#f0f921\"]]}],\"surface\":[{\"type\":\"surface\",\"colorbar\":{\"outlinewidth\":0,\"ticks\":\"\"},\"colorscale\":[[0.0,\"#0d0887\"],[0.1111111111111111,\"#46039f\"],[0.2222222222222222,\"#7201a8\"],[0.3333333333333333,\"#9c179e\"],[0.4444444444444444,\"#bd3786\"],[0.5555555555555556,\"#d8576b\"],[0.6666666666666666,\"#ed7953\"],[0.7777777777777778,\"#fb9f3a\"],[0.8888888888888888,\"#fdca26\"],[1.0,\"#f0f921\"]]}],\"mesh3d\":[{\"type\":\"mesh3d\",\"colorbar\":{\"outlinewidth\":0,\"ticks\":\"\"}}],\"scatter\":[{\"fillpattern\":{\"fillmode\":\"overlay\",\"size\":10,\"solidity\":0.2},\"type\":\"scatter\"}],\"parcoords\":[{\"type\":\"parcoords\",\"line\":{\"colorbar\":{\"outlinewidth\":0,\"ticks\":\"\"}}}],\"scatterpolargl\":[{\"type\":\"scatterpolargl\",\"marker\":{\"colorbar\":{\"outlinewidth\":0,\"ticks\":\"\"}}}],\"bar\":[{\"error_x\":{\"color\":\"#2a3f5f\"},\"error_y\":{\"color\":\"#2a3f5f\"},\"marker\":{\"line\":{\"color\":\"#E5ECF6\",\"width\":0.5},\"pattern\":{\"fillmode\":\"overlay\",\"size\":10,\"solidity\":0.2}},\"type\":\"bar\"}],\"scattergeo\":[{\"type\":\"scattergeo\",\"marker\":{\"colorbar\":{\"outlinewidth\":0,\"ticks\":\"\"}}}],\"scatterpolar\":[{\"type\":\"scatterpolar\",\"marker\":{\"colorbar\":{\"outlinewidth\":0,\"ticks\":\"\"}}}],\"histogram\":[{\"marker\":{\"pattern\":{\"fillmode\":\"overlay\",\"size\":10,\"solidity\":0.2}},\"type\":\"histogram\"}],\"scattergl\":[{\"type\":\"scattergl\",\"marker\":{\"colorbar\":{\"outlinewidth\":0,\"ticks\":\"\"}}}],\"scatter3d\":[{\"type\":\"scatter3d\",\"line\":{\"colorbar\":{\"outlinewidth\":0,\"ticks\":\"\"}},\"marker\":{\"colorbar\":{\"outlinewidth\":0,\"ticks\":\"\"}}}],\"scattermapbox\":[{\"type\":\"scattermapbox\",\"marker\":{\"colorbar\":{\"outlinewidth\":0,\"ticks\":\"\"}}}],\"scatterternary\":[{\"type\":\"scatterternary\",\"marker\":{\"colorbar\":{\"outlinewidth\":0,\"ticks\":\"\"}}}],\"scattercarpet\":[{\"type\":\"scattercarpet\",\"marker\":{\"colorbar\":{\"outlinewidth\":0,\"ticks\":\"\"}}}],\"carpet\":[{\"aaxis\":{\"endlinecolor\":\"#2a3f5f\",\"gridcolor\":\"white\",\"linecolor\":\"white\",\"minorgridcolor\":\"white\",\"startlinecolor\":\"#2a3f5f\"},\"baxis\":{\"endlinecolor\":\"#2a3f5f\",\"gridcolor\":\"white\",\"linecolor\":\"white\",\"minorgridcolor\":\"white\",\"startlinecolor\":\"#2a3f5f\"},\"type\":\"carpet\"}],\"table\":[{\"cells\":{\"fill\":{\"color\":\"#EBF0F8\"},\"line\":{\"color\":\"white\"}},\"header\":{\"fill\":{\"color\":\"#C8D4E3\"},\"line\":{\"color\":\"white\"}},\"type\":\"table\"}],\"barpolar\":[{\"marker\":{\"line\":{\"color\":\"#E5ECF6\",\"width\":0.5},\"pattern\":{\"fillmode\":\"overlay\",\"size\":10,\"solidity\":0.2}},\"type\":\"barpolar\"}],\"pie\":[{\"automargin\":true,\"type\":\"pie\"}]},\"layout\":{\"autotypenumbers\":\"strict\",\"colorway\":[\"#636efa\",\"#EF553B\",\"#00cc96\",\"#ab63fa\",\"#FFA15A\",\"#19d3f3\",\"#FF6692\",\"#B6E880\",\"#FF97FF\",\"#FECB52\"],\"font\":{\"color\":\"#2a3f5f\"},\"hovermode\":\"closest\",\"hoverlabel\":{\"align\":\"left\"},\"paper_bgcolor\":\"white\",\"plot_bgcolor\":\"#E5ECF6\",\"polar\":{\"bgcolor\":\"#E5ECF6\",\"angularaxis\":{\"gridcolor\":\"white\",\"linecolor\":\"white\",\"ticks\":\"\"},\"radialaxis\":{\"gridcolor\":\"white\",\"linecolor\":\"white\",\"ticks\":\"\"}},\"ternary\":{\"bgcolor\":\"#E5ECF6\",\"aaxis\":{\"gridcolor\":\"white\",\"linecolor\":\"white\",\"ticks\":\"\"},\"baxis\":{\"gridcolor\":\"white\",\"linecolor\":\"white\",\"ticks\":\"\"},\"caxis\":{\"gridcolor\":\"white\",\"linecolor\":\"white\",\"ticks\":\"\"}},\"coloraxis\":{\"colorbar\":{\"outlinewidth\":0,\"ticks\":\"\"}},\"colorscale\":{\"sequential\":[[0.0,\"#0d0887\"],[0.1111111111111111,\"#46039f\"],[0.2222222222222222,\"#7201a8\"],[0.3333333333333333,\"#9c179e\"],[0.4444444444444444,\"#bd3786\"],[0.5555555555555556,\"#d8576b\"],[0.6666666666666666,\"#ed7953\"],[0.7777777777777778,\"#fb9f3a\"],[0.8888888888888888,\"#fdca26\"],[1.0,\"#f0f921\"]],\"sequentialminus\":[[0.0,\"#0d0887\"],[0.1111111111111111,\"#46039f\"],[0.2222222222222222,\"#7201a8\"],[0.3333333333333333,\"#9c179e\"],[0.4444444444444444,\"#bd3786\"],[0.5555555555555556,\"#d8576b\"],[0.6666666666666666,\"#ed7953\"],[0.7777777777777778,\"#fb9f3a\"],[0.8888888888888888,\"#fdca26\"],[1.0,\"#f0f921\"]],\"diverging\":[[0,\"#8e0152\"],[0.1,\"#c51b7d\"],[0.2,\"#de77ae\"],[0.3,\"#f1b6da\"],[0.4,\"#fde0ef\"],[0.5,\"#f7f7f7\"],[0.6,\"#e6f5d0\"],[0.7,\"#b8e186\"],[0.8,\"#7fbc41\"],[0.9,\"#4d9221\"],[1,\"#276419\"]]},\"xaxis\":{\"gridcolor\":\"white\",\"linecolor\":\"white\",\"ticks\":\"\",\"title\":{\"standoff\":15},\"zerolinecolor\":\"white\",\"automargin\":true,\"zerolinewidth\":2},\"yaxis\":{\"gridcolor\":\"white\",\"linecolor\":\"white\",\"ticks\":\"\",\"title\":{\"standoff\":15},\"zerolinecolor\":\"white\",\"automargin\":true,\"zerolinewidth\":2},\"scene\":{\"xaxis\":{\"backgroundcolor\":\"#E5ECF6\",\"gridcolor\":\"white\",\"linecolor\":\"white\",\"showbackground\":true,\"ticks\":\"\",\"zerolinecolor\":\"white\",\"gridwidth\":2},\"yaxis\":{\"backgroundcolor\":\"#E5ECF6\",\"gridcolor\":\"white\",\"linecolor\":\"white\",\"showbackground\":true,\"ticks\":\"\",\"zerolinecolor\":\"white\",\"gridwidth\":2},\"zaxis\":{\"backgroundcolor\":\"#E5ECF6\",\"gridcolor\":\"white\",\"linecolor\":\"white\",\"showbackground\":true,\"ticks\":\"\",\"zerolinecolor\":\"white\",\"gridwidth\":2}},\"shapedefaults\":{\"line\":{\"color\":\"#2a3f5f\"}},\"annotationdefaults\":{\"arrowcolor\":\"#2a3f5f\",\"arrowhead\":0,\"arrowwidth\":1},\"geo\":{\"bgcolor\":\"white\",\"landcolor\":\"#E5ECF6\",\"subunitcolor\":\"white\",\"showland\":true,\"showlakes\":true,\"lakecolor\":\"white\"},\"title\":{\"x\":0.05},\"mapbox\":{\"style\":\"light\"}}},\"title\":{\"text\":\"BMI distribution<br><sup><i>(n=219)</i></sup>\",\"x\":0,\"xref\":\"paper\"},\"xaxis\":{\"title\":{\"text\":\"BMI<br><sup><i>body mass index</i></sup>\"}},\"yaxis\":{\"title\":{\"text\":\"Percentage<br><sup><i>%</i></sup>\"}},\"barmode\":\"stack\"},                        {\"responsive\": true}                    ).then(function(){\n",
              "                            \n",
              "var gd = document.getElementById('60677664-dabd-4d6c-bcd3-525ff7e93998');\n",
              "var x = new MutationObserver(function (mutations, observer) {{\n",
              "        var display = window.getComputedStyle(gd).display;\n",
              "        if (!display || display === 'none') {{\n",
              "            console.log([gd, 'removed!']);\n",
              "            Plotly.purge(gd);\n",
              "            observer.disconnect();\n",
              "        }}\n",
              "}});\n",
              "\n",
              "// Listen for the removal of the full notebook cells\n",
              "var notebookContainer = gd.closest('#notebook-container');\n",
              "if (notebookContainer) {{\n",
              "    x.observe(notebookContainer, {childList: true});\n",
              "}}\n",
              "\n",
              "// Listen for the clearing of the current output cell\n",
              "var outputEl = gd.closest('.output');\n",
              "if (outputEl) {{\n",
              "    x.observe(outputEl, {childList: true});\n",
              "}}\n",
              "\n",
              "                        })                };                            </script>        </div>\n",
              "</body>\n",
              "</html>"
            ]
          },
          "metadata": {}
        }
      ]
    },
    {
      "cell_type": "markdown",
      "metadata": {
        "id": "NfDlwxWtyi-f"
      },
      "source": [
        "### Population race"
      ]
    },
    {
      "cell_type": "code",
      "execution_count": 93,
      "metadata": {
        "id": "CeP4m1ROyi-g",
        "outputId": "260bb37c-23da-4d52-aa79-2630d574c56c",
        "colab": {
          "base_uri": "https://localhost:8080/",
          "height": 542
        }
      },
      "outputs": [
        {
          "output_type": "display_data",
          "data": {
            "text/html": [
              "<html>\n",
              "<head><meta charset=\"utf-8\" /></head>\n",
              "<body>\n",
              "    <div>            <script src=\"https://cdnjs.cloudflare.com/ajax/libs/mathjax/2.7.5/MathJax.js?config=TeX-AMS-MML_SVG\"></script><script type=\"text/javascript\">if (window.MathJax && window.MathJax.Hub && window.MathJax.Hub.Config) {window.MathJax.Hub.Config({SVG: {font: \"STIX-Web\"}});}</script>                <script type=\"text/javascript\">window.PlotlyConfig = {MathJaxConfig: 'local'};</script>\n",
              "        <script src=\"https://cdn.plot.ly/plotly-2.18.2.min.js\"></script>                <div id=\"cc073e39-50f5-4100-8443-008bde951b00\" class=\"plotly-graph-div\" style=\"height:525px; width:100%;\"></div>            <script type=\"text/javascript\">                                    window.PLOTLYENV=window.PLOTLYENV || {};                                    if (document.getElementById(\"cc073e39-50f5-4100-8443-008bde951b00\")) {                    Plotly.newPlot(                        \"cc073e39-50f5-4100-8443-008bde951b00\",                        [{\"marker\":{\"color\":[\"#191c40\",\"#404472\",\"#5c5f7c\",\"#c3c0c0\",\"#b29758\"]},\"text\":[104.0,54.0,49.0,12.0],\"x\":[\"WHITE\",\"ASIAN\",\"BLACK\",\"MIXED\"],\"y\":[104,54,49,12],\"type\":\"bar\"}],                        {\"template\":{\"data\":{\"histogram2dcontour\":[{\"type\":\"histogram2dcontour\",\"colorbar\":{\"outlinewidth\":0,\"ticks\":\"\"},\"colorscale\":[[0.0,\"#0d0887\"],[0.1111111111111111,\"#46039f\"],[0.2222222222222222,\"#7201a8\"],[0.3333333333333333,\"#9c179e\"],[0.4444444444444444,\"#bd3786\"],[0.5555555555555556,\"#d8576b\"],[0.6666666666666666,\"#ed7953\"],[0.7777777777777778,\"#fb9f3a\"],[0.8888888888888888,\"#fdca26\"],[1.0,\"#f0f921\"]]}],\"choropleth\":[{\"type\":\"choropleth\",\"colorbar\":{\"outlinewidth\":0,\"ticks\":\"\"}}],\"histogram2d\":[{\"type\":\"histogram2d\",\"colorbar\":{\"outlinewidth\":0,\"ticks\":\"\"},\"colorscale\":[[0.0,\"#0d0887\"],[0.1111111111111111,\"#46039f\"],[0.2222222222222222,\"#7201a8\"],[0.3333333333333333,\"#9c179e\"],[0.4444444444444444,\"#bd3786\"],[0.5555555555555556,\"#d8576b\"],[0.6666666666666666,\"#ed7953\"],[0.7777777777777778,\"#fb9f3a\"],[0.8888888888888888,\"#fdca26\"],[1.0,\"#f0f921\"]]}],\"heatmap\":[{\"type\":\"heatmap\",\"colorbar\":{\"outlinewidth\":0,\"ticks\":\"\"},\"colorscale\":[[0.0,\"#0d0887\"],[0.1111111111111111,\"#46039f\"],[0.2222222222222222,\"#7201a8\"],[0.3333333333333333,\"#9c179e\"],[0.4444444444444444,\"#bd3786\"],[0.5555555555555556,\"#d8576b\"],[0.6666666666666666,\"#ed7953\"],[0.7777777777777778,\"#fb9f3a\"],[0.8888888888888888,\"#fdca26\"],[1.0,\"#f0f921\"]]}],\"heatmapgl\":[{\"type\":\"heatmapgl\",\"colorbar\":{\"outlinewidth\":0,\"ticks\":\"\"},\"colorscale\":[[0.0,\"#0d0887\"],[0.1111111111111111,\"#46039f\"],[0.2222222222222222,\"#7201a8\"],[0.3333333333333333,\"#9c179e\"],[0.4444444444444444,\"#bd3786\"],[0.5555555555555556,\"#d8576b\"],[0.6666666666666666,\"#ed7953\"],[0.7777777777777778,\"#fb9f3a\"],[0.8888888888888888,\"#fdca26\"],[1.0,\"#f0f921\"]]}],\"contourcarpet\":[{\"type\":\"contourcarpet\",\"colorbar\":{\"outlinewidth\":0,\"ticks\":\"\"}}],\"contour\":[{\"type\":\"contour\",\"colorbar\":{\"outlinewidth\":0,\"ticks\":\"\"},\"colorscale\":[[0.0,\"#0d0887\"],[0.1111111111111111,\"#46039f\"],[0.2222222222222222,\"#7201a8\"],[0.3333333333333333,\"#9c179e\"],[0.4444444444444444,\"#bd3786\"],[0.5555555555555556,\"#d8576b\"],[0.6666666666666666,\"#ed7953\"],[0.7777777777777778,\"#fb9f3a\"],[0.8888888888888888,\"#fdca26\"],[1.0,\"#f0f921\"]]}],\"surface\":[{\"type\":\"surface\",\"colorbar\":{\"outlinewidth\":0,\"ticks\":\"\"},\"colorscale\":[[0.0,\"#0d0887\"],[0.1111111111111111,\"#46039f\"],[0.2222222222222222,\"#7201a8\"],[0.3333333333333333,\"#9c179e\"],[0.4444444444444444,\"#bd3786\"],[0.5555555555555556,\"#d8576b\"],[0.6666666666666666,\"#ed7953\"],[0.7777777777777778,\"#fb9f3a\"],[0.8888888888888888,\"#fdca26\"],[1.0,\"#f0f921\"]]}],\"mesh3d\":[{\"type\":\"mesh3d\",\"colorbar\":{\"outlinewidth\":0,\"ticks\":\"\"}}],\"scatter\":[{\"fillpattern\":{\"fillmode\":\"overlay\",\"size\":10,\"solidity\":0.2},\"type\":\"scatter\"}],\"parcoords\":[{\"type\":\"parcoords\",\"line\":{\"colorbar\":{\"outlinewidth\":0,\"ticks\":\"\"}}}],\"scatterpolargl\":[{\"type\":\"scatterpolargl\",\"marker\":{\"colorbar\":{\"outlinewidth\":0,\"ticks\":\"\"}}}],\"bar\":[{\"error_x\":{\"color\":\"#2a3f5f\"},\"error_y\":{\"color\":\"#2a3f5f\"},\"marker\":{\"line\":{\"color\":\"#E5ECF6\",\"width\":0.5},\"pattern\":{\"fillmode\":\"overlay\",\"size\":10,\"solidity\":0.2}},\"type\":\"bar\"}],\"scattergeo\":[{\"type\":\"scattergeo\",\"marker\":{\"colorbar\":{\"outlinewidth\":0,\"ticks\":\"\"}}}],\"scatterpolar\":[{\"type\":\"scatterpolar\",\"marker\":{\"colorbar\":{\"outlinewidth\":0,\"ticks\":\"\"}}}],\"histogram\":[{\"marker\":{\"pattern\":{\"fillmode\":\"overlay\",\"size\":10,\"solidity\":0.2}},\"type\":\"histogram\"}],\"scattergl\":[{\"type\":\"scattergl\",\"marker\":{\"colorbar\":{\"outlinewidth\":0,\"ticks\":\"\"}}}],\"scatter3d\":[{\"type\":\"scatter3d\",\"line\":{\"colorbar\":{\"outlinewidth\":0,\"ticks\":\"\"}},\"marker\":{\"colorbar\":{\"outlinewidth\":0,\"ticks\":\"\"}}}],\"scattermapbox\":[{\"type\":\"scattermapbox\",\"marker\":{\"colorbar\":{\"outlinewidth\":0,\"ticks\":\"\"}}}],\"scatterternary\":[{\"type\":\"scatterternary\",\"marker\":{\"colorbar\":{\"outlinewidth\":0,\"ticks\":\"\"}}}],\"scattercarpet\":[{\"type\":\"scattercarpet\",\"marker\":{\"colorbar\":{\"outlinewidth\":0,\"ticks\":\"\"}}}],\"carpet\":[{\"aaxis\":{\"endlinecolor\":\"#2a3f5f\",\"gridcolor\":\"white\",\"linecolor\":\"white\",\"minorgridcolor\":\"white\",\"startlinecolor\":\"#2a3f5f\"},\"baxis\":{\"endlinecolor\":\"#2a3f5f\",\"gridcolor\":\"white\",\"linecolor\":\"white\",\"minorgridcolor\":\"white\",\"startlinecolor\":\"#2a3f5f\"},\"type\":\"carpet\"}],\"table\":[{\"cells\":{\"fill\":{\"color\":\"#EBF0F8\"},\"line\":{\"color\":\"white\"}},\"header\":{\"fill\":{\"color\":\"#C8D4E3\"},\"line\":{\"color\":\"white\"}},\"type\":\"table\"}],\"barpolar\":[{\"marker\":{\"line\":{\"color\":\"#E5ECF6\",\"width\":0.5},\"pattern\":{\"fillmode\":\"overlay\",\"size\":10,\"solidity\":0.2}},\"type\":\"barpolar\"}],\"pie\":[{\"automargin\":true,\"type\":\"pie\"}]},\"layout\":{\"autotypenumbers\":\"strict\",\"colorway\":[\"#636efa\",\"#EF553B\",\"#00cc96\",\"#ab63fa\",\"#FFA15A\",\"#19d3f3\",\"#FF6692\",\"#B6E880\",\"#FF97FF\",\"#FECB52\"],\"font\":{\"color\":\"#2a3f5f\"},\"hovermode\":\"closest\",\"hoverlabel\":{\"align\":\"left\"},\"paper_bgcolor\":\"white\",\"plot_bgcolor\":\"#E5ECF6\",\"polar\":{\"bgcolor\":\"#E5ECF6\",\"angularaxis\":{\"gridcolor\":\"white\",\"linecolor\":\"white\",\"ticks\":\"\"},\"radialaxis\":{\"gridcolor\":\"white\",\"linecolor\":\"white\",\"ticks\":\"\"}},\"ternary\":{\"bgcolor\":\"#E5ECF6\",\"aaxis\":{\"gridcolor\":\"white\",\"linecolor\":\"white\",\"ticks\":\"\"},\"baxis\":{\"gridcolor\":\"white\",\"linecolor\":\"white\",\"ticks\":\"\"},\"caxis\":{\"gridcolor\":\"white\",\"linecolor\":\"white\",\"ticks\":\"\"}},\"coloraxis\":{\"colorbar\":{\"outlinewidth\":0,\"ticks\":\"\"}},\"colorscale\":{\"sequential\":[[0.0,\"#0d0887\"],[0.1111111111111111,\"#46039f\"],[0.2222222222222222,\"#7201a8\"],[0.3333333333333333,\"#9c179e\"],[0.4444444444444444,\"#bd3786\"],[0.5555555555555556,\"#d8576b\"],[0.6666666666666666,\"#ed7953\"],[0.7777777777777778,\"#fb9f3a\"],[0.8888888888888888,\"#fdca26\"],[1.0,\"#f0f921\"]],\"sequentialminus\":[[0.0,\"#0d0887\"],[0.1111111111111111,\"#46039f\"],[0.2222222222222222,\"#7201a8\"],[0.3333333333333333,\"#9c179e\"],[0.4444444444444444,\"#bd3786\"],[0.5555555555555556,\"#d8576b\"],[0.6666666666666666,\"#ed7953\"],[0.7777777777777778,\"#fb9f3a\"],[0.8888888888888888,\"#fdca26\"],[1.0,\"#f0f921\"]],\"diverging\":[[0,\"#8e0152\"],[0.1,\"#c51b7d\"],[0.2,\"#de77ae\"],[0.3,\"#f1b6da\"],[0.4,\"#fde0ef\"],[0.5,\"#f7f7f7\"],[0.6,\"#e6f5d0\"],[0.7,\"#b8e186\"],[0.8,\"#7fbc41\"],[0.9,\"#4d9221\"],[1,\"#276419\"]]},\"xaxis\":{\"gridcolor\":\"white\",\"linecolor\":\"white\",\"ticks\":\"\",\"title\":{\"standoff\":15},\"zerolinecolor\":\"white\",\"automargin\":true,\"zerolinewidth\":2},\"yaxis\":{\"gridcolor\":\"white\",\"linecolor\":\"white\",\"ticks\":\"\",\"title\":{\"standoff\":15},\"zerolinecolor\":\"white\",\"automargin\":true,\"zerolinewidth\":2},\"scene\":{\"xaxis\":{\"backgroundcolor\":\"#E5ECF6\",\"gridcolor\":\"white\",\"linecolor\":\"white\",\"showbackground\":true,\"ticks\":\"\",\"zerolinecolor\":\"white\",\"gridwidth\":2},\"yaxis\":{\"backgroundcolor\":\"#E5ECF6\",\"gridcolor\":\"white\",\"linecolor\":\"white\",\"showbackground\":true,\"ticks\":\"\",\"zerolinecolor\":\"white\",\"gridwidth\":2},\"zaxis\":{\"backgroundcolor\":\"#E5ECF6\",\"gridcolor\":\"white\",\"linecolor\":\"white\",\"showbackground\":true,\"ticks\":\"\",\"zerolinecolor\":\"white\",\"gridwidth\":2}},\"shapedefaults\":{\"line\":{\"color\":\"#2a3f5f\"}},\"annotationdefaults\":{\"arrowcolor\":\"#2a3f5f\",\"arrowhead\":0,\"arrowwidth\":1},\"geo\":{\"bgcolor\":\"white\",\"landcolor\":\"#E5ECF6\",\"subunitcolor\":\"white\",\"showland\":true,\"showlakes\":true,\"lakecolor\":\"white\"},\"title\":{\"x\":0.05},\"mapbox\":{\"style\":\"light\"}}},\"title\":{\"text\":\"Race distribution<br><sup><i>(n=219)</i></sup>\",\"x\":0,\"xref\":\"paper\"},\"xaxis\":{\"title\":{\"text\":\"Race\"}},\"yaxis\":{\"title\":{\"text\":\"Count\"}}},                        {\"responsive\": true}                    ).then(function(){\n",
              "                            \n",
              "var gd = document.getElementById('cc073e39-50f5-4100-8443-008bde951b00');\n",
              "var x = new MutationObserver(function (mutations, observer) {{\n",
              "        var display = window.getComputedStyle(gd).display;\n",
              "        if (!display || display === 'none') {{\n",
              "            console.log([gd, 'removed!']);\n",
              "            Plotly.purge(gd);\n",
              "            observer.disconnect();\n",
              "        }}\n",
              "}});\n",
              "\n",
              "// Listen for the removal of the full notebook cells\n",
              "var notebookContainer = gd.closest('#notebook-container');\n",
              "if (notebookContainer) {{\n",
              "    x.observe(notebookContainer, {childList: true});\n",
              "}}\n",
              "\n",
              "// Listen for the clearing of the current output cell\n",
              "var outputEl = gd.closest('.output');\n",
              "if (outputEl) {{\n",
              "    x.observe(outputEl, {childList: true});\n",
              "}}\n",
              "\n",
              "                        })                };                            </script>        </div>\n",
              "</body>\n",
              "</html>"
            ]
          },
          "metadata": {}
        }
      ],
      "source": [
        "#@title\n",
        "race = df.groupby(['Race']).size().reset_index(name='Counts')\n",
        "race = race.sort_values(by=['Counts'], ascending=False)\n",
        "\n",
        "fig = go.Figure([go.Bar(x=race['Race'], \n",
        "                        y=race['Counts'], \n",
        "                        marker_color=list(COLOURS.values()),\n",
        "                        text=race['Counts'])])\n",
        "fig.update_layout(\n",
        "    title=go.layout.Title(\n",
        "        text=f\"Race distribution<br><sup><i>(n={len(df)})</i></sup>\",\n",
        "        xref=\"paper\",\n",
        "        x=0\n",
        "    ),\n",
        "        xaxis=go.layout.XAxis(\n",
        "        title=go.layout.xaxis.Title(\n",
        "            text=\"Race\"\n",
        "            )\n",
        "        ),\n",
        "        yaxis=go.layout.YAxis(\n",
        "        title=go.layout.yaxis.Title(\n",
        "            text=\"Count\"\n",
        "            )\n",
        "        )\n",
        "    )\n",
        "fig.show()"
      ]
    },
    {
      "cell_type": "markdown",
      "metadata": {
        "id": "rFAGDgsvyi-k"
      },
      "source": [
        "### Population parity"
      ]
    },
    {
      "cell_type": "code",
      "execution_count": 94,
      "metadata": {
        "id": "6T7TCJ1wyi-k",
        "outputId": "8458dbac-3d3d-498d-ff27-7b787309487c",
        "colab": {
          "base_uri": "https://localhost:8080/",
          "height": 542
        }
      },
      "outputs": [
        {
          "output_type": "display_data",
          "data": {
            "text/html": [
              "<html>\n",
              "<head><meta charset=\"utf-8\" /></head>\n",
              "<body>\n",
              "    <div>            <script src=\"https://cdnjs.cloudflare.com/ajax/libs/mathjax/2.7.5/MathJax.js?config=TeX-AMS-MML_SVG\"></script><script type=\"text/javascript\">if (window.MathJax && window.MathJax.Hub && window.MathJax.Hub.Config) {window.MathJax.Hub.Config({SVG: {font: \"STIX-Web\"}});}</script>                <script type=\"text/javascript\">window.PlotlyConfig = {MathJaxConfig: 'local'};</script>\n",
              "        <script src=\"https://cdn.plot.ly/plotly-2.18.2.min.js\"></script>                <div id=\"dbfe604f-ea35-457b-8cb9-18ff0c80095e\" class=\"plotly-graph-div\" style=\"height:525px; width:100%;\"></div>            <script type=\"text/javascript\">                                    window.PLOTLYENV=window.PLOTLYENV || {};                                    if (document.getElementById(\"dbfe604f-ea35-457b-8cb9-18ff0c80095e\")) {                    Plotly.newPlot(                        \"dbfe604f-ea35-457b-8cb9-18ff0c80095e\",                        [{\"marker\":{\"color\":\"#191c40\"},\"text\":[44.0,33.0,14.0,5.0,2.0,1.0,0.0,0.0],\"x\":[1,2,3,4,5,6,7,8],\"y\":[44.0,33.0,14.0,5.0,2.0,1.0,0.0,0.0],\"type\":\"bar\"}],                        {\"template\":{\"data\":{\"histogram2dcontour\":[{\"type\":\"histogram2dcontour\",\"colorbar\":{\"outlinewidth\":0,\"ticks\":\"\"},\"colorscale\":[[0.0,\"#0d0887\"],[0.1111111111111111,\"#46039f\"],[0.2222222222222222,\"#7201a8\"],[0.3333333333333333,\"#9c179e\"],[0.4444444444444444,\"#bd3786\"],[0.5555555555555556,\"#d8576b\"],[0.6666666666666666,\"#ed7953\"],[0.7777777777777778,\"#fb9f3a\"],[0.8888888888888888,\"#fdca26\"],[1.0,\"#f0f921\"]]}],\"choropleth\":[{\"type\":\"choropleth\",\"colorbar\":{\"outlinewidth\":0,\"ticks\":\"\"}}],\"histogram2d\":[{\"type\":\"histogram2d\",\"colorbar\":{\"outlinewidth\":0,\"ticks\":\"\"},\"colorscale\":[[0.0,\"#0d0887\"],[0.1111111111111111,\"#46039f\"],[0.2222222222222222,\"#7201a8\"],[0.3333333333333333,\"#9c179e\"],[0.4444444444444444,\"#bd3786\"],[0.5555555555555556,\"#d8576b\"],[0.6666666666666666,\"#ed7953\"],[0.7777777777777778,\"#fb9f3a\"],[0.8888888888888888,\"#fdca26\"],[1.0,\"#f0f921\"]]}],\"heatmap\":[{\"type\":\"heatmap\",\"colorbar\":{\"outlinewidth\":0,\"ticks\":\"\"},\"colorscale\":[[0.0,\"#0d0887\"],[0.1111111111111111,\"#46039f\"],[0.2222222222222222,\"#7201a8\"],[0.3333333333333333,\"#9c179e\"],[0.4444444444444444,\"#bd3786\"],[0.5555555555555556,\"#d8576b\"],[0.6666666666666666,\"#ed7953\"],[0.7777777777777778,\"#fb9f3a\"],[0.8888888888888888,\"#fdca26\"],[1.0,\"#f0f921\"]]}],\"heatmapgl\":[{\"type\":\"heatmapgl\",\"colorbar\":{\"outlinewidth\":0,\"ticks\":\"\"},\"colorscale\":[[0.0,\"#0d0887\"],[0.1111111111111111,\"#46039f\"],[0.2222222222222222,\"#7201a8\"],[0.3333333333333333,\"#9c179e\"],[0.4444444444444444,\"#bd3786\"],[0.5555555555555556,\"#d8576b\"],[0.6666666666666666,\"#ed7953\"],[0.7777777777777778,\"#fb9f3a\"],[0.8888888888888888,\"#fdca26\"],[1.0,\"#f0f921\"]]}],\"contourcarpet\":[{\"type\":\"contourcarpet\",\"colorbar\":{\"outlinewidth\":0,\"ticks\":\"\"}}],\"contour\":[{\"type\":\"contour\",\"colorbar\":{\"outlinewidth\":0,\"ticks\":\"\"},\"colorscale\":[[0.0,\"#0d0887\"],[0.1111111111111111,\"#46039f\"],[0.2222222222222222,\"#7201a8\"],[0.3333333333333333,\"#9c179e\"],[0.4444444444444444,\"#bd3786\"],[0.5555555555555556,\"#d8576b\"],[0.6666666666666666,\"#ed7953\"],[0.7777777777777778,\"#fb9f3a\"],[0.8888888888888888,\"#fdca26\"],[1.0,\"#f0f921\"]]}],\"surface\":[{\"type\":\"surface\",\"colorbar\":{\"outlinewidth\":0,\"ticks\":\"\"},\"colorscale\":[[0.0,\"#0d0887\"],[0.1111111111111111,\"#46039f\"],[0.2222222222222222,\"#7201a8\"],[0.3333333333333333,\"#9c179e\"],[0.4444444444444444,\"#bd3786\"],[0.5555555555555556,\"#d8576b\"],[0.6666666666666666,\"#ed7953\"],[0.7777777777777778,\"#fb9f3a\"],[0.8888888888888888,\"#fdca26\"],[1.0,\"#f0f921\"]]}],\"mesh3d\":[{\"type\":\"mesh3d\",\"colorbar\":{\"outlinewidth\":0,\"ticks\":\"\"}}],\"scatter\":[{\"fillpattern\":{\"fillmode\":\"overlay\",\"size\":10,\"solidity\":0.2},\"type\":\"scatter\"}],\"parcoords\":[{\"type\":\"parcoords\",\"line\":{\"colorbar\":{\"outlinewidth\":0,\"ticks\":\"\"}}}],\"scatterpolargl\":[{\"type\":\"scatterpolargl\",\"marker\":{\"colorbar\":{\"outlinewidth\":0,\"ticks\":\"\"}}}],\"bar\":[{\"error_x\":{\"color\":\"#2a3f5f\"},\"error_y\":{\"color\":\"#2a3f5f\"},\"marker\":{\"line\":{\"color\":\"#E5ECF6\",\"width\":0.5},\"pattern\":{\"fillmode\":\"overlay\",\"size\":10,\"solidity\":0.2}},\"type\":\"bar\"}],\"scattergeo\":[{\"type\":\"scattergeo\",\"marker\":{\"colorbar\":{\"outlinewidth\":0,\"ticks\":\"\"}}}],\"scatterpolar\":[{\"type\":\"scatterpolar\",\"marker\":{\"colorbar\":{\"outlinewidth\":0,\"ticks\":\"\"}}}],\"histogram\":[{\"marker\":{\"pattern\":{\"fillmode\":\"overlay\",\"size\":10,\"solidity\":0.2}},\"type\":\"histogram\"}],\"scattergl\":[{\"type\":\"scattergl\",\"marker\":{\"colorbar\":{\"outlinewidth\":0,\"ticks\":\"\"}}}],\"scatter3d\":[{\"type\":\"scatter3d\",\"line\":{\"colorbar\":{\"outlinewidth\":0,\"ticks\":\"\"}},\"marker\":{\"colorbar\":{\"outlinewidth\":0,\"ticks\":\"\"}}}],\"scattermapbox\":[{\"type\":\"scattermapbox\",\"marker\":{\"colorbar\":{\"outlinewidth\":0,\"ticks\":\"\"}}}],\"scatterternary\":[{\"type\":\"scatterternary\",\"marker\":{\"colorbar\":{\"outlinewidth\":0,\"ticks\":\"\"}}}],\"scattercarpet\":[{\"type\":\"scattercarpet\",\"marker\":{\"colorbar\":{\"outlinewidth\":0,\"ticks\":\"\"}}}],\"carpet\":[{\"aaxis\":{\"endlinecolor\":\"#2a3f5f\",\"gridcolor\":\"white\",\"linecolor\":\"white\",\"minorgridcolor\":\"white\",\"startlinecolor\":\"#2a3f5f\"},\"baxis\":{\"endlinecolor\":\"#2a3f5f\",\"gridcolor\":\"white\",\"linecolor\":\"white\",\"minorgridcolor\":\"white\",\"startlinecolor\":\"#2a3f5f\"},\"type\":\"carpet\"}],\"table\":[{\"cells\":{\"fill\":{\"color\":\"#EBF0F8\"},\"line\":{\"color\":\"white\"}},\"header\":{\"fill\":{\"color\":\"#C8D4E3\"},\"line\":{\"color\":\"white\"}},\"type\":\"table\"}],\"barpolar\":[{\"marker\":{\"line\":{\"color\":\"#E5ECF6\",\"width\":0.5},\"pattern\":{\"fillmode\":\"overlay\",\"size\":10,\"solidity\":0.2}},\"type\":\"barpolar\"}],\"pie\":[{\"automargin\":true,\"type\":\"pie\"}]},\"layout\":{\"autotypenumbers\":\"strict\",\"colorway\":[\"#636efa\",\"#EF553B\",\"#00cc96\",\"#ab63fa\",\"#FFA15A\",\"#19d3f3\",\"#FF6692\",\"#B6E880\",\"#FF97FF\",\"#FECB52\"],\"font\":{\"color\":\"#2a3f5f\"},\"hovermode\":\"closest\",\"hoverlabel\":{\"align\":\"left\"},\"paper_bgcolor\":\"white\",\"plot_bgcolor\":\"#E5ECF6\",\"polar\":{\"bgcolor\":\"#E5ECF6\",\"angularaxis\":{\"gridcolor\":\"white\",\"linecolor\":\"white\",\"ticks\":\"\"},\"radialaxis\":{\"gridcolor\":\"white\",\"linecolor\":\"white\",\"ticks\":\"\"}},\"ternary\":{\"bgcolor\":\"#E5ECF6\",\"aaxis\":{\"gridcolor\":\"white\",\"linecolor\":\"white\",\"ticks\":\"\"},\"baxis\":{\"gridcolor\":\"white\",\"linecolor\":\"white\",\"ticks\":\"\"},\"caxis\":{\"gridcolor\":\"white\",\"linecolor\":\"white\",\"ticks\":\"\"}},\"coloraxis\":{\"colorbar\":{\"outlinewidth\":0,\"ticks\":\"\"}},\"colorscale\":{\"sequential\":[[0.0,\"#0d0887\"],[0.1111111111111111,\"#46039f\"],[0.2222222222222222,\"#7201a8\"],[0.3333333333333333,\"#9c179e\"],[0.4444444444444444,\"#bd3786\"],[0.5555555555555556,\"#d8576b\"],[0.6666666666666666,\"#ed7953\"],[0.7777777777777778,\"#fb9f3a\"],[0.8888888888888888,\"#fdca26\"],[1.0,\"#f0f921\"]],\"sequentialminus\":[[0.0,\"#0d0887\"],[0.1111111111111111,\"#46039f\"],[0.2222222222222222,\"#7201a8\"],[0.3333333333333333,\"#9c179e\"],[0.4444444444444444,\"#bd3786\"],[0.5555555555555556,\"#d8576b\"],[0.6666666666666666,\"#ed7953\"],[0.7777777777777778,\"#fb9f3a\"],[0.8888888888888888,\"#fdca26\"],[1.0,\"#f0f921\"]],\"diverging\":[[0,\"#8e0152\"],[0.1,\"#c51b7d\"],[0.2,\"#de77ae\"],[0.3,\"#f1b6da\"],[0.4,\"#fde0ef\"],[0.5,\"#f7f7f7\"],[0.6,\"#e6f5d0\"],[0.7,\"#b8e186\"],[0.8,\"#7fbc41\"],[0.9,\"#4d9221\"],[1,\"#276419\"]]},\"xaxis\":{\"gridcolor\":\"white\",\"linecolor\":\"white\",\"ticks\":\"\",\"title\":{\"standoff\":15},\"zerolinecolor\":\"white\",\"automargin\":true,\"zerolinewidth\":2},\"yaxis\":{\"gridcolor\":\"white\",\"linecolor\":\"white\",\"ticks\":\"\",\"title\":{\"standoff\":15},\"zerolinecolor\":\"white\",\"automargin\":true,\"zerolinewidth\":2},\"scene\":{\"xaxis\":{\"backgroundcolor\":\"#E5ECF6\",\"gridcolor\":\"white\",\"linecolor\":\"white\",\"showbackground\":true,\"ticks\":\"\",\"zerolinecolor\":\"white\",\"gridwidth\":2},\"yaxis\":{\"backgroundcolor\":\"#E5ECF6\",\"gridcolor\":\"white\",\"linecolor\":\"white\",\"showbackground\":true,\"ticks\":\"\",\"zerolinecolor\":\"white\",\"gridwidth\":2},\"zaxis\":{\"backgroundcolor\":\"#E5ECF6\",\"gridcolor\":\"white\",\"linecolor\":\"white\",\"showbackground\":true,\"ticks\":\"\",\"zerolinecolor\":\"white\",\"gridwidth\":2}},\"shapedefaults\":{\"line\":{\"color\":\"#2a3f5f\"}},\"annotationdefaults\":{\"arrowcolor\":\"#2a3f5f\",\"arrowhead\":0,\"arrowwidth\":1},\"geo\":{\"bgcolor\":\"white\",\"landcolor\":\"#E5ECF6\",\"subunitcolor\":\"white\",\"showland\":true,\"showlakes\":true,\"lakecolor\":\"white\"},\"title\":{\"x\":0.05},\"mapbox\":{\"style\":\"light\"}}},\"title\":{\"text\":\"Parity distribution<br><sup><i>(n=219)</i></sup>\",\"x\":0,\"xref\":\"paper\"},\"xaxis\":{\"title\":{\"text\":\"Parity<br><sup><i>number of live births</i></sup>\"}},\"yaxis\":{\"title\":{\"text\":\"Percentage<br><sup><i>%</i></sup>\"}}},                        {\"responsive\": true}                    ).then(function(){\n",
              "                            \n",
              "var gd = document.getElementById('dbfe604f-ea35-457b-8cb9-18ff0c80095e');\n",
              "var x = new MutationObserver(function (mutations, observer) {{\n",
              "        var display = window.getComputedStyle(gd).display;\n",
              "        if (!display || display === 'none') {{\n",
              "            console.log([gd, 'removed!']);\n",
              "            Plotly.purge(gd);\n",
              "            observer.disconnect();\n",
              "        }}\n",
              "}});\n",
              "\n",
              "// Listen for the removal of the full notebook cells\n",
              "var notebookContainer = gd.closest('#notebook-container');\n",
              "if (notebookContainer) {{\n",
              "    x.observe(notebookContainer, {childList: true});\n",
              "}}\n",
              "\n",
              "// Listen for the clearing of the current output cell\n",
              "var outputEl = gd.closest('.output');\n",
              "if (outputEl) {{\n",
              "    x.observe(outputEl, {childList: true});\n",
              "}}\n",
              "\n",
              "                        })                };                            </script>        </div>\n",
              "</body>\n",
              "</html>"
            ]
          },
          "metadata": {}
        }
      ],
      "source": [
        "#@title\n",
        "par = df.groupby(['Parity']).size().reset_index(name='Counts')\n",
        "\n",
        "par['Percentage'] = round(par['Counts']/par['Counts'].sum() * 100)\n",
        "\n",
        "fig = go.Figure([go.Bar(x=par['Parity'], \n",
        "                        y=par['Percentage'], \n",
        "                        marker_color=COLOURS[0],\n",
        "                        text=par['Percentage'])])\n",
        "\n",
        "fig.update_layout(\n",
        "    title=go.layout.Title(\n",
        "        text=f\"Parity distribution<br><sup><i>(n={len(df)})</i></sup>\",\n",
        "        xref=\"paper\",\n",
        "         x=0\n",
        "     ),\n",
        "         xaxis=go.layout.XAxis(\n",
        "         title=go.layout.xaxis.Title(\n",
        "             text=\"Parity<br><sup><i>number of live births</i></sup>\"\n",
        "             )\n",
        "         ),\n",
        "         yaxis=go.layout.YAxis(\n",
        "         title=go.layout.yaxis.Title(\n",
        "             text=\"Percentage<br><sup><i>%</i></sup>\"\n",
        "             )\n",
        "         )\n",
        "     )\n",
        "fig.show()"
      ]
    },
    {
      "cell_type": "code",
      "source": [
        "#@title\n",
        "par = df.groupby(['Parity', 'Race']).size().reset_index(name='Counts')\n",
        "\n",
        "fig = go.Figure()\n",
        "for count, var in enumerate(par.Race.unique()):\n",
        "  dft = par[par['Race']==var].reset_index(drop=True)\n",
        "  dft['Percentage'] = round(dft['Counts']/par['Counts'].sum() * 100)\n",
        "  text = round(dft['Counts']/par['Counts'].sum() * 100)\n",
        "  fig.add_trace(go.Bar(x=dft['Parity']\n",
        "                       , y=dft['Percentage']\n",
        "                       , name=var\n",
        "                       , marker_color=COLOURS[count]\n",
        "                       , text=text))\n",
        "\n",
        "fig.update_layout(\n",
        "    title=go.layout.Title(\n",
        "        text=f\"Parity distribution by Race<br><sup><i>(n={len(df)})</i></sup>\",\n",
        "        xref=\"paper\",\n",
        "         x=0\n",
        "     ),\n",
        "    xaxis=go.layout.XAxis(\n",
        "    title=go.layout.xaxis.Title(\n",
        "        text=\"Parity<br><sup><i>number of live births</i></sup>\"\n",
        "        )\n",
        "    ),\n",
        "    yaxis=go.layout.YAxis(\n",
        "    title=go.layout.yaxis.Title(\n",
        "        text=\"Percentage<br><sup><i>%</i></sup>\"\n",
        "        )\n",
        "    ),\n",
        "    barmode='stack',\n",
        "     )\n",
        "fig.show()\n",
        "\n",
        "\n"
      ],
      "metadata": {
        "colab": {
          "base_uri": "https://localhost:8080/",
          "height": 542
        },
        "id": "8jTlZywbaQ6y",
        "outputId": "882c2379-bbfa-40a5-99de-d067fd6bc8dd"
      },
      "execution_count": 95,
      "outputs": [
        {
          "output_type": "display_data",
          "data": {
            "text/html": [
              "<html>\n",
              "<head><meta charset=\"utf-8\" /></head>\n",
              "<body>\n",
              "    <div>            <script src=\"https://cdnjs.cloudflare.com/ajax/libs/mathjax/2.7.5/MathJax.js?config=TeX-AMS-MML_SVG\"></script><script type=\"text/javascript\">if (window.MathJax && window.MathJax.Hub && window.MathJax.Hub.Config) {window.MathJax.Hub.Config({SVG: {font: \"STIX-Web\"}});}</script>                <script type=\"text/javascript\">window.PlotlyConfig = {MathJaxConfig: 'local'};</script>\n",
              "        <script src=\"https://cdn.plot.ly/plotly-2.18.2.min.js\"></script>                <div id=\"30a5ffd9-be8d-4e7f-9297-bdea163296d7\" class=\"plotly-graph-div\" style=\"height:525px; width:100%;\"></div>            <script type=\"text/javascript\">                                    window.PLOTLYENV=window.PLOTLYENV || {};                                    if (document.getElementById(\"30a5ffd9-be8d-4e7f-9297-bdea163296d7\")) {                    Plotly.newPlot(                        \"30a5ffd9-be8d-4e7f-9297-bdea163296d7\",                        [{\"marker\":{\"color\":\"#191c40\"},\"name\":\"ASIAN\",\"text\":[11.0,9.0,3.0,1.0,0.0],\"x\":[1,2,3,4,5],\"y\":[11.0,9.0,3.0,1.0,0.0],\"type\":\"bar\"},{\"marker\":{\"color\":\"#404472\"},\"name\":\"BLACK\",\"text\":[8.0,5.0,4.0,3.0,1.0,0.0,0.0],\"x\":[1,2,3,4,5,6,7],\"y\":[8.0,5.0,4.0,3.0,1.0,0.0,0.0],\"type\":\"bar\"},{\"marker\":{\"color\":\"#5c5f7c\"},\"name\":\"MIXED\",\"text\":[3.0,1.0,0.0,0.0,0.0],\"x\":[1,2,4,5,6],\"y\":[3.0,1.0,0.0,0.0,0.0],\"type\":\"bar\"},{\"marker\":{\"color\":\"#c3c0c0\"},\"name\":\"WHITE\",\"text\":[21.0,18.0,7.0,1.0,0.0],\"x\":[1,2,3,4,8],\"y\":[21.0,18.0,7.0,1.0,0.0],\"type\":\"bar\"}],                        {\"template\":{\"data\":{\"histogram2dcontour\":[{\"type\":\"histogram2dcontour\",\"colorbar\":{\"outlinewidth\":0,\"ticks\":\"\"},\"colorscale\":[[0.0,\"#0d0887\"],[0.1111111111111111,\"#46039f\"],[0.2222222222222222,\"#7201a8\"],[0.3333333333333333,\"#9c179e\"],[0.4444444444444444,\"#bd3786\"],[0.5555555555555556,\"#d8576b\"],[0.6666666666666666,\"#ed7953\"],[0.7777777777777778,\"#fb9f3a\"],[0.8888888888888888,\"#fdca26\"],[1.0,\"#f0f921\"]]}],\"choropleth\":[{\"type\":\"choropleth\",\"colorbar\":{\"outlinewidth\":0,\"ticks\":\"\"}}],\"histogram2d\":[{\"type\":\"histogram2d\",\"colorbar\":{\"outlinewidth\":0,\"ticks\":\"\"},\"colorscale\":[[0.0,\"#0d0887\"],[0.1111111111111111,\"#46039f\"],[0.2222222222222222,\"#7201a8\"],[0.3333333333333333,\"#9c179e\"],[0.4444444444444444,\"#bd3786\"],[0.5555555555555556,\"#d8576b\"],[0.6666666666666666,\"#ed7953\"],[0.7777777777777778,\"#fb9f3a\"],[0.8888888888888888,\"#fdca26\"],[1.0,\"#f0f921\"]]}],\"heatmap\":[{\"type\":\"heatmap\",\"colorbar\":{\"outlinewidth\":0,\"ticks\":\"\"},\"colorscale\":[[0.0,\"#0d0887\"],[0.1111111111111111,\"#46039f\"],[0.2222222222222222,\"#7201a8\"],[0.3333333333333333,\"#9c179e\"],[0.4444444444444444,\"#bd3786\"],[0.5555555555555556,\"#d8576b\"],[0.6666666666666666,\"#ed7953\"],[0.7777777777777778,\"#fb9f3a\"],[0.8888888888888888,\"#fdca26\"],[1.0,\"#f0f921\"]]}],\"heatmapgl\":[{\"type\":\"heatmapgl\",\"colorbar\":{\"outlinewidth\":0,\"ticks\":\"\"},\"colorscale\":[[0.0,\"#0d0887\"],[0.1111111111111111,\"#46039f\"],[0.2222222222222222,\"#7201a8\"],[0.3333333333333333,\"#9c179e\"],[0.4444444444444444,\"#bd3786\"],[0.5555555555555556,\"#d8576b\"],[0.6666666666666666,\"#ed7953\"],[0.7777777777777778,\"#fb9f3a\"],[0.8888888888888888,\"#fdca26\"],[1.0,\"#f0f921\"]]}],\"contourcarpet\":[{\"type\":\"contourcarpet\",\"colorbar\":{\"outlinewidth\":0,\"ticks\":\"\"}}],\"contour\":[{\"type\":\"contour\",\"colorbar\":{\"outlinewidth\":0,\"ticks\":\"\"},\"colorscale\":[[0.0,\"#0d0887\"],[0.1111111111111111,\"#46039f\"],[0.2222222222222222,\"#7201a8\"],[0.3333333333333333,\"#9c179e\"],[0.4444444444444444,\"#bd3786\"],[0.5555555555555556,\"#d8576b\"],[0.6666666666666666,\"#ed7953\"],[0.7777777777777778,\"#fb9f3a\"],[0.8888888888888888,\"#fdca26\"],[1.0,\"#f0f921\"]]}],\"surface\":[{\"type\":\"surface\",\"colorbar\":{\"outlinewidth\":0,\"ticks\":\"\"},\"colorscale\":[[0.0,\"#0d0887\"],[0.1111111111111111,\"#46039f\"],[0.2222222222222222,\"#7201a8\"],[0.3333333333333333,\"#9c179e\"],[0.4444444444444444,\"#bd3786\"],[0.5555555555555556,\"#d8576b\"],[0.6666666666666666,\"#ed7953\"],[0.7777777777777778,\"#fb9f3a\"],[0.8888888888888888,\"#fdca26\"],[1.0,\"#f0f921\"]]}],\"mesh3d\":[{\"type\":\"mesh3d\",\"colorbar\":{\"outlinewidth\":0,\"ticks\":\"\"}}],\"scatter\":[{\"fillpattern\":{\"fillmode\":\"overlay\",\"size\":10,\"solidity\":0.2},\"type\":\"scatter\"}],\"parcoords\":[{\"type\":\"parcoords\",\"line\":{\"colorbar\":{\"outlinewidth\":0,\"ticks\":\"\"}}}],\"scatterpolargl\":[{\"type\":\"scatterpolargl\",\"marker\":{\"colorbar\":{\"outlinewidth\":0,\"ticks\":\"\"}}}],\"bar\":[{\"error_x\":{\"color\":\"#2a3f5f\"},\"error_y\":{\"color\":\"#2a3f5f\"},\"marker\":{\"line\":{\"color\":\"#E5ECF6\",\"width\":0.5},\"pattern\":{\"fillmode\":\"overlay\",\"size\":10,\"solidity\":0.2}},\"type\":\"bar\"}],\"scattergeo\":[{\"type\":\"scattergeo\",\"marker\":{\"colorbar\":{\"outlinewidth\":0,\"ticks\":\"\"}}}],\"scatterpolar\":[{\"type\":\"scatterpolar\",\"marker\":{\"colorbar\":{\"outlinewidth\":0,\"ticks\":\"\"}}}],\"histogram\":[{\"marker\":{\"pattern\":{\"fillmode\":\"overlay\",\"size\":10,\"solidity\":0.2}},\"type\":\"histogram\"}],\"scattergl\":[{\"type\":\"scattergl\",\"marker\":{\"colorbar\":{\"outlinewidth\":0,\"ticks\":\"\"}}}],\"scatter3d\":[{\"type\":\"scatter3d\",\"line\":{\"colorbar\":{\"outlinewidth\":0,\"ticks\":\"\"}},\"marker\":{\"colorbar\":{\"outlinewidth\":0,\"ticks\":\"\"}}}],\"scattermapbox\":[{\"type\":\"scattermapbox\",\"marker\":{\"colorbar\":{\"outlinewidth\":0,\"ticks\":\"\"}}}],\"scatterternary\":[{\"type\":\"scatterternary\",\"marker\":{\"colorbar\":{\"outlinewidth\":0,\"ticks\":\"\"}}}],\"scattercarpet\":[{\"type\":\"scattercarpet\",\"marker\":{\"colorbar\":{\"outlinewidth\":0,\"ticks\":\"\"}}}],\"carpet\":[{\"aaxis\":{\"endlinecolor\":\"#2a3f5f\",\"gridcolor\":\"white\",\"linecolor\":\"white\",\"minorgridcolor\":\"white\",\"startlinecolor\":\"#2a3f5f\"},\"baxis\":{\"endlinecolor\":\"#2a3f5f\",\"gridcolor\":\"white\",\"linecolor\":\"white\",\"minorgridcolor\":\"white\",\"startlinecolor\":\"#2a3f5f\"},\"type\":\"carpet\"}],\"table\":[{\"cells\":{\"fill\":{\"color\":\"#EBF0F8\"},\"line\":{\"color\":\"white\"}},\"header\":{\"fill\":{\"color\":\"#C8D4E3\"},\"line\":{\"color\":\"white\"}},\"type\":\"table\"}],\"barpolar\":[{\"marker\":{\"line\":{\"color\":\"#E5ECF6\",\"width\":0.5},\"pattern\":{\"fillmode\":\"overlay\",\"size\":10,\"solidity\":0.2}},\"type\":\"barpolar\"}],\"pie\":[{\"automargin\":true,\"type\":\"pie\"}]},\"layout\":{\"autotypenumbers\":\"strict\",\"colorway\":[\"#636efa\",\"#EF553B\",\"#00cc96\",\"#ab63fa\",\"#FFA15A\",\"#19d3f3\",\"#FF6692\",\"#B6E880\",\"#FF97FF\",\"#FECB52\"],\"font\":{\"color\":\"#2a3f5f\"},\"hovermode\":\"closest\",\"hoverlabel\":{\"align\":\"left\"},\"paper_bgcolor\":\"white\",\"plot_bgcolor\":\"#E5ECF6\",\"polar\":{\"bgcolor\":\"#E5ECF6\",\"angularaxis\":{\"gridcolor\":\"white\",\"linecolor\":\"white\",\"ticks\":\"\"},\"radialaxis\":{\"gridcolor\":\"white\",\"linecolor\":\"white\",\"ticks\":\"\"}},\"ternary\":{\"bgcolor\":\"#E5ECF6\",\"aaxis\":{\"gridcolor\":\"white\",\"linecolor\":\"white\",\"ticks\":\"\"},\"baxis\":{\"gridcolor\":\"white\",\"linecolor\":\"white\",\"ticks\":\"\"},\"caxis\":{\"gridcolor\":\"white\",\"linecolor\":\"white\",\"ticks\":\"\"}},\"coloraxis\":{\"colorbar\":{\"outlinewidth\":0,\"ticks\":\"\"}},\"colorscale\":{\"sequential\":[[0.0,\"#0d0887\"],[0.1111111111111111,\"#46039f\"],[0.2222222222222222,\"#7201a8\"],[0.3333333333333333,\"#9c179e\"],[0.4444444444444444,\"#bd3786\"],[0.5555555555555556,\"#d8576b\"],[0.6666666666666666,\"#ed7953\"],[0.7777777777777778,\"#fb9f3a\"],[0.8888888888888888,\"#fdca26\"],[1.0,\"#f0f921\"]],\"sequentialminus\":[[0.0,\"#0d0887\"],[0.1111111111111111,\"#46039f\"],[0.2222222222222222,\"#7201a8\"],[0.3333333333333333,\"#9c179e\"],[0.4444444444444444,\"#bd3786\"],[0.5555555555555556,\"#d8576b\"],[0.6666666666666666,\"#ed7953\"],[0.7777777777777778,\"#fb9f3a\"],[0.8888888888888888,\"#fdca26\"],[1.0,\"#f0f921\"]],\"diverging\":[[0,\"#8e0152\"],[0.1,\"#c51b7d\"],[0.2,\"#de77ae\"],[0.3,\"#f1b6da\"],[0.4,\"#fde0ef\"],[0.5,\"#f7f7f7\"],[0.6,\"#e6f5d0\"],[0.7,\"#b8e186\"],[0.8,\"#7fbc41\"],[0.9,\"#4d9221\"],[1,\"#276419\"]]},\"xaxis\":{\"gridcolor\":\"white\",\"linecolor\":\"white\",\"ticks\":\"\",\"title\":{\"standoff\":15},\"zerolinecolor\":\"white\",\"automargin\":true,\"zerolinewidth\":2},\"yaxis\":{\"gridcolor\":\"white\",\"linecolor\":\"white\",\"ticks\":\"\",\"title\":{\"standoff\":15},\"zerolinecolor\":\"white\",\"automargin\":true,\"zerolinewidth\":2},\"scene\":{\"xaxis\":{\"backgroundcolor\":\"#E5ECF6\",\"gridcolor\":\"white\",\"linecolor\":\"white\",\"showbackground\":true,\"ticks\":\"\",\"zerolinecolor\":\"white\",\"gridwidth\":2},\"yaxis\":{\"backgroundcolor\":\"#E5ECF6\",\"gridcolor\":\"white\",\"linecolor\":\"white\",\"showbackground\":true,\"ticks\":\"\",\"zerolinecolor\":\"white\",\"gridwidth\":2},\"zaxis\":{\"backgroundcolor\":\"#E5ECF6\",\"gridcolor\":\"white\",\"linecolor\":\"white\",\"showbackground\":true,\"ticks\":\"\",\"zerolinecolor\":\"white\",\"gridwidth\":2}},\"shapedefaults\":{\"line\":{\"color\":\"#2a3f5f\"}},\"annotationdefaults\":{\"arrowcolor\":\"#2a3f5f\",\"arrowhead\":0,\"arrowwidth\":1},\"geo\":{\"bgcolor\":\"white\",\"landcolor\":\"#E5ECF6\",\"subunitcolor\":\"white\",\"showland\":true,\"showlakes\":true,\"lakecolor\":\"white\"},\"title\":{\"x\":0.05},\"mapbox\":{\"style\":\"light\"}}},\"title\":{\"text\":\"Parity distribution by Race<br><sup><i>(n=219)</i></sup>\",\"x\":0,\"xref\":\"paper\"},\"xaxis\":{\"title\":{\"text\":\"Parity<br><sup><i>number of live births</i></sup>\"}},\"yaxis\":{\"title\":{\"text\":\"Percentage<br><sup><i>%</i></sup>\"}},\"barmode\":\"stack\"},                        {\"responsive\": true}                    ).then(function(){\n",
              "                            \n",
              "var gd = document.getElementById('30a5ffd9-be8d-4e7f-9297-bdea163296d7');\n",
              "var x = new MutationObserver(function (mutations, observer) {{\n",
              "        var display = window.getComputedStyle(gd).display;\n",
              "        if (!display || display === 'none') {{\n",
              "            console.log([gd, 'removed!']);\n",
              "            Plotly.purge(gd);\n",
              "            observer.disconnect();\n",
              "        }}\n",
              "}});\n",
              "\n",
              "// Listen for the removal of the full notebook cells\n",
              "var notebookContainer = gd.closest('#notebook-container');\n",
              "if (notebookContainer) {{\n",
              "    x.observe(notebookContainer, {childList: true});\n",
              "}}\n",
              "\n",
              "// Listen for the clearing of the current output cell\n",
              "var outputEl = gd.closest('.output');\n",
              "if (outputEl) {{\n",
              "    x.observe(outputEl, {childList: true});\n",
              "}}\n",
              "\n",
              "                        })                };                            </script>        </div>\n",
              "</body>\n",
              "</html>"
            ]
          },
          "metadata": {}
        }
      ]
    },
    {
      "cell_type": "code",
      "source": [
        "#@title\n",
        "par = df.groupby(['Parity', 'Breastfeeding']).size().reset_index(name='Counts')\n",
        "\n",
        "fig = go.Figure()\n",
        "for var in par.Breastfeeding.unique():\n",
        "  if var == 'YES':\n",
        "    colour = COLOURS[0]\n",
        "\n",
        "  else:\n",
        "    colour = COLOURS[3]\n",
        "\n",
        "  dft = par[par['Breastfeeding']==var].reset_index(drop=True)\n",
        "  dft['Percentage'] = round(dft['Counts']/par['Counts'].sum() * 100)\n",
        "  text = round(dft['Counts']/par['Counts'].sum() * 100)\n",
        "  fig.add_trace(go.Bar(x=dft['Parity']\n",
        "                       , y=dft['Percentage']\n",
        "                       , name=var\n",
        "                       , marker_color=colour\n",
        "                       , text=text))\n",
        "\n",
        "fig.update_layout(\n",
        "    title=go.layout.Title(\n",
        "        text=f\"Parity distribution by Breastfeeding<br><sup><i>(n={len(df)})</i></sup>\",\n",
        "        xref=\"paper\",\n",
        "         x=0\n",
        "     ),\n",
        "    xaxis=go.layout.XAxis(\n",
        "    title=go.layout.xaxis.Title(\n",
        "        text=\"Parity<br><sup><i>number of live births</i></sup>\"\n",
        "        )\n",
        "    ),\n",
        "    yaxis=go.layout.YAxis(\n",
        "    title=go.layout.yaxis.Title(\n",
        "        text=\"Percentage<br><sup><i>%</i></sup>\"\n",
        "        )\n",
        "    ),\n",
        "    barmode='stack',\n",
        "     )\n",
        "fig.show()"
      ],
      "metadata": {
        "colab": {
          "base_uri": "https://localhost:8080/",
          "height": 542
        },
        "id": "4neDR3gqgO4L",
        "outputId": "041f7414-a5be-4650-9597-c476837a574a"
      },
      "execution_count": 116,
      "outputs": [
        {
          "output_type": "display_data",
          "data": {
            "text/html": [
              "<html>\n",
              "<head><meta charset=\"utf-8\" /></head>\n",
              "<body>\n",
              "    <div>            <script src=\"https://cdnjs.cloudflare.com/ajax/libs/mathjax/2.7.5/MathJax.js?config=TeX-AMS-MML_SVG\"></script><script type=\"text/javascript\">if (window.MathJax && window.MathJax.Hub && window.MathJax.Hub.Config) {window.MathJax.Hub.Config({SVG: {font: \"STIX-Web\"}});}</script>                <script type=\"text/javascript\">window.PlotlyConfig = {MathJaxConfig: 'local'};</script>\n",
              "        <script src=\"https://cdn.plot.ly/plotly-2.18.2.min.js\"></script>                <div id=\"3dd0d6d5-56df-4df5-8067-b6bf2f9a24ac\" class=\"plotly-graph-div\" style=\"height:525px; width:100%;\"></div>            <script type=\"text/javascript\">                                    window.PLOTLYENV=window.PLOTLYENV || {};                                    if (document.getElementById(\"3dd0d6d5-56df-4df5-8067-b6bf2f9a24ac\")) {                    Plotly.newPlot(                        \"3dd0d6d5-56df-4df5-8067-b6bf2f9a24ac\",                        [{\"marker\":{\"color\":\"#c3c0c0\"},\"name\":\"NO\",\"text\":[10.0,7.0,2.0,0.0],\"x\":[1,2,3,6],\"y\":[10.0,7.0,2.0,0.0],\"type\":\"bar\"},{\"marker\":{\"color\":\"#191c40\"},\"name\":\"YES\",\"text\":[34.0,26.0,12.0,5.0,2.0,0.0,0.0,0.0],\"x\":[1,2,3,4,5,6,7,8],\"y\":[34.0,26.0,12.0,5.0,2.0,0.0,0.0,0.0],\"type\":\"bar\"}],                        {\"template\":{\"data\":{\"histogram2dcontour\":[{\"type\":\"histogram2dcontour\",\"colorbar\":{\"outlinewidth\":0,\"ticks\":\"\"},\"colorscale\":[[0.0,\"#0d0887\"],[0.1111111111111111,\"#46039f\"],[0.2222222222222222,\"#7201a8\"],[0.3333333333333333,\"#9c179e\"],[0.4444444444444444,\"#bd3786\"],[0.5555555555555556,\"#d8576b\"],[0.6666666666666666,\"#ed7953\"],[0.7777777777777778,\"#fb9f3a\"],[0.8888888888888888,\"#fdca26\"],[1.0,\"#f0f921\"]]}],\"choropleth\":[{\"type\":\"choropleth\",\"colorbar\":{\"outlinewidth\":0,\"ticks\":\"\"}}],\"histogram2d\":[{\"type\":\"histogram2d\",\"colorbar\":{\"outlinewidth\":0,\"ticks\":\"\"},\"colorscale\":[[0.0,\"#0d0887\"],[0.1111111111111111,\"#46039f\"],[0.2222222222222222,\"#7201a8\"],[0.3333333333333333,\"#9c179e\"],[0.4444444444444444,\"#bd3786\"],[0.5555555555555556,\"#d8576b\"],[0.6666666666666666,\"#ed7953\"],[0.7777777777777778,\"#fb9f3a\"],[0.8888888888888888,\"#fdca26\"],[1.0,\"#f0f921\"]]}],\"heatmap\":[{\"type\":\"heatmap\",\"colorbar\":{\"outlinewidth\":0,\"ticks\":\"\"},\"colorscale\":[[0.0,\"#0d0887\"],[0.1111111111111111,\"#46039f\"],[0.2222222222222222,\"#7201a8\"],[0.3333333333333333,\"#9c179e\"],[0.4444444444444444,\"#bd3786\"],[0.5555555555555556,\"#d8576b\"],[0.6666666666666666,\"#ed7953\"],[0.7777777777777778,\"#fb9f3a\"],[0.8888888888888888,\"#fdca26\"],[1.0,\"#f0f921\"]]}],\"heatmapgl\":[{\"type\":\"heatmapgl\",\"colorbar\":{\"outlinewidth\":0,\"ticks\":\"\"},\"colorscale\":[[0.0,\"#0d0887\"],[0.1111111111111111,\"#46039f\"],[0.2222222222222222,\"#7201a8\"],[0.3333333333333333,\"#9c179e\"],[0.4444444444444444,\"#bd3786\"],[0.5555555555555556,\"#d8576b\"],[0.6666666666666666,\"#ed7953\"],[0.7777777777777778,\"#fb9f3a\"],[0.8888888888888888,\"#fdca26\"],[1.0,\"#f0f921\"]]}],\"contourcarpet\":[{\"type\":\"contourcarpet\",\"colorbar\":{\"outlinewidth\":0,\"ticks\":\"\"}}],\"contour\":[{\"type\":\"contour\",\"colorbar\":{\"outlinewidth\":0,\"ticks\":\"\"},\"colorscale\":[[0.0,\"#0d0887\"],[0.1111111111111111,\"#46039f\"],[0.2222222222222222,\"#7201a8\"],[0.3333333333333333,\"#9c179e\"],[0.4444444444444444,\"#bd3786\"],[0.5555555555555556,\"#d8576b\"],[0.6666666666666666,\"#ed7953\"],[0.7777777777777778,\"#fb9f3a\"],[0.8888888888888888,\"#fdca26\"],[1.0,\"#f0f921\"]]}],\"surface\":[{\"type\":\"surface\",\"colorbar\":{\"outlinewidth\":0,\"ticks\":\"\"},\"colorscale\":[[0.0,\"#0d0887\"],[0.1111111111111111,\"#46039f\"],[0.2222222222222222,\"#7201a8\"],[0.3333333333333333,\"#9c179e\"],[0.4444444444444444,\"#bd3786\"],[0.5555555555555556,\"#d8576b\"],[0.6666666666666666,\"#ed7953\"],[0.7777777777777778,\"#fb9f3a\"],[0.8888888888888888,\"#fdca26\"],[1.0,\"#f0f921\"]]}],\"mesh3d\":[{\"type\":\"mesh3d\",\"colorbar\":{\"outlinewidth\":0,\"ticks\":\"\"}}],\"scatter\":[{\"fillpattern\":{\"fillmode\":\"overlay\",\"size\":10,\"solidity\":0.2},\"type\":\"scatter\"}],\"parcoords\":[{\"type\":\"parcoords\",\"line\":{\"colorbar\":{\"outlinewidth\":0,\"ticks\":\"\"}}}],\"scatterpolargl\":[{\"type\":\"scatterpolargl\",\"marker\":{\"colorbar\":{\"outlinewidth\":0,\"ticks\":\"\"}}}],\"bar\":[{\"error_x\":{\"color\":\"#2a3f5f\"},\"error_y\":{\"color\":\"#2a3f5f\"},\"marker\":{\"line\":{\"color\":\"#E5ECF6\",\"width\":0.5},\"pattern\":{\"fillmode\":\"overlay\",\"size\":10,\"solidity\":0.2}},\"type\":\"bar\"}],\"scattergeo\":[{\"type\":\"scattergeo\",\"marker\":{\"colorbar\":{\"outlinewidth\":0,\"ticks\":\"\"}}}],\"scatterpolar\":[{\"type\":\"scatterpolar\",\"marker\":{\"colorbar\":{\"outlinewidth\":0,\"ticks\":\"\"}}}],\"histogram\":[{\"marker\":{\"pattern\":{\"fillmode\":\"overlay\",\"size\":10,\"solidity\":0.2}},\"type\":\"histogram\"}],\"scattergl\":[{\"type\":\"scattergl\",\"marker\":{\"colorbar\":{\"outlinewidth\":0,\"ticks\":\"\"}}}],\"scatter3d\":[{\"type\":\"scatter3d\",\"line\":{\"colorbar\":{\"outlinewidth\":0,\"ticks\":\"\"}},\"marker\":{\"colorbar\":{\"outlinewidth\":0,\"ticks\":\"\"}}}],\"scattermapbox\":[{\"type\":\"scattermapbox\",\"marker\":{\"colorbar\":{\"outlinewidth\":0,\"ticks\":\"\"}}}],\"scatterternary\":[{\"type\":\"scatterternary\",\"marker\":{\"colorbar\":{\"outlinewidth\":0,\"ticks\":\"\"}}}],\"scattercarpet\":[{\"type\":\"scattercarpet\",\"marker\":{\"colorbar\":{\"outlinewidth\":0,\"ticks\":\"\"}}}],\"carpet\":[{\"aaxis\":{\"endlinecolor\":\"#2a3f5f\",\"gridcolor\":\"white\",\"linecolor\":\"white\",\"minorgridcolor\":\"white\",\"startlinecolor\":\"#2a3f5f\"},\"baxis\":{\"endlinecolor\":\"#2a3f5f\",\"gridcolor\":\"white\",\"linecolor\":\"white\",\"minorgridcolor\":\"white\",\"startlinecolor\":\"#2a3f5f\"},\"type\":\"carpet\"}],\"table\":[{\"cells\":{\"fill\":{\"color\":\"#EBF0F8\"},\"line\":{\"color\":\"white\"}},\"header\":{\"fill\":{\"color\":\"#C8D4E3\"},\"line\":{\"color\":\"white\"}},\"type\":\"table\"}],\"barpolar\":[{\"marker\":{\"line\":{\"color\":\"#E5ECF6\",\"width\":0.5},\"pattern\":{\"fillmode\":\"overlay\",\"size\":10,\"solidity\":0.2}},\"type\":\"barpolar\"}],\"pie\":[{\"automargin\":true,\"type\":\"pie\"}]},\"layout\":{\"autotypenumbers\":\"strict\",\"colorway\":[\"#636efa\",\"#EF553B\",\"#00cc96\",\"#ab63fa\",\"#FFA15A\",\"#19d3f3\",\"#FF6692\",\"#B6E880\",\"#FF97FF\",\"#FECB52\"],\"font\":{\"color\":\"#2a3f5f\"},\"hovermode\":\"closest\",\"hoverlabel\":{\"align\":\"left\"},\"paper_bgcolor\":\"white\",\"plot_bgcolor\":\"#E5ECF6\",\"polar\":{\"bgcolor\":\"#E5ECF6\",\"angularaxis\":{\"gridcolor\":\"white\",\"linecolor\":\"white\",\"ticks\":\"\"},\"radialaxis\":{\"gridcolor\":\"white\",\"linecolor\":\"white\",\"ticks\":\"\"}},\"ternary\":{\"bgcolor\":\"#E5ECF6\",\"aaxis\":{\"gridcolor\":\"white\",\"linecolor\":\"white\",\"ticks\":\"\"},\"baxis\":{\"gridcolor\":\"white\",\"linecolor\":\"white\",\"ticks\":\"\"},\"caxis\":{\"gridcolor\":\"white\",\"linecolor\":\"white\",\"ticks\":\"\"}},\"coloraxis\":{\"colorbar\":{\"outlinewidth\":0,\"ticks\":\"\"}},\"colorscale\":{\"sequential\":[[0.0,\"#0d0887\"],[0.1111111111111111,\"#46039f\"],[0.2222222222222222,\"#7201a8\"],[0.3333333333333333,\"#9c179e\"],[0.4444444444444444,\"#bd3786\"],[0.5555555555555556,\"#d8576b\"],[0.6666666666666666,\"#ed7953\"],[0.7777777777777778,\"#fb9f3a\"],[0.8888888888888888,\"#fdca26\"],[1.0,\"#f0f921\"]],\"sequentialminus\":[[0.0,\"#0d0887\"],[0.1111111111111111,\"#46039f\"],[0.2222222222222222,\"#7201a8\"],[0.3333333333333333,\"#9c179e\"],[0.4444444444444444,\"#bd3786\"],[0.5555555555555556,\"#d8576b\"],[0.6666666666666666,\"#ed7953\"],[0.7777777777777778,\"#fb9f3a\"],[0.8888888888888888,\"#fdca26\"],[1.0,\"#f0f921\"]],\"diverging\":[[0,\"#8e0152\"],[0.1,\"#c51b7d\"],[0.2,\"#de77ae\"],[0.3,\"#f1b6da\"],[0.4,\"#fde0ef\"],[0.5,\"#f7f7f7\"],[0.6,\"#e6f5d0\"],[0.7,\"#b8e186\"],[0.8,\"#7fbc41\"],[0.9,\"#4d9221\"],[1,\"#276419\"]]},\"xaxis\":{\"gridcolor\":\"white\",\"linecolor\":\"white\",\"ticks\":\"\",\"title\":{\"standoff\":15},\"zerolinecolor\":\"white\",\"automargin\":true,\"zerolinewidth\":2},\"yaxis\":{\"gridcolor\":\"white\",\"linecolor\":\"white\",\"ticks\":\"\",\"title\":{\"standoff\":15},\"zerolinecolor\":\"white\",\"automargin\":true,\"zerolinewidth\":2},\"scene\":{\"xaxis\":{\"backgroundcolor\":\"#E5ECF6\",\"gridcolor\":\"white\",\"linecolor\":\"white\",\"showbackground\":true,\"ticks\":\"\",\"zerolinecolor\":\"white\",\"gridwidth\":2},\"yaxis\":{\"backgroundcolor\":\"#E5ECF6\",\"gridcolor\":\"white\",\"linecolor\":\"white\",\"showbackground\":true,\"ticks\":\"\",\"zerolinecolor\":\"white\",\"gridwidth\":2},\"zaxis\":{\"backgroundcolor\":\"#E5ECF6\",\"gridcolor\":\"white\",\"linecolor\":\"white\",\"showbackground\":true,\"ticks\":\"\",\"zerolinecolor\":\"white\",\"gridwidth\":2}},\"shapedefaults\":{\"line\":{\"color\":\"#2a3f5f\"}},\"annotationdefaults\":{\"arrowcolor\":\"#2a3f5f\",\"arrowhead\":0,\"arrowwidth\":1},\"geo\":{\"bgcolor\":\"white\",\"landcolor\":\"#E5ECF6\",\"subunitcolor\":\"white\",\"showland\":true,\"showlakes\":true,\"lakecolor\":\"white\"},\"title\":{\"x\":0.05},\"mapbox\":{\"style\":\"light\"}}},\"title\":{\"text\":\"Parity distribution by Breastfeeding<br><sup><i>(n=219)</i></sup>\",\"x\":0,\"xref\":\"paper\"},\"xaxis\":{\"title\":{\"text\":\"Parity<br><sup><i>number of live births</i></sup>\"}},\"yaxis\":{\"title\":{\"text\":\"Percentage<br><sup><i>%</i></sup>\"}},\"barmode\":\"stack\"},                        {\"responsive\": true}                    ).then(function(){\n",
              "                            \n",
              "var gd = document.getElementById('3dd0d6d5-56df-4df5-8067-b6bf2f9a24ac');\n",
              "var x = new MutationObserver(function (mutations, observer) {{\n",
              "        var display = window.getComputedStyle(gd).display;\n",
              "        if (!display || display === 'none') {{\n",
              "            console.log([gd, 'removed!']);\n",
              "            Plotly.purge(gd);\n",
              "            observer.disconnect();\n",
              "        }}\n",
              "}});\n",
              "\n",
              "// Listen for the removal of the full notebook cells\n",
              "var notebookContainer = gd.closest('#notebook-container');\n",
              "if (notebookContainer) {{\n",
              "    x.observe(notebookContainer, {childList: true});\n",
              "}}\n",
              "\n",
              "// Listen for the clearing of the current output cell\n",
              "var outputEl = gd.closest('.output');\n",
              "if (outputEl) {{\n",
              "    x.observe(outputEl, {childList: true});\n",
              "}}\n",
              "\n",
              "                        })                };                            </script>        </div>\n",
              "</body>\n",
              "</html>"
            ]
          },
          "metadata": {}
        }
      ]
    },
    {
      "cell_type": "markdown",
      "metadata": {
        "id": "Hp9O0bw6yi-p"
      },
      "source": [
        "## **Correlations**\n"
      ]
    },
    {
      "cell_type": "code",
      "execution_count": 97,
      "metadata": {
        "cellView": "form",
        "id": "Qvwz3Tuxyi-p",
        "outputId": "d1ad3752-af83-4319-b4d7-5fb84d3a7b61",
        "colab": {
          "base_uri": "https://localhost:8080/",
          "height": 542
        }
      },
      "outputs": [
        {
          "output_type": "display_data",
          "data": {
            "text/html": [
              "<html>\n",
              "<head><meta charset=\"utf-8\" /></head>\n",
              "<body>\n",
              "    <div>            <script src=\"https://cdnjs.cloudflare.com/ajax/libs/mathjax/2.7.5/MathJax.js?config=TeX-AMS-MML_SVG\"></script><script type=\"text/javascript\">if (window.MathJax && window.MathJax.Hub && window.MathJax.Hub.Config) {window.MathJax.Hub.Config({SVG: {font: \"STIX-Web\"}});}</script>                <script type=\"text/javascript\">window.PlotlyConfig = {MathJaxConfig: 'local'};</script>\n",
              "        <script src=\"https://cdn.plot.ly/plotly-2.18.2.min.js\"></script>                <div id=\"a501763d-6a11-428f-95db-bcf1b81bc2f3\" class=\"plotly-graph-div\" style=\"height:525px; width:100%;\"></div>            <script type=\"text/javascript\">                                    window.PLOTLYENV=window.PLOTLYENV || {};                                    if (document.getElementById(\"a501763d-6a11-428f-95db-bcf1b81bc2f3\")) {                    Plotly.newPlot(                        \"a501763d-6a11-428f-95db-bcf1b81bc2f3\",                        [{\"hoverongaps\":true,\"text\":[[1.0,0.0993,0.1067,0.0409,0.0879,0.0494,0.0952],[0.0993,1.0,0.7876,0.093,0.1376,0.7284,0.1481],[0.1067,0.7876,1.0,0.1156,0.0429,0.6298,0.1426],[0.0409,0.093,0.1156,1.0,-0.0378,-0.484,-0.0058],[0.0879,0.1376,0.0429,-0.0378,1.0,0.1242,0.0921],[0.0494,0.7284,0.6298,-0.484,0.1242,1.0,0.1524],[0.0952,0.1481,0.1426,-0.0058,0.0921,0.1524,1.0]],\"texttemplate\":\"%{text}\",\"x\":[\"HbA1C\",\"BMI\",\"MUAC\",\"Creatinine\",\"ALT\",\"eGFR\",\"RandomGlucose\"],\"y\":[\"HbA1C\",\"BMI\",\"MUAC\",\"Creatinine\",\"ALT\",\"eGFR\",\"RandomGlucose\"],\"z\":[[1.0,0.0993,0.1067,0.0409,0.0879,0.0494,0.0952],[0.0993,1.0,0.7876,0.093,0.1376,0.7284,0.1481],[0.1067,0.7876,1.0,0.1156,0.0429,0.6298,0.1426],[0.0409,0.093,0.1156,1.0,-0.0378,-0.484,-0.0058],[0.0879,0.1376,0.0429,-0.0378,1.0,0.1242,0.0921],[0.0494,0.7284,0.6298,-0.484,0.1242,1.0,0.1524],[0.0952,0.1481,0.1426,-0.0058,0.0921,0.1524,1.0]],\"type\":\"heatmap\"}],                        {\"template\":{\"data\":{\"histogram2dcontour\":[{\"type\":\"histogram2dcontour\",\"colorbar\":{\"outlinewidth\":0,\"ticks\":\"\"},\"colorscale\":[[0.0,\"#0d0887\"],[0.1111111111111111,\"#46039f\"],[0.2222222222222222,\"#7201a8\"],[0.3333333333333333,\"#9c179e\"],[0.4444444444444444,\"#bd3786\"],[0.5555555555555556,\"#d8576b\"],[0.6666666666666666,\"#ed7953\"],[0.7777777777777778,\"#fb9f3a\"],[0.8888888888888888,\"#fdca26\"],[1.0,\"#f0f921\"]]}],\"choropleth\":[{\"type\":\"choropleth\",\"colorbar\":{\"outlinewidth\":0,\"ticks\":\"\"}}],\"histogram2d\":[{\"type\":\"histogram2d\",\"colorbar\":{\"outlinewidth\":0,\"ticks\":\"\"},\"colorscale\":[[0.0,\"#0d0887\"],[0.1111111111111111,\"#46039f\"],[0.2222222222222222,\"#7201a8\"],[0.3333333333333333,\"#9c179e\"],[0.4444444444444444,\"#bd3786\"],[0.5555555555555556,\"#d8576b\"],[0.6666666666666666,\"#ed7953\"],[0.7777777777777778,\"#fb9f3a\"],[0.8888888888888888,\"#fdca26\"],[1.0,\"#f0f921\"]]}],\"heatmap\":[{\"type\":\"heatmap\",\"colorbar\":{\"outlinewidth\":0,\"ticks\":\"\"},\"colorscale\":[[0.0,\"#0d0887\"],[0.1111111111111111,\"#46039f\"],[0.2222222222222222,\"#7201a8\"],[0.3333333333333333,\"#9c179e\"],[0.4444444444444444,\"#bd3786\"],[0.5555555555555556,\"#d8576b\"],[0.6666666666666666,\"#ed7953\"],[0.7777777777777778,\"#fb9f3a\"],[0.8888888888888888,\"#fdca26\"],[1.0,\"#f0f921\"]]}],\"heatmapgl\":[{\"type\":\"heatmapgl\",\"colorbar\":{\"outlinewidth\":0,\"ticks\":\"\"},\"colorscale\":[[0.0,\"#0d0887\"],[0.1111111111111111,\"#46039f\"],[0.2222222222222222,\"#7201a8\"],[0.3333333333333333,\"#9c179e\"],[0.4444444444444444,\"#bd3786\"],[0.5555555555555556,\"#d8576b\"],[0.6666666666666666,\"#ed7953\"],[0.7777777777777778,\"#fb9f3a\"],[0.8888888888888888,\"#fdca26\"],[1.0,\"#f0f921\"]]}],\"contourcarpet\":[{\"type\":\"contourcarpet\",\"colorbar\":{\"outlinewidth\":0,\"ticks\":\"\"}}],\"contour\":[{\"type\":\"contour\",\"colorbar\":{\"outlinewidth\":0,\"ticks\":\"\"},\"colorscale\":[[0.0,\"#0d0887\"],[0.1111111111111111,\"#46039f\"],[0.2222222222222222,\"#7201a8\"],[0.3333333333333333,\"#9c179e\"],[0.4444444444444444,\"#bd3786\"],[0.5555555555555556,\"#d8576b\"],[0.6666666666666666,\"#ed7953\"],[0.7777777777777778,\"#fb9f3a\"],[0.8888888888888888,\"#fdca26\"],[1.0,\"#f0f921\"]]}],\"surface\":[{\"type\":\"surface\",\"colorbar\":{\"outlinewidth\":0,\"ticks\":\"\"},\"colorscale\":[[0.0,\"#0d0887\"],[0.1111111111111111,\"#46039f\"],[0.2222222222222222,\"#7201a8\"],[0.3333333333333333,\"#9c179e\"],[0.4444444444444444,\"#bd3786\"],[0.5555555555555556,\"#d8576b\"],[0.6666666666666666,\"#ed7953\"],[0.7777777777777778,\"#fb9f3a\"],[0.8888888888888888,\"#fdca26\"],[1.0,\"#f0f921\"]]}],\"mesh3d\":[{\"type\":\"mesh3d\",\"colorbar\":{\"outlinewidth\":0,\"ticks\":\"\"}}],\"scatter\":[{\"fillpattern\":{\"fillmode\":\"overlay\",\"size\":10,\"solidity\":0.2},\"type\":\"scatter\"}],\"parcoords\":[{\"type\":\"parcoords\",\"line\":{\"colorbar\":{\"outlinewidth\":0,\"ticks\":\"\"}}}],\"scatterpolargl\":[{\"type\":\"scatterpolargl\",\"marker\":{\"colorbar\":{\"outlinewidth\":0,\"ticks\":\"\"}}}],\"bar\":[{\"error_x\":{\"color\":\"#2a3f5f\"},\"error_y\":{\"color\":\"#2a3f5f\"},\"marker\":{\"line\":{\"color\":\"#E5ECF6\",\"width\":0.5},\"pattern\":{\"fillmode\":\"overlay\",\"size\":10,\"solidity\":0.2}},\"type\":\"bar\"}],\"scattergeo\":[{\"type\":\"scattergeo\",\"marker\":{\"colorbar\":{\"outlinewidth\":0,\"ticks\":\"\"}}}],\"scatterpolar\":[{\"type\":\"scatterpolar\",\"marker\":{\"colorbar\":{\"outlinewidth\":0,\"ticks\":\"\"}}}],\"histogram\":[{\"marker\":{\"pattern\":{\"fillmode\":\"overlay\",\"size\":10,\"solidity\":0.2}},\"type\":\"histogram\"}],\"scattergl\":[{\"type\":\"scattergl\",\"marker\":{\"colorbar\":{\"outlinewidth\":0,\"ticks\":\"\"}}}],\"scatter3d\":[{\"type\":\"scatter3d\",\"line\":{\"colorbar\":{\"outlinewidth\":0,\"ticks\":\"\"}},\"marker\":{\"colorbar\":{\"outlinewidth\":0,\"ticks\":\"\"}}}],\"scattermapbox\":[{\"type\":\"scattermapbox\",\"marker\":{\"colorbar\":{\"outlinewidth\":0,\"ticks\":\"\"}}}],\"scatterternary\":[{\"type\":\"scatterternary\",\"marker\":{\"colorbar\":{\"outlinewidth\":0,\"ticks\":\"\"}}}],\"scattercarpet\":[{\"type\":\"scattercarpet\",\"marker\":{\"colorbar\":{\"outlinewidth\":0,\"ticks\":\"\"}}}],\"carpet\":[{\"aaxis\":{\"endlinecolor\":\"#2a3f5f\",\"gridcolor\":\"white\",\"linecolor\":\"white\",\"minorgridcolor\":\"white\",\"startlinecolor\":\"#2a3f5f\"},\"baxis\":{\"endlinecolor\":\"#2a3f5f\",\"gridcolor\":\"white\",\"linecolor\":\"white\",\"minorgridcolor\":\"white\",\"startlinecolor\":\"#2a3f5f\"},\"type\":\"carpet\"}],\"table\":[{\"cells\":{\"fill\":{\"color\":\"#EBF0F8\"},\"line\":{\"color\":\"white\"}},\"header\":{\"fill\":{\"color\":\"#C8D4E3\"},\"line\":{\"color\":\"white\"}},\"type\":\"table\"}],\"barpolar\":[{\"marker\":{\"line\":{\"color\":\"#E5ECF6\",\"width\":0.5},\"pattern\":{\"fillmode\":\"overlay\",\"size\":10,\"solidity\":0.2}},\"type\":\"barpolar\"}],\"pie\":[{\"automargin\":true,\"type\":\"pie\"}]},\"layout\":{\"autotypenumbers\":\"strict\",\"colorway\":[\"#636efa\",\"#EF553B\",\"#00cc96\",\"#ab63fa\",\"#FFA15A\",\"#19d3f3\",\"#FF6692\",\"#B6E880\",\"#FF97FF\",\"#FECB52\"],\"font\":{\"color\":\"#2a3f5f\"},\"hovermode\":\"closest\",\"hoverlabel\":{\"align\":\"left\"},\"paper_bgcolor\":\"white\",\"plot_bgcolor\":\"#E5ECF6\",\"polar\":{\"bgcolor\":\"#E5ECF6\",\"angularaxis\":{\"gridcolor\":\"white\",\"linecolor\":\"white\",\"ticks\":\"\"},\"radialaxis\":{\"gridcolor\":\"white\",\"linecolor\":\"white\",\"ticks\":\"\"}},\"ternary\":{\"bgcolor\":\"#E5ECF6\",\"aaxis\":{\"gridcolor\":\"white\",\"linecolor\":\"white\",\"ticks\":\"\"},\"baxis\":{\"gridcolor\":\"white\",\"linecolor\":\"white\",\"ticks\":\"\"},\"caxis\":{\"gridcolor\":\"white\",\"linecolor\":\"white\",\"ticks\":\"\"}},\"coloraxis\":{\"colorbar\":{\"outlinewidth\":0,\"ticks\":\"\"}},\"colorscale\":{\"sequential\":[[0.0,\"#0d0887\"],[0.1111111111111111,\"#46039f\"],[0.2222222222222222,\"#7201a8\"],[0.3333333333333333,\"#9c179e\"],[0.4444444444444444,\"#bd3786\"],[0.5555555555555556,\"#d8576b\"],[0.6666666666666666,\"#ed7953\"],[0.7777777777777778,\"#fb9f3a\"],[0.8888888888888888,\"#fdca26\"],[1.0,\"#f0f921\"]],\"sequentialminus\":[[0.0,\"#0d0887\"],[0.1111111111111111,\"#46039f\"],[0.2222222222222222,\"#7201a8\"],[0.3333333333333333,\"#9c179e\"],[0.4444444444444444,\"#bd3786\"],[0.5555555555555556,\"#d8576b\"],[0.6666666666666666,\"#ed7953\"],[0.7777777777777778,\"#fb9f3a\"],[0.8888888888888888,\"#fdca26\"],[1.0,\"#f0f921\"]],\"diverging\":[[0,\"#8e0152\"],[0.1,\"#c51b7d\"],[0.2,\"#de77ae\"],[0.3,\"#f1b6da\"],[0.4,\"#fde0ef\"],[0.5,\"#f7f7f7\"],[0.6,\"#e6f5d0\"],[0.7,\"#b8e186\"],[0.8,\"#7fbc41\"],[0.9,\"#4d9221\"],[1,\"#276419\"]]},\"xaxis\":{\"gridcolor\":\"white\",\"linecolor\":\"white\",\"ticks\":\"\",\"title\":{\"standoff\":15},\"zerolinecolor\":\"white\",\"automargin\":true,\"zerolinewidth\":2},\"yaxis\":{\"gridcolor\":\"white\",\"linecolor\":\"white\",\"ticks\":\"\",\"title\":{\"standoff\":15},\"zerolinecolor\":\"white\",\"automargin\":true,\"zerolinewidth\":2},\"scene\":{\"xaxis\":{\"backgroundcolor\":\"#E5ECF6\",\"gridcolor\":\"white\",\"linecolor\":\"white\",\"showbackground\":true,\"ticks\":\"\",\"zerolinecolor\":\"white\",\"gridwidth\":2},\"yaxis\":{\"backgroundcolor\":\"#E5ECF6\",\"gridcolor\":\"white\",\"linecolor\":\"white\",\"showbackground\":true,\"ticks\":\"\",\"zerolinecolor\":\"white\",\"gridwidth\":2},\"zaxis\":{\"backgroundcolor\":\"#E5ECF6\",\"gridcolor\":\"white\",\"linecolor\":\"white\",\"showbackground\":true,\"ticks\":\"\",\"zerolinecolor\":\"white\",\"gridwidth\":2}},\"shapedefaults\":{\"line\":{\"color\":\"#2a3f5f\"}},\"annotationdefaults\":{\"arrowcolor\":\"#2a3f5f\",\"arrowhead\":0,\"arrowwidth\":1},\"geo\":{\"bgcolor\":\"white\",\"landcolor\":\"#E5ECF6\",\"subunitcolor\":\"white\",\"showland\":true,\"showlakes\":true,\"lakecolor\":\"white\"},\"title\":{\"x\":0.05},\"mapbox\":{\"style\":\"light\"}}},\"title\":{\"text\":\"Correlation matrix<br><sup><i>(n=219)</i></sup>\"},\"showlegend\":false},                        {\"responsive\": true}                    ).then(function(){\n",
              "                            \n",
              "var gd = document.getElementById('a501763d-6a11-428f-95db-bcf1b81bc2f3');\n",
              "var x = new MutationObserver(function (mutations, observer) {{\n",
              "        var display = window.getComputedStyle(gd).display;\n",
              "        if (!display || display === 'none') {{\n",
              "            console.log([gd, 'removed!']);\n",
              "            Plotly.purge(gd);\n",
              "            observer.disconnect();\n",
              "        }}\n",
              "}});\n",
              "\n",
              "// Listen for the removal of the full notebook cells\n",
              "var notebookContainer = gd.closest('#notebook-container');\n",
              "if (notebookContainer) {{\n",
              "    x.observe(notebookContainer, {childList: true});\n",
              "}}\n",
              "\n",
              "// Listen for the clearing of the current output cell\n",
              "var outputEl = gd.closest('.output');\n",
              "if (outputEl) {{\n",
              "    x.observe(outputEl, {childList: true});\n",
              "}}\n",
              "\n",
              "                        })                };                            </script>        </div>\n",
              "</body>\n",
              "</html>"
            ]
          },
          "metadata": {}
        }
      ],
      "source": [
        "#@title\n",
        "columns = ['HbA1C', 'BMI', 'MUAC', 'Creatinine', 'ALT', 'eGFR', 'RandomGlucose']\n",
        "values = []\n",
        "\n",
        "for x in columns:\n",
        "    vals = []\n",
        "    for y in columns:\n",
        "        corr = round(df[x].corr(df[y]),4)\n",
        "        vals.append(corr)\n",
        "    values.append(vals)\n",
        "\n",
        "fig = go.Figure(data=go.Heatmap(\n",
        "                   z=values,\n",
        "                   x=columns,\n",
        "                   y=columns,\n",
        "                   text=values,\n",
        "                   texttemplate=\"%{text}\",\n",
        "                   hoverongaps = True, ))\n",
        "\n",
        "fig.update_layout(\n",
        "    #title='Creatinine > 80',\n",
        "    title=f\"Correlation matrix<br><sup><i>(n={len(df)})</i></sup>\",\n",
        "    showlegend=False,\n",
        ")\n",
        "\n",
        "fig.show()"
      ]
    },
    {
      "cell_type": "markdown",
      "metadata": {
        "id": "mps1fo4oyi-p"
      },
      "source": [
        "### MUAC vs BMI by race"
      ]
    },
    {
      "cell_type": "code",
      "source": [
        "#@title\n",
        "fig = go.Figure()\n",
        "\n",
        "for count, race in enumerate(df.Race.unique()):\n",
        "    dft = df[df['Race']==race]\n",
        "    name = f\"{race}<br><sup><i>(n={len(dft)})</i></sup>\"\n",
        "    fig.add_trace(go.Box(y=dft['BMI'], \n",
        "                        name = name,\n",
        "                        notched=True,\n",
        "                        jitter=0.3,\n",
        "                        marker_color = COLOURS[count],\n",
        "                        pointpos=-1.8,\n",
        "                        boxpoints='all', # represent all points\n",
        "                    ))\n",
        "\n",
        "fig.add_trace(go.Box(y=df['BMI'], \n",
        "                    name = f\"All<br><sup><i>(n={len(df)})</i></sup>\",\n",
        "                    notched=True,\n",
        "                    jitter=0.3,\n",
        "                    marker_color = COLOURS[10],\n",
        "                    pointpos=-1.8,\n",
        "                    boxpoints='all', # represent all points\n",
        "                ))\n",
        "\n",
        "fig.update_layout(\n",
        "    title=f\"BMI spread by race<br><sup><i>(n={len(df)})</i></sup>\",\n",
        "    showlegend=False,\n",
        "    yaxis=go.layout.YAxis(\n",
        "    title=go.layout.yaxis.Title(\n",
        "        text=\"BMI\"\n",
        "        )\n",
        "    )\n",
        ")\n",
        "\n",
        "\n",
        "\n",
        "fig.show()"
      ],
      "metadata": {
        "colab": {
          "base_uri": "https://localhost:8080/",
          "height": 542
        },
        "id": "Yqqu98l9Vg15",
        "outputId": "c57c022b-9de2-45d1-a986-5173f12c2405"
      },
      "execution_count": 98,
      "outputs": [
        {
          "output_type": "display_data",
          "data": {
            "text/html": [
              "<html>\n",
              "<head><meta charset=\"utf-8\" /></head>\n",
              "<body>\n",
              "    <div>            <script src=\"https://cdnjs.cloudflare.com/ajax/libs/mathjax/2.7.5/MathJax.js?config=TeX-AMS-MML_SVG\"></script><script type=\"text/javascript\">if (window.MathJax && window.MathJax.Hub && window.MathJax.Hub.Config) {window.MathJax.Hub.Config({SVG: {font: \"STIX-Web\"}});}</script>                <script type=\"text/javascript\">window.PlotlyConfig = {MathJaxConfig: 'local'};</script>\n",
              "        <script src=\"https://cdn.plot.ly/plotly-2.18.2.min.js\"></script>                <div id=\"23fedc5d-eb5e-46c0-9f2b-bfdeb3be320d\" class=\"plotly-graph-div\" style=\"height:525px; width:100%;\"></div>            <script type=\"text/javascript\">                                    window.PLOTLYENV=window.PLOTLYENV || {};                                    if (document.getElementById(\"23fedc5d-eb5e-46c0-9f2b-bfdeb3be320d\")) {                    Plotly.newPlot(                        \"23fedc5d-eb5e-46c0-9f2b-bfdeb3be320d\",                        [{\"boxpoints\":\"all\",\"jitter\":0.3,\"marker\":{\"color\":\"#191c40\"},\"name\":\"WHITE<br><sup><i>(n=104)</i></sup>\",\"notched\":true,\"pointpos\":-1.8,\"y\":[24.85,33.52,28.04,25.32,21.94,28.16,25.18,28.46,36.44,23.23,37.81,22.49,30.28,30.71,25.25,20.87,30.79,26.61,25.29,18.0,25.08,19.05,34.13,42.1,22.92,23.78,31.05,32.72,28.31,28.87,29.17,29.91,24.0,35.71,30.48,38.8,23.58,23.49,26.27,30.27,25.9,29.43,30.05,20.88,25.79,28.34,29.51,30.37,25.61,26.97,31.05,26.41,28.08,29.88,34.17,29.3,40.6,25.92,33.09,24.02,21.22,65.92,22.64,36.13,26.47,24.24,23.6,27.48,42.98,27.85,29.68,18.29,25.97,31.09,28.06,28.39,27.07,43.65,29.53,29.46,23.41,26.82,31.57,26.87,22.59,30.34,22.66,28.51,27.64,31.33,21.86,45.71,29.96,35.99,39.82,36.05,24.17,37.85,21.12,30.26,28.6,22.19,26.75,21.56],\"type\":\"box\"},{\"boxpoints\":\"all\",\"jitter\":0.3,\"marker\":{\"color\":\"#404472\"},\"name\":\"MIXED<br><sup><i>(n=12)</i></sup>\",\"notched\":true,\"pointpos\":-1.8,\"y\":[22.31,25.66,31.34,28.28,30.73,27.85,23.42,23.51,25.88,38.94,39.35,42.78],\"type\":\"box\"},{\"boxpoints\":\"all\",\"jitter\":0.3,\"marker\":{\"color\":\"#5c5f7c\"},\"name\":\"BLACK<br><sup><i>(n=49)</i></sup>\",\"notched\":true,\"pointpos\":-1.8,\"y\":[22.73,33.57,21.53,35.28,28.42,34.12,42.39,43.81,39.98,31.25,27.63,29.97,37.78,36.55,24.54,28.25,24.84,46.48,30.44,24.49,19.99,24.77,43.25,30.86,27.27,25.88,32.92,30.99,26.05,28.83,26.93,34.16,29.92,32.96,24.14,31.07,21.64,37.92,29.76,44.66,38.79,27.66,31.61,33.12,31.35,33.06,26.49,33.41,36.49],\"type\":\"box\"},{\"boxpoints\":\"all\",\"jitter\":0.3,\"marker\":{\"color\":\"#c3c0c0\"},\"name\":\"ASIAN<br><sup><i>(n=54)</i></sup>\",\"notched\":true,\"pointpos\":-1.8,\"y\":[22.77,27.66,28.89,26.1,23.02,23.24,27.74,22.07,20.85,27.56,33.89,29.27,21.98,26.18,30.49,29.29,25.77,25.43,24.84,29.3,29.43,29.48,28.27,23.27,30.75,29.9,35.88,36.13,23.01,30.49,29.8,32.96,21.7,36.42,25.62,28.04,20.78,32.17,20.91,22.31,27.84,31.73,32.34,35.18,20.33,26.23,23.73,28.09,25.97,22.56,23.01,22.27,24.54,25.0],\"type\":\"box\"},{\"boxpoints\":\"all\",\"jitter\":0.3,\"marker\":{\"color\":\"#b29758\"},\"name\":\"All<br><sup><i>(n=219)</i></sup>\",\"notched\":true,\"pointpos\":-1.8,\"y\":[24.85,22.31,22.73,33.52,28.04,25.32,33.57,22.77,21.94,27.66,21.53,35.28,28.42,28.89,26.1,23.02,28.16,25.18,28.46,25.66,36.44,23.23,37.81,22.49,34.12,42.39,30.28,43.81,23.24,27.74,31.34,30.71,25.25,20.87,39.98,30.79,31.25,22.07,28.28,20.85,27.56,33.89,27.63,29.27,26.61,25.29,29.97,18.0,25.08,37.78,19.05,36.55,21.98,34.13,24.54,42.1,22.92,26.18,30.49,29.29,23.78,31.05,25.77,32.72,28.31,28.87,25.43,24.84,28.25,24.84,46.48,29.17,29.91,24.0,35.71,30.73,30.44,30.48,38.8,23.58,23.49,26.27,24.49,30.27,19.99,25.9,29.43,24.77,30.05,20.88,25.79,28.34,27.85,29.51,30.37,43.25,25.61,29.3,29.43,30.86,29.48,28.27,26.97,23.27,30.75,29.9,31.05,27.27,23.42,23.51,35.88,25.88,26.41,28.08,32.92,30.99,29.88,26.05,34.17,36.13,29.3,40.6,25.92,33.09,28.83,23.01,30.49,24.02,21.22,65.92,25.88,22.64,36.13,26.47,29.8,24.24,23.6,27.48,32.96,42.98,27.85,21.7,29.68,18.29,25.97,31.09,36.42,26.93,34.16,38.94,28.06,25.62,28.04,28.39,27.07,20.78,43.65,29.53,32.17,29.92,32.96,29.46,39.35,23.41,26.82,20.91,24.14,22.31,31.57,31.07,42.78,27.84,26.87,31.73,32.34,35.18,21.64,37.92,22.59,29.76,30.34,22.66,20.33,28.51,26.23,27.64,44.66,31.33,21.86,45.71,38.79,27.66,23.73,29.96,35.99,28.09,39.82,25.97,31.61,22.56,23.01,36.05,24.17,22.27,24.54,37.85,21.12,30.26,33.12,31.35,28.6,22.19,25.0,33.06,26.49,26.75,21.56,33.41,36.49],\"type\":\"box\"}],                        {\"template\":{\"data\":{\"histogram2dcontour\":[{\"type\":\"histogram2dcontour\",\"colorbar\":{\"outlinewidth\":0,\"ticks\":\"\"},\"colorscale\":[[0.0,\"#0d0887\"],[0.1111111111111111,\"#46039f\"],[0.2222222222222222,\"#7201a8\"],[0.3333333333333333,\"#9c179e\"],[0.4444444444444444,\"#bd3786\"],[0.5555555555555556,\"#d8576b\"],[0.6666666666666666,\"#ed7953\"],[0.7777777777777778,\"#fb9f3a\"],[0.8888888888888888,\"#fdca26\"],[1.0,\"#f0f921\"]]}],\"choropleth\":[{\"type\":\"choropleth\",\"colorbar\":{\"outlinewidth\":0,\"ticks\":\"\"}}],\"histogram2d\":[{\"type\":\"histogram2d\",\"colorbar\":{\"outlinewidth\":0,\"ticks\":\"\"},\"colorscale\":[[0.0,\"#0d0887\"],[0.1111111111111111,\"#46039f\"],[0.2222222222222222,\"#7201a8\"],[0.3333333333333333,\"#9c179e\"],[0.4444444444444444,\"#bd3786\"],[0.5555555555555556,\"#d8576b\"],[0.6666666666666666,\"#ed7953\"],[0.7777777777777778,\"#fb9f3a\"],[0.8888888888888888,\"#fdca26\"],[1.0,\"#f0f921\"]]}],\"heatmap\":[{\"type\":\"heatmap\",\"colorbar\":{\"outlinewidth\":0,\"ticks\":\"\"},\"colorscale\":[[0.0,\"#0d0887\"],[0.1111111111111111,\"#46039f\"],[0.2222222222222222,\"#7201a8\"],[0.3333333333333333,\"#9c179e\"],[0.4444444444444444,\"#bd3786\"],[0.5555555555555556,\"#d8576b\"],[0.6666666666666666,\"#ed7953\"],[0.7777777777777778,\"#fb9f3a\"],[0.8888888888888888,\"#fdca26\"],[1.0,\"#f0f921\"]]}],\"heatmapgl\":[{\"type\":\"heatmapgl\",\"colorbar\":{\"outlinewidth\":0,\"ticks\":\"\"},\"colorscale\":[[0.0,\"#0d0887\"],[0.1111111111111111,\"#46039f\"],[0.2222222222222222,\"#7201a8\"],[0.3333333333333333,\"#9c179e\"],[0.4444444444444444,\"#bd3786\"],[0.5555555555555556,\"#d8576b\"],[0.6666666666666666,\"#ed7953\"],[0.7777777777777778,\"#fb9f3a\"],[0.8888888888888888,\"#fdca26\"],[1.0,\"#f0f921\"]]}],\"contourcarpet\":[{\"type\":\"contourcarpet\",\"colorbar\":{\"outlinewidth\":0,\"ticks\":\"\"}}],\"contour\":[{\"type\":\"contour\",\"colorbar\":{\"outlinewidth\":0,\"ticks\":\"\"},\"colorscale\":[[0.0,\"#0d0887\"],[0.1111111111111111,\"#46039f\"],[0.2222222222222222,\"#7201a8\"],[0.3333333333333333,\"#9c179e\"],[0.4444444444444444,\"#bd3786\"],[0.5555555555555556,\"#d8576b\"],[0.6666666666666666,\"#ed7953\"],[0.7777777777777778,\"#fb9f3a\"],[0.8888888888888888,\"#fdca26\"],[1.0,\"#f0f921\"]]}],\"surface\":[{\"type\":\"surface\",\"colorbar\":{\"outlinewidth\":0,\"ticks\":\"\"},\"colorscale\":[[0.0,\"#0d0887\"],[0.1111111111111111,\"#46039f\"],[0.2222222222222222,\"#7201a8\"],[0.3333333333333333,\"#9c179e\"],[0.4444444444444444,\"#bd3786\"],[0.5555555555555556,\"#d8576b\"],[0.6666666666666666,\"#ed7953\"],[0.7777777777777778,\"#fb9f3a\"],[0.8888888888888888,\"#fdca26\"],[1.0,\"#f0f921\"]]}],\"mesh3d\":[{\"type\":\"mesh3d\",\"colorbar\":{\"outlinewidth\":0,\"ticks\":\"\"}}],\"scatter\":[{\"fillpattern\":{\"fillmode\":\"overlay\",\"size\":10,\"solidity\":0.2},\"type\":\"scatter\"}],\"parcoords\":[{\"type\":\"parcoords\",\"line\":{\"colorbar\":{\"outlinewidth\":0,\"ticks\":\"\"}}}],\"scatterpolargl\":[{\"type\":\"scatterpolargl\",\"marker\":{\"colorbar\":{\"outlinewidth\":0,\"ticks\":\"\"}}}],\"bar\":[{\"error_x\":{\"color\":\"#2a3f5f\"},\"error_y\":{\"color\":\"#2a3f5f\"},\"marker\":{\"line\":{\"color\":\"#E5ECF6\",\"width\":0.5},\"pattern\":{\"fillmode\":\"overlay\",\"size\":10,\"solidity\":0.2}},\"type\":\"bar\"}],\"scattergeo\":[{\"type\":\"scattergeo\",\"marker\":{\"colorbar\":{\"outlinewidth\":0,\"ticks\":\"\"}}}],\"scatterpolar\":[{\"type\":\"scatterpolar\",\"marker\":{\"colorbar\":{\"outlinewidth\":0,\"ticks\":\"\"}}}],\"histogram\":[{\"marker\":{\"pattern\":{\"fillmode\":\"overlay\",\"size\":10,\"solidity\":0.2}},\"type\":\"histogram\"}],\"scattergl\":[{\"type\":\"scattergl\",\"marker\":{\"colorbar\":{\"outlinewidth\":0,\"ticks\":\"\"}}}],\"scatter3d\":[{\"type\":\"scatter3d\",\"line\":{\"colorbar\":{\"outlinewidth\":0,\"ticks\":\"\"}},\"marker\":{\"colorbar\":{\"outlinewidth\":0,\"ticks\":\"\"}}}],\"scattermapbox\":[{\"type\":\"scattermapbox\",\"marker\":{\"colorbar\":{\"outlinewidth\":0,\"ticks\":\"\"}}}],\"scatterternary\":[{\"type\":\"scatterternary\",\"marker\":{\"colorbar\":{\"outlinewidth\":0,\"ticks\":\"\"}}}],\"scattercarpet\":[{\"type\":\"scattercarpet\",\"marker\":{\"colorbar\":{\"outlinewidth\":0,\"ticks\":\"\"}}}],\"carpet\":[{\"aaxis\":{\"endlinecolor\":\"#2a3f5f\",\"gridcolor\":\"white\",\"linecolor\":\"white\",\"minorgridcolor\":\"white\",\"startlinecolor\":\"#2a3f5f\"},\"baxis\":{\"endlinecolor\":\"#2a3f5f\",\"gridcolor\":\"white\",\"linecolor\":\"white\",\"minorgridcolor\":\"white\",\"startlinecolor\":\"#2a3f5f\"},\"type\":\"carpet\"}],\"table\":[{\"cells\":{\"fill\":{\"color\":\"#EBF0F8\"},\"line\":{\"color\":\"white\"}},\"header\":{\"fill\":{\"color\":\"#C8D4E3\"},\"line\":{\"color\":\"white\"}},\"type\":\"table\"}],\"barpolar\":[{\"marker\":{\"line\":{\"color\":\"#E5ECF6\",\"width\":0.5},\"pattern\":{\"fillmode\":\"overlay\",\"size\":10,\"solidity\":0.2}},\"type\":\"barpolar\"}],\"pie\":[{\"automargin\":true,\"type\":\"pie\"}]},\"layout\":{\"autotypenumbers\":\"strict\",\"colorway\":[\"#636efa\",\"#EF553B\",\"#00cc96\",\"#ab63fa\",\"#FFA15A\",\"#19d3f3\",\"#FF6692\",\"#B6E880\",\"#FF97FF\",\"#FECB52\"],\"font\":{\"color\":\"#2a3f5f\"},\"hovermode\":\"closest\",\"hoverlabel\":{\"align\":\"left\"},\"paper_bgcolor\":\"white\",\"plot_bgcolor\":\"#E5ECF6\",\"polar\":{\"bgcolor\":\"#E5ECF6\",\"angularaxis\":{\"gridcolor\":\"white\",\"linecolor\":\"white\",\"ticks\":\"\"},\"radialaxis\":{\"gridcolor\":\"white\",\"linecolor\":\"white\",\"ticks\":\"\"}},\"ternary\":{\"bgcolor\":\"#E5ECF6\",\"aaxis\":{\"gridcolor\":\"white\",\"linecolor\":\"white\",\"ticks\":\"\"},\"baxis\":{\"gridcolor\":\"white\",\"linecolor\":\"white\",\"ticks\":\"\"},\"caxis\":{\"gridcolor\":\"white\",\"linecolor\":\"white\",\"ticks\":\"\"}},\"coloraxis\":{\"colorbar\":{\"outlinewidth\":0,\"ticks\":\"\"}},\"colorscale\":{\"sequential\":[[0.0,\"#0d0887\"],[0.1111111111111111,\"#46039f\"],[0.2222222222222222,\"#7201a8\"],[0.3333333333333333,\"#9c179e\"],[0.4444444444444444,\"#bd3786\"],[0.5555555555555556,\"#d8576b\"],[0.6666666666666666,\"#ed7953\"],[0.7777777777777778,\"#fb9f3a\"],[0.8888888888888888,\"#fdca26\"],[1.0,\"#f0f921\"]],\"sequentialminus\":[[0.0,\"#0d0887\"],[0.1111111111111111,\"#46039f\"],[0.2222222222222222,\"#7201a8\"],[0.3333333333333333,\"#9c179e\"],[0.4444444444444444,\"#bd3786\"],[0.5555555555555556,\"#d8576b\"],[0.6666666666666666,\"#ed7953\"],[0.7777777777777778,\"#fb9f3a\"],[0.8888888888888888,\"#fdca26\"],[1.0,\"#f0f921\"]],\"diverging\":[[0,\"#8e0152\"],[0.1,\"#c51b7d\"],[0.2,\"#de77ae\"],[0.3,\"#f1b6da\"],[0.4,\"#fde0ef\"],[0.5,\"#f7f7f7\"],[0.6,\"#e6f5d0\"],[0.7,\"#b8e186\"],[0.8,\"#7fbc41\"],[0.9,\"#4d9221\"],[1,\"#276419\"]]},\"xaxis\":{\"gridcolor\":\"white\",\"linecolor\":\"white\",\"ticks\":\"\",\"title\":{\"standoff\":15},\"zerolinecolor\":\"white\",\"automargin\":true,\"zerolinewidth\":2},\"yaxis\":{\"gridcolor\":\"white\",\"linecolor\":\"white\",\"ticks\":\"\",\"title\":{\"standoff\":15},\"zerolinecolor\":\"white\",\"automargin\":true,\"zerolinewidth\":2},\"scene\":{\"xaxis\":{\"backgroundcolor\":\"#E5ECF6\",\"gridcolor\":\"white\",\"linecolor\":\"white\",\"showbackground\":true,\"ticks\":\"\",\"zerolinecolor\":\"white\",\"gridwidth\":2},\"yaxis\":{\"backgroundcolor\":\"#E5ECF6\",\"gridcolor\":\"white\",\"linecolor\":\"white\",\"showbackground\":true,\"ticks\":\"\",\"zerolinecolor\":\"white\",\"gridwidth\":2},\"zaxis\":{\"backgroundcolor\":\"#E5ECF6\",\"gridcolor\":\"white\",\"linecolor\":\"white\",\"showbackground\":true,\"ticks\":\"\",\"zerolinecolor\":\"white\",\"gridwidth\":2}},\"shapedefaults\":{\"line\":{\"color\":\"#2a3f5f\"}},\"annotationdefaults\":{\"arrowcolor\":\"#2a3f5f\",\"arrowhead\":0,\"arrowwidth\":1},\"geo\":{\"bgcolor\":\"white\",\"landcolor\":\"#E5ECF6\",\"subunitcolor\":\"white\",\"showland\":true,\"showlakes\":true,\"lakecolor\":\"white\"},\"title\":{\"x\":0.05},\"mapbox\":{\"style\":\"light\"}}},\"title\":{\"text\":\"BMI spread by race<br><sup><i>(n=219)</i></sup>\"},\"showlegend\":false,\"yaxis\":{\"title\":{\"text\":\"BMI\"}}},                        {\"responsive\": true}                    ).then(function(){\n",
              "                            \n",
              "var gd = document.getElementById('23fedc5d-eb5e-46c0-9f2b-bfdeb3be320d');\n",
              "var x = new MutationObserver(function (mutations, observer) {{\n",
              "        var display = window.getComputedStyle(gd).display;\n",
              "        if (!display || display === 'none') {{\n",
              "            console.log([gd, 'removed!']);\n",
              "            Plotly.purge(gd);\n",
              "            observer.disconnect();\n",
              "        }}\n",
              "}});\n",
              "\n",
              "// Listen for the removal of the full notebook cells\n",
              "var notebookContainer = gd.closest('#notebook-container');\n",
              "if (notebookContainer) {{\n",
              "    x.observe(notebookContainer, {childList: true});\n",
              "}}\n",
              "\n",
              "// Listen for the clearing of the current output cell\n",
              "var outputEl = gd.closest('.output');\n",
              "if (outputEl) {{\n",
              "    x.observe(outputEl, {childList: true});\n",
              "}}\n",
              "\n",
              "                        })                };                            </script>        </div>\n",
              "</body>\n",
              "</html>"
            ]
          },
          "metadata": {}
        }
      ]
    },
    {
      "cell_type": "code",
      "execution_count": 99,
      "metadata": {
        "id": "oqX4DY9_yi-p",
        "outputId": "35324983-d2f9-4f58-9eac-27797a30cbbc",
        "colab": {
          "base_uri": "https://localhost:8080/",
          "height": 542
        }
      },
      "outputs": [
        {
          "output_type": "display_data",
          "data": {
            "text/html": [
              "<html>\n",
              "<head><meta charset=\"utf-8\" /></head>\n",
              "<body>\n",
              "    <div>            <script src=\"https://cdnjs.cloudflare.com/ajax/libs/mathjax/2.7.5/MathJax.js?config=TeX-AMS-MML_SVG\"></script><script type=\"text/javascript\">if (window.MathJax && window.MathJax.Hub && window.MathJax.Hub.Config) {window.MathJax.Hub.Config({SVG: {font: \"STIX-Web\"}});}</script>                <script type=\"text/javascript\">window.PlotlyConfig = {MathJaxConfig: 'local'};</script>\n",
              "        <script src=\"https://cdn.plot.ly/plotly-2.18.2.min.js\"></script>                <div id=\"a0709e0d-5ffc-4924-8cbc-67f156c64f88\" class=\"plotly-graph-div\" style=\"height:525px; width:100%;\"></div>            <script type=\"text/javascript\">                                    window.PLOTLYENV=window.PLOTLYENV || {};                                    if (document.getElementById(\"a0709e0d-5ffc-4924-8cbc-67f156c64f88\")) {                    Plotly.newPlot(                        \"a0709e0d-5ffc-4924-8cbc-67f156c64f88\",                        [{\"marker\":{\"color\":\"#191c40\",\"line\":{\"width\":1},\"size\":10},\"mode\":\"markers\",\"name\":\"WHITE<br><sup><i>(correlation=0.7324)</i></sup>\",\"x\":[24.85,33.52,28.04,25.32,21.94,28.16,25.18,28.46,36.44,23.23,37.81,22.49,30.28,30.71,25.25,20.87,30.79,26.61,25.29,18.0,25.08,19.05,34.13,42.1,22.92,23.78,31.05,32.72,28.31,28.87,29.17,29.91,24.0,35.71,30.48,38.8,23.58,23.49,26.27,30.27,25.9,29.43,30.05,20.88,25.79,28.34,29.51,30.37,25.61,26.97,31.05,26.41,28.08,29.88,34.17,29.3,40.6,25.92,33.09,24.02,21.22,65.92,22.64,36.13,26.47,24.24,23.6,27.48,42.98,27.85,29.68,18.29,25.97,31.09,28.06,28.39,27.07,43.65,29.53,29.46,23.41,26.82,31.57,26.87,22.59,30.34,22.66,28.51,27.64,31.33,21.86,45.71,29.96,35.99,39.82,36.05,24.17,37.85,21.12,30.26,28.6,22.19,26.75,21.56],\"y\":[30.0,29.0,32.0,31.0,24.0,34.0,28.5,29.5,38.5,26.0,37.5,29.5,34.0,30.5,33.5,29.5,31.0,32.0,30.0,22.0,30.0,21.5,30.0,34.5,24.0,25.0,29.0,28.5,30.5,34.5,29.0,29.0,28.0,31.5,31.0,36.5,24.0,26.0,28.5,29.5,29.5,29.0,30.5,20.5,28.5,31.0,33.0,32.0,28.0,26.0,30.0,29.0,25.5,30.0,33.0,33.0,35.0,27.0,32.0,28.0,27.0,35.0,29.0,29.5,29.5,27.0,28.5,27.0,37.0,27.85,30.0,22.5,26.5,32.0,33.0,37.0,28.0,35.0,30.5,29.5,24.0,25.5,30.0,27.0,23.5,33.5,28.5,31.0,29.5,33.0,23.3,46.5,30.0,36.0,34.5,31.0,26.5,35.0,24.5,30.0,30.0,25.0,27.5,23.5],\"type\":\"scatter\"},{\"marker\":{\"color\":\"#404472\",\"line\":{\"width\":1},\"size\":10},\"mode\":\"markers\",\"name\":\"MIXED<br><sup><i>(correlation=0.8771)</i></sup>\",\"x\":[22.31,25.66,31.34,28.28,30.73,27.85,23.42,23.51,25.88,38.94,39.35,42.78],\"y\":[27.0,28.5,29.5,33.0,33.0,26.0,25.0,28.0,32.0,34.0,38.0,41.0],\"type\":\"scatter\"},{\"marker\":{\"color\":\"#5c5f7c\",\"line\":{\"width\":1},\"size\":10},\"mode\":\"markers\",\"name\":\"BLACK<br><sup><i>(correlation=0.8439)</i></sup>\",\"x\":[22.73,33.57,21.53,35.28,28.42,34.12,42.39,43.81,39.98,31.25,27.63,29.97,37.78,36.55,24.54,28.25,24.84,46.48,30.44,24.49,19.99,24.77,43.25,30.86,27.27,25.88,32.92,30.99,26.05,28.83,26.93,34.16,29.92,32.96,24.14,31.07,21.64,37.92,29.76,44.66,38.79,27.66,31.61,33.12,31.35,33.06,26.49,33.41,36.49],\"y\":[28.0,36.0,28.0,39.0,34.0,42.5,42.0,40.0,40.0,32.0,29.5,33.0,37.0,40.0,33.5,30.0,28.5,41.5,34.0,26.0,30.0,24.5,44.5,33.0,30.0,29.0,35.0,35.0,29.0,29.0,28.0,38.5,30.5,41.0,26.0,28.5,27.0,39.0,26.0,45.5,38.5,31.0,32.5,32.5,30.0,33.0,28.0,32.0,29.5],\"type\":\"scatter\"},{\"marker\":{\"color\":\"#c3c0c0\",\"line\":{\"width\":1},\"size\":10},\"mode\":\"markers\",\"name\":\"ASIAN<br><sup><i>(correlation=0.8136)</i></sup>\",\"x\":[22.77,27.66,28.89,26.1,23.02,23.24,27.74,22.07,20.85,27.56,33.89,29.27,21.98,26.18,30.49,29.29,25.77,25.43,24.84,29.3,29.43,29.48,28.27,23.27,30.75,29.9,35.88,36.13,23.01,30.49,29.8,32.96,21.7,36.42,25.62,28.04,20.78,32.17,20.91,22.31,27.84,31.73,32.34,35.18,20.33,26.23,23.73,28.09,25.97,22.56,23.01,22.27,24.54,25.0],\"y\":[30.5,28.5,29.0,27.5,28.0,25.5,28.5,25.0,23.5,30.5,31.5,33.0,26.0,30.0,28.5,30.0,23.5,27.5,31.5,29.0,33.0,29.5,28.0,27.0,31.5,30.5,33.0,39.0,31.0,32.0,32.0,34.0,25.0,36.0,27.0,32.0,22.5,31.0,22.5,23.0,28.5,29.0,30.0,30.5,22.0,28.0,24.0,28.5,26.0,22.0,25.5,26.0,24.5,26.0],\"type\":\"scatter\"}],                        {\"template\":{\"data\":{\"histogram2dcontour\":[{\"type\":\"histogram2dcontour\",\"colorbar\":{\"outlinewidth\":0,\"ticks\":\"\"},\"colorscale\":[[0.0,\"#0d0887\"],[0.1111111111111111,\"#46039f\"],[0.2222222222222222,\"#7201a8\"],[0.3333333333333333,\"#9c179e\"],[0.4444444444444444,\"#bd3786\"],[0.5555555555555556,\"#d8576b\"],[0.6666666666666666,\"#ed7953\"],[0.7777777777777778,\"#fb9f3a\"],[0.8888888888888888,\"#fdca26\"],[1.0,\"#f0f921\"]]}],\"choropleth\":[{\"type\":\"choropleth\",\"colorbar\":{\"outlinewidth\":0,\"ticks\":\"\"}}],\"histogram2d\":[{\"type\":\"histogram2d\",\"colorbar\":{\"outlinewidth\":0,\"ticks\":\"\"},\"colorscale\":[[0.0,\"#0d0887\"],[0.1111111111111111,\"#46039f\"],[0.2222222222222222,\"#7201a8\"],[0.3333333333333333,\"#9c179e\"],[0.4444444444444444,\"#bd3786\"],[0.5555555555555556,\"#d8576b\"],[0.6666666666666666,\"#ed7953\"],[0.7777777777777778,\"#fb9f3a\"],[0.8888888888888888,\"#fdca26\"],[1.0,\"#f0f921\"]]}],\"heatmap\":[{\"type\":\"heatmap\",\"colorbar\":{\"outlinewidth\":0,\"ticks\":\"\"},\"colorscale\":[[0.0,\"#0d0887\"],[0.1111111111111111,\"#46039f\"],[0.2222222222222222,\"#7201a8\"],[0.3333333333333333,\"#9c179e\"],[0.4444444444444444,\"#bd3786\"],[0.5555555555555556,\"#d8576b\"],[0.6666666666666666,\"#ed7953\"],[0.7777777777777778,\"#fb9f3a\"],[0.8888888888888888,\"#fdca26\"],[1.0,\"#f0f921\"]]}],\"heatmapgl\":[{\"type\":\"heatmapgl\",\"colorbar\":{\"outlinewidth\":0,\"ticks\":\"\"},\"colorscale\":[[0.0,\"#0d0887\"],[0.1111111111111111,\"#46039f\"],[0.2222222222222222,\"#7201a8\"],[0.3333333333333333,\"#9c179e\"],[0.4444444444444444,\"#bd3786\"],[0.5555555555555556,\"#d8576b\"],[0.6666666666666666,\"#ed7953\"],[0.7777777777777778,\"#fb9f3a\"],[0.8888888888888888,\"#fdca26\"],[1.0,\"#f0f921\"]]}],\"contourcarpet\":[{\"type\":\"contourcarpet\",\"colorbar\":{\"outlinewidth\":0,\"ticks\":\"\"}}],\"contour\":[{\"type\":\"contour\",\"colorbar\":{\"outlinewidth\":0,\"ticks\":\"\"},\"colorscale\":[[0.0,\"#0d0887\"],[0.1111111111111111,\"#46039f\"],[0.2222222222222222,\"#7201a8\"],[0.3333333333333333,\"#9c179e\"],[0.4444444444444444,\"#bd3786\"],[0.5555555555555556,\"#d8576b\"],[0.6666666666666666,\"#ed7953\"],[0.7777777777777778,\"#fb9f3a\"],[0.8888888888888888,\"#fdca26\"],[1.0,\"#f0f921\"]]}],\"surface\":[{\"type\":\"surface\",\"colorbar\":{\"outlinewidth\":0,\"ticks\":\"\"},\"colorscale\":[[0.0,\"#0d0887\"],[0.1111111111111111,\"#46039f\"],[0.2222222222222222,\"#7201a8\"],[0.3333333333333333,\"#9c179e\"],[0.4444444444444444,\"#bd3786\"],[0.5555555555555556,\"#d8576b\"],[0.6666666666666666,\"#ed7953\"],[0.7777777777777778,\"#fb9f3a\"],[0.8888888888888888,\"#fdca26\"],[1.0,\"#f0f921\"]]}],\"mesh3d\":[{\"type\":\"mesh3d\",\"colorbar\":{\"outlinewidth\":0,\"ticks\":\"\"}}],\"scatter\":[{\"fillpattern\":{\"fillmode\":\"overlay\",\"size\":10,\"solidity\":0.2},\"type\":\"scatter\"}],\"parcoords\":[{\"type\":\"parcoords\",\"line\":{\"colorbar\":{\"outlinewidth\":0,\"ticks\":\"\"}}}],\"scatterpolargl\":[{\"type\":\"scatterpolargl\",\"marker\":{\"colorbar\":{\"outlinewidth\":0,\"ticks\":\"\"}}}],\"bar\":[{\"error_x\":{\"color\":\"#2a3f5f\"},\"error_y\":{\"color\":\"#2a3f5f\"},\"marker\":{\"line\":{\"color\":\"#E5ECF6\",\"width\":0.5},\"pattern\":{\"fillmode\":\"overlay\",\"size\":10,\"solidity\":0.2}},\"type\":\"bar\"}],\"scattergeo\":[{\"type\":\"scattergeo\",\"marker\":{\"colorbar\":{\"outlinewidth\":0,\"ticks\":\"\"}}}],\"scatterpolar\":[{\"type\":\"scatterpolar\",\"marker\":{\"colorbar\":{\"outlinewidth\":0,\"ticks\":\"\"}}}],\"histogram\":[{\"marker\":{\"pattern\":{\"fillmode\":\"overlay\",\"size\":10,\"solidity\":0.2}},\"type\":\"histogram\"}],\"scattergl\":[{\"type\":\"scattergl\",\"marker\":{\"colorbar\":{\"outlinewidth\":0,\"ticks\":\"\"}}}],\"scatter3d\":[{\"type\":\"scatter3d\",\"line\":{\"colorbar\":{\"outlinewidth\":0,\"ticks\":\"\"}},\"marker\":{\"colorbar\":{\"outlinewidth\":0,\"ticks\":\"\"}}}],\"scattermapbox\":[{\"type\":\"scattermapbox\",\"marker\":{\"colorbar\":{\"outlinewidth\":0,\"ticks\":\"\"}}}],\"scatterternary\":[{\"type\":\"scatterternary\",\"marker\":{\"colorbar\":{\"outlinewidth\":0,\"ticks\":\"\"}}}],\"scattercarpet\":[{\"type\":\"scattercarpet\",\"marker\":{\"colorbar\":{\"outlinewidth\":0,\"ticks\":\"\"}}}],\"carpet\":[{\"aaxis\":{\"endlinecolor\":\"#2a3f5f\",\"gridcolor\":\"white\",\"linecolor\":\"white\",\"minorgridcolor\":\"white\",\"startlinecolor\":\"#2a3f5f\"},\"baxis\":{\"endlinecolor\":\"#2a3f5f\",\"gridcolor\":\"white\",\"linecolor\":\"white\",\"minorgridcolor\":\"white\",\"startlinecolor\":\"#2a3f5f\"},\"type\":\"carpet\"}],\"table\":[{\"cells\":{\"fill\":{\"color\":\"#EBF0F8\"},\"line\":{\"color\":\"white\"}},\"header\":{\"fill\":{\"color\":\"#C8D4E3\"},\"line\":{\"color\":\"white\"}},\"type\":\"table\"}],\"barpolar\":[{\"marker\":{\"line\":{\"color\":\"#E5ECF6\",\"width\":0.5},\"pattern\":{\"fillmode\":\"overlay\",\"size\":10,\"solidity\":0.2}},\"type\":\"barpolar\"}],\"pie\":[{\"automargin\":true,\"type\":\"pie\"}]},\"layout\":{\"autotypenumbers\":\"strict\",\"colorway\":[\"#636efa\",\"#EF553B\",\"#00cc96\",\"#ab63fa\",\"#FFA15A\",\"#19d3f3\",\"#FF6692\",\"#B6E880\",\"#FF97FF\",\"#FECB52\"],\"font\":{\"color\":\"#2a3f5f\"},\"hovermode\":\"closest\",\"hoverlabel\":{\"align\":\"left\"},\"paper_bgcolor\":\"white\",\"plot_bgcolor\":\"#E5ECF6\",\"polar\":{\"bgcolor\":\"#E5ECF6\",\"angularaxis\":{\"gridcolor\":\"white\",\"linecolor\":\"white\",\"ticks\":\"\"},\"radialaxis\":{\"gridcolor\":\"white\",\"linecolor\":\"white\",\"ticks\":\"\"}},\"ternary\":{\"bgcolor\":\"#E5ECF6\",\"aaxis\":{\"gridcolor\":\"white\",\"linecolor\":\"white\",\"ticks\":\"\"},\"baxis\":{\"gridcolor\":\"white\",\"linecolor\":\"white\",\"ticks\":\"\"},\"caxis\":{\"gridcolor\":\"white\",\"linecolor\":\"white\",\"ticks\":\"\"}},\"coloraxis\":{\"colorbar\":{\"outlinewidth\":0,\"ticks\":\"\"}},\"colorscale\":{\"sequential\":[[0.0,\"#0d0887\"],[0.1111111111111111,\"#46039f\"],[0.2222222222222222,\"#7201a8\"],[0.3333333333333333,\"#9c179e\"],[0.4444444444444444,\"#bd3786\"],[0.5555555555555556,\"#d8576b\"],[0.6666666666666666,\"#ed7953\"],[0.7777777777777778,\"#fb9f3a\"],[0.8888888888888888,\"#fdca26\"],[1.0,\"#f0f921\"]],\"sequentialminus\":[[0.0,\"#0d0887\"],[0.1111111111111111,\"#46039f\"],[0.2222222222222222,\"#7201a8\"],[0.3333333333333333,\"#9c179e\"],[0.4444444444444444,\"#bd3786\"],[0.5555555555555556,\"#d8576b\"],[0.6666666666666666,\"#ed7953\"],[0.7777777777777778,\"#fb9f3a\"],[0.8888888888888888,\"#fdca26\"],[1.0,\"#f0f921\"]],\"diverging\":[[0,\"#8e0152\"],[0.1,\"#c51b7d\"],[0.2,\"#de77ae\"],[0.3,\"#f1b6da\"],[0.4,\"#fde0ef\"],[0.5,\"#f7f7f7\"],[0.6,\"#e6f5d0\"],[0.7,\"#b8e186\"],[0.8,\"#7fbc41\"],[0.9,\"#4d9221\"],[1,\"#276419\"]]},\"xaxis\":{\"gridcolor\":\"white\",\"linecolor\":\"white\",\"ticks\":\"\",\"title\":{\"standoff\":15},\"zerolinecolor\":\"white\",\"automargin\":true,\"zerolinewidth\":2},\"yaxis\":{\"gridcolor\":\"white\",\"linecolor\":\"white\",\"ticks\":\"\",\"title\":{\"standoff\":15},\"zerolinecolor\":\"white\",\"automargin\":true,\"zerolinewidth\":2},\"scene\":{\"xaxis\":{\"backgroundcolor\":\"#E5ECF6\",\"gridcolor\":\"white\",\"linecolor\":\"white\",\"showbackground\":true,\"ticks\":\"\",\"zerolinecolor\":\"white\",\"gridwidth\":2},\"yaxis\":{\"backgroundcolor\":\"#E5ECF6\",\"gridcolor\":\"white\",\"linecolor\":\"white\",\"showbackground\":true,\"ticks\":\"\",\"zerolinecolor\":\"white\",\"gridwidth\":2},\"zaxis\":{\"backgroundcolor\":\"#E5ECF6\",\"gridcolor\":\"white\",\"linecolor\":\"white\",\"showbackground\":true,\"ticks\":\"\",\"zerolinecolor\":\"white\",\"gridwidth\":2}},\"shapedefaults\":{\"line\":{\"color\":\"#2a3f5f\"}},\"annotationdefaults\":{\"arrowcolor\":\"#2a3f5f\",\"arrowhead\":0,\"arrowwidth\":1},\"geo\":{\"bgcolor\":\"white\",\"landcolor\":\"#E5ECF6\",\"subunitcolor\":\"white\",\"showland\":true,\"showlakes\":true,\"lakecolor\":\"white\"},\"title\":{\"x\":0.05},\"mapbox\":{\"style\":\"light\"}}},\"title\":{\"text\":\"MUAC vs BMI<br><sup><i>(correlation=0.7876)</i></sup>\",\"x\":0,\"xref\":\"paper\"},\"xaxis\":{\"title\":{\"text\":\"BMI<br><sup><i>Body Mass Index</i></sup>\"}},\"yaxis\":{\"title\":{\"text\":\"MUAC<br><sup><i>Mid Upper Arm Circumference</i></sup>\"}}},                        {\"responsive\": true}                    ).then(function(){\n",
              "                            \n",
              "var gd = document.getElementById('a0709e0d-5ffc-4924-8cbc-67f156c64f88');\n",
              "var x = new MutationObserver(function (mutations, observer) {{\n",
              "        var display = window.getComputedStyle(gd).display;\n",
              "        if (!display || display === 'none') {{\n",
              "            console.log([gd, 'removed!']);\n",
              "            Plotly.purge(gd);\n",
              "            observer.disconnect();\n",
              "        }}\n",
              "}});\n",
              "\n",
              "// Listen for the removal of the full notebook cells\n",
              "var notebookContainer = gd.closest('#notebook-container');\n",
              "if (notebookContainer) {{\n",
              "    x.observe(notebookContainer, {childList: true});\n",
              "}}\n",
              "\n",
              "// Listen for the clearing of the current output cell\n",
              "var outputEl = gd.closest('.output');\n",
              "if (outputEl) {{\n",
              "    x.observe(outputEl, {childList: true});\n",
              "}}\n",
              "\n",
              "                        })                };                            </script>        </div>\n",
              "</body>\n",
              "</html>"
            ]
          },
          "metadata": {}
        }
      ],
      "source": [
        "#@title\n",
        "fig = go.Figure()\n",
        "corra = round(df['BMI'].corr(df['MUAC']),4)\n",
        "\n",
        "for count, race in enumerate(df.Race.unique()):\n",
        "    dft = df[df['Race']==race]\n",
        "    corr = round(dft['BMI'].corr(dft['MUAC']),4)\n",
        "    name = f\"{race}<br><sup><i>(correlation={corr})</i></sup>\"\n",
        "    \n",
        "    fig.add_trace(go.Scatter(\n",
        "        x=dft['BMI'], y=dft['MUAC'],\n",
        "        name=name,\n",
        "        marker_color = COLOURS[count],\n",
        "        mode='markers',\n",
        "    ))\n",
        "\n",
        "# Set options common to all traces with fig.update_traces\n",
        "fig.update_traces(mode='markers', marker_line_width=1, marker_size=10)\n",
        "\n",
        "fig.update_layout(\n",
        "    title=go.layout.Title(\n",
        "        text=f\"MUAC vs BMI<br><sup><i>(correlation={corra})</i></sup>\",\n",
        "        xref=\"paper\",\n",
        "        x=0\n",
        "    ),\n",
        "        xaxis=go.layout.XAxis(\n",
        "        title=go.layout.xaxis.Title(\n",
        "            text=\"BMI<br><sup><i>Body Mass Index</i></sup>\"\n",
        "            )\n",
        "        ),\n",
        "        yaxis=go.layout.YAxis(\n",
        "        title=go.layout.yaxis.Title(\n",
        "            text=\"MUAC<br><sup><i>Mid Upper Arm Circumference</i></sup>\"\n",
        "            )\n",
        "        )\n",
        "    )\n",
        "\n",
        "\n",
        "fig.show()"
      ]
    },
    {
      "cell_type": "markdown",
      "metadata": {
        "id": "TXXN--B3yi-q"
      },
      "source": [
        "### Random Glucose vs HbA1C"
      ]
    },
    {
      "cell_type": "code",
      "execution_count": 100,
      "metadata": {
        "id": "Yg5ltKyCyi-q",
        "outputId": "9a599419-296e-4c0b-e8c4-8939c7d12bd7",
        "colab": {
          "base_uri": "https://localhost:8080/",
          "height": 542
        }
      },
      "outputs": [
        {
          "output_type": "display_data",
          "data": {
            "text/html": [
              "<html>\n",
              "<head><meta charset=\"utf-8\" /></head>\n",
              "<body>\n",
              "    <div>            <script src=\"https://cdnjs.cloudflare.com/ajax/libs/mathjax/2.7.5/MathJax.js?config=TeX-AMS-MML_SVG\"></script><script type=\"text/javascript\">if (window.MathJax && window.MathJax.Hub && window.MathJax.Hub.Config) {window.MathJax.Hub.Config({SVG: {font: \"STIX-Web\"}});}</script>                <script type=\"text/javascript\">window.PlotlyConfig = {MathJaxConfig: 'local'};</script>\n",
              "        <script src=\"https://cdn.plot.ly/plotly-2.18.2.min.js\"></script>                <div id=\"6ee72c18-d368-4606-b9c4-767da50b0a97\" class=\"plotly-graph-div\" style=\"height:525px; width:100%;\"></div>            <script type=\"text/javascript\">                                    window.PLOTLYENV=window.PLOTLYENV || {};                                    if (document.getElementById(\"6ee72c18-d368-4606-b9c4-767da50b0a97\")) {                    Plotly.newPlot(                        \"6ee72c18-d368-4606-b9c4-767da50b0a97\",                        [{\"marker\":{\"color\":\"#191c40\",\"line\":{\"width\":1},\"size\":10},\"mode\":\"markers\",\"name\":\"WHITE<br><sup><i>(correlation=0.2245)</i></sup>\",\"x\":[3.5,6.1,4.8,5.3,4.4,5.4,5.2,4.5,4.5,5.2,4.8,4.0,5.7,5.2,5.1,5.7,4.0,5.9,3.5,3.8,null,4.8,4.9,5.6,4.5,5.3,5.2,4.9,4.7,5.9,4.4,4.3,4.5,4.7,4.6,4.1,4.2,4.3,5.3,5.2,5.5,5.2,3.1,5.0,4.4,4.7,5.6,4.5,4.9,3.3,4.0,4.7,4.2,4.0,3.8,4.6,4.8,4.5,4.1,5.2,4.8,4.8,5.3,5.9,6.5,4.2,4.7,3.9,4.1,4.9,4.1,4.5,5.1,4.4,5.1,4.2,4.7,4.5,4.6,4.0,4.9,5.7,4.3,3.9,4.0,4.0,4.6,5.6,7.0,3.6,5.3,5.3,4.4,4.4,5.2,4.4,4.6,4.3,6.0,4.7,4.5],\"y\":[37.0,35.0,37.0,39.0,30.0,36.0,40.0,37.0,31.0,36.0,31.0,36.0,33.0,36.0,35.0,34.0,36.0,32.0,29.0,36.0,34.0,39.0,35.0,36.0,35.0,39.0,35.0,36.0,36.0,35.0,35.0,36.0,36.0,37.0,28.0,31.0,39.0,33.0,31.0,41.0,39.0,37.0,38.0,41.0,36.0,38.0,41.0,34.0,34.0,34.0,34.0,35.0,32.0,32.0,29.0,34.0,40.0,37.0,29.0,35.0,32.0,40.0,38.0,31.0,34.0,35.0,34.0,39.0,31.0,39.0,34.0,38.0,39.0,31.0,40.0,36.0,37.0,41.0,35.0,37.0,36.0,31.0,41.0,33.0,35.0,37.0,33.0,36.0,48.0,41.0,38.0,37.0,37.0,32.0,35.0,40.0,33.0,39.0,41.0,41.0,36.0],\"type\":\"scatter\"},{\"marker\":{\"color\":\"#404472\",\"line\":{\"width\":1},\"size\":10},\"mode\":\"markers\",\"name\":\"MIXED<br><sup><i>(correlation=0.6817)</i></sup>\",\"x\":[4.6,4.5,5.3,5.0,4.6,4.7,5.3,4.4,4.9,5.0,7.8,6.6],\"y\":[39.0,35.0,33.0,41.0,37.0,34.0,33.0,32.0,38.0,37.0,46.0,39.0],\"type\":\"scatter\"},{\"marker\":{\"color\":\"#5c5f7c\",\"line\":{\"width\":1},\"size\":10},\"mode\":\"markers\",\"name\":\"BLACK<br><sup><i>(correlation=-0.0673)</i></sup>\",\"x\":[4.4,5.3,4.2,4.3,4.5,4.6,5.4,5.3,4.3,4.8,4.4,null,4.9,4.8,4.7,5.0,5.8,4.5,4.3,4.2,5.3,2.9,4.3,5.2,4.8,10.2,4.1,5.0,4.2,4.8,4.5,4.0,4.4,4.3,5.2,4.4,4.3,4.4,4.7,3.5,4.3,4.7,4.7,5.0,6.2,4.2,3.8],\"y\":[40.0,38.0,38.0,37.0,43.0,36.0,42.0,43.0,38.0,33.0,39.0,38.0,34.0,40.0,41.0,37.0,38.0,33.0,33.0,29.0,44.0,42.0,33.0,29.0,36.0,34.0,36.0,37.0,37.0,35.0,33.0,35.0,41.0,41.0,31.0,35.0,35.0,33.0,44.0,34.0,42.0,42.0,39.0,35.0,35.0,39.0,32.0],\"type\":\"scatter\"},{\"marker\":{\"color\":\"#c3c0c0\",\"line\":{\"width\":1},\"size\":10},\"mode\":\"markers\",\"name\":\"ASIAN<br><sup><i>(correlation=0.1877)</i></sup>\",\"x\":[3.8,4.2,4.5,4.0,4.4,4.6,4.2,4.8,4.9,4.5,4.9,5.2,4.9,4.6,4.5,4.5,4.6,5.1,null,5.1,5.1,4.5,5.4,4.9,5.1,4.4,4.3,4.5,4.0,4.3,5.0,4.8,3.9,4.5,8.8,4.6,3.8,4.0,4.2,4.4,4.2,5.6,4.7,3.8,4.6,4.5,4.4,3.6,5.3,4.7,4.6,4.0,5.4,7.3],\"y\":[32.0,34.0,33.0,45.0,32.0,37.0,37.0,38.0,42.0,43.0,33.0,27.0,32.0,35.0,35.0,36.0,37.0,35.0,39.0,41.0,42.0,40.0,36.0,45.0,41.0,39.0,33.0,34.0,43.0,32.0,38.0,32.0,41.0,38.0,39.0,36.0,31.0,38.0,37.0,39.0,38.0,34.0,47.0,35.0,32.0,30.0,40.0,39.0,35.0,35.0,39.0,35.0,40.0,47.0],\"type\":\"scatter\"}],                        {\"template\":{\"data\":{\"histogram2dcontour\":[{\"type\":\"histogram2dcontour\",\"colorbar\":{\"outlinewidth\":0,\"ticks\":\"\"},\"colorscale\":[[0.0,\"#0d0887\"],[0.1111111111111111,\"#46039f\"],[0.2222222222222222,\"#7201a8\"],[0.3333333333333333,\"#9c179e\"],[0.4444444444444444,\"#bd3786\"],[0.5555555555555556,\"#d8576b\"],[0.6666666666666666,\"#ed7953\"],[0.7777777777777778,\"#fb9f3a\"],[0.8888888888888888,\"#fdca26\"],[1.0,\"#f0f921\"]]}],\"choropleth\":[{\"type\":\"choropleth\",\"colorbar\":{\"outlinewidth\":0,\"ticks\":\"\"}}],\"histogram2d\":[{\"type\":\"histogram2d\",\"colorbar\":{\"outlinewidth\":0,\"ticks\":\"\"},\"colorscale\":[[0.0,\"#0d0887\"],[0.1111111111111111,\"#46039f\"],[0.2222222222222222,\"#7201a8\"],[0.3333333333333333,\"#9c179e\"],[0.4444444444444444,\"#bd3786\"],[0.5555555555555556,\"#d8576b\"],[0.6666666666666666,\"#ed7953\"],[0.7777777777777778,\"#fb9f3a\"],[0.8888888888888888,\"#fdca26\"],[1.0,\"#f0f921\"]]}],\"heatmap\":[{\"type\":\"heatmap\",\"colorbar\":{\"outlinewidth\":0,\"ticks\":\"\"},\"colorscale\":[[0.0,\"#0d0887\"],[0.1111111111111111,\"#46039f\"],[0.2222222222222222,\"#7201a8\"],[0.3333333333333333,\"#9c179e\"],[0.4444444444444444,\"#bd3786\"],[0.5555555555555556,\"#d8576b\"],[0.6666666666666666,\"#ed7953\"],[0.7777777777777778,\"#fb9f3a\"],[0.8888888888888888,\"#fdca26\"],[1.0,\"#f0f921\"]]}],\"heatmapgl\":[{\"type\":\"heatmapgl\",\"colorbar\":{\"outlinewidth\":0,\"ticks\":\"\"},\"colorscale\":[[0.0,\"#0d0887\"],[0.1111111111111111,\"#46039f\"],[0.2222222222222222,\"#7201a8\"],[0.3333333333333333,\"#9c179e\"],[0.4444444444444444,\"#bd3786\"],[0.5555555555555556,\"#d8576b\"],[0.6666666666666666,\"#ed7953\"],[0.7777777777777778,\"#fb9f3a\"],[0.8888888888888888,\"#fdca26\"],[1.0,\"#f0f921\"]]}],\"contourcarpet\":[{\"type\":\"contourcarpet\",\"colorbar\":{\"outlinewidth\":0,\"ticks\":\"\"}}],\"contour\":[{\"type\":\"contour\",\"colorbar\":{\"outlinewidth\":0,\"ticks\":\"\"},\"colorscale\":[[0.0,\"#0d0887\"],[0.1111111111111111,\"#46039f\"],[0.2222222222222222,\"#7201a8\"],[0.3333333333333333,\"#9c179e\"],[0.4444444444444444,\"#bd3786\"],[0.5555555555555556,\"#d8576b\"],[0.6666666666666666,\"#ed7953\"],[0.7777777777777778,\"#fb9f3a\"],[0.8888888888888888,\"#fdca26\"],[1.0,\"#f0f921\"]]}],\"surface\":[{\"type\":\"surface\",\"colorbar\":{\"outlinewidth\":0,\"ticks\":\"\"},\"colorscale\":[[0.0,\"#0d0887\"],[0.1111111111111111,\"#46039f\"],[0.2222222222222222,\"#7201a8\"],[0.3333333333333333,\"#9c179e\"],[0.4444444444444444,\"#bd3786\"],[0.5555555555555556,\"#d8576b\"],[0.6666666666666666,\"#ed7953\"],[0.7777777777777778,\"#fb9f3a\"],[0.8888888888888888,\"#fdca26\"],[1.0,\"#f0f921\"]]}],\"mesh3d\":[{\"type\":\"mesh3d\",\"colorbar\":{\"outlinewidth\":0,\"ticks\":\"\"}}],\"scatter\":[{\"fillpattern\":{\"fillmode\":\"overlay\",\"size\":10,\"solidity\":0.2},\"type\":\"scatter\"}],\"parcoords\":[{\"type\":\"parcoords\",\"line\":{\"colorbar\":{\"outlinewidth\":0,\"ticks\":\"\"}}}],\"scatterpolargl\":[{\"type\":\"scatterpolargl\",\"marker\":{\"colorbar\":{\"outlinewidth\":0,\"ticks\":\"\"}}}],\"bar\":[{\"error_x\":{\"color\":\"#2a3f5f\"},\"error_y\":{\"color\":\"#2a3f5f\"},\"marker\":{\"line\":{\"color\":\"#E5ECF6\",\"width\":0.5},\"pattern\":{\"fillmode\":\"overlay\",\"size\":10,\"solidity\":0.2}},\"type\":\"bar\"}],\"scattergeo\":[{\"type\":\"scattergeo\",\"marker\":{\"colorbar\":{\"outlinewidth\":0,\"ticks\":\"\"}}}],\"scatterpolar\":[{\"type\":\"scatterpolar\",\"marker\":{\"colorbar\":{\"outlinewidth\":0,\"ticks\":\"\"}}}],\"histogram\":[{\"marker\":{\"pattern\":{\"fillmode\":\"overlay\",\"size\":10,\"solidity\":0.2}},\"type\":\"histogram\"}],\"scattergl\":[{\"type\":\"scattergl\",\"marker\":{\"colorbar\":{\"outlinewidth\":0,\"ticks\":\"\"}}}],\"scatter3d\":[{\"type\":\"scatter3d\",\"line\":{\"colorbar\":{\"outlinewidth\":0,\"ticks\":\"\"}},\"marker\":{\"colorbar\":{\"outlinewidth\":0,\"ticks\":\"\"}}}],\"scattermapbox\":[{\"type\":\"scattermapbox\",\"marker\":{\"colorbar\":{\"outlinewidth\":0,\"ticks\":\"\"}}}],\"scatterternary\":[{\"type\":\"scatterternary\",\"marker\":{\"colorbar\":{\"outlinewidth\":0,\"ticks\":\"\"}}}],\"scattercarpet\":[{\"type\":\"scattercarpet\",\"marker\":{\"colorbar\":{\"outlinewidth\":0,\"ticks\":\"\"}}}],\"carpet\":[{\"aaxis\":{\"endlinecolor\":\"#2a3f5f\",\"gridcolor\":\"white\",\"linecolor\":\"white\",\"minorgridcolor\":\"white\",\"startlinecolor\":\"#2a3f5f\"},\"baxis\":{\"endlinecolor\":\"#2a3f5f\",\"gridcolor\":\"white\",\"linecolor\":\"white\",\"minorgridcolor\":\"white\",\"startlinecolor\":\"#2a3f5f\"},\"type\":\"carpet\"}],\"table\":[{\"cells\":{\"fill\":{\"color\":\"#EBF0F8\"},\"line\":{\"color\":\"white\"}},\"header\":{\"fill\":{\"color\":\"#C8D4E3\"},\"line\":{\"color\":\"white\"}},\"type\":\"table\"}],\"barpolar\":[{\"marker\":{\"line\":{\"color\":\"#E5ECF6\",\"width\":0.5},\"pattern\":{\"fillmode\":\"overlay\",\"size\":10,\"solidity\":0.2}},\"type\":\"barpolar\"}],\"pie\":[{\"automargin\":true,\"type\":\"pie\"}]},\"layout\":{\"autotypenumbers\":\"strict\",\"colorway\":[\"#636efa\",\"#EF553B\",\"#00cc96\",\"#ab63fa\",\"#FFA15A\",\"#19d3f3\",\"#FF6692\",\"#B6E880\",\"#FF97FF\",\"#FECB52\"],\"font\":{\"color\":\"#2a3f5f\"},\"hovermode\":\"closest\",\"hoverlabel\":{\"align\":\"left\"},\"paper_bgcolor\":\"white\",\"plot_bgcolor\":\"#E5ECF6\",\"polar\":{\"bgcolor\":\"#E5ECF6\",\"angularaxis\":{\"gridcolor\":\"white\",\"linecolor\":\"white\",\"ticks\":\"\"},\"radialaxis\":{\"gridcolor\":\"white\",\"linecolor\":\"white\",\"ticks\":\"\"}},\"ternary\":{\"bgcolor\":\"#E5ECF6\",\"aaxis\":{\"gridcolor\":\"white\",\"linecolor\":\"white\",\"ticks\":\"\"},\"baxis\":{\"gridcolor\":\"white\",\"linecolor\":\"white\",\"ticks\":\"\"},\"caxis\":{\"gridcolor\":\"white\",\"linecolor\":\"white\",\"ticks\":\"\"}},\"coloraxis\":{\"colorbar\":{\"outlinewidth\":0,\"ticks\":\"\"}},\"colorscale\":{\"sequential\":[[0.0,\"#0d0887\"],[0.1111111111111111,\"#46039f\"],[0.2222222222222222,\"#7201a8\"],[0.3333333333333333,\"#9c179e\"],[0.4444444444444444,\"#bd3786\"],[0.5555555555555556,\"#d8576b\"],[0.6666666666666666,\"#ed7953\"],[0.7777777777777778,\"#fb9f3a\"],[0.8888888888888888,\"#fdca26\"],[1.0,\"#f0f921\"]],\"sequentialminus\":[[0.0,\"#0d0887\"],[0.1111111111111111,\"#46039f\"],[0.2222222222222222,\"#7201a8\"],[0.3333333333333333,\"#9c179e\"],[0.4444444444444444,\"#bd3786\"],[0.5555555555555556,\"#d8576b\"],[0.6666666666666666,\"#ed7953\"],[0.7777777777777778,\"#fb9f3a\"],[0.8888888888888888,\"#fdca26\"],[1.0,\"#f0f921\"]],\"diverging\":[[0,\"#8e0152\"],[0.1,\"#c51b7d\"],[0.2,\"#de77ae\"],[0.3,\"#f1b6da\"],[0.4,\"#fde0ef\"],[0.5,\"#f7f7f7\"],[0.6,\"#e6f5d0\"],[0.7,\"#b8e186\"],[0.8,\"#7fbc41\"],[0.9,\"#4d9221\"],[1,\"#276419\"]]},\"xaxis\":{\"gridcolor\":\"white\",\"linecolor\":\"white\",\"ticks\":\"\",\"title\":{\"standoff\":15},\"zerolinecolor\":\"white\",\"automargin\":true,\"zerolinewidth\":2},\"yaxis\":{\"gridcolor\":\"white\",\"linecolor\":\"white\",\"ticks\":\"\",\"title\":{\"standoff\":15},\"zerolinecolor\":\"white\",\"automargin\":true,\"zerolinewidth\":2},\"scene\":{\"xaxis\":{\"backgroundcolor\":\"#E5ECF6\",\"gridcolor\":\"white\",\"linecolor\":\"white\",\"showbackground\":true,\"ticks\":\"\",\"zerolinecolor\":\"white\",\"gridwidth\":2},\"yaxis\":{\"backgroundcolor\":\"#E5ECF6\",\"gridcolor\":\"white\",\"linecolor\":\"white\",\"showbackground\":true,\"ticks\":\"\",\"zerolinecolor\":\"white\",\"gridwidth\":2},\"zaxis\":{\"backgroundcolor\":\"#E5ECF6\",\"gridcolor\":\"white\",\"linecolor\":\"white\",\"showbackground\":true,\"ticks\":\"\",\"zerolinecolor\":\"white\",\"gridwidth\":2}},\"shapedefaults\":{\"line\":{\"color\":\"#2a3f5f\"}},\"annotationdefaults\":{\"arrowcolor\":\"#2a3f5f\",\"arrowhead\":0,\"arrowwidth\":1},\"geo\":{\"bgcolor\":\"white\",\"landcolor\":\"#E5ECF6\",\"subunitcolor\":\"white\",\"showland\":true,\"showlakes\":true,\"lakecolor\":\"white\"},\"title\":{\"x\":0.05},\"mapbox\":{\"style\":\"light\"}}},\"title\":{\"text\":\"HbA1C vs Random Glucose<br><sup><i>(correlation=0.0952)</i></sup>\",\"x\":0,\"xref\":\"paper\"},\"xaxis\":{\"title\":{\"text\":\"Random Glucose<br><sup><i> </i></sup>\"}},\"yaxis\":{\"title\":{\"text\":\"HbA1C<br><sup><i>%</i></sup>\"}}},                        {\"responsive\": true}                    ).then(function(){\n",
              "                            \n",
              "var gd = document.getElementById('6ee72c18-d368-4606-b9c4-767da50b0a97');\n",
              "var x = new MutationObserver(function (mutations, observer) {{\n",
              "        var display = window.getComputedStyle(gd).display;\n",
              "        if (!display || display === 'none') {{\n",
              "            console.log([gd, 'removed!']);\n",
              "            Plotly.purge(gd);\n",
              "            observer.disconnect();\n",
              "        }}\n",
              "}});\n",
              "\n",
              "// Listen for the removal of the full notebook cells\n",
              "var notebookContainer = gd.closest('#notebook-container');\n",
              "if (notebookContainer) {{\n",
              "    x.observe(notebookContainer, {childList: true});\n",
              "}}\n",
              "\n",
              "// Listen for the clearing of the current output cell\n",
              "var outputEl = gd.closest('.output');\n",
              "if (outputEl) {{\n",
              "    x.observe(outputEl, {childList: true});\n",
              "}}\n",
              "\n",
              "                        })                };                            </script>        </div>\n",
              "</body>\n",
              "</html>"
            ]
          },
          "metadata": {}
        }
      ],
      "source": [
        "#@title\n",
        "fig = go.Figure()\n",
        "corra = round(df['RandomGlucose'].corr(df['HbA1C']),4)\n",
        "\n",
        "for count, race in enumerate(df.Race.unique()):\n",
        "    dft = df[df['Race']==race]\n",
        "    dft = dft[dft['HbA1C']>=18]\n",
        "    dft = dft[dft['HbA1C']<=50]\n",
        "    corr = round(dft['RandomGlucose'].corr(dft['HbA1C']),4)\n",
        "    name = f\"{race}<br><sup><i>(correlation={corr})</i></sup>\"\n",
        "    \n",
        "    fig.add_trace(go.Scatter(\n",
        "        x=dft['RandomGlucose'], y=dft['HbA1C'],\n",
        "        name=name,\n",
        "        marker_color = COLOURS[count],\n",
        "        mode='markers',\n",
        "    ))\n",
        "\n",
        "# Set options common to all traces with fig.update_traces\n",
        "fig.update_traces(mode='markers', marker_line_width=1, marker_size=10)\n",
        "\n",
        "fig.update_layout(\n",
        "    title=go.layout.Title(\n",
        "        text=f\"HbA1C vs Random Glucose<br><sup><i>(correlation={corra})</i></sup>\",\n",
        "        xref=\"paper\",\n",
        "        x=0\n",
        "    ),\n",
        "        xaxis=go.layout.XAxis(\n",
        "        title=go.layout.xaxis.Title(\n",
        "            text=\"Random Glucose<br><sup><i> </i></sup>\"\n",
        "            )\n",
        "        ),\n",
        "        yaxis=go.layout.YAxis(\n",
        "        title=go.layout.yaxis.Title(\n",
        "            text=\"HbA1C<br><sup><i>%</i></sup>\"\n",
        "            )\n",
        "        )\n",
        "    )\n",
        "\n",
        "\n",
        "fig.show()"
      ]
    },
    {
      "cell_type": "markdown",
      "source": [
        "#### Predicting HbA1C\n",
        "\n",
        "Can HbA1C be predicted by the other variables in the data set?\n",
        "\n"
      ],
      "metadata": {
        "id": "gxuOx7LwMmZ8"
      }
    },
    {
      "cell_type": "markdown",
      "source": [
        "Linear Regression to determine if HbA1C can be predicted by a subset of data.\n",
        "\n",
        "* `RandomGlucose', \n",
        "* `BMI', \n",
        "* `MUAC', \n",
        "* `eGFR', \n",
        "* `Hb', \n",
        "* `Race'"
      ],
      "metadata": {
        "id": "lcGFR32hYzF4"
      }
    },
    {
      "cell_type": "code",
      "source": [
        "#@title\n",
        "df_reg = df[['RandomGlucose', 'BMI', 'MUAC', 'eGFR', 'Hb', 'HbA1C', 'Race']]\n",
        "df_reg = df_reg.dropna()\n",
        "\n",
        "\n",
        "y = pd.get_dummies(df_reg.Race, prefix='R')\n",
        "df_reg = pd.merge(df_reg, y, left_index=True, right_index=True)\n",
        "df_reg = df_reg.drop(columns=['Race'])\n",
        "\n",
        "cols = list(df_reg.columns)\n",
        "cols.remove('HbA1C')\n",
        "\n",
        "x = df_reg[cols]\n",
        "y = df_reg['HbA1C']\n",
        " \n",
        "# with sklearn\n",
        "regr = linear_model.LinearRegression()\n",
        "regr.fit(x, y)\n",
        "\n",
        "print('Intercept: \\n', regr.intercept_)\n",
        "print('Coefficients: \\n', regr.coef_)\n",
        "\n",
        "# with statsmodels\n",
        "x = sm.add_constant(x) # adding a constant\n",
        " \n",
        "model = sm.OLS(y, x).fit()\n",
        "predictions = model.predict(x) \n",
        " \n",
        "print_model = model.summary()\n",
        "print(print_model)\n"
      ],
      "metadata": {
        "colab": {
          "base_uri": "https://localhost:8080/"
        },
        "cellView": "form",
        "id": "W3XX9x3PMlhY",
        "outputId": "65eb312c-f358-454a-e04d-02460feee150"
      },
      "execution_count": 101,
      "outputs": [
        {
          "output_type": "stream",
          "name": "stdout",
          "text": [
            "Intercept: \n",
            " 23.088496623133224\n",
            "Coefficients: \n",
            " [ 0.38063133  0.08458499  0.04945088 -0.00526465  0.06777353  0.65250515\n",
            "  0.0102763   0.5628528  -1.22563425]\n",
            "                            OLS Regression Results                            \n",
            "==============================================================================\n",
            "Dep. Variable:                  HbA1C   R-squared:                       0.054\n",
            "Model:                            OLS   Adj. R-squared:                  0.017\n",
            "Method:                 Least Squares   F-statistic:                     1.460\n",
            "Date:                Sun, 11 Jun 2023   Prob (F-statistic):              0.174\n",
            "Time:                        19:42:14   Log-Likelihood:                -648.16\n",
            "No. Observations:                 214   AIC:                             1314.\n",
            "Df Residuals:                     205   BIC:                             1345.\n",
            "Df Model:                           8                                         \n",
            "Covariance Type:            nonrobust                                         \n",
            "=================================================================================\n",
            "                    coef    std err          t      P>|t|      [0.025      0.975]\n",
            "---------------------------------------------------------------------------------\n",
            "const            18.4708      4.372      4.225      0.000       9.851      27.090\n",
            "RandomGlucose     0.3806      0.422      0.903      0.368      -0.451       1.212\n",
            "BMI               0.0846      0.104      0.811      0.418      -0.121       0.290\n",
            "MUAC              0.0495      0.132      0.374      0.709      -0.211       0.310\n",
            "eGFR             -0.0053      0.012     -0.424      0.672      -0.030       0.019\n",
            "Hb                0.0678      0.039      1.723      0.086      -0.010       0.145\n",
            "R_ASIAN           5.2702      1.286      4.097      0.000       2.734       7.806\n",
            "R_BLACK           4.6280      1.314      3.521      0.001       2.037       7.219\n",
            "R_MIXED           5.1806      1.598      3.243      0.001       2.031       8.330\n",
            "R_WHITE           3.3921      1.294      2.622      0.009       0.841       5.943\n",
            "==============================================================================\n",
            "Omnibus:                      153.873   Durbin-Watson:                   1.713\n",
            "Prob(Omnibus):                  0.000   Jarque-Bera (JB):             2745.763\n",
            "Skew:                          -2.473   Prob(JB):                         0.00\n",
            "Kurtosis:                      19.837   Cond. No.                     1.87e+18\n",
            "==============================================================================\n",
            "\n",
            "Notes:\n",
            "[1] Standard Errors assume that the covariance matrix of the errors is correctly specified.\n",
            "[2] The smallest eigenvalue is 2.61e-30. This might indicate that there are\n",
            "strong multicollinearity problems or that the design matrix is singular.\n"
          ]
        }
      ]
    },
    {
      "cell_type": "markdown",
      "source": [
        "SkiKit Learn decision tree regressor to determine if HbA1C can be predicted by a subset of data.\n",
        "\n",
        "* `RandomGlucose', \n",
        "* `BMI', \n",
        "* `MUAC', \n",
        "* `eGFR', \n",
        "* `Hb', \n",
        "* `Race'"
      ],
      "metadata": {
        "id": "_hYDzKVbZqNm"
      }
    },
    {
      "cell_type": "code",
      "source": [
        "#@title\n",
        "df_reg = df[['RandomGlucose', 'BMI', 'MUAC', 'eGFR', 'Hb', 'HbA1C', 'Race']]\n",
        "df_reg = df_reg.dropna()\n",
        "\n",
        "y = pd.get_dummies(df_reg.Race, prefix='R')\n",
        "df_reg = pd.merge(df_reg, y, left_index=True, right_index=True)\n",
        "df_reg = df_reg.drop(columns=['Race'])\n",
        "#print(df_reg)\n",
        "\n",
        "cols = list(df_reg.columns)\n",
        "cols.remove('HbA1C')\n",
        "\n",
        "X = df_reg[cols]\n",
        "y = df_reg['HbA1C']\n",
        "\n",
        "\n",
        "X_train, X_test, y_train, y_test = train_test_split(X, y, random_state=0)\n",
        "print(X_train.shape, X_test.shape)\n",
        "\n",
        "# Fit data to tree-based regression model\n",
        "regressor = DecisionTreeRegressor(random_state=2)\n",
        "regressor.fit(X_train, y_train)\n",
        "y_pred = regressor.predict(X_test)\n",
        "\n",
        "# Accuracy scores\n",
        "test_score = accuracy_score(y_test, y_pred)\n",
        "rsquare = r2_score(y_test, y_pred)\n",
        "print(\"Accuracy score of the tree = {:2.2%}\".format(test_score)) \n",
        "\n",
        "# Visualising the decision tree regression results\n",
        "plt.figure(figsize=(6,6), dpi=150)\n",
        "plot_tree(regressor,max_depth=2,feature_names=X.columns, impurity=False)\n",
        "plt.show()"
      ],
      "metadata": {
        "colab": {
          "base_uri": "https://localhost:8080/",
          "height": 776
        },
        "cellView": "form",
        "id": "beaKWtqWN9s3",
        "outputId": "51e86aa5-4e7b-4707-a42e-5c54b8076f0d"
      },
      "execution_count": 102,
      "outputs": [
        {
          "output_type": "stream",
          "name": "stdout",
          "text": [
            "(160, 9) (54, 9)\n",
            "Accuracy score of the tree = 5.56%\n"
          ]
        },
        {
          "output_type": "display_data",
          "data": {
            "text/plain": [
              "<Figure size 900x900 with 1 Axes>"
            ],
            "image/png": "[encoded data removed]"
          },
          "metadata": {}
        }
      ]
    },
    {
      "cell_type": "markdown",
      "source": [
        "Regression analysis shows HbA1C can not be used to determine HbA1C."
      ],
      "metadata": {
        "id": "a9UXDYBUYhHx"
      }
    },
    {
      "cell_type": "markdown",
      "metadata": {
        "id": "aSuTzFDByi-l"
      },
      "source": [
        "## **Creatinine > 80**\n",
        "Creatinine is an important indicator of kidney health, because it is an easily measured byproduct of muscle metabolism that is excreted unchanged by the kidneys."
      ]
    },
    {
      "cell_type": "markdown",
      "source": [
        "### Overview\n",
        "This figure shows the spread of `Creatinine > 80' in the population."
      ],
      "metadata": {
        "id": "CpPo8DWQf3W7"
      }
    },
    {
      "cell_type": "code",
      "execution_count": 103,
      "metadata": {
        "id": "nbCKAO1Ryi-m",
        "outputId": "756f00d1-9531-4024-be62-74a0d734f2a0",
        "colab": {
          "base_uri": "https://localhost:8080/",
          "height": 1000
        }
      },
      "outputs": [
        {
          "output_type": "display_data",
          "data": {
            "text/html": [
              "<html>\n",
              "<head><meta charset=\"utf-8\" /></head>\n",
              "<body>\n",
              "    <div>            <script src=\"https://cdnjs.cloudflare.com/ajax/libs/mathjax/2.7.5/MathJax.js?config=TeX-AMS-MML_SVG\"></script><script type=\"text/javascript\">if (window.MathJax && window.MathJax.Hub && window.MathJax.Hub.Config) {window.MathJax.Hub.Config({SVG: {font: \"STIX-Web\"}});}</script>                <script type=\"text/javascript\">window.PlotlyConfig = {MathJaxConfig: 'local'};</script>\n",
              "        <script src=\"https://cdn.plot.ly/plotly-2.18.2.min.js\"></script>                <div id=\"7beaa460-508c-49f1-a50f-22e3844c1dc9\" class=\"plotly-graph-div\" style=\"height:1000px; width:1000px;\"></div>            <script type=\"text/javascript\">                                    window.PLOTLYENV=window.PLOTLYENV || {};                                    if (document.getElementById(\"7beaa460-508c-49f1-a50f-22e3844c1dc9\")) {                    Plotly.newPlot(                        \"7beaa460-508c-49f1-a50f-22e3844c1dc9\",                        [{\"diagonal\":{\"visible\":false},\"dimensions\":[{\"label\":\"RandomGlucose\",\"values\":[3.5,4.6,4.4,6.1,4.8,5.3,5.3,3.8,4.4,4.2,4.2,4.5,4.5,4.0,4.4,5.4,5.2,4.5,4.5,4.5,4.8,3.9,4.6,5.4,4.0,4.6,4.2,5.3,5.7,5.2,5.1,4.3,5.7,7.7,4.8,5.0,4.9,4.5,4.9,4.8,5.2,4.0,5.9,4.4,3.5,3.8,null,null,4.9,4.9,4.8,4.8,4.9,5.6,4.6,4.5,4.5,4.5,5.3,4.6,5.2,4.7,5.1,null,4.7,7.1,5.0,5.9,4.4,4.5,4.6,5.8,4.7,4.6,4.1,4.2,4.3,4.5,5.3,5.5,4.2,3.1,5.0,4.4,4.7,4.7,3.9,5.3,5.6,5.1,5.1,2.9,5.4,4.5,4.9,5.1,4.4,4.9,4.3,5.3,4.4,4.3,5.2,3.3,4.8,10.2,4.7,4.1,4.2,4.5,4.0,3.8,4.6,4.8,5.0,4.0,4.3,4.5,4.1,4.9,4.8,null,4.8,5.0,5.3,5.9,6.5,4.8,4.2,4.7,3.9,3.9,4.1,4.9,4.1,4.5,4.8,5.0,4.5,8.8,5.1,4.4,3.8,5.1,4.2,4.0,4.5,4.0,4.5,4.6,4.2,4.4,4.4,4.0,6.6,4.2,4.9,5.6,4.7,3.8,5.7,4.3,3.9,4.6,4.0,4.5,4.0,4.4,4.6,7.0,4.7,3.5,4.4,3.6,5.3,3.6,5.3,5.3,4.7,4.6,4.4,4.4,4.0,5.4,5.2,4.4,4.6,4.7,6.0,6.2,4.7,4.5,4.2,3.8]},{\"label\":\"HbA1C\",\"values\":[37.0,39.0,40.0,35.0,37.0,39.0,38.0,32.0,30.0,34.0,38.0,43.0,33.0,45.0,32.0,36.0,40.0,37.0,35.0,31.0,31.0,0.0,36.0,42.0,36.0,37.0,37.0,33.0,33.0,36.0,35.0,38.0,34.0,5.7,38.0,41.0,42.0,43.0,33.0,33.0,27.0,36.0,32.0,39.0,29.0,36.0,38.0,34.0,34.0,32.0,39.0,40.0,35.0,36.0,35.0,35.0,36.0,35.0,39.0,37.0,35.0,36.0,35.0,39.0,41.0,54.0,37.0,35.0,35.0,36.0,37.0,38.0,37.0,28.0,31.0,39.0,33.0,33.0,31.0,39.0,29.0,38.0,41.0,36.0,34.0,38.0,null,44.0,41.0,41.0,42.0,42.0,36.0,34.0,45.0,41.0,39.0,34.0,33.0,33.0,32.0,33.0,29.0,34.0,36.0,34.0,35.0,36.0,32.0,34.0,32.0,29.0,34.0,40.0,37.0,43.0,32.0,37.0,29.0,38.0,32.0,null,40.0,38.0,38.0,31.0,34.0,32.0,35.0,34.0,41.0,39.0,31.0,39.0,34.0,38.0,35.0,37.0,38.0,39.0,39.0,31.0,31.0,40.0,36.0,38.0,33.0,35.0,41.0,35.0,37.0,41.0,39.0,37.0,39.0,38.0,36.0,34.0,47.0,35.0,31.0,35.0,33.0,32.0,35.0,30.0,37.0,33.0,33.0,48.0,44.0,34.0,40.0,41.0,38.0,39.0,37.0,35.0,35.0,39.0,37.0,32.0,35.0,40.0,35.0,40.0,33.0,39.0,41.0,35.0,41.0,36.0,39.0,32.0]},{\"label\":\"eGFR\",\"values\":[132.71416879795396,118.08,124.99142857142857,310.2426382978723,166.512813559322,136.56752542372882,193.9236923076923,122.51648275862071,110.0884647887324,135.1647,92.34225,134.9735769230769,186.19867241379313,145.32866949152543,167.9107692307692,151.94972727272727,116.44656,168.1918965517241,175.24661538461535,202.704,244.8731612903226,140.679737704918,276.0547826086957,179.20177500000003,143.6572602739726,158.40391836734693,134.316,226.66061538461537,180.83544827586203,122.16891891891892,122.96215384615385,155.49755844155845,162.18376119402984,137.76,124.81661538461539,146.5668,113.36358620689653,135.55701492537312,236.28300000000002,177.22022222222222,172.83483870967743,154.58261538461537,130.44150000000002,159.777,85.16383333333333,121.846875,220.77679999999998,116.40905660377359,174.9306,119.63368421052631,139.34605263157894,169.5148474576271,222.5808,150.7130181818182,122.877,156.99272727272728,132.56547826086955,122.22685714285713,151.43898591549296,139.072,161.4194117647059,206.64,157.67394117647058,122.68164705882351,160.06557692307692,140.8104,221.1472602739726,184.27039999999997,164.94947368421052,224.26254545454546,194.92283076923076,179.9408,168.428,207.45999999999998,142.32046153846153,111.80052631578947,131.03365714285715,114.40490909090909,125.88037974683543,175.78820689655174,118.83205714285712,97.10526315789474,130.1446956521739,191.81328813559318,128.15616000000003,191.11740000000003,150.78745714285714,196.8,146.18363636363634,207.10963636363633,170.17489285714285,156.13764705882355,101.975661971831,107.37899999999999,126.2349,152.86818461538462,170.41848387096775,180.41261538461538,156.92457142857143,126.567,150.5028,204.40180327868853,124.84500000000001,152.70345762711867,194.07093749999999,151.08780821917807,132.13152,126.40040506329113,195.562064516129,164.7874411764706,163.14434782608694,248.75689655172414,119.45205633802816,193.98108196721313,165.69857142857143,117.14234782608695,136.19695384615383,147.108,95.8375,182.27207547169812,132.00881818181819,null,128.40130434782606,189.80266666666668,129.85725,116.91307692307694,137.77468656716417,171.08915625,252.8388,131.2784347826087,99.76904347826085,165.07771428571428,93.17509859154929,181.86428571428573,161.6331818181818,255.44639999999998,237.144,198.08218181818182,158.63215384615384,147.06435483870965,179.97677419354838,168.28096551724138,107.3608524590164,268.5938275862069,148.24173913043478,166.48554098360657,163.64178947368418,138.58863157894737,97.06642105263157,141.3457627118644,131.979,141.8928,110.36454545454545,179.38489655172413,276.1324897959184,149.1744,156.33925423728812,153.18112499999998,171.43739999999997,205.656,147.21285245901637,199.42131147540985,120.53999999999998,98.58345762711865,157.18033333333332,164.69699999999997,145.5585671641791,225.32322077922078,151.7954794520548,347.7236170212766,224.72685714285714,143.8620779220779,156.33067924528305,157.72114285714284,165.68289230769227,130.19076923076923,224.32347826086956,123.04685714285714,129.88799999999998,121.41559322033898,193.81406896551724,116.49857142857142,120.90021428571428,144.78857142857143,164.34337499999998,102.85533333333332,158.60166666666666,191.5340625,123.04612499999999,176.25444444444443,151.8018387096774,120.03238095238095,167.91793220338982,159.01440000000002]},{\"label\":\"Hb\",\"values\":[132.0,70.0,139.0,124.0,141.0,124.0,125.0,126.0,131.0,135.0,134.0,123.0,113.0,134.0,139.0,147.0,130.0,134.0,119.0,118.0,130.0,124.0,131.0,119.0,121.0,128.0,139.0,114.0,131.0,135.0,130.0,132.0,129.0,124.0,139.0,117.0,124.0,118.0,112.0,121.0,119.0,133.0,131.0,131.0,130.0,136.0,97.0,122.0,123.0,132.0,119.0,118.0,121.0,120.0,119.0,125.0,111.0,126.0,130.0,120.0,112.0,122.0,133.0,null,118.0,129.0,118.0,111.0,115.0,124.0,125.0,124.0,116.0,115.0,134.0,133.0,130.0,132.0,144.0,127.0,120.0,119.0,133.0,134.0,130.0,130.0,null,137.0,144.0,129.0,137.0,123.0,149.0,137.0,122.0,126.0,124.0,129.0,134.0,121.0,126.0,133.0,127.0,124.0,120.0,140.0,136.0,110.0,128.0,141.0,122.0,110.0,130.0,134.0,127.0,125.0,133.0,131.0,119.0,132.0,132.0,null,126.0,125.0,131.0,129.0,125.0,128.0,114.0,131.0,138.0,135.0,122.0,127.0,143.0,129.0,119.0,130.0,126.0,136.0,114.0,117.0,130.0,118.0,127.0,137.0,120.0,122.0,147.0,134.0,117.0,119.0,121.0,131.0,139.0,129.0,123.0,130.0,137.0,114.0,120.0,115.0,135.0,121.0,127.0,120.0,132.0,116.0,124.0,129.0,117.0,107.0,131.0,143.0,140.0,122.0,117.0,110.0,111.0,140.0,137.0,114.0,125.0,122.0,140.0,129.0,120.0,118.0,134.0,102.0,122.0,137.0,127.0,111.0]},{\"label\":\"ALT\",\"values\":[null,null,null,null,null,null,null,null,null,null,null,null,null,null,null,null,null,null,null,null,null,null,null,null,null,null,null,null,null,null,null,null,null,null,null,null,null,null,null,null,null,null,null,null,null,null,null,null,null,null,null,null,null,null,null,null,null,null,null,null,null,null,null,null,null,null,null,null,null,null,null,null,null,null,null,null,null,null,null,null,null,null,null,null,null,null,null,null,null,null,null,null,null,null,null,null,null,null,null,null,null,null,null,null,null,null,null,null,null,null,null,null,null,39.0,15.0,25.0,26.0,31.0,29.0,33.0,68.0,null,18.0,31.0,21.0,44.0,50.0,39.0,31.0,17.0,24.0,14.0,14.0,67.0,29.0,36.0,19.0,33.0,null,24.0,22.0,33.0,25.0,56.0,35.0,27.0,13.0,24.0,23.0,34.0,17.0,13.0,11.0,32.0,39.0,38.0,68.0,43.0,67.0,37.0,21.0,51.0,38.0,24.0,28.0,24.0,21.0,14.0,14.0,21.0,32.0,16.0,53.0,17.0,29.0,26.0,8.0,17.0,20.0,34.0,155.0,18.0,35.0,27.0,25.0,23.0,12.0,21.0,24.0,11.0,23.0,26.0,22.0,17.0]},{\"label\":\"Creatinine\",\"values\":[69.0,66.0,63.0,47.0,59.0,59.0,65.0,58.0,71.0,65.0,80.0,78.0,58.0,59.0,39.0,66.0,75.0,58.0,52.0,62.0,62.0,61.0,46.0,80.0,73.0,49.0,68.0,52.0,58.0,74.0,78.0,77.0,67.0,75.0,52.0,60.0,58.0,67.0,52.0,54.0,62.0,65.0,64.0,70.0,72.0,64.0,60.0,53.0,80.0,57.0,76.0,59.0,75.0,55.0,70.0,66.0,69.0,63.0,71.0,54.0,68.0,54.0,51.0,68.0,52.0,60.0,73.0,60.0,57.0,55.0,65.0,60.0,60.0,63.0,52.0,76.0,70.0,66.0,79.0,58.0,70.0,76.0,69.0,59.0,75.0,60.0,70.0,75.0,66.0,44.0,56.0,68.0,71.0,72.0,60.0,65.0,62.0,65.0,63.0,60.0,60.0,61.0,66.0,59.0,64.0,73.0,75.0,79.0,62.0,68.0,69.0,58.0,71.0,61.0,63.0,69.0,65.0,60.0,72.0,53.0,66.0,null,69.0,54.0,64.0,78.0,67.0,64.0,60.0,69.0,69.0,63.0,71.0,49.0,66.0,50.0,54.0,66.0,65.0,62.0,62.0,58.0,61.0,58.0,69.0,61.0,57.0,76.0,76.0,59.0,54.0,60.0,66.0,58.0,49.0,65.0,59.0,64.0,60.0,60.0,61.0,61.0,77.0,59.0,72.0,54.0,67.0,77.0,73.0,47.0,63.0,77.0,53.0,63.0,65.0,65.0,69.0,63.0,52.0,59.0,58.0,70.0,56.0,56.0,80.0,72.0,72.0,64.0,64.0,54.0,62.0,63.0,59.0,65.0]},{\"label\":\"ACR\",\"values\":[7.4,9.3,91.3,null,6.6,0,12.1,18,18.7,12,8.2,0,5.1,14.9,8.9,4.8,7.5,9.3,6.6,0,0,12.2,22.3,1.6,1.2,0.8,0,3.3,0.4,0.6,0,0.4,0,null,0,0.8,0,0.5,0.4,0.9,1.3,1.1,1.2,1.2,1.9,3.7,3.1,6.5,1.6,0,3.2,0.3,2.4,2.7,0,1.4,2.5,17.1,1.3,7.3,0,0.7,1.4,1.7,0.6,0.5,2.4,0.6,0,0.8,14.3,5.5,59.2,0.9,1,1,0.7,1.5,0.5,0.4,1,1.6,3.3,23.9,0.6,3.3,0.9,0.9,1.9,2.2,1.4,1.7,3.4,7.6,15.5,1.3,1.7,2,0.4,1.1,7.5,2,2.2,0.4,0.7,10.8,2.5,3.8,16.8,1.2,4.5,3.2,0.5,48.5,0.4,0.6,0.8,1.3,2.6,1.1,1.6,70,1,5.8,0.3,7.8,0,2.5,5.3,0.8,0,0.7,1.5,1,5.1,2,12.6,2.2,0.6,0.9,0.6,1.1,0,1.1,0.8,0,3.3,2.8,7.3,1.8,0,0.5,2.3,1.6,0.7,3.1,0,11.4,3.2,0.9,1.9,0.8,0,1.3,2.8,0.9,0.8,0.8,0.7,5.2,2.5,3.8,2.6,1.5,0,2.5,0.8,2.1,10,0.6,0,1.7,3.3,0,0,7.3,2.4,1.1,0.7,89.9,2,0,1.7,0.5]},{\"label\":\"Age\",\"values\":[34,44,30,29,36,37,35,39,31,41,35,37,27,33,30,33,43,37,32,37,29,32,24,39,42,24,38,27,38,35,32,36,32,35,43,32,36,36,27,34,30,35,39,35,37,40,34,45,36,35,35,28,23,32,35,36,37,29,42,34,25,35,33,32,39,32,35,34,35,31,24,36,36,35,31,30,37,37,35,34,34,40,36,34,29,38,33,44,34,32,29,36,36,43,41,38,37,35,38,42,26,31,35,31,30,35,32,22,39,39,30,25,38,37,25,37,43,36,38,35,33,35,35,28,37,30,34,29,32,38,34,36,32,35,35,30,32,36,39,35,32,31,38,39,30,41,41,44,38,40,29,28,35,34,37,36,31,32,39,30,32,25,30,48,34,23,34,24,35,37,31,26,37,32,34,40,30,39,36,36,44,38,41,37,35,34,30,30,34,34,31,34,37,39]}],\"marker\":{\"color\":\"#191c40\",\"line\":{\"color\":\"white\",\"width\":0.5},\"showscale\":false},\"name\":\"Creatinine <= 80\",\"text\":[\"WM001\",\"WM002\",\"WM003\",\"WM004\",\"WM005\",\"WM006\",\"WM007\",\"WM008\",\"WM009\",\"WM014\",\"WM015\",\"WM017\",\"WM018\",\"WM019\",\"WM020\",\"WM023\",\"WM021\",\"WM024\",\"WM025\",\"WM027\",\"WM028\",\"WM029\",\"WM030\",\"WM031\",\"WM032\",\"WM034\",\"WM036\",\"WM037\",\"WM039\",\"WM038\",\"WM041\",\"WM042\",\"WM043\",\"WM044\",\"WM045\",\"WM046\",\"WM047\",\"WM048\",\"WM049\",\"WM050\",\"WM051\",\"WM052\",\"WM053\",\"WM054\",\"WM057\",\"WM058\",\"WM060\",\"WM061\",\"WM062\",\"WM063\",\"WM064\",\"WM065\",\"WM066\",\"WM067\",\"WM068\",\"WM070\",\"WM071\",\"WM073\",\"WM075\",\"WM076\",\"WM077\",\"WM079\",\"WM080\",\"WM081\",\"WM082\",\"WM083\",\"WM085\",\"WM086\",\"WM087\",\"WM090\",\"WM091\",\"WM092\",\"WM093\",\"WM094\",\"WM096\",\"WM095\",\"WM097\",\"WM098\",\"WM100\",\"WM104\",\"WM105\",\"WM106\",\"WM107\",\"WM108 \",\"WM110\",\"WM113\",\"WM114\",\"WM115\",\"WM118\",\"WM119\",\"WM121\",\"WM122\",\"WM123\",\"WM124\",\"WM125\",\"WM126\",\"WM127\",\"WM128\",\"WM129\",\"WM130\",\"WM131\",\"WM132\",\"WM134\",\"WM133\",\"WM136\",\"WM137\",\"WM139\",\"WM140\",\"WM141\",\"WM142\",\"WM143\",\"WM144\",\"WM145\",\"WM146\",\"WM147\",\"WM148\",\"WM150\",\"WM153\",\"WM154\",\"WM156\",\"WM157\",\"WM159\",\"WM160\",\"WM163\",\"WM164\",\"WM165\",\"WM170\",\"WM169\",\"WM171\",\"WM173\",\"WM174\",\"WM175\",\"WM176\",\"WM178\",\"WM177\",\"WM179\",\"WM182\",\"WM184\",\"WM188\",\"WM186\",\"WM183\",\"WM189\",\"WM190\",\"WM191\",\"WM192\",\"WM193\",\"WM195\",\"WM196\",\"WM199\",\"WM200\",\"WM201\",\"WM202\",\"WM203\",\"WM204\",\"WM206\",\"WM207\",\"WM208\",\"WM209\",\"WM210\",\"WM211\",\"WM214\",\"WM215\",\"WM217\",\"WM218\",\"WM219\",\"WM220\",\"WM224\",\"WM225\",\"WM226\",\"WM230\",\"WM232\",\"WM233\",\"WM234\",\"WM235\",\"WM236\",\"WM227\",\"WM237\",\"WM238\",\"WM239\",\"WM241\",\"WM242\",\"WM243\",\"WM244\",\"WM246\",\"WM247\",\"WM248\",\"WM249\",\"WM251\",\"WM253\",\"WM258\",\"WM259\",\"WM260\",\"WM261\",\"WM262\"],\"type\":\"splom\"},{\"diagonal\":{\"visible\":false},\"dimensions\":[{\"label\":\"RandomGlucose\",\"values\":[4.3,5.2,5.3,4.9,4.3,4.3,5.2,5.2,4.5,4.0,5.2,4.2,4.6,4.7,7.8,4.3,5.2,4.4,4.3,5.6,4.3,4.7,4.3,7.3,5.0]},{\"label\":\"HbA1C\",\"values\":[37.0,36.0,43.0,36.0,36.0,33.0,41.0,37.0,40.0,34.0,35.0,37.0,36.0,37.0,46.0,41.0,31.0,35.0,41.0,36.0,42.0,42.0,39.0,47.0,35.0]},{\"label\":\"eGFR\",\"values\":[161.04534705882352,85.06101176470588,180.42883516483514,84.88108108108108,103.76858823529412,100.76274418604653,104.40477108433737,132.63348148148148,99.17393258426966,128.865,251.715,99.85363636363635,106.78539130434783,107.6138181818182,144.28186046511627,123.66045652173912,85.73672093023256,137.60587951807227,123.984,89.14353488372092,116.71976470588235,136.9630625,135.096,99.7139294117647,129.15]},{\"label\":\"Hb\",\"values\":[111.0,125.0,117.0,129.0,123.0,111.0,126.0,114.0,119.0,118.0,122.0,130.0,129.0,139.0,126.0,129.0,129.0,112.0,130.0,138.0,123.0,125.0,139.0,122.0,113.0]},{\"label\":\"ALT\",\"values\":[null,null,null,null,null,null,null,null,null,null,39.0,25.0,69.0,null,71.0,38.0,22.0,15.0,41.0,38.0,14.0,12.0,52.0,21.0,47.0]},{\"label\":\"Creatinine\",\"values\":[85.0,85.0,91.0,111.0,85.0,86.0,83.0,81.0,89.0,82.0,82.0,88.0,92.0,88.0,86.0,92.0,86.0,83.0,85.0,86.0,85.0,96.0,82.0,85.0,90.0]},{\"label\":\"ACR\",\"values\":[6.2,8.6,1.3,2.7,1.9,20.7,1.3,1.9,1,0.5,3.4,0.8,3.6,1.1,0.9,0.8,0.7,1.1,0.4,0.5,0.5,0.9,0.6,1.5,7.7]},{\"label\":\"Age\",\"values\":[37,43,37,40,39,37,37,37,36,19,43,46,36,44,36,37,37,34,35,34,31,27,36,33,35]}],\"marker\":{\"color\":\"#b29758\",\"line\":{\"color\":\"white\",\"width\":0.5},\"showscale\":false},\"name\":\"Creatinine >  80\",\"text\":[\"WM016\",\"WM026\",\"WM033\",\"WM078\",\"WM088\",\"WM099\",\"WM103\",\"WM101\",\"WM122\",\"WM135\",\"WM155\",\"WM180\",\"KM187\",\"WM197\",\"WM198\",\"WM205\",\"WM212\",\"WM213\",\"WM216\",\"WM229\",\"WM240\",\"WM250\",\"WM252\",\"WM254\",\"WM256\"],\"type\":\"splom\"}],                        {\"template\":{\"data\":{\"histogram2dcontour\":[{\"type\":\"histogram2dcontour\",\"colorbar\":{\"outlinewidth\":0,\"ticks\":\"\"},\"colorscale\":[[0.0,\"#0d0887\"],[0.1111111111111111,\"#46039f\"],[0.2222222222222222,\"#7201a8\"],[0.3333333333333333,\"#9c179e\"],[0.4444444444444444,\"#bd3786\"],[0.5555555555555556,\"#d8576b\"],[0.6666666666666666,\"#ed7953\"],[0.7777777777777778,\"#fb9f3a\"],[0.8888888888888888,\"#fdca26\"],[1.0,\"#f0f921\"]]}],\"choropleth\":[{\"type\":\"choropleth\",\"colorbar\":{\"outlinewidth\":0,\"ticks\":\"\"}}],\"histogram2d\":[{\"type\":\"histogram2d\",\"colorbar\":{\"outlinewidth\":0,\"ticks\":\"\"},\"colorscale\":[[0.0,\"#0d0887\"],[0.1111111111111111,\"#46039f\"],[0.2222222222222222,\"#7201a8\"],[0.3333333333333333,\"#9c179e\"],[0.4444444444444444,\"#bd3786\"],[0.5555555555555556,\"#d8576b\"],[0.6666666666666666,\"#ed7953\"],[0.7777777777777778,\"#fb9f3a\"],[0.8888888888888888,\"#fdca26\"],[1.0,\"#f0f921\"]]}],\"heatmap\":[{\"type\":\"heatmap\",\"colorbar\":{\"outlinewidth\":0,\"ticks\":\"\"},\"colorscale\":[[0.0,\"#0d0887\"],[0.1111111111111111,\"#46039f\"],[0.2222222222222222,\"#7201a8\"],[0.3333333333333333,\"#9c179e\"],[0.4444444444444444,\"#bd3786\"],[0.5555555555555556,\"#d8576b\"],[0.6666666666666666,\"#ed7953\"],[0.7777777777777778,\"#fb9f3a\"],[0.8888888888888888,\"#fdca26\"],[1.0,\"#f0f921\"]]}],\"heatmapgl\":[{\"type\":\"heatmapgl\",\"colorbar\":{\"outlinewidth\":0,\"ticks\":\"\"},\"colorscale\":[[0.0,\"#0d0887\"],[0.1111111111111111,\"#46039f\"],[0.2222222222222222,\"#7201a8\"],[0.3333333333333333,\"#9c179e\"],[0.4444444444444444,\"#bd3786\"],[0.5555555555555556,\"#d8576b\"],[0.6666666666666666,\"#ed7953\"],[0.7777777777777778,\"#fb9f3a\"],[0.8888888888888888,\"#fdca26\"],[1.0,\"#f0f921\"]]}],\"contourcarpet\":[{\"type\":\"contourcarpet\",\"colorbar\":{\"outlinewidth\":0,\"ticks\":\"\"}}],\"contour\":[{\"type\":\"contour\",\"colorbar\":{\"outlinewidth\":0,\"ticks\":\"\"},\"colorscale\":[[0.0,\"#0d0887\"],[0.1111111111111111,\"#46039f\"],[0.2222222222222222,\"#7201a8\"],[0.3333333333333333,\"#9c179e\"],[0.4444444444444444,\"#bd3786\"],[0.5555555555555556,\"#d8576b\"],[0.6666666666666666,\"#ed7953\"],[0.7777777777777778,\"#fb9f3a\"],[0.8888888888888888,\"#fdca26\"],[1.0,\"#f0f921\"]]}],\"surface\":[{\"type\":\"surface\",\"colorbar\":{\"outlinewidth\":0,\"ticks\":\"\"},\"colorscale\":[[0.0,\"#0d0887\"],[0.1111111111111111,\"#46039f\"],[0.2222222222222222,\"#7201a8\"],[0.3333333333333333,\"#9c179e\"],[0.4444444444444444,\"#bd3786\"],[0.5555555555555556,\"#d8576b\"],[0.6666666666666666,\"#ed7953\"],[0.7777777777777778,\"#fb9f3a\"],[0.8888888888888888,\"#fdca26\"],[1.0,\"#f0f921\"]]}],\"mesh3d\":[{\"type\":\"mesh3d\",\"colorbar\":{\"outlinewidth\":0,\"ticks\":\"\"}}],\"scatter\":[{\"fillpattern\":{\"fillmode\":\"overlay\",\"size\":10,\"solidity\":0.2},\"type\":\"scatter\"}],\"parcoords\":[{\"type\":\"parcoords\",\"line\":{\"colorbar\":{\"outlinewidth\":0,\"ticks\":\"\"}}}],\"scatterpolargl\":[{\"type\":\"scatterpolargl\",\"marker\":{\"colorbar\":{\"outlinewidth\":0,\"ticks\":\"\"}}}],\"bar\":[{\"error_x\":{\"color\":\"#2a3f5f\"},\"error_y\":{\"color\":\"#2a3f5f\"},\"marker\":{\"line\":{\"color\":\"#E5ECF6\",\"width\":0.5},\"pattern\":{\"fillmode\":\"overlay\",\"size\":10,\"solidity\":0.2}},\"type\":\"bar\"}],\"scattergeo\":[{\"type\":\"scattergeo\",\"marker\":{\"colorbar\":{\"outlinewidth\":0,\"ticks\":\"\"}}}],\"scatterpolar\":[{\"type\":\"scatterpolar\",\"marker\":{\"colorbar\":{\"outlinewidth\":0,\"ticks\":\"\"}}}],\"histogram\":[{\"marker\":{\"pattern\":{\"fillmode\":\"overlay\",\"size\":10,\"solidity\":0.2}},\"type\":\"histogram\"}],\"scattergl\":[{\"type\":\"scattergl\",\"marker\":{\"colorbar\":{\"outlinewidth\":0,\"ticks\":\"\"}}}],\"scatter3d\":[{\"type\":\"scatter3d\",\"line\":{\"colorbar\":{\"outlinewidth\":0,\"ticks\":\"\"}},\"marker\":{\"colorbar\":{\"outlinewidth\":0,\"ticks\":\"\"}}}],\"scattermapbox\":[{\"type\":\"scattermapbox\",\"marker\":{\"colorbar\":{\"outlinewidth\":0,\"ticks\":\"\"}}}],\"scatterternary\":[{\"type\":\"scatterternary\",\"marker\":{\"colorbar\":{\"outlinewidth\":0,\"ticks\":\"\"}}}],\"scattercarpet\":[{\"type\":\"scattercarpet\",\"marker\":{\"colorbar\":{\"outlinewidth\":0,\"ticks\":\"\"}}}],\"carpet\":[{\"aaxis\":{\"endlinecolor\":\"#2a3f5f\",\"gridcolor\":\"white\",\"linecolor\":\"white\",\"minorgridcolor\":\"white\",\"startlinecolor\":\"#2a3f5f\"},\"baxis\":{\"endlinecolor\":\"#2a3f5f\",\"gridcolor\":\"white\",\"linecolor\":\"white\",\"minorgridcolor\":\"white\",\"startlinecolor\":\"#2a3f5f\"},\"type\":\"carpet\"}],\"table\":[{\"cells\":{\"fill\":{\"color\":\"#EBF0F8\"},\"line\":{\"color\":\"white\"}},\"header\":{\"fill\":{\"color\":\"#C8D4E3\"},\"line\":{\"color\":\"white\"}},\"type\":\"table\"}],\"barpolar\":[{\"marker\":{\"line\":{\"color\":\"#E5ECF6\",\"width\":0.5},\"pattern\":{\"fillmode\":\"overlay\",\"size\":10,\"solidity\":0.2}},\"type\":\"barpolar\"}],\"pie\":[{\"automargin\":true,\"type\":\"pie\"}]},\"layout\":{\"autotypenumbers\":\"strict\",\"colorway\":[\"#636efa\",\"#EF553B\",\"#00cc96\",\"#ab63fa\",\"#FFA15A\",\"#19d3f3\",\"#FF6692\",\"#B6E880\",\"#FF97FF\",\"#FECB52\"],\"font\":{\"color\":\"#2a3f5f\"},\"hovermode\":\"closest\",\"hoverlabel\":{\"align\":\"left\"},\"paper_bgcolor\":\"white\",\"plot_bgcolor\":\"#E5ECF6\",\"polar\":{\"bgcolor\":\"#E5ECF6\",\"angularaxis\":{\"gridcolor\":\"white\",\"linecolor\":\"white\",\"ticks\":\"\"},\"radialaxis\":{\"gridcolor\":\"white\",\"linecolor\":\"white\",\"ticks\":\"\"}},\"ternary\":{\"bgcolor\":\"#E5ECF6\",\"aaxis\":{\"gridcolor\":\"white\",\"linecolor\":\"white\",\"ticks\":\"\"},\"baxis\":{\"gridcolor\":\"white\",\"linecolor\":\"white\",\"ticks\":\"\"},\"caxis\":{\"gridcolor\":\"white\",\"linecolor\":\"white\",\"ticks\":\"\"}},\"coloraxis\":{\"colorbar\":{\"outlinewidth\":0,\"ticks\":\"\"}},\"colorscale\":{\"sequential\":[[0.0,\"#0d0887\"],[0.1111111111111111,\"#46039f\"],[0.2222222222222222,\"#7201a8\"],[0.3333333333333333,\"#9c179e\"],[0.4444444444444444,\"#bd3786\"],[0.5555555555555556,\"#d8576b\"],[0.6666666666666666,\"#ed7953\"],[0.7777777777777778,\"#fb9f3a\"],[0.8888888888888888,\"#fdca26\"],[1.0,\"#f0f921\"]],\"sequentialminus\":[[0.0,\"#0d0887\"],[0.1111111111111111,\"#46039f\"],[0.2222222222222222,\"#7201a8\"],[0.3333333333333333,\"#9c179e\"],[0.4444444444444444,\"#bd3786\"],[0.5555555555555556,\"#d8576b\"],[0.6666666666666666,\"#ed7953\"],[0.7777777777777778,\"#fb9f3a\"],[0.8888888888888888,\"#fdca26\"],[1.0,\"#f0f921\"]],\"diverging\":[[0,\"#8e0152\"],[0.1,\"#c51b7d\"],[0.2,\"#de77ae\"],[0.3,\"#f1b6da\"],[0.4,\"#fde0ef\"],[0.5,\"#f7f7f7\"],[0.6,\"#e6f5d0\"],[0.7,\"#b8e186\"],[0.8,\"#7fbc41\"],[0.9,\"#4d9221\"],[1,\"#276419\"]]},\"xaxis\":{\"gridcolor\":\"white\",\"linecolor\":\"white\",\"ticks\":\"\",\"title\":{\"standoff\":15},\"zerolinecolor\":\"white\",\"automargin\":true,\"zerolinewidth\":2},\"yaxis\":{\"gridcolor\":\"white\",\"linecolor\":\"white\",\"ticks\":\"\",\"title\":{\"standoff\":15},\"zerolinecolor\":\"white\",\"automargin\":true,\"zerolinewidth\":2},\"scene\":{\"xaxis\":{\"backgroundcolor\":\"#E5ECF6\",\"gridcolor\":\"white\",\"linecolor\":\"white\",\"showbackground\":true,\"ticks\":\"\",\"zerolinecolor\":\"white\",\"gridwidth\":2},\"yaxis\":{\"backgroundcolor\":\"#E5ECF6\",\"gridcolor\":\"white\",\"linecolor\":\"white\",\"showbackground\":true,\"ticks\":\"\",\"zerolinecolor\":\"white\",\"gridwidth\":2},\"zaxis\":{\"backgroundcolor\":\"#E5ECF6\",\"gridcolor\":\"white\",\"linecolor\":\"white\",\"showbackground\":true,\"ticks\":\"\",\"zerolinecolor\":\"white\",\"gridwidth\":2}},\"shapedefaults\":{\"line\":{\"color\":\"#2a3f5f\"}},\"annotationdefaults\":{\"arrowcolor\":\"#2a3f5f\",\"arrowhead\":0,\"arrowwidth\":1},\"geo\":{\"bgcolor\":\"white\",\"landcolor\":\"#E5ECF6\",\"subunitcolor\":\"white\",\"showland\":true,\"showlakes\":true,\"lakecolor\":\"white\"},\"title\":{\"x\":0.05},\"mapbox\":{\"style\":\"light\"}}},\"title\":{\"text\":\"Creatinine > 80<br><sup><i>(n=25, 11.42%)</i></sup>\"},\"showlegend\":true,\"width\":1000,\"height\":1000},                        {\"responsive\": true}                    ).then(function(){\n",
              "                            \n",
              "var gd = document.getElementById('7beaa460-508c-49f1-a50f-22e3844c1dc9');\n",
              "var x = new MutationObserver(function (mutations, observer) {{\n",
              "        var display = window.getComputedStyle(gd).display;\n",
              "        if (!display || display === 'none') {{\n",
              "            console.log([gd, 'removed!']);\n",
              "            Plotly.purge(gd);\n",
              "            observer.disconnect();\n",
              "        }}\n",
              "}});\n",
              "\n",
              "// Listen for the removal of the full notebook cells\n",
              "var notebookContainer = gd.closest('#notebook-container');\n",
              "if (notebookContainer) {{\n",
              "    x.observe(notebookContainer, {childList: true});\n",
              "}}\n",
              "\n",
              "// Listen for the clearing of the current output cell\n",
              "var outputEl = gd.closest('.output');\n",
              "if (outputEl) {{\n",
              "    x.observe(outputEl, {childList: true});\n",
              "}}\n",
              "\n",
              "                        })                };                            </script>        </div>\n",
              "</body>\n",
              "</html>"
            ]
          },
          "metadata": {}
        }
      ],
      "source": [
        "#@title\n",
        "#@Creatinine>90\n",
        "\n",
        "df[\"Creat80\"] = 0\n",
        "df.loc[df['Creatinine'] > 80, 'Creat80'] = 1\n",
        "sumc = df[\"Creat80\"].sum()\n",
        "\n",
        "fig = go.Figure()\n",
        "\n",
        "for tra in [0, 1]:\n",
        "    dft = df[df['Creat80']==tra]\n",
        "\n",
        "    if tra == 0:\n",
        "        name = 'Creatinine <= 80'\n",
        "        col = COLOURS[0]\n",
        "\n",
        "    else:\n",
        "        name = 'Creatinine >  80'\n",
        "        col = COLOURS[10]\n",
        "\n",
        "    fig.add_trace(go.Splom(\n",
        "                    dimensions=[\n",
        "                                dict(label='RandomGlucose',\n",
        "                                    values=dft['RandomGlucose']),\n",
        "                                dict(label='HbA1C',\n",
        "                                    values=dft['HbA1C']),\n",
        "                                dict(label='eGFR',\n",
        "                                    values=dft['eGFR']),\n",
        "                                dict(label='Hb',\n",
        "                                    values=dft['Hb']),\n",
        "                                dict(label='ALT',\n",
        "                                    values=dft['ALT']),\n",
        "                                dict(label='Creatinine',\n",
        "                                    values=dft['Creatinine']),\n",
        "                                dict(label='ACR',\n",
        "                                    values=dft['ACR']),\n",
        "                                dict(label='Age',\n",
        "                                    values=dft['Age']),\n",
        "                                    ],\n",
        "                    diagonal_visible=False, # remove plots on diagonal\n",
        "                    text=dft['Id'],\n",
        "                    name=name,\n",
        "                    marker=dict(color=col,\n",
        "                                showscale=False, # colors encode categorical variables\n",
        "                                line_color='white', line_width=0.5)\n",
        "                    ))\n",
        "\n",
        "\n",
        "fig.update_layout(\n",
        "    title=f\"Creatinine > 80<br><sup><i>(n={sumc}, {round(sumc / len(df) * 100, 2)}%)</i></sup>\",\n",
        "    showlegend=True,\n",
        "    width=1000,\n",
        "    height=1000,\n",
        ")\n",
        "\n",
        "fig.show()\n"
      ]
    },
    {
      "cell_type": "markdown",
      "metadata": {
        "id": "i9LxDpVzyi-n"
      },
      "source": [
        "### Creatinine by race"
      ]
    },
    {
      "cell_type": "code",
      "execution_count": 104,
      "metadata": {
        "id": "TVeI5-BIyi-n",
        "outputId": "e219df4a-5688-45d0-a882-02b6e1aea2b5",
        "colab": {
          "base_uri": "https://localhost:8080/",
          "height": 542
        }
      },
      "outputs": [
        {
          "output_type": "display_data",
          "data": {
            "text/html": [
              "<html>\n",
              "<head><meta charset=\"utf-8\" /></head>\n",
              "<body>\n",
              "    <div>            <script src=\"https://cdnjs.cloudflare.com/ajax/libs/mathjax/2.7.5/MathJax.js?config=TeX-AMS-MML_SVG\"></script><script type=\"text/javascript\">if (window.MathJax && window.MathJax.Hub && window.MathJax.Hub.Config) {window.MathJax.Hub.Config({SVG: {font: \"STIX-Web\"}});}</script>                <script type=\"text/javascript\">window.PlotlyConfig = {MathJaxConfig: 'local'};</script>\n",
              "        <script src=\"https://cdn.plot.ly/plotly-2.18.2.min.js\"></script>                <div id=\"a123bcd8-c280-4a55-9c89-4630dbc69d55\" class=\"plotly-graph-div\" style=\"height:525px; width:100%;\"></div>            <script type=\"text/javascript\">                                    window.PLOTLYENV=window.PLOTLYENV || {};                                    if (document.getElementById(\"a123bcd8-c280-4a55-9c89-4630dbc69d55\")) {                    Plotly.newPlot(                        \"a123bcd8-c280-4a55-9c89-4630dbc69d55\",                        [{\"marker\":{\"color\":\"#191c40\"},\"name\":\"WHITE<br><sup><i>(n=104)</i></sup>\",\"notched\":true,\"y\":[69.0,47.0,59.0,59.0,71.0,66.0,75.0,58.0,62.0,85.0,62.0,61.0,73.0,58.0,74.0,78.0,67.0,65.0,64.0,72.0,64.0,53.0,76.0,75.0,55.0,63.0,71.0,68.0,111.0,54.0,60.0,57.0,85.0,55.0,60.0,63.0,52.0,76.0,70.0,79.0,83.0,58.0,81.0,76.0,69.0,59.0,60.0,70.0,66.0,72.0,65.0,59.0,82.0,75.0,62.0,69.0,58.0,71.0,61.0,60.0,72.0,82.0,66.0,null,69.0,64.0,78.0,67.0,60.0,69.0,63.0,71.0,49.0,66.0,65.0,62.0,58.0,58.0,69.0,88.0,76.0,59.0,58.0,59.0,61.0,85.0,77.0,72.0,67.0,73.0,86.0,47.0,63.0,65.0,69.0,58.0,70.0,80.0,72.0,72.0,82.0,64.0,62.0,63.0],\"type\":\"box\"},{\"marker\":{\"color\":\"#404472\"},\"name\":\"MIXED<br><sup><i>(n=12)</i></sup>\",\"notched\":true,\"y\":[66.0,52.0,52.0,60.0,65.0,75.0,60.0,60.0,53.0,66.0,86.0,49.0],\"type\":\"box\"},{\"marker\":{\"color\":\"#5c5f7c\"},\"name\":\"BLACK<br><sup><i>(n=49)</i></sup>\",\"notched\":true,\"y\":[63.0,65.0,80.0,85.0,78.0,46.0,80.0,91.0,77.0,75.0,54.0,70.0,60.0,80.0,59.0,52.0,60.0,73.0,60.0,66.0,86.0,70.0,75.0,68.0,63.0,66.0,64.0,73.0,79.0,63.0,88.0,54.0,57.0,76.0,60.0,92.0,86.0,83.0,61.0,77.0,63.0,77.0,85.0,96.0,64.0,90.0,54.0,59.0,65.0],\"type\":\"box\"},{\"marker\":{\"color\":\"#c3c0c0\"},\"name\":\"ASIAN<br><sup><i>(n=54)</i></sup>\",\"notched\":true,\"y\":[58.0,65.0,58.0,59.0,39.0,49.0,68.0,52.0,58.0,67.0,52.0,62.0,57.0,70.0,66.0,69.0,54.0,51.0,68.0,44.0,56.0,89.0,71.0,60.0,65.0,62.0,61.0,68.0,69.0,65.0,54.0,64.0,69.0,50.0,62.0,92.0,61.0,61.0,54.0,66.0,65.0,64.0,60.0,60.0,59.0,54.0,53.0,65.0,63.0,52.0,59.0,56.0,56.0,85.0],\"type\":\"box\"},{\"marker\":{\"color\":\"#b29758\"},\"name\":\"All<br><sup><i>(n=219)</i></sup>\",\"notched\":true,\"y\":[69.0,66.0,63.0,47.0,59.0,59.0,65.0,58.0,71.0,65.0,80.0,85.0,78.0,58.0,59.0,39.0,66.0,75.0,58.0,52.0,62.0,85.0,62.0,61.0,46.0,80.0,73.0,91.0,49.0,68.0,52.0,58.0,74.0,78.0,77.0,67.0,75.0,52.0,60.0,58.0,67.0,52.0,54.0,62.0,65.0,64.0,70.0,72.0,64.0,60.0,53.0,80.0,57.0,76.0,59.0,75.0,55.0,70.0,66.0,69.0,63.0,71.0,54.0,68.0,111.0,54.0,51.0,68.0,52.0,60.0,73.0,60.0,57.0,85.0,55.0,65.0,60.0,60.0,63.0,52.0,76.0,70.0,66.0,79.0,86.0,83.0,58.0,70.0,81.0,76.0,69.0,59.0,75.0,60.0,70.0,75.0,66.0,44.0,56.0,68.0,89.0,71.0,72.0,60.0,65.0,62.0,65.0,63.0,60.0,60.0,61.0,66.0,59.0,82.0,64.0,73.0,75.0,79.0,62.0,68.0,69.0,58.0,71.0,61.0,63.0,69.0,65.0,60.0,72.0,82.0,53.0,66.0,null,69.0,54.0,64.0,78.0,67.0,64.0,60.0,69.0,69.0,63.0,71.0,49.0,66.0,50.0,88.0,54.0,66.0,65.0,62.0,92.0,62.0,58.0,61.0,58.0,69.0,61.0,57.0,76.0,88.0,86.0,76.0,59.0,54.0,60.0,66.0,58.0,92.0,49.0,65.0,59.0,64.0,60.0,60.0,86.0,83.0,61.0,61.0,85.0,77.0,59.0,72.0,54.0,67.0,77.0,73.0,86.0,47.0,63.0,77.0,53.0,63.0,65.0,65.0,69.0,63.0,85.0,52.0,59.0,58.0,70.0,56.0,56.0,80.0,72.0,72.0,96.0,64.0,82.0,64.0,85.0,90.0,54.0,62.0,63.0,59.0,65.0],\"type\":\"box\"}],                        {\"template\":{\"data\":{\"histogram2dcontour\":[{\"type\":\"histogram2dcontour\",\"colorbar\":{\"outlinewidth\":0,\"ticks\":\"\"},\"colorscale\":[[0.0,\"#0d0887\"],[0.1111111111111111,\"#46039f\"],[0.2222222222222222,\"#7201a8\"],[0.3333333333333333,\"#9c179e\"],[0.4444444444444444,\"#bd3786\"],[0.5555555555555556,\"#d8576b\"],[0.6666666666666666,\"#ed7953\"],[0.7777777777777778,\"#fb9f3a\"],[0.8888888888888888,\"#fdca26\"],[1.0,\"#f0f921\"]]}],\"choropleth\":[{\"type\":\"choropleth\",\"colorbar\":{\"outlinewidth\":0,\"ticks\":\"\"}}],\"histogram2d\":[{\"type\":\"histogram2d\",\"colorbar\":{\"outlinewidth\":0,\"ticks\":\"\"},\"colorscale\":[[0.0,\"#0d0887\"],[0.1111111111111111,\"#46039f\"],[0.2222222222222222,\"#7201a8\"],[0.3333333333333333,\"#9c179e\"],[0.4444444444444444,\"#bd3786\"],[0.5555555555555556,\"#d8576b\"],[0.6666666666666666,\"#ed7953\"],[0.7777777777777778,\"#fb9f3a\"],[0.8888888888888888,\"#fdca26\"],[1.0,\"#f0f921\"]]}],\"heatmap\":[{\"type\":\"heatmap\",\"colorbar\":{\"outlinewidth\":0,\"ticks\":\"\"},\"colorscale\":[[0.0,\"#0d0887\"],[0.1111111111111111,\"#46039f\"],[0.2222222222222222,\"#7201a8\"],[0.3333333333333333,\"#9c179e\"],[0.4444444444444444,\"#bd3786\"],[0.5555555555555556,\"#d8576b\"],[0.6666666666666666,\"#ed7953\"],[0.7777777777777778,\"#fb9f3a\"],[0.8888888888888888,\"#fdca26\"],[1.0,\"#f0f921\"]]}],\"heatmapgl\":[{\"type\":\"heatmapgl\",\"colorbar\":{\"outlinewidth\":0,\"ticks\":\"\"},\"colorscale\":[[0.0,\"#0d0887\"],[0.1111111111111111,\"#46039f\"],[0.2222222222222222,\"#7201a8\"],[0.3333333333333333,\"#9c179e\"],[0.4444444444444444,\"#bd3786\"],[0.5555555555555556,\"#d8576b\"],[0.6666666666666666,\"#ed7953\"],[0.7777777777777778,\"#fb9f3a\"],[0.8888888888888888,\"#fdca26\"],[1.0,\"#f0f921\"]]}],\"contourcarpet\":[{\"type\":\"contourcarpet\",\"colorbar\":{\"outlinewidth\":0,\"ticks\":\"\"}}],\"contour\":[{\"type\":\"contour\",\"colorbar\":{\"outlinewidth\":0,\"ticks\":\"\"},\"colorscale\":[[0.0,\"#0d0887\"],[0.1111111111111111,\"#46039f\"],[0.2222222222222222,\"#7201a8\"],[0.3333333333333333,\"#9c179e\"],[0.4444444444444444,\"#bd3786\"],[0.5555555555555556,\"#d8576b\"],[0.6666666666666666,\"#ed7953\"],[0.7777777777777778,\"#fb9f3a\"],[0.8888888888888888,\"#fdca26\"],[1.0,\"#f0f921\"]]}],\"surface\":[{\"type\":\"surface\",\"colorbar\":{\"outlinewidth\":0,\"ticks\":\"\"},\"colorscale\":[[0.0,\"#0d0887\"],[0.1111111111111111,\"#46039f\"],[0.2222222222222222,\"#7201a8\"],[0.3333333333333333,\"#9c179e\"],[0.4444444444444444,\"#bd3786\"],[0.5555555555555556,\"#d8576b\"],[0.6666666666666666,\"#ed7953\"],[0.7777777777777778,\"#fb9f3a\"],[0.8888888888888888,\"#fdca26\"],[1.0,\"#f0f921\"]]}],\"mesh3d\":[{\"type\":\"mesh3d\",\"colorbar\":{\"outlinewidth\":0,\"ticks\":\"\"}}],\"scatter\":[{\"fillpattern\":{\"fillmode\":\"overlay\",\"size\":10,\"solidity\":0.2},\"type\":\"scatter\"}],\"parcoords\":[{\"type\":\"parcoords\",\"line\":{\"colorbar\":{\"outlinewidth\":0,\"ticks\":\"\"}}}],\"scatterpolargl\":[{\"type\":\"scatterpolargl\",\"marker\":{\"colorbar\":{\"outlinewidth\":0,\"ticks\":\"\"}}}],\"bar\":[{\"error_x\":{\"color\":\"#2a3f5f\"},\"error_y\":{\"color\":\"#2a3f5f\"},\"marker\":{\"line\":{\"color\":\"#E5ECF6\",\"width\":0.5},\"pattern\":{\"fillmode\":\"overlay\",\"size\":10,\"solidity\":0.2}},\"type\":\"bar\"}],\"scattergeo\":[{\"type\":\"scattergeo\",\"marker\":{\"colorbar\":{\"outlinewidth\":0,\"ticks\":\"\"}}}],\"scatterpolar\":[{\"type\":\"scatterpolar\",\"marker\":{\"colorbar\":{\"outlinewidth\":0,\"ticks\":\"\"}}}],\"histogram\":[{\"marker\":{\"pattern\":{\"fillmode\":\"overlay\",\"size\":10,\"solidity\":0.2}},\"type\":\"histogram\"}],\"scattergl\":[{\"type\":\"scattergl\",\"marker\":{\"colorbar\":{\"outlinewidth\":0,\"ticks\":\"\"}}}],\"scatter3d\":[{\"type\":\"scatter3d\",\"line\":{\"colorbar\":{\"outlinewidth\":0,\"ticks\":\"\"}},\"marker\":{\"colorbar\":{\"outlinewidth\":0,\"ticks\":\"\"}}}],\"scattermapbox\":[{\"type\":\"scattermapbox\",\"marker\":{\"colorbar\":{\"outlinewidth\":0,\"ticks\":\"\"}}}],\"scatterternary\":[{\"type\":\"scatterternary\",\"marker\":{\"colorbar\":{\"outlinewidth\":0,\"ticks\":\"\"}}}],\"scattercarpet\":[{\"type\":\"scattercarpet\",\"marker\":{\"colorbar\":{\"outlinewidth\":0,\"ticks\":\"\"}}}],\"carpet\":[{\"aaxis\":{\"endlinecolor\":\"#2a3f5f\",\"gridcolor\":\"white\",\"linecolor\":\"white\",\"minorgridcolor\":\"white\",\"startlinecolor\":\"#2a3f5f\"},\"baxis\":{\"endlinecolor\":\"#2a3f5f\",\"gridcolor\":\"white\",\"linecolor\":\"white\",\"minorgridcolor\":\"white\",\"startlinecolor\":\"#2a3f5f\"},\"type\":\"carpet\"}],\"table\":[{\"cells\":{\"fill\":{\"color\":\"#EBF0F8\"},\"line\":{\"color\":\"white\"}},\"header\":{\"fill\":{\"color\":\"#C8D4E3\"},\"line\":{\"color\":\"white\"}},\"type\":\"table\"}],\"barpolar\":[{\"marker\":{\"line\":{\"color\":\"#E5ECF6\",\"width\":0.5},\"pattern\":{\"fillmode\":\"overlay\",\"size\":10,\"solidity\":0.2}},\"type\":\"barpolar\"}],\"pie\":[{\"automargin\":true,\"type\":\"pie\"}]},\"layout\":{\"autotypenumbers\":\"strict\",\"colorway\":[\"#636efa\",\"#EF553B\",\"#00cc96\",\"#ab63fa\",\"#FFA15A\",\"#19d3f3\",\"#FF6692\",\"#B6E880\",\"#FF97FF\",\"#FECB52\"],\"font\":{\"color\":\"#2a3f5f\"},\"hovermode\":\"closest\",\"hoverlabel\":{\"align\":\"left\"},\"paper_bgcolor\":\"white\",\"plot_bgcolor\":\"#E5ECF6\",\"polar\":{\"bgcolor\":\"#E5ECF6\",\"angularaxis\":{\"gridcolor\":\"white\",\"linecolor\":\"white\",\"ticks\":\"\"},\"radialaxis\":{\"gridcolor\":\"white\",\"linecolor\":\"white\",\"ticks\":\"\"}},\"ternary\":{\"bgcolor\":\"#E5ECF6\",\"aaxis\":{\"gridcolor\":\"white\",\"linecolor\":\"white\",\"ticks\":\"\"},\"baxis\":{\"gridcolor\":\"white\",\"linecolor\":\"white\",\"ticks\":\"\"},\"caxis\":{\"gridcolor\":\"white\",\"linecolor\":\"white\",\"ticks\":\"\"}},\"coloraxis\":{\"colorbar\":{\"outlinewidth\":0,\"ticks\":\"\"}},\"colorscale\":{\"sequential\":[[0.0,\"#0d0887\"],[0.1111111111111111,\"#46039f\"],[0.2222222222222222,\"#7201a8\"],[0.3333333333333333,\"#9c179e\"],[0.4444444444444444,\"#bd3786\"],[0.5555555555555556,\"#d8576b\"],[0.6666666666666666,\"#ed7953\"],[0.7777777777777778,\"#fb9f3a\"],[0.8888888888888888,\"#fdca26\"],[1.0,\"#f0f921\"]],\"sequentialminus\":[[0.0,\"#0d0887\"],[0.1111111111111111,\"#46039f\"],[0.2222222222222222,\"#7201a8\"],[0.3333333333333333,\"#9c179e\"],[0.4444444444444444,\"#bd3786\"],[0.5555555555555556,\"#d8576b\"],[0.6666666666666666,\"#ed7953\"],[0.7777777777777778,\"#fb9f3a\"],[0.8888888888888888,\"#fdca26\"],[1.0,\"#f0f921\"]],\"diverging\":[[0,\"#8e0152\"],[0.1,\"#c51b7d\"],[0.2,\"#de77ae\"],[0.3,\"#f1b6da\"],[0.4,\"#fde0ef\"],[0.5,\"#f7f7f7\"],[0.6,\"#e6f5d0\"],[0.7,\"#b8e186\"],[0.8,\"#7fbc41\"],[0.9,\"#4d9221\"],[1,\"#276419\"]]},\"xaxis\":{\"gridcolor\":\"white\",\"linecolor\":\"white\",\"ticks\":\"\",\"title\":{\"standoff\":15},\"zerolinecolor\":\"white\",\"automargin\":true,\"zerolinewidth\":2},\"yaxis\":{\"gridcolor\":\"white\",\"linecolor\":\"white\",\"ticks\":\"\",\"title\":{\"standoff\":15},\"zerolinecolor\":\"white\",\"automargin\":true,\"zerolinewidth\":2},\"scene\":{\"xaxis\":{\"backgroundcolor\":\"#E5ECF6\",\"gridcolor\":\"white\",\"linecolor\":\"white\",\"showbackground\":true,\"ticks\":\"\",\"zerolinecolor\":\"white\",\"gridwidth\":2},\"yaxis\":{\"backgroundcolor\":\"#E5ECF6\",\"gridcolor\":\"white\",\"linecolor\":\"white\",\"showbackground\":true,\"ticks\":\"\",\"zerolinecolor\":\"white\",\"gridwidth\":2},\"zaxis\":{\"backgroundcolor\":\"#E5ECF6\",\"gridcolor\":\"white\",\"linecolor\":\"white\",\"showbackground\":true,\"ticks\":\"\",\"zerolinecolor\":\"white\",\"gridwidth\":2}},\"shapedefaults\":{\"line\":{\"color\":\"#2a3f5f\"}},\"annotationdefaults\":{\"arrowcolor\":\"#2a3f5f\",\"arrowhead\":0,\"arrowwidth\":1},\"geo\":{\"bgcolor\":\"white\",\"landcolor\":\"#E5ECF6\",\"subunitcolor\":\"white\",\"showland\":true,\"showlakes\":true,\"lakecolor\":\"white\"},\"title\":{\"x\":0.05},\"mapbox\":{\"style\":\"light\"}}},\"title\":{\"text\":\"Creatinine spread by race<br><sup><i>(n=219)</i></sup>\"},\"showlegend\":false,\"yaxis\":{\"title\":{\"text\":\"Creatinine<br><sup><i>mg/dL</i></sup>\"}}},                        {\"responsive\": true}                    ).then(function(){\n",
              "                            \n",
              "var gd = document.getElementById('a123bcd8-c280-4a55-9c89-4630dbc69d55');\n",
              "var x = new MutationObserver(function (mutations, observer) {{\n",
              "        var display = window.getComputedStyle(gd).display;\n",
              "        if (!display || display === 'none') {{\n",
              "            console.log([gd, 'removed!']);\n",
              "            Plotly.purge(gd);\n",
              "            observer.disconnect();\n",
              "        }}\n",
              "}});\n",
              "\n",
              "// Listen for the removal of the full notebook cells\n",
              "var notebookContainer = gd.closest('#notebook-container');\n",
              "if (notebookContainer) {{\n",
              "    x.observe(notebookContainer, {childList: true});\n",
              "}}\n",
              "\n",
              "// Listen for the clearing of the current output cell\n",
              "var outputEl = gd.closest('.output');\n",
              "if (outputEl) {{\n",
              "    x.observe(outputEl, {childList: true});\n",
              "}}\n",
              "\n",
              "                        })                };                            </script>        </div>\n",
              "</body>\n",
              "</html>"
            ]
          },
          "metadata": {}
        }
      ],
      "source": [
        "#@title\n",
        "\n",
        "fig = go.Figure()\n",
        "\n",
        "for count, race in enumerate(df.Race.unique()):\n",
        "    dft = df[df['Race']==race]\n",
        "    name = f\"{race}<br><sup><i>(n={len(dft)})</i></sup>\"\n",
        "    fig.add_trace(go.Box(y=dft['Creatinine'], name = name,\n",
        "                        notched=True,\n",
        "                        marker_color = COLOURS[count],\n",
        "                    ))\n",
        "name = f\"All<br><sup><i>(n={len(df)})</i></sup>\"\n",
        "fig.add_trace(go.Box(y=df['Creatinine'], name = name,\n",
        "                    notched=True,\n",
        "                    marker_color = COLOURS[10],\n",
        "                ))\n",
        "\n",
        "fig.update_layout(\n",
        "    title=f\"Creatinine spread by race<br><sup><i>(n={len(df)})</i></sup>\",\n",
        "    showlegend=False,\n",
        "    yaxis=go.layout.YAxis(\n",
        "    title=go.layout.yaxis.Title(\n",
        "        text=\"Creatinine<br><sup><i>mg/dL</i></sup>\"\n",
        "        )\n",
        "    )\n",
        ")\n",
        "\n",
        "fig.show()"
      ]
    },
    {
      "cell_type": "markdown",
      "metadata": {
        "id": "nWR5N_g-yi-n"
      },
      "source": [
        "## **eGFR < 90**\n",
        "Estimated glomerular filtration rate (eGFR) - test to determine kidney disease. eGFR normalises creatinine by Age and race.\n",
        "\n",
        "\n",
        "$eGFR=(140-age)*weight*1.23/creatinine$\n",
        "\n",
        "eGFR ranges can be classified in the following categories. In this notebook an eGFR < 90 is used as an indication of kidney disease.\n",
        "\n",
        "Range  | Description\n",
        "-------|------------\n",
        ">= 90  | Normal\n",
        "60-90  | Mildly decreased\n",
        "45-59  | Mildly to moderately decreased\n",
        "30-44  | Moderately to severely decreased\n",
        "15-29  | Severely decreased\n",
        "<15    | Kidney failure\n",
        "\n",
        "\n"
      ]
    },
    {
      "cell_type": "markdown",
      "source": [
        "### Overview\n",
        "This figure shows patients with an `eGFR < 90' in the population."
      ],
      "metadata": {
        "id": "ac7KoQ93flcX"
      }
    },
    {
      "cell_type": "code",
      "execution_count": 105,
      "metadata": {
        "id": "mekDZzEtyi-o",
        "outputId": "4bdaa007-1fce-48c5-92d2-3b7284f6f624",
        "colab": {
          "base_uri": "https://localhost:8080/",
          "height": 1000
        }
      },
      "outputs": [
        {
          "output_type": "stream",
          "name": "stdout",
          "text": [
            "eGFR < 90: 0.023\n"
          ]
        },
        {
          "output_type": "display_data",
          "data": {
            "text/html": [
              "<html>\n",
              "<head><meta charset=\"utf-8\" /></head>\n",
              "<body>\n",
              "    <div>            <script src=\"https://cdnjs.cloudflare.com/ajax/libs/mathjax/2.7.5/MathJax.js?config=TeX-AMS-MML_SVG\"></script><script type=\"text/javascript\">if (window.MathJax && window.MathJax.Hub && window.MathJax.Hub.Config) {window.MathJax.Hub.Config({SVG: {font: \"STIX-Web\"}});}</script>                <script type=\"text/javascript\">window.PlotlyConfig = {MathJaxConfig: 'local'};</script>\n",
              "        <script src=\"https://cdn.plot.ly/plotly-2.18.2.min.js\"></script>                <div id=\"4f316e61-1e7e-4863-812a-39953fc45a26\" class=\"plotly-graph-div\" style=\"height:1000px; width:1000px;\"></div>            <script type=\"text/javascript\">                                    window.PLOTLYENV=window.PLOTLYENV || {};                                    if (document.getElementById(\"4f316e61-1e7e-4863-812a-39953fc45a26\")) {                    Plotly.newPlot(                        \"4f316e61-1e7e-4863-812a-39953fc45a26\",                        [{\"diagonal\":{\"visible\":false},\"dimensions\":[{\"label\":\"RandomGlucose\",\"values\":[3.5,4.6,4.4,6.1,4.8,5.3,5.3,3.8,4.4,4.2,4.2,4.3,4.5,4.5,4.0,4.4,5.4,5.2,4.5,4.5,4.5,4.8,3.9,4.6,5.4,4.0,5.3,4.6,4.2,5.3,5.7,5.2,5.1,4.3,5.7,7.7,4.8,5.0,4.9,4.5,4.9,4.8,5.2,4.0,5.9,4.4,3.8,null,null,4.9,4.9,4.8,4.8,4.9,5.6,4.6,4.5,4.5,4.5,5.3,4.6,5.2,4.7,5.1,null,4.7,7.1,5.0,5.9,4.4,4.3,4.5,4.6,5.8,4.7,4.6,4.1,4.2,4.3,4.5,5.3,4.3,5.2,5.5,4.2,5.2,3.1,5.0,4.4,4.7,4.7,3.9,5.3,5.6,5.1,5.1,2.9,4.5,5.4,4.5,4.9,5.1,4.4,4.9,4.3,5.3,4.4,4.3,5.2,3.3,4.0,4.8,10.2,4.7,4.1,4.2,4.5,4.0,3.8,4.6,4.8,5.0,4.0,4.3,4.5,4.1,5.2,4.9,4.8,null,4.8,5.0,5.3,5.9,6.5,4.8,4.2,4.7,3.9,3.9,4.1,4.9,4.1,4.5,4.2,4.8,5.0,4.5,8.8,4.6,5.1,4.4,3.8,5.1,4.2,4.0,4.5,4.0,4.7,7.8,4.5,4.6,4.2,4.4,4.4,4.0,4.3,6.6,4.2,4.9,5.6,4.7,3.8,4.4,5.7,4.3,4.3,3.9,4.6,4.0,4.5,4.0,4.4,4.6,7.0,4.7,3.5,4.4,3.6,5.3,3.6,5.3,5.3,4.3,4.7,4.6,4.4,4.4,4.0,5.4,5.2,4.4,4.6,4.7,4.7,4.3,6.0,7.3,5.0,6.2,4.7,4.5,4.2,3.8]},{\"label\":\"HbA1C\",\"values\":[37.0,39.0,40.0,35.0,37.0,39.0,38.0,32.0,30.0,34.0,38.0,37.0,43.0,33.0,45.0,32.0,36.0,40.0,37.0,35.0,31.0,31.0,0.0,36.0,42.0,36.0,43.0,37.0,37.0,33.0,33.0,36.0,35.0,38.0,34.0,5.7,38.0,41.0,42.0,43.0,33.0,33.0,27.0,36.0,32.0,39.0,36.0,38.0,34.0,34.0,32.0,39.0,40.0,35.0,36.0,35.0,35.0,36.0,35.0,39.0,37.0,35.0,36.0,35.0,39.0,41.0,54.0,37.0,35.0,35.0,36.0,36.0,37.0,38.0,37.0,28.0,31.0,39.0,33.0,33.0,31.0,33.0,41.0,39.0,29.0,37.0,38.0,41.0,36.0,34.0,38.0,null,44.0,41.0,41.0,42.0,42.0,40.0,36.0,34.0,45.0,41.0,39.0,34.0,33.0,33.0,32.0,33.0,29.0,34.0,34.0,36.0,34.0,35.0,36.0,32.0,34.0,32.0,29.0,34.0,40.0,37.0,43.0,32.0,37.0,29.0,35.0,38.0,32.0,null,40.0,38.0,38.0,31.0,34.0,32.0,35.0,34.0,41.0,39.0,31.0,39.0,34.0,38.0,37.0,35.0,37.0,38.0,39.0,36.0,39.0,31.0,31.0,40.0,36.0,38.0,33.0,35.0,37.0,46.0,41.0,35.0,37.0,41.0,39.0,37.0,41.0,39.0,38.0,36.0,34.0,47.0,35.0,35.0,31.0,35.0,41.0,33.0,32.0,35.0,30.0,37.0,33.0,33.0,48.0,44.0,34.0,40.0,41.0,38.0,39.0,37.0,35.0,42.0,35.0,39.0,37.0,32.0,35.0,40.0,35.0,40.0,33.0,42.0,39.0,39.0,41.0,47.0,35.0,35.0,41.0,36.0,39.0,32.0]},{\"label\":\"eGFR\",\"values\":[132.71416879795396,118.08,124.99142857142857,310.2426382978723,166.512813559322,136.56752542372882,193.9236923076923,122.51648275862071,110.0884647887324,135.1647,92.34225,161.04534705882352,134.9735769230769,186.19867241379313,145.32866949152543,167.9107692307692,151.94972727272727,116.44656,168.1918965517241,175.24661538461535,202.704,244.8731612903226,140.679737704918,276.0547826086957,179.20177500000003,143.6572602739726,180.42883516483514,158.40391836734693,134.316,226.66061538461537,180.83544827586203,122.16891891891892,122.96215384615385,155.49755844155845,162.18376119402984,137.76,124.81661538461539,146.5668,113.36358620689653,135.55701492537312,236.28300000000002,177.22022222222222,172.83483870967743,154.58261538461537,130.44150000000002,159.777,121.846875,220.77679999999998,116.40905660377359,174.9306,119.63368421052631,139.34605263157894,169.5148474576271,222.5808,150.7130181818182,122.877,156.99272727272728,132.56547826086955,122.22685714285713,151.43898591549296,139.072,161.4194117647059,206.64,157.67394117647058,122.68164705882351,160.06557692307692,140.8104,221.1472602739726,184.27039999999997,164.94947368421052,103.76858823529412,224.26254545454546,194.92283076923076,179.9408,168.428,207.45999999999998,142.32046153846153,111.80052631578947,131.03365714285715,114.40490909090909,125.88037974683543,100.76274418604653,104.40477108433737,175.78820689655174,118.83205714285712,132.63348148148148,97.10526315789474,130.1446956521739,191.81328813559318,128.15616000000003,191.11740000000003,150.78745714285714,196.8,146.18363636363634,207.10963636363633,170.17489285714285,156.13764705882355,99.17393258426966,101.975661971831,107.37899999999999,126.2349,152.86818461538462,170.41848387096775,180.41261538461538,156.92457142857143,126.567,150.5028,204.40180327868853,124.84500000000001,152.70345762711867,128.865,194.07093749999999,151.08780821917807,132.13152,126.40040506329113,195.562064516129,164.7874411764706,163.14434782608694,248.75689655172414,119.45205633802816,193.98108196721313,165.69857142857143,117.14234782608695,136.19695384615383,147.108,95.8375,251.715,182.27207547169812,132.00881818181819,null,128.40130434782606,189.80266666666668,129.85725,116.91307692307694,137.77468656716417,171.08915625,252.8388,131.2784347826087,99.76904347826085,165.07771428571428,93.17509859154929,181.86428571428573,161.6331818181818,255.44639999999998,99.85363636363635,237.144,198.08218181818182,158.63215384615384,147.06435483870965,106.78539130434783,179.97677419354838,168.28096551724138,107.3608524590164,268.5938275862069,148.24173913043478,166.48554098360657,163.64178947368418,138.58863157894737,107.6138181818182,144.28186046511627,97.06642105263157,141.3457627118644,131.979,141.8928,110.36454545454545,179.38489655172413,123.66045652173912,276.1324897959184,149.1744,156.33925423728812,153.18112499999998,171.43739999999997,205.656,137.60587951807227,147.21285245901637,199.42131147540985,123.984,120.53999999999998,98.58345762711865,157.18033333333332,164.69699999999997,145.5585671641791,225.32322077922078,151.7954794520548,347.7236170212766,224.72685714285714,143.8620779220779,156.33067924528305,157.72114285714284,165.68289230769227,130.19076923076923,224.32347826086956,123.04685714285714,116.71976470588235,129.88799999999998,121.41559322033898,193.81406896551724,116.49857142857142,120.90021428571428,144.78857142857143,164.34337499999998,102.85533333333332,158.60166666666666,136.9630625,191.5340625,135.096,123.04612499999999,99.7139294117647,129.15,176.25444444444443,151.8018387096774,120.03238095238095,167.91793220338982,159.01440000000002]},{\"label\":\"Age\",\"values\":[34,44,30,29,36,37,35,39,31,41,35,37,37,27,33,30,33,43,37,32,37,29,32,24,39,42,37,24,38,27,38,35,32,36,32,35,43,32,36,36,27,34,30,35,39,35,40,34,45,36,35,35,28,23,32,35,36,37,29,42,34,25,35,33,32,39,32,35,34,35,39,31,24,36,36,35,31,30,37,37,35,37,37,34,34,37,40,36,34,29,38,33,44,34,32,29,36,36,36,43,41,38,37,35,38,42,26,31,35,31,19,30,35,32,22,39,39,30,25,38,37,25,37,43,36,38,43,35,33,35,35,28,37,30,34,29,32,38,34,36,32,35,35,30,46,32,36,39,35,36,32,31,38,39,30,41,41,44,44,36,38,40,29,28,35,34,37,37,36,31,32,39,30,34,32,25,35,30,48,34,23,34,24,35,37,31,26,37,32,34,40,30,39,31,36,36,44,38,41,37,35,34,30,27,30,36,34,33,35,34,31,34,37,39]},{\"label\":\"Hb\",\"values\":[132.0,70.0,139.0,124.0,141.0,124.0,125.0,126.0,131.0,135.0,134.0,111.0,123.0,113.0,134.0,139.0,147.0,130.0,134.0,119.0,118.0,130.0,124.0,131.0,119.0,121.0,117.0,128.0,139.0,114.0,131.0,135.0,130.0,132.0,129.0,124.0,139.0,117.0,124.0,118.0,112.0,121.0,119.0,133.0,131.0,131.0,136.0,97.0,122.0,123.0,132.0,119.0,118.0,121.0,120.0,119.0,125.0,111.0,126.0,130.0,120.0,112.0,122.0,133.0,null,118.0,129.0,118.0,111.0,115.0,123.0,124.0,125.0,124.0,116.0,115.0,134.0,133.0,130.0,132.0,144.0,111.0,126.0,127.0,120.0,114.0,119.0,133.0,134.0,130.0,130.0,null,137.0,144.0,129.0,137.0,123.0,119.0,149.0,137.0,122.0,126.0,124.0,129.0,134.0,121.0,126.0,133.0,127.0,124.0,118.0,120.0,140.0,136.0,110.0,128.0,141.0,122.0,110.0,130.0,134.0,127.0,125.0,133.0,131.0,119.0,122.0,132.0,132.0,null,126.0,125.0,131.0,129.0,125.0,128.0,114.0,131.0,138.0,135.0,122.0,127.0,143.0,129.0,130.0,119.0,130.0,126.0,136.0,129.0,114.0,117.0,130.0,118.0,127.0,137.0,120.0,122.0,139.0,126.0,147.0,134.0,117.0,119.0,121.0,131.0,129.0,139.0,129.0,123.0,130.0,137.0,114.0,112.0,120.0,115.0,130.0,135.0,121.0,127.0,120.0,132.0,116.0,124.0,129.0,117.0,107.0,131.0,143.0,140.0,122.0,117.0,110.0,123.0,111.0,140.0,137.0,114.0,125.0,122.0,140.0,129.0,120.0,125.0,118.0,139.0,134.0,122.0,113.0,102.0,122.0,137.0,127.0,111.0]},{\"label\":\"ALT\",\"values\":[null,null,null,null,null,null,null,null,null,null,null,null,null,null,null,null,null,null,null,null,null,null,null,null,null,null,null,null,null,null,null,null,null,null,null,null,null,null,null,null,null,null,null,null,null,null,null,null,null,null,null,null,null,null,null,null,null,null,null,null,null,null,null,null,null,null,null,null,null,null,null,null,null,null,null,null,null,null,null,null,null,null,null,null,null,null,null,null,null,null,null,null,null,null,null,null,null,null,null,null,null,null,null,null,null,null,null,null,null,null,null,null,null,null,null,null,null,null,null,null,39.0,15.0,25.0,26.0,31.0,29.0,39.0,33.0,68.0,null,18.0,31.0,21.0,44.0,50.0,39.0,31.0,17.0,24.0,14.0,14.0,67.0,29.0,36.0,25.0,19.0,33.0,null,24.0,69.0,22.0,33.0,25.0,56.0,35.0,27.0,13.0,24.0,null,71.0,23.0,34.0,17.0,13.0,11.0,32.0,38.0,39.0,38.0,68.0,43.0,67.0,37.0,15.0,21.0,51.0,41.0,38.0,24.0,28.0,24.0,21.0,14.0,14.0,21.0,32.0,16.0,53.0,17.0,29.0,26.0,8.0,17.0,14.0,20.0,34.0,155.0,18.0,35.0,27.0,25.0,23.0,12.0,12.0,21.0,52.0,24.0,21.0,47.0,11.0,23.0,26.0,22.0,17.0]},{\"label\":\"Creatinine\",\"values\":[69.0,66.0,63.0,47.0,59.0,59.0,65.0,58.0,71.0,65.0,80.0,85.0,78.0,58.0,59.0,39.0,66.0,75.0,58.0,52.0,62.0,62.0,61.0,46.0,80.0,73.0,91.0,49.0,68.0,52.0,58.0,74.0,78.0,77.0,67.0,75.0,52.0,60.0,58.0,67.0,52.0,54.0,62.0,65.0,64.0,70.0,64.0,60.0,53.0,80.0,57.0,76.0,59.0,75.0,55.0,70.0,66.0,69.0,63.0,71.0,54.0,68.0,54.0,51.0,68.0,52.0,60.0,73.0,60.0,57.0,85.0,55.0,65.0,60.0,60.0,63.0,52.0,76.0,70.0,66.0,79.0,86.0,83.0,58.0,70.0,81.0,76.0,69.0,59.0,75.0,60.0,70.0,75.0,66.0,44.0,56.0,68.0,89.0,71.0,72.0,60.0,65.0,62.0,65.0,63.0,60.0,60.0,61.0,66.0,59.0,82.0,64.0,73.0,75.0,79.0,62.0,68.0,69.0,58.0,71.0,61.0,63.0,69.0,65.0,60.0,72.0,82.0,53.0,66.0,null,69.0,54.0,64.0,78.0,67.0,64.0,60.0,69.0,69.0,63.0,71.0,49.0,66.0,50.0,88.0,54.0,66.0,65.0,62.0,92.0,62.0,58.0,61.0,58.0,69.0,61.0,57.0,76.0,88.0,86.0,76.0,59.0,54.0,60.0,66.0,58.0,92.0,49.0,65.0,59.0,64.0,60.0,60.0,83.0,61.0,61.0,85.0,77.0,59.0,72.0,54.0,67.0,77.0,73.0,47.0,63.0,77.0,53.0,63.0,65.0,65.0,69.0,63.0,85.0,52.0,59.0,58.0,70.0,56.0,56.0,80.0,72.0,72.0,96.0,64.0,82.0,64.0,85.0,90.0,54.0,62.0,63.0,59.0,65.0]},{\"label\":\"ACR\",\"values\":[7.4,9.3,91.3,null,6.6,0,12.1,18,18.7,12,8.2,6.2,0,5.1,14.9,8.9,4.8,7.5,9.3,6.6,0,0,12.2,22.3,1.6,1.2,1.3,0.8,0,3.3,0.4,0.6,0,0.4,0,null,0,0.8,0,0.5,0.4,0.9,1.3,1.1,1.2,1.2,3.7,3.1,6.5,1.6,0,3.2,0.3,2.4,2.7,0,1.4,2.5,17.1,1.3,7.3,0,0.7,1.4,1.7,0.6,0.5,2.4,0.6,0,1.9,0.8,14.3,5.5,59.2,0.9,1,1,0.7,1.5,0.5,20.7,1.3,0.4,1,1.9,1.6,3.3,23.9,0.6,3.3,0.9,0.9,1.9,2.2,1.4,1.7,1,3.4,7.6,15.5,1.3,1.7,2,0.4,1.1,7.5,2,2.2,0.4,0.5,0.7,10.8,2.5,3.8,16.8,1.2,4.5,3.2,0.5,48.5,0.4,0.6,0.8,1.3,2.6,3.4,1.1,1.6,70,1,5.8,0.3,7.8,0,2.5,5.3,0.8,0,0.7,1.5,1,5.1,2,0.8,12.6,2.2,0.6,0.9,3.6,0.6,1.1,0,1.1,0.8,0,3.3,2.8,1.1,0.9,7.3,1.8,0,0.5,2.3,1.6,0.8,0.7,3.1,0,11.4,3.2,0.9,1.1,1.9,0.8,0.4,0,1.3,2.8,0.9,0.8,0.8,0.7,5.2,2.5,3.8,2.6,1.5,0,2.5,0.8,2.1,0.5,10,0.6,0,1.7,3.3,0,0,7.3,2.4,0.9,1.1,0.6,0.7,1.5,7.7,89.9,2,0,1.7,0.5]}],\"marker\":{\"color\":\"#191c40\",\"line\":{\"color\":\"white\",\"width\":0.5},\"showscale\":false},\"name\":\"eGFR >= 90\",\"text\":[\"WM001\",\"WM002\",\"WM003\",\"WM004\",\"WM005\",\"WM006\",\"WM007\",\"WM008\",\"WM009\",\"WM014\",\"WM015\",\"WM016\",\"WM017\",\"WM018\",\"WM019\",\"WM020\",\"WM023\",\"WM021\",\"WM024\",\"WM025\",\"WM027\",\"WM028\",\"WM029\",\"WM030\",\"WM031\",\"WM032\",\"WM033\",\"WM034\",\"WM036\",\"WM037\",\"WM039\",\"WM038\",\"WM041\",\"WM042\",\"WM043\",\"WM044\",\"WM045\",\"WM046\",\"WM047\",\"WM048\",\"WM049\",\"WM050\",\"WM051\",\"WM052\",\"WM053\",\"WM054\",\"WM058\",\"WM060\",\"WM061\",\"WM062\",\"WM063\",\"WM064\",\"WM065\",\"WM066\",\"WM067\",\"WM068\",\"WM070\",\"WM071\",\"WM073\",\"WM075\",\"WM076\",\"WM077\",\"WM079\",\"WM080\",\"WM081\",\"WM082\",\"WM083\",\"WM085\",\"WM086\",\"WM087\",\"WM088\",\"WM090\",\"WM091\",\"WM092\",\"WM093\",\"WM094\",\"WM096\",\"WM095\",\"WM097\",\"WM098\",\"WM100\",\"WM099\",\"WM103\",\"WM104\",\"WM105\",\"WM101\",\"WM106\",\"WM107\",\"WM108 \",\"WM110\",\"WM113\",\"WM114\",\"WM115\",\"WM118\",\"WM119\",\"WM121\",\"WM122\",\"WM122\",\"WM123\",\"WM124\",\"WM125\",\"WM126\",\"WM127\",\"WM128\",\"WM129\",\"WM130\",\"WM131\",\"WM132\",\"WM134\",\"WM133\",\"WM135\",\"WM136\",\"WM137\",\"WM139\",\"WM140\",\"WM141\",\"WM142\",\"WM143\",\"WM144\",\"WM145\",\"WM146\",\"WM147\",\"WM148\",\"WM150\",\"WM153\",\"WM154\",\"WM155\",\"WM156\",\"WM157\",\"WM159\",\"WM160\",\"WM163\",\"WM164\",\"WM165\",\"WM170\",\"WM169\",\"WM171\",\"WM173\",\"WM174\",\"WM175\",\"WM176\",\"WM178\",\"WM177\",\"WM179\",\"WM180\",\"WM182\",\"WM184\",\"WM188\",\"WM186\",\"KM187\",\"WM183\",\"WM189\",\"WM190\",\"WM191\",\"WM192\",\"WM193\",\"WM195\",\"WM196\",\"WM197\",\"WM198\",\"WM199\",\"WM200\",\"WM201\",\"WM202\",\"WM203\",\"WM204\",\"WM205\",\"WM206\",\"WM207\",\"WM208\",\"WM209\",\"WM210\",\"WM211\",\"WM213\",\"WM214\",\"WM215\",\"WM216\",\"WM217\",\"WM218\",\"WM219\",\"WM220\",\"WM224\",\"WM225\",\"WM226\",\"WM230\",\"WM232\",\"WM233\",\"WM234\",\"WM235\",\"WM236\",\"WM227\",\"WM237\",\"WM238\",\"WM240\",\"WM239\",\"WM241\",\"WM242\",\"WM243\",\"WM244\",\"WM246\",\"WM247\",\"WM248\",\"WM249\",\"WM250\",\"WM251\",\"WM252\",\"WM253\",\"WM254\",\"WM256\",\"WM258\",\"WM259\",\"WM260\",\"WM261\",\"WM262\"],\"type\":\"splom\"},{\"diagonal\":{\"visible\":false},\"dimensions\":[{\"label\":\"RandomGlucose\",\"values\":[5.2,3.5,4.9,5.2,5.6]},{\"label\":\"HbA1C\",\"values\":[36.0,29.0,36.0,31.0,36.0]},{\"label\":\"eGFR\",\"values\":[85.06101176470588,85.16383333333333,84.88108108108108,85.73672093023256,89.14353488372092]},{\"label\":\"Age\",\"values\":[43,37,40,37,34]},{\"label\":\"Hb\",\"values\":[125.0,130.0,129.0,129.0,138.0]},{\"label\":\"ALT\",\"values\":[null,null,null,22.0,38.0]},{\"label\":\"Creatinine\",\"values\":[85.0,72.0,111.0,86.0,86.0]},{\"label\":\"ACR\",\"values\":[8.6,1.9,2.7,0.7,0.5]}],\"marker\":{\"color\":\"#b29758\",\"line\":{\"color\":\"white\",\"width\":0.5},\"showscale\":false},\"name\":\"eGFR < 90\",\"text\":[\"WM026\",\"WM057\",\"WM078\",\"WM212\",\"WM229\"],\"type\":\"splom\"}],                        {\"template\":{\"data\":{\"histogram2dcontour\":[{\"type\":\"histogram2dcontour\",\"colorbar\":{\"outlinewidth\":0,\"ticks\":\"\"},\"colorscale\":[[0.0,\"#0d0887\"],[0.1111111111111111,\"#46039f\"],[0.2222222222222222,\"#7201a8\"],[0.3333333333333333,\"#9c179e\"],[0.4444444444444444,\"#bd3786\"],[0.5555555555555556,\"#d8576b\"],[0.6666666666666666,\"#ed7953\"],[0.7777777777777778,\"#fb9f3a\"],[0.8888888888888888,\"#fdca26\"],[1.0,\"#f0f921\"]]}],\"choropleth\":[{\"type\":\"choropleth\",\"colorbar\":{\"outlinewidth\":0,\"ticks\":\"\"}}],\"histogram2d\":[{\"type\":\"histogram2d\",\"colorbar\":{\"outlinewidth\":0,\"ticks\":\"\"},\"colorscale\":[[0.0,\"#0d0887\"],[0.1111111111111111,\"#46039f\"],[0.2222222222222222,\"#7201a8\"],[0.3333333333333333,\"#9c179e\"],[0.4444444444444444,\"#bd3786\"],[0.5555555555555556,\"#d8576b\"],[0.6666666666666666,\"#ed7953\"],[0.7777777777777778,\"#fb9f3a\"],[0.8888888888888888,\"#fdca26\"],[1.0,\"#f0f921\"]]}],\"heatmap\":[{\"type\":\"heatmap\",\"colorbar\":{\"outlinewidth\":0,\"ticks\":\"\"},\"colorscale\":[[0.0,\"#0d0887\"],[0.1111111111111111,\"#46039f\"],[0.2222222222222222,\"#7201a8\"],[0.3333333333333333,\"#9c179e\"],[0.4444444444444444,\"#bd3786\"],[0.5555555555555556,\"#d8576b\"],[0.6666666666666666,\"#ed7953\"],[0.7777777777777778,\"#fb9f3a\"],[0.8888888888888888,\"#fdca26\"],[1.0,\"#f0f921\"]]}],\"heatmapgl\":[{\"type\":\"heatmapgl\",\"colorbar\":{\"outlinewidth\":0,\"ticks\":\"\"},\"colorscale\":[[0.0,\"#0d0887\"],[0.1111111111111111,\"#46039f\"],[0.2222222222222222,\"#7201a8\"],[0.3333333333333333,\"#9c179e\"],[0.4444444444444444,\"#bd3786\"],[0.5555555555555556,\"#d8576b\"],[0.6666666666666666,\"#ed7953\"],[0.7777777777777778,\"#fb9f3a\"],[0.8888888888888888,\"#fdca26\"],[1.0,\"#f0f921\"]]}],\"contourcarpet\":[{\"type\":\"contourcarpet\",\"colorbar\":{\"outlinewidth\":0,\"ticks\":\"\"}}],\"contour\":[{\"type\":\"contour\",\"colorbar\":{\"outlinewidth\":0,\"ticks\":\"\"},\"colorscale\":[[0.0,\"#0d0887\"],[0.1111111111111111,\"#46039f\"],[0.2222222222222222,\"#7201a8\"],[0.3333333333333333,\"#9c179e\"],[0.4444444444444444,\"#bd3786\"],[0.5555555555555556,\"#d8576b\"],[0.6666666666666666,\"#ed7953\"],[0.7777777777777778,\"#fb9f3a\"],[0.8888888888888888,\"#fdca26\"],[1.0,\"#f0f921\"]]}],\"surface\":[{\"type\":\"surface\",\"colorbar\":{\"outlinewidth\":0,\"ticks\":\"\"},\"colorscale\":[[0.0,\"#0d0887\"],[0.1111111111111111,\"#46039f\"],[0.2222222222222222,\"#7201a8\"],[0.3333333333333333,\"#9c179e\"],[0.4444444444444444,\"#bd3786\"],[0.5555555555555556,\"#d8576b\"],[0.6666666666666666,\"#ed7953\"],[0.7777777777777778,\"#fb9f3a\"],[0.8888888888888888,\"#fdca26\"],[1.0,\"#f0f921\"]]}],\"mesh3d\":[{\"type\":\"mesh3d\",\"colorbar\":{\"outlinewidth\":0,\"ticks\":\"\"}}],\"scatter\":[{\"fillpattern\":{\"fillmode\":\"overlay\",\"size\":10,\"solidity\":0.2},\"type\":\"scatter\"}],\"parcoords\":[{\"type\":\"parcoords\",\"line\":{\"colorbar\":{\"outlinewidth\":0,\"ticks\":\"\"}}}],\"scatterpolargl\":[{\"type\":\"scatterpolargl\",\"marker\":{\"colorbar\":{\"outlinewidth\":0,\"ticks\":\"\"}}}],\"bar\":[{\"error_x\":{\"color\":\"#2a3f5f\"},\"error_y\":{\"color\":\"#2a3f5f\"},\"marker\":{\"line\":{\"color\":\"#E5ECF6\",\"width\":0.5},\"pattern\":{\"fillmode\":\"overlay\",\"size\":10,\"solidity\":0.2}},\"type\":\"bar\"}],\"scattergeo\":[{\"type\":\"scattergeo\",\"marker\":{\"colorbar\":{\"outlinewidth\":0,\"ticks\":\"\"}}}],\"scatterpolar\":[{\"type\":\"scatterpolar\",\"marker\":{\"colorbar\":{\"outlinewidth\":0,\"ticks\":\"\"}}}],\"histogram\":[{\"marker\":{\"pattern\":{\"fillmode\":\"overlay\",\"size\":10,\"solidity\":0.2}},\"type\":\"histogram\"}],\"scattergl\":[{\"type\":\"scattergl\",\"marker\":{\"colorbar\":{\"outlinewidth\":0,\"ticks\":\"\"}}}],\"scatter3d\":[{\"type\":\"scatter3d\",\"line\":{\"colorbar\":{\"outlinewidth\":0,\"ticks\":\"\"}},\"marker\":{\"colorbar\":{\"outlinewidth\":0,\"ticks\":\"\"}}}],\"scattermapbox\":[{\"type\":\"scattermapbox\",\"marker\":{\"colorbar\":{\"outlinewidth\":0,\"ticks\":\"\"}}}],\"scatterternary\":[{\"type\":\"scatterternary\",\"marker\":{\"colorbar\":{\"outlinewidth\":0,\"ticks\":\"\"}}}],\"scattercarpet\":[{\"type\":\"scattercarpet\",\"marker\":{\"colorbar\":{\"outlinewidth\":0,\"ticks\":\"\"}}}],\"carpet\":[{\"aaxis\":{\"endlinecolor\":\"#2a3f5f\",\"gridcolor\":\"white\",\"linecolor\":\"white\",\"minorgridcolor\":\"white\",\"startlinecolor\":\"#2a3f5f\"},\"baxis\":{\"endlinecolor\":\"#2a3f5f\",\"gridcolor\":\"white\",\"linecolor\":\"white\",\"minorgridcolor\":\"white\",\"startlinecolor\":\"#2a3f5f\"},\"type\":\"carpet\"}],\"table\":[{\"cells\":{\"fill\":{\"color\":\"#EBF0F8\"},\"line\":{\"color\":\"white\"}},\"header\":{\"fill\":{\"color\":\"#C8D4E3\"},\"line\":{\"color\":\"white\"}},\"type\":\"table\"}],\"barpolar\":[{\"marker\":{\"line\":{\"color\":\"#E5ECF6\",\"width\":0.5},\"pattern\":{\"fillmode\":\"overlay\",\"size\":10,\"solidity\":0.2}},\"type\":\"barpolar\"}],\"pie\":[{\"automargin\":true,\"type\":\"pie\"}]},\"layout\":{\"autotypenumbers\":\"strict\",\"colorway\":[\"#636efa\",\"#EF553B\",\"#00cc96\",\"#ab63fa\",\"#FFA15A\",\"#19d3f3\",\"#FF6692\",\"#B6E880\",\"#FF97FF\",\"#FECB52\"],\"font\":{\"color\":\"#2a3f5f\"},\"hovermode\":\"closest\",\"hoverlabel\":{\"align\":\"left\"},\"paper_bgcolor\":\"white\",\"plot_bgcolor\":\"#E5ECF6\",\"polar\":{\"bgcolor\":\"#E5ECF6\",\"angularaxis\":{\"gridcolor\":\"white\",\"linecolor\":\"white\",\"ticks\":\"\"},\"radialaxis\":{\"gridcolor\":\"white\",\"linecolor\":\"white\",\"ticks\":\"\"}},\"ternary\":{\"bgcolor\":\"#E5ECF6\",\"aaxis\":{\"gridcolor\":\"white\",\"linecolor\":\"white\",\"ticks\":\"\"},\"baxis\":{\"gridcolor\":\"white\",\"linecolor\":\"white\",\"ticks\":\"\"},\"caxis\":{\"gridcolor\":\"white\",\"linecolor\":\"white\",\"ticks\":\"\"}},\"coloraxis\":{\"colorbar\":{\"outlinewidth\":0,\"ticks\":\"\"}},\"colorscale\":{\"sequential\":[[0.0,\"#0d0887\"],[0.1111111111111111,\"#46039f\"],[0.2222222222222222,\"#7201a8\"],[0.3333333333333333,\"#9c179e\"],[0.4444444444444444,\"#bd3786\"],[0.5555555555555556,\"#d8576b\"],[0.6666666666666666,\"#ed7953\"],[0.7777777777777778,\"#fb9f3a\"],[0.8888888888888888,\"#fdca26\"],[1.0,\"#f0f921\"]],\"sequentialminus\":[[0.0,\"#0d0887\"],[0.1111111111111111,\"#46039f\"],[0.2222222222222222,\"#7201a8\"],[0.3333333333333333,\"#9c179e\"],[0.4444444444444444,\"#bd3786\"],[0.5555555555555556,\"#d8576b\"],[0.6666666666666666,\"#ed7953\"],[0.7777777777777778,\"#fb9f3a\"],[0.8888888888888888,\"#fdca26\"],[1.0,\"#f0f921\"]],\"diverging\":[[0,\"#8e0152\"],[0.1,\"#c51b7d\"],[0.2,\"#de77ae\"],[0.3,\"#f1b6da\"],[0.4,\"#fde0ef\"],[0.5,\"#f7f7f7\"],[0.6,\"#e6f5d0\"],[0.7,\"#b8e186\"],[0.8,\"#7fbc41\"],[0.9,\"#4d9221\"],[1,\"#276419\"]]},\"xaxis\":{\"gridcolor\":\"white\",\"linecolor\":\"white\",\"ticks\":\"\",\"title\":{\"standoff\":15},\"zerolinecolor\":\"white\",\"automargin\":true,\"zerolinewidth\":2},\"yaxis\":{\"gridcolor\":\"white\",\"linecolor\":\"white\",\"ticks\":\"\",\"title\":{\"standoff\":15},\"zerolinecolor\":\"white\",\"automargin\":true,\"zerolinewidth\":2},\"scene\":{\"xaxis\":{\"backgroundcolor\":\"#E5ECF6\",\"gridcolor\":\"white\",\"linecolor\":\"white\",\"showbackground\":true,\"ticks\":\"\",\"zerolinecolor\":\"white\",\"gridwidth\":2},\"yaxis\":{\"backgroundcolor\":\"#E5ECF6\",\"gridcolor\":\"white\",\"linecolor\":\"white\",\"showbackground\":true,\"ticks\":\"\",\"zerolinecolor\":\"white\",\"gridwidth\":2},\"zaxis\":{\"backgroundcolor\":\"#E5ECF6\",\"gridcolor\":\"white\",\"linecolor\":\"white\",\"showbackground\":true,\"ticks\":\"\",\"zerolinecolor\":\"white\",\"gridwidth\":2}},\"shapedefaults\":{\"line\":{\"color\":\"#2a3f5f\"}},\"annotationdefaults\":{\"arrowcolor\":\"#2a3f5f\",\"arrowhead\":0,\"arrowwidth\":1},\"geo\":{\"bgcolor\":\"white\",\"landcolor\":\"#E5ECF6\",\"subunitcolor\":\"white\",\"showland\":true,\"showlakes\":true,\"lakecolor\":\"white\"},\"title\":{\"x\":0.05},\"mapbox\":{\"style\":\"light\"}}},\"title\":{\"text\":\"eGFR < 90<br><sup><i>(n=5, 2.28%)</i></sup>\"},\"showlegend\":true,\"width\":1000,\"height\":1000},                        {\"responsive\": true}                    ).then(function(){\n",
              "                            \n",
              "var gd = document.getElementById('4f316e61-1e7e-4863-812a-39953fc45a26');\n",
              "var x = new MutationObserver(function (mutations, observer) {{\n",
              "        var display = window.getComputedStyle(gd).display;\n",
              "        if (!display || display === 'none') {{\n",
              "            console.log([gd, 'removed!']);\n",
              "            Plotly.purge(gd);\n",
              "            observer.disconnect();\n",
              "        }}\n",
              "}});\n",
              "\n",
              "// Listen for the removal of the full notebook cells\n",
              "var notebookContainer = gd.closest('#notebook-container');\n",
              "if (notebookContainer) {{\n",
              "    x.observe(notebookContainer, {childList: true});\n",
              "}}\n",
              "\n",
              "// Listen for the clearing of the current output cell\n",
              "var outputEl = gd.closest('.output');\n",
              "if (outputEl) {{\n",
              "    x.observe(outputEl, {childList: true});\n",
              "}}\n",
              "\n",
              "                        })                };                            </script>        </div>\n",
              "</body>\n",
              "</html>"
            ]
          },
          "metadata": {}
        }
      ],
      "source": [
        "#@title\n",
        "df[\"eGFR90\"] = 0\n",
        "df.loc[df['eGFR'] < 90, 'eGFR90'] = 1\n",
        "sumc = df[\"eGFR90\"].sum()\n",
        "print(f\"eGFR < 90: {round(sumc / len(df), 3)}\")\n",
        "\n",
        "fig = go.Figure()\n",
        "\n",
        "for tra in [0, 1]:\n",
        "    dft = df[df['eGFR90']==tra]\n",
        "    if tra == 0:\n",
        "        name = 'eGFR >= 90'\n",
        "        col = COLOURS[0]\n",
        "\n",
        "    else:\n",
        "        name = 'eGFR < 90'\n",
        "        col = COLOURS[10]\n",
        "\n",
        "    fig.add_trace(go.Splom(\n",
        "                    dimensions=[\n",
        "                                dict(label='RandomGlucose',\n",
        "                                    values=dft['RandomGlucose']),\n",
        "                                dict(label='HbA1C',\n",
        "                                    values=dft['HbA1C']),\n",
        "                                dict(label='eGFR',\n",
        "                                    values=dft['eGFR']),\n",
        "                                dict(label='Age',\n",
        "                                    values=dft['Age']),\n",
        "                                dict(label='Hb',\n",
        "                                    values=dft['Hb']),\n",
        "                                dict(label='ALT',\n",
        "                                    values=dft['ALT']),\n",
        "                                dict(label='Creatinine',\n",
        "                                    values=dft['Creatinine']),\n",
        "                                dict(label='ACR',\n",
        "                                    values=dft['ACR'])],\n",
        "                    diagonal_visible=False, \n",
        "                    text=dft['Id'],\n",
        "                    name=name,\n",
        "                    marker=dict(color=col,\n",
        "                                showscale=False, # colors encode categorical variables\n",
        "                                line_color='white', line_width=0.5)\n",
        "                    ))\n",
        "\n",
        "\n",
        "fig.update_layout(\n",
        "    title=f\"eGFR < 90<br><sup><i>(n={sumc}, {round(sumc / len(df) * 100, 2)}%)</i></sup>\",\n",
        "    showlegend=True,\n",
        "    width=1000,\n",
        "    height=1000,\n",
        ")\n",
        "\n",
        "fig.show()"
      ]
    },
    {
      "cell_type": "markdown",
      "metadata": {
        "id": "TFmuwzpXyi-o"
      },
      "source": [
        "### eGFR by race\n",
        "Creatinine in `race = black' is higher,\n",
        "however eGFR is not as high.\n",
        "This is explained by correction for weight in eGFR.\n",
        "\n"
      ]
    },
    {
      "cell_type": "code",
      "execution_count": 106,
      "metadata": {
        "id": "S8_o9Hyoyi-o",
        "outputId": "309be10f-0a4c-49f1-fe81-d4c16dc5ca71",
        "colab": {
          "base_uri": "https://localhost:8080/",
          "height": 542
        }
      },
      "outputs": [
        {
          "output_type": "display_data",
          "data": {
            "text/html": [
              "<html>\n",
              "<head><meta charset=\"utf-8\" /></head>\n",
              "<body>\n",
              "    <div>            <script src=\"https://cdnjs.cloudflare.com/ajax/libs/mathjax/2.7.5/MathJax.js?config=TeX-AMS-MML_SVG\"></script><script type=\"text/javascript\">if (window.MathJax && window.MathJax.Hub && window.MathJax.Hub.Config) {window.MathJax.Hub.Config({SVG: {font: \"STIX-Web\"}});}</script>                <script type=\"text/javascript\">window.PlotlyConfig = {MathJaxConfig: 'local'};</script>\n",
              "        <script src=\"https://cdn.plot.ly/plotly-2.18.2.min.js\"></script>                <div id=\"e222a0e5-9ea4-4895-a859-6e754e473e32\" class=\"plotly-graph-div\" style=\"height:525px; width:100%;\"></div>            <script type=\"text/javascript\">                                    window.PLOTLYENV=window.PLOTLYENV || {};                                    if (document.getElementById(\"e222a0e5-9ea4-4895-a859-6e754e473e32\")) {                    Plotly.newPlot(                        \"e222a0e5-9ea4-4895-a859-6e754e473e32\",                        [{\"marker\":{\"color\":\"#191c40\"},\"name\":\"WHITE<br><sup><i>(n=104)</i></sup>\",\"notched\":true,\"y\":[132.71416879795396,310.2426382978723,166.512813559322,136.56752542372882,110.0884647887324,151.94972727272727,116.44656,168.1918965517241,202.704,85.06101176470588,244.8731612903226,140.679737704918,143.6572602739726,180.83544827586203,122.16891891891892,122.96215384615385,162.18376119402984,154.58261538461537,130.44150000000002,85.16383333333333,121.846875,116.40905660377359,139.34605263157894,222.5808,150.7130181818182,122.22685714285713,151.43898591549296,161.4194117647059,84.88108108108108,206.64,184.27039999999997,164.94947368421052,103.76858823529412,224.26254545454546,168.428,207.45999999999998,142.32046153846153,111.80052631578947,131.03365714285715,125.88037974683543,104.40477108433737,175.78820689655174,132.63348148148148,97.10526315789474,130.1446956521739,191.81328813559318,191.11740000000003,150.78745714285714,146.18363636363634,107.37899999999999,180.41261538461538,152.70345762711867,128.865,132.13152,195.562064516129,163.14434782608694,248.75689655172414,119.45205633802816,193.98108196721313,147.108,95.8375,251.715,132.00881818181819,null,128.40130434782606,129.85725,116.91307692307694,137.77468656716417,252.8388,131.2784347826087,165.07771428571428,93.17509859154929,181.86428571428573,161.6331818181818,158.63215384615384,179.97677419354838,168.28096551724138,268.5938275862069,148.24173913043478,107.6138181818182,97.06642105263157,141.3457627118644,179.38489655172413,156.33925423728812,147.21285245901637,123.984,120.53999999999998,157.18033333333332,145.5585671641791,151.7954794520548,89.14353488372092,347.7236170212766,157.72114285714284,165.68289230769227,224.32347826086956,193.81406896551724,116.49857142857142,164.34337499999998,102.85533333333332,158.60166666666666,135.096,123.04612499999999,151.8018387096774,120.03238095238095],\"type\":\"box\"},{\"marker\":{\"color\":\"#404472\"},\"name\":\"MIXED<br><sup><i>(n=12)</i></sup>\",\"notched\":true,\"y\":[118.08,175.24661538461535,226.66061538461537,146.5668,194.92283076923076,128.15616000000003,126.567,150.5028,182.27207547169812,198.08218181818182,144.28186046511627,276.1324897959184],\"type\":\"box\"},{\"marker\":{\"color\":\"#5c5f7c\"},\"name\":\"BLACK<br><sup><i>(n=49)</i></sup>\",\"notched\":true,\"y\":[124.99142857142857,193.9236923076923,92.34225,161.04534705882352,134.9735769230769,276.0547826086957,179.20177500000003,180.42883516483514,155.49755844155845,137.76,177.22022222222222,159.777,220.77679999999998,174.9306,169.5148474576271,160.06557692307692,140.8104,221.1472602739726,179.9408,114.40490909090909,100.76274418604653,118.83205714285712,196.8,156.13764705882355,156.92457142857143,124.84500000000001,194.07093749999999,151.08780821917807,126.40040506329113,165.69857142857143,99.85363636363635,237.144,163.64178947368418,138.58863157894737,141.8928,123.66045652173912,85.73672093023256,137.60587951807227,199.42131147540985,225.32322077922078,224.72685714285714,143.8620779220779,116.71976470588235,136.9630625,191.5340625,129.15,176.25444444444443,167.91793220338982,159.01440000000002],\"type\":\"box\"},{\"marker\":{\"color\":\"#c3c0c0\"},\"name\":\"ASIAN<br><sup><i>(n=54)</i></sup>\",\"notched\":true,\"y\":[122.51648275862071,135.1647,186.19867241379313,145.32866949152543,167.9107692307692,158.40391836734693,134.316,124.81661538461539,113.36358620689653,135.55701492537312,236.28300000000002,172.83483870967743,119.63368421052631,122.877,156.99272727272728,132.56547826086955,139.072,157.67394117647058,122.68164705882351,207.10963636363633,170.17489285714285,99.17393258426966,101.975661971831,126.2349,152.86818461538462,170.41848387096775,204.40180327868853,164.7874411764706,117.14234782608695,136.19695384615383,189.80266666666668,171.08915625,99.76904347826085,255.44639999999998,147.06435483870965,106.78539130434783,107.3608524590164,166.48554098360657,131.979,110.36454545454545,149.1744,153.18112499999998,171.43739999999997,205.656,98.58345762711865,164.69699999999997,156.33067924528305,130.19076923076923,123.04685714285714,129.88799999999998,121.41559322033898,120.90021428571428,144.78857142857143,99.7139294117647],\"type\":\"box\"},{\"marker\":{\"color\":\"#b29758\"},\"name\":\"All<br><sup><i>(n=219)</i></sup>\",\"notched\":true,\"y\":[132.71416879795396,118.08,124.99142857142857,310.2426382978723,166.512813559322,136.56752542372882,193.9236923076923,122.51648275862071,110.0884647887324,135.1647,92.34225,161.04534705882352,134.9735769230769,186.19867241379313,145.32866949152543,167.9107692307692,151.94972727272727,116.44656,168.1918965517241,175.24661538461535,202.704,85.06101176470588,244.8731612903226,140.679737704918,276.0547826086957,179.20177500000003,143.6572602739726,180.42883516483514,158.40391836734693,134.316,226.66061538461537,180.83544827586203,122.16891891891892,122.96215384615385,155.49755844155845,162.18376119402984,137.76,124.81661538461539,146.5668,113.36358620689653,135.55701492537312,236.28300000000002,177.22022222222222,172.83483870967743,154.58261538461537,130.44150000000002,159.777,85.16383333333333,121.846875,220.77679999999998,116.40905660377359,174.9306,119.63368421052631,139.34605263157894,169.5148474576271,222.5808,150.7130181818182,122.877,156.99272727272728,132.56547826086955,122.22685714285713,151.43898591549296,139.072,161.4194117647059,84.88108108108108,206.64,157.67394117647058,122.68164705882351,160.06557692307692,140.8104,221.1472602739726,184.27039999999997,164.94947368421052,103.76858823529412,224.26254545454546,194.92283076923076,179.9408,168.428,207.45999999999998,142.32046153846153,111.80052631578947,131.03365714285715,114.40490909090909,125.88037974683543,100.76274418604653,104.40477108433737,175.78820689655174,118.83205714285712,132.63348148148148,97.10526315789474,130.1446956521739,191.81328813559318,128.15616000000003,191.11740000000003,150.78745714285714,196.8,146.18363636363634,207.10963636363633,170.17489285714285,156.13764705882355,99.17393258426966,101.975661971831,107.37899999999999,126.2349,152.86818461538462,170.41848387096775,180.41261538461538,156.92457142857143,126.567,150.5028,204.40180327868853,124.84500000000001,152.70345762711867,128.865,194.07093749999999,151.08780821917807,132.13152,126.40040506329113,195.562064516129,164.7874411764706,163.14434782608694,248.75689655172414,119.45205633802816,193.98108196721313,165.69857142857143,117.14234782608695,136.19695384615383,147.108,95.8375,251.715,182.27207547169812,132.00881818181819,null,128.40130434782606,189.80266666666668,129.85725,116.91307692307694,137.77468656716417,171.08915625,252.8388,131.2784347826087,99.76904347826085,165.07771428571428,93.17509859154929,181.86428571428573,161.6331818181818,255.44639999999998,99.85363636363635,237.144,198.08218181818182,158.63215384615384,147.06435483870965,106.78539130434783,179.97677419354838,168.28096551724138,107.3608524590164,268.5938275862069,148.24173913043478,166.48554098360657,163.64178947368418,138.58863157894737,107.6138181818182,144.28186046511627,97.06642105263157,141.3457627118644,131.979,141.8928,110.36454545454545,179.38489655172413,123.66045652173912,276.1324897959184,149.1744,156.33925423728812,153.18112499999998,171.43739999999997,205.656,85.73672093023256,137.60587951807227,147.21285245901637,199.42131147540985,123.984,120.53999999999998,98.58345762711865,157.18033333333332,164.69699999999997,145.5585671641791,225.32322077922078,151.7954794520548,89.14353488372092,347.7236170212766,224.72685714285714,143.8620779220779,156.33067924528305,157.72114285714284,165.68289230769227,130.19076923076923,224.32347826086956,123.04685714285714,116.71976470588235,129.88799999999998,121.41559322033898,193.81406896551724,116.49857142857142,120.90021428571428,144.78857142857143,164.34337499999998,102.85533333333332,158.60166666666666,136.9630625,191.5340625,135.096,123.04612499999999,99.7139294117647,129.15,176.25444444444443,151.8018387096774,120.03238095238095,167.91793220338982,159.01440000000002],\"type\":\"box\"}],                        {\"template\":{\"data\":{\"histogram2dcontour\":[{\"type\":\"histogram2dcontour\",\"colorbar\":{\"outlinewidth\":0,\"ticks\":\"\"},\"colorscale\":[[0.0,\"#0d0887\"],[0.1111111111111111,\"#46039f\"],[0.2222222222222222,\"#7201a8\"],[0.3333333333333333,\"#9c179e\"],[0.4444444444444444,\"#bd3786\"],[0.5555555555555556,\"#d8576b\"],[0.6666666666666666,\"#ed7953\"],[0.7777777777777778,\"#fb9f3a\"],[0.8888888888888888,\"#fdca26\"],[1.0,\"#f0f921\"]]}],\"choropleth\":[{\"type\":\"choropleth\",\"colorbar\":{\"outlinewidth\":0,\"ticks\":\"\"}}],\"histogram2d\":[{\"type\":\"histogram2d\",\"colorbar\":{\"outlinewidth\":0,\"ticks\":\"\"},\"colorscale\":[[0.0,\"#0d0887\"],[0.1111111111111111,\"#46039f\"],[0.2222222222222222,\"#7201a8\"],[0.3333333333333333,\"#9c179e\"],[0.4444444444444444,\"#bd3786\"],[0.5555555555555556,\"#d8576b\"],[0.6666666666666666,\"#ed7953\"],[0.7777777777777778,\"#fb9f3a\"],[0.8888888888888888,\"#fdca26\"],[1.0,\"#f0f921\"]]}],\"heatmap\":[{\"type\":\"heatmap\",\"colorbar\":{\"outlinewidth\":0,\"ticks\":\"\"},\"colorscale\":[[0.0,\"#0d0887\"],[0.1111111111111111,\"#46039f\"],[0.2222222222222222,\"#7201a8\"],[0.3333333333333333,\"#9c179e\"],[0.4444444444444444,\"#bd3786\"],[0.5555555555555556,\"#d8576b\"],[0.6666666666666666,\"#ed7953\"],[0.7777777777777778,\"#fb9f3a\"],[0.8888888888888888,\"#fdca26\"],[1.0,\"#f0f921\"]]}],\"heatmapgl\":[{\"type\":\"heatmapgl\",\"colorbar\":{\"outlinewidth\":0,\"ticks\":\"\"},\"colorscale\":[[0.0,\"#0d0887\"],[0.1111111111111111,\"#46039f\"],[0.2222222222222222,\"#7201a8\"],[0.3333333333333333,\"#9c179e\"],[0.4444444444444444,\"#bd3786\"],[0.5555555555555556,\"#d8576b\"],[0.6666666666666666,\"#ed7953\"],[0.7777777777777778,\"#fb9f3a\"],[0.8888888888888888,\"#fdca26\"],[1.0,\"#f0f921\"]]}],\"contourcarpet\":[{\"type\":\"contourcarpet\",\"colorbar\":{\"outlinewidth\":0,\"ticks\":\"\"}}],\"contour\":[{\"type\":\"contour\",\"colorbar\":{\"outlinewidth\":0,\"ticks\":\"\"},\"colorscale\":[[0.0,\"#0d0887\"],[0.1111111111111111,\"#46039f\"],[0.2222222222222222,\"#7201a8\"],[0.3333333333333333,\"#9c179e\"],[0.4444444444444444,\"#bd3786\"],[0.5555555555555556,\"#d8576b\"],[0.6666666666666666,\"#ed7953\"],[0.7777777777777778,\"#fb9f3a\"],[0.8888888888888888,\"#fdca26\"],[1.0,\"#f0f921\"]]}],\"surface\":[{\"type\":\"surface\",\"colorbar\":{\"outlinewidth\":0,\"ticks\":\"\"},\"colorscale\":[[0.0,\"#0d0887\"],[0.1111111111111111,\"#46039f\"],[0.2222222222222222,\"#7201a8\"],[0.3333333333333333,\"#9c179e\"],[0.4444444444444444,\"#bd3786\"],[0.5555555555555556,\"#d8576b\"],[0.6666666666666666,\"#ed7953\"],[0.7777777777777778,\"#fb9f3a\"],[0.8888888888888888,\"#fdca26\"],[1.0,\"#f0f921\"]]}],\"mesh3d\":[{\"type\":\"mesh3d\",\"colorbar\":{\"outlinewidth\":0,\"ticks\":\"\"}}],\"scatter\":[{\"fillpattern\":{\"fillmode\":\"overlay\",\"size\":10,\"solidity\":0.2},\"type\":\"scatter\"}],\"parcoords\":[{\"type\":\"parcoords\",\"line\":{\"colorbar\":{\"outlinewidth\":0,\"ticks\":\"\"}}}],\"scatterpolargl\":[{\"type\":\"scatterpolargl\",\"marker\":{\"colorbar\":{\"outlinewidth\":0,\"ticks\":\"\"}}}],\"bar\":[{\"error_x\":{\"color\":\"#2a3f5f\"},\"error_y\":{\"color\":\"#2a3f5f\"},\"marker\":{\"line\":{\"color\":\"#E5ECF6\",\"width\":0.5},\"pattern\":{\"fillmode\":\"overlay\",\"size\":10,\"solidity\":0.2}},\"type\":\"bar\"}],\"scattergeo\":[{\"type\":\"scattergeo\",\"marker\":{\"colorbar\":{\"outlinewidth\":0,\"ticks\":\"\"}}}],\"scatterpolar\":[{\"type\":\"scatterpolar\",\"marker\":{\"colorbar\":{\"outlinewidth\":0,\"ticks\":\"\"}}}],\"histogram\":[{\"marker\":{\"pattern\":{\"fillmode\":\"overlay\",\"size\":10,\"solidity\":0.2}},\"type\":\"histogram\"}],\"scattergl\":[{\"type\":\"scattergl\",\"marker\":{\"colorbar\":{\"outlinewidth\":0,\"ticks\":\"\"}}}],\"scatter3d\":[{\"type\":\"scatter3d\",\"line\":{\"colorbar\":{\"outlinewidth\":0,\"ticks\":\"\"}},\"marker\":{\"colorbar\":{\"outlinewidth\":0,\"ticks\":\"\"}}}],\"scattermapbox\":[{\"type\":\"scattermapbox\",\"marker\":{\"colorbar\":{\"outlinewidth\":0,\"ticks\":\"\"}}}],\"scatterternary\":[{\"type\":\"scatterternary\",\"marker\":{\"colorbar\":{\"outlinewidth\":0,\"ticks\":\"\"}}}],\"scattercarpet\":[{\"type\":\"scattercarpet\",\"marker\":{\"colorbar\":{\"outlinewidth\":0,\"ticks\":\"\"}}}],\"carpet\":[{\"aaxis\":{\"endlinecolor\":\"#2a3f5f\",\"gridcolor\":\"white\",\"linecolor\":\"white\",\"minorgridcolor\":\"white\",\"startlinecolor\":\"#2a3f5f\"},\"baxis\":{\"endlinecolor\":\"#2a3f5f\",\"gridcolor\":\"white\",\"linecolor\":\"white\",\"minorgridcolor\":\"white\",\"startlinecolor\":\"#2a3f5f\"},\"type\":\"carpet\"}],\"table\":[{\"cells\":{\"fill\":{\"color\":\"#EBF0F8\"},\"line\":{\"color\":\"white\"}},\"header\":{\"fill\":{\"color\":\"#C8D4E3\"},\"line\":{\"color\":\"white\"}},\"type\":\"table\"}],\"barpolar\":[{\"marker\":{\"line\":{\"color\":\"#E5ECF6\",\"width\":0.5},\"pattern\":{\"fillmode\":\"overlay\",\"size\":10,\"solidity\":0.2}},\"type\":\"barpolar\"}],\"pie\":[{\"automargin\":true,\"type\":\"pie\"}]},\"layout\":{\"autotypenumbers\":\"strict\",\"colorway\":[\"#636efa\",\"#EF553B\",\"#00cc96\",\"#ab63fa\",\"#FFA15A\",\"#19d3f3\",\"#FF6692\",\"#B6E880\",\"#FF97FF\",\"#FECB52\"],\"font\":{\"color\":\"#2a3f5f\"},\"hovermode\":\"closest\",\"hoverlabel\":{\"align\":\"left\"},\"paper_bgcolor\":\"white\",\"plot_bgcolor\":\"#E5ECF6\",\"polar\":{\"bgcolor\":\"#E5ECF6\",\"angularaxis\":{\"gridcolor\":\"white\",\"linecolor\":\"white\",\"ticks\":\"\"},\"radialaxis\":{\"gridcolor\":\"white\",\"linecolor\":\"white\",\"ticks\":\"\"}},\"ternary\":{\"bgcolor\":\"#E5ECF6\",\"aaxis\":{\"gridcolor\":\"white\",\"linecolor\":\"white\",\"ticks\":\"\"},\"baxis\":{\"gridcolor\":\"white\",\"linecolor\":\"white\",\"ticks\":\"\"},\"caxis\":{\"gridcolor\":\"white\",\"linecolor\":\"white\",\"ticks\":\"\"}},\"coloraxis\":{\"colorbar\":{\"outlinewidth\":0,\"ticks\":\"\"}},\"colorscale\":{\"sequential\":[[0.0,\"#0d0887\"],[0.1111111111111111,\"#46039f\"],[0.2222222222222222,\"#7201a8\"],[0.3333333333333333,\"#9c179e\"],[0.4444444444444444,\"#bd3786\"],[0.5555555555555556,\"#d8576b\"],[0.6666666666666666,\"#ed7953\"],[0.7777777777777778,\"#fb9f3a\"],[0.8888888888888888,\"#fdca26\"],[1.0,\"#f0f921\"]],\"sequentialminus\":[[0.0,\"#0d0887\"],[0.1111111111111111,\"#46039f\"],[0.2222222222222222,\"#7201a8\"],[0.3333333333333333,\"#9c179e\"],[0.4444444444444444,\"#bd3786\"],[0.5555555555555556,\"#d8576b\"],[0.6666666666666666,\"#ed7953\"],[0.7777777777777778,\"#fb9f3a\"],[0.8888888888888888,\"#fdca26\"],[1.0,\"#f0f921\"]],\"diverging\":[[0,\"#8e0152\"],[0.1,\"#c51b7d\"],[0.2,\"#de77ae\"],[0.3,\"#f1b6da\"],[0.4,\"#fde0ef\"],[0.5,\"#f7f7f7\"],[0.6,\"#e6f5d0\"],[0.7,\"#b8e186\"],[0.8,\"#7fbc41\"],[0.9,\"#4d9221\"],[1,\"#276419\"]]},\"xaxis\":{\"gridcolor\":\"white\",\"linecolor\":\"white\",\"ticks\":\"\",\"title\":{\"standoff\":15},\"zerolinecolor\":\"white\",\"automargin\":true,\"zerolinewidth\":2},\"yaxis\":{\"gridcolor\":\"white\",\"linecolor\":\"white\",\"ticks\":\"\",\"title\":{\"standoff\":15},\"zerolinecolor\":\"white\",\"automargin\":true,\"zerolinewidth\":2},\"scene\":{\"xaxis\":{\"backgroundcolor\":\"#E5ECF6\",\"gridcolor\":\"white\",\"linecolor\":\"white\",\"showbackground\":true,\"ticks\":\"\",\"zerolinecolor\":\"white\",\"gridwidth\":2},\"yaxis\":{\"backgroundcolor\":\"#E5ECF6\",\"gridcolor\":\"white\",\"linecolor\":\"white\",\"showbackground\":true,\"ticks\":\"\",\"zerolinecolor\":\"white\",\"gridwidth\":2},\"zaxis\":{\"backgroundcolor\":\"#E5ECF6\",\"gridcolor\":\"white\",\"linecolor\":\"white\",\"showbackground\":true,\"ticks\":\"\",\"zerolinecolor\":\"white\",\"gridwidth\":2}},\"shapedefaults\":{\"line\":{\"color\":\"#2a3f5f\"}},\"annotationdefaults\":{\"arrowcolor\":\"#2a3f5f\",\"arrowhead\":0,\"arrowwidth\":1},\"geo\":{\"bgcolor\":\"white\",\"landcolor\":\"#E5ECF6\",\"subunitcolor\":\"white\",\"showland\":true,\"showlakes\":true,\"lakecolor\":\"white\"},\"title\":{\"x\":0.05},\"mapbox\":{\"style\":\"light\"}}},\"title\":{\"text\":\"eGFR spread by race<br><sup><i>(n=219)</i></sup>\"},\"showlegend\":false,\"yaxis\":{\"title\":{\"text\":\"eGFR<br><sup><i> </i></sup>\"}}},                        {\"responsive\": true}                    ).then(function(){\n",
              "                            \n",
              "var gd = document.getElementById('e222a0e5-9ea4-4895-a859-6e754e473e32');\n",
              "var x = new MutationObserver(function (mutations, observer) {{\n",
              "        var display = window.getComputedStyle(gd).display;\n",
              "        if (!display || display === 'none') {{\n",
              "            console.log([gd, 'removed!']);\n",
              "            Plotly.purge(gd);\n",
              "            observer.disconnect();\n",
              "        }}\n",
              "}});\n",
              "\n",
              "// Listen for the removal of the full notebook cells\n",
              "var notebookContainer = gd.closest('#notebook-container');\n",
              "if (notebookContainer) {{\n",
              "    x.observe(notebookContainer, {childList: true});\n",
              "}}\n",
              "\n",
              "// Listen for the clearing of the current output cell\n",
              "var outputEl = gd.closest('.output');\n",
              "if (outputEl) {{\n",
              "    x.observe(outputEl, {childList: true});\n",
              "}}\n",
              "\n",
              "                        })                };                            </script>        </div>\n",
              "</body>\n",
              "</html>"
            ]
          },
          "metadata": {}
        }
      ],
      "source": [
        "#@title\n",
        "fig = go.Figure()\n",
        "\n",
        "for count, race in enumerate(df.Race.unique()):\n",
        "    dft = df[df['Race']==race]\n",
        "    name = f\"{race}<br><sup><i>(n={len(dft)})</i></sup>\"\n",
        "    fig.add_trace(go.Box(y=dft['eGFR'], name = name,\n",
        "                         notched=True,\n",
        "                    marker_color = COLOURS[count]\n",
        "                    ))\n",
        "\n",
        "name = f\"All<br><sup><i>(n={len(df)})</i></sup>\"\n",
        "fig.add_trace(go.Box(y=df['eGFR'], name = name,\n",
        "                      notched=True,\n",
        "                marker_color = COLOURS[10]\n",
        "                ))\n",
        "\n",
        "fig.update_layout(\n",
        "    title=f\"eGFR spread by race<br><sup><i>(n={len(df)})</i></sup>\",\n",
        "    showlegend=False,\n",
        "    yaxis=go.layout.YAxis(\n",
        "    title=go.layout.yaxis.Title(\n",
        "        text=\"eGFR<br><sup><i> </i></sup>\"\n",
        "        )\n",
        "    )\n",
        ")\n",
        "\n",
        "fig.show()"
      ]
    },
    {
      "cell_type": "markdown",
      "source": [
        "## **eGFR < 90, ACR > 3**\n",
        "Albumin-to-creatinine ratio (ACR): Albuminuria is increased excretion of urinary albumin and a marker of kidney damage. \\\n",
        "Estimated glomerular filtration rate (eGFR)\n",
        "\n",
        "**ACR ranges**\n",
        "\n",
        "\n",
        "ACR(mg/g)   | Description\n",
        "------------|--------------\n",
        "< 30        | Normal\n",
        "30-300      | Moderately increased\n",
        "> 300       | Severely increased\n",
        "\n",
        "**eGFR ranges**\n",
        "\n",
        "\n",
        "eGFR  | Description\n",
        "-------|------------\n",
        ">= 90  | Normal\n",
        "60-90  | Mildly decreased\n",
        "45-59  | Mildly to moderately decreased\n",
        "30-44  | Moderately to severely decreased\n",
        "15-29  | Severely decreased\n",
        "<15    | Kidney failure\n",
        "\n",
        "\n"
      ],
      "metadata": {
        "id": "mNpNks6CzsoI"
      }
    },
    {
      "cell_type": "code",
      "source": [
        "#@title\n",
        "#eGFR90\n",
        "df[\"ACR3\"] = 0\n",
        "df.loc[df['ACR'] > 3, 'ACR3'] = 1\n",
        "\n",
        "df[\"Show\"] = 0\n",
        "df.loc[(df['ACR'] > 3) & (df['eGFR'] < 90), 'Show'] = 1\n",
        "df.loc[(df['eGFR'] > 90) & (df['ACR'] > 3), 'Show'] = 2\n",
        "\n",
        "fig = go.Figure()\n",
        "for tra in [0, 1, 2]:\n",
        "  dft = df[df['Show']==tra]\n",
        "  name = f\"{round(len(dft) / len(df) * 100,2)}%\"\n",
        "  if tra == 0:\n",
        "    col = COLOURS[0]\n",
        "  elif tra == 1:\n",
        "    col = COLOURS[10]\n",
        "  else:\n",
        "    col = COLOURS[3]\n",
        "\n",
        "  fig.add_trace(go.Scatter(\n",
        "      x=dft['ACR'], y=dft['eGFR'],\n",
        "      name=name,\n",
        "      marker_color = col,\n",
        "      mode='markers',\n",
        "  ))\n",
        "fig.update_traces(mode='markers', marker_line_width=1, marker_size=10)\n",
        "fig.update_layout(\n",
        "    title=go.layout.Title(\n",
        "        text=f\"eGFR vs ACR<br><sup><i>eGFR < 90 with ACR > 3</i></sup>\",\n",
        "        xref=\"paper\",\n",
        "        x=0\n",
        "    ),\n",
        "        xaxis=go.layout.XAxis(\n",
        "        title=go.layout.xaxis.Title(\n",
        "            text=\"ACR<br><sup><i>xx</i></sup>\"\n",
        "            )\n",
        "        ),\n",
        "        yaxis=go.layout.YAxis(\n",
        "        title=go.layout.yaxis.Title(\n",
        "            text=\"eGFR<br><sup><i>ml/minute/1.73m^2</i></sup>\"\n",
        "            )\n",
        "        )\n",
        "    )\n",
        "fig.show()"
      ],
      "metadata": {
        "id": "SPfI6QROz2Wj",
        "outputId": "46025639-52ce-4b01-f23b-1e3d35c56622",
        "colab": {
          "base_uri": "https://localhost:8080/",
          "height": 542
        }
      },
      "execution_count": 115,
      "outputs": [
        {
          "output_type": "display_data",
          "data": {
            "text/html": [
              "<html>\n",
              "<head><meta charset=\"utf-8\" /></head>\n",
              "<body>\n",
              "    <div>            <script src=\"https://cdnjs.cloudflare.com/ajax/libs/mathjax/2.7.5/MathJax.js?config=TeX-AMS-MML_SVG\"></script><script type=\"text/javascript\">if (window.MathJax && window.MathJax.Hub && window.MathJax.Hub.Config) {window.MathJax.Hub.Config({SVG: {font: \"STIX-Web\"}});}</script>                <script type=\"text/javascript\">window.PlotlyConfig = {MathJaxConfig: 'local'};</script>\n",
              "        <script src=\"https://cdn.plot.ly/plotly-2.18.2.min.js\"></script>                <div id=\"26405522-58fe-45ac-b07e-41148daca98a\" class=\"plotly-graph-div\" style=\"height:525px; width:100%;\"></div>            <script type=\"text/javascript\">                                    window.PLOTLYENV=window.PLOTLYENV || {};                                    if (document.getElementById(\"26405522-58fe-45ac-b07e-41148daca98a\")) {                    Plotly.newPlot(                        \"26405522-58fe-45ac-b07e-41148daca98a\",                        [{\"marker\":{\"color\":\"#191c40\",\"line\":{\"width\":1},\"size\":10},\"mode\":\"markers\",\"name\":\"71.23%\",\"x\":[null,0,0,0,0,1.6,1.2,1.3,0.8,0,0.4,0.6,0,0.4,0,null,0,0.8,0,0.5,0.4,0.9,1.3,1.1,1.2,1.2,1.9,1.6,0,0.3,2.4,2.7,0,1.4,2.5,1.3,0,2.7,0.7,1.4,1.7,0.6,0.5,2.4,0.6,0,1.9,0.8,0.9,1,1,0.7,1.5,0.5,1.3,0.4,1,1.9,1.6,0.6,0.9,0.9,1.9,2.2,1.4,1.7,1,1.3,1.7,2,0.4,1.1,2,2.2,0.4,0.5,0.7,2.5,1.2,0.5,0.4,0.6,0.8,1.3,2.6,1.1,1.6,70,1,0.3,0,2.5,0.8,0,0.7,1.5,1,2,0.8,2.2,0.6,0.9,0.6,1.1,0,1.1,0.8,0,2.8,1.1,0.9,1.8,0,0.5,2.3,1.6,0.8,0.7,0,0.9,0.7,1.1,1.9,0.8,0.4,0,1.3,2.8,0.9,0.8,0.8,0.7,0.5,2.5,2.6,1.5,0,2.5,0.8,2.1,0.5,0.6,0,1.7,0,0,2.4,0.9,1.1,0.6,0.7,1.5,2,0,1.7,0.5],\"y\":[310.2426382978723,136.56752542372882,134.9735769230769,202.704,244.8731612903226,179.20177500000003,143.6572602739726,180.42883516483514,158.40391836734693,134.316,180.83544827586203,122.16891891891892,122.96215384615385,155.49755844155845,162.18376119402984,137.76,124.81661538461539,146.5668,113.36358620689653,135.55701492537312,236.28300000000002,177.22022222222222,172.83483870967743,154.58261538461537,130.44150000000002,159.777,85.16383333333333,174.9306,119.63368421052631,169.5148474576271,222.5808,150.7130181818182,122.877,156.99272727272728,132.56547826086955,151.43898591549296,161.4194117647059,84.88108108108108,206.64,157.67394117647058,122.68164705882351,160.06557692307692,140.8104,221.1472602739726,184.27039999999997,164.94947368421052,103.76858823529412,224.26254545454546,207.45999999999998,142.32046153846153,111.80052631578947,131.03365714285715,114.40490909090909,125.88037974683543,104.40477108433737,175.78820689655174,118.83205714285712,132.63348148148148,97.10526315789474,128.15616000000003,150.78745714285714,196.8,146.18363636363634,207.10963636363633,170.17489285714285,156.13764705882355,99.17393258426966,152.86818461538462,170.41848387096775,180.41261538461538,156.92457142857143,126.567,204.40180327868853,124.84500000000001,152.70345762711867,128.865,194.07093749999999,132.13152,164.7874411764706,119.45205633802816,165.69857142857143,117.14234782608695,136.19695384615383,147.108,95.8375,182.27207547169812,132.00881818181819,null,128.40130434782606,129.85725,137.77468656716417,171.08915625,131.2784347826087,99.76904347826085,165.07771428571428,93.17509859154929,181.86428571428573,255.44639999999998,99.85363636363635,198.08218181818182,158.63215384615384,147.06435483870965,179.97677419354838,168.28096551724138,107.3608524590164,268.5938275862069,148.24173913043478,166.48554098360657,138.58863157894737,107.6138181818182,144.28186046511627,141.3457627118644,131.979,141.8928,110.36454545454545,179.38489655172413,123.66045652173912,276.1324897959184,156.33925423728812,205.656,85.73672093023256,137.60587951807227,147.21285245901637,199.42131147540985,123.984,120.53999999999998,98.58345762711865,157.18033333333332,164.69699999999997,145.5585671641791,225.32322077922078,151.7954794520548,89.14353488372092,224.72685714285714,156.33067924528305,157.72114285714284,165.68289230769227,130.19076923076923,224.32347826086956,123.04685714285714,116.71976470588235,121.41559322033898,193.81406896551724,116.49857142857142,144.78857142857143,164.34337499999998,158.60166666666666,136.9630625,191.5340625,135.096,123.04612499999999,99.7139294117647,151.8018387096774,120.03238095238095,167.91793220338982,159.01440000000002],\"type\":\"scatter\"},{\"marker\":{\"color\":\"#b29758\",\"line\":{\"width\":1},\"size\":10},\"mode\":\"markers\",\"name\":\"0.46%\",\"x\":[8.6],\"y\":[85.06101176470588],\"type\":\"scatter\"},{\"marker\":{\"color\":\"#c3c0c0\",\"line\":{\"width\":1},\"size\":10},\"mode\":\"markers\",\"name\":\"28.31%\",\"x\":[7.4,9.3,91.3,6.6,12.1,18,18.7,12,8.2,6.2,5.1,14.9,8.9,4.8,7.5,9.3,6.6,12.2,22.3,3.3,3.7,3.1,6.5,3.2,17.1,7.3,14.3,5.5,59.2,20.7,3.3,23.9,3.3,3.4,7.6,15.5,7.5,10.8,3.8,16.8,4.5,3.2,48.5,3.4,5.8,7.8,5.3,5.1,12.6,3.6,3.3,7.3,3.1,11.4,3.2,5.2,3.8,10,3.3,7.3,7.7,89.9],\"y\":[132.71416879795396,118.08,124.99142857142857,166.512813559322,193.9236923076923,122.51648275862071,110.0884647887324,135.1647,92.34225,161.04534705882352,186.19867241379313,145.32866949152543,167.9107692307692,151.94972727272727,116.44656,168.1918965517241,175.24661538461535,140.679737704918,276.0547826086957,226.66061538461537,121.846875,220.77679999999998,116.40905660377359,139.34605263157894,122.22685714285713,139.072,194.92283076923076,179.9408,168.428,100.76274418604653,130.1446956521739,191.81328813559318,191.11740000000003,101.975661971831,107.37899999999999,126.2349,150.5028,151.08780821917807,126.40040506329113,195.562064516129,163.14434782608694,248.75689655172414,193.98108196721313,251.715,189.80266666666668,116.91307692307694,252.8388,161.6331818181818,237.144,106.78539130434783,163.64178947368418,97.06642105263157,149.1744,153.18112499999998,171.43739999999997,347.7236170212766,143.8620779220779,129.88799999999998,120.90021428571428,102.85533333333332,129.15,176.25444444444443],\"type\":\"scatter\"}],                        {\"template\":{\"data\":{\"histogram2dcontour\":[{\"type\":\"histogram2dcontour\",\"colorbar\":{\"outlinewidth\":0,\"ticks\":\"\"},\"colorscale\":[[0.0,\"#0d0887\"],[0.1111111111111111,\"#46039f\"],[0.2222222222222222,\"#7201a8\"],[0.3333333333333333,\"#9c179e\"],[0.4444444444444444,\"#bd3786\"],[0.5555555555555556,\"#d8576b\"],[0.6666666666666666,\"#ed7953\"],[0.7777777777777778,\"#fb9f3a\"],[0.8888888888888888,\"#fdca26\"],[1.0,\"#f0f921\"]]}],\"choropleth\":[{\"type\":\"choropleth\",\"colorbar\":{\"outlinewidth\":0,\"ticks\":\"\"}}],\"histogram2d\":[{\"type\":\"histogram2d\",\"colorbar\":{\"outlinewidth\":0,\"ticks\":\"\"},\"colorscale\":[[0.0,\"#0d0887\"],[0.1111111111111111,\"#46039f\"],[0.2222222222222222,\"#7201a8\"],[0.3333333333333333,\"#9c179e\"],[0.4444444444444444,\"#bd3786\"],[0.5555555555555556,\"#d8576b\"],[0.6666666666666666,\"#ed7953\"],[0.7777777777777778,\"#fb9f3a\"],[0.8888888888888888,\"#fdca26\"],[1.0,\"#f0f921\"]]}],\"heatmap\":[{\"type\":\"heatmap\",\"colorbar\":{\"outlinewidth\":0,\"ticks\":\"\"},\"colorscale\":[[0.0,\"#0d0887\"],[0.1111111111111111,\"#46039f\"],[0.2222222222222222,\"#7201a8\"],[0.3333333333333333,\"#9c179e\"],[0.4444444444444444,\"#bd3786\"],[0.5555555555555556,\"#d8576b\"],[0.6666666666666666,\"#ed7953\"],[0.7777777777777778,\"#fb9f3a\"],[0.8888888888888888,\"#fdca26\"],[1.0,\"#f0f921\"]]}],\"heatmapgl\":[{\"type\":\"heatmapgl\",\"colorbar\":{\"outlinewidth\":0,\"ticks\":\"\"},\"colorscale\":[[0.0,\"#0d0887\"],[0.1111111111111111,\"#46039f\"],[0.2222222222222222,\"#7201a8\"],[0.3333333333333333,\"#9c179e\"],[0.4444444444444444,\"#bd3786\"],[0.5555555555555556,\"#d8576b\"],[0.6666666666666666,\"#ed7953\"],[0.7777777777777778,\"#fb9f3a\"],[0.8888888888888888,\"#fdca26\"],[1.0,\"#f0f921\"]]}],\"contourcarpet\":[{\"type\":\"contourcarpet\",\"colorbar\":{\"outlinewidth\":0,\"ticks\":\"\"}}],\"contour\":[{\"type\":\"contour\",\"colorbar\":{\"outlinewidth\":0,\"ticks\":\"\"},\"colorscale\":[[0.0,\"#0d0887\"],[0.1111111111111111,\"#46039f\"],[0.2222222222222222,\"#7201a8\"],[0.3333333333333333,\"#9c179e\"],[0.4444444444444444,\"#bd3786\"],[0.5555555555555556,\"#d8576b\"],[0.6666666666666666,\"#ed7953\"],[0.7777777777777778,\"#fb9f3a\"],[0.8888888888888888,\"#fdca26\"],[1.0,\"#f0f921\"]]}],\"surface\":[{\"type\":\"surface\",\"colorbar\":{\"outlinewidth\":0,\"ticks\":\"\"},\"colorscale\":[[0.0,\"#0d0887\"],[0.1111111111111111,\"#46039f\"],[0.2222222222222222,\"#7201a8\"],[0.3333333333333333,\"#9c179e\"],[0.4444444444444444,\"#bd3786\"],[0.5555555555555556,\"#d8576b\"],[0.6666666666666666,\"#ed7953\"],[0.7777777777777778,\"#fb9f3a\"],[0.8888888888888888,\"#fdca26\"],[1.0,\"#f0f921\"]]}],\"mesh3d\":[{\"type\":\"mesh3d\",\"colorbar\":{\"outlinewidth\":0,\"ticks\":\"\"}}],\"scatter\":[{\"fillpattern\":{\"fillmode\":\"overlay\",\"size\":10,\"solidity\":0.2},\"type\":\"scatter\"}],\"parcoords\":[{\"type\":\"parcoords\",\"line\":{\"colorbar\":{\"outlinewidth\":0,\"ticks\":\"\"}}}],\"scatterpolargl\":[{\"type\":\"scatterpolargl\",\"marker\":{\"colorbar\":{\"outlinewidth\":0,\"ticks\":\"\"}}}],\"bar\":[{\"error_x\":{\"color\":\"#2a3f5f\"},\"error_y\":{\"color\":\"#2a3f5f\"},\"marker\":{\"line\":{\"color\":\"#E5ECF6\",\"width\":0.5},\"pattern\":{\"fillmode\":\"overlay\",\"size\":10,\"solidity\":0.2}},\"type\":\"bar\"}],\"scattergeo\":[{\"type\":\"scattergeo\",\"marker\":{\"colorbar\":{\"outlinewidth\":0,\"ticks\":\"\"}}}],\"scatterpolar\":[{\"type\":\"scatterpolar\",\"marker\":{\"colorbar\":{\"outlinewidth\":0,\"ticks\":\"\"}}}],\"histogram\":[{\"marker\":{\"pattern\":{\"fillmode\":\"overlay\",\"size\":10,\"solidity\":0.2}},\"type\":\"histogram\"}],\"scattergl\":[{\"type\":\"scattergl\",\"marker\":{\"colorbar\":{\"outlinewidth\":0,\"ticks\":\"\"}}}],\"scatter3d\":[{\"type\":\"scatter3d\",\"line\":{\"colorbar\":{\"outlinewidth\":0,\"ticks\":\"\"}},\"marker\":{\"colorbar\":{\"outlinewidth\":0,\"ticks\":\"\"}}}],\"scattermapbox\":[{\"type\":\"scattermapbox\",\"marker\":{\"colorbar\":{\"outlinewidth\":0,\"ticks\":\"\"}}}],\"scatterternary\":[{\"type\":\"scatterternary\",\"marker\":{\"colorbar\":{\"outlinewidth\":0,\"ticks\":\"\"}}}],\"scattercarpet\":[{\"type\":\"scattercarpet\",\"marker\":{\"colorbar\":{\"outlinewidth\":0,\"ticks\":\"\"}}}],\"carpet\":[{\"aaxis\":{\"endlinecolor\":\"#2a3f5f\",\"gridcolor\":\"white\",\"linecolor\":\"white\",\"minorgridcolor\":\"white\",\"startlinecolor\":\"#2a3f5f\"},\"baxis\":{\"endlinecolor\":\"#2a3f5f\",\"gridcolor\":\"white\",\"linecolor\":\"white\",\"minorgridcolor\":\"white\",\"startlinecolor\":\"#2a3f5f\"},\"type\":\"carpet\"}],\"table\":[{\"cells\":{\"fill\":{\"color\":\"#EBF0F8\"},\"line\":{\"color\":\"white\"}},\"header\":{\"fill\":{\"color\":\"#C8D4E3\"},\"line\":{\"color\":\"white\"}},\"type\":\"table\"}],\"barpolar\":[{\"marker\":{\"line\":{\"color\":\"#E5ECF6\",\"width\":0.5},\"pattern\":{\"fillmode\":\"overlay\",\"size\":10,\"solidity\":0.2}},\"type\":\"barpolar\"}],\"pie\":[{\"automargin\":true,\"type\":\"pie\"}]},\"layout\":{\"autotypenumbers\":\"strict\",\"colorway\":[\"#636efa\",\"#EF553B\",\"#00cc96\",\"#ab63fa\",\"#FFA15A\",\"#19d3f3\",\"#FF6692\",\"#B6E880\",\"#FF97FF\",\"#FECB52\"],\"font\":{\"color\":\"#2a3f5f\"},\"hovermode\":\"closest\",\"hoverlabel\":{\"align\":\"left\"},\"paper_bgcolor\":\"white\",\"plot_bgcolor\":\"#E5ECF6\",\"polar\":{\"bgcolor\":\"#E5ECF6\",\"angularaxis\":{\"gridcolor\":\"white\",\"linecolor\":\"white\",\"ticks\":\"\"},\"radialaxis\":{\"gridcolor\":\"white\",\"linecolor\":\"white\",\"ticks\":\"\"}},\"ternary\":{\"bgcolor\":\"#E5ECF6\",\"aaxis\":{\"gridcolor\":\"white\",\"linecolor\":\"white\",\"ticks\":\"\"},\"baxis\":{\"gridcolor\":\"white\",\"linecolor\":\"white\",\"ticks\":\"\"},\"caxis\":{\"gridcolor\":\"white\",\"linecolor\":\"white\",\"ticks\":\"\"}},\"coloraxis\":{\"colorbar\":{\"outlinewidth\":0,\"ticks\":\"\"}},\"colorscale\":{\"sequential\":[[0.0,\"#0d0887\"],[0.1111111111111111,\"#46039f\"],[0.2222222222222222,\"#7201a8\"],[0.3333333333333333,\"#9c179e\"],[0.4444444444444444,\"#bd3786\"],[0.5555555555555556,\"#d8576b\"],[0.6666666666666666,\"#ed7953\"],[0.7777777777777778,\"#fb9f3a\"],[0.8888888888888888,\"#fdca26\"],[1.0,\"#f0f921\"]],\"sequentialminus\":[[0.0,\"#0d0887\"],[0.1111111111111111,\"#46039f\"],[0.2222222222222222,\"#7201a8\"],[0.3333333333333333,\"#9c179e\"],[0.4444444444444444,\"#bd3786\"],[0.5555555555555556,\"#d8576b\"],[0.6666666666666666,\"#ed7953\"],[0.7777777777777778,\"#fb9f3a\"],[0.8888888888888888,\"#fdca26\"],[1.0,\"#f0f921\"]],\"diverging\":[[0,\"#8e0152\"],[0.1,\"#c51b7d\"],[0.2,\"#de77ae\"],[0.3,\"#f1b6da\"],[0.4,\"#fde0ef\"],[0.5,\"#f7f7f7\"],[0.6,\"#e6f5d0\"],[0.7,\"#b8e186\"],[0.8,\"#7fbc41\"],[0.9,\"#4d9221\"],[1,\"#276419\"]]},\"xaxis\":{\"gridcolor\":\"white\",\"linecolor\":\"white\",\"ticks\":\"\",\"title\":{\"standoff\":15},\"zerolinecolor\":\"white\",\"automargin\":true,\"zerolinewidth\":2},\"yaxis\":{\"gridcolor\":\"white\",\"linecolor\":\"white\",\"ticks\":\"\",\"title\":{\"standoff\":15},\"zerolinecolor\":\"white\",\"automargin\":true,\"zerolinewidth\":2},\"scene\":{\"xaxis\":{\"backgroundcolor\":\"#E5ECF6\",\"gridcolor\":\"white\",\"linecolor\":\"white\",\"showbackground\":true,\"ticks\":\"\",\"zerolinecolor\":\"white\",\"gridwidth\":2},\"yaxis\":{\"backgroundcolor\":\"#E5ECF6\",\"gridcolor\":\"white\",\"linecolor\":\"white\",\"showbackground\":true,\"ticks\":\"\",\"zerolinecolor\":\"white\",\"gridwidth\":2},\"zaxis\":{\"backgroundcolor\":\"#E5ECF6\",\"gridcolor\":\"white\",\"linecolor\":\"white\",\"showbackground\":true,\"ticks\":\"\",\"zerolinecolor\":\"white\",\"gridwidth\":2}},\"shapedefaults\":{\"line\":{\"color\":\"#2a3f5f\"}},\"annotationdefaults\":{\"arrowcolor\":\"#2a3f5f\",\"arrowhead\":0,\"arrowwidth\":1},\"geo\":{\"bgcolor\":\"white\",\"landcolor\":\"#E5ECF6\",\"subunitcolor\":\"white\",\"showland\":true,\"showlakes\":true,\"lakecolor\":\"white\"},\"title\":{\"x\":0.05},\"mapbox\":{\"style\":\"light\"}}},\"title\":{\"text\":\"eGFR vs ACR<br><sup><i>eGFR < 90 with ACR > 3</i></sup>\",\"x\":0,\"xref\":\"paper\"},\"xaxis\":{\"title\":{\"text\":\"ACR<br><sup><i>xx</i></sup>\"}},\"yaxis\":{\"title\":{\"text\":\"eGFR<br><sup><i>ml/minute/1.73m^2</i></sup>\"}}},                        {\"responsive\": true}                    ).then(function(){\n",
              "                            \n",
              "var gd = document.getElementById('26405522-58fe-45ac-b07e-41148daca98a');\n",
              "var x = new MutationObserver(function (mutations, observer) {{\n",
              "        var display = window.getComputedStyle(gd).display;\n",
              "        if (!display || display === 'none') {{\n",
              "            console.log([gd, 'removed!']);\n",
              "            Plotly.purge(gd);\n",
              "            observer.disconnect();\n",
              "        }}\n",
              "}});\n",
              "\n",
              "// Listen for the removal of the full notebook cells\n",
              "var notebookContainer = gd.closest('#notebook-container');\n",
              "if (notebookContainer) {{\n",
              "    x.observe(notebookContainer, {childList: true});\n",
              "}}\n",
              "\n",
              "// Listen for the clearing of the current output cell\n",
              "var outputEl = gd.closest('.output');\n",
              "if (outputEl) {{\n",
              "    x.observe(outputEl, {childList: true});\n",
              "}}\n",
              "\n",
              "                        })                };                            </script>        </div>\n",
              "</body>\n",
              "</html>"
            ]
          },
          "metadata": {}
        }
      ]
    },
    {
      "cell_type": "markdown",
      "source": [
        "\n",
        "## HA1C\n"
      ],
      "metadata": {
        "id": "VhSSrkg4HikF"
      }
    },
    {
      "cell_type": "markdown",
      "source": [
        "### Overview"
      ],
      "metadata": {
        "id": "SvB0Zgi19rzA"
      }
    },
    {
      "cell_type": "code",
      "source": [
        "#@title\n",
        "df.loc[df['HbA1C'] < 38, 'HbA1CCat'] = '<38'\n",
        "df.loc[(df['HbA1C'] >= 38)&(df['HbA1C'] < 47), 'HbA1CCat'] = '39-47'\n",
        "df.loc[df['HbA1C'] >= 47, 'HbA1CCat'] = '>48'\n",
        "\n",
        "fig = go.Figure()\n",
        "\n",
        "for tra in df.HbA1CCat.unique():\n",
        "    dft = df[df['HbA1CCat']==tra]\n",
        "\n",
        "    fig.add_trace(go.Splom(\n",
        "                    dimensions=[\n",
        "                                dict(label='RandomGlucose',\n",
        "                                    values=dft['RandomGlucose']),\n",
        "                                dict(label='HbA1C',\n",
        "                                    values=dft['HbA1C']),\n",
        "                                dict(label='eGFR',\n",
        "                                    values=dft['eGFR']),\n",
        "                                dict(label='Hb',\n",
        "                                    values=dft['Hb']),\n",
        "                                dict(label='ALT',\n",
        "                                    values=dft['ALT']),\n",
        "                                dict(label='Creatinine',\n",
        "                                    values=dft['Creatinine']),\n",
        "                                dict(label='ACR',\n",
        "                                    values=dft['ACR']),\n",
        "                                dict(label='Age',\n",
        "                                    values=dft['Age']),\n",
        "                                    ],\n",
        "                    diagonal_visible=False,\n",
        "                    text=dft['Id'],\n",
        "                    name=tra,\n",
        "                    marker=dict(\n",
        "                                showscale=False, \n",
        "                                line_color='white', \n",
        "                                line_width=0.5)\n",
        "                    ))\n",
        "\n",
        "\n",
        "fig.update_layout(\n",
        "    title=f\"HbA1C<br><sup><i>(n=)</i></sup>\",\n",
        "    showlegend=True,\n",
        "    width=1000,\n",
        "    height=1000,\n",
        ")\n",
        "\n",
        "fig.show()\n"
      ],
      "metadata": {
        "colab": {
          "base_uri": "https://localhost:8080/",
          "height": 1000
        },
        "id": "bcMEvgtj9qVA",
        "outputId": "5dcfc5e7-3ada-421d-e427-e62a5c8f7895"
      },
      "execution_count": 107,
      "outputs": [
        {
          "output_type": "display_data",
          "data": {
            "text/html": [
              "<html>\n",
              "<head><meta charset=\"utf-8\" /></head>\n",
              "<body>\n",
              "    <div>            <script src=\"https://cdnjs.cloudflare.com/ajax/libs/mathjax/2.7.5/MathJax.js?config=TeX-AMS-MML_SVG\"></script><script type=\"text/javascript\">if (window.MathJax && window.MathJax.Hub && window.MathJax.Hub.Config) {window.MathJax.Hub.Config({SVG: {font: \"STIX-Web\"}});}</script>                <script type=\"text/javascript\">window.PlotlyConfig = {MathJaxConfig: 'local'};</script>\n",
              "        <script src=\"https://cdn.plot.ly/plotly-2.18.2.min.js\"></script>                <div id=\"9953e667-2cac-41fa-b935-409ff5e58cc3\" class=\"plotly-graph-div\" style=\"height:1000px; width:1000px;\"></div>            <script type=\"text/javascript\">                                    window.PLOTLYENV=window.PLOTLYENV || {};                                    if (document.getElementById(\"9953e667-2cac-41fa-b935-409ff5e58cc3\")) {                    Plotly.newPlot(                        \"9953e667-2cac-41fa-b935-409ff5e58cc3\",                        [{\"diagonal\":{\"visible\":false},\"dimensions\":[{\"label\":\"RandomGlucose\",\"values\":[3.5,6.1,4.8,3.8,4.4,4.2,4.3,4.5,4.4,5.4,4.5,4.5,4.5,5.2,4.8,3.9,4.6,4.0,4.6,4.2,5.3,5.7,5.2,5.1,5.7,7.7,4.9,4.8,5.2,4.0,5.9,3.5,3.8,null,4.9,4.9,4.9,5.6,4.6,4.5,4.5,4.5,4.6,5.2,4.9,4.7,5.1,5.0,5.9,4.4,4.3,4.5,4.6,4.7,4.6,4.1,4.3,4.5,5.3,4.3,4.2,5.2,4.4,4.7,5.4,4.5,4.9,4.3,5.3,4.4,4.3,5.2,3.3,4.0,4.8,10.2,4.7,4.1,4.2,4.5,4.0,3.8,4.6,5.0,4.3,4.5,4.1,5.2,4.8,5.9,6.5,4.8,4.2,4.7,4.1,4.1,4.2,4.8,5.0,4.6,4.4,3.8,4.2,4.5,4.0,4.7,4.6,4.2,4.0,4.9,5.6,3.8,5.2,4.4,5.7,4.3,3.9,4.6,4.0,4.5,4.0,4.4,4.6,5.6,3.5,5.3,5.3,4.7,4.4,4.4,4.0,5.2,4.6,5.0,6.2,4.5,3.8]},{\"label\":\"HbA1C\",\"values\":[37.0,35.0,37.0,32.0,30.0,34.0,37.0,33.0,32.0,36.0,37.0,35.0,31.0,36.0,31.0,0.0,36.0,36.0,37.0,37.0,33.0,33.0,36.0,35.0,34.0,5.7,33.0,33.0,27.0,36.0,32.0,29.0,36.0,34.0,34.0,32.0,35.0,36.0,35.0,35.0,36.0,35.0,37.0,35.0,36.0,36.0,35.0,37.0,35.0,35.0,36.0,36.0,37.0,37.0,28.0,31.0,33.0,33.0,31.0,33.0,29.0,37.0,36.0,34.0,36.0,34.0,34.0,33.0,33.0,32.0,33.0,29.0,34.0,34.0,36.0,34.0,35.0,36.0,32.0,34.0,32.0,29.0,34.0,37.0,32.0,37.0,29.0,35.0,32.0,31.0,34.0,32.0,35.0,34.0,31.0,34.0,37.0,35.0,37.0,36.0,31.0,31.0,36.0,33.0,35.0,37.0,35.0,37.0,37.0,36.0,34.0,35.0,31.0,35.0,31.0,35.0,33.0,32.0,35.0,30.0,37.0,33.0,33.0,36.0,34.0,37.0,35.0,35.0,37.0,32.0,35.0,35.0,33.0,35.0,35.0,36.0,32.0]},{\"label\":\"eGFR\",\"values\":[132.71416879795396,310.2426382978723,166.512813559322,122.51648275862071,110.0884647887324,135.1647,161.04534705882352,186.19867241379313,167.9107692307692,151.94972727272727,168.1918965517241,175.24661538461535,202.704,85.06101176470588,244.8731612903226,140.679737704918,276.0547826086957,143.6572602739726,158.40391836734693,134.316,226.66061538461537,180.83544827586203,122.16891891891892,122.96215384615385,162.18376119402984,137.76,236.28300000000002,177.22022222222222,172.83483870967743,154.58261538461537,130.44150000000002,85.16383333333333,121.846875,116.40905660377359,174.9306,119.63368421052631,222.5808,150.7130181818182,122.877,156.99272727272728,132.56547826086955,122.22685714285713,139.072,161.4194117647059,84.88108108108108,206.64,157.67394117647058,221.1472602739726,184.27039999999997,164.94947368421052,103.76858823529412,224.26254545454546,194.92283076923076,168.428,207.45999999999998,142.32046153846153,131.03365714285715,114.40490909090909,125.88037974683543,100.76274418604653,118.83205714285712,132.63348148148148,191.81328813559318,128.15616000000003,101.975661971831,107.37899999999999,180.41261538461538,156.92457142857143,126.567,150.5028,204.40180327868853,124.84500000000001,152.70345762711867,128.865,194.07093749999999,151.08780821917807,132.13152,126.40040506329113,195.562064516129,164.7874411764706,163.14434782608694,248.75689655172414,119.45205633802816,165.69857142857143,136.19695384615383,147.108,95.8375,251.715,132.00881818181819,116.91307692307694,137.77468656716417,171.08915625,252.8388,131.2784347826087,93.17509859154929,161.6331818181818,99.85363636363635,237.144,198.08218181818182,106.78539130434783,168.28096551724138,107.3608524590164,148.24173913043478,163.64178947368418,138.58863157894737,107.6138181818182,141.3457627118644,131.979,179.38489655172413,156.33925423728812,153.18112499999998,205.656,85.73672093023256,137.60587951807227,147.21285245901637,199.42131147540985,120.53999999999998,98.58345762711865,157.18033333333332,164.69699999999997,145.5585671641791,225.32322077922078,151.7954794520548,89.14353488372092,143.8620779220779,224.32347826086956,123.04685714285714,129.88799999999998,193.81406896551724,116.49857142857142,120.90021428571428,164.34337499999998,158.60166666666666,129.15,176.25444444444443,120.03238095238095,159.01440000000002]},{\"label\":\"Hb\",\"values\":[132.0,124.0,141.0,126.0,131.0,135.0,111.0,113.0,139.0,147.0,134.0,119.0,118.0,125.0,130.0,124.0,131.0,121.0,128.0,139.0,114.0,131.0,135.0,130.0,129.0,124.0,112.0,121.0,119.0,133.0,131.0,130.0,136.0,122.0,123.0,132.0,121.0,120.0,119.0,125.0,111.0,126.0,120.0,112.0,129.0,122.0,133.0,118.0,111.0,115.0,123.0,124.0,125.0,116.0,115.0,134.0,130.0,132.0,144.0,111.0,120.0,114.0,134.0,130.0,149.0,137.0,129.0,134.0,121.0,126.0,133.0,127.0,124.0,118.0,120.0,140.0,136.0,110.0,128.0,141.0,122.0,110.0,130.0,127.0,133.0,131.0,119.0,122.0,132.0,129.0,125.0,128.0,114.0,131.0,122.0,143.0,130.0,119.0,130.0,129.0,117.0,130.0,127.0,120.0,122.0,139.0,134.0,117.0,131.0,123.0,130.0,114.0,129.0,112.0,120.0,115.0,135.0,121.0,127.0,120.0,132.0,116.0,124.0,138.0,107.0,117.0,110.0,111.0,137.0,114.0,125.0,140.0,120.0,113.0,102.0,137.0,111.0]},{\"label\":\"ALT\",\"values\":[null,null,null,null,null,null,null,null,null,null,null,null,null,null,null,null,null,null,null,null,null,null,null,null,null,null,null,null,null,null,null,null,null,null,null,null,null,null,null,null,null,null,null,null,null,null,null,null,null,null,null,null,null,null,null,null,null,null,null,null,null,null,null,null,null,null,null,null,null,null,null,null,null,null,null,null,null,null,null,null,null,null,null,15.0,26.0,31.0,29.0,39.0,68.0,44.0,50.0,39.0,31.0,17.0,14.0,29.0,25.0,19.0,33.0,69.0,33.0,25.0,35.0,13.0,24.0,null,34.0,17.0,32.0,68.0,43.0,37.0,22.0,15.0,21.0,51.0,38.0,24.0,28.0,24.0,21.0,14.0,14.0,38.0,16.0,8.0,17.0,20.0,155.0,18.0,35.0,25.0,12.0,47.0,11.0,26.0,17.0]},{\"label\":\"Creatinine\",\"values\":[69.0,47.0,59.0,58.0,71.0,65.0,85.0,58.0,39.0,66.0,58.0,52.0,62.0,85.0,62.0,61.0,46.0,73.0,49.0,68.0,52.0,58.0,74.0,78.0,67.0,75.0,52.0,54.0,62.0,65.0,64.0,72.0,64.0,53.0,80.0,57.0,75.0,55.0,70.0,66.0,69.0,63.0,54.0,68.0,111.0,54.0,51.0,73.0,60.0,57.0,85.0,55.0,65.0,60.0,63.0,52.0,70.0,66.0,79.0,86.0,70.0,81.0,59.0,75.0,71.0,72.0,65.0,63.0,60.0,60.0,61.0,66.0,59.0,82.0,64.0,73.0,75.0,79.0,62.0,68.0,69.0,58.0,71.0,63.0,65.0,60.0,72.0,82.0,66.0,78.0,67.0,64.0,60.0,69.0,71.0,66.0,88.0,54.0,66.0,92.0,58.0,61.0,69.0,57.0,76.0,88.0,59.0,54.0,58.0,59.0,64.0,60.0,86.0,83.0,61.0,61.0,77.0,59.0,72.0,54.0,67.0,77.0,73.0,86.0,77.0,69.0,63.0,52.0,58.0,70.0,56.0,80.0,72.0,90.0,54.0,63.0,65.0]},{\"label\":\"ACR\",\"values\":[7.4,null,6.6,18,18.7,12,6.2,5.1,8.9,4.8,9.3,6.6,0,8.6,0,12.2,22.3,1.2,0.8,0,3.3,0.4,0.6,0,0,null,0.4,0.9,1.3,1.1,1.2,1.9,3.7,6.5,1.6,0,2.4,2.7,0,1.4,2.5,17.1,7.3,0,2.7,0.7,1.4,2.4,0.6,0,1.9,0.8,14.3,59.2,0.9,1,0.7,1.5,0.5,20.7,1,1.9,23.9,0.6,3.4,7.6,2,0.4,1.1,7.5,2,2.2,0.4,0.5,0.7,10.8,2.5,3.8,16.8,1.2,4.5,3.2,0.5,0.4,0.8,1.3,2.6,3.4,1.6,7.8,0,2.5,5.3,0.8,1.5,5.1,0.8,12.6,2.2,3.6,1.1,0,0.8,3.3,2.8,1.1,1.8,0,1.6,0,11.4,0.9,0.7,1.1,1.9,0.8,0,1.3,2.8,0.9,0.8,0.8,0.7,0.5,3.8,0.8,2.1,10,0,1.7,3.3,0,2.4,7.7,89.9,0,0.5]},{\"label\":\"Age\",\"values\":[34,29,36,39,31,41,37,27,30,33,37,32,37,43,29,32,24,42,24,38,27,38,35,32,32,35,27,34,30,35,39,37,40,45,36,35,23,32,35,36,37,29,34,25,40,35,33,35,34,35,39,31,24,36,35,31,37,37,35,37,34,37,34,29,36,43,35,38,42,26,31,35,31,19,30,35,32,22,39,39,30,25,38,25,43,36,38,43,33,30,34,29,32,38,32,35,46,32,36,36,31,38,30,41,44,44,40,29,34,31,32,30,37,34,32,25,30,48,34,23,34,24,35,34,26,30,39,36,44,38,41,35,30,35,34,34,39]}],\"marker\":{\"line\":{\"color\":\"white\",\"width\":0.5},\"showscale\":false},\"name\":\"<38\",\"text\":[\"WM001\",\"WM004\",\"WM005\",\"WM008\",\"WM009\",\"WM014\",\"WM016\",\"WM018\",\"WM020\",\"WM023\",\"WM024\",\"WM025\",\"WM027\",\"WM026\",\"WM028\",\"WM029\",\"WM030\",\"WM032\",\"WM034\",\"WM036\",\"WM037\",\"WM039\",\"WM038\",\"WM041\",\"WM043\",\"WM044\",\"WM049\",\"WM050\",\"WM051\",\"WM052\",\"WM053\",\"WM057\",\"WM058\",\"WM061\",\"WM062\",\"WM063\",\"WM066\",\"WM067\",\"WM068\",\"WM070\",\"WM071\",\"WM073\",\"WM076\",\"WM077\",\"WM078\",\"WM079\",\"WM080\",\"WM085\",\"WM086\",\"WM087\",\"WM088\",\"WM090\",\"WM091\",\"WM093\",\"WM094\",\"WM096\",\"WM097\",\"WM098\",\"WM100\",\"WM099\",\"WM105\",\"WM101\",\"WM108 \",\"WM110\",\"WM123\",\"WM124\",\"WM128\",\"WM129\",\"WM130\",\"WM131\",\"WM132\",\"WM134\",\"WM133\",\"WM135\",\"WM136\",\"WM137\",\"WM139\",\"WM140\",\"WM141\",\"WM142\",\"WM143\",\"WM144\",\"WM145\",\"WM147\",\"WM150\",\"WM153\",\"WM154\",\"WM155\",\"WM157\",\"WM165\",\"WM170\",\"WM169\",\"WM171\",\"WM173\",\"WM176\",\"WM177\",\"WM180\",\"WM182\",\"WM184\",\"KM187\",\"WM189\",\"WM190\",\"WM192\",\"WM195\",\"WM196\",\"WM197\",\"WM200\",\"WM201\",\"WM204\",\"WM208\",\"WM209\",\"WM211\",\"WM212\",\"WM213\",\"WM214\",\"WM215\",\"WM217\",\"WM218\",\"WM219\",\"WM220\",\"WM224\",\"WM225\",\"WM226\",\"WM229\",\"WM233\",\"WM237\",\"WM238\",\"WM239\",\"WM242\",\"WM243\",\"WM244\",\"WM247\",\"WM249\",\"WM256\",\"WM258\",\"WM260\",\"WM262\"],\"type\":\"splom\"},{\"diagonal\":{\"visible\":false},\"dimensions\":[{\"label\":\"RandomGlucose\",\"values\":[4.6,4.4,5.3,5.3,4.2,4.5,4.0,5.2,5.4,5.3,4.3,4.8,5.0,4.9,4.5,4.4,null,4.8,4.8,5.3,null,4.7,5.8,4.2,5.2,5.5,3.1,5.0,4.7,5.3,5.6,5.1,5.1,2.9,4.5,4.9,5.1,4.4,4.8,4.0,4.9,4.8,5.0,5.3,3.9,3.9,4.9,4.5,4.5,8.8,5.1,5.1,4.0,7.8,4.5,4.4,4.4,4.3,6.6,4.2,4.3,4.7,4.4,3.6,5.3,3.6,4.3,4.6,5.4,4.4,4.7,4.7,4.3,6.0,4.7,4.2]},{\"label\":\"HbA1C\",\"values\":[39.0,40.0,39.0,38.0,38.0,43.0,45.0,40.0,42.0,43.0,38.0,38.0,41.0,42.0,43.0,39.0,38.0,39.0,40.0,39.0,39.0,41.0,38.0,39.0,41.0,39.0,38.0,41.0,38.0,44.0,41.0,41.0,42.0,42.0,40.0,45.0,41.0,39.0,40.0,43.0,38.0,40.0,38.0,38.0,41.0,39.0,39.0,38.0,38.0,39.0,39.0,40.0,38.0,46.0,41.0,41.0,39.0,41.0,39.0,38.0,41.0,44.0,40.0,41.0,38.0,39.0,42.0,39.0,40.0,40.0,42.0,39.0,39.0,41.0,41.0,39.0]},{\"label\":\"eGFR\",\"values\":[118.08,124.99142857142857,136.56752542372882,193.9236923076923,92.34225,134.9735769230769,145.32866949152543,116.44656,179.20177500000003,180.42883516483514,155.49755844155845,124.81661538461539,146.5668,113.36358620689653,135.55701492537312,159.777,220.77679999999998,139.34605263157894,169.5148474576271,151.43898591549296,122.68164705882351,160.06557692307692,179.9408,111.80052631578947,104.40477108433737,175.78820689655174,97.10526315789474,130.1446956521739,191.11740000000003,196.8,146.18363636363634,207.10963636363633,170.17489285714285,156.13764705882355,99.17393258426966,126.2349,152.86818461538462,170.41848387096775,193.98108196721313,117.14234782608695,182.27207547169812,128.40130434782606,189.80266666666668,129.85725,99.76904347826085,165.07771428571428,181.86428571428573,255.44639999999998,158.63215384615384,147.06435483870965,179.97677419354838,268.5938275862069,166.48554098360657,144.28186046511627,97.06642105263157,141.8928,110.36454545454545,123.66045652173912,276.1324897959184,149.1744,123.984,224.72685714285714,156.33067924528305,157.72114285714284,165.68289230769227,130.19076923076923,116.71976470588235,121.41559322033898,144.78857142857143,102.85533333333332,136.9630625,191.5340625,135.096,123.04612499999999,151.8018387096774,167.91793220338982]},{\"label\":\"Hb\",\"values\":[70.0,139.0,124.0,125.0,134.0,123.0,134.0,130.0,119.0,117.0,132.0,139.0,117.0,124.0,118.0,131.0,97.0,119.0,118.0,130.0,null,118.0,124.0,133.0,126.0,127.0,119.0,133.0,130.0,137.0,144.0,129.0,137.0,123.0,119.0,122.0,126.0,124.0,134.0,125.0,132.0,126.0,125.0,131.0,138.0,135.0,127.0,129.0,126.0,136.0,114.0,118.0,137.0,126.0,147.0,119.0,121.0,129.0,139.0,129.0,130.0,117.0,131.0,143.0,140.0,122.0,123.0,140.0,122.0,129.0,125.0,118.0,139.0,134.0,122.0,127.0]},{\"label\":\"ALT\",\"values\":[null,null,null,null,null,null,null,null,null,null,null,null,null,null,null,null,null,null,null,null,null,null,null,null,null,null,null,null,null,null,null,null,null,null,null,null,null,null,39.0,25.0,33.0,18.0,31.0,21.0,24.0,14.0,67.0,36.0,null,24.0,22.0,56.0,27.0,71.0,23.0,13.0,11.0,38.0,39.0,38.0,41.0,32.0,53.0,17.0,29.0,26.0,14.0,34.0,27.0,23.0,12.0,21.0,52.0,24.0,23.0,22.0]},{\"label\":\"Creatinine\",\"values\":[66.0,63.0,59.0,65.0,80.0,78.0,59.0,75.0,80.0,91.0,77.0,52.0,60.0,58.0,67.0,70.0,60.0,76.0,59.0,71.0,68.0,52.0,60.0,76.0,83.0,58.0,76.0,69.0,60.0,75.0,66.0,44.0,56.0,68.0,89.0,60.0,65.0,62.0,61.0,69.0,53.0,69.0,54.0,64.0,69.0,63.0,49.0,50.0,65.0,62.0,62.0,58.0,61.0,86.0,76.0,60.0,66.0,92.0,49.0,65.0,85.0,63.0,53.0,63.0,65.0,65.0,85.0,59.0,56.0,72.0,96.0,64.0,82.0,64.0,62.0,59.0]},{\"label\":\"ACR\",\"values\":[9.3,91.3,0,12.1,8.2,0,14.9,7.5,1.6,1.3,0.4,0,0.8,0,0.5,1.2,3.1,3.2,0.3,1.3,1.7,0.6,5.5,1,1.3,0.4,1.6,3.3,3.3,0.9,1.9,2.2,1.4,1.7,1,15.5,1.3,1.7,48.5,0.6,1.1,1,5.8,0.3,0,0.7,1,2,0.6,0.9,0.6,1.1,0,0.9,7.3,0.5,2.3,0.8,0.7,3.1,0.4,2.5,2.6,1.5,0,2.5,0.5,0.6,0,7.3,0.9,1.1,0.6,0.7,2,1.7]},{\"label\":\"Age\",\"values\":[44,30,37,35,35,37,33,43,39,37,36,43,32,36,36,35,34,35,28,42,32,39,36,30,37,34,40,36,38,44,34,32,29,36,36,41,38,37,37,37,35,35,28,37,34,36,35,30,39,35,32,39,41,36,38,28,35,37,37,36,35,31,37,32,34,40,31,36,37,34,27,30,36,34,31,37]}],\"marker\":{\"line\":{\"color\":\"white\",\"width\":0.5},\"showscale\":false},\"name\":\"39-47\",\"text\":[\"WM002\",\"WM003\",\"WM006\",\"WM007\",\"WM015\",\"WM017\",\"WM019\",\"WM021\",\"WM031\",\"WM033\",\"WM042\",\"WM045\",\"WM046\",\"WM047\",\"WM048\",\"WM054\",\"WM060\",\"WM064\",\"WM065\",\"WM075\",\"WM081\",\"WM082\",\"WM092\",\"WM095\",\"WM103\",\"WM104\",\"WM106\",\"WM107\",\"WM113\",\"WM115\",\"WM118\",\"WM119\",\"WM121\",\"WM122\",\"WM122\",\"WM125\",\"WM126\",\"WM127\",\"WM146\",\"WM148\",\"WM156\",\"WM160\",\"WM163\",\"WM164\",\"WM174\",\"WM175\",\"WM178\",\"WM179\",\"WM188\",\"WM186\",\"WM183\",\"WM191\",\"WM193\",\"WM198\",\"WM199\",\"WM202\",\"WM203\",\"WM205\",\"WM206\",\"WM207\",\"WM216\",\"WM232\",\"WM234\",\"WM235\",\"WM236\",\"WM227\",\"WM240\",\"WM241\",\"WM246\",\"WM248\",\"WM250\",\"WM251\",\"WM252\",\"WM253\",\"WM259\",\"WM261\"],\"type\":\"splom\"},{\"diagonal\":{\"visible\":false},\"dimensions\":[{\"label\":\"RandomGlucose\",\"values\":[7.1,4.7,7.0,7.3]},{\"label\":\"HbA1C\",\"values\":[54.0,47.0,48.0,47.0]},{\"label\":\"eGFR\",\"values\":[140.8104,171.43739999999997,347.7236170212766,99.7139294117647]},{\"label\":\"Hb\",\"values\":[129.0,137.0,129.0,122.0]},{\"label\":\"ALT\",\"values\":[null,67.0,21.0,21.0]},{\"label\":\"Creatinine\",\"values\":[60.0,60.0,47.0,85.0]},{\"label\":\"ACR\",\"values\":[0.5,3.2,5.2,1.5]},{\"label\":\"Age\",\"values\":[32,39,37,33]}],\"marker\":{\"line\":{\"color\":\"white\",\"width\":0.5},\"showscale\":false},\"name\":\">48\",\"text\":[\"WM083\",\"WM210\",\"WM230\",\"WM254\"],\"type\":\"splom\"},{\"diagonal\":{\"visible\":false},\"dimensions\":[{\"label\":\"RandomGlucose\",\"values\":[]},{\"label\":\"HbA1C\",\"values\":[]},{\"label\":\"eGFR\",\"values\":[]},{\"label\":\"Hb\",\"values\":[]},{\"label\":\"ALT\",\"values\":[]},{\"label\":\"Creatinine\",\"values\":[]},{\"label\":\"ACR\",\"values\":[]},{\"label\":\"Age\",\"values\":[]}],\"marker\":{\"line\":{\"color\":\"white\",\"width\":0.5},\"showscale\":false},\"name\":\"nan\",\"text\":[],\"type\":\"splom\"}],                        {\"template\":{\"data\":{\"histogram2dcontour\":[{\"type\":\"histogram2dcontour\",\"colorbar\":{\"outlinewidth\":0,\"ticks\":\"\"},\"colorscale\":[[0.0,\"#0d0887\"],[0.1111111111111111,\"#46039f\"],[0.2222222222222222,\"#7201a8\"],[0.3333333333333333,\"#9c179e\"],[0.4444444444444444,\"#bd3786\"],[0.5555555555555556,\"#d8576b\"],[0.6666666666666666,\"#ed7953\"],[0.7777777777777778,\"#fb9f3a\"],[0.8888888888888888,\"#fdca26\"],[1.0,\"#f0f921\"]]}],\"choropleth\":[{\"type\":\"choropleth\",\"colorbar\":{\"outlinewidth\":0,\"ticks\":\"\"}}],\"histogram2d\":[{\"type\":\"histogram2d\",\"colorbar\":{\"outlinewidth\":0,\"ticks\":\"\"},\"colorscale\":[[0.0,\"#0d0887\"],[0.1111111111111111,\"#46039f\"],[0.2222222222222222,\"#7201a8\"],[0.3333333333333333,\"#9c179e\"],[0.4444444444444444,\"#bd3786\"],[0.5555555555555556,\"#d8576b\"],[0.6666666666666666,\"#ed7953\"],[0.7777777777777778,\"#fb9f3a\"],[0.8888888888888888,\"#fdca26\"],[1.0,\"#f0f921\"]]}],\"heatmap\":[{\"type\":\"heatmap\",\"colorbar\":{\"outlinewidth\":0,\"ticks\":\"\"},\"colorscale\":[[0.0,\"#0d0887\"],[0.1111111111111111,\"#46039f\"],[0.2222222222222222,\"#7201a8\"],[0.3333333333333333,\"#9c179e\"],[0.4444444444444444,\"#bd3786\"],[0.5555555555555556,\"#d8576b\"],[0.6666666666666666,\"#ed7953\"],[0.7777777777777778,\"#fb9f3a\"],[0.8888888888888888,\"#fdca26\"],[1.0,\"#f0f921\"]]}],\"heatmapgl\":[{\"type\":\"heatmapgl\",\"colorbar\":{\"outlinewidth\":0,\"ticks\":\"\"},\"colorscale\":[[0.0,\"#0d0887\"],[0.1111111111111111,\"#46039f\"],[0.2222222222222222,\"#7201a8\"],[0.3333333333333333,\"#9c179e\"],[0.4444444444444444,\"#bd3786\"],[0.5555555555555556,\"#d8576b\"],[0.6666666666666666,\"#ed7953\"],[0.7777777777777778,\"#fb9f3a\"],[0.8888888888888888,\"#fdca26\"],[1.0,\"#f0f921\"]]}],\"contourcarpet\":[{\"type\":\"contourcarpet\",\"colorbar\":{\"outlinewidth\":0,\"ticks\":\"\"}}],\"contour\":[{\"type\":\"contour\",\"colorbar\":{\"outlinewidth\":0,\"ticks\":\"\"},\"colorscale\":[[0.0,\"#0d0887\"],[0.1111111111111111,\"#46039f\"],[0.2222222222222222,\"#7201a8\"],[0.3333333333333333,\"#9c179e\"],[0.4444444444444444,\"#bd3786\"],[0.5555555555555556,\"#d8576b\"],[0.6666666666666666,\"#ed7953\"],[0.7777777777777778,\"#fb9f3a\"],[0.8888888888888888,\"#fdca26\"],[1.0,\"#f0f921\"]]}],\"surface\":[{\"type\":\"surface\",\"colorbar\":{\"outlinewidth\":0,\"ticks\":\"\"},\"colorscale\":[[0.0,\"#0d0887\"],[0.1111111111111111,\"#46039f\"],[0.2222222222222222,\"#7201a8\"],[0.3333333333333333,\"#9c179e\"],[0.4444444444444444,\"#bd3786\"],[0.5555555555555556,\"#d8576b\"],[0.6666666666666666,\"#ed7953\"],[0.7777777777777778,\"#fb9f3a\"],[0.8888888888888888,\"#fdca26\"],[1.0,\"#f0f921\"]]}],\"mesh3d\":[{\"type\":\"mesh3d\",\"colorbar\":{\"outlinewidth\":0,\"ticks\":\"\"}}],\"scatter\":[{\"fillpattern\":{\"fillmode\":\"overlay\",\"size\":10,\"solidity\":0.2},\"type\":\"scatter\"}],\"parcoords\":[{\"type\":\"parcoords\",\"line\":{\"colorbar\":{\"outlinewidth\":0,\"ticks\":\"\"}}}],\"scatterpolargl\":[{\"type\":\"scatterpolargl\",\"marker\":{\"colorbar\":{\"outlinewidth\":0,\"ticks\":\"\"}}}],\"bar\":[{\"error_x\":{\"color\":\"#2a3f5f\"},\"error_y\":{\"color\":\"#2a3f5f\"},\"marker\":{\"line\":{\"color\":\"#E5ECF6\",\"width\":0.5},\"pattern\":{\"fillmode\":\"overlay\",\"size\":10,\"solidity\":0.2}},\"type\":\"bar\"}],\"scattergeo\":[{\"type\":\"scattergeo\",\"marker\":{\"colorbar\":{\"outlinewidth\":0,\"ticks\":\"\"}}}],\"scatterpolar\":[{\"type\":\"scatterpolar\",\"marker\":{\"colorbar\":{\"outlinewidth\":0,\"ticks\":\"\"}}}],\"histogram\":[{\"marker\":{\"pattern\":{\"fillmode\":\"overlay\",\"size\":10,\"solidity\":0.2}},\"type\":\"histogram\"}],\"scattergl\":[{\"type\":\"scattergl\",\"marker\":{\"colorbar\":{\"outlinewidth\":0,\"ticks\":\"\"}}}],\"scatter3d\":[{\"type\":\"scatter3d\",\"line\":{\"colorbar\":{\"outlinewidth\":0,\"ticks\":\"\"}},\"marker\":{\"colorbar\":{\"outlinewidth\":0,\"ticks\":\"\"}}}],\"scattermapbox\":[{\"type\":\"scattermapbox\",\"marker\":{\"colorbar\":{\"outlinewidth\":0,\"ticks\":\"\"}}}],\"scatterternary\":[{\"type\":\"scatterternary\",\"marker\":{\"colorbar\":{\"outlinewidth\":0,\"ticks\":\"\"}}}],\"scattercarpet\":[{\"type\":\"scattercarpet\",\"marker\":{\"colorbar\":{\"outlinewidth\":0,\"ticks\":\"\"}}}],\"carpet\":[{\"aaxis\":{\"endlinecolor\":\"#2a3f5f\",\"gridcolor\":\"white\",\"linecolor\":\"white\",\"minorgridcolor\":\"white\",\"startlinecolor\":\"#2a3f5f\"},\"baxis\":{\"endlinecolor\":\"#2a3f5f\",\"gridcolor\":\"white\",\"linecolor\":\"white\",\"minorgridcolor\":\"white\",\"startlinecolor\":\"#2a3f5f\"},\"type\":\"carpet\"}],\"table\":[{\"cells\":{\"fill\":{\"color\":\"#EBF0F8\"},\"line\":{\"color\":\"white\"}},\"header\":{\"fill\":{\"color\":\"#C8D4E3\"},\"line\":{\"color\":\"white\"}},\"type\":\"table\"}],\"barpolar\":[{\"marker\":{\"line\":{\"color\":\"#E5ECF6\",\"width\":0.5},\"pattern\":{\"fillmode\":\"overlay\",\"size\":10,\"solidity\":0.2}},\"type\":\"barpolar\"}],\"pie\":[{\"automargin\":true,\"type\":\"pie\"}]},\"layout\":{\"autotypenumbers\":\"strict\",\"colorway\":[\"#636efa\",\"#EF553B\",\"#00cc96\",\"#ab63fa\",\"#FFA15A\",\"#19d3f3\",\"#FF6692\",\"#B6E880\",\"#FF97FF\",\"#FECB52\"],\"font\":{\"color\":\"#2a3f5f\"},\"hovermode\":\"closest\",\"hoverlabel\":{\"align\":\"left\"},\"paper_bgcolor\":\"white\",\"plot_bgcolor\":\"#E5ECF6\",\"polar\":{\"bgcolor\":\"#E5ECF6\",\"angularaxis\":{\"gridcolor\":\"white\",\"linecolor\":\"white\",\"ticks\":\"\"},\"radialaxis\":{\"gridcolor\":\"white\",\"linecolor\":\"white\",\"ticks\":\"\"}},\"ternary\":{\"bgcolor\":\"#E5ECF6\",\"aaxis\":{\"gridcolor\":\"white\",\"linecolor\":\"white\",\"ticks\":\"\"},\"baxis\":{\"gridcolor\":\"white\",\"linecolor\":\"white\",\"ticks\":\"\"},\"caxis\":{\"gridcolor\":\"white\",\"linecolor\":\"white\",\"ticks\":\"\"}},\"coloraxis\":{\"colorbar\":{\"outlinewidth\":0,\"ticks\":\"\"}},\"colorscale\":{\"sequential\":[[0.0,\"#0d0887\"],[0.1111111111111111,\"#46039f\"],[0.2222222222222222,\"#7201a8\"],[0.3333333333333333,\"#9c179e\"],[0.4444444444444444,\"#bd3786\"],[0.5555555555555556,\"#d8576b\"],[0.6666666666666666,\"#ed7953\"],[0.7777777777777778,\"#fb9f3a\"],[0.8888888888888888,\"#fdca26\"],[1.0,\"#f0f921\"]],\"sequentialminus\":[[0.0,\"#0d0887\"],[0.1111111111111111,\"#46039f\"],[0.2222222222222222,\"#7201a8\"],[0.3333333333333333,\"#9c179e\"],[0.4444444444444444,\"#bd3786\"],[0.5555555555555556,\"#d8576b\"],[0.6666666666666666,\"#ed7953\"],[0.7777777777777778,\"#fb9f3a\"],[0.8888888888888888,\"#fdca26\"],[1.0,\"#f0f921\"]],\"diverging\":[[0,\"#8e0152\"],[0.1,\"#c51b7d\"],[0.2,\"#de77ae\"],[0.3,\"#f1b6da\"],[0.4,\"#fde0ef\"],[0.5,\"#f7f7f7\"],[0.6,\"#e6f5d0\"],[0.7,\"#b8e186\"],[0.8,\"#7fbc41\"],[0.9,\"#4d9221\"],[1,\"#276419\"]]},\"xaxis\":{\"gridcolor\":\"white\",\"linecolor\":\"white\",\"ticks\":\"\",\"title\":{\"standoff\":15},\"zerolinecolor\":\"white\",\"automargin\":true,\"zerolinewidth\":2},\"yaxis\":{\"gridcolor\":\"white\",\"linecolor\":\"white\",\"ticks\":\"\",\"title\":{\"standoff\":15},\"zerolinecolor\":\"white\",\"automargin\":true,\"zerolinewidth\":2},\"scene\":{\"xaxis\":{\"backgroundcolor\":\"#E5ECF6\",\"gridcolor\":\"white\",\"linecolor\":\"white\",\"showbackground\":true,\"ticks\":\"\",\"zerolinecolor\":\"white\",\"gridwidth\":2},\"yaxis\":{\"backgroundcolor\":\"#E5ECF6\",\"gridcolor\":\"white\",\"linecolor\":\"white\",\"showbackground\":true,\"ticks\":\"\",\"zerolinecolor\":\"white\",\"gridwidth\":2},\"zaxis\":{\"backgroundcolor\":\"#E5ECF6\",\"gridcolor\":\"white\",\"linecolor\":\"white\",\"showbackground\":true,\"ticks\":\"\",\"zerolinecolor\":\"white\",\"gridwidth\":2}},\"shapedefaults\":{\"line\":{\"color\":\"#2a3f5f\"}},\"annotationdefaults\":{\"arrowcolor\":\"#2a3f5f\",\"arrowhead\":0,\"arrowwidth\":1},\"geo\":{\"bgcolor\":\"white\",\"landcolor\":\"#E5ECF6\",\"subunitcolor\":\"white\",\"showland\":true,\"showlakes\":true,\"lakecolor\":\"white\"},\"title\":{\"x\":0.05},\"mapbox\":{\"style\":\"light\"}}},\"title\":{\"text\":\"HbA1C<br><sup><i>(n=)</i></sup>\"},\"showlegend\":true,\"width\":1000,\"height\":1000},                        {\"responsive\": true}                    ).then(function(){\n",
              "                            \n",
              "var gd = document.getElementById('9953e667-2cac-41fa-b935-409ff5e58cc3');\n",
              "var x = new MutationObserver(function (mutations, observer) {{\n",
              "        var display = window.getComputedStyle(gd).display;\n",
              "        if (!display || display === 'none') {{\n",
              "            console.log([gd, 'removed!']);\n",
              "            Plotly.purge(gd);\n",
              "            observer.disconnect();\n",
              "        }}\n",
              "}});\n",
              "\n",
              "// Listen for the removal of the full notebook cells\n",
              "var notebookContainer = gd.closest('#notebook-container');\n",
              "if (notebookContainer) {{\n",
              "    x.observe(notebookContainer, {childList: true});\n",
              "}}\n",
              "\n",
              "// Listen for the clearing of the current output cell\n",
              "var outputEl = gd.closest('.output');\n",
              "if (outputEl) {{\n",
              "    x.observe(outputEl, {childList: true});\n",
              "}}\n",
              "\n",
              "                        })                };                            </script>        </div>\n",
              "</body>\n",
              "</html>"
            ]
          },
          "metadata": {}
        }
      ]
    },
    {
      "cell_type": "markdown",
      "source": [
        "## **Hemoglobin (Hb)**\n",
        "This section examines anemia in patients. Normal ranges of Hb in women are 120 to 160 g/L.\n",
        "1. Hb <120 by race\n",
        "2. Hb <120 by parity\n",
        "3. Hb <120 by eGFR >, < 90\n",
        "4. Hb <120 by HbA1C"
      ],
      "metadata": {
        "id": "RRy6JitT_oj3"
      }
    },
    {
      "cell_type": "markdown",
      "source": [
        "### Hemoglobin by Race"
      ],
      "metadata": {
        "id": "-lRLeVLF1heB"
      }
    },
    {
      "cell_type": "code",
      "source": [
        "#@title\n",
        "df['Hb120'] = 0\n",
        "df.loc[df['Hb'] < 120, 'Hb120'] = 1"
      ],
      "metadata": {
        "cellView": "form",
        "id": "D0kWDQJN19hn"
      },
      "execution_count": 108,
      "outputs": []
    },
    {
      "cell_type": "code",
      "source": [
        "#@title\n",
        "fig = go.Figure()\n",
        "names = []\n",
        "for race in df.Race.unique():\n",
        "    dft = df[df['Race']==race]\n",
        "    name = f\"{race}<br><sup><i>(n={len(dft)}, {round(dft.Hb120.sum()/len(dft)*100)}% <120)</i></sup>\"\n",
        "    fig.add_trace(go.Box(y=dft['Hb'], name = name,\n",
        "                        notched=True,\n",
        "                        jitter=0.3,\n",
        "                        pointpos=-1.8,\n",
        "                        boxpoints='all', # represent all points\n",
        "                    ))\n",
        "    names.append(name)\n",
        "\n",
        "name = f\"All<br><sup><i>(n={len(df)}, {round(dft.Hb120.sum()/len(dft)*100)}% <120)</i></sup>\"\n",
        "fig.add_trace(go.Box(y=df['Hb'], name = name,\n",
        "                    notched=True,\n",
        "                    jitter=0.3,\n",
        "                    pointpos=-1.8,\n",
        "                    boxpoints='all', # represent all points\n",
        "                ))\n",
        "names.append(name)\n",
        "\n",
        "fig.update_layout(\n",
        "    title=f\"Hb spread by race<br><sup><i>(n={len(df)})</i></sup>\",\n",
        "    showlegend=False,\n",
        ")\n",
        "\n",
        "fig.show()"
      ],
      "metadata": {
        "colab": {
          "base_uri": "https://localhost:8080/",
          "height": 542
        },
        "id": "chJaMKIAnKb3",
        "outputId": "6cd6b50d-5b57-46b9-896c-093f060359a5"
      },
      "execution_count": 109,
      "outputs": [
        {
          "output_type": "display_data",
          "data": {
            "text/html": [
              "<html>\n",
              "<head><meta charset=\"utf-8\" /></head>\n",
              "<body>\n",
              "    <div>            <script src=\"https://cdnjs.cloudflare.com/ajax/libs/mathjax/2.7.5/MathJax.js?config=TeX-AMS-MML_SVG\"></script><script type=\"text/javascript\">if (window.MathJax && window.MathJax.Hub && window.MathJax.Hub.Config) {window.MathJax.Hub.Config({SVG: {font: \"STIX-Web\"}});}</script>                <script type=\"text/javascript\">window.PlotlyConfig = {MathJaxConfig: 'local'};</script>\n",
              "        <script src=\"https://cdn.plot.ly/plotly-2.18.2.min.js\"></script>                <div id=\"9ba8602d-408d-4885-b759-f5c0d904daef\" class=\"plotly-graph-div\" style=\"height:525px; width:100%;\"></div>            <script type=\"text/javascript\">                                    window.PLOTLYENV=window.PLOTLYENV || {};                                    if (document.getElementById(\"9ba8602d-408d-4885-b759-f5c0d904daef\")) {                    Plotly.newPlot(                        \"9ba8602d-408d-4885-b759-f5c0d904daef\",                        [{\"boxpoints\":\"all\",\"jitter\":0.3,\"name\":\"WHITE<br><sup><i>(n=104, 17% <120)</i></sup>\",\"notched\":true,\"pointpos\":-1.8,\"y\":[132.0,124.0,141.0,124.0,131.0,147.0,130.0,134.0,118.0,125.0,130.0,124.0,121.0,131.0,135.0,130.0,129.0,133.0,131.0,130.0,136.0,122.0,119.0,121.0,120.0,126.0,130.0,112.0,129.0,122.0,111.0,115.0,123.0,124.0,116.0,115.0,134.0,133.0,130.0,144.0,126.0,127.0,114.0,119.0,133.0,134.0,130.0,null,144.0,137.0,129.0,124.0,118.0,136.0,128.0,122.0,110.0,130.0,134.0,131.0,119.0,122.0,132.0,null,126.0,131.0,129.0,125.0,114.0,131.0,135.0,122.0,127.0,143.0,126.0,114.0,117.0,118.0,127.0,139.0,147.0,134.0,131.0,123.0,120.0,130.0,135.0,127.0,132.0,124.0,138.0,129.0,143.0,140.0,117.0,137.0,114.0,140.0,129.0,120.0,139.0,134.0,122.0,137.0],\"type\":\"box\"},{\"boxpoints\":\"all\",\"jitter\":0.3,\"name\":\"MIXED<br><sup><i>(n=12, 33% <120)</i></sup>\",\"notched\":true,\"pointpos\":-1.8,\"y\":[70.0,119.0,114.0,117.0,125.0,130.0,121.0,126.0,132.0,130.0,126.0,139.0],\"type\":\"box\"},{\"boxpoints\":\"all\",\"jitter\":0.3,\"name\":\"BLACK<br><sup><i>(n=49, 41% <120)</i></sup>\",\"notched\":true,\"pointpos\":-1.8,\"y\":[139.0,125.0,134.0,111.0,123.0,131.0,119.0,117.0,132.0,124.0,121.0,131.0,97.0,123.0,118.0,118.0,129.0,118.0,124.0,132.0,111.0,120.0,137.0,123.0,134.0,127.0,120.0,140.0,110.0,127.0,130.0,119.0,120.0,122.0,119.0,129.0,129.0,112.0,115.0,116.0,117.0,107.0,123.0,125.0,118.0,113.0,102.0,127.0,111.0],\"type\":\"box\"},{\"boxpoints\":\"all\",\"jitter\":0.3,\"name\":\"ASIAN<br><sup><i>(n=54, 20% <120)</i></sup>\",\"notched\":true,\"pointpos\":-1.8,\"y\":[126.0,135.0,113.0,134.0,139.0,128.0,139.0,139.0,124.0,118.0,112.0,119.0,132.0,119.0,125.0,111.0,120.0,133.0,null,129.0,137.0,119.0,149.0,122.0,126.0,124.0,133.0,141.0,125.0,133.0,125.0,128.0,138.0,129.0,136.0,129.0,130.0,137.0,117.0,121.0,129.0,130.0,137.0,114.0,121.0,120.0,131.0,122.0,110.0,111.0,140.0,125.0,122.0,122.0],\"type\":\"box\"},{\"boxpoints\":\"all\",\"jitter\":0.3,\"name\":\"All<br><sup><i>(n=219, 20% <120)</i></sup>\",\"notched\":true,\"pointpos\":-1.8,\"y\":[132.0,70.0,139.0,124.0,141.0,124.0,125.0,126.0,131.0,135.0,134.0,111.0,123.0,113.0,134.0,139.0,147.0,130.0,134.0,119.0,118.0,125.0,130.0,124.0,131.0,119.0,121.0,117.0,128.0,139.0,114.0,131.0,135.0,130.0,132.0,129.0,124.0,139.0,117.0,124.0,118.0,112.0,121.0,119.0,133.0,131.0,131.0,130.0,136.0,97.0,122.0,123.0,132.0,119.0,118.0,121.0,120.0,119.0,125.0,111.0,126.0,130.0,120.0,112.0,129.0,122.0,133.0,null,118.0,129.0,118.0,111.0,115.0,123.0,124.0,125.0,124.0,116.0,115.0,134.0,133.0,130.0,132.0,144.0,111.0,126.0,127.0,120.0,114.0,119.0,133.0,134.0,130.0,130.0,null,137.0,144.0,129.0,137.0,123.0,119.0,149.0,137.0,122.0,126.0,124.0,129.0,134.0,121.0,126.0,133.0,127.0,124.0,118.0,120.0,140.0,136.0,110.0,128.0,141.0,122.0,110.0,130.0,134.0,127.0,125.0,133.0,131.0,119.0,122.0,132.0,132.0,null,126.0,125.0,131.0,129.0,125.0,128.0,114.0,131.0,138.0,135.0,122.0,127.0,143.0,129.0,130.0,119.0,130.0,126.0,136.0,129.0,114.0,117.0,130.0,118.0,127.0,137.0,120.0,122.0,139.0,126.0,147.0,134.0,117.0,119.0,121.0,131.0,129.0,139.0,129.0,123.0,130.0,137.0,114.0,129.0,112.0,120.0,115.0,130.0,135.0,121.0,127.0,120.0,132.0,116.0,124.0,138.0,129.0,117.0,107.0,131.0,143.0,140.0,122.0,117.0,110.0,123.0,111.0,140.0,137.0,114.0,125.0,122.0,140.0,129.0,120.0,125.0,118.0,139.0,134.0,122.0,113.0,102.0,122.0,137.0,127.0,111.0],\"type\":\"box\"}],                        {\"template\":{\"data\":{\"histogram2dcontour\":[{\"type\":\"histogram2dcontour\",\"colorbar\":{\"outlinewidth\":0,\"ticks\":\"\"},\"colorscale\":[[0.0,\"#0d0887\"],[0.1111111111111111,\"#46039f\"],[0.2222222222222222,\"#7201a8\"],[0.3333333333333333,\"#9c179e\"],[0.4444444444444444,\"#bd3786\"],[0.5555555555555556,\"#d8576b\"],[0.6666666666666666,\"#ed7953\"],[0.7777777777777778,\"#fb9f3a\"],[0.8888888888888888,\"#fdca26\"],[1.0,\"#f0f921\"]]}],\"choropleth\":[{\"type\":\"choropleth\",\"colorbar\":{\"outlinewidth\":0,\"ticks\":\"\"}}],\"histogram2d\":[{\"type\":\"histogram2d\",\"colorbar\":{\"outlinewidth\":0,\"ticks\":\"\"},\"colorscale\":[[0.0,\"#0d0887\"],[0.1111111111111111,\"#46039f\"],[0.2222222222222222,\"#7201a8\"],[0.3333333333333333,\"#9c179e\"],[0.4444444444444444,\"#bd3786\"],[0.5555555555555556,\"#d8576b\"],[0.6666666666666666,\"#ed7953\"],[0.7777777777777778,\"#fb9f3a\"],[0.8888888888888888,\"#fdca26\"],[1.0,\"#f0f921\"]]}],\"heatmap\":[{\"type\":\"heatmap\",\"colorbar\":{\"outlinewidth\":0,\"ticks\":\"\"},\"colorscale\":[[0.0,\"#0d0887\"],[0.1111111111111111,\"#46039f\"],[0.2222222222222222,\"#7201a8\"],[0.3333333333333333,\"#9c179e\"],[0.4444444444444444,\"#bd3786\"],[0.5555555555555556,\"#d8576b\"],[0.6666666666666666,\"#ed7953\"],[0.7777777777777778,\"#fb9f3a\"],[0.8888888888888888,\"#fdca26\"],[1.0,\"#f0f921\"]]}],\"heatmapgl\":[{\"type\":\"heatmapgl\",\"colorbar\":{\"outlinewidth\":0,\"ticks\":\"\"},\"colorscale\":[[0.0,\"#0d0887\"],[0.1111111111111111,\"#46039f\"],[0.2222222222222222,\"#7201a8\"],[0.3333333333333333,\"#9c179e\"],[0.4444444444444444,\"#bd3786\"],[0.5555555555555556,\"#d8576b\"],[0.6666666666666666,\"#ed7953\"],[0.7777777777777778,\"#fb9f3a\"],[0.8888888888888888,\"#fdca26\"],[1.0,\"#f0f921\"]]}],\"contourcarpet\":[{\"type\":\"contourcarpet\",\"colorbar\":{\"outlinewidth\":0,\"ticks\":\"\"}}],\"contour\":[{\"type\":\"contour\",\"colorbar\":{\"outlinewidth\":0,\"ticks\":\"\"},\"colorscale\":[[0.0,\"#0d0887\"],[0.1111111111111111,\"#46039f\"],[0.2222222222222222,\"#7201a8\"],[0.3333333333333333,\"#9c179e\"],[0.4444444444444444,\"#bd3786\"],[0.5555555555555556,\"#d8576b\"],[0.6666666666666666,\"#ed7953\"],[0.7777777777777778,\"#fb9f3a\"],[0.8888888888888888,\"#fdca26\"],[1.0,\"#f0f921\"]]}],\"surface\":[{\"type\":\"surface\",\"colorbar\":{\"outlinewidth\":0,\"ticks\":\"\"},\"colorscale\":[[0.0,\"#0d0887\"],[0.1111111111111111,\"#46039f\"],[0.2222222222222222,\"#7201a8\"],[0.3333333333333333,\"#9c179e\"],[0.4444444444444444,\"#bd3786\"],[0.5555555555555556,\"#d8576b\"],[0.6666666666666666,\"#ed7953\"],[0.7777777777777778,\"#fb9f3a\"],[0.8888888888888888,\"#fdca26\"],[1.0,\"#f0f921\"]]}],\"mesh3d\":[{\"type\":\"mesh3d\",\"colorbar\":{\"outlinewidth\":0,\"ticks\":\"\"}}],\"scatter\":[{\"fillpattern\":{\"fillmode\":\"overlay\",\"size\":10,\"solidity\":0.2},\"type\":\"scatter\"}],\"parcoords\":[{\"type\":\"parcoords\",\"line\":{\"colorbar\":{\"outlinewidth\":0,\"ticks\":\"\"}}}],\"scatterpolargl\":[{\"type\":\"scatterpolargl\",\"marker\":{\"colorbar\":{\"outlinewidth\":0,\"ticks\":\"\"}}}],\"bar\":[{\"error_x\":{\"color\":\"#2a3f5f\"},\"error_y\":{\"color\":\"#2a3f5f\"},\"marker\":{\"line\":{\"color\":\"#E5ECF6\",\"width\":0.5},\"pattern\":{\"fillmode\":\"overlay\",\"size\":10,\"solidity\":0.2}},\"type\":\"bar\"}],\"scattergeo\":[{\"type\":\"scattergeo\",\"marker\":{\"colorbar\":{\"outlinewidth\":0,\"ticks\":\"\"}}}],\"scatterpolar\":[{\"type\":\"scatterpolar\",\"marker\":{\"colorbar\":{\"outlinewidth\":0,\"ticks\":\"\"}}}],\"histogram\":[{\"marker\":{\"pattern\":{\"fillmode\":\"overlay\",\"size\":10,\"solidity\":0.2}},\"type\":\"histogram\"}],\"scattergl\":[{\"type\":\"scattergl\",\"marker\":{\"colorbar\":{\"outlinewidth\":0,\"ticks\":\"\"}}}],\"scatter3d\":[{\"type\":\"scatter3d\",\"line\":{\"colorbar\":{\"outlinewidth\":0,\"ticks\":\"\"}},\"marker\":{\"colorbar\":{\"outlinewidth\":0,\"ticks\":\"\"}}}],\"scattermapbox\":[{\"type\":\"scattermapbox\",\"marker\":{\"colorbar\":{\"outlinewidth\":0,\"ticks\":\"\"}}}],\"scatterternary\":[{\"type\":\"scatterternary\",\"marker\":{\"colorbar\":{\"outlinewidth\":0,\"ticks\":\"\"}}}],\"scattercarpet\":[{\"type\":\"scattercarpet\",\"marker\":{\"colorbar\":{\"outlinewidth\":0,\"ticks\":\"\"}}}],\"carpet\":[{\"aaxis\":{\"endlinecolor\":\"#2a3f5f\",\"gridcolor\":\"white\",\"linecolor\":\"white\",\"minorgridcolor\":\"white\",\"startlinecolor\":\"#2a3f5f\"},\"baxis\":{\"endlinecolor\":\"#2a3f5f\",\"gridcolor\":\"white\",\"linecolor\":\"white\",\"minorgridcolor\":\"white\",\"startlinecolor\":\"#2a3f5f\"},\"type\":\"carpet\"}],\"table\":[{\"cells\":{\"fill\":{\"color\":\"#EBF0F8\"},\"line\":{\"color\":\"white\"}},\"header\":{\"fill\":{\"color\":\"#C8D4E3\"},\"line\":{\"color\":\"white\"}},\"type\":\"table\"}],\"barpolar\":[{\"marker\":{\"line\":{\"color\":\"#E5ECF6\",\"width\":0.5},\"pattern\":{\"fillmode\":\"overlay\",\"size\":10,\"solidity\":0.2}},\"type\":\"barpolar\"}],\"pie\":[{\"automargin\":true,\"type\":\"pie\"}]},\"layout\":{\"autotypenumbers\":\"strict\",\"colorway\":[\"#636efa\",\"#EF553B\",\"#00cc96\",\"#ab63fa\",\"#FFA15A\",\"#19d3f3\",\"#FF6692\",\"#B6E880\",\"#FF97FF\",\"#FECB52\"],\"font\":{\"color\":\"#2a3f5f\"},\"hovermode\":\"closest\",\"hoverlabel\":{\"align\":\"left\"},\"paper_bgcolor\":\"white\",\"plot_bgcolor\":\"#E5ECF6\",\"polar\":{\"bgcolor\":\"#E5ECF6\",\"angularaxis\":{\"gridcolor\":\"white\",\"linecolor\":\"white\",\"ticks\":\"\"},\"radialaxis\":{\"gridcolor\":\"white\",\"linecolor\":\"white\",\"ticks\":\"\"}},\"ternary\":{\"bgcolor\":\"#E5ECF6\",\"aaxis\":{\"gridcolor\":\"white\",\"linecolor\":\"white\",\"ticks\":\"\"},\"baxis\":{\"gridcolor\":\"white\",\"linecolor\":\"white\",\"ticks\":\"\"},\"caxis\":{\"gridcolor\":\"white\",\"linecolor\":\"white\",\"ticks\":\"\"}},\"coloraxis\":{\"colorbar\":{\"outlinewidth\":0,\"ticks\":\"\"}},\"colorscale\":{\"sequential\":[[0.0,\"#0d0887\"],[0.1111111111111111,\"#46039f\"],[0.2222222222222222,\"#7201a8\"],[0.3333333333333333,\"#9c179e\"],[0.4444444444444444,\"#bd3786\"],[0.5555555555555556,\"#d8576b\"],[0.6666666666666666,\"#ed7953\"],[0.7777777777777778,\"#fb9f3a\"],[0.8888888888888888,\"#fdca26\"],[1.0,\"#f0f921\"]],\"sequentialminus\":[[0.0,\"#0d0887\"],[0.1111111111111111,\"#46039f\"],[0.2222222222222222,\"#7201a8\"],[0.3333333333333333,\"#9c179e\"],[0.4444444444444444,\"#bd3786\"],[0.5555555555555556,\"#d8576b\"],[0.6666666666666666,\"#ed7953\"],[0.7777777777777778,\"#fb9f3a\"],[0.8888888888888888,\"#fdca26\"],[1.0,\"#f0f921\"]],\"diverging\":[[0,\"#8e0152\"],[0.1,\"#c51b7d\"],[0.2,\"#de77ae\"],[0.3,\"#f1b6da\"],[0.4,\"#fde0ef\"],[0.5,\"#f7f7f7\"],[0.6,\"#e6f5d0\"],[0.7,\"#b8e186\"],[0.8,\"#7fbc41\"],[0.9,\"#4d9221\"],[1,\"#276419\"]]},\"xaxis\":{\"gridcolor\":\"white\",\"linecolor\":\"white\",\"ticks\":\"\",\"title\":{\"standoff\":15},\"zerolinecolor\":\"white\",\"automargin\":true,\"zerolinewidth\":2},\"yaxis\":{\"gridcolor\":\"white\",\"linecolor\":\"white\",\"ticks\":\"\",\"title\":{\"standoff\":15},\"zerolinecolor\":\"white\",\"automargin\":true,\"zerolinewidth\":2},\"scene\":{\"xaxis\":{\"backgroundcolor\":\"#E5ECF6\",\"gridcolor\":\"white\",\"linecolor\":\"white\",\"showbackground\":true,\"ticks\":\"\",\"zerolinecolor\":\"white\",\"gridwidth\":2},\"yaxis\":{\"backgroundcolor\":\"#E5ECF6\",\"gridcolor\":\"white\",\"linecolor\":\"white\",\"showbackground\":true,\"ticks\":\"\",\"zerolinecolor\":\"white\",\"gridwidth\":2},\"zaxis\":{\"backgroundcolor\":\"#E5ECF6\",\"gridcolor\":\"white\",\"linecolor\":\"white\",\"showbackground\":true,\"ticks\":\"\",\"zerolinecolor\":\"white\",\"gridwidth\":2}},\"shapedefaults\":{\"line\":{\"color\":\"#2a3f5f\"}},\"annotationdefaults\":{\"arrowcolor\":\"#2a3f5f\",\"arrowhead\":0,\"arrowwidth\":1},\"geo\":{\"bgcolor\":\"white\",\"landcolor\":\"#E5ECF6\",\"subunitcolor\":\"white\",\"showland\":true,\"showlakes\":true,\"lakecolor\":\"white\"},\"title\":{\"x\":0.05},\"mapbox\":{\"style\":\"light\"}}},\"title\":{\"text\":\"Hb spread by race<br><sup><i>(n=219)</i></sup>\"},\"showlegend\":false},                        {\"responsive\": true}                    ).then(function(){\n",
              "                            \n",
              "var gd = document.getElementById('9ba8602d-408d-4885-b759-f5c0d904daef');\n",
              "var x = new MutationObserver(function (mutations, observer) {{\n",
              "        var display = window.getComputedStyle(gd).display;\n",
              "        if (!display || display === 'none') {{\n",
              "            console.log([gd, 'removed!']);\n",
              "            Plotly.purge(gd);\n",
              "            observer.disconnect();\n",
              "        }}\n",
              "}});\n",
              "\n",
              "// Listen for the removal of the full notebook cells\n",
              "var notebookContainer = gd.closest('#notebook-container');\n",
              "if (notebookContainer) {{\n",
              "    x.observe(notebookContainer, {childList: true});\n",
              "}}\n",
              "\n",
              "// Listen for the clearing of the current output cell\n",
              "var outputEl = gd.closest('.output');\n",
              "if (outputEl) {{\n",
              "    x.observe(outputEl, {childList: true});\n",
              "}}\n",
              "\n",
              "                        })                };                            </script>        </div>\n",
              "</body>\n",
              "</html>"
            ]
          },
          "metadata": {}
        }
      ]
    },
    {
      "cell_type": "markdown",
      "source": [
        "### Hemoglobin by Parity"
      ],
      "metadata": {
        "id": "k3nCA1T_2JNk"
      }
    },
    {
      "cell_type": "code",
      "source": [
        "#@title\n",
        "fig = go.Figure()\n",
        "names = []\n",
        "for var in range(1, df['Parity'].max()):\n",
        "    dft = df[df['Parity']==var]\n",
        "    name = f\"{var}<br><sup><i>(n={len(dft)}, {round(dft.Hb120.sum()/len(dft)*100)}% <120)</i></sup>\"\n",
        "    fig.add_trace(go.Box(y=dft['Hb'], name = name,\n",
        "                        notched=True,\n",
        "                        jitter=0.3,\n",
        "                        pointpos=-1.8,\n",
        "                        boxpoints='all', # represent all points\n",
        "                    ))\n",
        "    names.append(name)\n",
        "\n",
        "fig.update_layout(\n",
        "    title=f\"Hb spread by Parity<br><sup><i>(n={len(df)})</i></sup>\",\n",
        "    showlegend=False,\n",
        ")\n",
        "\n",
        "fig.show()"
      ],
      "metadata": {
        "colab": {
          "base_uri": "https://localhost:8080/",
          "height": 542
        },
        "cellView": "form",
        "id": "hwj3DQQS2IPK",
        "outputId": "9ba58797-cfda-4813-a73f-8e356d4a8022"
      },
      "execution_count": 110,
      "outputs": [
        {
          "output_type": "display_data",
          "data": {
            "text/html": [
              "<html>\n",
              "<head><meta charset=\"utf-8\" /></head>\n",
              "<body>\n",
              "    <div>            <script src=\"https://cdnjs.cloudflare.com/ajax/libs/mathjax/2.7.5/MathJax.js?config=TeX-AMS-MML_SVG\"></script><script type=\"text/javascript\">if (window.MathJax && window.MathJax.Hub && window.MathJax.Hub.Config) {window.MathJax.Hub.Config({SVG: {font: \"STIX-Web\"}});}</script>                <script type=\"text/javascript\">window.PlotlyConfig = {MathJaxConfig: 'local'};</script>\n",
              "        <script src=\"https://cdn.plot.ly/plotly-2.18.2.min.js\"></script>                <div id=\"fdf5e878-320d-426c-89a6-38f3fa00f22d\" class=\"plotly-graph-div\" style=\"height:525px; width:100%;\"></div>            <script type=\"text/javascript\">                                    window.PLOTLYENV=window.PLOTLYENV || {};                                    if (document.getElementById(\"fdf5e878-320d-426c-89a6-38f3fa00f22d\")) {                    Plotly.newPlot(                        \"fdf5e878-320d-426c-89a6-38f3fa00f22d\",                        [{\"boxpoints\":\"all\",\"jitter\":0.3,\"name\":\"1<br><sup><i>(n=96, 22% <120)</i></sup>\",\"notched\":true,\"pointpos\":-1.8,\"y\":[132.0,70.0,139.0,124.0,126.0,131.0,113.0,134.0,130.0,122.0,123.0,132.0,121.0,120.0,119.0,126.0,129.0,122.0,133.0,null,129.0,118.0,111.0,115.0,125.0,115.0,134.0,133.0,130.0,132.0,144.0,120.0,114.0,133.0,134.0,130.0,null,137.0,119.0,137.0,126.0,133.0,127.0,140.0,136.0,128.0,122.0,110.0,133.0,122.0,132.0,null,126.0,125.0,131.0,129.0,128.0,131.0,138.0,129.0,129.0,114.0,130.0,122.0,139.0,126.0,147.0,134.0,117.0,119.0,129.0,139.0,129.0,114.0,129.0,112.0,135.0,120.0,116.0,138.0,107.0,131.0,143.0,140.0,122.0,117.0,123.0,111.0,114.0,140.0,129.0,125.0,118.0,139.0,122.0,137.0],\"type\":\"box\"},{\"boxpoints\":\"all\",\"jitter\":0.3,\"name\":\"2<br><sup><i>(n=73, 21% <120)</i></sup>\",\"notched\":true,\"pointpos\":-1.8,\"y\":[124.0,135.0,139.0,147.0,124.0,131.0,121.0,128.0,135.0,130.0,129.0,139.0,119.0,133.0,131.0,136.0,97.0,119.0,118.0,125.0,130.0,120.0,112.0,123.0,127.0,119.0,144.0,129.0,123.0,149.0,122.0,129.0,134.0,121.0,124.0,118.0,120.0,110.0,134.0,127.0,131.0,119.0,132.0,125.0,114.0,135.0,122.0,130.0,119.0,130.0,136.0,117.0,118.0,137.0,121.0,131.0,123.0,137.0,120.0,130.0,121.0,132.0,124.0,110.0,140.0,137.0,125.0,122.0,120.0,134.0,102.0,122.0,127.0],\"type\":\"box\"},{\"boxpoints\":\"all\",\"jitter\":0.3,\"name\":\"3<br><sup><i>(n=31, 23% <120)</i></sup>\",\"notched\":true,\"pointpos\":-1.8,\"y\":[141.0,134.0,111.0,130.0,134.0,125.0,130.0,139.0,131.0,124.0,112.0,121.0,131.0,124.0,124.0,116.0,111.0,130.0,124.0,141.0,130.0,125.0,127.0,143.0,126.0,130.0,115.0,127.0,129.0,117.0,113.0],\"type\":\"box\"},{\"boxpoints\":\"all\",\"jitter\":0.3,\"name\":\"4<br><sup><i>(n=11, 45% <120)</i></sup>\",\"notched\":true,\"pointpos\":-1.8,\"y\":[125.0,123.0,119.0,119.0,124.0,118.0,111.0,118.0,126.0,137.0,127.0],\"type\":\"box\"},{\"boxpoints\":\"all\",\"jitter\":0.3,\"name\":\"5<br><sup><i>(n=4, 50% <120)</i></sup>\",\"notched\":true,\"pointpos\":-1.8,\"y\":[114.0,132.0,126.0,111.0],\"type\":\"box\"},{\"boxpoints\":\"all\",\"jitter\":0.3,\"name\":\"6<br><sup><i>(n=2, 100% <120)</i></sup>\",\"notched\":true,\"pointpos\":-1.8,\"y\":[117.0,117.0],\"type\":\"box\"},{\"boxpoints\":\"all\",\"jitter\":0.3,\"name\":\"7<br><sup><i>(n=1, 0% <120)</i></sup>\",\"notched\":true,\"pointpos\":-1.8,\"y\":[120.0],\"type\":\"box\"}],                        {\"template\":{\"data\":{\"histogram2dcontour\":[{\"type\":\"histogram2dcontour\",\"colorbar\":{\"outlinewidth\":0,\"ticks\":\"\"},\"colorscale\":[[0.0,\"#0d0887\"],[0.1111111111111111,\"#46039f\"],[0.2222222222222222,\"#7201a8\"],[0.3333333333333333,\"#9c179e\"],[0.4444444444444444,\"#bd3786\"],[0.5555555555555556,\"#d8576b\"],[0.6666666666666666,\"#ed7953\"],[0.7777777777777778,\"#fb9f3a\"],[0.8888888888888888,\"#fdca26\"],[1.0,\"#f0f921\"]]}],\"choropleth\":[{\"type\":\"choropleth\",\"colorbar\":{\"outlinewidth\":0,\"ticks\":\"\"}}],\"histogram2d\":[{\"type\":\"histogram2d\",\"colorbar\":{\"outlinewidth\":0,\"ticks\":\"\"},\"colorscale\":[[0.0,\"#0d0887\"],[0.1111111111111111,\"#46039f\"],[0.2222222222222222,\"#7201a8\"],[0.3333333333333333,\"#9c179e\"],[0.4444444444444444,\"#bd3786\"],[0.5555555555555556,\"#d8576b\"],[0.6666666666666666,\"#ed7953\"],[0.7777777777777778,\"#fb9f3a\"],[0.8888888888888888,\"#fdca26\"],[1.0,\"#f0f921\"]]}],\"heatmap\":[{\"type\":\"heatmap\",\"colorbar\":{\"outlinewidth\":0,\"ticks\":\"\"},\"colorscale\":[[0.0,\"#0d0887\"],[0.1111111111111111,\"#46039f\"],[0.2222222222222222,\"#7201a8\"],[0.3333333333333333,\"#9c179e\"],[0.4444444444444444,\"#bd3786\"],[0.5555555555555556,\"#d8576b\"],[0.6666666666666666,\"#ed7953\"],[0.7777777777777778,\"#fb9f3a\"],[0.8888888888888888,\"#fdca26\"],[1.0,\"#f0f921\"]]}],\"heatmapgl\":[{\"type\":\"heatmapgl\",\"colorbar\":{\"outlinewidth\":0,\"ticks\":\"\"},\"colorscale\":[[0.0,\"#0d0887\"],[0.1111111111111111,\"#46039f\"],[0.2222222222222222,\"#7201a8\"],[0.3333333333333333,\"#9c179e\"],[0.4444444444444444,\"#bd3786\"],[0.5555555555555556,\"#d8576b\"],[0.6666666666666666,\"#ed7953\"],[0.7777777777777778,\"#fb9f3a\"],[0.8888888888888888,\"#fdca26\"],[1.0,\"#f0f921\"]]}],\"contourcarpet\":[{\"type\":\"contourcarpet\",\"colorbar\":{\"outlinewidth\":0,\"ticks\":\"\"}}],\"contour\":[{\"type\":\"contour\",\"colorbar\":{\"outlinewidth\":0,\"ticks\":\"\"},\"colorscale\":[[0.0,\"#0d0887\"],[0.1111111111111111,\"#46039f\"],[0.2222222222222222,\"#7201a8\"],[0.3333333333333333,\"#9c179e\"],[0.4444444444444444,\"#bd3786\"],[0.5555555555555556,\"#d8576b\"],[0.6666666666666666,\"#ed7953\"],[0.7777777777777778,\"#fb9f3a\"],[0.8888888888888888,\"#fdca26\"],[1.0,\"#f0f921\"]]}],\"surface\":[{\"type\":\"surface\",\"colorbar\":{\"outlinewidth\":0,\"ticks\":\"\"},\"colorscale\":[[0.0,\"#0d0887\"],[0.1111111111111111,\"#46039f\"],[0.2222222222222222,\"#7201a8\"],[0.3333333333333333,\"#9c179e\"],[0.4444444444444444,\"#bd3786\"],[0.5555555555555556,\"#d8576b\"],[0.6666666666666666,\"#ed7953\"],[0.7777777777777778,\"#fb9f3a\"],[0.8888888888888888,\"#fdca26\"],[1.0,\"#f0f921\"]]}],\"mesh3d\":[{\"type\":\"mesh3d\",\"colorbar\":{\"outlinewidth\":0,\"ticks\":\"\"}}],\"scatter\":[{\"fillpattern\":{\"fillmode\":\"overlay\",\"size\":10,\"solidity\":0.2},\"type\":\"scatter\"}],\"parcoords\":[{\"type\":\"parcoords\",\"line\":{\"colorbar\":{\"outlinewidth\":0,\"ticks\":\"\"}}}],\"scatterpolargl\":[{\"type\":\"scatterpolargl\",\"marker\":{\"colorbar\":{\"outlinewidth\":0,\"ticks\":\"\"}}}],\"bar\":[{\"error_x\":{\"color\":\"#2a3f5f\"},\"error_y\":{\"color\":\"#2a3f5f\"},\"marker\":{\"line\":{\"color\":\"#E5ECF6\",\"width\":0.5},\"pattern\":{\"fillmode\":\"overlay\",\"size\":10,\"solidity\":0.2}},\"type\":\"bar\"}],\"scattergeo\":[{\"type\":\"scattergeo\",\"marker\":{\"colorbar\":{\"outlinewidth\":0,\"ticks\":\"\"}}}],\"scatterpolar\":[{\"type\":\"scatterpolar\",\"marker\":{\"colorbar\":{\"outlinewidth\":0,\"ticks\":\"\"}}}],\"histogram\":[{\"marker\":{\"pattern\":{\"fillmode\":\"overlay\",\"size\":10,\"solidity\":0.2}},\"type\":\"histogram\"}],\"scattergl\":[{\"type\":\"scattergl\",\"marker\":{\"colorbar\":{\"outlinewidth\":0,\"ticks\":\"\"}}}],\"scatter3d\":[{\"type\":\"scatter3d\",\"line\":{\"colorbar\":{\"outlinewidth\":0,\"ticks\":\"\"}},\"marker\":{\"colorbar\":{\"outlinewidth\":0,\"ticks\":\"\"}}}],\"scattermapbox\":[{\"type\":\"scattermapbox\",\"marker\":{\"colorbar\":{\"outlinewidth\":0,\"ticks\":\"\"}}}],\"scatterternary\":[{\"type\":\"scatterternary\",\"marker\":{\"colorbar\":{\"outlinewidth\":0,\"ticks\":\"\"}}}],\"scattercarpet\":[{\"type\":\"scattercarpet\",\"marker\":{\"colorbar\":{\"outlinewidth\":0,\"ticks\":\"\"}}}],\"carpet\":[{\"aaxis\":{\"endlinecolor\":\"#2a3f5f\",\"gridcolor\":\"white\",\"linecolor\":\"white\",\"minorgridcolor\":\"white\",\"startlinecolor\":\"#2a3f5f\"},\"baxis\":{\"endlinecolor\":\"#2a3f5f\",\"gridcolor\":\"white\",\"linecolor\":\"white\",\"minorgridcolor\":\"white\",\"startlinecolor\":\"#2a3f5f\"},\"type\":\"carpet\"}],\"table\":[{\"cells\":{\"fill\":{\"color\":\"#EBF0F8\"},\"line\":{\"color\":\"white\"}},\"header\":{\"fill\":{\"color\":\"#C8D4E3\"},\"line\":{\"color\":\"white\"}},\"type\":\"table\"}],\"barpolar\":[{\"marker\":{\"line\":{\"color\":\"#E5ECF6\",\"width\":0.5},\"pattern\":{\"fillmode\":\"overlay\",\"size\":10,\"solidity\":0.2}},\"type\":\"barpolar\"}],\"pie\":[{\"automargin\":true,\"type\":\"pie\"}]},\"layout\":{\"autotypenumbers\":\"strict\",\"colorway\":[\"#636efa\",\"#EF553B\",\"#00cc96\",\"#ab63fa\",\"#FFA15A\",\"#19d3f3\",\"#FF6692\",\"#B6E880\",\"#FF97FF\",\"#FECB52\"],\"font\":{\"color\":\"#2a3f5f\"},\"hovermode\":\"closest\",\"hoverlabel\":{\"align\":\"left\"},\"paper_bgcolor\":\"white\",\"plot_bgcolor\":\"#E5ECF6\",\"polar\":{\"bgcolor\":\"#E5ECF6\",\"angularaxis\":{\"gridcolor\":\"white\",\"linecolor\":\"white\",\"ticks\":\"\"},\"radialaxis\":{\"gridcolor\":\"white\",\"linecolor\":\"white\",\"ticks\":\"\"}},\"ternary\":{\"bgcolor\":\"#E5ECF6\",\"aaxis\":{\"gridcolor\":\"white\",\"linecolor\":\"white\",\"ticks\":\"\"},\"baxis\":{\"gridcolor\":\"white\",\"linecolor\":\"white\",\"ticks\":\"\"},\"caxis\":{\"gridcolor\":\"white\",\"linecolor\":\"white\",\"ticks\":\"\"}},\"coloraxis\":{\"colorbar\":{\"outlinewidth\":0,\"ticks\":\"\"}},\"colorscale\":{\"sequential\":[[0.0,\"#0d0887\"],[0.1111111111111111,\"#46039f\"],[0.2222222222222222,\"#7201a8\"],[0.3333333333333333,\"#9c179e\"],[0.4444444444444444,\"#bd3786\"],[0.5555555555555556,\"#d8576b\"],[0.6666666666666666,\"#ed7953\"],[0.7777777777777778,\"#fb9f3a\"],[0.8888888888888888,\"#fdca26\"],[1.0,\"#f0f921\"]],\"sequentialminus\":[[0.0,\"#0d0887\"],[0.1111111111111111,\"#46039f\"],[0.2222222222222222,\"#7201a8\"],[0.3333333333333333,\"#9c179e\"],[0.4444444444444444,\"#bd3786\"],[0.5555555555555556,\"#d8576b\"],[0.6666666666666666,\"#ed7953\"],[0.7777777777777778,\"#fb9f3a\"],[0.8888888888888888,\"#fdca26\"],[1.0,\"#f0f921\"]],\"diverging\":[[0,\"#8e0152\"],[0.1,\"#c51b7d\"],[0.2,\"#de77ae\"],[0.3,\"#f1b6da\"],[0.4,\"#fde0ef\"],[0.5,\"#f7f7f7\"],[0.6,\"#e6f5d0\"],[0.7,\"#b8e186\"],[0.8,\"#7fbc41\"],[0.9,\"#4d9221\"],[1,\"#276419\"]]},\"xaxis\":{\"gridcolor\":\"white\",\"linecolor\":\"white\",\"ticks\":\"\",\"title\":{\"standoff\":15},\"zerolinecolor\":\"white\",\"automargin\":true,\"zerolinewidth\":2},\"yaxis\":{\"gridcolor\":\"white\",\"linecolor\":\"white\",\"ticks\":\"\",\"title\":{\"standoff\":15},\"zerolinecolor\":\"white\",\"automargin\":true,\"zerolinewidth\":2},\"scene\":{\"xaxis\":{\"backgroundcolor\":\"#E5ECF6\",\"gridcolor\":\"white\",\"linecolor\":\"white\",\"showbackground\":true,\"ticks\":\"\",\"zerolinecolor\":\"white\",\"gridwidth\":2},\"yaxis\":{\"backgroundcolor\":\"#E5ECF6\",\"gridcolor\":\"white\",\"linecolor\":\"white\",\"showbackground\":true,\"ticks\":\"\",\"zerolinecolor\":\"white\",\"gridwidth\":2},\"zaxis\":{\"backgroundcolor\":\"#E5ECF6\",\"gridcolor\":\"white\",\"linecolor\":\"white\",\"showbackground\":true,\"ticks\":\"\",\"zerolinecolor\":\"white\",\"gridwidth\":2}},\"shapedefaults\":{\"line\":{\"color\":\"#2a3f5f\"}},\"annotationdefaults\":{\"arrowcolor\":\"#2a3f5f\",\"arrowhead\":0,\"arrowwidth\":1},\"geo\":{\"bgcolor\":\"white\",\"landcolor\":\"#E5ECF6\",\"subunitcolor\":\"white\",\"showland\":true,\"showlakes\":true,\"lakecolor\":\"white\"},\"title\":{\"x\":0.05},\"mapbox\":{\"style\":\"light\"}}},\"title\":{\"text\":\"Hb spread by Parity<br><sup><i>(n=219)</i></sup>\"},\"showlegend\":false},                        {\"responsive\": true}                    ).then(function(){\n",
              "                            \n",
              "var gd = document.getElementById('fdf5e878-320d-426c-89a6-38f3fa00f22d');\n",
              "var x = new MutationObserver(function (mutations, observer) {{\n",
              "        var display = window.getComputedStyle(gd).display;\n",
              "        if (!display || display === 'none') {{\n",
              "            console.log([gd, 'removed!']);\n",
              "            Plotly.purge(gd);\n",
              "            observer.disconnect();\n",
              "        }}\n",
              "}});\n",
              "\n",
              "// Listen for the removal of the full notebook cells\n",
              "var notebookContainer = gd.closest('#notebook-container');\n",
              "if (notebookContainer) {{\n",
              "    x.observe(notebookContainer, {childList: true});\n",
              "}}\n",
              "\n",
              "// Listen for the clearing of the current output cell\n",
              "var outputEl = gd.closest('.output');\n",
              "if (outputEl) {{\n",
              "    x.observe(outputEl, {childList: true});\n",
              "}}\n",
              "\n",
              "                        })                };                            </script>        </div>\n",
              "</body>\n",
              "</html>"
            ]
          },
          "metadata": {}
        }
      ]
    },
    {
      "cell_type": "markdown",
      "source": [
        "### Hemoglobin by eGFR"
      ],
      "metadata": {
        "id": "KvHHA9Ns5385"
      }
    },
    {
      "cell_type": "code",
      "source": [
        "#@title\n",
        "fig = go.Figure()\n",
        "names = []\n",
        "for var in range(0, 2):\n",
        "    dft = df[df['eGFR90']==var]\n",
        "    if var == 0:\n",
        "      n = '>=90'\n",
        "\n",
        "    else:\n",
        "      n = '<90'\n",
        "    name = f\"{n}<br><sup><i>(n={len(dft)}, {round(dft.Hb120.sum()/len(dft)*100)}% <120)</i></sup>\"\n",
        "    fig.add_trace(go.Box(y=dft['Hb'], name = name,\n",
        "                        notched=True,\n",
        "                        jitter=0.3,\n",
        "                        pointpos=-1.8,\n",
        "                        boxpoints='all', # represent all points\n",
        "                    ))\n",
        "    names.append(name)\n",
        "\n",
        "fig.update_layout(\n",
        "    title=f\"Hb spread by eGFR<br><sup><i>(n={len(df)})</i></sup>\",\n",
        "    showlegend=False,\n",
        ")\n",
        "\n",
        "fig.show()"
      ],
      "metadata": {
        "colab": {
          "base_uri": "https://localhost:8080/",
          "height": 542
        },
        "cellView": "form",
        "id": "r1ywlLLh54Si",
        "outputId": "695d77b9-5c23-4be1-8e64-5baa1e36c035"
      },
      "execution_count": 111,
      "outputs": [
        {
          "output_type": "display_data",
          "data": {
            "text/html": [
              "<html>\n",
              "<head><meta charset=\"utf-8\" /></head>\n",
              "<body>\n",
              "    <div>            <script src=\"https://cdnjs.cloudflare.com/ajax/libs/mathjax/2.7.5/MathJax.js?config=TeX-AMS-MML_SVG\"></script><script type=\"text/javascript\">if (window.MathJax && window.MathJax.Hub && window.MathJax.Hub.Config) {window.MathJax.Hub.Config({SVG: {font: \"STIX-Web\"}});}</script>                <script type=\"text/javascript\">window.PlotlyConfig = {MathJaxConfig: 'local'};</script>\n",
              "        <script src=\"https://cdn.plot.ly/plotly-2.18.2.min.js\"></script>                <div id=\"c40525ac-ea21-4428-83bc-25854212cce0\" class=\"plotly-graph-div\" style=\"height:525px; width:100%;\"></div>            <script type=\"text/javascript\">                                    window.PLOTLYENV=window.PLOTLYENV || {};                                    if (document.getElementById(\"c40525ac-ea21-4428-83bc-25854212cce0\")) {                    Plotly.newPlot(                        \"c40525ac-ea21-4428-83bc-25854212cce0\",                        [{\"boxpoints\":\"all\",\"jitter\":0.3,\"name\":\">=90<br><sup><i>(n=214, 25% <120)</i></sup>\",\"notched\":true,\"pointpos\":-1.8,\"y\":[132.0,70.0,139.0,124.0,141.0,124.0,125.0,126.0,131.0,135.0,134.0,111.0,123.0,113.0,134.0,139.0,147.0,130.0,134.0,119.0,118.0,130.0,124.0,131.0,119.0,121.0,117.0,128.0,139.0,114.0,131.0,135.0,130.0,132.0,129.0,124.0,139.0,117.0,124.0,118.0,112.0,121.0,119.0,133.0,131.0,131.0,136.0,97.0,122.0,123.0,132.0,119.0,118.0,121.0,120.0,119.0,125.0,111.0,126.0,130.0,120.0,112.0,122.0,133.0,null,118.0,129.0,118.0,111.0,115.0,123.0,124.0,125.0,124.0,116.0,115.0,134.0,133.0,130.0,132.0,144.0,111.0,126.0,127.0,120.0,114.0,119.0,133.0,134.0,130.0,130.0,null,137.0,144.0,129.0,137.0,123.0,119.0,149.0,137.0,122.0,126.0,124.0,129.0,134.0,121.0,126.0,133.0,127.0,124.0,118.0,120.0,140.0,136.0,110.0,128.0,141.0,122.0,110.0,130.0,134.0,127.0,125.0,133.0,131.0,119.0,122.0,132.0,132.0,null,126.0,125.0,131.0,129.0,125.0,128.0,114.0,131.0,138.0,135.0,122.0,127.0,143.0,129.0,130.0,119.0,130.0,126.0,136.0,129.0,114.0,117.0,130.0,118.0,127.0,137.0,120.0,122.0,139.0,126.0,147.0,134.0,117.0,119.0,121.0,131.0,129.0,139.0,129.0,123.0,130.0,137.0,114.0,112.0,120.0,115.0,130.0,135.0,121.0,127.0,120.0,132.0,116.0,124.0,129.0,117.0,107.0,131.0,143.0,140.0,122.0,117.0,110.0,123.0,111.0,140.0,137.0,114.0,125.0,122.0,140.0,129.0,120.0,125.0,118.0,139.0,134.0,122.0,113.0,102.0,122.0,137.0,127.0,111.0],\"type\":\"box\"},{\"boxpoints\":\"all\",\"jitter\":0.3,\"name\":\"<90<br><sup><i>(n=5, 0% <120)</i></sup>\",\"notched\":true,\"pointpos\":-1.8,\"y\":[125.0,130.0,129.0,129.0,138.0],\"type\":\"box\"}],                        {\"template\":{\"data\":{\"histogram2dcontour\":[{\"type\":\"histogram2dcontour\",\"colorbar\":{\"outlinewidth\":0,\"ticks\":\"\"},\"colorscale\":[[0.0,\"#0d0887\"],[0.1111111111111111,\"#46039f\"],[0.2222222222222222,\"#7201a8\"],[0.3333333333333333,\"#9c179e\"],[0.4444444444444444,\"#bd3786\"],[0.5555555555555556,\"#d8576b\"],[0.6666666666666666,\"#ed7953\"],[0.7777777777777778,\"#fb9f3a\"],[0.8888888888888888,\"#fdca26\"],[1.0,\"#f0f921\"]]}],\"choropleth\":[{\"type\":\"choropleth\",\"colorbar\":{\"outlinewidth\":0,\"ticks\":\"\"}}],\"histogram2d\":[{\"type\":\"histogram2d\",\"colorbar\":{\"outlinewidth\":0,\"ticks\":\"\"},\"colorscale\":[[0.0,\"#0d0887\"],[0.1111111111111111,\"#46039f\"],[0.2222222222222222,\"#7201a8\"],[0.3333333333333333,\"#9c179e\"],[0.4444444444444444,\"#bd3786\"],[0.5555555555555556,\"#d8576b\"],[0.6666666666666666,\"#ed7953\"],[0.7777777777777778,\"#fb9f3a\"],[0.8888888888888888,\"#fdca26\"],[1.0,\"#f0f921\"]]}],\"heatmap\":[{\"type\":\"heatmap\",\"colorbar\":{\"outlinewidth\":0,\"ticks\":\"\"},\"colorscale\":[[0.0,\"#0d0887\"],[0.1111111111111111,\"#46039f\"],[0.2222222222222222,\"#7201a8\"],[0.3333333333333333,\"#9c179e\"],[0.4444444444444444,\"#bd3786\"],[0.5555555555555556,\"#d8576b\"],[0.6666666666666666,\"#ed7953\"],[0.7777777777777778,\"#fb9f3a\"],[0.8888888888888888,\"#fdca26\"],[1.0,\"#f0f921\"]]}],\"heatmapgl\":[{\"type\":\"heatmapgl\",\"colorbar\":{\"outlinewidth\":0,\"ticks\":\"\"},\"colorscale\":[[0.0,\"#0d0887\"],[0.1111111111111111,\"#46039f\"],[0.2222222222222222,\"#7201a8\"],[0.3333333333333333,\"#9c179e\"],[0.4444444444444444,\"#bd3786\"],[0.5555555555555556,\"#d8576b\"],[0.6666666666666666,\"#ed7953\"],[0.7777777777777778,\"#fb9f3a\"],[0.8888888888888888,\"#fdca26\"],[1.0,\"#f0f921\"]]}],\"contourcarpet\":[{\"type\":\"contourcarpet\",\"colorbar\":{\"outlinewidth\":0,\"ticks\":\"\"}}],\"contour\":[{\"type\":\"contour\",\"colorbar\":{\"outlinewidth\":0,\"ticks\":\"\"},\"colorscale\":[[0.0,\"#0d0887\"],[0.1111111111111111,\"#46039f\"],[0.2222222222222222,\"#7201a8\"],[0.3333333333333333,\"#9c179e\"],[0.4444444444444444,\"#bd3786\"],[0.5555555555555556,\"#d8576b\"],[0.6666666666666666,\"#ed7953\"],[0.7777777777777778,\"#fb9f3a\"],[0.8888888888888888,\"#fdca26\"],[1.0,\"#f0f921\"]]}],\"surface\":[{\"type\":\"surface\",\"colorbar\":{\"outlinewidth\":0,\"ticks\":\"\"},\"colorscale\":[[0.0,\"#0d0887\"],[0.1111111111111111,\"#46039f\"],[0.2222222222222222,\"#7201a8\"],[0.3333333333333333,\"#9c179e\"],[0.4444444444444444,\"#bd3786\"],[0.5555555555555556,\"#d8576b\"],[0.6666666666666666,\"#ed7953\"],[0.7777777777777778,\"#fb9f3a\"],[0.8888888888888888,\"#fdca26\"],[1.0,\"#f0f921\"]]}],\"mesh3d\":[{\"type\":\"mesh3d\",\"colorbar\":{\"outlinewidth\":0,\"ticks\":\"\"}}],\"scatter\":[{\"fillpattern\":{\"fillmode\":\"overlay\",\"size\":10,\"solidity\":0.2},\"type\":\"scatter\"}],\"parcoords\":[{\"type\":\"parcoords\",\"line\":{\"colorbar\":{\"outlinewidth\":0,\"ticks\":\"\"}}}],\"scatterpolargl\":[{\"type\":\"scatterpolargl\",\"marker\":{\"colorbar\":{\"outlinewidth\":0,\"ticks\":\"\"}}}],\"bar\":[{\"error_x\":{\"color\":\"#2a3f5f\"},\"error_y\":{\"color\":\"#2a3f5f\"},\"marker\":{\"line\":{\"color\":\"#E5ECF6\",\"width\":0.5},\"pattern\":{\"fillmode\":\"overlay\",\"size\":10,\"solidity\":0.2}},\"type\":\"bar\"}],\"scattergeo\":[{\"type\":\"scattergeo\",\"marker\":{\"colorbar\":{\"outlinewidth\":0,\"ticks\":\"\"}}}],\"scatterpolar\":[{\"type\":\"scatterpolar\",\"marker\":{\"colorbar\":{\"outlinewidth\":0,\"ticks\":\"\"}}}],\"histogram\":[{\"marker\":{\"pattern\":{\"fillmode\":\"overlay\",\"size\":10,\"solidity\":0.2}},\"type\":\"histogram\"}],\"scattergl\":[{\"type\":\"scattergl\",\"marker\":{\"colorbar\":{\"outlinewidth\":0,\"ticks\":\"\"}}}],\"scatter3d\":[{\"type\":\"scatter3d\",\"line\":{\"colorbar\":{\"outlinewidth\":0,\"ticks\":\"\"}},\"marker\":{\"colorbar\":{\"outlinewidth\":0,\"ticks\":\"\"}}}],\"scattermapbox\":[{\"type\":\"scattermapbox\",\"marker\":{\"colorbar\":{\"outlinewidth\":0,\"ticks\":\"\"}}}],\"scatterternary\":[{\"type\":\"scatterternary\",\"marker\":{\"colorbar\":{\"outlinewidth\":0,\"ticks\":\"\"}}}],\"scattercarpet\":[{\"type\":\"scattercarpet\",\"marker\":{\"colorbar\":{\"outlinewidth\":0,\"ticks\":\"\"}}}],\"carpet\":[{\"aaxis\":{\"endlinecolor\":\"#2a3f5f\",\"gridcolor\":\"white\",\"linecolor\":\"white\",\"minorgridcolor\":\"white\",\"startlinecolor\":\"#2a3f5f\"},\"baxis\":{\"endlinecolor\":\"#2a3f5f\",\"gridcolor\":\"white\",\"linecolor\":\"white\",\"minorgridcolor\":\"white\",\"startlinecolor\":\"#2a3f5f\"},\"type\":\"carpet\"}],\"table\":[{\"cells\":{\"fill\":{\"color\":\"#EBF0F8\"},\"line\":{\"color\":\"white\"}},\"header\":{\"fill\":{\"color\":\"#C8D4E3\"},\"line\":{\"color\":\"white\"}},\"type\":\"table\"}],\"barpolar\":[{\"marker\":{\"line\":{\"color\":\"#E5ECF6\",\"width\":0.5},\"pattern\":{\"fillmode\":\"overlay\",\"size\":10,\"solidity\":0.2}},\"type\":\"barpolar\"}],\"pie\":[{\"automargin\":true,\"type\":\"pie\"}]},\"layout\":{\"autotypenumbers\":\"strict\",\"colorway\":[\"#636efa\",\"#EF553B\",\"#00cc96\",\"#ab63fa\",\"#FFA15A\",\"#19d3f3\",\"#FF6692\",\"#B6E880\",\"#FF97FF\",\"#FECB52\"],\"font\":{\"color\":\"#2a3f5f\"},\"hovermode\":\"closest\",\"hoverlabel\":{\"align\":\"left\"},\"paper_bgcolor\":\"white\",\"plot_bgcolor\":\"#E5ECF6\",\"polar\":{\"bgcolor\":\"#E5ECF6\",\"angularaxis\":{\"gridcolor\":\"white\",\"linecolor\":\"white\",\"ticks\":\"\"},\"radialaxis\":{\"gridcolor\":\"white\",\"linecolor\":\"white\",\"ticks\":\"\"}},\"ternary\":{\"bgcolor\":\"#E5ECF6\",\"aaxis\":{\"gridcolor\":\"white\",\"linecolor\":\"white\",\"ticks\":\"\"},\"baxis\":{\"gridcolor\":\"white\",\"linecolor\":\"white\",\"ticks\":\"\"},\"caxis\":{\"gridcolor\":\"white\",\"linecolor\":\"white\",\"ticks\":\"\"}},\"coloraxis\":{\"colorbar\":{\"outlinewidth\":0,\"ticks\":\"\"}},\"colorscale\":{\"sequential\":[[0.0,\"#0d0887\"],[0.1111111111111111,\"#46039f\"],[0.2222222222222222,\"#7201a8\"],[0.3333333333333333,\"#9c179e\"],[0.4444444444444444,\"#bd3786\"],[0.5555555555555556,\"#d8576b\"],[0.6666666666666666,\"#ed7953\"],[0.7777777777777778,\"#fb9f3a\"],[0.8888888888888888,\"#fdca26\"],[1.0,\"#f0f921\"]],\"sequentialminus\":[[0.0,\"#0d0887\"],[0.1111111111111111,\"#46039f\"],[0.2222222222222222,\"#7201a8\"],[0.3333333333333333,\"#9c179e\"],[0.4444444444444444,\"#bd3786\"],[0.5555555555555556,\"#d8576b\"],[0.6666666666666666,\"#ed7953\"],[0.7777777777777778,\"#fb9f3a\"],[0.8888888888888888,\"#fdca26\"],[1.0,\"#f0f921\"]],\"diverging\":[[0,\"#8e0152\"],[0.1,\"#c51b7d\"],[0.2,\"#de77ae\"],[0.3,\"#f1b6da\"],[0.4,\"#fde0ef\"],[0.5,\"#f7f7f7\"],[0.6,\"#e6f5d0\"],[0.7,\"#b8e186\"],[0.8,\"#7fbc41\"],[0.9,\"#4d9221\"],[1,\"#276419\"]]},\"xaxis\":{\"gridcolor\":\"white\",\"linecolor\":\"white\",\"ticks\":\"\",\"title\":{\"standoff\":15},\"zerolinecolor\":\"white\",\"automargin\":true,\"zerolinewidth\":2},\"yaxis\":{\"gridcolor\":\"white\",\"linecolor\":\"white\",\"ticks\":\"\",\"title\":{\"standoff\":15},\"zerolinecolor\":\"white\",\"automargin\":true,\"zerolinewidth\":2},\"scene\":{\"xaxis\":{\"backgroundcolor\":\"#E5ECF6\",\"gridcolor\":\"white\",\"linecolor\":\"white\",\"showbackground\":true,\"ticks\":\"\",\"zerolinecolor\":\"white\",\"gridwidth\":2},\"yaxis\":{\"backgroundcolor\":\"#E5ECF6\",\"gridcolor\":\"white\",\"linecolor\":\"white\",\"showbackground\":true,\"ticks\":\"\",\"zerolinecolor\":\"white\",\"gridwidth\":2},\"zaxis\":{\"backgroundcolor\":\"#E5ECF6\",\"gridcolor\":\"white\",\"linecolor\":\"white\",\"showbackground\":true,\"ticks\":\"\",\"zerolinecolor\":\"white\",\"gridwidth\":2}},\"shapedefaults\":{\"line\":{\"color\":\"#2a3f5f\"}},\"annotationdefaults\":{\"arrowcolor\":\"#2a3f5f\",\"arrowhead\":0,\"arrowwidth\":1},\"geo\":{\"bgcolor\":\"white\",\"landcolor\":\"#E5ECF6\",\"subunitcolor\":\"white\",\"showland\":true,\"showlakes\":true,\"lakecolor\":\"white\"},\"title\":{\"x\":0.05},\"mapbox\":{\"style\":\"light\"}}},\"title\":{\"text\":\"Hb spread by eGFR<br><sup><i>(n=219)</i></sup>\"},\"showlegend\":false},                        {\"responsive\": true}                    ).then(function(){\n",
              "                            \n",
              "var gd = document.getElementById('c40525ac-ea21-4428-83bc-25854212cce0');\n",
              "var x = new MutationObserver(function (mutations, observer) {{\n",
              "        var display = window.getComputedStyle(gd).display;\n",
              "        if (!display || display === 'none') {{\n",
              "            console.log([gd, 'removed!']);\n",
              "            Plotly.purge(gd);\n",
              "            observer.disconnect();\n",
              "        }}\n",
              "}});\n",
              "\n",
              "// Listen for the removal of the full notebook cells\n",
              "var notebookContainer = gd.closest('#notebook-container');\n",
              "if (notebookContainer) {{\n",
              "    x.observe(notebookContainer, {childList: true});\n",
              "}}\n",
              "\n",
              "// Listen for the clearing of the current output cell\n",
              "var outputEl = gd.closest('.output');\n",
              "if (outputEl) {{\n",
              "    x.observe(outputEl, {childList: true});\n",
              "}}\n",
              "\n",
              "                        })                };                            </script>        </div>\n",
              "</body>\n",
              "</html>"
            ]
          },
          "metadata": {}
        }
      ]
    },
    {
      "cell_type": "code",
      "source": [
        "#@title\n",
        "fig = go.Figure()\n",
        "\n",
        "for var in [0,1,2]:\n",
        "\n",
        "  if var == 0:\n",
        "    n = '<38'\n",
        "    dft = df[df['HbA1C']<38]\n",
        "\n",
        "  elif var == 1:\n",
        "    n = '39-47'\n",
        "    dft = df[(df['HbA1C']>=38) & (df['HbA1C']<47)]\n",
        "\n",
        "  else:\n",
        "    n = '>48'\n",
        "    dft = df[(df['HbA1C']>=47)]\n",
        "\n",
        "  name = f\"{n}<br><sup><i>(n={len(dft)}, {round(dft.Hb120.sum()/len(dft)*100)}% <120)</i></sup>\"\n",
        "  fig.add_trace(go.Box(y=dft['Hb'], name=name,\n",
        "                      notched=True,\n",
        "                      jitter=0.3,\n",
        "                      pointpos=-1.8,\n",
        "                      boxpoints='all', # represent all points\n",
        "                  ))\n",
        "\n",
        "fig.update_layout(\n",
        "    title=f\"Hb spread by HbA1C<br><sup><i>(n={len(df)})</i></sup>\",\n",
        "    showlegend=False,\n",
        ")\n",
        "\n",
        "fig.show()"
      ],
      "metadata": {
        "colab": {
          "base_uri": "https://localhost:8080/",
          "height": 542
        },
        "cellView": "form",
        "id": "_ZWLnEWf6pVV",
        "outputId": "2805498f-f808-4c89-d380-4478f21885e3"
      },
      "execution_count": 112,
      "outputs": [
        {
          "output_type": "display_data",
          "data": {
            "text/html": [
              "<html>\n",
              "<head><meta charset=\"utf-8\" /></head>\n",
              "<body>\n",
              "    <div>            <script src=\"https://cdnjs.cloudflare.com/ajax/libs/mathjax/2.7.5/MathJax.js?config=TeX-AMS-MML_SVG\"></script><script type=\"text/javascript\">if (window.MathJax && window.MathJax.Hub && window.MathJax.Hub.Config) {window.MathJax.Hub.Config({SVG: {font: \"STIX-Web\"}});}</script>                <script type=\"text/javascript\">window.PlotlyConfig = {MathJaxConfig: 'local'};</script>\n",
              "        <script src=\"https://cdn.plot.ly/plotly-2.18.2.min.js\"></script>                <div id=\"5f1295a0-f905-470c-b05f-d12a8446dc9b\" class=\"plotly-graph-div\" style=\"height:525px; width:100%;\"></div>            <script type=\"text/javascript\">                                    window.PLOTLYENV=window.PLOTLYENV || {};                                    if (document.getElementById(\"5f1295a0-f905-470c-b05f-d12a8446dc9b\")) {                    Plotly.newPlot(                        \"5f1295a0-f905-470c-b05f-d12a8446dc9b\",                        [{\"boxpoints\":\"all\",\"jitter\":0.3,\"name\":\"<38<br><sup><i>(n=137, 27% <120)</i></sup>\",\"notched\":true,\"pointpos\":-1.8,\"y\":[132.0,124.0,141.0,126.0,131.0,135.0,111.0,113.0,139.0,147.0,134.0,119.0,118.0,125.0,130.0,124.0,131.0,121.0,128.0,139.0,114.0,131.0,135.0,130.0,129.0,124.0,112.0,121.0,119.0,133.0,131.0,130.0,136.0,122.0,123.0,132.0,121.0,120.0,119.0,125.0,111.0,126.0,120.0,112.0,129.0,122.0,133.0,118.0,111.0,115.0,123.0,124.0,125.0,116.0,115.0,134.0,130.0,132.0,144.0,111.0,120.0,114.0,134.0,130.0,149.0,137.0,129.0,134.0,121.0,126.0,133.0,127.0,124.0,118.0,120.0,140.0,136.0,110.0,128.0,141.0,122.0,110.0,130.0,127.0,133.0,131.0,119.0,122.0,132.0,129.0,125.0,128.0,114.0,131.0,122.0,143.0,130.0,119.0,130.0,129.0,117.0,130.0,127.0,120.0,122.0,139.0,134.0,117.0,131.0,123.0,130.0,114.0,129.0,112.0,120.0,115.0,135.0,121.0,127.0,120.0,132.0,116.0,124.0,138.0,107.0,117.0,110.0,111.0,137.0,114.0,125.0,140.0,120.0,113.0,102.0,137.0,111.0],\"type\":\"box\"},{\"boxpoints\":\"all\",\"jitter\":0.3,\"name\":\"39-47<br><sup><i>(n=76, 21% <120)</i></sup>\",\"notched\":true,\"pointpos\":-1.8,\"y\":[70.0,139.0,124.0,125.0,134.0,123.0,134.0,130.0,119.0,117.0,132.0,139.0,117.0,124.0,118.0,131.0,97.0,119.0,118.0,130.0,null,118.0,124.0,133.0,126.0,127.0,119.0,133.0,130.0,137.0,144.0,129.0,137.0,123.0,119.0,122.0,126.0,124.0,134.0,125.0,132.0,126.0,125.0,131.0,138.0,135.0,127.0,129.0,126.0,136.0,114.0,118.0,137.0,126.0,147.0,119.0,121.0,129.0,139.0,129.0,130.0,117.0,131.0,143.0,140.0,122.0,123.0,140.0,122.0,129.0,125.0,118.0,139.0,134.0,122.0,127.0],\"type\":\"box\"},{\"boxpoints\":\"all\",\"jitter\":0.3,\"name\":\">48<br><sup><i>(n=4, 0% <120)</i></sup>\",\"notched\":true,\"pointpos\":-1.8,\"y\":[129.0,137.0,129.0,122.0],\"type\":\"box\"}],                        {\"template\":{\"data\":{\"histogram2dcontour\":[{\"type\":\"histogram2dcontour\",\"colorbar\":{\"outlinewidth\":0,\"ticks\":\"\"},\"colorscale\":[[0.0,\"#0d0887\"],[0.1111111111111111,\"#46039f\"],[0.2222222222222222,\"#7201a8\"],[0.3333333333333333,\"#9c179e\"],[0.4444444444444444,\"#bd3786\"],[0.5555555555555556,\"#d8576b\"],[0.6666666666666666,\"#ed7953\"],[0.7777777777777778,\"#fb9f3a\"],[0.8888888888888888,\"#fdca26\"],[1.0,\"#f0f921\"]]}],\"choropleth\":[{\"type\":\"choropleth\",\"colorbar\":{\"outlinewidth\":0,\"ticks\":\"\"}}],\"histogram2d\":[{\"type\":\"histogram2d\",\"colorbar\":{\"outlinewidth\":0,\"ticks\":\"\"},\"colorscale\":[[0.0,\"#0d0887\"],[0.1111111111111111,\"#46039f\"],[0.2222222222222222,\"#7201a8\"],[0.3333333333333333,\"#9c179e\"],[0.4444444444444444,\"#bd3786\"],[0.5555555555555556,\"#d8576b\"],[0.6666666666666666,\"#ed7953\"],[0.7777777777777778,\"#fb9f3a\"],[0.8888888888888888,\"#fdca26\"],[1.0,\"#f0f921\"]]}],\"heatmap\":[{\"type\":\"heatmap\",\"colorbar\":{\"outlinewidth\":0,\"ticks\":\"\"},\"colorscale\":[[0.0,\"#0d0887\"],[0.1111111111111111,\"#46039f\"],[0.2222222222222222,\"#7201a8\"],[0.3333333333333333,\"#9c179e\"],[0.4444444444444444,\"#bd3786\"],[0.5555555555555556,\"#d8576b\"],[0.6666666666666666,\"#ed7953\"],[0.7777777777777778,\"#fb9f3a\"],[0.8888888888888888,\"#fdca26\"],[1.0,\"#f0f921\"]]}],\"heatmapgl\":[{\"type\":\"heatmapgl\",\"colorbar\":{\"outlinewidth\":0,\"ticks\":\"\"},\"colorscale\":[[0.0,\"#0d0887\"],[0.1111111111111111,\"#46039f\"],[0.2222222222222222,\"#7201a8\"],[0.3333333333333333,\"#9c179e\"],[0.4444444444444444,\"#bd3786\"],[0.5555555555555556,\"#d8576b\"],[0.6666666666666666,\"#ed7953\"],[0.7777777777777778,\"#fb9f3a\"],[0.8888888888888888,\"#fdca26\"],[1.0,\"#f0f921\"]]}],\"contourcarpet\":[{\"type\":\"contourcarpet\",\"colorbar\":{\"outlinewidth\":0,\"ticks\":\"\"}}],\"contour\":[{\"type\":\"contour\",\"colorbar\":{\"outlinewidth\":0,\"ticks\":\"\"},\"colorscale\":[[0.0,\"#0d0887\"],[0.1111111111111111,\"#46039f\"],[0.2222222222222222,\"#7201a8\"],[0.3333333333333333,\"#9c179e\"],[0.4444444444444444,\"#bd3786\"],[0.5555555555555556,\"#d8576b\"],[0.6666666666666666,\"#ed7953\"],[0.7777777777777778,\"#fb9f3a\"],[0.8888888888888888,\"#fdca26\"],[1.0,\"#f0f921\"]]}],\"surface\":[{\"type\":\"surface\",\"colorbar\":{\"outlinewidth\":0,\"ticks\":\"\"},\"colorscale\":[[0.0,\"#0d0887\"],[0.1111111111111111,\"#46039f\"],[0.2222222222222222,\"#7201a8\"],[0.3333333333333333,\"#9c179e\"],[0.4444444444444444,\"#bd3786\"],[0.5555555555555556,\"#d8576b\"],[0.6666666666666666,\"#ed7953\"],[0.7777777777777778,\"#fb9f3a\"],[0.8888888888888888,\"#fdca26\"],[1.0,\"#f0f921\"]]}],\"mesh3d\":[{\"type\":\"mesh3d\",\"colorbar\":{\"outlinewidth\":0,\"ticks\":\"\"}}],\"scatter\":[{\"fillpattern\":{\"fillmode\":\"overlay\",\"size\":10,\"solidity\":0.2},\"type\":\"scatter\"}],\"parcoords\":[{\"type\":\"parcoords\",\"line\":{\"colorbar\":{\"outlinewidth\":0,\"ticks\":\"\"}}}],\"scatterpolargl\":[{\"type\":\"scatterpolargl\",\"marker\":{\"colorbar\":{\"outlinewidth\":0,\"ticks\":\"\"}}}],\"bar\":[{\"error_x\":{\"color\":\"#2a3f5f\"},\"error_y\":{\"color\":\"#2a3f5f\"},\"marker\":{\"line\":{\"color\":\"#E5ECF6\",\"width\":0.5},\"pattern\":{\"fillmode\":\"overlay\",\"size\":10,\"solidity\":0.2}},\"type\":\"bar\"}],\"scattergeo\":[{\"type\":\"scattergeo\",\"marker\":{\"colorbar\":{\"outlinewidth\":0,\"ticks\":\"\"}}}],\"scatterpolar\":[{\"type\":\"scatterpolar\",\"marker\":{\"colorbar\":{\"outlinewidth\":0,\"ticks\":\"\"}}}],\"histogram\":[{\"marker\":{\"pattern\":{\"fillmode\":\"overlay\",\"size\":10,\"solidity\":0.2}},\"type\":\"histogram\"}],\"scattergl\":[{\"type\":\"scattergl\",\"marker\":{\"colorbar\":{\"outlinewidth\":0,\"ticks\":\"\"}}}],\"scatter3d\":[{\"type\":\"scatter3d\",\"line\":{\"colorbar\":{\"outlinewidth\":0,\"ticks\":\"\"}},\"marker\":{\"colorbar\":{\"outlinewidth\":0,\"ticks\":\"\"}}}],\"scattermapbox\":[{\"type\":\"scattermapbox\",\"marker\":{\"colorbar\":{\"outlinewidth\":0,\"ticks\":\"\"}}}],\"scatterternary\":[{\"type\":\"scatterternary\",\"marker\":{\"colorbar\":{\"outlinewidth\":0,\"ticks\":\"\"}}}],\"scattercarpet\":[{\"type\":\"scattercarpet\",\"marker\":{\"colorbar\":{\"outlinewidth\":0,\"ticks\":\"\"}}}],\"carpet\":[{\"aaxis\":{\"endlinecolor\":\"#2a3f5f\",\"gridcolor\":\"white\",\"linecolor\":\"white\",\"minorgridcolor\":\"white\",\"startlinecolor\":\"#2a3f5f\"},\"baxis\":{\"endlinecolor\":\"#2a3f5f\",\"gridcolor\":\"white\",\"linecolor\":\"white\",\"minorgridcolor\":\"white\",\"startlinecolor\":\"#2a3f5f\"},\"type\":\"carpet\"}],\"table\":[{\"cells\":{\"fill\":{\"color\":\"#EBF0F8\"},\"line\":{\"color\":\"white\"}},\"header\":{\"fill\":{\"color\":\"#C8D4E3\"},\"line\":{\"color\":\"white\"}},\"type\":\"table\"}],\"barpolar\":[{\"marker\":{\"line\":{\"color\":\"#E5ECF6\",\"width\":0.5},\"pattern\":{\"fillmode\":\"overlay\",\"size\":10,\"solidity\":0.2}},\"type\":\"barpolar\"}],\"pie\":[{\"automargin\":true,\"type\":\"pie\"}]},\"layout\":{\"autotypenumbers\":\"strict\",\"colorway\":[\"#636efa\",\"#EF553B\",\"#00cc96\",\"#ab63fa\",\"#FFA15A\",\"#19d3f3\",\"#FF6692\",\"#B6E880\",\"#FF97FF\",\"#FECB52\"],\"font\":{\"color\":\"#2a3f5f\"},\"hovermode\":\"closest\",\"hoverlabel\":{\"align\":\"left\"},\"paper_bgcolor\":\"white\",\"plot_bgcolor\":\"#E5ECF6\",\"polar\":{\"bgcolor\":\"#E5ECF6\",\"angularaxis\":{\"gridcolor\":\"white\",\"linecolor\":\"white\",\"ticks\":\"\"},\"radialaxis\":{\"gridcolor\":\"white\",\"linecolor\":\"white\",\"ticks\":\"\"}},\"ternary\":{\"bgcolor\":\"#E5ECF6\",\"aaxis\":{\"gridcolor\":\"white\",\"linecolor\":\"white\",\"ticks\":\"\"},\"baxis\":{\"gridcolor\":\"white\",\"linecolor\":\"white\",\"ticks\":\"\"},\"caxis\":{\"gridcolor\":\"white\",\"linecolor\":\"white\",\"ticks\":\"\"}},\"coloraxis\":{\"colorbar\":{\"outlinewidth\":0,\"ticks\":\"\"}},\"colorscale\":{\"sequential\":[[0.0,\"#0d0887\"],[0.1111111111111111,\"#46039f\"],[0.2222222222222222,\"#7201a8\"],[0.3333333333333333,\"#9c179e\"],[0.4444444444444444,\"#bd3786\"],[0.5555555555555556,\"#d8576b\"],[0.6666666666666666,\"#ed7953\"],[0.7777777777777778,\"#fb9f3a\"],[0.8888888888888888,\"#fdca26\"],[1.0,\"#f0f921\"]],\"sequentialminus\":[[0.0,\"#0d0887\"],[0.1111111111111111,\"#46039f\"],[0.2222222222222222,\"#7201a8\"],[0.3333333333333333,\"#9c179e\"],[0.4444444444444444,\"#bd3786\"],[0.5555555555555556,\"#d8576b\"],[0.6666666666666666,\"#ed7953\"],[0.7777777777777778,\"#fb9f3a\"],[0.8888888888888888,\"#fdca26\"],[1.0,\"#f0f921\"]],\"diverging\":[[0,\"#8e0152\"],[0.1,\"#c51b7d\"],[0.2,\"#de77ae\"],[0.3,\"#f1b6da\"],[0.4,\"#fde0ef\"],[0.5,\"#f7f7f7\"],[0.6,\"#e6f5d0\"],[0.7,\"#b8e186\"],[0.8,\"#7fbc41\"],[0.9,\"#4d9221\"],[1,\"#276419\"]]},\"xaxis\":{\"gridcolor\":\"white\",\"linecolor\":\"white\",\"ticks\":\"\",\"title\":{\"standoff\":15},\"zerolinecolor\":\"white\",\"automargin\":true,\"zerolinewidth\":2},\"yaxis\":{\"gridcolor\":\"white\",\"linecolor\":\"white\",\"ticks\":\"\",\"title\":{\"standoff\":15},\"zerolinecolor\":\"white\",\"automargin\":true,\"zerolinewidth\":2},\"scene\":{\"xaxis\":{\"backgroundcolor\":\"#E5ECF6\",\"gridcolor\":\"white\",\"linecolor\":\"white\",\"showbackground\":true,\"ticks\":\"\",\"zerolinecolor\":\"white\",\"gridwidth\":2},\"yaxis\":{\"backgroundcolor\":\"#E5ECF6\",\"gridcolor\":\"white\",\"linecolor\":\"white\",\"showbackground\":true,\"ticks\":\"\",\"zerolinecolor\":\"white\",\"gridwidth\":2},\"zaxis\":{\"backgroundcolor\":\"#E5ECF6\",\"gridcolor\":\"white\",\"linecolor\":\"white\",\"showbackground\":true,\"ticks\":\"\",\"zerolinecolor\":\"white\",\"gridwidth\":2}},\"shapedefaults\":{\"line\":{\"color\":\"#2a3f5f\"}},\"annotationdefaults\":{\"arrowcolor\":\"#2a3f5f\",\"arrowhead\":0,\"arrowwidth\":1},\"geo\":{\"bgcolor\":\"white\",\"landcolor\":\"#E5ECF6\",\"subunitcolor\":\"white\",\"showland\":true,\"showlakes\":true,\"lakecolor\":\"white\"},\"title\":{\"x\":0.05},\"mapbox\":{\"style\":\"light\"}}},\"title\":{\"text\":\"Hb spread by HbA1C<br><sup><i>(n=219)</i></sup>\"},\"showlegend\":false},                        {\"responsive\": true}                    ).then(function(){\n",
              "                            \n",
              "var gd = document.getElementById('5f1295a0-f905-470c-b05f-d12a8446dc9b');\n",
              "var x = new MutationObserver(function (mutations, observer) {{\n",
              "        var display = window.getComputedStyle(gd).display;\n",
              "        if (!display || display === 'none') {{\n",
              "            console.log([gd, 'removed!']);\n",
              "            Plotly.purge(gd);\n",
              "            observer.disconnect();\n",
              "        }}\n",
              "}});\n",
              "\n",
              "// Listen for the removal of the full notebook cells\n",
              "var notebookContainer = gd.closest('#notebook-container');\n",
              "if (notebookContainer) {{\n",
              "    x.observe(notebookContainer, {childList: true});\n",
              "}}\n",
              "\n",
              "// Listen for the clearing of the current output cell\n",
              "var outputEl = gd.closest('.output');\n",
              "if (outputEl) {{\n",
              "    x.observe(outputEl, {childList: true});\n",
              "}}\n",
              "\n",
              "                        })                };                            </script>        </div>\n",
              "</body>\n",
              "</html>"
            ]
          },
          "metadata": {}
        }
      ]
    },
    {
      "cell_type": "markdown",
      "source": [
        "## Breastfeeding\n",
        "Does breastfeeding help prevent diabetes?"
      ],
      "metadata": {
        "id": "9dLKhI6FWYto"
      }
    },
    {
      "cell_type": "code",
      "source": [
        "#@title\n",
        "fig = go.Figure()\n",
        "names = []\n",
        "for var in df['Breastfeeding'].unique():\n",
        "    dft = df[df['Breastfeeding']==var]\n",
        "    name = f\"{var}<br><sup><i>(n={len(dft)}, {round(len(dft)/len(df) * 100)}%)</i></sup>\"\n",
        "    fig.add_trace(go.Box(y=dft['HbA1C'], name = name,\n",
        "                        notched=True,\n",
        "                        jitter=0.3,\n",
        "                        pointpos=-1.8,\n",
        "                        boxpoints='all', # represent all points\n",
        "                    ))\n",
        "    names.append(name)\n",
        "\n",
        "fig.update_layout(\n",
        "    title=f\"Breastfeeding spread<br><sup><i>(n={len(df)})</i></sup>\",\n",
        "    showlegend=False,\n",
        "    yaxis=go.layout.YAxis(\n",
        "    title=go.layout.yaxis.Title(\n",
        "        text=\"HbA1C<br><sup><i>%</i></sup>\"\n",
        "        )\n",
        "        )\n",
        ")\n",
        "\n",
        "fig.show()"
      ],
      "metadata": {
        "colab": {
          "base_uri": "https://localhost:8080/",
          "height": 542
        },
        "id": "SxCNNYeYKD_Y",
        "outputId": "e562e514-7c4e-4542-babc-3cfa900f561f"
      },
      "execution_count": 113,
      "outputs": [
        {
          "output_type": "display_data",
          "data": {
            "text/html": [
              "<html>\n",
              "<head><meta charset=\"utf-8\" /></head>\n",
              "<body>\n",
              "    <div>            <script src=\"https://cdnjs.cloudflare.com/ajax/libs/mathjax/2.7.5/MathJax.js?config=TeX-AMS-MML_SVG\"></script><script type=\"text/javascript\">if (window.MathJax && window.MathJax.Hub && window.MathJax.Hub.Config) {window.MathJax.Hub.Config({SVG: {font: \"STIX-Web\"}});}</script>                <script type=\"text/javascript\">window.PlotlyConfig = {MathJaxConfig: 'local'};</script>\n",
              "        <script src=\"https://cdn.plot.ly/plotly-2.18.2.min.js\"></script>                <div id=\"a06f5f5f-2a58-49fe-8c88-bd4d9ac00e89\" class=\"plotly-graph-div\" style=\"height:525px; width:100%;\"></div>            <script type=\"text/javascript\">                                    window.PLOTLYENV=window.PLOTLYENV || {};                                    if (document.getElementById(\"a06f5f5f-2a58-49fe-8c88-bd4d9ac00e89\")) {                    Plotly.newPlot(                        \"a06f5f5f-2a58-49fe-8c88-bd4d9ac00e89\",                        [{\"boxpoints\":\"all\",\"jitter\":0.3,\"name\":\"YES<br><sup><i>(n=176, 80%)</i></sup>\",\"notched\":true,\"pointpos\":-1.8,\"y\":[37.0,39.0,40.0,37.0,38.0,32.0,34.0,38.0,37.0,43.0,33.0,45.0,32.0,36.0,40.0,37.0,35.0,31.0,36.0,0.0,36.0,42.0,36.0,37.0,37.0,33.0,33.0,36.0,35.0,38.0,34.0,5.7,38.0,41.0,42.0,43.0,33.0,33.0,36.0,39.0,29.0,36.0,38.0,34.0,34.0,32.0,39.0,40.0,35.0,36.0,35.0,35.0,36.0,39.0,37.0,35.0,36.0,36.0,35.0,39.0,41.0,37.0,35.0,36.0,37.0,38.0,28.0,31.0,39.0,33.0,33.0,31.0,33.0,41.0,39.0,29.0,37.0,41.0,34.0,38.0,null,44.0,41.0,42.0,42.0,40.0,36.0,34.0,45.0,41.0,39.0,34.0,33.0,33.0,33.0,29.0,34.0,35.0,36.0,32.0,34.0,29.0,34.0,37.0,43.0,32.0,29.0,35.0,32.0,40.0,38.0,31.0,34.0,32.0,35.0,41.0,39.0,31.0,39.0,34.0,38.0,37.0,35.0,37.0,38.0,39.0,36.0,31.0,31.0,36.0,38.0,33.0,35.0,46.0,41.0,35.0,37.0,41.0,39.0,37.0,41.0,39.0,38.0,36.0,31.0,35.0,33.0,32.0,35.0,30.0,37.0,36.0,44.0,34.0,40.0,41.0,38.0,39.0,35.0,35.0,39.0,37.0,35.0,40.0,40.0,33.0,39.0,39.0,41.0,47.0,35.0,35.0,41.0,36.0,39.0,32.0],\"type\":\"box\"},{\"boxpoints\":\"all\",\"jitter\":0.3,\"name\":\"NO<br><sup><i>(n=43, 20%)</i></sup>\",\"notched\":true,\"pointpos\":-1.8,\"y\":[35.0,39.0,30.0,31.0,43.0,27.0,32.0,35.0,54.0,35.0,36.0,37.0,38.0,36.0,41.0,32.0,34.0,34.0,36.0,32.0,40.0,37.0,38.0,null,38.0,34.0,39.0,40.0,37.0,34.0,47.0,35.0,35.0,31.0,41.0,33.0,33.0,48.0,37.0,42.0,32.0,35.0,42.0],\"type\":\"box\"}],                        {\"template\":{\"data\":{\"histogram2dcontour\":[{\"type\":\"histogram2dcontour\",\"colorbar\":{\"outlinewidth\":0,\"ticks\":\"\"},\"colorscale\":[[0.0,\"#0d0887\"],[0.1111111111111111,\"#46039f\"],[0.2222222222222222,\"#7201a8\"],[0.3333333333333333,\"#9c179e\"],[0.4444444444444444,\"#bd3786\"],[0.5555555555555556,\"#d8576b\"],[0.6666666666666666,\"#ed7953\"],[0.7777777777777778,\"#fb9f3a\"],[0.8888888888888888,\"#fdca26\"],[1.0,\"#f0f921\"]]}],\"choropleth\":[{\"type\":\"choropleth\",\"colorbar\":{\"outlinewidth\":0,\"ticks\":\"\"}}],\"histogram2d\":[{\"type\":\"histogram2d\",\"colorbar\":{\"outlinewidth\":0,\"ticks\":\"\"},\"colorscale\":[[0.0,\"#0d0887\"],[0.1111111111111111,\"#46039f\"],[0.2222222222222222,\"#7201a8\"],[0.3333333333333333,\"#9c179e\"],[0.4444444444444444,\"#bd3786\"],[0.5555555555555556,\"#d8576b\"],[0.6666666666666666,\"#ed7953\"],[0.7777777777777778,\"#fb9f3a\"],[0.8888888888888888,\"#fdca26\"],[1.0,\"#f0f921\"]]}],\"heatmap\":[{\"type\":\"heatmap\",\"colorbar\":{\"outlinewidth\":0,\"ticks\":\"\"},\"colorscale\":[[0.0,\"#0d0887\"],[0.1111111111111111,\"#46039f\"],[0.2222222222222222,\"#7201a8\"],[0.3333333333333333,\"#9c179e\"],[0.4444444444444444,\"#bd3786\"],[0.5555555555555556,\"#d8576b\"],[0.6666666666666666,\"#ed7953\"],[0.7777777777777778,\"#fb9f3a\"],[0.8888888888888888,\"#fdca26\"],[1.0,\"#f0f921\"]]}],\"heatmapgl\":[{\"type\":\"heatmapgl\",\"colorbar\":{\"outlinewidth\":0,\"ticks\":\"\"},\"colorscale\":[[0.0,\"#0d0887\"],[0.1111111111111111,\"#46039f\"],[0.2222222222222222,\"#7201a8\"],[0.3333333333333333,\"#9c179e\"],[0.4444444444444444,\"#bd3786\"],[0.5555555555555556,\"#d8576b\"],[0.6666666666666666,\"#ed7953\"],[0.7777777777777778,\"#fb9f3a\"],[0.8888888888888888,\"#fdca26\"],[1.0,\"#f0f921\"]]}],\"contourcarpet\":[{\"type\":\"contourcarpet\",\"colorbar\":{\"outlinewidth\":0,\"ticks\":\"\"}}],\"contour\":[{\"type\":\"contour\",\"colorbar\":{\"outlinewidth\":0,\"ticks\":\"\"},\"colorscale\":[[0.0,\"#0d0887\"],[0.1111111111111111,\"#46039f\"],[0.2222222222222222,\"#7201a8\"],[0.3333333333333333,\"#9c179e\"],[0.4444444444444444,\"#bd3786\"],[0.5555555555555556,\"#d8576b\"],[0.6666666666666666,\"#ed7953\"],[0.7777777777777778,\"#fb9f3a\"],[0.8888888888888888,\"#fdca26\"],[1.0,\"#f0f921\"]]}],\"surface\":[{\"type\":\"surface\",\"colorbar\":{\"outlinewidth\":0,\"ticks\":\"\"},\"colorscale\":[[0.0,\"#0d0887\"],[0.1111111111111111,\"#46039f\"],[0.2222222222222222,\"#7201a8\"],[0.3333333333333333,\"#9c179e\"],[0.4444444444444444,\"#bd3786\"],[0.5555555555555556,\"#d8576b\"],[0.6666666666666666,\"#ed7953\"],[0.7777777777777778,\"#fb9f3a\"],[0.8888888888888888,\"#fdca26\"],[1.0,\"#f0f921\"]]}],\"mesh3d\":[{\"type\":\"mesh3d\",\"colorbar\":{\"outlinewidth\":0,\"ticks\":\"\"}}],\"scatter\":[{\"fillpattern\":{\"fillmode\":\"overlay\",\"size\":10,\"solidity\":0.2},\"type\":\"scatter\"}],\"parcoords\":[{\"type\":\"parcoords\",\"line\":{\"colorbar\":{\"outlinewidth\":0,\"ticks\":\"\"}}}],\"scatterpolargl\":[{\"type\":\"scatterpolargl\",\"marker\":{\"colorbar\":{\"outlinewidth\":0,\"ticks\":\"\"}}}],\"bar\":[{\"error_x\":{\"color\":\"#2a3f5f\"},\"error_y\":{\"color\":\"#2a3f5f\"},\"marker\":{\"line\":{\"color\":\"#E5ECF6\",\"width\":0.5},\"pattern\":{\"fillmode\":\"overlay\",\"size\":10,\"solidity\":0.2}},\"type\":\"bar\"}],\"scattergeo\":[{\"type\":\"scattergeo\",\"marker\":{\"colorbar\":{\"outlinewidth\":0,\"ticks\":\"\"}}}],\"scatterpolar\":[{\"type\":\"scatterpolar\",\"marker\":{\"colorbar\":{\"outlinewidth\":0,\"ticks\":\"\"}}}],\"histogram\":[{\"marker\":{\"pattern\":{\"fillmode\":\"overlay\",\"size\":10,\"solidity\":0.2}},\"type\":\"histogram\"}],\"scattergl\":[{\"type\":\"scattergl\",\"marker\":{\"colorbar\":{\"outlinewidth\":0,\"ticks\":\"\"}}}],\"scatter3d\":[{\"type\":\"scatter3d\",\"line\":{\"colorbar\":{\"outlinewidth\":0,\"ticks\":\"\"}},\"marker\":{\"colorbar\":{\"outlinewidth\":0,\"ticks\":\"\"}}}],\"scattermapbox\":[{\"type\":\"scattermapbox\",\"marker\":{\"colorbar\":{\"outlinewidth\":0,\"ticks\":\"\"}}}],\"scatterternary\":[{\"type\":\"scatterternary\",\"marker\":{\"colorbar\":{\"outlinewidth\":0,\"ticks\":\"\"}}}],\"scattercarpet\":[{\"type\":\"scattercarpet\",\"marker\":{\"colorbar\":{\"outlinewidth\":0,\"ticks\":\"\"}}}],\"carpet\":[{\"aaxis\":{\"endlinecolor\":\"#2a3f5f\",\"gridcolor\":\"white\",\"linecolor\":\"white\",\"minorgridcolor\":\"white\",\"startlinecolor\":\"#2a3f5f\"},\"baxis\":{\"endlinecolor\":\"#2a3f5f\",\"gridcolor\":\"white\",\"linecolor\":\"white\",\"minorgridcolor\":\"white\",\"startlinecolor\":\"#2a3f5f\"},\"type\":\"carpet\"}],\"table\":[{\"cells\":{\"fill\":{\"color\":\"#EBF0F8\"},\"line\":{\"color\":\"white\"}},\"header\":{\"fill\":{\"color\":\"#C8D4E3\"},\"line\":{\"color\":\"white\"}},\"type\":\"table\"}],\"barpolar\":[{\"marker\":{\"line\":{\"color\":\"#E5ECF6\",\"width\":0.5},\"pattern\":{\"fillmode\":\"overlay\",\"size\":10,\"solidity\":0.2}},\"type\":\"barpolar\"}],\"pie\":[{\"automargin\":true,\"type\":\"pie\"}]},\"layout\":{\"autotypenumbers\":\"strict\",\"colorway\":[\"#636efa\",\"#EF553B\",\"#00cc96\",\"#ab63fa\",\"#FFA15A\",\"#19d3f3\",\"#FF6692\",\"#B6E880\",\"#FF97FF\",\"#FECB52\"],\"font\":{\"color\":\"#2a3f5f\"},\"hovermode\":\"closest\",\"hoverlabel\":{\"align\":\"left\"},\"paper_bgcolor\":\"white\",\"plot_bgcolor\":\"#E5ECF6\",\"polar\":{\"bgcolor\":\"#E5ECF6\",\"angularaxis\":{\"gridcolor\":\"white\",\"linecolor\":\"white\",\"ticks\":\"\"},\"radialaxis\":{\"gridcolor\":\"white\",\"linecolor\":\"white\",\"ticks\":\"\"}},\"ternary\":{\"bgcolor\":\"#E5ECF6\",\"aaxis\":{\"gridcolor\":\"white\",\"linecolor\":\"white\",\"ticks\":\"\"},\"baxis\":{\"gridcolor\":\"white\",\"linecolor\":\"white\",\"ticks\":\"\"},\"caxis\":{\"gridcolor\":\"white\",\"linecolor\":\"white\",\"ticks\":\"\"}},\"coloraxis\":{\"colorbar\":{\"outlinewidth\":0,\"ticks\":\"\"}},\"colorscale\":{\"sequential\":[[0.0,\"#0d0887\"],[0.1111111111111111,\"#46039f\"],[0.2222222222222222,\"#7201a8\"],[0.3333333333333333,\"#9c179e\"],[0.4444444444444444,\"#bd3786\"],[0.5555555555555556,\"#d8576b\"],[0.6666666666666666,\"#ed7953\"],[0.7777777777777778,\"#fb9f3a\"],[0.8888888888888888,\"#fdca26\"],[1.0,\"#f0f921\"]],\"sequentialminus\":[[0.0,\"#0d0887\"],[0.1111111111111111,\"#46039f\"],[0.2222222222222222,\"#7201a8\"],[0.3333333333333333,\"#9c179e\"],[0.4444444444444444,\"#bd3786\"],[0.5555555555555556,\"#d8576b\"],[0.6666666666666666,\"#ed7953\"],[0.7777777777777778,\"#fb9f3a\"],[0.8888888888888888,\"#fdca26\"],[1.0,\"#f0f921\"]],\"diverging\":[[0,\"#8e0152\"],[0.1,\"#c51b7d\"],[0.2,\"#de77ae\"],[0.3,\"#f1b6da\"],[0.4,\"#fde0ef\"],[0.5,\"#f7f7f7\"],[0.6,\"#e6f5d0\"],[0.7,\"#b8e186\"],[0.8,\"#7fbc41\"],[0.9,\"#4d9221\"],[1,\"#276419\"]]},\"xaxis\":{\"gridcolor\":\"white\",\"linecolor\":\"white\",\"ticks\":\"\",\"title\":{\"standoff\":15},\"zerolinecolor\":\"white\",\"automargin\":true,\"zerolinewidth\":2},\"yaxis\":{\"gridcolor\":\"white\",\"linecolor\":\"white\",\"ticks\":\"\",\"title\":{\"standoff\":15},\"zerolinecolor\":\"white\",\"automargin\":true,\"zerolinewidth\":2},\"scene\":{\"xaxis\":{\"backgroundcolor\":\"#E5ECF6\",\"gridcolor\":\"white\",\"linecolor\":\"white\",\"showbackground\":true,\"ticks\":\"\",\"zerolinecolor\":\"white\",\"gridwidth\":2},\"yaxis\":{\"backgroundcolor\":\"#E5ECF6\",\"gridcolor\":\"white\",\"linecolor\":\"white\",\"showbackground\":true,\"ticks\":\"\",\"zerolinecolor\":\"white\",\"gridwidth\":2},\"zaxis\":{\"backgroundcolor\":\"#E5ECF6\",\"gridcolor\":\"white\",\"linecolor\":\"white\",\"showbackground\":true,\"ticks\":\"\",\"zerolinecolor\":\"white\",\"gridwidth\":2}},\"shapedefaults\":{\"line\":{\"color\":\"#2a3f5f\"}},\"annotationdefaults\":{\"arrowcolor\":\"#2a3f5f\",\"arrowhead\":0,\"arrowwidth\":1},\"geo\":{\"bgcolor\":\"white\",\"landcolor\":\"#E5ECF6\",\"subunitcolor\":\"white\",\"showland\":true,\"showlakes\":true,\"lakecolor\":\"white\"},\"title\":{\"x\":0.05},\"mapbox\":{\"style\":\"light\"}}},\"title\":{\"text\":\"Breastfeeding spread<br><sup><i>(n=219)</i></sup>\"},\"showlegend\":false,\"yaxis\":{\"title\":{\"text\":\"HbA1C<br><sup><i>%</i></sup>\"}}},                        {\"responsive\": true}                    ).then(function(){\n",
              "                            \n",
              "var gd = document.getElementById('a06f5f5f-2a58-49fe-8c88-bd4d9ac00e89');\n",
              "var x = new MutationObserver(function (mutations, observer) {{\n",
              "        var display = window.getComputedStyle(gd).display;\n",
              "        if (!display || display === 'none') {{\n",
              "            console.log([gd, 'removed!']);\n",
              "            Plotly.purge(gd);\n",
              "            observer.disconnect();\n",
              "        }}\n",
              "}});\n",
              "\n",
              "// Listen for the removal of the full notebook cells\n",
              "var notebookContainer = gd.closest('#notebook-container');\n",
              "if (notebookContainer) {{\n",
              "    x.observe(notebookContainer, {childList: true});\n",
              "}}\n",
              "\n",
              "// Listen for the clearing of the current output cell\n",
              "var outputEl = gd.closest('.output');\n",
              "if (outputEl) {{\n",
              "    x.observe(outputEl, {childList: true});\n",
              "}}\n",
              "\n",
              "                        })                };                            </script>        </div>\n",
              "</body>\n",
              "</html>"
            ]
          },
          "metadata": {}
        }
      ]
    },
    {
      "cell_type": "code",
      "source": [
        "#@title\n",
        "df_reg = df[['Breastfeeding', 'HbA1C']]\n",
        "df_reg = df_reg.dropna()\n",
        "\n",
        "\n",
        "y = pd.get_dummies(df_reg.Breastfeeding, prefix='Brstfdng')\n",
        "df_reg = pd.merge(df_reg, y, left_index=True, right_index=True)\n",
        "df_reg = df_reg.drop(columns=['Breastfeeding'])\n",
        "\n",
        "cols = list(df_reg.columns)\n",
        "cols.remove('HbA1C')\n",
        "\n",
        "x = df_reg[cols]\n",
        "y = df_reg['HbA1C']\n",
        " \n",
        "# with sklearn\n",
        "regr = linear_model.LinearRegression()\n",
        "regr.fit(x, y)\n",
        "\n",
        "print('Intercept: \\n', regr.intercept_)\n",
        "print('Coefficients: \\n', regr.coef_)\n",
        "\n",
        "# with statsmodels\n",
        "x = sm.add_constant(x) # adding a constant\n",
        " \n",
        "model = sm.OLS(y, x).fit()\n",
        "predictions = model.predict(x) \n",
        " \n",
        "print_model = model.summary()\n",
        "print(print_model)"
      ],
      "metadata": {
        "colab": {
          "base_uri": "https://localhost:8080/"
        },
        "id": "zMaPFmHnXO8O",
        "outputId": "57cf5498-eda8-48bb-91f1-b6591eb5afbc"
      },
      "execution_count": 114,
      "outputs": [
        {
          "output_type": "stream",
          "name": "stdout",
          "text": [
            "Intercept: \n",
            " 36.431999999999995\n",
            "Coefficients: \n",
            " [ 0.35371429 -0.35371429]\n",
            "                            OLS Regression Results                            \n",
            "==============================================================================\n",
            "Dep. Variable:                  HbA1C   R-squared:                       0.003\n",
            "Model:                            OLS   Adj. R-squared:                 -0.002\n",
            "Method:                 Least Squares   F-statistic:                    0.6441\n",
            "Date:                Sun, 11 Jun 2023   Prob (F-statistic):              0.423\n",
            "Time:                        19:42:16   Log-Likelihood:                -661.72\n",
            "No. Observations:                 217   AIC:                             1327.\n",
            "Df Residuals:                     215   BIC:                             1334.\n",
            "Df Model:                           1                                         \n",
            "Covariance Type:            nonrobust                                         \n",
            "================================================================================\n",
            "                   coef    std err          t      P>|t|      [0.025      0.975]\n",
            "--------------------------------------------------------------------------------\n",
            "const           24.2880      0.294     82.663      0.000      23.709      24.867\n",
            "Brstfdng_NO     12.4977      0.543     23.003      0.000      11.427      13.569\n",
            "Brstfdng_YES    11.7903      0.369     31.917      0.000      11.062      12.518\n",
            "==============================================================================\n",
            "Omnibus:                      144.459   Durbin-Watson:                   1.675\n",
            "Prob(Omnibus):                  0.000   Jarque-Bera (JB):             2441.531\n",
            "Skew:                          -2.235   Prob(JB):                         0.00\n",
            "Kurtosis:                      18.813   Cond. No.                     1.79e+15\n",
            "==============================================================================\n",
            "\n",
            "Notes:\n",
            "[1] Standard Errors assume that the covariance matrix of the errors is correctly specified.\n",
            "[2] The smallest eigenvalue is 1.18e-28. This might indicate that there are\n",
            "strong multicollinearity problems or that the design matrix is singular.\n"
          ]
        }
      ]
    }
  ],
  "metadata": {
    "celltoolbar": "Hide code",
    "kernelspec": {
      "display_name": "Python 3 (ipykernel)",
      "language": "python",
      "name": "python3"
    },
    "language_info": {
      "codemirror_mode": {
        "name": "ipython",
        "version": 3
      },
      "file_extension": ".py",
      "mimetype": "text/x-python",
      "name": "python",
      "nbconvert_exporter": "python",
      "pygments_lexer": "ipython3",
      "version": "3.11.2"
    },
    "colab": {
      "provenance": [],
      "toc_visible": true,
      "include_colab_link": true
    }
  },
  "nbformat": 4,
  "nbformat_minor": 0
}