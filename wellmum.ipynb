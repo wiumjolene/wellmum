{
 "cells": [
  {
   "attachments": {},
   "cell_type": "markdown",
   "metadata": {},
   "source": [
    "# Wellmum Clinic Data Analysis\n",
    "*Lizemarie Wium*\n",
    "\n",
    "## Introduction\n",
    "The Wellmum Clinic was established to identify XXX. The clinic is used as a follow-up of patients who have given birth in the past XX months.\n",
    "\n",
    "This document aims to answer the following questions:\n",
    "\n",
    "1. Descriptive statistics\n",
    "   1. Population description: Age, race, parity\n",
    "   2. Describe Creatinine > 80\n",
    "   3. Describe eGFR <90\n",
    "   4. Describe ALT >40\n",
    "   5. Describe Hb <120\n",
    "   6. Describe ACR >3\n",
    "   7. HbA1C <39, 39-47, >48\n",
    "2. Correlations\n",
    "   1. Correlation between MUAC and current BMI and waist circumference\n",
    "   2. Correlation between random glucose and HbA1C\n",
    "3. Relationships\n",
    "   1. Relationship between eGFR >90 and ACR >3\n",
    "   2. Relationship between ALT >40 and HbA1C >39\n",
    "   3. Relationship between eGFR <90 and HbA1C >39\n"
   ]
  },
  {
   "attachments": {},
   "cell_type": "markdown",
   "metadata": {},
   "source": [
    "## Prepare data"
   ]
  },
  {
   "cell_type": "code",
   "execution_count": 14,
   "metadata": {
    "tags": [
     "hide-input"
    ]
   },
   "outputs": [
    {
     "name": "stdout",
     "output_type": "stream",
     "text": [
      "      Id  Age Gravidity  Parity    BMI  Weight  Creatinine  HbA1C   ACR  \\\n",
      "0  WM001   34         2       1  24.85    59.7        69.0   37.0   7.4   \n",
      "1  WM002   44         6       1  22.31    66.0        66.0   39.0   9.3   \n",
      "2  WM003   30         1       1  22.73    58.2        63.0   40.0  91.3   \n",
      "3  WM004   29         1       1  33.52   106.8        47.0   35.0   NaN   \n",
      "4  WM005   36         3       3  28.04    76.8        59.0   37.0   6.6   \n",
      "\n",
      "  GDMControl   Race  RandomGlucose        eGFR  ALT  MUAC     Hb  \\\n",
      "0  Metformin  WHITE            3.5  132.714169  NaN  30.0  132.0   \n",
      "1    Insulin  MIXED            4.6  118.080000  NaN  27.0   70.0   \n",
      "2  Metformin  BLACK            4.4  124.991429  NaN  28.0  139.0   \n",
      "3  Metformin  WHITE            6.1  310.242638  NaN  29.0  124.0   \n",
      "4  Metformin  WHITE            4.8  166.512814  NaN  32.0  141.0   \n",
      "\n",
      "                  MDOB  \n",
      "0  1988-08-10 00:00:00  \n",
      "1  1978-05-30 00:00:00  \n",
      "2  1992-05-18 00:00:00  \n",
      "3  1993-06-23 00:00:00  \n",
      "4  1986-06-12 00:00:00  \n"
     ]
    }
   ],
   "source": [
    "# Import libraries\n",
    "# General \n",
    "import pandas as pd\n",
    "import numpy as np\n",
    "import datetime\n",
    "import matplotlib.pyplot as plt\n",
    "\n",
    "import plotly.graph_objects as go\n",
    "import plotly.express as px\n",
    "\n",
    "# Import data and print the shape of the data\n",
    "df = pd.read_excel(\"WELLMUM_20230609.xlsx\")\n",
    "\n",
    "# Rename columns\n",
    "df = df.rename(columns={'Gravidity (how many pregnancies have you had?)':'Gravidity',\n",
    "                        'Parity (number of live births)': 'Parity',\n",
    "                        'random glucose': 'RandomGlucose',\n",
    "                        'AGE': 'Age',\n",
    "                        'Weight (kg)': 'Weight',\n",
    "                        'Mid upper arm circumstance ': 'MUAC',\n",
    "                        'ID ': 'Id',\n",
    "                        'Current BMI': 'BMI',\n",
    "                        'GDM control': 'GDMControl',\n",
    "                        'Maternal date of birth': 'MDOB',\n",
    "                        'Problems during pregnancy': 'Problems'})\n",
    "\n",
    "# # Select subset of columns\n",
    "cols = ['Id', 'Age', 'Gravidity', 'Parity', 'BMI', 'Weight', 'Creatinine', \n",
    "        'HbA1C', 'ACR', 'GDMControl', 'Race', 'RandomGlucose', 'eGFR', 'ALT',\n",
    "        'MUAC', 'Hb', 'MDOB']\n",
    "df = df[cols]\n",
    "\n",
    "# Clean Race\n",
    "df['Race'] = df['Race'].str.upper()\n",
    "df['Race'] = df['Race'].str.strip()\n",
    "df.loc[(df['Race']=='ASIAN'), 'Race'] = 'ASIAN'\n",
    "df.loc[(df['Race']=='EAST ASIAN'), 'Race'] = 'ASIAN'\n",
    "df.loc[(df['Race']=='SOUTH ASIAN'), 'Race'] = 'ASIAN'\n",
    "\n",
    "df['BMI'] = df['BMI'].round(2)\n",
    "df['HbA1C'] = df['HbA1C'].astype(float)\n",
    "\n",
    "print(df.head(5))\n",
    "\n"
   ]
  },
  {
   "attachments": {},
   "cell_type": "markdown",
   "metadata": {},
   "source": [
    "## Descriptive statistics"
   ]
  },
  {
   "attachments": {},
   "cell_type": "markdown",
   "metadata": {},
   "source": [
    "### Polulation age"
   ]
  },
  {
   "cell_type": "code",
   "execution_count": 91,
   "metadata": {
    "hideCode": false
   },
   "outputs": [
    {
     "data": {
      "application/vnd.plotly.v1+json": {
       "config": {
        "plotlyServerURL": "https://plot.ly"
       },
       "data": [
        {
         "name": "WHITE",
         "text": [
          21.52,
          14.35,
          4.04
         ],
         "type": "bar",
         "x": [
          "< 35",
          "35-40",
          "40-45"
         ],
         "y": [
          21.52,
          14.35,
          4.04
         ]
        },
        {
         "name": "MIXED",
         "text": [
          2.69,
          1.35,
          0.9
         ],
         "type": "bar",
         "x": [
          "< 35",
          "35-40",
          "40-45"
         ],
         "y": [
          2.69,
          1.35,
          0.9
         ]
        },
        {
         "name": "BLACK",
         "text": [
          9.87,
          7.62,
          1.35,
          0.45
         ],
         "type": "bar",
         "x": [
          "< 35",
          "35-40",
          "40-45",
          "> 45"
         ],
         "y": [
          9.87,
          7.62,
          1.35,
          0.45
         ]
        },
        {
         "name": "ASIAN",
         "text": [
          10.31,
          9.87,
          2.69,
          0.45
         ],
         "type": "bar",
         "x": [
          "< 35",
          "35-40",
          "40-45",
          "> 45"
         ],
         "y": [
          10.31,
          9.87,
          2.69,
          0.45
         ]
        }
       ],
       "layout": {
        "barmode": "stack",
        "template": {
         "data": {
          "bar": [
           {
            "error_x": {
             "color": "#2a3f5f"
            },
            "error_y": {
             "color": "#2a3f5f"
            },
            "marker": {
             "line": {
              "color": "#E5ECF6",
              "width": 0.5
             },
             "pattern": {
              "fillmode": "overlay",
              "size": 10,
              "solidity": 0.2
             }
            },
            "type": "bar"
           }
          ],
          "barpolar": [
           {
            "marker": {
             "line": {
              "color": "#E5ECF6",
              "width": 0.5
             },
             "pattern": {
              "fillmode": "overlay",
              "size": 10,
              "solidity": 0.2
             }
            },
            "type": "barpolar"
           }
          ],
          "carpet": [
           {
            "aaxis": {
             "endlinecolor": "#2a3f5f",
             "gridcolor": "white",
             "linecolor": "white",
             "minorgridcolor": "white",
             "startlinecolor": "#2a3f5f"
            },
            "baxis": {
             "endlinecolor": "#2a3f5f",
             "gridcolor": "white",
             "linecolor": "white",
             "minorgridcolor": "white",
             "startlinecolor": "#2a3f5f"
            },
            "type": "carpet"
           }
          ],
          "choropleth": [
           {
            "colorbar": {
             "outlinewidth": 0,
             "ticks": ""
            },
            "type": "choropleth"
           }
          ],
          "contour": [
           {
            "colorbar": {
             "outlinewidth": 0,
             "ticks": ""
            },
            "colorscale": [
             [
              0,
              "#0d0887"
             ],
             [
              0.1111111111111111,
              "#46039f"
             ],
             [
              0.2222222222222222,
              "#7201a8"
             ],
             [
              0.3333333333333333,
              "#9c179e"
             ],
             [
              0.4444444444444444,
              "#bd3786"
             ],
             [
              0.5555555555555556,
              "#d8576b"
             ],
             [
              0.6666666666666666,
              "#ed7953"
             ],
             [
              0.7777777777777778,
              "#fb9f3a"
             ],
             [
              0.8888888888888888,
              "#fdca26"
             ],
             [
              1,
              "#f0f921"
             ]
            ],
            "type": "contour"
           }
          ],
          "contourcarpet": [
           {
            "colorbar": {
             "outlinewidth": 0,
             "ticks": ""
            },
            "type": "contourcarpet"
           }
          ],
          "heatmap": [
           {
            "colorbar": {
             "outlinewidth": 0,
             "ticks": ""
            },
            "colorscale": [
             [
              0,
              "#0d0887"
             ],
             [
              0.1111111111111111,
              "#46039f"
             ],
             [
              0.2222222222222222,
              "#7201a8"
             ],
             [
              0.3333333333333333,
              "#9c179e"
             ],
             [
              0.4444444444444444,
              "#bd3786"
             ],
             [
              0.5555555555555556,
              "#d8576b"
             ],
             [
              0.6666666666666666,
              "#ed7953"
             ],
             [
              0.7777777777777778,
              "#fb9f3a"
             ],
             [
              0.8888888888888888,
              "#fdca26"
             ],
             [
              1,
              "#f0f921"
             ]
            ],
            "type": "heatmap"
           }
          ],
          "heatmapgl": [
           {
            "colorbar": {
             "outlinewidth": 0,
             "ticks": ""
            },
            "colorscale": [
             [
              0,
              "#0d0887"
             ],
             [
              0.1111111111111111,
              "#46039f"
             ],
             [
              0.2222222222222222,
              "#7201a8"
             ],
             [
              0.3333333333333333,
              "#9c179e"
             ],
             [
              0.4444444444444444,
              "#bd3786"
             ],
             [
              0.5555555555555556,
              "#d8576b"
             ],
             [
              0.6666666666666666,
              "#ed7953"
             ],
             [
              0.7777777777777778,
              "#fb9f3a"
             ],
             [
              0.8888888888888888,
              "#fdca26"
             ],
             [
              1,
              "#f0f921"
             ]
            ],
            "type": "heatmapgl"
           }
          ],
          "histogram": [
           {
            "marker": {
             "pattern": {
              "fillmode": "overlay",
              "size": 10,
              "solidity": 0.2
             }
            },
            "type": "histogram"
           }
          ],
          "histogram2d": [
           {
            "colorbar": {
             "outlinewidth": 0,
             "ticks": ""
            },
            "colorscale": [
             [
              0,
              "#0d0887"
             ],
             [
              0.1111111111111111,
              "#46039f"
             ],
             [
              0.2222222222222222,
              "#7201a8"
             ],
             [
              0.3333333333333333,
              "#9c179e"
             ],
             [
              0.4444444444444444,
              "#bd3786"
             ],
             [
              0.5555555555555556,
              "#d8576b"
             ],
             [
              0.6666666666666666,
              "#ed7953"
             ],
             [
              0.7777777777777778,
              "#fb9f3a"
             ],
             [
              0.8888888888888888,
              "#fdca26"
             ],
             [
              1,
              "#f0f921"
             ]
            ],
            "type": "histogram2d"
           }
          ],
          "histogram2dcontour": [
           {
            "colorbar": {
             "outlinewidth": 0,
             "ticks": ""
            },
            "colorscale": [
             [
              0,
              "#0d0887"
             ],
             [
              0.1111111111111111,
              "#46039f"
             ],
             [
              0.2222222222222222,
              "#7201a8"
             ],
             [
              0.3333333333333333,
              "#9c179e"
             ],
             [
              0.4444444444444444,
              "#bd3786"
             ],
             [
              0.5555555555555556,
              "#d8576b"
             ],
             [
              0.6666666666666666,
              "#ed7953"
             ],
             [
              0.7777777777777778,
              "#fb9f3a"
             ],
             [
              0.8888888888888888,
              "#fdca26"
             ],
             [
              1,
              "#f0f921"
             ]
            ],
            "type": "histogram2dcontour"
           }
          ],
          "mesh3d": [
           {
            "colorbar": {
             "outlinewidth": 0,
             "ticks": ""
            },
            "type": "mesh3d"
           }
          ],
          "parcoords": [
           {
            "line": {
             "colorbar": {
              "outlinewidth": 0,
              "ticks": ""
             }
            },
            "type": "parcoords"
           }
          ],
          "pie": [
           {
            "automargin": true,
            "type": "pie"
           }
          ],
          "scatter": [
           {
            "fillpattern": {
             "fillmode": "overlay",
             "size": 10,
             "solidity": 0.2
            },
            "type": "scatter"
           }
          ],
          "scatter3d": [
           {
            "line": {
             "colorbar": {
              "outlinewidth": 0,
              "ticks": ""
             }
            },
            "marker": {
             "colorbar": {
              "outlinewidth": 0,
              "ticks": ""
             }
            },
            "type": "scatter3d"
           }
          ],
          "scattercarpet": [
           {
            "marker": {
             "colorbar": {
              "outlinewidth": 0,
              "ticks": ""
             }
            },
            "type": "scattercarpet"
           }
          ],
          "scattergeo": [
           {
            "marker": {
             "colorbar": {
              "outlinewidth": 0,
              "ticks": ""
             }
            },
            "type": "scattergeo"
           }
          ],
          "scattergl": [
           {
            "marker": {
             "colorbar": {
              "outlinewidth": 0,
              "ticks": ""
             }
            },
            "type": "scattergl"
           }
          ],
          "scattermapbox": [
           {
            "marker": {
             "colorbar": {
              "outlinewidth": 0,
              "ticks": ""
             }
            },
            "type": "scattermapbox"
           }
          ],
          "scatterpolar": [
           {
            "marker": {
             "colorbar": {
              "outlinewidth": 0,
              "ticks": ""
             }
            },
            "type": "scatterpolar"
           }
          ],
          "scatterpolargl": [
           {
            "marker": {
             "colorbar": {
              "outlinewidth": 0,
              "ticks": ""
             }
            },
            "type": "scatterpolargl"
           }
          ],
          "scatterternary": [
           {
            "marker": {
             "colorbar": {
              "outlinewidth": 0,
              "ticks": ""
             }
            },
            "type": "scatterternary"
           }
          ],
          "surface": [
           {
            "colorbar": {
             "outlinewidth": 0,
             "ticks": ""
            },
            "colorscale": [
             [
              0,
              "#0d0887"
             ],
             [
              0.1111111111111111,
              "#46039f"
             ],
             [
              0.2222222222222222,
              "#7201a8"
             ],
             [
              0.3333333333333333,
              "#9c179e"
             ],
             [
              0.4444444444444444,
              "#bd3786"
             ],
             [
              0.5555555555555556,
              "#d8576b"
             ],
             [
              0.6666666666666666,
              "#ed7953"
             ],
             [
              0.7777777777777778,
              "#fb9f3a"
             ],
             [
              0.8888888888888888,
              "#fdca26"
             ],
             [
              1,
              "#f0f921"
             ]
            ],
            "type": "surface"
           }
          ],
          "table": [
           {
            "cells": {
             "fill": {
              "color": "#EBF0F8"
             },
             "line": {
              "color": "white"
             }
            },
            "header": {
             "fill": {
              "color": "#C8D4E3"
             },
             "line": {
              "color": "white"
             }
            },
            "type": "table"
           }
          ]
         },
         "layout": {
          "annotationdefaults": {
           "arrowcolor": "#2a3f5f",
           "arrowhead": 0,
           "arrowwidth": 1
          },
          "autotypenumbers": "strict",
          "coloraxis": {
           "colorbar": {
            "outlinewidth": 0,
            "ticks": ""
           }
          },
          "colorscale": {
           "diverging": [
            [
             0,
             "#8e0152"
            ],
            [
             0.1,
             "#c51b7d"
            ],
            [
             0.2,
             "#de77ae"
            ],
            [
             0.3,
             "#f1b6da"
            ],
            [
             0.4,
             "#fde0ef"
            ],
            [
             0.5,
             "#f7f7f7"
            ],
            [
             0.6,
             "#e6f5d0"
            ],
            [
             0.7,
             "#b8e186"
            ],
            [
             0.8,
             "#7fbc41"
            ],
            [
             0.9,
             "#4d9221"
            ],
            [
             1,
             "#276419"
            ]
           ],
           "sequential": [
            [
             0,
             "#0d0887"
            ],
            [
             0.1111111111111111,
             "#46039f"
            ],
            [
             0.2222222222222222,
             "#7201a8"
            ],
            [
             0.3333333333333333,
             "#9c179e"
            ],
            [
             0.4444444444444444,
             "#bd3786"
            ],
            [
             0.5555555555555556,
             "#d8576b"
            ],
            [
             0.6666666666666666,
             "#ed7953"
            ],
            [
             0.7777777777777778,
             "#fb9f3a"
            ],
            [
             0.8888888888888888,
             "#fdca26"
            ],
            [
             1,
             "#f0f921"
            ]
           ],
           "sequentialminus": [
            [
             0,
             "#0d0887"
            ],
            [
             0.1111111111111111,
             "#46039f"
            ],
            [
             0.2222222222222222,
             "#7201a8"
            ],
            [
             0.3333333333333333,
             "#9c179e"
            ],
            [
             0.4444444444444444,
             "#bd3786"
            ],
            [
             0.5555555555555556,
             "#d8576b"
            ],
            [
             0.6666666666666666,
             "#ed7953"
            ],
            [
             0.7777777777777778,
             "#fb9f3a"
            ],
            [
             0.8888888888888888,
             "#fdca26"
            ],
            [
             1,
             "#f0f921"
            ]
           ]
          },
          "colorway": [
           "#636efa",
           "#EF553B",
           "#00cc96",
           "#ab63fa",
           "#FFA15A",
           "#19d3f3",
           "#FF6692",
           "#B6E880",
           "#FF97FF",
           "#FECB52"
          ],
          "font": {
           "color": "#2a3f5f"
          },
          "geo": {
           "bgcolor": "white",
           "lakecolor": "white",
           "landcolor": "#E5ECF6",
           "showlakes": true,
           "showland": true,
           "subunitcolor": "white"
          },
          "hoverlabel": {
           "align": "left"
          },
          "hovermode": "closest",
          "mapbox": {
           "style": "light"
          },
          "paper_bgcolor": "white",
          "plot_bgcolor": "#E5ECF6",
          "polar": {
           "angularaxis": {
            "gridcolor": "white",
            "linecolor": "white",
            "ticks": ""
           },
           "bgcolor": "#E5ECF6",
           "radialaxis": {
            "gridcolor": "white",
            "linecolor": "white",
            "ticks": ""
           }
          },
          "scene": {
           "xaxis": {
            "backgroundcolor": "#E5ECF6",
            "gridcolor": "white",
            "gridwidth": 2,
            "linecolor": "white",
            "showbackground": true,
            "ticks": "",
            "zerolinecolor": "white"
           },
           "yaxis": {
            "backgroundcolor": "#E5ECF6",
            "gridcolor": "white",
            "gridwidth": 2,
            "linecolor": "white",
            "showbackground": true,
            "ticks": "",
            "zerolinecolor": "white"
           },
           "zaxis": {
            "backgroundcolor": "#E5ECF6",
            "gridcolor": "white",
            "gridwidth": 2,
            "linecolor": "white",
            "showbackground": true,
            "ticks": "",
            "zerolinecolor": "white"
           }
          },
          "shapedefaults": {
           "line": {
            "color": "#2a3f5f"
           }
          },
          "ternary": {
           "aaxis": {
            "gridcolor": "white",
            "linecolor": "white",
            "ticks": ""
           },
           "baxis": {
            "gridcolor": "white",
            "linecolor": "white",
            "ticks": ""
           },
           "bgcolor": "#E5ECF6",
           "caxis": {
            "gridcolor": "white",
            "linecolor": "white",
            "ticks": ""
           }
          },
          "title": {
           "x": 0.05
          },
          "xaxis": {
           "automargin": true,
           "gridcolor": "white",
           "linecolor": "white",
           "ticks": "",
           "title": {
            "standoff": 15
           },
           "zerolinecolor": "white",
           "zerolinewidth": 2
          },
          "yaxis": {
           "automargin": true,
           "gridcolor": "white",
           "linecolor": "white",
           "ticks": "",
           "title": {
            "standoff": 15
           },
           "zerolinecolor": "white",
           "zerolinewidth": 2
          }
         }
        },
        "title": {
         "text": "Age distribution<br><sup><i>(n=223)</i></sup>",
         "x": 0,
         "xref": "paper"
        },
        "xaxis": {
         "title": {
          "text": "Age<br><sup><i>years</i></sup>"
         }
        },
        "yaxis": {
         "title": {
          "text": "Percentage<br><sup><i>%</i></sup>"
         }
        }
       }
      }
     },
     "metadata": {},
     "output_type": "display_data"
    }
   ],
   "source": [
    "df.loc[df['Age'] < 35, 'AgeCat'] = '< 35'\n",
    "df.loc[(df['Age'] > 35) & (df['Age'] <= 40), 'AgeCat'] = '35-40'\n",
    "df.loc[(df['Age'] > 40) & (df['Age'] <= 45), 'AgeCat'] = '40-45'\n",
    "df.loc[df['Age'] > 45, 'AgeCat'] = '> 45'\n",
    "\n",
    "age = df.groupby(['AgeCat', 'Race']).size().reset_index(name='Counts')\n",
    "\n",
    "age.loc[age['AgeCat'] == '< 35', 'Sort'] = 10\n",
    "age.loc[age['AgeCat'] == '35-40', 'Sort'] = 20\n",
    "age.loc[age['AgeCat'] == '40-45', 'Sort'] = 30\n",
    "age.loc[age['AgeCat'] == '> 45', 'Sort'] = 40\n",
    "\n",
    "age = age.sort_values(by=['Sort'])\n",
    "age['Percentage'] = round(age['Counts'] / len(df) * 100, 2)\n",
    "\n",
    "fig = go.Figure()\n",
    "\n",
    "for race in df.Race.unique():\n",
    "    aget = age[age['Race'] == race]\n",
    "    fig.add_trace(go.Bar(x=aget['AgeCat'], \n",
    "                         y=aget['Percentage'], \n",
    "                         text=aget['Percentage'],\n",
    "                         name=race))\n",
    "\n",
    "fig.update_layout(\n",
    "    title=go.layout.Title(\n",
    "        text=f\"Age distribution<br><sup><i>(n={len(df)})</i></sup>\",\n",
    "        xref=\"paper\",\n",
    "        x=0\n",
    "    ),\n",
    "    xaxis=go.layout.XAxis(\n",
    "        title=go.layout.xaxis.Title(\n",
    "            text=\"Age<br><sup><i>years</i></sup>\"\n",
    "            )\n",
    "        ),\n",
    "    yaxis=go.layout.YAxis(\n",
    "        title=go.layout.yaxis.Title(\n",
    "            text=\"Percentage<br><sup><i>%</i></sup>\"\n",
    "            )\n",
    "        ),\n",
    "    barmode='stack'\n",
    "    )\n",
    "fig.show()"
   ]
  },
  {
   "attachments": {},
   "cell_type": "markdown",
   "metadata": {},
   "source": [
    "### Population race"
   ]
  },
  {
   "cell_type": "code",
   "execution_count": 101,
   "metadata": {},
   "outputs": [
    {
     "data": {
      "application/vnd.plotly.v1+json": {
       "config": {
        "plotlyServerURL": "https://plot.ly"
       },
       "data": [
        {
         "text": [
          12,
          51,
          56,
          104
         ],
         "type": "bar",
         "x": [
          "MIXED",
          "BLACK",
          "ASIAN",
          "WHITE"
         ],
         "y": [
          12,
          51,
          56,
          104
         ]
        }
       ],
       "layout": {
        "template": {
         "data": {
          "bar": [
           {
            "error_x": {
             "color": "#2a3f5f"
            },
            "error_y": {
             "color": "#2a3f5f"
            },
            "marker": {
             "line": {
              "color": "#E5ECF6",
              "width": 0.5
             },
             "pattern": {
              "fillmode": "overlay",
              "size": 10,
              "solidity": 0.2
             }
            },
            "type": "bar"
           }
          ],
          "barpolar": [
           {
            "marker": {
             "line": {
              "color": "#E5ECF6",
              "width": 0.5
             },
             "pattern": {
              "fillmode": "overlay",
              "size": 10,
              "solidity": 0.2
             }
            },
            "type": "barpolar"
           }
          ],
          "carpet": [
           {
            "aaxis": {
             "endlinecolor": "#2a3f5f",
             "gridcolor": "white",
             "linecolor": "white",
             "minorgridcolor": "white",
             "startlinecolor": "#2a3f5f"
            },
            "baxis": {
             "endlinecolor": "#2a3f5f",
             "gridcolor": "white",
             "linecolor": "white",
             "minorgridcolor": "white",
             "startlinecolor": "#2a3f5f"
            },
            "type": "carpet"
           }
          ],
          "choropleth": [
           {
            "colorbar": {
             "outlinewidth": 0,
             "ticks": ""
            },
            "type": "choropleth"
           }
          ],
          "contour": [
           {
            "colorbar": {
             "outlinewidth": 0,
             "ticks": ""
            },
            "colorscale": [
             [
              0,
              "#0d0887"
             ],
             [
              0.1111111111111111,
              "#46039f"
             ],
             [
              0.2222222222222222,
              "#7201a8"
             ],
             [
              0.3333333333333333,
              "#9c179e"
             ],
             [
              0.4444444444444444,
              "#bd3786"
             ],
             [
              0.5555555555555556,
              "#d8576b"
             ],
             [
              0.6666666666666666,
              "#ed7953"
             ],
             [
              0.7777777777777778,
              "#fb9f3a"
             ],
             [
              0.8888888888888888,
              "#fdca26"
             ],
             [
              1,
              "#f0f921"
             ]
            ],
            "type": "contour"
           }
          ],
          "contourcarpet": [
           {
            "colorbar": {
             "outlinewidth": 0,
             "ticks": ""
            },
            "type": "contourcarpet"
           }
          ],
          "heatmap": [
           {
            "colorbar": {
             "outlinewidth": 0,
             "ticks": ""
            },
            "colorscale": [
             [
              0,
              "#0d0887"
             ],
             [
              0.1111111111111111,
              "#46039f"
             ],
             [
              0.2222222222222222,
              "#7201a8"
             ],
             [
              0.3333333333333333,
              "#9c179e"
             ],
             [
              0.4444444444444444,
              "#bd3786"
             ],
             [
              0.5555555555555556,
              "#d8576b"
             ],
             [
              0.6666666666666666,
              "#ed7953"
             ],
             [
              0.7777777777777778,
              "#fb9f3a"
             ],
             [
              0.8888888888888888,
              "#fdca26"
             ],
             [
              1,
              "#f0f921"
             ]
            ],
            "type": "heatmap"
           }
          ],
          "heatmapgl": [
           {
            "colorbar": {
             "outlinewidth": 0,
             "ticks": ""
            },
            "colorscale": [
             [
              0,
              "#0d0887"
             ],
             [
              0.1111111111111111,
              "#46039f"
             ],
             [
              0.2222222222222222,
              "#7201a8"
             ],
             [
              0.3333333333333333,
              "#9c179e"
             ],
             [
              0.4444444444444444,
              "#bd3786"
             ],
             [
              0.5555555555555556,
              "#d8576b"
             ],
             [
              0.6666666666666666,
              "#ed7953"
             ],
             [
              0.7777777777777778,
              "#fb9f3a"
             ],
             [
              0.8888888888888888,
              "#fdca26"
             ],
             [
              1,
              "#f0f921"
             ]
            ],
            "type": "heatmapgl"
           }
          ],
          "histogram": [
           {
            "marker": {
             "pattern": {
              "fillmode": "overlay",
              "size": 10,
              "solidity": 0.2
             }
            },
            "type": "histogram"
           }
          ],
          "histogram2d": [
           {
            "colorbar": {
             "outlinewidth": 0,
             "ticks": ""
            },
            "colorscale": [
             [
              0,
              "#0d0887"
             ],
             [
              0.1111111111111111,
              "#46039f"
             ],
             [
              0.2222222222222222,
              "#7201a8"
             ],
             [
              0.3333333333333333,
              "#9c179e"
             ],
             [
              0.4444444444444444,
              "#bd3786"
             ],
             [
              0.5555555555555556,
              "#d8576b"
             ],
             [
              0.6666666666666666,
              "#ed7953"
             ],
             [
              0.7777777777777778,
              "#fb9f3a"
             ],
             [
              0.8888888888888888,
              "#fdca26"
             ],
             [
              1,
              "#f0f921"
             ]
            ],
            "type": "histogram2d"
           }
          ],
          "histogram2dcontour": [
           {
            "colorbar": {
             "outlinewidth": 0,
             "ticks": ""
            },
            "colorscale": [
             [
              0,
              "#0d0887"
             ],
             [
              0.1111111111111111,
              "#46039f"
             ],
             [
              0.2222222222222222,
              "#7201a8"
             ],
             [
              0.3333333333333333,
              "#9c179e"
             ],
             [
              0.4444444444444444,
              "#bd3786"
             ],
             [
              0.5555555555555556,
              "#d8576b"
             ],
             [
              0.6666666666666666,
              "#ed7953"
             ],
             [
              0.7777777777777778,
              "#fb9f3a"
             ],
             [
              0.8888888888888888,
              "#fdca26"
             ],
             [
              1,
              "#f0f921"
             ]
            ],
            "type": "histogram2dcontour"
           }
          ],
          "mesh3d": [
           {
            "colorbar": {
             "outlinewidth": 0,
             "ticks": ""
            },
            "type": "mesh3d"
           }
          ],
          "parcoords": [
           {
            "line": {
             "colorbar": {
              "outlinewidth": 0,
              "ticks": ""
             }
            },
            "type": "parcoords"
           }
          ],
          "pie": [
           {
            "automargin": true,
            "type": "pie"
           }
          ],
          "scatter": [
           {
            "fillpattern": {
             "fillmode": "overlay",
             "size": 10,
             "solidity": 0.2
            },
            "type": "scatter"
           }
          ],
          "scatter3d": [
           {
            "line": {
             "colorbar": {
              "outlinewidth": 0,
              "ticks": ""
             }
            },
            "marker": {
             "colorbar": {
              "outlinewidth": 0,
              "ticks": ""
             }
            },
            "type": "scatter3d"
           }
          ],
          "scattercarpet": [
           {
            "marker": {
             "colorbar": {
              "outlinewidth": 0,
              "ticks": ""
             }
            },
            "type": "scattercarpet"
           }
          ],
          "scattergeo": [
           {
            "marker": {
             "colorbar": {
              "outlinewidth": 0,
              "ticks": ""
             }
            },
            "type": "scattergeo"
           }
          ],
          "scattergl": [
           {
            "marker": {
             "colorbar": {
              "outlinewidth": 0,
              "ticks": ""
             }
            },
            "type": "scattergl"
           }
          ],
          "scattermapbox": [
           {
            "marker": {
             "colorbar": {
              "outlinewidth": 0,
              "ticks": ""
             }
            },
            "type": "scattermapbox"
           }
          ],
          "scatterpolar": [
           {
            "marker": {
             "colorbar": {
              "outlinewidth": 0,
              "ticks": ""
             }
            },
            "type": "scatterpolar"
           }
          ],
          "scatterpolargl": [
           {
            "marker": {
             "colorbar": {
              "outlinewidth": 0,
              "ticks": ""
             }
            },
            "type": "scatterpolargl"
           }
          ],
          "scatterternary": [
           {
            "marker": {
             "colorbar": {
              "outlinewidth": 0,
              "ticks": ""
             }
            },
            "type": "scatterternary"
           }
          ],
          "surface": [
           {
            "colorbar": {
             "outlinewidth": 0,
             "ticks": ""
            },
            "colorscale": [
             [
              0,
              "#0d0887"
             ],
             [
              0.1111111111111111,
              "#46039f"
             ],
             [
              0.2222222222222222,
              "#7201a8"
             ],
             [
              0.3333333333333333,
              "#9c179e"
             ],
             [
              0.4444444444444444,
              "#bd3786"
             ],
             [
              0.5555555555555556,
              "#d8576b"
             ],
             [
              0.6666666666666666,
              "#ed7953"
             ],
             [
              0.7777777777777778,
              "#fb9f3a"
             ],
             [
              0.8888888888888888,
              "#fdca26"
             ],
             [
              1,
              "#f0f921"
             ]
            ],
            "type": "surface"
           }
          ],
          "table": [
           {
            "cells": {
             "fill": {
              "color": "#EBF0F8"
             },
             "line": {
              "color": "white"
             }
            },
            "header": {
             "fill": {
              "color": "#C8D4E3"
             },
             "line": {
              "color": "white"
             }
            },
            "type": "table"
           }
          ]
         },
         "layout": {
          "annotationdefaults": {
           "arrowcolor": "#2a3f5f",
           "arrowhead": 0,
           "arrowwidth": 1
          },
          "autotypenumbers": "strict",
          "coloraxis": {
           "colorbar": {
            "outlinewidth": 0,
            "ticks": ""
           }
          },
          "colorscale": {
           "diverging": [
            [
             0,
             "#8e0152"
            ],
            [
             0.1,
             "#c51b7d"
            ],
            [
             0.2,
             "#de77ae"
            ],
            [
             0.3,
             "#f1b6da"
            ],
            [
             0.4,
             "#fde0ef"
            ],
            [
             0.5,
             "#f7f7f7"
            ],
            [
             0.6,
             "#e6f5d0"
            ],
            [
             0.7,
             "#b8e186"
            ],
            [
             0.8,
             "#7fbc41"
            ],
            [
             0.9,
             "#4d9221"
            ],
            [
             1,
             "#276419"
            ]
           ],
           "sequential": [
            [
             0,
             "#0d0887"
            ],
            [
             0.1111111111111111,
             "#46039f"
            ],
            [
             0.2222222222222222,
             "#7201a8"
            ],
            [
             0.3333333333333333,
             "#9c179e"
            ],
            [
             0.4444444444444444,
             "#bd3786"
            ],
            [
             0.5555555555555556,
             "#d8576b"
            ],
            [
             0.6666666666666666,
             "#ed7953"
            ],
            [
             0.7777777777777778,
             "#fb9f3a"
            ],
            [
             0.8888888888888888,
             "#fdca26"
            ],
            [
             1,
             "#f0f921"
            ]
           ],
           "sequentialminus": [
            [
             0,
             "#0d0887"
            ],
            [
             0.1111111111111111,
             "#46039f"
            ],
            [
             0.2222222222222222,
             "#7201a8"
            ],
            [
             0.3333333333333333,
             "#9c179e"
            ],
            [
             0.4444444444444444,
             "#bd3786"
            ],
            [
             0.5555555555555556,
             "#d8576b"
            ],
            [
             0.6666666666666666,
             "#ed7953"
            ],
            [
             0.7777777777777778,
             "#fb9f3a"
            ],
            [
             0.8888888888888888,
             "#fdca26"
            ],
            [
             1,
             "#f0f921"
            ]
           ]
          },
          "colorway": [
           "#636efa",
           "#EF553B",
           "#00cc96",
           "#ab63fa",
           "#FFA15A",
           "#19d3f3",
           "#FF6692",
           "#B6E880",
           "#FF97FF",
           "#FECB52"
          ],
          "font": {
           "color": "#2a3f5f"
          },
          "geo": {
           "bgcolor": "white",
           "lakecolor": "white",
           "landcolor": "#E5ECF6",
           "showlakes": true,
           "showland": true,
           "subunitcolor": "white"
          },
          "hoverlabel": {
           "align": "left"
          },
          "hovermode": "closest",
          "mapbox": {
           "style": "light"
          },
          "paper_bgcolor": "white",
          "plot_bgcolor": "#E5ECF6",
          "polar": {
           "angularaxis": {
            "gridcolor": "white",
            "linecolor": "white",
            "ticks": ""
           },
           "bgcolor": "#E5ECF6",
           "radialaxis": {
            "gridcolor": "white",
            "linecolor": "white",
            "ticks": ""
           }
          },
          "scene": {
           "xaxis": {
            "backgroundcolor": "#E5ECF6",
            "gridcolor": "white",
            "gridwidth": 2,
            "linecolor": "white",
            "showbackground": true,
            "ticks": "",
            "zerolinecolor": "white"
           },
           "yaxis": {
            "backgroundcolor": "#E5ECF6",
            "gridcolor": "white",
            "gridwidth": 2,
            "linecolor": "white",
            "showbackground": true,
            "ticks": "",
            "zerolinecolor": "white"
           },
           "zaxis": {
            "backgroundcolor": "#E5ECF6",
            "gridcolor": "white",
            "gridwidth": 2,
            "linecolor": "white",
            "showbackground": true,
            "ticks": "",
            "zerolinecolor": "white"
           }
          },
          "shapedefaults": {
           "line": {
            "color": "#2a3f5f"
           }
          },
          "ternary": {
           "aaxis": {
            "gridcolor": "white",
            "linecolor": "white",
            "ticks": ""
           },
           "baxis": {
            "gridcolor": "white",
            "linecolor": "white",
            "ticks": ""
           },
           "bgcolor": "#E5ECF6",
           "caxis": {
            "gridcolor": "white",
            "linecolor": "white",
            "ticks": ""
           }
          },
          "title": {
           "x": 0.05
          },
          "xaxis": {
           "automargin": true,
           "gridcolor": "white",
           "linecolor": "white",
           "ticks": "",
           "title": {
            "standoff": 15
           },
           "zerolinecolor": "white",
           "zerolinewidth": 2
          },
          "yaxis": {
           "automargin": true,
           "gridcolor": "white",
           "linecolor": "white",
           "ticks": "",
           "title": {
            "standoff": 15
           },
           "zerolinecolor": "white",
           "zerolinewidth": 2
          }
         }
        },
        "title": {
         "text": "Race distribution<br><sup><i>(n=223)</i></sup>",
         "x": 0,
         "xref": "paper"
        },
        "xaxis": {
         "title": {
          "text": "Race"
         }
        },
        "yaxis": {
         "title": {
          "text": "Count"
         }
        }
       }
      }
     },
     "metadata": {},
     "output_type": "display_data"
    }
   ],
   "source": [
    "race = df.groupby(['Race']).size().reset_index(name='Counts')\n",
    "race = race.sort_values(by=['Counts'])\n",
    "\n",
    "fig = go.Figure([go.Bar(x=race['Race'], y=race['Counts'], text=race['Counts'])])\n",
    "fig.update_layout(\n",
    "    title=go.layout.Title(\n",
    "        text=f\"Race distribution<br><sup><i>(n={len(df)})</i></sup>\",\n",
    "        xref=\"paper\",\n",
    "        x=0\n",
    "    ),\n",
    "        xaxis=go.layout.XAxis(\n",
    "        title=go.layout.xaxis.Title(\n",
    "            text=\"Race\"\n",
    "            )\n",
    "        ),\n",
    "        yaxis=go.layout.YAxis(\n",
    "        title=go.layout.yaxis.Title(\n",
    "            text=\"Count\"\n",
    "            )\n",
    "        )\n",
    "    )\n",
    "fig.show()"
   ]
  },
  {
   "attachments": {},
   "cell_type": "markdown",
   "metadata": {},
   "source": [
    "### Population parity"
   ]
  },
  {
   "cell_type": "code",
   "execution_count": 136,
   "metadata": {},
   "outputs": [
    {
     "data": {
      "application/vnd.plotly.v1+json": {
       "config": {
        "plotlyServerURL": "https://plot.ly"
       },
       "data": [
        {
         "hoverinfo": "label+percent",
         "labels": [
          1,
          2,
          3,
          4,
          5,
          6,
          7,
          8
         ],
         "textinfo": "label+percent",
         "type": "pie",
         "values": [
          97,
          74,
          32,
          11,
          5,
          2,
          1,
          1
         ]
        }
       ],
       "layout": {
        "template": {
         "data": {
          "bar": [
           {
            "error_x": {
             "color": "#2a3f5f"
            },
            "error_y": {
             "color": "#2a3f5f"
            },
            "marker": {
             "line": {
              "color": "#E5ECF6",
              "width": 0.5
             },
             "pattern": {
              "fillmode": "overlay",
              "size": 10,
              "solidity": 0.2
             }
            },
            "type": "bar"
           }
          ],
          "barpolar": [
           {
            "marker": {
             "line": {
              "color": "#E5ECF6",
              "width": 0.5
             },
             "pattern": {
              "fillmode": "overlay",
              "size": 10,
              "solidity": 0.2
             }
            },
            "type": "barpolar"
           }
          ],
          "carpet": [
           {
            "aaxis": {
             "endlinecolor": "#2a3f5f",
             "gridcolor": "white",
             "linecolor": "white",
             "minorgridcolor": "white",
             "startlinecolor": "#2a3f5f"
            },
            "baxis": {
             "endlinecolor": "#2a3f5f",
             "gridcolor": "white",
             "linecolor": "white",
             "minorgridcolor": "white",
             "startlinecolor": "#2a3f5f"
            },
            "type": "carpet"
           }
          ],
          "choropleth": [
           {
            "colorbar": {
             "outlinewidth": 0,
             "ticks": ""
            },
            "type": "choropleth"
           }
          ],
          "contour": [
           {
            "colorbar": {
             "outlinewidth": 0,
             "ticks": ""
            },
            "colorscale": [
             [
              0,
              "#0d0887"
             ],
             [
              0.1111111111111111,
              "#46039f"
             ],
             [
              0.2222222222222222,
              "#7201a8"
             ],
             [
              0.3333333333333333,
              "#9c179e"
             ],
             [
              0.4444444444444444,
              "#bd3786"
             ],
             [
              0.5555555555555556,
              "#d8576b"
             ],
             [
              0.6666666666666666,
              "#ed7953"
             ],
             [
              0.7777777777777778,
              "#fb9f3a"
             ],
             [
              0.8888888888888888,
              "#fdca26"
             ],
             [
              1,
              "#f0f921"
             ]
            ],
            "type": "contour"
           }
          ],
          "contourcarpet": [
           {
            "colorbar": {
             "outlinewidth": 0,
             "ticks": ""
            },
            "type": "contourcarpet"
           }
          ],
          "heatmap": [
           {
            "colorbar": {
             "outlinewidth": 0,
             "ticks": ""
            },
            "colorscale": [
             [
              0,
              "#0d0887"
             ],
             [
              0.1111111111111111,
              "#46039f"
             ],
             [
              0.2222222222222222,
              "#7201a8"
             ],
             [
              0.3333333333333333,
              "#9c179e"
             ],
             [
              0.4444444444444444,
              "#bd3786"
             ],
             [
              0.5555555555555556,
              "#d8576b"
             ],
             [
              0.6666666666666666,
              "#ed7953"
             ],
             [
              0.7777777777777778,
              "#fb9f3a"
             ],
             [
              0.8888888888888888,
              "#fdca26"
             ],
             [
              1,
              "#f0f921"
             ]
            ],
            "type": "heatmap"
           }
          ],
          "heatmapgl": [
           {
            "colorbar": {
             "outlinewidth": 0,
             "ticks": ""
            },
            "colorscale": [
             [
              0,
              "#0d0887"
             ],
             [
              0.1111111111111111,
              "#46039f"
             ],
             [
              0.2222222222222222,
              "#7201a8"
             ],
             [
              0.3333333333333333,
              "#9c179e"
             ],
             [
              0.4444444444444444,
              "#bd3786"
             ],
             [
              0.5555555555555556,
              "#d8576b"
             ],
             [
              0.6666666666666666,
              "#ed7953"
             ],
             [
              0.7777777777777778,
              "#fb9f3a"
             ],
             [
              0.8888888888888888,
              "#fdca26"
             ],
             [
              1,
              "#f0f921"
             ]
            ],
            "type": "heatmapgl"
           }
          ],
          "histogram": [
           {
            "marker": {
             "pattern": {
              "fillmode": "overlay",
              "size": 10,
              "solidity": 0.2
             }
            },
            "type": "histogram"
           }
          ],
          "histogram2d": [
           {
            "colorbar": {
             "outlinewidth": 0,
             "ticks": ""
            },
            "colorscale": [
             [
              0,
              "#0d0887"
             ],
             [
              0.1111111111111111,
              "#46039f"
             ],
             [
              0.2222222222222222,
              "#7201a8"
             ],
             [
              0.3333333333333333,
              "#9c179e"
             ],
             [
              0.4444444444444444,
              "#bd3786"
             ],
             [
              0.5555555555555556,
              "#d8576b"
             ],
             [
              0.6666666666666666,
              "#ed7953"
             ],
             [
              0.7777777777777778,
              "#fb9f3a"
             ],
             [
              0.8888888888888888,
              "#fdca26"
             ],
             [
              1,
              "#f0f921"
             ]
            ],
            "type": "histogram2d"
           }
          ],
          "histogram2dcontour": [
           {
            "colorbar": {
             "outlinewidth": 0,
             "ticks": ""
            },
            "colorscale": [
             [
              0,
              "#0d0887"
             ],
             [
              0.1111111111111111,
              "#46039f"
             ],
             [
              0.2222222222222222,
              "#7201a8"
             ],
             [
              0.3333333333333333,
              "#9c179e"
             ],
             [
              0.4444444444444444,
              "#bd3786"
             ],
             [
              0.5555555555555556,
              "#d8576b"
             ],
             [
              0.6666666666666666,
              "#ed7953"
             ],
             [
              0.7777777777777778,
              "#fb9f3a"
             ],
             [
              0.8888888888888888,
              "#fdca26"
             ],
             [
              1,
              "#f0f921"
             ]
            ],
            "type": "histogram2dcontour"
           }
          ],
          "mesh3d": [
           {
            "colorbar": {
             "outlinewidth": 0,
             "ticks": ""
            },
            "type": "mesh3d"
           }
          ],
          "parcoords": [
           {
            "line": {
             "colorbar": {
              "outlinewidth": 0,
              "ticks": ""
             }
            },
            "type": "parcoords"
           }
          ],
          "pie": [
           {
            "automargin": true,
            "type": "pie"
           }
          ],
          "scatter": [
           {
            "fillpattern": {
             "fillmode": "overlay",
             "size": 10,
             "solidity": 0.2
            },
            "type": "scatter"
           }
          ],
          "scatter3d": [
           {
            "line": {
             "colorbar": {
              "outlinewidth": 0,
              "ticks": ""
             }
            },
            "marker": {
             "colorbar": {
              "outlinewidth": 0,
              "ticks": ""
             }
            },
            "type": "scatter3d"
           }
          ],
          "scattercarpet": [
           {
            "marker": {
             "colorbar": {
              "outlinewidth": 0,
              "ticks": ""
             }
            },
            "type": "scattercarpet"
           }
          ],
          "scattergeo": [
           {
            "marker": {
             "colorbar": {
              "outlinewidth": 0,
              "ticks": ""
             }
            },
            "type": "scattergeo"
           }
          ],
          "scattergl": [
           {
            "marker": {
             "colorbar": {
              "outlinewidth": 0,
              "ticks": ""
             }
            },
            "type": "scattergl"
           }
          ],
          "scattermapbox": [
           {
            "marker": {
             "colorbar": {
              "outlinewidth": 0,
              "ticks": ""
             }
            },
            "type": "scattermapbox"
           }
          ],
          "scatterpolar": [
           {
            "marker": {
             "colorbar": {
              "outlinewidth": 0,
              "ticks": ""
             }
            },
            "type": "scatterpolar"
           }
          ],
          "scatterpolargl": [
           {
            "marker": {
             "colorbar": {
              "outlinewidth": 0,
              "ticks": ""
             }
            },
            "type": "scatterpolargl"
           }
          ],
          "scatterternary": [
           {
            "marker": {
             "colorbar": {
              "outlinewidth": 0,
              "ticks": ""
             }
            },
            "type": "scatterternary"
           }
          ],
          "surface": [
           {
            "colorbar": {
             "outlinewidth": 0,
             "ticks": ""
            },
            "colorscale": [
             [
              0,
              "#0d0887"
             ],
             [
              0.1111111111111111,
              "#46039f"
             ],
             [
              0.2222222222222222,
              "#7201a8"
             ],
             [
              0.3333333333333333,
              "#9c179e"
             ],
             [
              0.4444444444444444,
              "#bd3786"
             ],
             [
              0.5555555555555556,
              "#d8576b"
             ],
             [
              0.6666666666666666,
              "#ed7953"
             ],
             [
              0.7777777777777778,
              "#fb9f3a"
             ],
             [
              0.8888888888888888,
              "#fdca26"
             ],
             [
              1,
              "#f0f921"
             ]
            ],
            "type": "surface"
           }
          ],
          "table": [
           {
            "cells": {
             "fill": {
              "color": "#EBF0F8"
             },
             "line": {
              "color": "white"
             }
            },
            "header": {
             "fill": {
              "color": "#C8D4E3"
             },
             "line": {
              "color": "white"
             }
            },
            "type": "table"
           }
          ]
         },
         "layout": {
          "annotationdefaults": {
           "arrowcolor": "#2a3f5f",
           "arrowhead": 0,
           "arrowwidth": 1
          },
          "autotypenumbers": "strict",
          "coloraxis": {
           "colorbar": {
            "outlinewidth": 0,
            "ticks": ""
           }
          },
          "colorscale": {
           "diverging": [
            [
             0,
             "#8e0152"
            ],
            [
             0.1,
             "#c51b7d"
            ],
            [
             0.2,
             "#de77ae"
            ],
            [
             0.3,
             "#f1b6da"
            ],
            [
             0.4,
             "#fde0ef"
            ],
            [
             0.5,
             "#f7f7f7"
            ],
            [
             0.6,
             "#e6f5d0"
            ],
            [
             0.7,
             "#b8e186"
            ],
            [
             0.8,
             "#7fbc41"
            ],
            [
             0.9,
             "#4d9221"
            ],
            [
             1,
             "#276419"
            ]
           ],
           "sequential": [
            [
             0,
             "#0d0887"
            ],
            [
             0.1111111111111111,
             "#46039f"
            ],
            [
             0.2222222222222222,
             "#7201a8"
            ],
            [
             0.3333333333333333,
             "#9c179e"
            ],
            [
             0.4444444444444444,
             "#bd3786"
            ],
            [
             0.5555555555555556,
             "#d8576b"
            ],
            [
             0.6666666666666666,
             "#ed7953"
            ],
            [
             0.7777777777777778,
             "#fb9f3a"
            ],
            [
             0.8888888888888888,
             "#fdca26"
            ],
            [
             1,
             "#f0f921"
            ]
           ],
           "sequentialminus": [
            [
             0,
             "#0d0887"
            ],
            [
             0.1111111111111111,
             "#46039f"
            ],
            [
             0.2222222222222222,
             "#7201a8"
            ],
            [
             0.3333333333333333,
             "#9c179e"
            ],
            [
             0.4444444444444444,
             "#bd3786"
            ],
            [
             0.5555555555555556,
             "#d8576b"
            ],
            [
             0.6666666666666666,
             "#ed7953"
            ],
            [
             0.7777777777777778,
             "#fb9f3a"
            ],
            [
             0.8888888888888888,
             "#fdca26"
            ],
            [
             1,
             "#f0f921"
            ]
           ]
          },
          "colorway": [
           "#636efa",
           "#EF553B",
           "#00cc96",
           "#ab63fa",
           "#FFA15A",
           "#19d3f3",
           "#FF6692",
           "#B6E880",
           "#FF97FF",
           "#FECB52"
          ],
          "font": {
           "color": "#2a3f5f"
          },
          "geo": {
           "bgcolor": "white",
           "lakecolor": "white",
           "landcolor": "#E5ECF6",
           "showlakes": true,
           "showland": true,
           "subunitcolor": "white"
          },
          "hoverlabel": {
           "align": "left"
          },
          "hovermode": "closest",
          "mapbox": {
           "style": "light"
          },
          "paper_bgcolor": "white",
          "plot_bgcolor": "#E5ECF6",
          "polar": {
           "angularaxis": {
            "gridcolor": "white",
            "linecolor": "white",
            "ticks": ""
           },
           "bgcolor": "#E5ECF6",
           "radialaxis": {
            "gridcolor": "white",
            "linecolor": "white",
            "ticks": ""
           }
          },
          "scene": {
           "xaxis": {
            "backgroundcolor": "#E5ECF6",
            "gridcolor": "white",
            "gridwidth": 2,
            "linecolor": "white",
            "showbackground": true,
            "ticks": "",
            "zerolinecolor": "white"
           },
           "yaxis": {
            "backgroundcolor": "#E5ECF6",
            "gridcolor": "white",
            "gridwidth": 2,
            "linecolor": "white",
            "showbackground": true,
            "ticks": "",
            "zerolinecolor": "white"
           },
           "zaxis": {
            "backgroundcolor": "#E5ECF6",
            "gridcolor": "white",
            "gridwidth": 2,
            "linecolor": "white",
            "showbackground": true,
            "ticks": "",
            "zerolinecolor": "white"
           }
          },
          "shapedefaults": {
           "line": {
            "color": "#2a3f5f"
           }
          },
          "ternary": {
           "aaxis": {
            "gridcolor": "white",
            "linecolor": "white",
            "ticks": ""
           },
           "baxis": {
            "gridcolor": "white",
            "linecolor": "white",
            "ticks": ""
           },
           "bgcolor": "#E5ECF6",
           "caxis": {
            "gridcolor": "white",
            "linecolor": "white",
            "ticks": ""
           }
          },
          "title": {
           "x": 0.05
          },
          "xaxis": {
           "automargin": true,
           "gridcolor": "white",
           "linecolor": "white",
           "ticks": "",
           "title": {
            "standoff": 15
           },
           "zerolinecolor": "white",
           "zerolinewidth": 2
          },
          "yaxis": {
           "automargin": true,
           "gridcolor": "white",
           "linecolor": "white",
           "ticks": "",
           "title": {
            "standoff": 15
           },
           "zerolinecolor": "white",
           "zerolinewidth": 2
          }
         }
        }
       }
      }
     },
     "metadata": {},
     "output_type": "display_data"
    }
   ],
   "source": [
    "par = df.groupby(['Parity']).size().reset_index(name='Counts')\n",
    "\n",
    "#fig = go.Figure([go.Bar(x=par['Parity'], y=par['Counts'], text=par['Counts'])])\n",
    "fig = go.Figure([go.Pie(labels=par['Parity'], values=par['Counts'])])\n",
    "fig.update_traces(hoverinfo='label+percent', textinfo='label+percent',\n",
    "                 )\n",
    "\n",
    "#fig.update_layout(\n",
    "#    title=go.layout.Title(\n",
    "#        text=f\"Parity distribution<br><sup><i>(n={len(df)})</i></sup>\",\n",
    "#        xref=\"paper\",\n",
    "    #     x=0\n",
    "    # ),\n",
    "    #     xaxis=go.layout.XAxis(\n",
    "    #     title=go.layout.xaxis.Title(\n",
    "    #         text=\"Parity<br><sup><i>number of live births</i></sup>\"\n",
    "    #         )\n",
    "    #     ),\n",
    "    #     yaxis=go.layout.YAxis(\n",
    "    #     title=go.layout.yaxis.Title(\n",
    "    #         text=\"Count\"\n",
    "    #         )\n",
    "    #     )\n",
    "    # )\n",
    "fig.show()"
   ]
  },
  {
   "attachments": {},
   "cell_type": "markdown",
   "metadata": {},
   "source": [
    "### Creatinine > 80"
   ]
  },
  {
   "cell_type": "code",
   "execution_count": 144,
   "metadata": {},
   "outputs": [
    {
     "name": "stdout",
     "output_type": "stream",
     "text": [
      "Creatinine > 80: 0.117\n"
     ]
    },
    {
     "data": {
      "application/vnd.plotly.v1+json": {
       "config": {
        "plotlyServerURL": "https://plot.ly"
       },
       "data": [
        {
         "diagonal": {
          "visible": false
         },
         "dimensions": [
          {
           "label": "RandomGlucose",
           "values": [
            3.5,
            4.6,
            4.4,
            6.1,
            4.8,
            5.3,
            5.3,
            3.8,
            4.4,
            4.2,
            4.2,
            4.5,
            4.5,
            4,
            4.4,
            5.4,
            5.2,
            4.5,
            4.5,
            4.5,
            4.8,
            3.9,
            4.6,
            5.4,
            4,
            4.6,
            4.2,
            5.3,
            5.7,
            5.2,
            5.1,
            4.3,
            5.7,
            7.7,
            4.8,
            5,
            4.9,
            4.5,
            4.9,
            4.8,
            5.2,
            4,
            5.9,
            4.4,
            3.5,
            3.8,
            null,
            null,
            4.9,
            4.9,
            4.8,
            4.8,
            4.9,
            5.6,
            4.6,
            4.5,
            4.5,
            4.5,
            5.3,
            4.6,
            5.2,
            4.7,
            5.1,
            null,
            4.7,
            7.1,
            5,
            5.9,
            4.4,
            4.5,
            4.6,
            5.8,
            4.7,
            4.6,
            4.1,
            4.2,
            4.3,
            4.5,
            5.3,
            5.5,
            4.2,
            3.1,
            5,
            4.4,
            4.7,
            4.7,
            3.9,
            5.3,
            5.6,
            5.1,
            5.1,
            2.9,
            5.4,
            4.5,
            4.9,
            5.1,
            4.4,
            4.9,
            4.3,
            5.3,
            4.4,
            4.3,
            5.2,
            3.3,
            4.8,
            10.2,
            4.7,
            4.1,
            4.2,
            4.5,
            4,
            3.8,
            4.6,
            4.8,
            5,
            4,
            4.3,
            4.5,
            4.1,
            4.9,
            4.8,
            null,
            4.8,
            5,
            5.3,
            5.9,
            6.5,
            4.8,
            4.2,
            4.7,
            3.9,
            3.9,
            4.1,
            4.9,
            4.1,
            4.5,
            4.8,
            5,
            4.5,
            8.8,
            6.8,
            5.1,
            4.4,
            3.8,
            5.1,
            4.2,
            4,
            4.5,
            4,
            4.5,
            4.6,
            4.2,
            4.4,
            4.4,
            4,
            6.6,
            4.2,
            4.9,
            5.6,
            4.7,
            3.8,
            5.7,
            4.3,
            3.9,
            4.6,
            4,
            4.5,
            3.8,
            4,
            4.4,
            4.6,
            7,
            4.5,
            4.7,
            3.5,
            4.4,
            3.6,
            5.3,
            3.6,
            5.3,
            5.3,
            4.7,
            4.6,
            4.4,
            4.4,
            4,
            5.4,
            5.2,
            4.4,
            4.6,
            4.7,
            6,
            6.2,
            4.7,
            4.5,
            4.2,
            3.8
           ]
          },
          {
           "label": "HbA1C",
           "values": [
            37,
            39,
            40,
            35,
            37,
            39,
            38,
            32,
            30,
            34,
            38,
            43,
            33,
            45,
            32,
            36,
            40,
            37,
            35,
            31,
            31,
            0,
            36,
            42,
            36,
            37,
            37,
            33,
            33,
            36,
            35,
            38,
            34,
            5.7,
            38,
            41,
            42,
            43,
            33,
            33,
            27,
            36,
            32,
            39,
            29,
            36,
            38,
            34,
            34,
            32,
            39,
            40,
            35,
            36,
            35,
            35,
            36,
            35,
            39,
            37,
            35,
            36,
            35,
            39,
            41,
            54,
            37,
            35,
            35,
            36,
            37,
            38,
            37,
            28,
            31,
            39,
            33,
            33,
            31,
            39,
            29,
            38,
            41,
            36,
            34,
            38,
            null,
            44,
            41,
            41,
            42,
            42,
            36,
            34,
            45,
            41,
            39,
            34,
            33,
            33,
            32,
            33,
            29,
            34,
            36,
            34,
            35,
            36,
            32,
            34,
            32,
            29,
            34,
            40,
            37,
            43,
            32,
            37,
            29,
            38,
            32,
            null,
            40,
            38,
            38,
            31,
            34,
            32,
            35,
            34,
            41,
            39,
            31,
            39,
            34,
            38,
            35,
            37,
            38,
            39,
            38,
            39,
            31,
            31,
            40,
            36,
            38,
            33,
            35,
            41,
            35,
            37,
            41,
            39,
            37,
            39,
            38,
            36,
            34,
            47,
            35,
            31,
            35,
            33,
            32,
            35,
            30,
            34,
            37,
            33,
            33,
            48,
            40,
            44,
            34,
            40,
            41,
            38,
            39,
            37,
            35,
            35,
            39,
            37,
            32,
            35,
            40,
            35,
            40,
            33,
            39,
            41,
            35,
            41,
            36,
            39,
            32
           ]
          },
          {
           "label": "eGFR",
           "values": [
            132.71416879795396,
            118.08,
            124.99142857142857,
            310.2426382978723,
            166.512813559322,
            136.56752542372882,
            193.9236923076923,
            122.51648275862071,
            110.0884647887324,
            135.1647,
            92.34225,
            134.9735769230769,
            186.19867241379313,
            145.32866949152543,
            167.9107692307692,
            151.94972727272727,
            116.44656,
            168.1918965517241,
            175.24661538461535,
            202.704,
            244.8731612903226,
            140.679737704918,
            276.0547826086957,
            179.20177500000003,
            143.6572602739726,
            158.40391836734693,
            134.316,
            226.66061538461537,
            180.83544827586203,
            122.16891891891892,
            122.96215384615385,
            155.49755844155845,
            162.18376119402984,
            137.76,
            124.81661538461539,
            146.5668,
            113.36358620689653,
            135.55701492537312,
            236.28300000000002,
            177.22022222222222,
            172.83483870967743,
            154.58261538461537,
            130.44150000000002,
            159.777,
            85.16383333333333,
            121.846875,
            220.77679999999998,
            116.40905660377359,
            174.9306,
            119.63368421052631,
            139.34605263157894,
            169.5148474576271,
            222.5808,
            150.7130181818182,
            122.877,
            156.99272727272728,
            132.56547826086955,
            122.22685714285713,
            151.43898591549296,
            139.072,
            161.4194117647059,
            206.64,
            157.67394117647058,
            122.68164705882351,
            160.06557692307692,
            140.8104,
            221.1472602739726,
            184.27039999999997,
            164.94947368421052,
            224.26254545454546,
            194.92283076923076,
            179.9408,
            168.428,
            207.45999999999998,
            142.32046153846153,
            111.80052631578947,
            131.03365714285715,
            114.40490909090909,
            125.88037974683543,
            175.78820689655174,
            118.83205714285712,
            97.10526315789474,
            130.1446956521739,
            191.81328813559318,
            128.15616000000003,
            191.11740000000003,
            150.78745714285714,
            196.8,
            146.18363636363634,
            207.10963636363633,
            170.17489285714285,
            156.13764705882355,
            101.975661971831,
            107.37899999999999,
            126.2349,
            152.86818461538462,
            170.41848387096775,
            180.41261538461538,
            156.92457142857143,
            126.567,
            150.5028,
            204.40180327868853,
            124.84500000000001,
            152.70345762711867,
            194.07093749999999,
            151.08780821917807,
            132.13152,
            126.40040506329113,
            195.562064516129,
            164.7874411764706,
            163.14434782608694,
            248.75689655172414,
            119.45205633802816,
            193.98108196721313,
            165.69857142857143,
            117.14234782608695,
            136.19695384615383,
            147.108,
            95.8375,
            182.27207547169812,
            132.00881818181819,
            null,
            128.40130434782606,
            189.80266666666668,
            129.85725,
            116.91307692307694,
            137.77468656716417,
            171.08915625,
            252.8388,
            131.2784347826087,
            99.76904347826085,
            165.07771428571428,
            93.17509859154929,
            181.86428571428573,
            161.6331818181818,
            255.44639999999998,
            237.144,
            198.08218181818182,
            158.63215384615384,
            147.06435483870965,
            188.9240322580645,
            179.97677419354838,
            168.28096551724138,
            107.3608524590164,
            268.5938275862069,
            148.24173913043478,
            166.48554098360657,
            163.64178947368418,
            138.58863157894737,
            97.06642105263157,
            141.3457627118644,
            131.979,
            141.8928,
            110.36454545454545,
            179.38489655172413,
            276.1324897959184,
            149.1744,
            156.33925423728812,
            153.18112499999998,
            171.43739999999997,
            205.656,
            147.21285245901637,
            199.42131147540985,
            120.53999999999998,
            98.58345762711865,
            157.18033333333332,
            164.69699999999997,
            97.60881081081081,
            145.5585671641791,
            225.32322077922078,
            151.7954794520548,
            347.7236170212766,
            82.05248,
            224.72685714285714,
            143.8620779220779,
            156.33067924528305,
            157.72114285714284,
            165.68289230769227,
            130.19076923076923,
            224.32347826086956,
            123.04685714285714,
            129.88799999999998,
            121.41559322033898,
            193.81406896551724,
            116.49857142857142,
            120.90021428571428,
            144.78857142857143,
            164.34337499999998,
            102.85533333333332,
            158.60166666666666,
            191.5340625,
            123.04612499999999,
            176.25444444444443,
            151.8018387096774,
            120.03238095238095,
            167.91793220338982,
            159.01440000000002
           ]
          },
          {
           "label": "Hb",
           "values": [
            132,
            70,
            139,
            124,
            141,
            124,
            125,
            126,
            131,
            135,
            134,
            123,
            113,
            134,
            139,
            147,
            130,
            134,
            119,
            118,
            130,
            124,
            131,
            119,
            121,
            128,
            139,
            114,
            131,
            135,
            130,
            132,
            129,
            124,
            139,
            117,
            124,
            118,
            112,
            121,
            119,
            133,
            131,
            131,
            130,
            136,
            97,
            122,
            123,
            132,
            119,
            118,
            121,
            120,
            119,
            125,
            111,
            126,
            130,
            120,
            112,
            122,
            133,
            null,
            118,
            129,
            118,
            111,
            115,
            124,
            125,
            124,
            116,
            115,
            134,
            133,
            130,
            132,
            144,
            127,
            120,
            119,
            133,
            134,
            130,
            130,
            null,
            137,
            144,
            129,
            137,
            123,
            149,
            137,
            122,
            126,
            124,
            129,
            134,
            121,
            126,
            133,
            127,
            124,
            120,
            140,
            136,
            110,
            128,
            141,
            122,
            110,
            130,
            134,
            127,
            125,
            133,
            131,
            119,
            132,
            132,
            null,
            126,
            125,
            131,
            129,
            125,
            128,
            114,
            131,
            138,
            135,
            122,
            127,
            143,
            129,
            119,
            130,
            126,
            136,
            115,
            114,
            117,
            130,
            118,
            127,
            137,
            120,
            122,
            147,
            134,
            117,
            119,
            121,
            131,
            139,
            129,
            123,
            130,
            137,
            114,
            120,
            115,
            135,
            121,
            127,
            120,
            123,
            132,
            116,
            124,
            129,
            129,
            117,
            107,
            131,
            143,
            140,
            122,
            117,
            110,
            111,
            140,
            137,
            114,
            125,
            122,
            140,
            129,
            120,
            118,
            134,
            102,
            122,
            137,
            127,
            111
           ]
          },
          {
           "label": "ALT",
           "values": [
            null,
            null,
            null,
            null,
            null,
            null,
            null,
            null,
            null,
            null,
            null,
            null,
            null,
            null,
            null,
            null,
            null,
            null,
            null,
            null,
            null,
            null,
            null,
            null,
            null,
            null,
            null,
            null,
            null,
            null,
            null,
            null,
            null,
            null,
            null,
            null,
            null,
            null,
            null,
            null,
            null,
            null,
            null,
            null,
            null,
            null,
            null,
            null,
            null,
            null,
            null,
            null,
            null,
            null,
            null,
            null,
            null,
            null,
            null,
            null,
            null,
            null,
            null,
            null,
            null,
            null,
            null,
            null,
            null,
            null,
            null,
            null,
            null,
            null,
            null,
            null,
            null,
            null,
            null,
            null,
            null,
            null,
            null,
            null,
            null,
            null,
            null,
            null,
            null,
            null,
            null,
            null,
            null,
            null,
            null,
            null,
            null,
            null,
            null,
            null,
            null,
            null,
            null,
            null,
            null,
            null,
            null,
            null,
            null,
            null,
            null,
            null,
            null,
            39,
            15,
            25,
            26,
            31,
            29,
            33,
            68,
            null,
            18,
            31,
            21,
            44,
            50,
            39,
            31,
            17,
            24,
            14,
            14,
            67,
            29,
            36,
            19,
            33,
            null,
            24,
            24,
            22,
            33,
            25,
            56,
            35,
            27,
            13,
            24,
            23,
            34,
            17,
            13,
            11,
            32,
            39,
            38,
            68,
            43,
            67,
            37,
            21,
            51,
            38,
            24,
            28,
            24,
            39,
            21,
            14,
            14,
            21,
            16,
            32,
            16,
            53,
            17,
            29,
            26,
            8,
            17,
            20,
            34,
            155,
            18,
            35,
            27,
            25,
            23,
            12,
            21,
            24,
            11,
            23,
            26,
            22,
            17
           ]
          },
          {
           "label": "Creatinine",
           "values": [
            69,
            66,
            63,
            47,
            59,
            59,
            65,
            58,
            71,
            65,
            80,
            78,
            58,
            59,
            39,
            66,
            75,
            58,
            52,
            62,
            62,
            61,
            46,
            80,
            73,
            49,
            68,
            52,
            58,
            74,
            78,
            77,
            67,
            75,
            52,
            60,
            58,
            67,
            52,
            54,
            62,
            65,
            64,
            70,
            72,
            64,
            60,
            53,
            80,
            57,
            76,
            59,
            75,
            55,
            70,
            66,
            69,
            63,
            71,
            54,
            68,
            54,
            51,
            68,
            52,
            60,
            73,
            60,
            57,
            55,
            65,
            60,
            60,
            63,
            52,
            76,
            70,
            66,
            79,
            58,
            70,
            76,
            69,
            59,
            75,
            60,
            70,
            75,
            66,
            44,
            56,
            68,
            71,
            72,
            60,
            65,
            62,
            65,
            63,
            60,
            60,
            61,
            66,
            59,
            64,
            73,
            75,
            79,
            62,
            68,
            69,
            58,
            71,
            61,
            63,
            69,
            65,
            60,
            72,
            53,
            66,
            null,
            69,
            54,
            64,
            78,
            67,
            64,
            60,
            69,
            69,
            63,
            71,
            49,
            66,
            50,
            54,
            66,
            65,
            62,
            62,
            62,
            58,
            61,
            58,
            69,
            61,
            57,
            76,
            76,
            59,
            54,
            60,
            66,
            58,
            49,
            65,
            59,
            64,
            60,
            60,
            61,
            61,
            77,
            59,
            72,
            54,
            74,
            67,
            77,
            73,
            47,
            75,
            63,
            77,
            53,
            63,
            65,
            65,
            69,
            63,
            52,
            59,
            58,
            70,
            56,
            56,
            80,
            72,
            72,
            64,
            64,
            54,
            62,
            63,
            59,
            65
           ]
          },
          {
           "label": "ACR",
           "values": [
            7.4,
            9.3,
            91.3,
            null,
            6.6,
            0,
            12.1,
            18,
            18.7,
            12,
            8.2,
            0,
            5.1,
            14.9,
            8.9,
            4.8,
            7.5,
            9.3,
            6.6,
            0,
            0,
            12.2,
            22.3,
            1.6,
            1.2,
            0.8,
            "<0.5",
            3.3,
            0.4,
            0.6,
            "<1.7",
            0.4,
            "<0.6",
            null,
            0,
            0.8,
            0,
            0.5,
            0.4,
            0.9,
            1.3,
            1.1,
            1.2,
            1.2,
            1.9,
            3.7,
            3.1,
            6.5,
            1.6,
            0,
            3.2,
            0.3,
            2.4,
            2.7,
            0,
            1.4,
            2.5,
            17.1,
            1.3,
            7.3,
            0,
            0.7,
            1.4,
            1.7,
            0.6,
            0.5,
            2.4,
            0.6,
            0,
            0.8,
            14.3,
            5.5,
            59.2,
            0.9,
            1,
            1,
            0.7,
            1.5,
            0.5,
            0.4,
            1,
            1.6,
            3.3,
            23.9,
            0.6,
            3.3,
            0.9,
            0.9,
            1.9,
            2.2,
            1.4,
            1.7,
            3.4,
            7.6,
            15.5,
            1.3,
            1.7,
            2,
            0.4,
            1.1,
            7.5,
            2,
            2.2,
            0.4,
            0.7,
            10.8,
            2.5,
            3.8,
            16.8,
            1.2,
            4.5,
            3.2,
            0.5,
            48.5,
            0.4,
            0.6,
            0.8,
            1.3,
            2.6,
            1.1,
            1.6,
            70,
            1,
            5.8,
            0.3,
            7.8,
            "<1.0",
            2.5,
            5.3,
            0.8,
            "<1.0",
            0.7,
            1.5,
            1,
            5.1,
            2,
            12.6,
            2.2,
            0.6,
            0.9,
            null,
            0.6,
            1.1,
            "<1.4",
            1.1,
            0.8,
            "<0.6",
            3.3,
            2.8,
            7.3,
            1.8,
            "Test cancelled. Very dilute sample",
            0.5,
            2.3,
            1.6,
            0.7,
            3.1,
            "<1.4",
            11.4,
            3.2,
            0.9,
            1.9,
            0.8,
            "<0.5",
            1.3,
            2.8,
            0.9,
            "Test cancelled",
            0.8,
            0.8,
            0.7,
            5.2,
            "Test Cancelled - Insufficient Specimen",
            2.5,
            3.8,
            2.6,
            1.5,
            "<2.1",
            2.5,
            0.8,
            2.1,
            10,
            0.6,
            "<0.5",
            1.7,
            3.3,
            "<0.8",
            "<0.7",
            7.3,
            2.4,
            1.1,
            0.7,
            89.9,
            2,
            "<0.8",
            1.7,
            0.5
           ]
          },
          {
           "label": "Age",
           "values": [
            34,
            44,
            30,
            29,
            36,
            37,
            35,
            39,
            31,
            41,
            35,
            37,
            27,
            33,
            30,
            33,
            43,
            37,
            32,
            37,
            29,
            32,
            24,
            39,
            42,
            24,
            38,
            27,
            38,
            35,
            32,
            36,
            32,
            35,
            43,
            32,
            36,
            36,
            27,
            34,
            30,
            35,
            39,
            35,
            37,
            40,
            34,
            45,
            36,
            35,
            35,
            28,
            23,
            32,
            35,
            36,
            37,
            29,
            42,
            34,
            25,
            35,
            33,
            32,
            39,
            32,
            35,
            34,
            35,
            31,
            24,
            36,
            36,
            35,
            31,
            30,
            37,
            37,
            35,
            34,
            34,
            40,
            36,
            34,
            29,
            38,
            33,
            44,
            34,
            32,
            29,
            36,
            36,
            43,
            41,
            38,
            37,
            35,
            38,
            42,
            26,
            31,
            35,
            31,
            30,
            35,
            32,
            22,
            39,
            39,
            30,
            25,
            38,
            37,
            25,
            37,
            43,
            36,
            38,
            35,
            33,
            35,
            35,
            28,
            37,
            30,
            34,
            29,
            32,
            38,
            34,
            36,
            32,
            35,
            35,
            30,
            32,
            36,
            39,
            35,
            33,
            32,
            31,
            38,
            39,
            30,
            41,
            41,
            44,
            38,
            40,
            29,
            28,
            35,
            34,
            37,
            36,
            31,
            32,
            39,
            30,
            32,
            25,
            30,
            48,
            34,
            23,
            34,
            34,
            24,
            35,
            37,
            34,
            31,
            26,
            37,
            32,
            34,
            40,
            30,
            39,
            36,
            36,
            44,
            38,
            41,
            37,
            35,
            34,
            30,
            30,
            34,
            34,
            31,
            34,
            37,
            39
           ]
          }
         ],
         "marker": {
          "color": 0,
          "line": {
           "color": "white",
           "width": 0.5
          },
          "showscale": false
         },
         "name": "Creatinine <= 80",
         "text": [
          "WM001",
          "WM002",
          "WM003",
          "WM004",
          "WM005",
          "WM006",
          "WM007",
          "WM008",
          "WM009",
          "WM014",
          "WM015",
          "WM017",
          "WM018",
          "WM019",
          "WM020",
          "WM023",
          "WM021",
          "WM024",
          "WM025",
          "WM027",
          "WM028",
          "WM029",
          "WM030",
          "WM031",
          "WM032",
          "WM034",
          "WM036",
          "WM037",
          "WM039",
          "WM038",
          "WM041",
          "WM042",
          "WM043",
          "WM044",
          "WM045",
          "WM046",
          "WM047",
          "WM048",
          "WM049",
          "WM050",
          "WM051",
          "WM052",
          "WM053",
          "WM054",
          "WM057",
          "WM058",
          "WM060",
          "WM061",
          "WM062",
          "WM063",
          "WM064",
          "WM065",
          "WM066",
          "WM067",
          "WM068",
          "WM070",
          "WM071",
          "WM073",
          "WM075",
          "WM076",
          "WM077",
          "WM079",
          "WM080",
          "WM081",
          "WM082",
          "WM083",
          "WM085",
          "WM086",
          "WM087",
          "WM090",
          "WM091",
          "WM092",
          "WM093",
          "WM094",
          "WM096",
          "WM095",
          "WM097",
          "WM098",
          "WM100",
          "WM104",
          "WM105",
          "WM106",
          "WM107",
          "WM108 ",
          "WM110",
          "WM113",
          "WM114",
          "WM115",
          "WM118",
          "WM119",
          "WM121",
          "WM122",
          "WM123",
          "WM124",
          "WM125",
          "WM126",
          "WM127",
          "WM128",
          "WM129",
          "WM130",
          "WM131",
          "WM132",
          "WM134",
          "WM133",
          "WM136",
          "WM137",
          "WM139",
          "WM140",
          "WM141",
          "WM142",
          "WM143",
          "WM144",
          "WM145",
          "WM146",
          "WM147",
          "WM148",
          "WM150",
          "WM153",
          "WM154",
          "WM156",
          "WM157",
          "WM159",
          "WM160",
          "WM163",
          "WM164",
          "WM165",
          "WM170",
          "WM169",
          "WM171",
          "WM173",
          "WM174",
          "WM175",
          "WM176",
          "WM178",
          "WM177",
          "WM179",
          "WM182",
          "WM184",
          "WM188",
          "WM186",
          "WM185",
          "WM183",
          "WM189",
          "WM190",
          "WM191",
          "WM192",
          "WM193",
          "WM195",
          "WM196",
          "WM199",
          "WM200",
          "WM201",
          "WM202",
          "WM203",
          "WM204",
          "WM206",
          "WM207",
          "WM208",
          "WM209",
          "WM210",
          "WM211",
          "WM214",
          "WM215",
          "WM217",
          "WM218",
          "WM219",
          "WM220",
          "WM223",
          "WM224",
          "WM225",
          "WM226",
          "WM230",
          "WM231",
          "WM232",
          "WM233",
          "WM234",
          "WM235",
          "WM236",
          "WM227",
          "WM237",
          "WM238",
          "WM239",
          "WM241",
          "WM242",
          "WM243",
          "WM244",
          "WM246",
          "WM247",
          "WM248",
          "WM249",
          "WM251",
          "WM253",
          "WM258",
          "WM259",
          "WM260",
          "WM261",
          "WM262"
         ],
         "type": "splom"
        },
        {
         "diagonal": {
          "visible": false
         },
         "dimensions": [
          {
           "label": "RandomGlucose",
           "values": [
            4.3,
            5.2,
            5.3,
            4.9,
            4.3,
            4.3,
            5.2,
            5.2,
            4.5,
            4,
            5.2,
            4.9,
            4.2,
            4.6,
            4.7,
            7.8,
            4.3,
            5.2,
            4.4,
            4.3,
            5.6,
            4.3,
            4.7,
            4.3,
            7.3,
            5
           ]
          },
          {
           "label": "HbA1C",
           "values": [
            37,
            36,
            43,
            36,
            36,
            33,
            41,
            37,
            40,
            34,
            35,
            39,
            37,
            36,
            37,
            46,
            41,
            31,
            35,
            41,
            36,
            42,
            42,
            39,
            47,
            35
           ]
          },
          {
           "label": "eGFR",
           "values": [
            161.04534705882352,
            85.06101176470588,
            180.42883516483514,
            84.88108108108108,
            103.76858823529412,
            100.76274418604653,
            104.40477108433737,
            132.63348148148148,
            99.17393258426966,
            128.865,
            251.715,
            121.71748314606744,
            99.85363636363635,
            106.78539130434783,
            107.6138181818182,
            144.28186046511627,
            123.66045652173912,
            85.73672093023256,
            137.60587951807227,
            123.984,
            89.14353488372092,
            116.71976470588235,
            136.9630625,
            135.096,
            99.7139294117647,
            129.15
           ]
          },
          {
           "label": "Hb",
           "values": [
            111,
            125,
            117,
            129,
            123,
            111,
            126,
            114,
            119,
            118,
            122,
            105,
            130,
            129,
            139,
            126,
            129,
            129,
            112,
            130,
            138,
            123,
            125,
            139,
            122,
            113
           ]
          },
          {
           "label": "ALT",
           "values": [
            null,
            null,
            null,
            null,
            null,
            null,
            null,
            null,
            null,
            null,
            39,
            15,
            25,
            69,
            null,
            71,
            38,
            22,
            15,
            41,
            38,
            14,
            12,
            52,
            21,
            47
           ]
          },
          {
           "label": "Creatinine",
           "values": [
            85,
            85,
            91,
            111,
            85,
            86,
            83,
            81,
            89,
            82,
            82,
            89,
            88,
            92,
            88,
            86,
            92,
            86,
            83,
            85,
            86,
            85,
            96,
            82,
            85,
            90
           ]
          },
          {
           "label": "ACR",
           "values": [
            6.2,
            8.6,
            1.3,
            2.7,
            1.9,
            20.7,
            1.3,
            1.9,
            1,
            0.5,
            3.4,
            null,
            0.8,
            3.6,
            1.1,
            0.9,
            0.8,
            0.7,
            1.1,
            0.4,
            0.5,
            0.5,
            0.9,
            0.6,
            1.5,
            7.7
           ]
          },
          {
           "label": "Age",
           "values": [
            37,
            43,
            37,
            40,
            39,
            37,
            37,
            37,
            36,
            19,
            43,
            39,
            46,
            36,
            44,
            36,
            37,
            37,
            34,
            35,
            34,
            31,
            27,
            36,
            33,
            35
           ]
          }
         ],
         "marker": {
          "color": 1,
          "line": {
           "color": "white",
           "width": 0.5
          },
          "showscale": false
         },
         "name": "Creatinine >  80",
         "text": [
          "WM016",
          "WM026",
          "WM033",
          "WM078",
          "WM088",
          "WM099",
          "WM103",
          "WM101",
          "WM122",
          "WM135",
          "WM155",
          "WM161",
          "WM180",
          "KM187",
          "WM197",
          "WM198",
          "WM205",
          "WM212",
          "WM213",
          "WM216",
          "WM229",
          "WM240",
          "WM250",
          "WM252",
          "WM254",
          "WM256"
         ],
         "type": "splom"
        }
       ],
       "layout": {
        "height": 1000,
        "showlegend": true,
        "template": {
         "data": {
          "bar": [
           {
            "error_x": {
             "color": "#2a3f5f"
            },
            "error_y": {
             "color": "#2a3f5f"
            },
            "marker": {
             "line": {
              "color": "#E5ECF6",
              "width": 0.5
             },
             "pattern": {
              "fillmode": "overlay",
              "size": 10,
              "solidity": 0.2
             }
            },
            "type": "bar"
           }
          ],
          "barpolar": [
           {
            "marker": {
             "line": {
              "color": "#E5ECF6",
              "width": 0.5
             },
             "pattern": {
              "fillmode": "overlay",
              "size": 10,
              "solidity": 0.2
             }
            },
            "type": "barpolar"
           }
          ],
          "carpet": [
           {
            "aaxis": {
             "endlinecolor": "#2a3f5f",
             "gridcolor": "white",
             "linecolor": "white",
             "minorgridcolor": "white",
             "startlinecolor": "#2a3f5f"
            },
            "baxis": {
             "endlinecolor": "#2a3f5f",
             "gridcolor": "white",
             "linecolor": "white",
             "minorgridcolor": "white",
             "startlinecolor": "#2a3f5f"
            },
            "type": "carpet"
           }
          ],
          "choropleth": [
           {
            "colorbar": {
             "outlinewidth": 0,
             "ticks": ""
            },
            "type": "choropleth"
           }
          ],
          "contour": [
           {
            "colorbar": {
             "outlinewidth": 0,
             "ticks": ""
            },
            "colorscale": [
             [
              0,
              "#0d0887"
             ],
             [
              0.1111111111111111,
              "#46039f"
             ],
             [
              0.2222222222222222,
              "#7201a8"
             ],
             [
              0.3333333333333333,
              "#9c179e"
             ],
             [
              0.4444444444444444,
              "#bd3786"
             ],
             [
              0.5555555555555556,
              "#d8576b"
             ],
             [
              0.6666666666666666,
              "#ed7953"
             ],
             [
              0.7777777777777778,
              "#fb9f3a"
             ],
             [
              0.8888888888888888,
              "#fdca26"
             ],
             [
              1,
              "#f0f921"
             ]
            ],
            "type": "contour"
           }
          ],
          "contourcarpet": [
           {
            "colorbar": {
             "outlinewidth": 0,
             "ticks": ""
            },
            "type": "contourcarpet"
           }
          ],
          "heatmap": [
           {
            "colorbar": {
             "outlinewidth": 0,
             "ticks": ""
            },
            "colorscale": [
             [
              0,
              "#0d0887"
             ],
             [
              0.1111111111111111,
              "#46039f"
             ],
             [
              0.2222222222222222,
              "#7201a8"
             ],
             [
              0.3333333333333333,
              "#9c179e"
             ],
             [
              0.4444444444444444,
              "#bd3786"
             ],
             [
              0.5555555555555556,
              "#d8576b"
             ],
             [
              0.6666666666666666,
              "#ed7953"
             ],
             [
              0.7777777777777778,
              "#fb9f3a"
             ],
             [
              0.8888888888888888,
              "#fdca26"
             ],
             [
              1,
              "#f0f921"
             ]
            ],
            "type": "heatmap"
           }
          ],
          "heatmapgl": [
           {
            "colorbar": {
             "outlinewidth": 0,
             "ticks": ""
            },
            "colorscale": [
             [
              0,
              "#0d0887"
             ],
             [
              0.1111111111111111,
              "#46039f"
             ],
             [
              0.2222222222222222,
              "#7201a8"
             ],
             [
              0.3333333333333333,
              "#9c179e"
             ],
             [
              0.4444444444444444,
              "#bd3786"
             ],
             [
              0.5555555555555556,
              "#d8576b"
             ],
             [
              0.6666666666666666,
              "#ed7953"
             ],
             [
              0.7777777777777778,
              "#fb9f3a"
             ],
             [
              0.8888888888888888,
              "#fdca26"
             ],
             [
              1,
              "#f0f921"
             ]
            ],
            "type": "heatmapgl"
           }
          ],
          "histogram": [
           {
            "marker": {
             "pattern": {
              "fillmode": "overlay",
              "size": 10,
              "solidity": 0.2
             }
            },
            "type": "histogram"
           }
          ],
          "histogram2d": [
           {
            "colorbar": {
             "outlinewidth": 0,
             "ticks": ""
            },
            "colorscale": [
             [
              0,
              "#0d0887"
             ],
             [
              0.1111111111111111,
              "#46039f"
             ],
             [
              0.2222222222222222,
              "#7201a8"
             ],
             [
              0.3333333333333333,
              "#9c179e"
             ],
             [
              0.4444444444444444,
              "#bd3786"
             ],
             [
              0.5555555555555556,
              "#d8576b"
             ],
             [
              0.6666666666666666,
              "#ed7953"
             ],
             [
              0.7777777777777778,
              "#fb9f3a"
             ],
             [
              0.8888888888888888,
              "#fdca26"
             ],
             [
              1,
              "#f0f921"
             ]
            ],
            "type": "histogram2d"
           }
          ],
          "histogram2dcontour": [
           {
            "colorbar": {
             "outlinewidth": 0,
             "ticks": ""
            },
            "colorscale": [
             [
              0,
              "#0d0887"
             ],
             [
              0.1111111111111111,
              "#46039f"
             ],
             [
              0.2222222222222222,
              "#7201a8"
             ],
             [
              0.3333333333333333,
              "#9c179e"
             ],
             [
              0.4444444444444444,
              "#bd3786"
             ],
             [
              0.5555555555555556,
              "#d8576b"
             ],
             [
              0.6666666666666666,
              "#ed7953"
             ],
             [
              0.7777777777777778,
              "#fb9f3a"
             ],
             [
              0.8888888888888888,
              "#fdca26"
             ],
             [
              1,
              "#f0f921"
             ]
            ],
            "type": "histogram2dcontour"
           }
          ],
          "mesh3d": [
           {
            "colorbar": {
             "outlinewidth": 0,
             "ticks": ""
            },
            "type": "mesh3d"
           }
          ],
          "parcoords": [
           {
            "line": {
             "colorbar": {
              "outlinewidth": 0,
              "ticks": ""
             }
            },
            "type": "parcoords"
           }
          ],
          "pie": [
           {
            "automargin": true,
            "type": "pie"
           }
          ],
          "scatter": [
           {
            "fillpattern": {
             "fillmode": "overlay",
             "size": 10,
             "solidity": 0.2
            },
            "type": "scatter"
           }
          ],
          "scatter3d": [
           {
            "line": {
             "colorbar": {
              "outlinewidth": 0,
              "ticks": ""
             }
            },
            "marker": {
             "colorbar": {
              "outlinewidth": 0,
              "ticks": ""
             }
            },
            "type": "scatter3d"
           }
          ],
          "scattercarpet": [
           {
            "marker": {
             "colorbar": {
              "outlinewidth": 0,
              "ticks": ""
             }
            },
            "type": "scattercarpet"
           }
          ],
          "scattergeo": [
           {
            "marker": {
             "colorbar": {
              "outlinewidth": 0,
              "ticks": ""
             }
            },
            "type": "scattergeo"
           }
          ],
          "scattergl": [
           {
            "marker": {
             "colorbar": {
              "outlinewidth": 0,
              "ticks": ""
             }
            },
            "type": "scattergl"
           }
          ],
          "scattermapbox": [
           {
            "marker": {
             "colorbar": {
              "outlinewidth": 0,
              "ticks": ""
             }
            },
            "type": "scattermapbox"
           }
          ],
          "scatterpolar": [
           {
            "marker": {
             "colorbar": {
              "outlinewidth": 0,
              "ticks": ""
             }
            },
            "type": "scatterpolar"
           }
          ],
          "scatterpolargl": [
           {
            "marker": {
             "colorbar": {
              "outlinewidth": 0,
              "ticks": ""
             }
            },
            "type": "scatterpolargl"
           }
          ],
          "scatterternary": [
           {
            "marker": {
             "colorbar": {
              "outlinewidth": 0,
              "ticks": ""
             }
            },
            "type": "scatterternary"
           }
          ],
          "surface": [
           {
            "colorbar": {
             "outlinewidth": 0,
             "ticks": ""
            },
            "colorscale": [
             [
              0,
              "#0d0887"
             ],
             [
              0.1111111111111111,
              "#46039f"
             ],
             [
              0.2222222222222222,
              "#7201a8"
             ],
             [
              0.3333333333333333,
              "#9c179e"
             ],
             [
              0.4444444444444444,
              "#bd3786"
             ],
             [
              0.5555555555555556,
              "#d8576b"
             ],
             [
              0.6666666666666666,
              "#ed7953"
             ],
             [
              0.7777777777777778,
              "#fb9f3a"
             ],
             [
              0.8888888888888888,
              "#fdca26"
             ],
             [
              1,
              "#f0f921"
             ]
            ],
            "type": "surface"
           }
          ],
          "table": [
           {
            "cells": {
             "fill": {
              "color": "#EBF0F8"
             },
             "line": {
              "color": "white"
             }
            },
            "header": {
             "fill": {
              "color": "#C8D4E3"
             },
             "line": {
              "color": "white"
             }
            },
            "type": "table"
           }
          ]
         },
         "layout": {
          "annotationdefaults": {
           "arrowcolor": "#2a3f5f",
           "arrowhead": 0,
           "arrowwidth": 1
          },
          "autotypenumbers": "strict",
          "coloraxis": {
           "colorbar": {
            "outlinewidth": 0,
            "ticks": ""
           }
          },
          "colorscale": {
           "diverging": [
            [
             0,
             "#8e0152"
            ],
            [
             0.1,
             "#c51b7d"
            ],
            [
             0.2,
             "#de77ae"
            ],
            [
             0.3,
             "#f1b6da"
            ],
            [
             0.4,
             "#fde0ef"
            ],
            [
             0.5,
             "#f7f7f7"
            ],
            [
             0.6,
             "#e6f5d0"
            ],
            [
             0.7,
             "#b8e186"
            ],
            [
             0.8,
             "#7fbc41"
            ],
            [
             0.9,
             "#4d9221"
            ],
            [
             1,
             "#276419"
            ]
           ],
           "sequential": [
            [
             0,
             "#0d0887"
            ],
            [
             0.1111111111111111,
             "#46039f"
            ],
            [
             0.2222222222222222,
             "#7201a8"
            ],
            [
             0.3333333333333333,
             "#9c179e"
            ],
            [
             0.4444444444444444,
             "#bd3786"
            ],
            [
             0.5555555555555556,
             "#d8576b"
            ],
            [
             0.6666666666666666,
             "#ed7953"
            ],
            [
             0.7777777777777778,
             "#fb9f3a"
            ],
            [
             0.8888888888888888,
             "#fdca26"
            ],
            [
             1,
             "#f0f921"
            ]
           ],
           "sequentialminus": [
            [
             0,
             "#0d0887"
            ],
            [
             0.1111111111111111,
             "#46039f"
            ],
            [
             0.2222222222222222,
             "#7201a8"
            ],
            [
             0.3333333333333333,
             "#9c179e"
            ],
            [
             0.4444444444444444,
             "#bd3786"
            ],
            [
             0.5555555555555556,
             "#d8576b"
            ],
            [
             0.6666666666666666,
             "#ed7953"
            ],
            [
             0.7777777777777778,
             "#fb9f3a"
            ],
            [
             0.8888888888888888,
             "#fdca26"
            ],
            [
             1,
             "#f0f921"
            ]
           ]
          },
          "colorway": [
           "#636efa",
           "#EF553B",
           "#00cc96",
           "#ab63fa",
           "#FFA15A",
           "#19d3f3",
           "#FF6692",
           "#B6E880",
           "#FF97FF",
           "#FECB52"
          ],
          "font": {
           "color": "#2a3f5f"
          },
          "geo": {
           "bgcolor": "white",
           "lakecolor": "white",
           "landcolor": "#E5ECF6",
           "showlakes": true,
           "showland": true,
           "subunitcolor": "white"
          },
          "hoverlabel": {
           "align": "left"
          },
          "hovermode": "closest",
          "mapbox": {
           "style": "light"
          },
          "paper_bgcolor": "white",
          "plot_bgcolor": "#E5ECF6",
          "polar": {
           "angularaxis": {
            "gridcolor": "white",
            "linecolor": "white",
            "ticks": ""
           },
           "bgcolor": "#E5ECF6",
           "radialaxis": {
            "gridcolor": "white",
            "linecolor": "white",
            "ticks": ""
           }
          },
          "scene": {
           "xaxis": {
            "backgroundcolor": "#E5ECF6",
            "gridcolor": "white",
            "gridwidth": 2,
            "linecolor": "white",
            "showbackground": true,
            "ticks": "",
            "zerolinecolor": "white"
           },
           "yaxis": {
            "backgroundcolor": "#E5ECF6",
            "gridcolor": "white",
            "gridwidth": 2,
            "linecolor": "white",
            "showbackground": true,
            "ticks": "",
            "zerolinecolor": "white"
           },
           "zaxis": {
            "backgroundcolor": "#E5ECF6",
            "gridcolor": "white",
            "gridwidth": 2,
            "linecolor": "white",
            "showbackground": true,
            "ticks": "",
            "zerolinecolor": "white"
           }
          },
          "shapedefaults": {
           "line": {
            "color": "#2a3f5f"
           }
          },
          "ternary": {
           "aaxis": {
            "gridcolor": "white",
            "linecolor": "white",
            "ticks": ""
           },
           "baxis": {
            "gridcolor": "white",
            "linecolor": "white",
            "ticks": ""
           },
           "bgcolor": "#E5ECF6",
           "caxis": {
            "gridcolor": "white",
            "linecolor": "white",
            "ticks": ""
           }
          },
          "title": {
           "x": 0.05
          },
          "xaxis": {
           "automargin": true,
           "gridcolor": "white",
           "linecolor": "white",
           "ticks": "",
           "title": {
            "standoff": 15
           },
           "zerolinecolor": "white",
           "zerolinewidth": 2
          },
          "yaxis": {
           "automargin": true,
           "gridcolor": "white",
           "linecolor": "white",
           "ticks": "",
           "title": {
            "standoff": 15
           },
           "zerolinecolor": "white",
           "zerolinewidth": 2
          }
         }
        },
        "title": {
         "text": "Creatinine > 80<br><sup><i>(n=26, 11.66%)</i></sup>"
        },
        "width": 1000
       }
      }
     },
     "metadata": {},
     "output_type": "display_data"
    }
   ],
   "source": [
    "\n",
    "df[\"Creat80\"] = 0\n",
    "df.loc[df['Creatinine'] > 80, 'Creat80'] = 1\n",
    "sumc = df[\"Creat80\"].sum()\n",
    "print(f\"Creatinine > 80: {round(sumc / len(df), 3)}\")\n",
    "\n",
    "fig = go.Figure()\n",
    "\n",
    "for tra in [0, 1]:\n",
    "    dft = df[df['Creat80']==tra]\n",
    "\n",
    "    if tra == 0:\n",
    "        name = 'Creatinine <= 80'\n",
    "\n",
    "    else:\n",
    "        name = 'Creatinine >  80'\n",
    "\n",
    "    fig.add_trace(go.Splom(\n",
    "                    dimensions=[\n",
    "                                dict(label='RandomGlucose',\n",
    "                                    values=dft['RandomGlucose']),\n",
    "                                dict(label='HbA1C',\n",
    "                                    values=dft['HbA1C']),\n",
    "                                dict(label='eGFR',\n",
    "                                    values=dft['eGFR']),\n",
    "                                dict(label='Hb',\n",
    "                                    values=dft['Hb']),\n",
    "                                dict(label='ALT',\n",
    "                                    values=dft['ALT']),\n",
    "                                dict(label='Creatinine',\n",
    "                                    values=dft['Creatinine']),\n",
    "                                dict(label='ACR',\n",
    "                                    values=dft['ACR']),\n",
    "                                dict(label='Age',\n",
    "                                    values=dft['Age']),\n",
    "                                    ],\n",
    "                    diagonal_visible=False, # remove plots on diagonal\n",
    "                    text=dft['Id'],\n",
    "                    name=name,\n",
    "                    marker=dict(color=tra,\n",
    "                                showscale=False, # colors encode categorical variables\n",
    "                                line_color='white', line_width=0.5)\n",
    "                    ))\n",
    "\n",
    "\n",
    "fig.update_layout(\n",
    "    #title='Creatinine > 80',\n",
    "    title=f\"Creatinine > 80<br><sup><i>(n={sumc}, {round(sumc / len(df) * 100, 2)}%)</i></sup>\",\n",
    "    showlegend=True,\n",
    "    width=1000,\n",
    "    height=1000,\n",
    ")\n",
    "\n",
    "fig.show()\n"
   ]
  },
  {
   "attachments": {},
   "cell_type": "markdown",
   "metadata": {},
   "source": [
    "#### Creatinine by race"
   ]
  },
  {
   "cell_type": "code",
   "execution_count": 145,
   "metadata": {},
   "outputs": [
    {
     "data": {
      "application/vnd.plotly.v1+json": {
       "config": {
        "plotlyServerURL": "https://plot.ly"
       },
       "data": [
        {
         "name": "WHITE<br><sup><i>(n=104)</i></sup>",
         "notched": true,
         "type": "box",
         "y": [
          69,
          47,
          59,
          59,
          71,
          66,
          75,
          58,
          62,
          85,
          62,
          61,
          73,
          58,
          74,
          78,
          67,
          65,
          64,
          72,
          64,
          53,
          76,
          75,
          55,
          63,
          71,
          68,
          111,
          54,
          60,
          57,
          85,
          55,
          60,
          63,
          52,
          76,
          70,
          79,
          83,
          58,
          81,
          76,
          69,
          59,
          60,
          70,
          66,
          72,
          65,
          59,
          82,
          75,
          62,
          69,
          58,
          71,
          61,
          60,
          72,
          82,
          66,
          null,
          69,
          64,
          78,
          67,
          60,
          69,
          63,
          71,
          49,
          66,
          65,
          62,
          58,
          58,
          69,
          88,
          76,
          59,
          58,
          59,
          61,
          85,
          77,
          72,
          67,
          73,
          86,
          47,
          63,
          65,
          69,
          58,
          70,
          80,
          72,
          72,
          82,
          64,
          62,
          63
         ]
        },
        {
         "name": "MIXED<br><sup><i>(n=12)</i></sup>",
         "notched": true,
         "type": "box",
         "y": [
          66,
          52,
          52,
          60,
          65,
          75,
          60,
          60,
          53,
          66,
          86,
          49
         ]
        },
        {
         "name": "BLACK<br><sup><i>(n=51)</i></sup>",
         "notched": true,
         "type": "box",
         "y": [
          63,
          65,
          80,
          85,
          78,
          46,
          80,
          91,
          77,
          75,
          54,
          70,
          60,
          80,
          59,
          52,
          60,
          73,
          60,
          66,
          86,
          70,
          75,
          68,
          63,
          66,
          64,
          73,
          79,
          63,
          89,
          88,
          54,
          62,
          57,
          76,
          60,
          92,
          86,
          83,
          61,
          77,
          63,
          77,
          85,
          96,
          64,
          90,
          54,
          59,
          65
         ]
        },
        {
         "name": "ASIAN<br><sup><i>(n=56)</i></sup>",
         "notched": true,
         "type": "box",
         "y": [
          58,
          65,
          58,
          59,
          39,
          49,
          68,
          52,
          58,
          67,
          52,
          62,
          57,
          70,
          66,
          69,
          54,
          51,
          68,
          44,
          56,
          89,
          71,
          60,
          65,
          62,
          61,
          68,
          69,
          65,
          54,
          64,
          69,
          50,
          62,
          92,
          61,
          61,
          54,
          66,
          65,
          64,
          60,
          60,
          59,
          54,
          74,
          75,
          53,
          65,
          63,
          52,
          59,
          56,
          56,
          85
         ]
        }
       ],
       "layout": {
        "showlegend": false,
        "template": {
         "data": {
          "bar": [
           {
            "error_x": {
             "color": "#2a3f5f"
            },
            "error_y": {
             "color": "#2a3f5f"
            },
            "marker": {
             "line": {
              "color": "#E5ECF6",
              "width": 0.5
             },
             "pattern": {
              "fillmode": "overlay",
              "size": 10,
              "solidity": 0.2
             }
            },
            "type": "bar"
           }
          ],
          "barpolar": [
           {
            "marker": {
             "line": {
              "color": "#E5ECF6",
              "width": 0.5
             },
             "pattern": {
              "fillmode": "overlay",
              "size": 10,
              "solidity": 0.2
             }
            },
            "type": "barpolar"
           }
          ],
          "carpet": [
           {
            "aaxis": {
             "endlinecolor": "#2a3f5f",
             "gridcolor": "white",
             "linecolor": "white",
             "minorgridcolor": "white",
             "startlinecolor": "#2a3f5f"
            },
            "baxis": {
             "endlinecolor": "#2a3f5f",
             "gridcolor": "white",
             "linecolor": "white",
             "minorgridcolor": "white",
             "startlinecolor": "#2a3f5f"
            },
            "type": "carpet"
           }
          ],
          "choropleth": [
           {
            "colorbar": {
             "outlinewidth": 0,
             "ticks": ""
            },
            "type": "choropleth"
           }
          ],
          "contour": [
           {
            "colorbar": {
             "outlinewidth": 0,
             "ticks": ""
            },
            "colorscale": [
             [
              0,
              "#0d0887"
             ],
             [
              0.1111111111111111,
              "#46039f"
             ],
             [
              0.2222222222222222,
              "#7201a8"
             ],
             [
              0.3333333333333333,
              "#9c179e"
             ],
             [
              0.4444444444444444,
              "#bd3786"
             ],
             [
              0.5555555555555556,
              "#d8576b"
             ],
             [
              0.6666666666666666,
              "#ed7953"
             ],
             [
              0.7777777777777778,
              "#fb9f3a"
             ],
             [
              0.8888888888888888,
              "#fdca26"
             ],
             [
              1,
              "#f0f921"
             ]
            ],
            "type": "contour"
           }
          ],
          "contourcarpet": [
           {
            "colorbar": {
             "outlinewidth": 0,
             "ticks": ""
            },
            "type": "contourcarpet"
           }
          ],
          "heatmap": [
           {
            "colorbar": {
             "outlinewidth": 0,
             "ticks": ""
            },
            "colorscale": [
             [
              0,
              "#0d0887"
             ],
             [
              0.1111111111111111,
              "#46039f"
             ],
             [
              0.2222222222222222,
              "#7201a8"
             ],
             [
              0.3333333333333333,
              "#9c179e"
             ],
             [
              0.4444444444444444,
              "#bd3786"
             ],
             [
              0.5555555555555556,
              "#d8576b"
             ],
             [
              0.6666666666666666,
              "#ed7953"
             ],
             [
              0.7777777777777778,
              "#fb9f3a"
             ],
             [
              0.8888888888888888,
              "#fdca26"
             ],
             [
              1,
              "#f0f921"
             ]
            ],
            "type": "heatmap"
           }
          ],
          "heatmapgl": [
           {
            "colorbar": {
             "outlinewidth": 0,
             "ticks": ""
            },
            "colorscale": [
             [
              0,
              "#0d0887"
             ],
             [
              0.1111111111111111,
              "#46039f"
             ],
             [
              0.2222222222222222,
              "#7201a8"
             ],
             [
              0.3333333333333333,
              "#9c179e"
             ],
             [
              0.4444444444444444,
              "#bd3786"
             ],
             [
              0.5555555555555556,
              "#d8576b"
             ],
             [
              0.6666666666666666,
              "#ed7953"
             ],
             [
              0.7777777777777778,
              "#fb9f3a"
             ],
             [
              0.8888888888888888,
              "#fdca26"
             ],
             [
              1,
              "#f0f921"
             ]
            ],
            "type": "heatmapgl"
           }
          ],
          "histogram": [
           {
            "marker": {
             "pattern": {
              "fillmode": "overlay",
              "size": 10,
              "solidity": 0.2
             }
            },
            "type": "histogram"
           }
          ],
          "histogram2d": [
           {
            "colorbar": {
             "outlinewidth": 0,
             "ticks": ""
            },
            "colorscale": [
             [
              0,
              "#0d0887"
             ],
             [
              0.1111111111111111,
              "#46039f"
             ],
             [
              0.2222222222222222,
              "#7201a8"
             ],
             [
              0.3333333333333333,
              "#9c179e"
             ],
             [
              0.4444444444444444,
              "#bd3786"
             ],
             [
              0.5555555555555556,
              "#d8576b"
             ],
             [
              0.6666666666666666,
              "#ed7953"
             ],
             [
              0.7777777777777778,
              "#fb9f3a"
             ],
             [
              0.8888888888888888,
              "#fdca26"
             ],
             [
              1,
              "#f0f921"
             ]
            ],
            "type": "histogram2d"
           }
          ],
          "histogram2dcontour": [
           {
            "colorbar": {
             "outlinewidth": 0,
             "ticks": ""
            },
            "colorscale": [
             [
              0,
              "#0d0887"
             ],
             [
              0.1111111111111111,
              "#46039f"
             ],
             [
              0.2222222222222222,
              "#7201a8"
             ],
             [
              0.3333333333333333,
              "#9c179e"
             ],
             [
              0.4444444444444444,
              "#bd3786"
             ],
             [
              0.5555555555555556,
              "#d8576b"
             ],
             [
              0.6666666666666666,
              "#ed7953"
             ],
             [
              0.7777777777777778,
              "#fb9f3a"
             ],
             [
              0.8888888888888888,
              "#fdca26"
             ],
             [
              1,
              "#f0f921"
             ]
            ],
            "type": "histogram2dcontour"
           }
          ],
          "mesh3d": [
           {
            "colorbar": {
             "outlinewidth": 0,
             "ticks": ""
            },
            "type": "mesh3d"
           }
          ],
          "parcoords": [
           {
            "line": {
             "colorbar": {
              "outlinewidth": 0,
              "ticks": ""
             }
            },
            "type": "parcoords"
           }
          ],
          "pie": [
           {
            "automargin": true,
            "type": "pie"
           }
          ],
          "scatter": [
           {
            "fillpattern": {
             "fillmode": "overlay",
             "size": 10,
             "solidity": 0.2
            },
            "type": "scatter"
           }
          ],
          "scatter3d": [
           {
            "line": {
             "colorbar": {
              "outlinewidth": 0,
              "ticks": ""
             }
            },
            "marker": {
             "colorbar": {
              "outlinewidth": 0,
              "ticks": ""
             }
            },
            "type": "scatter3d"
           }
          ],
          "scattercarpet": [
           {
            "marker": {
             "colorbar": {
              "outlinewidth": 0,
              "ticks": ""
             }
            },
            "type": "scattercarpet"
           }
          ],
          "scattergeo": [
           {
            "marker": {
             "colorbar": {
              "outlinewidth": 0,
              "ticks": ""
             }
            },
            "type": "scattergeo"
           }
          ],
          "scattergl": [
           {
            "marker": {
             "colorbar": {
              "outlinewidth": 0,
              "ticks": ""
             }
            },
            "type": "scattergl"
           }
          ],
          "scattermapbox": [
           {
            "marker": {
             "colorbar": {
              "outlinewidth": 0,
              "ticks": ""
             }
            },
            "type": "scattermapbox"
           }
          ],
          "scatterpolar": [
           {
            "marker": {
             "colorbar": {
              "outlinewidth": 0,
              "ticks": ""
             }
            },
            "type": "scatterpolar"
           }
          ],
          "scatterpolargl": [
           {
            "marker": {
             "colorbar": {
              "outlinewidth": 0,
              "ticks": ""
             }
            },
            "type": "scatterpolargl"
           }
          ],
          "scatterternary": [
           {
            "marker": {
             "colorbar": {
              "outlinewidth": 0,
              "ticks": ""
             }
            },
            "type": "scatterternary"
           }
          ],
          "surface": [
           {
            "colorbar": {
             "outlinewidth": 0,
             "ticks": ""
            },
            "colorscale": [
             [
              0,
              "#0d0887"
             ],
             [
              0.1111111111111111,
              "#46039f"
             ],
             [
              0.2222222222222222,
              "#7201a8"
             ],
             [
              0.3333333333333333,
              "#9c179e"
             ],
             [
              0.4444444444444444,
              "#bd3786"
             ],
             [
              0.5555555555555556,
              "#d8576b"
             ],
             [
              0.6666666666666666,
              "#ed7953"
             ],
             [
              0.7777777777777778,
              "#fb9f3a"
             ],
             [
              0.8888888888888888,
              "#fdca26"
             ],
             [
              1,
              "#f0f921"
             ]
            ],
            "type": "surface"
           }
          ],
          "table": [
           {
            "cells": {
             "fill": {
              "color": "#EBF0F8"
             },
             "line": {
              "color": "white"
             }
            },
            "header": {
             "fill": {
              "color": "#C8D4E3"
             },
             "line": {
              "color": "white"
             }
            },
            "type": "table"
           }
          ]
         },
         "layout": {
          "annotationdefaults": {
           "arrowcolor": "#2a3f5f",
           "arrowhead": 0,
           "arrowwidth": 1
          },
          "autotypenumbers": "strict",
          "coloraxis": {
           "colorbar": {
            "outlinewidth": 0,
            "ticks": ""
           }
          },
          "colorscale": {
           "diverging": [
            [
             0,
             "#8e0152"
            ],
            [
             0.1,
             "#c51b7d"
            ],
            [
             0.2,
             "#de77ae"
            ],
            [
             0.3,
             "#f1b6da"
            ],
            [
             0.4,
             "#fde0ef"
            ],
            [
             0.5,
             "#f7f7f7"
            ],
            [
             0.6,
             "#e6f5d0"
            ],
            [
             0.7,
             "#b8e186"
            ],
            [
             0.8,
             "#7fbc41"
            ],
            [
             0.9,
             "#4d9221"
            ],
            [
             1,
             "#276419"
            ]
           ],
           "sequential": [
            [
             0,
             "#0d0887"
            ],
            [
             0.1111111111111111,
             "#46039f"
            ],
            [
             0.2222222222222222,
             "#7201a8"
            ],
            [
             0.3333333333333333,
             "#9c179e"
            ],
            [
             0.4444444444444444,
             "#bd3786"
            ],
            [
             0.5555555555555556,
             "#d8576b"
            ],
            [
             0.6666666666666666,
             "#ed7953"
            ],
            [
             0.7777777777777778,
             "#fb9f3a"
            ],
            [
             0.8888888888888888,
             "#fdca26"
            ],
            [
             1,
             "#f0f921"
            ]
           ],
           "sequentialminus": [
            [
             0,
             "#0d0887"
            ],
            [
             0.1111111111111111,
             "#46039f"
            ],
            [
             0.2222222222222222,
             "#7201a8"
            ],
            [
             0.3333333333333333,
             "#9c179e"
            ],
            [
             0.4444444444444444,
             "#bd3786"
            ],
            [
             0.5555555555555556,
             "#d8576b"
            ],
            [
             0.6666666666666666,
             "#ed7953"
            ],
            [
             0.7777777777777778,
             "#fb9f3a"
            ],
            [
             0.8888888888888888,
             "#fdca26"
            ],
            [
             1,
             "#f0f921"
            ]
           ]
          },
          "colorway": [
           "#636efa",
           "#EF553B",
           "#00cc96",
           "#ab63fa",
           "#FFA15A",
           "#19d3f3",
           "#FF6692",
           "#B6E880",
           "#FF97FF",
           "#FECB52"
          ],
          "font": {
           "color": "#2a3f5f"
          },
          "geo": {
           "bgcolor": "white",
           "lakecolor": "white",
           "landcolor": "#E5ECF6",
           "showlakes": true,
           "showland": true,
           "subunitcolor": "white"
          },
          "hoverlabel": {
           "align": "left"
          },
          "hovermode": "closest",
          "mapbox": {
           "style": "light"
          },
          "paper_bgcolor": "white",
          "plot_bgcolor": "#E5ECF6",
          "polar": {
           "angularaxis": {
            "gridcolor": "white",
            "linecolor": "white",
            "ticks": ""
           },
           "bgcolor": "#E5ECF6",
           "radialaxis": {
            "gridcolor": "white",
            "linecolor": "white",
            "ticks": ""
           }
          },
          "scene": {
           "xaxis": {
            "backgroundcolor": "#E5ECF6",
            "gridcolor": "white",
            "gridwidth": 2,
            "linecolor": "white",
            "showbackground": true,
            "ticks": "",
            "zerolinecolor": "white"
           },
           "yaxis": {
            "backgroundcolor": "#E5ECF6",
            "gridcolor": "white",
            "gridwidth": 2,
            "linecolor": "white",
            "showbackground": true,
            "ticks": "",
            "zerolinecolor": "white"
           },
           "zaxis": {
            "backgroundcolor": "#E5ECF6",
            "gridcolor": "white",
            "gridwidth": 2,
            "linecolor": "white",
            "showbackground": true,
            "ticks": "",
            "zerolinecolor": "white"
           }
          },
          "shapedefaults": {
           "line": {
            "color": "#2a3f5f"
           }
          },
          "ternary": {
           "aaxis": {
            "gridcolor": "white",
            "linecolor": "white",
            "ticks": ""
           },
           "baxis": {
            "gridcolor": "white",
            "linecolor": "white",
            "ticks": ""
           },
           "bgcolor": "#E5ECF6",
           "caxis": {
            "gridcolor": "white",
            "linecolor": "white",
            "ticks": ""
           }
          },
          "title": {
           "x": 0.05
          },
          "xaxis": {
           "automargin": true,
           "gridcolor": "white",
           "linecolor": "white",
           "ticks": "",
           "title": {
            "standoff": 15
           },
           "zerolinecolor": "white",
           "zerolinewidth": 2
          },
          "yaxis": {
           "automargin": true,
           "gridcolor": "white",
           "linecolor": "white",
           "ticks": "",
           "title": {
            "standoff": 15
           },
           "zerolinecolor": "white",
           "zerolinewidth": 2
          }
         }
        },
        "title": {
         "text": "Creatinine spread by race<br><sup><i>(n=223)</i></sup>"
        }
       }
      }
     },
     "metadata": {},
     "output_type": "display_data"
    }
   ],
   "source": [
    "\n",
    "fig = go.Figure()\n",
    "\n",
    "for race in df.Race.unique():\n",
    "    dft = df[df['Race']==race]\n",
    "    name = f\"{race}<br><sup><i>(n={len(dft)})</i></sup>\"\n",
    "    fig.add_trace(go.Box(y=dft['Creatinine'], name = name,\n",
    "                         notched=True,\n",
    "                    #marker_color = 'lightseagreen'\n",
    "                    ))\n",
    "\n",
    "fig.update_layout(\n",
    "    title=f\"Creatinine spread by race<br><sup><i>(n={len(df)})</i></sup>\",\n",
    "    showlegend=False,\n",
    ")\n",
    "\n",
    "fig.show()"
   ]
  },
  {
   "attachments": {},
   "cell_type": "markdown",
   "metadata": {},
   "source": [
    "### eGFR < 90"
   ]
  },
  {
   "cell_type": "code",
   "execution_count": 146,
   "metadata": {},
   "outputs": [
    {
     "name": "stdout",
     "output_type": "stream",
     "text": [
      "eGFR < 90: 0.027\n"
     ]
    },
    {
     "data": {
      "application/vnd.plotly.v1+json": {
       "config": {
        "plotlyServerURL": "https://plot.ly"
       },
       "data": [
        {
         "diagonal": {
          "visible": false
         },
         "dimensions": [
          {
           "label": "RandomGlucose",
           "values": [
            3.5,
            4.6,
            4.4,
            6.1,
            4.8,
            5.3,
            5.3,
            3.8,
            4.4,
            4.2,
            4.2,
            4.3,
            4.5,
            4.5,
            4,
            4.4,
            5.4,
            5.2,
            4.5,
            4.5,
            4.5,
            4.8,
            3.9,
            4.6,
            5.4,
            4,
            5.3,
            4.6,
            4.2,
            5.3,
            5.7,
            5.2,
            5.1,
            4.3,
            5.7,
            7.7,
            4.8,
            5,
            4.9,
            4.5,
            4.9,
            4.8,
            5.2,
            4,
            5.9,
            4.4,
            3.8,
            null,
            null,
            4.9,
            4.9,
            4.8,
            4.8,
            4.9,
            5.6,
            4.6,
            4.5,
            4.5,
            4.5,
            5.3,
            4.6,
            5.2,
            4.7,
            5.1,
            null,
            4.7,
            7.1,
            5,
            5.9,
            4.4,
            4.3,
            4.5,
            4.6,
            5.8,
            4.7,
            4.6,
            4.1,
            4.2,
            4.3,
            4.5,
            5.3,
            4.3,
            5.2,
            5.5,
            4.2,
            5.2,
            3.1,
            5,
            4.4,
            4.7,
            4.7,
            3.9,
            5.3,
            5.6,
            5.1,
            5.1,
            2.9,
            4.5,
            5.4,
            4.5,
            4.9,
            5.1,
            4.4,
            4.9,
            4.3,
            5.3,
            4.4,
            4.3,
            5.2,
            3.3,
            4,
            4.8,
            10.2,
            4.7,
            4.1,
            4.2,
            4.5,
            4,
            3.8,
            4.6,
            4.8,
            5,
            4,
            4.3,
            4.5,
            4.1,
            5.2,
            4.9,
            4.8,
            null,
            4.8,
            5,
            5.3,
            4.9,
            5.9,
            6.5,
            4.8,
            4.2,
            4.7,
            3.9,
            3.9,
            4.1,
            4.9,
            4.1,
            4.5,
            4.2,
            4.8,
            5,
            4.5,
            8.8,
            6.8,
            4.6,
            5.1,
            4.4,
            3.8,
            5.1,
            4.2,
            4,
            4.5,
            4,
            4.7,
            7.8,
            4.5,
            4.6,
            4.2,
            4.4,
            4.4,
            4,
            4.3,
            6.6,
            4.2,
            4.9,
            5.6,
            4.7,
            3.8,
            4.4,
            5.7,
            4.3,
            4.3,
            3.9,
            4.6,
            4,
            4.5,
            3.8,
            4,
            4.4,
            4.6,
            7,
            4.7,
            3.5,
            4.4,
            3.6,
            5.3,
            3.6,
            5.3,
            5.3,
            4.3,
            4.7,
            4.6,
            4.4,
            4.4,
            4,
            5.4,
            5.2,
            4.4,
            4.6,
            4.7,
            4.7,
            4.3,
            6,
            7.3,
            5,
            6.2,
            4.7,
            4.5,
            4.2,
            3.8
           ]
          },
          {
           "label": "HbA1C",
           "values": [
            37,
            39,
            40,
            35,
            37,
            39,
            38,
            32,
            30,
            34,
            38,
            37,
            43,
            33,
            45,
            32,
            36,
            40,
            37,
            35,
            31,
            31,
            0,
            36,
            42,
            36,
            43,
            37,
            37,
            33,
            33,
            36,
            35,
            38,
            34,
            5.7,
            38,
            41,
            42,
            43,
            33,
            33,
            27,
            36,
            32,
            39,
            36,
            38,
            34,
            34,
            32,
            39,
            40,
            35,
            36,
            35,
            35,
            36,
            35,
            39,
            37,
            35,
            36,
            35,
            39,
            41,
            54,
            37,
            35,
            35,
            36,
            36,
            37,
            38,
            37,
            28,
            31,
            39,
            33,
            33,
            31,
            33,
            41,
            39,
            29,
            37,
            38,
            41,
            36,
            34,
            38,
            null,
            44,
            41,
            41,
            42,
            42,
            40,
            36,
            34,
            45,
            41,
            39,
            34,
            33,
            33,
            32,
            33,
            29,
            34,
            34,
            36,
            34,
            35,
            36,
            32,
            34,
            32,
            29,
            34,
            40,
            37,
            43,
            32,
            37,
            29,
            35,
            38,
            32,
            null,
            40,
            38,
            38,
            39,
            31,
            34,
            32,
            35,
            34,
            41,
            39,
            31,
            39,
            34,
            38,
            37,
            35,
            37,
            38,
            39,
            38,
            36,
            39,
            31,
            31,
            40,
            36,
            38,
            33,
            35,
            37,
            46,
            41,
            35,
            37,
            41,
            39,
            37,
            41,
            39,
            38,
            36,
            34,
            47,
            35,
            35,
            31,
            35,
            41,
            33,
            32,
            35,
            30,
            34,
            37,
            33,
            33,
            48,
            44,
            34,
            40,
            41,
            38,
            39,
            37,
            35,
            42,
            35,
            39,
            37,
            32,
            35,
            40,
            35,
            40,
            33,
            42,
            39,
            39,
            41,
            47,
            35,
            35,
            41,
            36,
            39,
            32
           ]
          },
          {
           "label": "eGFR",
           "values": [
            132.71416879795396,
            118.08,
            124.99142857142857,
            310.2426382978723,
            166.512813559322,
            136.56752542372882,
            193.9236923076923,
            122.51648275862071,
            110.0884647887324,
            135.1647,
            92.34225,
            161.04534705882352,
            134.9735769230769,
            186.19867241379313,
            145.32866949152543,
            167.9107692307692,
            151.94972727272727,
            116.44656,
            168.1918965517241,
            175.24661538461535,
            202.704,
            244.8731612903226,
            140.679737704918,
            276.0547826086957,
            179.20177500000003,
            143.6572602739726,
            180.42883516483514,
            158.40391836734693,
            134.316,
            226.66061538461537,
            180.83544827586203,
            122.16891891891892,
            122.96215384615385,
            155.49755844155845,
            162.18376119402984,
            137.76,
            124.81661538461539,
            146.5668,
            113.36358620689653,
            135.55701492537312,
            236.28300000000002,
            177.22022222222222,
            172.83483870967743,
            154.58261538461537,
            130.44150000000002,
            159.777,
            121.846875,
            220.77679999999998,
            116.40905660377359,
            174.9306,
            119.63368421052631,
            139.34605263157894,
            169.5148474576271,
            222.5808,
            150.7130181818182,
            122.877,
            156.99272727272728,
            132.56547826086955,
            122.22685714285713,
            151.43898591549296,
            139.072,
            161.4194117647059,
            206.64,
            157.67394117647058,
            122.68164705882351,
            160.06557692307692,
            140.8104,
            221.1472602739726,
            184.27039999999997,
            164.94947368421052,
            103.76858823529412,
            224.26254545454546,
            194.92283076923076,
            179.9408,
            168.428,
            207.45999999999998,
            142.32046153846153,
            111.80052631578947,
            131.03365714285715,
            114.40490909090909,
            125.88037974683543,
            100.76274418604653,
            104.40477108433737,
            175.78820689655174,
            118.83205714285712,
            132.63348148148148,
            97.10526315789474,
            130.1446956521739,
            191.81328813559318,
            128.15616000000003,
            191.11740000000003,
            150.78745714285714,
            196.8,
            146.18363636363634,
            207.10963636363633,
            170.17489285714285,
            156.13764705882355,
            99.17393258426966,
            101.975661971831,
            107.37899999999999,
            126.2349,
            152.86818461538462,
            170.41848387096775,
            180.41261538461538,
            156.92457142857143,
            126.567,
            150.5028,
            204.40180327868853,
            124.84500000000001,
            152.70345762711867,
            128.865,
            194.07093749999999,
            151.08780821917807,
            132.13152,
            126.40040506329113,
            195.562064516129,
            164.7874411764706,
            163.14434782608694,
            248.75689655172414,
            119.45205633802816,
            193.98108196721313,
            165.69857142857143,
            117.14234782608695,
            136.19695384615383,
            147.108,
            95.8375,
            251.715,
            182.27207547169812,
            132.00881818181819,
            null,
            128.40130434782606,
            189.80266666666668,
            129.85725,
            121.71748314606744,
            116.91307692307694,
            137.77468656716417,
            171.08915625,
            252.8388,
            131.2784347826087,
            99.76904347826085,
            165.07771428571428,
            93.17509859154929,
            181.86428571428573,
            161.6331818181818,
            255.44639999999998,
            99.85363636363635,
            237.144,
            198.08218181818182,
            158.63215384615384,
            147.06435483870965,
            188.9240322580645,
            106.78539130434783,
            179.97677419354838,
            168.28096551724138,
            107.3608524590164,
            268.5938275862069,
            148.24173913043478,
            166.48554098360657,
            163.64178947368418,
            138.58863157894737,
            107.6138181818182,
            144.28186046511627,
            97.06642105263157,
            141.3457627118644,
            131.979,
            141.8928,
            110.36454545454545,
            179.38489655172413,
            123.66045652173912,
            276.1324897959184,
            149.1744,
            156.33925423728812,
            153.18112499999998,
            171.43739999999997,
            205.656,
            137.60587951807227,
            147.21285245901637,
            199.42131147540985,
            123.984,
            120.53999999999998,
            98.58345762711865,
            157.18033333333332,
            164.69699999999997,
            97.60881081081081,
            145.5585671641791,
            225.32322077922078,
            151.7954794520548,
            347.7236170212766,
            224.72685714285714,
            143.8620779220779,
            156.33067924528305,
            157.72114285714284,
            165.68289230769227,
            130.19076923076923,
            224.32347826086956,
            123.04685714285714,
            116.71976470588235,
            129.88799999999998,
            121.41559322033898,
            193.81406896551724,
            116.49857142857142,
            120.90021428571428,
            144.78857142857143,
            164.34337499999998,
            102.85533333333332,
            158.60166666666666,
            136.9630625,
            191.5340625,
            135.096,
            123.04612499999999,
            99.7139294117647,
            129.15,
            176.25444444444443,
            151.8018387096774,
            120.03238095238095,
            167.91793220338982,
            159.01440000000002
           ]
          },
          {
           "label": "Age",
           "values": [
            34,
            44,
            30,
            29,
            36,
            37,
            35,
            39,
            31,
            41,
            35,
            37,
            37,
            27,
            33,
            30,
            33,
            43,
            37,
            32,
            37,
            29,
            32,
            24,
            39,
            42,
            37,
            24,
            38,
            27,
            38,
            35,
            32,
            36,
            32,
            35,
            43,
            32,
            36,
            36,
            27,
            34,
            30,
            35,
            39,
            35,
            40,
            34,
            45,
            36,
            35,
            35,
            28,
            23,
            32,
            35,
            36,
            37,
            29,
            42,
            34,
            25,
            35,
            33,
            32,
            39,
            32,
            35,
            34,
            35,
            39,
            31,
            24,
            36,
            36,
            35,
            31,
            30,
            37,
            37,
            35,
            37,
            37,
            34,
            34,
            37,
            40,
            36,
            34,
            29,
            38,
            33,
            44,
            34,
            32,
            29,
            36,
            36,
            36,
            43,
            41,
            38,
            37,
            35,
            38,
            42,
            26,
            31,
            35,
            31,
            19,
            30,
            35,
            32,
            22,
            39,
            39,
            30,
            25,
            38,
            37,
            25,
            37,
            43,
            36,
            38,
            43,
            35,
            33,
            35,
            35,
            28,
            37,
            39,
            30,
            34,
            29,
            32,
            38,
            34,
            36,
            32,
            35,
            35,
            30,
            46,
            32,
            36,
            39,
            35,
            33,
            36,
            32,
            31,
            38,
            39,
            30,
            41,
            41,
            44,
            44,
            36,
            38,
            40,
            29,
            28,
            35,
            34,
            37,
            37,
            36,
            31,
            32,
            39,
            30,
            34,
            32,
            25,
            35,
            30,
            48,
            34,
            23,
            34,
            34,
            24,
            35,
            37,
            31,
            26,
            37,
            32,
            34,
            40,
            30,
            39,
            31,
            36,
            36,
            44,
            38,
            41,
            37,
            35,
            34,
            30,
            27,
            30,
            36,
            34,
            33,
            35,
            34,
            31,
            34,
            37,
            39
           ]
          },
          {
           "label": "Hb",
           "values": [
            132,
            70,
            139,
            124,
            141,
            124,
            125,
            126,
            131,
            135,
            134,
            111,
            123,
            113,
            134,
            139,
            147,
            130,
            134,
            119,
            118,
            130,
            124,
            131,
            119,
            121,
            117,
            128,
            139,
            114,
            131,
            135,
            130,
            132,
            129,
            124,
            139,
            117,
            124,
            118,
            112,
            121,
            119,
            133,
            131,
            131,
            136,
            97,
            122,
            123,
            132,
            119,
            118,
            121,
            120,
            119,
            125,
            111,
            126,
            130,
            120,
            112,
            122,
            133,
            null,
            118,
            129,
            118,
            111,
            115,
            123,
            124,
            125,
            124,
            116,
            115,
            134,
            133,
            130,
            132,
            144,
            111,
            126,
            127,
            120,
            114,
            119,
            133,
            134,
            130,
            130,
            null,
            137,
            144,
            129,
            137,
            123,
            119,
            149,
            137,
            122,
            126,
            124,
            129,
            134,
            121,
            126,
            133,
            127,
            124,
            118,
            120,
            140,
            136,
            110,
            128,
            141,
            122,
            110,
            130,
            134,
            127,
            125,
            133,
            131,
            119,
            122,
            132,
            132,
            null,
            126,
            125,
            131,
            105,
            129,
            125,
            128,
            114,
            131,
            138,
            135,
            122,
            127,
            143,
            129,
            130,
            119,
            130,
            126,
            136,
            115,
            129,
            114,
            117,
            130,
            118,
            127,
            137,
            120,
            122,
            139,
            126,
            147,
            134,
            117,
            119,
            121,
            131,
            129,
            139,
            129,
            123,
            130,
            137,
            114,
            112,
            120,
            115,
            130,
            135,
            121,
            127,
            120,
            123,
            132,
            116,
            124,
            129,
            117,
            107,
            131,
            143,
            140,
            122,
            117,
            110,
            123,
            111,
            140,
            137,
            114,
            125,
            122,
            140,
            129,
            120,
            125,
            118,
            139,
            134,
            122,
            113,
            102,
            122,
            137,
            127,
            111
           ]
          },
          {
           "label": "ALT",
           "values": [
            null,
            null,
            null,
            null,
            null,
            null,
            null,
            null,
            null,
            null,
            null,
            null,
            null,
            null,
            null,
            null,
            null,
            null,
            null,
            null,
            null,
            null,
            null,
            null,
            null,
            null,
            null,
            null,
            null,
            null,
            null,
            null,
            null,
            null,
            null,
            null,
            null,
            null,
            null,
            null,
            null,
            null,
            null,
            null,
            null,
            null,
            null,
            null,
            null,
            null,
            null,
            null,
            null,
            null,
            null,
            null,
            null,
            null,
            null,
            null,
            null,
            null,
            null,
            null,
            null,
            null,
            null,
            null,
            null,
            null,
            null,
            null,
            null,
            null,
            null,
            null,
            null,
            null,
            null,
            null,
            null,
            null,
            null,
            null,
            null,
            null,
            null,
            null,
            null,
            null,
            null,
            null,
            null,
            null,
            null,
            null,
            null,
            null,
            null,
            null,
            null,
            null,
            null,
            null,
            null,
            null,
            null,
            null,
            null,
            null,
            null,
            null,
            null,
            null,
            null,
            null,
            null,
            null,
            null,
            null,
            39,
            15,
            25,
            26,
            31,
            29,
            39,
            33,
            68,
            null,
            18,
            31,
            21,
            15,
            44,
            50,
            39,
            31,
            17,
            24,
            14,
            14,
            67,
            29,
            36,
            25,
            19,
            33,
            null,
            24,
            24,
            69,
            22,
            33,
            25,
            56,
            35,
            27,
            13,
            24,
            null,
            71,
            23,
            34,
            17,
            13,
            11,
            32,
            38,
            39,
            38,
            68,
            43,
            67,
            37,
            15,
            21,
            51,
            41,
            38,
            24,
            28,
            24,
            39,
            21,
            14,
            14,
            21,
            32,
            16,
            53,
            17,
            29,
            26,
            8,
            17,
            14,
            20,
            34,
            155,
            18,
            35,
            27,
            25,
            23,
            12,
            12,
            21,
            52,
            24,
            21,
            47,
            11,
            23,
            26,
            22,
            17
           ]
          },
          {
           "label": "Creatinine",
           "values": [
            69,
            66,
            63,
            47,
            59,
            59,
            65,
            58,
            71,
            65,
            80,
            85,
            78,
            58,
            59,
            39,
            66,
            75,
            58,
            52,
            62,
            62,
            61,
            46,
            80,
            73,
            91,
            49,
            68,
            52,
            58,
            74,
            78,
            77,
            67,
            75,
            52,
            60,
            58,
            67,
            52,
            54,
            62,
            65,
            64,
            70,
            64,
            60,
            53,
            80,
            57,
            76,
            59,
            75,
            55,
            70,
            66,
            69,
            63,
            71,
            54,
            68,
            54,
            51,
            68,
            52,
            60,
            73,
            60,
            57,
            85,
            55,
            65,
            60,
            60,
            63,
            52,
            76,
            70,
            66,
            79,
            86,
            83,
            58,
            70,
            81,
            76,
            69,
            59,
            75,
            60,
            70,
            75,
            66,
            44,
            56,
            68,
            89,
            71,
            72,
            60,
            65,
            62,
            65,
            63,
            60,
            60,
            61,
            66,
            59,
            82,
            64,
            73,
            75,
            79,
            62,
            68,
            69,
            58,
            71,
            61,
            63,
            69,
            65,
            60,
            72,
            82,
            53,
            66,
            null,
            69,
            54,
            64,
            89,
            78,
            67,
            64,
            60,
            69,
            69,
            63,
            71,
            49,
            66,
            50,
            88,
            54,
            66,
            65,
            62,
            62,
            92,
            62,
            58,
            61,
            58,
            69,
            61,
            57,
            76,
            88,
            86,
            76,
            59,
            54,
            60,
            66,
            58,
            92,
            49,
            65,
            59,
            64,
            60,
            60,
            83,
            61,
            61,
            85,
            77,
            59,
            72,
            54,
            74,
            67,
            77,
            73,
            47,
            63,
            77,
            53,
            63,
            65,
            65,
            69,
            63,
            85,
            52,
            59,
            58,
            70,
            56,
            56,
            80,
            72,
            72,
            96,
            64,
            82,
            64,
            85,
            90,
            54,
            62,
            63,
            59,
            65
           ]
          },
          {
           "label": "ACR",
           "values": [
            7.4,
            9.3,
            91.3,
            null,
            6.6,
            0,
            12.1,
            18,
            18.7,
            12,
            8.2,
            6.2,
            0,
            5.1,
            14.9,
            8.9,
            4.8,
            7.5,
            9.3,
            6.6,
            0,
            0,
            12.2,
            22.3,
            1.6,
            1.2,
            1.3,
            0.8,
            "<0.5",
            3.3,
            0.4,
            0.6,
            "<1.7",
            0.4,
            "<0.6",
            null,
            0,
            0.8,
            0,
            0.5,
            0.4,
            0.9,
            1.3,
            1.1,
            1.2,
            1.2,
            3.7,
            3.1,
            6.5,
            1.6,
            0,
            3.2,
            0.3,
            2.4,
            2.7,
            0,
            1.4,
            2.5,
            17.1,
            1.3,
            7.3,
            0,
            0.7,
            1.4,
            1.7,
            0.6,
            0.5,
            2.4,
            0.6,
            0,
            1.9,
            0.8,
            14.3,
            5.5,
            59.2,
            0.9,
            1,
            1,
            0.7,
            1.5,
            0.5,
            20.7,
            1.3,
            0.4,
            1,
            1.9,
            1.6,
            3.3,
            23.9,
            0.6,
            3.3,
            0.9,
            0.9,
            1.9,
            2.2,
            1.4,
            1.7,
            1,
            3.4,
            7.6,
            15.5,
            1.3,
            1.7,
            2,
            0.4,
            1.1,
            7.5,
            2,
            2.2,
            0.4,
            0.5,
            0.7,
            10.8,
            2.5,
            3.8,
            16.8,
            1.2,
            4.5,
            3.2,
            0.5,
            48.5,
            0.4,
            0.6,
            0.8,
            1.3,
            2.6,
            3.4,
            1.1,
            1.6,
            70,
            1,
            5.8,
            0.3,
            null,
            7.8,
            "<1.0",
            2.5,
            5.3,
            0.8,
            "<1.0",
            0.7,
            1.5,
            1,
            5.1,
            2,
            0.8,
            12.6,
            2.2,
            0.6,
            0.9,
            null,
            3.6,
            0.6,
            1.1,
            "<1.4",
            1.1,
            0.8,
            "<0.6",
            3.3,
            2.8,
            1.1,
            0.9,
            7.3,
            1.8,
            "Test cancelled. Very dilute sample",
            0.5,
            2.3,
            1.6,
            0.8,
            0.7,
            3.1,
            "<1.4",
            11.4,
            3.2,
            0.9,
            1.1,
            1.9,
            0.8,
            0.4,
            "<0.5",
            1.3,
            2.8,
            0.9,
            "Test cancelled",
            0.8,
            0.8,
            0.7,
            5.2,
            2.5,
            3.8,
            2.6,
            1.5,
            "<2.1",
            2.5,
            0.8,
            2.1,
            0.5,
            10,
            0.6,
            "<0.5",
            1.7,
            3.3,
            "<0.8",
            "<0.7",
            7.3,
            2.4,
            0.9,
            1.1,
            0.6,
            0.7,
            1.5,
            7.7,
            89.9,
            2,
            "<0.8",
            1.7,
            0.5
           ]
          }
         ],
         "marker": {
          "color": 0,
          "line": {
           "color": "white",
           "width": 0.5
          },
          "showscale": false
         },
         "name": "eGFR >= 90",
         "text": [
          "WM001",
          "WM002",
          "WM003",
          "WM004",
          "WM005",
          "WM006",
          "WM007",
          "WM008",
          "WM009",
          "WM014",
          "WM015",
          "WM016",
          "WM017",
          "WM018",
          "WM019",
          "WM020",
          "WM023",
          "WM021",
          "WM024",
          "WM025",
          "WM027",
          "WM028",
          "WM029",
          "WM030",
          "WM031",
          "WM032",
          "WM033",
          "WM034",
          "WM036",
          "WM037",
          "WM039",
          "WM038",
          "WM041",
          "WM042",
          "WM043",
          "WM044",
          "WM045",
          "WM046",
          "WM047",
          "WM048",
          "WM049",
          "WM050",
          "WM051",
          "WM052",
          "WM053",
          "WM054",
          "WM058",
          "WM060",
          "WM061",
          "WM062",
          "WM063",
          "WM064",
          "WM065",
          "WM066",
          "WM067",
          "WM068",
          "WM070",
          "WM071",
          "WM073",
          "WM075",
          "WM076",
          "WM077",
          "WM079",
          "WM080",
          "WM081",
          "WM082",
          "WM083",
          "WM085",
          "WM086",
          "WM087",
          "WM088",
          "WM090",
          "WM091",
          "WM092",
          "WM093",
          "WM094",
          "WM096",
          "WM095",
          "WM097",
          "WM098",
          "WM100",
          "WM099",
          "WM103",
          "WM104",
          "WM105",
          "WM101",
          "WM106",
          "WM107",
          "WM108 ",
          "WM110",
          "WM113",
          "WM114",
          "WM115",
          "WM118",
          "WM119",
          "WM121",
          "WM122",
          "WM122",
          "WM123",
          "WM124",
          "WM125",
          "WM126",
          "WM127",
          "WM128",
          "WM129",
          "WM130",
          "WM131",
          "WM132",
          "WM134",
          "WM133",
          "WM135",
          "WM136",
          "WM137",
          "WM139",
          "WM140",
          "WM141",
          "WM142",
          "WM143",
          "WM144",
          "WM145",
          "WM146",
          "WM147",
          "WM148",
          "WM150",
          "WM153",
          "WM154",
          "WM155",
          "WM156",
          "WM157",
          "WM159",
          "WM160",
          "WM163",
          "WM164",
          "WM161",
          "WM165",
          "WM170",
          "WM169",
          "WM171",
          "WM173",
          "WM174",
          "WM175",
          "WM176",
          "WM178",
          "WM177",
          "WM179",
          "WM180",
          "WM182",
          "WM184",
          "WM188",
          "WM186",
          "WM185",
          "KM187",
          "WM183",
          "WM189",
          "WM190",
          "WM191",
          "WM192",
          "WM193",
          "WM195",
          "WM196",
          "WM197",
          "WM198",
          "WM199",
          "WM200",
          "WM201",
          "WM202",
          "WM203",
          "WM204",
          "WM205",
          "WM206",
          "WM207",
          "WM208",
          "WM209",
          "WM210",
          "WM211",
          "WM213",
          "WM214",
          "WM215",
          "WM216",
          "WM217",
          "WM218",
          "WM219",
          "WM220",
          "WM223",
          "WM224",
          "WM225",
          "WM226",
          "WM230",
          "WM232",
          "WM233",
          "WM234",
          "WM235",
          "WM236",
          "WM227",
          "WM237",
          "WM238",
          "WM240",
          "WM239",
          "WM241",
          "WM242",
          "WM243",
          "WM244",
          "WM246",
          "WM247",
          "WM248",
          "WM249",
          "WM250",
          "WM251",
          "WM252",
          "WM253",
          "WM254",
          "WM256",
          "WM258",
          "WM259",
          "WM260",
          "WM261",
          "WM262"
         ],
         "type": "splom"
        },
        {
         "diagonal": {
          "visible": false
         },
         "dimensions": [
          {
           "label": "RandomGlucose",
           "values": [
            5.2,
            3.5,
            4.9,
            5.2,
            5.6,
            4.5
           ]
          },
          {
           "label": "HbA1C",
           "values": [
            36,
            29,
            36,
            31,
            36,
            40
           ]
          },
          {
           "label": "eGFR",
           "values": [
            85.06101176470588,
            85.16383333333333,
            84.88108108108108,
            85.73672093023256,
            89.14353488372092,
            82.05248
           ]
          },
          {
           "label": "Age",
           "values": [
            43,
            37,
            40,
            37,
            34,
            34
           ]
          },
          {
           "label": "Hb",
           "values": [
            125,
            130,
            129,
            129,
            138,
            129
           ]
          },
          {
           "label": "ALT",
           "values": [
            null,
            null,
            null,
            22,
            38,
            16
           ]
          },
          {
           "label": "Creatinine",
           "values": [
            85,
            72,
            111,
            86,
            86,
            75
           ]
          },
          {
           "label": "ACR",
           "values": [
            8.6,
            1.9,
            2.7,
            0.7,
            0.5,
            "Test Cancelled - Insufficient Specimen"
           ]
          }
         ],
         "marker": {
          "color": 1,
          "line": {
           "color": "white",
           "width": 0.5
          },
          "showscale": false
         },
         "name": "eGFR < 90",
         "text": [
          "WM026",
          "WM057",
          "WM078",
          "WM212",
          "WM229",
          "WM231"
         ],
         "type": "splom"
        }
       ],
       "layout": {
        "height": 1000,
        "showlegend": true,
        "template": {
         "data": {
          "bar": [
           {
            "error_x": {
             "color": "#2a3f5f"
            },
            "error_y": {
             "color": "#2a3f5f"
            },
            "marker": {
             "line": {
              "color": "#E5ECF6",
              "width": 0.5
             },
             "pattern": {
              "fillmode": "overlay",
              "size": 10,
              "solidity": 0.2
             }
            },
            "type": "bar"
           }
          ],
          "barpolar": [
           {
            "marker": {
             "line": {
              "color": "#E5ECF6",
              "width": 0.5
             },
             "pattern": {
              "fillmode": "overlay",
              "size": 10,
              "solidity": 0.2
             }
            },
            "type": "barpolar"
           }
          ],
          "carpet": [
           {
            "aaxis": {
             "endlinecolor": "#2a3f5f",
             "gridcolor": "white",
             "linecolor": "white",
             "minorgridcolor": "white",
             "startlinecolor": "#2a3f5f"
            },
            "baxis": {
             "endlinecolor": "#2a3f5f",
             "gridcolor": "white",
             "linecolor": "white",
             "minorgridcolor": "white",
             "startlinecolor": "#2a3f5f"
            },
            "type": "carpet"
           }
          ],
          "choropleth": [
           {
            "colorbar": {
             "outlinewidth": 0,
             "ticks": ""
            },
            "type": "choropleth"
           }
          ],
          "contour": [
           {
            "colorbar": {
             "outlinewidth": 0,
             "ticks": ""
            },
            "colorscale": [
             [
              0,
              "#0d0887"
             ],
             [
              0.1111111111111111,
              "#46039f"
             ],
             [
              0.2222222222222222,
              "#7201a8"
             ],
             [
              0.3333333333333333,
              "#9c179e"
             ],
             [
              0.4444444444444444,
              "#bd3786"
             ],
             [
              0.5555555555555556,
              "#d8576b"
             ],
             [
              0.6666666666666666,
              "#ed7953"
             ],
             [
              0.7777777777777778,
              "#fb9f3a"
             ],
             [
              0.8888888888888888,
              "#fdca26"
             ],
             [
              1,
              "#f0f921"
             ]
            ],
            "type": "contour"
           }
          ],
          "contourcarpet": [
           {
            "colorbar": {
             "outlinewidth": 0,
             "ticks": ""
            },
            "type": "contourcarpet"
           }
          ],
          "heatmap": [
           {
            "colorbar": {
             "outlinewidth": 0,
             "ticks": ""
            },
            "colorscale": [
             [
              0,
              "#0d0887"
             ],
             [
              0.1111111111111111,
              "#46039f"
             ],
             [
              0.2222222222222222,
              "#7201a8"
             ],
             [
              0.3333333333333333,
              "#9c179e"
             ],
             [
              0.4444444444444444,
              "#bd3786"
             ],
             [
              0.5555555555555556,
              "#d8576b"
             ],
             [
              0.6666666666666666,
              "#ed7953"
             ],
             [
              0.7777777777777778,
              "#fb9f3a"
             ],
             [
              0.8888888888888888,
              "#fdca26"
             ],
             [
              1,
              "#f0f921"
             ]
            ],
            "type": "heatmap"
           }
          ],
          "heatmapgl": [
           {
            "colorbar": {
             "outlinewidth": 0,
             "ticks": ""
            },
            "colorscale": [
             [
              0,
              "#0d0887"
             ],
             [
              0.1111111111111111,
              "#46039f"
             ],
             [
              0.2222222222222222,
              "#7201a8"
             ],
             [
              0.3333333333333333,
              "#9c179e"
             ],
             [
              0.4444444444444444,
              "#bd3786"
             ],
             [
              0.5555555555555556,
              "#d8576b"
             ],
             [
              0.6666666666666666,
              "#ed7953"
             ],
             [
              0.7777777777777778,
              "#fb9f3a"
             ],
             [
              0.8888888888888888,
              "#fdca26"
             ],
             [
              1,
              "#f0f921"
             ]
            ],
            "type": "heatmapgl"
           }
          ],
          "histogram": [
           {
            "marker": {
             "pattern": {
              "fillmode": "overlay",
              "size": 10,
              "solidity": 0.2
             }
            },
            "type": "histogram"
           }
          ],
          "histogram2d": [
           {
            "colorbar": {
             "outlinewidth": 0,
             "ticks": ""
            },
            "colorscale": [
             [
              0,
              "#0d0887"
             ],
             [
              0.1111111111111111,
              "#46039f"
             ],
             [
              0.2222222222222222,
              "#7201a8"
             ],
             [
              0.3333333333333333,
              "#9c179e"
             ],
             [
              0.4444444444444444,
              "#bd3786"
             ],
             [
              0.5555555555555556,
              "#d8576b"
             ],
             [
              0.6666666666666666,
              "#ed7953"
             ],
             [
              0.7777777777777778,
              "#fb9f3a"
             ],
             [
              0.8888888888888888,
              "#fdca26"
             ],
             [
              1,
              "#f0f921"
             ]
            ],
            "type": "histogram2d"
           }
          ],
          "histogram2dcontour": [
           {
            "colorbar": {
             "outlinewidth": 0,
             "ticks": ""
            },
            "colorscale": [
             [
              0,
              "#0d0887"
             ],
             [
              0.1111111111111111,
              "#46039f"
             ],
             [
              0.2222222222222222,
              "#7201a8"
             ],
             [
              0.3333333333333333,
              "#9c179e"
             ],
             [
              0.4444444444444444,
              "#bd3786"
             ],
             [
              0.5555555555555556,
              "#d8576b"
             ],
             [
              0.6666666666666666,
              "#ed7953"
             ],
             [
              0.7777777777777778,
              "#fb9f3a"
             ],
             [
              0.8888888888888888,
              "#fdca26"
             ],
             [
              1,
              "#f0f921"
             ]
            ],
            "type": "histogram2dcontour"
           }
          ],
          "mesh3d": [
           {
            "colorbar": {
             "outlinewidth": 0,
             "ticks": ""
            },
            "type": "mesh3d"
           }
          ],
          "parcoords": [
           {
            "line": {
             "colorbar": {
              "outlinewidth": 0,
              "ticks": ""
             }
            },
            "type": "parcoords"
           }
          ],
          "pie": [
           {
            "automargin": true,
            "type": "pie"
           }
          ],
          "scatter": [
           {
            "fillpattern": {
             "fillmode": "overlay",
             "size": 10,
             "solidity": 0.2
            },
            "type": "scatter"
           }
          ],
          "scatter3d": [
           {
            "line": {
             "colorbar": {
              "outlinewidth": 0,
              "ticks": ""
             }
            },
            "marker": {
             "colorbar": {
              "outlinewidth": 0,
              "ticks": ""
             }
            },
            "type": "scatter3d"
           }
          ],
          "scattercarpet": [
           {
            "marker": {
             "colorbar": {
              "outlinewidth": 0,
              "ticks": ""
             }
            },
            "type": "scattercarpet"
           }
          ],
          "scattergeo": [
           {
            "marker": {
             "colorbar": {
              "outlinewidth": 0,
              "ticks": ""
             }
            },
            "type": "scattergeo"
           }
          ],
          "scattergl": [
           {
            "marker": {
             "colorbar": {
              "outlinewidth": 0,
              "ticks": ""
             }
            },
            "type": "scattergl"
           }
          ],
          "scattermapbox": [
           {
            "marker": {
             "colorbar": {
              "outlinewidth": 0,
              "ticks": ""
             }
            },
            "type": "scattermapbox"
           }
          ],
          "scatterpolar": [
           {
            "marker": {
             "colorbar": {
              "outlinewidth": 0,
              "ticks": ""
             }
            },
            "type": "scatterpolar"
           }
          ],
          "scatterpolargl": [
           {
            "marker": {
             "colorbar": {
              "outlinewidth": 0,
              "ticks": ""
             }
            },
            "type": "scatterpolargl"
           }
          ],
          "scatterternary": [
           {
            "marker": {
             "colorbar": {
              "outlinewidth": 0,
              "ticks": ""
             }
            },
            "type": "scatterternary"
           }
          ],
          "surface": [
           {
            "colorbar": {
             "outlinewidth": 0,
             "ticks": ""
            },
            "colorscale": [
             [
              0,
              "#0d0887"
             ],
             [
              0.1111111111111111,
              "#46039f"
             ],
             [
              0.2222222222222222,
              "#7201a8"
             ],
             [
              0.3333333333333333,
              "#9c179e"
             ],
             [
              0.4444444444444444,
              "#bd3786"
             ],
             [
              0.5555555555555556,
              "#d8576b"
             ],
             [
              0.6666666666666666,
              "#ed7953"
             ],
             [
              0.7777777777777778,
              "#fb9f3a"
             ],
             [
              0.8888888888888888,
              "#fdca26"
             ],
             [
              1,
              "#f0f921"
             ]
            ],
            "type": "surface"
           }
          ],
          "table": [
           {
            "cells": {
             "fill": {
              "color": "#EBF0F8"
             },
             "line": {
              "color": "white"
             }
            },
            "header": {
             "fill": {
              "color": "#C8D4E3"
             },
             "line": {
              "color": "white"
             }
            },
            "type": "table"
           }
          ]
         },
         "layout": {
          "annotationdefaults": {
           "arrowcolor": "#2a3f5f",
           "arrowhead": 0,
           "arrowwidth": 1
          },
          "autotypenumbers": "strict",
          "coloraxis": {
           "colorbar": {
            "outlinewidth": 0,
            "ticks": ""
           }
          },
          "colorscale": {
           "diverging": [
            [
             0,
             "#8e0152"
            ],
            [
             0.1,
             "#c51b7d"
            ],
            [
             0.2,
             "#de77ae"
            ],
            [
             0.3,
             "#f1b6da"
            ],
            [
             0.4,
             "#fde0ef"
            ],
            [
             0.5,
             "#f7f7f7"
            ],
            [
             0.6,
             "#e6f5d0"
            ],
            [
             0.7,
             "#b8e186"
            ],
            [
             0.8,
             "#7fbc41"
            ],
            [
             0.9,
             "#4d9221"
            ],
            [
             1,
             "#276419"
            ]
           ],
           "sequential": [
            [
             0,
             "#0d0887"
            ],
            [
             0.1111111111111111,
             "#46039f"
            ],
            [
             0.2222222222222222,
             "#7201a8"
            ],
            [
             0.3333333333333333,
             "#9c179e"
            ],
            [
             0.4444444444444444,
             "#bd3786"
            ],
            [
             0.5555555555555556,
             "#d8576b"
            ],
            [
             0.6666666666666666,
             "#ed7953"
            ],
            [
             0.7777777777777778,
             "#fb9f3a"
            ],
            [
             0.8888888888888888,
             "#fdca26"
            ],
            [
             1,
             "#f0f921"
            ]
           ],
           "sequentialminus": [
            [
             0,
             "#0d0887"
            ],
            [
             0.1111111111111111,
             "#46039f"
            ],
            [
             0.2222222222222222,
             "#7201a8"
            ],
            [
             0.3333333333333333,
             "#9c179e"
            ],
            [
             0.4444444444444444,
             "#bd3786"
            ],
            [
             0.5555555555555556,
             "#d8576b"
            ],
            [
             0.6666666666666666,
             "#ed7953"
            ],
            [
             0.7777777777777778,
             "#fb9f3a"
            ],
            [
             0.8888888888888888,
             "#fdca26"
            ],
            [
             1,
             "#f0f921"
            ]
           ]
          },
          "colorway": [
           "#636efa",
           "#EF553B",
           "#00cc96",
           "#ab63fa",
           "#FFA15A",
           "#19d3f3",
           "#FF6692",
           "#B6E880",
           "#FF97FF",
           "#FECB52"
          ],
          "font": {
           "color": "#2a3f5f"
          },
          "geo": {
           "bgcolor": "white",
           "lakecolor": "white",
           "landcolor": "#E5ECF6",
           "showlakes": true,
           "showland": true,
           "subunitcolor": "white"
          },
          "hoverlabel": {
           "align": "left"
          },
          "hovermode": "closest",
          "mapbox": {
           "style": "light"
          },
          "paper_bgcolor": "white",
          "plot_bgcolor": "#E5ECF6",
          "polar": {
           "angularaxis": {
            "gridcolor": "white",
            "linecolor": "white",
            "ticks": ""
           },
           "bgcolor": "#E5ECF6",
           "radialaxis": {
            "gridcolor": "white",
            "linecolor": "white",
            "ticks": ""
           }
          },
          "scene": {
           "xaxis": {
            "backgroundcolor": "#E5ECF6",
            "gridcolor": "white",
            "gridwidth": 2,
            "linecolor": "white",
            "showbackground": true,
            "ticks": "",
            "zerolinecolor": "white"
           },
           "yaxis": {
            "backgroundcolor": "#E5ECF6",
            "gridcolor": "white",
            "gridwidth": 2,
            "linecolor": "white",
            "showbackground": true,
            "ticks": "",
            "zerolinecolor": "white"
           },
           "zaxis": {
            "backgroundcolor": "#E5ECF6",
            "gridcolor": "white",
            "gridwidth": 2,
            "linecolor": "white",
            "showbackground": true,
            "ticks": "",
            "zerolinecolor": "white"
           }
          },
          "shapedefaults": {
           "line": {
            "color": "#2a3f5f"
           }
          },
          "ternary": {
           "aaxis": {
            "gridcolor": "white",
            "linecolor": "white",
            "ticks": ""
           },
           "baxis": {
            "gridcolor": "white",
            "linecolor": "white",
            "ticks": ""
           },
           "bgcolor": "#E5ECF6",
           "caxis": {
            "gridcolor": "white",
            "linecolor": "white",
            "ticks": ""
           }
          },
          "title": {
           "x": 0.05
          },
          "xaxis": {
           "automargin": true,
           "gridcolor": "white",
           "linecolor": "white",
           "ticks": "",
           "title": {
            "standoff": 15
           },
           "zerolinecolor": "white",
           "zerolinewidth": 2
          },
          "yaxis": {
           "automargin": true,
           "gridcolor": "white",
           "linecolor": "white",
           "ticks": "",
           "title": {
            "standoff": 15
           },
           "zerolinecolor": "white",
           "zerolinewidth": 2
          }
         }
        },
        "title": {
         "text": "eGFR < 90<br><sup><i>(n=6, 2.69%)</i></sup>"
        },
        "width": 1000
       }
      }
     },
     "metadata": {},
     "output_type": "display_data"
    }
   ],
   "source": [
    "df[\"eGFR90\"] = 0\n",
    "df.loc[df['eGFR'] < 90, 'eGFR90'] = 1\n",
    "sumc = df[\"eGFR90\"].sum()\n",
    "print(f\"eGFR < 90: {round(sumc / len(df), 3)}\")\n",
    "\n",
    "fig = go.Figure()\n",
    "\n",
    "for tra in [0, 1]:\n",
    "    dft = df[df['eGFR90']==tra]\n",
    "    if tra == 0:\n",
    "        name = 'eGFR >= 90'\n",
    "\n",
    "    else:\n",
    "        name = 'eGFR < 90'\n",
    "\n",
    "    fig.add_trace(go.Splom(\n",
    "                    dimensions=[\n",
    "                                dict(label='RandomGlucose',\n",
    "                                    values=dft['RandomGlucose']),\n",
    "                                dict(label='HbA1C',\n",
    "                                    values=dft['HbA1C']),\n",
    "                                dict(label='eGFR',\n",
    "                                    values=dft['eGFR']),\n",
    "                                dict(label='Age',\n",
    "                                    values=dft['Age']),\n",
    "                                dict(label='Hb',\n",
    "                                    values=dft['Hb']),\n",
    "                                dict(label='ALT',\n",
    "                                    values=dft['ALT']),\n",
    "                                dict(label='Creatinine',\n",
    "                                    values=dft['Creatinine']),\n",
    "                                dict(label='ACR',\n",
    "                                    values=dft['ACR'])],\n",
    "                    diagonal_visible=False, # remove plots on diagonal\n",
    "                    text=dft['Id'],\n",
    "                    name=name,\n",
    "                    marker=dict(color=tra,\n",
    "                                showscale=False, # colors encode categorical variables\n",
    "                                line_color='white', line_width=0.5)\n",
    "                    ))\n",
    "\n",
    "\n",
    "fig.update_layout(\n",
    "    #title='Creatinine > 80',\n",
    "    title=f\"eGFR < 90<br><sup><i>(n={sumc}, {round(sumc / len(df) * 100, 2)}%)</i></sup>\",\n",
    "    showlegend=True,\n",
    "    width=1000,\n",
    "    height=1000,\n",
    ")\n",
    "\n",
    "fig.show()"
   ]
  },
  {
   "attachments": {},
   "cell_type": "markdown",
   "metadata": {},
   "source": [
    "#### eGFR by race"
   ]
  },
  {
   "cell_type": "code",
   "execution_count": 147,
   "metadata": {},
   "outputs": [
    {
     "data": {
      "application/vnd.plotly.v1+json": {
       "config": {
        "plotlyServerURL": "https://plot.ly"
       },
       "data": [
        {
         "name": "WHITE<br><sup><i>(n=104)</i></sup>",
         "notched": true,
         "type": "box",
         "y": [
          132.71416879795396,
          310.2426382978723,
          166.512813559322,
          136.56752542372882,
          110.0884647887324,
          151.94972727272727,
          116.44656,
          168.1918965517241,
          202.704,
          85.06101176470588,
          244.8731612903226,
          140.679737704918,
          143.6572602739726,
          180.83544827586203,
          122.16891891891892,
          122.96215384615385,
          162.18376119402984,
          154.58261538461537,
          130.44150000000002,
          85.16383333333333,
          121.846875,
          116.40905660377359,
          139.34605263157894,
          222.5808,
          150.7130181818182,
          122.22685714285713,
          151.43898591549296,
          161.4194117647059,
          84.88108108108108,
          206.64,
          184.27039999999997,
          164.94947368421052,
          103.76858823529412,
          224.26254545454546,
          168.428,
          207.45999999999998,
          142.32046153846153,
          111.80052631578947,
          131.03365714285715,
          125.88037974683543,
          104.40477108433737,
          175.78820689655174,
          132.63348148148148,
          97.10526315789474,
          130.1446956521739,
          191.81328813559318,
          191.11740000000003,
          150.78745714285714,
          146.18363636363634,
          107.37899999999999,
          180.41261538461538,
          152.70345762711867,
          128.865,
          132.13152,
          195.562064516129,
          163.14434782608694,
          248.75689655172414,
          119.45205633802816,
          193.98108196721313,
          147.108,
          95.8375,
          251.715,
          132.00881818181819,
          null,
          128.40130434782606,
          129.85725,
          116.91307692307694,
          137.77468656716417,
          252.8388,
          131.2784347826087,
          165.07771428571428,
          93.17509859154929,
          181.86428571428573,
          161.6331818181818,
          158.63215384615384,
          179.97677419354838,
          168.28096551724138,
          268.5938275862069,
          148.24173913043478,
          107.6138181818182,
          97.06642105263157,
          141.3457627118644,
          179.38489655172413,
          156.33925423728812,
          147.21285245901637,
          123.984,
          120.53999999999998,
          157.18033333333332,
          145.5585671641791,
          151.7954794520548,
          89.14353488372092,
          347.7236170212766,
          157.72114285714284,
          165.68289230769227,
          224.32347826086956,
          193.81406896551724,
          116.49857142857142,
          164.34337499999998,
          102.85533333333332,
          158.60166666666666,
          135.096,
          123.04612499999999,
          151.8018387096774,
          120.03238095238095
         ]
        },
        {
         "name": "MIXED<br><sup><i>(n=12)</i></sup>",
         "notched": true,
         "type": "box",
         "y": [
          118.08,
          175.24661538461535,
          226.66061538461537,
          146.5668,
          194.92283076923076,
          128.15616000000003,
          126.567,
          150.5028,
          182.27207547169812,
          198.08218181818182,
          144.28186046511627,
          276.1324897959184
         ]
        },
        {
         "name": "BLACK<br><sup><i>(n=51)</i></sup>",
         "notched": true,
         "type": "box",
         "y": [
          124.99142857142857,
          193.9236923076923,
          92.34225,
          161.04534705882352,
          134.9735769230769,
          276.0547826086957,
          179.20177500000003,
          180.42883516483514,
          155.49755844155845,
          137.76,
          177.22022222222222,
          159.777,
          220.77679999999998,
          174.9306,
          169.5148474576271,
          160.06557692307692,
          140.8104,
          221.1472602739726,
          179.9408,
          114.40490909090909,
          100.76274418604653,
          118.83205714285712,
          196.8,
          156.13764705882355,
          156.92457142857143,
          124.84500000000001,
          194.07093749999999,
          151.08780821917807,
          126.40040506329113,
          165.69857142857143,
          121.71748314606744,
          99.85363636363635,
          237.144,
          188.9240322580645,
          163.64178947368418,
          138.58863157894737,
          141.8928,
          123.66045652173912,
          85.73672093023256,
          137.60587951807227,
          199.42131147540985,
          225.32322077922078,
          224.72685714285714,
          143.8620779220779,
          116.71976470588235,
          136.9630625,
          191.5340625,
          129.15,
          176.25444444444443,
          167.91793220338982,
          159.01440000000002
         ]
        },
        {
         "name": "ASIAN<br><sup><i>(n=56)</i></sup>",
         "notched": true,
         "type": "box",
         "y": [
          122.51648275862071,
          135.1647,
          186.19867241379313,
          145.32866949152543,
          167.9107692307692,
          158.40391836734693,
          134.316,
          124.81661538461539,
          113.36358620689653,
          135.55701492537312,
          236.28300000000002,
          172.83483870967743,
          119.63368421052631,
          122.877,
          156.99272727272728,
          132.56547826086955,
          139.072,
          157.67394117647058,
          122.68164705882351,
          207.10963636363633,
          170.17489285714285,
          99.17393258426966,
          101.975661971831,
          126.2349,
          152.86818461538462,
          170.41848387096775,
          204.40180327868853,
          164.7874411764706,
          117.14234782608695,
          136.19695384615383,
          189.80266666666668,
          171.08915625,
          99.76904347826085,
          255.44639999999998,
          147.06435483870965,
          106.78539130434783,
          107.3608524590164,
          166.48554098360657,
          131.979,
          110.36454545454545,
          149.1744,
          153.18112499999998,
          171.43739999999997,
          205.656,
          98.58345762711865,
          164.69699999999997,
          97.60881081081081,
          82.05248,
          156.33067924528305,
          130.19076923076923,
          123.04685714285714,
          129.88799999999998,
          121.41559322033898,
          120.90021428571428,
          144.78857142857143,
          99.7139294117647
         ]
        }
       ],
       "layout": {
        "showlegend": false,
        "template": {
         "data": {
          "bar": [
           {
            "error_x": {
             "color": "#2a3f5f"
            },
            "error_y": {
             "color": "#2a3f5f"
            },
            "marker": {
             "line": {
              "color": "#E5ECF6",
              "width": 0.5
             },
             "pattern": {
              "fillmode": "overlay",
              "size": 10,
              "solidity": 0.2
             }
            },
            "type": "bar"
           }
          ],
          "barpolar": [
           {
            "marker": {
             "line": {
              "color": "#E5ECF6",
              "width": 0.5
             },
             "pattern": {
              "fillmode": "overlay",
              "size": 10,
              "solidity": 0.2
             }
            },
            "type": "barpolar"
           }
          ],
          "carpet": [
           {
            "aaxis": {
             "endlinecolor": "#2a3f5f",
             "gridcolor": "white",
             "linecolor": "white",
             "minorgridcolor": "white",
             "startlinecolor": "#2a3f5f"
            },
            "baxis": {
             "endlinecolor": "#2a3f5f",
             "gridcolor": "white",
             "linecolor": "white",
             "minorgridcolor": "white",
             "startlinecolor": "#2a3f5f"
            },
            "type": "carpet"
           }
          ],
          "choropleth": [
           {
            "colorbar": {
             "outlinewidth": 0,
             "ticks": ""
            },
            "type": "choropleth"
           }
          ],
          "contour": [
           {
            "colorbar": {
             "outlinewidth": 0,
             "ticks": ""
            },
            "colorscale": [
             [
              0,
              "#0d0887"
             ],
             [
              0.1111111111111111,
              "#46039f"
             ],
             [
              0.2222222222222222,
              "#7201a8"
             ],
             [
              0.3333333333333333,
              "#9c179e"
             ],
             [
              0.4444444444444444,
              "#bd3786"
             ],
             [
              0.5555555555555556,
              "#d8576b"
             ],
             [
              0.6666666666666666,
              "#ed7953"
             ],
             [
              0.7777777777777778,
              "#fb9f3a"
             ],
             [
              0.8888888888888888,
              "#fdca26"
             ],
             [
              1,
              "#f0f921"
             ]
            ],
            "type": "contour"
           }
          ],
          "contourcarpet": [
           {
            "colorbar": {
             "outlinewidth": 0,
             "ticks": ""
            },
            "type": "contourcarpet"
           }
          ],
          "heatmap": [
           {
            "colorbar": {
             "outlinewidth": 0,
             "ticks": ""
            },
            "colorscale": [
             [
              0,
              "#0d0887"
             ],
             [
              0.1111111111111111,
              "#46039f"
             ],
             [
              0.2222222222222222,
              "#7201a8"
             ],
             [
              0.3333333333333333,
              "#9c179e"
             ],
             [
              0.4444444444444444,
              "#bd3786"
             ],
             [
              0.5555555555555556,
              "#d8576b"
             ],
             [
              0.6666666666666666,
              "#ed7953"
             ],
             [
              0.7777777777777778,
              "#fb9f3a"
             ],
             [
              0.8888888888888888,
              "#fdca26"
             ],
             [
              1,
              "#f0f921"
             ]
            ],
            "type": "heatmap"
           }
          ],
          "heatmapgl": [
           {
            "colorbar": {
             "outlinewidth": 0,
             "ticks": ""
            },
            "colorscale": [
             [
              0,
              "#0d0887"
             ],
             [
              0.1111111111111111,
              "#46039f"
             ],
             [
              0.2222222222222222,
              "#7201a8"
             ],
             [
              0.3333333333333333,
              "#9c179e"
             ],
             [
              0.4444444444444444,
              "#bd3786"
             ],
             [
              0.5555555555555556,
              "#d8576b"
             ],
             [
              0.6666666666666666,
              "#ed7953"
             ],
             [
              0.7777777777777778,
              "#fb9f3a"
             ],
             [
              0.8888888888888888,
              "#fdca26"
             ],
             [
              1,
              "#f0f921"
             ]
            ],
            "type": "heatmapgl"
           }
          ],
          "histogram": [
           {
            "marker": {
             "pattern": {
              "fillmode": "overlay",
              "size": 10,
              "solidity": 0.2
             }
            },
            "type": "histogram"
           }
          ],
          "histogram2d": [
           {
            "colorbar": {
             "outlinewidth": 0,
             "ticks": ""
            },
            "colorscale": [
             [
              0,
              "#0d0887"
             ],
             [
              0.1111111111111111,
              "#46039f"
             ],
             [
              0.2222222222222222,
              "#7201a8"
             ],
             [
              0.3333333333333333,
              "#9c179e"
             ],
             [
              0.4444444444444444,
              "#bd3786"
             ],
             [
              0.5555555555555556,
              "#d8576b"
             ],
             [
              0.6666666666666666,
              "#ed7953"
             ],
             [
              0.7777777777777778,
              "#fb9f3a"
             ],
             [
              0.8888888888888888,
              "#fdca26"
             ],
             [
              1,
              "#f0f921"
             ]
            ],
            "type": "histogram2d"
           }
          ],
          "histogram2dcontour": [
           {
            "colorbar": {
             "outlinewidth": 0,
             "ticks": ""
            },
            "colorscale": [
             [
              0,
              "#0d0887"
             ],
             [
              0.1111111111111111,
              "#46039f"
             ],
             [
              0.2222222222222222,
              "#7201a8"
             ],
             [
              0.3333333333333333,
              "#9c179e"
             ],
             [
              0.4444444444444444,
              "#bd3786"
             ],
             [
              0.5555555555555556,
              "#d8576b"
             ],
             [
              0.6666666666666666,
              "#ed7953"
             ],
             [
              0.7777777777777778,
              "#fb9f3a"
             ],
             [
              0.8888888888888888,
              "#fdca26"
             ],
             [
              1,
              "#f0f921"
             ]
            ],
            "type": "histogram2dcontour"
           }
          ],
          "mesh3d": [
           {
            "colorbar": {
             "outlinewidth": 0,
             "ticks": ""
            },
            "type": "mesh3d"
           }
          ],
          "parcoords": [
           {
            "line": {
             "colorbar": {
              "outlinewidth": 0,
              "ticks": ""
             }
            },
            "type": "parcoords"
           }
          ],
          "pie": [
           {
            "automargin": true,
            "type": "pie"
           }
          ],
          "scatter": [
           {
            "fillpattern": {
             "fillmode": "overlay",
             "size": 10,
             "solidity": 0.2
            },
            "type": "scatter"
           }
          ],
          "scatter3d": [
           {
            "line": {
             "colorbar": {
              "outlinewidth": 0,
              "ticks": ""
             }
            },
            "marker": {
             "colorbar": {
              "outlinewidth": 0,
              "ticks": ""
             }
            },
            "type": "scatter3d"
           }
          ],
          "scattercarpet": [
           {
            "marker": {
             "colorbar": {
              "outlinewidth": 0,
              "ticks": ""
             }
            },
            "type": "scattercarpet"
           }
          ],
          "scattergeo": [
           {
            "marker": {
             "colorbar": {
              "outlinewidth": 0,
              "ticks": ""
             }
            },
            "type": "scattergeo"
           }
          ],
          "scattergl": [
           {
            "marker": {
             "colorbar": {
              "outlinewidth": 0,
              "ticks": ""
             }
            },
            "type": "scattergl"
           }
          ],
          "scattermapbox": [
           {
            "marker": {
             "colorbar": {
              "outlinewidth": 0,
              "ticks": ""
             }
            },
            "type": "scattermapbox"
           }
          ],
          "scatterpolar": [
           {
            "marker": {
             "colorbar": {
              "outlinewidth": 0,
              "ticks": ""
             }
            },
            "type": "scatterpolar"
           }
          ],
          "scatterpolargl": [
           {
            "marker": {
             "colorbar": {
              "outlinewidth": 0,
              "ticks": ""
             }
            },
            "type": "scatterpolargl"
           }
          ],
          "scatterternary": [
           {
            "marker": {
             "colorbar": {
              "outlinewidth": 0,
              "ticks": ""
             }
            },
            "type": "scatterternary"
           }
          ],
          "surface": [
           {
            "colorbar": {
             "outlinewidth": 0,
             "ticks": ""
            },
            "colorscale": [
             [
              0,
              "#0d0887"
             ],
             [
              0.1111111111111111,
              "#46039f"
             ],
             [
              0.2222222222222222,
              "#7201a8"
             ],
             [
              0.3333333333333333,
              "#9c179e"
             ],
             [
              0.4444444444444444,
              "#bd3786"
             ],
             [
              0.5555555555555556,
              "#d8576b"
             ],
             [
              0.6666666666666666,
              "#ed7953"
             ],
             [
              0.7777777777777778,
              "#fb9f3a"
             ],
             [
              0.8888888888888888,
              "#fdca26"
             ],
             [
              1,
              "#f0f921"
             ]
            ],
            "type": "surface"
           }
          ],
          "table": [
           {
            "cells": {
             "fill": {
              "color": "#EBF0F8"
             },
             "line": {
              "color": "white"
             }
            },
            "header": {
             "fill": {
              "color": "#C8D4E3"
             },
             "line": {
              "color": "white"
             }
            },
            "type": "table"
           }
          ]
         },
         "layout": {
          "annotationdefaults": {
           "arrowcolor": "#2a3f5f",
           "arrowhead": 0,
           "arrowwidth": 1
          },
          "autotypenumbers": "strict",
          "coloraxis": {
           "colorbar": {
            "outlinewidth": 0,
            "ticks": ""
           }
          },
          "colorscale": {
           "diverging": [
            [
             0,
             "#8e0152"
            ],
            [
             0.1,
             "#c51b7d"
            ],
            [
             0.2,
             "#de77ae"
            ],
            [
             0.3,
             "#f1b6da"
            ],
            [
             0.4,
             "#fde0ef"
            ],
            [
             0.5,
             "#f7f7f7"
            ],
            [
             0.6,
             "#e6f5d0"
            ],
            [
             0.7,
             "#b8e186"
            ],
            [
             0.8,
             "#7fbc41"
            ],
            [
             0.9,
             "#4d9221"
            ],
            [
             1,
             "#276419"
            ]
           ],
           "sequential": [
            [
             0,
             "#0d0887"
            ],
            [
             0.1111111111111111,
             "#46039f"
            ],
            [
             0.2222222222222222,
             "#7201a8"
            ],
            [
             0.3333333333333333,
             "#9c179e"
            ],
            [
             0.4444444444444444,
             "#bd3786"
            ],
            [
             0.5555555555555556,
             "#d8576b"
            ],
            [
             0.6666666666666666,
             "#ed7953"
            ],
            [
             0.7777777777777778,
             "#fb9f3a"
            ],
            [
             0.8888888888888888,
             "#fdca26"
            ],
            [
             1,
             "#f0f921"
            ]
           ],
           "sequentialminus": [
            [
             0,
             "#0d0887"
            ],
            [
             0.1111111111111111,
             "#46039f"
            ],
            [
             0.2222222222222222,
             "#7201a8"
            ],
            [
             0.3333333333333333,
             "#9c179e"
            ],
            [
             0.4444444444444444,
             "#bd3786"
            ],
            [
             0.5555555555555556,
             "#d8576b"
            ],
            [
             0.6666666666666666,
             "#ed7953"
            ],
            [
             0.7777777777777778,
             "#fb9f3a"
            ],
            [
             0.8888888888888888,
             "#fdca26"
            ],
            [
             1,
             "#f0f921"
            ]
           ]
          },
          "colorway": [
           "#636efa",
           "#EF553B",
           "#00cc96",
           "#ab63fa",
           "#FFA15A",
           "#19d3f3",
           "#FF6692",
           "#B6E880",
           "#FF97FF",
           "#FECB52"
          ],
          "font": {
           "color": "#2a3f5f"
          },
          "geo": {
           "bgcolor": "white",
           "lakecolor": "white",
           "landcolor": "#E5ECF6",
           "showlakes": true,
           "showland": true,
           "subunitcolor": "white"
          },
          "hoverlabel": {
           "align": "left"
          },
          "hovermode": "closest",
          "mapbox": {
           "style": "light"
          },
          "paper_bgcolor": "white",
          "plot_bgcolor": "#E5ECF6",
          "polar": {
           "angularaxis": {
            "gridcolor": "white",
            "linecolor": "white",
            "ticks": ""
           },
           "bgcolor": "#E5ECF6",
           "radialaxis": {
            "gridcolor": "white",
            "linecolor": "white",
            "ticks": ""
           }
          },
          "scene": {
           "xaxis": {
            "backgroundcolor": "#E5ECF6",
            "gridcolor": "white",
            "gridwidth": 2,
            "linecolor": "white",
            "showbackground": true,
            "ticks": "",
            "zerolinecolor": "white"
           },
           "yaxis": {
            "backgroundcolor": "#E5ECF6",
            "gridcolor": "white",
            "gridwidth": 2,
            "linecolor": "white",
            "showbackground": true,
            "ticks": "",
            "zerolinecolor": "white"
           },
           "zaxis": {
            "backgroundcolor": "#E5ECF6",
            "gridcolor": "white",
            "gridwidth": 2,
            "linecolor": "white",
            "showbackground": true,
            "ticks": "",
            "zerolinecolor": "white"
           }
          },
          "shapedefaults": {
           "line": {
            "color": "#2a3f5f"
           }
          },
          "ternary": {
           "aaxis": {
            "gridcolor": "white",
            "linecolor": "white",
            "ticks": ""
           },
           "baxis": {
            "gridcolor": "white",
            "linecolor": "white",
            "ticks": ""
           },
           "bgcolor": "#E5ECF6",
           "caxis": {
            "gridcolor": "white",
            "linecolor": "white",
            "ticks": ""
           }
          },
          "title": {
           "x": 0.05
          },
          "xaxis": {
           "automargin": true,
           "gridcolor": "white",
           "linecolor": "white",
           "ticks": "",
           "title": {
            "standoff": 15
           },
           "zerolinecolor": "white",
           "zerolinewidth": 2
          },
          "yaxis": {
           "automargin": true,
           "gridcolor": "white",
           "linecolor": "white",
           "ticks": "",
           "title": {
            "standoff": 15
           },
           "zerolinecolor": "white",
           "zerolinewidth": 2
          }
         }
        },
        "title": {
         "text": "eGFR spread by race<br><sup><i>(n=223)</i></sup>"
        }
       }
      }
     },
     "metadata": {},
     "output_type": "display_data"
    }
   ],
   "source": [
    "fig = go.Figure()\n",
    "\n",
    "for race in df.Race.unique():\n",
    "    dft = df[df['Race']==race]\n",
    "    name = f\"{race}<br><sup><i>(n={len(dft)})</i></sup>\"\n",
    "    fig.add_trace(go.Box(y=dft['eGFR'], name = name,\n",
    "                         notched=True,\n",
    "                    #marker_color = 'lightseagreen'\n",
    "                    ))\n",
    "\n",
    "fig.update_layout(\n",
    "    #title='Creatinine > 80',\n",
    "    title=f\"eGFR spread by race<br><sup><i>(n={len(df)})</i></sup>\",\n",
    "    showlegend=False,\n",
    ")\n",
    "\n",
    "fig.show()"
   ]
  },
  {
   "attachments": {},
   "cell_type": "markdown",
   "metadata": {},
   "source": [
    "## Correlations\n"
   ]
  },
  {
   "cell_type": "code",
   "execution_count": 148,
   "metadata": {},
   "outputs": [
    {
     "data": {
      "application/vnd.plotly.v1+json": {
       "config": {
        "plotlyServerURL": "https://plot.ly"
       },
       "data": [
        {
         "hoverongaps": true,
         "text": [
          [
           1,
           0.0997,
           0.1051,
           0.046,
           0.0714,
           0.0449
          ],
          [
           0.0997,
           1,
           0.7907,
           0.0851,
           0.131,
           0.7303
          ],
          [
           0.1051,
           0.7907,
           1,
           0.1102,
           0.0393,
           0.6328
          ],
          [
           0.046,
           0.0851,
           0.1102,
           1,
           -0.0549,
           -0.4903
          ],
          [
           0.0714,
           0.131,
           0.0393,
           -0.0549,
           1,
           0.1303
          ],
          [
           0.0449,
           0.7303,
           0.6328,
           -0.4903,
           0.1303,
           1
          ]
         ],
         "texttemplate": "%{text}",
         "type": "heatmap",
         "x": [
          "HbA1C",
          "BMI",
          "MUAC",
          "Creatinine",
          "ALT",
          "eGFR"
         ],
         "y": [
          "HbA1C",
          "BMI",
          "MUAC",
          "Creatinine",
          "ALT",
          "eGFR"
         ],
         "z": [
          [
           1,
           0.0997,
           0.1051,
           0.046,
           0.0714,
           0.0449
          ],
          [
           0.0997,
           1,
           0.7907,
           0.0851,
           0.131,
           0.7303
          ],
          [
           0.1051,
           0.7907,
           1,
           0.1102,
           0.0393,
           0.6328
          ],
          [
           0.046,
           0.0851,
           0.1102,
           1,
           -0.0549,
           -0.4903
          ],
          [
           0.0714,
           0.131,
           0.0393,
           -0.0549,
           1,
           0.1303
          ],
          [
           0.0449,
           0.7303,
           0.6328,
           -0.4903,
           0.1303,
           1
          ]
         ]
        }
       ],
       "layout": {
        "showlegend": false,
        "template": {
         "data": {
          "bar": [
           {
            "error_x": {
             "color": "#2a3f5f"
            },
            "error_y": {
             "color": "#2a3f5f"
            },
            "marker": {
             "line": {
              "color": "#E5ECF6",
              "width": 0.5
             },
             "pattern": {
              "fillmode": "overlay",
              "size": 10,
              "solidity": 0.2
             }
            },
            "type": "bar"
           }
          ],
          "barpolar": [
           {
            "marker": {
             "line": {
              "color": "#E5ECF6",
              "width": 0.5
             },
             "pattern": {
              "fillmode": "overlay",
              "size": 10,
              "solidity": 0.2
             }
            },
            "type": "barpolar"
           }
          ],
          "carpet": [
           {
            "aaxis": {
             "endlinecolor": "#2a3f5f",
             "gridcolor": "white",
             "linecolor": "white",
             "minorgridcolor": "white",
             "startlinecolor": "#2a3f5f"
            },
            "baxis": {
             "endlinecolor": "#2a3f5f",
             "gridcolor": "white",
             "linecolor": "white",
             "minorgridcolor": "white",
             "startlinecolor": "#2a3f5f"
            },
            "type": "carpet"
           }
          ],
          "choropleth": [
           {
            "colorbar": {
             "outlinewidth": 0,
             "ticks": ""
            },
            "type": "choropleth"
           }
          ],
          "contour": [
           {
            "colorbar": {
             "outlinewidth": 0,
             "ticks": ""
            },
            "colorscale": [
             [
              0,
              "#0d0887"
             ],
             [
              0.1111111111111111,
              "#46039f"
             ],
             [
              0.2222222222222222,
              "#7201a8"
             ],
             [
              0.3333333333333333,
              "#9c179e"
             ],
             [
              0.4444444444444444,
              "#bd3786"
             ],
             [
              0.5555555555555556,
              "#d8576b"
             ],
             [
              0.6666666666666666,
              "#ed7953"
             ],
             [
              0.7777777777777778,
              "#fb9f3a"
             ],
             [
              0.8888888888888888,
              "#fdca26"
             ],
             [
              1,
              "#f0f921"
             ]
            ],
            "type": "contour"
           }
          ],
          "contourcarpet": [
           {
            "colorbar": {
             "outlinewidth": 0,
             "ticks": ""
            },
            "type": "contourcarpet"
           }
          ],
          "heatmap": [
           {
            "colorbar": {
             "outlinewidth": 0,
             "ticks": ""
            },
            "colorscale": [
             [
              0,
              "#0d0887"
             ],
             [
              0.1111111111111111,
              "#46039f"
             ],
             [
              0.2222222222222222,
              "#7201a8"
             ],
             [
              0.3333333333333333,
              "#9c179e"
             ],
             [
              0.4444444444444444,
              "#bd3786"
             ],
             [
              0.5555555555555556,
              "#d8576b"
             ],
             [
              0.6666666666666666,
              "#ed7953"
             ],
             [
              0.7777777777777778,
              "#fb9f3a"
             ],
             [
              0.8888888888888888,
              "#fdca26"
             ],
             [
              1,
              "#f0f921"
             ]
            ],
            "type": "heatmap"
           }
          ],
          "heatmapgl": [
           {
            "colorbar": {
             "outlinewidth": 0,
             "ticks": ""
            },
            "colorscale": [
             [
              0,
              "#0d0887"
             ],
             [
              0.1111111111111111,
              "#46039f"
             ],
             [
              0.2222222222222222,
              "#7201a8"
             ],
             [
              0.3333333333333333,
              "#9c179e"
             ],
             [
              0.4444444444444444,
              "#bd3786"
             ],
             [
              0.5555555555555556,
              "#d8576b"
             ],
             [
              0.6666666666666666,
              "#ed7953"
             ],
             [
              0.7777777777777778,
              "#fb9f3a"
             ],
             [
              0.8888888888888888,
              "#fdca26"
             ],
             [
              1,
              "#f0f921"
             ]
            ],
            "type": "heatmapgl"
           }
          ],
          "histogram": [
           {
            "marker": {
             "pattern": {
              "fillmode": "overlay",
              "size": 10,
              "solidity": 0.2
             }
            },
            "type": "histogram"
           }
          ],
          "histogram2d": [
           {
            "colorbar": {
             "outlinewidth": 0,
             "ticks": ""
            },
            "colorscale": [
             [
              0,
              "#0d0887"
             ],
             [
              0.1111111111111111,
              "#46039f"
             ],
             [
              0.2222222222222222,
              "#7201a8"
             ],
             [
              0.3333333333333333,
              "#9c179e"
             ],
             [
              0.4444444444444444,
              "#bd3786"
             ],
             [
              0.5555555555555556,
              "#d8576b"
             ],
             [
              0.6666666666666666,
              "#ed7953"
             ],
             [
              0.7777777777777778,
              "#fb9f3a"
             ],
             [
              0.8888888888888888,
              "#fdca26"
             ],
             [
              1,
              "#f0f921"
             ]
            ],
            "type": "histogram2d"
           }
          ],
          "histogram2dcontour": [
           {
            "colorbar": {
             "outlinewidth": 0,
             "ticks": ""
            },
            "colorscale": [
             [
              0,
              "#0d0887"
             ],
             [
              0.1111111111111111,
              "#46039f"
             ],
             [
              0.2222222222222222,
              "#7201a8"
             ],
             [
              0.3333333333333333,
              "#9c179e"
             ],
             [
              0.4444444444444444,
              "#bd3786"
             ],
             [
              0.5555555555555556,
              "#d8576b"
             ],
             [
              0.6666666666666666,
              "#ed7953"
             ],
             [
              0.7777777777777778,
              "#fb9f3a"
             ],
             [
              0.8888888888888888,
              "#fdca26"
             ],
             [
              1,
              "#f0f921"
             ]
            ],
            "type": "histogram2dcontour"
           }
          ],
          "mesh3d": [
           {
            "colorbar": {
             "outlinewidth": 0,
             "ticks": ""
            },
            "type": "mesh3d"
           }
          ],
          "parcoords": [
           {
            "line": {
             "colorbar": {
              "outlinewidth": 0,
              "ticks": ""
             }
            },
            "type": "parcoords"
           }
          ],
          "pie": [
           {
            "automargin": true,
            "type": "pie"
           }
          ],
          "scatter": [
           {
            "fillpattern": {
             "fillmode": "overlay",
             "size": 10,
             "solidity": 0.2
            },
            "type": "scatter"
           }
          ],
          "scatter3d": [
           {
            "line": {
             "colorbar": {
              "outlinewidth": 0,
              "ticks": ""
             }
            },
            "marker": {
             "colorbar": {
              "outlinewidth": 0,
              "ticks": ""
             }
            },
            "type": "scatter3d"
           }
          ],
          "scattercarpet": [
           {
            "marker": {
             "colorbar": {
              "outlinewidth": 0,
              "ticks": ""
             }
            },
            "type": "scattercarpet"
           }
          ],
          "scattergeo": [
           {
            "marker": {
             "colorbar": {
              "outlinewidth": 0,
              "ticks": ""
             }
            },
            "type": "scattergeo"
           }
          ],
          "scattergl": [
           {
            "marker": {
             "colorbar": {
              "outlinewidth": 0,
              "ticks": ""
             }
            },
            "type": "scattergl"
           }
          ],
          "scattermapbox": [
           {
            "marker": {
             "colorbar": {
              "outlinewidth": 0,
              "ticks": ""
             }
            },
            "type": "scattermapbox"
           }
          ],
          "scatterpolar": [
           {
            "marker": {
             "colorbar": {
              "outlinewidth": 0,
              "ticks": ""
             }
            },
            "type": "scatterpolar"
           }
          ],
          "scatterpolargl": [
           {
            "marker": {
             "colorbar": {
              "outlinewidth": 0,
              "ticks": ""
             }
            },
            "type": "scatterpolargl"
           }
          ],
          "scatterternary": [
           {
            "marker": {
             "colorbar": {
              "outlinewidth": 0,
              "ticks": ""
             }
            },
            "type": "scatterternary"
           }
          ],
          "surface": [
           {
            "colorbar": {
             "outlinewidth": 0,
             "ticks": ""
            },
            "colorscale": [
             [
              0,
              "#0d0887"
             ],
             [
              0.1111111111111111,
              "#46039f"
             ],
             [
              0.2222222222222222,
              "#7201a8"
             ],
             [
              0.3333333333333333,
              "#9c179e"
             ],
             [
              0.4444444444444444,
              "#bd3786"
             ],
             [
              0.5555555555555556,
              "#d8576b"
             ],
             [
              0.6666666666666666,
              "#ed7953"
             ],
             [
              0.7777777777777778,
              "#fb9f3a"
             ],
             [
              0.8888888888888888,
              "#fdca26"
             ],
             [
              1,
              "#f0f921"
             ]
            ],
            "type": "surface"
           }
          ],
          "table": [
           {
            "cells": {
             "fill": {
              "color": "#EBF0F8"
             },
             "line": {
              "color": "white"
             }
            },
            "header": {
             "fill": {
              "color": "#C8D4E3"
             },
             "line": {
              "color": "white"
             }
            },
            "type": "table"
           }
          ]
         },
         "layout": {
          "annotationdefaults": {
           "arrowcolor": "#2a3f5f",
           "arrowhead": 0,
           "arrowwidth": 1
          },
          "autotypenumbers": "strict",
          "coloraxis": {
           "colorbar": {
            "outlinewidth": 0,
            "ticks": ""
           }
          },
          "colorscale": {
           "diverging": [
            [
             0,
             "#8e0152"
            ],
            [
             0.1,
             "#c51b7d"
            ],
            [
             0.2,
             "#de77ae"
            ],
            [
             0.3,
             "#f1b6da"
            ],
            [
             0.4,
             "#fde0ef"
            ],
            [
             0.5,
             "#f7f7f7"
            ],
            [
             0.6,
             "#e6f5d0"
            ],
            [
             0.7,
             "#b8e186"
            ],
            [
             0.8,
             "#7fbc41"
            ],
            [
             0.9,
             "#4d9221"
            ],
            [
             1,
             "#276419"
            ]
           ],
           "sequential": [
            [
             0,
             "#0d0887"
            ],
            [
             0.1111111111111111,
             "#46039f"
            ],
            [
             0.2222222222222222,
             "#7201a8"
            ],
            [
             0.3333333333333333,
             "#9c179e"
            ],
            [
             0.4444444444444444,
             "#bd3786"
            ],
            [
             0.5555555555555556,
             "#d8576b"
            ],
            [
             0.6666666666666666,
             "#ed7953"
            ],
            [
             0.7777777777777778,
             "#fb9f3a"
            ],
            [
             0.8888888888888888,
             "#fdca26"
            ],
            [
             1,
             "#f0f921"
            ]
           ],
           "sequentialminus": [
            [
             0,
             "#0d0887"
            ],
            [
             0.1111111111111111,
             "#46039f"
            ],
            [
             0.2222222222222222,
             "#7201a8"
            ],
            [
             0.3333333333333333,
             "#9c179e"
            ],
            [
             0.4444444444444444,
             "#bd3786"
            ],
            [
             0.5555555555555556,
             "#d8576b"
            ],
            [
             0.6666666666666666,
             "#ed7953"
            ],
            [
             0.7777777777777778,
             "#fb9f3a"
            ],
            [
             0.8888888888888888,
             "#fdca26"
            ],
            [
             1,
             "#f0f921"
            ]
           ]
          },
          "colorway": [
           "#636efa",
           "#EF553B",
           "#00cc96",
           "#ab63fa",
           "#FFA15A",
           "#19d3f3",
           "#FF6692",
           "#B6E880",
           "#FF97FF",
           "#FECB52"
          ],
          "font": {
           "color": "#2a3f5f"
          },
          "geo": {
           "bgcolor": "white",
           "lakecolor": "white",
           "landcolor": "#E5ECF6",
           "showlakes": true,
           "showland": true,
           "subunitcolor": "white"
          },
          "hoverlabel": {
           "align": "left"
          },
          "hovermode": "closest",
          "mapbox": {
           "style": "light"
          },
          "paper_bgcolor": "white",
          "plot_bgcolor": "#E5ECF6",
          "polar": {
           "angularaxis": {
            "gridcolor": "white",
            "linecolor": "white",
            "ticks": ""
           },
           "bgcolor": "#E5ECF6",
           "radialaxis": {
            "gridcolor": "white",
            "linecolor": "white",
            "ticks": ""
           }
          },
          "scene": {
           "xaxis": {
            "backgroundcolor": "#E5ECF6",
            "gridcolor": "white",
            "gridwidth": 2,
            "linecolor": "white",
            "showbackground": true,
            "ticks": "",
            "zerolinecolor": "white"
           },
           "yaxis": {
            "backgroundcolor": "#E5ECF6",
            "gridcolor": "white",
            "gridwidth": 2,
            "linecolor": "white",
            "showbackground": true,
            "ticks": "",
            "zerolinecolor": "white"
           },
           "zaxis": {
            "backgroundcolor": "#E5ECF6",
            "gridcolor": "white",
            "gridwidth": 2,
            "linecolor": "white",
            "showbackground": true,
            "ticks": "",
            "zerolinecolor": "white"
           }
          },
          "shapedefaults": {
           "line": {
            "color": "#2a3f5f"
           }
          },
          "ternary": {
           "aaxis": {
            "gridcolor": "white",
            "linecolor": "white",
            "ticks": ""
           },
           "baxis": {
            "gridcolor": "white",
            "linecolor": "white",
            "ticks": ""
           },
           "bgcolor": "#E5ECF6",
           "caxis": {
            "gridcolor": "white",
            "linecolor": "white",
            "ticks": ""
           }
          },
          "title": {
           "x": 0.05
          },
          "xaxis": {
           "automargin": true,
           "gridcolor": "white",
           "linecolor": "white",
           "ticks": "",
           "title": {
            "standoff": 15
           },
           "zerolinecolor": "white",
           "zerolinewidth": 2
          },
          "yaxis": {
           "automargin": true,
           "gridcolor": "white",
           "linecolor": "white",
           "ticks": "",
           "title": {
            "standoff": 15
           },
           "zerolinecolor": "white",
           "zerolinewidth": 2
          }
         }
        },
        "title": {
         "text": "Correlation matrix<br><sup><i>(n=223)</i></sup>"
        }
       }
      }
     },
     "metadata": {},
     "output_type": "display_data"
    }
   ],
   "source": [
    "columns = ['HbA1C', 'BMI', 'MUAC', 'Creatinine', 'ALT', 'eGFR']\n",
    "values = []\n",
    "\n",
    "for x in columns:\n",
    "    vals = []\n",
    "    for y in columns:\n",
    "        corr = round(df[x].corr(df[y]),4)\n",
    "        vals.append(corr)\n",
    "    values.append(vals)\n",
    "\n",
    "fig = go.Figure(data=go.Heatmap(\n",
    "                   z=values,\n",
    "                   x=columns,\n",
    "                   y=columns,\n",
    "                   text=values,\n",
    "                   texttemplate=\"%{text}\",\n",
    "                   hoverongaps = True, ))\n",
    "\n",
    "fig.update_layout(\n",
    "    #title='Creatinine > 80',\n",
    "    title=f\"Correlation matrix<br><sup><i>(n={len(df)})</i></sup>\",\n",
    "    showlegend=False,\n",
    ")\n",
    "\n",
    "fig.show()"
   ]
  },
  {
   "attachments": {},
   "cell_type": "markdown",
   "metadata": {},
   "source": [
    "### MUAC vs BMI by race"
   ]
  },
  {
   "cell_type": "code",
   "execution_count": 149,
   "metadata": {},
   "outputs": [
    {
     "data": {
      "application/vnd.plotly.v1+json": {
       "config": {
        "plotlyServerURL": "https://plot.ly"
       },
       "data": [
        {
         "marker": {
          "line": {
           "width": 1
          },
          "size": 10
         },
         "mode": "markers",
         "name": "WHITE<br><sup><i>(correlation=0.7324)</i></sup>",
         "type": "scatter",
         "x": [
          24.85,
          33.52,
          28.04,
          25.32,
          21.94,
          28.16,
          25.18,
          28.46,
          36.44,
          23.23,
          37.81,
          22.49,
          30.28,
          30.71,
          25.25,
          20.87,
          30.79,
          26.61,
          25.29,
          18,
          25.08,
          19.05,
          34.13,
          42.1,
          22.92,
          23.78,
          31.05,
          32.72,
          28.31,
          28.87,
          29.17,
          29.91,
          24,
          35.71,
          30.48,
          38.8,
          23.58,
          23.49,
          26.27,
          30.27,
          25.9,
          29.43,
          30.05,
          20.88,
          25.79,
          28.34,
          29.51,
          30.37,
          25.61,
          26.97,
          31.05,
          26.41,
          28.08,
          29.88,
          34.17,
          29.3,
          40.6,
          25.92,
          33.09,
          24.02,
          21.22,
          65.92,
          22.64,
          36.13,
          26.47,
          24.24,
          23.6,
          27.48,
          42.98,
          27.85,
          29.68,
          18.29,
          25.97,
          31.09,
          28.06,
          28.39,
          27.07,
          43.65,
          29.53,
          29.46,
          23.41,
          26.82,
          31.57,
          26.87,
          22.59,
          30.34,
          22.66,
          28.51,
          27.64,
          31.33,
          21.86,
          45.71,
          29.96,
          35.99,
          39.82,
          36.05,
          24.17,
          37.85,
          21.12,
          30.26,
          28.6,
          22.19,
          26.75,
          21.56
         ],
         "y": [
          30,
          29,
          32,
          31,
          24,
          34,
          28.5,
          29.5,
          38.5,
          26,
          37.5,
          29.5,
          34,
          30.5,
          33.5,
          29.5,
          31,
          32,
          30,
          22,
          30,
          21.5,
          30,
          34.5,
          24,
          25,
          29,
          28.5,
          30.5,
          34.5,
          29,
          29,
          28,
          31.5,
          31,
          36.5,
          24,
          26,
          28.5,
          29.5,
          29.5,
          29,
          30.5,
          20.5,
          28.5,
          31,
          33,
          32,
          28,
          26,
          30,
          29,
          25.5,
          30,
          33,
          33,
          35,
          27,
          32,
          28,
          27,
          35,
          29,
          29.5,
          29.5,
          27,
          28.5,
          27,
          37,
          27.85,
          30,
          22.5,
          26.5,
          32,
          33,
          37,
          28,
          35,
          30.5,
          29.5,
          24,
          25.5,
          30,
          27,
          23.5,
          33.5,
          28.5,
          31,
          29.5,
          33,
          23.3,
          46.5,
          30,
          36,
          34.5,
          31,
          26.5,
          35,
          24.5,
          30,
          30,
          25,
          27.5,
          23.5
         ]
        },
        {
         "marker": {
          "line": {
           "width": 1
          },
          "size": 10
         },
         "mode": "markers",
         "name": "MIXED<br><sup><i>(correlation=0.8771)</i></sup>",
         "type": "scatter",
         "x": [
          22.31,
          25.66,
          31.34,
          28.28,
          30.73,
          27.85,
          23.42,
          23.51,
          25.88,
          38.94,
          39.35,
          42.78
         ],
         "y": [
          27,
          28.5,
          29.5,
          33,
          33,
          26,
          25,
          28,
          32,
          34,
          38,
          41
         ]
        },
        {
         "marker": {
          "line": {
           "width": 1
          },
          "size": 10
         },
         "mode": "markers",
         "name": "BLACK<br><sup><i>(correlation=0.8426)</i></sup>",
         "type": "scatter",
         "x": [
          22.73,
          33.57,
          21.53,
          35.28,
          28.42,
          34.12,
          42.39,
          43.81,
          39.98,
          31.25,
          27.63,
          29.97,
          37.78,
          36.55,
          24.54,
          28.25,
          24.84,
          46.48,
          30.44,
          24.49,
          19.99,
          24.77,
          43.25,
          30.86,
          27.27,
          25.88,
          32.92,
          30.99,
          26.05,
          28.83,
          31.84,
          26.93,
          34.16,
          33.5,
          29.92,
          32.96,
          24.14,
          31.07,
          21.64,
          37.92,
          29.76,
          44.66,
          38.79,
          27.66,
          31.61,
          33.12,
          31.35,
          33.06,
          26.49,
          33.41,
          36.49
         ],
         "y": [
          28,
          36,
          28,
          39,
          34,
          42.5,
          42,
          40,
          40,
          32,
          29.5,
          33,
          37,
          40,
          33.5,
          30,
          28.5,
          41.5,
          34,
          26,
          30,
          24.5,
          44.5,
          33,
          30,
          29,
          35,
          35,
          29,
          29,
          34,
          28,
          38.5,
          33,
          30.5,
          41,
          26,
          28.5,
          27,
          39,
          26,
          45.5,
          38.5,
          31,
          32.5,
          32.5,
          30,
          33,
          28,
          32,
          29.5
         ]
        },
        {
         "marker": {
          "line": {
           "width": 1
          },
          "size": 10
         },
         "mode": "markers",
         "name": "ASIAN<br><sup><i>(correlation=0.8186)</i></sup>",
         "type": "scatter",
         "x": [
          22.77,
          27.66,
          28.89,
          26.1,
          23.02,
          23.24,
          27.74,
          22.07,
          20.85,
          27.56,
          33.89,
          29.27,
          21.98,
          26.18,
          30.49,
          29.29,
          25.77,
          25.43,
          24.84,
          29.3,
          29.43,
          29.48,
          28.27,
          23.27,
          30.75,
          29.9,
          35.88,
          36.13,
          23.01,
          30.49,
          29.8,
          32.96,
          21.7,
          36.42,
          25.62,
          28.04,
          20.78,
          32.17,
          20.91,
          22.31,
          27.84,
          31.73,
          32.34,
          35.18,
          20.33,
          26.23,
          19.4,
          22.14,
          23.73,
          28.09,
          25.97,
          22.56,
          23.01,
          22.27,
          24.54,
          25
         ],
         "y": [
          30.5,
          28.5,
          29,
          27.5,
          28,
          25.5,
          28.5,
          25,
          23.5,
          30.5,
          31.5,
          33,
          26,
          30,
          28.5,
          30,
          23.5,
          27.5,
          31.5,
          29,
          33,
          29.5,
          28,
          27,
          31.5,
          30.5,
          33,
          39,
          31,
          32,
          32,
          34,
          25,
          36,
          27,
          32,
          22.5,
          31,
          22.5,
          23,
          28.5,
          29,
          30,
          30.5,
          22,
          28,
          25,
          23,
          24,
          28.5,
          26,
          22,
          25.5,
          26,
          24.5,
          26
         ]
        }
       ],
       "layout": {
        "template": {
         "data": {
          "bar": [
           {
            "error_x": {
             "color": "#2a3f5f"
            },
            "error_y": {
             "color": "#2a3f5f"
            },
            "marker": {
             "line": {
              "color": "#E5ECF6",
              "width": 0.5
             },
             "pattern": {
              "fillmode": "overlay",
              "size": 10,
              "solidity": 0.2
             }
            },
            "type": "bar"
           }
          ],
          "barpolar": [
           {
            "marker": {
             "line": {
              "color": "#E5ECF6",
              "width": 0.5
             },
             "pattern": {
              "fillmode": "overlay",
              "size": 10,
              "solidity": 0.2
             }
            },
            "type": "barpolar"
           }
          ],
          "carpet": [
           {
            "aaxis": {
             "endlinecolor": "#2a3f5f",
             "gridcolor": "white",
             "linecolor": "white",
             "minorgridcolor": "white",
             "startlinecolor": "#2a3f5f"
            },
            "baxis": {
             "endlinecolor": "#2a3f5f",
             "gridcolor": "white",
             "linecolor": "white",
             "minorgridcolor": "white",
             "startlinecolor": "#2a3f5f"
            },
            "type": "carpet"
           }
          ],
          "choropleth": [
           {
            "colorbar": {
             "outlinewidth": 0,
             "ticks": ""
            },
            "type": "choropleth"
           }
          ],
          "contour": [
           {
            "colorbar": {
             "outlinewidth": 0,
             "ticks": ""
            },
            "colorscale": [
             [
              0,
              "#0d0887"
             ],
             [
              0.1111111111111111,
              "#46039f"
             ],
             [
              0.2222222222222222,
              "#7201a8"
             ],
             [
              0.3333333333333333,
              "#9c179e"
             ],
             [
              0.4444444444444444,
              "#bd3786"
             ],
             [
              0.5555555555555556,
              "#d8576b"
             ],
             [
              0.6666666666666666,
              "#ed7953"
             ],
             [
              0.7777777777777778,
              "#fb9f3a"
             ],
             [
              0.8888888888888888,
              "#fdca26"
             ],
             [
              1,
              "#f0f921"
             ]
            ],
            "type": "contour"
           }
          ],
          "contourcarpet": [
           {
            "colorbar": {
             "outlinewidth": 0,
             "ticks": ""
            },
            "type": "contourcarpet"
           }
          ],
          "heatmap": [
           {
            "colorbar": {
             "outlinewidth": 0,
             "ticks": ""
            },
            "colorscale": [
             [
              0,
              "#0d0887"
             ],
             [
              0.1111111111111111,
              "#46039f"
             ],
             [
              0.2222222222222222,
              "#7201a8"
             ],
             [
              0.3333333333333333,
              "#9c179e"
             ],
             [
              0.4444444444444444,
              "#bd3786"
             ],
             [
              0.5555555555555556,
              "#d8576b"
             ],
             [
              0.6666666666666666,
              "#ed7953"
             ],
             [
              0.7777777777777778,
              "#fb9f3a"
             ],
             [
              0.8888888888888888,
              "#fdca26"
             ],
             [
              1,
              "#f0f921"
             ]
            ],
            "type": "heatmap"
           }
          ],
          "heatmapgl": [
           {
            "colorbar": {
             "outlinewidth": 0,
             "ticks": ""
            },
            "colorscale": [
             [
              0,
              "#0d0887"
             ],
             [
              0.1111111111111111,
              "#46039f"
             ],
             [
              0.2222222222222222,
              "#7201a8"
             ],
             [
              0.3333333333333333,
              "#9c179e"
             ],
             [
              0.4444444444444444,
              "#bd3786"
             ],
             [
              0.5555555555555556,
              "#d8576b"
             ],
             [
              0.6666666666666666,
              "#ed7953"
             ],
             [
              0.7777777777777778,
              "#fb9f3a"
             ],
             [
              0.8888888888888888,
              "#fdca26"
             ],
             [
              1,
              "#f0f921"
             ]
            ],
            "type": "heatmapgl"
           }
          ],
          "histogram": [
           {
            "marker": {
             "pattern": {
              "fillmode": "overlay",
              "size": 10,
              "solidity": 0.2
             }
            },
            "type": "histogram"
           }
          ],
          "histogram2d": [
           {
            "colorbar": {
             "outlinewidth": 0,
             "ticks": ""
            },
            "colorscale": [
             [
              0,
              "#0d0887"
             ],
             [
              0.1111111111111111,
              "#46039f"
             ],
             [
              0.2222222222222222,
              "#7201a8"
             ],
             [
              0.3333333333333333,
              "#9c179e"
             ],
             [
              0.4444444444444444,
              "#bd3786"
             ],
             [
              0.5555555555555556,
              "#d8576b"
             ],
             [
              0.6666666666666666,
              "#ed7953"
             ],
             [
              0.7777777777777778,
              "#fb9f3a"
             ],
             [
              0.8888888888888888,
              "#fdca26"
             ],
             [
              1,
              "#f0f921"
             ]
            ],
            "type": "histogram2d"
           }
          ],
          "histogram2dcontour": [
           {
            "colorbar": {
             "outlinewidth": 0,
             "ticks": ""
            },
            "colorscale": [
             [
              0,
              "#0d0887"
             ],
             [
              0.1111111111111111,
              "#46039f"
             ],
             [
              0.2222222222222222,
              "#7201a8"
             ],
             [
              0.3333333333333333,
              "#9c179e"
             ],
             [
              0.4444444444444444,
              "#bd3786"
             ],
             [
              0.5555555555555556,
              "#d8576b"
             ],
             [
              0.6666666666666666,
              "#ed7953"
             ],
             [
              0.7777777777777778,
              "#fb9f3a"
             ],
             [
              0.8888888888888888,
              "#fdca26"
             ],
             [
              1,
              "#f0f921"
             ]
            ],
            "type": "histogram2dcontour"
           }
          ],
          "mesh3d": [
           {
            "colorbar": {
             "outlinewidth": 0,
             "ticks": ""
            },
            "type": "mesh3d"
           }
          ],
          "parcoords": [
           {
            "line": {
             "colorbar": {
              "outlinewidth": 0,
              "ticks": ""
             }
            },
            "type": "parcoords"
           }
          ],
          "pie": [
           {
            "automargin": true,
            "type": "pie"
           }
          ],
          "scatter": [
           {
            "fillpattern": {
             "fillmode": "overlay",
             "size": 10,
             "solidity": 0.2
            },
            "type": "scatter"
           }
          ],
          "scatter3d": [
           {
            "line": {
             "colorbar": {
              "outlinewidth": 0,
              "ticks": ""
             }
            },
            "marker": {
             "colorbar": {
              "outlinewidth": 0,
              "ticks": ""
             }
            },
            "type": "scatter3d"
           }
          ],
          "scattercarpet": [
           {
            "marker": {
             "colorbar": {
              "outlinewidth": 0,
              "ticks": ""
             }
            },
            "type": "scattercarpet"
           }
          ],
          "scattergeo": [
           {
            "marker": {
             "colorbar": {
              "outlinewidth": 0,
              "ticks": ""
             }
            },
            "type": "scattergeo"
           }
          ],
          "scattergl": [
           {
            "marker": {
             "colorbar": {
              "outlinewidth": 0,
              "ticks": ""
             }
            },
            "type": "scattergl"
           }
          ],
          "scattermapbox": [
           {
            "marker": {
             "colorbar": {
              "outlinewidth": 0,
              "ticks": ""
             }
            },
            "type": "scattermapbox"
           }
          ],
          "scatterpolar": [
           {
            "marker": {
             "colorbar": {
              "outlinewidth": 0,
              "ticks": ""
             }
            },
            "type": "scatterpolar"
           }
          ],
          "scatterpolargl": [
           {
            "marker": {
             "colorbar": {
              "outlinewidth": 0,
              "ticks": ""
             }
            },
            "type": "scatterpolargl"
           }
          ],
          "scatterternary": [
           {
            "marker": {
             "colorbar": {
              "outlinewidth": 0,
              "ticks": ""
             }
            },
            "type": "scatterternary"
           }
          ],
          "surface": [
           {
            "colorbar": {
             "outlinewidth": 0,
             "ticks": ""
            },
            "colorscale": [
             [
              0,
              "#0d0887"
             ],
             [
              0.1111111111111111,
              "#46039f"
             ],
             [
              0.2222222222222222,
              "#7201a8"
             ],
             [
              0.3333333333333333,
              "#9c179e"
             ],
             [
              0.4444444444444444,
              "#bd3786"
             ],
             [
              0.5555555555555556,
              "#d8576b"
             ],
             [
              0.6666666666666666,
              "#ed7953"
             ],
             [
              0.7777777777777778,
              "#fb9f3a"
             ],
             [
              0.8888888888888888,
              "#fdca26"
             ],
             [
              1,
              "#f0f921"
             ]
            ],
            "type": "surface"
           }
          ],
          "table": [
           {
            "cells": {
             "fill": {
              "color": "#EBF0F8"
             },
             "line": {
              "color": "white"
             }
            },
            "header": {
             "fill": {
              "color": "#C8D4E3"
             },
             "line": {
              "color": "white"
             }
            },
            "type": "table"
           }
          ]
         },
         "layout": {
          "annotationdefaults": {
           "arrowcolor": "#2a3f5f",
           "arrowhead": 0,
           "arrowwidth": 1
          },
          "autotypenumbers": "strict",
          "coloraxis": {
           "colorbar": {
            "outlinewidth": 0,
            "ticks": ""
           }
          },
          "colorscale": {
           "diverging": [
            [
             0,
             "#8e0152"
            ],
            [
             0.1,
             "#c51b7d"
            ],
            [
             0.2,
             "#de77ae"
            ],
            [
             0.3,
             "#f1b6da"
            ],
            [
             0.4,
             "#fde0ef"
            ],
            [
             0.5,
             "#f7f7f7"
            ],
            [
             0.6,
             "#e6f5d0"
            ],
            [
             0.7,
             "#b8e186"
            ],
            [
             0.8,
             "#7fbc41"
            ],
            [
             0.9,
             "#4d9221"
            ],
            [
             1,
             "#276419"
            ]
           ],
           "sequential": [
            [
             0,
             "#0d0887"
            ],
            [
             0.1111111111111111,
             "#46039f"
            ],
            [
             0.2222222222222222,
             "#7201a8"
            ],
            [
             0.3333333333333333,
             "#9c179e"
            ],
            [
             0.4444444444444444,
             "#bd3786"
            ],
            [
             0.5555555555555556,
             "#d8576b"
            ],
            [
             0.6666666666666666,
             "#ed7953"
            ],
            [
             0.7777777777777778,
             "#fb9f3a"
            ],
            [
             0.8888888888888888,
             "#fdca26"
            ],
            [
             1,
             "#f0f921"
            ]
           ],
           "sequentialminus": [
            [
             0,
             "#0d0887"
            ],
            [
             0.1111111111111111,
             "#46039f"
            ],
            [
             0.2222222222222222,
             "#7201a8"
            ],
            [
             0.3333333333333333,
             "#9c179e"
            ],
            [
             0.4444444444444444,
             "#bd3786"
            ],
            [
             0.5555555555555556,
             "#d8576b"
            ],
            [
             0.6666666666666666,
             "#ed7953"
            ],
            [
             0.7777777777777778,
             "#fb9f3a"
            ],
            [
             0.8888888888888888,
             "#fdca26"
            ],
            [
             1,
             "#f0f921"
            ]
           ]
          },
          "colorway": [
           "#636efa",
           "#EF553B",
           "#00cc96",
           "#ab63fa",
           "#FFA15A",
           "#19d3f3",
           "#FF6692",
           "#B6E880",
           "#FF97FF",
           "#FECB52"
          ],
          "font": {
           "color": "#2a3f5f"
          },
          "geo": {
           "bgcolor": "white",
           "lakecolor": "white",
           "landcolor": "#E5ECF6",
           "showlakes": true,
           "showland": true,
           "subunitcolor": "white"
          },
          "hoverlabel": {
           "align": "left"
          },
          "hovermode": "closest",
          "mapbox": {
           "style": "light"
          },
          "paper_bgcolor": "white",
          "plot_bgcolor": "#E5ECF6",
          "polar": {
           "angularaxis": {
            "gridcolor": "white",
            "linecolor": "white",
            "ticks": ""
           },
           "bgcolor": "#E5ECF6",
           "radialaxis": {
            "gridcolor": "white",
            "linecolor": "white",
            "ticks": ""
           }
          },
          "scene": {
           "xaxis": {
            "backgroundcolor": "#E5ECF6",
            "gridcolor": "white",
            "gridwidth": 2,
            "linecolor": "white",
            "showbackground": true,
            "ticks": "",
            "zerolinecolor": "white"
           },
           "yaxis": {
            "backgroundcolor": "#E5ECF6",
            "gridcolor": "white",
            "gridwidth": 2,
            "linecolor": "white",
            "showbackground": true,
            "ticks": "",
            "zerolinecolor": "white"
           },
           "zaxis": {
            "backgroundcolor": "#E5ECF6",
            "gridcolor": "white",
            "gridwidth": 2,
            "linecolor": "white",
            "showbackground": true,
            "ticks": "",
            "zerolinecolor": "white"
           }
          },
          "shapedefaults": {
           "line": {
            "color": "#2a3f5f"
           }
          },
          "ternary": {
           "aaxis": {
            "gridcolor": "white",
            "linecolor": "white",
            "ticks": ""
           },
           "baxis": {
            "gridcolor": "white",
            "linecolor": "white",
            "ticks": ""
           },
           "bgcolor": "#E5ECF6",
           "caxis": {
            "gridcolor": "white",
            "linecolor": "white",
            "ticks": ""
           }
          },
          "title": {
           "x": 0.05
          },
          "xaxis": {
           "automargin": true,
           "gridcolor": "white",
           "linecolor": "white",
           "ticks": "",
           "title": {
            "standoff": 15
           },
           "zerolinecolor": "white",
           "zerolinewidth": 2
          },
          "yaxis": {
           "automargin": true,
           "gridcolor": "white",
           "linecolor": "white",
           "ticks": "",
           "title": {
            "standoff": 15
           },
           "zerolinecolor": "white",
           "zerolinewidth": 2
          }
         }
        },
        "title": {
         "text": "MUAC vs BMI<br><sup><i>(correlation=0.7907)</i></sup>",
         "x": 0,
         "xref": "paper"
        },
        "xaxis": {
         "title": {
          "text": "BMI<br><sup><i>Body Mass Index</i></sup>"
         }
        },
        "yaxis": {
         "title": {
          "text": "MUAC<br><sup><i>Mid Upper Arm Circumference</i></sup>"
         }
        }
       }
      }
     },
     "metadata": {},
     "output_type": "display_data"
    }
   ],
   "source": [
    "fig = go.Figure()\n",
    "corra = round(df['BMI'].corr(df['MUAC']),4)\n",
    "\n",
    "for race in df.Race.unique():\n",
    "    dft = df[df['Race']==race]\n",
    "    corr = round(dft['BMI'].corr(dft['MUAC']),4)\n",
    "    name = f\"{race}<br><sup><i>(correlation={corr})</i></sup>\"\n",
    "    \n",
    "    fig.add_trace(go.Scatter(\n",
    "        x=dft['BMI'], y=dft['MUAC'],\n",
    "        name=name,\n",
    "        mode='markers',\n",
    "    ))\n",
    "\n",
    "# Set options common to all traces with fig.update_traces\n",
    "fig.update_traces(mode='markers', marker_line_width=1, marker_size=10)\n",
    "\n",
    "fig.update_layout(\n",
    "    title=go.layout.Title(\n",
    "        text=f\"MUAC vs BMI<br><sup><i>(correlation={corra})</i></sup>\",\n",
    "        xref=\"paper\",\n",
    "        x=0\n",
    "    ),\n",
    "        xaxis=go.layout.XAxis(\n",
    "        title=go.layout.xaxis.Title(\n",
    "            text=\"BMI<br><sup><i>Body Mass Index</i></sup>\"\n",
    "            )\n",
    "        ),\n",
    "        yaxis=go.layout.YAxis(\n",
    "        title=go.layout.yaxis.Title(\n",
    "            text=\"MUAC<br><sup><i>Mid Upper Arm Circumference</i></sup>\"\n",
    "            )\n",
    "        )\n",
    "    )\n",
    "\n",
    "\n",
    "fig.show()"
   ]
  },
  {
   "attachments": {},
   "cell_type": "markdown",
   "metadata": {},
   "source": [
    "### Random Glucose vs HbA1C"
   ]
  },
  {
   "cell_type": "code",
   "execution_count": 150,
   "metadata": {},
   "outputs": [
    {
     "data": {
      "application/vnd.plotly.v1+json": {
       "config": {
        "plotlyServerURL": "https://plot.ly"
       },
       "data": [
        {
         "marker": {
          "line": {
           "width": 1
          },
          "size": 10
         },
         "mode": "markers",
         "name": "WHITE<br><sup><i>(correlation=0.2245)</i></sup>",
         "type": "scatter",
         "x": [
          3.5,
          6.1,
          4.8,
          5.3,
          4.4,
          5.4,
          5.2,
          4.5,
          4.5,
          5.2,
          4.8,
          4,
          5.7,
          5.2,
          5.1,
          5.7,
          4,
          5.9,
          3.5,
          3.8,
          null,
          4.8,
          4.9,
          5.6,
          4.5,
          5.3,
          5.2,
          4.9,
          4.7,
          5.9,
          4.4,
          4.3,
          4.5,
          4.7,
          4.6,
          4.1,
          4.2,
          4.3,
          5.3,
          5.2,
          5.5,
          5.2,
          3.1,
          5,
          4.4,
          4.7,
          5.6,
          4.5,
          4.9,
          3.3,
          4,
          4.7,
          4.2,
          4,
          3.8,
          4.6,
          4.8,
          4.5,
          4.1,
          5.2,
          4.8,
          4.8,
          5.3,
          5.9,
          6.5,
          4.2,
          4.7,
          3.9,
          4.1,
          4.9,
          4.1,
          4.5,
          5.1,
          4.4,
          5.1,
          4.2,
          4.7,
          4.5,
          4.6,
          4,
          4.9,
          5.7,
          4.3,
          3.9,
          4,
          4,
          4.6,
          5.6,
          7,
          3.6,
          5.3,
          5.3,
          4.4,
          4.4,
          5.2,
          4.4,
          4.6,
          4.3,
          6,
          4.7,
          4.5
         ],
         "y": [
          37,
          35,
          37,
          39,
          30,
          36,
          40,
          37,
          31,
          36,
          31,
          36,
          33,
          36,
          35,
          34,
          36,
          32,
          29,
          36,
          34,
          39,
          35,
          36,
          35,
          39,
          35,
          36,
          36,
          35,
          35,
          36,
          36,
          37,
          28,
          31,
          39,
          33,
          31,
          41,
          39,
          37,
          38,
          41,
          36,
          38,
          41,
          34,
          34,
          34,
          34,
          35,
          32,
          32,
          29,
          34,
          40,
          37,
          29,
          35,
          32,
          40,
          38,
          31,
          34,
          35,
          34,
          39,
          31,
          39,
          34,
          38,
          39,
          31,
          40,
          36,
          37,
          41,
          35,
          37,
          36,
          31,
          41,
          33,
          35,
          37,
          33,
          36,
          48,
          41,
          38,
          37,
          37,
          32,
          35,
          40,
          33,
          39,
          41,
          41,
          36
         ]
        },
        {
         "marker": {
          "line": {
           "width": 1
          },
          "size": 10
         },
         "mode": "markers",
         "name": "MIXED<br><sup><i>(correlation=0.6817)</i></sup>",
         "type": "scatter",
         "x": [
          4.6,
          4.5,
          5.3,
          5,
          4.6,
          4.7,
          5.3,
          4.4,
          4.9,
          5,
          7.8,
          6.6
         ],
         "y": [
          39,
          35,
          33,
          41,
          37,
          34,
          33,
          32,
          38,
          37,
          46,
          39
         ]
        },
        {
         "marker": {
          "line": {
           "width": 1
          },
          "size": 10
         },
         "mode": "markers",
         "name": "BLACK<br><sup><i>(correlation=-0.0514)</i></sup>",
         "type": "scatter",
         "x": [
          4.4,
          5.3,
          4.2,
          4.3,
          4.5,
          4.6,
          5.4,
          5.3,
          4.3,
          4.8,
          4.4,
          null,
          4.9,
          4.8,
          4.7,
          5,
          5.8,
          4.5,
          4.3,
          4.2,
          5.3,
          2.9,
          4.3,
          5.2,
          4.8,
          10.2,
          4.1,
          5,
          4.9,
          4.2,
          4.8,
          6.8,
          4.5,
          4,
          4.4,
          4.3,
          5.2,
          4.4,
          4.3,
          4.4,
          4.7,
          3.5,
          4.3,
          4.7,
          4.7,
          5,
          6.2,
          4.2,
          3.8
         ],
         "y": [
          40,
          38,
          38,
          37,
          43,
          36,
          42,
          43,
          38,
          33,
          39,
          38,
          34,
          40,
          41,
          37,
          38,
          33,
          33,
          29,
          44,
          42,
          33,
          29,
          36,
          34,
          36,
          37,
          39,
          37,
          35,
          38,
          33,
          35,
          41,
          41,
          31,
          35,
          35,
          33,
          44,
          34,
          42,
          42,
          39,
          35,
          35,
          39,
          32
         ]
        },
        {
         "marker": {
          "line": {
           "width": 1
          },
          "size": 10
         },
         "mode": "markers",
         "name": "ASIAN<br><sup><i>(correlation=0.1952)</i></sup>",
         "type": "scatter",
         "x": [
          3.8,
          4.2,
          4.5,
          4,
          4.4,
          4.6,
          4.2,
          4.8,
          4.9,
          4.5,
          4.9,
          5.2,
          4.9,
          4.6,
          4.5,
          4.5,
          4.6,
          5.1,
          null,
          5.1,
          5.1,
          4.5,
          5.4,
          4.9,
          5.1,
          4.4,
          4.3,
          4.5,
          4,
          4.3,
          5,
          4.8,
          3.9,
          4.5,
          8.8,
          4.6,
          3.8,
          4,
          4.2,
          4.4,
          4.2,
          5.6,
          4.7,
          3.8,
          4.6,
          4.5,
          3.8,
          4.5,
          4.4,
          3.6,
          5.3,
          4.7,
          4.6,
          4,
          5.4,
          7.3
         ],
         "y": [
          32,
          34,
          33,
          45,
          32,
          37,
          37,
          38,
          42,
          43,
          33,
          27,
          32,
          35,
          35,
          36,
          37,
          35,
          39,
          41,
          42,
          40,
          36,
          45,
          41,
          39,
          33,
          34,
          43,
          32,
          38,
          32,
          41,
          38,
          39,
          36,
          31,
          38,
          37,
          39,
          38,
          34,
          47,
          35,
          32,
          30,
          34,
          40,
          40,
          39,
          35,
          35,
          39,
          35,
          40,
          47
         ]
        }
       ],
       "layout": {
        "template": {
         "data": {
          "bar": [
           {
            "error_x": {
             "color": "#2a3f5f"
            },
            "error_y": {
             "color": "#2a3f5f"
            },
            "marker": {
             "line": {
              "color": "#E5ECF6",
              "width": 0.5
             },
             "pattern": {
              "fillmode": "overlay",
              "size": 10,
              "solidity": 0.2
             }
            },
            "type": "bar"
           }
          ],
          "barpolar": [
           {
            "marker": {
             "line": {
              "color": "#E5ECF6",
              "width": 0.5
             },
             "pattern": {
              "fillmode": "overlay",
              "size": 10,
              "solidity": 0.2
             }
            },
            "type": "barpolar"
           }
          ],
          "carpet": [
           {
            "aaxis": {
             "endlinecolor": "#2a3f5f",
             "gridcolor": "white",
             "linecolor": "white",
             "minorgridcolor": "white",
             "startlinecolor": "#2a3f5f"
            },
            "baxis": {
             "endlinecolor": "#2a3f5f",
             "gridcolor": "white",
             "linecolor": "white",
             "minorgridcolor": "white",
             "startlinecolor": "#2a3f5f"
            },
            "type": "carpet"
           }
          ],
          "choropleth": [
           {
            "colorbar": {
             "outlinewidth": 0,
             "ticks": ""
            },
            "type": "choropleth"
           }
          ],
          "contour": [
           {
            "colorbar": {
             "outlinewidth": 0,
             "ticks": ""
            },
            "colorscale": [
             [
              0,
              "#0d0887"
             ],
             [
              0.1111111111111111,
              "#46039f"
             ],
             [
              0.2222222222222222,
              "#7201a8"
             ],
             [
              0.3333333333333333,
              "#9c179e"
             ],
             [
              0.4444444444444444,
              "#bd3786"
             ],
             [
              0.5555555555555556,
              "#d8576b"
             ],
             [
              0.6666666666666666,
              "#ed7953"
             ],
             [
              0.7777777777777778,
              "#fb9f3a"
             ],
             [
              0.8888888888888888,
              "#fdca26"
             ],
             [
              1,
              "#f0f921"
             ]
            ],
            "type": "contour"
           }
          ],
          "contourcarpet": [
           {
            "colorbar": {
             "outlinewidth": 0,
             "ticks": ""
            },
            "type": "contourcarpet"
           }
          ],
          "heatmap": [
           {
            "colorbar": {
             "outlinewidth": 0,
             "ticks": ""
            },
            "colorscale": [
             [
              0,
              "#0d0887"
             ],
             [
              0.1111111111111111,
              "#46039f"
             ],
             [
              0.2222222222222222,
              "#7201a8"
             ],
             [
              0.3333333333333333,
              "#9c179e"
             ],
             [
              0.4444444444444444,
              "#bd3786"
             ],
             [
              0.5555555555555556,
              "#d8576b"
             ],
             [
              0.6666666666666666,
              "#ed7953"
             ],
             [
              0.7777777777777778,
              "#fb9f3a"
             ],
             [
              0.8888888888888888,
              "#fdca26"
             ],
             [
              1,
              "#f0f921"
             ]
            ],
            "type": "heatmap"
           }
          ],
          "heatmapgl": [
           {
            "colorbar": {
             "outlinewidth": 0,
             "ticks": ""
            },
            "colorscale": [
             [
              0,
              "#0d0887"
             ],
             [
              0.1111111111111111,
              "#46039f"
             ],
             [
              0.2222222222222222,
              "#7201a8"
             ],
             [
              0.3333333333333333,
              "#9c179e"
             ],
             [
              0.4444444444444444,
              "#bd3786"
             ],
             [
              0.5555555555555556,
              "#d8576b"
             ],
             [
              0.6666666666666666,
              "#ed7953"
             ],
             [
              0.7777777777777778,
              "#fb9f3a"
             ],
             [
              0.8888888888888888,
              "#fdca26"
             ],
             [
              1,
              "#f0f921"
             ]
            ],
            "type": "heatmapgl"
           }
          ],
          "histogram": [
           {
            "marker": {
             "pattern": {
              "fillmode": "overlay",
              "size": 10,
              "solidity": 0.2
             }
            },
            "type": "histogram"
           }
          ],
          "histogram2d": [
           {
            "colorbar": {
             "outlinewidth": 0,
             "ticks": ""
            },
            "colorscale": [
             [
              0,
              "#0d0887"
             ],
             [
              0.1111111111111111,
              "#46039f"
             ],
             [
              0.2222222222222222,
              "#7201a8"
             ],
             [
              0.3333333333333333,
              "#9c179e"
             ],
             [
              0.4444444444444444,
              "#bd3786"
             ],
             [
              0.5555555555555556,
              "#d8576b"
             ],
             [
              0.6666666666666666,
              "#ed7953"
             ],
             [
              0.7777777777777778,
              "#fb9f3a"
             ],
             [
              0.8888888888888888,
              "#fdca26"
             ],
             [
              1,
              "#f0f921"
             ]
            ],
            "type": "histogram2d"
           }
          ],
          "histogram2dcontour": [
           {
            "colorbar": {
             "outlinewidth": 0,
             "ticks": ""
            },
            "colorscale": [
             [
              0,
              "#0d0887"
             ],
             [
              0.1111111111111111,
              "#46039f"
             ],
             [
              0.2222222222222222,
              "#7201a8"
             ],
             [
              0.3333333333333333,
              "#9c179e"
             ],
             [
              0.4444444444444444,
              "#bd3786"
             ],
             [
              0.5555555555555556,
              "#d8576b"
             ],
             [
              0.6666666666666666,
              "#ed7953"
             ],
             [
              0.7777777777777778,
              "#fb9f3a"
             ],
             [
              0.8888888888888888,
              "#fdca26"
             ],
             [
              1,
              "#f0f921"
             ]
            ],
            "type": "histogram2dcontour"
           }
          ],
          "mesh3d": [
           {
            "colorbar": {
             "outlinewidth": 0,
             "ticks": ""
            },
            "type": "mesh3d"
           }
          ],
          "parcoords": [
           {
            "line": {
             "colorbar": {
              "outlinewidth": 0,
              "ticks": ""
             }
            },
            "type": "parcoords"
           }
          ],
          "pie": [
           {
            "automargin": true,
            "type": "pie"
           }
          ],
          "scatter": [
           {
            "fillpattern": {
             "fillmode": "overlay",
             "size": 10,
             "solidity": 0.2
            },
            "type": "scatter"
           }
          ],
          "scatter3d": [
           {
            "line": {
             "colorbar": {
              "outlinewidth": 0,
              "ticks": ""
             }
            },
            "marker": {
             "colorbar": {
              "outlinewidth": 0,
              "ticks": ""
             }
            },
            "type": "scatter3d"
           }
          ],
          "scattercarpet": [
           {
            "marker": {
             "colorbar": {
              "outlinewidth": 0,
              "ticks": ""
             }
            },
            "type": "scattercarpet"
           }
          ],
          "scattergeo": [
           {
            "marker": {
             "colorbar": {
              "outlinewidth": 0,
              "ticks": ""
             }
            },
            "type": "scattergeo"
           }
          ],
          "scattergl": [
           {
            "marker": {
             "colorbar": {
              "outlinewidth": 0,
              "ticks": ""
             }
            },
            "type": "scattergl"
           }
          ],
          "scattermapbox": [
           {
            "marker": {
             "colorbar": {
              "outlinewidth": 0,
              "ticks": ""
             }
            },
            "type": "scattermapbox"
           }
          ],
          "scatterpolar": [
           {
            "marker": {
             "colorbar": {
              "outlinewidth": 0,
              "ticks": ""
             }
            },
            "type": "scatterpolar"
           }
          ],
          "scatterpolargl": [
           {
            "marker": {
             "colorbar": {
              "outlinewidth": 0,
              "ticks": ""
             }
            },
            "type": "scatterpolargl"
           }
          ],
          "scatterternary": [
           {
            "marker": {
             "colorbar": {
              "outlinewidth": 0,
              "ticks": ""
             }
            },
            "type": "scatterternary"
           }
          ],
          "surface": [
           {
            "colorbar": {
             "outlinewidth": 0,
             "ticks": ""
            },
            "colorscale": [
             [
              0,
              "#0d0887"
             ],
             [
              0.1111111111111111,
              "#46039f"
             ],
             [
              0.2222222222222222,
              "#7201a8"
             ],
             [
              0.3333333333333333,
              "#9c179e"
             ],
             [
              0.4444444444444444,
              "#bd3786"
             ],
             [
              0.5555555555555556,
              "#d8576b"
             ],
             [
              0.6666666666666666,
              "#ed7953"
             ],
             [
              0.7777777777777778,
              "#fb9f3a"
             ],
             [
              0.8888888888888888,
              "#fdca26"
             ],
             [
              1,
              "#f0f921"
             ]
            ],
            "type": "surface"
           }
          ],
          "table": [
           {
            "cells": {
             "fill": {
              "color": "#EBF0F8"
             },
             "line": {
              "color": "white"
             }
            },
            "header": {
             "fill": {
              "color": "#C8D4E3"
             },
             "line": {
              "color": "white"
             }
            },
            "type": "table"
           }
          ]
         },
         "layout": {
          "annotationdefaults": {
           "arrowcolor": "#2a3f5f",
           "arrowhead": 0,
           "arrowwidth": 1
          },
          "autotypenumbers": "strict",
          "coloraxis": {
           "colorbar": {
            "outlinewidth": 0,
            "ticks": ""
           }
          },
          "colorscale": {
           "diverging": [
            [
             0,
             "#8e0152"
            ],
            [
             0.1,
             "#c51b7d"
            ],
            [
             0.2,
             "#de77ae"
            ],
            [
             0.3,
             "#f1b6da"
            ],
            [
             0.4,
             "#fde0ef"
            ],
            [
             0.5,
             "#f7f7f7"
            ],
            [
             0.6,
             "#e6f5d0"
            ],
            [
             0.7,
             "#b8e186"
            ],
            [
             0.8,
             "#7fbc41"
            ],
            [
             0.9,
             "#4d9221"
            ],
            [
             1,
             "#276419"
            ]
           ],
           "sequential": [
            [
             0,
             "#0d0887"
            ],
            [
             0.1111111111111111,
             "#46039f"
            ],
            [
             0.2222222222222222,
             "#7201a8"
            ],
            [
             0.3333333333333333,
             "#9c179e"
            ],
            [
             0.4444444444444444,
             "#bd3786"
            ],
            [
             0.5555555555555556,
             "#d8576b"
            ],
            [
             0.6666666666666666,
             "#ed7953"
            ],
            [
             0.7777777777777778,
             "#fb9f3a"
            ],
            [
             0.8888888888888888,
             "#fdca26"
            ],
            [
             1,
             "#f0f921"
            ]
           ],
           "sequentialminus": [
            [
             0,
             "#0d0887"
            ],
            [
             0.1111111111111111,
             "#46039f"
            ],
            [
             0.2222222222222222,
             "#7201a8"
            ],
            [
             0.3333333333333333,
             "#9c179e"
            ],
            [
             0.4444444444444444,
             "#bd3786"
            ],
            [
             0.5555555555555556,
             "#d8576b"
            ],
            [
             0.6666666666666666,
             "#ed7953"
            ],
            [
             0.7777777777777778,
             "#fb9f3a"
            ],
            [
             0.8888888888888888,
             "#fdca26"
            ],
            [
             1,
             "#f0f921"
            ]
           ]
          },
          "colorway": [
           "#636efa",
           "#EF553B",
           "#00cc96",
           "#ab63fa",
           "#FFA15A",
           "#19d3f3",
           "#FF6692",
           "#B6E880",
           "#FF97FF",
           "#FECB52"
          ],
          "font": {
           "color": "#2a3f5f"
          },
          "geo": {
           "bgcolor": "white",
           "lakecolor": "white",
           "landcolor": "#E5ECF6",
           "showlakes": true,
           "showland": true,
           "subunitcolor": "white"
          },
          "hoverlabel": {
           "align": "left"
          },
          "hovermode": "closest",
          "mapbox": {
           "style": "light"
          },
          "paper_bgcolor": "white",
          "plot_bgcolor": "#E5ECF6",
          "polar": {
           "angularaxis": {
            "gridcolor": "white",
            "linecolor": "white",
            "ticks": ""
           },
           "bgcolor": "#E5ECF6",
           "radialaxis": {
            "gridcolor": "white",
            "linecolor": "white",
            "ticks": ""
           }
          },
          "scene": {
           "xaxis": {
            "backgroundcolor": "#E5ECF6",
            "gridcolor": "white",
            "gridwidth": 2,
            "linecolor": "white",
            "showbackground": true,
            "ticks": "",
            "zerolinecolor": "white"
           },
           "yaxis": {
            "backgroundcolor": "#E5ECF6",
            "gridcolor": "white",
            "gridwidth": 2,
            "linecolor": "white",
            "showbackground": true,
            "ticks": "",
            "zerolinecolor": "white"
           },
           "zaxis": {
            "backgroundcolor": "#E5ECF6",
            "gridcolor": "white",
            "gridwidth": 2,
            "linecolor": "white",
            "showbackground": true,
            "ticks": "",
            "zerolinecolor": "white"
           }
          },
          "shapedefaults": {
           "line": {
            "color": "#2a3f5f"
           }
          },
          "ternary": {
           "aaxis": {
            "gridcolor": "white",
            "linecolor": "white",
            "ticks": ""
           },
           "baxis": {
            "gridcolor": "white",
            "linecolor": "white",
            "ticks": ""
           },
           "bgcolor": "#E5ECF6",
           "caxis": {
            "gridcolor": "white",
            "linecolor": "white",
            "ticks": ""
           }
          },
          "title": {
           "x": 0.05
          },
          "xaxis": {
           "automargin": true,
           "gridcolor": "white",
           "linecolor": "white",
           "ticks": "",
           "title": {
            "standoff": 15
           },
           "zerolinecolor": "white",
           "zerolinewidth": 2
          },
          "yaxis": {
           "automargin": true,
           "gridcolor": "white",
           "linecolor": "white",
           "ticks": "",
           "title": {
            "standoff": 15
           },
           "zerolinecolor": "white",
           "zerolinewidth": 2
          }
         }
        },
        "title": {
         "text": "HbA1C vs Random Glucose<br><sup><i>(correlation=0.0987)</i></sup>",
         "x": 0,
         "xref": "paper"
        },
        "xaxis": {
         "title": {
          "text": "Random Glucose<br><sup><i> </i></sup>"
         }
        },
        "yaxis": {
         "title": {
          "text": "HbA1C<br><sup><i> </i></sup>"
         }
        }
       }
      }
     },
     "metadata": {},
     "output_type": "display_data"
    }
   ],
   "source": [
    "fig = go.Figure()\n",
    "corra = round(df['RandomGlucose'].corr(df['HbA1C']),4)\n",
    "\n",
    "for race in df.Race.unique():\n",
    "    dft = df[df['Race']==race]\n",
    "    dft = dft[dft['HbA1C']>=18]\n",
    "    dft = dft[dft['HbA1C']<=50]\n",
    "    corr = round(dft['RandomGlucose'].corr(dft['HbA1C']),4)\n",
    "    name = f\"{race}<br><sup><i>(correlation={corr})</i></sup>\"\n",
    "    \n",
    "    fig.add_trace(go.Scatter(\n",
    "        x=dft['RandomGlucose'], y=dft['HbA1C'],\n",
    "        name=name,\n",
    "        mode='markers',\n",
    "    ))\n",
    "\n",
    "# Set options common to all traces with fig.update_traces\n",
    "fig.update_traces(mode='markers', marker_line_width=1, marker_size=10)\n",
    "\n",
    "fig.update_layout(\n",
    "    title=go.layout.Title(\n",
    "        text=f\"HbA1C vs Random Glucose<br><sup><i>(correlation={corra})</i></sup>\",\n",
    "        xref=\"paper\",\n",
    "        x=0\n",
    "    ),\n",
    "        xaxis=go.layout.XAxis(\n",
    "        title=go.layout.xaxis.Title(\n",
    "            text=\"Random Glucose<br><sup><i> </i></sup>\"\n",
    "            )\n",
    "        ),\n",
    "        yaxis=go.layout.YAxis(\n",
    "        title=go.layout.yaxis.Title(\n",
    "            text=\"HbA1C<br><sup><i> </i></sup>\"\n",
    "            )\n",
    "        )\n",
    "    )\n",
    "\n",
    "\n",
    "fig.show()"
   ]
  }
 ],
 "metadata": {
  "celltoolbar": "Hide code",
  "kernelspec": {
   "display_name": "Python 3 (ipykernel)",
   "language": "python",
   "name": "python3"
  },
  "language_info": {
   "codemirror_mode": {
    "name": "ipython",
    "version": 3
   },
   "file_extension": ".py",
   "mimetype": "text/x-python",
   "name": "python",
   "nbconvert_exporter": "python",
   "pygments_lexer": "ipython3",
   "version": "3.11.2"
  }
 },
 "nbformat": 4,
 "nbformat_minor": 2
}
