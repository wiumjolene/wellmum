{
 "cells": [
  {
   "cell_type": "code",
   "execution_count": 21,
   "metadata": {},
   "outputs": [
    {
     "name": "stdout",
     "output_type": "stream",
     "text": [
      "The autoreload extension is already loaded. To reload it, use:\n",
      "  %reload_ext autoreload\n",
      "Data consits of 382 rows after cleaning. \n",
      "        * 10 rows have been excluded.\n",
      "            \n"
     ]
    }
   ],
   "source": [
    "# OPTIONAL: Load the \"autoreload\" extension so that code can change\n",
    "%load_ext autoreload\n",
    "\n",
    "# OPTIONAL: always reload modules so that as you change code in src, it gets loaded\n",
    "%autoreload 2\n",
    "\n",
    "import plotly.graph_objs as go\n",
    "\n",
    "import numpy as np\n",
    "\n",
    "from src.features import make_feature\n",
    "from src.data import get_data\n",
    "\n",
    "mc = make_feature.MakeCharts()\n",
    "ma = make_feature.MakeAnalysis()\n",
    "gd = get_data.GetDataTemplate()\n",
    "\n",
    "df = gd.get_excel_WELLMUM()\n",
    "#df.to_excel('eGFR.xlsx')"
   ]
  },
  {
   "cell_type": "code",
   "execution_count": 22,
   "metadata": {},
   "outputs": [
    {
     "name": "stdout",
     "output_type": "stream",
     "text": [
      "Data consits of 382 rows after cleaning. \n",
      "        * 10 rows have been excluded.\n",
      "            \n"
     ]
    },
    {
     "data": {
      "application/vnd.plotly.v1+json": {
       "config": {
        "plotlyServerURL": "https://plot.ly"
       },
       "data": [
        {
         "marker": {
          "color": "#172207"
         },
         "name": "WHITE",
         "text": [
          "21.2",
          "15.71",
          "5.24"
         ],
         "type": "bar",
         "x": [
          "< 35",
          "35 - 40",
          "40 - 45"
         ],
         "y": [
          21.2,
          15.71,
          5.24
         ]
        },
        {
         "marker": {
          "color": "#32471E"
         },
         "name": "MIXED",
         "text": [
          "2.36",
          "1.57",
          "0.52"
         ],
         "type": "bar",
         "x": [
          "< 35",
          "35 - 40",
          "40 - 45"
         ],
         "y": [
          2.36,
          1.57,
          0.52
         ]
        },
        {
         "marker": {
          "color": "#3E412A"
         },
         "name": "BLACK",
         "text": [
          "10.21",
          "7.33",
          "1.83",
          "0.26"
         ],
         "type": "bar",
         "x": [
          "< 35",
          "35 - 40",
          "40 - 45",
          "> 45"
         ],
         "y": [
          10.21,
          7.33,
          1.83,
          0.26
         ]
        },
        {
         "marker": {
          "color": "#555A44"
         },
         "name": "ASIAN SOUTH",
         "text": [
          "9.42",
          "6.02",
          "0.79"
         ],
         "type": "bar",
         "x": [
          "< 35",
          "35 - 40",
          "40 - 45"
         ],
         "y": [
          9.42,
          6.02,
          0.79
         ]
        },
        {
         "marker": {
          "color": "#7D826D"
         },
         "name": "ASIAN EAST",
         "text": [
          "1.83",
          "3.4",
          "1.31",
          "0.52"
         ],
         "type": "bar",
         "x": [
          "< 35",
          "35 - 40",
          "40 - 45",
          "> 45"
         ],
         "y": [
          1.83,
          3.4,
          1.31,
          0.52
         ]
        }
       ],
       "layout": {
        "barmode": "stack",
        "paper_bgcolor": "white",
        "plot_bgcolor": "#F6F8FC",
        "showlegend": true,
        "template": {
         "data": {
          "bar": [
           {
            "error_x": {
             "color": "#2a3f5f"
            },
            "error_y": {
             "color": "#2a3f5f"
            },
            "marker": {
             "line": {
              "color": "#E5ECF6",
              "width": 0.5
             },
             "pattern": {
              "fillmode": "overlay",
              "size": 10,
              "solidity": 0.2
             }
            },
            "type": "bar"
           }
          ],
          "barpolar": [
           {
            "marker": {
             "line": {
              "color": "#E5ECF6",
              "width": 0.5
             },
             "pattern": {
              "fillmode": "overlay",
              "size": 10,
              "solidity": 0.2
             }
            },
            "type": "barpolar"
           }
          ],
          "carpet": [
           {
            "aaxis": {
             "endlinecolor": "#2a3f5f",
             "gridcolor": "white",
             "linecolor": "white",
             "minorgridcolor": "white",
             "startlinecolor": "#2a3f5f"
            },
            "baxis": {
             "endlinecolor": "#2a3f5f",
             "gridcolor": "white",
             "linecolor": "white",
             "minorgridcolor": "white",
             "startlinecolor": "#2a3f5f"
            },
            "type": "carpet"
           }
          ],
          "choropleth": [
           {
            "colorbar": {
             "outlinewidth": 0,
             "ticks": ""
            },
            "type": "choropleth"
           }
          ],
          "contour": [
           {
            "colorbar": {
             "outlinewidth": 0,
             "ticks": ""
            },
            "colorscale": [
             [
              0,
              "#0d0887"
             ],
             [
              0.1111111111111111,
              "#46039f"
             ],
             [
              0.2222222222222222,
              "#7201a8"
             ],
             [
              0.3333333333333333,
              "#9c179e"
             ],
             [
              0.4444444444444444,
              "#bd3786"
             ],
             [
              0.5555555555555556,
              "#d8576b"
             ],
             [
              0.6666666666666666,
              "#ed7953"
             ],
             [
              0.7777777777777778,
              "#fb9f3a"
             ],
             [
              0.8888888888888888,
              "#fdca26"
             ],
             [
              1,
              "#f0f921"
             ]
            ],
            "type": "contour"
           }
          ],
          "contourcarpet": [
           {
            "colorbar": {
             "outlinewidth": 0,
             "ticks": ""
            },
            "type": "contourcarpet"
           }
          ],
          "heatmap": [
           {
            "colorbar": {
             "outlinewidth": 0,
             "ticks": ""
            },
            "colorscale": [
             [
              0,
              "#0d0887"
             ],
             [
              0.1111111111111111,
              "#46039f"
             ],
             [
              0.2222222222222222,
              "#7201a8"
             ],
             [
              0.3333333333333333,
              "#9c179e"
             ],
             [
              0.4444444444444444,
              "#bd3786"
             ],
             [
              0.5555555555555556,
              "#d8576b"
             ],
             [
              0.6666666666666666,
              "#ed7953"
             ],
             [
              0.7777777777777778,
              "#fb9f3a"
             ],
             [
              0.8888888888888888,
              "#fdca26"
             ],
             [
              1,
              "#f0f921"
             ]
            ],
            "type": "heatmap"
           }
          ],
          "heatmapgl": [
           {
            "colorbar": {
             "outlinewidth": 0,
             "ticks": ""
            },
            "colorscale": [
             [
              0,
              "#0d0887"
             ],
             [
              0.1111111111111111,
              "#46039f"
             ],
             [
              0.2222222222222222,
              "#7201a8"
             ],
             [
              0.3333333333333333,
              "#9c179e"
             ],
             [
              0.4444444444444444,
              "#bd3786"
             ],
             [
              0.5555555555555556,
              "#d8576b"
             ],
             [
              0.6666666666666666,
              "#ed7953"
             ],
             [
              0.7777777777777778,
              "#fb9f3a"
             ],
             [
              0.8888888888888888,
              "#fdca26"
             ],
             [
              1,
              "#f0f921"
             ]
            ],
            "type": "heatmapgl"
           }
          ],
          "histogram": [
           {
            "marker": {
             "pattern": {
              "fillmode": "overlay",
              "size": 10,
              "solidity": 0.2
             }
            },
            "type": "histogram"
           }
          ],
          "histogram2d": [
           {
            "colorbar": {
             "outlinewidth": 0,
             "ticks": ""
            },
            "colorscale": [
             [
              0,
              "#0d0887"
             ],
             [
              0.1111111111111111,
              "#46039f"
             ],
             [
              0.2222222222222222,
              "#7201a8"
             ],
             [
              0.3333333333333333,
              "#9c179e"
             ],
             [
              0.4444444444444444,
              "#bd3786"
             ],
             [
              0.5555555555555556,
              "#d8576b"
             ],
             [
              0.6666666666666666,
              "#ed7953"
             ],
             [
              0.7777777777777778,
              "#fb9f3a"
             ],
             [
              0.8888888888888888,
              "#fdca26"
             ],
             [
              1,
              "#f0f921"
             ]
            ],
            "type": "histogram2d"
           }
          ],
          "histogram2dcontour": [
           {
            "colorbar": {
             "outlinewidth": 0,
             "ticks": ""
            },
            "colorscale": [
             [
              0,
              "#0d0887"
             ],
             [
              0.1111111111111111,
              "#46039f"
             ],
             [
              0.2222222222222222,
              "#7201a8"
             ],
             [
              0.3333333333333333,
              "#9c179e"
             ],
             [
              0.4444444444444444,
              "#bd3786"
             ],
             [
              0.5555555555555556,
              "#d8576b"
             ],
             [
              0.6666666666666666,
              "#ed7953"
             ],
             [
              0.7777777777777778,
              "#fb9f3a"
             ],
             [
              0.8888888888888888,
              "#fdca26"
             ],
             [
              1,
              "#f0f921"
             ]
            ],
            "type": "histogram2dcontour"
           }
          ],
          "mesh3d": [
           {
            "colorbar": {
             "outlinewidth": 0,
             "ticks": ""
            },
            "type": "mesh3d"
           }
          ],
          "parcoords": [
           {
            "line": {
             "colorbar": {
              "outlinewidth": 0,
              "ticks": ""
             }
            },
            "type": "parcoords"
           }
          ],
          "pie": [
           {
            "automargin": true,
            "type": "pie"
           }
          ],
          "scatter": [
           {
            "fillpattern": {
             "fillmode": "overlay",
             "size": 10,
             "solidity": 0.2
            },
            "type": "scatter"
           }
          ],
          "scatter3d": [
           {
            "line": {
             "colorbar": {
              "outlinewidth": 0,
              "ticks": ""
             }
            },
            "marker": {
             "colorbar": {
              "outlinewidth": 0,
              "ticks": ""
             }
            },
            "type": "scatter3d"
           }
          ],
          "scattercarpet": [
           {
            "marker": {
             "colorbar": {
              "outlinewidth": 0,
              "ticks": ""
             }
            },
            "type": "scattercarpet"
           }
          ],
          "scattergeo": [
           {
            "marker": {
             "colorbar": {
              "outlinewidth": 0,
              "ticks": ""
             }
            },
            "type": "scattergeo"
           }
          ],
          "scattergl": [
           {
            "marker": {
             "colorbar": {
              "outlinewidth": 0,
              "ticks": ""
             }
            },
            "type": "scattergl"
           }
          ],
          "scattermapbox": [
           {
            "marker": {
             "colorbar": {
              "outlinewidth": 0,
              "ticks": ""
             }
            },
            "type": "scattermapbox"
           }
          ],
          "scatterpolar": [
           {
            "marker": {
             "colorbar": {
              "outlinewidth": 0,
              "ticks": ""
             }
            },
            "type": "scatterpolar"
           }
          ],
          "scatterpolargl": [
           {
            "marker": {
             "colorbar": {
              "outlinewidth": 0,
              "ticks": ""
             }
            },
            "type": "scatterpolargl"
           }
          ],
          "scatterternary": [
           {
            "marker": {
             "colorbar": {
              "outlinewidth": 0,
              "ticks": ""
             }
            },
            "type": "scatterternary"
           }
          ],
          "surface": [
           {
            "colorbar": {
             "outlinewidth": 0,
             "ticks": ""
            },
            "colorscale": [
             [
              0,
              "#0d0887"
             ],
             [
              0.1111111111111111,
              "#46039f"
             ],
             [
              0.2222222222222222,
              "#7201a8"
             ],
             [
              0.3333333333333333,
              "#9c179e"
             ],
             [
              0.4444444444444444,
              "#bd3786"
             ],
             [
              0.5555555555555556,
              "#d8576b"
             ],
             [
              0.6666666666666666,
              "#ed7953"
             ],
             [
              0.7777777777777778,
              "#fb9f3a"
             ],
             [
              0.8888888888888888,
              "#fdca26"
             ],
             [
              1,
              "#f0f921"
             ]
            ],
            "type": "surface"
           }
          ],
          "table": [
           {
            "cells": {
             "fill": {
              "color": "#EBF0F8"
             },
             "line": {
              "color": "white"
             }
            },
            "header": {
             "fill": {
              "color": "#C8D4E3"
             },
             "line": {
              "color": "white"
             }
            },
            "type": "table"
           }
          ]
         },
         "layout": {
          "annotationdefaults": {
           "arrowcolor": "#2a3f5f",
           "arrowhead": 0,
           "arrowwidth": 1
          },
          "autotypenumbers": "strict",
          "coloraxis": {
           "colorbar": {
            "outlinewidth": 0,
            "ticks": ""
           }
          },
          "colorscale": {
           "diverging": [
            [
             0,
             "#8e0152"
            ],
            [
             0.1,
             "#c51b7d"
            ],
            [
             0.2,
             "#de77ae"
            ],
            [
             0.3,
             "#f1b6da"
            ],
            [
             0.4,
             "#fde0ef"
            ],
            [
             0.5,
             "#f7f7f7"
            ],
            [
             0.6,
             "#e6f5d0"
            ],
            [
             0.7,
             "#b8e186"
            ],
            [
             0.8,
             "#7fbc41"
            ],
            [
             0.9,
             "#4d9221"
            ],
            [
             1,
             "#276419"
            ]
           ],
           "sequential": [
            [
             0,
             "#0d0887"
            ],
            [
             0.1111111111111111,
             "#46039f"
            ],
            [
             0.2222222222222222,
             "#7201a8"
            ],
            [
             0.3333333333333333,
             "#9c179e"
            ],
            [
             0.4444444444444444,
             "#bd3786"
            ],
            [
             0.5555555555555556,
             "#d8576b"
            ],
            [
             0.6666666666666666,
             "#ed7953"
            ],
            [
             0.7777777777777778,
             "#fb9f3a"
            ],
            [
             0.8888888888888888,
             "#fdca26"
            ],
            [
             1,
             "#f0f921"
            ]
           ],
           "sequentialminus": [
            [
             0,
             "#0d0887"
            ],
            [
             0.1111111111111111,
             "#46039f"
            ],
            [
             0.2222222222222222,
             "#7201a8"
            ],
            [
             0.3333333333333333,
             "#9c179e"
            ],
            [
             0.4444444444444444,
             "#bd3786"
            ],
            [
             0.5555555555555556,
             "#d8576b"
            ],
            [
             0.6666666666666666,
             "#ed7953"
            ],
            [
             0.7777777777777778,
             "#fb9f3a"
            ],
            [
             0.8888888888888888,
             "#fdca26"
            ],
            [
             1,
             "#f0f921"
            ]
           ]
          },
          "colorway": [
           "#636efa",
           "#EF553B",
           "#00cc96",
           "#ab63fa",
           "#FFA15A",
           "#19d3f3",
           "#FF6692",
           "#B6E880",
           "#FF97FF",
           "#FECB52"
          ],
          "font": {
           "color": "#2a3f5f"
          },
          "geo": {
           "bgcolor": "white",
           "lakecolor": "white",
           "landcolor": "#E5ECF6",
           "showlakes": true,
           "showland": true,
           "subunitcolor": "white"
          },
          "hoverlabel": {
           "align": "left"
          },
          "hovermode": "closest",
          "mapbox": {
           "style": "light"
          },
          "paper_bgcolor": "white",
          "plot_bgcolor": "#E5ECF6",
          "polar": {
           "angularaxis": {
            "gridcolor": "white",
            "linecolor": "white",
            "ticks": ""
           },
           "bgcolor": "#E5ECF6",
           "radialaxis": {
            "gridcolor": "white",
            "linecolor": "white",
            "ticks": ""
           }
          },
          "scene": {
           "xaxis": {
            "backgroundcolor": "#E5ECF6",
            "gridcolor": "white",
            "gridwidth": 2,
            "linecolor": "white",
            "showbackground": true,
            "ticks": "",
            "zerolinecolor": "white"
           },
           "yaxis": {
            "backgroundcolor": "#E5ECF6",
            "gridcolor": "white",
            "gridwidth": 2,
            "linecolor": "white",
            "showbackground": true,
            "ticks": "",
            "zerolinecolor": "white"
           },
           "zaxis": {
            "backgroundcolor": "#E5ECF6",
            "gridcolor": "white",
            "gridwidth": 2,
            "linecolor": "white",
            "showbackground": true,
            "ticks": "",
            "zerolinecolor": "white"
           }
          },
          "shapedefaults": {
           "line": {
            "color": "#2a3f5f"
           }
          },
          "ternary": {
           "aaxis": {
            "gridcolor": "white",
            "linecolor": "white",
            "ticks": ""
           },
           "baxis": {
            "gridcolor": "white",
            "linecolor": "white",
            "ticks": ""
           },
           "bgcolor": "#E5ECF6",
           "caxis": {
            "gridcolor": "white",
            "linecolor": "white",
            "ticks": ""
           }
          },
          "title": {
           "x": 0.05
          },
          "xaxis": {
           "automargin": true,
           "gridcolor": "white",
           "linecolor": "white",
           "ticks": "",
           "title": {
            "standoff": 15
           },
           "zerolinecolor": "white",
           "zerolinewidth": 2
          },
          "yaxis": {
           "automargin": true,
           "gridcolor": "white",
           "linecolor": "white",
           "ticks": "",
           "title": {
            "standoff": 15
           },
           "zerolinecolor": "white",
           "zerolinewidth": 2
          }
         }
        },
        "title": {
         "text": "Age Distribution<br><sup><i>(n=382)</i></sup>",
         "x": 0,
         "xref": "paper"
        },
        "uniformtext": {
         "minsize": 10,
         "mode": "hide"
        },
        "xaxis": {
         "title": {
          "text": "Age Category<br><sup><i>years</i></sup>"
         }
        },
        "yaxis": {
         "gridcolor": "lightgrey",
         "title": {
          "text": "Percentage<br><sup><i>%</i></sup>"
         }
        }
       }
      }
     },
     "metadata": {},
     "output_type": "display_data"
    },
    {
     "data": {
      "application/vnd.plotly.v1+json": {
       "config": {
        "plotlyServerURL": "https://plot.ly"
       },
       "data": [
        {
         "marker": {
          "color": "#172207"
         },
         "name": "WHITE",
         "text": [
          "46.86"
         ],
         "type": "bar",
         "x": [
          "WHITE"
         ],
         "y": [
          46.86
         ]
        },
        {
         "marker": {
          "color": "#32471E"
         },
         "name": "BLACK",
         "text": [
          "22.77"
         ],
         "type": "bar",
         "x": [
          "BLACK"
         ],
         "y": [
          22.77
         ]
        },
        {
         "marker": {
          "color": "#3E412A"
         },
         "name": "ASIAN SOUTH",
         "text": [
          "17.02"
         ],
         "type": "bar",
         "x": [
          "ASIAN SOUTH"
         ],
         "y": [
          17.02
         ]
        },
        {
         "marker": {
          "color": "#555A44"
         },
         "name": "ASIAN EAST",
         "text": [
          "8.12"
         ],
         "type": "bar",
         "x": [
          "ASIAN EAST"
         ],
         "y": [
          8.12
         ]
        },
        {
         "marker": {
          "color": "#7D826D"
         },
         "name": "MIXED",
         "text": [
          "5.24"
         ],
         "type": "bar",
         "x": [
          "MIXED"
         ],
         "y": [
          5.24
         ]
        }
       ],
       "layout": {
        "barmode": "stack",
        "paper_bgcolor": "white",
        "plot_bgcolor": "#F6F8FC",
        "showlegend": true,
        "template": {
         "data": {
          "bar": [
           {
            "error_x": {
             "color": "#2a3f5f"
            },
            "error_y": {
             "color": "#2a3f5f"
            },
            "marker": {
             "line": {
              "color": "#E5ECF6",
              "width": 0.5
             },
             "pattern": {
              "fillmode": "overlay",
              "size": 10,
              "solidity": 0.2
             }
            },
            "type": "bar"
           }
          ],
          "barpolar": [
           {
            "marker": {
             "line": {
              "color": "#E5ECF6",
              "width": 0.5
             },
             "pattern": {
              "fillmode": "overlay",
              "size": 10,
              "solidity": 0.2
             }
            },
            "type": "barpolar"
           }
          ],
          "carpet": [
           {
            "aaxis": {
             "endlinecolor": "#2a3f5f",
             "gridcolor": "white",
             "linecolor": "white",
             "minorgridcolor": "white",
             "startlinecolor": "#2a3f5f"
            },
            "baxis": {
             "endlinecolor": "#2a3f5f",
             "gridcolor": "white",
             "linecolor": "white",
             "minorgridcolor": "white",
             "startlinecolor": "#2a3f5f"
            },
            "type": "carpet"
           }
          ],
          "choropleth": [
           {
            "colorbar": {
             "outlinewidth": 0,
             "ticks": ""
            },
            "type": "choropleth"
           }
          ],
          "contour": [
           {
            "colorbar": {
             "outlinewidth": 0,
             "ticks": ""
            },
            "colorscale": [
             [
              0,
              "#0d0887"
             ],
             [
              0.1111111111111111,
              "#46039f"
             ],
             [
              0.2222222222222222,
              "#7201a8"
             ],
             [
              0.3333333333333333,
              "#9c179e"
             ],
             [
              0.4444444444444444,
              "#bd3786"
             ],
             [
              0.5555555555555556,
              "#d8576b"
             ],
             [
              0.6666666666666666,
              "#ed7953"
             ],
             [
              0.7777777777777778,
              "#fb9f3a"
             ],
             [
              0.8888888888888888,
              "#fdca26"
             ],
             [
              1,
              "#f0f921"
             ]
            ],
            "type": "contour"
           }
          ],
          "contourcarpet": [
           {
            "colorbar": {
             "outlinewidth": 0,
             "ticks": ""
            },
            "type": "contourcarpet"
           }
          ],
          "heatmap": [
           {
            "colorbar": {
             "outlinewidth": 0,
             "ticks": ""
            },
            "colorscale": [
             [
              0,
              "#0d0887"
             ],
             [
              0.1111111111111111,
              "#46039f"
             ],
             [
              0.2222222222222222,
              "#7201a8"
             ],
             [
              0.3333333333333333,
              "#9c179e"
             ],
             [
              0.4444444444444444,
              "#bd3786"
             ],
             [
              0.5555555555555556,
              "#d8576b"
             ],
             [
              0.6666666666666666,
              "#ed7953"
             ],
             [
              0.7777777777777778,
              "#fb9f3a"
             ],
             [
              0.8888888888888888,
              "#fdca26"
             ],
             [
              1,
              "#f0f921"
             ]
            ],
            "type": "heatmap"
           }
          ],
          "heatmapgl": [
           {
            "colorbar": {
             "outlinewidth": 0,
             "ticks": ""
            },
            "colorscale": [
             [
              0,
              "#0d0887"
             ],
             [
              0.1111111111111111,
              "#46039f"
             ],
             [
              0.2222222222222222,
              "#7201a8"
             ],
             [
              0.3333333333333333,
              "#9c179e"
             ],
             [
              0.4444444444444444,
              "#bd3786"
             ],
             [
              0.5555555555555556,
              "#d8576b"
             ],
             [
              0.6666666666666666,
              "#ed7953"
             ],
             [
              0.7777777777777778,
              "#fb9f3a"
             ],
             [
              0.8888888888888888,
              "#fdca26"
             ],
             [
              1,
              "#f0f921"
             ]
            ],
            "type": "heatmapgl"
           }
          ],
          "histogram": [
           {
            "marker": {
             "pattern": {
              "fillmode": "overlay",
              "size": 10,
              "solidity": 0.2
             }
            },
            "type": "histogram"
           }
          ],
          "histogram2d": [
           {
            "colorbar": {
             "outlinewidth": 0,
             "ticks": ""
            },
            "colorscale": [
             [
              0,
              "#0d0887"
             ],
             [
              0.1111111111111111,
              "#46039f"
             ],
             [
              0.2222222222222222,
              "#7201a8"
             ],
             [
              0.3333333333333333,
              "#9c179e"
             ],
             [
              0.4444444444444444,
              "#bd3786"
             ],
             [
              0.5555555555555556,
              "#d8576b"
             ],
             [
              0.6666666666666666,
              "#ed7953"
             ],
             [
              0.7777777777777778,
              "#fb9f3a"
             ],
             [
              0.8888888888888888,
              "#fdca26"
             ],
             [
              1,
              "#f0f921"
             ]
            ],
            "type": "histogram2d"
           }
          ],
          "histogram2dcontour": [
           {
            "colorbar": {
             "outlinewidth": 0,
             "ticks": ""
            },
            "colorscale": [
             [
              0,
              "#0d0887"
             ],
             [
              0.1111111111111111,
              "#46039f"
             ],
             [
              0.2222222222222222,
              "#7201a8"
             ],
             [
              0.3333333333333333,
              "#9c179e"
             ],
             [
              0.4444444444444444,
              "#bd3786"
             ],
             [
              0.5555555555555556,
              "#d8576b"
             ],
             [
              0.6666666666666666,
              "#ed7953"
             ],
             [
              0.7777777777777778,
              "#fb9f3a"
             ],
             [
              0.8888888888888888,
              "#fdca26"
             ],
             [
              1,
              "#f0f921"
             ]
            ],
            "type": "histogram2dcontour"
           }
          ],
          "mesh3d": [
           {
            "colorbar": {
             "outlinewidth": 0,
             "ticks": ""
            },
            "type": "mesh3d"
           }
          ],
          "parcoords": [
           {
            "line": {
             "colorbar": {
              "outlinewidth": 0,
              "ticks": ""
             }
            },
            "type": "parcoords"
           }
          ],
          "pie": [
           {
            "automargin": true,
            "type": "pie"
           }
          ],
          "scatter": [
           {
            "fillpattern": {
             "fillmode": "overlay",
             "size": 10,
             "solidity": 0.2
            },
            "type": "scatter"
           }
          ],
          "scatter3d": [
           {
            "line": {
             "colorbar": {
              "outlinewidth": 0,
              "ticks": ""
             }
            },
            "marker": {
             "colorbar": {
              "outlinewidth": 0,
              "ticks": ""
             }
            },
            "type": "scatter3d"
           }
          ],
          "scattercarpet": [
           {
            "marker": {
             "colorbar": {
              "outlinewidth": 0,
              "ticks": ""
             }
            },
            "type": "scattercarpet"
           }
          ],
          "scattergeo": [
           {
            "marker": {
             "colorbar": {
              "outlinewidth": 0,
              "ticks": ""
             }
            },
            "type": "scattergeo"
           }
          ],
          "scattergl": [
           {
            "marker": {
             "colorbar": {
              "outlinewidth": 0,
              "ticks": ""
             }
            },
            "type": "scattergl"
           }
          ],
          "scattermapbox": [
           {
            "marker": {
             "colorbar": {
              "outlinewidth": 0,
              "ticks": ""
             }
            },
            "type": "scattermapbox"
           }
          ],
          "scatterpolar": [
           {
            "marker": {
             "colorbar": {
              "outlinewidth": 0,
              "ticks": ""
             }
            },
            "type": "scatterpolar"
           }
          ],
          "scatterpolargl": [
           {
            "marker": {
             "colorbar": {
              "outlinewidth": 0,
              "ticks": ""
             }
            },
            "type": "scatterpolargl"
           }
          ],
          "scatterternary": [
           {
            "marker": {
             "colorbar": {
              "outlinewidth": 0,
              "ticks": ""
             }
            },
            "type": "scatterternary"
           }
          ],
          "surface": [
           {
            "colorbar": {
             "outlinewidth": 0,
             "ticks": ""
            },
            "colorscale": [
             [
              0,
              "#0d0887"
             ],
             [
              0.1111111111111111,
              "#46039f"
             ],
             [
              0.2222222222222222,
              "#7201a8"
             ],
             [
              0.3333333333333333,
              "#9c179e"
             ],
             [
              0.4444444444444444,
              "#bd3786"
             ],
             [
              0.5555555555555556,
              "#d8576b"
             ],
             [
              0.6666666666666666,
              "#ed7953"
             ],
             [
              0.7777777777777778,
              "#fb9f3a"
             ],
             [
              0.8888888888888888,
              "#fdca26"
             ],
             [
              1,
              "#f0f921"
             ]
            ],
            "type": "surface"
           }
          ],
          "table": [
           {
            "cells": {
             "fill": {
              "color": "#EBF0F8"
             },
             "line": {
              "color": "white"
             }
            },
            "header": {
             "fill": {
              "color": "#C8D4E3"
             },
             "line": {
              "color": "white"
             }
            },
            "type": "table"
           }
          ]
         },
         "layout": {
          "annotationdefaults": {
           "arrowcolor": "#2a3f5f",
           "arrowhead": 0,
           "arrowwidth": 1
          },
          "autotypenumbers": "strict",
          "coloraxis": {
           "colorbar": {
            "outlinewidth": 0,
            "ticks": ""
           }
          },
          "colorscale": {
           "diverging": [
            [
             0,
             "#8e0152"
            ],
            [
             0.1,
             "#c51b7d"
            ],
            [
             0.2,
             "#de77ae"
            ],
            [
             0.3,
             "#f1b6da"
            ],
            [
             0.4,
             "#fde0ef"
            ],
            [
             0.5,
             "#f7f7f7"
            ],
            [
             0.6,
             "#e6f5d0"
            ],
            [
             0.7,
             "#b8e186"
            ],
            [
             0.8,
             "#7fbc41"
            ],
            [
             0.9,
             "#4d9221"
            ],
            [
             1,
             "#276419"
            ]
           ],
           "sequential": [
            [
             0,
             "#0d0887"
            ],
            [
             0.1111111111111111,
             "#46039f"
            ],
            [
             0.2222222222222222,
             "#7201a8"
            ],
            [
             0.3333333333333333,
             "#9c179e"
            ],
            [
             0.4444444444444444,
             "#bd3786"
            ],
            [
             0.5555555555555556,
             "#d8576b"
            ],
            [
             0.6666666666666666,
             "#ed7953"
            ],
            [
             0.7777777777777778,
             "#fb9f3a"
            ],
            [
             0.8888888888888888,
             "#fdca26"
            ],
            [
             1,
             "#f0f921"
            ]
           ],
           "sequentialminus": [
            [
             0,
             "#0d0887"
            ],
            [
             0.1111111111111111,
             "#46039f"
            ],
            [
             0.2222222222222222,
             "#7201a8"
            ],
            [
             0.3333333333333333,
             "#9c179e"
            ],
            [
             0.4444444444444444,
             "#bd3786"
            ],
            [
             0.5555555555555556,
             "#d8576b"
            ],
            [
             0.6666666666666666,
             "#ed7953"
            ],
            [
             0.7777777777777778,
             "#fb9f3a"
            ],
            [
             0.8888888888888888,
             "#fdca26"
            ],
            [
             1,
             "#f0f921"
            ]
           ]
          },
          "colorway": [
           "#636efa",
           "#EF553B",
           "#00cc96",
           "#ab63fa",
           "#FFA15A",
           "#19d3f3",
           "#FF6692",
           "#B6E880",
           "#FF97FF",
           "#FECB52"
          ],
          "font": {
           "color": "#2a3f5f"
          },
          "geo": {
           "bgcolor": "white",
           "lakecolor": "white",
           "landcolor": "#E5ECF6",
           "showlakes": true,
           "showland": true,
           "subunitcolor": "white"
          },
          "hoverlabel": {
           "align": "left"
          },
          "hovermode": "closest",
          "mapbox": {
           "style": "light"
          },
          "paper_bgcolor": "white",
          "plot_bgcolor": "#E5ECF6",
          "polar": {
           "angularaxis": {
            "gridcolor": "white",
            "linecolor": "white",
            "ticks": ""
           },
           "bgcolor": "#E5ECF6",
           "radialaxis": {
            "gridcolor": "white",
            "linecolor": "white",
            "ticks": ""
           }
          },
          "scene": {
           "xaxis": {
            "backgroundcolor": "#E5ECF6",
            "gridcolor": "white",
            "gridwidth": 2,
            "linecolor": "white",
            "showbackground": true,
            "ticks": "",
            "zerolinecolor": "white"
           },
           "yaxis": {
            "backgroundcolor": "#E5ECF6",
            "gridcolor": "white",
            "gridwidth": 2,
            "linecolor": "white",
            "showbackground": true,
            "ticks": "",
            "zerolinecolor": "white"
           },
           "zaxis": {
            "backgroundcolor": "#E5ECF6",
            "gridcolor": "white",
            "gridwidth": 2,
            "linecolor": "white",
            "showbackground": true,
            "ticks": "",
            "zerolinecolor": "white"
           }
          },
          "shapedefaults": {
           "line": {
            "color": "#2a3f5f"
           }
          },
          "ternary": {
           "aaxis": {
            "gridcolor": "white",
            "linecolor": "white",
            "ticks": ""
           },
           "baxis": {
            "gridcolor": "white",
            "linecolor": "white",
            "ticks": ""
           },
           "bgcolor": "#E5ECF6",
           "caxis": {
            "gridcolor": "white",
            "linecolor": "white",
            "ticks": ""
           }
          },
          "title": {
           "x": 0.05
          },
          "xaxis": {
           "automargin": true,
           "gridcolor": "white",
           "linecolor": "white",
           "ticks": "",
           "title": {
            "standoff": 15
           },
           "zerolinecolor": "white",
           "zerolinewidth": 2
          },
          "yaxis": {
           "automargin": true,
           "gridcolor": "white",
           "linecolor": "white",
           "ticks": "",
           "title": {
            "standoff": 15
           },
           "zerolinecolor": "white",
           "zerolinewidth": 2
          }
         }
        },
        "title": {
         "text": "Race Distribution<br><sup><i>(n=382)</i></sup>",
         "x": 0,
         "xref": "paper"
        },
        "uniformtext": {
         "minsize": 10,
         "mode": "hide"
        },
        "xaxis": {
         "title": {
          "text": "Race<br><sup><i>race</i></sup>"
         }
        },
        "yaxis": {
         "gridcolor": "lightgrey",
         "title": {
          "text": "Percentage<br><sup><i>%</i></sup>"
         }
        }
       }
      }
     },
     "metadata": {},
     "output_type": "display_data"
    },
    {
     "data": {
      "application/vnd.plotly.v1+json": {
       "config": {
        "plotlyServerURL": "https://plot.ly"
       },
       "data": [
        {
         "marker": {
          "color": "#172207"
         },
         "name": "1",
         "text": [
          "42.0"
         ],
         "type": "bar",
         "x": [
          "1"
         ],
         "y": [
          42
         ]
        },
        {
         "marker": {
          "color": "#172207"
         },
         "name": "2",
         "text": [
          "34.0"
         ],
         "type": "bar",
         "x": [
          "2"
         ],
         "y": [
          34
         ]
        },
        {
         "marker": {
          "color": "#172207"
         },
         "name": "3",
         "text": [
          "15.0"
         ],
         "type": "bar",
         "x": [
          "3"
         ],
         "y": [
          15
         ]
        },
        {
         "marker": {
          "color": "#172207"
         },
         "name": "4",
         "text": [
          "5.0"
         ],
         "type": "bar",
         "x": [
          "4"
         ],
         "y": [
          5
         ]
        },
        {
         "marker": {
          "color": "#172207"
         },
         "name": "5",
         "text": [
          "2.0"
         ],
         "type": "bar",
         "x": [
          "5"
         ],
         "y": [
          2
         ]
        },
        {
         "marker": {
          "color": "#172207"
         },
         "name": "6",
         "text": [
          "1.0"
         ],
         "type": "bar",
         "x": [
          "6"
         ],
         "y": [
          1
         ]
        },
        {
         "marker": {
          "color": "#172207"
         },
         "name": "7",
         "text": [
          "0.0"
         ],
         "type": "bar",
         "x": [
          "7"
         ],
         "y": [
          0
         ]
        },
        {
         "marker": {
          "color": "#172207"
         },
         "name": "8",
         "text": [
          "0.0"
         ],
         "type": "bar",
         "x": [
          "8"
         ],
         "y": [
          0
         ]
        }
       ],
       "layout": {
        "barmode": "stack",
        "paper_bgcolor": "white",
        "plot_bgcolor": "#F6F8FC",
        "showlegend": true,
        "template": {
         "data": {
          "bar": [
           {
            "error_x": {
             "color": "#2a3f5f"
            },
            "error_y": {
             "color": "#2a3f5f"
            },
            "marker": {
             "line": {
              "color": "#E5ECF6",
              "width": 0.5
             },
             "pattern": {
              "fillmode": "overlay",
              "size": 10,
              "solidity": 0.2
             }
            },
            "type": "bar"
           }
          ],
          "barpolar": [
           {
            "marker": {
             "line": {
              "color": "#E5ECF6",
              "width": 0.5
             },
             "pattern": {
              "fillmode": "overlay",
              "size": 10,
              "solidity": 0.2
             }
            },
            "type": "barpolar"
           }
          ],
          "carpet": [
           {
            "aaxis": {
             "endlinecolor": "#2a3f5f",
             "gridcolor": "white",
             "linecolor": "white",
             "minorgridcolor": "white",
             "startlinecolor": "#2a3f5f"
            },
            "baxis": {
             "endlinecolor": "#2a3f5f",
             "gridcolor": "white",
             "linecolor": "white",
             "minorgridcolor": "white",
             "startlinecolor": "#2a3f5f"
            },
            "type": "carpet"
           }
          ],
          "choropleth": [
           {
            "colorbar": {
             "outlinewidth": 0,
             "ticks": ""
            },
            "type": "choropleth"
           }
          ],
          "contour": [
           {
            "colorbar": {
             "outlinewidth": 0,
             "ticks": ""
            },
            "colorscale": [
             [
              0,
              "#0d0887"
             ],
             [
              0.1111111111111111,
              "#46039f"
             ],
             [
              0.2222222222222222,
              "#7201a8"
             ],
             [
              0.3333333333333333,
              "#9c179e"
             ],
             [
              0.4444444444444444,
              "#bd3786"
             ],
             [
              0.5555555555555556,
              "#d8576b"
             ],
             [
              0.6666666666666666,
              "#ed7953"
             ],
             [
              0.7777777777777778,
              "#fb9f3a"
             ],
             [
              0.8888888888888888,
              "#fdca26"
             ],
             [
              1,
              "#f0f921"
             ]
            ],
            "type": "contour"
           }
          ],
          "contourcarpet": [
           {
            "colorbar": {
             "outlinewidth": 0,
             "ticks": ""
            },
            "type": "contourcarpet"
           }
          ],
          "heatmap": [
           {
            "colorbar": {
             "outlinewidth": 0,
             "ticks": ""
            },
            "colorscale": [
             [
              0,
              "#0d0887"
             ],
             [
              0.1111111111111111,
              "#46039f"
             ],
             [
              0.2222222222222222,
              "#7201a8"
             ],
             [
              0.3333333333333333,
              "#9c179e"
             ],
             [
              0.4444444444444444,
              "#bd3786"
             ],
             [
              0.5555555555555556,
              "#d8576b"
             ],
             [
              0.6666666666666666,
              "#ed7953"
             ],
             [
              0.7777777777777778,
              "#fb9f3a"
             ],
             [
              0.8888888888888888,
              "#fdca26"
             ],
             [
              1,
              "#f0f921"
             ]
            ],
            "type": "heatmap"
           }
          ],
          "heatmapgl": [
           {
            "colorbar": {
             "outlinewidth": 0,
             "ticks": ""
            },
            "colorscale": [
             [
              0,
              "#0d0887"
             ],
             [
              0.1111111111111111,
              "#46039f"
             ],
             [
              0.2222222222222222,
              "#7201a8"
             ],
             [
              0.3333333333333333,
              "#9c179e"
             ],
             [
              0.4444444444444444,
              "#bd3786"
             ],
             [
              0.5555555555555556,
              "#d8576b"
             ],
             [
              0.6666666666666666,
              "#ed7953"
             ],
             [
              0.7777777777777778,
              "#fb9f3a"
             ],
             [
              0.8888888888888888,
              "#fdca26"
             ],
             [
              1,
              "#f0f921"
             ]
            ],
            "type": "heatmapgl"
           }
          ],
          "histogram": [
           {
            "marker": {
             "pattern": {
              "fillmode": "overlay",
              "size": 10,
              "solidity": 0.2
             }
            },
            "type": "histogram"
           }
          ],
          "histogram2d": [
           {
            "colorbar": {
             "outlinewidth": 0,
             "ticks": ""
            },
            "colorscale": [
             [
              0,
              "#0d0887"
             ],
             [
              0.1111111111111111,
              "#46039f"
             ],
             [
              0.2222222222222222,
              "#7201a8"
             ],
             [
              0.3333333333333333,
              "#9c179e"
             ],
             [
              0.4444444444444444,
              "#bd3786"
             ],
             [
              0.5555555555555556,
              "#d8576b"
             ],
             [
              0.6666666666666666,
              "#ed7953"
             ],
             [
              0.7777777777777778,
              "#fb9f3a"
             ],
             [
              0.8888888888888888,
              "#fdca26"
             ],
             [
              1,
              "#f0f921"
             ]
            ],
            "type": "histogram2d"
           }
          ],
          "histogram2dcontour": [
           {
            "colorbar": {
             "outlinewidth": 0,
             "ticks": ""
            },
            "colorscale": [
             [
              0,
              "#0d0887"
             ],
             [
              0.1111111111111111,
              "#46039f"
             ],
             [
              0.2222222222222222,
              "#7201a8"
             ],
             [
              0.3333333333333333,
              "#9c179e"
             ],
             [
              0.4444444444444444,
              "#bd3786"
             ],
             [
              0.5555555555555556,
              "#d8576b"
             ],
             [
              0.6666666666666666,
              "#ed7953"
             ],
             [
              0.7777777777777778,
              "#fb9f3a"
             ],
             [
              0.8888888888888888,
              "#fdca26"
             ],
             [
              1,
              "#f0f921"
             ]
            ],
            "type": "histogram2dcontour"
           }
          ],
          "mesh3d": [
           {
            "colorbar": {
             "outlinewidth": 0,
             "ticks": ""
            },
            "type": "mesh3d"
           }
          ],
          "parcoords": [
           {
            "line": {
             "colorbar": {
              "outlinewidth": 0,
              "ticks": ""
             }
            },
            "type": "parcoords"
           }
          ],
          "pie": [
           {
            "automargin": true,
            "type": "pie"
           }
          ],
          "scatter": [
           {
            "fillpattern": {
             "fillmode": "overlay",
             "size": 10,
             "solidity": 0.2
            },
            "type": "scatter"
           }
          ],
          "scatter3d": [
           {
            "line": {
             "colorbar": {
              "outlinewidth": 0,
              "ticks": ""
             }
            },
            "marker": {
             "colorbar": {
              "outlinewidth": 0,
              "ticks": ""
             }
            },
            "type": "scatter3d"
           }
          ],
          "scattercarpet": [
           {
            "marker": {
             "colorbar": {
              "outlinewidth": 0,
              "ticks": ""
             }
            },
            "type": "scattercarpet"
           }
          ],
          "scattergeo": [
           {
            "marker": {
             "colorbar": {
              "outlinewidth": 0,
              "ticks": ""
             }
            },
            "type": "scattergeo"
           }
          ],
          "scattergl": [
           {
            "marker": {
             "colorbar": {
              "outlinewidth": 0,
              "ticks": ""
             }
            },
            "type": "scattergl"
           }
          ],
          "scattermapbox": [
           {
            "marker": {
             "colorbar": {
              "outlinewidth": 0,
              "ticks": ""
             }
            },
            "type": "scattermapbox"
           }
          ],
          "scatterpolar": [
           {
            "marker": {
             "colorbar": {
              "outlinewidth": 0,
              "ticks": ""
             }
            },
            "type": "scatterpolar"
           }
          ],
          "scatterpolargl": [
           {
            "marker": {
             "colorbar": {
              "outlinewidth": 0,
              "ticks": ""
             }
            },
            "type": "scatterpolargl"
           }
          ],
          "scatterternary": [
           {
            "marker": {
             "colorbar": {
              "outlinewidth": 0,
              "ticks": ""
             }
            },
            "type": "scatterternary"
           }
          ],
          "surface": [
           {
            "colorbar": {
             "outlinewidth": 0,
             "ticks": ""
            },
            "colorscale": [
             [
              0,
              "#0d0887"
             ],
             [
              0.1111111111111111,
              "#46039f"
             ],
             [
              0.2222222222222222,
              "#7201a8"
             ],
             [
              0.3333333333333333,
              "#9c179e"
             ],
             [
              0.4444444444444444,
              "#bd3786"
             ],
             [
              0.5555555555555556,
              "#d8576b"
             ],
             [
              0.6666666666666666,
              "#ed7953"
             ],
             [
              0.7777777777777778,
              "#fb9f3a"
             ],
             [
              0.8888888888888888,
              "#fdca26"
             ],
             [
              1,
              "#f0f921"
             ]
            ],
            "type": "surface"
           }
          ],
          "table": [
           {
            "cells": {
             "fill": {
              "color": "#EBF0F8"
             },
             "line": {
              "color": "white"
             }
            },
            "header": {
             "fill": {
              "color": "#C8D4E3"
             },
             "line": {
              "color": "white"
             }
            },
            "type": "table"
           }
          ]
         },
         "layout": {
          "annotationdefaults": {
           "arrowcolor": "#2a3f5f",
           "arrowhead": 0,
           "arrowwidth": 1
          },
          "autotypenumbers": "strict",
          "coloraxis": {
           "colorbar": {
            "outlinewidth": 0,
            "ticks": ""
           }
          },
          "colorscale": {
           "diverging": [
            [
             0,
             "#8e0152"
            ],
            [
             0.1,
             "#c51b7d"
            ],
            [
             0.2,
             "#de77ae"
            ],
            [
             0.3,
             "#f1b6da"
            ],
            [
             0.4,
             "#fde0ef"
            ],
            [
             0.5,
             "#f7f7f7"
            ],
            [
             0.6,
             "#e6f5d0"
            ],
            [
             0.7,
             "#b8e186"
            ],
            [
             0.8,
             "#7fbc41"
            ],
            [
             0.9,
             "#4d9221"
            ],
            [
             1,
             "#276419"
            ]
           ],
           "sequential": [
            [
             0,
             "#0d0887"
            ],
            [
             0.1111111111111111,
             "#46039f"
            ],
            [
             0.2222222222222222,
             "#7201a8"
            ],
            [
             0.3333333333333333,
             "#9c179e"
            ],
            [
             0.4444444444444444,
             "#bd3786"
            ],
            [
             0.5555555555555556,
             "#d8576b"
            ],
            [
             0.6666666666666666,
             "#ed7953"
            ],
            [
             0.7777777777777778,
             "#fb9f3a"
            ],
            [
             0.8888888888888888,
             "#fdca26"
            ],
            [
             1,
             "#f0f921"
            ]
           ],
           "sequentialminus": [
            [
             0,
             "#0d0887"
            ],
            [
             0.1111111111111111,
             "#46039f"
            ],
            [
             0.2222222222222222,
             "#7201a8"
            ],
            [
             0.3333333333333333,
             "#9c179e"
            ],
            [
             0.4444444444444444,
             "#bd3786"
            ],
            [
             0.5555555555555556,
             "#d8576b"
            ],
            [
             0.6666666666666666,
             "#ed7953"
            ],
            [
             0.7777777777777778,
             "#fb9f3a"
            ],
            [
             0.8888888888888888,
             "#fdca26"
            ],
            [
             1,
             "#f0f921"
            ]
           ]
          },
          "colorway": [
           "#636efa",
           "#EF553B",
           "#00cc96",
           "#ab63fa",
           "#FFA15A",
           "#19d3f3",
           "#FF6692",
           "#B6E880",
           "#FF97FF",
           "#FECB52"
          ],
          "font": {
           "color": "#2a3f5f"
          },
          "geo": {
           "bgcolor": "white",
           "lakecolor": "white",
           "landcolor": "#E5ECF6",
           "showlakes": true,
           "showland": true,
           "subunitcolor": "white"
          },
          "hoverlabel": {
           "align": "left"
          },
          "hovermode": "closest",
          "mapbox": {
           "style": "light"
          },
          "paper_bgcolor": "white",
          "plot_bgcolor": "#E5ECF6",
          "polar": {
           "angularaxis": {
            "gridcolor": "white",
            "linecolor": "white",
            "ticks": ""
           },
           "bgcolor": "#E5ECF6",
           "radialaxis": {
            "gridcolor": "white",
            "linecolor": "white",
            "ticks": ""
           }
          },
          "scene": {
           "xaxis": {
            "backgroundcolor": "#E5ECF6",
            "gridcolor": "white",
            "gridwidth": 2,
            "linecolor": "white",
            "showbackground": true,
            "ticks": "",
            "zerolinecolor": "white"
           },
           "yaxis": {
            "backgroundcolor": "#E5ECF6",
            "gridcolor": "white",
            "gridwidth": 2,
            "linecolor": "white",
            "showbackground": true,
            "ticks": "",
            "zerolinecolor": "white"
           },
           "zaxis": {
            "backgroundcolor": "#E5ECF6",
            "gridcolor": "white",
            "gridwidth": 2,
            "linecolor": "white",
            "showbackground": true,
            "ticks": "",
            "zerolinecolor": "white"
           }
          },
          "shapedefaults": {
           "line": {
            "color": "#2a3f5f"
           }
          },
          "ternary": {
           "aaxis": {
            "gridcolor": "white",
            "linecolor": "white",
            "ticks": ""
           },
           "baxis": {
            "gridcolor": "white",
            "linecolor": "white",
            "ticks": ""
           },
           "bgcolor": "#E5ECF6",
           "caxis": {
            "gridcolor": "white",
            "linecolor": "white",
            "ticks": ""
           }
          },
          "title": {
           "x": 0.05
          },
          "xaxis": {
           "automargin": true,
           "gridcolor": "white",
           "linecolor": "white",
           "ticks": "",
           "title": {
            "standoff": 15
           },
           "zerolinecolor": "white",
           "zerolinewidth": 2
          },
          "yaxis": {
           "automargin": true,
           "gridcolor": "white",
           "linecolor": "white",
           "ticks": "",
           "title": {
            "standoff": 15
           },
           "zerolinecolor": "white",
           "zerolinewidth": 2
          }
         }
        },
        "title": {
         "text": "Parity Distribution<br><sup><i>(n=382)</i></sup>",
         "x": 0,
         "xref": "paper"
        },
        "uniformtext": {
         "minsize": 10,
         "mode": "hide"
        },
        "xaxis": {
         "title": {
          "text": "Parity<br><sup><i>number of live births</i></sup>"
         }
        },
        "yaxis": {
         "gridcolor": "lightgrey",
         "title": {
          "text": "Percentage<br><sup><i>%</i></sup>"
         }
        }
       }
      }
     },
     "metadata": {},
     "output_type": "display_data"
    },
    {
     "data": {
      "application/vnd.plotly.v1+json": {
       "config": {
        "plotlyServerURL": "https://plot.ly"
       },
       "data": [
        {
         "marker": {
          "color": "#172207"
         },
         "name": "WHITE",
         "text": [
          "0.26",
          "12.57",
          "19.9",
          "7.85",
          "6.28"
         ],
         "type": "bar",
         "x": [
          "< 18",
          "18-25",
          "25-30",
          "30-35",
          "> 35"
         ],
         "y": [
          0.26,
          12.57,
          19.9,
          7.85,
          6.28
         ]
        },
        {
         "marker": {
          "color": "#32471E"
         },
         "name": "MIXED",
         "text": [
          "0.26",
          "0.79",
          "2.09",
          "0.79",
          "1.31"
         ],
         "type": "bar",
         "x": [
          "< 18",
          "18-25",
          "25-30",
          "30-35",
          "> 35"
         ],
         "y": [
          0.26,
          0.79,
          2.09,
          0.79,
          1.31
         ]
        },
        {
         "marker": {
          "color": "#3E412A"
         },
         "name": "ASIAN EAST",
         "text": [
          "4.19",
          "2.62",
          "0.26",
          "1.05"
         ],
         "type": "bar",
         "x": [
          "18-25",
          "25-30",
          "> 35",
          "30-35"
         ],
         "y": [
          4.19,
          2.62,
          0.26,
          1.05
         ]
        },
        {
         "marker": {
          "color": "#555A44"
         },
         "name": "ASIAN SOUTH",
         "text": [
          "4.71",
          "7.33",
          "1.83",
          "3.14"
         ],
         "type": "bar",
         "x": [
          "18-25",
          "25-30",
          "> 35",
          "30-35"
         ],
         "y": [
          4.71,
          7.33,
          1.83,
          3.14
         ]
        },
        {
         "marker": {
          "color": "#7D826D"
         },
         "name": "BLACK",
         "text": [
          "3.4",
          "5.76",
          "5.76",
          "7.85"
         ],
         "type": "bar",
         "x": [
          "18-25",
          "25-30",
          "> 35",
          "30-35"
         ],
         "y": [
          3.4,
          5.76,
          5.76,
          7.85
         ]
        }
       ],
       "layout": {
        "barmode": "stack",
        "paper_bgcolor": "white",
        "plot_bgcolor": "#F6F8FC",
        "showlegend": true,
        "template": {
         "data": {
          "bar": [
           {
            "error_x": {
             "color": "#2a3f5f"
            },
            "error_y": {
             "color": "#2a3f5f"
            },
            "marker": {
             "line": {
              "color": "#E5ECF6",
              "width": 0.5
             },
             "pattern": {
              "fillmode": "overlay",
              "size": 10,
              "solidity": 0.2
             }
            },
            "type": "bar"
           }
          ],
          "barpolar": [
           {
            "marker": {
             "line": {
              "color": "#E5ECF6",
              "width": 0.5
             },
             "pattern": {
              "fillmode": "overlay",
              "size": 10,
              "solidity": 0.2
             }
            },
            "type": "barpolar"
           }
          ],
          "carpet": [
           {
            "aaxis": {
             "endlinecolor": "#2a3f5f",
             "gridcolor": "white",
             "linecolor": "white",
             "minorgridcolor": "white",
             "startlinecolor": "#2a3f5f"
            },
            "baxis": {
             "endlinecolor": "#2a3f5f",
             "gridcolor": "white",
             "linecolor": "white",
             "minorgridcolor": "white",
             "startlinecolor": "#2a3f5f"
            },
            "type": "carpet"
           }
          ],
          "choropleth": [
           {
            "colorbar": {
             "outlinewidth": 0,
             "ticks": ""
            },
            "type": "choropleth"
           }
          ],
          "contour": [
           {
            "colorbar": {
             "outlinewidth": 0,
             "ticks": ""
            },
            "colorscale": [
             [
              0,
              "#0d0887"
             ],
             [
              0.1111111111111111,
              "#46039f"
             ],
             [
              0.2222222222222222,
              "#7201a8"
             ],
             [
              0.3333333333333333,
              "#9c179e"
             ],
             [
              0.4444444444444444,
              "#bd3786"
             ],
             [
              0.5555555555555556,
              "#d8576b"
             ],
             [
              0.6666666666666666,
              "#ed7953"
             ],
             [
              0.7777777777777778,
              "#fb9f3a"
             ],
             [
              0.8888888888888888,
              "#fdca26"
             ],
             [
              1,
              "#f0f921"
             ]
            ],
            "type": "contour"
           }
          ],
          "contourcarpet": [
           {
            "colorbar": {
             "outlinewidth": 0,
             "ticks": ""
            },
            "type": "contourcarpet"
           }
          ],
          "heatmap": [
           {
            "colorbar": {
             "outlinewidth": 0,
             "ticks": ""
            },
            "colorscale": [
             [
              0,
              "#0d0887"
             ],
             [
              0.1111111111111111,
              "#46039f"
             ],
             [
              0.2222222222222222,
              "#7201a8"
             ],
             [
              0.3333333333333333,
              "#9c179e"
             ],
             [
              0.4444444444444444,
              "#bd3786"
             ],
             [
              0.5555555555555556,
              "#d8576b"
             ],
             [
              0.6666666666666666,
              "#ed7953"
             ],
             [
              0.7777777777777778,
              "#fb9f3a"
             ],
             [
              0.8888888888888888,
              "#fdca26"
             ],
             [
              1,
              "#f0f921"
             ]
            ],
            "type": "heatmap"
           }
          ],
          "heatmapgl": [
           {
            "colorbar": {
             "outlinewidth": 0,
             "ticks": ""
            },
            "colorscale": [
             [
              0,
              "#0d0887"
             ],
             [
              0.1111111111111111,
              "#46039f"
             ],
             [
              0.2222222222222222,
              "#7201a8"
             ],
             [
              0.3333333333333333,
              "#9c179e"
             ],
             [
              0.4444444444444444,
              "#bd3786"
             ],
             [
              0.5555555555555556,
              "#d8576b"
             ],
             [
              0.6666666666666666,
              "#ed7953"
             ],
             [
              0.7777777777777778,
              "#fb9f3a"
             ],
             [
              0.8888888888888888,
              "#fdca26"
             ],
             [
              1,
              "#f0f921"
             ]
            ],
            "type": "heatmapgl"
           }
          ],
          "histogram": [
           {
            "marker": {
             "pattern": {
              "fillmode": "overlay",
              "size": 10,
              "solidity": 0.2
             }
            },
            "type": "histogram"
           }
          ],
          "histogram2d": [
           {
            "colorbar": {
             "outlinewidth": 0,
             "ticks": ""
            },
            "colorscale": [
             [
              0,
              "#0d0887"
             ],
             [
              0.1111111111111111,
              "#46039f"
             ],
             [
              0.2222222222222222,
              "#7201a8"
             ],
             [
              0.3333333333333333,
              "#9c179e"
             ],
             [
              0.4444444444444444,
              "#bd3786"
             ],
             [
              0.5555555555555556,
              "#d8576b"
             ],
             [
              0.6666666666666666,
              "#ed7953"
             ],
             [
              0.7777777777777778,
              "#fb9f3a"
             ],
             [
              0.8888888888888888,
              "#fdca26"
             ],
             [
              1,
              "#f0f921"
             ]
            ],
            "type": "histogram2d"
           }
          ],
          "histogram2dcontour": [
           {
            "colorbar": {
             "outlinewidth": 0,
             "ticks": ""
            },
            "colorscale": [
             [
              0,
              "#0d0887"
             ],
             [
              0.1111111111111111,
              "#46039f"
             ],
             [
              0.2222222222222222,
              "#7201a8"
             ],
             [
              0.3333333333333333,
              "#9c179e"
             ],
             [
              0.4444444444444444,
              "#bd3786"
             ],
             [
              0.5555555555555556,
              "#d8576b"
             ],
             [
              0.6666666666666666,
              "#ed7953"
             ],
             [
              0.7777777777777778,
              "#fb9f3a"
             ],
             [
              0.8888888888888888,
              "#fdca26"
             ],
             [
              1,
              "#f0f921"
             ]
            ],
            "type": "histogram2dcontour"
           }
          ],
          "mesh3d": [
           {
            "colorbar": {
             "outlinewidth": 0,
             "ticks": ""
            },
            "type": "mesh3d"
           }
          ],
          "parcoords": [
           {
            "line": {
             "colorbar": {
              "outlinewidth": 0,
              "ticks": ""
             }
            },
            "type": "parcoords"
           }
          ],
          "pie": [
           {
            "automargin": true,
            "type": "pie"
           }
          ],
          "scatter": [
           {
            "fillpattern": {
             "fillmode": "overlay",
             "size": 10,
             "solidity": 0.2
            },
            "type": "scatter"
           }
          ],
          "scatter3d": [
           {
            "line": {
             "colorbar": {
              "outlinewidth": 0,
              "ticks": ""
             }
            },
            "marker": {
             "colorbar": {
              "outlinewidth": 0,
              "ticks": ""
             }
            },
            "type": "scatter3d"
           }
          ],
          "scattercarpet": [
           {
            "marker": {
             "colorbar": {
              "outlinewidth": 0,
              "ticks": ""
             }
            },
            "type": "scattercarpet"
           }
          ],
          "scattergeo": [
           {
            "marker": {
             "colorbar": {
              "outlinewidth": 0,
              "ticks": ""
             }
            },
            "type": "scattergeo"
           }
          ],
          "scattergl": [
           {
            "marker": {
             "colorbar": {
              "outlinewidth": 0,
              "ticks": ""
             }
            },
            "type": "scattergl"
           }
          ],
          "scattermapbox": [
           {
            "marker": {
             "colorbar": {
              "outlinewidth": 0,
              "ticks": ""
             }
            },
            "type": "scattermapbox"
           }
          ],
          "scatterpolar": [
           {
            "marker": {
             "colorbar": {
              "outlinewidth": 0,
              "ticks": ""
             }
            },
            "type": "scatterpolar"
           }
          ],
          "scatterpolargl": [
           {
            "marker": {
             "colorbar": {
              "outlinewidth": 0,
              "ticks": ""
             }
            },
            "type": "scatterpolargl"
           }
          ],
          "scatterternary": [
           {
            "marker": {
             "colorbar": {
              "outlinewidth": 0,
              "ticks": ""
             }
            },
            "type": "scatterternary"
           }
          ],
          "surface": [
           {
            "colorbar": {
             "outlinewidth": 0,
             "ticks": ""
            },
            "colorscale": [
             [
              0,
              "#0d0887"
             ],
             [
              0.1111111111111111,
              "#46039f"
             ],
             [
              0.2222222222222222,
              "#7201a8"
             ],
             [
              0.3333333333333333,
              "#9c179e"
             ],
             [
              0.4444444444444444,
              "#bd3786"
             ],
             [
              0.5555555555555556,
              "#d8576b"
             ],
             [
              0.6666666666666666,
              "#ed7953"
             ],
             [
              0.7777777777777778,
              "#fb9f3a"
             ],
             [
              0.8888888888888888,
              "#fdca26"
             ],
             [
              1,
              "#f0f921"
             ]
            ],
            "type": "surface"
           }
          ],
          "table": [
           {
            "cells": {
             "fill": {
              "color": "#EBF0F8"
             },
             "line": {
              "color": "white"
             }
            },
            "header": {
             "fill": {
              "color": "#C8D4E3"
             },
             "line": {
              "color": "white"
             }
            },
            "type": "table"
           }
          ]
         },
         "layout": {
          "annotationdefaults": {
           "arrowcolor": "#2a3f5f",
           "arrowhead": 0,
           "arrowwidth": 1
          },
          "autotypenumbers": "strict",
          "coloraxis": {
           "colorbar": {
            "outlinewidth": 0,
            "ticks": ""
           }
          },
          "colorscale": {
           "diverging": [
            [
             0,
             "#8e0152"
            ],
            [
             0.1,
             "#c51b7d"
            ],
            [
             0.2,
             "#de77ae"
            ],
            [
             0.3,
             "#f1b6da"
            ],
            [
             0.4,
             "#fde0ef"
            ],
            [
             0.5,
             "#f7f7f7"
            ],
            [
             0.6,
             "#e6f5d0"
            ],
            [
             0.7,
             "#b8e186"
            ],
            [
             0.8,
             "#7fbc41"
            ],
            [
             0.9,
             "#4d9221"
            ],
            [
             1,
             "#276419"
            ]
           ],
           "sequential": [
            [
             0,
             "#0d0887"
            ],
            [
             0.1111111111111111,
             "#46039f"
            ],
            [
             0.2222222222222222,
             "#7201a8"
            ],
            [
             0.3333333333333333,
             "#9c179e"
            ],
            [
             0.4444444444444444,
             "#bd3786"
            ],
            [
             0.5555555555555556,
             "#d8576b"
            ],
            [
             0.6666666666666666,
             "#ed7953"
            ],
            [
             0.7777777777777778,
             "#fb9f3a"
            ],
            [
             0.8888888888888888,
             "#fdca26"
            ],
            [
             1,
             "#f0f921"
            ]
           ],
           "sequentialminus": [
            [
             0,
             "#0d0887"
            ],
            [
             0.1111111111111111,
             "#46039f"
            ],
            [
             0.2222222222222222,
             "#7201a8"
            ],
            [
             0.3333333333333333,
             "#9c179e"
            ],
            [
             0.4444444444444444,
             "#bd3786"
            ],
            [
             0.5555555555555556,
             "#d8576b"
            ],
            [
             0.6666666666666666,
             "#ed7953"
            ],
            [
             0.7777777777777778,
             "#fb9f3a"
            ],
            [
             0.8888888888888888,
             "#fdca26"
            ],
            [
             1,
             "#f0f921"
            ]
           ]
          },
          "colorway": [
           "#636efa",
           "#EF553B",
           "#00cc96",
           "#ab63fa",
           "#FFA15A",
           "#19d3f3",
           "#FF6692",
           "#B6E880",
           "#FF97FF",
           "#FECB52"
          ],
          "font": {
           "color": "#2a3f5f"
          },
          "geo": {
           "bgcolor": "white",
           "lakecolor": "white",
           "landcolor": "#E5ECF6",
           "showlakes": true,
           "showland": true,
           "subunitcolor": "white"
          },
          "hoverlabel": {
           "align": "left"
          },
          "hovermode": "closest",
          "mapbox": {
           "style": "light"
          },
          "paper_bgcolor": "white",
          "plot_bgcolor": "#E5ECF6",
          "polar": {
           "angularaxis": {
            "gridcolor": "white",
            "linecolor": "white",
            "ticks": ""
           },
           "bgcolor": "#E5ECF6",
           "radialaxis": {
            "gridcolor": "white",
            "linecolor": "white",
            "ticks": ""
           }
          },
          "scene": {
           "xaxis": {
            "backgroundcolor": "#E5ECF6",
            "gridcolor": "white",
            "gridwidth": 2,
            "linecolor": "white",
            "showbackground": true,
            "ticks": "",
            "zerolinecolor": "white"
           },
           "yaxis": {
            "backgroundcolor": "#E5ECF6",
            "gridcolor": "white",
            "gridwidth": 2,
            "linecolor": "white",
            "showbackground": true,
            "ticks": "",
            "zerolinecolor": "white"
           },
           "zaxis": {
            "backgroundcolor": "#E5ECF6",
            "gridcolor": "white",
            "gridwidth": 2,
            "linecolor": "white",
            "showbackground": true,
            "ticks": "",
            "zerolinecolor": "white"
           }
          },
          "shapedefaults": {
           "line": {
            "color": "#2a3f5f"
           }
          },
          "ternary": {
           "aaxis": {
            "gridcolor": "white",
            "linecolor": "white",
            "ticks": ""
           },
           "baxis": {
            "gridcolor": "white",
            "linecolor": "white",
            "ticks": ""
           },
           "bgcolor": "#E5ECF6",
           "caxis": {
            "gridcolor": "white",
            "linecolor": "white",
            "ticks": ""
           }
          },
          "title": {
           "x": 0.05
          },
          "xaxis": {
           "automargin": true,
           "gridcolor": "white",
           "linecolor": "white",
           "ticks": "",
           "title": {
            "standoff": 15
           },
           "zerolinecolor": "white",
           "zerolinewidth": 2
          },
          "yaxis": {
           "automargin": true,
           "gridcolor": "white",
           "linecolor": "white",
           "ticks": "",
           "title": {
            "standoff": 15
           },
           "zerolinecolor": "white",
           "zerolinewidth": 2
          }
         }
        },
        "title": {
         "text": "BMI Distribution<br><sup><i>(n=382)</i></sup>",
         "x": 0,
         "xref": "paper"
        },
        "uniformtext": {
         "minsize": 10,
         "mode": "hide"
        },
        "xaxis": {
         "title": {
          "text": "BMI Category<br><sup><i>kg/m<sup>2</sup></i></sup>"
         }
        },
        "yaxis": {
         "gridcolor": "lightgrey",
         "title": {
          "text": "Percentage<br><sup><i>%</i></sup>"
         }
        }
       }
      }
     },
     "metadata": {},
     "output_type": "display_data"
    },
    {
     "data": {
      "application/vnd.plotly.v1+json": {
       "config": {
        "plotlyServerURL": "https://plot.ly"
       },
       "data": [
        {
         "boxpoints": "all",
         "jitter": 0.3,
         "marker": {
          "color": "#172207"
         },
         "name": "WHITE",
         "notched": true,
         "pointpos": -1.8,
         "type": "box",
         "y": [
          24.8,
          33.71,
          28.2,
          25.5,
          22.1,
          28.2,
          25.1,
          28.5,
          36.4,
          37.8,
          30.46,
          30.71,
          25.4,
          20.9,
          30.7,
          26.6,
          25.3,
          18,
          25.08,
          19.16,
          34.13,
          42.1,
          22.92,
          23.78,
          31.05,
          32.72,
          28.31,
          28.87,
          29.17,
          29.91,
          24,
          35.71,
          30.48,
          38.8,
          23.58,
          23.49,
          26.27,
          30.27,
          29.43,
          30.05,
          20.88,
          25.79,
          28.34,
          29.51,
          25.61,
          26.97,
          31.05,
          26.41,
          28.08,
          29.88,
          34.17,
          29.3,
          40.6,
          25.92,
          33.09,
          24.02,
          21.22,
          62.11,
          22.6,
          26.4,
          24.1,
          23.6,
          27.66,
          42.9,
          29,
          29.86,
          18.29,
          25.97,
          31.09,
          28.06,
          34,
          27.07,
          43.77,
          29.5,
          29.46,
          23.55,
          26.82,
          31.57,
          27,
          22.6,
          30.34,
          22.4,
          28.67,
          27.81,
          31.52,
          21.86,
          45.7,
          29.96,
          36.2,
          39.9,
          36.27,
          24.17,
          37.55,
          21.12,
          30.26,
          28.4,
          22.19,
          26.8,
          21.5,
          24.1,
          26.61,
          42.3,
          22.64,
          41.8,
          32.7,
          21.7,
          34.5,
          22.4,
          21.1,
          33.3,
          22.4,
          27,
          26.4,
          28.8,
          26.9,
          24.2,
          36.6,
          25.2,
          22.25,
          28.55,
          35.36,
          22.06,
          25.39,
          28.55,
          28.25,
          22.23,
          22.96,
          22.23,
          28.08,
          22.56,
          27.33,
          29,
          26.28,
          26.02,
          28.24,
          31.01,
          25.37,
          33.46,
          22.5,
          29.63,
          24.89,
          26.92,
          20.5,
          44.79,
          28.47,
          27.04,
          27.64,
          32.88,
          21.57,
          22.11,
          24.62,
          28.53,
          32.84,
          25.76,
          25.55,
          21.08,
          25.86,
          22.89,
          27.02,
          30.64,
          27.58,
          27.33,
          35.33,
          35.97,
          31.97,
          27.43,
          29.82,
          39.3,
          39.56,
          20.85,
          27.78,
          22.23,
          29.4,
          30.12,
          24.82,
          30.25,
          25.71,
          35.79,
          29.64
         ]
        },
        {
         "boxpoints": "all",
         "jitter": 0.3,
         "marker": {
          "color": "#32471E"
         },
         "name": "MIXED",
         "notched": true,
         "pointpos": -1.8,
         "type": "box",
         "y": [
          22.31,
          25.7,
          31.5,
          28.4,
          30.73,
          27.85,
          23.42,
          23.51,
          25.8,
          38.87,
          42.4,
          31.67,
          36.9,
          27.55,
          26.65,
          26.75,
          39.55,
          27.18,
          17.69,
          35.15
         ]
        },
        {
         "boxpoints": "all",
         "jitter": 0.3,
         "marker": {
          "color": "#3E412A"
         },
         "name": "BLACK",
         "notched": true,
         "pointpos": -1.8,
         "type": "box",
         "y": [
          22.7,
          33.8,
          21.5,
          35.28,
          28.4,
          34.12,
          42.4,
          43.8,
          39.98,
          32,
          27.6,
          30.7,
          36.42,
          24.54,
          28.25,
          24.84,
          46.48,
          30.44,
          24.49,
          19.99,
          24.77,
          43.25,
          30.86,
          27.27,
          25.88,
          32.92,
          30.99,
          26.05,
          28.83,
          32.03,
          26.93,
          34.16,
          33.5,
          29.9,
          33.1,
          24.1,
          21.6,
          37.9,
          29.76,
          44.4,
          38.6,
          27.6,
          33.12,
          31.35,
          33,
          26.5,
          33.4,
          36.5,
          27.85,
          28.14,
          34.28,
          31.3,
          35.8,
          37.92,
          32.89,
          24.09,
          22.19,
          27.32,
          56.02,
          41.97,
          21.92,
          31.09,
          28.29,
          21.83,
          37.74,
          30.15,
          36.75,
          26.64,
          31.6,
          33.96,
          32.71,
          38.3,
          30.04,
          25.03,
          31.63,
          31.77,
          33.15,
          40.89,
          27.82,
          41.01,
          32.91,
          32.24,
          28.08,
          25.89,
          37,
          29.31,
          44.06
         ]
        },
        {
         "boxpoints": "all",
         "jitter": 0.3,
         "marker": {
          "color": "#555A44"
         },
         "name": "ASIAN EAST",
         "notched": true,
         "pointpos": -1.8,
         "type": "box",
         "y": [
          22.9,
          27.83,
          28.9,
          23,
          20.9,
          21.98,
          29.3,
          23.27,
          36.13,
          30.49,
          25.62,
          31.9,
          20.33,
          23.7,
          26,
          22.56,
          23.01,
          22.27,
          24.69,
          23.95,
          26.2,
          23.34,
          22.47,
          30.49,
          20.85,
          31.83,
          25.62,
          26.71,
          28.39,
          27.82,
          24.21
         ]
        },
        {
         "boxpoints": "all",
         "jitter": 0.3,
         "marker": {
          "color": "#7D826D"
         },
         "name": "ASIAN SOUTH",
         "notched": true,
         "pointpos": -1.8,
         "type": "box",
         "y": [
          26.1,
          23.07,
          27.82,
          23.4,
          27.7,
          33.9,
          29.3,
          26.18,
          30.49,
          29.29,
          25.77,
          25.43,
          29.43,
          29.48,
          28.27,
          30.75,
          29.9,
          35.88,
          23.01,
          29.8,
          32.96,
          21.7,
          36.42,
          20.91,
          32.17,
          20.91,
          22.3,
          27.8,
          32.34,
          35.18,
          26.4,
          19.4,
          22.1,
          27.56,
          26.16,
          23.38,
          24,
          22.6,
          25.1,
          39.4,
          28.55,
          25.36,
          22.84,
          34.71,
          35.88,
          20.93,
          34.63,
          33.69,
          29.97,
          28.27,
          31,
          32.79,
          38.84,
          22.26,
          18.98,
          25.38,
          24.39,
          29.06,
          28.21,
          29.9,
          26.47,
          38.71,
          21.76,
          31.03,
          28.49
         ]
        },
        {
         "boxpoints": "all",
         "jitter": 0.3,
         "marker": {
          "color": "#CAC9C7"
         },
         "name": "All",
         "notched": true,
         "pointpos": -1.8,
         "type": "box",
         "y": [
          24.8,
          22.31,
          22.7,
          33.71,
          28.2,
          25.5,
          33.8,
          22.9,
          22.1,
          27.83,
          21.5,
          35.28,
          28.4,
          28.9,
          26.1,
          23,
          28.2,
          25.1,
          28.5,
          25.7,
          36.4,
          37.8,
          34.12,
          42.4,
          30.46,
          43.8,
          23.07,
          27.82,
          31.5,
          30.71,
          25.4,
          20.9,
          39.98,
          30.7,
          32,
          23.4,
          28.4,
          20.9,
          27.7,
          33.9,
          27.6,
          29.3,
          26.6,
          25.3,
          30.7,
          18,
          25.08,
          19.16,
          36.42,
          21.98,
          34.13,
          24.54,
          42.1,
          22.92,
          26.18,
          30.49,
          29.29,
          23.78,
          31.05,
          25.77,
          32.72,
          28.31,
          28.87,
          25.43,
          28.25,
          24.84,
          46.48,
          29.17,
          29.91,
          24,
          35.71,
          30.73,
          30.44,
          30.48,
          38.8,
          23.58,
          23.49,
          26.27,
          24.49,
          30.27,
          19.99,
          29.43,
          24.77,
          30.05,
          20.88,
          25.79,
          28.34,
          27.85,
          29.51,
          43.25,
          25.61,
          29.3,
          29.43,
          30.86,
          29.48,
          28.27,
          26.97,
          23.27,
          30.75,
          29.9,
          31.05,
          27.27,
          23.42,
          23.51,
          35.88,
          25.88,
          26.41,
          28.08,
          32.92,
          30.99,
          29.88,
          26.05,
          34.17,
          36.13,
          29.3,
          40.6,
          25.92,
          33.09,
          28.83,
          23.01,
          30.49,
          24.02,
          21.22,
          62.11,
          25.8,
          22.6,
          26.4,
          29.8,
          24.1,
          32.03,
          23.6,
          27.66,
          32.96,
          42.9,
          29,
          21.7,
          29.86,
          18.29,
          25.97,
          31.09,
          36.42,
          26.93,
          34.16,
          38.87,
          28.06,
          25.62,
          33.5,
          34,
          27.07,
          20.91,
          43.77,
          29.5,
          32.17,
          29.9,
          33.1,
          29.46,
          23.55,
          26.82,
          20.91,
          24.1,
          22.3,
          31.57,
          42.4,
          27.8,
          27,
          31.9,
          32.34,
          35.18,
          21.6,
          37.9,
          22.6,
          29.76,
          30.34,
          22.4,
          20.33,
          28.67,
          26.4,
          19.4,
          27.81,
          44.4,
          31.52,
          21.86,
          45.7,
          22.1,
          38.6,
          27.6,
          23.7,
          29.96,
          36.2,
          27.56,
          39.9,
          26,
          22.56,
          23.01,
          36.27,
          24.17,
          22.27,
          24.69,
          37.55,
          21.12,
          30.26,
          33.12,
          31.35,
          28.4,
          22.19,
          26.16,
          33,
          26.5,
          26.8,
          21.5,
          33.4,
          36.5,
          24.1,
          26.61,
          23.95,
          27.85,
          42.3,
          28.14,
          23.38,
          31.67,
          34.28,
          22.64,
          41.8,
          32.7,
          31.3,
          21.7,
          34.5,
          24,
          22.6,
          22.4,
          21.1,
          33.3,
          22.4,
          27,
          35.8,
          26.4,
          28.8,
          26.9,
          24.2,
          25.1,
          39.4,
          36.9,
          36.6,
          25.2,
          28.55,
          22.25,
          25.36,
          28.55,
          22.84,
          35.36,
          27.55,
          22.06,
          25.39,
          37.92,
          28.55,
          26.2,
          32.89,
          34.71,
          28.25,
          35.88,
          24.09,
          26.65,
          23.34,
          22.19,
          22.23,
          27.32,
          20.93,
          22.96,
          56.02,
          41.97,
          22.23,
          28.08,
          22.47,
          22.56,
          27.33,
          29,
          34.63,
          26.28,
          21.92,
          26.02,
          28.24,
          31.01,
          25.37,
          30.49,
          31.09,
          33.46,
          28.29,
          22.5,
          26.75,
          33.69,
          21.83,
          37.74,
          29.63,
          24.89,
          29.97,
          28.27,
          20.85,
          30.15,
          26.92,
          20.5,
          31.83,
          36.75,
          26.64,
          44.79,
          31.6,
          33.96,
          28.47,
          27.04,
          27.64,
          31,
          32.71,
          32.88,
          25.62,
          39.55,
          21.57,
          38.3,
          30.04,
          22.11,
          25.03,
          24.62,
          28.53,
          26.71,
          32.79,
          32.84,
          25.76,
          31.63,
          28.39,
          31.77,
          33.15,
          25.55,
          38.84,
          22.26,
          40.89,
          21.08,
          18.98,
          25.86,
          25.38,
          22.89,
          27.02,
          30.64,
          24.39,
          27.58,
          27.33,
          29.06,
          35.33,
          28.21,
          27.82,
          41.01,
          27.82,
          29.9,
          26.47,
          35.97,
          31.97,
          32.91,
          27.43,
          32.24,
          29.82,
          28.08,
          39.3,
          27.18,
          38.71,
          21.76,
          17.69,
          24.21,
          25.89,
          39.56,
          20.85,
          37,
          29.31,
          27.78,
          22.23,
          29.4,
          30.12,
          35.15,
          24.82,
          30.25,
          25.71,
          35.79,
          44.06,
          31.03,
          28.49,
          29.64
         ]
        }
       ],
       "layout": {
        "paper_bgcolor": "white",
        "plot_bgcolor": "#F6F8FC",
        "showlegend": false,
        "template": {
         "data": {
          "bar": [
           {
            "error_x": {
             "color": "#2a3f5f"
            },
            "error_y": {
             "color": "#2a3f5f"
            },
            "marker": {
             "line": {
              "color": "#E5ECF6",
              "width": 0.5
             },
             "pattern": {
              "fillmode": "overlay",
              "size": 10,
              "solidity": 0.2
             }
            },
            "type": "bar"
           }
          ],
          "barpolar": [
           {
            "marker": {
             "line": {
              "color": "#E5ECF6",
              "width": 0.5
             },
             "pattern": {
              "fillmode": "overlay",
              "size": 10,
              "solidity": 0.2
             }
            },
            "type": "barpolar"
           }
          ],
          "carpet": [
           {
            "aaxis": {
             "endlinecolor": "#2a3f5f",
             "gridcolor": "white",
             "linecolor": "white",
             "minorgridcolor": "white",
             "startlinecolor": "#2a3f5f"
            },
            "baxis": {
             "endlinecolor": "#2a3f5f",
             "gridcolor": "white",
             "linecolor": "white",
             "minorgridcolor": "white",
             "startlinecolor": "#2a3f5f"
            },
            "type": "carpet"
           }
          ],
          "choropleth": [
           {
            "colorbar": {
             "outlinewidth": 0,
             "ticks": ""
            },
            "type": "choropleth"
           }
          ],
          "contour": [
           {
            "colorbar": {
             "outlinewidth": 0,
             "ticks": ""
            },
            "colorscale": [
             [
              0,
              "#0d0887"
             ],
             [
              0.1111111111111111,
              "#46039f"
             ],
             [
              0.2222222222222222,
              "#7201a8"
             ],
             [
              0.3333333333333333,
              "#9c179e"
             ],
             [
              0.4444444444444444,
              "#bd3786"
             ],
             [
              0.5555555555555556,
              "#d8576b"
             ],
             [
              0.6666666666666666,
              "#ed7953"
             ],
             [
              0.7777777777777778,
              "#fb9f3a"
             ],
             [
              0.8888888888888888,
              "#fdca26"
             ],
             [
              1,
              "#f0f921"
             ]
            ],
            "type": "contour"
           }
          ],
          "contourcarpet": [
           {
            "colorbar": {
             "outlinewidth": 0,
             "ticks": ""
            },
            "type": "contourcarpet"
           }
          ],
          "heatmap": [
           {
            "colorbar": {
             "outlinewidth": 0,
             "ticks": ""
            },
            "colorscale": [
             [
              0,
              "#0d0887"
             ],
             [
              0.1111111111111111,
              "#46039f"
             ],
             [
              0.2222222222222222,
              "#7201a8"
             ],
             [
              0.3333333333333333,
              "#9c179e"
             ],
             [
              0.4444444444444444,
              "#bd3786"
             ],
             [
              0.5555555555555556,
              "#d8576b"
             ],
             [
              0.6666666666666666,
              "#ed7953"
             ],
             [
              0.7777777777777778,
              "#fb9f3a"
             ],
             [
              0.8888888888888888,
              "#fdca26"
             ],
             [
              1,
              "#f0f921"
             ]
            ],
            "type": "heatmap"
           }
          ],
          "heatmapgl": [
           {
            "colorbar": {
             "outlinewidth": 0,
             "ticks": ""
            },
            "colorscale": [
             [
              0,
              "#0d0887"
             ],
             [
              0.1111111111111111,
              "#46039f"
             ],
             [
              0.2222222222222222,
              "#7201a8"
             ],
             [
              0.3333333333333333,
              "#9c179e"
             ],
             [
              0.4444444444444444,
              "#bd3786"
             ],
             [
              0.5555555555555556,
              "#d8576b"
             ],
             [
              0.6666666666666666,
              "#ed7953"
             ],
             [
              0.7777777777777778,
              "#fb9f3a"
             ],
             [
              0.8888888888888888,
              "#fdca26"
             ],
             [
              1,
              "#f0f921"
             ]
            ],
            "type": "heatmapgl"
           }
          ],
          "histogram": [
           {
            "marker": {
             "pattern": {
              "fillmode": "overlay",
              "size": 10,
              "solidity": 0.2
             }
            },
            "type": "histogram"
           }
          ],
          "histogram2d": [
           {
            "colorbar": {
             "outlinewidth": 0,
             "ticks": ""
            },
            "colorscale": [
             [
              0,
              "#0d0887"
             ],
             [
              0.1111111111111111,
              "#46039f"
             ],
             [
              0.2222222222222222,
              "#7201a8"
             ],
             [
              0.3333333333333333,
              "#9c179e"
             ],
             [
              0.4444444444444444,
              "#bd3786"
             ],
             [
              0.5555555555555556,
              "#d8576b"
             ],
             [
              0.6666666666666666,
              "#ed7953"
             ],
             [
              0.7777777777777778,
              "#fb9f3a"
             ],
             [
              0.8888888888888888,
              "#fdca26"
             ],
             [
              1,
              "#f0f921"
             ]
            ],
            "type": "histogram2d"
           }
          ],
          "histogram2dcontour": [
           {
            "colorbar": {
             "outlinewidth": 0,
             "ticks": ""
            },
            "colorscale": [
             [
              0,
              "#0d0887"
             ],
             [
              0.1111111111111111,
              "#46039f"
             ],
             [
              0.2222222222222222,
              "#7201a8"
             ],
             [
              0.3333333333333333,
              "#9c179e"
             ],
             [
              0.4444444444444444,
              "#bd3786"
             ],
             [
              0.5555555555555556,
              "#d8576b"
             ],
             [
              0.6666666666666666,
              "#ed7953"
             ],
             [
              0.7777777777777778,
              "#fb9f3a"
             ],
             [
              0.8888888888888888,
              "#fdca26"
             ],
             [
              1,
              "#f0f921"
             ]
            ],
            "type": "histogram2dcontour"
           }
          ],
          "mesh3d": [
           {
            "colorbar": {
             "outlinewidth": 0,
             "ticks": ""
            },
            "type": "mesh3d"
           }
          ],
          "parcoords": [
           {
            "line": {
             "colorbar": {
              "outlinewidth": 0,
              "ticks": ""
             }
            },
            "type": "parcoords"
           }
          ],
          "pie": [
           {
            "automargin": true,
            "type": "pie"
           }
          ],
          "scatter": [
           {
            "fillpattern": {
             "fillmode": "overlay",
             "size": 10,
             "solidity": 0.2
            },
            "type": "scatter"
           }
          ],
          "scatter3d": [
           {
            "line": {
             "colorbar": {
              "outlinewidth": 0,
              "ticks": ""
             }
            },
            "marker": {
             "colorbar": {
              "outlinewidth": 0,
              "ticks": ""
             }
            },
            "type": "scatter3d"
           }
          ],
          "scattercarpet": [
           {
            "marker": {
             "colorbar": {
              "outlinewidth": 0,
              "ticks": ""
             }
            },
            "type": "scattercarpet"
           }
          ],
          "scattergeo": [
           {
            "marker": {
             "colorbar": {
              "outlinewidth": 0,
              "ticks": ""
             }
            },
            "type": "scattergeo"
           }
          ],
          "scattergl": [
           {
            "marker": {
             "colorbar": {
              "outlinewidth": 0,
              "ticks": ""
             }
            },
            "type": "scattergl"
           }
          ],
          "scattermapbox": [
           {
            "marker": {
             "colorbar": {
              "outlinewidth": 0,
              "ticks": ""
             }
            },
            "type": "scattermapbox"
           }
          ],
          "scatterpolar": [
           {
            "marker": {
             "colorbar": {
              "outlinewidth": 0,
              "ticks": ""
             }
            },
            "type": "scatterpolar"
           }
          ],
          "scatterpolargl": [
           {
            "marker": {
             "colorbar": {
              "outlinewidth": 0,
              "ticks": ""
             }
            },
            "type": "scatterpolargl"
           }
          ],
          "scatterternary": [
           {
            "marker": {
             "colorbar": {
              "outlinewidth": 0,
              "ticks": ""
             }
            },
            "type": "scatterternary"
           }
          ],
          "surface": [
           {
            "colorbar": {
             "outlinewidth": 0,
             "ticks": ""
            },
            "colorscale": [
             [
              0,
              "#0d0887"
             ],
             [
              0.1111111111111111,
              "#46039f"
             ],
             [
              0.2222222222222222,
              "#7201a8"
             ],
             [
              0.3333333333333333,
              "#9c179e"
             ],
             [
              0.4444444444444444,
              "#bd3786"
             ],
             [
              0.5555555555555556,
              "#d8576b"
             ],
             [
              0.6666666666666666,
              "#ed7953"
             ],
             [
              0.7777777777777778,
              "#fb9f3a"
             ],
             [
              0.8888888888888888,
              "#fdca26"
             ],
             [
              1,
              "#f0f921"
             ]
            ],
            "type": "surface"
           }
          ],
          "table": [
           {
            "cells": {
             "fill": {
              "color": "#EBF0F8"
             },
             "line": {
              "color": "white"
             }
            },
            "header": {
             "fill": {
              "color": "#C8D4E3"
             },
             "line": {
              "color": "white"
             }
            },
            "type": "table"
           }
          ]
         },
         "layout": {
          "annotationdefaults": {
           "arrowcolor": "#2a3f5f",
           "arrowhead": 0,
           "arrowwidth": 1
          },
          "autotypenumbers": "strict",
          "coloraxis": {
           "colorbar": {
            "outlinewidth": 0,
            "ticks": ""
           }
          },
          "colorscale": {
           "diverging": [
            [
             0,
             "#8e0152"
            ],
            [
             0.1,
             "#c51b7d"
            ],
            [
             0.2,
             "#de77ae"
            ],
            [
             0.3,
             "#f1b6da"
            ],
            [
             0.4,
             "#fde0ef"
            ],
            [
             0.5,
             "#f7f7f7"
            ],
            [
             0.6,
             "#e6f5d0"
            ],
            [
             0.7,
             "#b8e186"
            ],
            [
             0.8,
             "#7fbc41"
            ],
            [
             0.9,
             "#4d9221"
            ],
            [
             1,
             "#276419"
            ]
           ],
           "sequential": [
            [
             0,
             "#0d0887"
            ],
            [
             0.1111111111111111,
             "#46039f"
            ],
            [
             0.2222222222222222,
             "#7201a8"
            ],
            [
             0.3333333333333333,
             "#9c179e"
            ],
            [
             0.4444444444444444,
             "#bd3786"
            ],
            [
             0.5555555555555556,
             "#d8576b"
            ],
            [
             0.6666666666666666,
             "#ed7953"
            ],
            [
             0.7777777777777778,
             "#fb9f3a"
            ],
            [
             0.8888888888888888,
             "#fdca26"
            ],
            [
             1,
             "#f0f921"
            ]
           ],
           "sequentialminus": [
            [
             0,
             "#0d0887"
            ],
            [
             0.1111111111111111,
             "#46039f"
            ],
            [
             0.2222222222222222,
             "#7201a8"
            ],
            [
             0.3333333333333333,
             "#9c179e"
            ],
            [
             0.4444444444444444,
             "#bd3786"
            ],
            [
             0.5555555555555556,
             "#d8576b"
            ],
            [
             0.6666666666666666,
             "#ed7953"
            ],
            [
             0.7777777777777778,
             "#fb9f3a"
            ],
            [
             0.8888888888888888,
             "#fdca26"
            ],
            [
             1,
             "#f0f921"
            ]
           ]
          },
          "colorway": [
           "#636efa",
           "#EF553B",
           "#00cc96",
           "#ab63fa",
           "#FFA15A",
           "#19d3f3",
           "#FF6692",
           "#B6E880",
           "#FF97FF",
           "#FECB52"
          ],
          "font": {
           "color": "#2a3f5f"
          },
          "geo": {
           "bgcolor": "white",
           "lakecolor": "white",
           "landcolor": "#E5ECF6",
           "showlakes": true,
           "showland": true,
           "subunitcolor": "white"
          },
          "hoverlabel": {
           "align": "left"
          },
          "hovermode": "closest",
          "mapbox": {
           "style": "light"
          },
          "paper_bgcolor": "white",
          "plot_bgcolor": "#E5ECF6",
          "polar": {
           "angularaxis": {
            "gridcolor": "white",
            "linecolor": "white",
            "ticks": ""
           },
           "bgcolor": "#E5ECF6",
           "radialaxis": {
            "gridcolor": "white",
            "linecolor": "white",
            "ticks": ""
           }
          },
          "scene": {
           "xaxis": {
            "backgroundcolor": "#E5ECF6",
            "gridcolor": "white",
            "gridwidth": 2,
            "linecolor": "white",
            "showbackground": true,
            "ticks": "",
            "zerolinecolor": "white"
           },
           "yaxis": {
            "backgroundcolor": "#E5ECF6",
            "gridcolor": "white",
            "gridwidth": 2,
            "linecolor": "white",
            "showbackground": true,
            "ticks": "",
            "zerolinecolor": "white"
           },
           "zaxis": {
            "backgroundcolor": "#E5ECF6",
            "gridcolor": "white",
            "gridwidth": 2,
            "linecolor": "white",
            "showbackground": true,
            "ticks": "",
            "zerolinecolor": "white"
           }
          },
          "shapedefaults": {
           "line": {
            "color": "#2a3f5f"
           }
          },
          "ternary": {
           "aaxis": {
            "gridcolor": "white",
            "linecolor": "white",
            "ticks": ""
           },
           "baxis": {
            "gridcolor": "white",
            "linecolor": "white",
            "ticks": ""
           },
           "bgcolor": "#E5ECF6",
           "caxis": {
            "gridcolor": "white",
            "linecolor": "white",
            "ticks": ""
           }
          },
          "title": {
           "x": 0.05
          },
          "xaxis": {
           "automargin": true,
           "gridcolor": "white",
           "linecolor": "white",
           "ticks": "",
           "title": {
            "standoff": 15
           },
           "zerolinecolor": "white",
           "zerolinewidth": 2
          },
          "yaxis": {
           "automargin": true,
           "gridcolor": "white",
           "linecolor": "white",
           "ticks": "",
           "title": {
            "standoff": 15
           },
           "zerolinecolor": "white",
           "zerolinewidth": 2
          }
         }
        },
        "title": {
         "text": "BMI Spread by Race<br><sup><i>(n=382)</i></sup>",
         "x": 0,
         "xref": "paper"
        },
        "yaxis": {
         "gridcolor": "lightgrey",
         "title": {
          "text": "BMI<br><sup><i>kg/m<sup>2</sup></i></sup>"
         }
        }
       }
      }
     },
     "metadata": {},
     "output_type": "display_data"
    }
   ],
   "source": [
    "ma.population_description()"
   ]
  },
  {
   "cell_type": "markdown",
   "metadata": {},
   "source": []
  },
  {
   "cell_type": "code",
   "execution_count": 23,
   "metadata": {},
   "outputs": [
    {
     "name": "stdout",
     "output_type": "stream",
     "text": [
      "Data consits of 382 rows after cleaning. \n",
      "        * 10 rows have been excluded.\n",
      "            \n"
     ]
    },
    {
     "data": {
      "application/vnd.plotly.v1+json": {
       "config": {
        "plotlyServerURL": "https://plot.ly"
       },
       "data": [
        {
         "marker": {
          "color": "#172207"
         },
         "name": "< 38",
         "text": [
          "57.85"
         ],
         "type": "bar",
         "x": [
          "< 38"
         ],
         "y": [
          57.85
         ]
        },
        {
         "marker": {
          "color": "#172207"
         },
         "name": "39 - 47",
         "text": [
          "40.31"
         ],
         "type": "bar",
         "x": [
          "39 - 47"
         ],
         "y": [
          40.31
         ]
        },
        {
         "marker": {
          "color": "#172207"
         },
         "name": "> 48",
         "text": [
          "1.83"
         ],
         "type": "bar",
         "x": [
          "> 48"
         ],
         "y": [
          1.83
         ]
        }
       ],
       "layout": {
        "barmode": "stack",
        "paper_bgcolor": "white",
        "plot_bgcolor": "#F6F8FC",
        "showlegend": true,
        "template": {
         "data": {
          "bar": [
           {
            "error_x": {
             "color": "#2a3f5f"
            },
            "error_y": {
             "color": "#2a3f5f"
            },
            "marker": {
             "line": {
              "color": "#E5ECF6",
              "width": 0.5
             },
             "pattern": {
              "fillmode": "overlay",
              "size": 10,
              "solidity": 0.2
             }
            },
            "type": "bar"
           }
          ],
          "barpolar": [
           {
            "marker": {
             "line": {
              "color": "#E5ECF6",
              "width": 0.5
             },
             "pattern": {
              "fillmode": "overlay",
              "size": 10,
              "solidity": 0.2
             }
            },
            "type": "barpolar"
           }
          ],
          "carpet": [
           {
            "aaxis": {
             "endlinecolor": "#2a3f5f",
             "gridcolor": "white",
             "linecolor": "white",
             "minorgridcolor": "white",
             "startlinecolor": "#2a3f5f"
            },
            "baxis": {
             "endlinecolor": "#2a3f5f",
             "gridcolor": "white",
             "linecolor": "white",
             "minorgridcolor": "white",
             "startlinecolor": "#2a3f5f"
            },
            "type": "carpet"
           }
          ],
          "choropleth": [
           {
            "colorbar": {
             "outlinewidth": 0,
             "ticks": ""
            },
            "type": "choropleth"
           }
          ],
          "contour": [
           {
            "colorbar": {
             "outlinewidth": 0,
             "ticks": ""
            },
            "colorscale": [
             [
              0,
              "#0d0887"
             ],
             [
              0.1111111111111111,
              "#46039f"
             ],
             [
              0.2222222222222222,
              "#7201a8"
             ],
             [
              0.3333333333333333,
              "#9c179e"
             ],
             [
              0.4444444444444444,
              "#bd3786"
             ],
             [
              0.5555555555555556,
              "#d8576b"
             ],
             [
              0.6666666666666666,
              "#ed7953"
             ],
             [
              0.7777777777777778,
              "#fb9f3a"
             ],
             [
              0.8888888888888888,
              "#fdca26"
             ],
             [
              1,
              "#f0f921"
             ]
            ],
            "type": "contour"
           }
          ],
          "contourcarpet": [
           {
            "colorbar": {
             "outlinewidth": 0,
             "ticks": ""
            },
            "type": "contourcarpet"
           }
          ],
          "heatmap": [
           {
            "colorbar": {
             "outlinewidth": 0,
             "ticks": ""
            },
            "colorscale": [
             [
              0,
              "#0d0887"
             ],
             [
              0.1111111111111111,
              "#46039f"
             ],
             [
              0.2222222222222222,
              "#7201a8"
             ],
             [
              0.3333333333333333,
              "#9c179e"
             ],
             [
              0.4444444444444444,
              "#bd3786"
             ],
             [
              0.5555555555555556,
              "#d8576b"
             ],
             [
              0.6666666666666666,
              "#ed7953"
             ],
             [
              0.7777777777777778,
              "#fb9f3a"
             ],
             [
              0.8888888888888888,
              "#fdca26"
             ],
             [
              1,
              "#f0f921"
             ]
            ],
            "type": "heatmap"
           }
          ],
          "heatmapgl": [
           {
            "colorbar": {
             "outlinewidth": 0,
             "ticks": ""
            },
            "colorscale": [
             [
              0,
              "#0d0887"
             ],
             [
              0.1111111111111111,
              "#46039f"
             ],
             [
              0.2222222222222222,
              "#7201a8"
             ],
             [
              0.3333333333333333,
              "#9c179e"
             ],
             [
              0.4444444444444444,
              "#bd3786"
             ],
             [
              0.5555555555555556,
              "#d8576b"
             ],
             [
              0.6666666666666666,
              "#ed7953"
             ],
             [
              0.7777777777777778,
              "#fb9f3a"
             ],
             [
              0.8888888888888888,
              "#fdca26"
             ],
             [
              1,
              "#f0f921"
             ]
            ],
            "type": "heatmapgl"
           }
          ],
          "histogram": [
           {
            "marker": {
             "pattern": {
              "fillmode": "overlay",
              "size": 10,
              "solidity": 0.2
             }
            },
            "type": "histogram"
           }
          ],
          "histogram2d": [
           {
            "colorbar": {
             "outlinewidth": 0,
             "ticks": ""
            },
            "colorscale": [
             [
              0,
              "#0d0887"
             ],
             [
              0.1111111111111111,
              "#46039f"
             ],
             [
              0.2222222222222222,
              "#7201a8"
             ],
             [
              0.3333333333333333,
              "#9c179e"
             ],
             [
              0.4444444444444444,
              "#bd3786"
             ],
             [
              0.5555555555555556,
              "#d8576b"
             ],
             [
              0.6666666666666666,
              "#ed7953"
             ],
             [
              0.7777777777777778,
              "#fb9f3a"
             ],
             [
              0.8888888888888888,
              "#fdca26"
             ],
             [
              1,
              "#f0f921"
             ]
            ],
            "type": "histogram2d"
           }
          ],
          "histogram2dcontour": [
           {
            "colorbar": {
             "outlinewidth": 0,
             "ticks": ""
            },
            "colorscale": [
             [
              0,
              "#0d0887"
             ],
             [
              0.1111111111111111,
              "#46039f"
             ],
             [
              0.2222222222222222,
              "#7201a8"
             ],
             [
              0.3333333333333333,
              "#9c179e"
             ],
             [
              0.4444444444444444,
              "#bd3786"
             ],
             [
              0.5555555555555556,
              "#d8576b"
             ],
             [
              0.6666666666666666,
              "#ed7953"
             ],
             [
              0.7777777777777778,
              "#fb9f3a"
             ],
             [
              0.8888888888888888,
              "#fdca26"
             ],
             [
              1,
              "#f0f921"
             ]
            ],
            "type": "histogram2dcontour"
           }
          ],
          "mesh3d": [
           {
            "colorbar": {
             "outlinewidth": 0,
             "ticks": ""
            },
            "type": "mesh3d"
           }
          ],
          "parcoords": [
           {
            "line": {
             "colorbar": {
              "outlinewidth": 0,
              "ticks": ""
             }
            },
            "type": "parcoords"
           }
          ],
          "pie": [
           {
            "automargin": true,
            "type": "pie"
           }
          ],
          "scatter": [
           {
            "fillpattern": {
             "fillmode": "overlay",
             "size": 10,
             "solidity": 0.2
            },
            "type": "scatter"
           }
          ],
          "scatter3d": [
           {
            "line": {
             "colorbar": {
              "outlinewidth": 0,
              "ticks": ""
             }
            },
            "marker": {
             "colorbar": {
              "outlinewidth": 0,
              "ticks": ""
             }
            },
            "type": "scatter3d"
           }
          ],
          "scattercarpet": [
           {
            "marker": {
             "colorbar": {
              "outlinewidth": 0,
              "ticks": ""
             }
            },
            "type": "scattercarpet"
           }
          ],
          "scattergeo": [
           {
            "marker": {
             "colorbar": {
              "outlinewidth": 0,
              "ticks": ""
             }
            },
            "type": "scattergeo"
           }
          ],
          "scattergl": [
           {
            "marker": {
             "colorbar": {
              "outlinewidth": 0,
              "ticks": ""
             }
            },
            "type": "scattergl"
           }
          ],
          "scattermapbox": [
           {
            "marker": {
             "colorbar": {
              "outlinewidth": 0,
              "ticks": ""
             }
            },
            "type": "scattermapbox"
           }
          ],
          "scatterpolar": [
           {
            "marker": {
             "colorbar": {
              "outlinewidth": 0,
              "ticks": ""
             }
            },
            "type": "scatterpolar"
           }
          ],
          "scatterpolargl": [
           {
            "marker": {
             "colorbar": {
              "outlinewidth": 0,
              "ticks": ""
             }
            },
            "type": "scatterpolargl"
           }
          ],
          "scatterternary": [
           {
            "marker": {
             "colorbar": {
              "outlinewidth": 0,
              "ticks": ""
             }
            },
            "type": "scatterternary"
           }
          ],
          "surface": [
           {
            "colorbar": {
             "outlinewidth": 0,
             "ticks": ""
            },
            "colorscale": [
             [
              0,
              "#0d0887"
             ],
             [
              0.1111111111111111,
              "#46039f"
             ],
             [
              0.2222222222222222,
              "#7201a8"
             ],
             [
              0.3333333333333333,
              "#9c179e"
             ],
             [
              0.4444444444444444,
              "#bd3786"
             ],
             [
              0.5555555555555556,
              "#d8576b"
             ],
             [
              0.6666666666666666,
              "#ed7953"
             ],
             [
              0.7777777777777778,
              "#fb9f3a"
             ],
             [
              0.8888888888888888,
              "#fdca26"
             ],
             [
              1,
              "#f0f921"
             ]
            ],
            "type": "surface"
           }
          ],
          "table": [
           {
            "cells": {
             "fill": {
              "color": "#EBF0F8"
             },
             "line": {
              "color": "white"
             }
            },
            "header": {
             "fill": {
              "color": "#C8D4E3"
             },
             "line": {
              "color": "white"
             }
            },
            "type": "table"
           }
          ]
         },
         "layout": {
          "annotationdefaults": {
           "arrowcolor": "#2a3f5f",
           "arrowhead": 0,
           "arrowwidth": 1
          },
          "autotypenumbers": "strict",
          "coloraxis": {
           "colorbar": {
            "outlinewidth": 0,
            "ticks": ""
           }
          },
          "colorscale": {
           "diverging": [
            [
             0,
             "#8e0152"
            ],
            [
             0.1,
             "#c51b7d"
            ],
            [
             0.2,
             "#de77ae"
            ],
            [
             0.3,
             "#f1b6da"
            ],
            [
             0.4,
             "#fde0ef"
            ],
            [
             0.5,
             "#f7f7f7"
            ],
            [
             0.6,
             "#e6f5d0"
            ],
            [
             0.7,
             "#b8e186"
            ],
            [
             0.8,
             "#7fbc41"
            ],
            [
             0.9,
             "#4d9221"
            ],
            [
             1,
             "#276419"
            ]
           ],
           "sequential": [
            [
             0,
             "#0d0887"
            ],
            [
             0.1111111111111111,
             "#46039f"
            ],
            [
             0.2222222222222222,
             "#7201a8"
            ],
            [
             0.3333333333333333,
             "#9c179e"
            ],
            [
             0.4444444444444444,
             "#bd3786"
            ],
            [
             0.5555555555555556,
             "#d8576b"
            ],
            [
             0.6666666666666666,
             "#ed7953"
            ],
            [
             0.7777777777777778,
             "#fb9f3a"
            ],
            [
             0.8888888888888888,
             "#fdca26"
            ],
            [
             1,
             "#f0f921"
            ]
           ],
           "sequentialminus": [
            [
             0,
             "#0d0887"
            ],
            [
             0.1111111111111111,
             "#46039f"
            ],
            [
             0.2222222222222222,
             "#7201a8"
            ],
            [
             0.3333333333333333,
             "#9c179e"
            ],
            [
             0.4444444444444444,
             "#bd3786"
            ],
            [
             0.5555555555555556,
             "#d8576b"
            ],
            [
             0.6666666666666666,
             "#ed7953"
            ],
            [
             0.7777777777777778,
             "#fb9f3a"
            ],
            [
             0.8888888888888888,
             "#fdca26"
            ],
            [
             1,
             "#f0f921"
            ]
           ]
          },
          "colorway": [
           "#636efa",
           "#EF553B",
           "#00cc96",
           "#ab63fa",
           "#FFA15A",
           "#19d3f3",
           "#FF6692",
           "#B6E880",
           "#FF97FF",
           "#FECB52"
          ],
          "font": {
           "color": "#2a3f5f"
          },
          "geo": {
           "bgcolor": "white",
           "lakecolor": "white",
           "landcolor": "#E5ECF6",
           "showlakes": true,
           "showland": true,
           "subunitcolor": "white"
          },
          "hoverlabel": {
           "align": "left"
          },
          "hovermode": "closest",
          "mapbox": {
           "style": "light"
          },
          "paper_bgcolor": "white",
          "plot_bgcolor": "#E5ECF6",
          "polar": {
           "angularaxis": {
            "gridcolor": "white",
            "linecolor": "white",
            "ticks": ""
           },
           "bgcolor": "#E5ECF6",
           "radialaxis": {
            "gridcolor": "white",
            "linecolor": "white",
            "ticks": ""
           }
          },
          "scene": {
           "xaxis": {
            "backgroundcolor": "#E5ECF6",
            "gridcolor": "white",
            "gridwidth": 2,
            "linecolor": "white",
            "showbackground": true,
            "ticks": "",
            "zerolinecolor": "white"
           },
           "yaxis": {
            "backgroundcolor": "#E5ECF6",
            "gridcolor": "white",
            "gridwidth": 2,
            "linecolor": "white",
            "showbackground": true,
            "ticks": "",
            "zerolinecolor": "white"
           },
           "zaxis": {
            "backgroundcolor": "#E5ECF6",
            "gridcolor": "white",
            "gridwidth": 2,
            "linecolor": "white",
            "showbackground": true,
            "ticks": "",
            "zerolinecolor": "white"
           }
          },
          "shapedefaults": {
           "line": {
            "color": "#2a3f5f"
           }
          },
          "ternary": {
           "aaxis": {
            "gridcolor": "white",
            "linecolor": "white",
            "ticks": ""
           },
           "baxis": {
            "gridcolor": "white",
            "linecolor": "white",
            "ticks": ""
           },
           "bgcolor": "#E5ECF6",
           "caxis": {
            "gridcolor": "white",
            "linecolor": "white",
            "ticks": ""
           }
          },
          "title": {
           "x": 0.05
          },
          "xaxis": {
           "automargin": true,
           "gridcolor": "white",
           "linecolor": "white",
           "ticks": "",
           "title": {
            "standoff": 15
           },
           "zerolinecolor": "white",
           "zerolinewidth": 2
          },
          "yaxis": {
           "automargin": true,
           "gridcolor": "white",
           "linecolor": "white",
           "ticks": "",
           "title": {
            "standoff": 15
           },
           "zerolinecolor": "white",
           "zerolinewidth": 2
          }
         }
        },
        "title": {
         "text": "HbA1C Distribution<br><sup><i>(n=382)</i></sup>",
         "x": 0,
         "xref": "paper"
        },
        "uniformtext": {
         "minsize": 10,
         "mode": "hide"
        },
        "xaxis": {
         "title": {
          "text": "HbA1C Category<br><sup><i>mmol/mol</i></sup>"
         }
        },
        "yaxis": {
         "gridcolor": "lightgrey",
         "title": {
          "text": "Percentage<br><sup><i>%</i></sup>"
         }
        }
       }
      }
     },
     "metadata": {},
     "output_type": "display_data"
    },
    {
     "data": {
      "application/vnd.plotly.v1+json": {
       "config": {
        "plotlyServerURL": "https://plot.ly"
       },
       "data": [
        {
         "marker": {
          "color": "#172207"
         },
         "name": "ASIAN EAST",
         "text": [
          "4.45",
          "3.66"
         ],
         "type": "bar",
         "x": [
          "< 38",
          "39 - 47"
         ],
         "y": [
          4.45,
          3.66
         ]
        },
        {
         "marker": {
          "color": "#32471E"
         },
         "name": "ASIAN SOUTH",
         "text": [
          "8.64",
          "7.85",
          "0.52"
         ],
         "type": "bar",
         "x": [
          "< 38",
          "39 - 47",
          "> 48"
         ],
         "y": [
          8.64,
          7.85,
          0.52
         ]
        },
        {
         "marker": {
          "color": "#3E412A"
         },
         "name": "BLACK",
         "text": [
          "11.52",
          "10.47",
          "0.79"
         ],
         "type": "bar",
         "x": [
          "< 38",
          "39 - 47",
          "> 48"
         ],
         "y": [
          11.52,
          10.47,
          0.79
         ]
        },
        {
         "marker": {
          "color": "#555A44"
         },
         "name": "MIXED",
         "text": [
          "3.14",
          "2.09"
         ],
         "type": "bar",
         "x": [
          "< 38",
          "39 - 47"
         ],
         "y": [
          3.14,
          2.09
         ]
        },
        {
         "marker": {
          "color": "#7D826D"
         },
         "name": "WHITE",
         "text": [
          "30.1",
          "16.23",
          "0.52"
         ],
         "type": "bar",
         "x": [
          "< 38",
          "39 - 47",
          "> 48"
         ],
         "y": [
          30.1,
          16.23,
          0.52
         ]
        }
       ],
       "layout": {
        "barmode": "stack",
        "paper_bgcolor": "white",
        "plot_bgcolor": "#F6F8FC",
        "showlegend": true,
        "template": {
         "data": {
          "bar": [
           {
            "error_x": {
             "color": "#2a3f5f"
            },
            "error_y": {
             "color": "#2a3f5f"
            },
            "marker": {
             "line": {
              "color": "#E5ECF6",
              "width": 0.5
             },
             "pattern": {
              "fillmode": "overlay",
              "size": 10,
              "solidity": 0.2
             }
            },
            "type": "bar"
           }
          ],
          "barpolar": [
           {
            "marker": {
             "line": {
              "color": "#E5ECF6",
              "width": 0.5
             },
             "pattern": {
              "fillmode": "overlay",
              "size": 10,
              "solidity": 0.2
             }
            },
            "type": "barpolar"
           }
          ],
          "carpet": [
           {
            "aaxis": {
             "endlinecolor": "#2a3f5f",
             "gridcolor": "white",
             "linecolor": "white",
             "minorgridcolor": "white",
             "startlinecolor": "#2a3f5f"
            },
            "baxis": {
             "endlinecolor": "#2a3f5f",
             "gridcolor": "white",
             "linecolor": "white",
             "minorgridcolor": "white",
             "startlinecolor": "#2a3f5f"
            },
            "type": "carpet"
           }
          ],
          "choropleth": [
           {
            "colorbar": {
             "outlinewidth": 0,
             "ticks": ""
            },
            "type": "choropleth"
           }
          ],
          "contour": [
           {
            "colorbar": {
             "outlinewidth": 0,
             "ticks": ""
            },
            "colorscale": [
             [
              0,
              "#0d0887"
             ],
             [
              0.1111111111111111,
              "#46039f"
             ],
             [
              0.2222222222222222,
              "#7201a8"
             ],
             [
              0.3333333333333333,
              "#9c179e"
             ],
             [
              0.4444444444444444,
              "#bd3786"
             ],
             [
              0.5555555555555556,
              "#d8576b"
             ],
             [
              0.6666666666666666,
              "#ed7953"
             ],
             [
              0.7777777777777778,
              "#fb9f3a"
             ],
             [
              0.8888888888888888,
              "#fdca26"
             ],
             [
              1,
              "#f0f921"
             ]
            ],
            "type": "contour"
           }
          ],
          "contourcarpet": [
           {
            "colorbar": {
             "outlinewidth": 0,
             "ticks": ""
            },
            "type": "contourcarpet"
           }
          ],
          "heatmap": [
           {
            "colorbar": {
             "outlinewidth": 0,
             "ticks": ""
            },
            "colorscale": [
             [
              0,
              "#0d0887"
             ],
             [
              0.1111111111111111,
              "#46039f"
             ],
             [
              0.2222222222222222,
              "#7201a8"
             ],
             [
              0.3333333333333333,
              "#9c179e"
             ],
             [
              0.4444444444444444,
              "#bd3786"
             ],
             [
              0.5555555555555556,
              "#d8576b"
             ],
             [
              0.6666666666666666,
              "#ed7953"
             ],
             [
              0.7777777777777778,
              "#fb9f3a"
             ],
             [
              0.8888888888888888,
              "#fdca26"
             ],
             [
              1,
              "#f0f921"
             ]
            ],
            "type": "heatmap"
           }
          ],
          "heatmapgl": [
           {
            "colorbar": {
             "outlinewidth": 0,
             "ticks": ""
            },
            "colorscale": [
             [
              0,
              "#0d0887"
             ],
             [
              0.1111111111111111,
              "#46039f"
             ],
             [
              0.2222222222222222,
              "#7201a8"
             ],
             [
              0.3333333333333333,
              "#9c179e"
             ],
             [
              0.4444444444444444,
              "#bd3786"
             ],
             [
              0.5555555555555556,
              "#d8576b"
             ],
             [
              0.6666666666666666,
              "#ed7953"
             ],
             [
              0.7777777777777778,
              "#fb9f3a"
             ],
             [
              0.8888888888888888,
              "#fdca26"
             ],
             [
              1,
              "#f0f921"
             ]
            ],
            "type": "heatmapgl"
           }
          ],
          "histogram": [
           {
            "marker": {
             "pattern": {
              "fillmode": "overlay",
              "size": 10,
              "solidity": 0.2
             }
            },
            "type": "histogram"
           }
          ],
          "histogram2d": [
           {
            "colorbar": {
             "outlinewidth": 0,
             "ticks": ""
            },
            "colorscale": [
             [
              0,
              "#0d0887"
             ],
             [
              0.1111111111111111,
              "#46039f"
             ],
             [
              0.2222222222222222,
              "#7201a8"
             ],
             [
              0.3333333333333333,
              "#9c179e"
             ],
             [
              0.4444444444444444,
              "#bd3786"
             ],
             [
              0.5555555555555556,
              "#d8576b"
             ],
             [
              0.6666666666666666,
              "#ed7953"
             ],
             [
              0.7777777777777778,
              "#fb9f3a"
             ],
             [
              0.8888888888888888,
              "#fdca26"
             ],
             [
              1,
              "#f0f921"
             ]
            ],
            "type": "histogram2d"
           }
          ],
          "histogram2dcontour": [
           {
            "colorbar": {
             "outlinewidth": 0,
             "ticks": ""
            },
            "colorscale": [
             [
              0,
              "#0d0887"
             ],
             [
              0.1111111111111111,
              "#46039f"
             ],
             [
              0.2222222222222222,
              "#7201a8"
             ],
             [
              0.3333333333333333,
              "#9c179e"
             ],
             [
              0.4444444444444444,
              "#bd3786"
             ],
             [
              0.5555555555555556,
              "#d8576b"
             ],
             [
              0.6666666666666666,
              "#ed7953"
             ],
             [
              0.7777777777777778,
              "#fb9f3a"
             ],
             [
              0.8888888888888888,
              "#fdca26"
             ],
             [
              1,
              "#f0f921"
             ]
            ],
            "type": "histogram2dcontour"
           }
          ],
          "mesh3d": [
           {
            "colorbar": {
             "outlinewidth": 0,
             "ticks": ""
            },
            "type": "mesh3d"
           }
          ],
          "parcoords": [
           {
            "line": {
             "colorbar": {
              "outlinewidth": 0,
              "ticks": ""
             }
            },
            "type": "parcoords"
           }
          ],
          "pie": [
           {
            "automargin": true,
            "type": "pie"
           }
          ],
          "scatter": [
           {
            "fillpattern": {
             "fillmode": "overlay",
             "size": 10,
             "solidity": 0.2
            },
            "type": "scatter"
           }
          ],
          "scatter3d": [
           {
            "line": {
             "colorbar": {
              "outlinewidth": 0,
              "ticks": ""
             }
            },
            "marker": {
             "colorbar": {
              "outlinewidth": 0,
              "ticks": ""
             }
            },
            "type": "scatter3d"
           }
          ],
          "scattercarpet": [
           {
            "marker": {
             "colorbar": {
              "outlinewidth": 0,
              "ticks": ""
             }
            },
            "type": "scattercarpet"
           }
          ],
          "scattergeo": [
           {
            "marker": {
             "colorbar": {
              "outlinewidth": 0,
              "ticks": ""
             }
            },
            "type": "scattergeo"
           }
          ],
          "scattergl": [
           {
            "marker": {
             "colorbar": {
              "outlinewidth": 0,
              "ticks": ""
             }
            },
            "type": "scattergl"
           }
          ],
          "scattermapbox": [
           {
            "marker": {
             "colorbar": {
              "outlinewidth": 0,
              "ticks": ""
             }
            },
            "type": "scattermapbox"
           }
          ],
          "scatterpolar": [
           {
            "marker": {
             "colorbar": {
              "outlinewidth": 0,
              "ticks": ""
             }
            },
            "type": "scatterpolar"
           }
          ],
          "scatterpolargl": [
           {
            "marker": {
             "colorbar": {
              "outlinewidth": 0,
              "ticks": ""
             }
            },
            "type": "scatterpolargl"
           }
          ],
          "scatterternary": [
           {
            "marker": {
             "colorbar": {
              "outlinewidth": 0,
              "ticks": ""
             }
            },
            "type": "scatterternary"
           }
          ],
          "surface": [
           {
            "colorbar": {
             "outlinewidth": 0,
             "ticks": ""
            },
            "colorscale": [
             [
              0,
              "#0d0887"
             ],
             [
              0.1111111111111111,
              "#46039f"
             ],
             [
              0.2222222222222222,
              "#7201a8"
             ],
             [
              0.3333333333333333,
              "#9c179e"
             ],
             [
              0.4444444444444444,
              "#bd3786"
             ],
             [
              0.5555555555555556,
              "#d8576b"
             ],
             [
              0.6666666666666666,
              "#ed7953"
             ],
             [
              0.7777777777777778,
              "#fb9f3a"
             ],
             [
              0.8888888888888888,
              "#fdca26"
             ],
             [
              1,
              "#f0f921"
             ]
            ],
            "type": "surface"
           }
          ],
          "table": [
           {
            "cells": {
             "fill": {
              "color": "#EBF0F8"
             },
             "line": {
              "color": "white"
             }
            },
            "header": {
             "fill": {
              "color": "#C8D4E3"
             },
             "line": {
              "color": "white"
             }
            },
            "type": "table"
           }
          ]
         },
         "layout": {
          "annotationdefaults": {
           "arrowcolor": "#2a3f5f",
           "arrowhead": 0,
           "arrowwidth": 1
          },
          "autotypenumbers": "strict",
          "coloraxis": {
           "colorbar": {
            "outlinewidth": 0,
            "ticks": ""
           }
          },
          "colorscale": {
           "diverging": [
            [
             0,
             "#8e0152"
            ],
            [
             0.1,
             "#c51b7d"
            ],
            [
             0.2,
             "#de77ae"
            ],
            [
             0.3,
             "#f1b6da"
            ],
            [
             0.4,
             "#fde0ef"
            ],
            [
             0.5,
             "#f7f7f7"
            ],
            [
             0.6,
             "#e6f5d0"
            ],
            [
             0.7,
             "#b8e186"
            ],
            [
             0.8,
             "#7fbc41"
            ],
            [
             0.9,
             "#4d9221"
            ],
            [
             1,
             "#276419"
            ]
           ],
           "sequential": [
            [
             0,
             "#0d0887"
            ],
            [
             0.1111111111111111,
             "#46039f"
            ],
            [
             0.2222222222222222,
             "#7201a8"
            ],
            [
             0.3333333333333333,
             "#9c179e"
            ],
            [
             0.4444444444444444,
             "#bd3786"
            ],
            [
             0.5555555555555556,
             "#d8576b"
            ],
            [
             0.6666666666666666,
             "#ed7953"
            ],
            [
             0.7777777777777778,
             "#fb9f3a"
            ],
            [
             0.8888888888888888,
             "#fdca26"
            ],
            [
             1,
             "#f0f921"
            ]
           ],
           "sequentialminus": [
            [
             0,
             "#0d0887"
            ],
            [
             0.1111111111111111,
             "#46039f"
            ],
            [
             0.2222222222222222,
             "#7201a8"
            ],
            [
             0.3333333333333333,
             "#9c179e"
            ],
            [
             0.4444444444444444,
             "#bd3786"
            ],
            [
             0.5555555555555556,
             "#d8576b"
            ],
            [
             0.6666666666666666,
             "#ed7953"
            ],
            [
             0.7777777777777778,
             "#fb9f3a"
            ],
            [
             0.8888888888888888,
             "#fdca26"
            ],
            [
             1,
             "#f0f921"
            ]
           ]
          },
          "colorway": [
           "#636efa",
           "#EF553B",
           "#00cc96",
           "#ab63fa",
           "#FFA15A",
           "#19d3f3",
           "#FF6692",
           "#B6E880",
           "#FF97FF",
           "#FECB52"
          ],
          "font": {
           "color": "#2a3f5f"
          },
          "geo": {
           "bgcolor": "white",
           "lakecolor": "white",
           "landcolor": "#E5ECF6",
           "showlakes": true,
           "showland": true,
           "subunitcolor": "white"
          },
          "hoverlabel": {
           "align": "left"
          },
          "hovermode": "closest",
          "mapbox": {
           "style": "light"
          },
          "paper_bgcolor": "white",
          "plot_bgcolor": "#E5ECF6",
          "polar": {
           "angularaxis": {
            "gridcolor": "white",
            "linecolor": "white",
            "ticks": ""
           },
           "bgcolor": "#E5ECF6",
           "radialaxis": {
            "gridcolor": "white",
            "linecolor": "white",
            "ticks": ""
           }
          },
          "scene": {
           "xaxis": {
            "backgroundcolor": "#E5ECF6",
            "gridcolor": "white",
            "gridwidth": 2,
            "linecolor": "white",
            "showbackground": true,
            "ticks": "",
            "zerolinecolor": "white"
           },
           "yaxis": {
            "backgroundcolor": "#E5ECF6",
            "gridcolor": "white",
            "gridwidth": 2,
            "linecolor": "white",
            "showbackground": true,
            "ticks": "",
            "zerolinecolor": "white"
           },
           "zaxis": {
            "backgroundcolor": "#E5ECF6",
            "gridcolor": "white",
            "gridwidth": 2,
            "linecolor": "white",
            "showbackground": true,
            "ticks": "",
            "zerolinecolor": "white"
           }
          },
          "shapedefaults": {
           "line": {
            "color": "#2a3f5f"
           }
          },
          "ternary": {
           "aaxis": {
            "gridcolor": "white",
            "linecolor": "white",
            "ticks": ""
           },
           "baxis": {
            "gridcolor": "white",
            "linecolor": "white",
            "ticks": ""
           },
           "bgcolor": "#E5ECF6",
           "caxis": {
            "gridcolor": "white",
            "linecolor": "white",
            "ticks": ""
           }
          },
          "title": {
           "x": 0.05
          },
          "xaxis": {
           "automargin": true,
           "gridcolor": "white",
           "linecolor": "white",
           "ticks": "",
           "title": {
            "standoff": 15
           },
           "zerolinecolor": "white",
           "zerolinewidth": 2
          },
          "yaxis": {
           "automargin": true,
           "gridcolor": "white",
           "linecolor": "white",
           "ticks": "",
           "title": {
            "standoff": 15
           },
           "zerolinecolor": "white",
           "zerolinewidth": 2
          }
         }
        },
        "title": {
         "text": "HbA1C Distribution by Race<br><sup><i>(n=382)</i></sup>",
         "x": 0,
         "xref": "paper"
        },
        "uniformtext": {
         "minsize": 10,
         "mode": "hide"
        },
        "xaxis": {
         "title": {
          "text": "HbA1C Category<br><sup><i>mmol/mol</i></sup>"
         }
        },
        "yaxis": {
         "gridcolor": "lightgrey",
         "title": {
          "text": "Percentage<br><sup><i>%</i></sup>"
         }
        }
       }
      }
     },
     "metadata": {},
     "output_type": "display_data"
    },
    {
     "name": "stdout",
     "output_type": "stream",
     "text": [
      "< 38\n",
      "39 - 47\n",
      "> 48\n"
     ]
    },
    {
     "data": {
      "application/vnd.plotly.v1+json": {
       "config": {
        "plotlyServerURL": "https://plot.ly"
       },
       "data": [
        {
         "diagonal": {
          "visible": false
         },
         "dimensions": [
          {
           "label": "HbA1C",
           "values": [
            37,
            35,
            37,
            32,
            30,
            34,
            37,
            33,
            32,
            36,
            37,
            35,
            31,
            31,
            36,
            36,
            37,
            37,
            33,
            33,
            36,
            35,
            34,
            5.7,
            33,
            33,
            27,
            36,
            32,
            29,
            36,
            34,
            34,
            32,
            35,
            36,
            35,
            35,
            36,
            35,
            37,
            35,
            36,
            36,
            35,
            37,
            35,
            35,
            36,
            36,
            37,
            37,
            28,
            31,
            33,
            33,
            31,
            33,
            29,
            37,
            36,
            34,
            36,
            34,
            34,
            33,
            33,
            32,
            33,
            29,
            34,
            34,
            36,
            34,
            35,
            36,
            32,
            34,
            32,
            29,
            34,
            37,
            32,
            37,
            29,
            35,
            32,
            31,
            34,
            32,
            35,
            34,
            31,
            34,
            37,
            35,
            37,
            31,
            31,
            36,
            33,
            35,
            37,
            35,
            37,
            37,
            36,
            34,
            35,
            31,
            35,
            31,
            35,
            33,
            32,
            35,
            30,
            34,
            37,
            33,
            33,
            36,
            34,
            37,
            35,
            35,
            37,
            32,
            35,
            35,
            33,
            35,
            35,
            36,
            32,
            34,
            32,
            34,
            32,
            36,
            33,
            33,
            36,
            34,
            34,
            34,
            36,
            34,
            37,
            37,
            36,
            26,
            36,
            36,
            33,
            37,
            36,
            36,
            34,
            35,
            34,
            34,
            28,
            37,
            34,
            35,
            36,
            36,
            37,
            35,
            35,
            35,
            35,
            35,
            35,
            32,
            36,
            37,
            35,
            37,
            30,
            23,
            35,
            34,
            32,
            32,
            37,
            33,
            36,
            35,
            36,
            31,
            32,
            34,
            32,
            36,
            36,
            33,
            37,
            34,
            35,
            33,
            36,
            36,
            35,
            35,
            35,
            34,
            33,
            32,
            30,
            34,
            37,
            37,
            34,
            36,
            37,
            36,
            37,
            37,
            35
           ]
          },
          {
           "label": "eGFR",
           "values": [
            98.64094301736165,
            127.46239763318408,
            112.59956336395705,
            110.87329487427813,
            97.3210256232535,
            100.93882792039533,
            86.99403329709253,
            120.62462380552228,
            134.5833305282209,
            104.8209037109621,
            112.44197283733173,
            120.72158371864322,
            109.91879509173201,
            116.27275720662647,
            154.09627680573644,
            87.10887728005106,
            130.22114989157984,
            97.6156576950087,
            125.03703932378372,
            111.65487902747041,
            90.00649824445149,
            86.25512215624723,
            103.65800179958484,
            102.6382841720783,
            125.03703932378372,
            136.26189055889736,
            115.45884790618007,
            105.28409454967425,
            104.3038694544322,
            91.7399551566162,
            103.57374236825119,
            109.49732097651443,
            94.26965222122924,
            114.68719797673734,
            96.34628320101412,
            118.5142846390119,
            96.26124721146479,
            102.63503745230742,
            96.58394959877714,
            114.04514440269091,
            117.56849918800462,
            106.94962208290283,
            53.22623852145265,
            116.74551969368859,
            120.64482139741061,
            106.04766556000983,
            113.56297466125648,
            114.68719797673734,
            74.01240684949508,
            119.34973276839064,
            113.74204520552081,
            111.97865760175729,
            109.33829326507201,
            121.57259186167494,
            94.91830655161765,
            118.12133034837373,
            83.16562608915285,
            85.77254967419255,
            112.3532583263723,
            79.56372797178727,
            114.19266523667389,
            92.36989634942846,
            93.96214438458037,
            87.9536798657601,
            105.28409454967425,
            124.08048200146126,
            107.357094143862,
            120.12759209588316,
            115.35256607381156,
            119.79255630133365,
            116.62467968439778,
            88.95822141118063,
            128.77768678096024,
            106.04766556000983,
            90.44367521797939,
            105.60562881556196,
            108.38531798140725,
            96.93234809114362,
            101.45190854391176,
            122.33126731584565,
            92.6512785082711,
            135.945000743454,
            99.53063033207788,
            111.97865760175729,
            91.09777547051989,
            75.15676098497809,
            104.8209037109621,
            87.47549275568174,
            102.21186901647883,
            111.89429264641988,
            115.16970724706022,
            95.90786195158572,
            96.63977844389072,
            103.35854728329046,
            78.31061479133724,
            138.18977612562597,
            102.63503745230742,
            117.28243277100233,
            109.81761297216349,
            101.45190854391176,
            127.43650996755292,
            94.81958584312463,
            68.52336794567277,
            109.47972564514588,
            121.77124092796805,
            114.8367019725542,
            116.62467968439778,
            109.56092258212172,
            116.79917250264462,
            85.77254967419255,
            91.44159409707842,
            114.54509811129488,
            139.44893603659125,
            88.85082925751712,
            103.49698260360863,
            93.69378376646617,
            127.01331199726437,
            90.64098514043454,
            102.21186901647883,
            107.41116585132062,
            91.499280034521,
            75.5817840090223,
            105.91267267652884,
            101.45190854391176,
            106.30881676225282,
            117.37670617997415,
            107.04667850193583,
            94.25387840575632,
            110.59599490982593,
            81.91043275424019,
            96.36377036800566,
            82.33400790068788,
            136.26189055889736,
            110.10905666170395,
            118.64329415651574,
            98.64094301736165,
            133.09573758619032,
            93.96214438458037,
            122.02531035735045,
            107.52637901277566,
            102.21186901647883,
            112.95140939221523,
            99.99905850284853,
            83.16562608915285,
            112.71623277149467,
            87.15080071622504,
            123.96265027623099,
            80.54264115291843,
            105.7796006632857,
            103.57374236825119,
            107.52637901277566,
            122.35175067102205,
            68.99040957709394,
            63.3507725486348,
            93.69378376646617,
            102.36694922909037,
            87.76515681392249,
            107.54806866596877,
            88.55762223647825,
            126.39250834422835,
            103.67246878803488,
            131.02627699520448,
            97.62318831159993,
            112.25978693376881,
            126.24885934451679,
            111.89429264641988,
            98.41607452682715,
            120.98652979427877,
            116.55506923671433,
            115.2305655517577,
            130.32024651846748,
            103.57374236825119,
            98.64094301736165,
            145.0277830270367,
            107.36348255210912,
            112.82762304422293,
            119.03739690418443,
            83.16562608915285,
            115.65869891120107,
            92.57140847332182,
            90.12713076148701,
            119.7980404590383,
            108.5729252122165,
            113.05114494840767,
            126.72308189421847,
            116.64342333645487,
            112.94707944754421,
            85.18379346253013,
            102.14216220075969,
            136.26189055889736,
            77.74273015342533,
            113.56297466125648,
            92.79384699393336,
            76.65114412064948,
            138.06892632525341,
            99.79444729751535,
            107.66094280800398,
            114.04514440269091,
            62.423851594771776,
            113.51080843050822,
            86.99799243917568,
            74.58548884161263,
            119.62431151808775,
            129.27236782610018,
            81.81410029836714,
            114.27735758119418,
            107.812914735731,
            123.49410721776306,
            122.2080154584165,
            127.55380015077989,
            104.64457019557233,
            102.86219758384661,
            95.43578731736032,
            81.76681346517586,
            109.82182294545716,
            109.04888968135833,
            77.9045582620329,
            102.63503745230742,
            115.016130937488,
            91.3587005218022,
            90.00649824445149
           ]
          },
          {
           "label": "Age",
           "values": [
            34,
            29,
            36,
            39,
            31,
            41,
            37,
            27,
            30,
            33,
            37,
            32,
            37,
            29,
            24,
            42,
            24,
            38,
            27,
            38,
            35,
            32,
            32,
            35,
            27,
            34,
            30,
            35,
            39,
            37,
            40,
            45,
            36,
            35,
            23,
            32,
            35,
            36,
            37,
            29,
            34,
            25,
            40,
            35,
            33,
            35,
            34,
            35,
            39,
            31,
            24,
            36,
            35,
            31,
            37,
            37,
            35,
            37,
            34,
            37,
            34,
            29,
            36,
            43,
            35,
            38,
            42,
            26,
            31,
            35,
            31,
            19,
            30,
            35,
            32,
            22,
            39,
            39,
            30,
            25,
            38,
            25,
            43,
            36,
            38,
            43,
            33,
            30,
            34,
            29,
            32,
            38,
            32,
            35,
            46,
            32,
            36,
            31,
            38,
            30,
            41,
            44,
            44,
            40,
            29,
            34,
            31,
            32,
            30,
            37,
            34,
            32,
            25,
            30,
            48,
            34,
            23,
            34,
            34,
            24,
            35,
            34,
            26,
            30,
            39,
            36,
            44,
            38,
            41,
            35,
            30,
            35,
            34,
            34,
            39,
            34,
            34,
            36,
            27,
            32,
            34,
            38,
            45,
            35,
            40,
            35,
            35,
            29,
            37,
            40,
            32,
            31,
            45,
            42,
            34,
            39,
            34,
            33,
            35,
            43,
            22,
            33,
            33,
            34,
            23,
            29,
            27,
            31,
            37,
            36,
            37,
            40,
            34,
            26,
            27,
            39,
            34,
            35,
            27,
            31,
            34,
            43,
            36,
            33,
            35,
            36,
            34,
            36,
            38,
            34,
            32,
            34,
            33,
            32,
            33,
            39,
            44,
            29,
            37,
            39,
            33,
            42,
            29,
            28,
            34,
            26,
            37,
            27,
            36,
            26,
            44,
            37,
            30,
            31,
            42,
            39,
            40,
            36,
            38,
            40,
            35
           ]
          },
          {
           "label": "Hb",
           "values": [
            132,
            124,
            141,
            126,
            131,
            135,
            111,
            113,
            139,
            147,
            134,
            119,
            118,
            130,
            131,
            121,
            128,
            139,
            114,
            131,
            135,
            130,
            129,
            124,
            112,
            121,
            119,
            133,
            131,
            130,
            136,
            122,
            123,
            132,
            121,
            120,
            119,
            125,
            111,
            126,
            120,
            112,
            129,
            122,
            133,
            118,
            111,
            115,
            123,
            124,
            125,
            116,
            115,
            134,
            130,
            132,
            144,
            111,
            120,
            114,
            134,
            130,
            149,
            137,
            129,
            134,
            121,
            126,
            133,
            127,
            124,
            118,
            120,
            140,
            136,
            110,
            128,
            141,
            122,
            110,
            130,
            127,
            133,
            131,
            119,
            122,
            132,
            129,
            125,
            128,
            114,
            131,
            122,
            143,
            130,
            119,
            130,
            117,
            130,
            127,
            120,
            122,
            139,
            134,
            117,
            131,
            123,
            130,
            114,
            129,
            112,
            120,
            115,
            135,
            121,
            127,
            120,
            123,
            132,
            116,
            124,
            138,
            107,
            117,
            110,
            111,
            137,
            114,
            125,
            140,
            120,
            113,
            102,
            137,
            111,
            136,
            124,
            116,
            142,
            126,
            110,
            134,
            137,
            132,
            124,
            114,
            107,
            106,
            137,
            137,
            125,
            145,
            124,
            140,
            131,
            117,
            132,
            121,
            121,
            123,
            122,
            130,
            139,
            129,
            107,
            122,
            138,
            129,
            133,
            118,
            131,
            135,
            125,
            120,
            137,
            128,
            137,
            136,
            126,
            141,
            122,
            94,
            115,
            127,
            111,
            127,
            121,
            129,
            107,
            127,
            130,
            125,
            104,
            116,
            127,
            117,
            123,
            140,
            128,
            142,
            126,
            145,
            126,
            115,
            117,
            127,
            122,
            120,
            119,
            118,
            135,
            138,
            130,
            129,
            126,
            133,
            132,
            131,
            136,
            129,
            133
           ]
          },
          {
           "label": "ALT",
           "values": [
            null,
            null,
            null,
            null,
            null,
            null,
            null,
            null,
            null,
            null,
            null,
            null,
            null,
            null,
            null,
            null,
            null,
            null,
            null,
            null,
            null,
            null,
            null,
            null,
            null,
            null,
            null,
            null,
            null,
            null,
            null,
            null,
            null,
            null,
            null,
            null,
            null,
            null,
            null,
            null,
            null,
            null,
            null,
            null,
            null,
            null,
            null,
            null,
            null,
            null,
            null,
            null,
            null,
            null,
            null,
            null,
            null,
            null,
            null,
            null,
            null,
            null,
            null,
            null,
            null,
            null,
            null,
            null,
            null,
            null,
            null,
            null,
            null,
            null,
            null,
            null,
            null,
            null,
            null,
            null,
            null,
            15,
            26,
            31,
            29,
            39,
            68,
            44,
            50,
            39,
            31,
            17,
            14,
            29,
            25,
            19,
            33,
            33,
            25,
            35,
            13,
            24,
            23,
            34,
            17,
            32,
            68,
            43,
            37,
            22,
            15,
            21,
            51,
            38,
            24,
            28,
            24,
            39,
            21,
            14,
            14,
            38,
            16,
            8,
            17,
            20,
            155,
            18,
            35,
            25,
            12,
            47,
            11,
            26,
            17,
            47,
            null,
            null,
            14,
            23,
            9,
            33,
            72,
            80,
            21,
            23,
            12,
            19,
            63,
            30,
            19,
            74,
            22,
            39,
            39,
            31,
            253,
            21,
            26,
            23,
            26,
            null,
            28,
            60,
            16,
            31,
            16,
            15,
            25,
            23,
            25,
            44,
            22,
            22,
            33,
            53,
            27,
            37,
            51,
            21,
            16,
            12,
            22,
            20,
            22,
            30,
            23,
            49,
            13,
            null,
            102,
            59,
            17,
            12,
            25,
            18,
            18,
            20,
            14,
            34,
            18,
            58,
            22,
            17,
            16,
            15,
            60,
            12,
            61,
            20,
            18,
            16,
            49,
            20,
            59,
            33,
            29,
            20,
            59,
            37,
            27
           ]
          },
          {
           "label": "ACR",
           "values": [
            7.4,
            null,
            6.6,
            18,
            18.7,
            12,
            6.2,
            5.1,
            8.9,
            4.8,
            9.3,
            6.6,
            0,
            0,
            22.3,
            1.2,
            0.8,
            0,
            3.3,
            0.4,
            0.6,
            0,
            0,
            null,
            0.4,
            0.9,
            1.3,
            1.1,
            1.2,
            1.9,
            3.7,
            6.5,
            1.6,
            0,
            2.4,
            2.7,
            0,
            1.4,
            2.5,
            17.1,
            7.3,
            0,
            2.7,
            0.7,
            1.4,
            2.4,
            0.6,
            0,
            1.9,
            0.8,
            14.3,
            59.2,
            0.9,
            1,
            0.7,
            1.5,
            0.5,
            20.7,
            1,
            1.9,
            23.9,
            0.6,
            3.4,
            7.6,
            2,
            0.4,
            1.1,
            7.5,
            2,
            2.2,
            0.4,
            0.5,
            0.7,
            10.8,
            2.5,
            3.8,
            16.8,
            1.2,
            4.5,
            3.2,
            0.5,
            0.4,
            0.8,
            1.3,
            2.6,
            3.4,
            1.6,
            7.8,
            0,
            2.5,
            5.3,
            0.8,
            1.5,
            5.1,
            0.8,
            12.6,
            2.2,
            1.1,
            0,
            0.8,
            3.3,
            2.8,
            1.1,
            1.8,
            0,
            1.6,
            0,
            11.4,
            0.9,
            0.7,
            1.1,
            1.9,
            0.8,
            0,
            1.3,
            2.8,
            0.9,
            null,
            0.8,
            0.8,
            0.7,
            0.5,
            3.8,
            0.8,
            2.1,
            10,
            0,
            1.7,
            3.3,
            0,
            2.4,
            7.7,
            89.9,
            0,
            0.5,
            1.6,
            0.4,
            5,
            1.2,
            7.8,
            0,
            1,
            0.7,
            0,
            1.6,
            0.8,
            null,
            1,
            0.5,
            1,
            0.7,
            1.6,
            12.6,
            1.1,
            1,
            2.7,
            2.6,
            0.7,
            1.4,
            1.2,
            0.6,
            2.7,
            1.8,
            3.4,
            null,
            48.3,
            1.7,
            1.2,
            0,
            16.5,
            1.1,
            2.8,
            1.2,
            1.4,
            0.8,
            9.7,
            40,
            1.6,
            2.1,
            0.7,
            0.7,
            3.4,
            1.2,
            6.3,
            3.1,
            10.5,
            0.8,
            2,
            0.8,
            10.3,
            1.6,
            0,
            0.8,
            2.6,
            19.7,
            1,
            4.8,
            1.7,
            1.4,
            0,
            1.8,
            1.8,
            3.1,
            null,
            5.6,
            0,
            0,
            4.3,
            2,
            8.7,
            0.9,
            0.8,
            6.5,
            4.5,
            2.3,
            1.2,
            1.5,
            1.6,
            3.5,
            1.4,
            0
           ]
          },
          {
           "label": "MAP",
           "values": [
            81.41666666666667,
            89.33333333333333,
            105.33333333333333,
            91.83333333333333,
            75,
            89.66666666666667,
            92.16666666666667,
            89,
            79.75,
            95.83333333333333,
            76.75,
            81.66666666666667,
            100.66666666666667,
            85.83333333333333,
            89,
            88.25,
            87,
            86.33333333333333,
            81.16666666666667,
            93.33333333333333,
            86.25,
            92.25,
            87.58333333333333,
            83.33333333333333,
            97.16666666666667,
            90.91666666666667,
            80.58333333333333,
            98.5,
            90.58333333333333,
            81.5,
            91.5,
            96.83333333333333,
            85.83333333333333,
            79.41666666666667,
            94,
            87.91666666666667,
            89.91666666666667,
            96.91666666666667,
            101.66666666666667,
            95.91666666666667,
            72.25,
            84.5,
            92.83333333333333,
            78.66666666666667,
            81.16666666666667,
            130.66666666666666,
            93.83333333333333,
            82.08333333333333,
            89.83333333333333,
            92.41666666666667,
            78.41666666666667,
            106.66666666666667,
            103.25,
            89.41666666666667,
            91,
            75.66666666666667,
            88,
            114.58333333333333,
            86.66666666666667,
            101.5,
            82.16666666666667,
            82.25,
            121.08333333333333,
            91.75,
            80.83333333333333,
            116.25,
            95.08333333333333,
            94.41666666666667,
            95.5,
            83,
            80.75,
            77.91666666666667,
            88.16666666666667,
            93.91666666666667,
            77.08333333333333,
            82.91666666666667,
            88.66666666666667,
            93.75,
            84,
            95.08333333333333,
            86,
            77.33333333333333,
            84.83333333333333,
            82.08333333333333,
            73.16666666666667,
            88.66666666666667,
            83.75,
            82.91666666666667,
            80.83333333333333,
            92.33333333333333,
            83.25,
            88,
            90.66666666666667,
            92.5,
            98.66666666666667,
            97.25,
            94.16666666666667,
            95.41666666666667,
            83.33333333333333,
            91.41666666666667,
            85.66666666666667,
            84.66666666666667,
            93,
            84.33333333333333,
            74.75,
            95.41666666666667,
            80.91666666666667,
            89.25,
            86.91666666666667,
            81.58333333333333,
            84.83333333333333,
            86.33333333333333,
            91.08333333333333,
            99.58333333333333,
            70.5,
            81.33333333333333,
            77.75,
            79.08333333333333,
            76,
            84.08333333333333,
            85.33333333333333,
            89.5,
            74,
            84.58333333333333,
            94.33333333333333,
            78.83333333333333,
            87.91666666666667,
            81.33333333333333,
            79.83333333333333,
            79.83333333333333,
            89.58333333333333,
            101.16666666666667,
            93.16666666666667,
            80.41666666666667,
            98.83333333333333,
            84.75,
            82.66666666666667,
            90.41666666666667,
            88.08333333333333,
            73.41666666666667,
            85.66666666666667,
            93.16666666666667,
            82.75,
            88.66666666666667,
            77.58333333333333,
            83.66666666666667,
            91.41666666666667,
            88.41666666666667,
            86.08333333333333,
            93.83333333333333,
            78.5,
            96.5,
            96.66666666666667,
            85.58333333333333,
            74.41666666666667,
            90.75,
            86.75,
            87.5,
            92.41666666666667,
            80.41666666666667,
            82.91666666666667,
            94.16666666666667,
            92.58333333333333,
            75.91666666666667,
            78.16666666666667,
            94.08333333333333,
            90.25,
            78.5,
            87.83333333333333,
            80.58333333333333,
            86.25,
            81,
            85.91666666666667,
            84,
            87,
            85.58333333333333,
            81.5,
            86.66666666666667,
            85.58333333333333,
            81.33333333333333,
            85.58333333333333,
            94.83333333333333,
            85.5,
            81.33333333333333,
            95.58333333333333,
            84.16666666666667,
            93.83333333333333,
            88.91666666666667,
            103,
            92.5,
            90.58333333333333,
            95.16666666666667,
            85.91666666666667,
            86.41666666666667,
            89.91666666666667,
            75.58333333333333,
            76,
            84.33333333333333,
            97.83333333333333,
            89,
            73.5,
            99.33333333333333,
            88.75,
            101.16666666666667,
            79.41666666666667,
            83.91666666666667,
            96,
            106.83333333333333,
            80.83333333333333,
            72.25,
            101.83333333333333,
            98.16666666666667,
            87.25,
            90.08333333333333,
            91.16666666666667,
            88.5,
            80.75,
            98.08333333333333,
            93.33333333333333,
            89.75,
            91.91666666666667
           ]
          }
         ],
         "marker": {
          "color": "#172207",
          "line": {
           "color": "white",
           "width": 0.5
          },
          "showscale": false
         },
         "name": "< 38",
         "type": "splom"
        },
        {
         "diagonal": {
          "visible": false
         },
         "dimensions": [
          {
           "label": "HbA1C",
           "values": [
            39,
            40,
            39,
            38,
            38,
            43,
            45,
            40,
            42,
            43,
            38,
            38,
            41,
            42,
            43,
            39,
            39,
            40,
            39,
            41,
            38,
            39,
            39,
            38,
            41,
            38,
            44,
            41,
            41,
            42,
            42,
            40,
            45,
            41,
            39,
            40,
            43,
            38,
            40,
            38,
            38,
            39,
            41,
            39,
            39,
            38,
            38,
            39,
            38,
            39,
            40,
            38,
            41,
            41,
            39,
            39,
            38,
            41,
            40,
            44,
            40,
            41,
            38,
            39,
            39,
            40,
            40,
            42,
            39,
            39,
            41,
            41,
            39,
            40,
            38,
            42,
            41,
            39,
            43,
            42,
            40,
            43,
            39,
            43,
            41,
            38,
            40,
            42,
            43,
            41,
            38,
            43,
            38,
            40,
            40,
            39,
            40,
            39,
            43,
            41,
            39,
            44,
            39,
            40,
            43,
            44,
            42,
            40,
            38,
            40,
            41,
            39,
            38,
            38,
            42,
            39,
            43,
            40,
            40,
            39,
            39,
            38,
            38,
            39,
            38,
            41,
            44,
            39,
            42,
            38,
            40,
            40,
            39,
            39,
            39,
            38,
            44,
            42,
            38,
            45,
            38,
            39,
            40,
            39,
            38,
            40,
            40,
            39,
            42,
            43,
            43,
            43,
            43,
            39
           ]
          },
          {
           "label": "eGFR",
           "values": [
            97.02633636617229,
            131.25307410617972,
            111.81136642040936,
            122.02426558307246,
            94.93419156216439,
            96.51939099767704,
            114.99764877812075,
            83.71821023495698,
            92.30381482896922,
            80.10800280260891,
            98.72801662307242,
            111.74462892287721,
            115.16970724706022,
            113.23461514333509,
            100.78591123182991,
            111.5667855180877,
            87.15080071622504,
            138.0467397686443,
            90.08415529082254,
            133.202721970854,
            129.78326416043672,
            90.2661956593518,
            114.8367019725542,
            84.14292870104227,
            97.26480322132643,
            110.41644334955518,
            96.35019982267895,
            104.08715738498536,
            127.54225572839307,
            120.32293525255506,
            114.73724659577269,
            71.50093897853273,
            108.11389138354683,
            103.08856921358547,
            109.91879509173201,
            110.5917552589763,
            96.58394959877714,
            117.46568311828285,
            97.95045641624012,
            122.62964846723871,
            105.7796006632857,
            81.14148032752874,
            98.64094301736165,
            108.5729252122165,
            120.53779965692873,
            124.01961986624525,
            102.36694922909037,
            111.47396842523244,
            131.02627699520448,
            113.84808151904096,
            110.87329487427813,
            107.5275486214137,
            85.33341517616495,
            137.2855110958635,
            103.35854728329046,
            118.8561768139149,
            104.54710588782653,
            76.1215343357795,
            89.18189550501334,
            130.33430258743647,
            115.82691937309967,
            111.66692188897707,
            106.02627849916844,
            101.65038058448674,
            112.59956336395705,
            113.74764289246247,
            93.69378376646617,
            80.55612033044127,
            128.77768678096024,
            78.94476125255879,
            108.03243815117852,
            114.65063597083682,
            129.58937368125444,
            115.82691937309967,
            96.58394959877714,
            134.36090092371018,
            124.3646598366194,
            108.28554745358882,
            74.15661899951132,
            85.05177694704543,
            115.82691937309967,
            96.95604931444339,
            71.9551492139095,
            114.05193891200528,
            109.04770352464804,
            116.30983650583018,
            128.68224806548565,
            109.14936352608989,
            107.812914735731,
            115.64622555141409,
            113.74328242451581,
            72.9731983034408,
            115.92830105583276,
            84.58750690829243,
            115.16970724706022,
            132.37056988625275,
            81.91043275424019,
            135.1897276469512,
            118.12897355563666,
            98.68418805534502,
            118.29373929333622,
            93.51904491490936,
            96.38896063732815,
            119.78025143888364,
            112.76803383862769,
            96.6262928331504,
            115.35256607381156,
            101.81786678160273,
            111.11103259789495,
            109.64352824610829,
            101.91659219014127,
            118.41164350694234,
            118.39728014904796,
            107.54806866596877,
            114.54948931768625,
            94.81573144069634,
            107.83095771763693,
            108.46719559198267,
            90.71918961814958,
            124.83650581694965,
            87.47549275568174,
            139.6696635957015,
            110.05952148840167,
            87.32215484865715,
            116.17017949177604,
            66.37987751600356,
            96.66087875437613,
            104.64457019557233,
            114.0328450587463,
            118.29373929333622,
            75.5817840090223,
            99.37984698423467,
            121.35255935020758,
            98.39910224154406,
            99.39371689368237,
            129.7236469856872,
            101.65038058448674,
            118.78694133746113,
            109.18417118013808,
            99.96968657909053,
            72.46238591531672,
            84.73872327659926,
            74.52734254031242,
            114.32485295712216,
            115.808306926607,
            40.13895868318241,
            80.12460017299826,
            114.19266523667389,
            103.10936369522751,
            85.50119600209898,
            94.17829296566903,
            118.06879620442352,
            126.61306436192706,
            107.05822433258089
           ]
          },
          {
           "label": "Age",
           "values": [
            44,
            30,
            37,
            35,
            35,
            37,
            33,
            43,
            39,
            37,
            36,
            43,
            32,
            36,
            36,
            35,
            35,
            28,
            42,
            39,
            36,
            30,
            34,
            40,
            36,
            38,
            44,
            34,
            32,
            29,
            36,
            36,
            41,
            38,
            37,
            37,
            37,
            35,
            35,
            28,
            37,
            39,
            34,
            36,
            35,
            30,
            39,
            35,
            33,
            32,
            39,
            41,
            38,
            28,
            35,
            37,
            36,
            35,
            34,
            31,
            37,
            32,
            34,
            40,
            36,
            37,
            34,
            27,
            30,
            36,
            34,
            31,
            37,
            37,
            37,
            36,
            26,
            40,
            37,
            34,
            37,
            32,
            41,
            41,
            30,
            33,
            38,
            38,
            37,
            33,
            33,
            39,
            36,
            37,
            32,
            39,
            35,
            36,
            36,
            39,
            34,
            35,
            35,
            28,
            35,
            42,
            31,
            32,
            30,
            39,
            37,
            29,
            33,
            33,
            36,
            23,
            35,
            44,
            41,
            34,
            30,
            36,
            47,
            37,
            34,
            30,
            22,
            44,
            35,
            34,
            34,
            38,
            37,
            42,
            28,
            41,
            40,
            30,
            42,
            32,
            40,
            29,
            36,
            34,
            32,
            39,
            36,
            34,
            39,
            40,
            34,
            37,
            28,
            38
           ]
          },
          {
           "label": "Hb",
           "values": [
            70,
            139,
            124,
            125,
            134,
            123,
            134,
            130,
            119,
            117,
            132,
            139,
            117,
            124,
            118,
            131,
            119,
            118,
            130,
            118,
            124,
            133,
            127,
            119,
            133,
            130,
            137,
            144,
            129,
            137,
            123,
            119,
            122,
            126,
            124,
            134,
            125,
            132,
            126,
            125,
            131,
            105,
            138,
            135,
            127,
            129,
            126,
            136,
            115,
            114,
            118,
            137,
            147,
            119,
            121,
            139,
            129,
            130,
            129,
            117,
            131,
            143,
            140,
            122,
            140,
            122,
            129,
            125,
            118,
            139,
            134,
            122,
            127,
            130,
            124,
            137,
            117,
            120,
            117,
            129,
            133,
            117,
            144,
            125,
            133,
            128,
            129,
            143,
            130,
            139,
            117,
            115,
            135,
            129,
            132,
            111,
            131,
            143,
            103,
            150,
            126,
            112,
            114,
            122,
            136,
            132,
            127,
            130,
            118,
            139,
            131,
            93,
            130,
            112,
            137,
            132,
            133,
            124,
            147,
            134,
            110,
            126,
            134,
            137,
            135,
            128,
            120,
            131,
            104,
            115,
            130,
            117,
            124,
            128,
            118,
            99,
            136,
            134,
            122,
            135,
            141,
            134,
            130,
            129,
            119,
            136,
            130,
            127,
            143,
            137,
            120,
            126,
            124,
            121
           ]
          },
          {
           "label": "ALT",
           "values": [
            null,
            null,
            null,
            null,
            null,
            null,
            null,
            null,
            null,
            null,
            null,
            null,
            null,
            null,
            null,
            null,
            null,
            null,
            null,
            null,
            null,
            null,
            null,
            null,
            null,
            null,
            null,
            null,
            null,
            null,
            null,
            null,
            null,
            null,
            null,
            39,
            25,
            33,
            18,
            31,
            21,
            15,
            24,
            14,
            67,
            36,
            null,
            24,
            24,
            22,
            56,
            27,
            23,
            13,
            11,
            39,
            38,
            41,
            16,
            32,
            53,
            17,
            29,
            26,
            34,
            27,
            23,
            12,
            21,
            52,
            24,
            23,
            22,
            67,
            18,
            30,
            44,
            null,
            null,
            null,
            69,
            25,
            53,
            26,
            30,
            21,
            30,
            37,
            29,
            18,
            28,
            10,
            64,
            28,
            28,
            1.7,
            13,
            23,
            18,
            33,
            82,
            10,
            41,
            22,
            26,
            8,
            null,
            19,
            41,
            31,
            32,
            9,
            20,
            13,
            27,
            15,
            29,
            39,
            19,
            47,
            20,
            15,
            30,
            60,
            38,
            19,
            12,
            126,
            25,
            34,
            18,
            40,
            75,
            26,
            25,
            17,
            26,
            90,
            56,
            29,
            89,
            21,
            17,
            11,
            123,
            29,
            52,
            85,
            25,
            25,
            19,
            73,
            59,
            20
           ]
          },
          {
           "label": "ACR",
           "values": [
            9.3,
            91.3,
            0,
            12.1,
            8.2,
            0,
            14.9,
            7.5,
            1.6,
            1.3,
            0.4,
            0,
            0.8,
            0,
            0.5,
            1.2,
            3.2,
            0.3,
            1.3,
            0.6,
            5.5,
            1,
            0.4,
            1.6,
            3.3,
            3.3,
            0.9,
            1.9,
            2.2,
            1.4,
            1.7,
            1,
            15.5,
            1.3,
            1.7,
            48.5,
            0.6,
            1.1,
            1,
            5.8,
            0.3,
            null,
            0,
            0.7,
            1,
            2,
            0.6,
            0.9,
            null,
            0.6,
            1.1,
            0,
            7.3,
            0.5,
            2.3,
            0.7,
            3.1,
            0.4,
            null,
            2.5,
            2.6,
            1.5,
            0,
            2.5,
            0.6,
            0,
            7.3,
            0.9,
            1.1,
            0.6,
            0.7,
            2,
            1.7,
            1.3,
            9,
            6.5,
            3.2,
            0.7,
            0.3,
            2.7,
            9.3,
            1.5,
            0.5,
            0,
            0,
            0.7,
            4.8,
            1,
            0,
            30.7,
            0.5,
            1,
            1.4,
            1.4,
            null,
            3.9,
            5.9,
            1,
            1.3,
            2,
            8.3,
            5.2,
            0.5,
            0.6,
            4.2,
            3.6,
            1.3,
            3.1,
            2.4,
            5.3,
            1.9,
            0.8,
            7.4,
            0.4,
            3.1,
            0.3,
            0,
            1.3,
            2.2,
            1.5,
            0.4,
            1.9,
            0.8,
            4.7,
            1.3,
            0.6,
            1.7,
            1.7,
            0.9,
            1,
            0,
            3.4,
            4.5,
            6.6,
            1.5,
            1.7,
            8.8,
            1.2,
            1.9,
            10.7,
            2.7,
            1,
            5,
            2.4,
            4.5,
            2.1,
            1.1,
            1.6,
            1.5,
            1.9,
            2.6,
            1.4,
            1.9,
            1.4
           ]
          },
          {
           "label": "MAP",
           "values": [
            83.25,
            93.33333333333333,
            91.5,
            110.16666666666667,
            81.16666666666667,
            93.08333333333333,
            101.33333333333333,
            80.41666666666667,
            90,
            140.58333333333334,
            90.5,
            88.41666666666667,
            102,
            87.16666666666667,
            87.83333333333333,
            96.5,
            85.83333333333333,
            89,
            112.25,
            83.16666666666667,
            90.33333333333333,
            85.83333333333333,
            91.41666666666667,
            87.41666666666667,
            81.66666666666667,
            103.58333333333333,
            90.33333333333333,
            86.91666666666667,
            81.33333333333333,
            81.08333333333333,
            96.75,
            92.16666666666667,
            83,
            101.91666666666667,
            88.83333333333333,
            103.41666666666667,
            96.5,
            87.25,
            84.83333333333333,
            105.41666666666667,
            81.16666666666667,
            89.75,
            80,
            89.83333333333333,
            91.16666666666667,
            90,
            93.25,
            78.16666666666667,
            78.16666666666667,
            105.83333333333333,
            93.16666666666667,
            87.33333333333333,
            94.75,
            89.08333333333333,
            89.5,
            95.58333333333333,
            82.83333333333333,
            78.16666666666667,
            86.33333333333333,
            106.33333333333333,
            93.16666666666667,
            93.66666666666667,
            86.75,
            88.83333333333333,
            78.66666666666667,
            73.66666666666667,
            88.16666666666667,
            94.58333333333333,
            106.33333333333333,
            97.58333333333333,
            80.83333333333333,
            87.75,
            82.25,
            85.33333333333333,
            95.75,
            91.08333333333333,
            83.91666666666667,
            94.66666666666667,
            101.5,
            89.66666666666667,
            100.5,
            89.58333333333333,
            95.58333333333333,
            85.5,
            90.25,
            82,
            91.41666666666667,
            86.5,
            72.25,
            86.83333333333333,
            85,
            88.16666666666667,
            81.91666666666667,
            89,
            85.16666666666667,
            88.5,
            82.66666666666667,
            83.16666666666667,
            81.83333333333333,
            78.66666666666667,
            96.83333333333333,
            94.41666666666667,
            82.83333333333333,
            84.5,
            81.08333333333333,
            82.83333333333333,
            77.58333333333333,
            94.25,
            93.58333333333333,
            89.33333333333333,
            99.16666666666667,
            95.75,
            94.16666666666667,
            96,
            85.83333333333333,
            75.41666666666667,
            84.83333333333333,
            91.83333333333333,
            88.91666666666667,
            91.25,
            84.83333333333333,
            85.66666666666667,
            77.75,
            93.41666666666667,
            77.5,
            93.75,
            89.33333333333333,
            83,
            85.41666666666667,
            96.33333333333333,
            81.75,
            82.91666666666667,
            84.91666666666667,
            94.41666666666667,
            78.41666666666667,
            72.75,
            84.33333333333333,
            78.5,
            89.83333333333333,
            102.16666666666667,
            93.83333333333333,
            75.66666666666667,
            77.66666666666667,
            97.41666666666667,
            79.5,
            74.75,
            79.08333333333333,
            97,
            105.33333333333333,
            96.16666666666667,
            84.33333333333333,
            75,
            90.33333333333333,
            90.66666666666667
           ]
          }
         ],
         "marker": {
          "color": "#555A44",
          "line": {
           "color": "white",
           "width": 0.5
          },
          "showscale": false
         },
         "name": "39 - 47",
         "type": "splom"
        },
        {
         "diagonal": {
          "visible": false
         },
         "dimensions": [
          {
           "label": "HbA1C",
           "values": [
            54,
            47,
            48,
            47,
            49,
            47,
            47
           ]
          },
          {
           "label": "eGFR",
           "values": [
            133.4816906993428,
            109.64352824610829,
            120.49695478060238,
            77.19853104235135,
            144.64827704091908,
            114.4239515928954,
            115.181242654728
           ]
          },
          {
           "label": "Age",
           "values": [
            32,
            39,
            37,
            33,
            32,
            37,
            38
           ]
          },
          {
           "label": "Hb",
           "values": [
            129,
            137,
            129,
            122,
            138,
            130,
            143
           ]
          },
          {
           "label": "ALT",
           "values": [
            null,
            67,
            21,
            21,
            32,
            24,
            23
           ]
          },
          {
           "label": "ACR",
           "values": [
            0.5,
            3.2,
            5.2,
            1.5,
            3.2,
            1.3,
            1
           ]
          },
          {
           "label": "MAP",
           "values": [
            90.08333333333333,
            87.5,
            111.66666666666667,
            86.83333333333333,
            84.16666666666667,
            94.25,
            99
           ]
          }
         ],
         "marker": {
          "color": "#b7410e",
          "line": {
           "color": "white",
           "width": 0.5
          },
          "showscale": false
         },
         "name": "> 48",
         "type": "splom"
        }
       ],
       "layout": {
        "height": 1000,
        "plot_bgcolor": "#ececec",
        "showlegend": true,
        "template": {
         "data": {
          "bar": [
           {
            "error_x": {
             "color": "#2a3f5f"
            },
            "error_y": {
             "color": "#2a3f5f"
            },
            "marker": {
             "line": {
              "color": "#E5ECF6",
              "width": 0.5
             },
             "pattern": {
              "fillmode": "overlay",
              "size": 10,
              "solidity": 0.2
             }
            },
            "type": "bar"
           }
          ],
          "barpolar": [
           {
            "marker": {
             "line": {
              "color": "#E5ECF6",
              "width": 0.5
             },
             "pattern": {
              "fillmode": "overlay",
              "size": 10,
              "solidity": 0.2
             }
            },
            "type": "barpolar"
           }
          ],
          "carpet": [
           {
            "aaxis": {
             "endlinecolor": "#2a3f5f",
             "gridcolor": "white",
             "linecolor": "white",
             "minorgridcolor": "white",
             "startlinecolor": "#2a3f5f"
            },
            "baxis": {
             "endlinecolor": "#2a3f5f",
             "gridcolor": "white",
             "linecolor": "white",
             "minorgridcolor": "white",
             "startlinecolor": "#2a3f5f"
            },
            "type": "carpet"
           }
          ],
          "choropleth": [
           {
            "colorbar": {
             "outlinewidth": 0,
             "ticks": ""
            },
            "type": "choropleth"
           }
          ],
          "contour": [
           {
            "colorbar": {
             "outlinewidth": 0,
             "ticks": ""
            },
            "colorscale": [
             [
              0,
              "#0d0887"
             ],
             [
              0.1111111111111111,
              "#46039f"
             ],
             [
              0.2222222222222222,
              "#7201a8"
             ],
             [
              0.3333333333333333,
              "#9c179e"
             ],
             [
              0.4444444444444444,
              "#bd3786"
             ],
             [
              0.5555555555555556,
              "#d8576b"
             ],
             [
              0.6666666666666666,
              "#ed7953"
             ],
             [
              0.7777777777777778,
              "#fb9f3a"
             ],
             [
              0.8888888888888888,
              "#fdca26"
             ],
             [
              1,
              "#f0f921"
             ]
            ],
            "type": "contour"
           }
          ],
          "contourcarpet": [
           {
            "colorbar": {
             "outlinewidth": 0,
             "ticks": ""
            },
            "type": "contourcarpet"
           }
          ],
          "heatmap": [
           {
            "colorbar": {
             "outlinewidth": 0,
             "ticks": ""
            },
            "colorscale": [
             [
              0,
              "#0d0887"
             ],
             [
              0.1111111111111111,
              "#46039f"
             ],
             [
              0.2222222222222222,
              "#7201a8"
             ],
             [
              0.3333333333333333,
              "#9c179e"
             ],
             [
              0.4444444444444444,
              "#bd3786"
             ],
             [
              0.5555555555555556,
              "#d8576b"
             ],
             [
              0.6666666666666666,
              "#ed7953"
             ],
             [
              0.7777777777777778,
              "#fb9f3a"
             ],
             [
              0.8888888888888888,
              "#fdca26"
             ],
             [
              1,
              "#f0f921"
             ]
            ],
            "type": "heatmap"
           }
          ],
          "heatmapgl": [
           {
            "colorbar": {
             "outlinewidth": 0,
             "ticks": ""
            },
            "colorscale": [
             [
              0,
              "#0d0887"
             ],
             [
              0.1111111111111111,
              "#46039f"
             ],
             [
              0.2222222222222222,
              "#7201a8"
             ],
             [
              0.3333333333333333,
              "#9c179e"
             ],
             [
              0.4444444444444444,
              "#bd3786"
             ],
             [
              0.5555555555555556,
              "#d8576b"
             ],
             [
              0.6666666666666666,
              "#ed7953"
             ],
             [
              0.7777777777777778,
              "#fb9f3a"
             ],
             [
              0.8888888888888888,
              "#fdca26"
             ],
             [
              1,
              "#f0f921"
             ]
            ],
            "type": "heatmapgl"
           }
          ],
          "histogram": [
           {
            "marker": {
             "pattern": {
              "fillmode": "overlay",
              "size": 10,
              "solidity": 0.2
             }
            },
            "type": "histogram"
           }
          ],
          "histogram2d": [
           {
            "colorbar": {
             "outlinewidth": 0,
             "ticks": ""
            },
            "colorscale": [
             [
              0,
              "#0d0887"
             ],
             [
              0.1111111111111111,
              "#46039f"
             ],
             [
              0.2222222222222222,
              "#7201a8"
             ],
             [
              0.3333333333333333,
              "#9c179e"
             ],
             [
              0.4444444444444444,
              "#bd3786"
             ],
             [
              0.5555555555555556,
              "#d8576b"
             ],
             [
              0.6666666666666666,
              "#ed7953"
             ],
             [
              0.7777777777777778,
              "#fb9f3a"
             ],
             [
              0.8888888888888888,
              "#fdca26"
             ],
             [
              1,
              "#f0f921"
             ]
            ],
            "type": "histogram2d"
           }
          ],
          "histogram2dcontour": [
           {
            "colorbar": {
             "outlinewidth": 0,
             "ticks": ""
            },
            "colorscale": [
             [
              0,
              "#0d0887"
             ],
             [
              0.1111111111111111,
              "#46039f"
             ],
             [
              0.2222222222222222,
              "#7201a8"
             ],
             [
              0.3333333333333333,
              "#9c179e"
             ],
             [
              0.4444444444444444,
              "#bd3786"
             ],
             [
              0.5555555555555556,
              "#d8576b"
             ],
             [
              0.6666666666666666,
              "#ed7953"
             ],
             [
              0.7777777777777778,
              "#fb9f3a"
             ],
             [
              0.8888888888888888,
              "#fdca26"
             ],
             [
              1,
              "#f0f921"
             ]
            ],
            "type": "histogram2dcontour"
           }
          ],
          "mesh3d": [
           {
            "colorbar": {
             "outlinewidth": 0,
             "ticks": ""
            },
            "type": "mesh3d"
           }
          ],
          "parcoords": [
           {
            "line": {
             "colorbar": {
              "outlinewidth": 0,
              "ticks": ""
             }
            },
            "type": "parcoords"
           }
          ],
          "pie": [
           {
            "automargin": true,
            "type": "pie"
           }
          ],
          "scatter": [
           {
            "fillpattern": {
             "fillmode": "overlay",
             "size": 10,
             "solidity": 0.2
            },
            "type": "scatter"
           }
          ],
          "scatter3d": [
           {
            "line": {
             "colorbar": {
              "outlinewidth": 0,
              "ticks": ""
             }
            },
            "marker": {
             "colorbar": {
              "outlinewidth": 0,
              "ticks": ""
             }
            },
            "type": "scatter3d"
           }
          ],
          "scattercarpet": [
           {
            "marker": {
             "colorbar": {
              "outlinewidth": 0,
              "ticks": ""
             }
            },
            "type": "scattercarpet"
           }
          ],
          "scattergeo": [
           {
            "marker": {
             "colorbar": {
              "outlinewidth": 0,
              "ticks": ""
             }
            },
            "type": "scattergeo"
           }
          ],
          "scattergl": [
           {
            "marker": {
             "colorbar": {
              "outlinewidth": 0,
              "ticks": ""
             }
            },
            "type": "scattergl"
           }
          ],
          "scattermapbox": [
           {
            "marker": {
             "colorbar": {
              "outlinewidth": 0,
              "ticks": ""
             }
            },
            "type": "scattermapbox"
           }
          ],
          "scatterpolar": [
           {
            "marker": {
             "colorbar": {
              "outlinewidth": 0,
              "ticks": ""
             }
            },
            "type": "scatterpolar"
           }
          ],
          "scatterpolargl": [
           {
            "marker": {
             "colorbar": {
              "outlinewidth": 0,
              "ticks": ""
             }
            },
            "type": "scatterpolargl"
           }
          ],
          "scatterternary": [
           {
            "marker": {
             "colorbar": {
              "outlinewidth": 0,
              "ticks": ""
             }
            },
            "type": "scatterternary"
           }
          ],
          "surface": [
           {
            "colorbar": {
             "outlinewidth": 0,
             "ticks": ""
            },
            "colorscale": [
             [
              0,
              "#0d0887"
             ],
             [
              0.1111111111111111,
              "#46039f"
             ],
             [
              0.2222222222222222,
              "#7201a8"
             ],
             [
              0.3333333333333333,
              "#9c179e"
             ],
             [
              0.4444444444444444,
              "#bd3786"
             ],
             [
              0.5555555555555556,
              "#d8576b"
             ],
             [
              0.6666666666666666,
              "#ed7953"
             ],
             [
              0.7777777777777778,
              "#fb9f3a"
             ],
             [
              0.8888888888888888,
              "#fdca26"
             ],
             [
              1,
              "#f0f921"
             ]
            ],
            "type": "surface"
           }
          ],
          "table": [
           {
            "cells": {
             "fill": {
              "color": "#EBF0F8"
             },
             "line": {
              "color": "white"
             }
            },
            "header": {
             "fill": {
              "color": "#C8D4E3"
             },
             "line": {
              "color": "white"
             }
            },
            "type": "table"
           }
          ]
         },
         "layout": {
          "annotationdefaults": {
           "arrowcolor": "#2a3f5f",
           "arrowhead": 0,
           "arrowwidth": 1
          },
          "autotypenumbers": "strict",
          "coloraxis": {
           "colorbar": {
            "outlinewidth": 0,
            "ticks": ""
           }
          },
          "colorscale": {
           "diverging": [
            [
             0,
             "#8e0152"
            ],
            [
             0.1,
             "#c51b7d"
            ],
            [
             0.2,
             "#de77ae"
            ],
            [
             0.3,
             "#f1b6da"
            ],
            [
             0.4,
             "#fde0ef"
            ],
            [
             0.5,
             "#f7f7f7"
            ],
            [
             0.6,
             "#e6f5d0"
            ],
            [
             0.7,
             "#b8e186"
            ],
            [
             0.8,
             "#7fbc41"
            ],
            [
             0.9,
             "#4d9221"
            ],
            [
             1,
             "#276419"
            ]
           ],
           "sequential": [
            [
             0,
             "#0d0887"
            ],
            [
             0.1111111111111111,
             "#46039f"
            ],
            [
             0.2222222222222222,
             "#7201a8"
            ],
            [
             0.3333333333333333,
             "#9c179e"
            ],
            [
             0.4444444444444444,
             "#bd3786"
            ],
            [
             0.5555555555555556,
             "#d8576b"
            ],
            [
             0.6666666666666666,
             "#ed7953"
            ],
            [
             0.7777777777777778,
             "#fb9f3a"
            ],
            [
             0.8888888888888888,
             "#fdca26"
            ],
            [
             1,
             "#f0f921"
            ]
           ],
           "sequentialminus": [
            [
             0,
             "#0d0887"
            ],
            [
             0.1111111111111111,
             "#46039f"
            ],
            [
             0.2222222222222222,
             "#7201a8"
            ],
            [
             0.3333333333333333,
             "#9c179e"
            ],
            [
             0.4444444444444444,
             "#bd3786"
            ],
            [
             0.5555555555555556,
             "#d8576b"
            ],
            [
             0.6666666666666666,
             "#ed7953"
            ],
            [
             0.7777777777777778,
             "#fb9f3a"
            ],
            [
             0.8888888888888888,
             "#fdca26"
            ],
            [
             1,
             "#f0f921"
            ]
           ]
          },
          "colorway": [
           "#636efa",
           "#EF553B",
           "#00cc96",
           "#ab63fa",
           "#FFA15A",
           "#19d3f3",
           "#FF6692",
           "#B6E880",
           "#FF97FF",
           "#FECB52"
          ],
          "font": {
           "color": "#2a3f5f"
          },
          "geo": {
           "bgcolor": "white",
           "lakecolor": "white",
           "landcolor": "#E5ECF6",
           "showlakes": true,
           "showland": true,
           "subunitcolor": "white"
          },
          "hoverlabel": {
           "align": "left"
          },
          "hovermode": "closest",
          "mapbox": {
           "style": "light"
          },
          "paper_bgcolor": "white",
          "plot_bgcolor": "#E5ECF6",
          "polar": {
           "angularaxis": {
            "gridcolor": "white",
            "linecolor": "white",
            "ticks": ""
           },
           "bgcolor": "#E5ECF6",
           "radialaxis": {
            "gridcolor": "white",
            "linecolor": "white",
            "ticks": ""
           }
          },
          "scene": {
           "xaxis": {
            "backgroundcolor": "#E5ECF6",
            "gridcolor": "white",
            "gridwidth": 2,
            "linecolor": "white",
            "showbackground": true,
            "ticks": "",
            "zerolinecolor": "white"
           },
           "yaxis": {
            "backgroundcolor": "#E5ECF6",
            "gridcolor": "white",
            "gridwidth": 2,
            "linecolor": "white",
            "showbackground": true,
            "ticks": "",
            "zerolinecolor": "white"
           },
           "zaxis": {
            "backgroundcolor": "#E5ECF6",
            "gridcolor": "white",
            "gridwidth": 2,
            "linecolor": "white",
            "showbackground": true,
            "ticks": "",
            "zerolinecolor": "white"
           }
          },
          "shapedefaults": {
           "line": {
            "color": "#2a3f5f"
           }
          },
          "ternary": {
           "aaxis": {
            "gridcolor": "white",
            "linecolor": "white",
            "ticks": ""
           },
           "baxis": {
            "gridcolor": "white",
            "linecolor": "white",
            "ticks": ""
           },
           "bgcolor": "#E5ECF6",
           "caxis": {
            "gridcolor": "white",
            "linecolor": "white",
            "ticks": ""
           }
          },
          "title": {
           "x": 0.05
          },
          "xaxis": {
           "automargin": true,
           "gridcolor": "white",
           "linecolor": "white",
           "ticks": "",
           "title": {
            "standoff": 15
           },
           "zerolinecolor": "white",
           "zerolinewidth": 2
          },
          "yaxis": {
           "automargin": true,
           "gridcolor": "white",
           "linecolor": "white",
           "ticks": "",
           "title": {
            "standoff": 15
           },
           "zerolinecolor": "white",
           "zerolinewidth": 2
          }
         }
        },
        "title": {
         "text": "HbA1C Relationships<br><sup><i>(n=382)</i></sup>",
         "x": 0,
         "xref": "paper"
        },
        "width": 1000
       }
      }
     },
     "metadata": {},
     "output_type": "display_data"
    },
    {
     "data": {
      "application/vnd.plotly.v1+json": {
       "config": {
        "plotlyServerURL": "https://plot.ly"
       },
       "data": [
        {
         "colorscale": [
          [
           0,
           "rgb(5,48,97)"
          ],
          [
           0.1,
           "rgb(33,102,172)"
          ],
          [
           0.2,
           "rgb(67,147,195)"
          ],
          [
           0.3,
           "rgb(146,197,222)"
          ],
          [
           0.4,
           "rgb(209,229,240)"
          ],
          [
           0.5,
           "rgb(247,247,247)"
          ],
          [
           0.6,
           "rgb(253,219,199)"
          ],
          [
           0.7,
           "rgb(244,165,130)"
          ],
          [
           0.8,
           "rgb(214,96,77)"
          ],
          [
           0.9,
           "rgb(178,24,43)"
          ],
          [
           1,
           "rgb(103,0,31)"
          ]
         ],
         "hoverongaps": true,
         "text": [
          [
           1,
           -0.0247,
           0.0898,
           0.1223,
           0.0035,
           -0.007,
           0.0907
          ],
          [
           -0.0247,
           1,
           -0.2897,
           -0.1247,
           -0.0288,
           0.1655,
           -0.0296
          ],
          [
           0.0898,
           -0.2897,
           1,
           0.1567,
           0.1287,
           -0.0436,
           0.1042
          ],
          [
           0.1223,
           -0.1247,
           0.1567,
           1,
           0.2398,
           -0.0293,
           -0.0079
          ],
          [
           0.0035,
           -0.0288,
           0.1287,
           0.2398,
           1,
           -0.0489,
           0.0112
          ],
          [
           -0.007,
           0.1655,
           -0.0436,
           -0.0293,
           -0.0489,
           1,
           0.1066
          ],
          [
           0.0907,
           -0.0296,
           0.1042,
           -0.0079,
           0.0112,
           0.1066,
           1
          ]
         ],
         "texttemplate": "%{text}",
         "type": "heatmap",
         "x": [
          "HbA1C",
          "eGFR",
          "Age",
          "Hb",
          "ALT",
          "ACR",
          "MAP"
         ],
         "y": [
          "HbA1C",
          "eGFR",
          "Age",
          "Hb",
          "ALT",
          "ACR",
          "MAP"
         ],
         "z": [
          [
           1,
           -0.0247,
           0.0898,
           0.1223,
           0.0035,
           -0.007,
           0.0907
          ],
          [
           -0.0247,
           1,
           -0.2897,
           -0.1247,
           -0.0288,
           0.1655,
           -0.0296
          ],
          [
           0.0898,
           -0.2897,
           1,
           0.1567,
           0.1287,
           -0.0436,
           0.1042
          ],
          [
           0.1223,
           -0.1247,
           0.1567,
           1,
           0.2398,
           -0.0293,
           -0.0079
          ],
          [
           0.0035,
           -0.0288,
           0.1287,
           0.2398,
           1,
           -0.0489,
           0.0112
          ],
          [
           -0.007,
           0.1655,
           -0.0436,
           -0.0293,
           -0.0489,
           1,
           0.1066
          ],
          [
           0.0907,
           -0.0296,
           0.1042,
           -0.0079,
           0.0112,
           0.1066,
           1
          ]
         ]
        }
       ],
       "layout": {
        "showlegend": false,
        "template": {
         "data": {
          "bar": [
           {
            "error_x": {
             "color": "#2a3f5f"
            },
            "error_y": {
             "color": "#2a3f5f"
            },
            "marker": {
             "line": {
              "color": "#E5ECF6",
              "width": 0.5
             },
             "pattern": {
              "fillmode": "overlay",
              "size": 10,
              "solidity": 0.2
             }
            },
            "type": "bar"
           }
          ],
          "barpolar": [
           {
            "marker": {
             "line": {
              "color": "#E5ECF6",
              "width": 0.5
             },
             "pattern": {
              "fillmode": "overlay",
              "size": 10,
              "solidity": 0.2
             }
            },
            "type": "barpolar"
           }
          ],
          "carpet": [
           {
            "aaxis": {
             "endlinecolor": "#2a3f5f",
             "gridcolor": "white",
             "linecolor": "white",
             "minorgridcolor": "white",
             "startlinecolor": "#2a3f5f"
            },
            "baxis": {
             "endlinecolor": "#2a3f5f",
             "gridcolor": "white",
             "linecolor": "white",
             "minorgridcolor": "white",
             "startlinecolor": "#2a3f5f"
            },
            "type": "carpet"
           }
          ],
          "choropleth": [
           {
            "colorbar": {
             "outlinewidth": 0,
             "ticks": ""
            },
            "type": "choropleth"
           }
          ],
          "contour": [
           {
            "colorbar": {
             "outlinewidth": 0,
             "ticks": ""
            },
            "colorscale": [
             [
              0,
              "#0d0887"
             ],
             [
              0.1111111111111111,
              "#46039f"
             ],
             [
              0.2222222222222222,
              "#7201a8"
             ],
             [
              0.3333333333333333,
              "#9c179e"
             ],
             [
              0.4444444444444444,
              "#bd3786"
             ],
             [
              0.5555555555555556,
              "#d8576b"
             ],
             [
              0.6666666666666666,
              "#ed7953"
             ],
             [
              0.7777777777777778,
              "#fb9f3a"
             ],
             [
              0.8888888888888888,
              "#fdca26"
             ],
             [
              1,
              "#f0f921"
             ]
            ],
            "type": "contour"
           }
          ],
          "contourcarpet": [
           {
            "colorbar": {
             "outlinewidth": 0,
             "ticks": ""
            },
            "type": "contourcarpet"
           }
          ],
          "heatmap": [
           {
            "colorbar": {
             "outlinewidth": 0,
             "ticks": ""
            },
            "colorscale": [
             [
              0,
              "#0d0887"
             ],
             [
              0.1111111111111111,
              "#46039f"
             ],
             [
              0.2222222222222222,
              "#7201a8"
             ],
             [
              0.3333333333333333,
              "#9c179e"
             ],
             [
              0.4444444444444444,
              "#bd3786"
             ],
             [
              0.5555555555555556,
              "#d8576b"
             ],
             [
              0.6666666666666666,
              "#ed7953"
             ],
             [
              0.7777777777777778,
              "#fb9f3a"
             ],
             [
              0.8888888888888888,
              "#fdca26"
             ],
             [
              1,
              "#f0f921"
             ]
            ],
            "type": "heatmap"
           }
          ],
          "heatmapgl": [
           {
            "colorbar": {
             "outlinewidth": 0,
             "ticks": ""
            },
            "colorscale": [
             [
              0,
              "#0d0887"
             ],
             [
              0.1111111111111111,
              "#46039f"
             ],
             [
              0.2222222222222222,
              "#7201a8"
             ],
             [
              0.3333333333333333,
              "#9c179e"
             ],
             [
              0.4444444444444444,
              "#bd3786"
             ],
             [
              0.5555555555555556,
              "#d8576b"
             ],
             [
              0.6666666666666666,
              "#ed7953"
             ],
             [
              0.7777777777777778,
              "#fb9f3a"
             ],
             [
              0.8888888888888888,
              "#fdca26"
             ],
             [
              1,
              "#f0f921"
             ]
            ],
            "type": "heatmapgl"
           }
          ],
          "histogram": [
           {
            "marker": {
             "pattern": {
              "fillmode": "overlay",
              "size": 10,
              "solidity": 0.2
             }
            },
            "type": "histogram"
           }
          ],
          "histogram2d": [
           {
            "colorbar": {
             "outlinewidth": 0,
             "ticks": ""
            },
            "colorscale": [
             [
              0,
              "#0d0887"
             ],
             [
              0.1111111111111111,
              "#46039f"
             ],
             [
              0.2222222222222222,
              "#7201a8"
             ],
             [
              0.3333333333333333,
              "#9c179e"
             ],
             [
              0.4444444444444444,
              "#bd3786"
             ],
             [
              0.5555555555555556,
              "#d8576b"
             ],
             [
              0.6666666666666666,
              "#ed7953"
             ],
             [
              0.7777777777777778,
              "#fb9f3a"
             ],
             [
              0.8888888888888888,
              "#fdca26"
             ],
             [
              1,
              "#f0f921"
             ]
            ],
            "type": "histogram2d"
           }
          ],
          "histogram2dcontour": [
           {
            "colorbar": {
             "outlinewidth": 0,
             "ticks": ""
            },
            "colorscale": [
             [
              0,
              "#0d0887"
             ],
             [
              0.1111111111111111,
              "#46039f"
             ],
             [
              0.2222222222222222,
              "#7201a8"
             ],
             [
              0.3333333333333333,
              "#9c179e"
             ],
             [
              0.4444444444444444,
              "#bd3786"
             ],
             [
              0.5555555555555556,
              "#d8576b"
             ],
             [
              0.6666666666666666,
              "#ed7953"
             ],
             [
              0.7777777777777778,
              "#fb9f3a"
             ],
             [
              0.8888888888888888,
              "#fdca26"
             ],
             [
              1,
              "#f0f921"
             ]
            ],
            "type": "histogram2dcontour"
           }
          ],
          "mesh3d": [
           {
            "colorbar": {
             "outlinewidth": 0,
             "ticks": ""
            },
            "type": "mesh3d"
           }
          ],
          "parcoords": [
           {
            "line": {
             "colorbar": {
              "outlinewidth": 0,
              "ticks": ""
             }
            },
            "type": "parcoords"
           }
          ],
          "pie": [
           {
            "automargin": true,
            "type": "pie"
           }
          ],
          "scatter": [
           {
            "fillpattern": {
             "fillmode": "overlay",
             "size": 10,
             "solidity": 0.2
            },
            "type": "scatter"
           }
          ],
          "scatter3d": [
           {
            "line": {
             "colorbar": {
              "outlinewidth": 0,
              "ticks": ""
             }
            },
            "marker": {
             "colorbar": {
              "outlinewidth": 0,
              "ticks": ""
             }
            },
            "type": "scatter3d"
           }
          ],
          "scattercarpet": [
           {
            "marker": {
             "colorbar": {
              "outlinewidth": 0,
              "ticks": ""
             }
            },
            "type": "scattercarpet"
           }
          ],
          "scattergeo": [
           {
            "marker": {
             "colorbar": {
              "outlinewidth": 0,
              "ticks": ""
             }
            },
            "type": "scattergeo"
           }
          ],
          "scattergl": [
           {
            "marker": {
             "colorbar": {
              "outlinewidth": 0,
              "ticks": ""
             }
            },
            "type": "scattergl"
           }
          ],
          "scattermapbox": [
           {
            "marker": {
             "colorbar": {
              "outlinewidth": 0,
              "ticks": ""
             }
            },
            "type": "scattermapbox"
           }
          ],
          "scatterpolar": [
           {
            "marker": {
             "colorbar": {
              "outlinewidth": 0,
              "ticks": ""
             }
            },
            "type": "scatterpolar"
           }
          ],
          "scatterpolargl": [
           {
            "marker": {
             "colorbar": {
              "outlinewidth": 0,
              "ticks": ""
             }
            },
            "type": "scatterpolargl"
           }
          ],
          "scatterternary": [
           {
            "marker": {
             "colorbar": {
              "outlinewidth": 0,
              "ticks": ""
             }
            },
            "type": "scatterternary"
           }
          ],
          "surface": [
           {
            "colorbar": {
             "outlinewidth": 0,
             "ticks": ""
            },
            "colorscale": [
             [
              0,
              "#0d0887"
             ],
             [
              0.1111111111111111,
              "#46039f"
             ],
             [
              0.2222222222222222,
              "#7201a8"
             ],
             [
              0.3333333333333333,
              "#9c179e"
             ],
             [
              0.4444444444444444,
              "#bd3786"
             ],
             [
              0.5555555555555556,
              "#d8576b"
             ],
             [
              0.6666666666666666,
              "#ed7953"
             ],
             [
              0.7777777777777778,
              "#fb9f3a"
             ],
             [
              0.8888888888888888,
              "#fdca26"
             ],
             [
              1,
              "#f0f921"
             ]
            ],
            "type": "surface"
           }
          ],
          "table": [
           {
            "cells": {
             "fill": {
              "color": "#EBF0F8"
             },
             "line": {
              "color": "white"
             }
            },
            "header": {
             "fill": {
              "color": "#C8D4E3"
             },
             "line": {
              "color": "white"
             }
            },
            "type": "table"
           }
          ]
         },
         "layout": {
          "annotationdefaults": {
           "arrowcolor": "#2a3f5f",
           "arrowhead": 0,
           "arrowwidth": 1
          },
          "autotypenumbers": "strict",
          "coloraxis": {
           "colorbar": {
            "outlinewidth": 0,
            "ticks": ""
           }
          },
          "colorscale": {
           "diverging": [
            [
             0,
             "#8e0152"
            ],
            [
             0.1,
             "#c51b7d"
            ],
            [
             0.2,
             "#de77ae"
            ],
            [
             0.3,
             "#f1b6da"
            ],
            [
             0.4,
             "#fde0ef"
            ],
            [
             0.5,
             "#f7f7f7"
            ],
            [
             0.6,
             "#e6f5d0"
            ],
            [
             0.7,
             "#b8e186"
            ],
            [
             0.8,
             "#7fbc41"
            ],
            [
             0.9,
             "#4d9221"
            ],
            [
             1,
             "#276419"
            ]
           ],
           "sequential": [
            [
             0,
             "#0d0887"
            ],
            [
             0.1111111111111111,
             "#46039f"
            ],
            [
             0.2222222222222222,
             "#7201a8"
            ],
            [
             0.3333333333333333,
             "#9c179e"
            ],
            [
             0.4444444444444444,
             "#bd3786"
            ],
            [
             0.5555555555555556,
             "#d8576b"
            ],
            [
             0.6666666666666666,
             "#ed7953"
            ],
            [
             0.7777777777777778,
             "#fb9f3a"
            ],
            [
             0.8888888888888888,
             "#fdca26"
            ],
            [
             1,
             "#f0f921"
            ]
           ],
           "sequentialminus": [
            [
             0,
             "#0d0887"
            ],
            [
             0.1111111111111111,
             "#46039f"
            ],
            [
             0.2222222222222222,
             "#7201a8"
            ],
            [
             0.3333333333333333,
             "#9c179e"
            ],
            [
             0.4444444444444444,
             "#bd3786"
            ],
            [
             0.5555555555555556,
             "#d8576b"
            ],
            [
             0.6666666666666666,
             "#ed7953"
            ],
            [
             0.7777777777777778,
             "#fb9f3a"
            ],
            [
             0.8888888888888888,
             "#fdca26"
            ],
            [
             1,
             "#f0f921"
            ]
           ]
          },
          "colorway": [
           "#636efa",
           "#EF553B",
           "#00cc96",
           "#ab63fa",
           "#FFA15A",
           "#19d3f3",
           "#FF6692",
           "#B6E880",
           "#FF97FF",
           "#FECB52"
          ],
          "font": {
           "color": "#2a3f5f"
          },
          "geo": {
           "bgcolor": "white",
           "lakecolor": "white",
           "landcolor": "#E5ECF6",
           "showlakes": true,
           "showland": true,
           "subunitcolor": "white"
          },
          "hoverlabel": {
           "align": "left"
          },
          "hovermode": "closest",
          "mapbox": {
           "style": "light"
          },
          "paper_bgcolor": "white",
          "plot_bgcolor": "#E5ECF6",
          "polar": {
           "angularaxis": {
            "gridcolor": "white",
            "linecolor": "white",
            "ticks": ""
           },
           "bgcolor": "#E5ECF6",
           "radialaxis": {
            "gridcolor": "white",
            "linecolor": "white",
            "ticks": ""
           }
          },
          "scene": {
           "xaxis": {
            "backgroundcolor": "#E5ECF6",
            "gridcolor": "white",
            "gridwidth": 2,
            "linecolor": "white",
            "showbackground": true,
            "ticks": "",
            "zerolinecolor": "white"
           },
           "yaxis": {
            "backgroundcolor": "#E5ECF6",
            "gridcolor": "white",
            "gridwidth": 2,
            "linecolor": "white",
            "showbackground": true,
            "ticks": "",
            "zerolinecolor": "white"
           },
           "zaxis": {
            "backgroundcolor": "#E5ECF6",
            "gridcolor": "white",
            "gridwidth": 2,
            "linecolor": "white",
            "showbackground": true,
            "ticks": "",
            "zerolinecolor": "white"
           }
          },
          "shapedefaults": {
           "line": {
            "color": "#2a3f5f"
           }
          },
          "ternary": {
           "aaxis": {
            "gridcolor": "white",
            "linecolor": "white",
            "ticks": ""
           },
           "baxis": {
            "gridcolor": "white",
            "linecolor": "white",
            "ticks": ""
           },
           "bgcolor": "#E5ECF6",
           "caxis": {
            "gridcolor": "white",
            "linecolor": "white",
            "ticks": ""
           }
          },
          "title": {
           "x": 0.05
          },
          "xaxis": {
           "automargin": true,
           "gridcolor": "white",
           "linecolor": "white",
           "ticks": "",
           "title": {
            "standoff": 15
           },
           "zerolinecolor": "white",
           "zerolinewidth": 2
          },
          "yaxis": {
           "automargin": true,
           "gridcolor": "white",
           "linecolor": "white",
           "ticks": "",
           "title": {
            "standoff": 15
           },
           "zerolinecolor": "white",
           "zerolinewidth": 2
          }
         }
        },
        "title": {
         "text": "Correlation matrix<br><sup><i>(n=382)</i></sup>"
        }
       }
      }
     },
     "metadata": {},
     "output_type": "display_data"
    },
    {
     "data": {
      "application/vnd.plotly.v1+json": {
       "config": {
        "plotlyServerURL": "https://plot.ly"
       },
       "data": [
        {
         "boxpoints": "all",
         "jitter": 0.3,
         "marker": {
          "color": "#172207"
         },
         "name": "WHITE",
         "notched": true,
         "pointpos": -1.8,
         "type": "box",
         "y": [
          37,
          35,
          37,
          39,
          30,
          36,
          40,
          37,
          31,
          31,
          36,
          33,
          36,
          35,
          34,
          36,
          32,
          29,
          36,
          34,
          39,
          35,
          36,
          35,
          39,
          35,
          36,
          36,
          35,
          35,
          36,
          36,
          37,
          28,
          31,
          39,
          33,
          31,
          39,
          37,
          38,
          41,
          36,
          38,
          41,
          34,
          34,
          34,
          34,
          35,
          32,
          32,
          29,
          34,
          40,
          37,
          29,
          35,
          32,
          40,
          38,
          31,
          34,
          35,
          34,
          39,
          31,
          39,
          34,
          38,
          39,
          31,
          40,
          36,
          37,
          41,
          35,
          37,
          36,
          31,
          41,
          33,
          35,
          37,
          33,
          36,
          48,
          41,
          38,
          37,
          37,
          32,
          35,
          40,
          33,
          39,
          41,
          41,
          36,
          34,
          40,
          41,
          42,
          32,
          40,
          36,
          39,
          33,
          36,
          34,
          41,
          38,
          42,
          34,
          34,
          43,
          34,
          43,
          37,
          26,
          36,
          40,
          36,
          33,
          37,
          34,
          39,
          37,
          40,
          44,
          42,
          34,
          36,
          37,
          40,
          38,
          40,
          41,
          35,
          42,
          39,
          37,
          35,
          35,
          40,
          34,
          39,
          47,
          33,
          36,
          31,
          32,
          34,
          38,
          39,
          36,
          40,
          34,
          40,
          35,
          39,
          33,
          39,
          38,
          35,
          38,
          40,
          38,
          40,
          39,
          37,
          34,
          36,
          37,
          36,
          37,
          37,
          35,
          39
         ]
        },
        {
         "boxpoints": "all",
         "jitter": 0.3,
         "marker": {
          "color": "#32471E"
         },
         "name": "MIXED",
         "notched": true,
         "pointpos": -1.8,
         "type": "box",
         "y": [
          39,
          35,
          33,
          41,
          37,
          34,
          33,
          32,
          38,
          37,
          39,
          39,
          36,
          40,
          34,
          35,
          37,
          40,
          32,
          43
         ]
        },
        {
         "boxpoints": "all",
         "jitter": 0.3,
         "marker": {
          "color": "#3E412A"
         },
         "name": "BLACK",
         "notched": true,
         "pointpos": -1.8,
         "type": "box",
         "y": [
          40,
          38,
          38,
          37,
          43,
          36,
          42,
          43,
          38,
          5.7,
          33,
          39,
          34,
          40,
          41,
          54,
          37,
          38,
          33,
          33,
          29,
          44,
          42,
          33,
          29,
          36,
          34,
          36,
          37,
          39,
          37,
          35,
          38,
          33,
          35,
          41,
          31,
          35,
          35,
          33,
          44,
          34,
          42,
          39,
          35,
          35,
          39,
          32,
          42,
          32,
          43,
          43,
          40,
          39,
          39,
          36,
          35,
          34,
          44,
          39,
          36,
          35,
          39,
          35,
          38,
          49,
          30,
          23,
          43,
          40,
          32,
          36,
          35,
          38,
          32,
          44,
          47,
          36,
          35,
          38,
          45,
          39,
          39,
          34,
          42,
          37,
          43
         ]
        },
        {
         "boxpoints": "all",
         "jitter": 0.3,
         "marker": {
          "color": "#555A44"
         },
         "name": "ASIAN EAST",
         "notched": true,
         "pointpos": -1.8,
         "type": "box",
         "y": [
          32,
          34,
          33,
          32,
          42,
          32,
          41,
          45,
          34,
          32,
          39,
          34,
          32,
          40,
          35,
          35,
          39,
          35,
          40,
          38,
          40,
          41,
          43,
          35,
          36,
          37,
          32,
          38,
          41,
          44,
          30
         ]
        },
        {
         "boxpoints": "all",
         "jitter": 0.3,
         "marker": {
          "color": "#7D826D"
         },
         "name": "ASIAN SOUTH",
         "notched": true,
         "pointpos": -1.8,
         "type": "box",
         "y": [
          45,
          37,
          37,
          38,
          43,
          33,
          27,
          35,
          35,
          36,
          37,
          35,
          42,
          40,
          36,
          41,
          39,
          33,
          43,
          38,
          32,
          41,
          38,
          31,
          38,
          37,
          39,
          38,
          47,
          35,
          30,
          34,
          40,
          39,
          47,
          34,
          33,
          43,
          41,
          38,
          37,
          36,
          38,
          43,
          36,
          28,
          35,
          38,
          35,
          32,
          39,
          39,
          42,
          38,
          33,
          37,
          39,
          36,
          36,
          42,
          35,
          34,
          33,
          43,
          43
         ]
        },
        {
         "boxpoints": "all",
         "jitter": 0.3,
         "marker": {
          "color": "#CAC9C7"
         },
         "name": "All",
         "notched": true,
         "pointpos": -1.8,
         "type": "box",
         "y": [
          37,
          39,
          40,
          35,
          37,
          39,
          38,
          32,
          30,
          34,
          38,
          37,
          43,
          33,
          45,
          32,
          36,
          40,
          37,
          35,
          31,
          31,
          36,
          42,
          36,
          43,
          37,
          37,
          33,
          33,
          36,
          35,
          38,
          34,
          5.7,
          38,
          41,
          42,
          43,
          33,
          33,
          27,
          36,
          32,
          39,
          29,
          36,
          34,
          34,
          32,
          39,
          40,
          35,
          36,
          35,
          35,
          36,
          35,
          39,
          37,
          35,
          36,
          36,
          35,
          41,
          54,
          37,
          35,
          35,
          36,
          36,
          37,
          38,
          37,
          28,
          31,
          39,
          33,
          33,
          31,
          33,
          39,
          29,
          37,
          38,
          41,
          36,
          34,
          38,
          44,
          41,
          41,
          42,
          42,
          40,
          36,
          34,
          45,
          41,
          39,
          34,
          33,
          33,
          32,
          33,
          29,
          34,
          34,
          36,
          34,
          35,
          36,
          32,
          34,
          32,
          29,
          34,
          40,
          37,
          43,
          32,
          37,
          29,
          35,
          38,
          32,
          40,
          38,
          38,
          39,
          31,
          34,
          32,
          35,
          34,
          41,
          39,
          31,
          39,
          34,
          38,
          37,
          35,
          37,
          38,
          39,
          38,
          39,
          31,
          31,
          40,
          36,
          38,
          33,
          35,
          37,
          41,
          35,
          37,
          41,
          39,
          37,
          39,
          38,
          36,
          34,
          47,
          35,
          31,
          35,
          31,
          35,
          41,
          33,
          32,
          35,
          30,
          34,
          37,
          33,
          33,
          36,
          48,
          40,
          44,
          34,
          40,
          41,
          38,
          39,
          37,
          35,
          35,
          39,
          37,
          32,
          35,
          40,
          35,
          40,
          33,
          42,
          39,
          39,
          41,
          47,
          35,
          35,
          41,
          36,
          39,
          32,
          34,
          40,
          38,
          42,
          41,
          32,
          34,
          39,
          43,
          42,
          32,
          40,
          43,
          36,
          39,
          33,
          43,
          33,
          36,
          34,
          41,
          38,
          40,
          42,
          34,
          34,
          43,
          41,
          38,
          36,
          34,
          43,
          37,
          37,
          36,
          26,
          38,
          36,
          40,
          40,
          36,
          39,
          33,
          40,
          39,
          43,
          37,
          36,
          36,
          34,
          41,
          35,
          34,
          34,
          28,
          39,
          44,
          39,
          37,
          40,
          43,
          44,
          42,
          34,
          35,
          36,
          36,
          37,
          40,
          38,
          40,
          35,
          35,
          41,
          39,
          35,
          35,
          38,
          35,
          38,
          42,
          39,
          35,
          32,
          36,
          49,
          37,
          35,
          37,
          30,
          23,
          35,
          43,
          40,
          40,
          34,
          39,
          39,
          32,
          47,
          32,
          37,
          33,
          36,
          35,
          36,
          38,
          31,
          32,
          38,
          39,
          34,
          38,
          32,
          41,
          44,
          47,
          39,
          42,
          38,
          36,
          36,
          33,
          40,
          37,
          34,
          40,
          35,
          39,
          39,
          33,
          36,
          39,
          36,
          35,
          38,
          44,
          42,
          35,
          38,
          35,
          45,
          38,
          39,
          40,
          39,
          38,
          40,
          34,
          33,
          32,
          30,
          34,
          40,
          39,
          42,
          37,
          37,
          34,
          36,
          37,
          43,
          36,
          37,
          37,
          35,
          43,
          43,
          43,
          39
         ]
        }
       ],
       "layout": {
        "paper_bgcolor": "white",
        "plot_bgcolor": "#F6F8FC",
        "showlegend": false,
        "template": {
         "data": {
          "bar": [
           {
            "error_x": {
             "color": "#2a3f5f"
            },
            "error_y": {
             "color": "#2a3f5f"
            },
            "marker": {
             "line": {
              "color": "#E5ECF6",
              "width": 0.5
             },
             "pattern": {
              "fillmode": "overlay",
              "size": 10,
              "solidity": 0.2
             }
            },
            "type": "bar"
           }
          ],
          "barpolar": [
           {
            "marker": {
             "line": {
              "color": "#E5ECF6",
              "width": 0.5
             },
             "pattern": {
              "fillmode": "overlay",
              "size": 10,
              "solidity": 0.2
             }
            },
            "type": "barpolar"
           }
          ],
          "carpet": [
           {
            "aaxis": {
             "endlinecolor": "#2a3f5f",
             "gridcolor": "white",
             "linecolor": "white",
             "minorgridcolor": "white",
             "startlinecolor": "#2a3f5f"
            },
            "baxis": {
             "endlinecolor": "#2a3f5f",
             "gridcolor": "white",
             "linecolor": "white",
             "minorgridcolor": "white",
             "startlinecolor": "#2a3f5f"
            },
            "type": "carpet"
           }
          ],
          "choropleth": [
           {
            "colorbar": {
             "outlinewidth": 0,
             "ticks": ""
            },
            "type": "choropleth"
           }
          ],
          "contour": [
           {
            "colorbar": {
             "outlinewidth": 0,
             "ticks": ""
            },
            "colorscale": [
             [
              0,
              "#0d0887"
             ],
             [
              0.1111111111111111,
              "#46039f"
             ],
             [
              0.2222222222222222,
              "#7201a8"
             ],
             [
              0.3333333333333333,
              "#9c179e"
             ],
             [
              0.4444444444444444,
              "#bd3786"
             ],
             [
              0.5555555555555556,
              "#d8576b"
             ],
             [
              0.6666666666666666,
              "#ed7953"
             ],
             [
              0.7777777777777778,
              "#fb9f3a"
             ],
             [
              0.8888888888888888,
              "#fdca26"
             ],
             [
              1,
              "#f0f921"
             ]
            ],
            "type": "contour"
           }
          ],
          "contourcarpet": [
           {
            "colorbar": {
             "outlinewidth": 0,
             "ticks": ""
            },
            "type": "contourcarpet"
           }
          ],
          "heatmap": [
           {
            "colorbar": {
             "outlinewidth": 0,
             "ticks": ""
            },
            "colorscale": [
             [
              0,
              "#0d0887"
             ],
             [
              0.1111111111111111,
              "#46039f"
             ],
             [
              0.2222222222222222,
              "#7201a8"
             ],
             [
              0.3333333333333333,
              "#9c179e"
             ],
             [
              0.4444444444444444,
              "#bd3786"
             ],
             [
              0.5555555555555556,
              "#d8576b"
             ],
             [
              0.6666666666666666,
              "#ed7953"
             ],
             [
              0.7777777777777778,
              "#fb9f3a"
             ],
             [
              0.8888888888888888,
              "#fdca26"
             ],
             [
              1,
              "#f0f921"
             ]
            ],
            "type": "heatmap"
           }
          ],
          "heatmapgl": [
           {
            "colorbar": {
             "outlinewidth": 0,
             "ticks": ""
            },
            "colorscale": [
             [
              0,
              "#0d0887"
             ],
             [
              0.1111111111111111,
              "#46039f"
             ],
             [
              0.2222222222222222,
              "#7201a8"
             ],
             [
              0.3333333333333333,
              "#9c179e"
             ],
             [
              0.4444444444444444,
              "#bd3786"
             ],
             [
              0.5555555555555556,
              "#d8576b"
             ],
             [
              0.6666666666666666,
              "#ed7953"
             ],
             [
              0.7777777777777778,
              "#fb9f3a"
             ],
             [
              0.8888888888888888,
              "#fdca26"
             ],
             [
              1,
              "#f0f921"
             ]
            ],
            "type": "heatmapgl"
           }
          ],
          "histogram": [
           {
            "marker": {
             "pattern": {
              "fillmode": "overlay",
              "size": 10,
              "solidity": 0.2
             }
            },
            "type": "histogram"
           }
          ],
          "histogram2d": [
           {
            "colorbar": {
             "outlinewidth": 0,
             "ticks": ""
            },
            "colorscale": [
             [
              0,
              "#0d0887"
             ],
             [
              0.1111111111111111,
              "#46039f"
             ],
             [
              0.2222222222222222,
              "#7201a8"
             ],
             [
              0.3333333333333333,
              "#9c179e"
             ],
             [
              0.4444444444444444,
              "#bd3786"
             ],
             [
              0.5555555555555556,
              "#d8576b"
             ],
             [
              0.6666666666666666,
              "#ed7953"
             ],
             [
              0.7777777777777778,
              "#fb9f3a"
             ],
             [
              0.8888888888888888,
              "#fdca26"
             ],
             [
              1,
              "#f0f921"
             ]
            ],
            "type": "histogram2d"
           }
          ],
          "histogram2dcontour": [
           {
            "colorbar": {
             "outlinewidth": 0,
             "ticks": ""
            },
            "colorscale": [
             [
              0,
              "#0d0887"
             ],
             [
              0.1111111111111111,
              "#46039f"
             ],
             [
              0.2222222222222222,
              "#7201a8"
             ],
             [
              0.3333333333333333,
              "#9c179e"
             ],
             [
              0.4444444444444444,
              "#bd3786"
             ],
             [
              0.5555555555555556,
              "#d8576b"
             ],
             [
              0.6666666666666666,
              "#ed7953"
             ],
             [
              0.7777777777777778,
              "#fb9f3a"
             ],
             [
              0.8888888888888888,
              "#fdca26"
             ],
             [
              1,
              "#f0f921"
             ]
            ],
            "type": "histogram2dcontour"
           }
          ],
          "mesh3d": [
           {
            "colorbar": {
             "outlinewidth": 0,
             "ticks": ""
            },
            "type": "mesh3d"
           }
          ],
          "parcoords": [
           {
            "line": {
             "colorbar": {
              "outlinewidth": 0,
              "ticks": ""
             }
            },
            "type": "parcoords"
           }
          ],
          "pie": [
           {
            "automargin": true,
            "type": "pie"
           }
          ],
          "scatter": [
           {
            "fillpattern": {
             "fillmode": "overlay",
             "size": 10,
             "solidity": 0.2
            },
            "type": "scatter"
           }
          ],
          "scatter3d": [
           {
            "line": {
             "colorbar": {
              "outlinewidth": 0,
              "ticks": ""
             }
            },
            "marker": {
             "colorbar": {
              "outlinewidth": 0,
              "ticks": ""
             }
            },
            "type": "scatter3d"
           }
          ],
          "scattercarpet": [
           {
            "marker": {
             "colorbar": {
              "outlinewidth": 0,
              "ticks": ""
             }
            },
            "type": "scattercarpet"
           }
          ],
          "scattergeo": [
           {
            "marker": {
             "colorbar": {
              "outlinewidth": 0,
              "ticks": ""
             }
            },
            "type": "scattergeo"
           }
          ],
          "scattergl": [
           {
            "marker": {
             "colorbar": {
              "outlinewidth": 0,
              "ticks": ""
             }
            },
            "type": "scattergl"
           }
          ],
          "scattermapbox": [
           {
            "marker": {
             "colorbar": {
              "outlinewidth": 0,
              "ticks": ""
             }
            },
            "type": "scattermapbox"
           }
          ],
          "scatterpolar": [
           {
            "marker": {
             "colorbar": {
              "outlinewidth": 0,
              "ticks": ""
             }
            },
            "type": "scatterpolar"
           }
          ],
          "scatterpolargl": [
           {
            "marker": {
             "colorbar": {
              "outlinewidth": 0,
              "ticks": ""
             }
            },
            "type": "scatterpolargl"
           }
          ],
          "scatterternary": [
           {
            "marker": {
             "colorbar": {
              "outlinewidth": 0,
              "ticks": ""
             }
            },
            "type": "scatterternary"
           }
          ],
          "surface": [
           {
            "colorbar": {
             "outlinewidth": 0,
             "ticks": ""
            },
            "colorscale": [
             [
              0,
              "#0d0887"
             ],
             [
              0.1111111111111111,
              "#46039f"
             ],
             [
              0.2222222222222222,
              "#7201a8"
             ],
             [
              0.3333333333333333,
              "#9c179e"
             ],
             [
              0.4444444444444444,
              "#bd3786"
             ],
             [
              0.5555555555555556,
              "#d8576b"
             ],
             [
              0.6666666666666666,
              "#ed7953"
             ],
             [
              0.7777777777777778,
              "#fb9f3a"
             ],
             [
              0.8888888888888888,
              "#fdca26"
             ],
             [
              1,
              "#f0f921"
             ]
            ],
            "type": "surface"
           }
          ],
          "table": [
           {
            "cells": {
             "fill": {
              "color": "#EBF0F8"
             },
             "line": {
              "color": "white"
             }
            },
            "header": {
             "fill": {
              "color": "#C8D4E3"
             },
             "line": {
              "color": "white"
             }
            },
            "type": "table"
           }
          ]
         },
         "layout": {
          "annotationdefaults": {
           "arrowcolor": "#2a3f5f",
           "arrowhead": 0,
           "arrowwidth": 1
          },
          "autotypenumbers": "strict",
          "coloraxis": {
           "colorbar": {
            "outlinewidth": 0,
            "ticks": ""
           }
          },
          "colorscale": {
           "diverging": [
            [
             0,
             "#8e0152"
            ],
            [
             0.1,
             "#c51b7d"
            ],
            [
             0.2,
             "#de77ae"
            ],
            [
             0.3,
             "#f1b6da"
            ],
            [
             0.4,
             "#fde0ef"
            ],
            [
             0.5,
             "#f7f7f7"
            ],
            [
             0.6,
             "#e6f5d0"
            ],
            [
             0.7,
             "#b8e186"
            ],
            [
             0.8,
             "#7fbc41"
            ],
            [
             0.9,
             "#4d9221"
            ],
            [
             1,
             "#276419"
            ]
           ],
           "sequential": [
            [
             0,
             "#0d0887"
            ],
            [
             0.1111111111111111,
             "#46039f"
            ],
            [
             0.2222222222222222,
             "#7201a8"
            ],
            [
             0.3333333333333333,
             "#9c179e"
            ],
            [
             0.4444444444444444,
             "#bd3786"
            ],
            [
             0.5555555555555556,
             "#d8576b"
            ],
            [
             0.6666666666666666,
             "#ed7953"
            ],
            [
             0.7777777777777778,
             "#fb9f3a"
            ],
            [
             0.8888888888888888,
             "#fdca26"
            ],
            [
             1,
             "#f0f921"
            ]
           ],
           "sequentialminus": [
            [
             0,
             "#0d0887"
            ],
            [
             0.1111111111111111,
             "#46039f"
            ],
            [
             0.2222222222222222,
             "#7201a8"
            ],
            [
             0.3333333333333333,
             "#9c179e"
            ],
            [
             0.4444444444444444,
             "#bd3786"
            ],
            [
             0.5555555555555556,
             "#d8576b"
            ],
            [
             0.6666666666666666,
             "#ed7953"
            ],
            [
             0.7777777777777778,
             "#fb9f3a"
            ],
            [
             0.8888888888888888,
             "#fdca26"
            ],
            [
             1,
             "#f0f921"
            ]
           ]
          },
          "colorway": [
           "#636efa",
           "#EF553B",
           "#00cc96",
           "#ab63fa",
           "#FFA15A",
           "#19d3f3",
           "#FF6692",
           "#B6E880",
           "#FF97FF",
           "#FECB52"
          ],
          "font": {
           "color": "#2a3f5f"
          },
          "geo": {
           "bgcolor": "white",
           "lakecolor": "white",
           "landcolor": "#E5ECF6",
           "showlakes": true,
           "showland": true,
           "subunitcolor": "white"
          },
          "hoverlabel": {
           "align": "left"
          },
          "hovermode": "closest",
          "mapbox": {
           "style": "light"
          },
          "paper_bgcolor": "white",
          "plot_bgcolor": "#E5ECF6",
          "polar": {
           "angularaxis": {
            "gridcolor": "white",
            "linecolor": "white",
            "ticks": ""
           },
           "bgcolor": "#E5ECF6",
           "radialaxis": {
            "gridcolor": "white",
            "linecolor": "white",
            "ticks": ""
           }
          },
          "scene": {
           "xaxis": {
            "backgroundcolor": "#E5ECF6",
            "gridcolor": "white",
            "gridwidth": 2,
            "linecolor": "white",
            "showbackground": true,
            "ticks": "",
            "zerolinecolor": "white"
           },
           "yaxis": {
            "backgroundcolor": "#E5ECF6",
            "gridcolor": "white",
            "gridwidth": 2,
            "linecolor": "white",
            "showbackground": true,
            "ticks": "",
            "zerolinecolor": "white"
           },
           "zaxis": {
            "backgroundcolor": "#E5ECF6",
            "gridcolor": "white",
            "gridwidth": 2,
            "linecolor": "white",
            "showbackground": true,
            "ticks": "",
            "zerolinecolor": "white"
           }
          },
          "shapedefaults": {
           "line": {
            "color": "#2a3f5f"
           }
          },
          "ternary": {
           "aaxis": {
            "gridcolor": "white",
            "linecolor": "white",
            "ticks": ""
           },
           "baxis": {
            "gridcolor": "white",
            "linecolor": "white",
            "ticks": ""
           },
           "bgcolor": "#E5ECF6",
           "caxis": {
            "gridcolor": "white",
            "linecolor": "white",
            "ticks": ""
           }
          },
          "title": {
           "x": 0.05
          },
          "xaxis": {
           "automargin": true,
           "gridcolor": "white",
           "linecolor": "white",
           "ticks": "",
           "title": {
            "standoff": 15
           },
           "zerolinecolor": "white",
           "zerolinewidth": 2
          },
          "yaxis": {
           "automargin": true,
           "gridcolor": "white",
           "linecolor": "white",
           "ticks": "",
           "title": {
            "standoff": 15
           },
           "zerolinecolor": "white",
           "zerolinewidth": 2
          }
         }
        },
        "title": {
         "text": "HbA1C Spread by Race<br><sup><i>(n=382)</i></sup>",
         "x": 0,
         "xref": "paper"
        },
        "yaxis": {
         "gridcolor": "lightgrey",
         "title": {
          "text": "HbA1C<br><sup><i>mmol/mol</i></sup>"
         }
        }
       }
      }
     },
     "metadata": {},
     "output_type": "display_data"
    }
   ],
   "source": [
    "%autoreload 2\n",
    "ma.disease_description_hba1c()"
   ]
  },
  {
   "cell_type": "code",
   "execution_count": 24,
   "metadata": {},
   "outputs": [
    {
     "name": "stdout",
     "output_type": "stream",
     "text": [
      "Data consits of 382 rows after cleaning. \n",
      "        * 10 rows have been excluded.\n",
      "            \n"
     ]
    },
    {
     "data": {
      "application/vnd.plotly.v1+json": {
       "config": {
        "plotlyServerURL": "https://plot.ly"
       },
       "data": [
        {
         "marker": {
          "color": [
           "#172207",
           "#b7410e",
           "#b7410e",
           "#32471E"
          ]
         },
         "name": "1",
         "text": [
          "Patients<br>(382)",
          "<= 120<br>(105)",
          "<= 105 (48)",
          "> 105<br>(47)"
         ],
         "type": "bar",
         "x": [
          "Patients",
          "Visit 1",
          "Term",
          "Term"
         ],
         "y": [
          382,
          105,
          48,
          47
         ]
        },
        {
         "marker": {
          "color": [
           "#32471E",
           "#c4c4c4"
          ]
         },
         "name": "3",
         "text": [
          "> 120<br>(277)",
          "Not measured (10)"
         ],
         "type": "bar",
         "x": [
          "Visit 1",
          "Term"
         ],
         "y": [
          277,
          10
         ]
        },
        {
         "marker": {
          "color": [
           "#c4c4c4",
           "#F6F8FC"
          ]
         },
         "name": "2",
         "text": [
          "Not measured<br>(0)",
          "Cleared<br>(277)"
         ],
         "type": "bar",
         "x": [
          "Visit 1",
          "Term"
         ],
         "y": [
          0,
          277
         ]
        }
       ],
       "layout": {
        "barmode": "stack",
        "paper_bgcolor": "white",
        "plot_bgcolor": "#F6F8FC",
        "showlegend": false,
        "template": {
         "data": {
          "bar": [
           {
            "error_x": {
             "color": "#2a3f5f"
            },
            "error_y": {
             "color": "#2a3f5f"
            },
            "marker": {
             "line": {
              "color": "#E5ECF6",
              "width": 0.5
             },
             "pattern": {
              "fillmode": "overlay",
              "size": 10,
              "solidity": 0.2
             }
            },
            "type": "bar"
           }
          ],
          "barpolar": [
           {
            "marker": {
             "line": {
              "color": "#E5ECF6",
              "width": 0.5
             },
             "pattern": {
              "fillmode": "overlay",
              "size": 10,
              "solidity": 0.2
             }
            },
            "type": "barpolar"
           }
          ],
          "carpet": [
           {
            "aaxis": {
             "endlinecolor": "#2a3f5f",
             "gridcolor": "white",
             "linecolor": "white",
             "minorgridcolor": "white",
             "startlinecolor": "#2a3f5f"
            },
            "baxis": {
             "endlinecolor": "#2a3f5f",
             "gridcolor": "white",
             "linecolor": "white",
             "minorgridcolor": "white",
             "startlinecolor": "#2a3f5f"
            },
            "type": "carpet"
           }
          ],
          "choropleth": [
           {
            "colorbar": {
             "outlinewidth": 0,
             "ticks": ""
            },
            "type": "choropleth"
           }
          ],
          "contour": [
           {
            "colorbar": {
             "outlinewidth": 0,
             "ticks": ""
            },
            "colorscale": [
             [
              0,
              "#0d0887"
             ],
             [
              0.1111111111111111,
              "#46039f"
             ],
             [
              0.2222222222222222,
              "#7201a8"
             ],
             [
              0.3333333333333333,
              "#9c179e"
             ],
             [
              0.4444444444444444,
              "#bd3786"
             ],
             [
              0.5555555555555556,
              "#d8576b"
             ],
             [
              0.6666666666666666,
              "#ed7953"
             ],
             [
              0.7777777777777778,
              "#fb9f3a"
             ],
             [
              0.8888888888888888,
              "#fdca26"
             ],
             [
              1,
              "#f0f921"
             ]
            ],
            "type": "contour"
           }
          ],
          "contourcarpet": [
           {
            "colorbar": {
             "outlinewidth": 0,
             "ticks": ""
            },
            "type": "contourcarpet"
           }
          ],
          "heatmap": [
           {
            "colorbar": {
             "outlinewidth": 0,
             "ticks": ""
            },
            "colorscale": [
             [
              0,
              "#0d0887"
             ],
             [
              0.1111111111111111,
              "#46039f"
             ],
             [
              0.2222222222222222,
              "#7201a8"
             ],
             [
              0.3333333333333333,
              "#9c179e"
             ],
             [
              0.4444444444444444,
              "#bd3786"
             ],
             [
              0.5555555555555556,
              "#d8576b"
             ],
             [
              0.6666666666666666,
              "#ed7953"
             ],
             [
              0.7777777777777778,
              "#fb9f3a"
             ],
             [
              0.8888888888888888,
              "#fdca26"
             ],
             [
              1,
              "#f0f921"
             ]
            ],
            "type": "heatmap"
           }
          ],
          "heatmapgl": [
           {
            "colorbar": {
             "outlinewidth": 0,
             "ticks": ""
            },
            "colorscale": [
             [
              0,
              "#0d0887"
             ],
             [
              0.1111111111111111,
              "#46039f"
             ],
             [
              0.2222222222222222,
              "#7201a8"
             ],
             [
              0.3333333333333333,
              "#9c179e"
             ],
             [
              0.4444444444444444,
              "#bd3786"
             ],
             [
              0.5555555555555556,
              "#d8576b"
             ],
             [
              0.6666666666666666,
              "#ed7953"
             ],
             [
              0.7777777777777778,
              "#fb9f3a"
             ],
             [
              0.8888888888888888,
              "#fdca26"
             ],
             [
              1,
              "#f0f921"
             ]
            ],
            "type": "heatmapgl"
           }
          ],
          "histogram": [
           {
            "marker": {
             "pattern": {
              "fillmode": "overlay",
              "size": 10,
              "solidity": 0.2
             }
            },
            "type": "histogram"
           }
          ],
          "histogram2d": [
           {
            "colorbar": {
             "outlinewidth": 0,
             "ticks": ""
            },
            "colorscale": [
             [
              0,
              "#0d0887"
             ],
             [
              0.1111111111111111,
              "#46039f"
             ],
             [
              0.2222222222222222,
              "#7201a8"
             ],
             [
              0.3333333333333333,
              "#9c179e"
             ],
             [
              0.4444444444444444,
              "#bd3786"
             ],
             [
              0.5555555555555556,
              "#d8576b"
             ],
             [
              0.6666666666666666,
              "#ed7953"
             ],
             [
              0.7777777777777778,
              "#fb9f3a"
             ],
             [
              0.8888888888888888,
              "#fdca26"
             ],
             [
              1,
              "#f0f921"
             ]
            ],
            "type": "histogram2d"
           }
          ],
          "histogram2dcontour": [
           {
            "colorbar": {
             "outlinewidth": 0,
             "ticks": ""
            },
            "colorscale": [
             [
              0,
              "#0d0887"
             ],
             [
              0.1111111111111111,
              "#46039f"
             ],
             [
              0.2222222222222222,
              "#7201a8"
             ],
             [
              0.3333333333333333,
              "#9c179e"
             ],
             [
              0.4444444444444444,
              "#bd3786"
             ],
             [
              0.5555555555555556,
              "#d8576b"
             ],
             [
              0.6666666666666666,
              "#ed7953"
             ],
             [
              0.7777777777777778,
              "#fb9f3a"
             ],
             [
              0.8888888888888888,
              "#fdca26"
             ],
             [
              1,
              "#f0f921"
             ]
            ],
            "type": "histogram2dcontour"
           }
          ],
          "mesh3d": [
           {
            "colorbar": {
             "outlinewidth": 0,
             "ticks": ""
            },
            "type": "mesh3d"
           }
          ],
          "parcoords": [
           {
            "line": {
             "colorbar": {
              "outlinewidth": 0,
              "ticks": ""
             }
            },
            "type": "parcoords"
           }
          ],
          "pie": [
           {
            "automargin": true,
            "type": "pie"
           }
          ],
          "scatter": [
           {
            "fillpattern": {
             "fillmode": "overlay",
             "size": 10,
             "solidity": 0.2
            },
            "type": "scatter"
           }
          ],
          "scatter3d": [
           {
            "line": {
             "colorbar": {
              "outlinewidth": 0,
              "ticks": ""
             }
            },
            "marker": {
             "colorbar": {
              "outlinewidth": 0,
              "ticks": ""
             }
            },
            "type": "scatter3d"
           }
          ],
          "scattercarpet": [
           {
            "marker": {
             "colorbar": {
              "outlinewidth": 0,
              "ticks": ""
             }
            },
            "type": "scattercarpet"
           }
          ],
          "scattergeo": [
           {
            "marker": {
             "colorbar": {
              "outlinewidth": 0,
              "ticks": ""
             }
            },
            "type": "scattergeo"
           }
          ],
          "scattergl": [
           {
            "marker": {
             "colorbar": {
              "outlinewidth": 0,
              "ticks": ""
             }
            },
            "type": "scattergl"
           }
          ],
          "scattermapbox": [
           {
            "marker": {
             "colorbar": {
              "outlinewidth": 0,
              "ticks": ""
             }
            },
            "type": "scattermapbox"
           }
          ],
          "scatterpolar": [
           {
            "marker": {
             "colorbar": {
              "outlinewidth": 0,
              "ticks": ""
             }
            },
            "type": "scatterpolar"
           }
          ],
          "scatterpolargl": [
           {
            "marker": {
             "colorbar": {
              "outlinewidth": 0,
              "ticks": ""
             }
            },
            "type": "scatterpolargl"
           }
          ],
          "scatterternary": [
           {
            "marker": {
             "colorbar": {
              "outlinewidth": 0,
              "ticks": ""
             }
            },
            "type": "scatterternary"
           }
          ],
          "surface": [
           {
            "colorbar": {
             "outlinewidth": 0,
             "ticks": ""
            },
            "colorscale": [
             [
              0,
              "#0d0887"
             ],
             [
              0.1111111111111111,
              "#46039f"
             ],
             [
              0.2222222222222222,
              "#7201a8"
             ],
             [
              0.3333333333333333,
              "#9c179e"
             ],
             [
              0.4444444444444444,
              "#bd3786"
             ],
             [
              0.5555555555555556,
              "#d8576b"
             ],
             [
              0.6666666666666666,
              "#ed7953"
             ],
             [
              0.7777777777777778,
              "#fb9f3a"
             ],
             [
              0.8888888888888888,
              "#fdca26"
             ],
             [
              1,
              "#f0f921"
             ]
            ],
            "type": "surface"
           }
          ],
          "table": [
           {
            "cells": {
             "fill": {
              "color": "#EBF0F8"
             },
             "line": {
              "color": "white"
             }
            },
            "header": {
             "fill": {
              "color": "#C8D4E3"
             },
             "line": {
              "color": "white"
             }
            },
            "type": "table"
           }
          ]
         },
         "layout": {
          "annotationdefaults": {
           "arrowcolor": "#2a3f5f",
           "arrowhead": 0,
           "arrowwidth": 1
          },
          "autotypenumbers": "strict",
          "coloraxis": {
           "colorbar": {
            "outlinewidth": 0,
            "ticks": ""
           }
          },
          "colorscale": {
           "diverging": [
            [
             0,
             "#8e0152"
            ],
            [
             0.1,
             "#c51b7d"
            ],
            [
             0.2,
             "#de77ae"
            ],
            [
             0.3,
             "#f1b6da"
            ],
            [
             0.4,
             "#fde0ef"
            ],
            [
             0.5,
             "#f7f7f7"
            ],
            [
             0.6,
             "#e6f5d0"
            ],
            [
             0.7,
             "#b8e186"
            ],
            [
             0.8,
             "#7fbc41"
            ],
            [
             0.9,
             "#4d9221"
            ],
            [
             1,
             "#276419"
            ]
           ],
           "sequential": [
            [
             0,
             "#0d0887"
            ],
            [
             0.1111111111111111,
             "#46039f"
            ],
            [
             0.2222222222222222,
             "#7201a8"
            ],
            [
             0.3333333333333333,
             "#9c179e"
            ],
            [
             0.4444444444444444,
             "#bd3786"
            ],
            [
             0.5555555555555556,
             "#d8576b"
            ],
            [
             0.6666666666666666,
             "#ed7953"
            ],
            [
             0.7777777777777778,
             "#fb9f3a"
            ],
            [
             0.8888888888888888,
             "#fdca26"
            ],
            [
             1,
             "#f0f921"
            ]
           ],
           "sequentialminus": [
            [
             0,
             "#0d0887"
            ],
            [
             0.1111111111111111,
             "#46039f"
            ],
            [
             0.2222222222222222,
             "#7201a8"
            ],
            [
             0.3333333333333333,
             "#9c179e"
            ],
            [
             0.4444444444444444,
             "#bd3786"
            ],
            [
             0.5555555555555556,
             "#d8576b"
            ],
            [
             0.6666666666666666,
             "#ed7953"
            ],
            [
             0.7777777777777778,
             "#fb9f3a"
            ],
            [
             0.8888888888888888,
             "#fdca26"
            ],
            [
             1,
             "#f0f921"
            ]
           ]
          },
          "colorway": [
           "#636efa",
           "#EF553B",
           "#00cc96",
           "#ab63fa",
           "#FFA15A",
           "#19d3f3",
           "#FF6692",
           "#B6E880",
           "#FF97FF",
           "#FECB52"
          ],
          "font": {
           "color": "#2a3f5f"
          },
          "geo": {
           "bgcolor": "white",
           "lakecolor": "white",
           "landcolor": "#E5ECF6",
           "showlakes": true,
           "showland": true,
           "subunitcolor": "white"
          },
          "hoverlabel": {
           "align": "left"
          },
          "hovermode": "closest",
          "mapbox": {
           "style": "light"
          },
          "paper_bgcolor": "white",
          "plot_bgcolor": "#E5ECF6",
          "polar": {
           "angularaxis": {
            "gridcolor": "white",
            "linecolor": "white",
            "ticks": ""
           },
           "bgcolor": "#E5ECF6",
           "radialaxis": {
            "gridcolor": "white",
            "linecolor": "white",
            "ticks": ""
           }
          },
          "scene": {
           "xaxis": {
            "backgroundcolor": "#E5ECF6",
            "gridcolor": "white",
            "gridwidth": 2,
            "linecolor": "white",
            "showbackground": true,
            "ticks": "",
            "zerolinecolor": "white"
           },
           "yaxis": {
            "backgroundcolor": "#E5ECF6",
            "gridcolor": "white",
            "gridwidth": 2,
            "linecolor": "white",
            "showbackground": true,
            "ticks": "",
            "zerolinecolor": "white"
           },
           "zaxis": {
            "backgroundcolor": "#E5ECF6",
            "gridcolor": "white",
            "gridwidth": 2,
            "linecolor": "white",
            "showbackground": true,
            "ticks": "",
            "zerolinecolor": "white"
           }
          },
          "shapedefaults": {
           "line": {
            "color": "#2a3f5f"
           }
          },
          "ternary": {
           "aaxis": {
            "gridcolor": "white",
            "linecolor": "white",
            "ticks": ""
           },
           "baxis": {
            "gridcolor": "white",
            "linecolor": "white",
            "ticks": ""
           },
           "bgcolor": "#E5ECF6",
           "caxis": {
            "gridcolor": "white",
            "linecolor": "white",
            "ticks": ""
           }
          },
          "title": {
           "x": 0.05
          },
          "xaxis": {
           "automargin": true,
           "gridcolor": "white",
           "linecolor": "white",
           "ticks": "",
           "title": {
            "standoff": 15
           },
           "zerolinecolor": "white",
           "zerolinewidth": 2
          },
          "yaxis": {
           "automargin": true,
           "gridcolor": "white",
           "linecolor": "white",
           "ticks": "",
           "title": {
            "standoff": 15
           },
           "zerolinecolor": "white",
           "zerolinewidth": 2
          }
         }
        },
        "title": {
         "text": "Cascade of Anemic Patients at First Visit and Term<br><sup><i>(n=382)</i></sup>",
         "x": 0,
         "xref": "paper"
        },
        "uniformtext": {
         "minsize": 10,
         "mode": "hide"
        },
        "xaxis": {
         "title": {
          "text": "<br><sup><i></i></sup>"
         }
        },
        "yaxis": {
         "gridcolor": "lightgrey",
         "title": {
          "text": "Count<br><sup><i>number of patients</i></sup>"
         }
        }
       }
      }
     },
     "metadata": {},
     "output_type": "display_data"
    },
    {
     "data": {
      "application/vnd.plotly.v1+json": {
       "config": {
        "plotlyServerURL": "https://plot.ly"
       },
       "data": [
        {
         "marker": {
          "color": "#172207"
         },
         "name": "<= 100",
         "text": [
          "1.05"
         ],
         "type": "bar",
         "x": [
          "<= 100"
         ],
         "y": [
          1.05
         ]
        },
        {
         "marker": {
          "color": "#172207"
         },
         "name": "100 - 120",
         "text": [
          "26.44"
         ],
         "type": "bar",
         "x": [
          "100 - 120"
         ],
         "y": [
          26.44
         ]
        },
        {
         "marker": {
          "color": "#172207"
         },
         "name": "> 120",
         "text": [
          "72.51"
         ],
         "type": "bar",
         "x": [
          "> 120"
         ],
         "y": [
          72.51
         ]
        }
       ],
       "layout": {
        "barmode": "stack",
        "paper_bgcolor": "white",
        "plot_bgcolor": "#F6F8FC",
        "showlegend": true,
        "template": {
         "data": {
          "bar": [
           {
            "error_x": {
             "color": "#2a3f5f"
            },
            "error_y": {
             "color": "#2a3f5f"
            },
            "marker": {
             "line": {
              "color": "#E5ECF6",
              "width": 0.5
             },
             "pattern": {
              "fillmode": "overlay",
              "size": 10,
              "solidity": 0.2
             }
            },
            "type": "bar"
           }
          ],
          "barpolar": [
           {
            "marker": {
             "line": {
              "color": "#E5ECF6",
              "width": 0.5
             },
             "pattern": {
              "fillmode": "overlay",
              "size": 10,
              "solidity": 0.2
             }
            },
            "type": "barpolar"
           }
          ],
          "carpet": [
           {
            "aaxis": {
             "endlinecolor": "#2a3f5f",
             "gridcolor": "white",
             "linecolor": "white",
             "minorgridcolor": "white",
             "startlinecolor": "#2a3f5f"
            },
            "baxis": {
             "endlinecolor": "#2a3f5f",
             "gridcolor": "white",
             "linecolor": "white",
             "minorgridcolor": "white",
             "startlinecolor": "#2a3f5f"
            },
            "type": "carpet"
           }
          ],
          "choropleth": [
           {
            "colorbar": {
             "outlinewidth": 0,
             "ticks": ""
            },
            "type": "choropleth"
           }
          ],
          "contour": [
           {
            "colorbar": {
             "outlinewidth": 0,
             "ticks": ""
            },
            "colorscale": [
             [
              0,
              "#0d0887"
             ],
             [
              0.1111111111111111,
              "#46039f"
             ],
             [
              0.2222222222222222,
              "#7201a8"
             ],
             [
              0.3333333333333333,
              "#9c179e"
             ],
             [
              0.4444444444444444,
              "#bd3786"
             ],
             [
              0.5555555555555556,
              "#d8576b"
             ],
             [
              0.6666666666666666,
              "#ed7953"
             ],
             [
              0.7777777777777778,
              "#fb9f3a"
             ],
             [
              0.8888888888888888,
              "#fdca26"
             ],
             [
              1,
              "#f0f921"
             ]
            ],
            "type": "contour"
           }
          ],
          "contourcarpet": [
           {
            "colorbar": {
             "outlinewidth": 0,
             "ticks": ""
            },
            "type": "contourcarpet"
           }
          ],
          "heatmap": [
           {
            "colorbar": {
             "outlinewidth": 0,
             "ticks": ""
            },
            "colorscale": [
             [
              0,
              "#0d0887"
             ],
             [
              0.1111111111111111,
              "#46039f"
             ],
             [
              0.2222222222222222,
              "#7201a8"
             ],
             [
              0.3333333333333333,
              "#9c179e"
             ],
             [
              0.4444444444444444,
              "#bd3786"
             ],
             [
              0.5555555555555556,
              "#d8576b"
             ],
             [
              0.6666666666666666,
              "#ed7953"
             ],
             [
              0.7777777777777778,
              "#fb9f3a"
             ],
             [
              0.8888888888888888,
              "#fdca26"
             ],
             [
              1,
              "#f0f921"
             ]
            ],
            "type": "heatmap"
           }
          ],
          "heatmapgl": [
           {
            "colorbar": {
             "outlinewidth": 0,
             "ticks": ""
            },
            "colorscale": [
             [
              0,
              "#0d0887"
             ],
             [
              0.1111111111111111,
              "#46039f"
             ],
             [
              0.2222222222222222,
              "#7201a8"
             ],
             [
              0.3333333333333333,
              "#9c179e"
             ],
             [
              0.4444444444444444,
              "#bd3786"
             ],
             [
              0.5555555555555556,
              "#d8576b"
             ],
             [
              0.6666666666666666,
              "#ed7953"
             ],
             [
              0.7777777777777778,
              "#fb9f3a"
             ],
             [
              0.8888888888888888,
              "#fdca26"
             ],
             [
              1,
              "#f0f921"
             ]
            ],
            "type": "heatmapgl"
           }
          ],
          "histogram": [
           {
            "marker": {
             "pattern": {
              "fillmode": "overlay",
              "size": 10,
              "solidity": 0.2
             }
            },
            "type": "histogram"
           }
          ],
          "histogram2d": [
           {
            "colorbar": {
             "outlinewidth": 0,
             "ticks": ""
            },
            "colorscale": [
             [
              0,
              "#0d0887"
             ],
             [
              0.1111111111111111,
              "#46039f"
             ],
             [
              0.2222222222222222,
              "#7201a8"
             ],
             [
              0.3333333333333333,
              "#9c179e"
             ],
             [
              0.4444444444444444,
              "#bd3786"
             ],
             [
              0.5555555555555556,
              "#d8576b"
             ],
             [
              0.6666666666666666,
              "#ed7953"
             ],
             [
              0.7777777777777778,
              "#fb9f3a"
             ],
             [
              0.8888888888888888,
              "#fdca26"
             ],
             [
              1,
              "#f0f921"
             ]
            ],
            "type": "histogram2d"
           }
          ],
          "histogram2dcontour": [
           {
            "colorbar": {
             "outlinewidth": 0,
             "ticks": ""
            },
            "colorscale": [
             [
              0,
              "#0d0887"
             ],
             [
              0.1111111111111111,
              "#46039f"
             ],
             [
              0.2222222222222222,
              "#7201a8"
             ],
             [
              0.3333333333333333,
              "#9c179e"
             ],
             [
              0.4444444444444444,
              "#bd3786"
             ],
             [
              0.5555555555555556,
              "#d8576b"
             ],
             [
              0.6666666666666666,
              "#ed7953"
             ],
             [
              0.7777777777777778,
              "#fb9f3a"
             ],
             [
              0.8888888888888888,
              "#fdca26"
             ],
             [
              1,
              "#f0f921"
             ]
            ],
            "type": "histogram2dcontour"
           }
          ],
          "mesh3d": [
           {
            "colorbar": {
             "outlinewidth": 0,
             "ticks": ""
            },
            "type": "mesh3d"
           }
          ],
          "parcoords": [
           {
            "line": {
             "colorbar": {
              "outlinewidth": 0,
              "ticks": ""
             }
            },
            "type": "parcoords"
           }
          ],
          "pie": [
           {
            "automargin": true,
            "type": "pie"
           }
          ],
          "scatter": [
           {
            "fillpattern": {
             "fillmode": "overlay",
             "size": 10,
             "solidity": 0.2
            },
            "type": "scatter"
           }
          ],
          "scatter3d": [
           {
            "line": {
             "colorbar": {
              "outlinewidth": 0,
              "ticks": ""
             }
            },
            "marker": {
             "colorbar": {
              "outlinewidth": 0,
              "ticks": ""
             }
            },
            "type": "scatter3d"
           }
          ],
          "scattercarpet": [
           {
            "marker": {
             "colorbar": {
              "outlinewidth": 0,
              "ticks": ""
             }
            },
            "type": "scattercarpet"
           }
          ],
          "scattergeo": [
           {
            "marker": {
             "colorbar": {
              "outlinewidth": 0,
              "ticks": ""
             }
            },
            "type": "scattergeo"
           }
          ],
          "scattergl": [
           {
            "marker": {
             "colorbar": {
              "outlinewidth": 0,
              "ticks": ""
             }
            },
            "type": "scattergl"
           }
          ],
          "scattermapbox": [
           {
            "marker": {
             "colorbar": {
              "outlinewidth": 0,
              "ticks": ""
             }
            },
            "type": "scattermapbox"
           }
          ],
          "scatterpolar": [
           {
            "marker": {
             "colorbar": {
              "outlinewidth": 0,
              "ticks": ""
             }
            },
            "type": "scatterpolar"
           }
          ],
          "scatterpolargl": [
           {
            "marker": {
             "colorbar": {
              "outlinewidth": 0,
              "ticks": ""
             }
            },
            "type": "scatterpolargl"
           }
          ],
          "scatterternary": [
           {
            "marker": {
             "colorbar": {
              "outlinewidth": 0,
              "ticks": ""
             }
            },
            "type": "scatterternary"
           }
          ],
          "surface": [
           {
            "colorbar": {
             "outlinewidth": 0,
             "ticks": ""
            },
            "colorscale": [
             [
              0,
              "#0d0887"
             ],
             [
              0.1111111111111111,
              "#46039f"
             ],
             [
              0.2222222222222222,
              "#7201a8"
             ],
             [
              0.3333333333333333,
              "#9c179e"
             ],
             [
              0.4444444444444444,
              "#bd3786"
             ],
             [
              0.5555555555555556,
              "#d8576b"
             ],
             [
              0.6666666666666666,
              "#ed7953"
             ],
             [
              0.7777777777777778,
              "#fb9f3a"
             ],
             [
              0.8888888888888888,
              "#fdca26"
             ],
             [
              1,
              "#f0f921"
             ]
            ],
            "type": "surface"
           }
          ],
          "table": [
           {
            "cells": {
             "fill": {
              "color": "#EBF0F8"
             },
             "line": {
              "color": "white"
             }
            },
            "header": {
             "fill": {
              "color": "#C8D4E3"
             },
             "line": {
              "color": "white"
             }
            },
            "type": "table"
           }
          ]
         },
         "layout": {
          "annotationdefaults": {
           "arrowcolor": "#2a3f5f",
           "arrowhead": 0,
           "arrowwidth": 1
          },
          "autotypenumbers": "strict",
          "coloraxis": {
           "colorbar": {
            "outlinewidth": 0,
            "ticks": ""
           }
          },
          "colorscale": {
           "diverging": [
            [
             0,
             "#8e0152"
            ],
            [
             0.1,
             "#c51b7d"
            ],
            [
             0.2,
             "#de77ae"
            ],
            [
             0.3,
             "#f1b6da"
            ],
            [
             0.4,
             "#fde0ef"
            ],
            [
             0.5,
             "#f7f7f7"
            ],
            [
             0.6,
             "#e6f5d0"
            ],
            [
             0.7,
             "#b8e186"
            ],
            [
             0.8,
             "#7fbc41"
            ],
            [
             0.9,
             "#4d9221"
            ],
            [
             1,
             "#276419"
            ]
           ],
           "sequential": [
            [
             0,
             "#0d0887"
            ],
            [
             0.1111111111111111,
             "#46039f"
            ],
            [
             0.2222222222222222,
             "#7201a8"
            ],
            [
             0.3333333333333333,
             "#9c179e"
            ],
            [
             0.4444444444444444,
             "#bd3786"
            ],
            [
             0.5555555555555556,
             "#d8576b"
            ],
            [
             0.6666666666666666,
             "#ed7953"
            ],
            [
             0.7777777777777778,
             "#fb9f3a"
            ],
            [
             0.8888888888888888,
             "#fdca26"
            ],
            [
             1,
             "#f0f921"
            ]
           ],
           "sequentialminus": [
            [
             0,
             "#0d0887"
            ],
            [
             0.1111111111111111,
             "#46039f"
            ],
            [
             0.2222222222222222,
             "#7201a8"
            ],
            [
             0.3333333333333333,
             "#9c179e"
            ],
            [
             0.4444444444444444,
             "#bd3786"
            ],
            [
             0.5555555555555556,
             "#d8576b"
            ],
            [
             0.6666666666666666,
             "#ed7953"
            ],
            [
             0.7777777777777778,
             "#fb9f3a"
            ],
            [
             0.8888888888888888,
             "#fdca26"
            ],
            [
             1,
             "#f0f921"
            ]
           ]
          },
          "colorway": [
           "#636efa",
           "#EF553B",
           "#00cc96",
           "#ab63fa",
           "#FFA15A",
           "#19d3f3",
           "#FF6692",
           "#B6E880",
           "#FF97FF",
           "#FECB52"
          ],
          "font": {
           "color": "#2a3f5f"
          },
          "geo": {
           "bgcolor": "white",
           "lakecolor": "white",
           "landcolor": "#E5ECF6",
           "showlakes": true,
           "showland": true,
           "subunitcolor": "white"
          },
          "hoverlabel": {
           "align": "left"
          },
          "hovermode": "closest",
          "mapbox": {
           "style": "light"
          },
          "paper_bgcolor": "white",
          "plot_bgcolor": "#E5ECF6",
          "polar": {
           "angularaxis": {
            "gridcolor": "white",
            "linecolor": "white",
            "ticks": ""
           },
           "bgcolor": "#E5ECF6",
           "radialaxis": {
            "gridcolor": "white",
            "linecolor": "white",
            "ticks": ""
           }
          },
          "scene": {
           "xaxis": {
            "backgroundcolor": "#E5ECF6",
            "gridcolor": "white",
            "gridwidth": 2,
            "linecolor": "white",
            "showbackground": true,
            "ticks": "",
            "zerolinecolor": "white"
           },
           "yaxis": {
            "backgroundcolor": "#E5ECF6",
            "gridcolor": "white",
            "gridwidth": 2,
            "linecolor": "white",
            "showbackground": true,
            "ticks": "",
            "zerolinecolor": "white"
           },
           "zaxis": {
            "backgroundcolor": "#E5ECF6",
            "gridcolor": "white",
            "gridwidth": 2,
            "linecolor": "white",
            "showbackground": true,
            "ticks": "",
            "zerolinecolor": "white"
           }
          },
          "shapedefaults": {
           "line": {
            "color": "#2a3f5f"
           }
          },
          "ternary": {
           "aaxis": {
            "gridcolor": "white",
            "linecolor": "white",
            "ticks": ""
           },
           "baxis": {
            "gridcolor": "white",
            "linecolor": "white",
            "ticks": ""
           },
           "bgcolor": "#E5ECF6",
           "caxis": {
            "gridcolor": "white",
            "linecolor": "white",
            "ticks": ""
           }
          },
          "title": {
           "x": 0.05
          },
          "xaxis": {
           "automargin": true,
           "gridcolor": "white",
           "linecolor": "white",
           "ticks": "",
           "title": {
            "standoff": 15
           },
           "zerolinecolor": "white",
           "zerolinewidth": 2
          },
          "yaxis": {
           "automargin": true,
           "gridcolor": "white",
           "linecolor": "white",
           "ticks": "",
           "title": {
            "standoff": 15
           },
           "zerolinecolor": "white",
           "zerolinewidth": 2
          }
         }
        },
        "title": {
         "text": "Hb Category Distribution<br><sup><i>(n=382)</i></sup>",
         "x": 0,
         "xref": "paper"
        },
        "uniformtext": {
         "minsize": 10,
         "mode": "hide"
        },
        "xaxis": {
         "title": {
          "text": "Hb Category<br><sup><i>mg/dL</i></sup>"
         }
        },
        "yaxis": {
         "gridcolor": "lightgrey",
         "title": {
          "text": "Percentage<br><sup><i>%</i></sup>"
         }
        }
       }
      }
     },
     "metadata": {},
     "output_type": "display_data"
    },
    {
     "data": {
      "application/vnd.plotly.v1+json": {
       "config": {
        "plotlyServerURL": "https://plot.ly"
       },
       "data": [
        {
         "boxpoints": "all",
         "jitter": 0.3,
         "marker": {
          "color": "#172207"
         },
         "name": "WHITE",
         "notched": true,
         "pointpos": -1.8,
         "type": "box",
         "y": [
          132,
          124,
          141,
          124,
          131,
          147,
          130,
          134,
          118,
          130,
          121,
          131,
          135,
          130,
          129,
          133,
          131,
          130,
          136,
          122,
          119,
          121,
          120,
          126,
          130,
          112,
          129,
          122,
          111,
          115,
          123,
          124,
          116,
          115,
          134,
          133,
          130,
          144,
          127,
          114,
          119,
          133,
          134,
          130,
          144,
          137,
          129,
          124,
          118,
          136,
          128,
          122,
          110,
          130,
          134,
          131,
          119,
          122,
          132,
          126,
          131,
          129,
          125,
          114,
          131,
          135,
          122,
          127,
          143,
          126,
          114,
          117,
          118,
          127,
          139,
          147,
          134,
          131,
          123,
          120,
          130,
          135,
          127,
          132,
          124,
          138,
          129,
          143,
          140,
          117,
          137,
          114,
          140,
          129,
          120,
          139,
          134,
          122,
          137,
          136,
          130,
          117,
          129,
          142,
          133,
          126,
          144,
          134,
          137,
          132,
          133,
          128,
          143,
          124,
          114,
          130,
          106,
          115,
          137,
          145,
          124,
          132,
          140,
          131,
          117,
          122,
          126,
          129,
          122,
          132,
          127,
          107,
          138,
          133,
          130,
          118,
          139,
          131,
          135,
          137,
          132,
          136,
          126,
          115,
          147,
          127,
          134,
          130,
          129,
          130,
          125,
          104,
          116,
          135,
          131,
          123,
          130,
          142,
          117,
          126,
          128,
          145,
          118,
          122,
          122,
          141,
          130,
          119,
          130,
          127,
          129,
          126,
          133,
          132,
          131,
          136,
          129,
          133,
          121
         ]
        },
        {
         "boxpoints": "all",
         "jitter": 0.3,
         "marker": {
          "color": "#32471E"
         },
         "name": "MIXED",
         "notched": true,
         "pointpos": -1.8,
         "type": "box",
         "y": [
          70,
          119,
          114,
          117,
          125,
          130,
          121,
          126,
          132,
          130,
          139,
          120,
          107,
          129,
          121,
          125,
          121,
          136,
          118,
          137
         ]
        },
        {
         "boxpoints": "all",
         "jitter": 0.3,
         "marker": {
          "color": "#3E412A"
         },
         "name": "BLACK",
         "notched": true,
         "pointpos": -1.8,
         "type": "box",
         "y": [
          139,
          125,
          134,
          111,
          123,
          131,
          119,
          117,
          132,
          124,
          121,
          131,
          123,
          118,
          118,
          129,
          118,
          124,
          132,
          111,
          120,
          137,
          123,
          134,
          127,
          120,
          140,
          110,
          127,
          105,
          130,
          119,
          115,
          120,
          122,
          119,
          129,
          112,
          115,
          116,
          117,
          107,
          125,
          118,
          113,
          102,
          127,
          111,
          137,
          124,
          117,
          117,
          129,
          111,
          143,
          121,
          123,
          130,
          112,
          114,
          129,
          131,
          93,
          120,
          112,
          138,
          122,
          94,
          133,
          124,
          111,
          107,
          127,
          126,
          127,
          120,
          143,
          117,
          117,
          99,
          135,
          134,
          129,
          138,
          143,
          130,
          120
         ]
        },
        {
         "boxpoints": "all",
         "jitter": 0.3,
         "marker": {
          "color": "#555A44"
         },
         "name": "ASIAN EAST",
         "notched": true,
         "pointpos": -1.8,
         "type": "box",
         "y": [
          126,
          135,
          113,
          139,
          124,
          132,
          129,
          122,
          141,
          133,
          136,
          130,
          121,
          131,
          110,
          111,
          140,
          125,
          122,
          124,
          131,
          150,
          136,
          118,
          137,
          141,
          127,
          134,
          128,
          136,
          135
         ]
        },
        {
         "boxpoints": "all",
         "jitter": 0.3,
         "marker": {
          "color": "#7D826D"
         },
         "name": "ASIAN SOUTH",
         "notched": true,
         "pointpos": -1.8,
         "type": "box",
         "y": [
          134,
          128,
          139,
          139,
          118,
          112,
          119,
          119,
          125,
          111,
          120,
          133,
          137,
          119,
          149,
          126,
          124,
          133,
          125,
          125,
          128,
          138,
          129,
          130,
          137,
          117,
          121,
          129,
          137,
          114,
          120,
          123,
          129,
          122,
          122,
          116,
          110,
          125,
          139,
          117,
          137,
          125,
          135,
          103,
          132,
          139,
          122,
          130,
          137,
          128,
          110,
          137,
          104,
          115,
          140,
          128,
          124,
          126,
          115,
          134,
          127,
          120,
          119,
          126,
          124
         ]
        },
        {
         "boxpoints": "all",
         "jitter": 0.3,
         "marker": {
          "color": "#CAC9C7"
         },
         "name": "All",
         "notched": true,
         "pointpos": -1.8,
         "type": "box",
         "y": [
          132,
          70,
          139,
          124,
          141,
          124,
          125,
          126,
          131,
          135,
          134,
          111,
          123,
          113,
          134,
          139,
          147,
          130,
          134,
          119,
          118,
          130,
          131,
          119,
          121,
          117,
          128,
          139,
          114,
          131,
          135,
          130,
          132,
          129,
          124,
          139,
          117,
          124,
          118,
          112,
          121,
          119,
          133,
          131,
          131,
          130,
          136,
          122,
          123,
          132,
          119,
          118,
          121,
          120,
          119,
          125,
          111,
          126,
          130,
          120,
          112,
          129,
          122,
          133,
          118,
          129,
          118,
          111,
          115,
          123,
          124,
          125,
          124,
          116,
          115,
          134,
          133,
          130,
          132,
          144,
          111,
          127,
          120,
          114,
          119,
          133,
          134,
          130,
          130,
          137,
          144,
          129,
          137,
          123,
          119,
          149,
          137,
          122,
          126,
          124,
          129,
          134,
          121,
          126,
          133,
          127,
          124,
          118,
          120,
          140,
          136,
          110,
          128,
          141,
          122,
          110,
          130,
          134,
          127,
          125,
          133,
          131,
          119,
          122,
          132,
          132,
          126,
          125,
          131,
          105,
          129,
          125,
          128,
          114,
          131,
          138,
          135,
          122,
          127,
          143,
          129,
          130,
          119,
          130,
          126,
          136,
          115,
          114,
          117,
          130,
          118,
          127,
          137,
          120,
          122,
          139,
          147,
          134,
          117,
          119,
          121,
          131,
          139,
          129,
          123,
          130,
          137,
          114,
          129,
          112,
          120,
          115,
          130,
          135,
          121,
          127,
          120,
          123,
          132,
          116,
          124,
          138,
          129,
          129,
          117,
          107,
          131,
          143,
          140,
          122,
          117,
          110,
          111,
          140,
          137,
          114,
          125,
          122,
          140,
          129,
          120,
          125,
          118,
          139,
          134,
          122,
          113,
          102,
          122,
          137,
          127,
          111,
          136,
          130,
          124,
          137,
          117,
          124,
          116,
          120,
          117,
          129,
          142,
          133,
          117,
          126,
          144,
          110,
          125,
          134,
          137,
          132,
          133,
          128,
          129,
          143,
          124,
          114,
          130,
          139,
          117,
          107,
          106,
          115,
          137,
          137,
          125,
          145,
          135,
          124,
          129,
          132,
          140,
          111,
          131,
          131,
          143,
          103,
          117,
          132,
          121,
          121,
          150,
          123,
          122,
          130,
          139,
          126,
          112,
          114,
          129,
          122,
          136,
          132,
          127,
          107,
          122,
          138,
          129,
          133,
          130,
          118,
          139,
          118,
          131,
          131,
          93,
          135,
          125,
          130,
          120,
          112,
          137,
          132,
          137,
          128,
          137,
          138,
          136,
          126,
          141,
          122,
          94,
          115,
          133,
          124,
          147,
          127,
          134,
          110,
          111,
          130,
          127,
          121,
          129,
          107,
          127,
          130,
          126,
          125,
          104,
          134,
          137,
          116,
          135,
          127,
          128,
          120,
          143,
          131,
          104,
          115,
          117,
          123,
          140,
          130,
          128,
          142,
          117,
          126,
          124,
          128,
          145,
          126,
          118,
          115,
          117,
          99,
          136,
          134,
          127,
          122,
          122,
          135,
          141,
          134,
          130,
          129,
          119,
          136,
          120,
          119,
          118,
          135,
          138,
          130,
          127,
          143,
          130,
          129,
          126,
          133,
          132,
          137,
          131,
          136,
          129,
          133,
          120,
          126,
          124,
          121
         ]
        }
       ],
       "layout": {
        "paper_bgcolor": "white",
        "plot_bgcolor": "#F6F8FC",
        "showlegend": false,
        "template": {
         "data": {
          "bar": [
           {
            "error_x": {
             "color": "#2a3f5f"
            },
            "error_y": {
             "color": "#2a3f5f"
            },
            "marker": {
             "line": {
              "color": "#E5ECF6",
              "width": 0.5
             },
             "pattern": {
              "fillmode": "overlay",
              "size": 10,
              "solidity": 0.2
             }
            },
            "type": "bar"
           }
          ],
          "barpolar": [
           {
            "marker": {
             "line": {
              "color": "#E5ECF6",
              "width": 0.5
             },
             "pattern": {
              "fillmode": "overlay",
              "size": 10,
              "solidity": 0.2
             }
            },
            "type": "barpolar"
           }
          ],
          "carpet": [
           {
            "aaxis": {
             "endlinecolor": "#2a3f5f",
             "gridcolor": "white",
             "linecolor": "white",
             "minorgridcolor": "white",
             "startlinecolor": "#2a3f5f"
            },
            "baxis": {
             "endlinecolor": "#2a3f5f",
             "gridcolor": "white",
             "linecolor": "white",
             "minorgridcolor": "white",
             "startlinecolor": "#2a3f5f"
            },
            "type": "carpet"
           }
          ],
          "choropleth": [
           {
            "colorbar": {
             "outlinewidth": 0,
             "ticks": ""
            },
            "type": "choropleth"
           }
          ],
          "contour": [
           {
            "colorbar": {
             "outlinewidth": 0,
             "ticks": ""
            },
            "colorscale": [
             [
              0,
              "#0d0887"
             ],
             [
              0.1111111111111111,
              "#46039f"
             ],
             [
              0.2222222222222222,
              "#7201a8"
             ],
             [
              0.3333333333333333,
              "#9c179e"
             ],
             [
              0.4444444444444444,
              "#bd3786"
             ],
             [
              0.5555555555555556,
              "#d8576b"
             ],
             [
              0.6666666666666666,
              "#ed7953"
             ],
             [
              0.7777777777777778,
              "#fb9f3a"
             ],
             [
              0.8888888888888888,
              "#fdca26"
             ],
             [
              1,
              "#f0f921"
             ]
            ],
            "type": "contour"
           }
          ],
          "contourcarpet": [
           {
            "colorbar": {
             "outlinewidth": 0,
             "ticks": ""
            },
            "type": "contourcarpet"
           }
          ],
          "heatmap": [
           {
            "colorbar": {
             "outlinewidth": 0,
             "ticks": ""
            },
            "colorscale": [
             [
              0,
              "#0d0887"
             ],
             [
              0.1111111111111111,
              "#46039f"
             ],
             [
              0.2222222222222222,
              "#7201a8"
             ],
             [
              0.3333333333333333,
              "#9c179e"
             ],
             [
              0.4444444444444444,
              "#bd3786"
             ],
             [
              0.5555555555555556,
              "#d8576b"
             ],
             [
              0.6666666666666666,
              "#ed7953"
             ],
             [
              0.7777777777777778,
              "#fb9f3a"
             ],
             [
              0.8888888888888888,
              "#fdca26"
             ],
             [
              1,
              "#f0f921"
             ]
            ],
            "type": "heatmap"
           }
          ],
          "heatmapgl": [
           {
            "colorbar": {
             "outlinewidth": 0,
             "ticks": ""
            },
            "colorscale": [
             [
              0,
              "#0d0887"
             ],
             [
              0.1111111111111111,
              "#46039f"
             ],
             [
              0.2222222222222222,
              "#7201a8"
             ],
             [
              0.3333333333333333,
              "#9c179e"
             ],
             [
              0.4444444444444444,
              "#bd3786"
             ],
             [
              0.5555555555555556,
              "#d8576b"
             ],
             [
              0.6666666666666666,
              "#ed7953"
             ],
             [
              0.7777777777777778,
              "#fb9f3a"
             ],
             [
              0.8888888888888888,
              "#fdca26"
             ],
             [
              1,
              "#f0f921"
             ]
            ],
            "type": "heatmapgl"
           }
          ],
          "histogram": [
           {
            "marker": {
             "pattern": {
              "fillmode": "overlay",
              "size": 10,
              "solidity": 0.2
             }
            },
            "type": "histogram"
           }
          ],
          "histogram2d": [
           {
            "colorbar": {
             "outlinewidth": 0,
             "ticks": ""
            },
            "colorscale": [
             [
              0,
              "#0d0887"
             ],
             [
              0.1111111111111111,
              "#46039f"
             ],
             [
              0.2222222222222222,
              "#7201a8"
             ],
             [
              0.3333333333333333,
              "#9c179e"
             ],
             [
              0.4444444444444444,
              "#bd3786"
             ],
             [
              0.5555555555555556,
              "#d8576b"
             ],
             [
              0.6666666666666666,
              "#ed7953"
             ],
             [
              0.7777777777777778,
              "#fb9f3a"
             ],
             [
              0.8888888888888888,
              "#fdca26"
             ],
             [
              1,
              "#f0f921"
             ]
            ],
            "type": "histogram2d"
           }
          ],
          "histogram2dcontour": [
           {
            "colorbar": {
             "outlinewidth": 0,
             "ticks": ""
            },
            "colorscale": [
             [
              0,
              "#0d0887"
             ],
             [
              0.1111111111111111,
              "#46039f"
             ],
             [
              0.2222222222222222,
              "#7201a8"
             ],
             [
              0.3333333333333333,
              "#9c179e"
             ],
             [
              0.4444444444444444,
              "#bd3786"
             ],
             [
              0.5555555555555556,
              "#d8576b"
             ],
             [
              0.6666666666666666,
              "#ed7953"
             ],
             [
              0.7777777777777778,
              "#fb9f3a"
             ],
             [
              0.8888888888888888,
              "#fdca26"
             ],
             [
              1,
              "#f0f921"
             ]
            ],
            "type": "histogram2dcontour"
           }
          ],
          "mesh3d": [
           {
            "colorbar": {
             "outlinewidth": 0,
             "ticks": ""
            },
            "type": "mesh3d"
           }
          ],
          "parcoords": [
           {
            "line": {
             "colorbar": {
              "outlinewidth": 0,
              "ticks": ""
             }
            },
            "type": "parcoords"
           }
          ],
          "pie": [
           {
            "automargin": true,
            "type": "pie"
           }
          ],
          "scatter": [
           {
            "fillpattern": {
             "fillmode": "overlay",
             "size": 10,
             "solidity": 0.2
            },
            "type": "scatter"
           }
          ],
          "scatter3d": [
           {
            "line": {
             "colorbar": {
              "outlinewidth": 0,
              "ticks": ""
             }
            },
            "marker": {
             "colorbar": {
              "outlinewidth": 0,
              "ticks": ""
             }
            },
            "type": "scatter3d"
           }
          ],
          "scattercarpet": [
           {
            "marker": {
             "colorbar": {
              "outlinewidth": 0,
              "ticks": ""
             }
            },
            "type": "scattercarpet"
           }
          ],
          "scattergeo": [
           {
            "marker": {
             "colorbar": {
              "outlinewidth": 0,
              "ticks": ""
             }
            },
            "type": "scattergeo"
           }
          ],
          "scattergl": [
           {
            "marker": {
             "colorbar": {
              "outlinewidth": 0,
              "ticks": ""
             }
            },
            "type": "scattergl"
           }
          ],
          "scattermapbox": [
           {
            "marker": {
             "colorbar": {
              "outlinewidth": 0,
              "ticks": ""
             }
            },
            "type": "scattermapbox"
           }
          ],
          "scatterpolar": [
           {
            "marker": {
             "colorbar": {
              "outlinewidth": 0,
              "ticks": ""
             }
            },
            "type": "scatterpolar"
           }
          ],
          "scatterpolargl": [
           {
            "marker": {
             "colorbar": {
              "outlinewidth": 0,
              "ticks": ""
             }
            },
            "type": "scatterpolargl"
           }
          ],
          "scatterternary": [
           {
            "marker": {
             "colorbar": {
              "outlinewidth": 0,
              "ticks": ""
             }
            },
            "type": "scatterternary"
           }
          ],
          "surface": [
           {
            "colorbar": {
             "outlinewidth": 0,
             "ticks": ""
            },
            "colorscale": [
             [
              0,
              "#0d0887"
             ],
             [
              0.1111111111111111,
              "#46039f"
             ],
             [
              0.2222222222222222,
              "#7201a8"
             ],
             [
              0.3333333333333333,
              "#9c179e"
             ],
             [
              0.4444444444444444,
              "#bd3786"
             ],
             [
              0.5555555555555556,
              "#d8576b"
             ],
             [
              0.6666666666666666,
              "#ed7953"
             ],
             [
              0.7777777777777778,
              "#fb9f3a"
             ],
             [
              0.8888888888888888,
              "#fdca26"
             ],
             [
              1,
              "#f0f921"
             ]
            ],
            "type": "surface"
           }
          ],
          "table": [
           {
            "cells": {
             "fill": {
              "color": "#EBF0F8"
             },
             "line": {
              "color": "white"
             }
            },
            "header": {
             "fill": {
              "color": "#C8D4E3"
             },
             "line": {
              "color": "white"
             }
            },
            "type": "table"
           }
          ]
         },
         "layout": {
          "annotationdefaults": {
           "arrowcolor": "#2a3f5f",
           "arrowhead": 0,
           "arrowwidth": 1
          },
          "autotypenumbers": "strict",
          "coloraxis": {
           "colorbar": {
            "outlinewidth": 0,
            "ticks": ""
           }
          },
          "colorscale": {
           "diverging": [
            [
             0,
             "#8e0152"
            ],
            [
             0.1,
             "#c51b7d"
            ],
            [
             0.2,
             "#de77ae"
            ],
            [
             0.3,
             "#f1b6da"
            ],
            [
             0.4,
             "#fde0ef"
            ],
            [
             0.5,
             "#f7f7f7"
            ],
            [
             0.6,
             "#e6f5d0"
            ],
            [
             0.7,
             "#b8e186"
            ],
            [
             0.8,
             "#7fbc41"
            ],
            [
             0.9,
             "#4d9221"
            ],
            [
             1,
             "#276419"
            ]
           ],
           "sequential": [
            [
             0,
             "#0d0887"
            ],
            [
             0.1111111111111111,
             "#46039f"
            ],
            [
             0.2222222222222222,
             "#7201a8"
            ],
            [
             0.3333333333333333,
             "#9c179e"
            ],
            [
             0.4444444444444444,
             "#bd3786"
            ],
            [
             0.5555555555555556,
             "#d8576b"
            ],
            [
             0.6666666666666666,
             "#ed7953"
            ],
            [
             0.7777777777777778,
             "#fb9f3a"
            ],
            [
             0.8888888888888888,
             "#fdca26"
            ],
            [
             1,
             "#f0f921"
            ]
           ],
           "sequentialminus": [
            [
             0,
             "#0d0887"
            ],
            [
             0.1111111111111111,
             "#46039f"
            ],
            [
             0.2222222222222222,
             "#7201a8"
            ],
            [
             0.3333333333333333,
             "#9c179e"
            ],
            [
             0.4444444444444444,
             "#bd3786"
            ],
            [
             0.5555555555555556,
             "#d8576b"
            ],
            [
             0.6666666666666666,
             "#ed7953"
            ],
            [
             0.7777777777777778,
             "#fb9f3a"
            ],
            [
             0.8888888888888888,
             "#fdca26"
            ],
            [
             1,
             "#f0f921"
            ]
           ]
          },
          "colorway": [
           "#636efa",
           "#EF553B",
           "#00cc96",
           "#ab63fa",
           "#FFA15A",
           "#19d3f3",
           "#FF6692",
           "#B6E880",
           "#FF97FF",
           "#FECB52"
          ],
          "font": {
           "color": "#2a3f5f"
          },
          "geo": {
           "bgcolor": "white",
           "lakecolor": "white",
           "landcolor": "#E5ECF6",
           "showlakes": true,
           "showland": true,
           "subunitcolor": "white"
          },
          "hoverlabel": {
           "align": "left"
          },
          "hovermode": "closest",
          "mapbox": {
           "style": "light"
          },
          "paper_bgcolor": "white",
          "plot_bgcolor": "#E5ECF6",
          "polar": {
           "angularaxis": {
            "gridcolor": "white",
            "linecolor": "white",
            "ticks": ""
           },
           "bgcolor": "#E5ECF6",
           "radialaxis": {
            "gridcolor": "white",
            "linecolor": "white",
            "ticks": ""
           }
          },
          "scene": {
           "xaxis": {
            "backgroundcolor": "#E5ECF6",
            "gridcolor": "white",
            "gridwidth": 2,
            "linecolor": "white",
            "showbackground": true,
            "ticks": "",
            "zerolinecolor": "white"
           },
           "yaxis": {
            "backgroundcolor": "#E5ECF6",
            "gridcolor": "white",
            "gridwidth": 2,
            "linecolor": "white",
            "showbackground": true,
            "ticks": "",
            "zerolinecolor": "white"
           },
           "zaxis": {
            "backgroundcolor": "#E5ECF6",
            "gridcolor": "white",
            "gridwidth": 2,
            "linecolor": "white",
            "showbackground": true,
            "ticks": "",
            "zerolinecolor": "white"
           }
          },
          "shapedefaults": {
           "line": {
            "color": "#2a3f5f"
           }
          },
          "ternary": {
           "aaxis": {
            "gridcolor": "white",
            "linecolor": "white",
            "ticks": ""
           },
           "baxis": {
            "gridcolor": "white",
            "linecolor": "white",
            "ticks": ""
           },
           "bgcolor": "#E5ECF6",
           "caxis": {
            "gridcolor": "white",
            "linecolor": "white",
            "ticks": ""
           }
          },
          "title": {
           "x": 0.05
          },
          "xaxis": {
           "automargin": true,
           "gridcolor": "white",
           "linecolor": "white",
           "ticks": "",
           "title": {
            "standoff": 15
           },
           "zerolinecolor": "white",
           "zerolinewidth": 2
          },
          "yaxis": {
           "automargin": true,
           "gridcolor": "white",
           "linecolor": "white",
           "ticks": "",
           "title": {
            "standoff": 15
           },
           "zerolinecolor": "white",
           "zerolinewidth": 2
          }
         }
        },
        "title": {
         "text": "Hb Spread by Race<br><sup><i>(n=382)</i></sup>",
         "x": 0,
         "xref": "paper"
        },
        "yaxis": {
         "gridcolor": "lightgrey",
         "title": {
          "text": "Hb<br><sup><i>mg/dL</i></sup>"
         }
        }
       }
      }
     },
     "metadata": {},
     "output_type": "display_data"
    }
   ],
   "source": [
    "%autoreload 2\n",
    "ma.disease_description_anemia()"
   ]
  },
  {
   "cell_type": "code",
   "execution_count": 25,
   "metadata": {},
   "outputs": [
    {
     "name": "stdout",
     "output_type": "stream",
     "text": [
      "Data consits of 382 rows after cleaning. \n",
      "        * 10 rows have been excluded.\n",
      "            \n",
      "> 90\n",
      "<= 90\n"
     ]
    },
    {
     "data": {
      "application/vnd.plotly.v1+json": {
       "config": {
        "plotlyServerURL": "https://plot.ly"
       },
       "data": [
        {
         "diagonal": {
          "visible": false
         },
         "dimensions": [
          {
           "label": "HbA1C",
           "values": [
            37,
            39,
            40,
            35,
            37,
            39,
            38,
            32,
            30,
            34,
            38,
            43,
            33,
            45,
            32,
            36,
            37,
            35,
            31,
            31,
            36,
            42,
            37,
            37,
            33,
            33,
            36,
            38,
            34,
            5.7,
            38,
            41,
            42,
            43,
            33,
            33,
            27,
            36,
            32,
            39,
            29,
            36,
            34,
            34,
            32,
            40,
            35,
            36,
            35,
            35,
            36,
            35,
            39,
            37,
            35,
            36,
            35,
            41,
            54,
            37,
            35,
            35,
            36,
            37,
            38,
            37,
            28,
            31,
            39,
            33,
            33,
            39,
            29,
            41,
            36,
            34,
            38,
            44,
            41,
            41,
            42,
            42,
            36,
            45,
            41,
            39,
            34,
            33,
            33,
            32,
            33,
            29,
            34,
            36,
            34,
            35,
            36,
            32,
            34,
            32,
            29,
            34,
            40,
            37,
            43,
            32,
            37,
            29,
            38,
            32,
            40,
            38,
            38,
            34,
            32,
            35,
            34,
            41,
            39,
            31,
            39,
            34,
            38,
            35,
            37,
            38,
            39,
            38,
            39,
            31,
            31,
            40,
            36,
            38,
            33,
            35,
            35,
            37,
            41,
            39,
            37,
            39,
            38,
            36,
            34,
            47,
            35,
            35,
            31,
            35,
            32,
            35,
            30,
            34,
            37,
            33,
            33,
            48,
            44,
            34,
            40,
            41,
            38,
            39,
            37,
            35,
            35,
            39,
            37,
            32,
            35,
            40,
            40,
            33,
            39,
            41,
            35,
            41,
            36,
            39,
            32,
            34,
            40,
            38,
            42,
            41,
            32,
            34,
            39,
            32,
            40,
            43,
            36,
            33,
            43,
            33,
            36,
            41,
            38,
            40,
            42,
            34,
            43,
            41,
            38,
            36,
            37,
            37,
            36,
            26,
            38,
            40,
            39,
            33,
            39,
            43,
            37,
            36,
            41,
            35,
            34,
            34,
            28,
            39,
            44,
            39,
            37,
            40,
            43,
            44,
            42,
            34,
            35,
            36,
            36,
            37,
            40,
            38,
            40,
            35,
            35,
            41,
            39,
            35,
            35,
            38,
            35,
            38,
            42,
            39,
            35,
            32,
            36,
            49,
            35,
            37,
            30,
            23,
            35,
            43,
            40,
            40,
            34,
            39,
            32,
            47,
            32,
            37,
            36,
            35,
            38,
            31,
            32,
            38,
            38,
            32,
            44,
            47,
            39,
            42,
            38,
            36,
            36,
            33,
            34,
            40,
            39,
            39,
            36,
            39,
            36,
            38,
            44,
            42,
            35,
            38,
            35,
            45,
            39,
            38,
            34,
            33,
            32,
            30,
            34,
            39,
            42,
            37,
            34,
            36,
            36,
            37,
            37,
            35,
            43,
            43,
            43,
            39
           ]
          },
          {
           "label": "eGFR",
           "values": [
            98.64094301736165,
            97.02633636617229,
            131.25307410617972,
            127.46239763318408,
            112.59956336395705,
            111.81136642040936,
            122.02426558307246,
            110.87329487427813,
            97.3210256232535,
            100.93882792039533,
            94.93419156216439,
            96.51939099767704,
            120.62462380552228,
            114.99764877812075,
            134.5833305282209,
            104.8209037109621,
            112.44197283733173,
            120.72158371864322,
            109.91879509173201,
            116.27275720662647,
            154.09627680573644,
            92.30381482896922,
            130.22114989157984,
            97.6156576950087,
            125.03703932378372,
            111.65487902747041,
            90.00649824445149,
            98.72801662307242,
            103.65800179958484,
            102.6382841720783,
            111.74462892287721,
            115.16970724706022,
            113.23461514333509,
            100.78591123182991,
            125.03703932378372,
            136.26189055889736,
            115.45884790618007,
            105.28409454967425,
            104.3038694544322,
            111.5667855180877,
            91.7399551566162,
            103.57374236825119,
            109.49732097651443,
            94.26965222122924,
            114.68719797673734,
            138.0467397686443,
            96.34628320101412,
            118.5142846390119,
            96.26124721146479,
            102.63503745230742,
            96.58394959877714,
            114.04514440269091,
            90.08415529082254,
            117.56849918800462,
            106.94962208290283,
            116.74551969368859,
            120.64482139741061,
            133.202721970854,
            133.4816906993428,
            106.04766556000983,
            113.56297466125648,
            114.68719797673734,
            119.34973276839064,
            113.74204520552081,
            129.78326416043672,
            111.97865760175729,
            109.33829326507201,
            121.57259186167494,
            90.2661956593518,
            94.91830655161765,
            118.12133034837373,
            114.8367019725542,
            112.3532583263723,
            97.26480322132643,
            114.19266523667389,
            92.36989634942846,
            110.41644334955518,
            96.35019982267895,
            104.08715738498536,
            127.54225572839307,
            120.32293525255506,
            114.73724659577269,
            93.96214438458037,
            108.11389138354683,
            103.08856921358547,
            109.91879509173201,
            105.28409454967425,
            124.08048200146126,
            107.357094143862,
            120.12759209588316,
            115.35256607381156,
            119.79255630133365,
            116.62467968439778,
            128.77768678096024,
            106.04766556000983,
            90.44367521797939,
            105.60562881556196,
            108.38531798140725,
            96.93234809114362,
            101.45190854391176,
            122.33126731584565,
            92.6512785082711,
            110.5917552589763,
            135.945000743454,
            96.58394959877714,
            99.53063033207788,
            111.97865760175729,
            91.09777547051989,
            117.46568311828285,
            104.8209037109621,
            97.95045641624012,
            122.62964846723871,
            105.7796006632857,
            102.21186901647883,
            111.89429264641988,
            115.16970724706022,
            95.90786195158572,
            98.64094301736165,
            108.5729252122165,
            96.63977844389072,
            120.53779965692873,
            103.35854728329046,
            124.01961986624525,
            138.18977612562597,
            102.63503745230742,
            102.36694922909037,
            111.47396842523244,
            131.02627699520448,
            113.84808151904096,
            117.28243277100233,
            109.81761297216349,
            110.87329487427813,
            101.45190854391176,
            107.5275486214137,
            127.43650996755292,
            94.81958584312463,
            109.47972564514588,
            121.77124092796805,
            137.2855110958635,
            103.35854728329046,
            114.8367019725542,
            118.8561768139149,
            104.54710588782653,
            116.62467968439778,
            109.56092258212172,
            109.64352824610829,
            116.79917250264462,
            91.44159409707842,
            114.54509811129488,
            139.44893603659125,
            103.49698260360863,
            93.69378376646617,
            127.01331199726437,
            90.64098514043454,
            102.21186901647883,
            107.41116585132062,
            91.499280034521,
            120.49695478060238,
            130.33430258743647,
            105.91267267652884,
            115.82691937309967,
            111.66692188897707,
            106.02627849916844,
            101.65038058448674,
            101.45190854391176,
            106.30881676225282,
            117.37670617997415,
            112.59956336395705,
            107.04667850193583,
            94.25387840575632,
            110.59599490982593,
            113.74764289246247,
            93.69378376646617,
            96.36377036800566,
            128.77768678096024,
            108.03243815117852,
            136.26189055889736,
            114.65063597083682,
            110.10905666170395,
            129.58937368125444,
            118.64329415651574,
            98.64094301736165,
            115.82691937309967,
            96.58394959877714,
            134.36090092371018,
            124.3646598366194,
            133.09573758619032,
            93.96214438458037,
            108.28554745358882,
            122.02531035735045,
            115.82691937309967,
            96.95604931444339,
            107.52637901277566,
            102.21186901647883,
            114.05193891200528,
            112.95140939221523,
            99.99905850284853,
            109.04770352464804,
            116.30983650583018,
            128.68224806548565,
            109.14936352608989,
            112.71623277149467,
            107.812914735731,
            115.64622555141409,
            113.74328242451581,
            123.96265027623099,
            105.7796006632857,
            103.57374236825119,
            107.52637901277566,
            122.35175067102205,
            115.92830105583276,
            115.16970724706022,
            132.37056988625275,
            93.69378376646617,
            135.1897276469512,
            118.12897355563666,
            102.36694922909037,
            107.54806866596877,
            98.68418805534502,
            126.39250834422835,
            103.67246878803488,
            131.02627699520448,
            97.62318831159993,
            118.29373929333622,
            93.51904491490936,
            96.38896063732815,
            112.25978693376881,
            119.78025143888364,
            112.76803383862769,
            96.6262928331504,
            115.35256607381156,
            126.24885934451679,
            111.89429264641988,
            98.41607452682715,
            120.98652979427877,
            116.55506923671433,
            101.81786678160273,
            111.11103259789495,
            109.64352824610829,
            115.2305655517577,
            130.32024651846748,
            101.91659219014127,
            118.41164350694234,
            103.57374236825119,
            98.64094301736165,
            118.39728014904796,
            145.0277830270367,
            107.54806866596877,
            114.54948931768625,
            94.81573144069634,
            107.36348255210912,
            112.82762304422293,
            119.03739690418443,
            144.64827704091908,
            115.65869891120107,
            92.57140847332182,
            90.12713076148701,
            119.7980404590383,
            108.5729252122165,
            107.83095771763693,
            108.46719559198267,
            90.71918961814958,
            113.05114494840767,
            124.83650581694965,
            126.72308189421847,
            114.4239515928954,
            116.64342333645487,
            112.94707944754421,
            102.14216220075969,
            136.26189055889736,
            139.6696635957015,
            113.56297466125648,
            92.79384699393336,
            110.05952148840167,
            116.17017949177604,
            138.06892632525341,
            96.66087875437613,
            115.181242654728,
            104.64457019557233,
            114.0328450587463,
            118.29373929333622,
            99.79444729751535,
            107.66094280800398,
            114.04514440269091,
            113.51080843050822,
            99.37984698423467,
            121.35255935020758,
            98.39910224154406,
            119.62431151808775,
            99.39371689368237,
            129.27236782610018,
            129.7236469856872,
            101.65038058448674,
            118.78694133746113,
            114.27735758119418,
            109.18417118013808,
            107.812914735731,
            99.96968657909053,
            114.32485295712216,
            115.808306926607,
            123.49410721776306,
            122.2080154584165,
            127.55380015077989,
            104.64457019557233,
            102.86219758384661,
            114.19266523667389,
            103.10936369522751,
            95.43578731736032,
            109.82182294545716,
            109.04888968135833,
            102.63503745230742,
            115.016130937488,
            91.3587005218022,
            90.00649824445149,
            94.17829296566903,
            118.06879620442352,
            126.61306436192706,
            107.05822433258089
           ]
          },
          {
           "label": "Age",
           "values": [
            34,
            44,
            30,
            29,
            36,
            37,
            35,
            39,
            31,
            41,
            35,
            37,
            27,
            33,
            30,
            33,
            37,
            32,
            37,
            29,
            24,
            39,
            24,
            38,
            27,
            38,
            35,
            36,
            32,
            35,
            43,
            32,
            36,
            36,
            27,
            34,
            30,
            35,
            39,
            35,
            37,
            40,
            45,
            36,
            35,
            28,
            23,
            32,
            35,
            36,
            37,
            29,
            42,
            34,
            25,
            35,
            33,
            39,
            32,
            35,
            34,
            35,
            31,
            24,
            36,
            36,
            35,
            31,
            30,
            37,
            37,
            34,
            34,
            36,
            34,
            29,
            38,
            44,
            34,
            32,
            29,
            36,
            36,
            41,
            38,
            37,
            35,
            38,
            42,
            26,
            31,
            35,
            31,
            30,
            35,
            32,
            22,
            39,
            39,
            30,
            25,
            38,
            37,
            25,
            37,
            43,
            36,
            38,
            35,
            33,
            35,
            28,
            37,
            34,
            29,
            32,
            38,
            34,
            36,
            32,
            35,
            35,
            30,
            32,
            36,
            39,
            35,
            33,
            32,
            31,
            38,
            39,
            30,
            41,
            41,
            44,
            40,
            29,
            28,
            35,
            34,
            37,
            36,
            31,
            32,
            39,
            30,
            34,
            32,
            25,
            48,
            34,
            23,
            34,
            34,
            24,
            35,
            37,
            31,
            26,
            37,
            32,
            34,
            40,
            30,
            39,
            36,
            36,
            44,
            38,
            41,
            37,
            34,
            30,
            30,
            34,
            34,
            31,
            34,
            37,
            39,
            34,
            37,
            37,
            36,
            26,
            34,
            36,
            40,
            27,
            37,
            32,
            32,
            34,
            41,
            38,
            45,
            30,
            33,
            38,
            38,
            40,
            37,
            33,
            33,
            35,
            37,
            40,
            32,
            31,
            36,
            32,
            39,
            34,
            36,
            36,
            39,
            33,
            39,
            43,
            22,
            33,
            33,
            34,
            35,
            35,
            34,
            28,
            35,
            42,
            31,
            23,
            29,
            27,
            31,
            37,
            32,
            30,
            39,
            36,
            37,
            37,
            29,
            40,
            34,
            33,
            26,
            33,
            36,
            23,
            27,
            39,
            34,
            32,
            27,
            31,
            34,
            43,
            36,
            35,
            44,
            41,
            33,
            34,
            35,
            37,
            36,
            34,
            38,
            34,
            36,
            34,
            33,
            47,
            34,
            33,
            22,
            38,
            44,
            35,
            34,
            39,
            44,
            29,
            39,
            38,
            37,
            42,
            29,
            28,
            28,
            41,
            40,
            30,
            26,
            42,
            37,
            32,
            34,
            32,
            27,
            36,
            26,
            44,
            37,
            34,
            39,
            30,
            42,
            39,
            36,
            38,
            40,
            35,
            34,
            37,
            28,
            38
           ]
          },
          {
           "label": "Hb",
           "values": [
            132,
            70,
            139,
            124,
            141,
            124,
            125,
            126,
            131,
            135,
            134,
            123,
            113,
            134,
            139,
            147,
            134,
            119,
            118,
            130,
            131,
            119,
            128,
            139,
            114,
            131,
            135,
            132,
            129,
            124,
            139,
            117,
            124,
            118,
            112,
            121,
            119,
            133,
            131,
            131,
            130,
            136,
            122,
            123,
            132,
            118,
            121,
            120,
            119,
            125,
            111,
            126,
            130,
            120,
            112,
            122,
            133,
            118,
            129,
            118,
            111,
            115,
            124,
            125,
            124,
            116,
            115,
            134,
            133,
            130,
            132,
            127,
            120,
            133,
            134,
            130,
            130,
            137,
            144,
            129,
            137,
            123,
            149,
            122,
            126,
            124,
            129,
            134,
            121,
            126,
            133,
            127,
            124,
            120,
            140,
            136,
            110,
            128,
            141,
            122,
            110,
            130,
            134,
            127,
            125,
            133,
            131,
            119,
            132,
            132,
            126,
            125,
            131,
            125,
            128,
            114,
            131,
            138,
            135,
            122,
            127,
            143,
            129,
            119,
            130,
            126,
            136,
            115,
            114,
            117,
            130,
            118,
            127,
            137,
            120,
            122,
            134,
            117,
            119,
            121,
            131,
            139,
            129,
            123,
            130,
            137,
            114,
            112,
            120,
            115,
            121,
            127,
            120,
            123,
            132,
            116,
            124,
            129,
            117,
            107,
            131,
            143,
            140,
            122,
            117,
            110,
            111,
            140,
            137,
            114,
            125,
            122,
            129,
            120,
            118,
            134,
            102,
            122,
            137,
            127,
            111,
            136,
            130,
            124,
            137,
            117,
            124,
            116,
            120,
            142,
            133,
            117,
            126,
            110,
            125,
            134,
            137,
            133,
            128,
            129,
            143,
            124,
            130,
            139,
            117,
            107,
            137,
            137,
            125,
            145,
            135,
            132,
            111,
            131,
            143,
            103,
            117,
            121,
            150,
            123,
            122,
            130,
            139,
            126,
            112,
            114,
            129,
            122,
            136,
            132,
            127,
            107,
            122,
            138,
            129,
            133,
            130,
            118,
            139,
            118,
            131,
            131,
            93,
            135,
            125,
            130,
            120,
            112,
            137,
            132,
            137,
            128,
            137,
            138,
            126,
            141,
            122,
            94,
            115,
            133,
            124,
            147,
            127,
            134,
            111,
            130,
            127,
            121,
            107,
            127,
            126,
            125,
            104,
            134,
            135,
            127,
            120,
            143,
            131,
            104,
            115,
            117,
            123,
            140,
            142,
            117,
            124,
            128,
            126,
            118,
            115,
            99,
            136,
            134,
            127,
            122,
            122,
            135,
            129,
            119,
            120,
            119,
            118,
            135,
            138,
            127,
            143,
            130,
            126,
            133,
            131,
            136,
            129,
            133,
            120,
            126,
            124,
            121
           ]
          },
          {
           "label": "ALT",
           "values": [
            null,
            null,
            null,
            null,
            null,
            null,
            null,
            null,
            null,
            null,
            null,
            null,
            null,
            null,
            null,
            null,
            null,
            null,
            null,
            null,
            null,
            null,
            null,
            null,
            null,
            null,
            null,
            null,
            null,
            null,
            null,
            null,
            null,
            null,
            null,
            null,
            null,
            null,
            null,
            null,
            null,
            null,
            null,
            null,
            null,
            null,
            null,
            null,
            null,
            null,
            null,
            null,
            null,
            null,
            null,
            null,
            null,
            null,
            null,
            null,
            null,
            null,
            null,
            null,
            null,
            null,
            null,
            null,
            null,
            null,
            null,
            null,
            null,
            null,
            null,
            null,
            null,
            null,
            null,
            null,
            null,
            null,
            null,
            null,
            null,
            null,
            null,
            null,
            null,
            null,
            null,
            null,
            null,
            null,
            null,
            null,
            null,
            null,
            null,
            null,
            null,
            null,
            39,
            15,
            25,
            26,
            31,
            29,
            33,
            68,
            18,
            31,
            21,
            50,
            39,
            31,
            17,
            24,
            14,
            14,
            67,
            29,
            36,
            19,
            33,
            null,
            24,
            24,
            22,
            33,
            25,
            56,
            35,
            27,
            13,
            24,
            34,
            17,
            13,
            11,
            32,
            39,
            38,
            68,
            43,
            67,
            37,
            15,
            21,
            51,
            24,
            28,
            24,
            39,
            21,
            14,
            14,
            21,
            32,
            16,
            53,
            17,
            29,
            26,
            8,
            17,
            20,
            34,
            155,
            18,
            35,
            27,
            23,
            12,
            21,
            24,
            11,
            23,
            26,
            22,
            17,
            47,
            67,
            18,
            30,
            44,
            null,
            null,
            null,
            14,
            69,
            25,
            23,
            9,
            26,
            33,
            72,
            30,
            21,
            30,
            37,
            21,
            29,
            18,
            28,
            12,
            63,
            30,
            19,
            74,
            64,
            28,
            1.7,
            39,
            23,
            18,
            31,
            21,
            33,
            23,
            26,
            null,
            28,
            82,
            10,
            41,
            60,
            22,
            26,
            8,
            null,
            16,
            31,
            16,
            15,
            25,
            19,
            41,
            31,
            23,
            25,
            32,
            9,
            44,
            22,
            20,
            22,
            13,
            27,
            15,
            33,
            53,
            27,
            32,
            51,
            21,
            16,
            12,
            22,
            29,
            39,
            19,
            20,
            47,
            22,
            24,
            30,
            23,
            13,
            null,
            15,
            59,
            17,
            30,
            38,
            25,
            12,
            23,
            126,
            25,
            34,
            18,
            18,
            20,
            34,
            40,
            75,
            26,
            22,
            25,
            17,
            17,
            26,
            90,
            15,
            56,
            60,
            29,
            11,
            123,
            12,
            61,
            20,
            18,
            16,
            85,
            25,
            49,
            59,
            33,
            20,
            59,
            37,
            27,
            19,
            73,
            59,
            20
           ]
          },
          {
           "label": "ACR",
           "values": [
            7.4,
            9.3,
            91.3,
            null,
            6.6,
            0,
            12.1,
            18,
            18.7,
            12,
            8.2,
            0,
            5.1,
            14.9,
            8.9,
            4.8,
            9.3,
            6.6,
            0,
            0,
            22.3,
            1.6,
            0.8,
            0,
            3.3,
            0.4,
            0.6,
            0.4,
            0,
            null,
            0,
            0.8,
            0,
            0.5,
            0.4,
            0.9,
            1.3,
            1.1,
            1.2,
            1.2,
            1.9,
            3.7,
            6.5,
            1.6,
            0,
            0.3,
            2.4,
            2.7,
            0,
            1.4,
            2.5,
            17.1,
            1.3,
            7.3,
            0,
            0.7,
            1.4,
            0.6,
            0.5,
            2.4,
            0.6,
            0,
            0.8,
            14.3,
            5.5,
            59.2,
            0.9,
            1,
            1,
            0.7,
            1.5,
            0.4,
            1,
            3.3,
            23.9,
            0.6,
            3.3,
            0.9,
            1.9,
            2.2,
            1.4,
            1.7,
            3.4,
            15.5,
            1.3,
            1.7,
            2,
            0.4,
            1.1,
            7.5,
            2,
            2.2,
            0.4,
            0.7,
            10.8,
            2.5,
            3.8,
            16.8,
            1.2,
            4.5,
            3.2,
            0.5,
            48.5,
            0.4,
            0.6,
            0.8,
            1.3,
            2.6,
            1.1,
            1.6,
            1,
            5.8,
            0.3,
            0,
            2.5,
            5.3,
            0.8,
            0,
            0.7,
            1.5,
            1,
            5.1,
            2,
            12.6,
            2.2,
            0.6,
            0.9,
            null,
            0.6,
            1.1,
            0,
            1.1,
            0.8,
            0,
            3.3,
            2.8,
            1.8,
            0,
            0.5,
            2.3,
            1.6,
            0.7,
            3.1,
            0,
            11.4,
            3.2,
            0.9,
            1.1,
            1.9,
            0.8,
            1.3,
            2.8,
            0.9,
            null,
            0.8,
            0.8,
            0.7,
            5.2,
            2.5,
            3.8,
            2.6,
            1.5,
            0,
            2.5,
            0.8,
            2.1,
            10,
            0.6,
            0,
            1.7,
            3.3,
            0,
            7.3,
            2.4,
            1.1,
            0.7,
            89.9,
            2,
            0,
            1.7,
            0.5,
            1.6,
            1.3,
            9,
            6.5,
            3.2,
            0.4,
            5,
            0.7,
            1.2,
            9.3,
            1.5,
            7.8,
            0,
            0,
            1,
            0.7,
            0,
            0.7,
            4.8,
            1,
            1.6,
            0,
            30.7,
            0.5,
            null,
            0.5,
            1,
            0.7,
            1.6,
            1.4,
            null,
            3.9,
            1,
            1,
            1.3,
            2.7,
            0.7,
            2,
            1.2,
            0.6,
            2.7,
            1.8,
            8.3,
            5.2,
            0.5,
            3.4,
            0.6,
            4.2,
            3.6,
            1.3,
            null,
            48.3,
            1.7,
            1.2,
            0,
            3.1,
            2.4,
            5.3,
            16.5,
            1.1,
            1.9,
            0.8,
            2.8,
            1.2,
            7.4,
            1.4,
            0.4,
            3.1,
            0.3,
            0.8,
            9.7,
            40,
            3.2,
            2.1,
            0.7,
            0.7,
            3.4,
            1.2,
            0,
            1.3,
            2.2,
            6.3,
            1.5,
            3.1,
            1.3,
            10.5,
            0.8,
            0.8,
            10.3,
            1.9,
            0,
            0.8,
            0.8,
            1.3,
            19.7,
            1.7,
            1,
            1.7,
            0.9,
            1,
            1,
            4.8,
            1.7,
            0,
            3.4,
            4.5,
            6.6,
            3.1,
            1.5,
            null,
            1.7,
            8.8,
            1.2,
            0,
            1.9,
            0,
            10.7,
            2.4,
            4.5,
            4.3,
            2,
            8.7,
            0.9,
            0.8,
            1.6,
            1.5,
            6.5,
            2.3,
            1.2,
            1.6,
            3.5,
            1.4,
            0,
            2.6,
            1.4,
            1.9,
            1.4
           ]
          }
         ],
         "marker": {
          "color": "#172207",
          "line": {
           "color": "white",
           "width": 0.5
          },
          "showscale": false
         },
         "name": "> 90",
         "type": "splom"
        },
        {
         "diagonal": {
          "visible": false
         },
         "dimensions": [
          {
           "label": "HbA1C",
           "values": [
            37,
            40,
            36,
            43,
            35,
            39,
            36,
            36,
            31,
            33,
            37,
            38,
            40,
            34,
            34,
            35,
            39,
            31,
            37,
            37,
            41,
            31,
            41,
            33,
            36,
            40,
            35,
            42,
            39,
            47,
            35,
            43,
            42,
            39,
            34,
            34,
            34,
            43,
            36,
            40,
            36,
            40,
            36,
            34,
            37,
            39,
            33,
            36,
            39,
            34,
            41,
            40,
            37,
            35,
            33,
            35,
            38,
            39,
            40,
            40,
            40,
            37,
            37,
            43
           ]
          },
          {
           "label": "eGFR",
           "values": [
            86.99403329709253,
            83.71821023495698,
            87.10887728005106,
            80.10800280260891,
            86.25512215624723,
            87.15080071622504,
            53.22623852145265,
            74.01240684949508,
            83.16562608915285,
            85.77254967419255,
            79.56372797178727,
            84.14292870104227,
            71.50093897853273,
            87.9536798657601,
            88.95822141118063,
            75.15676098497809,
            81.14148032752874,
            87.47549275568174,
            78.31061479133724,
            68.52336794567277,
            85.33341517616495,
            85.77254967419255,
            76.1215343357795,
            88.85082925751712,
            75.5817840090223,
            89.18189550501334,
            81.91043275424019,
            80.55612033044127,
            78.94476125255879,
            77.19853104235135,
            82.33400790068788,
            74.15661899951132,
            85.05177694704543,
            71.9551492139095,
            83.16562608915285,
            87.15080071622504,
            80.54264115291843,
            72.9731983034408,
            68.99040957709394,
            84.58750690829243,
            63.3507725486348,
            81.91043275424019,
            87.76515681392249,
            88.55762223647825,
            83.16562608915285,
            87.47549275568174,
            85.18379346253013,
            77.74273015342533,
            87.32215484865715,
            76.65114412064948,
            66.37987751600356,
            75.5817840090223,
            62.423851594771776,
            86.99799243917568,
            74.58548884161263,
            81.81410029836714,
            72.46238591531672,
            84.73872327659926,
            74.52734254031242,
            40.13895868318241,
            80.12460017299826,
            81.76681346517586,
            77.9045582620329,
            85.50119600209898
           ]
          },
          {
           "label": "Age",
           "values": [
            37,
            43,
            42,
            37,
            32,
            35,
            40,
            39,
            35,
            37,
            37,
            40,
            36,
            43,
            19,
            43,
            39,
            30,
            46,
            44,
            38,
            37,
            35,
            30,
            34,
            34,
            35,
            27,
            36,
            33,
            35,
            37,
            34,
            41,
            35,
            35,
            29,
            39,
            45,
            37,
            42,
            35,
            34,
            35,
            35,
            30,
            36,
            32,
            37,
            32,
            30,
            34,
            37,
            33,
            42,
            34,
            40,
            29,
            36,
            39,
            36,
            31,
            40,
            40
           ]
          },
          {
           "label": "Hb",
           "values": [
            111,
            130,
            121,
            117,
            130,
            119,
            129,
            123,
            144,
            111,
            114,
            119,
            119,
            137,
            118,
            122,
            105,
            129,
            130,
            139,
            147,
            129,
            130,
            135,
            138,
            129,
            140,
            125,
            139,
            122,
            113,
            117,
            129,
            144,
            132,
            114,
            106,
            115,
            124,
            129,
            140,
            131,
            132,
            121,
            136,
            110,
            129,
            130,
            137,
            116,
            128,
            130,
            128,
            126,
            145,
            117,
            141,
            134,
            130,
            136,
            130,
            129,
            132,
            137
           ]
          },
          {
           "label": "ALT",
           "values": [
            null,
            null,
            null,
            null,
            null,
            null,
            null,
            null,
            null,
            null,
            null,
            null,
            null,
            null,
            null,
            39,
            15,
            44,
            25,
            23,
            23,
            22,
            41,
            38,
            38,
            16,
            25,
            12,
            52,
            21,
            47,
            null,
            null,
            53,
            80,
            23,
            19,
            10,
            22,
            28,
            39,
            13,
            253,
            26,
            37,
            20,
            49,
            102,
            60,
            12,
            19,
            18,
            14,
            18,
            58,
            16,
            89,
            21,
            17,
            29,
            52,
            20,
            29,
            25
           ]
          },
          {
           "label": "ACR",
           "values": [
            6.2,
            7.5,
            1.2,
            1.3,
            0,
            3.2,
            2.7,
            1.9,
            0.5,
            20.7,
            1.9,
            1.6,
            1,
            7.6,
            0.5,
            3.4,
            null,
            7.8,
            0.8,
            1.1,
            7.3,
            0.7,
            0.4,
            0,
            0.5,
            null,
            0,
            0.9,
            0.6,
            1.5,
            7.7,
            0.3,
            2.7,
            0.5,
            0,
            0.8,
            1,
            1,
            12.6,
            1.4,
            1.1,
            5.9,
            2.6,
            1.4,
            1.6,
            0.4,
            2,
            1.6,
            4.7,
            2.6,
            0.6,
            0,
            1.4,
            1.8,
            1.8,
            5.6,
            2.7,
            1,
            5,
            2.1,
            1.1,
            4.5,
            1.5,
            1.9
           ]
          }
         ],
         "marker": {
          "color": "#b7410e",
          "line": {
           "color": "white",
           "width": 0.5
          },
          "showscale": false
         },
         "name": "<= 90",
         "type": "splom"
        }
       ],
       "layout": {
        "height": 1000,
        "plot_bgcolor": "#ececec",
        "showlegend": true,
        "template": {
         "data": {
          "bar": [
           {
            "error_x": {
             "color": "#2a3f5f"
            },
            "error_y": {
             "color": "#2a3f5f"
            },
            "marker": {
             "line": {
              "color": "#E5ECF6",
              "width": 0.5
             },
             "pattern": {
              "fillmode": "overlay",
              "size": 10,
              "solidity": 0.2
             }
            },
            "type": "bar"
           }
          ],
          "barpolar": [
           {
            "marker": {
             "line": {
              "color": "#E5ECF6",
              "width": 0.5
             },
             "pattern": {
              "fillmode": "overlay",
              "size": 10,
              "solidity": 0.2
             }
            },
            "type": "barpolar"
           }
          ],
          "carpet": [
           {
            "aaxis": {
             "endlinecolor": "#2a3f5f",
             "gridcolor": "white",
             "linecolor": "white",
             "minorgridcolor": "white",
             "startlinecolor": "#2a3f5f"
            },
            "baxis": {
             "endlinecolor": "#2a3f5f",
             "gridcolor": "white",
             "linecolor": "white",
             "minorgridcolor": "white",
             "startlinecolor": "#2a3f5f"
            },
            "type": "carpet"
           }
          ],
          "choropleth": [
           {
            "colorbar": {
             "outlinewidth": 0,
             "ticks": ""
            },
            "type": "choropleth"
           }
          ],
          "contour": [
           {
            "colorbar": {
             "outlinewidth": 0,
             "ticks": ""
            },
            "colorscale": [
             [
              0,
              "#0d0887"
             ],
             [
              0.1111111111111111,
              "#46039f"
             ],
             [
              0.2222222222222222,
              "#7201a8"
             ],
             [
              0.3333333333333333,
              "#9c179e"
             ],
             [
              0.4444444444444444,
              "#bd3786"
             ],
             [
              0.5555555555555556,
              "#d8576b"
             ],
             [
              0.6666666666666666,
              "#ed7953"
             ],
             [
              0.7777777777777778,
              "#fb9f3a"
             ],
             [
              0.8888888888888888,
              "#fdca26"
             ],
             [
              1,
              "#f0f921"
             ]
            ],
            "type": "contour"
           }
          ],
          "contourcarpet": [
           {
            "colorbar": {
             "outlinewidth": 0,
             "ticks": ""
            },
            "type": "contourcarpet"
           }
          ],
          "heatmap": [
           {
            "colorbar": {
             "outlinewidth": 0,
             "ticks": ""
            },
            "colorscale": [
             [
              0,
              "#0d0887"
             ],
             [
              0.1111111111111111,
              "#46039f"
             ],
             [
              0.2222222222222222,
              "#7201a8"
             ],
             [
              0.3333333333333333,
              "#9c179e"
             ],
             [
              0.4444444444444444,
              "#bd3786"
             ],
             [
              0.5555555555555556,
              "#d8576b"
             ],
             [
              0.6666666666666666,
              "#ed7953"
             ],
             [
              0.7777777777777778,
              "#fb9f3a"
             ],
             [
              0.8888888888888888,
              "#fdca26"
             ],
             [
              1,
              "#f0f921"
             ]
            ],
            "type": "heatmap"
           }
          ],
          "heatmapgl": [
           {
            "colorbar": {
             "outlinewidth": 0,
             "ticks": ""
            },
            "colorscale": [
             [
              0,
              "#0d0887"
             ],
             [
              0.1111111111111111,
              "#46039f"
             ],
             [
              0.2222222222222222,
              "#7201a8"
             ],
             [
              0.3333333333333333,
              "#9c179e"
             ],
             [
              0.4444444444444444,
              "#bd3786"
             ],
             [
              0.5555555555555556,
              "#d8576b"
             ],
             [
              0.6666666666666666,
              "#ed7953"
             ],
             [
              0.7777777777777778,
              "#fb9f3a"
             ],
             [
              0.8888888888888888,
              "#fdca26"
             ],
             [
              1,
              "#f0f921"
             ]
            ],
            "type": "heatmapgl"
           }
          ],
          "histogram": [
           {
            "marker": {
             "pattern": {
              "fillmode": "overlay",
              "size": 10,
              "solidity": 0.2
             }
            },
            "type": "histogram"
           }
          ],
          "histogram2d": [
           {
            "colorbar": {
             "outlinewidth": 0,
             "ticks": ""
            },
            "colorscale": [
             [
              0,
              "#0d0887"
             ],
             [
              0.1111111111111111,
              "#46039f"
             ],
             [
              0.2222222222222222,
              "#7201a8"
             ],
             [
              0.3333333333333333,
              "#9c179e"
             ],
             [
              0.4444444444444444,
              "#bd3786"
             ],
             [
              0.5555555555555556,
              "#d8576b"
             ],
             [
              0.6666666666666666,
              "#ed7953"
             ],
             [
              0.7777777777777778,
              "#fb9f3a"
             ],
             [
              0.8888888888888888,
              "#fdca26"
             ],
             [
              1,
              "#f0f921"
             ]
            ],
            "type": "histogram2d"
           }
          ],
          "histogram2dcontour": [
           {
            "colorbar": {
             "outlinewidth": 0,
             "ticks": ""
            },
            "colorscale": [
             [
              0,
              "#0d0887"
             ],
             [
              0.1111111111111111,
              "#46039f"
             ],
             [
              0.2222222222222222,
              "#7201a8"
             ],
             [
              0.3333333333333333,
              "#9c179e"
             ],
             [
              0.4444444444444444,
              "#bd3786"
             ],
             [
              0.5555555555555556,
              "#d8576b"
             ],
             [
              0.6666666666666666,
              "#ed7953"
             ],
             [
              0.7777777777777778,
              "#fb9f3a"
             ],
             [
              0.8888888888888888,
              "#fdca26"
             ],
             [
              1,
              "#f0f921"
             ]
            ],
            "type": "histogram2dcontour"
           }
          ],
          "mesh3d": [
           {
            "colorbar": {
             "outlinewidth": 0,
             "ticks": ""
            },
            "type": "mesh3d"
           }
          ],
          "parcoords": [
           {
            "line": {
             "colorbar": {
              "outlinewidth": 0,
              "ticks": ""
             }
            },
            "type": "parcoords"
           }
          ],
          "pie": [
           {
            "automargin": true,
            "type": "pie"
           }
          ],
          "scatter": [
           {
            "fillpattern": {
             "fillmode": "overlay",
             "size": 10,
             "solidity": 0.2
            },
            "type": "scatter"
           }
          ],
          "scatter3d": [
           {
            "line": {
             "colorbar": {
              "outlinewidth": 0,
              "ticks": ""
             }
            },
            "marker": {
             "colorbar": {
              "outlinewidth": 0,
              "ticks": ""
             }
            },
            "type": "scatter3d"
           }
          ],
          "scattercarpet": [
           {
            "marker": {
             "colorbar": {
              "outlinewidth": 0,
              "ticks": ""
             }
            },
            "type": "scattercarpet"
           }
          ],
          "scattergeo": [
           {
            "marker": {
             "colorbar": {
              "outlinewidth": 0,
              "ticks": ""
             }
            },
            "type": "scattergeo"
           }
          ],
          "scattergl": [
           {
            "marker": {
             "colorbar": {
              "outlinewidth": 0,
              "ticks": ""
             }
            },
            "type": "scattergl"
           }
          ],
          "scattermapbox": [
           {
            "marker": {
             "colorbar": {
              "outlinewidth": 0,
              "ticks": ""
             }
            },
            "type": "scattermapbox"
           }
          ],
          "scatterpolar": [
           {
            "marker": {
             "colorbar": {
              "outlinewidth": 0,
              "ticks": ""
             }
            },
            "type": "scatterpolar"
           }
          ],
          "scatterpolargl": [
           {
            "marker": {
             "colorbar": {
              "outlinewidth": 0,
              "ticks": ""
             }
            },
            "type": "scatterpolargl"
           }
          ],
          "scatterternary": [
           {
            "marker": {
             "colorbar": {
              "outlinewidth": 0,
              "ticks": ""
             }
            },
            "type": "scatterternary"
           }
          ],
          "surface": [
           {
            "colorbar": {
             "outlinewidth": 0,
             "ticks": ""
            },
            "colorscale": [
             [
              0,
              "#0d0887"
             ],
             [
              0.1111111111111111,
              "#46039f"
             ],
             [
              0.2222222222222222,
              "#7201a8"
             ],
             [
              0.3333333333333333,
              "#9c179e"
             ],
             [
              0.4444444444444444,
              "#bd3786"
             ],
             [
              0.5555555555555556,
              "#d8576b"
             ],
             [
              0.6666666666666666,
              "#ed7953"
             ],
             [
              0.7777777777777778,
              "#fb9f3a"
             ],
             [
              0.8888888888888888,
              "#fdca26"
             ],
             [
              1,
              "#f0f921"
             ]
            ],
            "type": "surface"
           }
          ],
          "table": [
           {
            "cells": {
             "fill": {
              "color": "#EBF0F8"
             },
             "line": {
              "color": "white"
             }
            },
            "header": {
             "fill": {
              "color": "#C8D4E3"
             },
             "line": {
              "color": "white"
             }
            },
            "type": "table"
           }
          ]
         },
         "layout": {
          "annotationdefaults": {
           "arrowcolor": "#2a3f5f",
           "arrowhead": 0,
           "arrowwidth": 1
          },
          "autotypenumbers": "strict",
          "coloraxis": {
           "colorbar": {
            "outlinewidth": 0,
            "ticks": ""
           }
          },
          "colorscale": {
           "diverging": [
            [
             0,
             "#8e0152"
            ],
            [
             0.1,
             "#c51b7d"
            ],
            [
             0.2,
             "#de77ae"
            ],
            [
             0.3,
             "#f1b6da"
            ],
            [
             0.4,
             "#fde0ef"
            ],
            [
             0.5,
             "#f7f7f7"
            ],
            [
             0.6,
             "#e6f5d0"
            ],
            [
             0.7,
             "#b8e186"
            ],
            [
             0.8,
             "#7fbc41"
            ],
            [
             0.9,
             "#4d9221"
            ],
            [
             1,
             "#276419"
            ]
           ],
           "sequential": [
            [
             0,
             "#0d0887"
            ],
            [
             0.1111111111111111,
             "#46039f"
            ],
            [
             0.2222222222222222,
             "#7201a8"
            ],
            [
             0.3333333333333333,
             "#9c179e"
            ],
            [
             0.4444444444444444,
             "#bd3786"
            ],
            [
             0.5555555555555556,
             "#d8576b"
            ],
            [
             0.6666666666666666,
             "#ed7953"
            ],
            [
             0.7777777777777778,
             "#fb9f3a"
            ],
            [
             0.8888888888888888,
             "#fdca26"
            ],
            [
             1,
             "#f0f921"
            ]
           ],
           "sequentialminus": [
            [
             0,
             "#0d0887"
            ],
            [
             0.1111111111111111,
             "#46039f"
            ],
            [
             0.2222222222222222,
             "#7201a8"
            ],
            [
             0.3333333333333333,
             "#9c179e"
            ],
            [
             0.4444444444444444,
             "#bd3786"
            ],
            [
             0.5555555555555556,
             "#d8576b"
            ],
            [
             0.6666666666666666,
             "#ed7953"
            ],
            [
             0.7777777777777778,
             "#fb9f3a"
            ],
            [
             0.8888888888888888,
             "#fdca26"
            ],
            [
             1,
             "#f0f921"
            ]
           ]
          },
          "colorway": [
           "#636efa",
           "#EF553B",
           "#00cc96",
           "#ab63fa",
           "#FFA15A",
           "#19d3f3",
           "#FF6692",
           "#B6E880",
           "#FF97FF",
           "#FECB52"
          ],
          "font": {
           "color": "#2a3f5f"
          },
          "geo": {
           "bgcolor": "white",
           "lakecolor": "white",
           "landcolor": "#E5ECF6",
           "showlakes": true,
           "showland": true,
           "subunitcolor": "white"
          },
          "hoverlabel": {
           "align": "left"
          },
          "hovermode": "closest",
          "mapbox": {
           "style": "light"
          },
          "paper_bgcolor": "white",
          "plot_bgcolor": "#E5ECF6",
          "polar": {
           "angularaxis": {
            "gridcolor": "white",
            "linecolor": "white",
            "ticks": ""
           },
           "bgcolor": "#E5ECF6",
           "radialaxis": {
            "gridcolor": "white",
            "linecolor": "white",
            "ticks": ""
           }
          },
          "scene": {
           "xaxis": {
            "backgroundcolor": "#E5ECF6",
            "gridcolor": "white",
            "gridwidth": 2,
            "linecolor": "white",
            "showbackground": true,
            "ticks": "",
            "zerolinecolor": "white"
           },
           "yaxis": {
            "backgroundcolor": "#E5ECF6",
            "gridcolor": "white",
            "gridwidth": 2,
            "linecolor": "white",
            "showbackground": true,
            "ticks": "",
            "zerolinecolor": "white"
           },
           "zaxis": {
            "backgroundcolor": "#E5ECF6",
            "gridcolor": "white",
            "gridwidth": 2,
            "linecolor": "white",
            "showbackground": true,
            "ticks": "",
            "zerolinecolor": "white"
           }
          },
          "shapedefaults": {
           "line": {
            "color": "#2a3f5f"
           }
          },
          "ternary": {
           "aaxis": {
            "gridcolor": "white",
            "linecolor": "white",
            "ticks": ""
           },
           "baxis": {
            "gridcolor": "white",
            "linecolor": "white",
            "ticks": ""
           },
           "bgcolor": "#E5ECF6",
           "caxis": {
            "gridcolor": "white",
            "linecolor": "white",
            "ticks": ""
           }
          },
          "title": {
           "x": 0.05
          },
          "xaxis": {
           "automargin": true,
           "gridcolor": "white",
           "linecolor": "white",
           "ticks": "",
           "title": {
            "standoff": 15
           },
           "zerolinecolor": "white",
           "zerolinewidth": 2
          },
          "yaxis": {
           "automargin": true,
           "gridcolor": "white",
           "linecolor": "white",
           "ticks": "",
           "title": {
            "standoff": 15
           },
           "zerolinecolor": "white",
           "zerolinewidth": 2
          }
         }
        },
        "title": {
         "text": "eGFR Relationships<br><sup><i>(n=382)</i></sup>",
         "x": 0,
         "xref": "paper"
        },
        "width": 1000
       }
      }
     },
     "metadata": {},
     "output_type": "display_data"
    },
    {
     "data": {
      "application/vnd.plotly.v1+json": {
       "config": {
        "plotlyServerURL": "https://plot.ly"
       },
       "data": [
        {
         "boxpoints": "all",
         "jitter": 0.3,
         "marker": {
          "color": "#172207"
         },
         "name": "WHITE",
         "notched": true,
         "pointpos": -1.8,
         "type": "box",
         "y": [
          98.64094301736165,
          127.46239763318408,
          112.59956336395705,
          111.81136642040936,
          97.3210256232535,
          104.8209037109621,
          83.71821023495698,
          112.44197283733173,
          109.91879509173201,
          116.27275720662647,
          87.10887728005106,
          111.65487902747041,
          90.00649824445149,
          86.25512215624723,
          103.65800179958484,
          105.28409454967425,
          104.3038694544322,
          91.7399551566162,
          103.57374236825119,
          109.49732097651443,
          87.15080071622504,
          96.34628320101412,
          118.5142846390119,
          114.04514440269091,
          90.08415529082254,
          106.94962208290283,
          53.22623852145265,
          116.74551969368859,
          113.56297466125648,
          114.68719797673734,
          74.01240684949508,
          119.34973276839064,
          111.97865760175729,
          109.33829326507201,
          121.57259186167494,
          90.2661956593518,
          94.91830655161765,
          83.16562608915285,
          114.8367019725542,
          79.56372797178727,
          84.14292870104227,
          97.26480322132643,
          114.19266523667389,
          110.41644334955518,
          104.08715738498536,
          87.9536798657601,
          105.28409454967425,
          116.62467968439778,
          88.95822141118063,
          90.44367521797939,
          108.38531798140725,
          101.45190854391176,
          122.33126731584565,
          92.6512785082711,
          110.5917552589763,
          111.97865760175729,
          91.09777547051989,
          75.15676098497809,
          104.8209037109621,
          97.95045641624012,
          105.7796006632857,
          87.47549275568174,
          102.21186901647883,
          115.16970724706022,
          95.90786195158572,
          108.5729252122165,
          96.63977844389072,
          120.53779965692873,
          103.35854728329046,
          102.36694922909037,
          113.84808151904096,
          117.28243277100233,
          110.87329487427813,
          101.45190854391176,
          68.52336794567277,
          85.33341517616495,
          109.47972564514588,
          114.8367019725542,
          116.62467968439778,
          114.54509811129488,
          76.1215343357795,
          88.85082925751712,
          93.69378376646617,
          102.21186901647883,
          91.499280034521,
          75.5817840090223,
          120.49695478060238,
          111.66692188897707,
          106.02627849916844,
          101.45190854391176,
          107.04667850193583,
          94.25387840575632,
          81.91043275424019,
          93.69378376646617,
          96.36377036800566,
          78.94476125255879,
          108.03243815117852,
          114.65063597083682,
          110.10905666170395,
          98.64094301736165,
          115.82691937309967,
          124.3646598366194,
          85.05177694704543,
          122.02531035735045,
          115.82691937309967,
          107.52637901277566,
          71.9551492139095,
          112.95140939221523,
          99.99905850284853,
          83.16562608915285,
          109.04770352464804,
          116.30983650583018,
          109.14936352608989,
          112.71623277149467,
          87.15080071622504,
          107.812914735731,
          80.54264115291843,
          72.9731983034408,
          103.57374236825119,
          122.35175067102205,
          68.99040957709394,
          115.16970724706022,
          63.3507725486348,
          93.69378376646617,
          102.36694922909037,
          103.67246878803488,
          118.29373929333622,
          112.25978693376881,
          119.78025143888364,
          96.6262928331504,
          115.35256607381156,
          126.24885934451679,
          98.41607452682715,
          116.55506923671433,
          101.81786678160273,
          111.11103259789495,
          109.64352824610829,
          101.91659219014127,
          103.57374236825119,
          114.54948931768625,
          94.81573144069634,
          83.16562608915285,
          115.65869891120107,
          108.5729252122165,
          90.71918961814958,
          113.05114494840767,
          124.83650581694965,
          114.4239515928954,
          85.18379346253013,
          77.74273015342533,
          113.56297466125648,
          92.79384699393336,
          76.65114412064948,
          116.17017949177604,
          104.64457019557233,
          107.66094280800398,
          75.5817840090223,
          113.51080843050822,
          99.37984698423467,
          86.99799243917568,
          98.39910224154406,
          74.58548884161263,
          99.39371689368237,
          109.18417118013808,
          107.812914735731,
          72.46238591531672,
          74.52734254031242,
          115.808306926607,
          80.12460017299826,
          114.19266523667389,
          81.76681346517586,
          109.82182294545716,
          109.04888968135833,
          77.9045582620329,
          102.63503745230742,
          115.016130937488,
          91.3587005218022,
          90.00649824445149,
          107.05822433258089
         ]
        },
        {
         "boxpoints": "all",
         "jitter": 0.3,
         "marker": {
          "color": "#32471E"
         },
         "name": "MIXED",
         "notched": true,
         "pointpos": -1.8,
         "type": "box",
         "y": [
          97.02633636617229,
          120.72158371864322,
          125.03703932378372,
          115.16970724706022,
          113.74204520552081,
          92.36989634942846,
          107.357094143862,
          120.12759209588316,
          117.46568311828285,
          102.63503745230742,
          118.8561768139149,
          108.28554745358882,
          123.96265027623099,
          84.58750690829243,
          88.55762223647825,
          98.64094301736165,
          112.94707944754421,
          40.13895868318241,
          127.55380015077989,
          85.50119600209898
         ]
        },
        {
         "boxpoints": "all",
         "jitter": 0.3,
         "marker": {
          "color": "#3E412A"
         },
         "name": "BLACK",
         "notched": true,
         "pointpos": -1.8,
         "type": "box",
         "y": [
          131.25307410617972,
          122.02426558307246,
          94.93419156216439,
          86.99403329709253,
          96.51939099767704,
          154.09627680573644,
          92.30381482896922,
          80.10800280260891,
          98.72801662307242,
          102.6382841720783,
          136.26189055889736,
          111.5667855180877,
          94.26965222122924,
          138.0467397686443,
          133.202721970854,
          133.4816906993428,
          106.04766556000983,
          129.78326416043672,
          118.12133034837373,
          85.77254967419255,
          112.3532583263723,
          96.35019982267895,
          114.73724659577269,
          124.08048200146126,
          119.79255630133365,
          128.77768678096024,
          106.04766556000983,
          105.60562881556196,
          135.945000743454,
          81.14148032752874,
          78.31061479133724,
          138.18977612562597,
          131.02627699520448,
          127.43650996755292,
          94.81958584312463,
          137.2855110958635,
          85.77254967419255,
          91.44159409707842,
          139.44893603659125,
          107.41116585132062,
          130.33430258743647,
          105.91267267652884,
          80.55612033044127,
          128.77768678096024,
          82.33400790068788,
          136.26189055889736,
          129.58937368125444,
          118.64329415651574,
          134.36090092371018,
          133.09573758619032,
          74.15661899951132,
          96.95604931444339,
          128.68224806548565,
          132.37056988625275,
          135.1897276469512,
          107.54806866596877,
          126.39250834422835,
          131.02627699520448,
          93.51904491490936,
          96.38896063732815,
          120.98652979427877,
          130.32024651846748,
          118.41164350694234,
          145.0277830270367,
          107.54806866596877,
          144.64827704091908,
          90.12713076148701,
          119.7980404590383,
          107.83095771763693,
          108.46719559198267,
          126.72308189421847,
          102.14216220075969,
          136.26189055889736,
          139.6696635957015,
          138.06892632525341,
          96.66087875437613,
          115.181242654728,
          99.79444729751535,
          81.81410029836714,
          129.7236469856872,
          99.96968657909053,
          84.73872327659926,
          114.32485295712216,
          102.86219758384661,
          103.10936369522751,
          95.43578731736032,
          94.17829296566903
         ]
        },
        {
         "boxpoints": "all",
         "jitter": 0.3,
         "marker": {
          "color": "#555A44"
         },
         "name": "ASIAN EAST",
         "notched": true,
         "pointpos": -1.8,
         "type": "box",
         "y": [
          110.87329487427813,
          100.93882792039533,
          120.62462380552228,
          134.5833305282209,
          113.23461514333509,
          114.68719797673734,
          127.54225572839307,
          108.11389138354683,
          96.93234809114362,
          99.53063033207788,
          111.47396842523244,
          109.56092258212172,
          103.49698260360863,
          115.82691937309967,
          106.30881676225282,
          117.37670617997415,
          112.59956336395705,
          110.59599490982593,
          113.74764289246247,
          96.58394959877714,
          81.91043275424019,
          98.68418805534502,
          112.76803383862769,
          115.2305655517577,
          119.03739690418443,
          92.57140847332182,
          116.64342333645487,
          110.05952148840167,
          66.37987751600356,
          101.65038058448674,
          104.64457019557233
         ]
        },
        {
         "boxpoints": "all",
         "jitter": 0.3,
         "marker": {
          "color": "#7D826D"
         },
         "name": "ASIAN SOUTH",
         "notched": true,
         "pointpos": -1.8,
         "type": "box",
         "y": [
          114.99764877812075,
          130.22114989157984,
          97.6156576950087,
          111.74462892287721,
          100.78591123182991,
          125.03703932378372,
          115.45884790618007,
          96.26124721146479,
          102.63503745230742,
          96.58394959877714,
          117.56849918800462,
          120.64482139741061,
          120.32293525255506,
          71.50093897853273,
          93.96214438458037,
          103.08856921358547,
          109.91879509173201,
          115.35256607381156,
          96.58394959877714,
          122.62964846723871,
          111.89429264641988,
          98.64094301736165,
          124.01961986624525,
          109.81761297216349,
          107.5275486214137,
          121.77124092796805,
          103.35854728329046,
          104.54710588782653,
          109.64352824610829,
          116.79917250264462,
          127.01331199726437,
          90.64098514043454,
          89.18189550501334,
          101.65038058448674,
          77.19853104235135,
          93.96214438458037,
          102.21186901647883,
          114.05193891200528,
          115.64622555141409,
          113.74328242451581,
          105.7796006632857,
          107.52637901277566,
          115.92830105583276,
          118.12897355563666,
          87.76515681392249,
          97.62318831159993,
          111.89429264641988,
          118.39728014904796,
          107.36348255210912,
          112.82762304422293,
          87.47549275568174,
          87.32215484865715,
          114.0328450587463,
          118.29373929333622,
          114.04514440269091,
          62.423851594771776,
          121.35255935020758,
          119.62431151808775,
          129.27236782610018,
          118.78694133746113,
          114.27735758119418,
          123.49410721776306,
          122.2080154584165,
          118.06879620442352,
          126.61306436192706
         ]
        },
        {
         "boxpoints": "all",
         "jitter": 0.3,
         "marker": {
          "color": "#CAC9C7"
         },
         "name": "All",
         "notched": true,
         "pointpos": -1.8,
         "type": "box",
         "y": [
          98.64094301736165,
          97.02633636617229,
          131.25307410617972,
          127.46239763318408,
          112.59956336395705,
          111.81136642040936,
          122.02426558307246,
          110.87329487427813,
          97.3210256232535,
          100.93882792039533,
          94.93419156216439,
          86.99403329709253,
          96.51939099767704,
          120.62462380552228,
          114.99764877812075,
          134.5833305282209,
          104.8209037109621,
          83.71821023495698,
          112.44197283733173,
          120.72158371864322,
          109.91879509173201,
          116.27275720662647,
          154.09627680573644,
          92.30381482896922,
          87.10887728005106,
          80.10800280260891,
          130.22114989157984,
          97.6156576950087,
          125.03703932378372,
          111.65487902747041,
          90.00649824445149,
          86.25512215624723,
          98.72801662307242,
          103.65800179958484,
          102.6382841720783,
          111.74462892287721,
          115.16970724706022,
          113.23461514333509,
          100.78591123182991,
          125.03703932378372,
          136.26189055889736,
          115.45884790618007,
          105.28409454967425,
          104.3038694544322,
          111.5667855180877,
          91.7399551566162,
          103.57374236825119,
          109.49732097651443,
          94.26965222122924,
          114.68719797673734,
          87.15080071622504,
          138.0467397686443,
          96.34628320101412,
          118.5142846390119,
          96.26124721146479,
          102.63503745230742,
          96.58394959877714,
          114.04514440269091,
          90.08415529082254,
          117.56849918800462,
          106.94962208290283,
          53.22623852145265,
          116.74551969368859,
          120.64482139741061,
          133.202721970854,
          133.4816906993428,
          106.04766556000983,
          113.56297466125648,
          114.68719797673734,
          74.01240684949508,
          119.34973276839064,
          113.74204520552081,
          129.78326416043672,
          111.97865760175729,
          109.33829326507201,
          121.57259186167494,
          90.2661956593518,
          94.91830655161765,
          118.12133034837373,
          83.16562608915285,
          85.77254967419255,
          114.8367019725542,
          112.3532583263723,
          79.56372797178727,
          84.14292870104227,
          97.26480322132643,
          114.19266523667389,
          92.36989634942846,
          110.41644334955518,
          96.35019982267895,
          104.08715738498536,
          127.54225572839307,
          120.32293525255506,
          114.73724659577269,
          71.50093897853273,
          93.96214438458037,
          87.9536798657601,
          108.11389138354683,
          103.08856921358547,
          109.91879509173201,
          105.28409454967425,
          124.08048200146126,
          107.357094143862,
          120.12759209588316,
          115.35256607381156,
          119.79255630133365,
          116.62467968439778,
          88.95822141118063,
          128.77768678096024,
          106.04766556000983,
          90.44367521797939,
          105.60562881556196,
          108.38531798140725,
          96.93234809114362,
          101.45190854391176,
          122.33126731584565,
          92.6512785082711,
          110.5917552589763,
          135.945000743454,
          96.58394959877714,
          99.53063033207788,
          111.97865760175729,
          91.09777547051989,
          75.15676098497809,
          117.46568311828285,
          104.8209037109621,
          97.95045641624012,
          122.62964846723871,
          105.7796006632857,
          81.14148032752874,
          87.47549275568174,
          102.21186901647883,
          111.89429264641988,
          115.16970724706022,
          95.90786195158572,
          98.64094301736165,
          108.5729252122165,
          96.63977844389072,
          120.53779965692873,
          103.35854728329046,
          124.01961986624525,
          78.31061479133724,
          138.18977612562597,
          102.63503745230742,
          102.36694922909037,
          111.47396842523244,
          131.02627699520448,
          113.84808151904096,
          117.28243277100233,
          109.81761297216349,
          110.87329487427813,
          101.45190854391176,
          107.5275486214137,
          127.43650996755292,
          94.81958584312463,
          68.52336794567277,
          85.33341517616495,
          109.47972564514588,
          121.77124092796805,
          137.2855110958635,
          103.35854728329046,
          114.8367019725542,
          118.8561768139149,
          104.54710588782653,
          116.62467968439778,
          109.56092258212172,
          109.64352824610829,
          116.79917250264462,
          85.77254967419255,
          91.44159409707842,
          114.54509811129488,
          139.44893603659125,
          76.1215343357795,
          88.85082925751712,
          103.49698260360863,
          93.69378376646617,
          127.01331199726437,
          90.64098514043454,
          102.21186901647883,
          107.41116585132062,
          91.499280034521,
          75.5817840090223,
          120.49695478060238,
          89.18189550501334,
          130.33430258743647,
          105.91267267652884,
          115.82691937309967,
          111.66692188897707,
          106.02627849916844,
          101.65038058448674,
          101.45190854391176,
          106.30881676225282,
          117.37670617997415,
          112.59956336395705,
          107.04667850193583,
          94.25387840575632,
          110.59599490982593,
          113.74764289246247,
          81.91043275424019,
          93.69378376646617,
          96.36377036800566,
          80.55612033044127,
          128.77768678096024,
          78.94476125255879,
          108.03243815117852,
          77.19853104235135,
          82.33400790068788,
          136.26189055889736,
          114.65063597083682,
          110.10905666170395,
          129.58937368125444,
          118.64329415651574,
          98.64094301736165,
          115.82691937309967,
          96.58394959877714,
          134.36090092371018,
          124.3646598366194,
          133.09573758619032,
          93.96214438458037,
          108.28554745358882,
          74.15661899951132,
          85.05177694704543,
          122.02531035735045,
          115.82691937309967,
          96.95604931444339,
          107.52637901277566,
          71.9551492139095,
          102.21186901647883,
          114.05193891200528,
          112.95140939221523,
          99.99905850284853,
          83.16562608915285,
          109.04770352464804,
          116.30983650583018,
          128.68224806548565,
          109.14936352608989,
          112.71623277149467,
          87.15080071622504,
          107.812914735731,
          115.64622555141409,
          113.74328242451581,
          123.96265027623099,
          80.54264115291843,
          72.9731983034408,
          105.7796006632857,
          103.57374236825119,
          107.52637901277566,
          122.35175067102205,
          115.92830105583276,
          68.99040957709394,
          84.58750690829243,
          115.16970724706022,
          63.3507725486348,
          132.37056988625275,
          93.69378376646617,
          81.91043275424019,
          135.1897276469512,
          118.12897355563666,
          102.36694922909037,
          87.76515681392249,
          107.54806866596877,
          88.55762223647825,
          98.68418805534502,
          126.39250834422835,
          103.67246878803488,
          131.02627699520448,
          97.62318831159993,
          118.29373929333622,
          93.51904491490936,
          96.38896063732815,
          112.25978693376881,
          119.78025143888364,
          112.76803383862769,
          96.6262928331504,
          115.35256607381156,
          126.24885934451679,
          111.89429264641988,
          98.41607452682715,
          120.98652979427877,
          116.55506923671433,
          101.81786678160273,
          111.11103259789495,
          109.64352824610829,
          115.2305655517577,
          130.32024651846748,
          101.91659219014127,
          118.41164350694234,
          103.57374236825119,
          98.64094301736165,
          118.39728014904796,
          145.0277830270367,
          107.54806866596877,
          114.54948931768625,
          94.81573144069634,
          107.36348255210912,
          112.82762304422293,
          119.03739690418443,
          144.64827704091908,
          83.16562608915285,
          115.65869891120107,
          92.57140847332182,
          90.12713076148701,
          119.7980404590383,
          108.5729252122165,
          107.83095771763693,
          108.46719559198267,
          90.71918961814958,
          113.05114494840767,
          124.83650581694965,
          87.47549275568174,
          126.72308189421847,
          114.4239515928954,
          116.64342333645487,
          112.94707944754421,
          85.18379346253013,
          102.14216220075969,
          136.26189055889736,
          77.74273015342533,
          139.6696635957015,
          113.56297466125648,
          92.79384699393336,
          110.05952148840167,
          87.32215484865715,
          76.65114412064948,
          116.17017949177604,
          138.06892632525341,
          66.37987751600356,
          96.66087875437613,
          115.181242654728,
          104.64457019557233,
          114.0328450587463,
          118.29373929333622,
          99.79444729751535,
          107.66094280800398,
          114.04514440269091,
          75.5817840090223,
          62.423851594771776,
          113.51080843050822,
          99.37984698423467,
          86.99799243917568,
          121.35255935020758,
          98.39910224154406,
          74.58548884161263,
          119.62431151808775,
          99.39371689368237,
          129.27236782610018,
          81.81410029836714,
          129.7236469856872,
          101.65038058448674,
          118.78694133746113,
          114.27735758119418,
          109.18417118013808,
          107.812914735731,
          99.96968657909053,
          72.46238591531672,
          84.73872327659926,
          74.52734254031242,
          114.32485295712216,
          115.808306926607,
          40.13895868318241,
          123.49410721776306,
          122.2080154584165,
          127.55380015077989,
          104.64457019557233,
          102.86219758384661,
          80.12460017299826,
          114.19266523667389,
          103.10936369522751,
          95.43578731736032,
          81.76681346517586,
          109.82182294545716,
          109.04888968135833,
          77.9045582620329,
          85.50119600209898,
          102.63503745230742,
          115.016130937488,
          91.3587005218022,
          90.00649824445149,
          94.17829296566903,
          118.06879620442352,
          126.61306436192706,
          107.05822433258089
         ]
        }
       ],
       "layout": {
        "paper_bgcolor": "white",
        "plot_bgcolor": "#F6F8FC",
        "showlegend": false,
        "template": {
         "data": {
          "bar": [
           {
            "error_x": {
             "color": "#2a3f5f"
            },
            "error_y": {
             "color": "#2a3f5f"
            },
            "marker": {
             "line": {
              "color": "#E5ECF6",
              "width": 0.5
             },
             "pattern": {
              "fillmode": "overlay",
              "size": 10,
              "solidity": 0.2
             }
            },
            "type": "bar"
           }
          ],
          "barpolar": [
           {
            "marker": {
             "line": {
              "color": "#E5ECF6",
              "width": 0.5
             },
             "pattern": {
              "fillmode": "overlay",
              "size": 10,
              "solidity": 0.2
             }
            },
            "type": "barpolar"
           }
          ],
          "carpet": [
           {
            "aaxis": {
             "endlinecolor": "#2a3f5f",
             "gridcolor": "white",
             "linecolor": "white",
             "minorgridcolor": "white",
             "startlinecolor": "#2a3f5f"
            },
            "baxis": {
             "endlinecolor": "#2a3f5f",
             "gridcolor": "white",
             "linecolor": "white",
             "minorgridcolor": "white",
             "startlinecolor": "#2a3f5f"
            },
            "type": "carpet"
           }
          ],
          "choropleth": [
           {
            "colorbar": {
             "outlinewidth": 0,
             "ticks": ""
            },
            "type": "choropleth"
           }
          ],
          "contour": [
           {
            "colorbar": {
             "outlinewidth": 0,
             "ticks": ""
            },
            "colorscale": [
             [
              0,
              "#0d0887"
             ],
             [
              0.1111111111111111,
              "#46039f"
             ],
             [
              0.2222222222222222,
              "#7201a8"
             ],
             [
              0.3333333333333333,
              "#9c179e"
             ],
             [
              0.4444444444444444,
              "#bd3786"
             ],
             [
              0.5555555555555556,
              "#d8576b"
             ],
             [
              0.6666666666666666,
              "#ed7953"
             ],
             [
              0.7777777777777778,
              "#fb9f3a"
             ],
             [
              0.8888888888888888,
              "#fdca26"
             ],
             [
              1,
              "#f0f921"
             ]
            ],
            "type": "contour"
           }
          ],
          "contourcarpet": [
           {
            "colorbar": {
             "outlinewidth": 0,
             "ticks": ""
            },
            "type": "contourcarpet"
           }
          ],
          "heatmap": [
           {
            "colorbar": {
             "outlinewidth": 0,
             "ticks": ""
            },
            "colorscale": [
             [
              0,
              "#0d0887"
             ],
             [
              0.1111111111111111,
              "#46039f"
             ],
             [
              0.2222222222222222,
              "#7201a8"
             ],
             [
              0.3333333333333333,
              "#9c179e"
             ],
             [
              0.4444444444444444,
              "#bd3786"
             ],
             [
              0.5555555555555556,
              "#d8576b"
             ],
             [
              0.6666666666666666,
              "#ed7953"
             ],
             [
              0.7777777777777778,
              "#fb9f3a"
             ],
             [
              0.8888888888888888,
              "#fdca26"
             ],
             [
              1,
              "#f0f921"
             ]
            ],
            "type": "heatmap"
           }
          ],
          "heatmapgl": [
           {
            "colorbar": {
             "outlinewidth": 0,
             "ticks": ""
            },
            "colorscale": [
             [
              0,
              "#0d0887"
             ],
             [
              0.1111111111111111,
              "#46039f"
             ],
             [
              0.2222222222222222,
              "#7201a8"
             ],
             [
              0.3333333333333333,
              "#9c179e"
             ],
             [
              0.4444444444444444,
              "#bd3786"
             ],
             [
              0.5555555555555556,
              "#d8576b"
             ],
             [
              0.6666666666666666,
              "#ed7953"
             ],
             [
              0.7777777777777778,
              "#fb9f3a"
             ],
             [
              0.8888888888888888,
              "#fdca26"
             ],
             [
              1,
              "#f0f921"
             ]
            ],
            "type": "heatmapgl"
           }
          ],
          "histogram": [
           {
            "marker": {
             "pattern": {
              "fillmode": "overlay",
              "size": 10,
              "solidity": 0.2
             }
            },
            "type": "histogram"
           }
          ],
          "histogram2d": [
           {
            "colorbar": {
             "outlinewidth": 0,
             "ticks": ""
            },
            "colorscale": [
             [
              0,
              "#0d0887"
             ],
             [
              0.1111111111111111,
              "#46039f"
             ],
             [
              0.2222222222222222,
              "#7201a8"
             ],
             [
              0.3333333333333333,
              "#9c179e"
             ],
             [
              0.4444444444444444,
              "#bd3786"
             ],
             [
              0.5555555555555556,
              "#d8576b"
             ],
             [
              0.6666666666666666,
              "#ed7953"
             ],
             [
              0.7777777777777778,
              "#fb9f3a"
             ],
             [
              0.8888888888888888,
              "#fdca26"
             ],
             [
              1,
              "#f0f921"
             ]
            ],
            "type": "histogram2d"
           }
          ],
          "histogram2dcontour": [
           {
            "colorbar": {
             "outlinewidth": 0,
             "ticks": ""
            },
            "colorscale": [
             [
              0,
              "#0d0887"
             ],
             [
              0.1111111111111111,
              "#46039f"
             ],
             [
              0.2222222222222222,
              "#7201a8"
             ],
             [
              0.3333333333333333,
              "#9c179e"
             ],
             [
              0.4444444444444444,
              "#bd3786"
             ],
             [
              0.5555555555555556,
              "#d8576b"
             ],
             [
              0.6666666666666666,
              "#ed7953"
             ],
             [
              0.7777777777777778,
              "#fb9f3a"
             ],
             [
              0.8888888888888888,
              "#fdca26"
             ],
             [
              1,
              "#f0f921"
             ]
            ],
            "type": "histogram2dcontour"
           }
          ],
          "mesh3d": [
           {
            "colorbar": {
             "outlinewidth": 0,
             "ticks": ""
            },
            "type": "mesh3d"
           }
          ],
          "parcoords": [
           {
            "line": {
             "colorbar": {
              "outlinewidth": 0,
              "ticks": ""
             }
            },
            "type": "parcoords"
           }
          ],
          "pie": [
           {
            "automargin": true,
            "type": "pie"
           }
          ],
          "scatter": [
           {
            "fillpattern": {
             "fillmode": "overlay",
             "size": 10,
             "solidity": 0.2
            },
            "type": "scatter"
           }
          ],
          "scatter3d": [
           {
            "line": {
             "colorbar": {
              "outlinewidth": 0,
              "ticks": ""
             }
            },
            "marker": {
             "colorbar": {
              "outlinewidth": 0,
              "ticks": ""
             }
            },
            "type": "scatter3d"
           }
          ],
          "scattercarpet": [
           {
            "marker": {
             "colorbar": {
              "outlinewidth": 0,
              "ticks": ""
             }
            },
            "type": "scattercarpet"
           }
          ],
          "scattergeo": [
           {
            "marker": {
             "colorbar": {
              "outlinewidth": 0,
              "ticks": ""
             }
            },
            "type": "scattergeo"
           }
          ],
          "scattergl": [
           {
            "marker": {
             "colorbar": {
              "outlinewidth": 0,
              "ticks": ""
             }
            },
            "type": "scattergl"
           }
          ],
          "scattermapbox": [
           {
            "marker": {
             "colorbar": {
              "outlinewidth": 0,
              "ticks": ""
             }
            },
            "type": "scattermapbox"
           }
          ],
          "scatterpolar": [
           {
            "marker": {
             "colorbar": {
              "outlinewidth": 0,
              "ticks": ""
             }
            },
            "type": "scatterpolar"
           }
          ],
          "scatterpolargl": [
           {
            "marker": {
             "colorbar": {
              "outlinewidth": 0,
              "ticks": ""
             }
            },
            "type": "scatterpolargl"
           }
          ],
          "scatterternary": [
           {
            "marker": {
             "colorbar": {
              "outlinewidth": 0,
              "ticks": ""
             }
            },
            "type": "scatterternary"
           }
          ],
          "surface": [
           {
            "colorbar": {
             "outlinewidth": 0,
             "ticks": ""
            },
            "colorscale": [
             [
              0,
              "#0d0887"
             ],
             [
              0.1111111111111111,
              "#46039f"
             ],
             [
              0.2222222222222222,
              "#7201a8"
             ],
             [
              0.3333333333333333,
              "#9c179e"
             ],
             [
              0.4444444444444444,
              "#bd3786"
             ],
             [
              0.5555555555555556,
              "#d8576b"
             ],
             [
              0.6666666666666666,
              "#ed7953"
             ],
             [
              0.7777777777777778,
              "#fb9f3a"
             ],
             [
              0.8888888888888888,
              "#fdca26"
             ],
             [
              1,
              "#f0f921"
             ]
            ],
            "type": "surface"
           }
          ],
          "table": [
           {
            "cells": {
             "fill": {
              "color": "#EBF0F8"
             },
             "line": {
              "color": "white"
             }
            },
            "header": {
             "fill": {
              "color": "#C8D4E3"
             },
             "line": {
              "color": "white"
             }
            },
            "type": "table"
           }
          ]
         },
         "layout": {
          "annotationdefaults": {
           "arrowcolor": "#2a3f5f",
           "arrowhead": 0,
           "arrowwidth": 1
          },
          "autotypenumbers": "strict",
          "coloraxis": {
           "colorbar": {
            "outlinewidth": 0,
            "ticks": ""
           }
          },
          "colorscale": {
           "diverging": [
            [
             0,
             "#8e0152"
            ],
            [
             0.1,
             "#c51b7d"
            ],
            [
             0.2,
             "#de77ae"
            ],
            [
             0.3,
             "#f1b6da"
            ],
            [
             0.4,
             "#fde0ef"
            ],
            [
             0.5,
             "#f7f7f7"
            ],
            [
             0.6,
             "#e6f5d0"
            ],
            [
             0.7,
             "#b8e186"
            ],
            [
             0.8,
             "#7fbc41"
            ],
            [
             0.9,
             "#4d9221"
            ],
            [
             1,
             "#276419"
            ]
           ],
           "sequential": [
            [
             0,
             "#0d0887"
            ],
            [
             0.1111111111111111,
             "#46039f"
            ],
            [
             0.2222222222222222,
             "#7201a8"
            ],
            [
             0.3333333333333333,
             "#9c179e"
            ],
            [
             0.4444444444444444,
             "#bd3786"
            ],
            [
             0.5555555555555556,
             "#d8576b"
            ],
            [
             0.6666666666666666,
             "#ed7953"
            ],
            [
             0.7777777777777778,
             "#fb9f3a"
            ],
            [
             0.8888888888888888,
             "#fdca26"
            ],
            [
             1,
             "#f0f921"
            ]
           ],
           "sequentialminus": [
            [
             0,
             "#0d0887"
            ],
            [
             0.1111111111111111,
             "#46039f"
            ],
            [
             0.2222222222222222,
             "#7201a8"
            ],
            [
             0.3333333333333333,
             "#9c179e"
            ],
            [
             0.4444444444444444,
             "#bd3786"
            ],
            [
             0.5555555555555556,
             "#d8576b"
            ],
            [
             0.6666666666666666,
             "#ed7953"
            ],
            [
             0.7777777777777778,
             "#fb9f3a"
            ],
            [
             0.8888888888888888,
             "#fdca26"
            ],
            [
             1,
             "#f0f921"
            ]
           ]
          },
          "colorway": [
           "#636efa",
           "#EF553B",
           "#00cc96",
           "#ab63fa",
           "#FFA15A",
           "#19d3f3",
           "#FF6692",
           "#B6E880",
           "#FF97FF",
           "#FECB52"
          ],
          "font": {
           "color": "#2a3f5f"
          },
          "geo": {
           "bgcolor": "white",
           "lakecolor": "white",
           "landcolor": "#E5ECF6",
           "showlakes": true,
           "showland": true,
           "subunitcolor": "white"
          },
          "hoverlabel": {
           "align": "left"
          },
          "hovermode": "closest",
          "mapbox": {
           "style": "light"
          },
          "paper_bgcolor": "white",
          "plot_bgcolor": "#E5ECF6",
          "polar": {
           "angularaxis": {
            "gridcolor": "white",
            "linecolor": "white",
            "ticks": ""
           },
           "bgcolor": "#E5ECF6",
           "radialaxis": {
            "gridcolor": "white",
            "linecolor": "white",
            "ticks": ""
           }
          },
          "scene": {
           "xaxis": {
            "backgroundcolor": "#E5ECF6",
            "gridcolor": "white",
            "gridwidth": 2,
            "linecolor": "white",
            "showbackground": true,
            "ticks": "",
            "zerolinecolor": "white"
           },
           "yaxis": {
            "backgroundcolor": "#E5ECF6",
            "gridcolor": "white",
            "gridwidth": 2,
            "linecolor": "white",
            "showbackground": true,
            "ticks": "",
            "zerolinecolor": "white"
           },
           "zaxis": {
            "backgroundcolor": "#E5ECF6",
            "gridcolor": "white",
            "gridwidth": 2,
            "linecolor": "white",
            "showbackground": true,
            "ticks": "",
            "zerolinecolor": "white"
           }
          },
          "shapedefaults": {
           "line": {
            "color": "#2a3f5f"
           }
          },
          "ternary": {
           "aaxis": {
            "gridcolor": "white",
            "linecolor": "white",
            "ticks": ""
           },
           "baxis": {
            "gridcolor": "white",
            "linecolor": "white",
            "ticks": ""
           },
           "bgcolor": "#E5ECF6",
           "caxis": {
            "gridcolor": "white",
            "linecolor": "white",
            "ticks": ""
           }
          },
          "title": {
           "x": 0.05
          },
          "xaxis": {
           "automargin": true,
           "gridcolor": "white",
           "linecolor": "white",
           "ticks": "",
           "title": {
            "standoff": 15
           },
           "zerolinecolor": "white",
           "zerolinewidth": 2
          },
          "yaxis": {
           "automargin": true,
           "gridcolor": "white",
           "linecolor": "white",
           "ticks": "",
           "title": {
            "standoff": 15
           },
           "zerolinecolor": "white",
           "zerolinewidth": 2
          }
         }
        },
        "title": {
         "text": "eGFR Spread by Race<br><sup><i>(n=382)</i></sup>",
         "x": 0,
         "xref": "paper"
        },
        "yaxis": {
         "gridcolor": "lightgrey",
         "title": {
          "text": "eGFR<br><sup><i>ml/minute/1.73m<sup>2</sup></i></sup>"
         }
        }
       }
      }
     },
     "metadata": {},
     "output_type": "display_data"
    }
   ],
   "source": [
    "%autoreload 2\n",
    "ma.disease_description_renal()"
   ]
  },
  {
   "cell_type": "code",
   "execution_count": 26,
   "metadata": {},
   "outputs": [
    {
     "name": "stdout",
     "output_type": "stream",
     "text": [
      "Data consits of 382 rows after cleaning. \n",
      "        * 10 rows have been excluded.\n",
      "            \n"
     ]
    },
    {
     "data": {
      "application/vnd.plotly.v1+json": {
       "config": {
        "plotlyServerURL": "https://plot.ly"
       },
       "data": [
        {
         "marker": {
          "color": [
           "#32471E",
           "#32471E",
           "#32471E",
           "#32471E",
           "#32471E",
           "#32471E",
           "#32471E",
           "#32471E",
           "#32471E",
           "#32471E",
           "#32471E",
           "#32471E",
           "#32471E",
           "#32471E",
           "#32471E",
           "#32471E",
           "#32471E",
           "#32471E",
           "#32471E",
           "#32471E",
           "#32471E",
           "#32471E",
           "#32471E",
           "#32471E",
           "#32471E",
           "#32471E",
           "#32471E",
           "#32471E",
           "#32471E",
           "#32471E",
           "#32471E",
           "#32471E",
           "#32471E",
           "#32471E",
           "#32471E",
           "#32471E",
           "#32471E",
           "#32471E",
           "#32471E",
           "#32471E",
           "#32471E",
           "#32471E",
           "#32471E",
           "#32471E",
           "#32471E",
           "#32471E",
           "#32471E",
           "#32471E",
           "#32471E",
           "#32471E",
           "#32471E",
           "#32471E",
           "#32471E",
           "#32471E",
           "#32471E",
           "#32471E",
           "#32471E",
           "#32471E",
           "#32471E",
           "#32471E",
           "#32471E",
           "#32471E",
           "#32471E",
           "#32471E",
           "#32471E",
           "#32471E",
           "#32471E",
           "#32471E",
           "#32471E",
           "#32471E",
           "#32471E",
           "#32471E",
           "#32471E",
           "#32471E",
           "#32471E",
           "#32471E",
           "#32471E",
           "#32471E",
           "#32471E",
           "#32471E",
           "#32471E",
           "#32471E",
           "#32471E",
           "#32471E",
           "#32471E",
           "#32471E",
           "#32471E",
           "#32471E",
           "#32471E",
           "#32471E",
           "#32471E",
           "#32471E",
           "#32471E",
           "#32471E",
           "#32471E",
           "#32471E",
           "#32471E",
           "#32471E",
           "#32471E",
           "#32471E",
           "#32471E",
           "#32471E",
           "#32471E",
           "#32471E",
           "#32471E",
           "#32471E",
           "#32471E",
           "#32471E",
           "#32471E",
           "#32471E",
           "#32471E",
           "#32471E",
           "#32471E",
           "#32471E",
           "#32471E",
           "#32471E",
           "#32471E",
           "#32471E",
           "#32471E",
           "#32471E",
           "#32471E",
           "#32471E",
           "#32471E",
           "#32471E",
           "#32471E",
           "#32471E",
           "#32471E",
           "#32471E",
           "#32471E",
           "#32471E",
           "#32471E",
           "#32471E",
           "#32471E",
           "#32471E",
           "#32471E",
           "#32471E",
           "#32471E",
           "#32471E",
           "#32471E",
           "#32471E",
           "#32471E",
           "#32471E",
           "#32471E",
           "#32471E",
           "#32471E",
           "#32471E",
           "#32471E",
           "#32471E",
           "#32471E",
           "#32471E",
           "#32471E",
           "#32471E",
           "#32471E",
           "#32471E",
           "#32471E",
           "#32471E",
           "#32471E",
           "#32471E",
           "#32471E",
           "#32471E",
           "#32471E",
           "#32471E",
           "#32471E",
           "#32471E",
           "#32471E",
           "#32471E",
           "#32471E",
           "#32471E",
           "#32471E",
           "#32471E",
           "#32471E",
           "#32471E",
           "#32471E",
           "#32471E",
           "#32471E",
           "#32471E",
           "#32471E",
           "#32471E",
           "#32471E"
          ],
          "line": {
           "width": 0.3
          },
          "size": 10
         },
         "mode": "markers",
         "name": "WHITE",
         "type": "scatter",
         "x": [
          24.8,
          33.71,
          28.2,
          25.5,
          22.1,
          28.2,
          25.1,
          28.5,
          36.4,
          37.8,
          30.46,
          30.71,
          25.4,
          20.9,
          30.7,
          26.6,
          25.3,
          18,
          25.08,
          19.16,
          34.13,
          42.1,
          22.92,
          23.78,
          31.05,
          32.72,
          28.31,
          28.87,
          29.17,
          29.91,
          24,
          35.71,
          30.48,
          38.8,
          23.58,
          23.49,
          26.27,
          30.27,
          29.43,
          30.05,
          20.88,
          25.79,
          28.34,
          29.51,
          25.61,
          26.97,
          31.05,
          26.41,
          28.08,
          29.88,
          34.17,
          29.3,
          40.6,
          25.92,
          33.09,
          24.02,
          21.22,
          62.11,
          22.6,
          26.4,
          24.1,
          23.6,
          27.66,
          42.9,
          29,
          29.86,
          18.29,
          25.97,
          31.09,
          28.06,
          34,
          27.07,
          43.77,
          29.5,
          29.46,
          23.55,
          26.82,
          31.57,
          27,
          22.6,
          30.34,
          22.4,
          28.67,
          27.81,
          31.52,
          21.86,
          45.7,
          29.96,
          36.2,
          39.9,
          36.27,
          24.17,
          37.55,
          21.12,
          30.26,
          28.4,
          22.19,
          26.8,
          21.5,
          24.1,
          26.61,
          42.3,
          22.64,
          41.8,
          32.7,
          21.7,
          34.5,
          22.4,
          21.1,
          33.3,
          22.4,
          27,
          26.4,
          28.8,
          26.9,
          24.2,
          36.6,
          25.2,
          22.25,
          28.55,
          35.36,
          22.06,
          25.39,
          28.55,
          28.25,
          22.23,
          22.96,
          22.23,
          28.08,
          22.56,
          27.33,
          29,
          26.28,
          26.02,
          28.24,
          31.01,
          25.37,
          33.46,
          22.5,
          29.63,
          24.89,
          26.92,
          20.5,
          44.79,
          28.47,
          27.04,
          27.64,
          32.88,
          21.57,
          22.11,
          24.62,
          28.53,
          32.84,
          25.76,
          25.55,
          21.08,
          25.86,
          22.89,
          27.02,
          30.64,
          27.58,
          27.33,
          35.33,
          35.97,
          31.97,
          27.43,
          29.82,
          39.3,
          39.56,
          20.85,
          27.78,
          22.23,
          29.4,
          30.12,
          24.82,
          30.25,
          25.71,
          35.79,
          29.64
         ],
         "y": [
          30,
          29,
          32,
          31,
          24,
          34,
          28.5,
          29.5,
          38.5,
          37.5,
          34,
          30.5,
          33.5,
          29.5,
          31,
          32,
          30,
          22,
          30,
          21.5,
          30,
          34.5,
          24,
          25,
          29,
          28.5,
          30.5,
          34.5,
          29,
          29,
          28,
          31.5,
          31,
          36.5,
          24,
          26,
          28.5,
          29.5,
          29,
          30.5,
          20.5,
          28.5,
          31,
          33,
          28,
          26,
          30,
          29,
          25.5,
          30,
          33,
          33,
          35,
          27,
          32,
          28,
          27,
          35,
          29,
          29.5,
          27,
          28.5,
          27,
          37,
          27.85,
          30,
          22.5,
          26.5,
          32,
          33,
          37,
          28,
          35,
          30.5,
          29.5,
          24,
          25.5,
          30,
          27,
          23.5,
          33.5,
          28.5,
          31,
          29.5,
          33,
          23.3,
          46.5,
          30,
          36,
          34.5,
          31,
          26.5,
          35,
          24.5,
          30,
          30,
          25,
          27.5,
          23.5,
          28,
          27.5,
          35,
          27,
          35,
          33.5,
          27.5,
          35,
          27.5,
          26,
          35.5,
          "24`",
          27,
          27.5,
          30,
          29,
          27,
          32,
          29.5,
          26,
          32,
          35,
          26.5,
          28,
          28.5,
          32,
          25.5,
          24.5,
          25,
          31,
          25,
          29,
          29,
          29,
          29,
          26.5,
          32,
          24,
          33.5,
          27,
          31.5,
          26,
          29,
          24,
          44,
          29,
          30,
          30,
          31.5,
          23,
          25.5,
          28,
          28.5,
          30,
          29,
          29,
          25,
          27.5,
          25.5,
          28,
          31,
          31,
          28,
          33.5,
          32,
          32.5,
          30.5,
          31,
          37.5,
          39,
          24.5,
          28,
          24,
          27,
          32,
          27,
          31,
          31,
          32,
          30
         ]
        },
        {
         "marker": {
          "color": [
           "#32471E",
           "#32471E",
           "#32471E",
           "#32471E",
           "#32471E",
           "#32471E",
           "#32471E",
           "#32471E",
           "#32471E",
           "#32471E",
           "#32471E",
           "#32471E",
           "#32471E",
           "#32471E",
           "#32471E",
           "#32471E",
           "#32471E",
           "#32471E",
           "#32471E",
           "#32471E"
          ],
          "line": {
           "width": 0.3
          },
          "size": 10
         },
         "mode": "markers",
         "name": "MIXED",
         "type": "scatter",
         "x": [
          22.31,
          25.7,
          31.5,
          28.4,
          30.73,
          27.85,
          23.42,
          23.51,
          25.8,
          38.87,
          42.4,
          31.67,
          36.9,
          27.55,
          26.65,
          26.75,
          39.55,
          27.18,
          17.69,
          35.15
         ],
         "y": [
          27,
          28.5,
          29.5,
          33,
          33,
          26,
          25,
          28,
          32,
          34,
          41,
          34,
          34,
          27.5,
          27,
          28,
          37,
          32,
          23,
          32
         ]
        },
        {
         "marker": {
          "color": [
           "#32471E",
           "#32471E",
           "#32471E",
           "#32471E",
           "#32471E",
           "#32471E",
           "#32471E",
           "#32471E",
           "#32471E",
           "#32471E",
           "#32471E",
           "#32471E",
           "#32471E",
           "#32471E",
           "#32471E",
           "#32471E",
           "#32471E",
           "#32471E",
           "#32471E",
           "#32471E",
           "#32471E",
           "#32471E",
           "#32471E",
           "#32471E",
           "#32471E",
           "#32471E",
           "#32471E",
           "#32471E",
           "#32471E",
           "#32471E",
           "#32471E",
           "#32471E",
           "#32471E",
           "#32471E",
           "#32471E",
           "#32471E",
           "#32471E",
           "#32471E",
           "#32471E",
           "#32471E",
           "#32471E",
           "#32471E",
           "#32471E",
           "#32471E",
           "#32471E",
           "#32471E",
           "#32471E",
           "#32471E",
           "#32471E",
           "#32471E",
           "#32471E",
           "#32471E",
           "#32471E",
           "#32471E",
           "#32471E",
           "#32471E",
           "#32471E",
           "#32471E",
           "#32471E",
           "#32471E",
           "#32471E",
           "#32471E",
           "#32471E",
           "#32471E",
           "#32471E",
           "#32471E",
           "#32471E",
           "#32471E",
           "#32471E",
           "#32471E",
           "#32471E",
           "#32471E",
           "#32471E",
           "#32471E",
           "#32471E",
           "#32471E",
           "#32471E",
           "#32471E",
           "#32471E",
           "#32471E",
           "#32471E",
           "#32471E",
           "#32471E",
           "#32471E",
           "#32471E",
           "#32471E",
           "#32471E"
          ],
          "line": {
           "width": 0.3
          },
          "size": 10
         },
         "mode": "markers",
         "name": "BLACK",
         "type": "scatter",
         "x": [
          22.7,
          33.8,
          21.5,
          35.28,
          28.4,
          34.12,
          42.4,
          43.8,
          39.98,
          32,
          27.6,
          30.7,
          36.42,
          24.54,
          28.25,
          24.84,
          46.48,
          30.44,
          24.49,
          19.99,
          24.77,
          43.25,
          30.86,
          27.27,
          25.88,
          32.92,
          30.99,
          26.05,
          28.83,
          32.03,
          26.93,
          34.16,
          33.5,
          29.9,
          33.1,
          24.1,
          21.6,
          37.9,
          29.76,
          44.4,
          38.6,
          27.6,
          33.12,
          31.35,
          33,
          26.5,
          33.4,
          36.5,
          27.85,
          28.14,
          34.28,
          31.3,
          35.8,
          37.92,
          32.89,
          24.09,
          22.19,
          27.32,
          56.02,
          41.97,
          21.92,
          31.09,
          28.29,
          21.83,
          37.74,
          30.15,
          36.75,
          26.64,
          31.6,
          33.96,
          32.71,
          38.3,
          30.04,
          25.03,
          31.63,
          31.77,
          33.15,
          40.89,
          27.82,
          41.01,
          32.91,
          32.24,
          28.08,
          25.89,
          37,
          29.31,
          44.06
         ],
         "y": [
          28,
          36,
          28,
          39,
          34,
          42.5,
          42,
          40,
          40,
          32,
          29.5,
          33,
          40,
          33.5,
          30,
          28.5,
          41.5,
          34,
          26,
          30,
          24.5,
          44.5,
          33,
          30,
          29,
          35,
          35,
          29,
          29,
          34,
          28,
          38.5,
          33,
          30.5,
          41,
          26,
          27,
          39,
          26,
          45.5,
          38.5,
          31,
          32.5,
          30,
          33,
          28,
          32,
          29.5,
          29,
          29,
          38,
          30,
          39,
          37.5,
          29.5,
          28,
          24.5,
          29.3,
          52,
          43,
          24,
          33,
          33,
          25.5,
          40.5,
          31.5,
          37.5,
          27,
          32.5,
          35,
          34,
          41,
          34.5,
          28,
          32.5,
          32,
          35,
          31.5,
          30,
          36,
          33.5,
          33,
          32,
          27,
          32,
          34.5,
          41
         ]
        },
        {
         "marker": {
          "color": [
           "#32471E",
           "#32471E",
           "#32471E",
           "#32471E",
           "#32471E",
           "#32471E",
           "#32471E",
           "#32471E",
           "#32471E",
           "#32471E",
           "#32471E",
           "#32471E",
           "#32471E",
           "#32471E",
           "#32471E",
           "#32471E",
           "#32471E",
           "#32471E",
           "#32471E",
           "#32471E",
           "#32471E",
           "#32471E",
           "#32471E",
           "#32471E",
           "#32471E",
           "#32471E",
           "#32471E",
           "#32471E",
           "#32471E",
           "#32471E",
           "#32471E"
          ],
          "line": {
           "width": 0.3
          },
          "size": 10
         },
         "mode": "markers",
         "name": "ASIAN EAST",
         "type": "scatter",
         "x": [
          22.9,
          27.83,
          28.9,
          23,
          20.9,
          21.98,
          29.3,
          23.27,
          36.13,
          30.49,
          25.62,
          31.9,
          20.33,
          23.7,
          26,
          22.56,
          23.01,
          22.27,
          24.69,
          23.95,
          26.2,
          23.34,
          22.47,
          30.49,
          20.85,
          31.83,
          25.62,
          26.71,
          28.39,
          27.82,
          24.21
         ],
         "y": [
          30.5,
          28.5,
          29,
          28,
          23.5,
          26,
          29,
          27,
          39,
          32,
          27,
          29,
          22,
          24,
          26,
          22,
          25.5,
          26,
          24.5,
          30,
          28,
          25,
          24.5,
          30,
          24.5,
          33,
          28.5,
          29.5,
          31.5,
          21,
          24
         ]
        },
        {
         "marker": {
          "color": [
           "#32471E",
           "#32471E",
           "#32471E",
           "#32471E",
           "#32471E",
           "#32471E",
           "#32471E",
           "#32471E",
           "#32471E",
           "#32471E",
           "#32471E",
           "#32471E",
           "#32471E",
           "#32471E",
           "#32471E",
           "#32471E",
           "#32471E",
           "#32471E",
           "#32471E",
           "#32471E",
           "#32471E",
           "#32471E",
           "#32471E",
           "#32471E",
           "#32471E",
           "#32471E",
           "#32471E",
           "#32471E",
           "#32471E",
           "#32471E",
           "#32471E",
           "#32471E",
           "#32471E",
           "#32471E",
           "#32471E",
           "#32471E",
           "#32471E",
           "#32471E",
           "#32471E",
           "#32471E",
           "#32471E",
           "#32471E",
           "#32471E",
           "#32471E",
           "#32471E",
           "#32471E",
           "#32471E",
           "#32471E",
           "#32471E",
           "#32471E",
           "#32471E",
           "#32471E",
           "#32471E",
           "#32471E",
           "#32471E",
           "#32471E",
           "#32471E",
           "#32471E",
           "#32471E",
           "#32471E",
           "#32471E",
           "#32471E",
           "#32471E",
           "#32471E",
           "#32471E"
          ],
          "line": {
           "width": 0.3
          },
          "size": 10
         },
         "mode": "markers",
         "name": "ASIAN SOUTH",
         "type": "scatter",
         "x": [
          26.1,
          23.07,
          27.82,
          23.4,
          27.7,
          33.9,
          29.3,
          26.18,
          30.49,
          29.29,
          25.77,
          25.43,
          29.43,
          29.48,
          28.27,
          30.75,
          29.9,
          35.88,
          23.01,
          29.8,
          32.96,
          21.7,
          36.42,
          20.91,
          32.17,
          20.91,
          22.3,
          27.8,
          32.34,
          35.18,
          26.4,
          19.4,
          22.1,
          27.56,
          26.16,
          23.38,
          24,
          22.6,
          25.1,
          39.4,
          28.55,
          25.36,
          22.84,
          34.71,
          35.88,
          20.93,
          34.63,
          33.69,
          29.97,
          28.27,
          31,
          32.79,
          38.84,
          22.26,
          18.98,
          25.38,
          24.39,
          29.06,
          28.21,
          29.9,
          26.47,
          38.71,
          21.76,
          31.03,
          28.49
         ],
         "y": [
          27.5,
          25.5,
          28.5,
          25,
          30.5,
          31.5,
          33,
          30,
          28.5,
          30,
          23.5,
          27.5,
          33,
          29.5,
          28,
          31.5,
          30.5,
          33,
          31,
          32,
          34,
          25,
          36,
          22.5,
          31,
          22.5,
          23,
          28.5,
          30,
          30.5,
          28,
          25,
          23,
          28.5,
          26,
          25.5,
          28,
          24.5,
          26,
          34,
          33.5,
          28.5,
          28.5,
          31,
          34,
          24.5,
          33.5,
          32,
          33,
          28.5,
          29.5,
          32,
          36.5,
          25.5,
          23.5,
          29,
          29,
          33,
          31.5,
          29,
          27,
          37.5,
          25,
          33,
          29
         ]
        }
       ],
       "layout": {
        "paper_bgcolor": "white",
        "plot_bgcolor": "#F6F8FC",
        "template": {
         "data": {
          "bar": [
           {
            "error_x": {
             "color": "#2a3f5f"
            },
            "error_y": {
             "color": "#2a3f5f"
            },
            "marker": {
             "line": {
              "color": "#E5ECF6",
              "width": 0.5
             },
             "pattern": {
              "fillmode": "overlay",
              "size": 10,
              "solidity": 0.2
             }
            },
            "type": "bar"
           }
          ],
          "barpolar": [
           {
            "marker": {
             "line": {
              "color": "#E5ECF6",
              "width": 0.5
             },
             "pattern": {
              "fillmode": "overlay",
              "size": 10,
              "solidity": 0.2
             }
            },
            "type": "barpolar"
           }
          ],
          "carpet": [
           {
            "aaxis": {
             "endlinecolor": "#2a3f5f",
             "gridcolor": "white",
             "linecolor": "white",
             "minorgridcolor": "white",
             "startlinecolor": "#2a3f5f"
            },
            "baxis": {
             "endlinecolor": "#2a3f5f",
             "gridcolor": "white",
             "linecolor": "white",
             "minorgridcolor": "white",
             "startlinecolor": "#2a3f5f"
            },
            "type": "carpet"
           }
          ],
          "choropleth": [
           {
            "colorbar": {
             "outlinewidth": 0,
             "ticks": ""
            },
            "type": "choropleth"
           }
          ],
          "contour": [
           {
            "colorbar": {
             "outlinewidth": 0,
             "ticks": ""
            },
            "colorscale": [
             [
              0,
              "#0d0887"
             ],
             [
              0.1111111111111111,
              "#46039f"
             ],
             [
              0.2222222222222222,
              "#7201a8"
             ],
             [
              0.3333333333333333,
              "#9c179e"
             ],
             [
              0.4444444444444444,
              "#bd3786"
             ],
             [
              0.5555555555555556,
              "#d8576b"
             ],
             [
              0.6666666666666666,
              "#ed7953"
             ],
             [
              0.7777777777777778,
              "#fb9f3a"
             ],
             [
              0.8888888888888888,
              "#fdca26"
             ],
             [
              1,
              "#f0f921"
             ]
            ],
            "type": "contour"
           }
          ],
          "contourcarpet": [
           {
            "colorbar": {
             "outlinewidth": 0,
             "ticks": ""
            },
            "type": "contourcarpet"
           }
          ],
          "heatmap": [
           {
            "colorbar": {
             "outlinewidth": 0,
             "ticks": ""
            },
            "colorscale": [
             [
              0,
              "#0d0887"
             ],
             [
              0.1111111111111111,
              "#46039f"
             ],
             [
              0.2222222222222222,
              "#7201a8"
             ],
             [
              0.3333333333333333,
              "#9c179e"
             ],
             [
              0.4444444444444444,
              "#bd3786"
             ],
             [
              0.5555555555555556,
              "#d8576b"
             ],
             [
              0.6666666666666666,
              "#ed7953"
             ],
             [
              0.7777777777777778,
              "#fb9f3a"
             ],
             [
              0.8888888888888888,
              "#fdca26"
             ],
             [
              1,
              "#f0f921"
             ]
            ],
            "type": "heatmap"
           }
          ],
          "heatmapgl": [
           {
            "colorbar": {
             "outlinewidth": 0,
             "ticks": ""
            },
            "colorscale": [
             [
              0,
              "#0d0887"
             ],
             [
              0.1111111111111111,
              "#46039f"
             ],
             [
              0.2222222222222222,
              "#7201a8"
             ],
             [
              0.3333333333333333,
              "#9c179e"
             ],
             [
              0.4444444444444444,
              "#bd3786"
             ],
             [
              0.5555555555555556,
              "#d8576b"
             ],
             [
              0.6666666666666666,
              "#ed7953"
             ],
             [
              0.7777777777777778,
              "#fb9f3a"
             ],
             [
              0.8888888888888888,
              "#fdca26"
             ],
             [
              1,
              "#f0f921"
             ]
            ],
            "type": "heatmapgl"
           }
          ],
          "histogram": [
           {
            "marker": {
             "pattern": {
              "fillmode": "overlay",
              "size": 10,
              "solidity": 0.2
             }
            },
            "type": "histogram"
           }
          ],
          "histogram2d": [
           {
            "colorbar": {
             "outlinewidth": 0,
             "ticks": ""
            },
            "colorscale": [
             [
              0,
              "#0d0887"
             ],
             [
              0.1111111111111111,
              "#46039f"
             ],
             [
              0.2222222222222222,
              "#7201a8"
             ],
             [
              0.3333333333333333,
              "#9c179e"
             ],
             [
              0.4444444444444444,
              "#bd3786"
             ],
             [
              0.5555555555555556,
              "#d8576b"
             ],
             [
              0.6666666666666666,
              "#ed7953"
             ],
             [
              0.7777777777777778,
              "#fb9f3a"
             ],
             [
              0.8888888888888888,
              "#fdca26"
             ],
             [
              1,
              "#f0f921"
             ]
            ],
            "type": "histogram2d"
           }
          ],
          "histogram2dcontour": [
           {
            "colorbar": {
             "outlinewidth": 0,
             "ticks": ""
            },
            "colorscale": [
             [
              0,
              "#0d0887"
             ],
             [
              0.1111111111111111,
              "#46039f"
             ],
             [
              0.2222222222222222,
              "#7201a8"
             ],
             [
              0.3333333333333333,
              "#9c179e"
             ],
             [
              0.4444444444444444,
              "#bd3786"
             ],
             [
              0.5555555555555556,
              "#d8576b"
             ],
             [
              0.6666666666666666,
              "#ed7953"
             ],
             [
              0.7777777777777778,
              "#fb9f3a"
             ],
             [
              0.8888888888888888,
              "#fdca26"
             ],
             [
              1,
              "#f0f921"
             ]
            ],
            "type": "histogram2dcontour"
           }
          ],
          "mesh3d": [
           {
            "colorbar": {
             "outlinewidth": 0,
             "ticks": ""
            },
            "type": "mesh3d"
           }
          ],
          "parcoords": [
           {
            "line": {
             "colorbar": {
              "outlinewidth": 0,
              "ticks": ""
             }
            },
            "type": "parcoords"
           }
          ],
          "pie": [
           {
            "automargin": true,
            "type": "pie"
           }
          ],
          "scatter": [
           {
            "fillpattern": {
             "fillmode": "overlay",
             "size": 10,
             "solidity": 0.2
            },
            "type": "scatter"
           }
          ],
          "scatter3d": [
           {
            "line": {
             "colorbar": {
              "outlinewidth": 0,
              "ticks": ""
             }
            },
            "marker": {
             "colorbar": {
              "outlinewidth": 0,
              "ticks": ""
             }
            },
            "type": "scatter3d"
           }
          ],
          "scattercarpet": [
           {
            "marker": {
             "colorbar": {
              "outlinewidth": 0,
              "ticks": ""
             }
            },
            "type": "scattercarpet"
           }
          ],
          "scattergeo": [
           {
            "marker": {
             "colorbar": {
              "outlinewidth": 0,
              "ticks": ""
             }
            },
            "type": "scattergeo"
           }
          ],
          "scattergl": [
           {
            "marker": {
             "colorbar": {
              "outlinewidth": 0,
              "ticks": ""
             }
            },
            "type": "scattergl"
           }
          ],
          "scattermapbox": [
           {
            "marker": {
             "colorbar": {
              "outlinewidth": 0,
              "ticks": ""
             }
            },
            "type": "scattermapbox"
           }
          ],
          "scatterpolar": [
           {
            "marker": {
             "colorbar": {
              "outlinewidth": 0,
              "ticks": ""
             }
            },
            "type": "scatterpolar"
           }
          ],
          "scatterpolargl": [
           {
            "marker": {
             "colorbar": {
              "outlinewidth": 0,
              "ticks": ""
             }
            },
            "type": "scatterpolargl"
           }
          ],
          "scatterternary": [
           {
            "marker": {
             "colorbar": {
              "outlinewidth": 0,
              "ticks": ""
             }
            },
            "type": "scatterternary"
           }
          ],
          "surface": [
           {
            "colorbar": {
             "outlinewidth": 0,
             "ticks": ""
            },
            "colorscale": [
             [
              0,
              "#0d0887"
             ],
             [
              0.1111111111111111,
              "#46039f"
             ],
             [
              0.2222222222222222,
              "#7201a8"
             ],
             [
              0.3333333333333333,
              "#9c179e"
             ],
             [
              0.4444444444444444,
              "#bd3786"
             ],
             [
              0.5555555555555556,
              "#d8576b"
             ],
             [
              0.6666666666666666,
              "#ed7953"
             ],
             [
              0.7777777777777778,
              "#fb9f3a"
             ],
             [
              0.8888888888888888,
              "#fdca26"
             ],
             [
              1,
              "#f0f921"
             ]
            ],
            "type": "surface"
           }
          ],
          "table": [
           {
            "cells": {
             "fill": {
              "color": "#EBF0F8"
             },
             "line": {
              "color": "white"
             }
            },
            "header": {
             "fill": {
              "color": "#C8D4E3"
             },
             "line": {
              "color": "white"
             }
            },
            "type": "table"
           }
          ]
         },
         "layout": {
          "annotationdefaults": {
           "arrowcolor": "#2a3f5f",
           "arrowhead": 0,
           "arrowwidth": 1
          },
          "autotypenumbers": "strict",
          "coloraxis": {
           "colorbar": {
            "outlinewidth": 0,
            "ticks": ""
           }
          },
          "colorscale": {
           "diverging": [
            [
             0,
             "#8e0152"
            ],
            [
             0.1,
             "#c51b7d"
            ],
            [
             0.2,
             "#de77ae"
            ],
            [
             0.3,
             "#f1b6da"
            ],
            [
             0.4,
             "#fde0ef"
            ],
            [
             0.5,
             "#f7f7f7"
            ],
            [
             0.6,
             "#e6f5d0"
            ],
            [
             0.7,
             "#b8e186"
            ],
            [
             0.8,
             "#7fbc41"
            ],
            [
             0.9,
             "#4d9221"
            ],
            [
             1,
             "#276419"
            ]
           ],
           "sequential": [
            [
             0,
             "#0d0887"
            ],
            [
             0.1111111111111111,
             "#46039f"
            ],
            [
             0.2222222222222222,
             "#7201a8"
            ],
            [
             0.3333333333333333,
             "#9c179e"
            ],
            [
             0.4444444444444444,
             "#bd3786"
            ],
            [
             0.5555555555555556,
             "#d8576b"
            ],
            [
             0.6666666666666666,
             "#ed7953"
            ],
            [
             0.7777777777777778,
             "#fb9f3a"
            ],
            [
             0.8888888888888888,
             "#fdca26"
            ],
            [
             1,
             "#f0f921"
            ]
           ],
           "sequentialminus": [
            [
             0,
             "#0d0887"
            ],
            [
             0.1111111111111111,
             "#46039f"
            ],
            [
             0.2222222222222222,
             "#7201a8"
            ],
            [
             0.3333333333333333,
             "#9c179e"
            ],
            [
             0.4444444444444444,
             "#bd3786"
            ],
            [
             0.5555555555555556,
             "#d8576b"
            ],
            [
             0.6666666666666666,
             "#ed7953"
            ],
            [
             0.7777777777777778,
             "#fb9f3a"
            ],
            [
             0.8888888888888888,
             "#fdca26"
            ],
            [
             1,
             "#f0f921"
            ]
           ]
          },
          "colorway": [
           "#636efa",
           "#EF553B",
           "#00cc96",
           "#ab63fa",
           "#FFA15A",
           "#19d3f3",
           "#FF6692",
           "#B6E880",
           "#FF97FF",
           "#FECB52"
          ],
          "font": {
           "color": "#2a3f5f"
          },
          "geo": {
           "bgcolor": "white",
           "lakecolor": "white",
           "landcolor": "#E5ECF6",
           "showlakes": true,
           "showland": true,
           "subunitcolor": "white"
          },
          "hoverlabel": {
           "align": "left"
          },
          "hovermode": "closest",
          "mapbox": {
           "style": "light"
          },
          "paper_bgcolor": "white",
          "plot_bgcolor": "#E5ECF6",
          "polar": {
           "angularaxis": {
            "gridcolor": "white",
            "linecolor": "white",
            "ticks": ""
           },
           "bgcolor": "#E5ECF6",
           "radialaxis": {
            "gridcolor": "white",
            "linecolor": "white",
            "ticks": ""
           }
          },
          "scene": {
           "xaxis": {
            "backgroundcolor": "#E5ECF6",
            "gridcolor": "white",
            "gridwidth": 2,
            "linecolor": "white",
            "showbackground": true,
            "ticks": "",
            "zerolinecolor": "white"
           },
           "yaxis": {
            "backgroundcolor": "#E5ECF6",
            "gridcolor": "white",
            "gridwidth": 2,
            "linecolor": "white",
            "showbackground": true,
            "ticks": "",
            "zerolinecolor": "white"
           },
           "zaxis": {
            "backgroundcolor": "#E5ECF6",
            "gridcolor": "white",
            "gridwidth": 2,
            "linecolor": "white",
            "showbackground": true,
            "ticks": "",
            "zerolinecolor": "white"
           }
          },
          "shapedefaults": {
           "line": {
            "color": "#2a3f5f"
           }
          },
          "ternary": {
           "aaxis": {
            "gridcolor": "white",
            "linecolor": "white",
            "ticks": ""
           },
           "baxis": {
            "gridcolor": "white",
            "linecolor": "white",
            "ticks": ""
           },
           "bgcolor": "#E5ECF6",
           "caxis": {
            "gridcolor": "white",
            "linecolor": "white",
            "ticks": ""
           }
          },
          "title": {
           "x": 0.05
          },
          "xaxis": {
           "automargin": true,
           "gridcolor": "white",
           "linecolor": "white",
           "ticks": "",
           "title": {
            "standoff": 15
           },
           "zerolinecolor": "white",
           "zerolinewidth": 2
          },
          "yaxis": {
           "automargin": true,
           "gridcolor": "white",
           "linecolor": "white",
           "ticks": "",
           "title": {
            "standoff": 15
           },
           "zerolinecolor": "white",
           "zerolinewidth": 2
          }
         }
        },
        "title": {
         "text": "BMI vs MUAC<br><sup><i>(n=382)</i></sup>",
         "x": 0,
         "xref": "paper"
        },
        "xaxis": {
         "title": {
          "text": "BMI<br><sup><i>kg/m<sup>2</sup></i></sup>"
         }
        },
        "yaxis": {
         "gridcolor": "lightgrey",
         "title": {
          "text": "MUAC<br><sup><i>cm</i></sup>"
         }
        }
       }
      }
     },
     "metadata": {},
     "output_type": "display_data"
    },
    {
     "data": {
      "application/vnd.plotly.v1+json": {
       "config": {
        "plotlyServerURL": "https://plot.ly"
       },
       "data": [
        {
         "marker": {
          "color": [
           "#32471E",
           "#32471E",
           "#32471E",
           "#32471E",
           "#32471E",
           "#32471E",
           "#32471E",
           "#32471E",
           "#32471E",
           "#32471E",
           "#32471E",
           "#32471E",
           "#32471E",
           "#32471E",
           "#32471E",
           "#32471E",
           "#32471E",
           "#32471E",
           "#32471E",
           "#32471E",
           "#32471E",
           "#32471E",
           "#32471E",
           "#32471E",
           "#32471E",
           "#32471E",
           "#32471E",
           "#32471E",
           "#32471E",
           "#32471E",
           "#32471E",
           "#32471E",
           "#32471E",
           "#32471E",
           "#32471E",
           "#32471E",
           "#32471E",
           "#32471E",
           "#32471E",
           "#32471E",
           "#32471E",
           "#32471E",
           "#32471E",
           "#32471E",
           "#32471E",
           "#32471E",
           "#32471E",
           "#32471E",
           "#32471E",
           "#32471E",
           "#32471E",
           "#32471E",
           "#32471E",
           "#32471E",
           "#32471E",
           "#32471E",
           "#32471E",
           "#32471E",
           "#32471E",
           "#32471E",
           "#32471E",
           "#32471E",
           "#32471E",
           "#32471E",
           "#32471E",
           "#32471E",
           "#32471E",
           "#32471E",
           "#32471E",
           "#32471E",
           "#32471E",
           "#32471E",
           "#32471E",
           "#32471E",
           "#32471E",
           "#32471E",
           "#32471E",
           "#32471E",
           "#32471E",
           "#32471E",
           "#32471E",
           "#32471E",
           "#32471E",
           "#32471E",
           "#32471E",
           "#32471E",
           "#32471E",
           "#32471E",
           "#32471E",
           "#32471E",
           "#32471E",
           "#32471E",
           "#32471E",
           "#32471E",
           "#32471E",
           "#32471E",
           "#32471E",
           "#32471E",
           "#32471E",
           "#32471E",
           "#32471E",
           "#32471E",
           "#32471E",
           "#32471E",
           "#32471E",
           "#32471E",
           "#32471E",
           "#32471E",
           "#32471E",
           "#32471E",
           "#32471E",
           "#32471E",
           "#32471E",
           "#32471E",
           "#32471E",
           "#32471E",
           "#32471E",
           "#32471E",
           "#32471E",
           "#32471E",
           "#32471E",
           "#32471E",
           "#32471E",
           "#32471E",
           "#32471E",
           "#32471E",
           "#32471E",
           "#32471E",
           "#32471E",
           "#32471E",
           "#32471E",
           "#32471E",
           "#32471E",
           "#32471E",
           "#32471E",
           "#32471E",
           "#32471E",
           "#32471E",
           "#32471E",
           "#32471E",
           "#32471E",
           "#32471E",
           "#32471E",
           "#32471E",
           "#32471E",
           "#32471E",
           "#32471E",
           "#32471E",
           "#32471E",
           "#32471E",
           "#32471E",
           "#32471E",
           "#32471E",
           "#32471E",
           "#32471E",
           "#32471E",
           "#32471E",
           "#32471E",
           "#32471E",
           "#32471E",
           "#32471E",
           "#32471E",
           "#32471E",
           "#32471E",
           "#32471E",
           "#32471E",
           "#32471E",
           "#32471E",
           "#32471E",
           "#32471E",
           "#32471E",
           "#32471E",
           "#32471E",
           "#32471E",
           "#32471E",
           "#32471E",
           "#32471E",
           "#32471E",
           "#32471E",
           "#32471E",
           "#32471E",
           "#32471E",
           "#32471E",
           "#32471E",
           "#32471E",
           "#32471E",
           "#32471E",
           "#32471E",
           "#32471E",
           "#32471E",
           "#32471E",
           "#32471E",
           "#32471E",
           "#32471E",
           "#32471E",
           "#32471E",
           "#32471E",
           "#32471E",
           "#32471E",
           "#32471E",
           "#32471E",
           "#32471E",
           "#32471E",
           "#32471E",
           "#32471E",
           "#32471E",
           "#32471E",
           "#32471E",
           "#32471E",
           "#32471E",
           "#32471E",
           "#32471E",
           "#32471E",
           "#32471E",
           "#32471E",
           "#32471E",
           "#32471E",
           "#32471E",
           "#32471E",
           "#32471E",
           "#32471E",
           "#32471E",
           "#32471E",
           "#32471E",
           "#32471E",
           "#32471E",
           "#32471E",
           "#32471E",
           "#32471E",
           "#32471E",
           "#32471E",
           "#32471E",
           "#32471E",
           "#32471E",
           "#32471E",
           "#32471E",
           "#32471E",
           "#32471E",
           "#32471E",
           "#32471E",
           "#32471E",
           "#32471E",
           "#32471E",
           "#32471E",
           "#32471E",
           "#32471E",
           "#32471E",
           "#32471E",
           "#32471E",
           "#32471E",
           "#32471E",
           "#32471E",
           "#32471E",
           "#32471E",
           "#32471E",
           "#32471E",
           "#32471E",
           "#32471E",
           "#32471E",
           "#32471E",
           "#32471E",
           "#32471E",
           "#32471E",
           "#32471E",
           "#32471E",
           "#32471E",
           "#32471E",
           "#32471E",
           "#32471E",
           "#32471E",
           "#32471E",
           "#32471E",
           "#32471E",
           "#32471E",
           "#32471E",
           "#32471E",
           "#32471E",
           "#32471E",
           "#32471E",
           "#32471E",
           "#32471E",
           "#32471E",
           "#32471E",
           "#32471E",
           "#32471E",
           "#32471E",
           "#32471E",
           "#32471E",
           "#32471E",
           "#32471E",
           "#32471E",
           "#32471E",
           "#32471E",
           "#32471E",
           "#32471E",
           "#32471E",
           "#32471E",
           "#32471E",
           "#32471E",
           "#32471E",
           "#32471E",
           "#32471E",
           "#32471E",
           "#32471E",
           "#32471E",
           "#32471E",
           "#32471E",
           "#32471E",
           "#32471E",
           "#32471E",
           "#32471E",
           "#32471E",
           "#32471E",
           "#32471E",
           "#32471E",
           "#32471E",
           "#32471E",
           "#32471E",
           "#32471E",
           "#32471E",
           "#32471E",
           "#32471E",
           "#32471E",
           "#32471E",
           "#32471E",
           "#32471E",
           "#32471E",
           "#32471E",
           "#32471E",
           "#32471E",
           "#32471E",
           "#32471E",
           "#32471E",
           "#32471E",
           "#32471E",
           "#32471E",
           "#32471E",
           "#32471E",
           "#32471E",
           "#32471E",
           "#32471E",
           "#32471E",
           "#32471E",
           "#32471E",
           "#32471E",
           "#32471E",
           "#32471E",
           "#32471E",
           "#32471E",
           "#32471E",
           "#32471E",
           "#32471E",
           "#32471E",
           "#32471E",
           "#32471E",
           "#32471E",
           "#32471E",
           "#32471E",
           "#32471E",
           "#32471E",
           "#32471E",
           "#32471E",
           "#32471E",
           "#32471E",
           "#32471E",
           "#32471E",
           "#32471E",
           "#32471E",
           "#32471E",
           "#32471E",
           "#32471E",
           "#32471E",
           "#32471E",
           "#32471E",
           "#32471E",
           "#32471E",
           "#32471E",
           "#32471E",
           "#32471E",
           "#32471E",
           "#32471E",
           "#32471E"
          ],
          "line": {
           "width": 0.3
          },
          "size": 10
         },
         "mode": "markers",
         "name": "All",
         "type": "scatter",
         "x": [
          81.41666666666667,
          83.25,
          93.33333333333333,
          89.33333333333333,
          105.33333333333333,
          91.5,
          110.16666666666667,
          91.83333333333333,
          75,
          89.66666666666667,
          81.16666666666667,
          92.16666666666667,
          93.08333333333333,
          89,
          101.33333333333333,
          79.75,
          95.83333333333333,
          80.41666666666667,
          76.75,
          81.66666666666667,
          100.66666666666667,
          85.83333333333333,
          89,
          90,
          88.25,
          140.58333333333334,
          87,
          86.33333333333333,
          81.16666666666667,
          93.33333333333333,
          86.25,
          92.25,
          90.5,
          87.58333333333333,
          83.33333333333333,
          88.41666666666667,
          102,
          87.16666666666667,
          87.83333333333333,
          97.16666666666667,
          90.91666666666667,
          80.58333333333333,
          98.5,
          90.58333333333333,
          96.5,
          81.5,
          91.5,
          96.83333333333333,
          85.83333333333333,
          79.41666666666667,
          85.83333333333333,
          89,
          94,
          87.91666666666667,
          89.91666666666667,
          96.91666666666667,
          101.66666666666667,
          95.91666666666667,
          112.25,
          72.25,
          84.5,
          92.83333333333333,
          78.66666666666667,
          81.16666666666667,
          83.16666666666667,
          90.08333333333333,
          130.66666666666666,
          93.83333333333333,
          82.08333333333333,
          89.83333333333333,
          92.41666666666667,
          78.41666666666667,
          90.33333333333333,
          106.66666666666667,
          103.25,
          89.41666666666667,
          85.83333333333333,
          91,
          75.66666666666667,
          88,
          114.58333333333333,
          91.41666666666667,
          86.66666666666667,
          101.5,
          87.41666666666667,
          81.66666666666667,
          82.16666666666667,
          82.25,
          103.58333333333333,
          90.33333333333333,
          86.91666666666667,
          81.33333333333333,
          81.08333333333333,
          96.75,
          92.16666666666667,
          121.08333333333333,
          91.75,
          83,
          101.91666666666667,
          88.83333333333333,
          80.83333333333333,
          116.25,
          95.08333333333333,
          94.41666666666667,
          95.5,
          83,
          80.75,
          77.91666666666667,
          88.16666666666667,
          93.91666666666667,
          77.08333333333333,
          82.91666666666667,
          88.66666666666667,
          93.75,
          84,
          95.08333333333333,
          86,
          103.41666666666667,
          77.33333333333333,
          96.5,
          84.83333333333333,
          82.08333333333333,
          73.16666666666667,
          88.66666666666667,
          87.25,
          83.75,
          84.83333333333333,
          105.41666666666667,
          81.16666666666667,
          89.75,
          82.91666666666667,
          80.83333333333333,
          92.33333333333333,
          83.25,
          88,
          80,
          89.83333333333333,
          90.66666666666667,
          91.16666666666667,
          92.5,
          90,
          98.66666666666667,
          97.25,
          94.16666666666667,
          93.25,
          78.16666666666667,
          78.16666666666667,
          105.83333333333333,
          95.41666666666667,
          83.33333333333333,
          93.16666666666667,
          91.41666666666667,
          87.33333333333333,
          85.66666666666667,
          84.66666666666667,
          93,
          94.75,
          84.33333333333333,
          74.75,
          89.08333333333333,
          89.5,
          95.41666666666667,
          95.58333333333333,
          82.83333333333333,
          80.91666666666667,
          89.25,
          87.5,
          86.91666666666667,
          81.58333333333333,
          84.83333333333333,
          86.33333333333333,
          91.08333333333333,
          78.16666666666667,
          99.58333333333333,
          70.5,
          81.33333333333333,
          77.75,
          79.08333333333333,
          76,
          84.08333333333333,
          85.33333333333333,
          89.5,
          111.66666666666667,
          86.33333333333333,
          106.33333333333333,
          74,
          93.16666666666667,
          93.66666666666667,
          86.75,
          88.83333333333333,
          84.58333333333333,
          94.33333333333333,
          78.83333333333333,
          78.66666666666667,
          87.91666666666667,
          81.33333333333333,
          79.83333333333333,
          73.66666666666667,
          79.83333333333333,
          88.16666666666667,
          89.58333333333333,
          94.58333333333333,
          106.33333333333333,
          97.58333333333333,
          80.83333333333333,
          86.83333333333333,
          101.16666666666667,
          93.16666666666667,
          87.75,
          80.41666666666667,
          82.25,
          98.83333333333333,
          84.75,
          85.33333333333333,
          95.75,
          91.08333333333333,
          83.91666666666667,
          82.66666666666667,
          90.41666666666667,
          94.66666666666667,
          101.5,
          89.66666666666667,
          88.08333333333333,
          100.5,
          89.58333333333333,
          73.41666666666667,
          95.58333333333333,
          85.66666666666667,
          85.5,
          93.16666666666667,
          82.75,
          88.66666666666667,
          90.25,
          82,
          91.41666666666667,
          86.5,
          77.58333333333333,
          83.66666666666667,
          72.25,
          86.83333333333333,
          85,
          91.41666666666667,
          88.41666666666667,
          88.16666666666667,
          86.08333333333333,
          93.83333333333333,
          78.5,
          96.5,
          81.91666666666667,
          96.66666666666667,
          89,
          85.16666666666667,
          85.58333333333333,
          88.5,
          74.41666666666667,
          82.66666666666667,
          83.16666666666667,
          81.83333333333333,
          90.75,
          86.75,
          87.5,
          92.41666666666667,
          78.66666666666667,
          80.41666666666667,
          82.91666666666667,
          94.16666666666667,
          92.58333333333333,
          96.83333333333333,
          94.41666666666667,
          82.83333333333333,
          75.91666666666667,
          84.5,
          81.08333333333333,
          82.83333333333333,
          77.58333333333333,
          78.16666666666667,
          94.08333333333333,
          90.25,
          78.5,
          87.83333333333333,
          94.25,
          93.58333333333333,
          89.33333333333333,
          80.58333333333333,
          86.25,
          99.16666666666667,
          95.75,
          81,
          85.91666666666667,
          94.16666666666667,
          84,
          96,
          85.83333333333333,
          75.41666666666667,
          87,
          85.58333333333333,
          81.5,
          84.16666666666667,
          86.66666666666667,
          85.58333333333333,
          81.33333333333333,
          85.58333333333333,
          94.83333333333333,
          85.5,
          84.83333333333333,
          91.83333333333333,
          88.91666666666667,
          81.33333333333333,
          91.25,
          84.83333333333333,
          95.58333333333333,
          94.25,
          84.16666666666667,
          93.83333333333333,
          88.91666666666667,
          103,
          92.5,
          90.58333333333333,
          85.66666666666667,
          95.16666666666667,
          85.91666666666667,
          77.75,
          93.41666666666667,
          86.41666666666667,
          77.5,
          89.91666666666667,
          93.75,
          89.33333333333333,
          99,
          83,
          85.41666666666667,
          96.33333333333333,
          75.58333333333333,
          76,
          84.33333333333333,
          81.75,
          97.83333333333333,
          89,
          82.91666666666667,
          73.5,
          84.91666666666667,
          94.41666666666667,
          99.33333333333333,
          88.75,
          78.41666666666667,
          101.16666666666667,
          79.41666666666667,
          72.75,
          84.33333333333333,
          78.5,
          83.91666666666667,
          89.83333333333333,
          96,
          102.16666666666667,
          93.83333333333333,
          75.66666666666667,
          77.66666666666667,
          97.41666666666667,
          79.5,
          74.75,
          106.83333333333333,
          80.83333333333333,
          72.25,
          101.83333333333333,
          98.16666666666667,
          79.08333333333333,
          97,
          105.33333333333333,
          87.25,
          90.08333333333333,
          91.16666666666667,
          88.5,
          80.75,
          96.16666666666667,
          98.08333333333333,
          93.33333333333333,
          89.75,
          91.91666666666667,
          84.33333333333333,
          75,
          90.33333333333333,
          90.66666666666667
         ],
         "y": [
          24.8,
          22.31,
          22.7,
          33.71,
          28.2,
          25.5,
          33.8,
          22.9,
          22.1,
          27.83,
          21.5,
          35.28,
          28.4,
          28.9,
          26.1,
          23,
          28.2,
          25.1,
          28.5,
          25.7,
          36.4,
          37.8,
          34.12,
          42.4,
          30.46,
          43.8,
          23.07,
          27.82,
          31.5,
          30.71,
          25.4,
          20.9,
          39.98,
          30.7,
          32,
          23.4,
          28.4,
          20.9,
          27.7,
          33.9,
          27.6,
          29.3,
          26.6,
          25.3,
          30.7,
          18,
          25.08,
          19.16,
          36.42,
          21.98,
          34.13,
          24.54,
          42.1,
          22.92,
          26.18,
          30.49,
          29.29,
          23.78,
          31.05,
          25.77,
          32.72,
          28.31,
          28.87,
          25.43,
          28.25,
          24.84,
          46.48,
          29.17,
          29.91,
          24,
          35.71,
          30.73,
          30.44,
          30.48,
          38.8,
          23.58,
          23.49,
          26.27,
          24.49,
          30.27,
          19.99,
          29.43,
          24.77,
          30.05,
          20.88,
          25.79,
          28.34,
          27.85,
          29.51,
          43.25,
          25.61,
          29.3,
          29.43,
          30.86,
          29.48,
          28.27,
          26.97,
          23.27,
          30.75,
          29.9,
          31.05,
          27.27,
          23.42,
          23.51,
          35.88,
          25.88,
          26.41,
          28.08,
          32.92,
          30.99,
          29.88,
          26.05,
          34.17,
          36.13,
          29.3,
          40.6,
          25.92,
          33.09,
          28.83,
          23.01,
          30.49,
          24.02,
          21.22,
          62.11,
          25.8,
          22.6,
          26.4,
          29.8,
          24.1,
          32.03,
          23.6,
          27.66,
          32.96,
          42.9,
          29,
          21.7,
          29.86,
          18.29,
          25.97,
          31.09,
          36.42,
          26.93,
          34.16,
          38.87,
          28.06,
          25.62,
          33.5,
          34,
          27.07,
          20.91,
          43.77,
          29.5,
          32.17,
          29.9,
          33.1,
          29.46,
          23.55,
          26.82,
          20.91,
          24.1,
          22.3,
          31.57,
          42.4,
          27.8,
          27,
          31.9,
          32.34,
          35.18,
          21.6,
          37.9,
          22.6,
          29.76,
          30.34,
          22.4,
          20.33,
          28.67,
          26.4,
          19.4,
          27.81,
          44.4,
          31.52,
          21.86,
          45.7,
          22.1,
          38.6,
          27.6,
          23.7,
          29.96,
          36.2,
          27.56,
          39.9,
          26,
          22.56,
          23.01,
          36.27,
          24.17,
          22.27,
          24.69,
          37.55,
          21.12,
          30.26,
          33.12,
          31.35,
          28.4,
          22.19,
          26.16,
          33,
          26.5,
          26.8,
          21.5,
          33.4,
          36.5,
          24.1,
          26.61,
          23.95,
          27.85,
          42.3,
          28.14,
          23.38,
          31.67,
          34.28,
          22.64,
          41.8,
          32.7,
          31.3,
          21.7,
          34.5,
          24,
          22.6,
          22.4,
          21.1,
          33.3,
          22.4,
          27,
          35.8,
          26.4,
          28.8,
          26.9,
          24.2,
          25.1,
          39.4,
          36.9,
          36.6,
          25.2,
          28.55,
          22.25,
          25.36,
          28.55,
          22.84,
          35.36,
          27.55,
          22.06,
          25.39,
          37.92,
          28.55,
          26.2,
          32.89,
          34.71,
          28.25,
          35.88,
          24.09,
          26.65,
          23.34,
          22.19,
          22.23,
          27.32,
          20.93,
          22.96,
          56.02,
          41.97,
          22.23,
          28.08,
          22.47,
          22.56,
          27.33,
          29,
          34.63,
          26.28,
          21.92,
          26.02,
          28.24,
          31.01,
          25.37,
          30.49,
          31.09,
          33.46,
          28.29,
          22.5,
          26.75,
          33.69,
          21.83,
          37.74,
          29.63,
          24.89,
          29.97,
          28.27,
          20.85,
          30.15,
          26.92,
          20.5,
          31.83,
          36.75,
          26.64,
          44.79,
          31.6,
          33.96,
          28.47,
          27.04,
          27.64,
          31,
          32.71,
          32.88,
          25.62,
          39.55,
          21.57,
          38.3,
          30.04,
          22.11,
          25.03,
          24.62,
          28.53,
          26.71,
          32.79,
          32.84,
          25.76,
          31.63,
          28.39,
          31.77,
          33.15,
          25.55,
          38.84,
          22.26,
          40.89,
          21.08,
          18.98,
          25.86,
          25.38,
          22.89,
          27.02,
          30.64,
          24.39,
          27.58,
          27.33,
          29.06,
          35.33,
          28.21,
          27.82,
          41.01,
          27.82,
          29.9,
          26.47,
          35.97,
          31.97,
          32.91,
          27.43,
          32.24,
          29.82,
          28.08,
          39.3,
          27.18,
          38.71,
          21.76,
          17.69,
          24.21,
          25.89,
          39.56,
          20.85,
          37,
          29.31,
          27.78,
          22.23,
          29.4,
          30.12,
          35.15,
          24.82,
          30.25,
          25.71,
          35.79,
          44.06,
          31.03,
          28.49,
          29.64
         ]
        }
       ],
       "layout": {
        "paper_bgcolor": "white",
        "plot_bgcolor": "#F6F8FC",
        "template": {
         "data": {
          "bar": [
           {
            "error_x": {
             "color": "#2a3f5f"
            },
            "error_y": {
             "color": "#2a3f5f"
            },
            "marker": {
             "line": {
              "color": "#E5ECF6",
              "width": 0.5
             },
             "pattern": {
              "fillmode": "overlay",
              "size": 10,
              "solidity": 0.2
             }
            },
            "type": "bar"
           }
          ],
          "barpolar": [
           {
            "marker": {
             "line": {
              "color": "#E5ECF6",
              "width": 0.5
             },
             "pattern": {
              "fillmode": "overlay",
              "size": 10,
              "solidity": 0.2
             }
            },
            "type": "barpolar"
           }
          ],
          "carpet": [
           {
            "aaxis": {
             "endlinecolor": "#2a3f5f",
             "gridcolor": "white",
             "linecolor": "white",
             "minorgridcolor": "white",
             "startlinecolor": "#2a3f5f"
            },
            "baxis": {
             "endlinecolor": "#2a3f5f",
             "gridcolor": "white",
             "linecolor": "white",
             "minorgridcolor": "white",
             "startlinecolor": "#2a3f5f"
            },
            "type": "carpet"
           }
          ],
          "choropleth": [
           {
            "colorbar": {
             "outlinewidth": 0,
             "ticks": ""
            },
            "type": "choropleth"
           }
          ],
          "contour": [
           {
            "colorbar": {
             "outlinewidth": 0,
             "ticks": ""
            },
            "colorscale": [
             [
              0,
              "#0d0887"
             ],
             [
              0.1111111111111111,
              "#46039f"
             ],
             [
              0.2222222222222222,
              "#7201a8"
             ],
             [
              0.3333333333333333,
              "#9c179e"
             ],
             [
              0.4444444444444444,
              "#bd3786"
             ],
             [
              0.5555555555555556,
              "#d8576b"
             ],
             [
              0.6666666666666666,
              "#ed7953"
             ],
             [
              0.7777777777777778,
              "#fb9f3a"
             ],
             [
              0.8888888888888888,
              "#fdca26"
             ],
             [
              1,
              "#f0f921"
             ]
            ],
            "type": "contour"
           }
          ],
          "contourcarpet": [
           {
            "colorbar": {
             "outlinewidth": 0,
             "ticks": ""
            },
            "type": "contourcarpet"
           }
          ],
          "heatmap": [
           {
            "colorbar": {
             "outlinewidth": 0,
             "ticks": ""
            },
            "colorscale": [
             [
              0,
              "#0d0887"
             ],
             [
              0.1111111111111111,
              "#46039f"
             ],
             [
              0.2222222222222222,
              "#7201a8"
             ],
             [
              0.3333333333333333,
              "#9c179e"
             ],
             [
              0.4444444444444444,
              "#bd3786"
             ],
             [
              0.5555555555555556,
              "#d8576b"
             ],
             [
              0.6666666666666666,
              "#ed7953"
             ],
             [
              0.7777777777777778,
              "#fb9f3a"
             ],
             [
              0.8888888888888888,
              "#fdca26"
             ],
             [
              1,
              "#f0f921"
             ]
            ],
            "type": "heatmap"
           }
          ],
          "heatmapgl": [
           {
            "colorbar": {
             "outlinewidth": 0,
             "ticks": ""
            },
            "colorscale": [
             [
              0,
              "#0d0887"
             ],
             [
              0.1111111111111111,
              "#46039f"
             ],
             [
              0.2222222222222222,
              "#7201a8"
             ],
             [
              0.3333333333333333,
              "#9c179e"
             ],
             [
              0.4444444444444444,
              "#bd3786"
             ],
             [
              0.5555555555555556,
              "#d8576b"
             ],
             [
              0.6666666666666666,
              "#ed7953"
             ],
             [
              0.7777777777777778,
              "#fb9f3a"
             ],
             [
              0.8888888888888888,
              "#fdca26"
             ],
             [
              1,
              "#f0f921"
             ]
            ],
            "type": "heatmapgl"
           }
          ],
          "histogram": [
           {
            "marker": {
             "pattern": {
              "fillmode": "overlay",
              "size": 10,
              "solidity": 0.2
             }
            },
            "type": "histogram"
           }
          ],
          "histogram2d": [
           {
            "colorbar": {
             "outlinewidth": 0,
             "ticks": ""
            },
            "colorscale": [
             [
              0,
              "#0d0887"
             ],
             [
              0.1111111111111111,
              "#46039f"
             ],
             [
              0.2222222222222222,
              "#7201a8"
             ],
             [
              0.3333333333333333,
              "#9c179e"
             ],
             [
              0.4444444444444444,
              "#bd3786"
             ],
             [
              0.5555555555555556,
              "#d8576b"
             ],
             [
              0.6666666666666666,
              "#ed7953"
             ],
             [
              0.7777777777777778,
              "#fb9f3a"
             ],
             [
              0.8888888888888888,
              "#fdca26"
             ],
             [
              1,
              "#f0f921"
             ]
            ],
            "type": "histogram2d"
           }
          ],
          "histogram2dcontour": [
           {
            "colorbar": {
             "outlinewidth": 0,
             "ticks": ""
            },
            "colorscale": [
             [
              0,
              "#0d0887"
             ],
             [
              0.1111111111111111,
              "#46039f"
             ],
             [
              0.2222222222222222,
              "#7201a8"
             ],
             [
              0.3333333333333333,
              "#9c179e"
             ],
             [
              0.4444444444444444,
              "#bd3786"
             ],
             [
              0.5555555555555556,
              "#d8576b"
             ],
             [
              0.6666666666666666,
              "#ed7953"
             ],
             [
              0.7777777777777778,
              "#fb9f3a"
             ],
             [
              0.8888888888888888,
              "#fdca26"
             ],
             [
              1,
              "#f0f921"
             ]
            ],
            "type": "histogram2dcontour"
           }
          ],
          "mesh3d": [
           {
            "colorbar": {
             "outlinewidth": 0,
             "ticks": ""
            },
            "type": "mesh3d"
           }
          ],
          "parcoords": [
           {
            "line": {
             "colorbar": {
              "outlinewidth": 0,
              "ticks": ""
             }
            },
            "type": "parcoords"
           }
          ],
          "pie": [
           {
            "automargin": true,
            "type": "pie"
           }
          ],
          "scatter": [
           {
            "fillpattern": {
             "fillmode": "overlay",
             "size": 10,
             "solidity": 0.2
            },
            "type": "scatter"
           }
          ],
          "scatter3d": [
           {
            "line": {
             "colorbar": {
              "outlinewidth": 0,
              "ticks": ""
             }
            },
            "marker": {
             "colorbar": {
              "outlinewidth": 0,
              "ticks": ""
             }
            },
            "type": "scatter3d"
           }
          ],
          "scattercarpet": [
           {
            "marker": {
             "colorbar": {
              "outlinewidth": 0,
              "ticks": ""
             }
            },
            "type": "scattercarpet"
           }
          ],
          "scattergeo": [
           {
            "marker": {
             "colorbar": {
              "outlinewidth": 0,
              "ticks": ""
             }
            },
            "type": "scattergeo"
           }
          ],
          "scattergl": [
           {
            "marker": {
             "colorbar": {
              "outlinewidth": 0,
              "ticks": ""
             }
            },
            "type": "scattergl"
           }
          ],
          "scattermapbox": [
           {
            "marker": {
             "colorbar": {
              "outlinewidth": 0,
              "ticks": ""
             }
            },
            "type": "scattermapbox"
           }
          ],
          "scatterpolar": [
           {
            "marker": {
             "colorbar": {
              "outlinewidth": 0,
              "ticks": ""
             }
            },
            "type": "scatterpolar"
           }
          ],
          "scatterpolargl": [
           {
            "marker": {
             "colorbar": {
              "outlinewidth": 0,
              "ticks": ""
             }
            },
            "type": "scatterpolargl"
           }
          ],
          "scatterternary": [
           {
            "marker": {
             "colorbar": {
              "outlinewidth": 0,
              "ticks": ""
             }
            },
            "type": "scatterternary"
           }
          ],
          "surface": [
           {
            "colorbar": {
             "outlinewidth": 0,
             "ticks": ""
            },
            "colorscale": [
             [
              0,
              "#0d0887"
             ],
             [
              0.1111111111111111,
              "#46039f"
             ],
             [
              0.2222222222222222,
              "#7201a8"
             ],
             [
              0.3333333333333333,
              "#9c179e"
             ],
             [
              0.4444444444444444,
              "#bd3786"
             ],
             [
              0.5555555555555556,
              "#d8576b"
             ],
             [
              0.6666666666666666,
              "#ed7953"
             ],
             [
              0.7777777777777778,
              "#fb9f3a"
             ],
             [
              0.8888888888888888,
              "#fdca26"
             ],
             [
              1,
              "#f0f921"
             ]
            ],
            "type": "surface"
           }
          ],
          "table": [
           {
            "cells": {
             "fill": {
              "color": "#EBF0F8"
             },
             "line": {
              "color": "white"
             }
            },
            "header": {
             "fill": {
              "color": "#C8D4E3"
             },
             "line": {
              "color": "white"
             }
            },
            "type": "table"
           }
          ]
         },
         "layout": {
          "annotationdefaults": {
           "arrowcolor": "#2a3f5f",
           "arrowhead": 0,
           "arrowwidth": 1
          },
          "autotypenumbers": "strict",
          "coloraxis": {
           "colorbar": {
            "outlinewidth": 0,
            "ticks": ""
           }
          },
          "colorscale": {
           "diverging": [
            [
             0,
             "#8e0152"
            ],
            [
             0.1,
             "#c51b7d"
            ],
            [
             0.2,
             "#de77ae"
            ],
            [
             0.3,
             "#f1b6da"
            ],
            [
             0.4,
             "#fde0ef"
            ],
            [
             0.5,
             "#f7f7f7"
            ],
            [
             0.6,
             "#e6f5d0"
            ],
            [
             0.7,
             "#b8e186"
            ],
            [
             0.8,
             "#7fbc41"
            ],
            [
             0.9,
             "#4d9221"
            ],
            [
             1,
             "#276419"
            ]
           ],
           "sequential": [
            [
             0,
             "#0d0887"
            ],
            [
             0.1111111111111111,
             "#46039f"
            ],
            [
             0.2222222222222222,
             "#7201a8"
            ],
            [
             0.3333333333333333,
             "#9c179e"
            ],
            [
             0.4444444444444444,
             "#bd3786"
            ],
            [
             0.5555555555555556,
             "#d8576b"
            ],
            [
             0.6666666666666666,
             "#ed7953"
            ],
            [
             0.7777777777777778,
             "#fb9f3a"
            ],
            [
             0.8888888888888888,
             "#fdca26"
            ],
            [
             1,
             "#f0f921"
            ]
           ],
           "sequentialminus": [
            [
             0,
             "#0d0887"
            ],
            [
             0.1111111111111111,
             "#46039f"
            ],
            [
             0.2222222222222222,
             "#7201a8"
            ],
            [
             0.3333333333333333,
             "#9c179e"
            ],
            [
             0.4444444444444444,
             "#bd3786"
            ],
            [
             0.5555555555555556,
             "#d8576b"
            ],
            [
             0.6666666666666666,
             "#ed7953"
            ],
            [
             0.7777777777777778,
             "#fb9f3a"
            ],
            [
             0.8888888888888888,
             "#fdca26"
            ],
            [
             1,
             "#f0f921"
            ]
           ]
          },
          "colorway": [
           "#636efa",
           "#EF553B",
           "#00cc96",
           "#ab63fa",
           "#FFA15A",
           "#19d3f3",
           "#FF6692",
           "#B6E880",
           "#FF97FF",
           "#FECB52"
          ],
          "font": {
           "color": "#2a3f5f"
          },
          "geo": {
           "bgcolor": "white",
           "lakecolor": "white",
           "landcolor": "#E5ECF6",
           "showlakes": true,
           "showland": true,
           "subunitcolor": "white"
          },
          "hoverlabel": {
           "align": "left"
          },
          "hovermode": "closest",
          "mapbox": {
           "style": "light"
          },
          "paper_bgcolor": "white",
          "plot_bgcolor": "#E5ECF6",
          "polar": {
           "angularaxis": {
            "gridcolor": "white",
            "linecolor": "white",
            "ticks": ""
           },
           "bgcolor": "#E5ECF6",
           "radialaxis": {
            "gridcolor": "white",
            "linecolor": "white",
            "ticks": ""
           }
          },
          "scene": {
           "xaxis": {
            "backgroundcolor": "#E5ECF6",
            "gridcolor": "white",
            "gridwidth": 2,
            "linecolor": "white",
            "showbackground": true,
            "ticks": "",
            "zerolinecolor": "white"
           },
           "yaxis": {
            "backgroundcolor": "#E5ECF6",
            "gridcolor": "white",
            "gridwidth": 2,
            "linecolor": "white",
            "showbackground": true,
            "ticks": "",
            "zerolinecolor": "white"
           },
           "zaxis": {
            "backgroundcolor": "#E5ECF6",
            "gridcolor": "white",
            "gridwidth": 2,
            "linecolor": "white",
            "showbackground": true,
            "ticks": "",
            "zerolinecolor": "white"
           }
          },
          "shapedefaults": {
           "line": {
            "color": "#2a3f5f"
           }
          },
          "ternary": {
           "aaxis": {
            "gridcolor": "white",
            "linecolor": "white",
            "ticks": ""
           },
           "baxis": {
            "gridcolor": "white",
            "linecolor": "white",
            "ticks": ""
           },
           "bgcolor": "#E5ECF6",
           "caxis": {
            "gridcolor": "white",
            "linecolor": "white",
            "ticks": ""
           }
          },
          "title": {
           "x": 0.05
          },
          "xaxis": {
           "automargin": true,
           "gridcolor": "white",
           "linecolor": "white",
           "ticks": "",
           "title": {
            "standoff": 15
           },
           "zerolinecolor": "white",
           "zerolinewidth": 2
          },
          "yaxis": {
           "automargin": true,
           "gridcolor": "white",
           "linecolor": "white",
           "ticks": "",
           "title": {
            "standoff": 15
           },
           "zerolinecolor": "white",
           "zerolinewidth": 2
          }
         }
        },
        "title": {
         "text": "MAP vs BMI<br><sup><i>(n=382)</i></sup>",
         "x": 0,
         "xref": "paper"
        },
        "xaxis": {
         "title": {
          "text": "MAP<br><sup><i>mmHg</i></sup>"
         }
        },
        "yaxis": {
         "gridcolor": "lightgrey",
         "title": {
          "text": "BMI<br><sup><i>kg/m<sup>2</sup></i></sup>"
         }
        }
       }
      }
     },
     "metadata": {},
     "output_type": "display_data"
    },
    {
     "data": {
      "application/vnd.plotly.v1+json": {
       "config": {
        "plotlyServerURL": "https://plot.ly"
       },
       "data": [
        {
         "marker": {
          "color": [
           "#32471E",
           "#32471E",
           "#32471E",
           "#32471E",
           "#32471E",
           "#32471E",
           "#32471E",
           "#32471E",
           "#32471E",
           "#32471E",
           "#32471E",
           "#32471E",
           "#32471E",
           "#32471E",
           "#32471E",
           "#32471E",
           "#32471E",
           "#32471E",
           "#32471E",
           "#32471E",
           "#32471E",
           "#32471E",
           "#32471E",
           "#32471E",
           "#32471E",
           "#32471E",
           "#32471E",
           "#32471E",
           "#32471E",
           "#32471E",
           "#32471E",
           "#32471E",
           "#32471E",
           "#32471E",
           "#32471E",
           "#32471E",
           "#32471E",
           "#32471E",
           "#32471E",
           "#32471E",
           "#32471E",
           "#32471E",
           "#32471E",
           "#32471E",
           "#32471E",
           "#32471E",
           "#32471E",
           "#32471E",
           "#32471E",
           "#32471E",
           "#32471E",
           "#32471E",
           "#32471E",
           "#32471E",
           "#32471E",
           "#32471E",
           "#32471E",
           "#32471E",
           "#32471E",
           "#32471E",
           "#32471E",
           "#32471E",
           "#32471E",
           "#32471E",
           "#32471E",
           "#32471E",
           "#32471E",
           "#32471E",
           "#32471E",
           "#32471E",
           "#32471E",
           "#32471E",
           "#32471E",
           "#32471E",
           "#32471E",
           "#32471E",
           "#32471E",
           "#32471E",
           "#32471E",
           "#32471E",
           "#32471E",
           "#32471E",
           "#32471E",
           "#32471E",
           "#32471E",
           "#32471E",
           "#32471E",
           "#32471E",
           "#32471E",
           "#32471E",
           "#32471E",
           "#32471E",
           "#32471E",
           "#32471E",
           "#32471E",
           "#32471E",
           "#32471E",
           "#32471E",
           "#32471E",
           "#32471E",
           "#32471E",
           "#32471E",
           "#32471E",
           "#32471E",
           "#32471E",
           "#32471E",
           "#32471E",
           "#32471E",
           "#32471E",
           "#32471E",
           "#32471E",
           "#32471E",
           "#32471E",
           "#32471E",
           "#32471E",
           "#32471E",
           "#32471E",
           "#32471E",
           "#32471E",
           "#32471E",
           "#32471E",
           "#32471E",
           "#32471E",
           "#32471E",
           "#32471E",
           "#32471E",
           "#32471E",
           "#32471E",
           "#32471E",
           "#32471E",
           "#32471E",
           "#32471E",
           "#32471E",
           "#32471E",
           "#32471E",
           "#32471E",
           "#32471E",
           "#32471E",
           "#32471E",
           "#32471E",
           "#32471E",
           "#32471E",
           "#32471E",
           "#32471E",
           "#32471E",
           "#32471E",
           "#32471E",
           "#32471E",
           "#32471E",
           "#32471E",
           "#32471E",
           "#32471E",
           "#32471E",
           "#32471E",
           "#32471E",
           "#32471E",
           "#32471E",
           "#32471E",
           "#32471E",
           "#32471E",
           "#32471E",
           "#32471E",
           "#32471E",
           "#32471E",
           "#32471E",
           "#32471E",
           "#32471E",
           "#32471E",
           "#32471E",
           "#32471E",
           "#32471E",
           "#32471E",
           "#32471E",
           "#32471E",
           "#32471E",
           "#32471E",
           "#32471E",
           "#32471E",
           "#32471E",
           "#32471E",
           "#32471E",
           "#32471E",
           "#32471E",
           "#32471E",
           "#32471E",
           "#32471E",
           "#32471E",
           "#32471E",
           "#32471E",
           "#32471E",
           "#32471E",
           "#32471E",
           "#32471E",
           "#32471E",
           "#32471E",
           "#32471E",
           "#32471E",
           "#32471E",
           "#32471E",
           "#32471E",
           "#32471E",
           "#32471E",
           "#32471E",
           "#32471E",
           "#32471E",
           "#32471E",
           "#32471E",
           "#32471E",
           "#32471E",
           "#32471E",
           "#32471E",
           "#32471E",
           "#32471E",
           "#32471E",
           "#32471E",
           "#32471E",
           "#32471E",
           "#32471E",
           "#32471E",
           "#32471E",
           "#32471E",
           "#32471E",
           "#32471E",
           "#32471E",
           "#32471E",
           "#32471E",
           "#32471E",
           "#32471E",
           "#32471E",
           "#32471E",
           "#32471E",
           "#32471E",
           "#32471E",
           "#32471E",
           "#32471E",
           "#32471E",
           "#32471E",
           "#32471E",
           "#32471E",
           "#32471E",
           "#32471E",
           "#32471E",
           "#32471E",
           "#32471E",
           "#32471E",
           "#32471E",
           "#32471E",
           "#32471E",
           "#32471E",
           "#32471E",
           "#32471E",
           "#32471E",
           "#32471E",
           "#32471E",
           "#32471E",
           "#32471E",
           "#32471E",
           "#32471E",
           "#32471E",
           "#32471E",
           "#32471E",
           "#32471E",
           "#32471E",
           "#32471E",
           "#32471E",
           "#32471E",
           "#32471E",
           "#32471E",
           "#32471E",
           "#32471E",
           "#32471E",
           "#32471E",
           "#32471E",
           "#32471E",
           "#32471E",
           "#32471E",
           "#32471E",
           "#32471E",
           "#32471E",
           "#32471E",
           "#32471E",
           "#32471E",
           "#32471E",
           "#32471E",
           "#32471E",
           "#32471E",
           "#32471E",
           "#32471E",
           "#32471E",
           "#32471E",
           "#32471E",
           "#32471E",
           "#32471E",
           "#32471E",
           "#32471E",
           "#32471E",
           "#32471E",
           "#32471E",
           "#32471E",
           "#32471E",
           "#32471E",
           "#32471E",
           "#32471E",
           "#32471E",
           "#32471E",
           "#32471E",
           "#32471E",
           "#32471E",
           "#32471E",
           "#32471E",
           "#32471E",
           "#32471E",
           "#32471E",
           "#32471E",
           "#32471E",
           "#32471E",
           "#32471E",
           "#32471E",
           "#32471E",
           "#32471E",
           "#32471E",
           "#32471E",
           "#32471E",
           "#32471E",
           "#32471E",
           "#32471E",
           "#32471E",
           "#32471E",
           "#32471E",
           "#32471E",
           "#32471E",
           "#32471E",
           "#32471E",
           "#32471E",
           "#32471E",
           "#32471E",
           "#32471E",
           "#32471E",
           "#32471E",
           "#32471E",
           "#32471E",
           "#32471E",
           "#32471E",
           "#32471E",
           "#32471E",
           "#32471E",
           "#32471E",
           "#32471E",
           "#32471E",
           "#32471E",
           "#32471E",
           "#32471E",
           "#32471E",
           "#32471E",
           "#32471E",
           "#32471E",
           "#32471E",
           "#32471E",
           "#32471E",
           "#32471E",
           "#32471E",
           "#32471E",
           "#32471E",
           "#32471E",
           "#32471E",
           "#32471E",
           "#32471E",
           "#32471E",
           "#32471E",
           "#32471E",
           "#32471E",
           "#32471E",
           "#32471E",
           "#32471E",
           "#32471E",
           "#32471E",
           "#32471E",
           "#32471E",
           "#32471E",
           "#32471E",
           "#32471E",
           "#32471E"
          ],
          "line": {
           "width": 0.3
          },
          "size": 10
         },
         "mode": "markers",
         "name": "All",
         "type": "scatter",
         "x": [
          81.41666666666667,
          83.25,
          93.33333333333333,
          89.33333333333333,
          105.33333333333333,
          91.5,
          110.16666666666667,
          91.83333333333333,
          75,
          89.66666666666667,
          81.16666666666667,
          92.16666666666667,
          93.08333333333333,
          89,
          101.33333333333333,
          79.75,
          95.83333333333333,
          80.41666666666667,
          76.75,
          81.66666666666667,
          100.66666666666667,
          85.83333333333333,
          89,
          90,
          88.25,
          140.58333333333334,
          87,
          86.33333333333333,
          81.16666666666667,
          93.33333333333333,
          86.25,
          92.25,
          90.5,
          87.58333333333333,
          83.33333333333333,
          88.41666666666667,
          102,
          87.16666666666667,
          87.83333333333333,
          97.16666666666667,
          90.91666666666667,
          80.58333333333333,
          98.5,
          90.58333333333333,
          96.5,
          81.5,
          91.5,
          96.83333333333333,
          85.83333333333333,
          79.41666666666667,
          85.83333333333333,
          89,
          94,
          87.91666666666667,
          89.91666666666667,
          96.91666666666667,
          101.66666666666667,
          95.91666666666667,
          112.25,
          72.25,
          84.5,
          92.83333333333333,
          78.66666666666667,
          81.16666666666667,
          83.16666666666667,
          90.08333333333333,
          130.66666666666666,
          93.83333333333333,
          82.08333333333333,
          89.83333333333333,
          92.41666666666667,
          78.41666666666667,
          90.33333333333333,
          106.66666666666667,
          103.25,
          89.41666666666667,
          85.83333333333333,
          91,
          75.66666666666667,
          88,
          114.58333333333333,
          91.41666666666667,
          86.66666666666667,
          101.5,
          87.41666666666667,
          81.66666666666667,
          82.16666666666667,
          82.25,
          103.58333333333333,
          90.33333333333333,
          86.91666666666667,
          81.33333333333333,
          81.08333333333333,
          96.75,
          92.16666666666667,
          121.08333333333333,
          91.75,
          83,
          101.91666666666667,
          88.83333333333333,
          80.83333333333333,
          116.25,
          95.08333333333333,
          94.41666666666667,
          95.5,
          83,
          80.75,
          77.91666666666667,
          88.16666666666667,
          93.91666666666667,
          77.08333333333333,
          82.91666666666667,
          88.66666666666667,
          93.75,
          84,
          95.08333333333333,
          86,
          103.41666666666667,
          77.33333333333333,
          96.5,
          84.83333333333333,
          82.08333333333333,
          73.16666666666667,
          88.66666666666667,
          87.25,
          83.75,
          84.83333333333333,
          105.41666666666667,
          81.16666666666667,
          89.75,
          82.91666666666667,
          80.83333333333333,
          92.33333333333333,
          83.25,
          88,
          80,
          89.83333333333333,
          90.66666666666667,
          91.16666666666667,
          92.5,
          90,
          98.66666666666667,
          97.25,
          94.16666666666667,
          93.25,
          78.16666666666667,
          78.16666666666667,
          105.83333333333333,
          95.41666666666667,
          83.33333333333333,
          93.16666666666667,
          91.41666666666667,
          87.33333333333333,
          85.66666666666667,
          84.66666666666667,
          93,
          94.75,
          84.33333333333333,
          74.75,
          89.08333333333333,
          89.5,
          95.41666666666667,
          95.58333333333333,
          82.83333333333333,
          80.91666666666667,
          89.25,
          87.5,
          86.91666666666667,
          81.58333333333333,
          84.83333333333333,
          86.33333333333333,
          91.08333333333333,
          78.16666666666667,
          99.58333333333333,
          70.5,
          81.33333333333333,
          77.75,
          79.08333333333333,
          76,
          84.08333333333333,
          85.33333333333333,
          89.5,
          111.66666666666667,
          86.33333333333333,
          106.33333333333333,
          74,
          93.16666666666667,
          93.66666666666667,
          86.75,
          88.83333333333333,
          84.58333333333333,
          94.33333333333333,
          78.83333333333333,
          78.66666666666667,
          87.91666666666667,
          81.33333333333333,
          79.83333333333333,
          73.66666666666667,
          79.83333333333333,
          88.16666666666667,
          89.58333333333333,
          94.58333333333333,
          106.33333333333333,
          97.58333333333333,
          80.83333333333333,
          86.83333333333333,
          101.16666666666667,
          93.16666666666667,
          87.75,
          80.41666666666667,
          82.25,
          98.83333333333333,
          84.75,
          85.33333333333333,
          95.75,
          91.08333333333333,
          83.91666666666667,
          82.66666666666667,
          90.41666666666667,
          94.66666666666667,
          101.5,
          89.66666666666667,
          88.08333333333333,
          100.5,
          89.58333333333333,
          73.41666666666667,
          95.58333333333333,
          85.66666666666667,
          85.5,
          93.16666666666667,
          82.75,
          88.66666666666667,
          90.25,
          82,
          91.41666666666667,
          86.5,
          77.58333333333333,
          83.66666666666667,
          72.25,
          86.83333333333333,
          85,
          91.41666666666667,
          88.41666666666667,
          88.16666666666667,
          86.08333333333333,
          93.83333333333333,
          78.5,
          96.5,
          81.91666666666667,
          96.66666666666667,
          89,
          85.16666666666667,
          85.58333333333333,
          88.5,
          74.41666666666667,
          82.66666666666667,
          83.16666666666667,
          81.83333333333333,
          90.75,
          86.75,
          87.5,
          92.41666666666667,
          78.66666666666667,
          80.41666666666667,
          82.91666666666667,
          94.16666666666667,
          92.58333333333333,
          96.83333333333333,
          94.41666666666667,
          82.83333333333333,
          75.91666666666667,
          84.5,
          81.08333333333333,
          82.83333333333333,
          77.58333333333333,
          78.16666666666667,
          94.08333333333333,
          90.25,
          78.5,
          87.83333333333333,
          94.25,
          93.58333333333333,
          89.33333333333333,
          80.58333333333333,
          86.25,
          99.16666666666667,
          95.75,
          81,
          85.91666666666667,
          94.16666666666667,
          84,
          96,
          85.83333333333333,
          75.41666666666667,
          87,
          85.58333333333333,
          81.5,
          84.16666666666667,
          86.66666666666667,
          85.58333333333333,
          81.33333333333333,
          85.58333333333333,
          94.83333333333333,
          85.5,
          84.83333333333333,
          91.83333333333333,
          88.91666666666667,
          81.33333333333333,
          91.25,
          84.83333333333333,
          95.58333333333333,
          94.25,
          84.16666666666667,
          93.83333333333333,
          88.91666666666667,
          103,
          92.5,
          90.58333333333333,
          85.66666666666667,
          95.16666666666667,
          85.91666666666667,
          77.75,
          93.41666666666667,
          86.41666666666667,
          77.5,
          89.91666666666667,
          93.75,
          89.33333333333333,
          99,
          83,
          85.41666666666667,
          96.33333333333333,
          75.58333333333333,
          76,
          84.33333333333333,
          81.75,
          97.83333333333333,
          89,
          82.91666666666667,
          73.5,
          84.91666666666667,
          94.41666666666667,
          99.33333333333333,
          88.75,
          78.41666666666667,
          101.16666666666667,
          79.41666666666667,
          72.75,
          84.33333333333333,
          78.5,
          83.91666666666667,
          89.83333333333333,
          96,
          102.16666666666667,
          93.83333333333333,
          75.66666666666667,
          77.66666666666667,
          97.41666666666667,
          79.5,
          74.75,
          106.83333333333333,
          80.83333333333333,
          72.25,
          101.83333333333333,
          98.16666666666667,
          79.08333333333333,
          97,
          105.33333333333333,
          87.25,
          90.08333333333333,
          91.16666666666667,
          88.5,
          80.75,
          96.16666666666667,
          98.08333333333333,
          93.33333333333333,
          89.75,
          91.91666666666667,
          84.33333333333333,
          75,
          90.33333333333333,
          90.66666666666667
         ],
         "y": [
          98.64094301736165,
          97.02633636617229,
          131.25307410617972,
          127.46239763318408,
          112.59956336395705,
          111.81136642040936,
          122.02426558307246,
          110.87329487427813,
          97.3210256232535,
          100.93882792039533,
          94.93419156216439,
          86.99403329709253,
          96.51939099767704,
          120.62462380552228,
          114.99764877812075,
          134.5833305282209,
          104.8209037109621,
          83.71821023495698,
          112.44197283733173,
          120.72158371864322,
          109.91879509173201,
          116.27275720662647,
          154.09627680573644,
          92.30381482896922,
          87.10887728005106,
          80.10800280260891,
          130.22114989157984,
          97.6156576950087,
          125.03703932378372,
          111.65487902747041,
          90.00649824445149,
          86.25512215624723,
          98.72801662307242,
          103.65800179958484,
          102.6382841720783,
          111.74462892287721,
          115.16970724706022,
          113.23461514333509,
          100.78591123182991,
          125.03703932378372,
          136.26189055889736,
          115.45884790618007,
          105.28409454967425,
          104.3038694544322,
          111.5667855180877,
          91.7399551566162,
          103.57374236825119,
          109.49732097651443,
          94.26965222122924,
          114.68719797673734,
          87.15080071622504,
          138.0467397686443,
          96.34628320101412,
          118.5142846390119,
          96.26124721146479,
          102.63503745230742,
          96.58394959877714,
          114.04514440269091,
          90.08415529082254,
          117.56849918800462,
          106.94962208290283,
          53.22623852145265,
          116.74551969368859,
          120.64482139741061,
          133.202721970854,
          133.4816906993428,
          106.04766556000983,
          113.56297466125648,
          114.68719797673734,
          74.01240684949508,
          119.34973276839064,
          113.74204520552081,
          129.78326416043672,
          111.97865760175729,
          109.33829326507201,
          121.57259186167494,
          90.2661956593518,
          94.91830655161765,
          118.12133034837373,
          83.16562608915285,
          85.77254967419255,
          114.8367019725542,
          112.3532583263723,
          79.56372797178727,
          84.14292870104227,
          97.26480322132643,
          114.19266523667389,
          92.36989634942846,
          110.41644334955518,
          96.35019982267895,
          104.08715738498536,
          127.54225572839307,
          120.32293525255506,
          114.73724659577269,
          71.50093897853273,
          93.96214438458037,
          87.9536798657601,
          108.11389138354683,
          103.08856921358547,
          109.91879509173201,
          105.28409454967425,
          124.08048200146126,
          107.357094143862,
          120.12759209588316,
          115.35256607381156,
          119.79255630133365,
          116.62467968439778,
          88.95822141118063,
          128.77768678096024,
          106.04766556000983,
          90.44367521797939,
          105.60562881556196,
          108.38531798140725,
          96.93234809114362,
          101.45190854391176,
          122.33126731584565,
          92.6512785082711,
          110.5917552589763,
          135.945000743454,
          96.58394959877714,
          99.53063033207788,
          111.97865760175729,
          91.09777547051989,
          75.15676098497809,
          117.46568311828285,
          104.8209037109621,
          97.95045641624012,
          122.62964846723871,
          105.7796006632857,
          81.14148032752874,
          87.47549275568174,
          102.21186901647883,
          111.89429264641988,
          115.16970724706022,
          95.90786195158572,
          98.64094301736165,
          108.5729252122165,
          96.63977844389072,
          120.53779965692873,
          103.35854728329046,
          124.01961986624525,
          78.31061479133724,
          138.18977612562597,
          102.63503745230742,
          102.36694922909037,
          111.47396842523244,
          131.02627699520448,
          113.84808151904096,
          117.28243277100233,
          109.81761297216349,
          110.87329487427813,
          101.45190854391176,
          107.5275486214137,
          127.43650996755292,
          94.81958584312463,
          68.52336794567277,
          85.33341517616495,
          109.47972564514588,
          121.77124092796805,
          137.2855110958635,
          103.35854728329046,
          114.8367019725542,
          118.8561768139149,
          104.54710588782653,
          116.62467968439778,
          109.56092258212172,
          109.64352824610829,
          116.79917250264462,
          85.77254967419255,
          91.44159409707842,
          114.54509811129488,
          139.44893603659125,
          76.1215343357795,
          88.85082925751712,
          103.49698260360863,
          93.69378376646617,
          127.01331199726437,
          90.64098514043454,
          102.21186901647883,
          107.41116585132062,
          91.499280034521,
          75.5817840090223,
          120.49695478060238,
          89.18189550501334,
          130.33430258743647,
          105.91267267652884,
          115.82691937309967,
          111.66692188897707,
          106.02627849916844,
          101.65038058448674,
          101.45190854391176,
          106.30881676225282,
          117.37670617997415,
          112.59956336395705,
          107.04667850193583,
          94.25387840575632,
          110.59599490982593,
          113.74764289246247,
          81.91043275424019,
          93.69378376646617,
          96.36377036800566,
          80.55612033044127,
          128.77768678096024,
          78.94476125255879,
          108.03243815117852,
          77.19853104235135,
          82.33400790068788,
          136.26189055889736,
          114.65063597083682,
          110.10905666170395,
          129.58937368125444,
          118.64329415651574,
          98.64094301736165,
          115.82691937309967,
          96.58394959877714,
          134.36090092371018,
          124.3646598366194,
          133.09573758619032,
          93.96214438458037,
          108.28554745358882,
          74.15661899951132,
          85.05177694704543,
          122.02531035735045,
          115.82691937309967,
          96.95604931444339,
          107.52637901277566,
          71.9551492139095,
          102.21186901647883,
          114.05193891200528,
          112.95140939221523,
          99.99905850284853,
          83.16562608915285,
          109.04770352464804,
          116.30983650583018,
          128.68224806548565,
          109.14936352608989,
          112.71623277149467,
          87.15080071622504,
          107.812914735731,
          115.64622555141409,
          113.74328242451581,
          123.96265027623099,
          80.54264115291843,
          72.9731983034408,
          105.7796006632857,
          103.57374236825119,
          107.52637901277566,
          122.35175067102205,
          115.92830105583276,
          68.99040957709394,
          84.58750690829243,
          115.16970724706022,
          63.3507725486348,
          132.37056988625275,
          93.69378376646617,
          81.91043275424019,
          135.1897276469512,
          118.12897355563666,
          102.36694922909037,
          87.76515681392249,
          107.54806866596877,
          88.55762223647825,
          98.68418805534502,
          126.39250834422835,
          103.67246878803488,
          131.02627699520448,
          97.62318831159993,
          118.29373929333622,
          93.51904491490936,
          96.38896063732815,
          112.25978693376881,
          119.78025143888364,
          112.76803383862769,
          96.6262928331504,
          115.35256607381156,
          126.24885934451679,
          111.89429264641988,
          98.41607452682715,
          120.98652979427877,
          116.55506923671433,
          101.81786678160273,
          111.11103259789495,
          109.64352824610829,
          115.2305655517577,
          130.32024651846748,
          101.91659219014127,
          118.41164350694234,
          103.57374236825119,
          98.64094301736165,
          118.39728014904796,
          145.0277830270367,
          107.54806866596877,
          114.54948931768625,
          94.81573144069634,
          107.36348255210912,
          112.82762304422293,
          119.03739690418443,
          144.64827704091908,
          83.16562608915285,
          115.65869891120107,
          92.57140847332182,
          90.12713076148701,
          119.7980404590383,
          108.5729252122165,
          107.83095771763693,
          108.46719559198267,
          90.71918961814958,
          113.05114494840767,
          124.83650581694965,
          87.47549275568174,
          126.72308189421847,
          114.4239515928954,
          116.64342333645487,
          112.94707944754421,
          85.18379346253013,
          102.14216220075969,
          136.26189055889736,
          77.74273015342533,
          139.6696635957015,
          113.56297466125648,
          92.79384699393336,
          110.05952148840167,
          87.32215484865715,
          76.65114412064948,
          116.17017949177604,
          138.06892632525341,
          66.37987751600356,
          96.66087875437613,
          115.181242654728,
          104.64457019557233,
          114.0328450587463,
          118.29373929333622,
          99.79444729751535,
          107.66094280800398,
          114.04514440269091,
          75.5817840090223,
          62.423851594771776,
          113.51080843050822,
          99.37984698423467,
          86.99799243917568,
          121.35255935020758,
          98.39910224154406,
          74.58548884161263,
          119.62431151808775,
          99.39371689368237,
          129.27236782610018,
          81.81410029836714,
          129.7236469856872,
          101.65038058448674,
          118.78694133746113,
          114.27735758119418,
          109.18417118013808,
          107.812914735731,
          99.96968657909053,
          72.46238591531672,
          84.73872327659926,
          74.52734254031242,
          114.32485295712216,
          115.808306926607,
          40.13895868318241,
          123.49410721776306,
          122.2080154584165,
          127.55380015077989,
          104.64457019557233,
          102.86219758384661,
          80.12460017299826,
          114.19266523667389,
          103.10936369522751,
          95.43578731736032,
          81.76681346517586,
          109.82182294545716,
          109.04888968135833,
          77.9045582620329,
          85.50119600209898,
          102.63503745230742,
          115.016130937488,
          91.3587005218022,
          90.00649824445149,
          94.17829296566903,
          118.06879620442352,
          126.61306436192706,
          107.05822433258089
         ]
        }
       ],
       "layout": {
        "paper_bgcolor": "white",
        "plot_bgcolor": "#F6F8FC",
        "template": {
         "data": {
          "bar": [
           {
            "error_x": {
             "color": "#2a3f5f"
            },
            "error_y": {
             "color": "#2a3f5f"
            },
            "marker": {
             "line": {
              "color": "#E5ECF6",
              "width": 0.5
             },
             "pattern": {
              "fillmode": "overlay",
              "size": 10,
              "solidity": 0.2
             }
            },
            "type": "bar"
           }
          ],
          "barpolar": [
           {
            "marker": {
             "line": {
              "color": "#E5ECF6",
              "width": 0.5
             },
             "pattern": {
              "fillmode": "overlay",
              "size": 10,
              "solidity": 0.2
             }
            },
            "type": "barpolar"
           }
          ],
          "carpet": [
           {
            "aaxis": {
             "endlinecolor": "#2a3f5f",
             "gridcolor": "white",
             "linecolor": "white",
             "minorgridcolor": "white",
             "startlinecolor": "#2a3f5f"
            },
            "baxis": {
             "endlinecolor": "#2a3f5f",
             "gridcolor": "white",
             "linecolor": "white",
             "minorgridcolor": "white",
             "startlinecolor": "#2a3f5f"
            },
            "type": "carpet"
           }
          ],
          "choropleth": [
           {
            "colorbar": {
             "outlinewidth": 0,
             "ticks": ""
            },
            "type": "choropleth"
           }
          ],
          "contour": [
           {
            "colorbar": {
             "outlinewidth": 0,
             "ticks": ""
            },
            "colorscale": [
             [
              0,
              "#0d0887"
             ],
             [
              0.1111111111111111,
              "#46039f"
             ],
             [
              0.2222222222222222,
              "#7201a8"
             ],
             [
              0.3333333333333333,
              "#9c179e"
             ],
             [
              0.4444444444444444,
              "#bd3786"
             ],
             [
              0.5555555555555556,
              "#d8576b"
             ],
             [
              0.6666666666666666,
              "#ed7953"
             ],
             [
              0.7777777777777778,
              "#fb9f3a"
             ],
             [
              0.8888888888888888,
              "#fdca26"
             ],
             [
              1,
              "#f0f921"
             ]
            ],
            "type": "contour"
           }
          ],
          "contourcarpet": [
           {
            "colorbar": {
             "outlinewidth": 0,
             "ticks": ""
            },
            "type": "contourcarpet"
           }
          ],
          "heatmap": [
           {
            "colorbar": {
             "outlinewidth": 0,
             "ticks": ""
            },
            "colorscale": [
             [
              0,
              "#0d0887"
             ],
             [
              0.1111111111111111,
              "#46039f"
             ],
             [
              0.2222222222222222,
              "#7201a8"
             ],
             [
              0.3333333333333333,
              "#9c179e"
             ],
             [
              0.4444444444444444,
              "#bd3786"
             ],
             [
              0.5555555555555556,
              "#d8576b"
             ],
             [
              0.6666666666666666,
              "#ed7953"
             ],
             [
              0.7777777777777778,
              "#fb9f3a"
             ],
             [
              0.8888888888888888,
              "#fdca26"
             ],
             [
              1,
              "#f0f921"
             ]
            ],
            "type": "heatmap"
           }
          ],
          "heatmapgl": [
           {
            "colorbar": {
             "outlinewidth": 0,
             "ticks": ""
            },
            "colorscale": [
             [
              0,
              "#0d0887"
             ],
             [
              0.1111111111111111,
              "#46039f"
             ],
             [
              0.2222222222222222,
              "#7201a8"
             ],
             [
              0.3333333333333333,
              "#9c179e"
             ],
             [
              0.4444444444444444,
              "#bd3786"
             ],
             [
              0.5555555555555556,
              "#d8576b"
             ],
             [
              0.6666666666666666,
              "#ed7953"
             ],
             [
              0.7777777777777778,
              "#fb9f3a"
             ],
             [
              0.8888888888888888,
              "#fdca26"
             ],
             [
              1,
              "#f0f921"
             ]
            ],
            "type": "heatmapgl"
           }
          ],
          "histogram": [
           {
            "marker": {
             "pattern": {
              "fillmode": "overlay",
              "size": 10,
              "solidity": 0.2
             }
            },
            "type": "histogram"
           }
          ],
          "histogram2d": [
           {
            "colorbar": {
             "outlinewidth": 0,
             "ticks": ""
            },
            "colorscale": [
             [
              0,
              "#0d0887"
             ],
             [
              0.1111111111111111,
              "#46039f"
             ],
             [
              0.2222222222222222,
              "#7201a8"
             ],
             [
              0.3333333333333333,
              "#9c179e"
             ],
             [
              0.4444444444444444,
              "#bd3786"
             ],
             [
              0.5555555555555556,
              "#d8576b"
             ],
             [
              0.6666666666666666,
              "#ed7953"
             ],
             [
              0.7777777777777778,
              "#fb9f3a"
             ],
             [
              0.8888888888888888,
              "#fdca26"
             ],
             [
              1,
              "#f0f921"
             ]
            ],
            "type": "histogram2d"
           }
          ],
          "histogram2dcontour": [
           {
            "colorbar": {
             "outlinewidth": 0,
             "ticks": ""
            },
            "colorscale": [
             [
              0,
              "#0d0887"
             ],
             [
              0.1111111111111111,
              "#46039f"
             ],
             [
              0.2222222222222222,
              "#7201a8"
             ],
             [
              0.3333333333333333,
              "#9c179e"
             ],
             [
              0.4444444444444444,
              "#bd3786"
             ],
             [
              0.5555555555555556,
              "#d8576b"
             ],
             [
              0.6666666666666666,
              "#ed7953"
             ],
             [
              0.7777777777777778,
              "#fb9f3a"
             ],
             [
              0.8888888888888888,
              "#fdca26"
             ],
             [
              1,
              "#f0f921"
             ]
            ],
            "type": "histogram2dcontour"
           }
          ],
          "mesh3d": [
           {
            "colorbar": {
             "outlinewidth": 0,
             "ticks": ""
            },
            "type": "mesh3d"
           }
          ],
          "parcoords": [
           {
            "line": {
             "colorbar": {
              "outlinewidth": 0,
              "ticks": ""
             }
            },
            "type": "parcoords"
           }
          ],
          "pie": [
           {
            "automargin": true,
            "type": "pie"
           }
          ],
          "scatter": [
           {
            "fillpattern": {
             "fillmode": "overlay",
             "size": 10,
             "solidity": 0.2
            },
            "type": "scatter"
           }
          ],
          "scatter3d": [
           {
            "line": {
             "colorbar": {
              "outlinewidth": 0,
              "ticks": ""
             }
            },
            "marker": {
             "colorbar": {
              "outlinewidth": 0,
              "ticks": ""
             }
            },
            "type": "scatter3d"
           }
          ],
          "scattercarpet": [
           {
            "marker": {
             "colorbar": {
              "outlinewidth": 0,
              "ticks": ""
             }
            },
            "type": "scattercarpet"
           }
          ],
          "scattergeo": [
           {
            "marker": {
             "colorbar": {
              "outlinewidth": 0,
              "ticks": ""
             }
            },
            "type": "scattergeo"
           }
          ],
          "scattergl": [
           {
            "marker": {
             "colorbar": {
              "outlinewidth": 0,
              "ticks": ""
             }
            },
            "type": "scattergl"
           }
          ],
          "scattermapbox": [
           {
            "marker": {
             "colorbar": {
              "outlinewidth": 0,
              "ticks": ""
             }
            },
            "type": "scattermapbox"
           }
          ],
          "scatterpolar": [
           {
            "marker": {
             "colorbar": {
              "outlinewidth": 0,
              "ticks": ""
             }
            },
            "type": "scatterpolar"
           }
          ],
          "scatterpolargl": [
           {
            "marker": {
             "colorbar": {
              "outlinewidth": 0,
              "ticks": ""
             }
            },
            "type": "scatterpolargl"
           }
          ],
          "scatterternary": [
           {
            "marker": {
             "colorbar": {
              "outlinewidth": 0,
              "ticks": ""
             }
            },
            "type": "scatterternary"
           }
          ],
          "surface": [
           {
            "colorbar": {
             "outlinewidth": 0,
             "ticks": ""
            },
            "colorscale": [
             [
              0,
              "#0d0887"
             ],
             [
              0.1111111111111111,
              "#46039f"
             ],
             [
              0.2222222222222222,
              "#7201a8"
             ],
             [
              0.3333333333333333,
              "#9c179e"
             ],
             [
              0.4444444444444444,
              "#bd3786"
             ],
             [
              0.5555555555555556,
              "#d8576b"
             ],
             [
              0.6666666666666666,
              "#ed7953"
             ],
             [
              0.7777777777777778,
              "#fb9f3a"
             ],
             [
              0.8888888888888888,
              "#fdca26"
             ],
             [
              1,
              "#f0f921"
             ]
            ],
            "type": "surface"
           }
          ],
          "table": [
           {
            "cells": {
             "fill": {
              "color": "#EBF0F8"
             },
             "line": {
              "color": "white"
             }
            },
            "header": {
             "fill": {
              "color": "#C8D4E3"
             },
             "line": {
              "color": "white"
             }
            },
            "type": "table"
           }
          ]
         },
         "layout": {
          "annotationdefaults": {
           "arrowcolor": "#2a3f5f",
           "arrowhead": 0,
           "arrowwidth": 1
          },
          "autotypenumbers": "strict",
          "coloraxis": {
           "colorbar": {
            "outlinewidth": 0,
            "ticks": ""
           }
          },
          "colorscale": {
           "diverging": [
            [
             0,
             "#8e0152"
            ],
            [
             0.1,
             "#c51b7d"
            ],
            [
             0.2,
             "#de77ae"
            ],
            [
             0.3,
             "#f1b6da"
            ],
            [
             0.4,
             "#fde0ef"
            ],
            [
             0.5,
             "#f7f7f7"
            ],
            [
             0.6,
             "#e6f5d0"
            ],
            [
             0.7,
             "#b8e186"
            ],
            [
             0.8,
             "#7fbc41"
            ],
            [
             0.9,
             "#4d9221"
            ],
            [
             1,
             "#276419"
            ]
           ],
           "sequential": [
            [
             0,
             "#0d0887"
            ],
            [
             0.1111111111111111,
             "#46039f"
            ],
            [
             0.2222222222222222,
             "#7201a8"
            ],
            [
             0.3333333333333333,
             "#9c179e"
            ],
            [
             0.4444444444444444,
             "#bd3786"
            ],
            [
             0.5555555555555556,
             "#d8576b"
            ],
            [
             0.6666666666666666,
             "#ed7953"
            ],
            [
             0.7777777777777778,
             "#fb9f3a"
            ],
            [
             0.8888888888888888,
             "#fdca26"
            ],
            [
             1,
             "#f0f921"
            ]
           ],
           "sequentialminus": [
            [
             0,
             "#0d0887"
            ],
            [
             0.1111111111111111,
             "#46039f"
            ],
            [
             0.2222222222222222,
             "#7201a8"
            ],
            [
             0.3333333333333333,
             "#9c179e"
            ],
            [
             0.4444444444444444,
             "#bd3786"
            ],
            [
             0.5555555555555556,
             "#d8576b"
            ],
            [
             0.6666666666666666,
             "#ed7953"
            ],
            [
             0.7777777777777778,
             "#fb9f3a"
            ],
            [
             0.8888888888888888,
             "#fdca26"
            ],
            [
             1,
             "#f0f921"
            ]
           ]
          },
          "colorway": [
           "#636efa",
           "#EF553B",
           "#00cc96",
           "#ab63fa",
           "#FFA15A",
           "#19d3f3",
           "#FF6692",
           "#B6E880",
           "#FF97FF",
           "#FECB52"
          ],
          "font": {
           "color": "#2a3f5f"
          },
          "geo": {
           "bgcolor": "white",
           "lakecolor": "white",
           "landcolor": "#E5ECF6",
           "showlakes": true,
           "showland": true,
           "subunitcolor": "white"
          },
          "hoverlabel": {
           "align": "left"
          },
          "hovermode": "closest",
          "mapbox": {
           "style": "light"
          },
          "paper_bgcolor": "white",
          "plot_bgcolor": "#E5ECF6",
          "polar": {
           "angularaxis": {
            "gridcolor": "white",
            "linecolor": "white",
            "ticks": ""
           },
           "bgcolor": "#E5ECF6",
           "radialaxis": {
            "gridcolor": "white",
            "linecolor": "white",
            "ticks": ""
           }
          },
          "scene": {
           "xaxis": {
            "backgroundcolor": "#E5ECF6",
            "gridcolor": "white",
            "gridwidth": 2,
            "linecolor": "white",
            "showbackground": true,
            "ticks": "",
            "zerolinecolor": "white"
           },
           "yaxis": {
            "backgroundcolor": "#E5ECF6",
            "gridcolor": "white",
            "gridwidth": 2,
            "linecolor": "white",
            "showbackground": true,
            "ticks": "",
            "zerolinecolor": "white"
           },
           "zaxis": {
            "backgroundcolor": "#E5ECF6",
            "gridcolor": "white",
            "gridwidth": 2,
            "linecolor": "white",
            "showbackground": true,
            "ticks": "",
            "zerolinecolor": "white"
           }
          },
          "shapedefaults": {
           "line": {
            "color": "#2a3f5f"
           }
          },
          "ternary": {
           "aaxis": {
            "gridcolor": "white",
            "linecolor": "white",
            "ticks": ""
           },
           "baxis": {
            "gridcolor": "white",
            "linecolor": "white",
            "ticks": ""
           },
           "bgcolor": "#E5ECF6",
           "caxis": {
            "gridcolor": "white",
            "linecolor": "white",
            "ticks": ""
           }
          },
          "title": {
           "x": 0.05
          },
          "xaxis": {
           "automargin": true,
           "gridcolor": "white",
           "linecolor": "white",
           "ticks": "",
           "title": {
            "standoff": 15
           },
           "zerolinecolor": "white",
           "zerolinewidth": 2
          },
          "yaxis": {
           "automargin": true,
           "gridcolor": "white",
           "linecolor": "white",
           "ticks": "",
           "title": {
            "standoff": 15
           },
           "zerolinecolor": "white",
           "zerolinewidth": 2
          }
         }
        },
        "title": {
         "text": "MAP vs eGFR<br><sup><i>(n=382)</i></sup>",
         "x": 0,
         "xref": "paper"
        },
        "xaxis": {
         "title": {
          "text": "MAP<br><sup><i>mmHg</i></sup>"
         }
        },
        "yaxis": {
         "gridcolor": "lightgrey",
         "title": {
          "text": "eGFR<br><sup><i>ml/minute/1.73m<sup>2</sup></i></sup>"
         }
        }
       }
      }
     },
     "metadata": {},
     "output_type": "display_data"
    }
   ],
   "source": [
    "%autoreload 2\n",
    "ma.disease_relationships()"
   ]
  },
  {
   "cell_type": "code",
   "execution_count": 27,
   "metadata": {},
   "outputs": [
    {
     "name": "stdout",
     "output_type": "stream",
     "text": [
      "Data consits of 382 rows after cleaning. \n",
      "        * 10 rows have been excluded.\n",
      "            \n"
     ]
    },
    {
     "data": {
      "application/vnd.plotly.v1+json": {
       "config": {
        "plotlyServerURL": "https://plot.ly"
       },
       "data": [
        {
         "marker": {
          "color": [
           "#32471E",
           "#32471E",
           "#32471E",
           "#32471E",
           "#32471E",
           "#32471E",
           "#32471E",
           "#32471E",
           "#32471E",
           "#32471E",
           "#32471E",
           "#32471E",
           "#32471E",
           "#32471E",
           "#32471E",
           "#32471E",
           "#32471E",
           "#32471E",
           "#32471E",
           "#32471E",
           "#32471E",
           "#32471E",
           "#32471E",
           "#32471E",
           "#32471E",
           "#32471E",
           "#32471E",
           "#32471E",
           "#32471E",
           "#32471E",
           "#32471E",
           "#32471E",
           "#32471E",
           "#32471E",
           "#32471E",
           "#32471E",
           "#32471E",
           "#32471E",
           "#32471E",
           "#32471E",
           "#32471E",
           "#32471E",
           "#32471E",
           "#32471E",
           "#32471E",
           "#32471E",
           "#32471E",
           "#32471E",
           "#32471E",
           "#32471E",
           "#32471E",
           "#32471E",
           "#32471E",
           "#32471E",
           "#32471E",
           "#32471E",
           "#32471E",
           "#32471E",
           "#32471E",
           "#32471E",
           "#32471E",
           "#32471E",
           "#32471E",
           "#32471E",
           "#32471E",
           "#32471E",
           "#32471E",
           "#32471E",
           "#32471E",
           "#32471E",
           "#32471E",
           "#32471E",
           "#32471E",
           "#32471E",
           "#32471E",
           "#32471E",
           "#32471E",
           "#32471E",
           "#32471E",
           "#32471E",
           "#32471E",
           "#32471E",
           "#32471E",
           "#32471E",
           "#32471E",
           "#32471E",
           "#32471E",
           "#32471E",
           "#32471E",
           "#32471E",
           "#32471E",
           "#32471E",
           "#32471E",
           "#32471E",
           "#32471E",
           "#32471E",
           "#32471E",
           "#32471E",
           "#32471E",
           "#32471E",
           "#32471E",
           "#32471E",
           "#32471E",
           "#32471E",
           "#32471E",
           "#32471E",
           "#32471E",
           "#32471E",
           "#32471E",
           "#32471E",
           "#32471E",
           "#32471E",
           "#32471E",
           "#32471E",
           "#32471E",
           "#32471E",
           "#32471E",
           "#32471E",
           "#32471E",
           "#32471E",
           "#32471E",
           "#32471E",
           "#32471E",
           "#32471E",
           "#32471E",
           "#32471E",
           "#32471E",
           "#32471E",
           "#32471E",
           "#32471E",
           "#32471E",
           "#32471E",
           "#32471E",
           "#32471E",
           "#32471E",
           "#32471E",
           "#32471E",
           "#32471E",
           "#32471E",
           "#32471E",
           "#32471E",
           "#32471E",
           "#32471E",
           "#32471E",
           "#32471E",
           "#32471E",
           "#32471E",
           "#32471E",
           "#32471E",
           "#32471E",
           "#32471E",
           "#32471E",
           "#32471E",
           "#32471E",
           "#32471E",
           "#32471E",
           "#32471E",
           "#32471E",
           "#32471E",
           "#32471E",
           "#32471E",
           "#32471E",
           "#32471E",
           "#32471E",
           "#32471E",
           "#32471E",
           "#32471E",
           "#32471E",
           "#32471E",
           "#32471E",
           "#32471E",
           "#32471E",
           "#32471E",
           "#32471E",
           "#32471E",
           "#32471E",
           "#32471E",
           "#32471E",
           "#32471E",
           "#32471E",
           "#32471E",
           "#32471E",
           "#32471E",
           "#32471E",
           "#32471E",
           "#32471E",
           "#32471E",
           "#32471E",
           "#32471E",
           "#32471E",
           "#32471E",
           "#32471E",
           "#32471E",
           "#32471E",
           "#32471E",
           "#32471E",
           "#32471E",
           "#32471E",
           "#32471E",
           "#32471E",
           "#32471E",
           "#32471E",
           "#32471E",
           "#32471E",
           "#32471E",
           "#32471E",
           "#32471E",
           "#32471E",
           "#32471E",
           "#32471E",
           "#32471E",
           "#32471E",
           "#32471E",
           "#32471E",
           "#32471E",
           "#32471E",
           "#32471E",
           "#32471E",
           "#32471E",
           "#32471E",
           "#32471E",
           "#32471E",
           "#32471E",
           "#32471E",
           "#32471E",
           "#32471E",
           "#32471E",
           "#32471E",
           "#32471E",
           "#32471E",
           "#32471E",
           "#32471E",
           "#32471E",
           "#32471E",
           "#32471E",
           "#32471E",
           "#32471E",
           "#32471E",
           "#32471E",
           "#32471E",
           "#32471E",
           "#32471E",
           "#32471E",
           "#32471E",
           "#32471E",
           "#32471E",
           "#32471E",
           "#32471E",
           "#32471E",
           "#32471E",
           "#32471E",
           "#32471E",
           "#32471E",
           "#32471E",
           "#32471E",
           "#32471E",
           "#32471E",
           "#32471E",
           "#32471E",
           "#32471E",
           "#32471E",
           "#32471E",
           "#32471E",
           "#32471E",
           "#32471E",
           "#32471E",
           "#32471E",
           "#32471E",
           "#32471E",
           "#32471E",
           "#32471E",
           "#32471E",
           "#32471E",
           "#32471E",
           "#32471E",
           "#32471E",
           "#32471E",
           "#32471E",
           "#32471E",
           "#32471E",
           "#32471E",
           "#32471E",
           "#32471E",
           "#32471E",
           "#32471E",
           "#32471E",
           "#32471E",
           "#32471E",
           "#32471E",
           "#32471E",
           "#32471E",
           "#32471E",
           "#32471E",
           "#32471E",
           "#32471E",
           "#32471E",
           "#32471E",
           "#32471E",
           "#32471E",
           "#32471E",
           "#32471E",
           "#32471E",
           "#32471E",
           "#32471E",
           "#32471E",
           "#32471E",
           "#32471E",
           "#32471E",
           "#32471E",
           "#32471E",
           "#32471E",
           "#32471E",
           "#32471E",
           "#32471E",
           "#32471E",
           "#32471E",
           "#32471E",
           "#32471E",
           "#32471E",
           "#32471E",
           "#32471E",
           "#32471E",
           "#32471E",
           "#32471E",
           "#32471E",
           "#32471E",
           "#32471E",
           "#32471E",
           "#32471E",
           "#32471E",
           "#32471E",
           "#32471E"
          ],
          "line": {
           "width": 0.3
          },
          "size": 10
         },
         "mode": "markers",
         "name": "EPDS <= 10",
         "type": "scatter",
         "x": [
          54,
          56,
          51,
          42,
          51,
          55,
          54,
          53,
          54,
          24,
          49,
          54,
          49,
          48,
          45,
          64,
          52,
          48,
          45,
          42,
          54,
          51,
          50,
          50,
          40,
          50,
          46,
          65,
          49,
          30,
          44,
          45,
          42,
          51,
          51,
          44,
          48,
          49,
          43,
          42,
          47,
          42,
          43,
          50,
          46,
          42,
          51,
          42,
          49,
          49,
          48,
          48,
          45,
          43,
          43,
          47,
          48,
          54,
          46,
          47,
          48,
          45,
          46,
          43,
          44,
          47,
          42,
          42,
          45,
          47,
          44,
          46,
          53,
          45,
          54,
          43,
          46,
          46,
          43,
          48,
          43,
          48,
          39,
          51,
          53,
          51,
          31,
          52,
          53,
          42,
          46,
          42,
          46,
          47,
          60,
          54,
          48,
          43,
          47,
          48,
          47,
          48,
          45,
          42,
          55,
          44,
          48,
          48,
          44,
          47,
          46,
          52,
          41,
          40,
          42,
          44,
          44,
          35,
          18,
          41,
          44,
          53,
          49,
          54,
          42,
          59,
          49,
          53,
          53,
          47,
          59,
          50,
          45,
          61,
          49,
          43,
          19,
          57,
          46,
          42,
          47,
          47,
          65,
          36,
          48,
          43,
          42,
          47,
          44,
          44,
          47,
          42,
          53,
          47,
          47,
          82,
          43,
          47,
          48,
          44,
          45,
          44,
          46,
          42,
          47,
          42,
          47,
          43,
          48,
          46,
          47,
          48,
          37,
          46,
          43,
          46,
          43,
          48,
          42,
          45,
          48,
          42,
          44,
          48,
          41,
          63,
          48,
          47,
          44,
          40,
          50,
          52,
          44,
          48,
          45,
          43,
          49,
          48,
          47,
          40,
          58,
          56,
          52,
          55,
          49,
          47,
          43,
          54,
          42,
          35,
          39,
          36,
          67,
          41,
          49,
          43,
          47,
          41,
          42,
          47,
          57,
          45,
          45,
          46,
          47,
          48,
          50,
          43,
          47,
          47,
          52,
          48,
          46,
          42,
          43,
          58,
          44,
          42,
          46,
          43,
          42,
          45,
          60,
          51,
          43,
          47,
          43,
          52,
          43,
          50,
          48,
          52,
          37,
          37,
          42,
          45,
          42,
          46,
          46,
          42,
          41,
          38,
          43,
          44,
          43,
          44,
          51,
          51,
          44,
          49,
          45,
          51,
          44,
          48,
          45,
          44,
          43,
          44,
          44,
          43,
          42,
          42,
          49,
          46,
          43,
          50,
          43,
          53,
          62,
          47,
          47,
          48,
          43,
          53,
          48,
          47,
          52,
          49,
          44,
          48,
          48,
          51,
          44,
          45,
          54,
          54,
          43,
          42,
          43,
          55,
          43,
          42,
          55,
          42,
          43,
          43,
          43,
          47,
          43,
          48,
          47,
          16,
          43,
          42,
          55,
          42,
          45,
          49,
          46,
          46,
          42,
          48
         ],
         "y": [
          7,
          3,
          1,
          0,
          0,
          2,
          5,
          2,
          7,
          0,
          1,
          3,
          6,
          3,
          10,
          1,
          0,
          0,
          4,
          1,
          3,
          7,
          0,
          0,
          8,
          2,
          5,
          1,
          1,
          1,
          3,
          2,
          6,
          1,
          10,
          5,
          1,
          7,
          5,
          4,
          8,
          3,
          9,
          0,
          0,
          5,
          1,
          4,
          6,
          9,
          3,
          3,
          1,
          1,
          1,
          1,
          1,
          1,
          7,
          4,
          4,
          1,
          7,
          2,
          0,
          10,
          1,
          0,
          1,
          2,
          2,
          5,
          2,
          3,
          9,
          1,
          10,
          3,
          0,
          1,
          9,
          2,
          0,
          7,
          0,
          8,
          6,
          7,
          0,
          5,
          3,
          10,
          0,
          0,
          1,
          7,
          0,
          3,
          4,
          0,
          9,
          3,
          0,
          1,
          5,
          4,
          3,
          5,
          9,
          4,
          4,
          2,
          6,
          5,
          2,
          3,
          0,
          5,
          1,
          0,
          0,
          2,
          1,
          5,
          0,
          1,
          0,
          0,
          0,
          4,
          0,
          1,
          10,
          0,
          1,
          6,
          0,
          8,
          0,
          3,
          1,
          4,
          3,
          2,
          6,
          5,
          5,
          4,
          0,
          1,
          8,
          6,
          1,
          6,
          4,
          5,
          5,
          4,
          2,
          6,
          4,
          2,
          10,
          0,
          9,
          5,
          2,
          3,
          10,
          10,
          7,
          1,
          9,
          8,
          7,
          8,
          0,
          5,
          0,
          8,
          6,
          8,
          1,
          8,
          0,
          0,
          6,
          3,
          5,
          0,
          4,
          0,
          1,
          5,
          3,
          2,
          6,
          4,
          5,
          2,
          9,
          0,
          0,
          5,
          9,
          0,
          3,
          8,
          8,
          3,
          7,
          2,
          0,
          8,
          5,
          10,
          10,
          2,
          2,
          3,
          2,
          4,
          2,
          5,
          2,
          0,
          2,
          3,
          0,
          3,
          10,
          3,
          3,
          3,
          3,
          7,
          9,
          4,
          7,
          10,
          2,
          3,
          3,
          4,
          9,
          1,
          1,
          7,
          0,
          7,
          3,
          4,
          7,
          3,
          2,
          5,
          0,
          0,
          1,
          0,
          4,
          8,
          3,
          10,
          6,
          9,
          5,
          0,
          8,
          6,
          8,
          3,
          2,
          1,
          3,
          6,
          3,
          3,
          1,
          2,
          10,
          1,
          3,
          8,
          3,
          7,
          0,
          1,
          8,
          5,
          10,
          1,
          8,
          10,
          2,
          3,
          8,
          7,
          7,
          5,
          4,
          5,
          10,
          2,
          0,
          9,
          2,
          2,
          6,
          0,
          2,
          0,
          5,
          6,
          5,
          2,
          4,
          4,
          3,
          2,
          10,
          1,
          5,
          4,
          6,
          5,
          10,
          9,
          5,
          1,
          8,
          2
         ]
        },
        {
         "marker": {
          "color": [
           "#b7410e",
           "#b7410e",
           "#b7410e",
           "#b7410e",
           "#b7410e",
           "#b7410e",
           "#b7410e",
           "#b7410e",
           "#b7410e",
           "#b7410e",
           "#b7410e",
           "#b7410e",
           "#b7410e",
           "#b7410e",
           "#b7410e",
           "#b7410e",
           "#b7410e",
           "#b7410e",
           "#b7410e",
           "#b7410e",
           "#b7410e",
           "#b7410e",
           "#b7410e",
           "#b7410e",
           "#b7410e",
           "#b7410e",
           "#b7410e",
           "#b7410e",
           "#b7410e",
           "#b7410e",
           "#b7410e",
           "#b7410e",
           "#b7410e",
           "#b7410e",
           "#b7410e",
           "#b7410e",
           "#b7410e",
           "#b7410e",
           "#b7410e",
           "#b7410e",
           "#b7410e",
           "#b7410e",
           "#b7410e",
           "#b7410e",
           "#b7410e",
           "#b7410e",
           "#b7410e",
           "#b7410e",
           "#b7410e",
           "#b7410e"
          ],
          "line": {
           "width": 0.3
          },
          "size": 10
         },
         "mode": "markers",
         "name": "EPDS > 10",
         "type": "scatter",
         "x": [
          54,
          52,
          49,
          52,
          42,
          43,
          43,
          47,
          47,
          43,
          44,
          45,
          43,
          41,
          47,
          43,
          51,
          45,
          43,
          43,
          47,
          44,
          44,
          52,
          48,
          42,
          54,
          114,
          45,
          38,
          48,
          36,
          47,
          42,
          50,
          46,
          46,
          45,
          48,
          44,
          47,
          42,
          57,
          42,
          44,
          43,
          53,
          45,
          54,
          45
         ],
         "y": [
          15,
          20,
          14,
          11,
          11,
          11,
          17,
          12,
          11,
          11,
          14,
          12,
          15,
          18,
          21,
          22,
          20,
          11,
          22,
          11,
          13,
          17,
          16,
          13,
          11,
          11,
          16,
          17,
          16,
          21,
          11,
          16,
          15,
          12,
          14,
          14,
          19,
          14,
          12,
          13,
          15,
          14,
          11,
          13,
          14,
          12,
          15,
          12,
          22,
          13
         ]
        }
       ],
       "layout": {
        "paper_bgcolor": "white",
        "plot_bgcolor": "#F6F8FC",
        "template": {
         "data": {
          "bar": [
           {
            "error_x": {
             "color": "#2a3f5f"
            },
            "error_y": {
             "color": "#2a3f5f"
            },
            "marker": {
             "line": {
              "color": "#E5ECF6",
              "width": 0.5
             },
             "pattern": {
              "fillmode": "overlay",
              "size": 10,
              "solidity": 0.2
             }
            },
            "type": "bar"
           }
          ],
          "barpolar": [
           {
            "marker": {
             "line": {
              "color": "#E5ECF6",
              "width": 0.5
             },
             "pattern": {
              "fillmode": "overlay",
              "size": 10,
              "solidity": 0.2
             }
            },
            "type": "barpolar"
           }
          ],
          "carpet": [
           {
            "aaxis": {
             "endlinecolor": "#2a3f5f",
             "gridcolor": "white",
             "linecolor": "white",
             "minorgridcolor": "white",
             "startlinecolor": "#2a3f5f"
            },
            "baxis": {
             "endlinecolor": "#2a3f5f",
             "gridcolor": "white",
             "linecolor": "white",
             "minorgridcolor": "white",
             "startlinecolor": "#2a3f5f"
            },
            "type": "carpet"
           }
          ],
          "choropleth": [
           {
            "colorbar": {
             "outlinewidth": 0,
             "ticks": ""
            },
            "type": "choropleth"
           }
          ],
          "contour": [
           {
            "colorbar": {
             "outlinewidth": 0,
             "ticks": ""
            },
            "colorscale": [
             [
              0,
              "#0d0887"
             ],
             [
              0.1111111111111111,
              "#46039f"
             ],
             [
              0.2222222222222222,
              "#7201a8"
             ],
             [
              0.3333333333333333,
              "#9c179e"
             ],
             [
              0.4444444444444444,
              "#bd3786"
             ],
             [
              0.5555555555555556,
              "#d8576b"
             ],
             [
              0.6666666666666666,
              "#ed7953"
             ],
             [
              0.7777777777777778,
              "#fb9f3a"
             ],
             [
              0.8888888888888888,
              "#fdca26"
             ],
             [
              1,
              "#f0f921"
             ]
            ],
            "type": "contour"
           }
          ],
          "contourcarpet": [
           {
            "colorbar": {
             "outlinewidth": 0,
             "ticks": ""
            },
            "type": "contourcarpet"
           }
          ],
          "heatmap": [
           {
            "colorbar": {
             "outlinewidth": 0,
             "ticks": ""
            },
            "colorscale": [
             [
              0,
              "#0d0887"
             ],
             [
              0.1111111111111111,
              "#46039f"
             ],
             [
              0.2222222222222222,
              "#7201a8"
             ],
             [
              0.3333333333333333,
              "#9c179e"
             ],
             [
              0.4444444444444444,
              "#bd3786"
             ],
             [
              0.5555555555555556,
              "#d8576b"
             ],
             [
              0.6666666666666666,
              "#ed7953"
             ],
             [
              0.7777777777777778,
              "#fb9f3a"
             ],
             [
              0.8888888888888888,
              "#fdca26"
             ],
             [
              1,
              "#f0f921"
             ]
            ],
            "type": "heatmap"
           }
          ],
          "heatmapgl": [
           {
            "colorbar": {
             "outlinewidth": 0,
             "ticks": ""
            },
            "colorscale": [
             [
              0,
              "#0d0887"
             ],
             [
              0.1111111111111111,
              "#46039f"
             ],
             [
              0.2222222222222222,
              "#7201a8"
             ],
             [
              0.3333333333333333,
              "#9c179e"
             ],
             [
              0.4444444444444444,
              "#bd3786"
             ],
             [
              0.5555555555555556,
              "#d8576b"
             ],
             [
              0.6666666666666666,
              "#ed7953"
             ],
             [
              0.7777777777777778,
              "#fb9f3a"
             ],
             [
              0.8888888888888888,
              "#fdca26"
             ],
             [
              1,
              "#f0f921"
             ]
            ],
            "type": "heatmapgl"
           }
          ],
          "histogram": [
           {
            "marker": {
             "pattern": {
              "fillmode": "overlay",
              "size": 10,
              "solidity": 0.2
             }
            },
            "type": "histogram"
           }
          ],
          "histogram2d": [
           {
            "colorbar": {
             "outlinewidth": 0,
             "ticks": ""
            },
            "colorscale": [
             [
              0,
              "#0d0887"
             ],
             [
              0.1111111111111111,
              "#46039f"
             ],
             [
              0.2222222222222222,
              "#7201a8"
             ],
             [
              0.3333333333333333,
              "#9c179e"
             ],
             [
              0.4444444444444444,
              "#bd3786"
             ],
             [
              0.5555555555555556,
              "#d8576b"
             ],
             [
              0.6666666666666666,
              "#ed7953"
             ],
             [
              0.7777777777777778,
              "#fb9f3a"
             ],
             [
              0.8888888888888888,
              "#fdca26"
             ],
             [
              1,
              "#f0f921"
             ]
            ],
            "type": "histogram2d"
           }
          ],
          "histogram2dcontour": [
           {
            "colorbar": {
             "outlinewidth": 0,
             "ticks": ""
            },
            "colorscale": [
             [
              0,
              "#0d0887"
             ],
             [
              0.1111111111111111,
              "#46039f"
             ],
             [
              0.2222222222222222,
              "#7201a8"
             ],
             [
              0.3333333333333333,
              "#9c179e"
             ],
             [
              0.4444444444444444,
              "#bd3786"
             ],
             [
              0.5555555555555556,
              "#d8576b"
             ],
             [
              0.6666666666666666,
              "#ed7953"
             ],
             [
              0.7777777777777778,
              "#fb9f3a"
             ],
             [
              0.8888888888888888,
              "#fdca26"
             ],
             [
              1,
              "#f0f921"
             ]
            ],
            "type": "histogram2dcontour"
           }
          ],
          "mesh3d": [
           {
            "colorbar": {
             "outlinewidth": 0,
             "ticks": ""
            },
            "type": "mesh3d"
           }
          ],
          "parcoords": [
           {
            "line": {
             "colorbar": {
              "outlinewidth": 0,
              "ticks": ""
             }
            },
            "type": "parcoords"
           }
          ],
          "pie": [
           {
            "automargin": true,
            "type": "pie"
           }
          ],
          "scatter": [
           {
            "fillpattern": {
             "fillmode": "overlay",
             "size": 10,
             "solidity": 0.2
            },
            "type": "scatter"
           }
          ],
          "scatter3d": [
           {
            "line": {
             "colorbar": {
              "outlinewidth": 0,
              "ticks": ""
             }
            },
            "marker": {
             "colorbar": {
              "outlinewidth": 0,
              "ticks": ""
             }
            },
            "type": "scatter3d"
           }
          ],
          "scattercarpet": [
           {
            "marker": {
             "colorbar": {
              "outlinewidth": 0,
              "ticks": ""
             }
            },
            "type": "scattercarpet"
           }
          ],
          "scattergeo": [
           {
            "marker": {
             "colorbar": {
              "outlinewidth": 0,
              "ticks": ""
             }
            },
            "type": "scattergeo"
           }
          ],
          "scattergl": [
           {
            "marker": {
             "colorbar": {
              "outlinewidth": 0,
              "ticks": ""
             }
            },
            "type": "scattergl"
           }
          ],
          "scattermapbox": [
           {
            "marker": {
             "colorbar": {
              "outlinewidth": 0,
              "ticks": ""
             }
            },
            "type": "scattermapbox"
           }
          ],
          "scatterpolar": [
           {
            "marker": {
             "colorbar": {
              "outlinewidth": 0,
              "ticks": ""
             }
            },
            "type": "scatterpolar"
           }
          ],
          "scatterpolargl": [
           {
            "marker": {
             "colorbar": {
              "outlinewidth": 0,
              "ticks": ""
             }
            },
            "type": "scatterpolargl"
           }
          ],
          "scatterternary": [
           {
            "marker": {
             "colorbar": {
              "outlinewidth": 0,
              "ticks": ""
             }
            },
            "type": "scatterternary"
           }
          ],
          "surface": [
           {
            "colorbar": {
             "outlinewidth": 0,
             "ticks": ""
            },
            "colorscale": [
             [
              0,
              "#0d0887"
             ],
             [
              0.1111111111111111,
              "#46039f"
             ],
             [
              0.2222222222222222,
              "#7201a8"
             ],
             [
              0.3333333333333333,
              "#9c179e"
             ],
             [
              0.4444444444444444,
              "#bd3786"
             ],
             [
              0.5555555555555556,
              "#d8576b"
             ],
             [
              0.6666666666666666,
              "#ed7953"
             ],
             [
              0.7777777777777778,
              "#fb9f3a"
             ],
             [
              0.8888888888888888,
              "#fdca26"
             ],
             [
              1,
              "#f0f921"
             ]
            ],
            "type": "surface"
           }
          ],
          "table": [
           {
            "cells": {
             "fill": {
              "color": "#EBF0F8"
             },
             "line": {
              "color": "white"
             }
            },
            "header": {
             "fill": {
              "color": "#C8D4E3"
             },
             "line": {
              "color": "white"
             }
            },
            "type": "table"
           }
          ]
         },
         "layout": {
          "annotationdefaults": {
           "arrowcolor": "#2a3f5f",
           "arrowhead": 0,
           "arrowwidth": 1
          },
          "autotypenumbers": "strict",
          "coloraxis": {
           "colorbar": {
            "outlinewidth": 0,
            "ticks": ""
           }
          },
          "colorscale": {
           "diverging": [
            [
             0,
             "#8e0152"
            ],
            [
             0.1,
             "#c51b7d"
            ],
            [
             0.2,
             "#de77ae"
            ],
            [
             0.3,
             "#f1b6da"
            ],
            [
             0.4,
             "#fde0ef"
            ],
            [
             0.5,
             "#f7f7f7"
            ],
            [
             0.6,
             "#e6f5d0"
            ],
            [
             0.7,
             "#b8e186"
            ],
            [
             0.8,
             "#7fbc41"
            ],
            [
             0.9,
             "#4d9221"
            ],
            [
             1,
             "#276419"
            ]
           ],
           "sequential": [
            [
             0,
             "#0d0887"
            ],
            [
             0.1111111111111111,
             "#46039f"
            ],
            [
             0.2222222222222222,
             "#7201a8"
            ],
            [
             0.3333333333333333,
             "#9c179e"
            ],
            [
             0.4444444444444444,
             "#bd3786"
            ],
            [
             0.5555555555555556,
             "#d8576b"
            ],
            [
             0.6666666666666666,
             "#ed7953"
            ],
            [
             0.7777777777777778,
             "#fb9f3a"
            ],
            [
             0.8888888888888888,
             "#fdca26"
            ],
            [
             1,
             "#f0f921"
            ]
           ],
           "sequentialminus": [
            [
             0,
             "#0d0887"
            ],
            [
             0.1111111111111111,
             "#46039f"
            ],
            [
             0.2222222222222222,
             "#7201a8"
            ],
            [
             0.3333333333333333,
             "#9c179e"
            ],
            [
             0.4444444444444444,
             "#bd3786"
            ],
            [
             0.5555555555555556,
             "#d8576b"
            ],
            [
             0.6666666666666666,
             "#ed7953"
            ],
            [
             0.7777777777777778,
             "#fb9f3a"
            ],
            [
             0.8888888888888888,
             "#fdca26"
            ],
            [
             1,
             "#f0f921"
            ]
           ]
          },
          "colorway": [
           "#636efa",
           "#EF553B",
           "#00cc96",
           "#ab63fa",
           "#FFA15A",
           "#19d3f3",
           "#FF6692",
           "#B6E880",
           "#FF97FF",
           "#FECB52"
          ],
          "font": {
           "color": "#2a3f5f"
          },
          "geo": {
           "bgcolor": "white",
           "lakecolor": "white",
           "landcolor": "#E5ECF6",
           "showlakes": true,
           "showland": true,
           "subunitcolor": "white"
          },
          "hoverlabel": {
           "align": "left"
          },
          "hovermode": "closest",
          "mapbox": {
           "style": "light"
          },
          "paper_bgcolor": "white",
          "plot_bgcolor": "#E5ECF6",
          "polar": {
           "angularaxis": {
            "gridcolor": "white",
            "linecolor": "white",
            "ticks": ""
           },
           "bgcolor": "#E5ECF6",
           "radialaxis": {
            "gridcolor": "white",
            "linecolor": "white",
            "ticks": ""
           }
          },
          "scene": {
           "xaxis": {
            "backgroundcolor": "#E5ECF6",
            "gridcolor": "white",
            "gridwidth": 2,
            "linecolor": "white",
            "showbackground": true,
            "ticks": "",
            "zerolinecolor": "white"
           },
           "yaxis": {
            "backgroundcolor": "#E5ECF6",
            "gridcolor": "white",
            "gridwidth": 2,
            "linecolor": "white",
            "showbackground": true,
            "ticks": "",
            "zerolinecolor": "white"
           },
           "zaxis": {
            "backgroundcolor": "#E5ECF6",
            "gridcolor": "white",
            "gridwidth": 2,
            "linecolor": "white",
            "showbackground": true,
            "ticks": "",
            "zerolinecolor": "white"
           }
          },
          "shapedefaults": {
           "line": {
            "color": "#2a3f5f"
           }
          },
          "ternary": {
           "aaxis": {
            "gridcolor": "white",
            "linecolor": "white",
            "ticks": ""
           },
           "baxis": {
            "gridcolor": "white",
            "linecolor": "white",
            "ticks": ""
           },
           "bgcolor": "#E5ECF6",
           "caxis": {
            "gridcolor": "white",
            "linecolor": "white",
            "ticks": ""
           }
          },
          "title": {
           "x": 0.05
          },
          "xaxis": {
           "automargin": true,
           "gridcolor": "white",
           "linecolor": "white",
           "ticks": "",
           "title": {
            "standoff": 15
           },
           "zerolinecolor": "white",
           "zerolinewidth": 2
          },
          "yaxis": {
           "automargin": true,
           "gridcolor": "white",
           "linecolor": "white",
           "ticks": "",
           "title": {
            "standoff": 15
           },
           "zerolinecolor": "white",
           "zerolinewidth": 2
          }
         }
        },
        "title": {
         "text": "EPDS vs Days Post Partum<br><sup><i>(n=382)</i></sup>",
         "x": 0,
         "xref": "paper"
        },
        "xaxis": {
         "title": {
          "text": "Days Post Partum<br><sup><i>Days</i></sup>"
         }
        },
        "yaxis": {
         "gridcolor": "lightgrey",
         "title": {
          "text": "EPDS<br><sup><i>score</i></sup>"
         }
        }
       }
      }
     },
     "metadata": {},
     "output_type": "display_data"
    },
    {
     "name": "stdout",
     "output_type": "stream",
     "text": [
      "Data consits of 3820 rows after cleaning. \n",
      "        * -3428 rows have been excluded.\n",
      "            \n"
     ]
    },
    {
     "data": {
      "application/vnd.plotly.v1+json": {
       "config": {
        "plotlyServerURL": "https://plot.ly"
       },
       "data": [
        {
         "boxpoints": false,
         "jitter": 0.3,
         "marker": {
          "color": "#172207"
         },
         "name": "I have been able to laugh and see the funny side of things ",
         "notched": true,
         "pointpos": -1.8,
         "type": "box",
         "x": [
          2,
          3,
          1,
          1,
          3,
          3,
          1,
          2,
          1,
          1,
          2,
          1,
          2,
          1,
          1,
          1,
          4,
          1,
          2,
          1,
          1,
          1,
          1,
          2,
          1,
          1,
          1,
          1,
          1,
          2,
          1,
          1,
          1,
          1,
          1,
          1,
          2,
          2,
          1,
          1,
          3,
          4,
          1,
          2,
          1,
          1,
          1,
          2,
          1,
          2,
          1,
          1,
          1,
          2,
          1,
          1,
          2,
          3,
          1,
          2,
          1,
          1,
          1,
          2,
          1,
          1,
          1,
          1,
          1,
          1,
          2,
          1,
          1,
          1,
          4,
          1,
          3,
          1,
          1,
          1,
          1,
          1,
          2,
          1,
          1,
          2,
          1,
          1,
          1,
          1,
          1,
          1,
          1,
          1,
          1,
          1,
          1,
          1,
          1,
          1,
          1,
          1,
          1,
          1,
          1,
          1,
          2,
          1,
          1,
          1,
          1,
          1,
          2,
          1,
          1,
          1,
          1,
          1,
          1,
          1,
          2,
          1,
          2,
          1,
          2,
          3,
          2,
          1,
          1,
          1,
          1,
          1,
          1,
          3,
          1,
          1,
          1,
          1,
          1,
          1,
          1,
          1,
          1,
          2,
          1,
          1,
          2,
          1,
          1,
          1,
          3,
          1,
          2,
          1,
          1,
          1,
          1,
          2,
          1,
          4,
          1,
          2,
          1,
          1,
          1,
          2,
          3,
          2,
          1,
          3,
          1,
          1,
          3,
          2,
          1,
          1,
          3,
          1,
          1,
          1,
          1,
          2,
          1,
          2,
          1,
          1,
          1,
          1,
          1,
          1,
          1,
          1,
          2,
          1,
          1,
          2,
          2,
          1,
          2,
          1,
          1,
          1,
          1,
          1,
          1,
          1,
          1,
          1,
          1,
          1,
          1,
          1,
          1,
          1,
          2,
          1,
          1,
          1,
          1,
          1,
          1,
          1,
          1,
          4,
          1,
          1,
          1,
          1,
          2,
          3,
          1,
          1,
          3,
          1,
          4,
          2,
          1,
          1,
          1,
          1,
          1,
          4,
          1,
          1,
          1,
          1,
          1,
          2,
          1,
          1,
          1,
          1,
          1,
          1,
          1,
          1,
          1,
          1,
          1,
          1,
          1,
          1,
          2,
          1,
          1,
          1,
          1,
          1,
          2,
          1,
          1,
          1,
          1,
          2,
          1,
          2,
          2,
          1,
          1,
          1,
          1,
          1,
          1,
          1,
          1,
          1,
          1,
          1,
          1,
          1,
          1,
          1,
          1,
          1,
          1,
          1,
          1,
          1,
          2,
          1,
          1,
          1,
          2,
          1,
          2,
          1,
          1,
          1,
          1,
          1,
          1,
          1,
          2,
          1,
          1,
          1,
          1,
          1,
          1,
          2,
          1,
          1,
          3,
          1,
          1,
          1,
          1,
          1,
          1,
          1,
          1,
          1,
          1,
          2,
          1,
          1,
          2,
          1,
          1,
          1,
          1,
          1,
          2,
          1,
          1,
          3,
          1,
          1,
          1,
          1,
          1,
          1,
          2,
          1,
          1,
          1,
          2,
          1,
          1,
          2,
          1,
          1,
          1,
          2,
          1,
          1,
          1,
          3,
          1,
          2,
          1,
          1,
          3,
          1,
          1,
          1,
          2,
          1,
          1,
          3,
          1,
          1
         ]
        },
        {
         "boxpoints": false,
         "jitter": 0.3,
         "marker": {
          "color": "#32471E"
         },
         "name": "i have looked forward with enjoyment to things",
         "notched": true,
         "pointpos": -1.8,
         "type": "box",
         "x": [
          1,
          3,
          1,
          1,
          3,
          3,
          1,
          2,
          1,
          1,
          2,
          1,
          2,
          1,
          1,
          1,
          4,
          1,
          1,
          2,
          1,
          1,
          1,
          1,
          1,
          1,
          2,
          1,
          1,
          2,
          1,
          2,
          1,
          1,
          1,
          1,
          2,
          2,
          1,
          3,
          4,
          3,
          1,
          3,
          2,
          1,
          1,
          2,
          1,
          2,
          1,
          1,
          1,
          2,
          1,
          1,
          2,
          3,
          1,
          2,
          1,
          1,
          1,
          3,
          1,
          1,
          1,
          1,
          1,
          2,
          2,
          1,
          3,
          3,
          4,
          1,
          4,
          1,
          1,
          1,
          1,
          1,
          null,
          1,
          1,
          2,
          1,
          1,
          1,
          1,
          1,
          2,
          1,
          1,
          1,
          1,
          2,
          1,
          1,
          1,
          1,
          2,
          1,
          1,
          1,
          1,
          1,
          1,
          1,
          1,
          2,
          1,
          2,
          1,
          1,
          2,
          1,
          1,
          1,
          1,
          1,
          1,
          2,
          1,
          2,
          3,
          2,
          1,
          1,
          1,
          1,
          1,
          1,
          3,
          1,
          1,
          1,
          2,
          1,
          1,
          1,
          1,
          1,
          1,
          1,
          1,
          2,
          1,
          1,
          1,
          3,
          1,
          1,
          1,
          1,
          1,
          1,
          1,
          1,
          4,
          1,
          2,
          1,
          1,
          1,
          2,
          3,
          3,
          4,
          3,
          1,
          1,
          3,
          1,
          1,
          1,
          1,
          1,
          1,
          1,
          1,
          2,
          1,
          3,
          1,
          1,
          1,
          1,
          1,
          2,
          3,
          1,
          1,
          1,
          1,
          2,
          2,
          3,
          2,
          1,
          1,
          1,
          1,
          1,
          1,
          1,
          1,
          3,
          1,
          1,
          1,
          1,
          1,
          1,
          2,
          1,
          2,
          2,
          1,
          1,
          1,
          1,
          1,
          2,
          2,
          1,
          1,
          1,
          2,
          2,
          1,
          1,
          2,
          1,
          2,
          2,
          1,
          1,
          2,
          1,
          1,
          1,
          1,
          3,
          1,
          1,
          1,
          2,
          1,
          1,
          1,
          1,
          1,
          1,
          1,
          1,
          1,
          1,
          1,
          1,
          1,
          1,
          3,
          1,
          1,
          1,
          1,
          1,
          1,
          1,
          1,
          1,
          2,
          2,
          1,
          1,
          1,
          1,
          1,
          1,
          1,
          1,
          1,
          1,
          1,
          1,
          1,
          1,
          2,
          2,
          1,
          1,
          1,
          1,
          1,
          1,
          1,
          2,
          1,
          1,
          1,
          1,
          3,
          1,
          2,
          1,
          2,
          1,
          1,
          1,
          1,
          1,
          2,
          2,
          2,
          1,
          1,
          1,
          1,
          3,
          1,
          1,
          2,
          2,
          1,
          1,
          1,
          1,
          1,
          1,
          1,
          2,
          1,
          1,
          1,
          2,
          2,
          1,
          1,
          1,
          2,
          1,
          1,
          1,
          1,
          3,
          1,
          1,
          1,
          1,
          1,
          2,
          1,
          1,
          1,
          1,
          2,
          1,
          2,
          2,
          1,
          1,
          1,
          3,
          1,
          1,
          1,
          3,
          1,
          1,
          2,
          1,
          3,
          1,
          1,
          1,
          2,
          1,
          1,
          1,
          2,
          1
         ]
        },
        {
         "boxpoints": false,
         "jitter": 0.3,
         "marker": {
          "color": "#3E412A"
         },
         "name": "I have blamed myself unnecessary if thigs went wrong ",
         "notched": true,
         "pointpos": -1.8,
         "type": "box",
         "x": [
          3,
          2,
          4,
          2,
          4,
          3,
          1,
          3,
          1,
          2,
          1,
          1,
          2,
          1,
          1,
          2,
          1,
          2,
          2,
          1,
          1,
          1,
          1,
          2,
          2,
          2,
          2,
          1,
          1,
          3,
          2,
          2,
          1,
          2,
          2,
          2,
          1,
          1,
          2,
          1,
          2,
          1,
          1,
          3,
          2,
          1,
          2,
          2,
          1,
          4,
          2,
          1,
          1,
          1,
          1,
          3,
          2,
          1,
          2,
          1,
          2,
          2,
          2,
          2,
          2,
          1,
          2,
          4,
          3,
          2,
          2,
          1,
          2,
          1,
          3,
          1,
          1,
          2,
          1,
          2,
          1,
          1,
          1,
          2,
          2,
          1,
          1,
          3,
          2,
          1,
          2,
          3,
          1,
          1,
          2,
          1,
          3,
          3,
          2,
          1,
          2,
          1,
          4,
          1,
          1,
          1,
          2,
          4,
          1,
          3,
          2,
          1,
          2,
          1,
          1,
          1,
          1,
          2,
          1,
          1,
          3,
          2,
          2,
          2,
          2,
          4,
          2,
          2,
          2,
          1,
          3,
          1,
          1,
          4,
          1,
          2,
          1,
          2,
          1,
          2,
          1,
          1,
          1,
          2,
          1,
          1,
          4,
          1,
          1,
          2,
          3,
          1,
          2,
          1,
          2,
          2,
          3,
          2,
          2,
          1,
          3,
          2,
          2,
          1,
          2,
          3,
          4,
          4,
          1,
          4,
          1,
          3,
          3,
          2,
          2,
          2,
          3,
          1,
          2,
          2,
          2,
          1,
          2,
          3,
          1,
          3,
          3,
          1,
          2,
          3,
          4,
          2,
          2,
          3,
          1,
          1,
          4,
          3,
          2,
          3,
          1,
          3,
          1,
          3,
          2,
          3,
          1,
          3,
          1,
          1,
          3,
          1,
          2,
          4,
          2,
          1,
          2,
          2,
          4,
          1,
          2,
          2,
          2,
          2,
          3,
          3,
          3,
          2,
          3,
          3,
          1,
          1,
          4,
          2,
          1,
          3,
          1,
          1,
          2,
          3,
          2,
          1,
          2,
          4,
          1,
          3,
          2,
          2,
          2,
          2,
          2,
          2,
          1,
          2,
          2,
          2,
          2,
          1,
          2,
          2,
          1,
          2,
          2,
          3,
          1,
          2,
          2,
          2,
          3,
          2,
          3,
          1,
          2,
          3,
          3,
          3,
          1,
          1,
          1,
          3,
          3,
          1,
          1,
          3,
          1,
          3,
          2,
          2,
          4,
          3,
          1,
          2,
          3,
          1,
          1,
          2,
          1,
          1,
          3,
          1,
          3,
          3,
          1,
          2,
          3,
          1,
          2,
          1,
          2,
          2,
          1,
          1,
          2,
          2,
          1,
          3,
          2,
          2,
          1,
          4,
          2,
          3,
          4,
          1,
          1,
          2,
          2,
          2,
          1,
          2,
          3,
          3,
          2,
          2,
          1,
          3,
          2,
          2,
          3,
          3,
          2,
          2,
          2,
          2,
          2,
          2,
          3,
          1,
          3,
          1,
          1,
          3,
          3,
          1,
          2,
          1,
          3,
          2,
          2,
          2,
          2,
          2,
          3,
          3,
          3,
          2,
          2,
          2,
          1,
          3,
          1,
          1,
          3,
          3,
          3,
          3,
          2,
          2,
          2,
          1,
          3,
          1
         ]
        },
        {
         "boxpoints": false,
         "jitter": 0.3,
         "marker": {
          "color": "#555A44"
         },
         "name": "I have been worried or anxious for no good reason",
         "notched": true,
         "pointpos": -1.8,
         "type": "box",
         "x": [
          2,
          3,
          1,
          1,
          3,
          3,
          1,
          3,
          1,
          2,
          1,
          2,
          1,
          1,
          2,
          2,
          1,
          1,
          3,
          1,
          1,
          1,
          2,
          4,
          1,
          1,
          2,
          1,
          1,
          2,
          2,
          2,
          1,
          1,
          1,
          2,
          1,
          1,
          1,
          3,
          2,
          1,
          1,
          4,
          2,
          1,
          3,
          2,
          2,
          3,
          2,
          1,
          1,
          1,
          2,
          1,
          2,
          2,
          2,
          2,
          1,
          1,
          1,
          3,
          1,
          1,
          1,
          1,
          2,
          2,
          3,
          1,
          3,
          1,
          3,
          1,
          1,
          1,
          1,
          1,
          2,
          1,
          3,
          1,
          1,
          4,
          1,
          3,
          2,
          1,
          1,
          3,
          1,
          1,
          2,
          1,
          2,
          2,
          2,
          1,
          2,
          2,
          3,
          1,
          1,
          1,
          2,
          4,
          1,
          2,
          1,
          1,
          3,
          1,
          1,
          1,
          2,
          1,
          2,
          2,
          0,
          2,
          1,
          2,
          2,
          2,
          2,
          2,
          2,
          1,
          2,
          1,
          1,
          3,
          1,
          1,
          1,
          2,
          1,
          1,
          1,
          1,
          1,
          1,
          1,
          1,
          2,
          1,
          1,
          2,
          4,
          1,
          2,
          1,
          2,
          1,
          1,
          2,
          1,
          1,
          2,
          2,
          2,
          1,
          1,
          2,
          4,
          4,
          3,
          2,
          1,
          2,
          4,
          2,
          2,
          2,
          1,
          1,
          2,
          2,
          2,
          3,
          4,
          3,
          1,
          3,
          3,
          1,
          1,
          4,
          3,
          3,
          3,
          2,
          2,
          1,
          3,
          3,
          2,
          3,
          1,
          3,
          1,
          3,
          3,
          1,
          1,
          3,
          1,
          1,
          1,
          2,
          2,
          3,
          2,
          1,
          2,
          2,
          2,
          1,
          1,
          2,
          1,
          3,
          1,
          1,
          2,
          1,
          2,
          3,
          1,
          1,
          4,
          2,
          4,
          3,
          1,
          2,
          2,
          3,
          1,
          3,
          1,
          3,
          1,
          3,
          2,
          2,
          3,
          1,
          1,
          2,
          1,
          2,
          2,
          3,
          1,
          1,
          2,
          1,
          1,
          2,
          4,
          3,
          1,
          2,
          2,
          2,
          3,
          3,
          2,
          1,
          3,
          4,
          4,
          2,
          1,
          2,
          1,
          2,
          3,
          1,
          1,
          3,
          1,
          3,
          2,
          1,
          2,
          2,
          2,
          1,
          1,
          1,
          1,
          1,
          1,
          1,
          3,
          1,
          2,
          3,
          1,
          2,
          3,
          1,
          2,
          3,
          2,
          1,
          1,
          2,
          3,
          1,
          2,
          1,
          3,
          2,
          1,
          3,
          1,
          3,
          3,
          1,
          1,
          3,
          2,
          3,
          1,
          1,
          3,
          3,
          3,
          3,
          1,
          3,
          3,
          1,
          1,
          2,
          1,
          3,
          2,
          2,
          2,
          2,
          1,
          1,
          3,
          1,
          1,
          3,
          1,
          1,
          1,
          1,
          4,
          4,
          3,
          2,
          1,
          1,
          2,
          3,
          1,
          2,
          1,
          1,
          1,
          3,
          2,
          2,
          3,
          2,
          1,
          3,
          3,
          3,
          1,
          3,
          3,
          1
         ]
        },
        {
         "boxpoints": false,
         "jitter": 0.3,
         "marker": {
          "color": "#7D826D"
         },
         "name": "I have felt scared or panicky for no good reason at all",
         "notched": true,
         "pointpos": -1.8,
         "type": "box",
         "x": [
          2,
          3,
          1,
          1,
          4,
          3,
          1,
          2,
          1,
          1,
          1,
          1,
          2,
          1,
          1,
          2,
          1,
          1,
          3,
          1,
          1,
          1,
          1,
          3,
          1,
          1,
          1,
          1,
          1,
          2,
          1,
          1,
          1,
          1,
          1,
          1,
          1,
          1,
          1,
          1,
          1,
          1,
          1,
          4,
          2,
          1,
          1,
          2,
          2,
          2,
          3,
          1,
          1,
          1,
          1,
          1,
          2,
          2,
          2,
          1,
          1,
          1,
          1,
          2,
          1,
          2,
          1,
          3,
          1,
          1,
          2,
          1,
          1,
          1,
          3,
          1,
          2,
          1,
          1,
          1,
          1,
          1,
          2,
          1,
          1,
          3,
          1,
          3,
          1,
          1,
          1,
          2,
          1,
          1,
          2,
          1,
          1,
          2,
          2,
          1,
          1,
          1,
          3,
          1,
          1,
          1,
          2,
          4,
          1,
          1,
          1,
          1,
          2,
          1,
          1,
          1,
          1,
          1,
          1,
          1,
          3,
          1,
          1,
          1,
          1,
          2,
          1,
          1,
          1,
          1,
          2,
          1,
          1,
          3,
          1,
          1,
          1,
          1,
          1,
          1,
          1,
          1,
          1,
          1,
          1,
          1,
          1,
          1,
          1,
          2,
          4,
          1,
          2,
          1,
          1,
          1,
          1,
          1,
          1,
          1,
          2,
          1,
          2,
          1,
          1,
          1,
          4,
          4,
          1,
          2,
          2,
          3,
          3,
          1,
          2,
          2,
          1,
          1,
          2,
          1,
          1,
          3,
          1,
          1,
          1,
          3,
          1,
          1,
          1,
          3,
          4,
          3,
          2,
          2,
          1,
          2,
          1,
          3,
          1,
          2,
          1,
          1,
          1,
          3,
          1,
          3,
          1,
          2,
          1,
          1,
          2,
          1,
          1,
          3,
          1,
          1,
          2,
          1,
          4,
          1,
          1,
          1,
          1,
          3,
          1,
          1,
          1,
          1,
          1,
          4,
          1,
          1,
          2,
          1,
          1,
          2,
          1,
          2,
          2,
          3,
          1,
          3,
          1,
          3,
          1,
          2,
          2,
          1,
          3,
          1,
          1,
          1,
          1,
          1,
          1,
          1,
          1,
          1,
          1,
          2,
          1,
          1,
          3,
          3,
          1,
          1,
          1,
          1,
          3,
          2,
          2,
          1,
          1,
          4,
          3,
          2,
          1,
          1,
          1,
          1,
          3,
          1,
          1,
          2,
          1,
          2,
          1,
          1,
          3,
          2,
          2,
          1,
          1,
          1,
          1,
          1,
          1,
          1,
          1,
          3,
          3,
          1,
          2,
          2,
          3,
          1,
          2,
          1,
          3,
          1,
          1,
          1,
          3,
          1,
          2,
          1,
          4,
          1,
          1,
          3,
          1,
          3,
          2,
          1,
          1,
          3,
          1,
          2,
          1,
          1,
          2,
          2,
          1,
          3,
          1,
          2,
          2,
          1,
          1,
          2,
          1,
          3,
          1,
          2,
          1,
          2,
          1,
          1,
          3,
          2,
          1,
          2,
          1,
          1,
          1,
          1,
          3,
          1,
          1,
          2,
          1,
          1,
          1,
          3,
          1,
          1,
          1,
          2,
          1,
          3,
          1,
          3,
          3,
          2,
          1,
          3,
          2,
          2,
          1,
          1,
          2,
          1
         ]
        },
        {
         "boxpoints": false,
         "jitter": 0.3,
         "marker": {
          "color": "#CAC9C7"
         },
         "name": "Things have been getting on top of me",
         "notched": true,
         "pointpos": -1.8,
         "type": "box",
         "x": [
          2,
          3,
          1,
          1,
          4,
          3,
          1,
          2,
          1,
          1,
          2,
          2,
          2,
          1,
          1,
          1,
          1,
          2,
          3,
          1,
          1,
          1,
          1,
          2,
          1,
          2,
          2,
          1,
          1,
          2,
          1,
          1,
          2,
          1,
          1,
          2,
          1,
          2,
          1,
          2,
          2,
          1,
          2,
          2,
          2,
          2,
          2,
          2,
          1,
          2,
          2,
          1,
          1,
          2,
          1,
          3,
          2,
          2,
          1,
          1,
          1,
          1,
          1,
          1,
          1,
          1,
          1,
          2,
          1,
          2,
          3,
          1,
          1,
          1,
          2,
          1,
          4,
          1,
          1,
          1,
          2,
          1,
          2,
          2,
          2,
          2,
          2,
          2,
          2,
          1,
          1,
          1,
          1,
          1,
          2,
          1,
          2,
          2,
          2,
          1,
          2,
          2,
          3,
          1,
          1,
          2,
          2,
          2,
          1,
          1,
          2,
          1,
          2,
          1,
          1,
          1,
          2,
          2,
          2,
          2,
          2,
          1,
          2,
          1,
          2,
          3,
          2,
          1,
          1,
          1,
          2,
          2,
          1,
          2,
          1,
          2,
          1,
          2,
          1,
          1,
          1,
          1,
          1,
          2,
          1,
          1,
          2,
          1,
          1,
          2,
          2,
          1,
          2,
          1,
          2,
          1,
          2,
          1,
          2,
          1,
          2,
          2,
          1,
          1,
          1,
          3,
          4,
          3,
          1,
          2,
          1,
          2,
          4,
          2,
          2,
          2,
          1,
          2,
          2,
          2,
          1,
          3,
          4,
          1,
          1,
          2,
          1,
          1,
          1,
          4,
          3,
          3,
          3,
          2,
          1,
          3,
          2,
          3,
          2,
          2,
          1,
          2,
          1,
          3,
          2,
          1,
          2,
          2,
          1,
          1,
          2,
          2,
          2,
          3,
          2,
          1,
          1,
          3,
          2,
          2,
          2,
          2,
          2,
          3,
          2,
          2,
          2,
          2,
          3,
          2,
          1,
          1,
          3,
          2,
          1,
          3,
          1,
          2,
          3,
          2,
          2,
          1,
          1,
          3,
          1,
          3,
          2,
          3,
          3,
          2,
          2,
          2,
          2,
          1,
          1,
          2,
          2,
          1,
          1,
          2,
          1,
          2,
          3,
          3,
          2,
          2,
          2,
          1,
          2,
          2,
          3,
          2,
          2,
          3,
          3,
          3,
          2,
          2,
          2,
          2,
          2,
          2,
          2,
          2,
          1,
          2,
          2,
          1,
          4,
          2,
          1,
          2,
          2,
          1,
          1,
          1,
          1,
          2,
          2,
          2,
          2,
          2,
          2,
          2,
          3,
          1,
          3,
          3,
          2,
          3,
          2,
          1,
          3,
          1,
          3,
          2,
          4,
          2,
          2,
          3,
          2,
          2,
          2,
          1,
          3,
          2,
          2,
          2,
          1,
          1,
          3,
          3,
          2,
          3,
          2,
          3,
          3,
          2,
          2,
          3,
          3,
          2,
          3,
          2,
          2,
          2,
          1,
          1,
          2,
          1,
          1,
          4,
          2,
          1,
          2,
          1,
          3,
          1,
          2,
          3,
          2,
          2,
          2,
          3,
          2,
          2,
          2,
          3,
          2,
          2,
          2,
          2,
          3,
          2,
          2,
          3,
          2,
          2,
          1,
          3,
          3,
          2
         ]
        },
        {
         "boxpoints": false,
         "jitter": 0.3,
         "marker": {
          "color": "#CAC9C7"
         },
         "name": "I have been so unhappy that I have had difficulty sleeping",
         "notched": true,
         "pointpos": -1.8,
         "type": "box",
         "x": [
          1,
          2,
          1,
          1,
          1,
          1,
          1,
          1,
          1,
          1,
          2,
          1,
          1,
          1,
          1,
          1,
          1,
          1,
          2,
          1,
          1,
          1,
          3,
          2,
          1,
          1,
          2,
          1,
          1,
          1,
          1,
          1,
          1,
          1,
          1,
          1,
          1,
          2,
          1,
          3,
          2,
          1,
          1,
          2,
          1,
          3,
          1,
          1,
          1,
          2,
          3,
          1,
          1,
          1,
          1,
          1,
          1,
          1,
          1,
          1,
          1,
          1,
          1,
          3,
          1,
          1,
          1,
          2,
          1,
          1,
          2,
          2,
          2,
          1,
          1,
          1,
          1,
          1,
          1,
          1,
          1,
          2,
          1,
          1,
          1,
          1,
          1,
          1,
          1,
          1,
          1,
          2,
          2,
          1,
          2,
          1,
          1,
          1,
          2,
          1,
          1,
          1,
          2,
          1,
          1,
          1,
          1,
          2,
          1,
          1,
          1,
          1,
          1,
          1,
          1,
          1,
          2,
          1,
          1,
          2,
          2,
          1,
          1,
          1,
          1,
          1,
          1,
          1,
          1,
          1,
          1,
          1,
          1,
          2,
          1,
          1,
          1,
          1,
          1,
          1,
          1,
          1,
          1,
          1,
          1,
          1,
          1,
          1,
          1,
          1,
          3,
          1,
          2,
          1,
          1,
          1,
          1,
          1,
          1,
          1,
          1,
          1,
          1,
          1,
          1,
          1,
          3,
          3,
          2,
          1,
          1,
          1,
          4,
          1,
          2,
          1,
          1,
          1,
          1,
          1,
          1,
          1,
          4,
          4,
          1,
          1,
          1,
          1,
          1,
          3,
          2,
          2,
          2,
          1,
          1,
          1,
          1,
          2,
          1,
          1,
          1,
          1,
          1,
          1,
          1,
          3,
          1,
          1,
          1,
          1,
          1,
          1,
          2,
          1,
          3,
          1,
          1,
          3,
          2,
          1,
          3,
          1,
          1,
          3,
          1,
          1,
          1,
          1,
          1,
          3,
          1,
          1,
          3,
          1,
          1,
          1,
          1,
          1,
          1,
          1,
          1,
          1,
          1,
          2,
          1,
          1,
          2,
          1,
          2,
          1,
          1,
          1,
          1,
          1,
          1,
          1,
          1,
          1,
          1,
          1,
          1,
          1,
          3,
          1,
          1,
          1,
          1,
          1,
          2,
          1,
          2,
          2,
          2,
          1,
          2,
          2,
          1,
          1,
          1,
          1,
          1,
          1,
          1,
          2,
          1,
          1,
          1,
          2,
          4,
          1,
          2,
          1,
          3,
          1,
          1,
          1,
          1,
          2,
          1,
          1,
          3,
          2,
          1,
          1,
          3,
          1,
          1,
          1,
          2,
          1,
          1,
          1,
          2,
          1,
          1,
          1,
          3,
          1,
          1,
          1,
          1,
          2,
          1,
          1,
          1,
          1,
          1,
          1,
          1,
          1,
          1,
          2,
          2,
          1,
          1,
          1,
          1,
          1,
          1,
          1,
          3,
          1,
          1,
          1,
          1,
          1,
          1,
          1,
          1,
          2,
          3,
          3,
          1,
          1,
          1,
          1,
          2,
          1,
          2,
          3,
          2,
          1,
          1,
          2,
          2,
          1,
          1,
          1,
          1,
          3,
          1,
          1,
          4,
          2,
          1,
          1,
          1,
          1,
          1,
          1,
          4,
          1
         ]
        },
        {
         "boxpoints": false,
         "jitter": 0.3,
         "marker": {
          "color": "#CAC9C7"
         },
         "name": "I have felt sad or miserable",
         "notched": true,
         "pointpos": -1.8,
         "type": "box",
         "x": [
          2,
          3,
          1,
          1,
          3,
          3,
          1,
          2,
          1,
          1,
          2,
          1,
          2,
          1,
          1,
          1,
          1,
          1,
          1,
          1,
          1,
          1,
          1,
          2,
          1,
          2,
          2,
          1,
          1,
          1,
          1,
          2,
          1,
          1,
          1,
          1,
          1,
          2,
          1,
          3,
          2,
          1,
          1,
          3,
          2,
          2,
          1,
          2,
          1,
          2,
          2,
          1,
          1,
          2,
          1,
          1,
          1,
          2,
          1,
          1,
          1,
          1,
          1,
          2,
          1,
          1,
          1,
          1,
          2,
          1,
          2,
          1,
          1,
          1,
          2,
          1,
          1,
          1,
          1,
          1,
          1,
          1,
          2,
          1,
          2,
          1,
          1,
          2,
          1,
          1,
          1,
          2,
          1,
          1,
          2,
          1,
          3,
          1,
          2,
          1,
          2,
          1,
          1,
          1,
          1,
          1,
          2,
          2,
          1,
          1,
          1,
          1,
          2,
          1,
          1,
          1,
          2,
          2,
          2,
          2,
          2,
          2,
          1,
          1,
          2,
          3,
          1,
          1,
          1,
          1,
          1,
          1,
          1,
          3,
          1,
          1,
          2,
          2,
          1,
          1,
          1,
          1,
          1,
          1,
          1,
          1,
          3,
          1,
          1,
          2,
          4,
          1,
          2,
          1,
          1,
          1,
          2,
          1,
          1,
          1,
          1,
          1,
          1,
          1,
          1,
          2,
          3,
          3,
          1,
          2,
          1,
          1,
          2,
          1,
          1,
          1,
          1,
          2,
          2,
          1,
          1,
          2,
          2,
          3,
          1,
          2,
          1,
          2,
          2,
          3,
          3,
          2,
          2,
          2,
          1,
          3,
          1,
          2,
          2,
          2,
          1,
          1,
          1,
          2,
          2,
          2,
          1,
          1,
          1,
          1,
          2,
          1,
          2,
          2,
          3,
          1,
          1,
          2,
          3,
          1,
          2,
          1,
          1,
          2,
          2,
          2,
          1,
          1,
          2,
          3,
          1,
          1,
          3,
          2,
          2,
          2,
          1,
          1,
          2,
          2,
          2,
          1,
          2,
          3,
          1,
          2,
          1,
          3,
          2,
          1,
          1,
          1,
          2,
          2,
          1,
          1,
          1,
          1,
          1,
          1,
          1,
          1,
          2,
          2,
          2,
          1,
          1,
          2,
          3,
          2,
          2,
          2,
          1,
          2,
          2,
          2,
          1,
          2,
          2,
          1,
          2,
          1,
          1,
          1,
          1,
          2,
          1,
          2,
          4,
          2,
          1,
          1,
          1,
          1,
          1,
          1,
          1,
          2,
          2,
          1,
          2,
          1,
          3,
          1,
          2,
          1,
          2,
          2,
          2,
          1,
          1,
          1,
          2,
          2,
          2,
          1,
          2,
          1,
          1,
          3,
          1,
          2,
          4,
          1,
          2,
          2,
          1,
          2,
          1,
          1,
          2,
          2,
          1,
          2,
          1,
          1,
          2,
          1,
          1,
          2,
          2,
          1,
          1,
          1,
          2,
          2,
          1,
          1,
          2,
          1,
          1,
          2,
          2,
          1,
          1,
          1,
          2,
          2,
          1,
          3,
          1,
          1,
          1,
          3,
          1,
          1,
          1,
          2,
          1,
          2,
          2,
          1,
          4,
          1,
          2,
          2,
          2,
          1,
          1,
          2,
          3,
          1
         ]
        },
        {
         "boxpoints": false,
         "jitter": 0.3,
         "marker": {
          "color": "#CAC9C7"
         },
         "name": "I have been so unhappy that I have been crying",
         "notched": true,
         "pointpos": -1.8,
         "type": "box",
         "x": [
          1,
          2,
          1,
          1,
          3,
          1,
          1,
          2,
          1,
          1,
          1,
          1,
          2,
          1,
          1,
          1,
          1,
          2,
          2,
          1,
          1,
          1,
          2,
          2,
          1,
          1,
          2,
          1,
          1,
          2,
          1,
          2,
          1,
          1,
          1,
          1,
          1,
          2,
          1,
          2,
          2,
          1,
          1,
          3,
          2,
          2,
          1,
          2,
          2,
          2,
          2,
          1,
          1,
          2,
          1,
          1,
          1,
          2,
          1,
          1,
          1,
          1,
          1,
          2,
          1,
          1,
          1,
          1,
          1,
          1,
          2,
          1,
          2,
          1,
          1,
          1,
          2,
          1,
          1,
          1,
          1,
          2,
          1,
          1,
          1,
          2,
          1,
          3,
          1,
          1,
          1,
          2,
          2,
          1,
          2,
          1,
          2,
          2,
          2,
          1,
          2,
          1,
          1,
          1,
          1,
          1,
          2,
          1,
          1,
          1,
          2,
          1,
          2,
          4,
          1,
          1,
          2,
          2,
          1,
          2,
          3,
          2,
          1,
          1,
          1,
          3,
          1,
          1,
          2,
          1,
          1,
          1,
          1,
          3,
          1,
          1,
          1,
          1,
          1,
          1,
          1,
          1,
          1,
          2,
          1,
          2,
          2,
          1,
          2,
          2,
          4,
          1,
          2,
          1,
          1,
          1,
          1,
          1,
          1,
          1,
          1,
          1,
          2,
          1,
          1,
          1,
          3,
          3,
          1,
          1,
          1,
          1,
          3,
          1,
          1,
          2,
          1,
          1,
          2,
          2,
          1,
          2,
          2,
          2,
          1,
          2,
          2,
          2,
          2,
          3,
          2,
          2,
          2,
          2,
          1,
          3,
          1,
          2,
          2,
          2,
          1,
          1,
          1,
          1,
          2,
          2,
          1,
          1,
          1,
          1,
          2,
          2,
          1,
          2,
          2,
          1,
          1,
          2,
          3,
          1,
          1,
          1,
          1,
          2,
          2,
          1,
          2,
          1,
          2,
          2,
          1,
          1,
          4,
          2,
          2,
          2,
          1,
          1,
          2,
          1,
          1,
          1,
          1,
          3,
          1,
          1,
          1,
          3,
          2,
          1,
          1,
          1,
          1,
          2,
          1,
          2,
          1,
          1,
          1,
          1,
          1,
          1,
          2,
          2,
          2,
          1,
          1,
          1,
          2,
          2,
          2,
          2,
          2,
          2,
          2,
          2,
          1,
          1,
          2,
          1,
          2,
          1,
          1,
          2,
          1,
          1,
          1,
          2,
          4,
          1,
          1,
          1,
          1,
          1,
          1,
          1,
          1,
          1,
          2,
          1,
          2,
          1,
          3,
          2,
          2,
          1,
          2,
          2,
          2,
          1,
          2,
          1,
          2,
          1,
          1,
          1,
          2,
          1,
          1,
          2,
          1,
          2,
          2,
          1,
          1,
          2,
          1,
          2,
          1,
          1,
          1,
          2,
          1,
          2,
          1,
          1,
          2,
          1,
          1,
          2,
          1,
          2,
          1,
          1,
          2,
          2,
          1,
          1,
          2,
          1,
          1,
          2,
          2,
          1,
          1,
          1,
          2,
          1,
          2,
          2,
          3,
          1,
          1,
          2,
          1,
          1,
          1,
          2,
          1,
          2,
          2,
          1,
          4,
          1,
          2,
          2,
          2,
          1,
          1,
          2,
          1,
          2
         ]
        },
        {
         "boxpoints": false,
         "jitter": 0.3,
         "marker": {
          "color": "#b7410e"
         },
         "name": "The thought of harming myself has occurred to me",
         "notched": true,
         "pointpos": -1.8,
         "type": "box",
         "x": [
          1,
          1,
          1,
          1,
          2,
          1,
          1,
          2,
          1,
          1,
          1,
          1,
          1,
          1,
          1,
          1,
          1,
          1,
          1,
          1,
          1,
          1,
          1,
          1,
          1,
          1,
          1,
          1,
          1,
          1,
          1,
          1,
          1,
          1,
          1,
          1,
          1,
          1,
          1,
          1,
          1,
          1,
          1,
          1,
          1,
          1,
          1,
          1,
          1,
          1,
          1,
          1,
          1,
          1,
          1,
          1,
          1,
          1,
          1,
          1,
          1,
          1,
          1,
          1,
          1,
          1,
          1,
          1,
          1,
          1,
          1,
          1,
          1,
          1,
          1,
          1,
          1,
          1,
          1,
          1,
          1,
          1,
          1,
          1,
          1,
          1,
          1,
          1,
          1,
          1,
          1,
          1,
          1,
          1,
          1,
          1,
          1,
          1,
          1,
          1,
          1,
          1,
          1,
          1,
          1,
          1,
          1,
          1,
          1,
          1,
          1,
          1,
          1,
          1,
          1,
          1,
          1,
          1,
          1,
          1,
          1,
          1,
          1,
          1,
          1,
          1,
          1,
          1,
          1,
          1,
          1,
          1,
          1,
          1,
          1,
          1,
          1,
          1,
          1,
          1,
          1,
          1,
          1,
          1,
          1,
          1,
          1,
          1,
          1,
          1,
          1,
          1,
          1,
          1,
          1,
          1,
          1,
          1,
          1,
          1,
          1,
          1,
          1,
          1,
          1,
          1,
          1,
          1,
          1,
          1,
          1,
          1,
          3,
          1,
          1,
          1,
          1,
          1,
          1,
          1,
          1,
          1,
          1,
          1,
          1,
          1,
          1,
          1,
          1,
          1,
          1,
          1,
          1,
          1,
          1,
          1,
          1,
          1,
          1,
          1,
          1,
          1,
          1,
          1,
          1,
          1,
          1,
          1,
          1,
          1,
          1,
          1,
          1,
          1,
          2,
          1,
          1,
          2,
          4,
          1,
          1,
          1,
          1,
          3,
          1,
          1,
          1,
          1,
          1,
          1,
          1,
          1,
          3,
          1,
          1,
          1,
          1,
          1,
          1,
          1,
          1,
          1,
          1,
          1,
          1,
          1,
          1,
          1,
          1,
          1,
          1,
          1,
          1,
          1,
          1,
          1,
          1,
          1,
          1,
          1,
          1,
          1,
          1,
          1,
          1,
          1,
          1,
          1,
          1,
          1,
          1,
          1,
          1,
          1,
          3,
          1,
          1,
          1,
          1,
          1,
          1,
          1,
          1,
          1,
          1,
          1,
          1,
          1,
          1,
          1,
          1,
          1,
          1,
          1,
          1,
          1,
          1,
          1,
          1,
          1,
          1,
          1,
          1,
          1,
          1,
          1,
          1,
          1,
          1,
          1,
          1,
          1,
          1,
          1,
          1,
          1,
          1,
          1,
          1,
          1,
          1,
          1,
          1,
          1,
          1,
          1,
          1,
          1,
          1,
          1,
          1,
          1,
          1,
          1,
          1,
          1,
          1,
          1,
          1,
          1,
          1,
          1,
          1,
          1,
          1,
          1,
          1,
          1,
          1,
          1,
          1,
          1,
          1,
          1,
          1,
          1,
          1,
          1,
          1,
          1,
          1,
          1,
          1,
          1,
          1,
          1,
          1,
          1,
          1,
          1,
          1,
          1,
          2,
          1,
          1,
          1,
          1,
          1,
          1,
          1,
          1,
          1
         ]
        }
       ],
       "layout": {
        "paper_bgcolor": "white",
        "plot_bgcolor": "#F6F8FC",
        "showlegend": false,
        "template": {
         "data": {
          "bar": [
           {
            "error_x": {
             "color": "#2a3f5f"
            },
            "error_y": {
             "color": "#2a3f5f"
            },
            "marker": {
             "line": {
              "color": "#E5ECF6",
              "width": 0.5
             },
             "pattern": {
              "fillmode": "overlay",
              "size": 10,
              "solidity": 0.2
             }
            },
            "type": "bar"
           }
          ],
          "barpolar": [
           {
            "marker": {
             "line": {
              "color": "#E5ECF6",
              "width": 0.5
             },
             "pattern": {
              "fillmode": "overlay",
              "size": 10,
              "solidity": 0.2
             }
            },
            "type": "barpolar"
           }
          ],
          "carpet": [
           {
            "aaxis": {
             "endlinecolor": "#2a3f5f",
             "gridcolor": "white",
             "linecolor": "white",
             "minorgridcolor": "white",
             "startlinecolor": "#2a3f5f"
            },
            "baxis": {
             "endlinecolor": "#2a3f5f",
             "gridcolor": "white",
             "linecolor": "white",
             "minorgridcolor": "white",
             "startlinecolor": "#2a3f5f"
            },
            "type": "carpet"
           }
          ],
          "choropleth": [
           {
            "colorbar": {
             "outlinewidth": 0,
             "ticks": ""
            },
            "type": "choropleth"
           }
          ],
          "contour": [
           {
            "colorbar": {
             "outlinewidth": 0,
             "ticks": ""
            },
            "colorscale": [
             [
              0,
              "#0d0887"
             ],
             [
              0.1111111111111111,
              "#46039f"
             ],
             [
              0.2222222222222222,
              "#7201a8"
             ],
             [
              0.3333333333333333,
              "#9c179e"
             ],
             [
              0.4444444444444444,
              "#bd3786"
             ],
             [
              0.5555555555555556,
              "#d8576b"
             ],
             [
              0.6666666666666666,
              "#ed7953"
             ],
             [
              0.7777777777777778,
              "#fb9f3a"
             ],
             [
              0.8888888888888888,
              "#fdca26"
             ],
             [
              1,
              "#f0f921"
             ]
            ],
            "type": "contour"
           }
          ],
          "contourcarpet": [
           {
            "colorbar": {
             "outlinewidth": 0,
             "ticks": ""
            },
            "type": "contourcarpet"
           }
          ],
          "heatmap": [
           {
            "colorbar": {
             "outlinewidth": 0,
             "ticks": ""
            },
            "colorscale": [
             [
              0,
              "#0d0887"
             ],
             [
              0.1111111111111111,
              "#46039f"
             ],
             [
              0.2222222222222222,
              "#7201a8"
             ],
             [
              0.3333333333333333,
              "#9c179e"
             ],
             [
              0.4444444444444444,
              "#bd3786"
             ],
             [
              0.5555555555555556,
              "#d8576b"
             ],
             [
              0.6666666666666666,
              "#ed7953"
             ],
             [
              0.7777777777777778,
              "#fb9f3a"
             ],
             [
              0.8888888888888888,
              "#fdca26"
             ],
             [
              1,
              "#f0f921"
             ]
            ],
            "type": "heatmap"
           }
          ],
          "heatmapgl": [
           {
            "colorbar": {
             "outlinewidth": 0,
             "ticks": ""
            },
            "colorscale": [
             [
              0,
              "#0d0887"
             ],
             [
              0.1111111111111111,
              "#46039f"
             ],
             [
              0.2222222222222222,
              "#7201a8"
             ],
             [
              0.3333333333333333,
              "#9c179e"
             ],
             [
              0.4444444444444444,
              "#bd3786"
             ],
             [
              0.5555555555555556,
              "#d8576b"
             ],
             [
              0.6666666666666666,
              "#ed7953"
             ],
             [
              0.7777777777777778,
              "#fb9f3a"
             ],
             [
              0.8888888888888888,
              "#fdca26"
             ],
             [
              1,
              "#f0f921"
             ]
            ],
            "type": "heatmapgl"
           }
          ],
          "histogram": [
           {
            "marker": {
             "pattern": {
              "fillmode": "overlay",
              "size": 10,
              "solidity": 0.2
             }
            },
            "type": "histogram"
           }
          ],
          "histogram2d": [
           {
            "colorbar": {
             "outlinewidth": 0,
             "ticks": ""
            },
            "colorscale": [
             [
              0,
              "#0d0887"
             ],
             [
              0.1111111111111111,
              "#46039f"
             ],
             [
              0.2222222222222222,
              "#7201a8"
             ],
             [
              0.3333333333333333,
              "#9c179e"
             ],
             [
              0.4444444444444444,
              "#bd3786"
             ],
             [
              0.5555555555555556,
              "#d8576b"
             ],
             [
              0.6666666666666666,
              "#ed7953"
             ],
             [
              0.7777777777777778,
              "#fb9f3a"
             ],
             [
              0.8888888888888888,
              "#fdca26"
             ],
             [
              1,
              "#f0f921"
             ]
            ],
            "type": "histogram2d"
           }
          ],
          "histogram2dcontour": [
           {
            "colorbar": {
             "outlinewidth": 0,
             "ticks": ""
            },
            "colorscale": [
             [
              0,
              "#0d0887"
             ],
             [
              0.1111111111111111,
              "#46039f"
             ],
             [
              0.2222222222222222,
              "#7201a8"
             ],
             [
              0.3333333333333333,
              "#9c179e"
             ],
             [
              0.4444444444444444,
              "#bd3786"
             ],
             [
              0.5555555555555556,
              "#d8576b"
             ],
             [
              0.6666666666666666,
              "#ed7953"
             ],
             [
              0.7777777777777778,
              "#fb9f3a"
             ],
             [
              0.8888888888888888,
              "#fdca26"
             ],
             [
              1,
              "#f0f921"
             ]
            ],
            "type": "histogram2dcontour"
           }
          ],
          "mesh3d": [
           {
            "colorbar": {
             "outlinewidth": 0,
             "ticks": ""
            },
            "type": "mesh3d"
           }
          ],
          "parcoords": [
           {
            "line": {
             "colorbar": {
              "outlinewidth": 0,
              "ticks": ""
             }
            },
            "type": "parcoords"
           }
          ],
          "pie": [
           {
            "automargin": true,
            "type": "pie"
           }
          ],
          "scatter": [
           {
            "fillpattern": {
             "fillmode": "overlay",
             "size": 10,
             "solidity": 0.2
            },
            "type": "scatter"
           }
          ],
          "scatter3d": [
           {
            "line": {
             "colorbar": {
              "outlinewidth": 0,
              "ticks": ""
             }
            },
            "marker": {
             "colorbar": {
              "outlinewidth": 0,
              "ticks": ""
             }
            },
            "type": "scatter3d"
           }
          ],
          "scattercarpet": [
           {
            "marker": {
             "colorbar": {
              "outlinewidth": 0,
              "ticks": ""
             }
            },
            "type": "scattercarpet"
           }
          ],
          "scattergeo": [
           {
            "marker": {
             "colorbar": {
              "outlinewidth": 0,
              "ticks": ""
             }
            },
            "type": "scattergeo"
           }
          ],
          "scattergl": [
           {
            "marker": {
             "colorbar": {
              "outlinewidth": 0,
              "ticks": ""
             }
            },
            "type": "scattergl"
           }
          ],
          "scattermapbox": [
           {
            "marker": {
             "colorbar": {
              "outlinewidth": 0,
              "ticks": ""
             }
            },
            "type": "scattermapbox"
           }
          ],
          "scatterpolar": [
           {
            "marker": {
             "colorbar": {
              "outlinewidth": 0,
              "ticks": ""
             }
            },
            "type": "scatterpolar"
           }
          ],
          "scatterpolargl": [
           {
            "marker": {
             "colorbar": {
              "outlinewidth": 0,
              "ticks": ""
             }
            },
            "type": "scatterpolargl"
           }
          ],
          "scatterternary": [
           {
            "marker": {
             "colorbar": {
              "outlinewidth": 0,
              "ticks": ""
             }
            },
            "type": "scatterternary"
           }
          ],
          "surface": [
           {
            "colorbar": {
             "outlinewidth": 0,
             "ticks": ""
            },
            "colorscale": [
             [
              0,
              "#0d0887"
             ],
             [
              0.1111111111111111,
              "#46039f"
             ],
             [
              0.2222222222222222,
              "#7201a8"
             ],
             [
              0.3333333333333333,
              "#9c179e"
             ],
             [
              0.4444444444444444,
              "#bd3786"
             ],
             [
              0.5555555555555556,
              "#d8576b"
             ],
             [
              0.6666666666666666,
              "#ed7953"
             ],
             [
              0.7777777777777778,
              "#fb9f3a"
             ],
             [
              0.8888888888888888,
              "#fdca26"
             ],
             [
              1,
              "#f0f921"
             ]
            ],
            "type": "surface"
           }
          ],
          "table": [
           {
            "cells": {
             "fill": {
              "color": "#EBF0F8"
             },
             "line": {
              "color": "white"
             }
            },
            "header": {
             "fill": {
              "color": "#C8D4E3"
             },
             "line": {
              "color": "white"
             }
            },
            "type": "table"
           }
          ]
         },
         "layout": {
          "annotationdefaults": {
           "arrowcolor": "#2a3f5f",
           "arrowhead": 0,
           "arrowwidth": 1
          },
          "autotypenumbers": "strict",
          "coloraxis": {
           "colorbar": {
            "outlinewidth": 0,
            "ticks": ""
           }
          },
          "colorscale": {
           "diverging": [
            [
             0,
             "#8e0152"
            ],
            [
             0.1,
             "#c51b7d"
            ],
            [
             0.2,
             "#de77ae"
            ],
            [
             0.3,
             "#f1b6da"
            ],
            [
             0.4,
             "#fde0ef"
            ],
            [
             0.5,
             "#f7f7f7"
            ],
            [
             0.6,
             "#e6f5d0"
            ],
            [
             0.7,
             "#b8e186"
            ],
            [
             0.8,
             "#7fbc41"
            ],
            [
             0.9,
             "#4d9221"
            ],
            [
             1,
             "#276419"
            ]
           ],
           "sequential": [
            [
             0,
             "#0d0887"
            ],
            [
             0.1111111111111111,
             "#46039f"
            ],
            [
             0.2222222222222222,
             "#7201a8"
            ],
            [
             0.3333333333333333,
             "#9c179e"
            ],
            [
             0.4444444444444444,
             "#bd3786"
            ],
            [
             0.5555555555555556,
             "#d8576b"
            ],
            [
             0.6666666666666666,
             "#ed7953"
            ],
            [
             0.7777777777777778,
             "#fb9f3a"
            ],
            [
             0.8888888888888888,
             "#fdca26"
            ],
            [
             1,
             "#f0f921"
            ]
           ],
           "sequentialminus": [
            [
             0,
             "#0d0887"
            ],
            [
             0.1111111111111111,
             "#46039f"
            ],
            [
             0.2222222222222222,
             "#7201a8"
            ],
            [
             0.3333333333333333,
             "#9c179e"
            ],
            [
             0.4444444444444444,
             "#bd3786"
            ],
            [
             0.5555555555555556,
             "#d8576b"
            ],
            [
             0.6666666666666666,
             "#ed7953"
            ],
            [
             0.7777777777777778,
             "#fb9f3a"
            ],
            [
             0.8888888888888888,
             "#fdca26"
            ],
            [
             1,
             "#f0f921"
            ]
           ]
          },
          "colorway": [
           "#636efa",
           "#EF553B",
           "#00cc96",
           "#ab63fa",
           "#FFA15A",
           "#19d3f3",
           "#FF6692",
           "#B6E880",
           "#FF97FF",
           "#FECB52"
          ],
          "font": {
           "color": "#2a3f5f"
          },
          "geo": {
           "bgcolor": "white",
           "lakecolor": "white",
           "landcolor": "#E5ECF6",
           "showlakes": true,
           "showland": true,
           "subunitcolor": "white"
          },
          "hoverlabel": {
           "align": "left"
          },
          "hovermode": "closest",
          "mapbox": {
           "style": "light"
          },
          "paper_bgcolor": "white",
          "plot_bgcolor": "#E5ECF6",
          "polar": {
           "angularaxis": {
            "gridcolor": "white",
            "linecolor": "white",
            "ticks": ""
           },
           "bgcolor": "#E5ECF6",
           "radialaxis": {
            "gridcolor": "white",
            "linecolor": "white",
            "ticks": ""
           }
          },
          "scene": {
           "xaxis": {
            "backgroundcolor": "#E5ECF6",
            "gridcolor": "white",
            "gridwidth": 2,
            "linecolor": "white",
            "showbackground": true,
            "ticks": "",
            "zerolinecolor": "white"
           },
           "yaxis": {
            "backgroundcolor": "#E5ECF6",
            "gridcolor": "white",
            "gridwidth": 2,
            "linecolor": "white",
            "showbackground": true,
            "ticks": "",
            "zerolinecolor": "white"
           },
           "zaxis": {
            "backgroundcolor": "#E5ECF6",
            "gridcolor": "white",
            "gridwidth": 2,
            "linecolor": "white",
            "showbackground": true,
            "ticks": "",
            "zerolinecolor": "white"
           }
          },
          "shapedefaults": {
           "line": {
            "color": "#2a3f5f"
           }
          },
          "ternary": {
           "aaxis": {
            "gridcolor": "white",
            "linecolor": "white",
            "ticks": ""
           },
           "baxis": {
            "gridcolor": "white",
            "linecolor": "white",
            "ticks": ""
           },
           "bgcolor": "#E5ECF6",
           "caxis": {
            "gridcolor": "white",
            "linecolor": "white",
            "ticks": ""
           }
          },
          "title": {
           "x": 0.05
          },
          "xaxis": {
           "automargin": true,
           "gridcolor": "white",
           "linecolor": "white",
           "ticks": "",
           "title": {
            "standoff": 15
           },
           "zerolinecolor": "white",
           "zerolinewidth": 2
          },
          "yaxis": {
           "automargin": true,
           "gridcolor": "white",
           "linecolor": "white",
           "ticks": "",
           "title": {
            "standoff": 15
           },
           "zerolinecolor": "white",
           "zerolinewidth": 2
          }
         }
        },
        "title": {
         "text": "EPDS Scores<br><sup><i>(n=382)</i></sup>",
         "x": 0,
         "xref": "paper"
        },
        "xaxis": {
         "gridcolor": "lightgrey",
         "title": {
          "text": "EPDS<br><sup><i>score</i></sup>"
         }
        }
       }
      }
     },
     "metadata": {},
     "output_type": "display_data"
    }
   ],
   "source": [
    "%autoreload 2\n",
    "ma.disease_postpartumdepress()"
   ]
  },
  {
   "cell_type": "code",
   "execution_count": 28,
   "metadata": {},
   "outputs": [],
   "source": [
    "ma.make_readme()"
   ]
  }
 ],
 "metadata": {
  "kernelspec": {
   "display_name": ".env",
   "language": "python",
   "name": "python3"
  },
  "language_info": {
   "codemirror_mode": {
    "name": "ipython",
    "version": 3
   },
   "file_extension": ".py",
   "mimetype": "text/x-python",
   "name": "python",
   "nbconvert_exporter": "python",
   "pygments_lexer": "ipython3",
   "version": "3.11.2"
  }
 },
 "nbformat": 4,
 "nbformat_minor": 2
}
