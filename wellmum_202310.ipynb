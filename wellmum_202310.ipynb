{
 "cells": [
  {
   "cell_type": "code",
   "execution_count": 14,
   "metadata": {},
   "outputs": [
    {
     "name": "stdout",
     "output_type": "stream",
     "text": [
      "The autoreload extension is already loaded. To reload it, use:\n",
      "  %reload_ext autoreload\n",
      "Data consits of 200 rows after cleaning. \n",
      "        * 196 rows have been excluded.\n",
      "            \n",
      "        Id  Age Gravidity Parity    BMI  Weight  Creatinine  HbA1C   ACR  \\\n",
      "0    WM001   34         2      1  24.80    59.7        69.0   37.0   7.4   \n",
      "1    WM002   44         6      1  22.31    66.0        66.0   39.0   9.3   \n",
      "2    WM003   30         1      1  22.70    58.2        63.0   40.0  91.3   \n",
      "3    WM005   36         3      3  28.20    76.8        59.0   37.0   6.6   \n",
      "4    WM006   37         3      2  25.50    63.6        59.0   39.0     0   \n",
      "..     ...  ...       ...    ...    ...     ...         ...    ...   ...   \n",
      "195  WM277   32         3      3  31.30    88.4        80.0   43.0   1.5   \n",
      "196  WM279   41         2      1  34.50   105.6        86.0   39.0   0.5   \n",
      "197  WM284   38         1      1  22.40    72.8        56.0   33.0     1   \n",
      "198  WM285   45         4      2  21.10    59.6        64.0   36.0   0.7   \n",
      "199  WM288   33         1      1  27.00    71.8        57.0   38.0   0.7   \n",
      "\n",
      "    GDMControl  ... RandomGlucose        eGFR  ALT  MUAC   Hb  \\\n",
      "0    Metformin  ...           3.5   98.640943  NaN    30  132   \n",
      "1      Insulin  ...           4.6   97.026336  NaN    27   70   \n",
      "2    Metformin  ...           4.4  131.253074  NaN    28  139   \n",
      "3    Metformin  ...           4.8  112.599563  NaN    32  141   \n",
      "4      Insulin  ...           5.3  111.811366  NaN    31  124   \n",
      "..         ...  ...           ...         ...  ...   ...  ...   \n",
      "195       Diet  ...           3.7   96.956049   25    30  117   \n",
      "196       Diet  ...           4.5   71.955149   53    35  144   \n",
      "197  Metformin  ...           3.7  112.951409   33  27.5  134   \n",
      "198    Insulin  ...           4.7   99.999059   72    26  137   \n",
      "199  Metformin  ...           4.2  116.309837   21    27  128   \n",
      "\n",
      "                    MDOB Breastfeeding  EPDS  Systolic  Diastolic  \n",
      "0    1988-08-10 00:00:00           YES   7.0    106.75      68.75  \n",
      "1    1978-05-30 00:00:00           YES  15.0    100.25      74.75  \n",
      "2    1992-05-18 00:00:00           YES   3.0    116.00      82.00  \n",
      "3    1986-06-12 00:00:00           YES  20.0    135.50      90.25  \n",
      "4    1986-02-11 00:00:00            NO  14.0    116.50      79.00  \n",
      "..                   ...           ...   ...       ...        ...  \n",
      "195  1990-12-11 00:00:00           YES   6.0    124.75      72.00  \n",
      "196  1982-01-06 00:00:00            NO   5.0    125.75      80.50  \n",
      "197  1984-10-15 00:00:00           YES  16.0    117.50      81.00  \n",
      "198  1978-06-07 00:00:00           YES   0.0    106.25      71.00  \n",
      "199  1990-04-12 00:00:00           YES   5.0    105.00      70.50  \n",
      "\n",
      "[200 rows x 21 columns]\n"
     ]
    }
   ],
   "source": [
    "# OPTIONAL: Load the \"autoreload\" extension so that code can change\n",
    "%load_ext autoreload\n",
    "\n",
    "# OPTIONAL: always reload modules so that as you change code in src, it gets loaded\n",
    "%autoreload 2\n",
    "\n",
    "import plotly.graph_objs as go\n",
    "\n",
    "import numpy as np\n",
    "\n",
    "from src.features import make_feature\n",
    "from src.data import get_data\n",
    "\n",
    "mc = make_feature.MakeCharts()\n",
    "ma = make_feature.MakeAnalysis()\n",
    "gd = get_data.GetDataTemplate()\n",
    "\n",
    "df = gd.get_excel_WELLMUM()\n",
    "df.to_excel('eGFR.xlsx')\n",
    "print(df)"
   ]
  },
  {
   "cell_type": "code",
   "execution_count": 15,
   "metadata": {},
   "outputs": [
    {
     "name": "stdout",
     "output_type": "stream",
     "text": [
      "Data consits of 200 rows after cleaning. \n",
      "        * 196 rows have been excluded.\n",
      "            \n"
     ]
    },
    {
     "data": {
      "application/vnd.plotly.v1+json": {
       "config": {
        "plotlyServerURL": "https://plot.ly"
       },
       "data": [
        {
         "marker": {
          "color": "#604b62"
         },
         "name": "WHITE",
         "text": [
          "20.5",
          "17.0",
          "3.5"
         ],
         "type": "bar",
         "x": [
          "< 35",
          "35 - 40",
          "40 - 45"
         ],
         "y": [
          20.5,
          17,
          3.5
         ]
        },
        {
         "marker": {
          "color": "#957897"
         },
         "name": "SOUTH ASIAN",
         "text": [
          "7.0",
          "5.5",
          "0.5"
         ],
         "type": "bar",
         "x": [
          "< 35",
          "35 - 40",
          "40 - 45"
         ],
         "y": [
          7,
          5.5,
          0.5
         ]
        },
        {
         "marker": {
          "color": "#9d83a0"
         },
         "name": "MIXED",
         "text": [
          "2.5",
          "1.5",
          "1.0"
         ],
         "type": "bar",
         "x": [
          "< 35",
          "35 - 40",
          "40 - 45"
         ],
         "y": [
          2.5,
          1.5,
          1
         ]
        },
        {
         "marker": {
          "color": "#a68ea8"
         },
         "name": "EAST ASIAN",
         "text": [
          "1.5",
          "4.0",
          "2.0",
          "0.5"
         ],
         "type": "bar",
         "x": [
          "< 35",
          "35 - 40",
          "40 - 45",
          "> 45"
         ],
         "y": [
          1.5,
          4,
          2,
          0.5
         ]
        },
        {
         "marker": {
          "color": "#af99b1"
         },
         "name": "BLACK",
         "text": [
          "9.5",
          "8.5",
          "1.5",
          "0.5"
         ],
         "type": "bar",
         "x": [
          "< 35",
          "35 - 40",
          "40 - 45",
          "> 45"
         ],
         "y": [
          9.5,
          8.5,
          1.5,
          0.5
         ]
        },
        {
         "marker": {
          "color": "#b8a4b9"
         },
         "name": "ASIAN",
         "text": [
          "0.5"
         ],
         "type": "bar",
         "x": [
          "< 35"
         ],
         "y": [
          0.5
         ]
        }
       ],
       "layout": {
        "barmode": "stack",
        "paper_bgcolor": "white",
        "plot_bgcolor": "#F6F8FC",
        "template": {
         "data": {
          "bar": [
           {
            "error_x": {
             "color": "#2a3f5f"
            },
            "error_y": {
             "color": "#2a3f5f"
            },
            "marker": {
             "line": {
              "color": "#E5ECF6",
              "width": 0.5
             },
             "pattern": {
              "fillmode": "overlay",
              "size": 10,
              "solidity": 0.2
             }
            },
            "type": "bar"
           }
          ],
          "barpolar": [
           {
            "marker": {
             "line": {
              "color": "#E5ECF6",
              "width": 0.5
             },
             "pattern": {
              "fillmode": "overlay",
              "size": 10,
              "solidity": 0.2
             }
            },
            "type": "barpolar"
           }
          ],
          "carpet": [
           {
            "aaxis": {
             "endlinecolor": "#2a3f5f",
             "gridcolor": "white",
             "linecolor": "white",
             "minorgridcolor": "white",
             "startlinecolor": "#2a3f5f"
            },
            "baxis": {
             "endlinecolor": "#2a3f5f",
             "gridcolor": "white",
             "linecolor": "white",
             "minorgridcolor": "white",
             "startlinecolor": "#2a3f5f"
            },
            "type": "carpet"
           }
          ],
          "choropleth": [
           {
            "colorbar": {
             "outlinewidth": 0,
             "ticks": ""
            },
            "type": "choropleth"
           }
          ],
          "contour": [
           {
            "colorbar": {
             "outlinewidth": 0,
             "ticks": ""
            },
            "colorscale": [
             [
              0,
              "#0d0887"
             ],
             [
              0.1111111111111111,
              "#46039f"
             ],
             [
              0.2222222222222222,
              "#7201a8"
             ],
             [
              0.3333333333333333,
              "#9c179e"
             ],
             [
              0.4444444444444444,
              "#bd3786"
             ],
             [
              0.5555555555555556,
              "#d8576b"
             ],
             [
              0.6666666666666666,
              "#ed7953"
             ],
             [
              0.7777777777777778,
              "#fb9f3a"
             ],
             [
              0.8888888888888888,
              "#fdca26"
             ],
             [
              1,
              "#f0f921"
             ]
            ],
            "type": "contour"
           }
          ],
          "contourcarpet": [
           {
            "colorbar": {
             "outlinewidth": 0,
             "ticks": ""
            },
            "type": "contourcarpet"
           }
          ],
          "heatmap": [
           {
            "colorbar": {
             "outlinewidth": 0,
             "ticks": ""
            },
            "colorscale": [
             [
              0,
              "#0d0887"
             ],
             [
              0.1111111111111111,
              "#46039f"
             ],
             [
              0.2222222222222222,
              "#7201a8"
             ],
             [
              0.3333333333333333,
              "#9c179e"
             ],
             [
              0.4444444444444444,
              "#bd3786"
             ],
             [
              0.5555555555555556,
              "#d8576b"
             ],
             [
              0.6666666666666666,
              "#ed7953"
             ],
             [
              0.7777777777777778,
              "#fb9f3a"
             ],
             [
              0.8888888888888888,
              "#fdca26"
             ],
             [
              1,
              "#f0f921"
             ]
            ],
            "type": "heatmap"
           }
          ],
          "heatmapgl": [
           {
            "colorbar": {
             "outlinewidth": 0,
             "ticks": ""
            },
            "colorscale": [
             [
              0,
              "#0d0887"
             ],
             [
              0.1111111111111111,
              "#46039f"
             ],
             [
              0.2222222222222222,
              "#7201a8"
             ],
             [
              0.3333333333333333,
              "#9c179e"
             ],
             [
              0.4444444444444444,
              "#bd3786"
             ],
             [
              0.5555555555555556,
              "#d8576b"
             ],
             [
              0.6666666666666666,
              "#ed7953"
             ],
             [
              0.7777777777777778,
              "#fb9f3a"
             ],
             [
              0.8888888888888888,
              "#fdca26"
             ],
             [
              1,
              "#f0f921"
             ]
            ],
            "type": "heatmapgl"
           }
          ],
          "histogram": [
           {
            "marker": {
             "pattern": {
              "fillmode": "overlay",
              "size": 10,
              "solidity": 0.2
             }
            },
            "type": "histogram"
           }
          ],
          "histogram2d": [
           {
            "colorbar": {
             "outlinewidth": 0,
             "ticks": ""
            },
            "colorscale": [
             [
              0,
              "#0d0887"
             ],
             [
              0.1111111111111111,
              "#46039f"
             ],
             [
              0.2222222222222222,
              "#7201a8"
             ],
             [
              0.3333333333333333,
              "#9c179e"
             ],
             [
              0.4444444444444444,
              "#bd3786"
             ],
             [
              0.5555555555555556,
              "#d8576b"
             ],
             [
              0.6666666666666666,
              "#ed7953"
             ],
             [
              0.7777777777777778,
              "#fb9f3a"
             ],
             [
              0.8888888888888888,
              "#fdca26"
             ],
             [
              1,
              "#f0f921"
             ]
            ],
            "type": "histogram2d"
           }
          ],
          "histogram2dcontour": [
           {
            "colorbar": {
             "outlinewidth": 0,
             "ticks": ""
            },
            "colorscale": [
             [
              0,
              "#0d0887"
             ],
             [
              0.1111111111111111,
              "#46039f"
             ],
             [
              0.2222222222222222,
              "#7201a8"
             ],
             [
              0.3333333333333333,
              "#9c179e"
             ],
             [
              0.4444444444444444,
              "#bd3786"
             ],
             [
              0.5555555555555556,
              "#d8576b"
             ],
             [
              0.6666666666666666,
              "#ed7953"
             ],
             [
              0.7777777777777778,
              "#fb9f3a"
             ],
             [
              0.8888888888888888,
              "#fdca26"
             ],
             [
              1,
              "#f0f921"
             ]
            ],
            "type": "histogram2dcontour"
           }
          ],
          "mesh3d": [
           {
            "colorbar": {
             "outlinewidth": 0,
             "ticks": ""
            },
            "type": "mesh3d"
           }
          ],
          "parcoords": [
           {
            "line": {
             "colorbar": {
              "outlinewidth": 0,
              "ticks": ""
             }
            },
            "type": "parcoords"
           }
          ],
          "pie": [
           {
            "automargin": true,
            "type": "pie"
           }
          ],
          "scatter": [
           {
            "fillpattern": {
             "fillmode": "overlay",
             "size": 10,
             "solidity": 0.2
            },
            "type": "scatter"
           }
          ],
          "scatter3d": [
           {
            "line": {
             "colorbar": {
              "outlinewidth": 0,
              "ticks": ""
             }
            },
            "marker": {
             "colorbar": {
              "outlinewidth": 0,
              "ticks": ""
             }
            },
            "type": "scatter3d"
           }
          ],
          "scattercarpet": [
           {
            "marker": {
             "colorbar": {
              "outlinewidth": 0,
              "ticks": ""
             }
            },
            "type": "scattercarpet"
           }
          ],
          "scattergeo": [
           {
            "marker": {
             "colorbar": {
              "outlinewidth": 0,
              "ticks": ""
             }
            },
            "type": "scattergeo"
           }
          ],
          "scattergl": [
           {
            "marker": {
             "colorbar": {
              "outlinewidth": 0,
              "ticks": ""
             }
            },
            "type": "scattergl"
           }
          ],
          "scattermapbox": [
           {
            "marker": {
             "colorbar": {
              "outlinewidth": 0,
              "ticks": ""
             }
            },
            "type": "scattermapbox"
           }
          ],
          "scatterpolar": [
           {
            "marker": {
             "colorbar": {
              "outlinewidth": 0,
              "ticks": ""
             }
            },
            "type": "scatterpolar"
           }
          ],
          "scatterpolargl": [
           {
            "marker": {
             "colorbar": {
              "outlinewidth": 0,
              "ticks": ""
             }
            },
            "type": "scatterpolargl"
           }
          ],
          "scatterternary": [
           {
            "marker": {
             "colorbar": {
              "outlinewidth": 0,
              "ticks": ""
             }
            },
            "type": "scatterternary"
           }
          ],
          "surface": [
           {
            "colorbar": {
             "outlinewidth": 0,
             "ticks": ""
            },
            "colorscale": [
             [
              0,
              "#0d0887"
             ],
             [
              0.1111111111111111,
              "#46039f"
             ],
             [
              0.2222222222222222,
              "#7201a8"
             ],
             [
              0.3333333333333333,
              "#9c179e"
             ],
             [
              0.4444444444444444,
              "#bd3786"
             ],
             [
              0.5555555555555556,
              "#d8576b"
             ],
             [
              0.6666666666666666,
              "#ed7953"
             ],
             [
              0.7777777777777778,
              "#fb9f3a"
             ],
             [
              0.8888888888888888,
              "#fdca26"
             ],
             [
              1,
              "#f0f921"
             ]
            ],
            "type": "surface"
           }
          ],
          "table": [
           {
            "cells": {
             "fill": {
              "color": "#EBF0F8"
             },
             "line": {
              "color": "white"
             }
            },
            "header": {
             "fill": {
              "color": "#C8D4E3"
             },
             "line": {
              "color": "white"
             }
            },
            "type": "table"
           }
          ]
         },
         "layout": {
          "annotationdefaults": {
           "arrowcolor": "#2a3f5f",
           "arrowhead": 0,
           "arrowwidth": 1
          },
          "autotypenumbers": "strict",
          "coloraxis": {
           "colorbar": {
            "outlinewidth": 0,
            "ticks": ""
           }
          },
          "colorscale": {
           "diverging": [
            [
             0,
             "#8e0152"
            ],
            [
             0.1,
             "#c51b7d"
            ],
            [
             0.2,
             "#de77ae"
            ],
            [
             0.3,
             "#f1b6da"
            ],
            [
             0.4,
             "#fde0ef"
            ],
            [
             0.5,
             "#f7f7f7"
            ],
            [
             0.6,
             "#e6f5d0"
            ],
            [
             0.7,
             "#b8e186"
            ],
            [
             0.8,
             "#7fbc41"
            ],
            [
             0.9,
             "#4d9221"
            ],
            [
             1,
             "#276419"
            ]
           ],
           "sequential": [
            [
             0,
             "#0d0887"
            ],
            [
             0.1111111111111111,
             "#46039f"
            ],
            [
             0.2222222222222222,
             "#7201a8"
            ],
            [
             0.3333333333333333,
             "#9c179e"
            ],
            [
             0.4444444444444444,
             "#bd3786"
            ],
            [
             0.5555555555555556,
             "#d8576b"
            ],
            [
             0.6666666666666666,
             "#ed7953"
            ],
            [
             0.7777777777777778,
             "#fb9f3a"
            ],
            [
             0.8888888888888888,
             "#fdca26"
            ],
            [
             1,
             "#f0f921"
            ]
           ],
           "sequentialminus": [
            [
             0,
             "#0d0887"
            ],
            [
             0.1111111111111111,
             "#46039f"
            ],
            [
             0.2222222222222222,
             "#7201a8"
            ],
            [
             0.3333333333333333,
             "#9c179e"
            ],
            [
             0.4444444444444444,
             "#bd3786"
            ],
            [
             0.5555555555555556,
             "#d8576b"
            ],
            [
             0.6666666666666666,
             "#ed7953"
            ],
            [
             0.7777777777777778,
             "#fb9f3a"
            ],
            [
             0.8888888888888888,
             "#fdca26"
            ],
            [
             1,
             "#f0f921"
            ]
           ]
          },
          "colorway": [
           "#636efa",
           "#EF553B",
           "#00cc96",
           "#ab63fa",
           "#FFA15A",
           "#19d3f3",
           "#FF6692",
           "#B6E880",
           "#FF97FF",
           "#FECB52"
          ],
          "font": {
           "color": "#2a3f5f"
          },
          "geo": {
           "bgcolor": "white",
           "lakecolor": "white",
           "landcolor": "#E5ECF6",
           "showlakes": true,
           "showland": true,
           "subunitcolor": "white"
          },
          "hoverlabel": {
           "align": "left"
          },
          "hovermode": "closest",
          "mapbox": {
           "style": "light"
          },
          "paper_bgcolor": "white",
          "plot_bgcolor": "#E5ECF6",
          "polar": {
           "angularaxis": {
            "gridcolor": "white",
            "linecolor": "white",
            "ticks": ""
           },
           "bgcolor": "#E5ECF6",
           "radialaxis": {
            "gridcolor": "white",
            "linecolor": "white",
            "ticks": ""
           }
          },
          "scene": {
           "xaxis": {
            "backgroundcolor": "#E5ECF6",
            "gridcolor": "white",
            "gridwidth": 2,
            "linecolor": "white",
            "showbackground": true,
            "ticks": "",
            "zerolinecolor": "white"
           },
           "yaxis": {
            "backgroundcolor": "#E5ECF6",
            "gridcolor": "white",
            "gridwidth": 2,
            "linecolor": "white",
            "showbackground": true,
            "ticks": "",
            "zerolinecolor": "white"
           },
           "zaxis": {
            "backgroundcolor": "#E5ECF6",
            "gridcolor": "white",
            "gridwidth": 2,
            "linecolor": "white",
            "showbackground": true,
            "ticks": "",
            "zerolinecolor": "white"
           }
          },
          "shapedefaults": {
           "line": {
            "color": "#2a3f5f"
           }
          },
          "ternary": {
           "aaxis": {
            "gridcolor": "white",
            "linecolor": "white",
            "ticks": ""
           },
           "baxis": {
            "gridcolor": "white",
            "linecolor": "white",
            "ticks": ""
           },
           "bgcolor": "#E5ECF6",
           "caxis": {
            "gridcolor": "white",
            "linecolor": "white",
            "ticks": ""
           }
          },
          "title": {
           "x": 0.05
          },
          "xaxis": {
           "automargin": true,
           "gridcolor": "white",
           "linecolor": "white",
           "ticks": "",
           "title": {
            "standoff": 15
           },
           "zerolinecolor": "white",
           "zerolinewidth": 2
          },
          "yaxis": {
           "automargin": true,
           "gridcolor": "white",
           "linecolor": "white",
           "ticks": "",
           "title": {
            "standoff": 15
           },
           "zerolinecolor": "white",
           "zerolinewidth": 2
          }
         }
        },
        "title": {
         "text": "Age Distribution",
         "x": 0,
         "xref": "paper"
        },
        "xaxis": {
         "title": {
          "text": "Age Category<br><sup><i>years</i></sup>"
         }
        },
        "yaxis": {
         "gridcolor": "lightgrey",
         "title": {
          "text": "Percentage<br><sup><i>%</i></sup>"
         }
        }
       }
      }
     },
     "metadata": {},
     "output_type": "display_data"
    },
    {
     "data": {
      "application/vnd.plotly.v1+json": {
       "config": {
        "plotlyServerURL": "https://plot.ly"
       },
       "data": [
        {
         "marker": {
          "color": "#604b62"
         },
         "name": "WHITE",
         "text": [
          "47.5"
         ],
         "type": "bar",
         "x": [
          "WHITE"
         ],
         "y": [
          47.5
         ]
        },
        {
         "marker": {
          "color": "#957897"
         },
         "name": "BLACK",
         "text": [
          "23.5"
         ],
         "type": "bar",
         "x": [
          "BLACK"
         ],
         "y": [
          23.5
         ]
        },
        {
         "marker": {
          "color": "#9d83a0"
         },
         "name": "SOUTH ASIAN",
         "text": [
          "14.0"
         ],
         "type": "bar",
         "x": [
          "SOUTH ASIAN"
         ],
         "y": [
          14
         ]
        },
        {
         "marker": {
          "color": "#a68ea8"
         },
         "name": "EAST ASIAN",
         "text": [
          "8.5"
         ],
         "type": "bar",
         "x": [
          "EAST ASIAN"
         ],
         "y": [
          8.5
         ]
        },
        {
         "marker": {
          "color": "#af99b1"
         },
         "name": "MIXED",
         "text": [
          "5.5"
         ],
         "type": "bar",
         "x": [
          "MIXED"
         ],
         "y": [
          5.5
         ]
        },
        {
         "marker": {
          "color": "#b8a4b9"
         },
         "name": "ASIAN",
         "text": [
          "1.0"
         ],
         "type": "bar",
         "x": [
          "ASIAN"
         ],
         "y": [
          1
         ]
        }
       ],
       "layout": {
        "barmode": "stack",
        "paper_bgcolor": "white",
        "plot_bgcolor": "#F6F8FC",
        "template": {
         "data": {
          "bar": [
           {
            "error_x": {
             "color": "#2a3f5f"
            },
            "error_y": {
             "color": "#2a3f5f"
            },
            "marker": {
             "line": {
              "color": "#E5ECF6",
              "width": 0.5
             },
             "pattern": {
              "fillmode": "overlay",
              "size": 10,
              "solidity": 0.2
             }
            },
            "type": "bar"
           }
          ],
          "barpolar": [
           {
            "marker": {
             "line": {
              "color": "#E5ECF6",
              "width": 0.5
             },
             "pattern": {
              "fillmode": "overlay",
              "size": 10,
              "solidity": 0.2
             }
            },
            "type": "barpolar"
           }
          ],
          "carpet": [
           {
            "aaxis": {
             "endlinecolor": "#2a3f5f",
             "gridcolor": "white",
             "linecolor": "white",
             "minorgridcolor": "white",
             "startlinecolor": "#2a3f5f"
            },
            "baxis": {
             "endlinecolor": "#2a3f5f",
             "gridcolor": "white",
             "linecolor": "white",
             "minorgridcolor": "white",
             "startlinecolor": "#2a3f5f"
            },
            "type": "carpet"
           }
          ],
          "choropleth": [
           {
            "colorbar": {
             "outlinewidth": 0,
             "ticks": ""
            },
            "type": "choropleth"
           }
          ],
          "contour": [
           {
            "colorbar": {
             "outlinewidth": 0,
             "ticks": ""
            },
            "colorscale": [
             [
              0,
              "#0d0887"
             ],
             [
              0.1111111111111111,
              "#46039f"
             ],
             [
              0.2222222222222222,
              "#7201a8"
             ],
             [
              0.3333333333333333,
              "#9c179e"
             ],
             [
              0.4444444444444444,
              "#bd3786"
             ],
             [
              0.5555555555555556,
              "#d8576b"
             ],
             [
              0.6666666666666666,
              "#ed7953"
             ],
             [
              0.7777777777777778,
              "#fb9f3a"
             ],
             [
              0.8888888888888888,
              "#fdca26"
             ],
             [
              1,
              "#f0f921"
             ]
            ],
            "type": "contour"
           }
          ],
          "contourcarpet": [
           {
            "colorbar": {
             "outlinewidth": 0,
             "ticks": ""
            },
            "type": "contourcarpet"
           }
          ],
          "heatmap": [
           {
            "colorbar": {
             "outlinewidth": 0,
             "ticks": ""
            },
            "colorscale": [
             [
              0,
              "#0d0887"
             ],
             [
              0.1111111111111111,
              "#46039f"
             ],
             [
              0.2222222222222222,
              "#7201a8"
             ],
             [
              0.3333333333333333,
              "#9c179e"
             ],
             [
              0.4444444444444444,
              "#bd3786"
             ],
             [
              0.5555555555555556,
              "#d8576b"
             ],
             [
              0.6666666666666666,
              "#ed7953"
             ],
             [
              0.7777777777777778,
              "#fb9f3a"
             ],
             [
              0.8888888888888888,
              "#fdca26"
             ],
             [
              1,
              "#f0f921"
             ]
            ],
            "type": "heatmap"
           }
          ],
          "heatmapgl": [
           {
            "colorbar": {
             "outlinewidth": 0,
             "ticks": ""
            },
            "colorscale": [
             [
              0,
              "#0d0887"
             ],
             [
              0.1111111111111111,
              "#46039f"
             ],
             [
              0.2222222222222222,
              "#7201a8"
             ],
             [
              0.3333333333333333,
              "#9c179e"
             ],
             [
              0.4444444444444444,
              "#bd3786"
             ],
             [
              0.5555555555555556,
              "#d8576b"
             ],
             [
              0.6666666666666666,
              "#ed7953"
             ],
             [
              0.7777777777777778,
              "#fb9f3a"
             ],
             [
              0.8888888888888888,
              "#fdca26"
             ],
             [
              1,
              "#f0f921"
             ]
            ],
            "type": "heatmapgl"
           }
          ],
          "histogram": [
           {
            "marker": {
             "pattern": {
              "fillmode": "overlay",
              "size": 10,
              "solidity": 0.2
             }
            },
            "type": "histogram"
           }
          ],
          "histogram2d": [
           {
            "colorbar": {
             "outlinewidth": 0,
             "ticks": ""
            },
            "colorscale": [
             [
              0,
              "#0d0887"
             ],
             [
              0.1111111111111111,
              "#46039f"
             ],
             [
              0.2222222222222222,
              "#7201a8"
             ],
             [
              0.3333333333333333,
              "#9c179e"
             ],
             [
              0.4444444444444444,
              "#bd3786"
             ],
             [
              0.5555555555555556,
              "#d8576b"
             ],
             [
              0.6666666666666666,
              "#ed7953"
             ],
             [
              0.7777777777777778,
              "#fb9f3a"
             ],
             [
              0.8888888888888888,
              "#fdca26"
             ],
             [
              1,
              "#f0f921"
             ]
            ],
            "type": "histogram2d"
           }
          ],
          "histogram2dcontour": [
           {
            "colorbar": {
             "outlinewidth": 0,
             "ticks": ""
            },
            "colorscale": [
             [
              0,
              "#0d0887"
             ],
             [
              0.1111111111111111,
              "#46039f"
             ],
             [
              0.2222222222222222,
              "#7201a8"
             ],
             [
              0.3333333333333333,
              "#9c179e"
             ],
             [
              0.4444444444444444,
              "#bd3786"
             ],
             [
              0.5555555555555556,
              "#d8576b"
             ],
             [
              0.6666666666666666,
              "#ed7953"
             ],
             [
              0.7777777777777778,
              "#fb9f3a"
             ],
             [
              0.8888888888888888,
              "#fdca26"
             ],
             [
              1,
              "#f0f921"
             ]
            ],
            "type": "histogram2dcontour"
           }
          ],
          "mesh3d": [
           {
            "colorbar": {
             "outlinewidth": 0,
             "ticks": ""
            },
            "type": "mesh3d"
           }
          ],
          "parcoords": [
           {
            "line": {
             "colorbar": {
              "outlinewidth": 0,
              "ticks": ""
             }
            },
            "type": "parcoords"
           }
          ],
          "pie": [
           {
            "automargin": true,
            "type": "pie"
           }
          ],
          "scatter": [
           {
            "fillpattern": {
             "fillmode": "overlay",
             "size": 10,
             "solidity": 0.2
            },
            "type": "scatter"
           }
          ],
          "scatter3d": [
           {
            "line": {
             "colorbar": {
              "outlinewidth": 0,
              "ticks": ""
             }
            },
            "marker": {
             "colorbar": {
              "outlinewidth": 0,
              "ticks": ""
             }
            },
            "type": "scatter3d"
           }
          ],
          "scattercarpet": [
           {
            "marker": {
             "colorbar": {
              "outlinewidth": 0,
              "ticks": ""
             }
            },
            "type": "scattercarpet"
           }
          ],
          "scattergeo": [
           {
            "marker": {
             "colorbar": {
              "outlinewidth": 0,
              "ticks": ""
             }
            },
            "type": "scattergeo"
           }
          ],
          "scattergl": [
           {
            "marker": {
             "colorbar": {
              "outlinewidth": 0,
              "ticks": ""
             }
            },
            "type": "scattergl"
           }
          ],
          "scattermapbox": [
           {
            "marker": {
             "colorbar": {
              "outlinewidth": 0,
              "ticks": ""
             }
            },
            "type": "scattermapbox"
           }
          ],
          "scatterpolar": [
           {
            "marker": {
             "colorbar": {
              "outlinewidth": 0,
              "ticks": ""
             }
            },
            "type": "scatterpolar"
           }
          ],
          "scatterpolargl": [
           {
            "marker": {
             "colorbar": {
              "outlinewidth": 0,
              "ticks": ""
             }
            },
            "type": "scatterpolargl"
           }
          ],
          "scatterternary": [
           {
            "marker": {
             "colorbar": {
              "outlinewidth": 0,
              "ticks": ""
             }
            },
            "type": "scatterternary"
           }
          ],
          "surface": [
           {
            "colorbar": {
             "outlinewidth": 0,
             "ticks": ""
            },
            "colorscale": [
             [
              0,
              "#0d0887"
             ],
             [
              0.1111111111111111,
              "#46039f"
             ],
             [
              0.2222222222222222,
              "#7201a8"
             ],
             [
              0.3333333333333333,
              "#9c179e"
             ],
             [
              0.4444444444444444,
              "#bd3786"
             ],
             [
              0.5555555555555556,
              "#d8576b"
             ],
             [
              0.6666666666666666,
              "#ed7953"
             ],
             [
              0.7777777777777778,
              "#fb9f3a"
             ],
             [
              0.8888888888888888,
              "#fdca26"
             ],
             [
              1,
              "#f0f921"
             ]
            ],
            "type": "surface"
           }
          ],
          "table": [
           {
            "cells": {
             "fill": {
              "color": "#EBF0F8"
             },
             "line": {
              "color": "white"
             }
            },
            "header": {
             "fill": {
              "color": "#C8D4E3"
             },
             "line": {
              "color": "white"
             }
            },
            "type": "table"
           }
          ]
         },
         "layout": {
          "annotationdefaults": {
           "arrowcolor": "#2a3f5f",
           "arrowhead": 0,
           "arrowwidth": 1
          },
          "autotypenumbers": "strict",
          "coloraxis": {
           "colorbar": {
            "outlinewidth": 0,
            "ticks": ""
           }
          },
          "colorscale": {
           "diverging": [
            [
             0,
             "#8e0152"
            ],
            [
             0.1,
             "#c51b7d"
            ],
            [
             0.2,
             "#de77ae"
            ],
            [
             0.3,
             "#f1b6da"
            ],
            [
             0.4,
             "#fde0ef"
            ],
            [
             0.5,
             "#f7f7f7"
            ],
            [
             0.6,
             "#e6f5d0"
            ],
            [
             0.7,
             "#b8e186"
            ],
            [
             0.8,
             "#7fbc41"
            ],
            [
             0.9,
             "#4d9221"
            ],
            [
             1,
             "#276419"
            ]
           ],
           "sequential": [
            [
             0,
             "#0d0887"
            ],
            [
             0.1111111111111111,
             "#46039f"
            ],
            [
             0.2222222222222222,
             "#7201a8"
            ],
            [
             0.3333333333333333,
             "#9c179e"
            ],
            [
             0.4444444444444444,
             "#bd3786"
            ],
            [
             0.5555555555555556,
             "#d8576b"
            ],
            [
             0.6666666666666666,
             "#ed7953"
            ],
            [
             0.7777777777777778,
             "#fb9f3a"
            ],
            [
             0.8888888888888888,
             "#fdca26"
            ],
            [
             1,
             "#f0f921"
            ]
           ],
           "sequentialminus": [
            [
             0,
             "#0d0887"
            ],
            [
             0.1111111111111111,
             "#46039f"
            ],
            [
             0.2222222222222222,
             "#7201a8"
            ],
            [
             0.3333333333333333,
             "#9c179e"
            ],
            [
             0.4444444444444444,
             "#bd3786"
            ],
            [
             0.5555555555555556,
             "#d8576b"
            ],
            [
             0.6666666666666666,
             "#ed7953"
            ],
            [
             0.7777777777777778,
             "#fb9f3a"
            ],
            [
             0.8888888888888888,
             "#fdca26"
            ],
            [
             1,
             "#f0f921"
            ]
           ]
          },
          "colorway": [
           "#636efa",
           "#EF553B",
           "#00cc96",
           "#ab63fa",
           "#FFA15A",
           "#19d3f3",
           "#FF6692",
           "#B6E880",
           "#FF97FF",
           "#FECB52"
          ],
          "font": {
           "color": "#2a3f5f"
          },
          "geo": {
           "bgcolor": "white",
           "lakecolor": "white",
           "landcolor": "#E5ECF6",
           "showlakes": true,
           "showland": true,
           "subunitcolor": "white"
          },
          "hoverlabel": {
           "align": "left"
          },
          "hovermode": "closest",
          "mapbox": {
           "style": "light"
          },
          "paper_bgcolor": "white",
          "plot_bgcolor": "#E5ECF6",
          "polar": {
           "angularaxis": {
            "gridcolor": "white",
            "linecolor": "white",
            "ticks": ""
           },
           "bgcolor": "#E5ECF6",
           "radialaxis": {
            "gridcolor": "white",
            "linecolor": "white",
            "ticks": ""
           }
          },
          "scene": {
           "xaxis": {
            "backgroundcolor": "#E5ECF6",
            "gridcolor": "white",
            "gridwidth": 2,
            "linecolor": "white",
            "showbackground": true,
            "ticks": "",
            "zerolinecolor": "white"
           },
           "yaxis": {
            "backgroundcolor": "#E5ECF6",
            "gridcolor": "white",
            "gridwidth": 2,
            "linecolor": "white",
            "showbackground": true,
            "ticks": "",
            "zerolinecolor": "white"
           },
           "zaxis": {
            "backgroundcolor": "#E5ECF6",
            "gridcolor": "white",
            "gridwidth": 2,
            "linecolor": "white",
            "showbackground": true,
            "ticks": "",
            "zerolinecolor": "white"
           }
          },
          "shapedefaults": {
           "line": {
            "color": "#2a3f5f"
           }
          },
          "ternary": {
           "aaxis": {
            "gridcolor": "white",
            "linecolor": "white",
            "ticks": ""
           },
           "baxis": {
            "gridcolor": "white",
            "linecolor": "white",
            "ticks": ""
           },
           "bgcolor": "#E5ECF6",
           "caxis": {
            "gridcolor": "white",
            "linecolor": "white",
            "ticks": ""
           }
          },
          "title": {
           "x": 0.05
          },
          "xaxis": {
           "automargin": true,
           "gridcolor": "white",
           "linecolor": "white",
           "ticks": "",
           "title": {
            "standoff": 15
           },
           "zerolinecolor": "white",
           "zerolinewidth": 2
          },
          "yaxis": {
           "automargin": true,
           "gridcolor": "white",
           "linecolor": "white",
           "ticks": "",
           "title": {
            "standoff": 15
           },
           "zerolinecolor": "white",
           "zerolinewidth": 2
          }
         }
        },
        "title": {
         "text": "Race Distribution",
         "x": 0,
         "xref": "paper"
        },
        "xaxis": {
         "title": {
          "text": "Race<br><sup><i>race</i></sup>"
         }
        },
        "yaxis": {
         "gridcolor": "lightgrey",
         "title": {
          "text": "Percentage<br><sup><i>%</i></sup>"
         }
        }
       }
      }
     },
     "metadata": {},
     "output_type": "display_data"
    },
    {
     "data": {
      "application/vnd.plotly.v1+json": {
       "config": {
        "plotlyServerURL": "https://plot.ly"
       },
       "data": [
        {
         "marker": {
          "color": "#604b62"
         },
         "name": "1",
         "text": [
          "43.0"
         ],
         "type": "bar",
         "x": [
          "1"
         ],
         "y": [
          43
         ]
        },
        {
         "marker": {
          "color": "#604b62"
         },
         "name": "2",
         "text": [
          "32.0"
         ],
         "type": "bar",
         "x": [
          "2"
         ],
         "y": [
          32
         ]
        },
        {
         "marker": {
          "color": "#604b62"
         },
         "name": "3",
         "text": [
          "16.0"
         ],
         "type": "bar",
         "x": [
          "3"
         ],
         "y": [
          16
         ]
        },
        {
         "marker": {
          "color": "#604b62"
         },
         "name": "4",
         "text": [
          "4.0"
         ],
         "type": "bar",
         "x": [
          "4"
         ],
         "y": [
          4
         ]
        },
        {
         "marker": {
          "color": "#604b62"
         },
         "name": "5",
         "text": [
          "2.0"
         ],
         "type": "bar",
         "x": [
          "5"
         ],
         "y": [
          2
         ]
        },
        {
         "marker": {
          "color": "#604b62"
         },
         "name": "6",
         "text": [
          "1.0"
         ],
         "type": "bar",
         "x": [
          "6"
         ],
         "y": [
          1
         ]
        },
        {
         "marker": {
          "color": "#604b62"
         },
         "name": "7",
         "text": [
          "0.0"
         ],
         "type": "bar",
         "x": [
          "7"
         ],
         "y": [
          0
         ]
        },
        {
         "marker": {
          "color": "#604b62"
         },
         "name": "8",
         "text": [
          "0.0"
         ],
         "type": "bar",
         "x": [
          "8"
         ],
         "y": [
          0
         ]
        }
       ],
       "layout": {
        "barmode": "stack",
        "paper_bgcolor": "white",
        "plot_bgcolor": "#F6F8FC",
        "template": {
         "data": {
          "bar": [
           {
            "error_x": {
             "color": "#2a3f5f"
            },
            "error_y": {
             "color": "#2a3f5f"
            },
            "marker": {
             "line": {
              "color": "#E5ECF6",
              "width": 0.5
             },
             "pattern": {
              "fillmode": "overlay",
              "size": 10,
              "solidity": 0.2
             }
            },
            "type": "bar"
           }
          ],
          "barpolar": [
           {
            "marker": {
             "line": {
              "color": "#E5ECF6",
              "width": 0.5
             },
             "pattern": {
              "fillmode": "overlay",
              "size": 10,
              "solidity": 0.2
             }
            },
            "type": "barpolar"
           }
          ],
          "carpet": [
           {
            "aaxis": {
             "endlinecolor": "#2a3f5f",
             "gridcolor": "white",
             "linecolor": "white",
             "minorgridcolor": "white",
             "startlinecolor": "#2a3f5f"
            },
            "baxis": {
             "endlinecolor": "#2a3f5f",
             "gridcolor": "white",
             "linecolor": "white",
             "minorgridcolor": "white",
             "startlinecolor": "#2a3f5f"
            },
            "type": "carpet"
           }
          ],
          "choropleth": [
           {
            "colorbar": {
             "outlinewidth": 0,
             "ticks": ""
            },
            "type": "choropleth"
           }
          ],
          "contour": [
           {
            "colorbar": {
             "outlinewidth": 0,
             "ticks": ""
            },
            "colorscale": [
             [
              0,
              "#0d0887"
             ],
             [
              0.1111111111111111,
              "#46039f"
             ],
             [
              0.2222222222222222,
              "#7201a8"
             ],
             [
              0.3333333333333333,
              "#9c179e"
             ],
             [
              0.4444444444444444,
              "#bd3786"
             ],
             [
              0.5555555555555556,
              "#d8576b"
             ],
             [
              0.6666666666666666,
              "#ed7953"
             ],
             [
              0.7777777777777778,
              "#fb9f3a"
             ],
             [
              0.8888888888888888,
              "#fdca26"
             ],
             [
              1,
              "#f0f921"
             ]
            ],
            "type": "contour"
           }
          ],
          "contourcarpet": [
           {
            "colorbar": {
             "outlinewidth": 0,
             "ticks": ""
            },
            "type": "contourcarpet"
           }
          ],
          "heatmap": [
           {
            "colorbar": {
             "outlinewidth": 0,
             "ticks": ""
            },
            "colorscale": [
             [
              0,
              "#0d0887"
             ],
             [
              0.1111111111111111,
              "#46039f"
             ],
             [
              0.2222222222222222,
              "#7201a8"
             ],
             [
              0.3333333333333333,
              "#9c179e"
             ],
             [
              0.4444444444444444,
              "#bd3786"
             ],
             [
              0.5555555555555556,
              "#d8576b"
             ],
             [
              0.6666666666666666,
              "#ed7953"
             ],
             [
              0.7777777777777778,
              "#fb9f3a"
             ],
             [
              0.8888888888888888,
              "#fdca26"
             ],
             [
              1,
              "#f0f921"
             ]
            ],
            "type": "heatmap"
           }
          ],
          "heatmapgl": [
           {
            "colorbar": {
             "outlinewidth": 0,
             "ticks": ""
            },
            "colorscale": [
             [
              0,
              "#0d0887"
             ],
             [
              0.1111111111111111,
              "#46039f"
             ],
             [
              0.2222222222222222,
              "#7201a8"
             ],
             [
              0.3333333333333333,
              "#9c179e"
             ],
             [
              0.4444444444444444,
              "#bd3786"
             ],
             [
              0.5555555555555556,
              "#d8576b"
             ],
             [
              0.6666666666666666,
              "#ed7953"
             ],
             [
              0.7777777777777778,
              "#fb9f3a"
             ],
             [
              0.8888888888888888,
              "#fdca26"
             ],
             [
              1,
              "#f0f921"
             ]
            ],
            "type": "heatmapgl"
           }
          ],
          "histogram": [
           {
            "marker": {
             "pattern": {
              "fillmode": "overlay",
              "size": 10,
              "solidity": 0.2
             }
            },
            "type": "histogram"
           }
          ],
          "histogram2d": [
           {
            "colorbar": {
             "outlinewidth": 0,
             "ticks": ""
            },
            "colorscale": [
             [
              0,
              "#0d0887"
             ],
             [
              0.1111111111111111,
              "#46039f"
             ],
             [
              0.2222222222222222,
              "#7201a8"
             ],
             [
              0.3333333333333333,
              "#9c179e"
             ],
             [
              0.4444444444444444,
              "#bd3786"
             ],
             [
              0.5555555555555556,
              "#d8576b"
             ],
             [
              0.6666666666666666,
              "#ed7953"
             ],
             [
              0.7777777777777778,
              "#fb9f3a"
             ],
             [
              0.8888888888888888,
              "#fdca26"
             ],
             [
              1,
              "#f0f921"
             ]
            ],
            "type": "histogram2d"
           }
          ],
          "histogram2dcontour": [
           {
            "colorbar": {
             "outlinewidth": 0,
             "ticks": ""
            },
            "colorscale": [
             [
              0,
              "#0d0887"
             ],
             [
              0.1111111111111111,
              "#46039f"
             ],
             [
              0.2222222222222222,
              "#7201a8"
             ],
             [
              0.3333333333333333,
              "#9c179e"
             ],
             [
              0.4444444444444444,
              "#bd3786"
             ],
             [
              0.5555555555555556,
              "#d8576b"
             ],
             [
              0.6666666666666666,
              "#ed7953"
             ],
             [
              0.7777777777777778,
              "#fb9f3a"
             ],
             [
              0.8888888888888888,
              "#fdca26"
             ],
             [
              1,
              "#f0f921"
             ]
            ],
            "type": "histogram2dcontour"
           }
          ],
          "mesh3d": [
           {
            "colorbar": {
             "outlinewidth": 0,
             "ticks": ""
            },
            "type": "mesh3d"
           }
          ],
          "parcoords": [
           {
            "line": {
             "colorbar": {
              "outlinewidth": 0,
              "ticks": ""
             }
            },
            "type": "parcoords"
           }
          ],
          "pie": [
           {
            "automargin": true,
            "type": "pie"
           }
          ],
          "scatter": [
           {
            "fillpattern": {
             "fillmode": "overlay",
             "size": 10,
             "solidity": 0.2
            },
            "type": "scatter"
           }
          ],
          "scatter3d": [
           {
            "line": {
             "colorbar": {
              "outlinewidth": 0,
              "ticks": ""
             }
            },
            "marker": {
             "colorbar": {
              "outlinewidth": 0,
              "ticks": ""
             }
            },
            "type": "scatter3d"
           }
          ],
          "scattercarpet": [
           {
            "marker": {
             "colorbar": {
              "outlinewidth": 0,
              "ticks": ""
             }
            },
            "type": "scattercarpet"
           }
          ],
          "scattergeo": [
           {
            "marker": {
             "colorbar": {
              "outlinewidth": 0,
              "ticks": ""
             }
            },
            "type": "scattergeo"
           }
          ],
          "scattergl": [
           {
            "marker": {
             "colorbar": {
              "outlinewidth": 0,
              "ticks": ""
             }
            },
            "type": "scattergl"
           }
          ],
          "scattermapbox": [
           {
            "marker": {
             "colorbar": {
              "outlinewidth": 0,
              "ticks": ""
             }
            },
            "type": "scattermapbox"
           }
          ],
          "scatterpolar": [
           {
            "marker": {
             "colorbar": {
              "outlinewidth": 0,
              "ticks": ""
             }
            },
            "type": "scatterpolar"
           }
          ],
          "scatterpolargl": [
           {
            "marker": {
             "colorbar": {
              "outlinewidth": 0,
              "ticks": ""
             }
            },
            "type": "scatterpolargl"
           }
          ],
          "scatterternary": [
           {
            "marker": {
             "colorbar": {
              "outlinewidth": 0,
              "ticks": ""
             }
            },
            "type": "scatterternary"
           }
          ],
          "surface": [
           {
            "colorbar": {
             "outlinewidth": 0,
             "ticks": ""
            },
            "colorscale": [
             [
              0,
              "#0d0887"
             ],
             [
              0.1111111111111111,
              "#46039f"
             ],
             [
              0.2222222222222222,
              "#7201a8"
             ],
             [
              0.3333333333333333,
              "#9c179e"
             ],
             [
              0.4444444444444444,
              "#bd3786"
             ],
             [
              0.5555555555555556,
              "#d8576b"
             ],
             [
              0.6666666666666666,
              "#ed7953"
             ],
             [
              0.7777777777777778,
              "#fb9f3a"
             ],
             [
              0.8888888888888888,
              "#fdca26"
             ],
             [
              1,
              "#f0f921"
             ]
            ],
            "type": "surface"
           }
          ],
          "table": [
           {
            "cells": {
             "fill": {
              "color": "#EBF0F8"
             },
             "line": {
              "color": "white"
             }
            },
            "header": {
             "fill": {
              "color": "#C8D4E3"
             },
             "line": {
              "color": "white"
             }
            },
            "type": "table"
           }
          ]
         },
         "layout": {
          "annotationdefaults": {
           "arrowcolor": "#2a3f5f",
           "arrowhead": 0,
           "arrowwidth": 1
          },
          "autotypenumbers": "strict",
          "coloraxis": {
           "colorbar": {
            "outlinewidth": 0,
            "ticks": ""
           }
          },
          "colorscale": {
           "diverging": [
            [
             0,
             "#8e0152"
            ],
            [
             0.1,
             "#c51b7d"
            ],
            [
             0.2,
             "#de77ae"
            ],
            [
             0.3,
             "#f1b6da"
            ],
            [
             0.4,
             "#fde0ef"
            ],
            [
             0.5,
             "#f7f7f7"
            ],
            [
             0.6,
             "#e6f5d0"
            ],
            [
             0.7,
             "#b8e186"
            ],
            [
             0.8,
             "#7fbc41"
            ],
            [
             0.9,
             "#4d9221"
            ],
            [
             1,
             "#276419"
            ]
           ],
           "sequential": [
            [
             0,
             "#0d0887"
            ],
            [
             0.1111111111111111,
             "#46039f"
            ],
            [
             0.2222222222222222,
             "#7201a8"
            ],
            [
             0.3333333333333333,
             "#9c179e"
            ],
            [
             0.4444444444444444,
             "#bd3786"
            ],
            [
             0.5555555555555556,
             "#d8576b"
            ],
            [
             0.6666666666666666,
             "#ed7953"
            ],
            [
             0.7777777777777778,
             "#fb9f3a"
            ],
            [
             0.8888888888888888,
             "#fdca26"
            ],
            [
             1,
             "#f0f921"
            ]
           ],
           "sequentialminus": [
            [
             0,
             "#0d0887"
            ],
            [
             0.1111111111111111,
             "#46039f"
            ],
            [
             0.2222222222222222,
             "#7201a8"
            ],
            [
             0.3333333333333333,
             "#9c179e"
            ],
            [
             0.4444444444444444,
             "#bd3786"
            ],
            [
             0.5555555555555556,
             "#d8576b"
            ],
            [
             0.6666666666666666,
             "#ed7953"
            ],
            [
             0.7777777777777778,
             "#fb9f3a"
            ],
            [
             0.8888888888888888,
             "#fdca26"
            ],
            [
             1,
             "#f0f921"
            ]
           ]
          },
          "colorway": [
           "#636efa",
           "#EF553B",
           "#00cc96",
           "#ab63fa",
           "#FFA15A",
           "#19d3f3",
           "#FF6692",
           "#B6E880",
           "#FF97FF",
           "#FECB52"
          ],
          "font": {
           "color": "#2a3f5f"
          },
          "geo": {
           "bgcolor": "white",
           "lakecolor": "white",
           "landcolor": "#E5ECF6",
           "showlakes": true,
           "showland": true,
           "subunitcolor": "white"
          },
          "hoverlabel": {
           "align": "left"
          },
          "hovermode": "closest",
          "mapbox": {
           "style": "light"
          },
          "paper_bgcolor": "white",
          "plot_bgcolor": "#E5ECF6",
          "polar": {
           "angularaxis": {
            "gridcolor": "white",
            "linecolor": "white",
            "ticks": ""
           },
           "bgcolor": "#E5ECF6",
           "radialaxis": {
            "gridcolor": "white",
            "linecolor": "white",
            "ticks": ""
           }
          },
          "scene": {
           "xaxis": {
            "backgroundcolor": "#E5ECF6",
            "gridcolor": "white",
            "gridwidth": 2,
            "linecolor": "white",
            "showbackground": true,
            "ticks": "",
            "zerolinecolor": "white"
           },
           "yaxis": {
            "backgroundcolor": "#E5ECF6",
            "gridcolor": "white",
            "gridwidth": 2,
            "linecolor": "white",
            "showbackground": true,
            "ticks": "",
            "zerolinecolor": "white"
           },
           "zaxis": {
            "backgroundcolor": "#E5ECF6",
            "gridcolor": "white",
            "gridwidth": 2,
            "linecolor": "white",
            "showbackground": true,
            "ticks": "",
            "zerolinecolor": "white"
           }
          },
          "shapedefaults": {
           "line": {
            "color": "#2a3f5f"
           }
          },
          "ternary": {
           "aaxis": {
            "gridcolor": "white",
            "linecolor": "white",
            "ticks": ""
           },
           "baxis": {
            "gridcolor": "white",
            "linecolor": "white",
            "ticks": ""
           },
           "bgcolor": "#E5ECF6",
           "caxis": {
            "gridcolor": "white",
            "linecolor": "white",
            "ticks": ""
           }
          },
          "title": {
           "x": 0.05
          },
          "xaxis": {
           "automargin": true,
           "gridcolor": "white",
           "linecolor": "white",
           "ticks": "",
           "title": {
            "standoff": 15
           },
           "zerolinecolor": "white",
           "zerolinewidth": 2
          },
          "yaxis": {
           "automargin": true,
           "gridcolor": "white",
           "linecolor": "white",
           "ticks": "",
           "title": {
            "standoff": 15
           },
           "zerolinecolor": "white",
           "zerolinewidth": 2
          }
         }
        },
        "title": {
         "text": "Parity Distribution",
         "x": 0,
         "xref": "paper"
        },
        "xaxis": {
         "title": {
          "text": "Parity<br><sup><i>number of live births</i></sup>"
         }
        },
        "yaxis": {
         "gridcolor": "lightgrey",
         "title": {
          "text": "Percentage<br><sup><i>%</i></sup>"
         }
        }
       }
      }
     },
     "metadata": {},
     "output_type": "display_data"
    },
    {
     "data": {
      "application/vnd.plotly.v1+json": {
       "config": {
        "plotlyServerURL": "https://plot.ly"
       },
       "data": [
        {
         "marker": {
          "color": "#604b62"
         },
         "name": "WHITE",
         "text": [
          "0.5",
          "12.0",
          "20.0",
          "9.0",
          "6.0"
         ],
         "type": "bar",
         "x": [
          "< 18",
          "18-25",
          "25-30",
          "30-35",
          "> 35"
         ],
         "y": [
          0.5,
          12,
          20,
          9,
          6
         ]
        },
        {
         "marker": {
          "color": "#957897"
         },
         "name": "ASIAN",
         "text": [
          "0.5",
          "0.5"
         ],
         "type": "bar",
         "x": [
          "18-25",
          "25-30"
         ],
         "y": [
          0.5,
          0.5
         ]
        },
        {
         "marker": {
          "color": "#9d83a0"
         },
         "name": "BLACK",
         "text": [
          "4.5",
          "6.0",
          "7.5",
          "5.5"
         ],
         "type": "bar",
         "x": [
          "18-25",
          "25-30",
          "30-35",
          "> 35"
         ],
         "y": [
          4.5,
          6,
          7.5,
          5.5
         ]
        },
        {
         "marker": {
          "color": "#a68ea8"
         },
         "name": "EAST ASIAN",
         "text": [
          "5.0",
          "2.0",
          "1.0",
          "0.5"
         ],
         "type": "bar",
         "x": [
          "18-25",
          "25-30",
          "30-35",
          "> 35"
         ],
         "y": [
          5,
          2,
          1,
          0.5
         ]
        },
        {
         "marker": {
          "color": "#af99b1"
         },
         "name": "MIXED",
         "text": [
          "1.5",
          "1.5",
          "1.0",
          "1.5"
         ],
         "type": "bar",
         "x": [
          "18-25",
          "25-30",
          "30-35",
          "> 35"
         ],
         "y": [
          1.5,
          1.5,
          1,
          1.5
         ]
        },
        {
         "marker": {
          "color": "#b8a4b9"
         },
         "name": "SOUTH ASIAN",
         "text": [
          "2.0",
          "8.0",
          "1.5",
          "2.5"
         ],
         "type": "bar",
         "x": [
          "18-25",
          "25-30",
          "> 35",
          "30-35"
         ],
         "y": [
          2,
          8,
          1.5,
          2.5
         ]
        }
       ],
       "layout": {
        "barmode": "stack",
        "paper_bgcolor": "white",
        "plot_bgcolor": "#F6F8FC",
        "template": {
         "data": {
          "bar": [
           {
            "error_x": {
             "color": "#2a3f5f"
            },
            "error_y": {
             "color": "#2a3f5f"
            },
            "marker": {
             "line": {
              "color": "#E5ECF6",
              "width": 0.5
             },
             "pattern": {
              "fillmode": "overlay",
              "size": 10,
              "solidity": 0.2
             }
            },
            "type": "bar"
           }
          ],
          "barpolar": [
           {
            "marker": {
             "line": {
              "color": "#E5ECF6",
              "width": 0.5
             },
             "pattern": {
              "fillmode": "overlay",
              "size": 10,
              "solidity": 0.2
             }
            },
            "type": "barpolar"
           }
          ],
          "carpet": [
           {
            "aaxis": {
             "endlinecolor": "#2a3f5f",
             "gridcolor": "white",
             "linecolor": "white",
             "minorgridcolor": "white",
             "startlinecolor": "#2a3f5f"
            },
            "baxis": {
             "endlinecolor": "#2a3f5f",
             "gridcolor": "white",
             "linecolor": "white",
             "minorgridcolor": "white",
             "startlinecolor": "#2a3f5f"
            },
            "type": "carpet"
           }
          ],
          "choropleth": [
           {
            "colorbar": {
             "outlinewidth": 0,
             "ticks": ""
            },
            "type": "choropleth"
           }
          ],
          "contour": [
           {
            "colorbar": {
             "outlinewidth": 0,
             "ticks": ""
            },
            "colorscale": [
             [
              0,
              "#0d0887"
             ],
             [
              0.1111111111111111,
              "#46039f"
             ],
             [
              0.2222222222222222,
              "#7201a8"
             ],
             [
              0.3333333333333333,
              "#9c179e"
             ],
             [
              0.4444444444444444,
              "#bd3786"
             ],
             [
              0.5555555555555556,
              "#d8576b"
             ],
             [
              0.6666666666666666,
              "#ed7953"
             ],
             [
              0.7777777777777778,
              "#fb9f3a"
             ],
             [
              0.8888888888888888,
              "#fdca26"
             ],
             [
              1,
              "#f0f921"
             ]
            ],
            "type": "contour"
           }
          ],
          "contourcarpet": [
           {
            "colorbar": {
             "outlinewidth": 0,
             "ticks": ""
            },
            "type": "contourcarpet"
           }
          ],
          "heatmap": [
           {
            "colorbar": {
             "outlinewidth": 0,
             "ticks": ""
            },
            "colorscale": [
             [
              0,
              "#0d0887"
             ],
             [
              0.1111111111111111,
              "#46039f"
             ],
             [
              0.2222222222222222,
              "#7201a8"
             ],
             [
              0.3333333333333333,
              "#9c179e"
             ],
             [
              0.4444444444444444,
              "#bd3786"
             ],
             [
              0.5555555555555556,
              "#d8576b"
             ],
             [
              0.6666666666666666,
              "#ed7953"
             ],
             [
              0.7777777777777778,
              "#fb9f3a"
             ],
             [
              0.8888888888888888,
              "#fdca26"
             ],
             [
              1,
              "#f0f921"
             ]
            ],
            "type": "heatmap"
           }
          ],
          "heatmapgl": [
           {
            "colorbar": {
             "outlinewidth": 0,
             "ticks": ""
            },
            "colorscale": [
             [
              0,
              "#0d0887"
             ],
             [
              0.1111111111111111,
              "#46039f"
             ],
             [
              0.2222222222222222,
              "#7201a8"
             ],
             [
              0.3333333333333333,
              "#9c179e"
             ],
             [
              0.4444444444444444,
              "#bd3786"
             ],
             [
              0.5555555555555556,
              "#d8576b"
             ],
             [
              0.6666666666666666,
              "#ed7953"
             ],
             [
              0.7777777777777778,
              "#fb9f3a"
             ],
             [
              0.8888888888888888,
              "#fdca26"
             ],
             [
              1,
              "#f0f921"
             ]
            ],
            "type": "heatmapgl"
           }
          ],
          "histogram": [
           {
            "marker": {
             "pattern": {
              "fillmode": "overlay",
              "size": 10,
              "solidity": 0.2
             }
            },
            "type": "histogram"
           }
          ],
          "histogram2d": [
           {
            "colorbar": {
             "outlinewidth": 0,
             "ticks": ""
            },
            "colorscale": [
             [
              0,
              "#0d0887"
             ],
             [
              0.1111111111111111,
              "#46039f"
             ],
             [
              0.2222222222222222,
              "#7201a8"
             ],
             [
              0.3333333333333333,
              "#9c179e"
             ],
             [
              0.4444444444444444,
              "#bd3786"
             ],
             [
              0.5555555555555556,
              "#d8576b"
             ],
             [
              0.6666666666666666,
              "#ed7953"
             ],
             [
              0.7777777777777778,
              "#fb9f3a"
             ],
             [
              0.8888888888888888,
              "#fdca26"
             ],
             [
              1,
              "#f0f921"
             ]
            ],
            "type": "histogram2d"
           }
          ],
          "histogram2dcontour": [
           {
            "colorbar": {
             "outlinewidth": 0,
             "ticks": ""
            },
            "colorscale": [
             [
              0,
              "#0d0887"
             ],
             [
              0.1111111111111111,
              "#46039f"
             ],
             [
              0.2222222222222222,
              "#7201a8"
             ],
             [
              0.3333333333333333,
              "#9c179e"
             ],
             [
              0.4444444444444444,
              "#bd3786"
             ],
             [
              0.5555555555555556,
              "#d8576b"
             ],
             [
              0.6666666666666666,
              "#ed7953"
             ],
             [
              0.7777777777777778,
              "#fb9f3a"
             ],
             [
              0.8888888888888888,
              "#fdca26"
             ],
             [
              1,
              "#f0f921"
             ]
            ],
            "type": "histogram2dcontour"
           }
          ],
          "mesh3d": [
           {
            "colorbar": {
             "outlinewidth": 0,
             "ticks": ""
            },
            "type": "mesh3d"
           }
          ],
          "parcoords": [
           {
            "line": {
             "colorbar": {
              "outlinewidth": 0,
              "ticks": ""
             }
            },
            "type": "parcoords"
           }
          ],
          "pie": [
           {
            "automargin": true,
            "type": "pie"
           }
          ],
          "scatter": [
           {
            "fillpattern": {
             "fillmode": "overlay",
             "size": 10,
             "solidity": 0.2
            },
            "type": "scatter"
           }
          ],
          "scatter3d": [
           {
            "line": {
             "colorbar": {
              "outlinewidth": 0,
              "ticks": ""
             }
            },
            "marker": {
             "colorbar": {
              "outlinewidth": 0,
              "ticks": ""
             }
            },
            "type": "scatter3d"
           }
          ],
          "scattercarpet": [
           {
            "marker": {
             "colorbar": {
              "outlinewidth": 0,
              "ticks": ""
             }
            },
            "type": "scattercarpet"
           }
          ],
          "scattergeo": [
           {
            "marker": {
             "colorbar": {
              "outlinewidth": 0,
              "ticks": ""
             }
            },
            "type": "scattergeo"
           }
          ],
          "scattergl": [
           {
            "marker": {
             "colorbar": {
              "outlinewidth": 0,
              "ticks": ""
             }
            },
            "type": "scattergl"
           }
          ],
          "scattermapbox": [
           {
            "marker": {
             "colorbar": {
              "outlinewidth": 0,
              "ticks": ""
             }
            },
            "type": "scattermapbox"
           }
          ],
          "scatterpolar": [
           {
            "marker": {
             "colorbar": {
              "outlinewidth": 0,
              "ticks": ""
             }
            },
            "type": "scatterpolar"
           }
          ],
          "scatterpolargl": [
           {
            "marker": {
             "colorbar": {
              "outlinewidth": 0,
              "ticks": ""
             }
            },
            "type": "scatterpolargl"
           }
          ],
          "scatterternary": [
           {
            "marker": {
             "colorbar": {
              "outlinewidth": 0,
              "ticks": ""
             }
            },
            "type": "scatterternary"
           }
          ],
          "surface": [
           {
            "colorbar": {
             "outlinewidth": 0,
             "ticks": ""
            },
            "colorscale": [
             [
              0,
              "#0d0887"
             ],
             [
              0.1111111111111111,
              "#46039f"
             ],
             [
              0.2222222222222222,
              "#7201a8"
             ],
             [
              0.3333333333333333,
              "#9c179e"
             ],
             [
              0.4444444444444444,
              "#bd3786"
             ],
             [
              0.5555555555555556,
              "#d8576b"
             ],
             [
              0.6666666666666666,
              "#ed7953"
             ],
             [
              0.7777777777777778,
              "#fb9f3a"
             ],
             [
              0.8888888888888888,
              "#fdca26"
             ],
             [
              1,
              "#f0f921"
             ]
            ],
            "type": "surface"
           }
          ],
          "table": [
           {
            "cells": {
             "fill": {
              "color": "#EBF0F8"
             },
             "line": {
              "color": "white"
             }
            },
            "header": {
             "fill": {
              "color": "#C8D4E3"
             },
             "line": {
              "color": "white"
             }
            },
            "type": "table"
           }
          ]
         },
         "layout": {
          "annotationdefaults": {
           "arrowcolor": "#2a3f5f",
           "arrowhead": 0,
           "arrowwidth": 1
          },
          "autotypenumbers": "strict",
          "coloraxis": {
           "colorbar": {
            "outlinewidth": 0,
            "ticks": ""
           }
          },
          "colorscale": {
           "diverging": [
            [
             0,
             "#8e0152"
            ],
            [
             0.1,
             "#c51b7d"
            ],
            [
             0.2,
             "#de77ae"
            ],
            [
             0.3,
             "#f1b6da"
            ],
            [
             0.4,
             "#fde0ef"
            ],
            [
             0.5,
             "#f7f7f7"
            ],
            [
             0.6,
             "#e6f5d0"
            ],
            [
             0.7,
             "#b8e186"
            ],
            [
             0.8,
             "#7fbc41"
            ],
            [
             0.9,
             "#4d9221"
            ],
            [
             1,
             "#276419"
            ]
           ],
           "sequential": [
            [
             0,
             "#0d0887"
            ],
            [
             0.1111111111111111,
             "#46039f"
            ],
            [
             0.2222222222222222,
             "#7201a8"
            ],
            [
             0.3333333333333333,
             "#9c179e"
            ],
            [
             0.4444444444444444,
             "#bd3786"
            ],
            [
             0.5555555555555556,
             "#d8576b"
            ],
            [
             0.6666666666666666,
             "#ed7953"
            ],
            [
             0.7777777777777778,
             "#fb9f3a"
            ],
            [
             0.8888888888888888,
             "#fdca26"
            ],
            [
             1,
             "#f0f921"
            ]
           ],
           "sequentialminus": [
            [
             0,
             "#0d0887"
            ],
            [
             0.1111111111111111,
             "#46039f"
            ],
            [
             0.2222222222222222,
             "#7201a8"
            ],
            [
             0.3333333333333333,
             "#9c179e"
            ],
            [
             0.4444444444444444,
             "#bd3786"
            ],
            [
             0.5555555555555556,
             "#d8576b"
            ],
            [
             0.6666666666666666,
             "#ed7953"
            ],
            [
             0.7777777777777778,
             "#fb9f3a"
            ],
            [
             0.8888888888888888,
             "#fdca26"
            ],
            [
             1,
             "#f0f921"
            ]
           ]
          },
          "colorway": [
           "#636efa",
           "#EF553B",
           "#00cc96",
           "#ab63fa",
           "#FFA15A",
           "#19d3f3",
           "#FF6692",
           "#B6E880",
           "#FF97FF",
           "#FECB52"
          ],
          "font": {
           "color": "#2a3f5f"
          },
          "geo": {
           "bgcolor": "white",
           "lakecolor": "white",
           "landcolor": "#E5ECF6",
           "showlakes": true,
           "showland": true,
           "subunitcolor": "white"
          },
          "hoverlabel": {
           "align": "left"
          },
          "hovermode": "closest",
          "mapbox": {
           "style": "light"
          },
          "paper_bgcolor": "white",
          "plot_bgcolor": "#E5ECF6",
          "polar": {
           "angularaxis": {
            "gridcolor": "white",
            "linecolor": "white",
            "ticks": ""
           },
           "bgcolor": "#E5ECF6",
           "radialaxis": {
            "gridcolor": "white",
            "linecolor": "white",
            "ticks": ""
           }
          },
          "scene": {
           "xaxis": {
            "backgroundcolor": "#E5ECF6",
            "gridcolor": "white",
            "gridwidth": 2,
            "linecolor": "white",
            "showbackground": true,
            "ticks": "",
            "zerolinecolor": "white"
           },
           "yaxis": {
            "backgroundcolor": "#E5ECF6",
            "gridcolor": "white",
            "gridwidth": 2,
            "linecolor": "white",
            "showbackground": true,
            "ticks": "",
            "zerolinecolor": "white"
           },
           "zaxis": {
            "backgroundcolor": "#E5ECF6",
            "gridcolor": "white",
            "gridwidth": 2,
            "linecolor": "white",
            "showbackground": true,
            "ticks": "",
            "zerolinecolor": "white"
           }
          },
          "shapedefaults": {
           "line": {
            "color": "#2a3f5f"
           }
          },
          "ternary": {
           "aaxis": {
            "gridcolor": "white",
            "linecolor": "white",
            "ticks": ""
           },
           "baxis": {
            "gridcolor": "white",
            "linecolor": "white",
            "ticks": ""
           },
           "bgcolor": "#E5ECF6",
           "caxis": {
            "gridcolor": "white",
            "linecolor": "white",
            "ticks": ""
           }
          },
          "title": {
           "x": 0.05
          },
          "xaxis": {
           "automargin": true,
           "gridcolor": "white",
           "linecolor": "white",
           "ticks": "",
           "title": {
            "standoff": 15
           },
           "zerolinecolor": "white",
           "zerolinewidth": 2
          },
          "yaxis": {
           "automargin": true,
           "gridcolor": "white",
           "linecolor": "white",
           "ticks": "",
           "title": {
            "standoff": 15
           },
           "zerolinecolor": "white",
           "zerolinewidth": 2
          }
         }
        },
        "title": {
         "text": "BMI Distribution",
         "x": 0,
         "xref": "paper"
        },
        "xaxis": {
         "title": {
          "text": "BMI Category<br><sup><i></i></sup>"
         }
        },
        "yaxis": {
         "gridcolor": "lightgrey",
         "title": {
          "text": "Percentage<br><sup><i>%</i></sup>"
         }
        }
       }
      }
     },
     "metadata": {},
     "output_type": "display_data"
    },
    {
     "data": {
      "application/vnd.plotly.v1+json": {
       "config": {
        "plotlyServerURL": "https://plot.ly"
       },
       "data": [
        {
         "boxpoints": "all",
         "jitter": 0.3,
         "marker": {
          "color": "#604b62"
         },
         "name": "WHITE",
         "notched": true,
         "pointpos": -1.8,
         "type": "box",
         "y": [
          24.8,
          28.2,
          25.5,
          22.1,
          28.2,
          25.1,
          28.5,
          36.4,
          23.2,
          37.8,
          30.46,
          30.71,
          25.4,
          26.6,
          25.3,
          18,
          25.08,
          34.13,
          42.1,
          22.92,
          23.78,
          31.05,
          28.31,
          28.87,
          29.17,
          29.91,
          24,
          35.71,
          30.48,
          38.8,
          23.58,
          23.49,
          26.27,
          30.27,
          25.9,
          29.43,
          30.05,
          20.88,
          25.79,
          28.34,
          29.51,
          25.61,
          26.97,
          31.05,
          26.41,
          28.08,
          29.88,
          34.17,
          29.3,
          40.6,
          25.92,
          33.09,
          24.02,
          21.22,
          22.6,
          26.4,
          24.1,
          23.6,
          42.9,
          29,
          29.86,
          18.29,
          25.97,
          31.09,
          34,
          27.07,
          43.77,
          29.5,
          23.55,
          26.82,
          31.57,
          22.6,
          30.34,
          28.67,
          27.81,
          31.52,
          21.86,
          45.7,
          29.96,
          39.9,
          24.17,
          21.12,
          30.26,
          28.4,
          22.19,
          26.8,
          24.1,
          26.61,
          42.3,
          41.8,
          32.7,
          34.5,
          22.4,
          21.1,
          27
         ]
        },
        {
         "boxpoints": "all",
         "jitter": 0.3,
         "marker": {
          "color": "#957897"
         },
         "name": "MIXED",
         "notched": true,
         "pointpos": -1.8,
         "type": "box",
         "y": [
          22.31,
          25.7,
          31.5,
          28.4,
          30.73,
          23.42,
          23.51,
          25.8,
          38.87,
          39.35,
          42.4
         ]
        },
        {
         "boxpoints": "all",
         "jitter": 0.3,
         "marker": {
          "color": "#9d83a0"
         },
         "name": "BLACK",
         "notched": true,
         "pointpos": -1.8,
         "type": "box",
         "y": [
          22.7,
          33.8,
          21.5,
          35.28,
          28.4,
          34.12,
          42.4,
          43.8,
          39.98,
          27.6,
          30.7,
          36.42,
          24.54,
          28.25,
          24.84,
          46.48,
          30.44,
          24.49,
          19.99,
          24.77,
          43.25,
          30.86,
          27.27,
          25.88,
          32.92,
          30.99,
          28.83,
          26.93,
          29.9,
          33.1,
          24.1,
          31.1,
          21.6,
          37.9,
          29.76,
          44.4,
          38.6,
          27.6,
          31.61,
          33.12,
          31.35,
          33,
          26.5,
          33.4,
          36.5,
          27.85,
          31.3
         ]
        },
        {
         "boxpoints": "all",
         "jitter": 0.3,
         "marker": {
          "color": "#a68ea8"
         },
         "name": "EAST ASIAN",
         "notched": true,
         "pointpos": -1.8,
         "type": "box",
         "y": [
          22.9,
          27.83,
          28.9,
          20.9,
          21.98,
          29.3,
          23.27,
          36.13,
          30.49,
          31.9,
          20.33,
          23.7,
          26,
          22.56,
          23.01,
          22.27,
          23.95
         ]
        },
        {
         "boxpoints": "all",
         "jitter": 0.3,
         "marker": {
          "color": "#af99b1"
         },
         "name": "SOUTH ASIAN",
         "notched": true,
         "pointpos": -1.8,
         "type": "box",
         "y": [
          26.1,
          23.07,
          23.4,
          33.9,
          29.3,
          26.18,
          30.49,
          29.29,
          25.77,
          25.43,
          29.43,
          29.48,
          28.27,
          30.75,
          29.9,
          35.88,
          23.01,
          29.8,
          32.96,
          36.42,
          28.21,
          22.3,
          27.8,
          32.34,
          35.18,
          26.4,
          27.56,
          26.16
         ]
        },
        {
         "boxpoints": "all",
         "jitter": 0.3,
         "marker": {
          "color": "#b8a4b9"
         },
         "name": "ASIAN",
         "notched": true,
         "pointpos": -1.8,
         "type": "box",
         "y": [
          23,
          25.62
         ]
        },
        {
         "boxpoints": "all",
         "jitter": 0.3,
         "marker": {
          "color": "#c0afc2"
         },
         "name": "All",
         "notched": true,
         "pointpos": -1.8,
         "type": "box",
         "y": [
          24.8,
          22.31,
          22.7,
          28.2,
          25.5,
          33.8,
          22.9,
          22.1,
          27.83,
          21.5,
          35.28,
          28.4,
          28.9,
          26.1,
          23,
          28.2,
          25.1,
          28.5,
          25.7,
          36.4,
          23.2,
          37.8,
          34.12,
          42.4,
          30.46,
          43.8,
          23.07,
          31.5,
          30.71,
          25.4,
          39.98,
          23.4,
          28.4,
          20.9,
          33.9,
          27.6,
          29.3,
          26.6,
          25.3,
          30.7,
          18,
          25.08,
          36.42,
          21.98,
          34.13,
          24.54,
          42.1,
          22.92,
          26.18,
          30.49,
          29.29,
          23.78,
          31.05,
          25.77,
          28.31,
          28.87,
          25.43,
          28.25,
          24.84,
          46.48,
          29.17,
          29.91,
          24,
          35.71,
          30.73,
          30.44,
          30.48,
          38.8,
          23.58,
          23.49,
          26.27,
          24.49,
          30.27,
          19.99,
          25.9,
          29.43,
          24.77,
          30.05,
          20.88,
          25.79,
          28.34,
          29.51,
          43.25,
          25.61,
          29.3,
          29.43,
          30.86,
          29.48,
          28.27,
          26.97,
          23.27,
          30.75,
          29.9,
          31.05,
          27.27,
          23.42,
          23.51,
          35.88,
          25.88,
          26.41,
          28.08,
          32.92,
          30.99,
          29.88,
          34.17,
          36.13,
          29.3,
          40.6,
          25.92,
          33.09,
          28.83,
          23.01,
          30.49,
          24.02,
          21.22,
          25.8,
          22.6,
          26.4,
          29.8,
          24.1,
          23.6,
          32.96,
          42.9,
          29,
          29.86,
          18.29,
          25.97,
          31.09,
          36.42,
          26.93,
          38.87,
          25.62,
          28.21,
          34,
          27.07,
          43.77,
          29.5,
          29.9,
          33.1,
          39.35,
          23.55,
          26.82,
          24.1,
          22.3,
          31.57,
          31.1,
          42.4,
          27.8,
          31.9,
          32.34,
          35.18,
          21.6,
          37.9,
          22.6,
          29.76,
          30.34,
          20.33,
          28.67,
          26.4,
          27.81,
          44.4,
          31.52,
          21.86,
          45.7,
          38.6,
          27.6,
          23.7,
          29.96,
          27.56,
          39.9,
          26,
          31.61,
          22.56,
          23.01,
          24.17,
          22.27,
          21.12,
          30.26,
          33.12,
          31.35,
          28.4,
          22.19,
          26.16,
          33,
          26.5,
          26.8,
          33.4,
          36.5,
          24.1,
          26.61,
          23.95,
          27.85,
          42.3,
          41.8,
          32.7,
          31.3,
          34.5,
          22.4,
          21.1,
          27
         ]
        }
       ],
       "layout": {
        "paper_bgcolor": "white",
        "plot_bgcolor": "#F6F8FC",
        "showlegend": false,
        "template": {
         "data": {
          "bar": [
           {
            "error_x": {
             "color": "#2a3f5f"
            },
            "error_y": {
             "color": "#2a3f5f"
            },
            "marker": {
             "line": {
              "color": "#E5ECF6",
              "width": 0.5
             },
             "pattern": {
              "fillmode": "overlay",
              "size": 10,
              "solidity": 0.2
             }
            },
            "type": "bar"
           }
          ],
          "barpolar": [
           {
            "marker": {
             "line": {
              "color": "#E5ECF6",
              "width": 0.5
             },
             "pattern": {
              "fillmode": "overlay",
              "size": 10,
              "solidity": 0.2
             }
            },
            "type": "barpolar"
           }
          ],
          "carpet": [
           {
            "aaxis": {
             "endlinecolor": "#2a3f5f",
             "gridcolor": "white",
             "linecolor": "white",
             "minorgridcolor": "white",
             "startlinecolor": "#2a3f5f"
            },
            "baxis": {
             "endlinecolor": "#2a3f5f",
             "gridcolor": "white",
             "linecolor": "white",
             "minorgridcolor": "white",
             "startlinecolor": "#2a3f5f"
            },
            "type": "carpet"
           }
          ],
          "choropleth": [
           {
            "colorbar": {
             "outlinewidth": 0,
             "ticks": ""
            },
            "type": "choropleth"
           }
          ],
          "contour": [
           {
            "colorbar": {
             "outlinewidth": 0,
             "ticks": ""
            },
            "colorscale": [
             [
              0,
              "#0d0887"
             ],
             [
              0.1111111111111111,
              "#46039f"
             ],
             [
              0.2222222222222222,
              "#7201a8"
             ],
             [
              0.3333333333333333,
              "#9c179e"
             ],
             [
              0.4444444444444444,
              "#bd3786"
             ],
             [
              0.5555555555555556,
              "#d8576b"
             ],
             [
              0.6666666666666666,
              "#ed7953"
             ],
             [
              0.7777777777777778,
              "#fb9f3a"
             ],
             [
              0.8888888888888888,
              "#fdca26"
             ],
             [
              1,
              "#f0f921"
             ]
            ],
            "type": "contour"
           }
          ],
          "contourcarpet": [
           {
            "colorbar": {
             "outlinewidth": 0,
             "ticks": ""
            },
            "type": "contourcarpet"
           }
          ],
          "heatmap": [
           {
            "colorbar": {
             "outlinewidth": 0,
             "ticks": ""
            },
            "colorscale": [
             [
              0,
              "#0d0887"
             ],
             [
              0.1111111111111111,
              "#46039f"
             ],
             [
              0.2222222222222222,
              "#7201a8"
             ],
             [
              0.3333333333333333,
              "#9c179e"
             ],
             [
              0.4444444444444444,
              "#bd3786"
             ],
             [
              0.5555555555555556,
              "#d8576b"
             ],
             [
              0.6666666666666666,
              "#ed7953"
             ],
             [
              0.7777777777777778,
              "#fb9f3a"
             ],
             [
              0.8888888888888888,
              "#fdca26"
             ],
             [
              1,
              "#f0f921"
             ]
            ],
            "type": "heatmap"
           }
          ],
          "heatmapgl": [
           {
            "colorbar": {
             "outlinewidth": 0,
             "ticks": ""
            },
            "colorscale": [
             [
              0,
              "#0d0887"
             ],
             [
              0.1111111111111111,
              "#46039f"
             ],
             [
              0.2222222222222222,
              "#7201a8"
             ],
             [
              0.3333333333333333,
              "#9c179e"
             ],
             [
              0.4444444444444444,
              "#bd3786"
             ],
             [
              0.5555555555555556,
              "#d8576b"
             ],
             [
              0.6666666666666666,
              "#ed7953"
             ],
             [
              0.7777777777777778,
              "#fb9f3a"
             ],
             [
              0.8888888888888888,
              "#fdca26"
             ],
             [
              1,
              "#f0f921"
             ]
            ],
            "type": "heatmapgl"
           }
          ],
          "histogram": [
           {
            "marker": {
             "pattern": {
              "fillmode": "overlay",
              "size": 10,
              "solidity": 0.2
             }
            },
            "type": "histogram"
           }
          ],
          "histogram2d": [
           {
            "colorbar": {
             "outlinewidth": 0,
             "ticks": ""
            },
            "colorscale": [
             [
              0,
              "#0d0887"
             ],
             [
              0.1111111111111111,
              "#46039f"
             ],
             [
              0.2222222222222222,
              "#7201a8"
             ],
             [
              0.3333333333333333,
              "#9c179e"
             ],
             [
              0.4444444444444444,
              "#bd3786"
             ],
             [
              0.5555555555555556,
              "#d8576b"
             ],
             [
              0.6666666666666666,
              "#ed7953"
             ],
             [
              0.7777777777777778,
              "#fb9f3a"
             ],
             [
              0.8888888888888888,
              "#fdca26"
             ],
             [
              1,
              "#f0f921"
             ]
            ],
            "type": "histogram2d"
           }
          ],
          "histogram2dcontour": [
           {
            "colorbar": {
             "outlinewidth": 0,
             "ticks": ""
            },
            "colorscale": [
             [
              0,
              "#0d0887"
             ],
             [
              0.1111111111111111,
              "#46039f"
             ],
             [
              0.2222222222222222,
              "#7201a8"
             ],
             [
              0.3333333333333333,
              "#9c179e"
             ],
             [
              0.4444444444444444,
              "#bd3786"
             ],
             [
              0.5555555555555556,
              "#d8576b"
             ],
             [
              0.6666666666666666,
              "#ed7953"
             ],
             [
              0.7777777777777778,
              "#fb9f3a"
             ],
             [
              0.8888888888888888,
              "#fdca26"
             ],
             [
              1,
              "#f0f921"
             ]
            ],
            "type": "histogram2dcontour"
           }
          ],
          "mesh3d": [
           {
            "colorbar": {
             "outlinewidth": 0,
             "ticks": ""
            },
            "type": "mesh3d"
           }
          ],
          "parcoords": [
           {
            "line": {
             "colorbar": {
              "outlinewidth": 0,
              "ticks": ""
             }
            },
            "type": "parcoords"
           }
          ],
          "pie": [
           {
            "automargin": true,
            "type": "pie"
           }
          ],
          "scatter": [
           {
            "fillpattern": {
             "fillmode": "overlay",
             "size": 10,
             "solidity": 0.2
            },
            "type": "scatter"
           }
          ],
          "scatter3d": [
           {
            "line": {
             "colorbar": {
              "outlinewidth": 0,
              "ticks": ""
             }
            },
            "marker": {
             "colorbar": {
              "outlinewidth": 0,
              "ticks": ""
             }
            },
            "type": "scatter3d"
           }
          ],
          "scattercarpet": [
           {
            "marker": {
             "colorbar": {
              "outlinewidth": 0,
              "ticks": ""
             }
            },
            "type": "scattercarpet"
           }
          ],
          "scattergeo": [
           {
            "marker": {
             "colorbar": {
              "outlinewidth": 0,
              "ticks": ""
             }
            },
            "type": "scattergeo"
           }
          ],
          "scattergl": [
           {
            "marker": {
             "colorbar": {
              "outlinewidth": 0,
              "ticks": ""
             }
            },
            "type": "scattergl"
           }
          ],
          "scattermapbox": [
           {
            "marker": {
             "colorbar": {
              "outlinewidth": 0,
              "ticks": ""
             }
            },
            "type": "scattermapbox"
           }
          ],
          "scatterpolar": [
           {
            "marker": {
             "colorbar": {
              "outlinewidth": 0,
              "ticks": ""
             }
            },
            "type": "scatterpolar"
           }
          ],
          "scatterpolargl": [
           {
            "marker": {
             "colorbar": {
              "outlinewidth": 0,
              "ticks": ""
             }
            },
            "type": "scatterpolargl"
           }
          ],
          "scatterternary": [
           {
            "marker": {
             "colorbar": {
              "outlinewidth": 0,
              "ticks": ""
             }
            },
            "type": "scatterternary"
           }
          ],
          "surface": [
           {
            "colorbar": {
             "outlinewidth": 0,
             "ticks": ""
            },
            "colorscale": [
             [
              0,
              "#0d0887"
             ],
             [
              0.1111111111111111,
              "#46039f"
             ],
             [
              0.2222222222222222,
              "#7201a8"
             ],
             [
              0.3333333333333333,
              "#9c179e"
             ],
             [
              0.4444444444444444,
              "#bd3786"
             ],
             [
              0.5555555555555556,
              "#d8576b"
             ],
             [
              0.6666666666666666,
              "#ed7953"
             ],
             [
              0.7777777777777778,
              "#fb9f3a"
             ],
             [
              0.8888888888888888,
              "#fdca26"
             ],
             [
              1,
              "#f0f921"
             ]
            ],
            "type": "surface"
           }
          ],
          "table": [
           {
            "cells": {
             "fill": {
              "color": "#EBF0F8"
             },
             "line": {
              "color": "white"
             }
            },
            "header": {
             "fill": {
              "color": "#C8D4E3"
             },
             "line": {
              "color": "white"
             }
            },
            "type": "table"
           }
          ]
         },
         "layout": {
          "annotationdefaults": {
           "arrowcolor": "#2a3f5f",
           "arrowhead": 0,
           "arrowwidth": 1
          },
          "autotypenumbers": "strict",
          "coloraxis": {
           "colorbar": {
            "outlinewidth": 0,
            "ticks": ""
           }
          },
          "colorscale": {
           "diverging": [
            [
             0,
             "#8e0152"
            ],
            [
             0.1,
             "#c51b7d"
            ],
            [
             0.2,
             "#de77ae"
            ],
            [
             0.3,
             "#f1b6da"
            ],
            [
             0.4,
             "#fde0ef"
            ],
            [
             0.5,
             "#f7f7f7"
            ],
            [
             0.6,
             "#e6f5d0"
            ],
            [
             0.7,
             "#b8e186"
            ],
            [
             0.8,
             "#7fbc41"
            ],
            [
             0.9,
             "#4d9221"
            ],
            [
             1,
             "#276419"
            ]
           ],
           "sequential": [
            [
             0,
             "#0d0887"
            ],
            [
             0.1111111111111111,
             "#46039f"
            ],
            [
             0.2222222222222222,
             "#7201a8"
            ],
            [
             0.3333333333333333,
             "#9c179e"
            ],
            [
             0.4444444444444444,
             "#bd3786"
            ],
            [
             0.5555555555555556,
             "#d8576b"
            ],
            [
             0.6666666666666666,
             "#ed7953"
            ],
            [
             0.7777777777777778,
             "#fb9f3a"
            ],
            [
             0.8888888888888888,
             "#fdca26"
            ],
            [
             1,
             "#f0f921"
            ]
           ],
           "sequentialminus": [
            [
             0,
             "#0d0887"
            ],
            [
             0.1111111111111111,
             "#46039f"
            ],
            [
             0.2222222222222222,
             "#7201a8"
            ],
            [
             0.3333333333333333,
             "#9c179e"
            ],
            [
             0.4444444444444444,
             "#bd3786"
            ],
            [
             0.5555555555555556,
             "#d8576b"
            ],
            [
             0.6666666666666666,
             "#ed7953"
            ],
            [
             0.7777777777777778,
             "#fb9f3a"
            ],
            [
             0.8888888888888888,
             "#fdca26"
            ],
            [
             1,
             "#f0f921"
            ]
           ]
          },
          "colorway": [
           "#636efa",
           "#EF553B",
           "#00cc96",
           "#ab63fa",
           "#FFA15A",
           "#19d3f3",
           "#FF6692",
           "#B6E880",
           "#FF97FF",
           "#FECB52"
          ],
          "font": {
           "color": "#2a3f5f"
          },
          "geo": {
           "bgcolor": "white",
           "lakecolor": "white",
           "landcolor": "#E5ECF6",
           "showlakes": true,
           "showland": true,
           "subunitcolor": "white"
          },
          "hoverlabel": {
           "align": "left"
          },
          "hovermode": "closest",
          "mapbox": {
           "style": "light"
          },
          "paper_bgcolor": "white",
          "plot_bgcolor": "#E5ECF6",
          "polar": {
           "angularaxis": {
            "gridcolor": "white",
            "linecolor": "white",
            "ticks": ""
           },
           "bgcolor": "#E5ECF6",
           "radialaxis": {
            "gridcolor": "white",
            "linecolor": "white",
            "ticks": ""
           }
          },
          "scene": {
           "xaxis": {
            "backgroundcolor": "#E5ECF6",
            "gridcolor": "white",
            "gridwidth": 2,
            "linecolor": "white",
            "showbackground": true,
            "ticks": "",
            "zerolinecolor": "white"
           },
           "yaxis": {
            "backgroundcolor": "#E5ECF6",
            "gridcolor": "white",
            "gridwidth": 2,
            "linecolor": "white",
            "showbackground": true,
            "ticks": "",
            "zerolinecolor": "white"
           },
           "zaxis": {
            "backgroundcolor": "#E5ECF6",
            "gridcolor": "white",
            "gridwidth": 2,
            "linecolor": "white",
            "showbackground": true,
            "ticks": "",
            "zerolinecolor": "white"
           }
          },
          "shapedefaults": {
           "line": {
            "color": "#2a3f5f"
           }
          },
          "ternary": {
           "aaxis": {
            "gridcolor": "white",
            "linecolor": "white",
            "ticks": ""
           },
           "baxis": {
            "gridcolor": "white",
            "linecolor": "white",
            "ticks": ""
           },
           "bgcolor": "#E5ECF6",
           "caxis": {
            "gridcolor": "white",
            "linecolor": "white",
            "ticks": ""
           }
          },
          "title": {
           "x": 0.05
          },
          "xaxis": {
           "automargin": true,
           "gridcolor": "white",
           "linecolor": "white",
           "ticks": "",
           "title": {
            "standoff": 15
           },
           "zerolinecolor": "white",
           "zerolinewidth": 2
          },
          "yaxis": {
           "automargin": true,
           "gridcolor": "white",
           "linecolor": "white",
           "ticks": "",
           "title": {
            "standoff": 15
           },
           "zerolinecolor": "white",
           "zerolinewidth": 2
          }
         }
        },
        "title": {
         "text": "BMI Spread by Race",
         "x": 0,
         "xref": "paper"
        },
        "yaxis": {
         "gridcolor": "lightgrey",
         "title": {
          "text": "BMI<br><sup><i></i></sup>"
         }
        }
       }
      }
     },
     "metadata": {},
     "output_type": "display_data"
    }
   ],
   "source": [
    "ma.population_description()"
   ]
  },
  {
   "cell_type": "code",
   "execution_count": 16,
   "metadata": {},
   "outputs": [
    {
     "name": "stdout",
     "output_type": "stream",
     "text": [
      "Data consits of 200 rows after cleaning. \n",
      "        * 196 rows have been excluded.\n",
      "            \n"
     ]
    },
    {
     "data": {
      "application/vnd.plotly.v1+json": {
       "config": {
        "plotlyServerURL": "https://plot.ly"
       },
       "data": [
        {
         "marker": {
          "color": "#604b62"
         },
         "name": "< 38",
         "text": [
          "60.0"
         ],
         "type": "bar",
         "x": [
          "< 38"
         ],
         "y": [
          60
         ]
        },
        {
         "marker": {
          "color": "#604b62"
         },
         "name": "39 - 47",
         "text": [
          "38.0"
         ],
         "type": "bar",
         "x": [
          "39 - 47"
         ],
         "y": [
          38
         ]
        },
        {
         "marker": {
          "color": "#604b62"
         },
         "name": "> 48",
         "text": [
          "2.0"
         ],
         "type": "bar",
         "x": [
          "> 48"
         ],
         "y": [
          2
         ]
        }
       ],
       "layout": {
        "barmode": "stack",
        "paper_bgcolor": "white",
        "plot_bgcolor": "#F6F8FC",
        "template": {
         "data": {
          "bar": [
           {
            "error_x": {
             "color": "#2a3f5f"
            },
            "error_y": {
             "color": "#2a3f5f"
            },
            "marker": {
             "line": {
              "color": "#E5ECF6",
              "width": 0.5
             },
             "pattern": {
              "fillmode": "overlay",
              "size": 10,
              "solidity": 0.2
             }
            },
            "type": "bar"
           }
          ],
          "barpolar": [
           {
            "marker": {
             "line": {
              "color": "#E5ECF6",
              "width": 0.5
             },
             "pattern": {
              "fillmode": "overlay",
              "size": 10,
              "solidity": 0.2
             }
            },
            "type": "barpolar"
           }
          ],
          "carpet": [
           {
            "aaxis": {
             "endlinecolor": "#2a3f5f",
             "gridcolor": "white",
             "linecolor": "white",
             "minorgridcolor": "white",
             "startlinecolor": "#2a3f5f"
            },
            "baxis": {
             "endlinecolor": "#2a3f5f",
             "gridcolor": "white",
             "linecolor": "white",
             "minorgridcolor": "white",
             "startlinecolor": "#2a3f5f"
            },
            "type": "carpet"
           }
          ],
          "choropleth": [
           {
            "colorbar": {
             "outlinewidth": 0,
             "ticks": ""
            },
            "type": "choropleth"
           }
          ],
          "contour": [
           {
            "colorbar": {
             "outlinewidth": 0,
             "ticks": ""
            },
            "colorscale": [
             [
              0,
              "#0d0887"
             ],
             [
              0.1111111111111111,
              "#46039f"
             ],
             [
              0.2222222222222222,
              "#7201a8"
             ],
             [
              0.3333333333333333,
              "#9c179e"
             ],
             [
              0.4444444444444444,
              "#bd3786"
             ],
             [
              0.5555555555555556,
              "#d8576b"
             ],
             [
              0.6666666666666666,
              "#ed7953"
             ],
             [
              0.7777777777777778,
              "#fb9f3a"
             ],
             [
              0.8888888888888888,
              "#fdca26"
             ],
             [
              1,
              "#f0f921"
             ]
            ],
            "type": "contour"
           }
          ],
          "contourcarpet": [
           {
            "colorbar": {
             "outlinewidth": 0,
             "ticks": ""
            },
            "type": "contourcarpet"
           }
          ],
          "heatmap": [
           {
            "colorbar": {
             "outlinewidth": 0,
             "ticks": ""
            },
            "colorscale": [
             [
              0,
              "#0d0887"
             ],
             [
              0.1111111111111111,
              "#46039f"
             ],
             [
              0.2222222222222222,
              "#7201a8"
             ],
             [
              0.3333333333333333,
              "#9c179e"
             ],
             [
              0.4444444444444444,
              "#bd3786"
             ],
             [
              0.5555555555555556,
              "#d8576b"
             ],
             [
              0.6666666666666666,
              "#ed7953"
             ],
             [
              0.7777777777777778,
              "#fb9f3a"
             ],
             [
              0.8888888888888888,
              "#fdca26"
             ],
             [
              1,
              "#f0f921"
             ]
            ],
            "type": "heatmap"
           }
          ],
          "heatmapgl": [
           {
            "colorbar": {
             "outlinewidth": 0,
             "ticks": ""
            },
            "colorscale": [
             [
              0,
              "#0d0887"
             ],
             [
              0.1111111111111111,
              "#46039f"
             ],
             [
              0.2222222222222222,
              "#7201a8"
             ],
             [
              0.3333333333333333,
              "#9c179e"
             ],
             [
              0.4444444444444444,
              "#bd3786"
             ],
             [
              0.5555555555555556,
              "#d8576b"
             ],
             [
              0.6666666666666666,
              "#ed7953"
             ],
             [
              0.7777777777777778,
              "#fb9f3a"
             ],
             [
              0.8888888888888888,
              "#fdca26"
             ],
             [
              1,
              "#f0f921"
             ]
            ],
            "type": "heatmapgl"
           }
          ],
          "histogram": [
           {
            "marker": {
             "pattern": {
              "fillmode": "overlay",
              "size": 10,
              "solidity": 0.2
             }
            },
            "type": "histogram"
           }
          ],
          "histogram2d": [
           {
            "colorbar": {
             "outlinewidth": 0,
             "ticks": ""
            },
            "colorscale": [
             [
              0,
              "#0d0887"
             ],
             [
              0.1111111111111111,
              "#46039f"
             ],
             [
              0.2222222222222222,
              "#7201a8"
             ],
             [
              0.3333333333333333,
              "#9c179e"
             ],
             [
              0.4444444444444444,
              "#bd3786"
             ],
             [
              0.5555555555555556,
              "#d8576b"
             ],
             [
              0.6666666666666666,
              "#ed7953"
             ],
             [
              0.7777777777777778,
              "#fb9f3a"
             ],
             [
              0.8888888888888888,
              "#fdca26"
             ],
             [
              1,
              "#f0f921"
             ]
            ],
            "type": "histogram2d"
           }
          ],
          "histogram2dcontour": [
           {
            "colorbar": {
             "outlinewidth": 0,
             "ticks": ""
            },
            "colorscale": [
             [
              0,
              "#0d0887"
             ],
             [
              0.1111111111111111,
              "#46039f"
             ],
             [
              0.2222222222222222,
              "#7201a8"
             ],
             [
              0.3333333333333333,
              "#9c179e"
             ],
             [
              0.4444444444444444,
              "#bd3786"
             ],
             [
              0.5555555555555556,
              "#d8576b"
             ],
             [
              0.6666666666666666,
              "#ed7953"
             ],
             [
              0.7777777777777778,
              "#fb9f3a"
             ],
             [
              0.8888888888888888,
              "#fdca26"
             ],
             [
              1,
              "#f0f921"
             ]
            ],
            "type": "histogram2dcontour"
           }
          ],
          "mesh3d": [
           {
            "colorbar": {
             "outlinewidth": 0,
             "ticks": ""
            },
            "type": "mesh3d"
           }
          ],
          "parcoords": [
           {
            "line": {
             "colorbar": {
              "outlinewidth": 0,
              "ticks": ""
             }
            },
            "type": "parcoords"
           }
          ],
          "pie": [
           {
            "automargin": true,
            "type": "pie"
           }
          ],
          "scatter": [
           {
            "fillpattern": {
             "fillmode": "overlay",
             "size": 10,
             "solidity": 0.2
            },
            "type": "scatter"
           }
          ],
          "scatter3d": [
           {
            "line": {
             "colorbar": {
              "outlinewidth": 0,
              "ticks": ""
             }
            },
            "marker": {
             "colorbar": {
              "outlinewidth": 0,
              "ticks": ""
             }
            },
            "type": "scatter3d"
           }
          ],
          "scattercarpet": [
           {
            "marker": {
             "colorbar": {
              "outlinewidth": 0,
              "ticks": ""
             }
            },
            "type": "scattercarpet"
           }
          ],
          "scattergeo": [
           {
            "marker": {
             "colorbar": {
              "outlinewidth": 0,
              "ticks": ""
             }
            },
            "type": "scattergeo"
           }
          ],
          "scattergl": [
           {
            "marker": {
             "colorbar": {
              "outlinewidth": 0,
              "ticks": ""
             }
            },
            "type": "scattergl"
           }
          ],
          "scattermapbox": [
           {
            "marker": {
             "colorbar": {
              "outlinewidth": 0,
              "ticks": ""
             }
            },
            "type": "scattermapbox"
           }
          ],
          "scatterpolar": [
           {
            "marker": {
             "colorbar": {
              "outlinewidth": 0,
              "ticks": ""
             }
            },
            "type": "scatterpolar"
           }
          ],
          "scatterpolargl": [
           {
            "marker": {
             "colorbar": {
              "outlinewidth": 0,
              "ticks": ""
             }
            },
            "type": "scatterpolargl"
           }
          ],
          "scatterternary": [
           {
            "marker": {
             "colorbar": {
              "outlinewidth": 0,
              "ticks": ""
             }
            },
            "type": "scatterternary"
           }
          ],
          "surface": [
           {
            "colorbar": {
             "outlinewidth": 0,
             "ticks": ""
            },
            "colorscale": [
             [
              0,
              "#0d0887"
             ],
             [
              0.1111111111111111,
              "#46039f"
             ],
             [
              0.2222222222222222,
              "#7201a8"
             ],
             [
              0.3333333333333333,
              "#9c179e"
             ],
             [
              0.4444444444444444,
              "#bd3786"
             ],
             [
              0.5555555555555556,
              "#d8576b"
             ],
             [
              0.6666666666666666,
              "#ed7953"
             ],
             [
              0.7777777777777778,
              "#fb9f3a"
             ],
             [
              0.8888888888888888,
              "#fdca26"
             ],
             [
              1,
              "#f0f921"
             ]
            ],
            "type": "surface"
           }
          ],
          "table": [
           {
            "cells": {
             "fill": {
              "color": "#EBF0F8"
             },
             "line": {
              "color": "white"
             }
            },
            "header": {
             "fill": {
              "color": "#C8D4E3"
             },
             "line": {
              "color": "white"
             }
            },
            "type": "table"
           }
          ]
         },
         "layout": {
          "annotationdefaults": {
           "arrowcolor": "#2a3f5f",
           "arrowhead": 0,
           "arrowwidth": 1
          },
          "autotypenumbers": "strict",
          "coloraxis": {
           "colorbar": {
            "outlinewidth": 0,
            "ticks": ""
           }
          },
          "colorscale": {
           "diverging": [
            [
             0,
             "#8e0152"
            ],
            [
             0.1,
             "#c51b7d"
            ],
            [
             0.2,
             "#de77ae"
            ],
            [
             0.3,
             "#f1b6da"
            ],
            [
             0.4,
             "#fde0ef"
            ],
            [
             0.5,
             "#f7f7f7"
            ],
            [
             0.6,
             "#e6f5d0"
            ],
            [
             0.7,
             "#b8e186"
            ],
            [
             0.8,
             "#7fbc41"
            ],
            [
             0.9,
             "#4d9221"
            ],
            [
             1,
             "#276419"
            ]
           ],
           "sequential": [
            [
             0,
             "#0d0887"
            ],
            [
             0.1111111111111111,
             "#46039f"
            ],
            [
             0.2222222222222222,
             "#7201a8"
            ],
            [
             0.3333333333333333,
             "#9c179e"
            ],
            [
             0.4444444444444444,
             "#bd3786"
            ],
            [
             0.5555555555555556,
             "#d8576b"
            ],
            [
             0.6666666666666666,
             "#ed7953"
            ],
            [
             0.7777777777777778,
             "#fb9f3a"
            ],
            [
             0.8888888888888888,
             "#fdca26"
            ],
            [
             1,
             "#f0f921"
            ]
           ],
           "sequentialminus": [
            [
             0,
             "#0d0887"
            ],
            [
             0.1111111111111111,
             "#46039f"
            ],
            [
             0.2222222222222222,
             "#7201a8"
            ],
            [
             0.3333333333333333,
             "#9c179e"
            ],
            [
             0.4444444444444444,
             "#bd3786"
            ],
            [
             0.5555555555555556,
             "#d8576b"
            ],
            [
             0.6666666666666666,
             "#ed7953"
            ],
            [
             0.7777777777777778,
             "#fb9f3a"
            ],
            [
             0.8888888888888888,
             "#fdca26"
            ],
            [
             1,
             "#f0f921"
            ]
           ]
          },
          "colorway": [
           "#636efa",
           "#EF553B",
           "#00cc96",
           "#ab63fa",
           "#FFA15A",
           "#19d3f3",
           "#FF6692",
           "#B6E880",
           "#FF97FF",
           "#FECB52"
          ],
          "font": {
           "color": "#2a3f5f"
          },
          "geo": {
           "bgcolor": "white",
           "lakecolor": "white",
           "landcolor": "#E5ECF6",
           "showlakes": true,
           "showland": true,
           "subunitcolor": "white"
          },
          "hoverlabel": {
           "align": "left"
          },
          "hovermode": "closest",
          "mapbox": {
           "style": "light"
          },
          "paper_bgcolor": "white",
          "plot_bgcolor": "#E5ECF6",
          "polar": {
           "angularaxis": {
            "gridcolor": "white",
            "linecolor": "white",
            "ticks": ""
           },
           "bgcolor": "#E5ECF6",
           "radialaxis": {
            "gridcolor": "white",
            "linecolor": "white",
            "ticks": ""
           }
          },
          "scene": {
           "xaxis": {
            "backgroundcolor": "#E5ECF6",
            "gridcolor": "white",
            "gridwidth": 2,
            "linecolor": "white",
            "showbackground": true,
            "ticks": "",
            "zerolinecolor": "white"
           },
           "yaxis": {
            "backgroundcolor": "#E5ECF6",
            "gridcolor": "white",
            "gridwidth": 2,
            "linecolor": "white",
            "showbackground": true,
            "ticks": "",
            "zerolinecolor": "white"
           },
           "zaxis": {
            "backgroundcolor": "#E5ECF6",
            "gridcolor": "white",
            "gridwidth": 2,
            "linecolor": "white",
            "showbackground": true,
            "ticks": "",
            "zerolinecolor": "white"
           }
          },
          "shapedefaults": {
           "line": {
            "color": "#2a3f5f"
           }
          },
          "ternary": {
           "aaxis": {
            "gridcolor": "white",
            "linecolor": "white",
            "ticks": ""
           },
           "baxis": {
            "gridcolor": "white",
            "linecolor": "white",
            "ticks": ""
           },
           "bgcolor": "#E5ECF6",
           "caxis": {
            "gridcolor": "white",
            "linecolor": "white",
            "ticks": ""
           }
          },
          "title": {
           "x": 0.05
          },
          "xaxis": {
           "automargin": true,
           "gridcolor": "white",
           "linecolor": "white",
           "ticks": "",
           "title": {
            "standoff": 15
           },
           "zerolinecolor": "white",
           "zerolinewidth": 2
          },
          "yaxis": {
           "automargin": true,
           "gridcolor": "white",
           "linecolor": "white",
           "ticks": "",
           "title": {
            "standoff": 15
           },
           "zerolinecolor": "white",
           "zerolinewidth": 2
          }
         }
        },
        "title": {
         "text": "HbA1C Distribution",
         "x": 0,
         "xref": "paper"
        },
        "xaxis": {
         "title": {
          "text": "HbA1C Category<br><sup><i>mmol/mol</i></sup>"
         }
        },
        "yaxis": {
         "gridcolor": "lightgrey",
         "title": {
          "text": "Percentage<br><sup><i>%</i></sup>"
         }
        }
       }
      }
     },
     "metadata": {},
     "output_type": "display_data"
    },
    {
     "data": {
      "application/vnd.plotly.v1+json": {
       "config": {
        "plotlyServerURL": "https://plot.ly"
       },
       "data": [
        {
         "marker": {
          "color": "#604b62"
         },
         "name": "ASIAN",
         "text": [
          "0.5",
          "0.5"
         ],
         "type": "bar",
         "x": [
          "< 38",
          "39 - 47"
         ],
         "y": [
          0.5,
          0.5
         ]
        },
        {
         "marker": {
          "color": "#957897"
         },
         "name": "BLACK",
         "text": [
          "12.0",
          "11.0",
          "0.5"
         ],
         "type": "bar",
         "x": [
          "< 38",
          "39 - 47",
          "> 48"
         ],
         "y": [
          12,
          11,
          0.5
         ]
        },
        {
         "marker": {
          "color": "#9d83a0"
         },
         "name": "EAST ASIAN",
         "text": [
          "5.5",
          "3.0"
         ],
         "type": "bar",
         "x": [
          "< 38",
          "39 - 47"
         ],
         "y": [
          5.5,
          3
         ]
        },
        {
         "marker": {
          "color": "#a68ea8"
         },
         "name": "MIXED",
         "text": [
          "3.0",
          "2.5"
         ],
         "type": "bar",
         "x": [
          "< 38",
          "39 - 47"
         ],
         "y": [
          3,
          2.5
         ]
        },
        {
         "marker": {
          "color": "#af99b1"
         },
         "name": "SOUTH ASIAN",
         "text": [
          "7.0",
          "6.0",
          "1.0"
         ],
         "type": "bar",
         "x": [
          "< 38",
          "39 - 47",
          "> 48"
         ],
         "y": [
          7,
          6,
          1
         ]
        },
        {
         "marker": {
          "color": "#b8a4b9"
         },
         "name": "WHITE",
         "text": [
          "32.0",
          "15.0",
          "0.5"
         ],
         "type": "bar",
         "x": [
          "< 38",
          "39 - 47",
          "> 48"
         ],
         "y": [
          32,
          15,
          0.5
         ]
        }
       ],
       "layout": {
        "barmode": "stack",
        "paper_bgcolor": "white",
        "plot_bgcolor": "#F6F8FC",
        "template": {
         "data": {
          "bar": [
           {
            "error_x": {
             "color": "#2a3f5f"
            },
            "error_y": {
             "color": "#2a3f5f"
            },
            "marker": {
             "line": {
              "color": "#E5ECF6",
              "width": 0.5
             },
             "pattern": {
              "fillmode": "overlay",
              "size": 10,
              "solidity": 0.2
             }
            },
            "type": "bar"
           }
          ],
          "barpolar": [
           {
            "marker": {
             "line": {
              "color": "#E5ECF6",
              "width": 0.5
             },
             "pattern": {
              "fillmode": "overlay",
              "size": 10,
              "solidity": 0.2
             }
            },
            "type": "barpolar"
           }
          ],
          "carpet": [
           {
            "aaxis": {
             "endlinecolor": "#2a3f5f",
             "gridcolor": "white",
             "linecolor": "white",
             "minorgridcolor": "white",
             "startlinecolor": "#2a3f5f"
            },
            "baxis": {
             "endlinecolor": "#2a3f5f",
             "gridcolor": "white",
             "linecolor": "white",
             "minorgridcolor": "white",
             "startlinecolor": "#2a3f5f"
            },
            "type": "carpet"
           }
          ],
          "choropleth": [
           {
            "colorbar": {
             "outlinewidth": 0,
             "ticks": ""
            },
            "type": "choropleth"
           }
          ],
          "contour": [
           {
            "colorbar": {
             "outlinewidth": 0,
             "ticks": ""
            },
            "colorscale": [
             [
              0,
              "#0d0887"
             ],
             [
              0.1111111111111111,
              "#46039f"
             ],
             [
              0.2222222222222222,
              "#7201a8"
             ],
             [
              0.3333333333333333,
              "#9c179e"
             ],
             [
              0.4444444444444444,
              "#bd3786"
             ],
             [
              0.5555555555555556,
              "#d8576b"
             ],
             [
              0.6666666666666666,
              "#ed7953"
             ],
             [
              0.7777777777777778,
              "#fb9f3a"
             ],
             [
              0.8888888888888888,
              "#fdca26"
             ],
             [
              1,
              "#f0f921"
             ]
            ],
            "type": "contour"
           }
          ],
          "contourcarpet": [
           {
            "colorbar": {
             "outlinewidth": 0,
             "ticks": ""
            },
            "type": "contourcarpet"
           }
          ],
          "heatmap": [
           {
            "colorbar": {
             "outlinewidth": 0,
             "ticks": ""
            },
            "colorscale": [
             [
              0,
              "#0d0887"
             ],
             [
              0.1111111111111111,
              "#46039f"
             ],
             [
              0.2222222222222222,
              "#7201a8"
             ],
             [
              0.3333333333333333,
              "#9c179e"
             ],
             [
              0.4444444444444444,
              "#bd3786"
             ],
             [
              0.5555555555555556,
              "#d8576b"
             ],
             [
              0.6666666666666666,
              "#ed7953"
             ],
             [
              0.7777777777777778,
              "#fb9f3a"
             ],
             [
              0.8888888888888888,
              "#fdca26"
             ],
             [
              1,
              "#f0f921"
             ]
            ],
            "type": "heatmap"
           }
          ],
          "heatmapgl": [
           {
            "colorbar": {
             "outlinewidth": 0,
             "ticks": ""
            },
            "colorscale": [
             [
              0,
              "#0d0887"
             ],
             [
              0.1111111111111111,
              "#46039f"
             ],
             [
              0.2222222222222222,
              "#7201a8"
             ],
             [
              0.3333333333333333,
              "#9c179e"
             ],
             [
              0.4444444444444444,
              "#bd3786"
             ],
             [
              0.5555555555555556,
              "#d8576b"
             ],
             [
              0.6666666666666666,
              "#ed7953"
             ],
             [
              0.7777777777777778,
              "#fb9f3a"
             ],
             [
              0.8888888888888888,
              "#fdca26"
             ],
             [
              1,
              "#f0f921"
             ]
            ],
            "type": "heatmapgl"
           }
          ],
          "histogram": [
           {
            "marker": {
             "pattern": {
              "fillmode": "overlay",
              "size": 10,
              "solidity": 0.2
             }
            },
            "type": "histogram"
           }
          ],
          "histogram2d": [
           {
            "colorbar": {
             "outlinewidth": 0,
             "ticks": ""
            },
            "colorscale": [
             [
              0,
              "#0d0887"
             ],
             [
              0.1111111111111111,
              "#46039f"
             ],
             [
              0.2222222222222222,
              "#7201a8"
             ],
             [
              0.3333333333333333,
              "#9c179e"
             ],
             [
              0.4444444444444444,
              "#bd3786"
             ],
             [
              0.5555555555555556,
              "#d8576b"
             ],
             [
              0.6666666666666666,
              "#ed7953"
             ],
             [
              0.7777777777777778,
              "#fb9f3a"
             ],
             [
              0.8888888888888888,
              "#fdca26"
             ],
             [
              1,
              "#f0f921"
             ]
            ],
            "type": "histogram2d"
           }
          ],
          "histogram2dcontour": [
           {
            "colorbar": {
             "outlinewidth": 0,
             "ticks": ""
            },
            "colorscale": [
             [
              0,
              "#0d0887"
             ],
             [
              0.1111111111111111,
              "#46039f"
             ],
             [
              0.2222222222222222,
              "#7201a8"
             ],
             [
              0.3333333333333333,
              "#9c179e"
             ],
             [
              0.4444444444444444,
              "#bd3786"
             ],
             [
              0.5555555555555556,
              "#d8576b"
             ],
             [
              0.6666666666666666,
              "#ed7953"
             ],
             [
              0.7777777777777778,
              "#fb9f3a"
             ],
             [
              0.8888888888888888,
              "#fdca26"
             ],
             [
              1,
              "#f0f921"
             ]
            ],
            "type": "histogram2dcontour"
           }
          ],
          "mesh3d": [
           {
            "colorbar": {
             "outlinewidth": 0,
             "ticks": ""
            },
            "type": "mesh3d"
           }
          ],
          "parcoords": [
           {
            "line": {
             "colorbar": {
              "outlinewidth": 0,
              "ticks": ""
             }
            },
            "type": "parcoords"
           }
          ],
          "pie": [
           {
            "automargin": true,
            "type": "pie"
           }
          ],
          "scatter": [
           {
            "fillpattern": {
             "fillmode": "overlay",
             "size": 10,
             "solidity": 0.2
            },
            "type": "scatter"
           }
          ],
          "scatter3d": [
           {
            "line": {
             "colorbar": {
              "outlinewidth": 0,
              "ticks": ""
             }
            },
            "marker": {
             "colorbar": {
              "outlinewidth": 0,
              "ticks": ""
             }
            },
            "type": "scatter3d"
           }
          ],
          "scattercarpet": [
           {
            "marker": {
             "colorbar": {
              "outlinewidth": 0,
              "ticks": ""
             }
            },
            "type": "scattercarpet"
           }
          ],
          "scattergeo": [
           {
            "marker": {
             "colorbar": {
              "outlinewidth": 0,
              "ticks": ""
             }
            },
            "type": "scattergeo"
           }
          ],
          "scattergl": [
           {
            "marker": {
             "colorbar": {
              "outlinewidth": 0,
              "ticks": ""
             }
            },
            "type": "scattergl"
           }
          ],
          "scattermapbox": [
           {
            "marker": {
             "colorbar": {
              "outlinewidth": 0,
              "ticks": ""
             }
            },
            "type": "scattermapbox"
           }
          ],
          "scatterpolar": [
           {
            "marker": {
             "colorbar": {
              "outlinewidth": 0,
              "ticks": ""
             }
            },
            "type": "scatterpolar"
           }
          ],
          "scatterpolargl": [
           {
            "marker": {
             "colorbar": {
              "outlinewidth": 0,
              "ticks": ""
             }
            },
            "type": "scatterpolargl"
           }
          ],
          "scatterternary": [
           {
            "marker": {
             "colorbar": {
              "outlinewidth": 0,
              "ticks": ""
             }
            },
            "type": "scatterternary"
           }
          ],
          "surface": [
           {
            "colorbar": {
             "outlinewidth": 0,
             "ticks": ""
            },
            "colorscale": [
             [
              0,
              "#0d0887"
             ],
             [
              0.1111111111111111,
              "#46039f"
             ],
             [
              0.2222222222222222,
              "#7201a8"
             ],
             [
              0.3333333333333333,
              "#9c179e"
             ],
             [
              0.4444444444444444,
              "#bd3786"
             ],
             [
              0.5555555555555556,
              "#d8576b"
             ],
             [
              0.6666666666666666,
              "#ed7953"
             ],
             [
              0.7777777777777778,
              "#fb9f3a"
             ],
             [
              0.8888888888888888,
              "#fdca26"
             ],
             [
              1,
              "#f0f921"
             ]
            ],
            "type": "surface"
           }
          ],
          "table": [
           {
            "cells": {
             "fill": {
              "color": "#EBF0F8"
             },
             "line": {
              "color": "white"
             }
            },
            "header": {
             "fill": {
              "color": "#C8D4E3"
             },
             "line": {
              "color": "white"
             }
            },
            "type": "table"
           }
          ]
         },
         "layout": {
          "annotationdefaults": {
           "arrowcolor": "#2a3f5f",
           "arrowhead": 0,
           "arrowwidth": 1
          },
          "autotypenumbers": "strict",
          "coloraxis": {
           "colorbar": {
            "outlinewidth": 0,
            "ticks": ""
           }
          },
          "colorscale": {
           "diverging": [
            [
             0,
             "#8e0152"
            ],
            [
             0.1,
             "#c51b7d"
            ],
            [
             0.2,
             "#de77ae"
            ],
            [
             0.3,
             "#f1b6da"
            ],
            [
             0.4,
             "#fde0ef"
            ],
            [
             0.5,
             "#f7f7f7"
            ],
            [
             0.6,
             "#e6f5d0"
            ],
            [
             0.7,
             "#b8e186"
            ],
            [
             0.8,
             "#7fbc41"
            ],
            [
             0.9,
             "#4d9221"
            ],
            [
             1,
             "#276419"
            ]
           ],
           "sequential": [
            [
             0,
             "#0d0887"
            ],
            [
             0.1111111111111111,
             "#46039f"
            ],
            [
             0.2222222222222222,
             "#7201a8"
            ],
            [
             0.3333333333333333,
             "#9c179e"
            ],
            [
             0.4444444444444444,
             "#bd3786"
            ],
            [
             0.5555555555555556,
             "#d8576b"
            ],
            [
             0.6666666666666666,
             "#ed7953"
            ],
            [
             0.7777777777777778,
             "#fb9f3a"
            ],
            [
             0.8888888888888888,
             "#fdca26"
            ],
            [
             1,
             "#f0f921"
            ]
           ],
           "sequentialminus": [
            [
             0,
             "#0d0887"
            ],
            [
             0.1111111111111111,
             "#46039f"
            ],
            [
             0.2222222222222222,
             "#7201a8"
            ],
            [
             0.3333333333333333,
             "#9c179e"
            ],
            [
             0.4444444444444444,
             "#bd3786"
            ],
            [
             0.5555555555555556,
             "#d8576b"
            ],
            [
             0.6666666666666666,
             "#ed7953"
            ],
            [
             0.7777777777777778,
             "#fb9f3a"
            ],
            [
             0.8888888888888888,
             "#fdca26"
            ],
            [
             1,
             "#f0f921"
            ]
           ]
          },
          "colorway": [
           "#636efa",
           "#EF553B",
           "#00cc96",
           "#ab63fa",
           "#FFA15A",
           "#19d3f3",
           "#FF6692",
           "#B6E880",
           "#FF97FF",
           "#FECB52"
          ],
          "font": {
           "color": "#2a3f5f"
          },
          "geo": {
           "bgcolor": "white",
           "lakecolor": "white",
           "landcolor": "#E5ECF6",
           "showlakes": true,
           "showland": true,
           "subunitcolor": "white"
          },
          "hoverlabel": {
           "align": "left"
          },
          "hovermode": "closest",
          "mapbox": {
           "style": "light"
          },
          "paper_bgcolor": "white",
          "plot_bgcolor": "#E5ECF6",
          "polar": {
           "angularaxis": {
            "gridcolor": "white",
            "linecolor": "white",
            "ticks": ""
           },
           "bgcolor": "#E5ECF6",
           "radialaxis": {
            "gridcolor": "white",
            "linecolor": "white",
            "ticks": ""
           }
          },
          "scene": {
           "xaxis": {
            "backgroundcolor": "#E5ECF6",
            "gridcolor": "white",
            "gridwidth": 2,
            "linecolor": "white",
            "showbackground": true,
            "ticks": "",
            "zerolinecolor": "white"
           },
           "yaxis": {
            "backgroundcolor": "#E5ECF6",
            "gridcolor": "white",
            "gridwidth": 2,
            "linecolor": "white",
            "showbackground": true,
            "ticks": "",
            "zerolinecolor": "white"
           },
           "zaxis": {
            "backgroundcolor": "#E5ECF6",
            "gridcolor": "white",
            "gridwidth": 2,
            "linecolor": "white",
            "showbackground": true,
            "ticks": "",
            "zerolinecolor": "white"
           }
          },
          "shapedefaults": {
           "line": {
            "color": "#2a3f5f"
           }
          },
          "ternary": {
           "aaxis": {
            "gridcolor": "white",
            "linecolor": "white",
            "ticks": ""
           },
           "baxis": {
            "gridcolor": "white",
            "linecolor": "white",
            "ticks": ""
           },
           "bgcolor": "#E5ECF6",
           "caxis": {
            "gridcolor": "white",
            "linecolor": "white",
            "ticks": ""
           }
          },
          "title": {
           "x": 0.05
          },
          "xaxis": {
           "automargin": true,
           "gridcolor": "white",
           "linecolor": "white",
           "ticks": "",
           "title": {
            "standoff": 15
           },
           "zerolinecolor": "white",
           "zerolinewidth": 2
          },
          "yaxis": {
           "automargin": true,
           "gridcolor": "white",
           "linecolor": "white",
           "ticks": "",
           "title": {
            "standoff": 15
           },
           "zerolinecolor": "white",
           "zerolinewidth": 2
          }
         }
        },
        "title": {
         "text": "HbA1C Distribution by Race",
         "x": 0,
         "xref": "paper"
        },
        "xaxis": {
         "title": {
          "text": "HbA1C Category<br><sup><i>mmol/mol</i></sup>"
         }
        },
        "yaxis": {
         "gridcolor": "lightgrey",
         "title": {
          "text": "Percentage<br><sup><i>%</i></sup>"
         }
        }
       }
      }
     },
     "metadata": {},
     "output_type": "display_data"
    },
    {
     "data": {
      "application/vnd.plotly.v1+json": {
       "config": {
        "plotlyServerURL": "https://plot.ly"
       },
       "data": [
        {
         "diagonal": {
          "visible": false
         },
         "dimensions": [
          {
           "label": "HbA1C",
           "values": [
            37,
            37,
            32,
            30,
            34,
            37,
            33,
            32,
            36,
            37,
            35,
            31,
            36,
            31,
            36,
            36,
            37,
            33,
            33,
            36,
            33,
            33,
            27,
            36,
            32,
            29,
            36,
            34,
            32,
            35,
            36,
            35,
            35,
            36,
            35,
            37,
            36,
            36,
            35,
            37,
            35,
            35,
            36,
            36,
            37,
            37,
            28,
            31,
            33,
            33,
            31,
            33,
            29,
            37,
            36,
            36,
            34,
            34,
            33,
            33,
            32,
            33,
            29,
            34,
            34,
            36,
            34,
            35,
            32,
            34,
            32,
            29,
            34,
            37,
            32,
            37,
            29,
            32,
            31,
            32,
            35,
            34,
            31,
            34,
            37,
            37,
            36,
            31,
            36,
            33,
            35,
            35,
            37,
            34,
            35,
            31,
            35,
            31,
            35,
            32,
            35,
            30,
            37,
            33,
            33,
            36,
            34,
            37,
            35,
            35,
            32,
            35,
            33,
            35,
            35,
            32,
            34,
            32,
            33,
            36
           ]
          },
          {
           "label": "RandomGlucose",
           "values": [
            3.5,
            4.8,
            3.8,
            4.4,
            4.2,
            4.3,
            4.5,
            4.4,
            5.4,
            4.5,
            4.5,
            4.5,
            5.2,
            4.8,
            4.6,
            4,
            4.6,
            5.3,
            5.7,
            5.2,
            4.9,
            4.8,
            5.2,
            4,
            5.9,
            3.5,
            3.8,
            4.9,
            4.9,
            4.9,
            5.6,
            4.6,
            4.5,
            4.5,
            4.5,
            4.6,
            4.9,
            4.7,
            5.1,
            5,
            5.9,
            4.4,
            4.3,
            4.5,
            4.6,
            4.7,
            4.6,
            4.1,
            4.3,
            4.5,
            5.3,
            4.3,
            4.2,
            5.2,
            4.4,
            5.4,
            4.5,
            4.9,
            4.3,
            5.3,
            4.4,
            4.3,
            5.2,
            3.3,
            4,
            4.8,
            10.2,
            4.7,
            4.2,
            4.5,
            4,
            3.8,
            4.6,
            5,
            4.3,
            4.5,
            4.1,
            4.8,
            5.9,
            4.8,
            4.2,
            4.7,
            4.1,
            4.1,
            4.2,
            5,
            4.6,
            4.4,
            4.2,
            4.5,
            4,
            4.6,
            4,
            5.6,
            3.8,
            5.2,
            4.4,
            5.7,
            4.3,
            4.6,
            4,
            4.5,
            4,
            4.4,
            4.6,
            5.6,
            3.5,
            5.3,
            5.3,
            4.7,
            4.4,
            4,
            4.6,
            5,
            6.2,
            3.8,
            2.9,
            4.2,
            3.7,
            4.7
           ]
          },
          {
           "label": "eGFR",
           "values": [
            98.64094301736165,
            112.59956336395705,
            110.87329487427813,
            97.3210256232535,
            100.93882792039533,
            86.99403329709253,
            120.62462380552228,
            134.5833305282209,
            104.8209037109621,
            112.44197283733173,
            120.72158371864322,
            109.91879509173201,
            71.96171773800455,
            116.27275720662647,
            154.09627680573644,
            87.10887728005106,
            130.22114989157984,
            125.03703932378372,
            111.65487902747041,
            90.00649824445149,
            125.03703932378372,
            136.26189055889736,
            115.45884790618007,
            105.28409454967425,
            104.3038694544322,
            91.7399551566162,
            103.57374236825119,
            94.26965222122924,
            114.68719797673734,
            96.34628320101412,
            118.5142846390119,
            96.26124721146479,
            102.63503745230742,
            96.58394959877714,
            114.04514440269091,
            117.56849918800462,
            53.22623852145265,
            116.74551969368859,
            120.64482139741061,
            106.04766556000983,
            113.56297466125648,
            114.68719797673734,
            74.01240684949508,
            119.34973276839064,
            113.74204520552081,
            111.97865760175729,
            109.33829326507201,
            121.57259186167494,
            94.91830655161765,
            118.12133034837373,
            83.16562608915285,
            85.77254967419255,
            112.3532583263723,
            79.56372797178727,
            114.19266523667389,
            93.96214438458037,
            87.9536798657601,
            105.28409454967425,
            124.08048200146126,
            107.357094143862,
            120.12759209588316,
            115.35256607381156,
            119.79255630133365,
            116.62467968439778,
            88.95822141118063,
            128.77768678096024,
            106.04766556000983,
            90.44367521797939,
            108.38531798140725,
            96.93234809114362,
            101.45190854391176,
            122.33126731584565,
            92.6512785082711,
            135.945000743454,
            99.53063033207788,
            111.97865760175729,
            91.09777547051989,
            104.8209037109621,
            87.47549275568174,
            111.89429264641988,
            115.16970724706022,
            95.90786195158572,
            96.63977844389072,
            103.35854728329046,
            78.31061479133724,
            102.63503745230742,
            68.69178151945655,
            117.28243277100233,
            101.45190854391176,
            127.43650996755292,
            94.81958584312463,
            109.47972564514588,
            114.8367019725542,
            109.56092258212172,
            116.79917250264462,
            85.77254967419255,
            91.44159409707842,
            114.54509811129488,
            139.44893603659125,
            103.49698260360863,
            93.69378376646617,
            127.01331199726437,
            102.21186901647883,
            107.41116585132062,
            91.499280034521,
            75.5817840090223,
            105.91267267652884,
            101.45190854391176,
            106.30881676225282,
            117.37670617997415,
            94.25387840575632,
            110.59599490982593,
            96.36377036800566,
            82.33400790068788,
            136.26189055889736,
            118.64329415651574,
            98.64094301736165,
            122.02531035735045,
            112.95140939221523,
            99.99905850284853
           ]
          },
          {
           "label": "Age",
           "values": [
            34,
            36,
            39,
            31,
            41,
            37,
            27,
            30,
            33,
            37,
            32,
            37,
            43,
            29,
            24,
            42,
            24,
            27,
            38,
            35,
            27,
            34,
            30,
            35,
            39,
            37,
            40,
            36,
            35,
            23,
            32,
            35,
            36,
            37,
            29,
            34,
            40,
            35,
            33,
            35,
            34,
            35,
            39,
            31,
            24,
            36,
            35,
            31,
            37,
            37,
            35,
            37,
            34,
            37,
            34,
            36,
            43,
            35,
            38,
            42,
            26,
            31,
            35,
            31,
            19,
            30,
            35,
            32,
            39,
            39,
            30,
            25,
            38,
            25,
            43,
            36,
            38,
            33,
            30,
            29,
            32,
            38,
            32,
            35,
            46,
            36,
            36,
            31,
            30,
            41,
            44,
            40,
            34,
            32,
            30,
            37,
            34,
            32,
            25,
            48,
            34,
            23,
            34,
            24,
            35,
            34,
            26,
            30,
            39,
            36,
            38,
            41,
            30,
            35,
            34,
            39,
            34,
            27,
            38,
            45
           ]
          },
          {
           "label": "Hb",
           "values": [
            132,
            141,
            126,
            131,
            135,
            111,
            113,
            139,
            147,
            134,
            119,
            118,
            125,
            130,
            131,
            121,
            128,
            114,
            131,
            135,
            112,
            121,
            119,
            133,
            131,
            130,
            136,
            123,
            132,
            121,
            120,
            119,
            125,
            111,
            126,
            120,
            129,
            122,
            133,
            118,
            111,
            115,
            123,
            124,
            125,
            116,
            115,
            134,
            130,
            132,
            144,
            111,
            120,
            114,
            134,
            149,
            137,
            129,
            134,
            121,
            126,
            133,
            127,
            124,
            118,
            120,
            140,
            136,
            128,
            141,
            122,
            110,
            130,
            127,
            133,
            131,
            119,
            132,
            129,
            128,
            114,
            131,
            122,
            143,
            130,
            130,
            129,
            117,
            127,
            120,
            122,
            134,
            131,
            130,
            114,
            129,
            112,
            120,
            115,
            121,
            127,
            120,
            132,
            116,
            124,
            138,
            107,
            117,
            110,
            111,
            114,
            125,
            120,
            113,
            102,
            111,
            136,
            142,
            134,
            137
           ]
          },
          {
           "label": "ALT",
           "values": [
            null,
            null,
            null,
            null,
            null,
            null,
            null,
            null,
            null,
            null,
            null,
            null,
            null,
            null,
            null,
            null,
            null,
            null,
            null,
            null,
            null,
            null,
            null,
            null,
            null,
            null,
            null,
            null,
            null,
            null,
            null,
            null,
            null,
            null,
            null,
            null,
            null,
            null,
            null,
            null,
            null,
            null,
            null,
            null,
            null,
            null,
            null,
            null,
            null,
            null,
            null,
            null,
            null,
            null,
            null,
            null,
            null,
            null,
            null,
            null,
            null,
            null,
            null,
            null,
            null,
            null,
            null,
            null,
            null,
            null,
            null,
            null,
            null,
            15,
            26,
            31,
            29,
            68,
            44,
            39,
            31,
            17,
            14,
            29,
            25,
            33,
            69,
            33,
            35,
            13,
            24,
            34,
            32,
            43,
            37,
            22,
            15,
            21,
            51,
            24,
            28,
            24,
            21,
            14,
            14,
            38,
            16,
            8,
            17,
            20,
            18,
            35,
            12,
            47,
            11,
            17,
            47,
            14,
            33,
            72
           ]
          },
          {
           "label": "Creatinine",
           "values": [
            69,
            59,
            58,
            71,
            65,
            85,
            58,
            39,
            66,
            58,
            52,
            62,
            85,
            62,
            46,
            73,
            49,
            52,
            58,
            74,
            52,
            54,
            62,
            65,
            64,
            72,
            64,
            80,
            57,
            75,
            55,
            70,
            66,
            69,
            63,
            54,
            111,
            54,
            51,
            73,
            60,
            57,
            85,
            55,
            65,
            60,
            63,
            52,
            70,
            66,
            79,
            86,
            70,
            81,
            59,
            71,
            72,
            65,
            63,
            60,
            60,
            61,
            66,
            59,
            82,
            64,
            73,
            75,
            62,
            68,
            69,
            58,
            71,
            63,
            65,
            60,
            72,
            66,
            78,
            64,
            60,
            69,
            71,
            66,
            88,
            66,
            92,
            58,
            69,
            57,
            76,
            59,
            58,
            64,
            60,
            86,
            83,
            61,
            61,
            59,
            72,
            54,
            67,
            77,
            73,
            86,
            77,
            69,
            63,
            52,
            70,
            56,
            72,
            90,
            54,
            65,
            69,
            56,
            56,
            64
           ]
          },
          {
           "label": "ACR",
           "values": [
            7.4,
            6.6,
            18,
            18.7,
            12,
            6.2,
            5.1,
            8.9,
            4.8,
            9.3,
            6.6,
            0,
            8.6,
            0,
            22.3,
            1.2,
            0.8,
            3.3,
            0.4,
            0.6,
            0.4,
            0.9,
            1.3,
            1.1,
            1.2,
            1.9,
            3.7,
            1.6,
            0,
            2.4,
            2.7,
            0,
            1.4,
            2.5,
            17.1,
            7.3,
            2.7,
            0.7,
            1.4,
            2.4,
            0.6,
            0,
            1.9,
            0.8,
            14.3,
            59.2,
            0.9,
            1,
            0.7,
            1.5,
            0.5,
            20.7,
            1,
            1.9,
            23.9,
            3.4,
            7.6,
            2,
            0.4,
            1.1,
            7.5,
            2,
            2.2,
            0.4,
            0.5,
            0.7,
            10.8,
            2.5,
            16.8,
            1.2,
            4.5,
            3.2,
            0.5,
            0.4,
            0.8,
            1.3,
            2.6,
            1.6,
            7.8,
            2.5,
            5.3,
            0.8,
            1.5,
            5.1,
            0.8,
            2.2,
            3.6,
            1.1,
            0.8,
            3.3,
            2.8,
            1.8,
            1.6,
            11.4,
            0.9,
            0.7,
            1.1,
            1.9,
            0.8,
            1.3,
            2.8,
            0.9,
            0.8,
            0.8,
            0.7,
            0.5,
            3.8,
            0.8,
            2.1,
            10,
            1.7,
            3.3,
            2.4,
            7.7,
            89.9,
            0.5,
            1.6,
            1.2,
            1,
            0.7
           ]
          }
         ],
         "marker": {
          "color": "#604b62",
          "line": {
           "color": "white",
           "width": 0.5
          },
          "showscale": false
         },
         "name": "< 38",
         "type": "splom"
        },
        {
         "diagonal": {
          "visible": false
         },
         "dimensions": [
          {
           "label": "HbA1C",
           "values": [
            39,
            40,
            39,
            38,
            38,
            43,
            45,
            40,
            42,
            43,
            38,
            38,
            41,
            42,
            39,
            39,
            40,
            39,
            41,
            38,
            39,
            41,
            39,
            38,
            41,
            38,
            44,
            41,
            41,
            42,
            42,
            40,
            45,
            41,
            39,
            40,
            43,
            38,
            40,
            38,
            38,
            39,
            39,
            38,
            39,
            39,
            40,
            46,
            41,
            41,
            39,
            41,
            39,
            38,
            41,
            44,
            40,
            41,
            39,
            42,
            39,
            40,
            42,
            39,
            39,
            41,
            41,
            39,
            40,
            38,
            42,
            41,
            40,
            43,
            39,
            38
           ]
          },
          {
           "label": "RandomGlucose",
           "values": [
            4.6,
            4.4,
            5.3,
            5.3,
            4.2,
            4.5,
            4,
            5.2,
            5.4,
            5.3,
            4.3,
            4.8,
            5,
            4.9,
            4.4,
            4.8,
            4.8,
            5.3,
            4.7,
            5.8,
            4.2,
            5.2,
            5.5,
            3.1,
            5,
            4.7,
            5.3,
            5.6,
            5.1,
            5.1,
            2.9,
            4.5,
            4.9,
            5.1,
            4.4,
            4.8,
            4,
            4.9,
            4.8,
            5,
            5.3,
            3.9,
            4.9,
            4.5,
            8.8,
            5.1,
            5.1,
            7.8,
            4.5,
            4.4,
            4.4,
            4.3,
            6.6,
            4.2,
            4.3,
            4.7,
            4.4,
            3.6,
            3.6,
            4.3,
            4.6,
            4.4,
            4.7,
            4.7,
            4.3,
            6,
            4.7,
            4.2,
            4.3,
            4,
            4.2,
            5.2,
            4.9,
            3.7,
            4.5,
            4.2
           ]
          },
          {
           "label": "eGFR",
           "values": [
            97.02633636617229,
            131.25307410617972,
            111.81136642040936,
            122.02426558307246,
            94.93419156216439,
            96.51939099767704,
            114.99764877812075,
            83.71821023495698,
            92.30381482896922,
            80.10800280260891,
            98.72801662307242,
            111.74462892287721,
            115.16970724706022,
            113.23461514333509,
            111.5667855180877,
            87.15080071622504,
            138.0467397686443,
            90.08415529082254,
            133.202721970854,
            129.78326416043672,
            90.2661956593518,
            77.25170937955588,
            114.8367019725542,
            84.14292870104227,
            97.26480322132643,
            110.41644334955518,
            96.35019982267895,
            104.08715738498536,
            127.54225572839307,
            120.32293525255506,
            114.73724659577269,
            71.50093897853273,
            108.11389138354683,
            103.08856921358547,
            109.91879509173201,
            110.5917552589763,
            96.58394959877714,
            117.46568311828285,
            97.95045641624012,
            122.62964846723871,
            105.7796006632857,
            108.5729252122165,
            120.53779965692873,
            124.01961986624525,
            111.47396842523244,
            113.84808151904096,
            110.87329487427813,
            74.52734254031242,
            85.33341517616495,
            137.2855110958635,
            103.35854728329046,
            79.0564783575828,
            118.8561768139149,
            104.54710588782653,
            76.1215343357795,
            130.33430258743647,
            115.82691937309967,
            111.66692188897707,
            101.65038058448674,
            90.73899722841887,
            112.59956336395705,
            93.69378376646617,
            80.55612033044127,
            128.77768678096024,
            78.94476125255879,
            108.03243815117852,
            114.65063597083682,
            129.58937368125444,
            115.82691937309967,
            96.58394959877714,
            134.36090092371018,
            124.3646598366194,
            115.82691937309967,
            96.95604931444339,
            71.9551492139095,
            116.30983650583018
           ]
          },
          {
           "label": "Age",
           "values": [
            44,
            30,
            37,
            35,
            35,
            37,
            33,
            43,
            39,
            37,
            36,
            43,
            32,
            36,
            35,
            35,
            28,
            42,
            39,
            36,
            30,
            37,
            34,
            40,
            36,
            38,
            44,
            34,
            32,
            29,
            36,
            36,
            41,
            38,
            37,
            37,
            37,
            35,
            35,
            28,
            37,
            36,
            35,
            30,
            35,
            32,
            39,
            36,
            38,
            28,
            35,
            37,
            37,
            36,
            35,
            31,
            37,
            32,
            40,
            31,
            36,
            34,
            27,
            30,
            36,
            34,
            31,
            37,
            37,
            37,
            36,
            26,
            37,
            32,
            41,
            33
           ]
          },
          {
           "label": "Hb",
           "values": [
            70,
            139,
            124,
            125,
            134,
            123,
            134,
            130,
            119,
            117,
            132,
            139,
            117,
            124,
            131,
            119,
            118,
            130,
            118,
            124,
            133,
            126,
            127,
            119,
            133,
            130,
            137,
            144,
            129,
            137,
            123,
            119,
            122,
            126,
            124,
            134,
            125,
            132,
            126,
            125,
            131,
            135,
            127,
            129,
            136,
            114,
            118,
            126,
            147,
            119,
            121,
            129,
            139,
            129,
            130,
            117,
            131,
            143,
            122,
            123,
            140,
            129,
            125,
            118,
            139,
            134,
            122,
            127,
            130,
            124,
            137,
            117,
            133,
            117,
            144,
            128
           ]
          },
          {
           "label": "ALT",
           "values": [
            null,
            null,
            null,
            null,
            null,
            null,
            null,
            null,
            null,
            null,
            null,
            null,
            null,
            null,
            null,
            null,
            null,
            null,
            null,
            null,
            null,
            null,
            null,
            null,
            null,
            null,
            null,
            null,
            null,
            null,
            null,
            null,
            null,
            null,
            null,
            39,
            25,
            33,
            18,
            31,
            21,
            14,
            67,
            36,
            24,
            22,
            56,
            71,
            23,
            13,
            11,
            38,
            39,
            38,
            41,
            32,
            53,
            17,
            26,
            14,
            34,
            23,
            12,
            21,
            52,
            24,
            23,
            22,
            67,
            18,
            30,
            44,
            69,
            25,
            53,
            21
           ]
          },
          {
           "label": "Creatinine",
           "values": [
            66,
            63,
            59,
            65,
            80,
            78,
            59,
            75,
            80,
            91,
            77,
            52,
            60,
            58,
            70,
            76,
            59,
            71,
            52,
            60,
            76,
            83,
            58,
            76,
            69,
            60,
            75,
            66,
            44,
            56,
            68,
            89,
            60,
            65,
            62,
            61,
            69,
            53,
            69,
            54,
            64,
            63,
            49,
            50,
            62,
            62,
            58,
            86,
            76,
            60,
            66,
            92,
            49,
            65,
            85,
            63,
            53,
            63,
            65,
            85,
            59,
            72,
            96,
            64,
            82,
            64,
            62,
            59,
            53,
            69,
            54,
            54,
            53,
            80,
            86,
            57
           ]
          },
          {
           "label": "ACR",
           "values": [
            9.3,
            91.3,
            0,
            12.1,
            8.2,
            0,
            14.9,
            7.5,
            1.6,
            1.3,
            0.4,
            0,
            0.8,
            0,
            1.2,
            3.2,
            0.3,
            1.3,
            0.6,
            5.5,
            1,
            1.3,
            0.4,
            1.6,
            3.3,
            3.3,
            0.9,
            1.9,
            2.2,
            1.4,
            1.7,
            1,
            15.5,
            1.3,
            1.7,
            48.5,
            0.6,
            1.1,
            1,
            5.8,
            0.3,
            0.7,
            1,
            2,
            0.9,
            0.6,
            1.1,
            0.9,
            7.3,
            0.5,
            2.3,
            0.8,
            0.7,
            3.1,
            0.4,
            2.5,
            2.6,
            1.5,
            2.5,
            0.5,
            0.6,
            7.3,
            0.9,
            1.1,
            0.6,
            0.7,
            2,
            1.7,
            1.3,
            9,
            6.5,
            3.2,
            9.3,
            1.5,
            0.5,
            0.7
           ]
          }
         ],
         "marker": {
          "color": "#957897",
          "line": {
           "color": "white",
           "width": 0.5
          },
          "showscale": false
         },
         "name": "39 - 47",
         "type": "splom"
        },
        {
         "diagonal": {
          "visible": false
         },
         "dimensions": [
          {
           "label": "HbA1C",
           "values": [
            54,
            47,
            48,
            47
           ]
          },
          {
           "label": "RandomGlucose",
           "values": [
            7.1,
            4.7,
            7,
            7.3
           ]
          },
          {
           "label": "eGFR",
           "values": [
            133.4816906993428,
            109.64352824610829,
            120.49695478060238,
            77.19853104235135
           ]
          },
          {
           "label": "Age",
           "values": [
            32,
            39,
            37,
            33
           ]
          },
          {
           "label": "Hb",
           "values": [
            129,
            137,
            129,
            122
           ]
          },
          {
           "label": "ALT",
           "values": [
            null,
            67,
            21,
            21
           ]
          },
          {
           "label": "Creatinine",
           "values": [
            60,
            60,
            47,
            85
           ]
          },
          {
           "label": "ACR",
           "values": [
            0.5,
            3.2,
            5.2,
            1.5
           ]
          }
         ],
         "marker": {
          "color": "#9d83a0",
          "line": {
           "color": "white",
           "width": 0.5
          },
          "showscale": false
         },
         "name": "> 48",
         "type": "splom"
        }
       ],
       "layout": {
        "height": 1000,
        "plot_bgcolor": "#ececec",
        "showlegend": true,
        "template": {
         "data": {
          "bar": [
           {
            "error_x": {
             "color": "#2a3f5f"
            },
            "error_y": {
             "color": "#2a3f5f"
            },
            "marker": {
             "line": {
              "color": "#E5ECF6",
              "width": 0.5
             },
             "pattern": {
              "fillmode": "overlay",
              "size": 10,
              "solidity": 0.2
             }
            },
            "type": "bar"
           }
          ],
          "barpolar": [
           {
            "marker": {
             "line": {
              "color": "#E5ECF6",
              "width": 0.5
             },
             "pattern": {
              "fillmode": "overlay",
              "size": 10,
              "solidity": 0.2
             }
            },
            "type": "barpolar"
           }
          ],
          "carpet": [
           {
            "aaxis": {
             "endlinecolor": "#2a3f5f",
             "gridcolor": "white",
             "linecolor": "white",
             "minorgridcolor": "white",
             "startlinecolor": "#2a3f5f"
            },
            "baxis": {
             "endlinecolor": "#2a3f5f",
             "gridcolor": "white",
             "linecolor": "white",
             "minorgridcolor": "white",
             "startlinecolor": "#2a3f5f"
            },
            "type": "carpet"
           }
          ],
          "choropleth": [
           {
            "colorbar": {
             "outlinewidth": 0,
             "ticks": ""
            },
            "type": "choropleth"
           }
          ],
          "contour": [
           {
            "colorbar": {
             "outlinewidth": 0,
             "ticks": ""
            },
            "colorscale": [
             [
              0,
              "#0d0887"
             ],
             [
              0.1111111111111111,
              "#46039f"
             ],
             [
              0.2222222222222222,
              "#7201a8"
             ],
             [
              0.3333333333333333,
              "#9c179e"
             ],
             [
              0.4444444444444444,
              "#bd3786"
             ],
             [
              0.5555555555555556,
              "#d8576b"
             ],
             [
              0.6666666666666666,
              "#ed7953"
             ],
             [
              0.7777777777777778,
              "#fb9f3a"
             ],
             [
              0.8888888888888888,
              "#fdca26"
             ],
             [
              1,
              "#f0f921"
             ]
            ],
            "type": "contour"
           }
          ],
          "contourcarpet": [
           {
            "colorbar": {
             "outlinewidth": 0,
             "ticks": ""
            },
            "type": "contourcarpet"
           }
          ],
          "heatmap": [
           {
            "colorbar": {
             "outlinewidth": 0,
             "ticks": ""
            },
            "colorscale": [
             [
              0,
              "#0d0887"
             ],
             [
              0.1111111111111111,
              "#46039f"
             ],
             [
              0.2222222222222222,
              "#7201a8"
             ],
             [
              0.3333333333333333,
              "#9c179e"
             ],
             [
              0.4444444444444444,
              "#bd3786"
             ],
             [
              0.5555555555555556,
              "#d8576b"
             ],
             [
              0.6666666666666666,
              "#ed7953"
             ],
             [
              0.7777777777777778,
              "#fb9f3a"
             ],
             [
              0.8888888888888888,
              "#fdca26"
             ],
             [
              1,
              "#f0f921"
             ]
            ],
            "type": "heatmap"
           }
          ],
          "heatmapgl": [
           {
            "colorbar": {
             "outlinewidth": 0,
             "ticks": ""
            },
            "colorscale": [
             [
              0,
              "#0d0887"
             ],
             [
              0.1111111111111111,
              "#46039f"
             ],
             [
              0.2222222222222222,
              "#7201a8"
             ],
             [
              0.3333333333333333,
              "#9c179e"
             ],
             [
              0.4444444444444444,
              "#bd3786"
             ],
             [
              0.5555555555555556,
              "#d8576b"
             ],
             [
              0.6666666666666666,
              "#ed7953"
             ],
             [
              0.7777777777777778,
              "#fb9f3a"
             ],
             [
              0.8888888888888888,
              "#fdca26"
             ],
             [
              1,
              "#f0f921"
             ]
            ],
            "type": "heatmapgl"
           }
          ],
          "histogram": [
           {
            "marker": {
             "pattern": {
              "fillmode": "overlay",
              "size": 10,
              "solidity": 0.2
             }
            },
            "type": "histogram"
           }
          ],
          "histogram2d": [
           {
            "colorbar": {
             "outlinewidth": 0,
             "ticks": ""
            },
            "colorscale": [
             [
              0,
              "#0d0887"
             ],
             [
              0.1111111111111111,
              "#46039f"
             ],
             [
              0.2222222222222222,
              "#7201a8"
             ],
             [
              0.3333333333333333,
              "#9c179e"
             ],
             [
              0.4444444444444444,
              "#bd3786"
             ],
             [
              0.5555555555555556,
              "#d8576b"
             ],
             [
              0.6666666666666666,
              "#ed7953"
             ],
             [
              0.7777777777777778,
              "#fb9f3a"
             ],
             [
              0.8888888888888888,
              "#fdca26"
             ],
             [
              1,
              "#f0f921"
             ]
            ],
            "type": "histogram2d"
           }
          ],
          "histogram2dcontour": [
           {
            "colorbar": {
             "outlinewidth": 0,
             "ticks": ""
            },
            "colorscale": [
             [
              0,
              "#0d0887"
             ],
             [
              0.1111111111111111,
              "#46039f"
             ],
             [
              0.2222222222222222,
              "#7201a8"
             ],
             [
              0.3333333333333333,
              "#9c179e"
             ],
             [
              0.4444444444444444,
              "#bd3786"
             ],
             [
              0.5555555555555556,
              "#d8576b"
             ],
             [
              0.6666666666666666,
              "#ed7953"
             ],
             [
              0.7777777777777778,
              "#fb9f3a"
             ],
             [
              0.8888888888888888,
              "#fdca26"
             ],
             [
              1,
              "#f0f921"
             ]
            ],
            "type": "histogram2dcontour"
           }
          ],
          "mesh3d": [
           {
            "colorbar": {
             "outlinewidth": 0,
             "ticks": ""
            },
            "type": "mesh3d"
           }
          ],
          "parcoords": [
           {
            "line": {
             "colorbar": {
              "outlinewidth": 0,
              "ticks": ""
             }
            },
            "type": "parcoords"
           }
          ],
          "pie": [
           {
            "automargin": true,
            "type": "pie"
           }
          ],
          "scatter": [
           {
            "fillpattern": {
             "fillmode": "overlay",
             "size": 10,
             "solidity": 0.2
            },
            "type": "scatter"
           }
          ],
          "scatter3d": [
           {
            "line": {
             "colorbar": {
              "outlinewidth": 0,
              "ticks": ""
             }
            },
            "marker": {
             "colorbar": {
              "outlinewidth": 0,
              "ticks": ""
             }
            },
            "type": "scatter3d"
           }
          ],
          "scattercarpet": [
           {
            "marker": {
             "colorbar": {
              "outlinewidth": 0,
              "ticks": ""
             }
            },
            "type": "scattercarpet"
           }
          ],
          "scattergeo": [
           {
            "marker": {
             "colorbar": {
              "outlinewidth": 0,
              "ticks": ""
             }
            },
            "type": "scattergeo"
           }
          ],
          "scattergl": [
           {
            "marker": {
             "colorbar": {
              "outlinewidth": 0,
              "ticks": ""
             }
            },
            "type": "scattergl"
           }
          ],
          "scattermapbox": [
           {
            "marker": {
             "colorbar": {
              "outlinewidth": 0,
              "ticks": ""
             }
            },
            "type": "scattermapbox"
           }
          ],
          "scatterpolar": [
           {
            "marker": {
             "colorbar": {
              "outlinewidth": 0,
              "ticks": ""
             }
            },
            "type": "scatterpolar"
           }
          ],
          "scatterpolargl": [
           {
            "marker": {
             "colorbar": {
              "outlinewidth": 0,
              "ticks": ""
             }
            },
            "type": "scatterpolargl"
           }
          ],
          "scatterternary": [
           {
            "marker": {
             "colorbar": {
              "outlinewidth": 0,
              "ticks": ""
             }
            },
            "type": "scatterternary"
           }
          ],
          "surface": [
           {
            "colorbar": {
             "outlinewidth": 0,
             "ticks": ""
            },
            "colorscale": [
             [
              0,
              "#0d0887"
             ],
             [
              0.1111111111111111,
              "#46039f"
             ],
             [
              0.2222222222222222,
              "#7201a8"
             ],
             [
              0.3333333333333333,
              "#9c179e"
             ],
             [
              0.4444444444444444,
              "#bd3786"
             ],
             [
              0.5555555555555556,
              "#d8576b"
             ],
             [
              0.6666666666666666,
              "#ed7953"
             ],
             [
              0.7777777777777778,
              "#fb9f3a"
             ],
             [
              0.8888888888888888,
              "#fdca26"
             ],
             [
              1,
              "#f0f921"
             ]
            ],
            "type": "surface"
           }
          ],
          "table": [
           {
            "cells": {
             "fill": {
              "color": "#EBF0F8"
             },
             "line": {
              "color": "white"
             }
            },
            "header": {
             "fill": {
              "color": "#C8D4E3"
             },
             "line": {
              "color": "white"
             }
            },
            "type": "table"
           }
          ]
         },
         "layout": {
          "annotationdefaults": {
           "arrowcolor": "#2a3f5f",
           "arrowhead": 0,
           "arrowwidth": 1
          },
          "autotypenumbers": "strict",
          "coloraxis": {
           "colorbar": {
            "outlinewidth": 0,
            "ticks": ""
           }
          },
          "colorscale": {
           "diverging": [
            [
             0,
             "#8e0152"
            ],
            [
             0.1,
             "#c51b7d"
            ],
            [
             0.2,
             "#de77ae"
            ],
            [
             0.3,
             "#f1b6da"
            ],
            [
             0.4,
             "#fde0ef"
            ],
            [
             0.5,
             "#f7f7f7"
            ],
            [
             0.6,
             "#e6f5d0"
            ],
            [
             0.7,
             "#b8e186"
            ],
            [
             0.8,
             "#7fbc41"
            ],
            [
             0.9,
             "#4d9221"
            ],
            [
             1,
             "#276419"
            ]
           ],
           "sequential": [
            [
             0,
             "#0d0887"
            ],
            [
             0.1111111111111111,
             "#46039f"
            ],
            [
             0.2222222222222222,
             "#7201a8"
            ],
            [
             0.3333333333333333,
             "#9c179e"
            ],
            [
             0.4444444444444444,
             "#bd3786"
            ],
            [
             0.5555555555555556,
             "#d8576b"
            ],
            [
             0.6666666666666666,
             "#ed7953"
            ],
            [
             0.7777777777777778,
             "#fb9f3a"
            ],
            [
             0.8888888888888888,
             "#fdca26"
            ],
            [
             1,
             "#f0f921"
            ]
           ],
           "sequentialminus": [
            [
             0,
             "#0d0887"
            ],
            [
             0.1111111111111111,
             "#46039f"
            ],
            [
             0.2222222222222222,
             "#7201a8"
            ],
            [
             0.3333333333333333,
             "#9c179e"
            ],
            [
             0.4444444444444444,
             "#bd3786"
            ],
            [
             0.5555555555555556,
             "#d8576b"
            ],
            [
             0.6666666666666666,
             "#ed7953"
            ],
            [
             0.7777777777777778,
             "#fb9f3a"
            ],
            [
             0.8888888888888888,
             "#fdca26"
            ],
            [
             1,
             "#f0f921"
            ]
           ]
          },
          "colorway": [
           "#636efa",
           "#EF553B",
           "#00cc96",
           "#ab63fa",
           "#FFA15A",
           "#19d3f3",
           "#FF6692",
           "#B6E880",
           "#FF97FF",
           "#FECB52"
          ],
          "font": {
           "color": "#2a3f5f"
          },
          "geo": {
           "bgcolor": "white",
           "lakecolor": "white",
           "landcolor": "#E5ECF6",
           "showlakes": true,
           "showland": true,
           "subunitcolor": "white"
          },
          "hoverlabel": {
           "align": "left"
          },
          "hovermode": "closest",
          "mapbox": {
           "style": "light"
          },
          "paper_bgcolor": "white",
          "plot_bgcolor": "#E5ECF6",
          "polar": {
           "angularaxis": {
            "gridcolor": "white",
            "linecolor": "white",
            "ticks": ""
           },
           "bgcolor": "#E5ECF6",
           "radialaxis": {
            "gridcolor": "white",
            "linecolor": "white",
            "ticks": ""
           }
          },
          "scene": {
           "xaxis": {
            "backgroundcolor": "#E5ECF6",
            "gridcolor": "white",
            "gridwidth": 2,
            "linecolor": "white",
            "showbackground": true,
            "ticks": "",
            "zerolinecolor": "white"
           },
           "yaxis": {
            "backgroundcolor": "#E5ECF6",
            "gridcolor": "white",
            "gridwidth": 2,
            "linecolor": "white",
            "showbackground": true,
            "ticks": "",
            "zerolinecolor": "white"
           },
           "zaxis": {
            "backgroundcolor": "#E5ECF6",
            "gridcolor": "white",
            "gridwidth": 2,
            "linecolor": "white",
            "showbackground": true,
            "ticks": "",
            "zerolinecolor": "white"
           }
          },
          "shapedefaults": {
           "line": {
            "color": "#2a3f5f"
           }
          },
          "ternary": {
           "aaxis": {
            "gridcolor": "white",
            "linecolor": "white",
            "ticks": ""
           },
           "baxis": {
            "gridcolor": "white",
            "linecolor": "white",
            "ticks": ""
           },
           "bgcolor": "#E5ECF6",
           "caxis": {
            "gridcolor": "white",
            "linecolor": "white",
            "ticks": ""
           }
          },
          "title": {
           "x": 0.05
          },
          "xaxis": {
           "automargin": true,
           "gridcolor": "white",
           "linecolor": "white",
           "ticks": "",
           "title": {
            "standoff": 15
           },
           "zerolinecolor": "white",
           "zerolinewidth": 2
          },
          "yaxis": {
           "automargin": true,
           "gridcolor": "white",
           "linecolor": "white",
           "ticks": "",
           "title": {
            "standoff": 15
           },
           "zerolinecolor": "white",
           "zerolinewidth": 2
          }
         }
        },
        "title": {
         "text": "HbA1C Relationships",
         "x": 0,
         "xref": "paper"
        },
        "width": 1000
       }
      }
     },
     "metadata": {},
     "output_type": "display_data"
    },
    {
     "data": {
      "application/vnd.plotly.v1+json": {
       "config": {
        "plotlyServerURL": "https://plot.ly"
       },
       "data": [
        {
         "colorscale": [
          [
           0,
           "rgb(5,48,97)"
          ],
          [
           0.1,
           "rgb(33,102,172)"
          ],
          [
           0.2,
           "rgb(67,147,195)"
          ],
          [
           0.3,
           "rgb(146,197,222)"
          ],
          [
           0.4,
           "rgb(209,229,240)"
          ],
          [
           0.5,
           "rgb(247,247,247)"
          ],
          [
           0.6,
           "rgb(253,219,199)"
          ],
          [
           0.7,
           "rgb(244,165,130)"
          ],
          [
           0.8,
           "rgb(214,96,77)"
          ],
          [
           0.9,
           "rgb(178,24,43)"
          ],
          [
           1,
           "rgb(103,0,31)"
          ]
         ],
         "hoverongaps": true,
         "text": [
          [
           1,
           0.2234,
           -0.0365,
           0.1159,
           0.1043,
           0.1653,
           0.0668,
           0.0131
          ],
          [
           0.2234,
           1,
           0.0158,
           0.0157,
           0.0825,
           0.0956,
           -0.0111,
           0.0464
          ],
          [
           -0.0365,
           0.0158,
           1,
           -0.4022,
           -0.083,
           -0.1259,
           -0.8717,
           0.1749
          ],
          [
           0.1159,
           0.0157,
           -0.4022,
           1,
           0.1312,
           0.1979,
           0.1836,
           -0.0341
          ],
          [
           0.1043,
           0.0825,
           -0.083,
           0.1312,
           1,
           0.3182,
           -0.0279,
           -0.049
          ],
          [
           0.1653,
           0.0956,
           -0.1259,
           0.1979,
           0.3182,
           1,
           -0.0372,
           -0.0628
          ],
          [
           0.0668,
           -0.0111,
           -0.8717,
           0.1836,
           -0.0279,
           -0.0372,
           1,
           -0.1088
          ],
          [
           0.0131,
           0.0464,
           0.1749,
           -0.0341,
           -0.049,
           -0.0628,
           -0.1088,
           1
          ]
         ],
         "texttemplate": "%{text}",
         "type": "heatmap",
         "x": [
          "HbA1C",
          "RandomGlucose",
          "eGFR",
          "Age",
          "Hb",
          "ALT",
          "Creatinine",
          "ACR"
         ],
         "y": [
          "HbA1C",
          "RandomGlucose",
          "eGFR",
          "Age",
          "Hb",
          "ALT",
          "Creatinine",
          "ACR"
         ],
         "z": [
          [
           1,
           0.2234,
           -0.0365,
           0.1159,
           0.1043,
           0.1653,
           0.0668,
           0.0131
          ],
          [
           0.2234,
           1,
           0.0158,
           0.0157,
           0.0825,
           0.0956,
           -0.0111,
           0.0464
          ],
          [
           -0.0365,
           0.0158,
           1,
           -0.4022,
           -0.083,
           -0.1259,
           -0.8717,
           0.1749
          ],
          [
           0.1159,
           0.0157,
           -0.4022,
           1,
           0.1312,
           0.1979,
           0.1836,
           -0.0341
          ],
          [
           0.1043,
           0.0825,
           -0.083,
           0.1312,
           1,
           0.3182,
           -0.0279,
           -0.049
          ],
          [
           0.1653,
           0.0956,
           -0.1259,
           0.1979,
           0.3182,
           1,
           -0.0372,
           -0.0628
          ],
          [
           0.0668,
           -0.0111,
           -0.8717,
           0.1836,
           -0.0279,
           -0.0372,
           1,
           -0.1088
          ],
          [
           0.0131,
           0.0464,
           0.1749,
           -0.0341,
           -0.049,
           -0.0628,
           -0.1088,
           1
          ]
         ]
        }
       ],
       "layout": {
        "showlegend": false,
        "template": {
         "data": {
          "bar": [
           {
            "error_x": {
             "color": "#2a3f5f"
            },
            "error_y": {
             "color": "#2a3f5f"
            },
            "marker": {
             "line": {
              "color": "#E5ECF6",
              "width": 0.5
             },
             "pattern": {
              "fillmode": "overlay",
              "size": 10,
              "solidity": 0.2
             }
            },
            "type": "bar"
           }
          ],
          "barpolar": [
           {
            "marker": {
             "line": {
              "color": "#E5ECF6",
              "width": 0.5
             },
             "pattern": {
              "fillmode": "overlay",
              "size": 10,
              "solidity": 0.2
             }
            },
            "type": "barpolar"
           }
          ],
          "carpet": [
           {
            "aaxis": {
             "endlinecolor": "#2a3f5f",
             "gridcolor": "white",
             "linecolor": "white",
             "minorgridcolor": "white",
             "startlinecolor": "#2a3f5f"
            },
            "baxis": {
             "endlinecolor": "#2a3f5f",
             "gridcolor": "white",
             "linecolor": "white",
             "minorgridcolor": "white",
             "startlinecolor": "#2a3f5f"
            },
            "type": "carpet"
           }
          ],
          "choropleth": [
           {
            "colorbar": {
             "outlinewidth": 0,
             "ticks": ""
            },
            "type": "choropleth"
           }
          ],
          "contour": [
           {
            "colorbar": {
             "outlinewidth": 0,
             "ticks": ""
            },
            "colorscale": [
             [
              0,
              "#0d0887"
             ],
             [
              0.1111111111111111,
              "#46039f"
             ],
             [
              0.2222222222222222,
              "#7201a8"
             ],
             [
              0.3333333333333333,
              "#9c179e"
             ],
             [
              0.4444444444444444,
              "#bd3786"
             ],
             [
              0.5555555555555556,
              "#d8576b"
             ],
             [
              0.6666666666666666,
              "#ed7953"
             ],
             [
              0.7777777777777778,
              "#fb9f3a"
             ],
             [
              0.8888888888888888,
              "#fdca26"
             ],
             [
              1,
              "#f0f921"
             ]
            ],
            "type": "contour"
           }
          ],
          "contourcarpet": [
           {
            "colorbar": {
             "outlinewidth": 0,
             "ticks": ""
            },
            "type": "contourcarpet"
           }
          ],
          "heatmap": [
           {
            "colorbar": {
             "outlinewidth": 0,
             "ticks": ""
            },
            "colorscale": [
             [
              0,
              "#0d0887"
             ],
             [
              0.1111111111111111,
              "#46039f"
             ],
             [
              0.2222222222222222,
              "#7201a8"
             ],
             [
              0.3333333333333333,
              "#9c179e"
             ],
             [
              0.4444444444444444,
              "#bd3786"
             ],
             [
              0.5555555555555556,
              "#d8576b"
             ],
             [
              0.6666666666666666,
              "#ed7953"
             ],
             [
              0.7777777777777778,
              "#fb9f3a"
             ],
             [
              0.8888888888888888,
              "#fdca26"
             ],
             [
              1,
              "#f0f921"
             ]
            ],
            "type": "heatmap"
           }
          ],
          "heatmapgl": [
           {
            "colorbar": {
             "outlinewidth": 0,
             "ticks": ""
            },
            "colorscale": [
             [
              0,
              "#0d0887"
             ],
             [
              0.1111111111111111,
              "#46039f"
             ],
             [
              0.2222222222222222,
              "#7201a8"
             ],
             [
              0.3333333333333333,
              "#9c179e"
             ],
             [
              0.4444444444444444,
              "#bd3786"
             ],
             [
              0.5555555555555556,
              "#d8576b"
             ],
             [
              0.6666666666666666,
              "#ed7953"
             ],
             [
              0.7777777777777778,
              "#fb9f3a"
             ],
             [
              0.8888888888888888,
              "#fdca26"
             ],
             [
              1,
              "#f0f921"
             ]
            ],
            "type": "heatmapgl"
           }
          ],
          "histogram": [
           {
            "marker": {
             "pattern": {
              "fillmode": "overlay",
              "size": 10,
              "solidity": 0.2
             }
            },
            "type": "histogram"
           }
          ],
          "histogram2d": [
           {
            "colorbar": {
             "outlinewidth": 0,
             "ticks": ""
            },
            "colorscale": [
             [
              0,
              "#0d0887"
             ],
             [
              0.1111111111111111,
              "#46039f"
             ],
             [
              0.2222222222222222,
              "#7201a8"
             ],
             [
              0.3333333333333333,
              "#9c179e"
             ],
             [
              0.4444444444444444,
              "#bd3786"
             ],
             [
              0.5555555555555556,
              "#d8576b"
             ],
             [
              0.6666666666666666,
              "#ed7953"
             ],
             [
              0.7777777777777778,
              "#fb9f3a"
             ],
             [
              0.8888888888888888,
              "#fdca26"
             ],
             [
              1,
              "#f0f921"
             ]
            ],
            "type": "histogram2d"
           }
          ],
          "histogram2dcontour": [
           {
            "colorbar": {
             "outlinewidth": 0,
             "ticks": ""
            },
            "colorscale": [
             [
              0,
              "#0d0887"
             ],
             [
              0.1111111111111111,
              "#46039f"
             ],
             [
              0.2222222222222222,
              "#7201a8"
             ],
             [
              0.3333333333333333,
              "#9c179e"
             ],
             [
              0.4444444444444444,
              "#bd3786"
             ],
             [
              0.5555555555555556,
              "#d8576b"
             ],
             [
              0.6666666666666666,
              "#ed7953"
             ],
             [
              0.7777777777777778,
              "#fb9f3a"
             ],
             [
              0.8888888888888888,
              "#fdca26"
             ],
             [
              1,
              "#f0f921"
             ]
            ],
            "type": "histogram2dcontour"
           }
          ],
          "mesh3d": [
           {
            "colorbar": {
             "outlinewidth": 0,
             "ticks": ""
            },
            "type": "mesh3d"
           }
          ],
          "parcoords": [
           {
            "line": {
             "colorbar": {
              "outlinewidth": 0,
              "ticks": ""
             }
            },
            "type": "parcoords"
           }
          ],
          "pie": [
           {
            "automargin": true,
            "type": "pie"
           }
          ],
          "scatter": [
           {
            "fillpattern": {
             "fillmode": "overlay",
             "size": 10,
             "solidity": 0.2
            },
            "type": "scatter"
           }
          ],
          "scatter3d": [
           {
            "line": {
             "colorbar": {
              "outlinewidth": 0,
              "ticks": ""
             }
            },
            "marker": {
             "colorbar": {
              "outlinewidth": 0,
              "ticks": ""
             }
            },
            "type": "scatter3d"
           }
          ],
          "scattercarpet": [
           {
            "marker": {
             "colorbar": {
              "outlinewidth": 0,
              "ticks": ""
             }
            },
            "type": "scattercarpet"
           }
          ],
          "scattergeo": [
           {
            "marker": {
             "colorbar": {
              "outlinewidth": 0,
              "ticks": ""
             }
            },
            "type": "scattergeo"
           }
          ],
          "scattergl": [
           {
            "marker": {
             "colorbar": {
              "outlinewidth": 0,
              "ticks": ""
             }
            },
            "type": "scattergl"
           }
          ],
          "scattermapbox": [
           {
            "marker": {
             "colorbar": {
              "outlinewidth": 0,
              "ticks": ""
             }
            },
            "type": "scattermapbox"
           }
          ],
          "scatterpolar": [
           {
            "marker": {
             "colorbar": {
              "outlinewidth": 0,
              "ticks": ""
             }
            },
            "type": "scatterpolar"
           }
          ],
          "scatterpolargl": [
           {
            "marker": {
             "colorbar": {
              "outlinewidth": 0,
              "ticks": ""
             }
            },
            "type": "scatterpolargl"
           }
          ],
          "scatterternary": [
           {
            "marker": {
             "colorbar": {
              "outlinewidth": 0,
              "ticks": ""
             }
            },
            "type": "scatterternary"
           }
          ],
          "surface": [
           {
            "colorbar": {
             "outlinewidth": 0,
             "ticks": ""
            },
            "colorscale": [
             [
              0,
              "#0d0887"
             ],
             [
              0.1111111111111111,
              "#46039f"
             ],
             [
              0.2222222222222222,
              "#7201a8"
             ],
             [
              0.3333333333333333,
              "#9c179e"
             ],
             [
              0.4444444444444444,
              "#bd3786"
             ],
             [
              0.5555555555555556,
              "#d8576b"
             ],
             [
              0.6666666666666666,
              "#ed7953"
             ],
             [
              0.7777777777777778,
              "#fb9f3a"
             ],
             [
              0.8888888888888888,
              "#fdca26"
             ],
             [
              1,
              "#f0f921"
             ]
            ],
            "type": "surface"
           }
          ],
          "table": [
           {
            "cells": {
             "fill": {
              "color": "#EBF0F8"
             },
             "line": {
              "color": "white"
             }
            },
            "header": {
             "fill": {
              "color": "#C8D4E3"
             },
             "line": {
              "color": "white"
             }
            },
            "type": "table"
           }
          ]
         },
         "layout": {
          "annotationdefaults": {
           "arrowcolor": "#2a3f5f",
           "arrowhead": 0,
           "arrowwidth": 1
          },
          "autotypenumbers": "strict",
          "coloraxis": {
           "colorbar": {
            "outlinewidth": 0,
            "ticks": ""
           }
          },
          "colorscale": {
           "diverging": [
            [
             0,
             "#8e0152"
            ],
            [
             0.1,
             "#c51b7d"
            ],
            [
             0.2,
             "#de77ae"
            ],
            [
             0.3,
             "#f1b6da"
            ],
            [
             0.4,
             "#fde0ef"
            ],
            [
             0.5,
             "#f7f7f7"
            ],
            [
             0.6,
             "#e6f5d0"
            ],
            [
             0.7,
             "#b8e186"
            ],
            [
             0.8,
             "#7fbc41"
            ],
            [
             0.9,
             "#4d9221"
            ],
            [
             1,
             "#276419"
            ]
           ],
           "sequential": [
            [
             0,
             "#0d0887"
            ],
            [
             0.1111111111111111,
             "#46039f"
            ],
            [
             0.2222222222222222,
             "#7201a8"
            ],
            [
             0.3333333333333333,
             "#9c179e"
            ],
            [
             0.4444444444444444,
             "#bd3786"
            ],
            [
             0.5555555555555556,
             "#d8576b"
            ],
            [
             0.6666666666666666,
             "#ed7953"
            ],
            [
             0.7777777777777778,
             "#fb9f3a"
            ],
            [
             0.8888888888888888,
             "#fdca26"
            ],
            [
             1,
             "#f0f921"
            ]
           ],
           "sequentialminus": [
            [
             0,
             "#0d0887"
            ],
            [
             0.1111111111111111,
             "#46039f"
            ],
            [
             0.2222222222222222,
             "#7201a8"
            ],
            [
             0.3333333333333333,
             "#9c179e"
            ],
            [
             0.4444444444444444,
             "#bd3786"
            ],
            [
             0.5555555555555556,
             "#d8576b"
            ],
            [
             0.6666666666666666,
             "#ed7953"
            ],
            [
             0.7777777777777778,
             "#fb9f3a"
            ],
            [
             0.8888888888888888,
             "#fdca26"
            ],
            [
             1,
             "#f0f921"
            ]
           ]
          },
          "colorway": [
           "#636efa",
           "#EF553B",
           "#00cc96",
           "#ab63fa",
           "#FFA15A",
           "#19d3f3",
           "#FF6692",
           "#B6E880",
           "#FF97FF",
           "#FECB52"
          ],
          "font": {
           "color": "#2a3f5f"
          },
          "geo": {
           "bgcolor": "white",
           "lakecolor": "white",
           "landcolor": "#E5ECF6",
           "showlakes": true,
           "showland": true,
           "subunitcolor": "white"
          },
          "hoverlabel": {
           "align": "left"
          },
          "hovermode": "closest",
          "mapbox": {
           "style": "light"
          },
          "paper_bgcolor": "white",
          "plot_bgcolor": "#E5ECF6",
          "polar": {
           "angularaxis": {
            "gridcolor": "white",
            "linecolor": "white",
            "ticks": ""
           },
           "bgcolor": "#E5ECF6",
           "radialaxis": {
            "gridcolor": "white",
            "linecolor": "white",
            "ticks": ""
           }
          },
          "scene": {
           "xaxis": {
            "backgroundcolor": "#E5ECF6",
            "gridcolor": "white",
            "gridwidth": 2,
            "linecolor": "white",
            "showbackground": true,
            "ticks": "",
            "zerolinecolor": "white"
           },
           "yaxis": {
            "backgroundcolor": "#E5ECF6",
            "gridcolor": "white",
            "gridwidth": 2,
            "linecolor": "white",
            "showbackground": true,
            "ticks": "",
            "zerolinecolor": "white"
           },
           "zaxis": {
            "backgroundcolor": "#E5ECF6",
            "gridcolor": "white",
            "gridwidth": 2,
            "linecolor": "white",
            "showbackground": true,
            "ticks": "",
            "zerolinecolor": "white"
           }
          },
          "shapedefaults": {
           "line": {
            "color": "#2a3f5f"
           }
          },
          "ternary": {
           "aaxis": {
            "gridcolor": "white",
            "linecolor": "white",
            "ticks": ""
           },
           "baxis": {
            "gridcolor": "white",
            "linecolor": "white",
            "ticks": ""
           },
           "bgcolor": "#E5ECF6",
           "caxis": {
            "gridcolor": "white",
            "linecolor": "white",
            "ticks": ""
           }
          },
          "title": {
           "x": 0.05
          },
          "xaxis": {
           "automargin": true,
           "gridcolor": "white",
           "linecolor": "white",
           "ticks": "",
           "title": {
            "standoff": 15
           },
           "zerolinecolor": "white",
           "zerolinewidth": 2
          },
          "yaxis": {
           "automargin": true,
           "gridcolor": "white",
           "linecolor": "white",
           "ticks": "",
           "title": {
            "standoff": 15
           },
           "zerolinecolor": "white",
           "zerolinewidth": 2
          }
         }
        },
        "title": {
         "text": "Correlation matrix<br><sup><i>(n=200)</i></sup>"
        }
       }
      }
     },
     "metadata": {},
     "output_type": "display_data"
    },
    {
     "data": {
      "application/vnd.plotly.v1+json": {
       "config": {
        "plotlyServerURL": "https://plot.ly"
       },
       "data": [
        {
         "boxpoints": "all",
         "jitter": 0.3,
         "marker": {
          "color": "#604b62"
         },
         "name": "WHITE",
         "notched": true,
         "pointpos": -1.8,
         "type": "box",
         "y": [
          37,
          37,
          39,
          30,
          36,
          40,
          37,
          31,
          36,
          31,
          36,
          33,
          36,
          36,
          32,
          29,
          36,
          39,
          35,
          36,
          35,
          39,
          36,
          36,
          35,
          35,
          36,
          36,
          37,
          28,
          31,
          39,
          33,
          31,
          41,
          39,
          37,
          38,
          41,
          36,
          38,
          41,
          34,
          34,
          34,
          34,
          35,
          32,
          32,
          29,
          34,
          40,
          37,
          29,
          32,
          40,
          38,
          31,
          35,
          34,
          39,
          31,
          39,
          34,
          39,
          31,
          40,
          36,
          41,
          35,
          37,
          31,
          41,
          35,
          37,
          33,
          36,
          48,
          41,
          37,
          32,
          40,
          33,
          39,
          41,
          41,
          34,
          40,
          41,
          32,
          40,
          39,
          33,
          36,
          38
         ]
        },
        {
         "boxpoints": "all",
         "jitter": 0.3,
         "marker": {
          "color": "#957897"
         },
         "name": "MIXED",
         "notched": true,
         "pointpos": -1.8,
         "type": "box",
         "y": [
          39,
          35,
          33,
          41,
          37,
          33,
          32,
          38,
          37,
          46,
          39
         ]
        },
        {
         "boxpoints": "all",
         "jitter": 0.3,
         "marker": {
          "color": "#9d83a0"
         },
         "name": "BLACK",
         "notched": true,
         "pointpos": -1.8,
         "type": "box",
         "y": [
          40,
          38,
          38,
          37,
          43,
          36,
          42,
          43,
          38,
          33,
          39,
          34,
          40,
          41,
          54,
          37,
          38,
          33,
          33,
          29,
          44,
          42,
          33,
          29,
          36,
          34,
          37,
          37,
          33,
          35,
          41,
          41,
          31,
          35,
          35,
          33,
          44,
          34,
          42,
          42,
          39,
          35,
          35,
          39,
          32,
          42,
          43
         ]
        },
        {
         "boxpoints": "all",
         "jitter": 0.3,
         "marker": {
          "color": "#a68ea8"
         },
         "name": "EAST ASIAN",
         "notched": true,
         "pointpos": -1.8,
         "type": "box",
         "y": [
          32,
          34,
          33,
          42,
          32,
          41,
          45,
          34,
          32,
          34,
          32,
          40,
          35,
          35,
          39,
          35,
          38
         ]
        },
        {
         "boxpoints": "all",
         "jitter": 0.3,
         "marker": {
          "color": "#af99b1"
         },
         "name": "SOUTH ASIAN",
         "notched": true,
         "pointpos": -1.8,
         "type": "box",
         "y": [
          45,
          37,
          38,
          33,
          27,
          35,
          35,
          36,
          37,
          35,
          42,
          40,
          36,
          41,
          39,
          33,
          43,
          38,
          32,
          38,
          36,
          39,
          38,
          47,
          35,
          30,
          39,
          47
         ]
        },
        {
         "boxpoints": "all",
         "jitter": 0.3,
         "marker": {
          "color": "#b8a4b9"
         },
         "name": "ASIAN",
         "notched": true,
         "pointpos": -1.8,
         "type": "box",
         "y": [
          32,
          39
         ]
        },
        {
         "boxpoints": "all",
         "jitter": 0.3,
         "marker": {
          "color": "#c0afc2"
         },
         "name": "All",
         "notched": true,
         "pointpos": -1.8,
         "type": "box",
         "y": [
          37,
          39,
          40,
          37,
          39,
          38,
          32,
          30,
          34,
          38,
          37,
          43,
          33,
          45,
          32,
          36,
          40,
          37,
          35,
          31,
          36,
          31,
          36,
          42,
          36,
          43,
          37,
          33,
          33,
          36,
          38,
          38,
          41,
          42,
          33,
          33,
          27,
          36,
          32,
          39,
          29,
          36,
          34,
          32,
          39,
          40,
          35,
          36,
          35,
          35,
          36,
          35,
          39,
          37,
          36,
          36,
          35,
          41,
          54,
          37,
          35,
          35,
          36,
          36,
          37,
          38,
          37,
          28,
          31,
          39,
          33,
          33,
          31,
          33,
          41,
          39,
          29,
          37,
          38,
          41,
          36,
          38,
          44,
          41,
          41,
          42,
          42,
          40,
          36,
          34,
          45,
          41,
          39,
          34,
          33,
          33,
          32,
          33,
          29,
          34,
          34,
          36,
          34,
          35,
          32,
          34,
          32,
          29,
          34,
          40,
          37,
          43,
          32,
          37,
          29,
          38,
          32,
          40,
          38,
          38,
          31,
          32,
          35,
          34,
          39,
          31,
          39,
          34,
          38,
          37,
          37,
          39,
          36,
          39,
          31,
          40,
          36,
          33,
          35,
          46,
          41,
          35,
          41,
          39,
          37,
          41,
          39,
          38,
          34,
          47,
          35,
          31,
          35,
          31,
          35,
          41,
          32,
          35,
          30,
          37,
          33,
          33,
          36,
          48,
          44,
          34,
          40,
          41,
          39,
          37,
          35,
          42,
          35,
          39,
          32,
          35,
          40,
          33,
          42,
          39,
          39,
          41,
          47,
          35,
          35,
          41,
          39,
          32,
          34,
          40,
          38,
          42,
          41,
          32,
          40,
          43,
          39,
          33,
          36,
          38
         ]
        }
       ],
       "layout": {
        "paper_bgcolor": "white",
        "plot_bgcolor": "#F6F8FC",
        "showlegend": false,
        "template": {
         "data": {
          "bar": [
           {
            "error_x": {
             "color": "#2a3f5f"
            },
            "error_y": {
             "color": "#2a3f5f"
            },
            "marker": {
             "line": {
              "color": "#E5ECF6",
              "width": 0.5
             },
             "pattern": {
              "fillmode": "overlay",
              "size": 10,
              "solidity": 0.2
             }
            },
            "type": "bar"
           }
          ],
          "barpolar": [
           {
            "marker": {
             "line": {
              "color": "#E5ECF6",
              "width": 0.5
             },
             "pattern": {
              "fillmode": "overlay",
              "size": 10,
              "solidity": 0.2
             }
            },
            "type": "barpolar"
           }
          ],
          "carpet": [
           {
            "aaxis": {
             "endlinecolor": "#2a3f5f",
             "gridcolor": "white",
             "linecolor": "white",
             "minorgridcolor": "white",
             "startlinecolor": "#2a3f5f"
            },
            "baxis": {
             "endlinecolor": "#2a3f5f",
             "gridcolor": "white",
             "linecolor": "white",
             "minorgridcolor": "white",
             "startlinecolor": "#2a3f5f"
            },
            "type": "carpet"
           }
          ],
          "choropleth": [
           {
            "colorbar": {
             "outlinewidth": 0,
             "ticks": ""
            },
            "type": "choropleth"
           }
          ],
          "contour": [
           {
            "colorbar": {
             "outlinewidth": 0,
             "ticks": ""
            },
            "colorscale": [
             [
              0,
              "#0d0887"
             ],
             [
              0.1111111111111111,
              "#46039f"
             ],
             [
              0.2222222222222222,
              "#7201a8"
             ],
             [
              0.3333333333333333,
              "#9c179e"
             ],
             [
              0.4444444444444444,
              "#bd3786"
             ],
             [
              0.5555555555555556,
              "#d8576b"
             ],
             [
              0.6666666666666666,
              "#ed7953"
             ],
             [
              0.7777777777777778,
              "#fb9f3a"
             ],
             [
              0.8888888888888888,
              "#fdca26"
             ],
             [
              1,
              "#f0f921"
             ]
            ],
            "type": "contour"
           }
          ],
          "contourcarpet": [
           {
            "colorbar": {
             "outlinewidth": 0,
             "ticks": ""
            },
            "type": "contourcarpet"
           }
          ],
          "heatmap": [
           {
            "colorbar": {
             "outlinewidth": 0,
             "ticks": ""
            },
            "colorscale": [
             [
              0,
              "#0d0887"
             ],
             [
              0.1111111111111111,
              "#46039f"
             ],
             [
              0.2222222222222222,
              "#7201a8"
             ],
             [
              0.3333333333333333,
              "#9c179e"
             ],
             [
              0.4444444444444444,
              "#bd3786"
             ],
             [
              0.5555555555555556,
              "#d8576b"
             ],
             [
              0.6666666666666666,
              "#ed7953"
             ],
             [
              0.7777777777777778,
              "#fb9f3a"
             ],
             [
              0.8888888888888888,
              "#fdca26"
             ],
             [
              1,
              "#f0f921"
             ]
            ],
            "type": "heatmap"
           }
          ],
          "heatmapgl": [
           {
            "colorbar": {
             "outlinewidth": 0,
             "ticks": ""
            },
            "colorscale": [
             [
              0,
              "#0d0887"
             ],
             [
              0.1111111111111111,
              "#46039f"
             ],
             [
              0.2222222222222222,
              "#7201a8"
             ],
             [
              0.3333333333333333,
              "#9c179e"
             ],
             [
              0.4444444444444444,
              "#bd3786"
             ],
             [
              0.5555555555555556,
              "#d8576b"
             ],
             [
              0.6666666666666666,
              "#ed7953"
             ],
             [
              0.7777777777777778,
              "#fb9f3a"
             ],
             [
              0.8888888888888888,
              "#fdca26"
             ],
             [
              1,
              "#f0f921"
             ]
            ],
            "type": "heatmapgl"
           }
          ],
          "histogram": [
           {
            "marker": {
             "pattern": {
              "fillmode": "overlay",
              "size": 10,
              "solidity": 0.2
             }
            },
            "type": "histogram"
           }
          ],
          "histogram2d": [
           {
            "colorbar": {
             "outlinewidth": 0,
             "ticks": ""
            },
            "colorscale": [
             [
              0,
              "#0d0887"
             ],
             [
              0.1111111111111111,
              "#46039f"
             ],
             [
              0.2222222222222222,
              "#7201a8"
             ],
             [
              0.3333333333333333,
              "#9c179e"
             ],
             [
              0.4444444444444444,
              "#bd3786"
             ],
             [
              0.5555555555555556,
              "#d8576b"
             ],
             [
              0.6666666666666666,
              "#ed7953"
             ],
             [
              0.7777777777777778,
              "#fb9f3a"
             ],
             [
              0.8888888888888888,
              "#fdca26"
             ],
             [
              1,
              "#f0f921"
             ]
            ],
            "type": "histogram2d"
           }
          ],
          "histogram2dcontour": [
           {
            "colorbar": {
             "outlinewidth": 0,
             "ticks": ""
            },
            "colorscale": [
             [
              0,
              "#0d0887"
             ],
             [
              0.1111111111111111,
              "#46039f"
             ],
             [
              0.2222222222222222,
              "#7201a8"
             ],
             [
              0.3333333333333333,
              "#9c179e"
             ],
             [
              0.4444444444444444,
              "#bd3786"
             ],
             [
              0.5555555555555556,
              "#d8576b"
             ],
             [
              0.6666666666666666,
              "#ed7953"
             ],
             [
              0.7777777777777778,
              "#fb9f3a"
             ],
             [
              0.8888888888888888,
              "#fdca26"
             ],
             [
              1,
              "#f0f921"
             ]
            ],
            "type": "histogram2dcontour"
           }
          ],
          "mesh3d": [
           {
            "colorbar": {
             "outlinewidth": 0,
             "ticks": ""
            },
            "type": "mesh3d"
           }
          ],
          "parcoords": [
           {
            "line": {
             "colorbar": {
              "outlinewidth": 0,
              "ticks": ""
             }
            },
            "type": "parcoords"
           }
          ],
          "pie": [
           {
            "automargin": true,
            "type": "pie"
           }
          ],
          "scatter": [
           {
            "fillpattern": {
             "fillmode": "overlay",
             "size": 10,
             "solidity": 0.2
            },
            "type": "scatter"
           }
          ],
          "scatter3d": [
           {
            "line": {
             "colorbar": {
              "outlinewidth": 0,
              "ticks": ""
             }
            },
            "marker": {
             "colorbar": {
              "outlinewidth": 0,
              "ticks": ""
             }
            },
            "type": "scatter3d"
           }
          ],
          "scattercarpet": [
           {
            "marker": {
             "colorbar": {
              "outlinewidth": 0,
              "ticks": ""
             }
            },
            "type": "scattercarpet"
           }
          ],
          "scattergeo": [
           {
            "marker": {
             "colorbar": {
              "outlinewidth": 0,
              "ticks": ""
             }
            },
            "type": "scattergeo"
           }
          ],
          "scattergl": [
           {
            "marker": {
             "colorbar": {
              "outlinewidth": 0,
              "ticks": ""
             }
            },
            "type": "scattergl"
           }
          ],
          "scattermapbox": [
           {
            "marker": {
             "colorbar": {
              "outlinewidth": 0,
              "ticks": ""
             }
            },
            "type": "scattermapbox"
           }
          ],
          "scatterpolar": [
           {
            "marker": {
             "colorbar": {
              "outlinewidth": 0,
              "ticks": ""
             }
            },
            "type": "scatterpolar"
           }
          ],
          "scatterpolargl": [
           {
            "marker": {
             "colorbar": {
              "outlinewidth": 0,
              "ticks": ""
             }
            },
            "type": "scatterpolargl"
           }
          ],
          "scatterternary": [
           {
            "marker": {
             "colorbar": {
              "outlinewidth": 0,
              "ticks": ""
             }
            },
            "type": "scatterternary"
           }
          ],
          "surface": [
           {
            "colorbar": {
             "outlinewidth": 0,
             "ticks": ""
            },
            "colorscale": [
             [
              0,
              "#0d0887"
             ],
             [
              0.1111111111111111,
              "#46039f"
             ],
             [
              0.2222222222222222,
              "#7201a8"
             ],
             [
              0.3333333333333333,
              "#9c179e"
             ],
             [
              0.4444444444444444,
              "#bd3786"
             ],
             [
              0.5555555555555556,
              "#d8576b"
             ],
             [
              0.6666666666666666,
              "#ed7953"
             ],
             [
              0.7777777777777778,
              "#fb9f3a"
             ],
             [
              0.8888888888888888,
              "#fdca26"
             ],
             [
              1,
              "#f0f921"
             ]
            ],
            "type": "surface"
           }
          ],
          "table": [
           {
            "cells": {
             "fill": {
              "color": "#EBF0F8"
             },
             "line": {
              "color": "white"
             }
            },
            "header": {
             "fill": {
              "color": "#C8D4E3"
             },
             "line": {
              "color": "white"
             }
            },
            "type": "table"
           }
          ]
         },
         "layout": {
          "annotationdefaults": {
           "arrowcolor": "#2a3f5f",
           "arrowhead": 0,
           "arrowwidth": 1
          },
          "autotypenumbers": "strict",
          "coloraxis": {
           "colorbar": {
            "outlinewidth": 0,
            "ticks": ""
           }
          },
          "colorscale": {
           "diverging": [
            [
             0,
             "#8e0152"
            ],
            [
             0.1,
             "#c51b7d"
            ],
            [
             0.2,
             "#de77ae"
            ],
            [
             0.3,
             "#f1b6da"
            ],
            [
             0.4,
             "#fde0ef"
            ],
            [
             0.5,
             "#f7f7f7"
            ],
            [
             0.6,
             "#e6f5d0"
            ],
            [
             0.7,
             "#b8e186"
            ],
            [
             0.8,
             "#7fbc41"
            ],
            [
             0.9,
             "#4d9221"
            ],
            [
             1,
             "#276419"
            ]
           ],
           "sequential": [
            [
             0,
             "#0d0887"
            ],
            [
             0.1111111111111111,
             "#46039f"
            ],
            [
             0.2222222222222222,
             "#7201a8"
            ],
            [
             0.3333333333333333,
             "#9c179e"
            ],
            [
             0.4444444444444444,
             "#bd3786"
            ],
            [
             0.5555555555555556,
             "#d8576b"
            ],
            [
             0.6666666666666666,
             "#ed7953"
            ],
            [
             0.7777777777777778,
             "#fb9f3a"
            ],
            [
             0.8888888888888888,
             "#fdca26"
            ],
            [
             1,
             "#f0f921"
            ]
           ],
           "sequentialminus": [
            [
             0,
             "#0d0887"
            ],
            [
             0.1111111111111111,
             "#46039f"
            ],
            [
             0.2222222222222222,
             "#7201a8"
            ],
            [
             0.3333333333333333,
             "#9c179e"
            ],
            [
             0.4444444444444444,
             "#bd3786"
            ],
            [
             0.5555555555555556,
             "#d8576b"
            ],
            [
             0.6666666666666666,
             "#ed7953"
            ],
            [
             0.7777777777777778,
             "#fb9f3a"
            ],
            [
             0.8888888888888888,
             "#fdca26"
            ],
            [
             1,
             "#f0f921"
            ]
           ]
          },
          "colorway": [
           "#636efa",
           "#EF553B",
           "#00cc96",
           "#ab63fa",
           "#FFA15A",
           "#19d3f3",
           "#FF6692",
           "#B6E880",
           "#FF97FF",
           "#FECB52"
          ],
          "font": {
           "color": "#2a3f5f"
          },
          "geo": {
           "bgcolor": "white",
           "lakecolor": "white",
           "landcolor": "#E5ECF6",
           "showlakes": true,
           "showland": true,
           "subunitcolor": "white"
          },
          "hoverlabel": {
           "align": "left"
          },
          "hovermode": "closest",
          "mapbox": {
           "style": "light"
          },
          "paper_bgcolor": "white",
          "plot_bgcolor": "#E5ECF6",
          "polar": {
           "angularaxis": {
            "gridcolor": "white",
            "linecolor": "white",
            "ticks": ""
           },
           "bgcolor": "#E5ECF6",
           "radialaxis": {
            "gridcolor": "white",
            "linecolor": "white",
            "ticks": ""
           }
          },
          "scene": {
           "xaxis": {
            "backgroundcolor": "#E5ECF6",
            "gridcolor": "white",
            "gridwidth": 2,
            "linecolor": "white",
            "showbackground": true,
            "ticks": "",
            "zerolinecolor": "white"
           },
           "yaxis": {
            "backgroundcolor": "#E5ECF6",
            "gridcolor": "white",
            "gridwidth": 2,
            "linecolor": "white",
            "showbackground": true,
            "ticks": "",
            "zerolinecolor": "white"
           },
           "zaxis": {
            "backgroundcolor": "#E5ECF6",
            "gridcolor": "white",
            "gridwidth": 2,
            "linecolor": "white",
            "showbackground": true,
            "ticks": "",
            "zerolinecolor": "white"
           }
          },
          "shapedefaults": {
           "line": {
            "color": "#2a3f5f"
           }
          },
          "ternary": {
           "aaxis": {
            "gridcolor": "white",
            "linecolor": "white",
            "ticks": ""
           },
           "baxis": {
            "gridcolor": "white",
            "linecolor": "white",
            "ticks": ""
           },
           "bgcolor": "#E5ECF6",
           "caxis": {
            "gridcolor": "white",
            "linecolor": "white",
            "ticks": ""
           }
          },
          "title": {
           "x": 0.05
          },
          "xaxis": {
           "automargin": true,
           "gridcolor": "white",
           "linecolor": "white",
           "ticks": "",
           "title": {
            "standoff": 15
           },
           "zerolinecolor": "white",
           "zerolinewidth": 2
          },
          "yaxis": {
           "automargin": true,
           "gridcolor": "white",
           "linecolor": "white",
           "ticks": "",
           "title": {
            "standoff": 15
           },
           "zerolinecolor": "white",
           "zerolinewidth": 2
          }
         }
        },
        "title": {
         "text": "HbA1C Spread by Race",
         "x": 0,
         "xref": "paper"
        },
        "yaxis": {
         "gridcolor": "lightgrey",
         "title": {
          "text": "HbA1C<br><sup><i>mmol/mol</i></sup>"
         }
        }
       }
      }
     },
     "metadata": {},
     "output_type": "display_data"
    }
   ],
   "source": [
    "%autoreload 2\n",
    "ma.disease_description_hba1c()"
   ]
  },
  {
   "cell_type": "code",
   "execution_count": 17,
   "metadata": {},
   "outputs": [
    {
     "name": "stdout",
     "output_type": "stream",
     "text": [
      "Data consits of 200 rows after cleaning. \n",
      "        * 196 rows have been excluded.\n",
      "            \n"
     ]
    },
    {
     "data": {
      "application/vnd.plotly.v1+json": {
       "config": {
        "plotlyServerURL": "https://plot.ly"
       },
       "data": [
        {
         "marker": {
          "color": "#604b62"
         },
         "name": "<= 100",
         "text": [
          "0.5"
         ],
         "type": "bar",
         "x": [
          "<= 100"
         ],
         "y": [
          0.5
         ]
        },
        {
         "marker": {
          "color": "#604b62"
         },
         "name": "100 - 120",
         "text": [
          "28.0"
         ],
         "type": "bar",
         "x": [
          "100 - 120"
         ],
         "y": [
          28
         ]
        },
        {
         "marker": {
          "color": "#604b62"
         },
         "name": "> 120",
         "text": [
          "71.5"
         ],
         "type": "bar",
         "x": [
          "> 120"
         ],
         "y": [
          71.5
         ]
        }
       ],
       "layout": {
        "barmode": "stack",
        "paper_bgcolor": "white",
        "plot_bgcolor": "#F6F8FC",
        "template": {
         "data": {
          "bar": [
           {
            "error_x": {
             "color": "#2a3f5f"
            },
            "error_y": {
             "color": "#2a3f5f"
            },
            "marker": {
             "line": {
              "color": "#E5ECF6",
              "width": 0.5
             },
             "pattern": {
              "fillmode": "overlay",
              "size": 10,
              "solidity": 0.2
             }
            },
            "type": "bar"
           }
          ],
          "barpolar": [
           {
            "marker": {
             "line": {
              "color": "#E5ECF6",
              "width": 0.5
             },
             "pattern": {
              "fillmode": "overlay",
              "size": 10,
              "solidity": 0.2
             }
            },
            "type": "barpolar"
           }
          ],
          "carpet": [
           {
            "aaxis": {
             "endlinecolor": "#2a3f5f",
             "gridcolor": "white",
             "linecolor": "white",
             "minorgridcolor": "white",
             "startlinecolor": "#2a3f5f"
            },
            "baxis": {
             "endlinecolor": "#2a3f5f",
             "gridcolor": "white",
             "linecolor": "white",
             "minorgridcolor": "white",
             "startlinecolor": "#2a3f5f"
            },
            "type": "carpet"
           }
          ],
          "choropleth": [
           {
            "colorbar": {
             "outlinewidth": 0,
             "ticks": ""
            },
            "type": "choropleth"
           }
          ],
          "contour": [
           {
            "colorbar": {
             "outlinewidth": 0,
             "ticks": ""
            },
            "colorscale": [
             [
              0,
              "#0d0887"
             ],
             [
              0.1111111111111111,
              "#46039f"
             ],
             [
              0.2222222222222222,
              "#7201a8"
             ],
             [
              0.3333333333333333,
              "#9c179e"
             ],
             [
              0.4444444444444444,
              "#bd3786"
             ],
             [
              0.5555555555555556,
              "#d8576b"
             ],
             [
              0.6666666666666666,
              "#ed7953"
             ],
             [
              0.7777777777777778,
              "#fb9f3a"
             ],
             [
              0.8888888888888888,
              "#fdca26"
             ],
             [
              1,
              "#f0f921"
             ]
            ],
            "type": "contour"
           }
          ],
          "contourcarpet": [
           {
            "colorbar": {
             "outlinewidth": 0,
             "ticks": ""
            },
            "type": "contourcarpet"
           }
          ],
          "heatmap": [
           {
            "colorbar": {
             "outlinewidth": 0,
             "ticks": ""
            },
            "colorscale": [
             [
              0,
              "#0d0887"
             ],
             [
              0.1111111111111111,
              "#46039f"
             ],
             [
              0.2222222222222222,
              "#7201a8"
             ],
             [
              0.3333333333333333,
              "#9c179e"
             ],
             [
              0.4444444444444444,
              "#bd3786"
             ],
             [
              0.5555555555555556,
              "#d8576b"
             ],
             [
              0.6666666666666666,
              "#ed7953"
             ],
             [
              0.7777777777777778,
              "#fb9f3a"
             ],
             [
              0.8888888888888888,
              "#fdca26"
             ],
             [
              1,
              "#f0f921"
             ]
            ],
            "type": "heatmap"
           }
          ],
          "heatmapgl": [
           {
            "colorbar": {
             "outlinewidth": 0,
             "ticks": ""
            },
            "colorscale": [
             [
              0,
              "#0d0887"
             ],
             [
              0.1111111111111111,
              "#46039f"
             ],
             [
              0.2222222222222222,
              "#7201a8"
             ],
             [
              0.3333333333333333,
              "#9c179e"
             ],
             [
              0.4444444444444444,
              "#bd3786"
             ],
             [
              0.5555555555555556,
              "#d8576b"
             ],
             [
              0.6666666666666666,
              "#ed7953"
             ],
             [
              0.7777777777777778,
              "#fb9f3a"
             ],
             [
              0.8888888888888888,
              "#fdca26"
             ],
             [
              1,
              "#f0f921"
             ]
            ],
            "type": "heatmapgl"
           }
          ],
          "histogram": [
           {
            "marker": {
             "pattern": {
              "fillmode": "overlay",
              "size": 10,
              "solidity": 0.2
             }
            },
            "type": "histogram"
           }
          ],
          "histogram2d": [
           {
            "colorbar": {
             "outlinewidth": 0,
             "ticks": ""
            },
            "colorscale": [
             [
              0,
              "#0d0887"
             ],
             [
              0.1111111111111111,
              "#46039f"
             ],
             [
              0.2222222222222222,
              "#7201a8"
             ],
             [
              0.3333333333333333,
              "#9c179e"
             ],
             [
              0.4444444444444444,
              "#bd3786"
             ],
             [
              0.5555555555555556,
              "#d8576b"
             ],
             [
              0.6666666666666666,
              "#ed7953"
             ],
             [
              0.7777777777777778,
              "#fb9f3a"
             ],
             [
              0.8888888888888888,
              "#fdca26"
             ],
             [
              1,
              "#f0f921"
             ]
            ],
            "type": "histogram2d"
           }
          ],
          "histogram2dcontour": [
           {
            "colorbar": {
             "outlinewidth": 0,
             "ticks": ""
            },
            "colorscale": [
             [
              0,
              "#0d0887"
             ],
             [
              0.1111111111111111,
              "#46039f"
             ],
             [
              0.2222222222222222,
              "#7201a8"
             ],
             [
              0.3333333333333333,
              "#9c179e"
             ],
             [
              0.4444444444444444,
              "#bd3786"
             ],
             [
              0.5555555555555556,
              "#d8576b"
             ],
             [
              0.6666666666666666,
              "#ed7953"
             ],
             [
              0.7777777777777778,
              "#fb9f3a"
             ],
             [
              0.8888888888888888,
              "#fdca26"
             ],
             [
              1,
              "#f0f921"
             ]
            ],
            "type": "histogram2dcontour"
           }
          ],
          "mesh3d": [
           {
            "colorbar": {
             "outlinewidth": 0,
             "ticks": ""
            },
            "type": "mesh3d"
           }
          ],
          "parcoords": [
           {
            "line": {
             "colorbar": {
              "outlinewidth": 0,
              "ticks": ""
             }
            },
            "type": "parcoords"
           }
          ],
          "pie": [
           {
            "automargin": true,
            "type": "pie"
           }
          ],
          "scatter": [
           {
            "fillpattern": {
             "fillmode": "overlay",
             "size": 10,
             "solidity": 0.2
            },
            "type": "scatter"
           }
          ],
          "scatter3d": [
           {
            "line": {
             "colorbar": {
              "outlinewidth": 0,
              "ticks": ""
             }
            },
            "marker": {
             "colorbar": {
              "outlinewidth": 0,
              "ticks": ""
             }
            },
            "type": "scatter3d"
           }
          ],
          "scattercarpet": [
           {
            "marker": {
             "colorbar": {
              "outlinewidth": 0,
              "ticks": ""
             }
            },
            "type": "scattercarpet"
           }
          ],
          "scattergeo": [
           {
            "marker": {
             "colorbar": {
              "outlinewidth": 0,
              "ticks": ""
             }
            },
            "type": "scattergeo"
           }
          ],
          "scattergl": [
           {
            "marker": {
             "colorbar": {
              "outlinewidth": 0,
              "ticks": ""
             }
            },
            "type": "scattergl"
           }
          ],
          "scattermapbox": [
           {
            "marker": {
             "colorbar": {
              "outlinewidth": 0,
              "ticks": ""
             }
            },
            "type": "scattermapbox"
           }
          ],
          "scatterpolar": [
           {
            "marker": {
             "colorbar": {
              "outlinewidth": 0,
              "ticks": ""
             }
            },
            "type": "scatterpolar"
           }
          ],
          "scatterpolargl": [
           {
            "marker": {
             "colorbar": {
              "outlinewidth": 0,
              "ticks": ""
             }
            },
            "type": "scatterpolargl"
           }
          ],
          "scatterternary": [
           {
            "marker": {
             "colorbar": {
              "outlinewidth": 0,
              "ticks": ""
             }
            },
            "type": "scatterternary"
           }
          ],
          "surface": [
           {
            "colorbar": {
             "outlinewidth": 0,
             "ticks": ""
            },
            "colorscale": [
             [
              0,
              "#0d0887"
             ],
             [
              0.1111111111111111,
              "#46039f"
             ],
             [
              0.2222222222222222,
              "#7201a8"
             ],
             [
              0.3333333333333333,
              "#9c179e"
             ],
             [
              0.4444444444444444,
              "#bd3786"
             ],
             [
              0.5555555555555556,
              "#d8576b"
             ],
             [
              0.6666666666666666,
              "#ed7953"
             ],
             [
              0.7777777777777778,
              "#fb9f3a"
             ],
             [
              0.8888888888888888,
              "#fdca26"
             ],
             [
              1,
              "#f0f921"
             ]
            ],
            "type": "surface"
           }
          ],
          "table": [
           {
            "cells": {
             "fill": {
              "color": "#EBF0F8"
             },
             "line": {
              "color": "white"
             }
            },
            "header": {
             "fill": {
              "color": "#C8D4E3"
             },
             "line": {
              "color": "white"
             }
            },
            "type": "table"
           }
          ]
         },
         "layout": {
          "annotationdefaults": {
           "arrowcolor": "#2a3f5f",
           "arrowhead": 0,
           "arrowwidth": 1
          },
          "autotypenumbers": "strict",
          "coloraxis": {
           "colorbar": {
            "outlinewidth": 0,
            "ticks": ""
           }
          },
          "colorscale": {
           "diverging": [
            [
             0,
             "#8e0152"
            ],
            [
             0.1,
             "#c51b7d"
            ],
            [
             0.2,
             "#de77ae"
            ],
            [
             0.3,
             "#f1b6da"
            ],
            [
             0.4,
             "#fde0ef"
            ],
            [
             0.5,
             "#f7f7f7"
            ],
            [
             0.6,
             "#e6f5d0"
            ],
            [
             0.7,
             "#b8e186"
            ],
            [
             0.8,
             "#7fbc41"
            ],
            [
             0.9,
             "#4d9221"
            ],
            [
             1,
             "#276419"
            ]
           ],
           "sequential": [
            [
             0,
             "#0d0887"
            ],
            [
             0.1111111111111111,
             "#46039f"
            ],
            [
             0.2222222222222222,
             "#7201a8"
            ],
            [
             0.3333333333333333,
             "#9c179e"
            ],
            [
             0.4444444444444444,
             "#bd3786"
            ],
            [
             0.5555555555555556,
             "#d8576b"
            ],
            [
             0.6666666666666666,
             "#ed7953"
            ],
            [
             0.7777777777777778,
             "#fb9f3a"
            ],
            [
             0.8888888888888888,
             "#fdca26"
            ],
            [
             1,
             "#f0f921"
            ]
           ],
           "sequentialminus": [
            [
             0,
             "#0d0887"
            ],
            [
             0.1111111111111111,
             "#46039f"
            ],
            [
             0.2222222222222222,
             "#7201a8"
            ],
            [
             0.3333333333333333,
             "#9c179e"
            ],
            [
             0.4444444444444444,
             "#bd3786"
            ],
            [
             0.5555555555555556,
             "#d8576b"
            ],
            [
             0.6666666666666666,
             "#ed7953"
            ],
            [
             0.7777777777777778,
             "#fb9f3a"
            ],
            [
             0.8888888888888888,
             "#fdca26"
            ],
            [
             1,
             "#f0f921"
            ]
           ]
          },
          "colorway": [
           "#636efa",
           "#EF553B",
           "#00cc96",
           "#ab63fa",
           "#FFA15A",
           "#19d3f3",
           "#FF6692",
           "#B6E880",
           "#FF97FF",
           "#FECB52"
          ],
          "font": {
           "color": "#2a3f5f"
          },
          "geo": {
           "bgcolor": "white",
           "lakecolor": "white",
           "landcolor": "#E5ECF6",
           "showlakes": true,
           "showland": true,
           "subunitcolor": "white"
          },
          "hoverlabel": {
           "align": "left"
          },
          "hovermode": "closest",
          "mapbox": {
           "style": "light"
          },
          "paper_bgcolor": "white",
          "plot_bgcolor": "#E5ECF6",
          "polar": {
           "angularaxis": {
            "gridcolor": "white",
            "linecolor": "white",
            "ticks": ""
           },
           "bgcolor": "#E5ECF6",
           "radialaxis": {
            "gridcolor": "white",
            "linecolor": "white",
            "ticks": ""
           }
          },
          "scene": {
           "xaxis": {
            "backgroundcolor": "#E5ECF6",
            "gridcolor": "white",
            "gridwidth": 2,
            "linecolor": "white",
            "showbackground": true,
            "ticks": "",
            "zerolinecolor": "white"
           },
           "yaxis": {
            "backgroundcolor": "#E5ECF6",
            "gridcolor": "white",
            "gridwidth": 2,
            "linecolor": "white",
            "showbackground": true,
            "ticks": "",
            "zerolinecolor": "white"
           },
           "zaxis": {
            "backgroundcolor": "#E5ECF6",
            "gridcolor": "white",
            "gridwidth": 2,
            "linecolor": "white",
            "showbackground": true,
            "ticks": "",
            "zerolinecolor": "white"
           }
          },
          "shapedefaults": {
           "line": {
            "color": "#2a3f5f"
           }
          },
          "ternary": {
           "aaxis": {
            "gridcolor": "white",
            "linecolor": "white",
            "ticks": ""
           },
           "baxis": {
            "gridcolor": "white",
            "linecolor": "white",
            "ticks": ""
           },
           "bgcolor": "#E5ECF6",
           "caxis": {
            "gridcolor": "white",
            "linecolor": "white",
            "ticks": ""
           }
          },
          "title": {
           "x": 0.05
          },
          "xaxis": {
           "automargin": true,
           "gridcolor": "white",
           "linecolor": "white",
           "ticks": "",
           "title": {
            "standoff": 15
           },
           "zerolinecolor": "white",
           "zerolinewidth": 2
          },
          "yaxis": {
           "automargin": true,
           "gridcolor": "white",
           "linecolor": "white",
           "ticks": "",
           "title": {
            "standoff": 15
           },
           "zerolinecolor": "white",
           "zerolinewidth": 2
          }
         }
        },
        "title": {
         "text": "Hb Category Distribution",
         "x": 0,
         "xref": "paper"
        },
        "xaxis": {
         "title": {
          "text": "Hb Category<br><sup><i>mg/dL</i></sup>"
         }
        },
        "yaxis": {
         "gridcolor": "lightgrey",
         "title": {
          "text": "Percentage<br><sup><i>%</i></sup>"
         }
        }
       }
      }
     },
     "metadata": {},
     "output_type": "display_data"
    },
    {
     "data": {
      "application/vnd.plotly.v1+json": {
       "config": {
        "plotlyServerURL": "https://plot.ly"
       },
       "data": [
        {
         "boxpoints": "all",
         "jitter": 0.3,
         "marker": {
          "color": "#604b62"
         },
         "name": "WHITE",
         "notched": true,
         "pointpos": -1.8,
         "type": "box",
         "y": [
          132,
          141,
          124,
          131,
          147,
          130,
          134,
          118,
          125,
          130,
          121,
          131,
          135,
          133,
          131,
          130,
          136,
          119,
          121,
          120,
          126,
          130,
          129,
          122,
          111,
          115,
          123,
          124,
          116,
          115,
          134,
          133,
          130,
          144,
          126,
          127,
          114,
          119,
          133,
          134,
          130,
          144,
          137,
          129,
          124,
          118,
          136,
          128,
          122,
          110,
          130,
          134,
          131,
          119,
          132,
          126,
          131,
          129,
          114,
          131,
          135,
          122,
          127,
          143,
          114,
          117,
          118,
          127,
          147,
          134,
          131,
          120,
          130,
          127,
          132,
          124,
          138,
          129,
          143,
          117,
          114,
          129,
          120,
          139,
          134,
          122,
          136,
          130,
          117,
          142,
          133,
          144,
          134,
          137,
          128
         ]
        },
        {
         "boxpoints": "all",
         "jitter": 0.3,
         "marker": {
          "color": "#957897"
         },
         "name": "MIXED",
         "notched": true,
         "pointpos": -1.8,
         "type": "box",
         "y": [
          70,
          119,
          114,
          117,
          125,
          121,
          126,
          132,
          130,
          126,
          139
         ]
        },
        {
         "boxpoints": "all",
         "jitter": 0.3,
         "marker": {
          "color": "#9d83a0"
         },
         "name": "BLACK",
         "notched": true,
         "pointpos": -1.8,
         "type": "box",
         "y": [
          139,
          125,
          134,
          111,
          123,
          131,
          119,
          117,
          132,
          121,
          131,
          123,
          118,
          118,
          129,
          118,
          124,
          132,
          111,
          120,
          137,
          123,
          134,
          127,
          120,
          140,
          127,
          130,
          120,
          122,
          119,
          129,
          129,
          112,
          115,
          116,
          117,
          107,
          123,
          125,
          118,
          113,
          102,
          127,
          111,
          137,
          117
         ]
        },
        {
         "boxpoints": "all",
         "jitter": 0.3,
         "marker": {
          "color": "#a68ea8"
         },
         "name": "EAST ASIAN",
         "notched": true,
         "pointpos": -1.8,
         "type": "box",
         "y": [
          126,
          135,
          113,
          124,
          132,
          129,
          122,
          141,
          133,
          130,
          121,
          131,
          110,
          111,
          140,
          125,
          124
         ]
        },
        {
         "boxpoints": "all",
         "jitter": 0.3,
         "marker": {
          "color": "#af99b1"
         },
         "name": "SOUTH ASIAN",
         "notched": true,
         "pointpos": -1.8,
         "type": "box",
         "y": [
          134,
          128,
          139,
          112,
          119,
          119,
          125,
          111,
          120,
          133,
          137,
          119,
          149,
          126,
          124,
          133,
          125,
          125,
          128,
          129,
          129,
          121,
          129,
          137,
          114,
          120,
          122,
          122
         ]
        },
        {
         "boxpoints": "all",
         "jitter": 0.3,
         "marker": {
          "color": "#b8a4b9"
         },
         "name": "ASIAN",
         "notched": true,
         "pointpos": -1.8,
         "type": "box",
         "y": [
          139,
          136
         ]
        },
        {
         "boxpoints": "all",
         "jitter": 0.3,
         "marker": {
          "color": "#c0afc2"
         },
         "name": "All",
         "notched": true,
         "pointpos": -1.8,
         "type": "box",
         "y": [
          132,
          70,
          139,
          141,
          124,
          125,
          126,
          131,
          135,
          134,
          111,
          123,
          113,
          134,
          139,
          147,
          130,
          134,
          119,
          118,
          125,
          130,
          131,
          119,
          121,
          117,
          128,
          114,
          131,
          135,
          132,
          139,
          117,
          124,
          112,
          121,
          119,
          133,
          131,
          131,
          130,
          136,
          123,
          132,
          119,
          118,
          121,
          120,
          119,
          125,
          111,
          126,
          130,
          120,
          129,
          122,
          133,
          118,
          129,
          118,
          111,
          115,
          123,
          124,
          125,
          124,
          116,
          115,
          134,
          133,
          130,
          132,
          144,
          111,
          126,
          127,
          120,
          114,
          119,
          133,
          134,
          130,
          137,
          144,
          129,
          137,
          123,
          119,
          149,
          137,
          122,
          126,
          124,
          129,
          134,
          121,
          126,
          133,
          127,
          124,
          118,
          120,
          140,
          136,
          128,
          141,
          122,
          110,
          130,
          134,
          127,
          125,
          133,
          131,
          119,
          132,
          132,
          126,
          125,
          131,
          129,
          128,
          114,
          131,
          135,
          122,
          127,
          143,
          129,
          130,
          130,
          136,
          129,
          114,
          117,
          118,
          127,
          120,
          122,
          126,
          147,
          134,
          119,
          121,
          131,
          129,
          139,
          129,
          130,
          137,
          114,
          129,
          112,
          120,
          115,
          130,
          121,
          127,
          120,
          132,
          116,
          124,
          138,
          129,
          117,
          107,
          131,
          143,
          122,
          117,
          110,
          123,
          111,
          140,
          114,
          125,
          129,
          120,
          125,
          118,
          139,
          134,
          122,
          113,
          102,
          122,
          127,
          111,
          136,
          130,
          124,
          137,
          117,
          142,
          133,
          117,
          144,
          134,
          137,
          128
         ]
        }
       ],
       "layout": {
        "paper_bgcolor": "white",
        "plot_bgcolor": "#F6F8FC",
        "showlegend": false,
        "template": {
         "data": {
          "bar": [
           {
            "error_x": {
             "color": "#2a3f5f"
            },
            "error_y": {
             "color": "#2a3f5f"
            },
            "marker": {
             "line": {
              "color": "#E5ECF6",
              "width": 0.5
             },
             "pattern": {
              "fillmode": "overlay",
              "size": 10,
              "solidity": 0.2
             }
            },
            "type": "bar"
           }
          ],
          "barpolar": [
           {
            "marker": {
             "line": {
              "color": "#E5ECF6",
              "width": 0.5
             },
             "pattern": {
              "fillmode": "overlay",
              "size": 10,
              "solidity": 0.2
             }
            },
            "type": "barpolar"
           }
          ],
          "carpet": [
           {
            "aaxis": {
             "endlinecolor": "#2a3f5f",
             "gridcolor": "white",
             "linecolor": "white",
             "minorgridcolor": "white",
             "startlinecolor": "#2a3f5f"
            },
            "baxis": {
             "endlinecolor": "#2a3f5f",
             "gridcolor": "white",
             "linecolor": "white",
             "minorgridcolor": "white",
             "startlinecolor": "#2a3f5f"
            },
            "type": "carpet"
           }
          ],
          "choropleth": [
           {
            "colorbar": {
             "outlinewidth": 0,
             "ticks": ""
            },
            "type": "choropleth"
           }
          ],
          "contour": [
           {
            "colorbar": {
             "outlinewidth": 0,
             "ticks": ""
            },
            "colorscale": [
             [
              0,
              "#0d0887"
             ],
             [
              0.1111111111111111,
              "#46039f"
             ],
             [
              0.2222222222222222,
              "#7201a8"
             ],
             [
              0.3333333333333333,
              "#9c179e"
             ],
             [
              0.4444444444444444,
              "#bd3786"
             ],
             [
              0.5555555555555556,
              "#d8576b"
             ],
             [
              0.6666666666666666,
              "#ed7953"
             ],
             [
              0.7777777777777778,
              "#fb9f3a"
             ],
             [
              0.8888888888888888,
              "#fdca26"
             ],
             [
              1,
              "#f0f921"
             ]
            ],
            "type": "contour"
           }
          ],
          "contourcarpet": [
           {
            "colorbar": {
             "outlinewidth": 0,
             "ticks": ""
            },
            "type": "contourcarpet"
           }
          ],
          "heatmap": [
           {
            "colorbar": {
             "outlinewidth": 0,
             "ticks": ""
            },
            "colorscale": [
             [
              0,
              "#0d0887"
             ],
             [
              0.1111111111111111,
              "#46039f"
             ],
             [
              0.2222222222222222,
              "#7201a8"
             ],
             [
              0.3333333333333333,
              "#9c179e"
             ],
             [
              0.4444444444444444,
              "#bd3786"
             ],
             [
              0.5555555555555556,
              "#d8576b"
             ],
             [
              0.6666666666666666,
              "#ed7953"
             ],
             [
              0.7777777777777778,
              "#fb9f3a"
             ],
             [
              0.8888888888888888,
              "#fdca26"
             ],
             [
              1,
              "#f0f921"
             ]
            ],
            "type": "heatmap"
           }
          ],
          "heatmapgl": [
           {
            "colorbar": {
             "outlinewidth": 0,
             "ticks": ""
            },
            "colorscale": [
             [
              0,
              "#0d0887"
             ],
             [
              0.1111111111111111,
              "#46039f"
             ],
             [
              0.2222222222222222,
              "#7201a8"
             ],
             [
              0.3333333333333333,
              "#9c179e"
             ],
             [
              0.4444444444444444,
              "#bd3786"
             ],
             [
              0.5555555555555556,
              "#d8576b"
             ],
             [
              0.6666666666666666,
              "#ed7953"
             ],
             [
              0.7777777777777778,
              "#fb9f3a"
             ],
             [
              0.8888888888888888,
              "#fdca26"
             ],
             [
              1,
              "#f0f921"
             ]
            ],
            "type": "heatmapgl"
           }
          ],
          "histogram": [
           {
            "marker": {
             "pattern": {
              "fillmode": "overlay",
              "size": 10,
              "solidity": 0.2
             }
            },
            "type": "histogram"
           }
          ],
          "histogram2d": [
           {
            "colorbar": {
             "outlinewidth": 0,
             "ticks": ""
            },
            "colorscale": [
             [
              0,
              "#0d0887"
             ],
             [
              0.1111111111111111,
              "#46039f"
             ],
             [
              0.2222222222222222,
              "#7201a8"
             ],
             [
              0.3333333333333333,
              "#9c179e"
             ],
             [
              0.4444444444444444,
              "#bd3786"
             ],
             [
              0.5555555555555556,
              "#d8576b"
             ],
             [
              0.6666666666666666,
              "#ed7953"
             ],
             [
              0.7777777777777778,
              "#fb9f3a"
             ],
             [
              0.8888888888888888,
              "#fdca26"
             ],
             [
              1,
              "#f0f921"
             ]
            ],
            "type": "histogram2d"
           }
          ],
          "histogram2dcontour": [
           {
            "colorbar": {
             "outlinewidth": 0,
             "ticks": ""
            },
            "colorscale": [
             [
              0,
              "#0d0887"
             ],
             [
              0.1111111111111111,
              "#46039f"
             ],
             [
              0.2222222222222222,
              "#7201a8"
             ],
             [
              0.3333333333333333,
              "#9c179e"
             ],
             [
              0.4444444444444444,
              "#bd3786"
             ],
             [
              0.5555555555555556,
              "#d8576b"
             ],
             [
              0.6666666666666666,
              "#ed7953"
             ],
             [
              0.7777777777777778,
              "#fb9f3a"
             ],
             [
              0.8888888888888888,
              "#fdca26"
             ],
             [
              1,
              "#f0f921"
             ]
            ],
            "type": "histogram2dcontour"
           }
          ],
          "mesh3d": [
           {
            "colorbar": {
             "outlinewidth": 0,
             "ticks": ""
            },
            "type": "mesh3d"
           }
          ],
          "parcoords": [
           {
            "line": {
             "colorbar": {
              "outlinewidth": 0,
              "ticks": ""
             }
            },
            "type": "parcoords"
           }
          ],
          "pie": [
           {
            "automargin": true,
            "type": "pie"
           }
          ],
          "scatter": [
           {
            "fillpattern": {
             "fillmode": "overlay",
             "size": 10,
             "solidity": 0.2
            },
            "type": "scatter"
           }
          ],
          "scatter3d": [
           {
            "line": {
             "colorbar": {
              "outlinewidth": 0,
              "ticks": ""
             }
            },
            "marker": {
             "colorbar": {
              "outlinewidth": 0,
              "ticks": ""
             }
            },
            "type": "scatter3d"
           }
          ],
          "scattercarpet": [
           {
            "marker": {
             "colorbar": {
              "outlinewidth": 0,
              "ticks": ""
             }
            },
            "type": "scattercarpet"
           }
          ],
          "scattergeo": [
           {
            "marker": {
             "colorbar": {
              "outlinewidth": 0,
              "ticks": ""
             }
            },
            "type": "scattergeo"
           }
          ],
          "scattergl": [
           {
            "marker": {
             "colorbar": {
              "outlinewidth": 0,
              "ticks": ""
             }
            },
            "type": "scattergl"
           }
          ],
          "scattermapbox": [
           {
            "marker": {
             "colorbar": {
              "outlinewidth": 0,
              "ticks": ""
             }
            },
            "type": "scattermapbox"
           }
          ],
          "scatterpolar": [
           {
            "marker": {
             "colorbar": {
              "outlinewidth": 0,
              "ticks": ""
             }
            },
            "type": "scatterpolar"
           }
          ],
          "scatterpolargl": [
           {
            "marker": {
             "colorbar": {
              "outlinewidth": 0,
              "ticks": ""
             }
            },
            "type": "scatterpolargl"
           }
          ],
          "scatterternary": [
           {
            "marker": {
             "colorbar": {
              "outlinewidth": 0,
              "ticks": ""
             }
            },
            "type": "scatterternary"
           }
          ],
          "surface": [
           {
            "colorbar": {
             "outlinewidth": 0,
             "ticks": ""
            },
            "colorscale": [
             [
              0,
              "#0d0887"
             ],
             [
              0.1111111111111111,
              "#46039f"
             ],
             [
              0.2222222222222222,
              "#7201a8"
             ],
             [
              0.3333333333333333,
              "#9c179e"
             ],
             [
              0.4444444444444444,
              "#bd3786"
             ],
             [
              0.5555555555555556,
              "#d8576b"
             ],
             [
              0.6666666666666666,
              "#ed7953"
             ],
             [
              0.7777777777777778,
              "#fb9f3a"
             ],
             [
              0.8888888888888888,
              "#fdca26"
             ],
             [
              1,
              "#f0f921"
             ]
            ],
            "type": "surface"
           }
          ],
          "table": [
           {
            "cells": {
             "fill": {
              "color": "#EBF0F8"
             },
             "line": {
              "color": "white"
             }
            },
            "header": {
             "fill": {
              "color": "#C8D4E3"
             },
             "line": {
              "color": "white"
             }
            },
            "type": "table"
           }
          ]
         },
         "layout": {
          "annotationdefaults": {
           "arrowcolor": "#2a3f5f",
           "arrowhead": 0,
           "arrowwidth": 1
          },
          "autotypenumbers": "strict",
          "coloraxis": {
           "colorbar": {
            "outlinewidth": 0,
            "ticks": ""
           }
          },
          "colorscale": {
           "diverging": [
            [
             0,
             "#8e0152"
            ],
            [
             0.1,
             "#c51b7d"
            ],
            [
             0.2,
             "#de77ae"
            ],
            [
             0.3,
             "#f1b6da"
            ],
            [
             0.4,
             "#fde0ef"
            ],
            [
             0.5,
             "#f7f7f7"
            ],
            [
             0.6,
             "#e6f5d0"
            ],
            [
             0.7,
             "#b8e186"
            ],
            [
             0.8,
             "#7fbc41"
            ],
            [
             0.9,
             "#4d9221"
            ],
            [
             1,
             "#276419"
            ]
           ],
           "sequential": [
            [
             0,
             "#0d0887"
            ],
            [
             0.1111111111111111,
             "#46039f"
            ],
            [
             0.2222222222222222,
             "#7201a8"
            ],
            [
             0.3333333333333333,
             "#9c179e"
            ],
            [
             0.4444444444444444,
             "#bd3786"
            ],
            [
             0.5555555555555556,
             "#d8576b"
            ],
            [
             0.6666666666666666,
             "#ed7953"
            ],
            [
             0.7777777777777778,
             "#fb9f3a"
            ],
            [
             0.8888888888888888,
             "#fdca26"
            ],
            [
             1,
             "#f0f921"
            ]
           ],
           "sequentialminus": [
            [
             0,
             "#0d0887"
            ],
            [
             0.1111111111111111,
             "#46039f"
            ],
            [
             0.2222222222222222,
             "#7201a8"
            ],
            [
             0.3333333333333333,
             "#9c179e"
            ],
            [
             0.4444444444444444,
             "#bd3786"
            ],
            [
             0.5555555555555556,
             "#d8576b"
            ],
            [
             0.6666666666666666,
             "#ed7953"
            ],
            [
             0.7777777777777778,
             "#fb9f3a"
            ],
            [
             0.8888888888888888,
             "#fdca26"
            ],
            [
             1,
             "#f0f921"
            ]
           ]
          },
          "colorway": [
           "#636efa",
           "#EF553B",
           "#00cc96",
           "#ab63fa",
           "#FFA15A",
           "#19d3f3",
           "#FF6692",
           "#B6E880",
           "#FF97FF",
           "#FECB52"
          ],
          "font": {
           "color": "#2a3f5f"
          },
          "geo": {
           "bgcolor": "white",
           "lakecolor": "white",
           "landcolor": "#E5ECF6",
           "showlakes": true,
           "showland": true,
           "subunitcolor": "white"
          },
          "hoverlabel": {
           "align": "left"
          },
          "hovermode": "closest",
          "mapbox": {
           "style": "light"
          },
          "paper_bgcolor": "white",
          "plot_bgcolor": "#E5ECF6",
          "polar": {
           "angularaxis": {
            "gridcolor": "white",
            "linecolor": "white",
            "ticks": ""
           },
           "bgcolor": "#E5ECF6",
           "radialaxis": {
            "gridcolor": "white",
            "linecolor": "white",
            "ticks": ""
           }
          },
          "scene": {
           "xaxis": {
            "backgroundcolor": "#E5ECF6",
            "gridcolor": "white",
            "gridwidth": 2,
            "linecolor": "white",
            "showbackground": true,
            "ticks": "",
            "zerolinecolor": "white"
           },
           "yaxis": {
            "backgroundcolor": "#E5ECF6",
            "gridcolor": "white",
            "gridwidth": 2,
            "linecolor": "white",
            "showbackground": true,
            "ticks": "",
            "zerolinecolor": "white"
           },
           "zaxis": {
            "backgroundcolor": "#E5ECF6",
            "gridcolor": "white",
            "gridwidth": 2,
            "linecolor": "white",
            "showbackground": true,
            "ticks": "",
            "zerolinecolor": "white"
           }
          },
          "shapedefaults": {
           "line": {
            "color": "#2a3f5f"
           }
          },
          "ternary": {
           "aaxis": {
            "gridcolor": "white",
            "linecolor": "white",
            "ticks": ""
           },
           "baxis": {
            "gridcolor": "white",
            "linecolor": "white",
            "ticks": ""
           },
           "bgcolor": "#E5ECF6",
           "caxis": {
            "gridcolor": "white",
            "linecolor": "white",
            "ticks": ""
           }
          },
          "title": {
           "x": 0.05
          },
          "xaxis": {
           "automargin": true,
           "gridcolor": "white",
           "linecolor": "white",
           "ticks": "",
           "title": {
            "standoff": 15
           },
           "zerolinecolor": "white",
           "zerolinewidth": 2
          },
          "yaxis": {
           "automargin": true,
           "gridcolor": "white",
           "linecolor": "white",
           "ticks": "",
           "title": {
            "standoff": 15
           },
           "zerolinecolor": "white",
           "zerolinewidth": 2
          }
         }
        },
        "title": {
         "text": "Hb Spread by Race",
         "x": 0,
         "xref": "paper"
        },
        "yaxis": {
         "gridcolor": "lightgrey",
         "title": {
          "text": "Hb<br><sup><i>mg/dL</i></sup>"
         }
        }
       }
      }
     },
     "metadata": {},
     "output_type": "display_data"
    }
   ],
   "source": [
    "%autoreload 2\n",
    "ma.disease_description_anemia()"
   ]
  },
  {
   "cell_type": "code",
   "execution_count": 18,
   "metadata": {},
   "outputs": [
    {
     "name": "stdout",
     "output_type": "stream",
     "text": [
      "Data consits of 200 rows after cleaning. \n",
      "        * 196 rows have been excluded.\n",
      "            \n"
     ]
    },
    {
     "data": {
      "application/vnd.plotly.v1+json": {
       "config": {
        "plotlyServerURL": "https://plot.ly"
       },
       "data": [
        {
         "diagonal": {
          "visible": false
         },
         "dimensions": [
          {
           "label": "HbA1C",
           "values": [
            37,
            39,
            40,
            37,
            39,
            38,
            32,
            30,
            34,
            38,
            43,
            33,
            45,
            32,
            36,
            37,
            35,
            31,
            31,
            36,
            42,
            37,
            33,
            33,
            36,
            38,
            38,
            41,
            42,
            33,
            33,
            27,
            36,
            32,
            39,
            29,
            36,
            34,
            32,
            40,
            35,
            36,
            35,
            35,
            36,
            35,
            39,
            37,
            36,
            35,
            41,
            54,
            37,
            35,
            35,
            36,
            37,
            38,
            37,
            28,
            31,
            39,
            33,
            33,
            39,
            29,
            41,
            36,
            38,
            44,
            41,
            41,
            42,
            42,
            36,
            45,
            41,
            39,
            34,
            33,
            33,
            32,
            33,
            29,
            34,
            36,
            34,
            35,
            32,
            34,
            32,
            29,
            34,
            40,
            37,
            43,
            32,
            37,
            29,
            38,
            32,
            40,
            38,
            38,
            32,
            35,
            34,
            39,
            31,
            39,
            34,
            38,
            37,
            39,
            39,
            31,
            40,
            36,
            33,
            35,
            35,
            41,
            39,
            37,
            39,
            38,
            34,
            47,
            35,
            35,
            31,
            35,
            32,
            35,
            30,
            37,
            33,
            33,
            48,
            44,
            34,
            40,
            41,
            39,
            37,
            35,
            42,
            35,
            39,
            32,
            35,
            40,
            33,
            39,
            41,
            35,
            41,
            39,
            32,
            34,
            40,
            38,
            42,
            41,
            32,
            40,
            43,
            33,
            36,
            38
           ]
          },
          {
           "label": "RandomGlucose",
           "values": [
            3.5,
            4.6,
            4.4,
            4.8,
            5.3,
            5.3,
            3.8,
            4.4,
            4.2,
            4.2,
            4.5,
            4.5,
            4,
            4.4,
            5.4,
            4.5,
            4.5,
            4.5,
            4.8,
            4.6,
            5.4,
            4.6,
            5.3,
            5.7,
            5.2,
            4.3,
            4.8,
            5,
            4.9,
            4.9,
            4.8,
            5.2,
            4,
            5.9,
            4.4,
            3.5,
            3.8,
            4.9,
            4.9,
            4.8,
            4.9,
            5.6,
            4.6,
            4.5,
            4.5,
            4.5,
            5.3,
            4.6,
            4.7,
            5.1,
            4.7,
            7.1,
            5,
            5.9,
            4.4,
            4.5,
            4.6,
            5.8,
            4.7,
            4.6,
            4.1,
            4.2,
            4.3,
            4.5,
            5.5,
            4.2,
            5,
            4.4,
            4.7,
            5.3,
            5.6,
            5.1,
            5.1,
            2.9,
            5.4,
            4.9,
            5.1,
            4.4,
            4.9,
            4.3,
            5.3,
            4.4,
            4.3,
            5.2,
            3.3,
            4.8,
            10.2,
            4.7,
            4.2,
            4.5,
            4,
            3.8,
            4.6,
            4.8,
            5,
            4,
            4.3,
            4.5,
            4.1,
            4.9,
            4.8,
            4.8,
            5,
            5.3,
            4.8,
            4.2,
            4.7,
            3.9,
            4.1,
            4.9,
            4.1,
            4.5,
            5,
            8.8,
            5.1,
            4.4,
            5.1,
            4.2,
            4.5,
            4,
            4.6,
            4.4,
            4.4,
            4,
            6.6,
            4.2,
            5.6,
            4.7,
            3.8,
            4.4,
            5.7,
            4.3,
            4.6,
            4,
            4.5,
            4,
            4.4,
            4.6,
            7,
            4.7,
            3.5,
            4.4,
            3.6,
            3.6,
            5.3,
            5.3,
            4.3,
            4.7,
            4.6,
            4.4,
            4,
            4.4,
            4.6,
            4.7,
            6,
            6.2,
            4.7,
            4.2,
            3.8,
            2.9,
            4.3,
            4,
            4.2,
            5.2,
            4.2,
            4.9,
            3.7,
            3.7,
            4.7,
            4.2
           ]
          },
          {
           "label": "eGFR",
           "values": [
            98.64094301736165,
            97.02633636617229,
            131.25307410617972,
            112.59956336395705,
            111.81136642040936,
            122.02426558307246,
            110.87329487427813,
            97.3210256232535,
            100.93882792039533,
            94.93419156216439,
            96.51939099767704,
            120.62462380552228,
            114.99764877812075,
            134.5833305282209,
            104.8209037109621,
            112.44197283733173,
            120.72158371864322,
            109.91879509173201,
            116.27275720662647,
            154.09627680573644,
            92.30381482896922,
            130.22114989157984,
            125.03703932378372,
            111.65487902747041,
            90.00649824445149,
            98.72801662307242,
            111.74462892287721,
            115.16970724706022,
            113.23461514333509,
            125.03703932378372,
            136.26189055889736,
            115.45884790618007,
            105.28409454967425,
            104.3038694544322,
            111.5667855180877,
            91.7399551566162,
            103.57374236825119,
            94.26965222122924,
            114.68719797673734,
            138.0467397686443,
            96.34628320101412,
            118.5142846390119,
            96.26124721146479,
            102.63503745230742,
            96.58394959877714,
            114.04514440269091,
            90.08415529082254,
            117.56849918800462,
            116.74551969368859,
            120.64482139741061,
            133.202721970854,
            133.4816906993428,
            106.04766556000983,
            113.56297466125648,
            114.68719797673734,
            119.34973276839064,
            113.74204520552081,
            129.78326416043672,
            111.97865760175729,
            109.33829326507201,
            121.57259186167494,
            90.2661956593518,
            94.91830655161765,
            118.12133034837373,
            114.8367019725542,
            112.3532583263723,
            97.26480322132643,
            114.19266523667389,
            110.41644334955518,
            96.35019982267895,
            104.08715738498536,
            127.54225572839307,
            120.32293525255506,
            114.73724659577269,
            93.96214438458037,
            108.11389138354683,
            103.08856921358547,
            109.91879509173201,
            105.28409454967425,
            124.08048200146126,
            107.357094143862,
            120.12759209588316,
            115.35256607381156,
            119.79255630133365,
            116.62467968439778,
            128.77768678096024,
            106.04766556000983,
            90.44367521797939,
            108.38531798140725,
            96.93234809114362,
            101.45190854391176,
            122.33126731584565,
            92.6512785082711,
            110.5917552589763,
            135.945000743454,
            96.58394959877714,
            99.53063033207788,
            111.97865760175729,
            91.09777547051989,
            117.46568311828285,
            104.8209037109621,
            97.95045641624012,
            122.62964846723871,
            105.7796006632857,
            111.89429264641988,
            115.16970724706022,
            95.90786195158572,
            108.5729252122165,
            96.63977844389072,
            120.53779965692873,
            103.35854728329046,
            124.01961986624525,
            102.63503745230742,
            111.47396842523244,
            113.84808151904096,
            117.28243277100233,
            110.87329487427813,
            101.45190854391176,
            127.43650996755292,
            94.81958584312463,
            109.47972564514588,
            137.2855110958635,
            103.35854728329046,
            114.8367019725542,
            118.8561768139149,
            104.54710588782653,
            109.56092258212172,
            109.64352824610829,
            116.79917250264462,
            91.44159409707842,
            114.54509811129488,
            139.44893603659125,
            103.49698260360863,
            93.69378376646617,
            127.01331199726437,
            102.21186901647883,
            107.41116585132062,
            91.499280034521,
            120.49695478060238,
            130.33430258743647,
            105.91267267652884,
            115.82691937309967,
            111.66692188897707,
            101.65038058448674,
            101.45190854391176,
            106.30881676225282,
            90.73899722841887,
            117.37670617997415,
            112.59956336395705,
            94.25387840575632,
            110.59599490982593,
            93.69378376646617,
            96.36377036800566,
            128.77768678096024,
            108.03243815117852,
            136.26189055889736,
            114.65063597083682,
            129.58937368125444,
            118.64329415651574,
            98.64094301736165,
            115.82691937309967,
            96.58394959877714,
            134.36090092371018,
            124.3646598366194,
            122.02531035735045,
            115.82691937309967,
            96.95604931444339,
            112.95140939221523,
            99.99905850284853,
            116.30983650583018
           ]
          },
          {
           "label": "Age",
           "values": [
            34,
            44,
            30,
            36,
            37,
            35,
            39,
            31,
            41,
            35,
            37,
            27,
            33,
            30,
            33,
            37,
            32,
            37,
            29,
            24,
            39,
            24,
            27,
            38,
            35,
            36,
            43,
            32,
            36,
            27,
            34,
            30,
            35,
            39,
            35,
            37,
            40,
            36,
            35,
            28,
            23,
            32,
            35,
            36,
            37,
            29,
            42,
            34,
            35,
            33,
            39,
            32,
            35,
            34,
            35,
            31,
            24,
            36,
            36,
            35,
            31,
            30,
            37,
            37,
            34,
            34,
            36,
            34,
            38,
            44,
            34,
            32,
            29,
            36,
            36,
            41,
            38,
            37,
            35,
            38,
            42,
            26,
            31,
            35,
            31,
            30,
            35,
            32,
            39,
            39,
            30,
            25,
            38,
            37,
            25,
            37,
            43,
            36,
            38,
            35,
            33,
            35,
            28,
            37,
            29,
            32,
            38,
            36,
            32,
            35,
            35,
            30,
            36,
            35,
            32,
            31,
            39,
            30,
            41,
            44,
            40,
            28,
            35,
            34,
            37,
            36,
            32,
            39,
            30,
            34,
            32,
            25,
            48,
            34,
            23,
            34,
            24,
            35,
            37,
            31,
            26,
            37,
            32,
            40,
            30,
            39,
            31,
            36,
            36,
            38,
            41,
            34,
            30,
            30,
            34,
            34,
            31,
            37,
            39,
            34,
            37,
            37,
            36,
            26,
            27,
            37,
            32,
            38,
            45,
            33
           ]
          },
          {
           "label": "Hb",
           "values": [
            132,
            70,
            139,
            141,
            124,
            125,
            126,
            131,
            135,
            134,
            123,
            113,
            134,
            139,
            147,
            134,
            119,
            118,
            130,
            131,
            119,
            128,
            114,
            131,
            135,
            132,
            139,
            117,
            124,
            112,
            121,
            119,
            133,
            131,
            131,
            130,
            136,
            123,
            132,
            118,
            121,
            120,
            119,
            125,
            111,
            126,
            130,
            120,
            122,
            133,
            118,
            129,
            118,
            111,
            115,
            124,
            125,
            124,
            116,
            115,
            134,
            133,
            130,
            132,
            127,
            120,
            133,
            134,
            130,
            137,
            144,
            129,
            137,
            123,
            149,
            122,
            126,
            124,
            129,
            134,
            121,
            126,
            133,
            127,
            124,
            120,
            140,
            136,
            128,
            141,
            122,
            110,
            130,
            134,
            127,
            125,
            133,
            131,
            119,
            132,
            132,
            126,
            125,
            131,
            128,
            114,
            131,
            135,
            122,
            127,
            143,
            129,
            130,
            136,
            114,
            117,
            118,
            127,
            120,
            122,
            134,
            119,
            121,
            131,
            139,
            129,
            130,
            137,
            114,
            112,
            120,
            115,
            121,
            127,
            120,
            132,
            116,
            124,
            129,
            117,
            107,
            131,
            143,
            122,
            117,
            110,
            123,
            111,
            140,
            114,
            125,
            129,
            120,
            118,
            134,
            102,
            122,
            127,
            111,
            136,
            130,
            124,
            137,
            117,
            142,
            133,
            117,
            134,
            137,
            128
           ]
          },
          {
           "label": "ALT",
           "values": [
            null,
            null,
            null,
            null,
            null,
            null,
            null,
            null,
            null,
            null,
            null,
            null,
            null,
            null,
            null,
            null,
            null,
            null,
            null,
            null,
            null,
            null,
            null,
            null,
            null,
            null,
            null,
            null,
            null,
            null,
            null,
            null,
            null,
            null,
            null,
            null,
            null,
            null,
            null,
            null,
            null,
            null,
            null,
            null,
            null,
            null,
            null,
            null,
            null,
            null,
            null,
            null,
            null,
            null,
            null,
            null,
            null,
            null,
            null,
            null,
            null,
            null,
            null,
            null,
            null,
            null,
            null,
            null,
            null,
            null,
            null,
            null,
            null,
            null,
            null,
            null,
            null,
            null,
            null,
            null,
            null,
            null,
            null,
            null,
            null,
            null,
            null,
            null,
            null,
            null,
            null,
            null,
            null,
            39,
            15,
            25,
            26,
            31,
            29,
            33,
            68,
            18,
            31,
            21,
            39,
            31,
            17,
            14,
            14,
            67,
            29,
            36,
            33,
            24,
            22,
            33,
            56,
            35,
            13,
            24,
            34,
            13,
            11,
            32,
            39,
            38,
            43,
            67,
            37,
            15,
            21,
            51,
            24,
            28,
            24,
            21,
            14,
            14,
            21,
            32,
            16,
            53,
            17,
            26,
            8,
            17,
            14,
            20,
            34,
            18,
            35,
            23,
            12,
            21,
            24,
            11,
            23,
            22,
            17,
            47,
            67,
            18,
            30,
            44,
            14,
            69,
            25,
            33,
            72,
            21
           ]
          },
          {
           "label": "Creatinine",
           "values": [
            69,
            66,
            63,
            59,
            59,
            65,
            58,
            71,
            65,
            80,
            78,
            58,
            59,
            39,
            66,
            58,
            52,
            62,
            62,
            46,
            80,
            49,
            52,
            58,
            74,
            77,
            52,
            60,
            58,
            52,
            54,
            62,
            65,
            64,
            70,
            72,
            64,
            80,
            57,
            59,
            75,
            55,
            70,
            66,
            69,
            63,
            71,
            54,
            54,
            51,
            52,
            60,
            73,
            60,
            57,
            55,
            65,
            60,
            60,
            63,
            52,
            76,
            70,
            66,
            58,
            70,
            69,
            59,
            60,
            75,
            66,
            44,
            56,
            68,
            71,
            60,
            65,
            62,
            65,
            63,
            60,
            60,
            61,
            66,
            59,
            64,
            73,
            75,
            62,
            68,
            69,
            58,
            71,
            61,
            63,
            69,
            65,
            60,
            72,
            53,
            66,
            69,
            54,
            64,
            64,
            60,
            69,
            63,
            71,
            49,
            66,
            50,
            66,
            62,
            62,
            58,
            58,
            69,
            57,
            76,
            59,
            60,
            66,
            58,
            49,
            65,
            64,
            60,
            60,
            83,
            61,
            61,
            59,
            72,
            54,
            67,
            77,
            73,
            47,
            63,
            77,
            53,
            63,
            65,
            69,
            63,
            85,
            52,
            59,
            70,
            56,
            72,
            72,
            64,
            64,
            54,
            62,
            59,
            65,
            69,
            53,
            69,
            54,
            54,
            56,
            53,
            80,
            56,
            64,
            57
           ]
          },
          {
           "label": "ACR",
           "values": [
            7.4,
            9.3,
            91.3,
            6.6,
            0,
            12.1,
            18,
            18.7,
            12,
            8.2,
            0,
            5.1,
            14.9,
            8.9,
            4.8,
            9.3,
            6.6,
            0,
            0,
            22.3,
            1.6,
            0.8,
            3.3,
            0.4,
            0.6,
            0.4,
            0,
            0.8,
            0,
            0.4,
            0.9,
            1.3,
            1.1,
            1.2,
            1.2,
            1.9,
            3.7,
            1.6,
            0,
            0.3,
            2.4,
            2.7,
            0,
            1.4,
            2.5,
            17.1,
            1.3,
            7.3,
            0.7,
            1.4,
            0.6,
            0.5,
            2.4,
            0.6,
            0,
            0.8,
            14.3,
            5.5,
            59.2,
            0.9,
            1,
            1,
            0.7,
            1.5,
            0.4,
            1,
            3.3,
            23.9,
            3.3,
            0.9,
            1.9,
            2.2,
            1.4,
            1.7,
            3.4,
            15.5,
            1.3,
            1.7,
            2,
            0.4,
            1.1,
            7.5,
            2,
            2.2,
            0.4,
            0.7,
            10.8,
            2.5,
            16.8,
            1.2,
            4.5,
            3.2,
            0.5,
            48.5,
            0.4,
            0.6,
            0.8,
            1.3,
            2.6,
            1.1,
            1.6,
            1,
            5.8,
            0.3,
            2.5,
            5.3,
            0.8,
            0.7,
            1.5,
            1,
            5.1,
            2,
            2.2,
            0.9,
            0.6,
            1.1,
            1.1,
            0.8,
            3.3,
            2.8,
            1.8,
            0.5,
            2.3,
            1.6,
            0.7,
            3.1,
            11.4,
            3.2,
            0.9,
            1.1,
            1.9,
            0.8,
            1.3,
            2.8,
            0.9,
            0.8,
            0.8,
            0.7,
            5.2,
            2.5,
            3.8,
            2.6,
            1.5,
            2.5,
            0.8,
            2.1,
            0.5,
            10,
            0.6,
            1.7,
            3.3,
            7.3,
            2.4,
            1.1,
            0.7,
            89.9,
            2,
            1.7,
            0.5,
            1.6,
            1.3,
            9,
            6.5,
            3.2,
            1.2,
            9.3,
            1.5,
            1,
            0.7,
            0.7
           ]
          }
         ],
         "marker": {
          "color": "#604b62",
          "line": {
           "color": "white",
           "width": 0.5
          },
          "showscale": false
         },
         "name": "> 90",
         "type": "splom"
        },
        {
         "diagonal": {
          "visible": false
         },
         "dimensions": [
          {
           "label": "HbA1C",
           "values": [
            37,
            40,
            36,
            36,
            43,
            39,
            36,
            36,
            31,
            33,
            41,
            37,
            38,
            40,
            34,
            34,
            31,
            37,
            36,
            46,
            41,
            41,
            31,
            41,
            36,
            42,
            39,
            47,
            35,
            39
           ]
          },
          {
           "label": "RandomGlucose",
           "values": [
            4.3,
            5.2,
            5.2,
            4,
            5.3,
            4.8,
            4.9,
            4.3,
            5.3,
            4.3,
            5.2,
            5.2,
            3.1,
            4.5,
            4.5,
            4,
            5.9,
            4.2,
            4.6,
            7.8,
            4.5,
            4.3,
            5.2,
            4.3,
            5.6,
            4.7,
            4.3,
            7.3,
            5,
            4.5
           ]
          },
          {
           "label": "eGFR",
           "values": [
            86.99403329709253,
            83.71821023495698,
            71.96171773800455,
            87.10887728005106,
            80.10800280260891,
            87.15080071622504,
            53.22623852145265,
            74.01240684949508,
            83.16562608915285,
            85.77254967419255,
            77.25170937955588,
            79.56372797178727,
            84.14292870104227,
            71.50093897853273,
            87.9536798657601,
            88.95822141118063,
            87.47549275568174,
            78.31061479133724,
            68.69178151945655,
            74.52734254031242,
            85.33341517616495,
            79.0564783575828,
            85.77254967419255,
            76.1215343357795,
            75.5817840090223,
            80.55612033044127,
            78.94476125255879,
            77.19853104235135,
            82.33400790068788,
            71.9551492139095
           ]
          },
          {
           "label": "Age",
           "values": [
            37,
            43,
            43,
            42,
            37,
            35,
            40,
            39,
            35,
            37,
            37,
            37,
            40,
            36,
            43,
            19,
            30,
            46,
            36,
            36,
            38,
            37,
            37,
            35,
            34,
            27,
            36,
            33,
            35,
            41
           ]
          },
          {
           "label": "Hb",
           "values": [
            111,
            130,
            125,
            121,
            117,
            119,
            129,
            123,
            144,
            111,
            126,
            114,
            119,
            119,
            137,
            118,
            129,
            130,
            129,
            126,
            147,
            129,
            129,
            130,
            138,
            125,
            139,
            122,
            113,
            144
           ]
          },
          {
           "label": "ALT",
           "values": [
            null,
            null,
            null,
            null,
            null,
            null,
            null,
            null,
            null,
            null,
            null,
            null,
            null,
            null,
            null,
            null,
            44,
            25,
            69,
            71,
            23,
            38,
            22,
            41,
            38,
            12,
            52,
            21,
            47,
            53
           ]
          },
          {
           "label": "Creatinine",
           "values": [
            85,
            75,
            85,
            73,
            91,
            76,
            111,
            85,
            79,
            86,
            83,
            81,
            76,
            89,
            72,
            82,
            78,
            88,
            92,
            86,
            76,
            92,
            86,
            85,
            86,
            96,
            82,
            85,
            90,
            86
           ]
          },
          {
           "label": "ACR",
           "values": [
            6.2,
            7.5,
            8.6,
            1.2,
            1.3,
            3.2,
            2.7,
            1.9,
            0.5,
            20.7,
            1.3,
            1.9,
            1.6,
            1,
            7.6,
            0.5,
            7.8,
            0.8,
            3.6,
            0.9,
            7.3,
            0.8,
            0.7,
            0.4,
            0.5,
            0.9,
            0.6,
            1.5,
            7.7,
            0.5
           ]
          }
         ],
         "marker": {
          "color": "#957897",
          "line": {
           "color": "white",
           "width": 0.5
          },
          "showscale": false
         },
         "name": "<= 90",
         "type": "splom"
        }
       ],
       "layout": {
        "height": 1000,
        "plot_bgcolor": "#ececec",
        "showlegend": true,
        "template": {
         "data": {
          "bar": [
           {
            "error_x": {
             "color": "#2a3f5f"
            },
            "error_y": {
             "color": "#2a3f5f"
            },
            "marker": {
             "line": {
              "color": "#E5ECF6",
              "width": 0.5
             },
             "pattern": {
              "fillmode": "overlay",
              "size": 10,
              "solidity": 0.2
             }
            },
            "type": "bar"
           }
          ],
          "barpolar": [
           {
            "marker": {
             "line": {
              "color": "#E5ECF6",
              "width": 0.5
             },
             "pattern": {
              "fillmode": "overlay",
              "size": 10,
              "solidity": 0.2
             }
            },
            "type": "barpolar"
           }
          ],
          "carpet": [
           {
            "aaxis": {
             "endlinecolor": "#2a3f5f",
             "gridcolor": "white",
             "linecolor": "white",
             "minorgridcolor": "white",
             "startlinecolor": "#2a3f5f"
            },
            "baxis": {
             "endlinecolor": "#2a3f5f",
             "gridcolor": "white",
             "linecolor": "white",
             "minorgridcolor": "white",
             "startlinecolor": "#2a3f5f"
            },
            "type": "carpet"
           }
          ],
          "choropleth": [
           {
            "colorbar": {
             "outlinewidth": 0,
             "ticks": ""
            },
            "type": "choropleth"
           }
          ],
          "contour": [
           {
            "colorbar": {
             "outlinewidth": 0,
             "ticks": ""
            },
            "colorscale": [
             [
              0,
              "#0d0887"
             ],
             [
              0.1111111111111111,
              "#46039f"
             ],
             [
              0.2222222222222222,
              "#7201a8"
             ],
             [
              0.3333333333333333,
              "#9c179e"
             ],
             [
              0.4444444444444444,
              "#bd3786"
             ],
             [
              0.5555555555555556,
              "#d8576b"
             ],
             [
              0.6666666666666666,
              "#ed7953"
             ],
             [
              0.7777777777777778,
              "#fb9f3a"
             ],
             [
              0.8888888888888888,
              "#fdca26"
             ],
             [
              1,
              "#f0f921"
             ]
            ],
            "type": "contour"
           }
          ],
          "contourcarpet": [
           {
            "colorbar": {
             "outlinewidth": 0,
             "ticks": ""
            },
            "type": "contourcarpet"
           }
          ],
          "heatmap": [
           {
            "colorbar": {
             "outlinewidth": 0,
             "ticks": ""
            },
            "colorscale": [
             [
              0,
              "#0d0887"
             ],
             [
              0.1111111111111111,
              "#46039f"
             ],
             [
              0.2222222222222222,
              "#7201a8"
             ],
             [
              0.3333333333333333,
              "#9c179e"
             ],
             [
              0.4444444444444444,
              "#bd3786"
             ],
             [
              0.5555555555555556,
              "#d8576b"
             ],
             [
              0.6666666666666666,
              "#ed7953"
             ],
             [
              0.7777777777777778,
              "#fb9f3a"
             ],
             [
              0.8888888888888888,
              "#fdca26"
             ],
             [
              1,
              "#f0f921"
             ]
            ],
            "type": "heatmap"
           }
          ],
          "heatmapgl": [
           {
            "colorbar": {
             "outlinewidth": 0,
             "ticks": ""
            },
            "colorscale": [
             [
              0,
              "#0d0887"
             ],
             [
              0.1111111111111111,
              "#46039f"
             ],
             [
              0.2222222222222222,
              "#7201a8"
             ],
             [
              0.3333333333333333,
              "#9c179e"
             ],
             [
              0.4444444444444444,
              "#bd3786"
             ],
             [
              0.5555555555555556,
              "#d8576b"
             ],
             [
              0.6666666666666666,
              "#ed7953"
             ],
             [
              0.7777777777777778,
              "#fb9f3a"
             ],
             [
              0.8888888888888888,
              "#fdca26"
             ],
             [
              1,
              "#f0f921"
             ]
            ],
            "type": "heatmapgl"
           }
          ],
          "histogram": [
           {
            "marker": {
             "pattern": {
              "fillmode": "overlay",
              "size": 10,
              "solidity": 0.2
             }
            },
            "type": "histogram"
           }
          ],
          "histogram2d": [
           {
            "colorbar": {
             "outlinewidth": 0,
             "ticks": ""
            },
            "colorscale": [
             [
              0,
              "#0d0887"
             ],
             [
              0.1111111111111111,
              "#46039f"
             ],
             [
              0.2222222222222222,
              "#7201a8"
             ],
             [
              0.3333333333333333,
              "#9c179e"
             ],
             [
              0.4444444444444444,
              "#bd3786"
             ],
             [
              0.5555555555555556,
              "#d8576b"
             ],
             [
              0.6666666666666666,
              "#ed7953"
             ],
             [
              0.7777777777777778,
              "#fb9f3a"
             ],
             [
              0.8888888888888888,
              "#fdca26"
             ],
             [
              1,
              "#f0f921"
             ]
            ],
            "type": "histogram2d"
           }
          ],
          "histogram2dcontour": [
           {
            "colorbar": {
             "outlinewidth": 0,
             "ticks": ""
            },
            "colorscale": [
             [
              0,
              "#0d0887"
             ],
             [
              0.1111111111111111,
              "#46039f"
             ],
             [
              0.2222222222222222,
              "#7201a8"
             ],
             [
              0.3333333333333333,
              "#9c179e"
             ],
             [
              0.4444444444444444,
              "#bd3786"
             ],
             [
              0.5555555555555556,
              "#d8576b"
             ],
             [
              0.6666666666666666,
              "#ed7953"
             ],
             [
              0.7777777777777778,
              "#fb9f3a"
             ],
             [
              0.8888888888888888,
              "#fdca26"
             ],
             [
              1,
              "#f0f921"
             ]
            ],
            "type": "histogram2dcontour"
           }
          ],
          "mesh3d": [
           {
            "colorbar": {
             "outlinewidth": 0,
             "ticks": ""
            },
            "type": "mesh3d"
           }
          ],
          "parcoords": [
           {
            "line": {
             "colorbar": {
              "outlinewidth": 0,
              "ticks": ""
             }
            },
            "type": "parcoords"
           }
          ],
          "pie": [
           {
            "automargin": true,
            "type": "pie"
           }
          ],
          "scatter": [
           {
            "fillpattern": {
             "fillmode": "overlay",
             "size": 10,
             "solidity": 0.2
            },
            "type": "scatter"
           }
          ],
          "scatter3d": [
           {
            "line": {
             "colorbar": {
              "outlinewidth": 0,
              "ticks": ""
             }
            },
            "marker": {
             "colorbar": {
              "outlinewidth": 0,
              "ticks": ""
             }
            },
            "type": "scatter3d"
           }
          ],
          "scattercarpet": [
           {
            "marker": {
             "colorbar": {
              "outlinewidth": 0,
              "ticks": ""
             }
            },
            "type": "scattercarpet"
           }
          ],
          "scattergeo": [
           {
            "marker": {
             "colorbar": {
              "outlinewidth": 0,
              "ticks": ""
             }
            },
            "type": "scattergeo"
           }
          ],
          "scattergl": [
           {
            "marker": {
             "colorbar": {
              "outlinewidth": 0,
              "ticks": ""
             }
            },
            "type": "scattergl"
           }
          ],
          "scattermapbox": [
           {
            "marker": {
             "colorbar": {
              "outlinewidth": 0,
              "ticks": ""
             }
            },
            "type": "scattermapbox"
           }
          ],
          "scatterpolar": [
           {
            "marker": {
             "colorbar": {
              "outlinewidth": 0,
              "ticks": ""
             }
            },
            "type": "scatterpolar"
           }
          ],
          "scatterpolargl": [
           {
            "marker": {
             "colorbar": {
              "outlinewidth": 0,
              "ticks": ""
             }
            },
            "type": "scatterpolargl"
           }
          ],
          "scatterternary": [
           {
            "marker": {
             "colorbar": {
              "outlinewidth": 0,
              "ticks": ""
             }
            },
            "type": "scatterternary"
           }
          ],
          "surface": [
           {
            "colorbar": {
             "outlinewidth": 0,
             "ticks": ""
            },
            "colorscale": [
             [
              0,
              "#0d0887"
             ],
             [
              0.1111111111111111,
              "#46039f"
             ],
             [
              0.2222222222222222,
              "#7201a8"
             ],
             [
              0.3333333333333333,
              "#9c179e"
             ],
             [
              0.4444444444444444,
              "#bd3786"
             ],
             [
              0.5555555555555556,
              "#d8576b"
             ],
             [
              0.6666666666666666,
              "#ed7953"
             ],
             [
              0.7777777777777778,
              "#fb9f3a"
             ],
             [
              0.8888888888888888,
              "#fdca26"
             ],
             [
              1,
              "#f0f921"
             ]
            ],
            "type": "surface"
           }
          ],
          "table": [
           {
            "cells": {
             "fill": {
              "color": "#EBF0F8"
             },
             "line": {
              "color": "white"
             }
            },
            "header": {
             "fill": {
              "color": "#C8D4E3"
             },
             "line": {
              "color": "white"
             }
            },
            "type": "table"
           }
          ]
         },
         "layout": {
          "annotationdefaults": {
           "arrowcolor": "#2a3f5f",
           "arrowhead": 0,
           "arrowwidth": 1
          },
          "autotypenumbers": "strict",
          "coloraxis": {
           "colorbar": {
            "outlinewidth": 0,
            "ticks": ""
           }
          },
          "colorscale": {
           "diverging": [
            [
             0,
             "#8e0152"
            ],
            [
             0.1,
             "#c51b7d"
            ],
            [
             0.2,
             "#de77ae"
            ],
            [
             0.3,
             "#f1b6da"
            ],
            [
             0.4,
             "#fde0ef"
            ],
            [
             0.5,
             "#f7f7f7"
            ],
            [
             0.6,
             "#e6f5d0"
            ],
            [
             0.7,
             "#b8e186"
            ],
            [
             0.8,
             "#7fbc41"
            ],
            [
             0.9,
             "#4d9221"
            ],
            [
             1,
             "#276419"
            ]
           ],
           "sequential": [
            [
             0,
             "#0d0887"
            ],
            [
             0.1111111111111111,
             "#46039f"
            ],
            [
             0.2222222222222222,
             "#7201a8"
            ],
            [
             0.3333333333333333,
             "#9c179e"
            ],
            [
             0.4444444444444444,
             "#bd3786"
            ],
            [
             0.5555555555555556,
             "#d8576b"
            ],
            [
             0.6666666666666666,
             "#ed7953"
            ],
            [
             0.7777777777777778,
             "#fb9f3a"
            ],
            [
             0.8888888888888888,
             "#fdca26"
            ],
            [
             1,
             "#f0f921"
            ]
           ],
           "sequentialminus": [
            [
             0,
             "#0d0887"
            ],
            [
             0.1111111111111111,
             "#46039f"
            ],
            [
             0.2222222222222222,
             "#7201a8"
            ],
            [
             0.3333333333333333,
             "#9c179e"
            ],
            [
             0.4444444444444444,
             "#bd3786"
            ],
            [
             0.5555555555555556,
             "#d8576b"
            ],
            [
             0.6666666666666666,
             "#ed7953"
            ],
            [
             0.7777777777777778,
             "#fb9f3a"
            ],
            [
             0.8888888888888888,
             "#fdca26"
            ],
            [
             1,
             "#f0f921"
            ]
           ]
          },
          "colorway": [
           "#636efa",
           "#EF553B",
           "#00cc96",
           "#ab63fa",
           "#FFA15A",
           "#19d3f3",
           "#FF6692",
           "#B6E880",
           "#FF97FF",
           "#FECB52"
          ],
          "font": {
           "color": "#2a3f5f"
          },
          "geo": {
           "bgcolor": "white",
           "lakecolor": "white",
           "landcolor": "#E5ECF6",
           "showlakes": true,
           "showland": true,
           "subunitcolor": "white"
          },
          "hoverlabel": {
           "align": "left"
          },
          "hovermode": "closest",
          "mapbox": {
           "style": "light"
          },
          "paper_bgcolor": "white",
          "plot_bgcolor": "#E5ECF6",
          "polar": {
           "angularaxis": {
            "gridcolor": "white",
            "linecolor": "white",
            "ticks": ""
           },
           "bgcolor": "#E5ECF6",
           "radialaxis": {
            "gridcolor": "white",
            "linecolor": "white",
            "ticks": ""
           }
          },
          "scene": {
           "xaxis": {
            "backgroundcolor": "#E5ECF6",
            "gridcolor": "white",
            "gridwidth": 2,
            "linecolor": "white",
            "showbackground": true,
            "ticks": "",
            "zerolinecolor": "white"
           },
           "yaxis": {
            "backgroundcolor": "#E5ECF6",
            "gridcolor": "white",
            "gridwidth": 2,
            "linecolor": "white",
            "showbackground": true,
            "ticks": "",
            "zerolinecolor": "white"
           },
           "zaxis": {
            "backgroundcolor": "#E5ECF6",
            "gridcolor": "white",
            "gridwidth": 2,
            "linecolor": "white",
            "showbackground": true,
            "ticks": "",
            "zerolinecolor": "white"
           }
          },
          "shapedefaults": {
           "line": {
            "color": "#2a3f5f"
           }
          },
          "ternary": {
           "aaxis": {
            "gridcolor": "white",
            "linecolor": "white",
            "ticks": ""
           },
           "baxis": {
            "gridcolor": "white",
            "linecolor": "white",
            "ticks": ""
           },
           "bgcolor": "#E5ECF6",
           "caxis": {
            "gridcolor": "white",
            "linecolor": "white",
            "ticks": ""
           }
          },
          "title": {
           "x": 0.05
          },
          "xaxis": {
           "automargin": true,
           "gridcolor": "white",
           "linecolor": "white",
           "ticks": "",
           "title": {
            "standoff": 15
           },
           "zerolinecolor": "white",
           "zerolinewidth": 2
          },
          "yaxis": {
           "automargin": true,
           "gridcolor": "white",
           "linecolor": "white",
           "ticks": "",
           "title": {
            "standoff": 15
           },
           "zerolinecolor": "white",
           "zerolinewidth": 2
          }
         }
        },
        "title": {
         "text": "eGFR Relationships",
         "x": 0,
         "xref": "paper"
        },
        "width": 1000
       }
      }
     },
     "metadata": {},
     "output_type": "display_data"
    },
    {
     "data": {
      "application/vnd.plotly.v1+json": {
       "config": {
        "plotlyServerURL": "https://plot.ly"
       },
       "data": [
        {
         "boxpoints": "all",
         "jitter": 0.3,
         "marker": {
          "color": "#604b62"
         },
         "name": "WHITE",
         "notched": true,
         "pointpos": -1.8,
         "type": "box",
         "y": [
          98.64094301736165,
          112.59956336395705,
          111.81136642040936,
          97.3210256232535,
          104.8209037109621,
          83.71821023495698,
          112.44197283733173,
          109.91879509173201,
          71.96171773800455,
          116.27275720662647,
          87.10887728005106,
          111.65487902747041,
          90.00649824445149,
          105.28409454967425,
          104.3038694544322,
          91.7399551566162,
          103.57374236825119,
          87.15080071622504,
          96.34628320101412,
          118.5142846390119,
          114.04514440269091,
          90.08415529082254,
          53.22623852145265,
          116.74551969368859,
          113.56297466125648,
          114.68719797673734,
          74.01240684949508,
          119.34973276839064,
          111.97865760175729,
          109.33829326507201,
          121.57259186167494,
          90.2661956593518,
          94.91830655161765,
          83.16562608915285,
          77.25170937955588,
          114.8367019725542,
          79.56372797178727,
          84.14292870104227,
          97.26480322132643,
          114.19266523667389,
          110.41644334955518,
          104.08715738498536,
          87.9536798657601,
          105.28409454967425,
          116.62467968439778,
          88.95822141118063,
          90.44367521797939,
          108.38531798140725,
          101.45190854391176,
          122.33126731584565,
          92.6512785082711,
          110.5917552589763,
          111.97865760175729,
          91.09777547051989,
          104.8209037109621,
          97.95045641624012,
          105.7796006632857,
          87.47549275568174,
          115.16970724706022,
          95.90786195158572,
          108.5729252122165,
          96.63977844389072,
          120.53779965692873,
          103.35854728329046,
          113.84808151904096,
          117.28243277100233,
          110.87329487427813,
          101.45190854391176,
          85.33341517616495,
          109.47972564514588,
          114.8367019725542,
          114.54509811129488,
          76.1215343357795,
          93.69378376646617,
          102.21186901647883,
          91.499280034521,
          75.5817840090223,
          120.49695478060238,
          111.66692188897707,
          101.45190854391176,
          94.25387840575632,
          93.69378376646617,
          96.36377036800566,
          78.94476125255879,
          108.03243815117852,
          114.65063597083682,
          98.64094301736165,
          115.82691937309967,
          124.3646598366194,
          122.02531035735045,
          115.82691937309967,
          71.9551492139095,
          112.95140939221523,
          99.99905850284853,
          116.30983650583018
         ]
        },
        {
         "boxpoints": "all",
         "jitter": 0.3,
         "marker": {
          "color": "#957897"
         },
         "name": "MIXED",
         "notched": true,
         "pointpos": -1.8,
         "type": "box",
         "y": [
          97.02633636617229,
          120.72158371864322,
          125.03703932378372,
          115.16970724706022,
          113.74204520552081,
          107.357094143862,
          120.12759209588316,
          117.46568311828285,
          102.63503745230742,
          74.52734254031242,
          118.8561768139149
         ]
        },
        {
         "boxpoints": "all",
         "jitter": 0.3,
         "marker": {
          "color": "#9d83a0"
         },
         "name": "BLACK",
         "notched": true,
         "pointpos": -1.8,
         "type": "box",
         "y": [
          131.25307410617972,
          122.02426558307246,
          94.93419156216439,
          86.99403329709253,
          96.51939099767704,
          154.09627680573644,
          92.30381482896922,
          80.10800280260891,
          98.72801662307242,
          136.26189055889736,
          111.5667855180877,
          94.26965222122924,
          138.0467397686443,
          133.202721970854,
          133.4816906993428,
          106.04766556000983,
          129.78326416043672,
          118.12133034837373,
          85.77254967419255,
          112.3532583263723,
          96.35019982267895,
          114.73724659577269,
          124.08048200146126,
          119.79255630133365,
          128.77768678096024,
          106.04766556000983,
          135.945000743454,
          78.31061479133724,
          127.43650996755292,
          94.81958584312463,
          137.2855110958635,
          79.0564783575828,
          85.77254967419255,
          91.44159409707842,
          139.44893603659125,
          107.41116585132062,
          130.33430258743647,
          105.91267267652884,
          90.73899722841887,
          80.55612033044127,
          128.77768678096024,
          82.33400790068788,
          136.26189055889736,
          129.58937368125444,
          118.64329415651574,
          134.36090092371018,
          96.95604931444339
         ]
        },
        {
         "boxpoints": "all",
         "jitter": 0.3,
         "marker": {
          "color": "#a68ea8"
         },
         "name": "EAST ASIAN",
         "notched": true,
         "pointpos": -1.8,
         "type": "box",
         "y": [
          110.87329487427813,
          100.93882792039533,
          120.62462380552228,
          113.23461514333509,
          114.68719797673734,
          127.54225572839307,
          108.11389138354683,
          96.93234809114362,
          99.53063033207788,
          109.56092258212172,
          103.49698260360863,
          115.82691937309967,
          106.30881676225282,
          117.37670617997415,
          112.59956336395705,
          110.59599490982593,
          96.58394959877714
         ]
        },
        {
         "boxpoints": "all",
         "jitter": 0.3,
         "marker": {
          "color": "#af99b1"
         },
         "name": "SOUTH ASIAN",
         "notched": true,
         "pointpos": -1.8,
         "type": "box",
         "y": [
          114.99764877812075,
          130.22114989157984,
          111.74462892287721,
          125.03703932378372,
          115.45884790618007,
          96.26124721146479,
          102.63503745230742,
          96.58394959877714,
          117.56849918800462,
          120.64482139741061,
          120.32293525255506,
          71.50093897853273,
          93.96214438458037,
          103.08856921358547,
          109.91879509173201,
          115.35256607381156,
          96.58394959877714,
          122.62964846723871,
          111.89429264641988,
          124.01961986624525,
          68.69178151945655,
          103.35854728329046,
          104.54710588782653,
          109.64352824610829,
          116.79917250264462,
          127.01331199726437,
          101.65038058448674,
          77.19853104235135
         ]
        },
        {
         "boxpoints": "all",
         "jitter": 0.3,
         "marker": {
          "color": "#b8a4b9"
         },
         "name": "ASIAN",
         "notched": true,
         "pointpos": -1.8,
         "type": "box",
         "y": [
          134.5833305282209,
          111.47396842523244
         ]
        },
        {
         "boxpoints": "all",
         "jitter": 0.3,
         "marker": {
          "color": "#c0afc2"
         },
         "name": "All",
         "notched": true,
         "pointpos": -1.8,
         "type": "box",
         "y": [
          98.64094301736165,
          97.02633636617229,
          131.25307410617972,
          112.59956336395705,
          111.81136642040936,
          122.02426558307246,
          110.87329487427813,
          97.3210256232535,
          100.93882792039533,
          94.93419156216439,
          86.99403329709253,
          96.51939099767704,
          120.62462380552228,
          114.99764877812075,
          134.5833305282209,
          104.8209037109621,
          83.71821023495698,
          112.44197283733173,
          120.72158371864322,
          109.91879509173201,
          71.96171773800455,
          116.27275720662647,
          154.09627680573644,
          92.30381482896922,
          87.10887728005106,
          80.10800280260891,
          130.22114989157984,
          125.03703932378372,
          111.65487902747041,
          90.00649824445149,
          98.72801662307242,
          111.74462892287721,
          115.16970724706022,
          113.23461514333509,
          125.03703932378372,
          136.26189055889736,
          115.45884790618007,
          105.28409454967425,
          104.3038694544322,
          111.5667855180877,
          91.7399551566162,
          103.57374236825119,
          94.26965222122924,
          114.68719797673734,
          87.15080071622504,
          138.0467397686443,
          96.34628320101412,
          118.5142846390119,
          96.26124721146479,
          102.63503745230742,
          96.58394959877714,
          114.04514440269091,
          90.08415529082254,
          117.56849918800462,
          53.22623852145265,
          116.74551969368859,
          120.64482139741061,
          133.202721970854,
          133.4816906993428,
          106.04766556000983,
          113.56297466125648,
          114.68719797673734,
          74.01240684949508,
          119.34973276839064,
          113.74204520552081,
          129.78326416043672,
          111.97865760175729,
          109.33829326507201,
          121.57259186167494,
          90.2661956593518,
          94.91830655161765,
          118.12133034837373,
          83.16562608915285,
          85.77254967419255,
          77.25170937955588,
          114.8367019725542,
          112.3532583263723,
          79.56372797178727,
          84.14292870104227,
          97.26480322132643,
          114.19266523667389,
          110.41644334955518,
          96.35019982267895,
          104.08715738498536,
          127.54225572839307,
          120.32293525255506,
          114.73724659577269,
          71.50093897853273,
          93.96214438458037,
          87.9536798657601,
          108.11389138354683,
          103.08856921358547,
          109.91879509173201,
          105.28409454967425,
          124.08048200146126,
          107.357094143862,
          120.12759209588316,
          115.35256607381156,
          119.79255630133365,
          116.62467968439778,
          88.95822141118063,
          128.77768678096024,
          106.04766556000983,
          90.44367521797939,
          108.38531798140725,
          96.93234809114362,
          101.45190854391176,
          122.33126731584565,
          92.6512785082711,
          110.5917552589763,
          135.945000743454,
          96.58394959877714,
          99.53063033207788,
          111.97865760175729,
          91.09777547051989,
          117.46568311828285,
          104.8209037109621,
          97.95045641624012,
          122.62964846723871,
          105.7796006632857,
          87.47549275568174,
          111.89429264641988,
          115.16970724706022,
          95.90786195158572,
          108.5729252122165,
          96.63977844389072,
          120.53779965692873,
          103.35854728329046,
          124.01961986624525,
          78.31061479133724,
          102.63503745230742,
          111.47396842523244,
          68.69178151945655,
          113.84808151904096,
          117.28243277100233,
          110.87329487427813,
          101.45190854391176,
          127.43650996755292,
          94.81958584312463,
          74.52734254031242,
          85.33341517616495,
          109.47972564514588,
          137.2855110958635,
          103.35854728329046,
          114.8367019725542,
          79.0564783575828,
          118.8561768139149,
          104.54710588782653,
          109.56092258212172,
          109.64352824610829,
          116.79917250264462,
          85.77254967419255,
          91.44159409707842,
          114.54509811129488,
          139.44893603659125,
          76.1215343357795,
          103.49698260360863,
          93.69378376646617,
          127.01331199726437,
          102.21186901647883,
          107.41116585132062,
          91.499280034521,
          75.5817840090223,
          120.49695478060238,
          130.33430258743647,
          105.91267267652884,
          115.82691937309967,
          111.66692188897707,
          101.65038058448674,
          101.45190854391176,
          106.30881676225282,
          90.73899722841887,
          117.37670617997415,
          112.59956336395705,
          94.25387840575632,
          110.59599490982593,
          93.69378376646617,
          96.36377036800566,
          80.55612033044127,
          128.77768678096024,
          78.94476125255879,
          108.03243815117852,
          77.19853104235135,
          82.33400790068788,
          136.26189055889736,
          114.65063597083682,
          129.58937368125444,
          118.64329415651574,
          98.64094301736165,
          115.82691937309967,
          96.58394959877714,
          134.36090092371018,
          124.3646598366194,
          122.02531035735045,
          115.82691937309967,
          96.95604931444339,
          71.9551492139095,
          112.95140939221523,
          99.99905850284853,
          116.30983650583018
         ]
        }
       ],
       "layout": {
        "paper_bgcolor": "white",
        "plot_bgcolor": "#F6F8FC",
        "showlegend": false,
        "template": {
         "data": {
          "bar": [
           {
            "error_x": {
             "color": "#2a3f5f"
            },
            "error_y": {
             "color": "#2a3f5f"
            },
            "marker": {
             "line": {
              "color": "#E5ECF6",
              "width": 0.5
             },
             "pattern": {
              "fillmode": "overlay",
              "size": 10,
              "solidity": 0.2
             }
            },
            "type": "bar"
           }
          ],
          "barpolar": [
           {
            "marker": {
             "line": {
              "color": "#E5ECF6",
              "width": 0.5
             },
             "pattern": {
              "fillmode": "overlay",
              "size": 10,
              "solidity": 0.2
             }
            },
            "type": "barpolar"
           }
          ],
          "carpet": [
           {
            "aaxis": {
             "endlinecolor": "#2a3f5f",
             "gridcolor": "white",
             "linecolor": "white",
             "minorgridcolor": "white",
             "startlinecolor": "#2a3f5f"
            },
            "baxis": {
             "endlinecolor": "#2a3f5f",
             "gridcolor": "white",
             "linecolor": "white",
             "minorgridcolor": "white",
             "startlinecolor": "#2a3f5f"
            },
            "type": "carpet"
           }
          ],
          "choropleth": [
           {
            "colorbar": {
             "outlinewidth": 0,
             "ticks": ""
            },
            "type": "choropleth"
           }
          ],
          "contour": [
           {
            "colorbar": {
             "outlinewidth": 0,
             "ticks": ""
            },
            "colorscale": [
             [
              0,
              "#0d0887"
             ],
             [
              0.1111111111111111,
              "#46039f"
             ],
             [
              0.2222222222222222,
              "#7201a8"
             ],
             [
              0.3333333333333333,
              "#9c179e"
             ],
             [
              0.4444444444444444,
              "#bd3786"
             ],
             [
              0.5555555555555556,
              "#d8576b"
             ],
             [
              0.6666666666666666,
              "#ed7953"
             ],
             [
              0.7777777777777778,
              "#fb9f3a"
             ],
             [
              0.8888888888888888,
              "#fdca26"
             ],
             [
              1,
              "#f0f921"
             ]
            ],
            "type": "contour"
           }
          ],
          "contourcarpet": [
           {
            "colorbar": {
             "outlinewidth": 0,
             "ticks": ""
            },
            "type": "contourcarpet"
           }
          ],
          "heatmap": [
           {
            "colorbar": {
             "outlinewidth": 0,
             "ticks": ""
            },
            "colorscale": [
             [
              0,
              "#0d0887"
             ],
             [
              0.1111111111111111,
              "#46039f"
             ],
             [
              0.2222222222222222,
              "#7201a8"
             ],
             [
              0.3333333333333333,
              "#9c179e"
             ],
             [
              0.4444444444444444,
              "#bd3786"
             ],
             [
              0.5555555555555556,
              "#d8576b"
             ],
             [
              0.6666666666666666,
              "#ed7953"
             ],
             [
              0.7777777777777778,
              "#fb9f3a"
             ],
             [
              0.8888888888888888,
              "#fdca26"
             ],
             [
              1,
              "#f0f921"
             ]
            ],
            "type": "heatmap"
           }
          ],
          "heatmapgl": [
           {
            "colorbar": {
             "outlinewidth": 0,
             "ticks": ""
            },
            "colorscale": [
             [
              0,
              "#0d0887"
             ],
             [
              0.1111111111111111,
              "#46039f"
             ],
             [
              0.2222222222222222,
              "#7201a8"
             ],
             [
              0.3333333333333333,
              "#9c179e"
             ],
             [
              0.4444444444444444,
              "#bd3786"
             ],
             [
              0.5555555555555556,
              "#d8576b"
             ],
             [
              0.6666666666666666,
              "#ed7953"
             ],
             [
              0.7777777777777778,
              "#fb9f3a"
             ],
             [
              0.8888888888888888,
              "#fdca26"
             ],
             [
              1,
              "#f0f921"
             ]
            ],
            "type": "heatmapgl"
           }
          ],
          "histogram": [
           {
            "marker": {
             "pattern": {
              "fillmode": "overlay",
              "size": 10,
              "solidity": 0.2
             }
            },
            "type": "histogram"
           }
          ],
          "histogram2d": [
           {
            "colorbar": {
             "outlinewidth": 0,
             "ticks": ""
            },
            "colorscale": [
             [
              0,
              "#0d0887"
             ],
             [
              0.1111111111111111,
              "#46039f"
             ],
             [
              0.2222222222222222,
              "#7201a8"
             ],
             [
              0.3333333333333333,
              "#9c179e"
             ],
             [
              0.4444444444444444,
              "#bd3786"
             ],
             [
              0.5555555555555556,
              "#d8576b"
             ],
             [
              0.6666666666666666,
              "#ed7953"
             ],
             [
              0.7777777777777778,
              "#fb9f3a"
             ],
             [
              0.8888888888888888,
              "#fdca26"
             ],
             [
              1,
              "#f0f921"
             ]
            ],
            "type": "histogram2d"
           }
          ],
          "histogram2dcontour": [
           {
            "colorbar": {
             "outlinewidth": 0,
             "ticks": ""
            },
            "colorscale": [
             [
              0,
              "#0d0887"
             ],
             [
              0.1111111111111111,
              "#46039f"
             ],
             [
              0.2222222222222222,
              "#7201a8"
             ],
             [
              0.3333333333333333,
              "#9c179e"
             ],
             [
              0.4444444444444444,
              "#bd3786"
             ],
             [
              0.5555555555555556,
              "#d8576b"
             ],
             [
              0.6666666666666666,
              "#ed7953"
             ],
             [
              0.7777777777777778,
              "#fb9f3a"
             ],
             [
              0.8888888888888888,
              "#fdca26"
             ],
             [
              1,
              "#f0f921"
             ]
            ],
            "type": "histogram2dcontour"
           }
          ],
          "mesh3d": [
           {
            "colorbar": {
             "outlinewidth": 0,
             "ticks": ""
            },
            "type": "mesh3d"
           }
          ],
          "parcoords": [
           {
            "line": {
             "colorbar": {
              "outlinewidth": 0,
              "ticks": ""
             }
            },
            "type": "parcoords"
           }
          ],
          "pie": [
           {
            "automargin": true,
            "type": "pie"
           }
          ],
          "scatter": [
           {
            "fillpattern": {
             "fillmode": "overlay",
             "size": 10,
             "solidity": 0.2
            },
            "type": "scatter"
           }
          ],
          "scatter3d": [
           {
            "line": {
             "colorbar": {
              "outlinewidth": 0,
              "ticks": ""
             }
            },
            "marker": {
             "colorbar": {
              "outlinewidth": 0,
              "ticks": ""
             }
            },
            "type": "scatter3d"
           }
          ],
          "scattercarpet": [
           {
            "marker": {
             "colorbar": {
              "outlinewidth": 0,
              "ticks": ""
             }
            },
            "type": "scattercarpet"
           }
          ],
          "scattergeo": [
           {
            "marker": {
             "colorbar": {
              "outlinewidth": 0,
              "ticks": ""
             }
            },
            "type": "scattergeo"
           }
          ],
          "scattergl": [
           {
            "marker": {
             "colorbar": {
              "outlinewidth": 0,
              "ticks": ""
             }
            },
            "type": "scattergl"
           }
          ],
          "scattermapbox": [
           {
            "marker": {
             "colorbar": {
              "outlinewidth": 0,
              "ticks": ""
             }
            },
            "type": "scattermapbox"
           }
          ],
          "scatterpolar": [
           {
            "marker": {
             "colorbar": {
              "outlinewidth": 0,
              "ticks": ""
             }
            },
            "type": "scatterpolar"
           }
          ],
          "scatterpolargl": [
           {
            "marker": {
             "colorbar": {
              "outlinewidth": 0,
              "ticks": ""
             }
            },
            "type": "scatterpolargl"
           }
          ],
          "scatterternary": [
           {
            "marker": {
             "colorbar": {
              "outlinewidth": 0,
              "ticks": ""
             }
            },
            "type": "scatterternary"
           }
          ],
          "surface": [
           {
            "colorbar": {
             "outlinewidth": 0,
             "ticks": ""
            },
            "colorscale": [
             [
              0,
              "#0d0887"
             ],
             [
              0.1111111111111111,
              "#46039f"
             ],
             [
              0.2222222222222222,
              "#7201a8"
             ],
             [
              0.3333333333333333,
              "#9c179e"
             ],
             [
              0.4444444444444444,
              "#bd3786"
             ],
             [
              0.5555555555555556,
              "#d8576b"
             ],
             [
              0.6666666666666666,
              "#ed7953"
             ],
             [
              0.7777777777777778,
              "#fb9f3a"
             ],
             [
              0.8888888888888888,
              "#fdca26"
             ],
             [
              1,
              "#f0f921"
             ]
            ],
            "type": "surface"
           }
          ],
          "table": [
           {
            "cells": {
             "fill": {
              "color": "#EBF0F8"
             },
             "line": {
              "color": "white"
             }
            },
            "header": {
             "fill": {
              "color": "#C8D4E3"
             },
             "line": {
              "color": "white"
             }
            },
            "type": "table"
           }
          ]
         },
         "layout": {
          "annotationdefaults": {
           "arrowcolor": "#2a3f5f",
           "arrowhead": 0,
           "arrowwidth": 1
          },
          "autotypenumbers": "strict",
          "coloraxis": {
           "colorbar": {
            "outlinewidth": 0,
            "ticks": ""
           }
          },
          "colorscale": {
           "diverging": [
            [
             0,
             "#8e0152"
            ],
            [
             0.1,
             "#c51b7d"
            ],
            [
             0.2,
             "#de77ae"
            ],
            [
             0.3,
             "#f1b6da"
            ],
            [
             0.4,
             "#fde0ef"
            ],
            [
             0.5,
             "#f7f7f7"
            ],
            [
             0.6,
             "#e6f5d0"
            ],
            [
             0.7,
             "#b8e186"
            ],
            [
             0.8,
             "#7fbc41"
            ],
            [
             0.9,
             "#4d9221"
            ],
            [
             1,
             "#276419"
            ]
           ],
           "sequential": [
            [
             0,
             "#0d0887"
            ],
            [
             0.1111111111111111,
             "#46039f"
            ],
            [
             0.2222222222222222,
             "#7201a8"
            ],
            [
             0.3333333333333333,
             "#9c179e"
            ],
            [
             0.4444444444444444,
             "#bd3786"
            ],
            [
             0.5555555555555556,
             "#d8576b"
            ],
            [
             0.6666666666666666,
             "#ed7953"
            ],
            [
             0.7777777777777778,
             "#fb9f3a"
            ],
            [
             0.8888888888888888,
             "#fdca26"
            ],
            [
             1,
             "#f0f921"
            ]
           ],
           "sequentialminus": [
            [
             0,
             "#0d0887"
            ],
            [
             0.1111111111111111,
             "#46039f"
            ],
            [
             0.2222222222222222,
             "#7201a8"
            ],
            [
             0.3333333333333333,
             "#9c179e"
            ],
            [
             0.4444444444444444,
             "#bd3786"
            ],
            [
             0.5555555555555556,
             "#d8576b"
            ],
            [
             0.6666666666666666,
             "#ed7953"
            ],
            [
             0.7777777777777778,
             "#fb9f3a"
            ],
            [
             0.8888888888888888,
             "#fdca26"
            ],
            [
             1,
             "#f0f921"
            ]
           ]
          },
          "colorway": [
           "#636efa",
           "#EF553B",
           "#00cc96",
           "#ab63fa",
           "#FFA15A",
           "#19d3f3",
           "#FF6692",
           "#B6E880",
           "#FF97FF",
           "#FECB52"
          ],
          "font": {
           "color": "#2a3f5f"
          },
          "geo": {
           "bgcolor": "white",
           "lakecolor": "white",
           "landcolor": "#E5ECF6",
           "showlakes": true,
           "showland": true,
           "subunitcolor": "white"
          },
          "hoverlabel": {
           "align": "left"
          },
          "hovermode": "closest",
          "mapbox": {
           "style": "light"
          },
          "paper_bgcolor": "white",
          "plot_bgcolor": "#E5ECF6",
          "polar": {
           "angularaxis": {
            "gridcolor": "white",
            "linecolor": "white",
            "ticks": ""
           },
           "bgcolor": "#E5ECF6",
           "radialaxis": {
            "gridcolor": "white",
            "linecolor": "white",
            "ticks": ""
           }
          },
          "scene": {
           "xaxis": {
            "backgroundcolor": "#E5ECF6",
            "gridcolor": "white",
            "gridwidth": 2,
            "linecolor": "white",
            "showbackground": true,
            "ticks": "",
            "zerolinecolor": "white"
           },
           "yaxis": {
            "backgroundcolor": "#E5ECF6",
            "gridcolor": "white",
            "gridwidth": 2,
            "linecolor": "white",
            "showbackground": true,
            "ticks": "",
            "zerolinecolor": "white"
           },
           "zaxis": {
            "backgroundcolor": "#E5ECF6",
            "gridcolor": "white",
            "gridwidth": 2,
            "linecolor": "white",
            "showbackground": true,
            "ticks": "",
            "zerolinecolor": "white"
           }
          },
          "shapedefaults": {
           "line": {
            "color": "#2a3f5f"
           }
          },
          "ternary": {
           "aaxis": {
            "gridcolor": "white",
            "linecolor": "white",
            "ticks": ""
           },
           "baxis": {
            "gridcolor": "white",
            "linecolor": "white",
            "ticks": ""
           },
           "bgcolor": "#E5ECF6",
           "caxis": {
            "gridcolor": "white",
            "linecolor": "white",
            "ticks": ""
           }
          },
          "title": {
           "x": 0.05
          },
          "xaxis": {
           "automargin": true,
           "gridcolor": "white",
           "linecolor": "white",
           "ticks": "",
           "title": {
            "standoff": 15
           },
           "zerolinecolor": "white",
           "zerolinewidth": 2
          },
          "yaxis": {
           "automargin": true,
           "gridcolor": "white",
           "linecolor": "white",
           "ticks": "",
           "title": {
            "standoff": 15
           },
           "zerolinecolor": "white",
           "zerolinewidth": 2
          }
         }
        },
        "title": {
         "text": "eGFR Spread by Race",
         "x": 0,
         "xref": "paper"
        },
        "yaxis": {
         "gridcolor": "lightgrey",
         "title": {
          "text": "eGFR<br><sup><i>ml/minute/1.73m^2</i></sup>"
         }
        }
       }
      }
     },
     "metadata": {},
     "output_type": "display_data"
    }
   ],
   "source": [
    "%autoreload 2\n",
    "ma.disease_description_renal()"
   ]
  },
  {
   "cell_type": "code",
   "execution_count": 19,
   "metadata": {},
   "outputs": [
    {
     "name": "stdout",
     "output_type": "stream",
     "text": [
      "Data consits of 200 rows after cleaning. \n",
      "        * 196 rows have been excluded.\n",
      "            \n"
     ]
    },
    {
     "data": {
      "application/vnd.plotly.v1+json": {
       "config": {
        "plotlyServerURL": "https://plot.ly"
       },
       "data": [
        {
         "marker": {
          "color": "#604b62",
          "line": {
           "width": 0.3
          },
          "size": 10
         },
         "mode": "markers",
         "name": "WHITE",
         "type": "scatter",
         "x": [
          24.8,
          28.2,
          25.5,
          22.1,
          28.2,
          25.1,
          28.5,
          36.4,
          23.2,
          37.8,
          30.46,
          30.71,
          25.4,
          26.6,
          25.3,
          18,
          25.08,
          34.13,
          42.1,
          22.92,
          23.78,
          31.05,
          28.31,
          28.87,
          29.17,
          29.91,
          24,
          35.71,
          30.48,
          38.8,
          23.58,
          23.49,
          26.27,
          30.27,
          25.9,
          29.43,
          30.05,
          20.88,
          25.79,
          28.34,
          29.51,
          25.61,
          26.97,
          31.05,
          26.41,
          28.08,
          29.88,
          34.17,
          29.3,
          40.6,
          25.92,
          33.09,
          24.02,
          21.22,
          22.6,
          26.4,
          24.1,
          23.6,
          42.9,
          29,
          29.86,
          18.29,
          25.97,
          31.09,
          34,
          27.07,
          43.77,
          29.5,
          23.55,
          26.82,
          31.57,
          22.6,
          30.34,
          28.67,
          27.81,
          31.52,
          21.86,
          45.7,
          29.96,
          39.9,
          24.17,
          21.12,
          30.26,
          28.4,
          22.19,
          26.8,
          24.1,
          26.61,
          42.3,
          41.8,
          32.7,
          34.5,
          22.4,
          21.1,
          27
         ],
         "y": [
          30,
          32,
          31,
          24,
          34,
          28.5,
          29.5,
          38.5,
          26,
          37.5,
          34,
          30.5,
          33.5,
          32,
          30,
          22,
          30,
          30,
          34.5,
          24,
          25,
          29,
          30.5,
          34.5,
          29,
          29,
          28,
          31.5,
          31,
          36.5,
          24,
          26,
          28.5,
          29.5,
          29.5,
          29,
          30.5,
          20.5,
          28.5,
          31,
          33,
          28,
          26,
          30,
          29,
          25.5,
          30,
          33,
          33,
          35,
          27,
          32,
          28,
          27,
          29,
          29.5,
          27,
          28.5,
          37,
          27.85,
          30,
          22.5,
          26.5,
          32,
          37,
          28,
          35,
          30.5,
          24,
          25.5,
          30,
          23.5,
          33.5,
          31,
          29.5,
          33,
          23.3,
          46.5,
          30,
          34.5,
          26.5,
          24.5,
          30,
          30,
          25,
          27.5,
          28,
          27.5,
          35,
          35,
          33.5,
          35,
          27.5,
          26,
          27
         ]
        },
        {
         "marker": {
          "color": "#957897",
          "line": {
           "width": 0.3
          },
          "size": 10
         },
         "mode": "markers",
         "name": "MIXED",
         "type": "scatter",
         "x": [
          22.31,
          25.7,
          31.5,
          28.4,
          30.73,
          23.42,
          23.51,
          25.8,
          38.87,
          39.35,
          42.4
         ],
         "y": [
          27,
          28.5,
          29.5,
          33,
          33,
          25,
          28,
          32,
          34,
          38,
          41
         ]
        },
        {
         "marker": {
          "color": "#9d83a0",
          "line": {
           "width": 0.3
          },
          "size": 10
         },
         "mode": "markers",
         "name": "BLACK",
         "type": "scatter",
         "x": [
          22.7,
          33.8,
          21.5,
          35.28,
          28.4,
          34.12,
          42.4,
          43.8,
          39.98,
          27.6,
          30.7,
          36.42,
          24.54,
          28.25,
          24.84,
          46.48,
          30.44,
          24.49,
          19.99,
          24.77,
          43.25,
          30.86,
          27.27,
          25.88,
          32.92,
          30.99,
          28.83,
          26.93,
          29.9,
          33.1,
          24.1,
          31.1,
          21.6,
          37.9,
          29.76,
          44.4,
          38.6,
          27.6,
          31.61,
          33.12,
          31.35,
          33,
          26.5,
          33.4,
          36.5,
          27.85,
          31.3
         ],
         "y": [
          28,
          36,
          28,
          39,
          34,
          42.5,
          42,
          40,
          40,
          29.5,
          33,
          40,
          33.5,
          30,
          28.5,
          41.5,
          34,
          26,
          30,
          24.5,
          44.5,
          33,
          30,
          29,
          35,
          35,
          29,
          28,
          30.5,
          41,
          26,
          28.5,
          27,
          39,
          26,
          45.5,
          38.5,
          31,
          32.5,
          32.5,
          30,
          33,
          28,
          32,
          29.5,
          29,
          30
         ]
        },
        {
         "marker": {
          "color": "#a68ea8",
          "line": {
           "width": 0.3
          },
          "size": 10
         },
         "mode": "markers",
         "name": "EAST ASIAN",
         "type": "scatter",
         "x": [
          22.9,
          27.83,
          28.9,
          20.9,
          21.98,
          29.3,
          23.27,
          36.13,
          30.49,
          31.9,
          20.33,
          23.7,
          26,
          22.56,
          23.01,
          22.27,
          23.95
         ],
         "y": [
          30.5,
          28.5,
          29,
          23.5,
          26,
          29,
          27,
          39,
          32,
          29,
          22,
          24,
          26,
          22,
          25.5,
          26,
          30
         ]
        },
        {
         "marker": {
          "color": "#af99b1",
          "line": {
           "width": 0.3
          },
          "size": 10
         },
         "mode": "markers",
         "name": "SOUTH ASIAN",
         "type": "scatter",
         "x": [
          26.1,
          23.07,
          23.4,
          33.9,
          29.3,
          26.18,
          30.49,
          29.29,
          25.77,
          25.43,
          29.43,
          29.48,
          28.27,
          30.75,
          29.9,
          35.88,
          23.01,
          29.8,
          32.96,
          36.42,
          28.21,
          22.3,
          27.8,
          32.34,
          35.18,
          26.4,
          27.56,
          26.16
         ],
         "y": [
          27.5,
          25.5,
          25,
          31.5,
          33,
          30,
          28.5,
          30,
          23.5,
          27.5,
          33,
          29.5,
          28,
          31.5,
          30.5,
          33,
          31,
          32,
          34,
          36,
          32,
          23,
          28.5,
          30,
          30.5,
          28,
          28.5,
          26
         ]
        },
        {
         "marker": {
          "color": "#b8a4b9",
          "line": {
           "width": 0.3
          },
          "size": 10
         },
         "mode": "markers",
         "name": "ASIAN",
         "type": "scatter",
         "x": [
          23,
          25.62
         ],
         "y": [
          28,
          27
         ]
        }
       ],
       "layout": {
        "paper_bgcolor": "white",
        "plot_bgcolor": "#F6F8FC",
        "template": {
         "data": {
          "bar": [
           {
            "error_x": {
             "color": "#2a3f5f"
            },
            "error_y": {
             "color": "#2a3f5f"
            },
            "marker": {
             "line": {
              "color": "#E5ECF6",
              "width": 0.5
             },
             "pattern": {
              "fillmode": "overlay",
              "size": 10,
              "solidity": 0.2
             }
            },
            "type": "bar"
           }
          ],
          "barpolar": [
           {
            "marker": {
             "line": {
              "color": "#E5ECF6",
              "width": 0.5
             },
             "pattern": {
              "fillmode": "overlay",
              "size": 10,
              "solidity": 0.2
             }
            },
            "type": "barpolar"
           }
          ],
          "carpet": [
           {
            "aaxis": {
             "endlinecolor": "#2a3f5f",
             "gridcolor": "white",
             "linecolor": "white",
             "minorgridcolor": "white",
             "startlinecolor": "#2a3f5f"
            },
            "baxis": {
             "endlinecolor": "#2a3f5f",
             "gridcolor": "white",
             "linecolor": "white",
             "minorgridcolor": "white",
             "startlinecolor": "#2a3f5f"
            },
            "type": "carpet"
           }
          ],
          "choropleth": [
           {
            "colorbar": {
             "outlinewidth": 0,
             "ticks": ""
            },
            "type": "choropleth"
           }
          ],
          "contour": [
           {
            "colorbar": {
             "outlinewidth": 0,
             "ticks": ""
            },
            "colorscale": [
             [
              0,
              "#0d0887"
             ],
             [
              0.1111111111111111,
              "#46039f"
             ],
             [
              0.2222222222222222,
              "#7201a8"
             ],
             [
              0.3333333333333333,
              "#9c179e"
             ],
             [
              0.4444444444444444,
              "#bd3786"
             ],
             [
              0.5555555555555556,
              "#d8576b"
             ],
             [
              0.6666666666666666,
              "#ed7953"
             ],
             [
              0.7777777777777778,
              "#fb9f3a"
             ],
             [
              0.8888888888888888,
              "#fdca26"
             ],
             [
              1,
              "#f0f921"
             ]
            ],
            "type": "contour"
           }
          ],
          "contourcarpet": [
           {
            "colorbar": {
             "outlinewidth": 0,
             "ticks": ""
            },
            "type": "contourcarpet"
           }
          ],
          "heatmap": [
           {
            "colorbar": {
             "outlinewidth": 0,
             "ticks": ""
            },
            "colorscale": [
             [
              0,
              "#0d0887"
             ],
             [
              0.1111111111111111,
              "#46039f"
             ],
             [
              0.2222222222222222,
              "#7201a8"
             ],
             [
              0.3333333333333333,
              "#9c179e"
             ],
             [
              0.4444444444444444,
              "#bd3786"
             ],
             [
              0.5555555555555556,
              "#d8576b"
             ],
             [
              0.6666666666666666,
              "#ed7953"
             ],
             [
              0.7777777777777778,
              "#fb9f3a"
             ],
             [
              0.8888888888888888,
              "#fdca26"
             ],
             [
              1,
              "#f0f921"
             ]
            ],
            "type": "heatmap"
           }
          ],
          "heatmapgl": [
           {
            "colorbar": {
             "outlinewidth": 0,
             "ticks": ""
            },
            "colorscale": [
             [
              0,
              "#0d0887"
             ],
             [
              0.1111111111111111,
              "#46039f"
             ],
             [
              0.2222222222222222,
              "#7201a8"
             ],
             [
              0.3333333333333333,
              "#9c179e"
             ],
             [
              0.4444444444444444,
              "#bd3786"
             ],
             [
              0.5555555555555556,
              "#d8576b"
             ],
             [
              0.6666666666666666,
              "#ed7953"
             ],
             [
              0.7777777777777778,
              "#fb9f3a"
             ],
             [
              0.8888888888888888,
              "#fdca26"
             ],
             [
              1,
              "#f0f921"
             ]
            ],
            "type": "heatmapgl"
           }
          ],
          "histogram": [
           {
            "marker": {
             "pattern": {
              "fillmode": "overlay",
              "size": 10,
              "solidity": 0.2
             }
            },
            "type": "histogram"
           }
          ],
          "histogram2d": [
           {
            "colorbar": {
             "outlinewidth": 0,
             "ticks": ""
            },
            "colorscale": [
             [
              0,
              "#0d0887"
             ],
             [
              0.1111111111111111,
              "#46039f"
             ],
             [
              0.2222222222222222,
              "#7201a8"
             ],
             [
              0.3333333333333333,
              "#9c179e"
             ],
             [
              0.4444444444444444,
              "#bd3786"
             ],
             [
              0.5555555555555556,
              "#d8576b"
             ],
             [
              0.6666666666666666,
              "#ed7953"
             ],
             [
              0.7777777777777778,
              "#fb9f3a"
             ],
             [
              0.8888888888888888,
              "#fdca26"
             ],
             [
              1,
              "#f0f921"
             ]
            ],
            "type": "histogram2d"
           }
          ],
          "histogram2dcontour": [
           {
            "colorbar": {
             "outlinewidth": 0,
             "ticks": ""
            },
            "colorscale": [
             [
              0,
              "#0d0887"
             ],
             [
              0.1111111111111111,
              "#46039f"
             ],
             [
              0.2222222222222222,
              "#7201a8"
             ],
             [
              0.3333333333333333,
              "#9c179e"
             ],
             [
              0.4444444444444444,
              "#bd3786"
             ],
             [
              0.5555555555555556,
              "#d8576b"
             ],
             [
              0.6666666666666666,
              "#ed7953"
             ],
             [
              0.7777777777777778,
              "#fb9f3a"
             ],
             [
              0.8888888888888888,
              "#fdca26"
             ],
             [
              1,
              "#f0f921"
             ]
            ],
            "type": "histogram2dcontour"
           }
          ],
          "mesh3d": [
           {
            "colorbar": {
             "outlinewidth": 0,
             "ticks": ""
            },
            "type": "mesh3d"
           }
          ],
          "parcoords": [
           {
            "line": {
             "colorbar": {
              "outlinewidth": 0,
              "ticks": ""
             }
            },
            "type": "parcoords"
           }
          ],
          "pie": [
           {
            "automargin": true,
            "type": "pie"
           }
          ],
          "scatter": [
           {
            "fillpattern": {
             "fillmode": "overlay",
             "size": 10,
             "solidity": 0.2
            },
            "type": "scatter"
           }
          ],
          "scatter3d": [
           {
            "line": {
             "colorbar": {
              "outlinewidth": 0,
              "ticks": ""
             }
            },
            "marker": {
             "colorbar": {
              "outlinewidth": 0,
              "ticks": ""
             }
            },
            "type": "scatter3d"
           }
          ],
          "scattercarpet": [
           {
            "marker": {
             "colorbar": {
              "outlinewidth": 0,
              "ticks": ""
             }
            },
            "type": "scattercarpet"
           }
          ],
          "scattergeo": [
           {
            "marker": {
             "colorbar": {
              "outlinewidth": 0,
              "ticks": ""
             }
            },
            "type": "scattergeo"
           }
          ],
          "scattergl": [
           {
            "marker": {
             "colorbar": {
              "outlinewidth": 0,
              "ticks": ""
             }
            },
            "type": "scattergl"
           }
          ],
          "scattermapbox": [
           {
            "marker": {
             "colorbar": {
              "outlinewidth": 0,
              "ticks": ""
             }
            },
            "type": "scattermapbox"
           }
          ],
          "scatterpolar": [
           {
            "marker": {
             "colorbar": {
              "outlinewidth": 0,
              "ticks": ""
             }
            },
            "type": "scatterpolar"
           }
          ],
          "scatterpolargl": [
           {
            "marker": {
             "colorbar": {
              "outlinewidth": 0,
              "ticks": ""
             }
            },
            "type": "scatterpolargl"
           }
          ],
          "scatterternary": [
           {
            "marker": {
             "colorbar": {
              "outlinewidth": 0,
              "ticks": ""
             }
            },
            "type": "scatterternary"
           }
          ],
          "surface": [
           {
            "colorbar": {
             "outlinewidth": 0,
             "ticks": ""
            },
            "colorscale": [
             [
              0,
              "#0d0887"
             ],
             [
              0.1111111111111111,
              "#46039f"
             ],
             [
              0.2222222222222222,
              "#7201a8"
             ],
             [
              0.3333333333333333,
              "#9c179e"
             ],
             [
              0.4444444444444444,
              "#bd3786"
             ],
             [
              0.5555555555555556,
              "#d8576b"
             ],
             [
              0.6666666666666666,
              "#ed7953"
             ],
             [
              0.7777777777777778,
              "#fb9f3a"
             ],
             [
              0.8888888888888888,
              "#fdca26"
             ],
             [
              1,
              "#f0f921"
             ]
            ],
            "type": "surface"
           }
          ],
          "table": [
           {
            "cells": {
             "fill": {
              "color": "#EBF0F8"
             },
             "line": {
              "color": "white"
             }
            },
            "header": {
             "fill": {
              "color": "#C8D4E3"
             },
             "line": {
              "color": "white"
             }
            },
            "type": "table"
           }
          ]
         },
         "layout": {
          "annotationdefaults": {
           "arrowcolor": "#2a3f5f",
           "arrowhead": 0,
           "arrowwidth": 1
          },
          "autotypenumbers": "strict",
          "coloraxis": {
           "colorbar": {
            "outlinewidth": 0,
            "ticks": ""
           }
          },
          "colorscale": {
           "diverging": [
            [
             0,
             "#8e0152"
            ],
            [
             0.1,
             "#c51b7d"
            ],
            [
             0.2,
             "#de77ae"
            ],
            [
             0.3,
             "#f1b6da"
            ],
            [
             0.4,
             "#fde0ef"
            ],
            [
             0.5,
             "#f7f7f7"
            ],
            [
             0.6,
             "#e6f5d0"
            ],
            [
             0.7,
             "#b8e186"
            ],
            [
             0.8,
             "#7fbc41"
            ],
            [
             0.9,
             "#4d9221"
            ],
            [
             1,
             "#276419"
            ]
           ],
           "sequential": [
            [
             0,
             "#0d0887"
            ],
            [
             0.1111111111111111,
             "#46039f"
            ],
            [
             0.2222222222222222,
             "#7201a8"
            ],
            [
             0.3333333333333333,
             "#9c179e"
            ],
            [
             0.4444444444444444,
             "#bd3786"
            ],
            [
             0.5555555555555556,
             "#d8576b"
            ],
            [
             0.6666666666666666,
             "#ed7953"
            ],
            [
             0.7777777777777778,
             "#fb9f3a"
            ],
            [
             0.8888888888888888,
             "#fdca26"
            ],
            [
             1,
             "#f0f921"
            ]
           ],
           "sequentialminus": [
            [
             0,
             "#0d0887"
            ],
            [
             0.1111111111111111,
             "#46039f"
            ],
            [
             0.2222222222222222,
             "#7201a8"
            ],
            [
             0.3333333333333333,
             "#9c179e"
            ],
            [
             0.4444444444444444,
             "#bd3786"
            ],
            [
             0.5555555555555556,
             "#d8576b"
            ],
            [
             0.6666666666666666,
             "#ed7953"
            ],
            [
             0.7777777777777778,
             "#fb9f3a"
            ],
            [
             0.8888888888888888,
             "#fdca26"
            ],
            [
             1,
             "#f0f921"
            ]
           ]
          },
          "colorway": [
           "#636efa",
           "#EF553B",
           "#00cc96",
           "#ab63fa",
           "#FFA15A",
           "#19d3f3",
           "#FF6692",
           "#B6E880",
           "#FF97FF",
           "#FECB52"
          ],
          "font": {
           "color": "#2a3f5f"
          },
          "geo": {
           "bgcolor": "white",
           "lakecolor": "white",
           "landcolor": "#E5ECF6",
           "showlakes": true,
           "showland": true,
           "subunitcolor": "white"
          },
          "hoverlabel": {
           "align": "left"
          },
          "hovermode": "closest",
          "mapbox": {
           "style": "light"
          },
          "paper_bgcolor": "white",
          "plot_bgcolor": "#E5ECF6",
          "polar": {
           "angularaxis": {
            "gridcolor": "white",
            "linecolor": "white",
            "ticks": ""
           },
           "bgcolor": "#E5ECF6",
           "radialaxis": {
            "gridcolor": "white",
            "linecolor": "white",
            "ticks": ""
           }
          },
          "scene": {
           "xaxis": {
            "backgroundcolor": "#E5ECF6",
            "gridcolor": "white",
            "gridwidth": 2,
            "linecolor": "white",
            "showbackground": true,
            "ticks": "",
            "zerolinecolor": "white"
           },
           "yaxis": {
            "backgroundcolor": "#E5ECF6",
            "gridcolor": "white",
            "gridwidth": 2,
            "linecolor": "white",
            "showbackground": true,
            "ticks": "",
            "zerolinecolor": "white"
           },
           "zaxis": {
            "backgroundcolor": "#E5ECF6",
            "gridcolor": "white",
            "gridwidth": 2,
            "linecolor": "white",
            "showbackground": true,
            "ticks": "",
            "zerolinecolor": "white"
           }
          },
          "shapedefaults": {
           "line": {
            "color": "#2a3f5f"
           }
          },
          "ternary": {
           "aaxis": {
            "gridcolor": "white",
            "linecolor": "white",
            "ticks": ""
           },
           "baxis": {
            "gridcolor": "white",
            "linecolor": "white",
            "ticks": ""
           },
           "bgcolor": "#E5ECF6",
           "caxis": {
            "gridcolor": "white",
            "linecolor": "white",
            "ticks": ""
           }
          },
          "title": {
           "x": 0.05
          },
          "xaxis": {
           "automargin": true,
           "gridcolor": "white",
           "linecolor": "white",
           "ticks": "",
           "title": {
            "standoff": 15
           },
           "zerolinecolor": "white",
           "zerolinewidth": 2
          },
          "yaxis": {
           "automargin": true,
           "gridcolor": "white",
           "linecolor": "white",
           "ticks": "",
           "title": {
            "standoff": 15
           },
           "zerolinecolor": "white",
           "zerolinewidth": 2
          }
         }
        },
        "title": {
         "text": "BMI vs MUAC",
         "x": 0,
         "xref": "paper"
        },
        "xaxis": {
         "title": {
          "text": "BMI<br><sup><i></i></sup>"
         }
        },
        "yaxis": {
         "gridcolor": "lightgrey",
         "title": {
          "text": "MUAC<br><sup><i>cm</i></sup>"
         }
        }
       }
      }
     },
     "metadata": {},
     "output_type": "display_data"
    },
    {
     "data": {
      "application/vnd.plotly.v1+json": {
       "config": {
        "plotlyServerURL": "https://plot.ly"
       },
       "data": [
        {
         "marker": {
          "color": "#604b62",
          "line": {
           "width": 0.3
          },
          "size": 10
         },
         "mode": "markers",
         "name": "WHITE",
         "type": "scatter",
         "x": [
          37,
          37,
          39,
          30,
          36,
          40,
          37,
          31,
          36,
          31,
          36,
          33,
          36,
          36,
          32,
          29,
          36,
          39,
          35,
          36,
          35,
          39,
          36,
          36,
          35,
          35,
          36,
          36,
          37,
          28,
          31,
          39,
          33,
          31,
          41,
          39,
          37,
          38,
          41,
          36,
          38,
          41,
          34,
          34,
          34,
          34,
          35,
          32,
          32,
          29,
          34,
          40,
          37,
          29,
          32,
          40,
          38,
          31,
          35,
          34,
          39,
          31,
          39,
          34,
          39,
          31,
          40,
          36,
          41,
          35,
          37,
          31,
          41,
          35,
          37,
          33,
          36,
          48,
          41,
          37,
          32,
          40,
          33,
          39,
          41,
          41,
          34,
          40,
          41,
          32,
          40,
          39,
          33,
          36,
          38
         ],
         "y": [
          3.5,
          4.8,
          5.3,
          4.4,
          5.4,
          5.2,
          4.5,
          4.5,
          5.2,
          4.8,
          4,
          5.7,
          5.2,
          4,
          5.9,
          3.5,
          3.8,
          4.8,
          4.9,
          5.6,
          4.5,
          5.3,
          4.9,
          4.7,
          5.9,
          4.4,
          4.3,
          4.5,
          4.7,
          4.6,
          4.1,
          4.2,
          4.3,
          5.3,
          5.2,
          5.5,
          5.2,
          3.1,
          5,
          4.4,
          4.7,
          5.6,
          4.5,
          4.9,
          3.3,
          4,
          4.7,
          4.2,
          4,
          3.8,
          4.6,
          4.8,
          4.5,
          4.1,
          4.8,
          4.8,
          5.3,
          5.9,
          4.2,
          4.7,
          3.9,
          4.1,
          4.9,
          4.1,
          5.1,
          4.4,
          5.1,
          4.2,
          4.5,
          4.6,
          4,
          5.7,
          4.3,
          4,
          4,
          4.6,
          5.6,
          7,
          3.6,
          5.3,
          4.4,
          4.4,
          4.6,
          4.3,
          6,
          4.7,
          2.9,
          4.3,
          5.2,
          4.2,
          4.9,
          4.5,
          3.7,
          4.7,
          4.2
         ]
        },
        {
         "marker": {
          "color": "#957897",
          "line": {
           "width": 0.3
          },
          "size": 10
         },
         "mode": "markers",
         "name": "MIXED",
         "type": "scatter",
         "x": [
          39,
          35,
          33,
          41,
          37,
          33,
          32,
          38,
          37,
          46,
          39
         ],
         "y": [
          4.6,
          4.5,
          5.3,
          5,
          4.6,
          5.3,
          4.4,
          4.9,
          5,
          7.8,
          6.6
         ]
        },
        {
         "marker": {
          "color": "#9d83a0",
          "line": {
           "width": 0.3
          },
          "size": 10
         },
         "mode": "markers",
         "name": "BLACK",
         "type": "scatter",
         "x": [
          40,
          38,
          38,
          37,
          43,
          36,
          42,
          43,
          38,
          33,
          39,
          34,
          40,
          41,
          54,
          37,
          38,
          33,
          33,
          29,
          44,
          42,
          33,
          29,
          36,
          34,
          37,
          37,
          33,
          35,
          41,
          41,
          31,
          35,
          35,
          33,
          44,
          34,
          42,
          42,
          39,
          35,
          35,
          39,
          32,
          42,
          43
         ],
         "y": [
          4.4,
          5.3,
          4.2,
          4.3,
          4.5,
          4.6,
          5.4,
          5.3,
          4.3,
          4.8,
          4.4,
          4.9,
          4.8,
          4.7,
          7.1,
          5,
          5.8,
          4.5,
          4.3,
          4.2,
          5.3,
          2.9,
          4.3,
          5.2,
          4.8,
          10.2,
          5,
          4.2,
          4.5,
          4,
          4.4,
          4.3,
          5.2,
          4.4,
          4.3,
          4.4,
          4.7,
          3.5,
          4.3,
          4.7,
          4.7,
          5,
          6.2,
          4.2,
          3.8,
          4.2,
          3.7
         ]
        },
        {
         "marker": {
          "color": "#a68ea8",
          "line": {
           "width": 0.3
          },
          "size": 10
         },
         "mode": "markers",
         "name": "EAST ASIAN",
         "type": "scatter",
         "x": [
          32,
          34,
          33,
          42,
          32,
          41,
          45,
          34,
          32,
          34,
          32,
          40,
          35,
          35,
          39,
          35,
          38
         ],
         "y": [
          3.8,
          4.2,
          4.5,
          4.9,
          4.9,
          5.1,
          4.9,
          4.5,
          4.3,
          5.6,
          4.6,
          4.4,
          5.3,
          4.7,
          4.6,
          4,
          4
         ]
        },
        {
         "marker": {
          "color": "#af99b1",
          "line": {
           "width": 0.3
          },
          "size": 10
         },
         "mode": "markers",
         "name": "SOUTH ASIAN",
         "type": "scatter",
         "x": [
          45,
          37,
          38,
          33,
          27,
          35,
          35,
          36,
          37,
          35,
          42,
          40,
          36,
          41,
          39,
          33,
          43,
          38,
          32,
          38,
          36,
          39,
          38,
          47,
          35,
          30,
          39,
          47
         ],
         "y": [
          4,
          4.6,
          4.8,
          4.9,
          5.2,
          4.6,
          4.5,
          4.5,
          4.6,
          5.1,
          5.1,
          4.5,
          5.4,
          5.1,
          4.4,
          4.3,
          4,
          5,
          4.8,
          4.5,
          4.6,
          4.4,
          4.2,
          4.7,
          3.8,
          4.5,
          3.6,
          7.3
         ]
        },
        {
         "marker": {
          "color": "#b8a4b9",
          "line": {
           "width": 0.3
          },
          "size": 10
         },
         "mode": "markers",
         "name": "ASIAN",
         "type": "scatter",
         "x": [
          32,
          39
         ],
         "y": [
          4.4,
          8.8
         ]
        }
       ],
       "layout": {
        "paper_bgcolor": "white",
        "plot_bgcolor": "#F6F8FC",
        "template": {
         "data": {
          "bar": [
           {
            "error_x": {
             "color": "#2a3f5f"
            },
            "error_y": {
             "color": "#2a3f5f"
            },
            "marker": {
             "line": {
              "color": "#E5ECF6",
              "width": 0.5
             },
             "pattern": {
              "fillmode": "overlay",
              "size": 10,
              "solidity": 0.2
             }
            },
            "type": "bar"
           }
          ],
          "barpolar": [
           {
            "marker": {
             "line": {
              "color": "#E5ECF6",
              "width": 0.5
             },
             "pattern": {
              "fillmode": "overlay",
              "size": 10,
              "solidity": 0.2
             }
            },
            "type": "barpolar"
           }
          ],
          "carpet": [
           {
            "aaxis": {
             "endlinecolor": "#2a3f5f",
             "gridcolor": "white",
             "linecolor": "white",
             "minorgridcolor": "white",
             "startlinecolor": "#2a3f5f"
            },
            "baxis": {
             "endlinecolor": "#2a3f5f",
             "gridcolor": "white",
             "linecolor": "white",
             "minorgridcolor": "white",
             "startlinecolor": "#2a3f5f"
            },
            "type": "carpet"
           }
          ],
          "choropleth": [
           {
            "colorbar": {
             "outlinewidth": 0,
             "ticks": ""
            },
            "type": "choropleth"
           }
          ],
          "contour": [
           {
            "colorbar": {
             "outlinewidth": 0,
             "ticks": ""
            },
            "colorscale": [
             [
              0,
              "#0d0887"
             ],
             [
              0.1111111111111111,
              "#46039f"
             ],
             [
              0.2222222222222222,
              "#7201a8"
             ],
             [
              0.3333333333333333,
              "#9c179e"
             ],
             [
              0.4444444444444444,
              "#bd3786"
             ],
             [
              0.5555555555555556,
              "#d8576b"
             ],
             [
              0.6666666666666666,
              "#ed7953"
             ],
             [
              0.7777777777777778,
              "#fb9f3a"
             ],
             [
              0.8888888888888888,
              "#fdca26"
             ],
             [
              1,
              "#f0f921"
             ]
            ],
            "type": "contour"
           }
          ],
          "contourcarpet": [
           {
            "colorbar": {
             "outlinewidth": 0,
             "ticks": ""
            },
            "type": "contourcarpet"
           }
          ],
          "heatmap": [
           {
            "colorbar": {
             "outlinewidth": 0,
             "ticks": ""
            },
            "colorscale": [
             [
              0,
              "#0d0887"
             ],
             [
              0.1111111111111111,
              "#46039f"
             ],
             [
              0.2222222222222222,
              "#7201a8"
             ],
             [
              0.3333333333333333,
              "#9c179e"
             ],
             [
              0.4444444444444444,
              "#bd3786"
             ],
             [
              0.5555555555555556,
              "#d8576b"
             ],
             [
              0.6666666666666666,
              "#ed7953"
             ],
             [
              0.7777777777777778,
              "#fb9f3a"
             ],
             [
              0.8888888888888888,
              "#fdca26"
             ],
             [
              1,
              "#f0f921"
             ]
            ],
            "type": "heatmap"
           }
          ],
          "heatmapgl": [
           {
            "colorbar": {
             "outlinewidth": 0,
             "ticks": ""
            },
            "colorscale": [
             [
              0,
              "#0d0887"
             ],
             [
              0.1111111111111111,
              "#46039f"
             ],
             [
              0.2222222222222222,
              "#7201a8"
             ],
             [
              0.3333333333333333,
              "#9c179e"
             ],
             [
              0.4444444444444444,
              "#bd3786"
             ],
             [
              0.5555555555555556,
              "#d8576b"
             ],
             [
              0.6666666666666666,
              "#ed7953"
             ],
             [
              0.7777777777777778,
              "#fb9f3a"
             ],
             [
              0.8888888888888888,
              "#fdca26"
             ],
             [
              1,
              "#f0f921"
             ]
            ],
            "type": "heatmapgl"
           }
          ],
          "histogram": [
           {
            "marker": {
             "pattern": {
              "fillmode": "overlay",
              "size": 10,
              "solidity": 0.2
             }
            },
            "type": "histogram"
           }
          ],
          "histogram2d": [
           {
            "colorbar": {
             "outlinewidth": 0,
             "ticks": ""
            },
            "colorscale": [
             [
              0,
              "#0d0887"
             ],
             [
              0.1111111111111111,
              "#46039f"
             ],
             [
              0.2222222222222222,
              "#7201a8"
             ],
             [
              0.3333333333333333,
              "#9c179e"
             ],
             [
              0.4444444444444444,
              "#bd3786"
             ],
             [
              0.5555555555555556,
              "#d8576b"
             ],
             [
              0.6666666666666666,
              "#ed7953"
             ],
             [
              0.7777777777777778,
              "#fb9f3a"
             ],
             [
              0.8888888888888888,
              "#fdca26"
             ],
             [
              1,
              "#f0f921"
             ]
            ],
            "type": "histogram2d"
           }
          ],
          "histogram2dcontour": [
           {
            "colorbar": {
             "outlinewidth": 0,
             "ticks": ""
            },
            "colorscale": [
             [
              0,
              "#0d0887"
             ],
             [
              0.1111111111111111,
              "#46039f"
             ],
             [
              0.2222222222222222,
              "#7201a8"
             ],
             [
              0.3333333333333333,
              "#9c179e"
             ],
             [
              0.4444444444444444,
              "#bd3786"
             ],
             [
              0.5555555555555556,
              "#d8576b"
             ],
             [
              0.6666666666666666,
              "#ed7953"
             ],
             [
              0.7777777777777778,
              "#fb9f3a"
             ],
             [
              0.8888888888888888,
              "#fdca26"
             ],
             [
              1,
              "#f0f921"
             ]
            ],
            "type": "histogram2dcontour"
           }
          ],
          "mesh3d": [
           {
            "colorbar": {
             "outlinewidth": 0,
             "ticks": ""
            },
            "type": "mesh3d"
           }
          ],
          "parcoords": [
           {
            "line": {
             "colorbar": {
              "outlinewidth": 0,
              "ticks": ""
             }
            },
            "type": "parcoords"
           }
          ],
          "pie": [
           {
            "automargin": true,
            "type": "pie"
           }
          ],
          "scatter": [
           {
            "fillpattern": {
             "fillmode": "overlay",
             "size": 10,
             "solidity": 0.2
            },
            "type": "scatter"
           }
          ],
          "scatter3d": [
           {
            "line": {
             "colorbar": {
              "outlinewidth": 0,
              "ticks": ""
             }
            },
            "marker": {
             "colorbar": {
              "outlinewidth": 0,
              "ticks": ""
             }
            },
            "type": "scatter3d"
           }
          ],
          "scattercarpet": [
           {
            "marker": {
             "colorbar": {
              "outlinewidth": 0,
              "ticks": ""
             }
            },
            "type": "scattercarpet"
           }
          ],
          "scattergeo": [
           {
            "marker": {
             "colorbar": {
              "outlinewidth": 0,
              "ticks": ""
             }
            },
            "type": "scattergeo"
           }
          ],
          "scattergl": [
           {
            "marker": {
             "colorbar": {
              "outlinewidth": 0,
              "ticks": ""
             }
            },
            "type": "scattergl"
           }
          ],
          "scattermapbox": [
           {
            "marker": {
             "colorbar": {
              "outlinewidth": 0,
              "ticks": ""
             }
            },
            "type": "scattermapbox"
           }
          ],
          "scatterpolar": [
           {
            "marker": {
             "colorbar": {
              "outlinewidth": 0,
              "ticks": ""
             }
            },
            "type": "scatterpolar"
           }
          ],
          "scatterpolargl": [
           {
            "marker": {
             "colorbar": {
              "outlinewidth": 0,
              "ticks": ""
             }
            },
            "type": "scatterpolargl"
           }
          ],
          "scatterternary": [
           {
            "marker": {
             "colorbar": {
              "outlinewidth": 0,
              "ticks": ""
             }
            },
            "type": "scatterternary"
           }
          ],
          "surface": [
           {
            "colorbar": {
             "outlinewidth": 0,
             "ticks": ""
            },
            "colorscale": [
             [
              0,
              "#0d0887"
             ],
             [
              0.1111111111111111,
              "#46039f"
             ],
             [
              0.2222222222222222,
              "#7201a8"
             ],
             [
              0.3333333333333333,
              "#9c179e"
             ],
             [
              0.4444444444444444,
              "#bd3786"
             ],
             [
              0.5555555555555556,
              "#d8576b"
             ],
             [
              0.6666666666666666,
              "#ed7953"
             ],
             [
              0.7777777777777778,
              "#fb9f3a"
             ],
             [
              0.8888888888888888,
              "#fdca26"
             ],
             [
              1,
              "#f0f921"
             ]
            ],
            "type": "surface"
           }
          ],
          "table": [
           {
            "cells": {
             "fill": {
              "color": "#EBF0F8"
             },
             "line": {
              "color": "white"
             }
            },
            "header": {
             "fill": {
              "color": "#C8D4E3"
             },
             "line": {
              "color": "white"
             }
            },
            "type": "table"
           }
          ]
         },
         "layout": {
          "annotationdefaults": {
           "arrowcolor": "#2a3f5f",
           "arrowhead": 0,
           "arrowwidth": 1
          },
          "autotypenumbers": "strict",
          "coloraxis": {
           "colorbar": {
            "outlinewidth": 0,
            "ticks": ""
           }
          },
          "colorscale": {
           "diverging": [
            [
             0,
             "#8e0152"
            ],
            [
             0.1,
             "#c51b7d"
            ],
            [
             0.2,
             "#de77ae"
            ],
            [
             0.3,
             "#f1b6da"
            ],
            [
             0.4,
             "#fde0ef"
            ],
            [
             0.5,
             "#f7f7f7"
            ],
            [
             0.6,
             "#e6f5d0"
            ],
            [
             0.7,
             "#b8e186"
            ],
            [
             0.8,
             "#7fbc41"
            ],
            [
             0.9,
             "#4d9221"
            ],
            [
             1,
             "#276419"
            ]
           ],
           "sequential": [
            [
             0,
             "#0d0887"
            ],
            [
             0.1111111111111111,
             "#46039f"
            ],
            [
             0.2222222222222222,
             "#7201a8"
            ],
            [
             0.3333333333333333,
             "#9c179e"
            ],
            [
             0.4444444444444444,
             "#bd3786"
            ],
            [
             0.5555555555555556,
             "#d8576b"
            ],
            [
             0.6666666666666666,
             "#ed7953"
            ],
            [
             0.7777777777777778,
             "#fb9f3a"
            ],
            [
             0.8888888888888888,
             "#fdca26"
            ],
            [
             1,
             "#f0f921"
            ]
           ],
           "sequentialminus": [
            [
             0,
             "#0d0887"
            ],
            [
             0.1111111111111111,
             "#46039f"
            ],
            [
             0.2222222222222222,
             "#7201a8"
            ],
            [
             0.3333333333333333,
             "#9c179e"
            ],
            [
             0.4444444444444444,
             "#bd3786"
            ],
            [
             0.5555555555555556,
             "#d8576b"
            ],
            [
             0.6666666666666666,
             "#ed7953"
            ],
            [
             0.7777777777777778,
             "#fb9f3a"
            ],
            [
             0.8888888888888888,
             "#fdca26"
            ],
            [
             1,
             "#f0f921"
            ]
           ]
          },
          "colorway": [
           "#636efa",
           "#EF553B",
           "#00cc96",
           "#ab63fa",
           "#FFA15A",
           "#19d3f3",
           "#FF6692",
           "#B6E880",
           "#FF97FF",
           "#FECB52"
          ],
          "font": {
           "color": "#2a3f5f"
          },
          "geo": {
           "bgcolor": "white",
           "lakecolor": "white",
           "landcolor": "#E5ECF6",
           "showlakes": true,
           "showland": true,
           "subunitcolor": "white"
          },
          "hoverlabel": {
           "align": "left"
          },
          "hovermode": "closest",
          "mapbox": {
           "style": "light"
          },
          "paper_bgcolor": "white",
          "plot_bgcolor": "#E5ECF6",
          "polar": {
           "angularaxis": {
            "gridcolor": "white",
            "linecolor": "white",
            "ticks": ""
           },
           "bgcolor": "#E5ECF6",
           "radialaxis": {
            "gridcolor": "white",
            "linecolor": "white",
            "ticks": ""
           }
          },
          "scene": {
           "xaxis": {
            "backgroundcolor": "#E5ECF6",
            "gridcolor": "white",
            "gridwidth": 2,
            "linecolor": "white",
            "showbackground": true,
            "ticks": "",
            "zerolinecolor": "white"
           },
           "yaxis": {
            "backgroundcolor": "#E5ECF6",
            "gridcolor": "white",
            "gridwidth": 2,
            "linecolor": "white",
            "showbackground": true,
            "ticks": "",
            "zerolinecolor": "white"
           },
           "zaxis": {
            "backgroundcolor": "#E5ECF6",
            "gridcolor": "white",
            "gridwidth": 2,
            "linecolor": "white",
            "showbackground": true,
            "ticks": "",
            "zerolinecolor": "white"
           }
          },
          "shapedefaults": {
           "line": {
            "color": "#2a3f5f"
           }
          },
          "ternary": {
           "aaxis": {
            "gridcolor": "white",
            "linecolor": "white",
            "ticks": ""
           },
           "baxis": {
            "gridcolor": "white",
            "linecolor": "white",
            "ticks": ""
           },
           "bgcolor": "#E5ECF6",
           "caxis": {
            "gridcolor": "white",
            "linecolor": "white",
            "ticks": ""
           }
          },
          "title": {
           "x": 0.05
          },
          "xaxis": {
           "automargin": true,
           "gridcolor": "white",
           "linecolor": "white",
           "ticks": "",
           "title": {
            "standoff": 15
           },
           "zerolinecolor": "white",
           "zerolinewidth": 2
          },
          "yaxis": {
           "automargin": true,
           "gridcolor": "white",
           "linecolor": "white",
           "ticks": "",
           "title": {
            "standoff": 15
           },
           "zerolinecolor": "white",
           "zerolinewidth": 2
          }
         }
        },
        "title": {
         "text": "HbA1C vs Random Glucose",
         "x": 0,
         "xref": "paper"
        },
        "xaxis": {
         "title": {
          "text": "HbA1C<br><sup><i>mmol/mol</i></sup>"
         }
        },
        "yaxis": {
         "gridcolor": "lightgrey",
         "title": {
          "text": "RandomGlucose<br><sup><i></i></sup>"
         }
        }
       }
      }
     },
     "metadata": {},
     "output_type": "display_data"
    },
    {
     "name": "stderr",
     "output_type": "stream",
     "text": [
      "c:\\Users\\Jolene Wium\\Documents\\personal\\lizemarie\\clinic_data\\src\\features\\make_feature.py:388: SettingWithCopyWarning:\n",
      "\n",
      "\n",
      "A value is trying to be set on a copy of a slice from a DataFrame.\n",
      "Try using .loc[row_indexer,col_indexer] = value instead\n",
      "\n",
      "See the caveats in the documentation: https://pandas.pydata.org/pandas-docs/stable/user_guide/indexing.html#returning-a-view-versus-a-copy\n",
      "\n"
     ]
    },
    {
     "data": {
      "application/vnd.plotly.v1+json": {
       "config": {
        "plotlyServerURL": "https://plot.ly"
       },
       "data": [
        {
         "marker": {
          "color": "#604b62",
          "line": {
           "width": 0.3
          },
          "size": 10
         },
         "mode": "markers",
         "name": "All",
         "type": "scatter",
         "x": [
          106.75,
          100.25,
          116,
          135.5,
          116.5,
          136.5,
          109.5,
          87,
          115,
          106.5,
          123.5,
          128.75,
          111.5,
          129.5,
          108.25,
          123.5,
          102.75,
          99.75,
          108.5,
          126,
          109.25,
          116,
          103.5,
          115,
          116.75,
          192.75,
          111.5,
          105,
          117,
          116.25,
          120.5,
          112.75,
          128,
          104,
          130.5,
          118.25,
          109.25,
          132.5,
          121.25,
          123.5,
          106,
          120,
          119,
          108.75,
          114,
          98.5,
          119,
          110.25,
          116.25,
          122.75,
          129,
          118.25,
          148.25,
          97.75,
          126.5,
          111,
          104.5,
          103.5,
          120.25,
          182.5,
          120,
          115.75,
          117,
          126.25,
          112.75,
          117.5,
          138,
          132.75,
          113.75,
          106,
          117,
          98,
          119.5,
          141.75,
          108.5,
          113.25,
          108.5,
          128,
          112.75,
          109,
          112,
          131.25,
          123.5,
          110.75,
          113,
          109.75,
          133.75,
          127,
          164.25,
          120.25,
          109,
          130.75,
          118.5,
          108,
          152.25,
          128.25,
          134.25,
          128,
          113,
          109.75,
          111.25,
          117,
          122.75,
          97.75,
          113.5,
          124.25,
          120,
          122.75,
          115.5,
          131.25,
          106.5,
          126.5,
          110,
          109.75,
          98.5,
          116.75,
          112.25,
          112,
          128.25,
          106.5,
          106.25,
          118,
          116.75,
          110,
          121,
          117,
          117,
          121,
          116,
          126.5,
          117,
          106.5,
          122.75,
          140,
          125.25,
          122,
          121.25,
          113,
          113,
          126.5,
          115.25,
          107.5,
          124.25,
          111.5,
          124.25,
          121,
          124.25,
          102,
          122.25,
          114.5,
          121.25,
          104.75,
          113.5,
          114,
          129.25,
          118,
          102.5,
          119.5,
          115.25,
          113.5,
          123.75,
          126,
          111.5,
          136,
          138,
          100.5,
          115.5,
          117.5,
          108.5,
          126.25,
          122,
          127.5,
          100.5,
          96.5,
          109.5,
          97,
          119.5,
          115.75,
          124.25,
          137.5,
          125.25,
          120.5,
          118,
          127,
          122,
          110.25,
          104.25,
          129.5,
          108.75,
          113,
          126.75,
          122.25,
          110.25,
          113.25,
          133.5,
          124.75,
          125.75,
          117.5,
          106.25,
          105
         ],
         "y": [
          24.8,
          22.31,
          22.7,
          28.2,
          25.5,
          33.8,
          22.9,
          22.1,
          27.83,
          21.5,
          35.28,
          28.4,
          28.9,
          26.1,
          23,
          28.2,
          25.1,
          28.5,
          25.7,
          36.4,
          23.2,
          37.8,
          34.12,
          42.4,
          30.46,
          43.8,
          23.07,
          31.5,
          30.71,
          25.4,
          39.98,
          23.4,
          28.4,
          20.9,
          33.9,
          27.6,
          29.3,
          26.6,
          25.3,
          30.7,
          18,
          25.08,
          36.42,
          21.98,
          34.13,
          24.54,
          42.1,
          22.92,
          26.18,
          30.49,
          29.29,
          23.78,
          31.05,
          25.77,
          28.31,
          28.87,
          25.43,
          28.25,
          24.84,
          46.48,
          29.17,
          29.91,
          24,
          35.71,
          30.73,
          30.44,
          30.48,
          38.8,
          23.58,
          23.49,
          26.27,
          24.49,
          30.27,
          19.99,
          25.9,
          29.43,
          24.77,
          30.05,
          20.88,
          25.79,
          28.34,
          29.51,
          43.25,
          25.61,
          29.3,
          29.43,
          30.86,
          29.48,
          28.27,
          26.97,
          23.27,
          30.75,
          29.9,
          31.05,
          27.27,
          23.42,
          23.51,
          35.88,
          25.88,
          26.41,
          28.08,
          32.92,
          30.99,
          29.88,
          34.17,
          36.13,
          29.3,
          40.6,
          25.92,
          33.09,
          28.83,
          23.01,
          30.49,
          24.02,
          21.22,
          25.8,
          22.6,
          26.4,
          29.8,
          24.1,
          23.6,
          32.96,
          42.9,
          29,
          29.86,
          18.29,
          25.97,
          31.09,
          36.42,
          26.93,
          38.87,
          25.62,
          28.21,
          34,
          27.07,
          43.77,
          29.5,
          29.9,
          33.1,
          39.35,
          23.55,
          26.82,
          24.1,
          22.3,
          31.57,
          31.1,
          42.4,
          27.8,
          31.9,
          32.34,
          35.18,
          21.6,
          37.9,
          22.6,
          29.76,
          30.34,
          20.33,
          28.67,
          26.4,
          27.81,
          44.4,
          31.52,
          21.86,
          45.7,
          38.6,
          27.6,
          23.7,
          29.96,
          27.56,
          39.9,
          26,
          31.61,
          22.56,
          23.01,
          24.17,
          22.27,
          21.12,
          30.26,
          33.12,
          31.35,
          28.4,
          22.19,
          26.16,
          33,
          26.5,
          26.8,
          33.4,
          36.5,
          24.1,
          26.61,
          23.95,
          27.85,
          42.3,
          41.8,
          32.7,
          31.3,
          34.5,
          22.4,
          21.1,
          27
         ]
        }
       ],
       "layout": {
        "paper_bgcolor": "white",
        "plot_bgcolor": "#F6F8FC",
        "template": {
         "data": {
          "bar": [
           {
            "error_x": {
             "color": "#2a3f5f"
            },
            "error_y": {
             "color": "#2a3f5f"
            },
            "marker": {
             "line": {
              "color": "#E5ECF6",
              "width": 0.5
             },
             "pattern": {
              "fillmode": "overlay",
              "size": 10,
              "solidity": 0.2
             }
            },
            "type": "bar"
           }
          ],
          "barpolar": [
           {
            "marker": {
             "line": {
              "color": "#E5ECF6",
              "width": 0.5
             },
             "pattern": {
              "fillmode": "overlay",
              "size": 10,
              "solidity": 0.2
             }
            },
            "type": "barpolar"
           }
          ],
          "carpet": [
           {
            "aaxis": {
             "endlinecolor": "#2a3f5f",
             "gridcolor": "white",
             "linecolor": "white",
             "minorgridcolor": "white",
             "startlinecolor": "#2a3f5f"
            },
            "baxis": {
             "endlinecolor": "#2a3f5f",
             "gridcolor": "white",
             "linecolor": "white",
             "minorgridcolor": "white",
             "startlinecolor": "#2a3f5f"
            },
            "type": "carpet"
           }
          ],
          "choropleth": [
           {
            "colorbar": {
             "outlinewidth": 0,
             "ticks": ""
            },
            "type": "choropleth"
           }
          ],
          "contour": [
           {
            "colorbar": {
             "outlinewidth": 0,
             "ticks": ""
            },
            "colorscale": [
             [
              0,
              "#0d0887"
             ],
             [
              0.1111111111111111,
              "#46039f"
             ],
             [
              0.2222222222222222,
              "#7201a8"
             ],
             [
              0.3333333333333333,
              "#9c179e"
             ],
             [
              0.4444444444444444,
              "#bd3786"
             ],
             [
              0.5555555555555556,
              "#d8576b"
             ],
             [
              0.6666666666666666,
              "#ed7953"
             ],
             [
              0.7777777777777778,
              "#fb9f3a"
             ],
             [
              0.8888888888888888,
              "#fdca26"
             ],
             [
              1,
              "#f0f921"
             ]
            ],
            "type": "contour"
           }
          ],
          "contourcarpet": [
           {
            "colorbar": {
             "outlinewidth": 0,
             "ticks": ""
            },
            "type": "contourcarpet"
           }
          ],
          "heatmap": [
           {
            "colorbar": {
             "outlinewidth": 0,
             "ticks": ""
            },
            "colorscale": [
             [
              0,
              "#0d0887"
             ],
             [
              0.1111111111111111,
              "#46039f"
             ],
             [
              0.2222222222222222,
              "#7201a8"
             ],
             [
              0.3333333333333333,
              "#9c179e"
             ],
             [
              0.4444444444444444,
              "#bd3786"
             ],
             [
              0.5555555555555556,
              "#d8576b"
             ],
             [
              0.6666666666666666,
              "#ed7953"
             ],
             [
              0.7777777777777778,
              "#fb9f3a"
             ],
             [
              0.8888888888888888,
              "#fdca26"
             ],
             [
              1,
              "#f0f921"
             ]
            ],
            "type": "heatmap"
           }
          ],
          "heatmapgl": [
           {
            "colorbar": {
             "outlinewidth": 0,
             "ticks": ""
            },
            "colorscale": [
             [
              0,
              "#0d0887"
             ],
             [
              0.1111111111111111,
              "#46039f"
             ],
             [
              0.2222222222222222,
              "#7201a8"
             ],
             [
              0.3333333333333333,
              "#9c179e"
             ],
             [
              0.4444444444444444,
              "#bd3786"
             ],
             [
              0.5555555555555556,
              "#d8576b"
             ],
             [
              0.6666666666666666,
              "#ed7953"
             ],
             [
              0.7777777777777778,
              "#fb9f3a"
             ],
             [
              0.8888888888888888,
              "#fdca26"
             ],
             [
              1,
              "#f0f921"
             ]
            ],
            "type": "heatmapgl"
           }
          ],
          "histogram": [
           {
            "marker": {
             "pattern": {
              "fillmode": "overlay",
              "size": 10,
              "solidity": 0.2
             }
            },
            "type": "histogram"
           }
          ],
          "histogram2d": [
           {
            "colorbar": {
             "outlinewidth": 0,
             "ticks": ""
            },
            "colorscale": [
             [
              0,
              "#0d0887"
             ],
             [
              0.1111111111111111,
              "#46039f"
             ],
             [
              0.2222222222222222,
              "#7201a8"
             ],
             [
              0.3333333333333333,
              "#9c179e"
             ],
             [
              0.4444444444444444,
              "#bd3786"
             ],
             [
              0.5555555555555556,
              "#d8576b"
             ],
             [
              0.6666666666666666,
              "#ed7953"
             ],
             [
              0.7777777777777778,
              "#fb9f3a"
             ],
             [
              0.8888888888888888,
              "#fdca26"
             ],
             [
              1,
              "#f0f921"
             ]
            ],
            "type": "histogram2d"
           }
          ],
          "histogram2dcontour": [
           {
            "colorbar": {
             "outlinewidth": 0,
             "ticks": ""
            },
            "colorscale": [
             [
              0,
              "#0d0887"
             ],
             [
              0.1111111111111111,
              "#46039f"
             ],
             [
              0.2222222222222222,
              "#7201a8"
             ],
             [
              0.3333333333333333,
              "#9c179e"
             ],
             [
              0.4444444444444444,
              "#bd3786"
             ],
             [
              0.5555555555555556,
              "#d8576b"
             ],
             [
              0.6666666666666666,
              "#ed7953"
             ],
             [
              0.7777777777777778,
              "#fb9f3a"
             ],
             [
              0.8888888888888888,
              "#fdca26"
             ],
             [
              1,
              "#f0f921"
             ]
            ],
            "type": "histogram2dcontour"
           }
          ],
          "mesh3d": [
           {
            "colorbar": {
             "outlinewidth": 0,
             "ticks": ""
            },
            "type": "mesh3d"
           }
          ],
          "parcoords": [
           {
            "line": {
             "colorbar": {
              "outlinewidth": 0,
              "ticks": ""
             }
            },
            "type": "parcoords"
           }
          ],
          "pie": [
           {
            "automargin": true,
            "type": "pie"
           }
          ],
          "scatter": [
           {
            "fillpattern": {
             "fillmode": "overlay",
             "size": 10,
             "solidity": 0.2
            },
            "type": "scatter"
           }
          ],
          "scatter3d": [
           {
            "line": {
             "colorbar": {
              "outlinewidth": 0,
              "ticks": ""
             }
            },
            "marker": {
             "colorbar": {
              "outlinewidth": 0,
              "ticks": ""
             }
            },
            "type": "scatter3d"
           }
          ],
          "scattercarpet": [
           {
            "marker": {
             "colorbar": {
              "outlinewidth": 0,
              "ticks": ""
             }
            },
            "type": "scattercarpet"
           }
          ],
          "scattergeo": [
           {
            "marker": {
             "colorbar": {
              "outlinewidth": 0,
              "ticks": ""
             }
            },
            "type": "scattergeo"
           }
          ],
          "scattergl": [
           {
            "marker": {
             "colorbar": {
              "outlinewidth": 0,
              "ticks": ""
             }
            },
            "type": "scattergl"
           }
          ],
          "scattermapbox": [
           {
            "marker": {
             "colorbar": {
              "outlinewidth": 0,
              "ticks": ""
             }
            },
            "type": "scattermapbox"
           }
          ],
          "scatterpolar": [
           {
            "marker": {
             "colorbar": {
              "outlinewidth": 0,
              "ticks": ""
             }
            },
            "type": "scatterpolar"
           }
          ],
          "scatterpolargl": [
           {
            "marker": {
             "colorbar": {
              "outlinewidth": 0,
              "ticks": ""
             }
            },
            "type": "scatterpolargl"
           }
          ],
          "scatterternary": [
           {
            "marker": {
             "colorbar": {
              "outlinewidth": 0,
              "ticks": ""
             }
            },
            "type": "scatterternary"
           }
          ],
          "surface": [
           {
            "colorbar": {
             "outlinewidth": 0,
             "ticks": ""
            },
            "colorscale": [
             [
              0,
              "#0d0887"
             ],
             [
              0.1111111111111111,
              "#46039f"
             ],
             [
              0.2222222222222222,
              "#7201a8"
             ],
             [
              0.3333333333333333,
              "#9c179e"
             ],
             [
              0.4444444444444444,
              "#bd3786"
             ],
             [
              0.5555555555555556,
              "#d8576b"
             ],
             [
              0.6666666666666666,
              "#ed7953"
             ],
             [
              0.7777777777777778,
              "#fb9f3a"
             ],
             [
              0.8888888888888888,
              "#fdca26"
             ],
             [
              1,
              "#f0f921"
             ]
            ],
            "type": "surface"
           }
          ],
          "table": [
           {
            "cells": {
             "fill": {
              "color": "#EBF0F8"
             },
             "line": {
              "color": "white"
             }
            },
            "header": {
             "fill": {
              "color": "#C8D4E3"
             },
             "line": {
              "color": "white"
             }
            },
            "type": "table"
           }
          ]
         },
         "layout": {
          "annotationdefaults": {
           "arrowcolor": "#2a3f5f",
           "arrowhead": 0,
           "arrowwidth": 1
          },
          "autotypenumbers": "strict",
          "coloraxis": {
           "colorbar": {
            "outlinewidth": 0,
            "ticks": ""
           }
          },
          "colorscale": {
           "diverging": [
            [
             0,
             "#8e0152"
            ],
            [
             0.1,
             "#c51b7d"
            ],
            [
             0.2,
             "#de77ae"
            ],
            [
             0.3,
             "#f1b6da"
            ],
            [
             0.4,
             "#fde0ef"
            ],
            [
             0.5,
             "#f7f7f7"
            ],
            [
             0.6,
             "#e6f5d0"
            ],
            [
             0.7,
             "#b8e186"
            ],
            [
             0.8,
             "#7fbc41"
            ],
            [
             0.9,
             "#4d9221"
            ],
            [
             1,
             "#276419"
            ]
           ],
           "sequential": [
            [
             0,
             "#0d0887"
            ],
            [
             0.1111111111111111,
             "#46039f"
            ],
            [
             0.2222222222222222,
             "#7201a8"
            ],
            [
             0.3333333333333333,
             "#9c179e"
            ],
            [
             0.4444444444444444,
             "#bd3786"
            ],
            [
             0.5555555555555556,
             "#d8576b"
            ],
            [
             0.6666666666666666,
             "#ed7953"
            ],
            [
             0.7777777777777778,
             "#fb9f3a"
            ],
            [
             0.8888888888888888,
             "#fdca26"
            ],
            [
             1,
             "#f0f921"
            ]
           ],
           "sequentialminus": [
            [
             0,
             "#0d0887"
            ],
            [
             0.1111111111111111,
             "#46039f"
            ],
            [
             0.2222222222222222,
             "#7201a8"
            ],
            [
             0.3333333333333333,
             "#9c179e"
            ],
            [
             0.4444444444444444,
             "#bd3786"
            ],
            [
             0.5555555555555556,
             "#d8576b"
            ],
            [
             0.6666666666666666,
             "#ed7953"
            ],
            [
             0.7777777777777778,
             "#fb9f3a"
            ],
            [
             0.8888888888888888,
             "#fdca26"
            ],
            [
             1,
             "#f0f921"
            ]
           ]
          },
          "colorway": [
           "#636efa",
           "#EF553B",
           "#00cc96",
           "#ab63fa",
           "#FFA15A",
           "#19d3f3",
           "#FF6692",
           "#B6E880",
           "#FF97FF",
           "#FECB52"
          ],
          "font": {
           "color": "#2a3f5f"
          },
          "geo": {
           "bgcolor": "white",
           "lakecolor": "white",
           "landcolor": "#E5ECF6",
           "showlakes": true,
           "showland": true,
           "subunitcolor": "white"
          },
          "hoverlabel": {
           "align": "left"
          },
          "hovermode": "closest",
          "mapbox": {
           "style": "light"
          },
          "paper_bgcolor": "white",
          "plot_bgcolor": "#E5ECF6",
          "polar": {
           "angularaxis": {
            "gridcolor": "white",
            "linecolor": "white",
            "ticks": ""
           },
           "bgcolor": "#E5ECF6",
           "radialaxis": {
            "gridcolor": "white",
            "linecolor": "white",
            "ticks": ""
           }
          },
          "scene": {
           "xaxis": {
            "backgroundcolor": "#E5ECF6",
            "gridcolor": "white",
            "gridwidth": 2,
            "linecolor": "white",
            "showbackground": true,
            "ticks": "",
            "zerolinecolor": "white"
           },
           "yaxis": {
            "backgroundcolor": "#E5ECF6",
            "gridcolor": "white",
            "gridwidth": 2,
            "linecolor": "white",
            "showbackground": true,
            "ticks": "",
            "zerolinecolor": "white"
           },
           "zaxis": {
            "backgroundcolor": "#E5ECF6",
            "gridcolor": "white",
            "gridwidth": 2,
            "linecolor": "white",
            "showbackground": true,
            "ticks": "",
            "zerolinecolor": "white"
           }
          },
          "shapedefaults": {
           "line": {
            "color": "#2a3f5f"
           }
          },
          "ternary": {
           "aaxis": {
            "gridcolor": "white",
            "linecolor": "white",
            "ticks": ""
           },
           "baxis": {
            "gridcolor": "white",
            "linecolor": "white",
            "ticks": ""
           },
           "bgcolor": "#E5ECF6",
           "caxis": {
            "gridcolor": "white",
            "linecolor": "white",
            "ticks": ""
           }
          },
          "title": {
           "x": 0.05
          },
          "xaxis": {
           "automargin": true,
           "gridcolor": "white",
           "linecolor": "white",
           "ticks": "",
           "title": {
            "standoff": 15
           },
           "zerolinecolor": "white",
           "zerolinewidth": 2
          },
          "yaxis": {
           "automargin": true,
           "gridcolor": "white",
           "linecolor": "white",
           "ticks": "",
           "title": {
            "standoff": 15
           },
           "zerolinecolor": "white",
           "zerolinewidth": 2
          }
         }
        },
        "title": {
         "text": "Systolic vs BMI",
         "x": 0,
         "xref": "paper"
        },
        "xaxis": {
         "title": {
          "text": "Systolic<br><sup><i></i></sup>"
         }
        },
        "yaxis": {
         "gridcolor": "lightgrey",
         "title": {
          "text": "BMI<br><sup><i></i></sup>"
         }
        }
       }
      }
     },
     "metadata": {},
     "output_type": "display_data"
    },
    {
     "data": {
      "application/vnd.plotly.v1+json": {
       "config": {
        "plotlyServerURL": "https://plot.ly"
       },
       "data": [
        {
         "marker": {
          "color": "#604b62",
          "line": {
           "width": 0.3
          },
          "size": 10
         },
         "mode": "markers",
         "name": "All",
         "type": "scatter",
         "x": [
          68.75,
          74.75,
          82,
          90.25,
          79,
          97,
          83,
          69,
          77,
          68.5,
          76.5,
          75.25,
          77.75,
          87.25,
          65.5,
          82,
          69.25,
          65.25,
          68.25,
          88,
          70.5,
          70.75,
          81.75,
          77.5,
          74,
          114.5,
          74.75,
          69.25,
          81.5,
          71.25,
          75.5,
          76.25,
          89,
          78.75,
          80.5,
          77.25,
          66.25,
          81.5,
          75.25,
          83,
          69.25,
          77.25,
          69.25,
          64.75,
          71.75,
          84.25,
          81.5,
          76.75,
          76.75,
          84,
          88,
          84.75,
          94.25,
          59.5,
          76,
          62.5,
          69.5,
          73,
          75,
          104.75,
          80.75,
          65.25,
          76.25,
          75.5,
          61.25,
          76.75,
          91,
          88.5,
          77.25,
          75.75,
          78,
          64.5,
          72.25,
          101,
          68.75,
          80.5,
          75.75,
          88.25,
          74.75,
          68,
          67.25,
          89.75,
          73.75,
          75,
          65.5,
          66.75,
          78.25,
          74.75,
          99.5,
          77.5,
          70,
          87.5,
          74,
          67.25,
          98.25,
          78.5,
          74.5,
          79.25,
          68,
          66.25,
          61.25,
          73.75,
          79.5,
          66.75,
          76.25,
          78.5,
          66,
          81.25,
          71.25,
          89.5,
          62.75,
          81.5,
          72.25,
          68.25,
          60.5,
          72.5,
          69.5,
          71.25,
          94,
          68.5,
          71.25,
          79.5,
          66.5,
          77,
          74.25,
          77.5,
          78.25,
          78.25,
          77,
          84.75,
          82.75,
          64,
          73.5,
          88.75,
          80.5,
          78.75,
          76.5,
          72,
          70.5,
          82.5,
          84.5,
          72.75,
          71.5,
          78.5,
          81,
          79,
          81.25,
          73.25,
          72.75,
          74,
          69.75,
          70,
          70.5,
          72.5,
          72,
          58.25,
          54.5,
          62.25,
          59,
          57.25,
          64.25,
          65,
          78.5,
          99.5,
          90.5,
          60.75,
          82,
          81.75,
          79,
          63.75,
          80.5,
          68.5,
          68,
          69.75,
          67.25,
          71.25,
          72.5,
          76.5,
          79.75,
          90.75,
          83.75,
          61,
          71.25,
          88.25,
          78.75,
          76.5,
          71.25,
          83.5,
          72.75,
          71.5,
          80.25,
          75.5,
          70.75,
          75.5,
          84,
          72,
          80.5,
          81,
          71,
          70.5
         ],
         "y": [
          24.8,
          22.31,
          22.7,
          28.2,
          25.5,
          33.8,
          22.9,
          22.1,
          27.83,
          21.5,
          35.28,
          28.4,
          28.9,
          26.1,
          23,
          28.2,
          25.1,
          28.5,
          25.7,
          36.4,
          23.2,
          37.8,
          34.12,
          42.4,
          30.46,
          43.8,
          23.07,
          31.5,
          30.71,
          25.4,
          39.98,
          23.4,
          28.4,
          20.9,
          33.9,
          27.6,
          29.3,
          26.6,
          25.3,
          30.7,
          18,
          25.08,
          36.42,
          21.98,
          34.13,
          24.54,
          42.1,
          22.92,
          26.18,
          30.49,
          29.29,
          23.78,
          31.05,
          25.77,
          28.31,
          28.87,
          25.43,
          28.25,
          24.84,
          46.48,
          29.17,
          29.91,
          24,
          35.71,
          30.73,
          30.44,
          30.48,
          38.8,
          23.58,
          23.49,
          26.27,
          24.49,
          30.27,
          19.99,
          25.9,
          29.43,
          24.77,
          30.05,
          20.88,
          25.79,
          28.34,
          29.51,
          43.25,
          25.61,
          29.3,
          29.43,
          30.86,
          29.48,
          28.27,
          26.97,
          23.27,
          30.75,
          29.9,
          31.05,
          27.27,
          23.42,
          23.51,
          35.88,
          25.88,
          26.41,
          28.08,
          32.92,
          30.99,
          29.88,
          34.17,
          36.13,
          29.3,
          40.6,
          25.92,
          33.09,
          28.83,
          23.01,
          30.49,
          24.02,
          21.22,
          25.8,
          22.6,
          26.4,
          29.8,
          24.1,
          23.6,
          32.96,
          42.9,
          29,
          29.86,
          18.29,
          25.97,
          31.09,
          36.42,
          26.93,
          38.87,
          25.62,
          28.21,
          34,
          27.07,
          43.77,
          29.5,
          29.9,
          33.1,
          39.35,
          23.55,
          26.82,
          24.1,
          22.3,
          31.57,
          31.1,
          42.4,
          27.8,
          31.9,
          32.34,
          35.18,
          21.6,
          37.9,
          22.6,
          29.76,
          30.34,
          20.33,
          28.67,
          26.4,
          27.81,
          44.4,
          31.52,
          21.86,
          45.7,
          38.6,
          27.6,
          23.7,
          29.96,
          27.56,
          39.9,
          26,
          31.61,
          22.56,
          23.01,
          24.17,
          22.27,
          21.12,
          30.26,
          33.12,
          31.35,
          28.4,
          22.19,
          26.16,
          33,
          26.5,
          26.8,
          33.4,
          36.5,
          24.1,
          26.61,
          23.95,
          27.85,
          42.3,
          41.8,
          32.7,
          31.3,
          34.5,
          22.4,
          21.1,
          27
         ]
        }
       ],
       "layout": {
        "paper_bgcolor": "white",
        "plot_bgcolor": "#F6F8FC",
        "template": {
         "data": {
          "bar": [
           {
            "error_x": {
             "color": "#2a3f5f"
            },
            "error_y": {
             "color": "#2a3f5f"
            },
            "marker": {
             "line": {
              "color": "#E5ECF6",
              "width": 0.5
             },
             "pattern": {
              "fillmode": "overlay",
              "size": 10,
              "solidity": 0.2
             }
            },
            "type": "bar"
           }
          ],
          "barpolar": [
           {
            "marker": {
             "line": {
              "color": "#E5ECF6",
              "width": 0.5
             },
             "pattern": {
              "fillmode": "overlay",
              "size": 10,
              "solidity": 0.2
             }
            },
            "type": "barpolar"
           }
          ],
          "carpet": [
           {
            "aaxis": {
             "endlinecolor": "#2a3f5f",
             "gridcolor": "white",
             "linecolor": "white",
             "minorgridcolor": "white",
             "startlinecolor": "#2a3f5f"
            },
            "baxis": {
             "endlinecolor": "#2a3f5f",
             "gridcolor": "white",
             "linecolor": "white",
             "minorgridcolor": "white",
             "startlinecolor": "#2a3f5f"
            },
            "type": "carpet"
           }
          ],
          "choropleth": [
           {
            "colorbar": {
             "outlinewidth": 0,
             "ticks": ""
            },
            "type": "choropleth"
           }
          ],
          "contour": [
           {
            "colorbar": {
             "outlinewidth": 0,
             "ticks": ""
            },
            "colorscale": [
             [
              0,
              "#0d0887"
             ],
             [
              0.1111111111111111,
              "#46039f"
             ],
             [
              0.2222222222222222,
              "#7201a8"
             ],
             [
              0.3333333333333333,
              "#9c179e"
             ],
             [
              0.4444444444444444,
              "#bd3786"
             ],
             [
              0.5555555555555556,
              "#d8576b"
             ],
             [
              0.6666666666666666,
              "#ed7953"
             ],
             [
              0.7777777777777778,
              "#fb9f3a"
             ],
             [
              0.8888888888888888,
              "#fdca26"
             ],
             [
              1,
              "#f0f921"
             ]
            ],
            "type": "contour"
           }
          ],
          "contourcarpet": [
           {
            "colorbar": {
             "outlinewidth": 0,
             "ticks": ""
            },
            "type": "contourcarpet"
           }
          ],
          "heatmap": [
           {
            "colorbar": {
             "outlinewidth": 0,
             "ticks": ""
            },
            "colorscale": [
             [
              0,
              "#0d0887"
             ],
             [
              0.1111111111111111,
              "#46039f"
             ],
             [
              0.2222222222222222,
              "#7201a8"
             ],
             [
              0.3333333333333333,
              "#9c179e"
             ],
             [
              0.4444444444444444,
              "#bd3786"
             ],
             [
              0.5555555555555556,
              "#d8576b"
             ],
             [
              0.6666666666666666,
              "#ed7953"
             ],
             [
              0.7777777777777778,
              "#fb9f3a"
             ],
             [
              0.8888888888888888,
              "#fdca26"
             ],
             [
              1,
              "#f0f921"
             ]
            ],
            "type": "heatmap"
           }
          ],
          "heatmapgl": [
           {
            "colorbar": {
             "outlinewidth": 0,
             "ticks": ""
            },
            "colorscale": [
             [
              0,
              "#0d0887"
             ],
             [
              0.1111111111111111,
              "#46039f"
             ],
             [
              0.2222222222222222,
              "#7201a8"
             ],
             [
              0.3333333333333333,
              "#9c179e"
             ],
             [
              0.4444444444444444,
              "#bd3786"
             ],
             [
              0.5555555555555556,
              "#d8576b"
             ],
             [
              0.6666666666666666,
              "#ed7953"
             ],
             [
              0.7777777777777778,
              "#fb9f3a"
             ],
             [
              0.8888888888888888,
              "#fdca26"
             ],
             [
              1,
              "#f0f921"
             ]
            ],
            "type": "heatmapgl"
           }
          ],
          "histogram": [
           {
            "marker": {
             "pattern": {
              "fillmode": "overlay",
              "size": 10,
              "solidity": 0.2
             }
            },
            "type": "histogram"
           }
          ],
          "histogram2d": [
           {
            "colorbar": {
             "outlinewidth": 0,
             "ticks": ""
            },
            "colorscale": [
             [
              0,
              "#0d0887"
             ],
             [
              0.1111111111111111,
              "#46039f"
             ],
             [
              0.2222222222222222,
              "#7201a8"
             ],
             [
              0.3333333333333333,
              "#9c179e"
             ],
             [
              0.4444444444444444,
              "#bd3786"
             ],
             [
              0.5555555555555556,
              "#d8576b"
             ],
             [
              0.6666666666666666,
              "#ed7953"
             ],
             [
              0.7777777777777778,
              "#fb9f3a"
             ],
             [
              0.8888888888888888,
              "#fdca26"
             ],
             [
              1,
              "#f0f921"
             ]
            ],
            "type": "histogram2d"
           }
          ],
          "histogram2dcontour": [
           {
            "colorbar": {
             "outlinewidth": 0,
             "ticks": ""
            },
            "colorscale": [
             [
              0,
              "#0d0887"
             ],
             [
              0.1111111111111111,
              "#46039f"
             ],
             [
              0.2222222222222222,
              "#7201a8"
             ],
             [
              0.3333333333333333,
              "#9c179e"
             ],
             [
              0.4444444444444444,
              "#bd3786"
             ],
             [
              0.5555555555555556,
              "#d8576b"
             ],
             [
              0.6666666666666666,
              "#ed7953"
             ],
             [
              0.7777777777777778,
              "#fb9f3a"
             ],
             [
              0.8888888888888888,
              "#fdca26"
             ],
             [
              1,
              "#f0f921"
             ]
            ],
            "type": "histogram2dcontour"
           }
          ],
          "mesh3d": [
           {
            "colorbar": {
             "outlinewidth": 0,
             "ticks": ""
            },
            "type": "mesh3d"
           }
          ],
          "parcoords": [
           {
            "line": {
             "colorbar": {
              "outlinewidth": 0,
              "ticks": ""
             }
            },
            "type": "parcoords"
           }
          ],
          "pie": [
           {
            "automargin": true,
            "type": "pie"
           }
          ],
          "scatter": [
           {
            "fillpattern": {
             "fillmode": "overlay",
             "size": 10,
             "solidity": 0.2
            },
            "type": "scatter"
           }
          ],
          "scatter3d": [
           {
            "line": {
             "colorbar": {
              "outlinewidth": 0,
              "ticks": ""
             }
            },
            "marker": {
             "colorbar": {
              "outlinewidth": 0,
              "ticks": ""
             }
            },
            "type": "scatter3d"
           }
          ],
          "scattercarpet": [
           {
            "marker": {
             "colorbar": {
              "outlinewidth": 0,
              "ticks": ""
             }
            },
            "type": "scattercarpet"
           }
          ],
          "scattergeo": [
           {
            "marker": {
             "colorbar": {
              "outlinewidth": 0,
              "ticks": ""
             }
            },
            "type": "scattergeo"
           }
          ],
          "scattergl": [
           {
            "marker": {
             "colorbar": {
              "outlinewidth": 0,
              "ticks": ""
             }
            },
            "type": "scattergl"
           }
          ],
          "scattermapbox": [
           {
            "marker": {
             "colorbar": {
              "outlinewidth": 0,
              "ticks": ""
             }
            },
            "type": "scattermapbox"
           }
          ],
          "scatterpolar": [
           {
            "marker": {
             "colorbar": {
              "outlinewidth": 0,
              "ticks": ""
             }
            },
            "type": "scatterpolar"
           }
          ],
          "scatterpolargl": [
           {
            "marker": {
             "colorbar": {
              "outlinewidth": 0,
              "ticks": ""
             }
            },
            "type": "scatterpolargl"
           }
          ],
          "scatterternary": [
           {
            "marker": {
             "colorbar": {
              "outlinewidth": 0,
              "ticks": ""
             }
            },
            "type": "scatterternary"
           }
          ],
          "surface": [
           {
            "colorbar": {
             "outlinewidth": 0,
             "ticks": ""
            },
            "colorscale": [
             [
              0,
              "#0d0887"
             ],
             [
              0.1111111111111111,
              "#46039f"
             ],
             [
              0.2222222222222222,
              "#7201a8"
             ],
             [
              0.3333333333333333,
              "#9c179e"
             ],
             [
              0.4444444444444444,
              "#bd3786"
             ],
             [
              0.5555555555555556,
              "#d8576b"
             ],
             [
              0.6666666666666666,
              "#ed7953"
             ],
             [
              0.7777777777777778,
              "#fb9f3a"
             ],
             [
              0.8888888888888888,
              "#fdca26"
             ],
             [
              1,
              "#f0f921"
             ]
            ],
            "type": "surface"
           }
          ],
          "table": [
           {
            "cells": {
             "fill": {
              "color": "#EBF0F8"
             },
             "line": {
              "color": "white"
             }
            },
            "header": {
             "fill": {
              "color": "#C8D4E3"
             },
             "line": {
              "color": "white"
             }
            },
            "type": "table"
           }
          ]
         },
         "layout": {
          "annotationdefaults": {
           "arrowcolor": "#2a3f5f",
           "arrowhead": 0,
           "arrowwidth": 1
          },
          "autotypenumbers": "strict",
          "coloraxis": {
           "colorbar": {
            "outlinewidth": 0,
            "ticks": ""
           }
          },
          "colorscale": {
           "diverging": [
            [
             0,
             "#8e0152"
            ],
            [
             0.1,
             "#c51b7d"
            ],
            [
             0.2,
             "#de77ae"
            ],
            [
             0.3,
             "#f1b6da"
            ],
            [
             0.4,
             "#fde0ef"
            ],
            [
             0.5,
             "#f7f7f7"
            ],
            [
             0.6,
             "#e6f5d0"
            ],
            [
             0.7,
             "#b8e186"
            ],
            [
             0.8,
             "#7fbc41"
            ],
            [
             0.9,
             "#4d9221"
            ],
            [
             1,
             "#276419"
            ]
           ],
           "sequential": [
            [
             0,
             "#0d0887"
            ],
            [
             0.1111111111111111,
             "#46039f"
            ],
            [
             0.2222222222222222,
             "#7201a8"
            ],
            [
             0.3333333333333333,
             "#9c179e"
            ],
            [
             0.4444444444444444,
             "#bd3786"
            ],
            [
             0.5555555555555556,
             "#d8576b"
            ],
            [
             0.6666666666666666,
             "#ed7953"
            ],
            [
             0.7777777777777778,
             "#fb9f3a"
            ],
            [
             0.8888888888888888,
             "#fdca26"
            ],
            [
             1,
             "#f0f921"
            ]
           ],
           "sequentialminus": [
            [
             0,
             "#0d0887"
            ],
            [
             0.1111111111111111,
             "#46039f"
            ],
            [
             0.2222222222222222,
             "#7201a8"
            ],
            [
             0.3333333333333333,
             "#9c179e"
            ],
            [
             0.4444444444444444,
             "#bd3786"
            ],
            [
             0.5555555555555556,
             "#d8576b"
            ],
            [
             0.6666666666666666,
             "#ed7953"
            ],
            [
             0.7777777777777778,
             "#fb9f3a"
            ],
            [
             0.8888888888888888,
             "#fdca26"
            ],
            [
             1,
             "#f0f921"
            ]
           ]
          },
          "colorway": [
           "#636efa",
           "#EF553B",
           "#00cc96",
           "#ab63fa",
           "#FFA15A",
           "#19d3f3",
           "#FF6692",
           "#B6E880",
           "#FF97FF",
           "#FECB52"
          ],
          "font": {
           "color": "#2a3f5f"
          },
          "geo": {
           "bgcolor": "white",
           "lakecolor": "white",
           "landcolor": "#E5ECF6",
           "showlakes": true,
           "showland": true,
           "subunitcolor": "white"
          },
          "hoverlabel": {
           "align": "left"
          },
          "hovermode": "closest",
          "mapbox": {
           "style": "light"
          },
          "paper_bgcolor": "white",
          "plot_bgcolor": "#E5ECF6",
          "polar": {
           "angularaxis": {
            "gridcolor": "white",
            "linecolor": "white",
            "ticks": ""
           },
           "bgcolor": "#E5ECF6",
           "radialaxis": {
            "gridcolor": "white",
            "linecolor": "white",
            "ticks": ""
           }
          },
          "scene": {
           "xaxis": {
            "backgroundcolor": "#E5ECF6",
            "gridcolor": "white",
            "gridwidth": 2,
            "linecolor": "white",
            "showbackground": true,
            "ticks": "",
            "zerolinecolor": "white"
           },
           "yaxis": {
            "backgroundcolor": "#E5ECF6",
            "gridcolor": "white",
            "gridwidth": 2,
            "linecolor": "white",
            "showbackground": true,
            "ticks": "",
            "zerolinecolor": "white"
           },
           "zaxis": {
            "backgroundcolor": "#E5ECF6",
            "gridcolor": "white",
            "gridwidth": 2,
            "linecolor": "white",
            "showbackground": true,
            "ticks": "",
            "zerolinecolor": "white"
           }
          },
          "shapedefaults": {
           "line": {
            "color": "#2a3f5f"
           }
          },
          "ternary": {
           "aaxis": {
            "gridcolor": "white",
            "linecolor": "white",
            "ticks": ""
           },
           "baxis": {
            "gridcolor": "white",
            "linecolor": "white",
            "ticks": ""
           },
           "bgcolor": "#E5ECF6",
           "caxis": {
            "gridcolor": "white",
            "linecolor": "white",
            "ticks": ""
           }
          },
          "title": {
           "x": 0.05
          },
          "xaxis": {
           "automargin": true,
           "gridcolor": "white",
           "linecolor": "white",
           "ticks": "",
           "title": {
            "standoff": 15
           },
           "zerolinecolor": "white",
           "zerolinewidth": 2
          },
          "yaxis": {
           "automargin": true,
           "gridcolor": "white",
           "linecolor": "white",
           "ticks": "",
           "title": {
            "standoff": 15
           },
           "zerolinecolor": "white",
           "zerolinewidth": 2
          }
         }
        },
        "title": {
         "text": "Diastolic vs BMI",
         "x": 0,
         "xref": "paper"
        },
        "xaxis": {
         "title": {
          "text": "Diastolic<br><sup><i></i></sup>"
         }
        },
        "yaxis": {
         "gridcolor": "lightgrey",
         "title": {
          "text": "BMI<br><sup><i></i></sup>"
         }
        }
       }
      }
     },
     "metadata": {},
     "output_type": "display_data"
    },
    {
     "data": {
      "application/vnd.plotly.v1+json": {
       "config": {
        "plotlyServerURL": "https://plot.ly"
       },
       "data": [
        {
         "marker": {
          "color": "#604b62",
          "line": {
           "width": 0.3
          },
          "size": 10
         },
         "mode": "markers",
         "name": "All",
         "type": "scatter",
         "x": [
          106.75,
          100.25,
          116,
          135.5,
          116.5,
          136.5,
          109.5,
          87,
          115,
          106.5,
          123.5,
          128.75,
          111.5,
          129.5,
          108.25,
          123.5,
          102.75,
          99.75,
          108.5,
          126,
          109.25,
          116,
          103.5,
          115,
          116.75,
          192.75,
          111.5,
          105,
          117,
          116.25,
          120.5,
          112.75,
          128,
          104,
          130.5,
          118.25,
          109.25,
          132.5,
          121.25,
          123.5,
          106,
          120,
          119,
          108.75,
          114,
          98.5,
          119,
          110.25,
          116.25,
          122.75,
          129,
          118.25,
          148.25,
          97.75,
          126.5,
          111,
          104.5,
          103.5,
          120.25,
          182.5,
          120,
          115.75,
          117,
          126.25,
          112.75,
          117.5,
          138,
          132.75,
          113.75,
          106,
          117,
          98,
          119.5,
          141.75,
          108.5,
          113.25,
          108.5,
          128,
          112.75,
          109,
          112,
          131.25,
          123.5,
          110.75,
          113,
          109.75,
          133.75,
          127,
          164.25,
          120.25,
          109,
          130.75,
          118.5,
          108,
          152.25,
          128.25,
          134.25,
          128,
          113,
          109.75,
          111.25,
          117,
          122.75,
          97.75,
          113.5,
          124.25,
          120,
          122.75,
          115.5,
          131.25,
          106.5,
          126.5,
          110,
          109.75,
          98.5,
          116.75,
          112.25,
          112,
          128.25,
          106.5,
          106.25,
          118,
          116.75,
          110,
          121,
          117,
          117,
          121,
          116,
          126.5,
          117,
          106.5,
          122.75,
          140,
          125.25,
          122,
          121.25,
          113,
          113,
          126.5,
          115.25,
          107.5,
          124.25,
          111.5,
          124.25,
          121,
          124.25,
          102,
          122.25,
          114.5,
          121.25,
          104.75,
          113.5,
          114,
          129.25,
          118,
          102.5,
          119.5,
          115.25,
          113.5,
          123.75,
          126,
          111.5,
          136,
          138,
          100.5,
          115.5,
          117.5,
          108.5,
          126.25,
          122,
          127.5,
          100.5,
          96.5,
          109.5,
          97,
          119.5,
          115.75,
          124.25,
          137.5,
          125.25,
          120.5,
          118,
          127,
          122,
          110.25,
          104.25,
          129.5,
          108.75,
          113,
          126.75,
          122.25,
          110.25,
          113.25,
          133.5,
          124.75,
          125.75,
          117.5,
          106.25,
          105
         ],
         "y": [
          98.64094301736165,
          97.02633636617229,
          131.25307410617972,
          112.59956336395705,
          111.81136642040936,
          122.02426558307246,
          110.87329487427813,
          97.3210256232535,
          100.93882792039533,
          94.93419156216439,
          86.99403329709253,
          96.51939099767704,
          120.62462380552228,
          114.99764877812075,
          134.5833305282209,
          104.8209037109621,
          83.71821023495698,
          112.44197283733173,
          120.72158371864322,
          109.91879509173201,
          71.96171773800455,
          116.27275720662647,
          154.09627680573644,
          92.30381482896922,
          87.10887728005106,
          80.10800280260891,
          130.22114989157984,
          125.03703932378372,
          111.65487902747041,
          90.00649824445149,
          98.72801662307242,
          111.74462892287721,
          115.16970724706022,
          113.23461514333509,
          125.03703932378372,
          136.26189055889736,
          115.45884790618007,
          105.28409454967425,
          104.3038694544322,
          111.5667855180877,
          91.7399551566162,
          103.57374236825119,
          94.26965222122924,
          114.68719797673734,
          87.15080071622504,
          138.0467397686443,
          96.34628320101412,
          118.5142846390119,
          96.26124721146479,
          102.63503745230742,
          96.58394959877714,
          114.04514440269091,
          90.08415529082254,
          117.56849918800462,
          53.22623852145265,
          116.74551969368859,
          120.64482139741061,
          133.202721970854,
          133.4816906993428,
          106.04766556000983,
          113.56297466125648,
          114.68719797673734,
          74.01240684949508,
          119.34973276839064,
          113.74204520552081,
          129.78326416043672,
          111.97865760175729,
          109.33829326507201,
          121.57259186167494,
          90.2661956593518,
          94.91830655161765,
          118.12133034837373,
          83.16562608915285,
          85.77254967419255,
          77.25170937955588,
          114.8367019725542,
          112.3532583263723,
          79.56372797178727,
          84.14292870104227,
          97.26480322132643,
          114.19266523667389,
          110.41644334955518,
          96.35019982267895,
          104.08715738498536,
          127.54225572839307,
          120.32293525255506,
          114.73724659577269,
          71.50093897853273,
          93.96214438458037,
          87.9536798657601,
          108.11389138354683,
          103.08856921358547,
          109.91879509173201,
          105.28409454967425,
          124.08048200146126,
          107.357094143862,
          120.12759209588316,
          115.35256607381156,
          119.79255630133365,
          116.62467968439778,
          88.95822141118063,
          128.77768678096024,
          106.04766556000983,
          90.44367521797939,
          108.38531798140725,
          96.93234809114362,
          101.45190854391176,
          122.33126731584565,
          92.6512785082711,
          110.5917552589763,
          135.945000743454,
          96.58394959877714,
          99.53063033207788,
          111.97865760175729,
          91.09777547051989,
          117.46568311828285,
          104.8209037109621,
          97.95045641624012,
          122.62964846723871,
          105.7796006632857,
          87.47549275568174,
          111.89429264641988,
          115.16970724706022,
          95.90786195158572,
          108.5729252122165,
          96.63977844389072,
          120.53779965692873,
          103.35854728329046,
          124.01961986624525,
          78.31061479133724,
          102.63503745230742,
          111.47396842523244,
          68.69178151945655,
          113.84808151904096,
          117.28243277100233,
          110.87329487427813,
          101.45190854391176,
          127.43650996755292,
          94.81958584312463,
          74.52734254031242,
          85.33341517616495,
          109.47972564514588,
          137.2855110958635,
          103.35854728329046,
          114.8367019725542,
          79.0564783575828,
          118.8561768139149,
          104.54710588782653,
          109.56092258212172,
          109.64352824610829,
          116.79917250264462,
          85.77254967419255,
          91.44159409707842,
          114.54509811129488,
          139.44893603659125,
          76.1215343357795,
          103.49698260360863,
          93.69378376646617,
          127.01331199726437,
          102.21186901647883,
          107.41116585132062,
          91.499280034521,
          75.5817840090223,
          120.49695478060238,
          130.33430258743647,
          105.91267267652884,
          115.82691937309967,
          111.66692188897707,
          101.65038058448674,
          101.45190854391176,
          106.30881676225282,
          90.73899722841887,
          117.37670617997415,
          112.59956336395705,
          94.25387840575632,
          110.59599490982593,
          93.69378376646617,
          96.36377036800566,
          80.55612033044127,
          128.77768678096024,
          78.94476125255879,
          108.03243815117852,
          77.19853104235135,
          82.33400790068788,
          136.26189055889736,
          114.65063597083682,
          129.58937368125444,
          118.64329415651574,
          98.64094301736165,
          115.82691937309967,
          96.58394959877714,
          134.36090092371018,
          124.3646598366194,
          122.02531035735045,
          115.82691937309967,
          96.95604931444339,
          71.9551492139095,
          112.95140939221523,
          99.99905850284853,
          116.30983650583018
         ]
        }
       ],
       "layout": {
        "paper_bgcolor": "white",
        "plot_bgcolor": "#F6F8FC",
        "template": {
         "data": {
          "bar": [
           {
            "error_x": {
             "color": "#2a3f5f"
            },
            "error_y": {
             "color": "#2a3f5f"
            },
            "marker": {
             "line": {
              "color": "#E5ECF6",
              "width": 0.5
             },
             "pattern": {
              "fillmode": "overlay",
              "size": 10,
              "solidity": 0.2
             }
            },
            "type": "bar"
           }
          ],
          "barpolar": [
           {
            "marker": {
             "line": {
              "color": "#E5ECF6",
              "width": 0.5
             },
             "pattern": {
              "fillmode": "overlay",
              "size": 10,
              "solidity": 0.2
             }
            },
            "type": "barpolar"
           }
          ],
          "carpet": [
           {
            "aaxis": {
             "endlinecolor": "#2a3f5f",
             "gridcolor": "white",
             "linecolor": "white",
             "minorgridcolor": "white",
             "startlinecolor": "#2a3f5f"
            },
            "baxis": {
             "endlinecolor": "#2a3f5f",
             "gridcolor": "white",
             "linecolor": "white",
             "minorgridcolor": "white",
             "startlinecolor": "#2a3f5f"
            },
            "type": "carpet"
           }
          ],
          "choropleth": [
           {
            "colorbar": {
             "outlinewidth": 0,
             "ticks": ""
            },
            "type": "choropleth"
           }
          ],
          "contour": [
           {
            "colorbar": {
             "outlinewidth": 0,
             "ticks": ""
            },
            "colorscale": [
             [
              0,
              "#0d0887"
             ],
             [
              0.1111111111111111,
              "#46039f"
             ],
             [
              0.2222222222222222,
              "#7201a8"
             ],
             [
              0.3333333333333333,
              "#9c179e"
             ],
             [
              0.4444444444444444,
              "#bd3786"
             ],
             [
              0.5555555555555556,
              "#d8576b"
             ],
             [
              0.6666666666666666,
              "#ed7953"
             ],
             [
              0.7777777777777778,
              "#fb9f3a"
             ],
             [
              0.8888888888888888,
              "#fdca26"
             ],
             [
              1,
              "#f0f921"
             ]
            ],
            "type": "contour"
           }
          ],
          "contourcarpet": [
           {
            "colorbar": {
             "outlinewidth": 0,
             "ticks": ""
            },
            "type": "contourcarpet"
           }
          ],
          "heatmap": [
           {
            "colorbar": {
             "outlinewidth": 0,
             "ticks": ""
            },
            "colorscale": [
             [
              0,
              "#0d0887"
             ],
             [
              0.1111111111111111,
              "#46039f"
             ],
             [
              0.2222222222222222,
              "#7201a8"
             ],
             [
              0.3333333333333333,
              "#9c179e"
             ],
             [
              0.4444444444444444,
              "#bd3786"
             ],
             [
              0.5555555555555556,
              "#d8576b"
             ],
             [
              0.6666666666666666,
              "#ed7953"
             ],
             [
              0.7777777777777778,
              "#fb9f3a"
             ],
             [
              0.8888888888888888,
              "#fdca26"
             ],
             [
              1,
              "#f0f921"
             ]
            ],
            "type": "heatmap"
           }
          ],
          "heatmapgl": [
           {
            "colorbar": {
             "outlinewidth": 0,
             "ticks": ""
            },
            "colorscale": [
             [
              0,
              "#0d0887"
             ],
             [
              0.1111111111111111,
              "#46039f"
             ],
             [
              0.2222222222222222,
              "#7201a8"
             ],
             [
              0.3333333333333333,
              "#9c179e"
             ],
             [
              0.4444444444444444,
              "#bd3786"
             ],
             [
              0.5555555555555556,
              "#d8576b"
             ],
             [
              0.6666666666666666,
              "#ed7953"
             ],
             [
              0.7777777777777778,
              "#fb9f3a"
             ],
             [
              0.8888888888888888,
              "#fdca26"
             ],
             [
              1,
              "#f0f921"
             ]
            ],
            "type": "heatmapgl"
           }
          ],
          "histogram": [
           {
            "marker": {
             "pattern": {
              "fillmode": "overlay",
              "size": 10,
              "solidity": 0.2
             }
            },
            "type": "histogram"
           }
          ],
          "histogram2d": [
           {
            "colorbar": {
             "outlinewidth": 0,
             "ticks": ""
            },
            "colorscale": [
             [
              0,
              "#0d0887"
             ],
             [
              0.1111111111111111,
              "#46039f"
             ],
             [
              0.2222222222222222,
              "#7201a8"
             ],
             [
              0.3333333333333333,
              "#9c179e"
             ],
             [
              0.4444444444444444,
              "#bd3786"
             ],
             [
              0.5555555555555556,
              "#d8576b"
             ],
             [
              0.6666666666666666,
              "#ed7953"
             ],
             [
              0.7777777777777778,
              "#fb9f3a"
             ],
             [
              0.8888888888888888,
              "#fdca26"
             ],
             [
              1,
              "#f0f921"
             ]
            ],
            "type": "histogram2d"
           }
          ],
          "histogram2dcontour": [
           {
            "colorbar": {
             "outlinewidth": 0,
             "ticks": ""
            },
            "colorscale": [
             [
              0,
              "#0d0887"
             ],
             [
              0.1111111111111111,
              "#46039f"
             ],
             [
              0.2222222222222222,
              "#7201a8"
             ],
             [
              0.3333333333333333,
              "#9c179e"
             ],
             [
              0.4444444444444444,
              "#bd3786"
             ],
             [
              0.5555555555555556,
              "#d8576b"
             ],
             [
              0.6666666666666666,
              "#ed7953"
             ],
             [
              0.7777777777777778,
              "#fb9f3a"
             ],
             [
              0.8888888888888888,
              "#fdca26"
             ],
             [
              1,
              "#f0f921"
             ]
            ],
            "type": "histogram2dcontour"
           }
          ],
          "mesh3d": [
           {
            "colorbar": {
             "outlinewidth": 0,
             "ticks": ""
            },
            "type": "mesh3d"
           }
          ],
          "parcoords": [
           {
            "line": {
             "colorbar": {
              "outlinewidth": 0,
              "ticks": ""
             }
            },
            "type": "parcoords"
           }
          ],
          "pie": [
           {
            "automargin": true,
            "type": "pie"
           }
          ],
          "scatter": [
           {
            "fillpattern": {
             "fillmode": "overlay",
             "size": 10,
             "solidity": 0.2
            },
            "type": "scatter"
           }
          ],
          "scatter3d": [
           {
            "line": {
             "colorbar": {
              "outlinewidth": 0,
              "ticks": ""
             }
            },
            "marker": {
             "colorbar": {
              "outlinewidth": 0,
              "ticks": ""
             }
            },
            "type": "scatter3d"
           }
          ],
          "scattercarpet": [
           {
            "marker": {
             "colorbar": {
              "outlinewidth": 0,
              "ticks": ""
             }
            },
            "type": "scattercarpet"
           }
          ],
          "scattergeo": [
           {
            "marker": {
             "colorbar": {
              "outlinewidth": 0,
              "ticks": ""
             }
            },
            "type": "scattergeo"
           }
          ],
          "scattergl": [
           {
            "marker": {
             "colorbar": {
              "outlinewidth": 0,
              "ticks": ""
             }
            },
            "type": "scattergl"
           }
          ],
          "scattermapbox": [
           {
            "marker": {
             "colorbar": {
              "outlinewidth": 0,
              "ticks": ""
             }
            },
            "type": "scattermapbox"
           }
          ],
          "scatterpolar": [
           {
            "marker": {
             "colorbar": {
              "outlinewidth": 0,
              "ticks": ""
             }
            },
            "type": "scatterpolar"
           }
          ],
          "scatterpolargl": [
           {
            "marker": {
             "colorbar": {
              "outlinewidth": 0,
              "ticks": ""
             }
            },
            "type": "scatterpolargl"
           }
          ],
          "scatterternary": [
           {
            "marker": {
             "colorbar": {
              "outlinewidth": 0,
              "ticks": ""
             }
            },
            "type": "scatterternary"
           }
          ],
          "surface": [
           {
            "colorbar": {
             "outlinewidth": 0,
             "ticks": ""
            },
            "colorscale": [
             [
              0,
              "#0d0887"
             ],
             [
              0.1111111111111111,
              "#46039f"
             ],
             [
              0.2222222222222222,
              "#7201a8"
             ],
             [
              0.3333333333333333,
              "#9c179e"
             ],
             [
              0.4444444444444444,
              "#bd3786"
             ],
             [
              0.5555555555555556,
              "#d8576b"
             ],
             [
              0.6666666666666666,
              "#ed7953"
             ],
             [
              0.7777777777777778,
              "#fb9f3a"
             ],
             [
              0.8888888888888888,
              "#fdca26"
             ],
             [
              1,
              "#f0f921"
             ]
            ],
            "type": "surface"
           }
          ],
          "table": [
           {
            "cells": {
             "fill": {
              "color": "#EBF0F8"
             },
             "line": {
              "color": "white"
             }
            },
            "header": {
             "fill": {
              "color": "#C8D4E3"
             },
             "line": {
              "color": "white"
             }
            },
            "type": "table"
           }
          ]
         },
         "layout": {
          "annotationdefaults": {
           "arrowcolor": "#2a3f5f",
           "arrowhead": 0,
           "arrowwidth": 1
          },
          "autotypenumbers": "strict",
          "coloraxis": {
           "colorbar": {
            "outlinewidth": 0,
            "ticks": ""
           }
          },
          "colorscale": {
           "diverging": [
            [
             0,
             "#8e0152"
            ],
            [
             0.1,
             "#c51b7d"
            ],
            [
             0.2,
             "#de77ae"
            ],
            [
             0.3,
             "#f1b6da"
            ],
            [
             0.4,
             "#fde0ef"
            ],
            [
             0.5,
             "#f7f7f7"
            ],
            [
             0.6,
             "#e6f5d0"
            ],
            [
             0.7,
             "#b8e186"
            ],
            [
             0.8,
             "#7fbc41"
            ],
            [
             0.9,
             "#4d9221"
            ],
            [
             1,
             "#276419"
            ]
           ],
           "sequential": [
            [
             0,
             "#0d0887"
            ],
            [
             0.1111111111111111,
             "#46039f"
            ],
            [
             0.2222222222222222,
             "#7201a8"
            ],
            [
             0.3333333333333333,
             "#9c179e"
            ],
            [
             0.4444444444444444,
             "#bd3786"
            ],
            [
             0.5555555555555556,
             "#d8576b"
            ],
            [
             0.6666666666666666,
             "#ed7953"
            ],
            [
             0.7777777777777778,
             "#fb9f3a"
            ],
            [
             0.8888888888888888,
             "#fdca26"
            ],
            [
             1,
             "#f0f921"
            ]
           ],
           "sequentialminus": [
            [
             0,
             "#0d0887"
            ],
            [
             0.1111111111111111,
             "#46039f"
            ],
            [
             0.2222222222222222,
             "#7201a8"
            ],
            [
             0.3333333333333333,
             "#9c179e"
            ],
            [
             0.4444444444444444,
             "#bd3786"
            ],
            [
             0.5555555555555556,
             "#d8576b"
            ],
            [
             0.6666666666666666,
             "#ed7953"
            ],
            [
             0.7777777777777778,
             "#fb9f3a"
            ],
            [
             0.8888888888888888,
             "#fdca26"
            ],
            [
             1,
             "#f0f921"
            ]
           ]
          },
          "colorway": [
           "#636efa",
           "#EF553B",
           "#00cc96",
           "#ab63fa",
           "#FFA15A",
           "#19d3f3",
           "#FF6692",
           "#B6E880",
           "#FF97FF",
           "#FECB52"
          ],
          "font": {
           "color": "#2a3f5f"
          },
          "geo": {
           "bgcolor": "white",
           "lakecolor": "white",
           "landcolor": "#E5ECF6",
           "showlakes": true,
           "showland": true,
           "subunitcolor": "white"
          },
          "hoverlabel": {
           "align": "left"
          },
          "hovermode": "closest",
          "mapbox": {
           "style": "light"
          },
          "paper_bgcolor": "white",
          "plot_bgcolor": "#E5ECF6",
          "polar": {
           "angularaxis": {
            "gridcolor": "white",
            "linecolor": "white",
            "ticks": ""
           },
           "bgcolor": "#E5ECF6",
           "radialaxis": {
            "gridcolor": "white",
            "linecolor": "white",
            "ticks": ""
           }
          },
          "scene": {
           "xaxis": {
            "backgroundcolor": "#E5ECF6",
            "gridcolor": "white",
            "gridwidth": 2,
            "linecolor": "white",
            "showbackground": true,
            "ticks": "",
            "zerolinecolor": "white"
           },
           "yaxis": {
            "backgroundcolor": "#E5ECF6",
            "gridcolor": "white",
            "gridwidth": 2,
            "linecolor": "white",
            "showbackground": true,
            "ticks": "",
            "zerolinecolor": "white"
           },
           "zaxis": {
            "backgroundcolor": "#E5ECF6",
            "gridcolor": "white",
            "gridwidth": 2,
            "linecolor": "white",
            "showbackground": true,
            "ticks": "",
            "zerolinecolor": "white"
           }
          },
          "shapedefaults": {
           "line": {
            "color": "#2a3f5f"
           }
          },
          "ternary": {
           "aaxis": {
            "gridcolor": "white",
            "linecolor": "white",
            "ticks": ""
           },
           "baxis": {
            "gridcolor": "white",
            "linecolor": "white",
            "ticks": ""
           },
           "bgcolor": "#E5ECF6",
           "caxis": {
            "gridcolor": "white",
            "linecolor": "white",
            "ticks": ""
           }
          },
          "title": {
           "x": 0.05
          },
          "xaxis": {
           "automargin": true,
           "gridcolor": "white",
           "linecolor": "white",
           "ticks": "",
           "title": {
            "standoff": 15
           },
           "zerolinecolor": "white",
           "zerolinewidth": 2
          },
          "yaxis": {
           "automargin": true,
           "gridcolor": "white",
           "linecolor": "white",
           "ticks": "",
           "title": {
            "standoff": 15
           },
           "zerolinecolor": "white",
           "zerolinewidth": 2
          }
         }
        },
        "title": {
         "text": "Systolic vs eGFR",
         "x": 0,
         "xref": "paper"
        },
        "xaxis": {
         "title": {
          "text": "Systolic<br><sup><i></i></sup>"
         }
        },
        "yaxis": {
         "gridcolor": "lightgrey",
         "title": {
          "text": "eGFR<br><sup><i>ml/minute/1.73m^2</i></sup>"
         }
        }
       }
      }
     },
     "metadata": {},
     "output_type": "display_data"
    },
    {
     "data": {
      "application/vnd.plotly.v1+json": {
       "config": {
        "plotlyServerURL": "https://plot.ly"
       },
       "data": [
        {
         "marker": {
          "color": "#604b62",
          "line": {
           "width": 0.3
          },
          "size": 10
         },
         "mode": "markers",
         "name": "All",
         "type": "scatter",
         "x": [
          68.75,
          74.75,
          82,
          90.25,
          79,
          97,
          83,
          69,
          77,
          68.5,
          76.5,
          75.25,
          77.75,
          87.25,
          65.5,
          82,
          69.25,
          65.25,
          68.25,
          88,
          70.5,
          70.75,
          81.75,
          77.5,
          74,
          114.5,
          74.75,
          69.25,
          81.5,
          71.25,
          75.5,
          76.25,
          89,
          78.75,
          80.5,
          77.25,
          66.25,
          81.5,
          75.25,
          83,
          69.25,
          77.25,
          69.25,
          64.75,
          71.75,
          84.25,
          81.5,
          76.75,
          76.75,
          84,
          88,
          84.75,
          94.25,
          59.5,
          76,
          62.5,
          69.5,
          73,
          75,
          104.75,
          80.75,
          65.25,
          76.25,
          75.5,
          61.25,
          76.75,
          91,
          88.5,
          77.25,
          75.75,
          78,
          64.5,
          72.25,
          101,
          68.75,
          80.5,
          75.75,
          88.25,
          74.75,
          68,
          67.25,
          89.75,
          73.75,
          75,
          65.5,
          66.75,
          78.25,
          74.75,
          99.5,
          77.5,
          70,
          87.5,
          74,
          67.25,
          98.25,
          78.5,
          74.5,
          79.25,
          68,
          66.25,
          61.25,
          73.75,
          79.5,
          66.75,
          76.25,
          78.5,
          66,
          81.25,
          71.25,
          89.5,
          62.75,
          81.5,
          72.25,
          68.25,
          60.5,
          72.5,
          69.5,
          71.25,
          94,
          68.5,
          71.25,
          79.5,
          66.5,
          77,
          74.25,
          77.5,
          78.25,
          78.25,
          77,
          84.75,
          82.75,
          64,
          73.5,
          88.75,
          80.5,
          78.75,
          76.5,
          72,
          70.5,
          82.5,
          84.5,
          72.75,
          71.5,
          78.5,
          81,
          79,
          81.25,
          73.25,
          72.75,
          74,
          69.75,
          70,
          70.5,
          72.5,
          72,
          58.25,
          54.5,
          62.25,
          59,
          57.25,
          64.25,
          65,
          78.5,
          99.5,
          90.5,
          60.75,
          82,
          81.75,
          79,
          63.75,
          80.5,
          68.5,
          68,
          69.75,
          67.25,
          71.25,
          72.5,
          76.5,
          79.75,
          90.75,
          83.75,
          61,
          71.25,
          88.25,
          78.75,
          76.5,
          71.25,
          83.5,
          72.75,
          71.5,
          80.25,
          75.5,
          70.75,
          75.5,
          84,
          72,
          80.5,
          81,
          71,
          70.5
         ],
         "y": [
          98.64094301736165,
          97.02633636617229,
          131.25307410617972,
          112.59956336395705,
          111.81136642040936,
          122.02426558307246,
          110.87329487427813,
          97.3210256232535,
          100.93882792039533,
          94.93419156216439,
          86.99403329709253,
          96.51939099767704,
          120.62462380552228,
          114.99764877812075,
          134.5833305282209,
          104.8209037109621,
          83.71821023495698,
          112.44197283733173,
          120.72158371864322,
          109.91879509173201,
          71.96171773800455,
          116.27275720662647,
          154.09627680573644,
          92.30381482896922,
          87.10887728005106,
          80.10800280260891,
          130.22114989157984,
          125.03703932378372,
          111.65487902747041,
          90.00649824445149,
          98.72801662307242,
          111.74462892287721,
          115.16970724706022,
          113.23461514333509,
          125.03703932378372,
          136.26189055889736,
          115.45884790618007,
          105.28409454967425,
          104.3038694544322,
          111.5667855180877,
          91.7399551566162,
          103.57374236825119,
          94.26965222122924,
          114.68719797673734,
          87.15080071622504,
          138.0467397686443,
          96.34628320101412,
          118.5142846390119,
          96.26124721146479,
          102.63503745230742,
          96.58394959877714,
          114.04514440269091,
          90.08415529082254,
          117.56849918800462,
          53.22623852145265,
          116.74551969368859,
          120.64482139741061,
          133.202721970854,
          133.4816906993428,
          106.04766556000983,
          113.56297466125648,
          114.68719797673734,
          74.01240684949508,
          119.34973276839064,
          113.74204520552081,
          129.78326416043672,
          111.97865760175729,
          109.33829326507201,
          121.57259186167494,
          90.2661956593518,
          94.91830655161765,
          118.12133034837373,
          83.16562608915285,
          85.77254967419255,
          77.25170937955588,
          114.8367019725542,
          112.3532583263723,
          79.56372797178727,
          84.14292870104227,
          97.26480322132643,
          114.19266523667389,
          110.41644334955518,
          96.35019982267895,
          104.08715738498536,
          127.54225572839307,
          120.32293525255506,
          114.73724659577269,
          71.50093897853273,
          93.96214438458037,
          87.9536798657601,
          108.11389138354683,
          103.08856921358547,
          109.91879509173201,
          105.28409454967425,
          124.08048200146126,
          107.357094143862,
          120.12759209588316,
          115.35256607381156,
          119.79255630133365,
          116.62467968439778,
          88.95822141118063,
          128.77768678096024,
          106.04766556000983,
          90.44367521797939,
          108.38531798140725,
          96.93234809114362,
          101.45190854391176,
          122.33126731584565,
          92.6512785082711,
          110.5917552589763,
          135.945000743454,
          96.58394959877714,
          99.53063033207788,
          111.97865760175729,
          91.09777547051989,
          117.46568311828285,
          104.8209037109621,
          97.95045641624012,
          122.62964846723871,
          105.7796006632857,
          87.47549275568174,
          111.89429264641988,
          115.16970724706022,
          95.90786195158572,
          108.5729252122165,
          96.63977844389072,
          120.53779965692873,
          103.35854728329046,
          124.01961986624525,
          78.31061479133724,
          102.63503745230742,
          111.47396842523244,
          68.69178151945655,
          113.84808151904096,
          117.28243277100233,
          110.87329487427813,
          101.45190854391176,
          127.43650996755292,
          94.81958584312463,
          74.52734254031242,
          85.33341517616495,
          109.47972564514588,
          137.2855110958635,
          103.35854728329046,
          114.8367019725542,
          79.0564783575828,
          118.8561768139149,
          104.54710588782653,
          109.56092258212172,
          109.64352824610829,
          116.79917250264462,
          85.77254967419255,
          91.44159409707842,
          114.54509811129488,
          139.44893603659125,
          76.1215343357795,
          103.49698260360863,
          93.69378376646617,
          127.01331199726437,
          102.21186901647883,
          107.41116585132062,
          91.499280034521,
          75.5817840090223,
          120.49695478060238,
          130.33430258743647,
          105.91267267652884,
          115.82691937309967,
          111.66692188897707,
          101.65038058448674,
          101.45190854391176,
          106.30881676225282,
          90.73899722841887,
          117.37670617997415,
          112.59956336395705,
          94.25387840575632,
          110.59599490982593,
          93.69378376646617,
          96.36377036800566,
          80.55612033044127,
          128.77768678096024,
          78.94476125255879,
          108.03243815117852,
          77.19853104235135,
          82.33400790068788,
          136.26189055889736,
          114.65063597083682,
          129.58937368125444,
          118.64329415651574,
          98.64094301736165,
          115.82691937309967,
          96.58394959877714,
          134.36090092371018,
          124.3646598366194,
          122.02531035735045,
          115.82691937309967,
          96.95604931444339,
          71.9551492139095,
          112.95140939221523,
          99.99905850284853,
          116.30983650583018
         ]
        }
       ],
       "layout": {
        "paper_bgcolor": "white",
        "plot_bgcolor": "#F6F8FC",
        "template": {
         "data": {
          "bar": [
           {
            "error_x": {
             "color": "#2a3f5f"
            },
            "error_y": {
             "color": "#2a3f5f"
            },
            "marker": {
             "line": {
              "color": "#E5ECF6",
              "width": 0.5
             },
             "pattern": {
              "fillmode": "overlay",
              "size": 10,
              "solidity": 0.2
             }
            },
            "type": "bar"
           }
          ],
          "barpolar": [
           {
            "marker": {
             "line": {
              "color": "#E5ECF6",
              "width": 0.5
             },
             "pattern": {
              "fillmode": "overlay",
              "size": 10,
              "solidity": 0.2
             }
            },
            "type": "barpolar"
           }
          ],
          "carpet": [
           {
            "aaxis": {
             "endlinecolor": "#2a3f5f",
             "gridcolor": "white",
             "linecolor": "white",
             "minorgridcolor": "white",
             "startlinecolor": "#2a3f5f"
            },
            "baxis": {
             "endlinecolor": "#2a3f5f",
             "gridcolor": "white",
             "linecolor": "white",
             "minorgridcolor": "white",
             "startlinecolor": "#2a3f5f"
            },
            "type": "carpet"
           }
          ],
          "choropleth": [
           {
            "colorbar": {
             "outlinewidth": 0,
             "ticks": ""
            },
            "type": "choropleth"
           }
          ],
          "contour": [
           {
            "colorbar": {
             "outlinewidth": 0,
             "ticks": ""
            },
            "colorscale": [
             [
              0,
              "#0d0887"
             ],
             [
              0.1111111111111111,
              "#46039f"
             ],
             [
              0.2222222222222222,
              "#7201a8"
             ],
             [
              0.3333333333333333,
              "#9c179e"
             ],
             [
              0.4444444444444444,
              "#bd3786"
             ],
             [
              0.5555555555555556,
              "#d8576b"
             ],
             [
              0.6666666666666666,
              "#ed7953"
             ],
             [
              0.7777777777777778,
              "#fb9f3a"
             ],
             [
              0.8888888888888888,
              "#fdca26"
             ],
             [
              1,
              "#f0f921"
             ]
            ],
            "type": "contour"
           }
          ],
          "contourcarpet": [
           {
            "colorbar": {
             "outlinewidth": 0,
             "ticks": ""
            },
            "type": "contourcarpet"
           }
          ],
          "heatmap": [
           {
            "colorbar": {
             "outlinewidth": 0,
             "ticks": ""
            },
            "colorscale": [
             [
              0,
              "#0d0887"
             ],
             [
              0.1111111111111111,
              "#46039f"
             ],
             [
              0.2222222222222222,
              "#7201a8"
             ],
             [
              0.3333333333333333,
              "#9c179e"
             ],
             [
              0.4444444444444444,
              "#bd3786"
             ],
             [
              0.5555555555555556,
              "#d8576b"
             ],
             [
              0.6666666666666666,
              "#ed7953"
             ],
             [
              0.7777777777777778,
              "#fb9f3a"
             ],
             [
              0.8888888888888888,
              "#fdca26"
             ],
             [
              1,
              "#f0f921"
             ]
            ],
            "type": "heatmap"
           }
          ],
          "heatmapgl": [
           {
            "colorbar": {
             "outlinewidth": 0,
             "ticks": ""
            },
            "colorscale": [
             [
              0,
              "#0d0887"
             ],
             [
              0.1111111111111111,
              "#46039f"
             ],
             [
              0.2222222222222222,
              "#7201a8"
             ],
             [
              0.3333333333333333,
              "#9c179e"
             ],
             [
              0.4444444444444444,
              "#bd3786"
             ],
             [
              0.5555555555555556,
              "#d8576b"
             ],
             [
              0.6666666666666666,
              "#ed7953"
             ],
             [
              0.7777777777777778,
              "#fb9f3a"
             ],
             [
              0.8888888888888888,
              "#fdca26"
             ],
             [
              1,
              "#f0f921"
             ]
            ],
            "type": "heatmapgl"
           }
          ],
          "histogram": [
           {
            "marker": {
             "pattern": {
              "fillmode": "overlay",
              "size": 10,
              "solidity": 0.2
             }
            },
            "type": "histogram"
           }
          ],
          "histogram2d": [
           {
            "colorbar": {
             "outlinewidth": 0,
             "ticks": ""
            },
            "colorscale": [
             [
              0,
              "#0d0887"
             ],
             [
              0.1111111111111111,
              "#46039f"
             ],
             [
              0.2222222222222222,
              "#7201a8"
             ],
             [
              0.3333333333333333,
              "#9c179e"
             ],
             [
              0.4444444444444444,
              "#bd3786"
             ],
             [
              0.5555555555555556,
              "#d8576b"
             ],
             [
              0.6666666666666666,
              "#ed7953"
             ],
             [
              0.7777777777777778,
              "#fb9f3a"
             ],
             [
              0.8888888888888888,
              "#fdca26"
             ],
             [
              1,
              "#f0f921"
             ]
            ],
            "type": "histogram2d"
           }
          ],
          "histogram2dcontour": [
           {
            "colorbar": {
             "outlinewidth": 0,
             "ticks": ""
            },
            "colorscale": [
             [
              0,
              "#0d0887"
             ],
             [
              0.1111111111111111,
              "#46039f"
             ],
             [
              0.2222222222222222,
              "#7201a8"
             ],
             [
              0.3333333333333333,
              "#9c179e"
             ],
             [
              0.4444444444444444,
              "#bd3786"
             ],
             [
              0.5555555555555556,
              "#d8576b"
             ],
             [
              0.6666666666666666,
              "#ed7953"
             ],
             [
              0.7777777777777778,
              "#fb9f3a"
             ],
             [
              0.8888888888888888,
              "#fdca26"
             ],
             [
              1,
              "#f0f921"
             ]
            ],
            "type": "histogram2dcontour"
           }
          ],
          "mesh3d": [
           {
            "colorbar": {
             "outlinewidth": 0,
             "ticks": ""
            },
            "type": "mesh3d"
           }
          ],
          "parcoords": [
           {
            "line": {
             "colorbar": {
              "outlinewidth": 0,
              "ticks": ""
             }
            },
            "type": "parcoords"
           }
          ],
          "pie": [
           {
            "automargin": true,
            "type": "pie"
           }
          ],
          "scatter": [
           {
            "fillpattern": {
             "fillmode": "overlay",
             "size": 10,
             "solidity": 0.2
            },
            "type": "scatter"
           }
          ],
          "scatter3d": [
           {
            "line": {
             "colorbar": {
              "outlinewidth": 0,
              "ticks": ""
             }
            },
            "marker": {
             "colorbar": {
              "outlinewidth": 0,
              "ticks": ""
             }
            },
            "type": "scatter3d"
           }
          ],
          "scattercarpet": [
           {
            "marker": {
             "colorbar": {
              "outlinewidth": 0,
              "ticks": ""
             }
            },
            "type": "scattercarpet"
           }
          ],
          "scattergeo": [
           {
            "marker": {
             "colorbar": {
              "outlinewidth": 0,
              "ticks": ""
             }
            },
            "type": "scattergeo"
           }
          ],
          "scattergl": [
           {
            "marker": {
             "colorbar": {
              "outlinewidth": 0,
              "ticks": ""
             }
            },
            "type": "scattergl"
           }
          ],
          "scattermapbox": [
           {
            "marker": {
             "colorbar": {
              "outlinewidth": 0,
              "ticks": ""
             }
            },
            "type": "scattermapbox"
           }
          ],
          "scatterpolar": [
           {
            "marker": {
             "colorbar": {
              "outlinewidth": 0,
              "ticks": ""
             }
            },
            "type": "scatterpolar"
           }
          ],
          "scatterpolargl": [
           {
            "marker": {
             "colorbar": {
              "outlinewidth": 0,
              "ticks": ""
             }
            },
            "type": "scatterpolargl"
           }
          ],
          "scatterternary": [
           {
            "marker": {
             "colorbar": {
              "outlinewidth": 0,
              "ticks": ""
             }
            },
            "type": "scatterternary"
           }
          ],
          "surface": [
           {
            "colorbar": {
             "outlinewidth": 0,
             "ticks": ""
            },
            "colorscale": [
             [
              0,
              "#0d0887"
             ],
             [
              0.1111111111111111,
              "#46039f"
             ],
             [
              0.2222222222222222,
              "#7201a8"
             ],
             [
              0.3333333333333333,
              "#9c179e"
             ],
             [
              0.4444444444444444,
              "#bd3786"
             ],
             [
              0.5555555555555556,
              "#d8576b"
             ],
             [
              0.6666666666666666,
              "#ed7953"
             ],
             [
              0.7777777777777778,
              "#fb9f3a"
             ],
             [
              0.8888888888888888,
              "#fdca26"
             ],
             [
              1,
              "#f0f921"
             ]
            ],
            "type": "surface"
           }
          ],
          "table": [
           {
            "cells": {
             "fill": {
              "color": "#EBF0F8"
             },
             "line": {
              "color": "white"
             }
            },
            "header": {
             "fill": {
              "color": "#C8D4E3"
             },
             "line": {
              "color": "white"
             }
            },
            "type": "table"
           }
          ]
         },
         "layout": {
          "annotationdefaults": {
           "arrowcolor": "#2a3f5f",
           "arrowhead": 0,
           "arrowwidth": 1
          },
          "autotypenumbers": "strict",
          "coloraxis": {
           "colorbar": {
            "outlinewidth": 0,
            "ticks": ""
           }
          },
          "colorscale": {
           "diverging": [
            [
             0,
             "#8e0152"
            ],
            [
             0.1,
             "#c51b7d"
            ],
            [
             0.2,
             "#de77ae"
            ],
            [
             0.3,
             "#f1b6da"
            ],
            [
             0.4,
             "#fde0ef"
            ],
            [
             0.5,
             "#f7f7f7"
            ],
            [
             0.6,
             "#e6f5d0"
            ],
            [
             0.7,
             "#b8e186"
            ],
            [
             0.8,
             "#7fbc41"
            ],
            [
             0.9,
             "#4d9221"
            ],
            [
             1,
             "#276419"
            ]
           ],
           "sequential": [
            [
             0,
             "#0d0887"
            ],
            [
             0.1111111111111111,
             "#46039f"
            ],
            [
             0.2222222222222222,
             "#7201a8"
            ],
            [
             0.3333333333333333,
             "#9c179e"
            ],
            [
             0.4444444444444444,
             "#bd3786"
            ],
            [
             0.5555555555555556,
             "#d8576b"
            ],
            [
             0.6666666666666666,
             "#ed7953"
            ],
            [
             0.7777777777777778,
             "#fb9f3a"
            ],
            [
             0.8888888888888888,
             "#fdca26"
            ],
            [
             1,
             "#f0f921"
            ]
           ],
           "sequentialminus": [
            [
             0,
             "#0d0887"
            ],
            [
             0.1111111111111111,
             "#46039f"
            ],
            [
             0.2222222222222222,
             "#7201a8"
            ],
            [
             0.3333333333333333,
             "#9c179e"
            ],
            [
             0.4444444444444444,
             "#bd3786"
            ],
            [
             0.5555555555555556,
             "#d8576b"
            ],
            [
             0.6666666666666666,
             "#ed7953"
            ],
            [
             0.7777777777777778,
             "#fb9f3a"
            ],
            [
             0.8888888888888888,
             "#fdca26"
            ],
            [
             1,
             "#f0f921"
            ]
           ]
          },
          "colorway": [
           "#636efa",
           "#EF553B",
           "#00cc96",
           "#ab63fa",
           "#FFA15A",
           "#19d3f3",
           "#FF6692",
           "#B6E880",
           "#FF97FF",
           "#FECB52"
          ],
          "font": {
           "color": "#2a3f5f"
          },
          "geo": {
           "bgcolor": "white",
           "lakecolor": "white",
           "landcolor": "#E5ECF6",
           "showlakes": true,
           "showland": true,
           "subunitcolor": "white"
          },
          "hoverlabel": {
           "align": "left"
          },
          "hovermode": "closest",
          "mapbox": {
           "style": "light"
          },
          "paper_bgcolor": "white",
          "plot_bgcolor": "#E5ECF6",
          "polar": {
           "angularaxis": {
            "gridcolor": "white",
            "linecolor": "white",
            "ticks": ""
           },
           "bgcolor": "#E5ECF6",
           "radialaxis": {
            "gridcolor": "white",
            "linecolor": "white",
            "ticks": ""
           }
          },
          "scene": {
           "xaxis": {
            "backgroundcolor": "#E5ECF6",
            "gridcolor": "white",
            "gridwidth": 2,
            "linecolor": "white",
            "showbackground": true,
            "ticks": "",
            "zerolinecolor": "white"
           },
           "yaxis": {
            "backgroundcolor": "#E5ECF6",
            "gridcolor": "white",
            "gridwidth": 2,
            "linecolor": "white",
            "showbackground": true,
            "ticks": "",
            "zerolinecolor": "white"
           },
           "zaxis": {
            "backgroundcolor": "#E5ECF6",
            "gridcolor": "white",
            "gridwidth": 2,
            "linecolor": "white",
            "showbackground": true,
            "ticks": "",
            "zerolinecolor": "white"
           }
          },
          "shapedefaults": {
           "line": {
            "color": "#2a3f5f"
           }
          },
          "ternary": {
           "aaxis": {
            "gridcolor": "white",
            "linecolor": "white",
            "ticks": ""
           },
           "baxis": {
            "gridcolor": "white",
            "linecolor": "white",
            "ticks": ""
           },
           "bgcolor": "#E5ECF6",
           "caxis": {
            "gridcolor": "white",
            "linecolor": "white",
            "ticks": ""
           }
          },
          "title": {
           "x": 0.05
          },
          "xaxis": {
           "automargin": true,
           "gridcolor": "white",
           "linecolor": "white",
           "ticks": "",
           "title": {
            "standoff": 15
           },
           "zerolinecolor": "white",
           "zerolinewidth": 2
          },
          "yaxis": {
           "automargin": true,
           "gridcolor": "white",
           "linecolor": "white",
           "ticks": "",
           "title": {
            "standoff": 15
           },
           "zerolinecolor": "white",
           "zerolinewidth": 2
          }
         }
        },
        "title": {
         "text": "Diastolic vs eGFR",
         "x": 0,
         "xref": "paper"
        },
        "xaxis": {
         "title": {
          "text": "Diastolic<br><sup><i></i></sup>"
         }
        },
        "yaxis": {
         "gridcolor": "lightgrey",
         "title": {
          "text": "eGFR<br><sup><i>ml/minute/1.73m^2</i></sup>"
         }
        }
       }
      }
     },
     "metadata": {},
     "output_type": "display_data"
    }
   ],
   "source": [
    "%autoreload 2\n",
    "ma.disease_relationships()"
   ]
  }
 ],
 "metadata": {
  "kernelspec": {
   "display_name": ".env",
   "language": "python",
   "name": "python3"
  },
  "language_info": {
   "codemirror_mode": {
    "name": "ipython",
    "version": 3
   },
   "file_extension": ".py",
   "mimetype": "text/x-python",
   "name": "python",
   "nbconvert_exporter": "python",
   "pygments_lexer": "ipython3",
   "version": "3.11.2"
  }
 },
 "nbformat": 4,
 "nbformat_minor": 2
}
